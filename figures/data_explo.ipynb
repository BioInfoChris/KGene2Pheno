{
 "cells": [
  {
   "cell_type": "code",
   "execution_count": 1,
   "metadata": {},
   "outputs": [],
   "source": [
    "import seaborn as sns\n",
    "import matplotlib.pyplot as plt\n",
    "import pandas as pd\n",
    "import numpy as np"
   ]
  },
  {
   "cell_type": "code",
   "execution_count": 2,
   "metadata": {},
   "outputs": [],
   "source": [
    "datatype = {\n",
    "    \"gene\": 0,\n",
    "    \"phenotype\": 0,\n",
    "    \"not-phenotype\": 0,\n",
    "    \"interaction\": 0,\n",
    "    \"disease\": 0,\n",
    "    \"disease_plus_ortho\": 0,\n",
    "    \"expression_value\": 0,\n",
    "    \"expression_pattern\": 0,\n",
    "    \"lifestage-ontology\": 0,\n",
    "    \"disease-ontology\": 0,\n",
    "    \"phenotype-ontology\": 0,\n",
    "    \"go-annotation\": 0,\n",
    "    \"go-ontology\": 70372\n",
    "}\n"
   ]
  }
 ],
 "metadata": {
  "kernelspec": {
   "display_name": "aled",
   "language": "python",
   "name": "python3"
  },
  "language_info": {
   "codemirror_mode": {
    "name": "ipython",
    "version": 3
   },
   "file_extension": ".py",
   "mimetype": "text/x-python",
   "name": "python",
   "nbconvert_exporter": "python",
   "pygments_lexer": "ipython3",
   "version": "3.10.9"
  },
  "orig_nbformat": 4,
  "vscode": {
   "interpreter": {
    "hash": "bad715aa2aaeb5e6c151df84b54974e4cb5c7f8696a7ce08edfdc275e59caf55"
   }
  }
 },
 "nbformat": 4,
 "nbformat_minor": 2
}
