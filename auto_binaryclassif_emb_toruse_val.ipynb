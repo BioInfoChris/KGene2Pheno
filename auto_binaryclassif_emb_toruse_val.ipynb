{
 "cells": [
  {
   "cell_type": "code",
   "execution_count": 1,
   "metadata": {
    "tags": []
   },
   "outputs": [
    {
     "name": "stderr",
     "output_type": "stream",
     "text": [
      "\u001b[34m\u001b[1mwandb\u001b[0m: Currently logged in as: \u001b[33mantoine-toffano\u001b[0m (\u001b[33mmlb\u001b[0m). Use \u001b[1m`wandb login --relogin`\u001b[0m to force relogin\n"
     ]
    },
    {
     "data": {
      "text/html": [
       "wandb version 0.15.3 is available!  To upgrade, please run:\n",
       " $ pip install wandb --upgrade"
      ],
      "text/plain": [
       "<IPython.core.display.HTML object>"
      ]
     },
     "metadata": {},
     "output_type": "display_data"
    },
    {
     "data": {
      "text/html": [
       "Tracking run with wandb version 0.14.0"
      ],
      "text/plain": [
       "<IPython.core.display.HTML object>"
      ]
     },
     "metadata": {},
     "output_type": "display_data"
    },
    {
     "data": {
      "text/html": [
       "Run data is saved locally in <code>/home/antoine/gene_pheno_pred/wandb/run-20230530_095638-ro7pdib0</code>"
      ],
      "text/plain": [
       "<IPython.core.display.HTML object>"
      ]
     },
     "metadata": {},
     "output_type": "display_data"
    },
    {
     "data": {
      "text/html": [
       "Syncing run <strong><a href='https://wandb.ai/mlb/cigap-classif/runs/ro7pdib0' target=\"_blank\">still-firebrand-43</a></strong> to <a href='https://wandb.ai/mlb/cigap-classif' target=\"_blank\">Weights & Biases</a> (<a href='https://wandb.me/run' target=\"_blank\">docs</a>)<br/>"
      ],
      "text/plain": [
       "<IPython.core.display.HTML object>"
      ]
     },
     "metadata": {},
     "output_type": "display_data"
    },
    {
     "data": {
      "text/html": [
       " View project at <a href='https://wandb.ai/mlb/cigap-classif' target=\"_blank\">https://wandb.ai/mlb/cigap-classif</a>"
      ],
      "text/plain": [
       "<IPython.core.display.HTML object>"
      ]
     },
     "metadata": {},
     "output_type": "display_data"
    },
    {
     "data": {
      "text/html": [
       " View run at <a href='https://wandb.ai/mlb/cigap-classif/runs/ro7pdib0' target=\"_blank\">https://wandb.ai/mlb/cigap-classif/runs/ro7pdib0</a>"
      ],
      "text/plain": [
       "<IPython.core.display.HTML object>"
      ]
     },
     "metadata": {},
     "output_type": "display_data"
    },
    {
     "data": {
      "text/html": [
       "<button onClick=\"this.nextSibling.style.display='block';this.style.display='none';\">Display W&B run</button><iframe src='https://wandb.ai/mlb/cigap-classif/runs/ro7pdib0?jupyter=true' style='border:none;width:100%;height:420px;display:none;'></iframe>"
      ],
      "text/plain": [
       "<wandb.sdk.wandb_run.Run at 0x7fd1067aca30>"
      ]
     },
     "execution_count": 1,
     "metadata": {},
     "output_type": "execute_result"
    }
   ],
   "source": [
    "from pycaret.classification import *\n",
    "import pandas as pd\n",
    "import os\n",
    "import wandb\n",
    "\n",
    "os.chdir('/home/antoine/gene_pheno_pred')\n",
    "os.environ[\"CUDA_VISIBLE_DEVICES\"]=\"0\"\n",
    "os.environ[\"WANDB_API_KEY\"]=\"4e5748d6c6f3917c78cdc38a516a1bac776faf58\"\n",
    "wandb.login()\n",
    "wandb.init(\n",
    "    project=\"cigap-classif\",\n",
    ")\n"
   ]
  },
  {
   "cell_type": "code",
   "execution_count": 2,
   "metadata": {
    "tags": []
   },
   "outputs": [
    {
     "data": {
      "text/html": [
       "<div>\n",
       "<style scoped>\n",
       "    .dataframe tbody tr th:only-of-type {\n",
       "        vertical-align: middle;\n",
       "    }\n",
       "\n",
       "    .dataframe tbody tr th {\n",
       "        vertical-align: top;\n",
       "    }\n",
       "\n",
       "    .dataframe thead th {\n",
       "        text-align: right;\n",
       "    }\n",
       "</style>\n",
       "<table border=\"1\" class=\"dataframe\">\n",
       "  <thead>\n",
       "    <tr style=\"text-align: right;\">\n",
       "      <th></th>\n",
       "      <th>0</th>\n",
       "      <th>1</th>\n",
       "      <th>2</th>\n",
       "      <th>3</th>\n",
       "      <th>4</th>\n",
       "      <th>5</th>\n",
       "      <th>6</th>\n",
       "      <th>7</th>\n",
       "      <th>8</th>\n",
       "      <th>9</th>\n",
       "      <th>...</th>\n",
       "      <th>94</th>\n",
       "      <th>95</th>\n",
       "      <th>96</th>\n",
       "      <th>97</th>\n",
       "      <th>98</th>\n",
       "      <th>99</th>\n",
       "      <th>head</th>\n",
       "      <th>relation</th>\n",
       "      <th>tail</th>\n",
       "      <th>link</th>\n",
       "    </tr>\n",
       "  </thead>\n",
       "  <tbody>\n",
       "    <tr>\n",
       "      <th>0</th>\n",
       "      <td>-0.022025</td>\n",
       "      <td>0.016013</td>\n",
       "      <td>0.008182</td>\n",
       "      <td>-0.016668</td>\n",
       "      <td>-0.017219</td>\n",
       "      <td>-0.015423</td>\n",
       "      <td>0.014788</td>\n",
       "      <td>-0.013625</td>\n",
       "      <td>0.004813</td>\n",
       "      <td>-0.010436</td>\n",
       "      <td>...</td>\n",
       "      <td>0.012363</td>\n",
       "      <td>0.012363</td>\n",
       "      <td>-0.012363</td>\n",
       "      <td>0.013047</td>\n",
       "      <td>0.012363</td>\n",
       "      <td>-0.009570</td>\n",
       "      <td>https://wormbase.org/wbdata/ortho_dis-5315</td>\n",
       "      <td>no_link_known</td>\n",
       "      <td>https://wormbase.org/species/c_elegans/gene/WB...</td>\n",
       "      <td>0</td>\n",
       "    </tr>\n",
       "    <tr>\n",
       "      <th>1</th>\n",
       "      <td>0.011442</td>\n",
       "      <td>0.023409</td>\n",
       "      <td>0.027197</td>\n",
       "      <td>-0.026088</td>\n",
       "      <td>0.011466</td>\n",
       "      <td>0.011485</td>\n",
       "      <td>-0.011461</td>\n",
       "      <td>-0.027663</td>\n",
       "      <td>-0.021202</td>\n",
       "      <td>-0.024895</td>\n",
       "      <td>...</td>\n",
       "      <td>0.013770</td>\n",
       "      <td>0.008617</td>\n",
       "      <td>-0.013770</td>\n",
       "      <td>0.019268</td>\n",
       "      <td>0.013770</td>\n",
       "      <td>-0.022629</td>\n",
       "      <td>https://wormbase.org/wbdata/pheno-125368</td>\n",
       "      <td>no_link_known</td>\n",
       "      <td>https://wormbase.org/species/c_elegans/gene/WB...</td>\n",
       "      <td>0</td>\n",
       "    </tr>\n",
       "    <tr>\n",
       "      <th>2</th>\n",
       "      <td>-0.002173</td>\n",
       "      <td>-0.002173</td>\n",
       "      <td>-0.002173</td>\n",
       "      <td>0.002173</td>\n",
       "      <td>-0.002173</td>\n",
       "      <td>-0.002173</td>\n",
       "      <td>0.002173</td>\n",
       "      <td>0.002173</td>\n",
       "      <td>0.002173</td>\n",
       "      <td>0.003111</td>\n",
       "      <td>...</td>\n",
       "      <td>-0.000944</td>\n",
       "      <td>0.011679</td>\n",
       "      <td>0.000944</td>\n",
       "      <td>-0.006678</td>\n",
       "      <td>-0.001933</td>\n",
       "      <td>0.000131</td>\n",
       "      <td>https://wormbase.org/wbdata/pheno-256301</td>\n",
       "      <td>no_link_known</td>\n",
       "      <td>https://wormbase.org/wbdata/pheno-405138</td>\n",
       "      <td>0</td>\n",
       "    </tr>\n",
       "    <tr>\n",
       "      <th>3</th>\n",
       "      <td>0.017005</td>\n",
       "      <td>0.017386</td>\n",
       "      <td>0.017313</td>\n",
       "      <td>-0.017392</td>\n",
       "      <td>0.017594</td>\n",
       "      <td>0.017359</td>\n",
       "      <td>-0.017394</td>\n",
       "      <td>-0.017409</td>\n",
       "      <td>-0.017698</td>\n",
       "      <td>-0.016948</td>\n",
       "      <td>...</td>\n",
       "      <td>0.018851</td>\n",
       "      <td>0.016371</td>\n",
       "      <td>-0.018774</td>\n",
       "      <td>-0.017279</td>\n",
       "      <td>0.018851</td>\n",
       "      <td>-0.004702</td>\n",
       "      <td>https://wormbase.org/wbdata/ortho_dis-26094</td>\n",
       "      <td>http://www.semanticweb.org/needed-terms#001</td>\n",
       "      <td>https://wormbase.org/species/c_elegans/gene/WB...</td>\n",
       "      <td>1</td>\n",
       "    </tr>\n",
       "    <tr>\n",
       "      <th>4</th>\n",
       "      <td>-0.009484</td>\n",
       "      <td>0.003228</td>\n",
       "      <td>-0.006519</td>\n",
       "      <td>-0.001198</td>\n",
       "      <td>-0.009484</td>\n",
       "      <td>-0.000704</td>\n",
       "      <td>0.006519</td>\n",
       "      <td>0.000694</td>\n",
       "      <td>0.004623</td>\n",
       "      <td>0.000704</td>\n",
       "      <td>...</td>\n",
       "      <td>-0.009442</td>\n",
       "      <td>-0.016714</td>\n",
       "      <td>0.013269</td>\n",
       "      <td>-0.011895</td>\n",
       "      <td>-0.011088</td>\n",
       "      <td>0.005852</td>\n",
       "      <td>https://wormbase.org/wbdata/pheno-366163</td>\n",
       "      <td>no_link_known</td>\n",
       "      <td>https://wormbase.org/wbdata/pheno-196950</td>\n",
       "      <td>0</td>\n",
       "    </tr>\n",
       "    <tr>\n",
       "      <th>...</th>\n",
       "      <td>...</td>\n",
       "      <td>...</td>\n",
       "      <td>...</td>\n",
       "      <td>...</td>\n",
       "      <td>...</td>\n",
       "      <td>...</td>\n",
       "      <td>...</td>\n",
       "      <td>...</td>\n",
       "      <td>...</td>\n",
       "      <td>...</td>\n",
       "      <td>...</td>\n",
       "      <td>...</td>\n",
       "      <td>...</td>\n",
       "      <td>...</td>\n",
       "      <td>...</td>\n",
       "      <td>...</td>\n",
       "      <td>...</td>\n",
       "      <td>...</td>\n",
       "      <td>...</td>\n",
       "      <td>...</td>\n",
       "      <td>...</td>\n",
       "    </tr>\n",
       "    <tr>\n",
       "      <th>234345</th>\n",
       "      <td>-0.003296</td>\n",
       "      <td>0.003037</td>\n",
       "      <td>-0.001115</td>\n",
       "      <td>0.007448</td>\n",
       "      <td>-0.001115</td>\n",
       "      <td>-0.007448</td>\n",
       "      <td>-0.003037</td>\n",
       "      <td>0.001115</td>\n",
       "      <td>0.007448</td>\n",
       "      <td>0.007448</td>\n",
       "      <td>...</td>\n",
       "      <td>-0.007389</td>\n",
       "      <td>0.013422</td>\n",
       "      <td>0.002157</td>\n",
       "      <td>-0.013422</td>\n",
       "      <td>-0.007389</td>\n",
       "      <td>-0.007389</td>\n",
       "      <td>https://wormbase.org/wbdata/pheno-76741</td>\n",
       "      <td>no_link_known</td>\n",
       "      <td>https://wormbase.org/wbdata/pheno-80813</td>\n",
       "      <td>0</td>\n",
       "    </tr>\n",
       "    <tr>\n",
       "      <th>234346</th>\n",
       "      <td>0.000480</td>\n",
       "      <td>0.000517</td>\n",
       "      <td>0.000911</td>\n",
       "      <td>0.003378</td>\n",
       "      <td>0.004769</td>\n",
       "      <td>-0.008777</td>\n",
       "      <td>-0.000911</td>\n",
       "      <td>-0.000480</td>\n",
       "      <td>0.008814</td>\n",
       "      <td>0.008777</td>\n",
       "      <td>...</td>\n",
       "      <td>0.013418</td>\n",
       "      <td>0.009380</td>\n",
       "      <td>-0.017695</td>\n",
       "      <td>0.021031</td>\n",
       "      <td>0.013418</td>\n",
       "      <td>-0.022710</td>\n",
       "      <td>https://wormbase.org/wbdata/pheno-397090</td>\n",
       "      <td>http://semanticscience.org/resource/SIO_000281</td>\n",
       "      <td>https://wormbase.org/species/all/phenotype/WBP...</td>\n",
       "      <td>1</td>\n",
       "    </tr>\n",
       "    <tr>\n",
       "      <th>234347</th>\n",
       "      <td>0.001610</td>\n",
       "      <td>0.005263</td>\n",
       "      <td>0.000994</td>\n",
       "      <td>0.000131</td>\n",
       "      <td>0.005880</td>\n",
       "      <td>-0.009614</td>\n",
       "      <td>-0.001610</td>\n",
       "      <td>-0.000994</td>\n",
       "      <td>0.014961</td>\n",
       "      <td>0.010230</td>\n",
       "      <td>...</td>\n",
       "      <td>0.019138</td>\n",
       "      <td>0.016125</td>\n",
       "      <td>-0.019138</td>\n",
       "      <td>0.015792</td>\n",
       "      <td>0.016125</td>\n",
       "      <td>-0.004549</td>\n",
       "      <td>https://wormbase.org/wbdata/pheno-37510</td>\n",
       "      <td>http://semanticscience.org/resource/SIO_001279</td>\n",
       "      <td>https://wormbase.org/species/all/phenotype/WBP...</td>\n",
       "      <td>1</td>\n",
       "    </tr>\n",
       "    <tr>\n",
       "      <th>234348</th>\n",
       "      <td>-0.029945</td>\n",
       "      <td>-0.008771</td>\n",
       "      <td>0.006061</td>\n",
       "      <td>-0.006316</td>\n",
       "      <td>-0.018599</td>\n",
       "      <td>0.029698</td>\n",
       "      <td>-0.007143</td>\n",
       "      <td>0.017606</td>\n",
       "      <td>-0.015266</td>\n",
       "      <td>-0.025612</td>\n",
       "      <td>...</td>\n",
       "      <td>-0.002534</td>\n",
       "      <td>0.008700</td>\n",
       "      <td>0.002534</td>\n",
       "      <td>-0.008700</td>\n",
       "      <td>-0.002534</td>\n",
       "      <td>-0.002534</td>\n",
       "      <td>https://wormbase.org/species/c_elegans/gene/WB...</td>\n",
       "      <td>no_link_known</td>\n",
       "      <td>https://wormbase.org/wbdata/pheno-95971</td>\n",
       "      <td>0</td>\n",
       "    </tr>\n",
       "    <tr>\n",
       "      <th>234349</th>\n",
       "      <td>-0.002112</td>\n",
       "      <td>0.002888</td>\n",
       "      <td>0.009181</td>\n",
       "      <td>0.001736</td>\n",
       "      <td>0.002861</td>\n",
       "      <td>-0.001701</td>\n",
       "      <td>-0.003187</td>\n",
       "      <td>-0.004163</td>\n",
       "      <td>0.000338</td>\n",
       "      <td>0.006364</td>\n",
       "      <td>...</td>\n",
       "      <td>-0.007576</td>\n",
       "      <td>0.007197</td>\n",
       "      <td>0.007576</td>\n",
       "      <td>-0.007069</td>\n",
       "      <td>-0.008778</td>\n",
       "      <td>-0.002259</td>\n",
       "      <td>https://wormbase.org/wbdata/pheno-372659</td>\n",
       "      <td>no_link_known</td>\n",
       "      <td>https://wormbase.org/wbdata/pheno-428613</td>\n",
       "      <td>0</td>\n",
       "    </tr>\n",
       "  </tbody>\n",
       "</table>\n",
       "<p>467600 rows × 104 columns</p>\n",
       "</div>"
      ],
      "text/plain": [
       "               0         1         2         3         4         5         6  \\\n",
       "0      -0.022025  0.016013  0.008182 -0.016668 -0.017219 -0.015423  0.014788   \n",
       "1       0.011442  0.023409  0.027197 -0.026088  0.011466  0.011485 -0.011461   \n",
       "2      -0.002173 -0.002173 -0.002173  0.002173 -0.002173 -0.002173  0.002173   \n",
       "3       0.017005  0.017386  0.017313 -0.017392  0.017594  0.017359 -0.017394   \n",
       "4      -0.009484  0.003228 -0.006519 -0.001198 -0.009484 -0.000704  0.006519   \n",
       "...          ...       ...       ...       ...       ...       ...       ...   \n",
       "234345 -0.003296  0.003037 -0.001115  0.007448 -0.001115 -0.007448 -0.003037   \n",
       "234346  0.000480  0.000517  0.000911  0.003378  0.004769 -0.008777 -0.000911   \n",
       "234347  0.001610  0.005263  0.000994  0.000131  0.005880 -0.009614 -0.001610   \n",
       "234348 -0.029945 -0.008771  0.006061 -0.006316 -0.018599  0.029698 -0.007143   \n",
       "234349 -0.002112  0.002888  0.009181  0.001736  0.002861 -0.001701 -0.003187   \n",
       "\n",
       "               7         8         9  ...        94        95        96  \\\n",
       "0      -0.013625  0.004813 -0.010436  ...  0.012363  0.012363 -0.012363   \n",
       "1      -0.027663 -0.021202 -0.024895  ...  0.013770  0.008617 -0.013770   \n",
       "2       0.002173  0.002173  0.003111  ... -0.000944  0.011679  0.000944   \n",
       "3      -0.017409 -0.017698 -0.016948  ...  0.018851  0.016371 -0.018774   \n",
       "4       0.000694  0.004623  0.000704  ... -0.009442 -0.016714  0.013269   \n",
       "...          ...       ...       ...  ...       ...       ...       ...   \n",
       "234345  0.001115  0.007448  0.007448  ... -0.007389  0.013422  0.002157   \n",
       "234346 -0.000480  0.008814  0.008777  ...  0.013418  0.009380 -0.017695   \n",
       "234347 -0.000994  0.014961  0.010230  ...  0.019138  0.016125 -0.019138   \n",
       "234348  0.017606 -0.015266 -0.025612  ... -0.002534  0.008700  0.002534   \n",
       "234349 -0.004163  0.000338  0.006364  ... -0.007576  0.007197  0.007576   \n",
       "\n",
       "              97        98        99  \\\n",
       "0       0.013047  0.012363 -0.009570   \n",
       "1       0.019268  0.013770 -0.022629   \n",
       "2      -0.006678 -0.001933  0.000131   \n",
       "3      -0.017279  0.018851 -0.004702   \n",
       "4      -0.011895 -0.011088  0.005852   \n",
       "...          ...       ...       ...   \n",
       "234345 -0.013422 -0.007389 -0.007389   \n",
       "234346  0.021031  0.013418 -0.022710   \n",
       "234347  0.015792  0.016125 -0.004549   \n",
       "234348 -0.008700 -0.002534 -0.002534   \n",
       "234349 -0.007069 -0.008778 -0.002259   \n",
       "\n",
       "                                                     head  \\\n",
       "0              https://wormbase.org/wbdata/ortho_dis-5315   \n",
       "1                https://wormbase.org/wbdata/pheno-125368   \n",
       "2                https://wormbase.org/wbdata/pheno-256301   \n",
       "3             https://wormbase.org/wbdata/ortho_dis-26094   \n",
       "4                https://wormbase.org/wbdata/pheno-366163   \n",
       "...                                                   ...   \n",
       "234345            https://wormbase.org/wbdata/pheno-76741   \n",
       "234346           https://wormbase.org/wbdata/pheno-397090   \n",
       "234347            https://wormbase.org/wbdata/pheno-37510   \n",
       "234348  https://wormbase.org/species/c_elegans/gene/WB...   \n",
       "234349           https://wormbase.org/wbdata/pheno-372659   \n",
       "\n",
       "                                              relation  \\\n",
       "0                                        no_link_known   \n",
       "1                                        no_link_known   \n",
       "2                                        no_link_known   \n",
       "3          http://www.semanticweb.org/needed-terms#001   \n",
       "4                                        no_link_known   \n",
       "...                                                ...   \n",
       "234345                                   no_link_known   \n",
       "234346  http://semanticscience.org/resource/SIO_000281   \n",
       "234347  http://semanticscience.org/resource/SIO_001279   \n",
       "234348                                   no_link_known   \n",
       "234349                                   no_link_known   \n",
       "\n",
       "                                                     tail  link  \n",
       "0       https://wormbase.org/species/c_elegans/gene/WB...     0  \n",
       "1       https://wormbase.org/species/c_elegans/gene/WB...     0  \n",
       "2                https://wormbase.org/wbdata/pheno-405138     0  \n",
       "3       https://wormbase.org/species/c_elegans/gene/WB...     1  \n",
       "4                https://wormbase.org/wbdata/pheno-196950     0  \n",
       "...                                                   ...   ...  \n",
       "234345            https://wormbase.org/wbdata/pheno-80813     0  \n",
       "234346  https://wormbase.org/species/all/phenotype/WBP...     1  \n",
       "234347  https://wormbase.org/species/all/phenotype/WBP...     1  \n",
       "234348            https://wormbase.org/wbdata/pheno-95971     0  \n",
       "234349           https://wormbase.org/wbdata/pheno-428613     0  \n",
       "\n",
       "[467600 rows x 104 columns]"
      ]
     },
     "execution_count": 2,
     "metadata": {},
     "output_type": "execute_result"
    }
   ],
   "source": [
    "# Load training set\n",
    "df1 = pd.read_csv('/home/antoine/gene_pheno_pred/TorusE_2023-03-31_10-18-16_kg_val.csv' , header=0)\n",
    "df2 = pd.read_csv('/home/antoine/gene_pheno_pred/TorusE_2023-03-31_10-18-16_kg_test.csv' , header=0)\n",
    "df = pd.concat([df1, df2], axis=0)\n",
    "\n",
    "df['link'] = df['relation'].apply(lambda x: 1 if x != 'no_link_known' else 0)\n",
    "df"
   ]
  },
  {
   "cell_type": "code",
   "execution_count": 3,
   "metadata": {
    "tags": []
   },
   "outputs": [],
   "source": [
    "df2 = df"
   ]
  },
  {
   "cell_type": "code",
   "execution_count": 4,
   "metadata": {},
   "outputs": [
    {
     "data": {
      "text/html": [
       "<div>\n",
       "<style scoped>\n",
       "    .dataframe tbody tr th:only-of-type {\n",
       "        vertical-align: middle;\n",
       "    }\n",
       "\n",
       "    .dataframe tbody tr th {\n",
       "        vertical-align: top;\n",
       "    }\n",
       "\n",
       "    .dataframe thead th {\n",
       "        text-align: right;\n",
       "    }\n",
       "</style>\n",
       "<table border=\"1\" class=\"dataframe\">\n",
       "  <thead>\n",
       "    <tr style=\"text-align: right;\">\n",
       "      <th></th>\n",
       "      <th>0</th>\n",
       "      <th>1</th>\n",
       "      <th>2</th>\n",
       "      <th>3</th>\n",
       "      <th>4</th>\n",
       "      <th>5</th>\n",
       "      <th>6</th>\n",
       "      <th>7</th>\n",
       "      <th>8</th>\n",
       "      <th>9</th>\n",
       "      <th>...</th>\n",
       "      <th>91</th>\n",
       "      <th>92</th>\n",
       "      <th>93</th>\n",
       "      <th>94</th>\n",
       "      <th>95</th>\n",
       "      <th>96</th>\n",
       "      <th>97</th>\n",
       "      <th>98</th>\n",
       "      <th>99</th>\n",
       "      <th>link</th>\n",
       "    </tr>\n",
       "  </thead>\n",
       "  <tbody>\n",
       "    <tr>\n",
       "      <th>0</th>\n",
       "      <td>-0.022025</td>\n",
       "      <td>0.016013</td>\n",
       "      <td>0.008182</td>\n",
       "      <td>-0.016668</td>\n",
       "      <td>-0.017219</td>\n",
       "      <td>-0.015423</td>\n",
       "      <td>0.014788</td>\n",
       "      <td>-0.013625</td>\n",
       "      <td>0.004813</td>\n",
       "      <td>-0.010436</td>\n",
       "      <td>...</td>\n",
       "      <td>-0.009033</td>\n",
       "      <td>0.012363</td>\n",
       "      <td>-0.013047</td>\n",
       "      <td>0.012363</td>\n",
       "      <td>0.012363</td>\n",
       "      <td>-0.012363</td>\n",
       "      <td>0.013047</td>\n",
       "      <td>0.012363</td>\n",
       "      <td>-0.009570</td>\n",
       "      <td>0</td>\n",
       "    </tr>\n",
       "    <tr>\n",
       "      <th>1</th>\n",
       "      <td>0.011442</td>\n",
       "      <td>0.023409</td>\n",
       "      <td>0.027197</td>\n",
       "      <td>-0.026088</td>\n",
       "      <td>0.011466</td>\n",
       "      <td>0.011485</td>\n",
       "      <td>-0.011461</td>\n",
       "      <td>-0.027663</td>\n",
       "      <td>-0.021202</td>\n",
       "      <td>-0.024895</td>\n",
       "      <td>...</td>\n",
       "      <td>0.006576</td>\n",
       "      <td>0.009683</td>\n",
       "      <td>-0.019268</td>\n",
       "      <td>0.013770</td>\n",
       "      <td>0.008617</td>\n",
       "      <td>-0.013770</td>\n",
       "      <td>0.019268</td>\n",
       "      <td>0.013770</td>\n",
       "      <td>-0.022629</td>\n",
       "      <td>0</td>\n",
       "    </tr>\n",
       "    <tr>\n",
       "      <th>2</th>\n",
       "      <td>-0.002173</td>\n",
       "      <td>-0.002173</td>\n",
       "      <td>-0.002173</td>\n",
       "      <td>0.002173</td>\n",
       "      <td>-0.002173</td>\n",
       "      <td>-0.002173</td>\n",
       "      <td>0.002173</td>\n",
       "      <td>0.002173</td>\n",
       "      <td>0.002173</td>\n",
       "      <td>0.003111</td>\n",
       "      <td>...</td>\n",
       "      <td>-0.011501</td>\n",
       "      <td>-0.000944</td>\n",
       "      <td>0.000131</td>\n",
       "      <td>-0.000944</td>\n",
       "      <td>0.011679</td>\n",
       "      <td>0.000944</td>\n",
       "      <td>-0.006678</td>\n",
       "      <td>-0.001933</td>\n",
       "      <td>0.000131</td>\n",
       "      <td>0</td>\n",
       "    </tr>\n",
       "    <tr>\n",
       "      <th>3</th>\n",
       "      <td>0.017005</td>\n",
       "      <td>0.017386</td>\n",
       "      <td>0.017313</td>\n",
       "      <td>-0.017392</td>\n",
       "      <td>0.017594</td>\n",
       "      <td>0.017359</td>\n",
       "      <td>-0.017394</td>\n",
       "      <td>-0.017409</td>\n",
       "      <td>-0.017698</td>\n",
       "      <td>-0.016948</td>\n",
       "      <td>...</td>\n",
       "      <td>-0.016629</td>\n",
       "      <td>-0.018851</td>\n",
       "      <td>0.014528</td>\n",
       "      <td>0.018851</td>\n",
       "      <td>0.016371</td>\n",
       "      <td>-0.018774</td>\n",
       "      <td>-0.017279</td>\n",
       "      <td>0.018851</td>\n",
       "      <td>-0.004702</td>\n",
       "      <td>1</td>\n",
       "    </tr>\n",
       "    <tr>\n",
       "      <th>4</th>\n",
       "      <td>-0.009484</td>\n",
       "      <td>0.003228</td>\n",
       "      <td>-0.006519</td>\n",
       "      <td>-0.001198</td>\n",
       "      <td>-0.009484</td>\n",
       "      <td>-0.000704</td>\n",
       "      <td>0.006519</td>\n",
       "      <td>0.000694</td>\n",
       "      <td>0.004623</td>\n",
       "      <td>0.000704</td>\n",
       "      <td>...</td>\n",
       "      <td>0.009857</td>\n",
       "      <td>-0.007542</td>\n",
       "      <td>0.019304</td>\n",
       "      <td>-0.009442</td>\n",
       "      <td>-0.016714</td>\n",
       "      <td>0.013269</td>\n",
       "      <td>-0.011895</td>\n",
       "      <td>-0.011088</td>\n",
       "      <td>0.005852</td>\n",
       "      <td>0</td>\n",
       "    </tr>\n",
       "    <tr>\n",
       "      <th>...</th>\n",
       "      <td>...</td>\n",
       "      <td>...</td>\n",
       "      <td>...</td>\n",
       "      <td>...</td>\n",
       "      <td>...</td>\n",
       "      <td>...</td>\n",
       "      <td>...</td>\n",
       "      <td>...</td>\n",
       "      <td>...</td>\n",
       "      <td>...</td>\n",
       "      <td>...</td>\n",
       "      <td>...</td>\n",
       "      <td>...</td>\n",
       "      <td>...</td>\n",
       "      <td>...</td>\n",
       "      <td>...</td>\n",
       "      <td>...</td>\n",
       "      <td>...</td>\n",
       "      <td>...</td>\n",
       "      <td>...</td>\n",
       "      <td>...</td>\n",
       "    </tr>\n",
       "    <tr>\n",
       "      <th>234345</th>\n",
       "      <td>-0.003296</td>\n",
       "      <td>0.003037</td>\n",
       "      <td>-0.001115</td>\n",
       "      <td>0.007448</td>\n",
       "      <td>-0.001115</td>\n",
       "      <td>-0.007448</td>\n",
       "      <td>-0.003037</td>\n",
       "      <td>0.001115</td>\n",
       "      <td>0.007448</td>\n",
       "      <td>0.007448</td>\n",
       "      <td>...</td>\n",
       "      <td>-0.013422</td>\n",
       "      <td>-0.007389</td>\n",
       "      <td>-0.007389</td>\n",
       "      <td>-0.007389</td>\n",
       "      <td>0.013422</td>\n",
       "      <td>0.002157</td>\n",
       "      <td>-0.013422</td>\n",
       "      <td>-0.007389</td>\n",
       "      <td>-0.007389</td>\n",
       "      <td>0</td>\n",
       "    </tr>\n",
       "    <tr>\n",
       "      <th>234346</th>\n",
       "      <td>0.000480</td>\n",
       "      <td>0.000517</td>\n",
       "      <td>0.000911</td>\n",
       "      <td>0.003378</td>\n",
       "      <td>0.004769</td>\n",
       "      <td>-0.008777</td>\n",
       "      <td>-0.000911</td>\n",
       "      <td>-0.000480</td>\n",
       "      <td>0.008814</td>\n",
       "      <td>0.008777</td>\n",
       "      <td>...</td>\n",
       "      <td>0.007482</td>\n",
       "      <td>0.022879</td>\n",
       "      <td>-0.015594</td>\n",
       "      <td>0.013418</td>\n",
       "      <td>0.009380</td>\n",
       "      <td>-0.017695</td>\n",
       "      <td>0.021031</td>\n",
       "      <td>0.013418</td>\n",
       "      <td>-0.022710</td>\n",
       "      <td>1</td>\n",
       "    </tr>\n",
       "    <tr>\n",
       "      <th>234347</th>\n",
       "      <td>0.001610</td>\n",
       "      <td>0.005263</td>\n",
       "      <td>0.000994</td>\n",
       "      <td>0.000131</td>\n",
       "      <td>0.005880</td>\n",
       "      <td>-0.009614</td>\n",
       "      <td>-0.001610</td>\n",
       "      <td>-0.000994</td>\n",
       "      <td>0.014961</td>\n",
       "      <td>0.010230</td>\n",
       "      <td>...</td>\n",
       "      <td>-0.004721</td>\n",
       "      <td>0.019138</td>\n",
       "      <td>-0.012778</td>\n",
       "      <td>0.019138</td>\n",
       "      <td>0.016125</td>\n",
       "      <td>-0.019138</td>\n",
       "      <td>0.015792</td>\n",
       "      <td>0.016125</td>\n",
       "      <td>-0.004549</td>\n",
       "      <td>1</td>\n",
       "    </tr>\n",
       "    <tr>\n",
       "      <th>234348</th>\n",
       "      <td>-0.029945</td>\n",
       "      <td>-0.008771</td>\n",
       "      <td>0.006061</td>\n",
       "      <td>-0.006316</td>\n",
       "      <td>-0.018599</td>\n",
       "      <td>0.029698</td>\n",
       "      <td>-0.007143</td>\n",
       "      <td>0.017606</td>\n",
       "      <td>-0.015266</td>\n",
       "      <td>-0.025612</td>\n",
       "      <td>...</td>\n",
       "      <td>-0.008700</td>\n",
       "      <td>-0.002534</td>\n",
       "      <td>-0.002534</td>\n",
       "      <td>-0.002534</td>\n",
       "      <td>0.008700</td>\n",
       "      <td>0.002534</td>\n",
       "      <td>-0.008700</td>\n",
       "      <td>-0.002534</td>\n",
       "      <td>-0.002534</td>\n",
       "      <td>0</td>\n",
       "    </tr>\n",
       "    <tr>\n",
       "      <th>234349</th>\n",
       "      <td>-0.002112</td>\n",
       "      <td>0.002888</td>\n",
       "      <td>0.009181</td>\n",
       "      <td>0.001736</td>\n",
       "      <td>0.002861</td>\n",
       "      <td>-0.001701</td>\n",
       "      <td>-0.003187</td>\n",
       "      <td>-0.004163</td>\n",
       "      <td>0.000338</td>\n",
       "      <td>0.006364</td>\n",
       "      <td>...</td>\n",
       "      <td>-0.007399</td>\n",
       "      <td>-0.006587</td>\n",
       "      <td>-0.006410</td>\n",
       "      <td>-0.007576</td>\n",
       "      <td>0.007197</td>\n",
       "      <td>0.007576</td>\n",
       "      <td>-0.007069</td>\n",
       "      <td>-0.008778</td>\n",
       "      <td>-0.002259</td>\n",
       "      <td>0</td>\n",
       "    </tr>\n",
       "  </tbody>\n",
       "</table>\n",
       "<p>467600 rows × 101 columns</p>\n",
       "</div>"
      ],
      "text/plain": [
       "               0         1         2         3         4         5         6  \\\n",
       "0      -0.022025  0.016013  0.008182 -0.016668 -0.017219 -0.015423  0.014788   \n",
       "1       0.011442  0.023409  0.027197 -0.026088  0.011466  0.011485 -0.011461   \n",
       "2      -0.002173 -0.002173 -0.002173  0.002173 -0.002173 -0.002173  0.002173   \n",
       "3       0.017005  0.017386  0.017313 -0.017392  0.017594  0.017359 -0.017394   \n",
       "4      -0.009484  0.003228 -0.006519 -0.001198 -0.009484 -0.000704  0.006519   \n",
       "...          ...       ...       ...       ...       ...       ...       ...   \n",
       "234345 -0.003296  0.003037 -0.001115  0.007448 -0.001115 -0.007448 -0.003037   \n",
       "234346  0.000480  0.000517  0.000911  0.003378  0.004769 -0.008777 -0.000911   \n",
       "234347  0.001610  0.005263  0.000994  0.000131  0.005880 -0.009614 -0.001610   \n",
       "234348 -0.029945 -0.008771  0.006061 -0.006316 -0.018599  0.029698 -0.007143   \n",
       "234349 -0.002112  0.002888  0.009181  0.001736  0.002861 -0.001701 -0.003187   \n",
       "\n",
       "               7         8         9  ...        91        92        93  \\\n",
       "0      -0.013625  0.004813 -0.010436  ... -0.009033  0.012363 -0.013047   \n",
       "1      -0.027663 -0.021202 -0.024895  ...  0.006576  0.009683 -0.019268   \n",
       "2       0.002173  0.002173  0.003111  ... -0.011501 -0.000944  0.000131   \n",
       "3      -0.017409 -0.017698 -0.016948  ... -0.016629 -0.018851  0.014528   \n",
       "4       0.000694  0.004623  0.000704  ...  0.009857 -0.007542  0.019304   \n",
       "...          ...       ...       ...  ...       ...       ...       ...   \n",
       "234345  0.001115  0.007448  0.007448  ... -0.013422 -0.007389 -0.007389   \n",
       "234346 -0.000480  0.008814  0.008777  ...  0.007482  0.022879 -0.015594   \n",
       "234347 -0.000994  0.014961  0.010230  ... -0.004721  0.019138 -0.012778   \n",
       "234348  0.017606 -0.015266 -0.025612  ... -0.008700 -0.002534 -0.002534   \n",
       "234349 -0.004163  0.000338  0.006364  ... -0.007399 -0.006587 -0.006410   \n",
       "\n",
       "              94        95        96        97        98        99  link  \n",
       "0       0.012363  0.012363 -0.012363  0.013047  0.012363 -0.009570     0  \n",
       "1       0.013770  0.008617 -0.013770  0.019268  0.013770 -0.022629     0  \n",
       "2      -0.000944  0.011679  0.000944 -0.006678 -0.001933  0.000131     0  \n",
       "3       0.018851  0.016371 -0.018774 -0.017279  0.018851 -0.004702     1  \n",
       "4      -0.009442 -0.016714  0.013269 -0.011895 -0.011088  0.005852     0  \n",
       "...          ...       ...       ...       ...       ...       ...   ...  \n",
       "234345 -0.007389  0.013422  0.002157 -0.013422 -0.007389 -0.007389     0  \n",
       "234346  0.013418  0.009380 -0.017695  0.021031  0.013418 -0.022710     1  \n",
       "234347  0.019138  0.016125 -0.019138  0.015792  0.016125 -0.004549     1  \n",
       "234348 -0.002534  0.008700  0.002534 -0.008700 -0.002534 -0.002534     0  \n",
       "234349 -0.007576  0.007197  0.007576 -0.007069 -0.008778 -0.002259     0  \n",
       "\n",
       "[467600 rows x 101 columns]"
      ]
     },
     "execution_count": 4,
     "metadata": {},
     "output_type": "execute_result"
    }
   ],
   "source": [
    "df_num = df.drop(['head', 'relation', 'tail'], axis=1)\n",
    "df_num"
   ]
  },
  {
   "cell_type": "code",
   "execution_count": null,
   "metadata": {
    "tags": []
   },
   "outputs": [],
   "source": [
    "df"
   ]
  },
  {
   "cell_type": "code",
   "execution_count": 5,
   "metadata": {
    "tags": []
   },
   "outputs": [
    {
     "name": "stderr",
     "output_type": "stream",
     "text": [
      "[LightGBM] [Fatal] GPU Tree Learner was not enabled in this build.\n",
      "Please recompile with CMake option -DUSE_GPU=1\n",
      "[LightGBM] [Fatal] CUDA Tree Learner was not enabled in this build.\n",
      "Please recompile with CMake option -DUSE_CUDA=1\n",
      "[LightGBM] [Fatal] GPU Tree Learner was not enabled in this build.\n",
      "Please recompile with CMake option -DUSE_GPU=1\n",
      "[LightGBM] [Fatal] CUDA Tree Learner was not enabled in this build.\n",
      "Please recompile with CMake option -DUSE_CUDA=1\n",
      "[LightGBM] [Fatal] GPU Tree Learner was not enabled in this build.\n",
      "Please recompile with CMake option -DUSE_GPU=1\n",
      "[LightGBM] [Fatal] CUDA Tree Learner was not enabled in this build.\n",
      "Please recompile with CMake option -DUSE_CUDA=1\n",
      "[LightGBM] [Fatal] GPU Tree Learner was not enabled in this build.\n",
      "Please recompile with CMake option -DUSE_GPU=1\n",
      "[LightGBM] [Fatal] CUDA Tree Learner was not enabled in this build.\n",
      "Please recompile with CMake option -DUSE_CUDA=1\n",
      "[LightGBM] [Fatal] GPU Tree Learner was not enabled in this build.\n",
      "Please recompile with CMake option -DUSE_GPU=1\n",
      "[LightGBM] [Fatal] CUDA Tree Learner was not enabled in this build.\n",
      "Please recompile with CMake option -DUSE_CUDA=1\n",
      "[LightGBM] [Fatal] GPU Tree Learner was not enabled in this build.\n",
      "Please recompile with CMake option -DUSE_GPU=1\n",
      "[LightGBM] [Fatal] CUDA Tree Learner was not enabled in this build.\n",
      "Please recompile with CMake option -DUSE_CUDA=1\n"
     ]
    },
    {
     "data": {
      "text/html": [
       "<style type=\"text/css\">\n",
       "#T_c26f7_row8_col1, #T_c26f7_row15_col1 {\n",
       "  background-color: lightgreen;\n",
       "}\n",
       "</style>\n",
       "<table id=\"T_c26f7\">\n",
       "  <thead>\n",
       "    <tr>\n",
       "      <th class=\"blank level0\" >&nbsp;</th>\n",
       "      <th id=\"T_c26f7_level0_col0\" class=\"col_heading level0 col0\" >Description</th>\n",
       "      <th id=\"T_c26f7_level0_col1\" class=\"col_heading level0 col1\" >Value</th>\n",
       "    </tr>\n",
       "  </thead>\n",
       "  <tbody>\n",
       "    <tr>\n",
       "      <th id=\"T_c26f7_level0_row0\" class=\"row_heading level0 row0\" >0</th>\n",
       "      <td id=\"T_c26f7_row0_col0\" class=\"data row0 col0\" >Session id</td>\n",
       "      <td id=\"T_c26f7_row0_col1\" class=\"data row0 col1\" >1187</td>\n",
       "    </tr>\n",
       "    <tr>\n",
       "      <th id=\"T_c26f7_level0_row1\" class=\"row_heading level0 row1\" >1</th>\n",
       "      <td id=\"T_c26f7_row1_col0\" class=\"data row1 col0\" >Target</td>\n",
       "      <td id=\"T_c26f7_row1_col1\" class=\"data row1 col1\" >link</td>\n",
       "    </tr>\n",
       "    <tr>\n",
       "      <th id=\"T_c26f7_level0_row2\" class=\"row_heading level0 row2\" >2</th>\n",
       "      <td id=\"T_c26f7_row2_col0\" class=\"data row2 col0\" >Target type</td>\n",
       "      <td id=\"T_c26f7_row2_col1\" class=\"data row2 col1\" >Binary</td>\n",
       "    </tr>\n",
       "    <tr>\n",
       "      <th id=\"T_c26f7_level0_row3\" class=\"row_heading level0 row3\" >3</th>\n",
       "      <td id=\"T_c26f7_row3_col0\" class=\"data row3 col0\" >Original data shape</td>\n",
       "      <td id=\"T_c26f7_row3_col1\" class=\"data row3 col1\" >(934100, 101)</td>\n",
       "    </tr>\n",
       "    <tr>\n",
       "      <th id=\"T_c26f7_level0_row4\" class=\"row_heading level0 row4\" >4</th>\n",
       "      <td id=\"T_c26f7_row4_col0\" class=\"data row4 col0\" >Transformed data shape</td>\n",
       "      <td id=\"T_c26f7_row4_col1\" class=\"data row4 col1\" >(3733100, 101)</td>\n",
       "    </tr>\n",
       "    <tr>\n",
       "      <th id=\"T_c26f7_level0_row5\" class=\"row_heading level0 row5\" >5</th>\n",
       "      <td id=\"T_c26f7_row5_col0\" class=\"data row5 col0\" >Transformed train set shape</td>\n",
       "      <td id=\"T_c26f7_row5_col1\" class=\"data row5 col1\" >(2986510, 101)</td>\n",
       "    </tr>\n",
       "    <tr>\n",
       "      <th id=\"T_c26f7_level0_row6\" class=\"row_heading level0 row6\" >6</th>\n",
       "      <td id=\"T_c26f7_row6_col0\" class=\"data row6 col0\" >Transformed test set shape</td>\n",
       "      <td id=\"T_c26f7_row6_col1\" class=\"data row6 col1\" >(746590, 101)</td>\n",
       "    </tr>\n",
       "    <tr>\n",
       "      <th id=\"T_c26f7_level0_row7\" class=\"row_heading level0 row7\" >7</th>\n",
       "      <td id=\"T_c26f7_row7_col0\" class=\"data row7 col0\" >Numeric features</td>\n",
       "      <td id=\"T_c26f7_row7_col1\" class=\"data row7 col1\" >100</td>\n",
       "    </tr>\n",
       "    <tr>\n",
       "      <th id=\"T_c26f7_level0_row8\" class=\"row_heading level0 row8\" >8</th>\n",
       "      <td id=\"T_c26f7_row8_col0\" class=\"data row8 col0\" >Preprocess</td>\n",
       "      <td id=\"T_c26f7_row8_col1\" class=\"data row8 col1\" >True</td>\n",
       "    </tr>\n",
       "    <tr>\n",
       "      <th id=\"T_c26f7_level0_row9\" class=\"row_heading level0 row9\" >9</th>\n",
       "      <td id=\"T_c26f7_row9_col0\" class=\"data row9 col0\" >Imputation type</td>\n",
       "      <td id=\"T_c26f7_row9_col1\" class=\"data row9 col1\" >simple</td>\n",
       "    </tr>\n",
       "    <tr>\n",
       "      <th id=\"T_c26f7_level0_row10\" class=\"row_heading level0 row10\" >10</th>\n",
       "      <td id=\"T_c26f7_row10_col0\" class=\"data row10 col0\" >Numeric imputation</td>\n",
       "      <td id=\"T_c26f7_row10_col1\" class=\"data row10 col1\" >mean</td>\n",
       "    </tr>\n",
       "    <tr>\n",
       "      <th id=\"T_c26f7_level0_row11\" class=\"row_heading level0 row11\" >11</th>\n",
       "      <td id=\"T_c26f7_row11_col0\" class=\"data row11 col0\" >Categorical imputation</td>\n",
       "      <td id=\"T_c26f7_row11_col1\" class=\"data row11 col1\" >mode</td>\n",
       "    </tr>\n",
       "    <tr>\n",
       "      <th id=\"T_c26f7_level0_row12\" class=\"row_heading level0 row12\" >12</th>\n",
       "      <td id=\"T_c26f7_row12_col0\" class=\"data row12 col0\" >Fold Generator</td>\n",
       "      <td id=\"T_c26f7_row12_col1\" class=\"data row12 col1\" >StratifiedKFold</td>\n",
       "    </tr>\n",
       "    <tr>\n",
       "      <th id=\"T_c26f7_level0_row13\" class=\"row_heading level0 row13\" >13</th>\n",
       "      <td id=\"T_c26f7_row13_col0\" class=\"data row13 col0\" >Fold Number</td>\n",
       "      <td id=\"T_c26f7_row13_col1\" class=\"data row13 col1\" >10</td>\n",
       "    </tr>\n",
       "    <tr>\n",
       "      <th id=\"T_c26f7_level0_row14\" class=\"row_heading level0 row14\" >14</th>\n",
       "      <td id=\"T_c26f7_row14_col0\" class=\"data row14 col0\" >CPU Jobs</td>\n",
       "      <td id=\"T_c26f7_row14_col1\" class=\"data row14 col1\" >-1</td>\n",
       "    </tr>\n",
       "    <tr>\n",
       "      <th id=\"T_c26f7_level0_row15\" class=\"row_heading level0 row15\" >15</th>\n",
       "      <td id=\"T_c26f7_row15_col0\" class=\"data row15 col0\" >Use GPU</td>\n",
       "      <td id=\"T_c26f7_row15_col1\" class=\"data row15 col1\" >True</td>\n",
       "    </tr>\n",
       "    <tr>\n",
       "      <th id=\"T_c26f7_level0_row16\" class=\"row_heading level0 row16\" >16</th>\n",
       "      <td id=\"T_c26f7_row16_col0\" class=\"data row16 col0\" >Log Experiment</td>\n",
       "      <td id=\"T_c26f7_row16_col1\" class=\"data row16 col1\" >WandbLogger</td>\n",
       "    </tr>\n",
       "    <tr>\n",
       "      <th id=\"T_c26f7_level0_row17\" class=\"row_heading level0 row17\" >17</th>\n",
       "      <td id=\"T_c26f7_row17_col0\" class=\"data row17 col0\" >Experiment Name</td>\n",
       "      <td id=\"T_c26f7_row17_col1\" class=\"data row17 col1\" >clf-default-name</td>\n",
       "    </tr>\n",
       "    <tr>\n",
       "      <th id=\"T_c26f7_level0_row18\" class=\"row_heading level0 row18\" >18</th>\n",
       "      <td id=\"T_c26f7_row18_col0\" class=\"data row18 col0\" >USI</td>\n",
       "      <td id=\"T_c26f7_row18_col1\" class=\"data row18 col1\" >243e</td>\n",
       "    </tr>\n",
       "  </tbody>\n",
       "</table>\n"
      ],
      "text/plain": [
       "<pandas.io.formats.style.Styler at 0x7fd0f8c281f0>"
      ]
     },
     "metadata": {},
     "output_type": "display_data"
    },
    {
     "name": "stderr",
     "output_type": "stream",
     "text": [
      "[LightGBM] [Fatal] GPU Tree Learner was not enabled in this build.\n",
      "Please recompile with CMake option -DUSE_GPU=1\n",
      "[LightGBM] [Fatal] CUDA Tree Learner was not enabled in this build.\n",
      "Please recompile with CMake option -DUSE_CUDA=1\n",
      "[LightGBM] [Fatal] GPU Tree Learner was not enabled in this build.\n",
      "Please recompile with CMake option -DUSE_GPU=1\n",
      "[LightGBM] [Fatal] CUDA Tree Learner was not enabled in this build.\n",
      "Please recompile with CMake option -DUSE_CUDA=1\n"
     ]
    }
   ],
   "source": [
    "# Experiment setup\n",
    "s = setup(df_num, target = 'link', fold_strategy = 'stratifiedkfold', fold=10, train_size = 0.8, n_jobs=-1, system_log=True, use_gpu = True, log_experiment='wandb')\n",
    "exp = ClassificationExperiment()"
   ]
  },
  {
   "cell_type": "markdown",
   "metadata": {},
   "source": [
    "# K Neighbors Classifier"
   ]
  },
  {
   "cell_type": "code",
   "execution_count": 6,
   "metadata": {
    "tags": []
   },
   "outputs": [
    {
     "data": {
      "text/html": [],
      "text/plain": [
       "<IPython.core.display.HTML object>"
      ]
     },
     "metadata": {},
     "output_type": "display_data"
    },
    {
     "data": {
      "text/html": [
       "<style type=\"text/css\">\n",
       "#T_e26b1_row10_col0, #T_e26b1_row10_col1, #T_e26b1_row10_col2, #T_e26b1_row10_col3, #T_e26b1_row10_col4, #T_e26b1_row10_col5, #T_e26b1_row10_col6 {\n",
       "  background: yellow;\n",
       "}\n",
       "</style>\n",
       "<table id=\"T_e26b1\">\n",
       "  <thead>\n",
       "    <tr>\n",
       "      <th class=\"blank level0\" >&nbsp;</th>\n",
       "      <th id=\"T_e26b1_level0_col0\" class=\"col_heading level0 col0\" >Accuracy</th>\n",
       "      <th id=\"T_e26b1_level0_col1\" class=\"col_heading level0 col1\" >AUC</th>\n",
       "      <th id=\"T_e26b1_level0_col2\" class=\"col_heading level0 col2\" >Recall</th>\n",
       "      <th id=\"T_e26b1_level0_col3\" class=\"col_heading level0 col3\" >Prec.</th>\n",
       "      <th id=\"T_e26b1_level0_col4\" class=\"col_heading level0 col4\" >F1</th>\n",
       "      <th id=\"T_e26b1_level0_col5\" class=\"col_heading level0 col5\" >Kappa</th>\n",
       "      <th id=\"T_e26b1_level0_col6\" class=\"col_heading level0 col6\" >MCC</th>\n",
       "    </tr>\n",
       "    <tr>\n",
       "      <th class=\"index_name level0\" >Fold</th>\n",
       "      <th class=\"blank col0\" >&nbsp;</th>\n",
       "      <th class=\"blank col1\" >&nbsp;</th>\n",
       "      <th class=\"blank col2\" >&nbsp;</th>\n",
       "      <th class=\"blank col3\" >&nbsp;</th>\n",
       "      <th class=\"blank col4\" >&nbsp;</th>\n",
       "      <th class=\"blank col5\" >&nbsp;</th>\n",
       "      <th class=\"blank col6\" >&nbsp;</th>\n",
       "    </tr>\n",
       "  </thead>\n",
       "  <tbody>\n",
       "    <tr>\n",
       "      <th id=\"T_e26b1_level0_row0\" class=\"row_heading level0 row0\" >0</th>\n",
       "      <td id=\"T_e26b1_row0_col0\" class=\"data row0 col0\" >0.7388</td>\n",
       "      <td id=\"T_e26b1_row0_col1\" class=\"data row0 col1\" >0.8551</td>\n",
       "      <td id=\"T_e26b1_row0_col2\" class=\"data row0 col2\" >0.7470</td>\n",
       "      <td id=\"T_e26b1_row0_col3\" class=\"data row0 col3\" >0.7351</td>\n",
       "      <td id=\"T_e26b1_row0_col4\" class=\"data row0 col4\" >0.7410</td>\n",
       "      <td id=\"T_e26b1_row0_col5\" class=\"data row0 col5\" >0.4777</td>\n",
       "      <td id=\"T_e26b1_row0_col6\" class=\"data row0 col6\" >0.4777</td>\n",
       "    </tr>\n",
       "    <tr>\n",
       "      <th id=\"T_e26b1_level0_row1\" class=\"row_heading level0 row1\" >1</th>\n",
       "      <td id=\"T_e26b1_row1_col0\" class=\"data row1 col0\" >0.7370</td>\n",
       "      <td id=\"T_e26b1_row1_col1\" class=\"data row1 col1\" >0.8534</td>\n",
       "      <td id=\"T_e26b1_row1_col2\" class=\"data row1 col2\" >0.7452</td>\n",
       "      <td id=\"T_e26b1_row1_col3\" class=\"data row1 col3\" >0.7332</td>\n",
       "      <td id=\"T_e26b1_row1_col4\" class=\"data row1 col4\" >0.7392</td>\n",
       "      <td id=\"T_e26b1_row1_col5\" class=\"data row1 col5\" >0.4739</td>\n",
       "      <td id=\"T_e26b1_row1_col6\" class=\"data row1 col6\" >0.4740</td>\n",
       "    </tr>\n",
       "    <tr>\n",
       "      <th id=\"T_e26b1_level0_row2\" class=\"row_heading level0 row2\" >2</th>\n",
       "      <td id=\"T_e26b1_row2_col0\" class=\"data row2 col0\" >0.7379</td>\n",
       "      <td id=\"T_e26b1_row2_col1\" class=\"data row2 col1\" >0.8544</td>\n",
       "      <td id=\"T_e26b1_row2_col2\" class=\"data row2 col2\" >0.7447</td>\n",
       "      <td id=\"T_e26b1_row2_col3\" class=\"data row2 col3\" >0.7348</td>\n",
       "      <td id=\"T_e26b1_row2_col4\" class=\"data row2 col4\" >0.7397</td>\n",
       "      <td id=\"T_e26b1_row2_col5\" class=\"data row2 col5\" >0.4758</td>\n",
       "      <td id=\"T_e26b1_row2_col6\" class=\"data row2 col6\" >0.4758</td>\n",
       "    </tr>\n",
       "    <tr>\n",
       "      <th id=\"T_e26b1_level0_row3\" class=\"row_heading level0 row3\" >3</th>\n",
       "      <td id=\"T_e26b1_row3_col0\" class=\"data row3 col0\" >0.7379</td>\n",
       "      <td id=\"T_e26b1_row3_col1\" class=\"data row3 col1\" >0.8547</td>\n",
       "      <td id=\"T_e26b1_row3_col2\" class=\"data row3 col2\" >0.7435</td>\n",
       "      <td id=\"T_e26b1_row3_col3\" class=\"data row3 col3\" >0.7353</td>\n",
       "      <td id=\"T_e26b1_row3_col4\" class=\"data row3 col4\" >0.7394</td>\n",
       "      <td id=\"T_e26b1_row3_col5\" class=\"data row3 col5\" >0.4757</td>\n",
       "      <td id=\"T_e26b1_row3_col6\" class=\"data row3 col6\" >0.4758</td>\n",
       "    </tr>\n",
       "    <tr>\n",
       "      <th id=\"T_e26b1_level0_row4\" class=\"row_heading level0 row4\" >4</th>\n",
       "      <td id=\"T_e26b1_row4_col0\" class=\"data row4 col0\" >0.7382</td>\n",
       "      <td id=\"T_e26b1_row4_col1\" class=\"data row4 col1\" >0.8547</td>\n",
       "      <td id=\"T_e26b1_row4_col2\" class=\"data row4 col2\" >0.7450</td>\n",
       "      <td id=\"T_e26b1_row4_col3\" class=\"data row4 col3\" >0.7351</td>\n",
       "      <td id=\"T_e26b1_row4_col4\" class=\"data row4 col4\" >0.7400</td>\n",
       "      <td id=\"T_e26b1_row4_col5\" class=\"data row4 col5\" >0.4764</td>\n",
       "      <td id=\"T_e26b1_row4_col6\" class=\"data row4 col6\" >0.4765</td>\n",
       "    </tr>\n",
       "    <tr>\n",
       "      <th id=\"T_e26b1_level0_row5\" class=\"row_heading level0 row5\" >5</th>\n",
       "      <td id=\"T_e26b1_row5_col0\" class=\"data row5 col0\" >0.7404</td>\n",
       "      <td id=\"T_e26b1_row5_col1\" class=\"data row5 col1\" >0.8567</td>\n",
       "      <td id=\"T_e26b1_row5_col2\" class=\"data row5 col2\" >0.7480</td>\n",
       "      <td id=\"T_e26b1_row5_col3\" class=\"data row5 col3\" >0.7369</td>\n",
       "      <td id=\"T_e26b1_row5_col4\" class=\"data row5 col4\" >0.7424</td>\n",
       "      <td id=\"T_e26b1_row5_col5\" class=\"data row5 col5\" >0.4808</td>\n",
       "      <td id=\"T_e26b1_row5_col6\" class=\"data row5 col6\" >0.4808</td>\n",
       "    </tr>\n",
       "    <tr>\n",
       "      <th id=\"T_e26b1_level0_row6\" class=\"row_heading level0 row6\" >6</th>\n",
       "      <td id=\"T_e26b1_row6_col0\" class=\"data row6 col0\" >0.7384</td>\n",
       "      <td id=\"T_e26b1_row6_col1\" class=\"data row6 col1\" >0.8550</td>\n",
       "      <td id=\"T_e26b1_row6_col2\" class=\"data row6 col2\" >0.7483</td>\n",
       "      <td id=\"T_e26b1_row6_col3\" class=\"data row6 col3\" >0.7339</td>\n",
       "      <td id=\"T_e26b1_row6_col4\" class=\"data row6 col4\" >0.7410</td>\n",
       "      <td id=\"T_e26b1_row6_col5\" class=\"data row6 col5\" >0.4768</td>\n",
       "      <td id=\"T_e26b1_row6_col6\" class=\"data row6 col6\" >0.4769</td>\n",
       "    </tr>\n",
       "    <tr>\n",
       "      <th id=\"T_e26b1_level0_row7\" class=\"row_heading level0 row7\" >7</th>\n",
       "      <td id=\"T_e26b1_row7_col0\" class=\"data row7 col0\" >0.7358</td>\n",
       "      <td id=\"T_e26b1_row7_col1\" class=\"data row7 col1\" >0.8533</td>\n",
       "      <td id=\"T_e26b1_row7_col2\" class=\"data row7 col2\" >0.7413</td>\n",
       "      <td id=\"T_e26b1_row7_col3\" class=\"data row7 col3\" >0.7333</td>\n",
       "      <td id=\"T_e26b1_row7_col4\" class=\"data row7 col4\" >0.7373</td>\n",
       "      <td id=\"T_e26b1_row7_col5\" class=\"data row7 col5\" >0.4716</td>\n",
       "      <td id=\"T_e26b1_row7_col6\" class=\"data row7 col6\" >0.4716</td>\n",
       "    </tr>\n",
       "    <tr>\n",
       "      <th id=\"T_e26b1_level0_row8\" class=\"row_heading level0 row8\" >8</th>\n",
       "      <td id=\"T_e26b1_row8_col0\" class=\"data row8 col0\" >0.7382</td>\n",
       "      <td id=\"T_e26b1_row8_col1\" class=\"data row8 col1\" >0.8546</td>\n",
       "      <td id=\"T_e26b1_row8_col2\" class=\"data row8 col2\" >0.7421</td>\n",
       "      <td id=\"T_e26b1_row8_col3\" class=\"data row8 col3\" >0.7364</td>\n",
       "      <td id=\"T_e26b1_row8_col4\" class=\"data row8 col4\" >0.7392</td>\n",
       "      <td id=\"T_e26b1_row8_col5\" class=\"data row8 col5\" >0.4763</td>\n",
       "      <td id=\"T_e26b1_row8_col6\" class=\"data row8 col6\" >0.4763</td>\n",
       "    </tr>\n",
       "    <tr>\n",
       "      <th id=\"T_e26b1_level0_row9\" class=\"row_heading level0 row9\" >9</th>\n",
       "      <td id=\"T_e26b1_row9_col0\" class=\"data row9 col0\" >0.7376</td>\n",
       "      <td id=\"T_e26b1_row9_col1\" class=\"data row9 col1\" >0.8539</td>\n",
       "      <td id=\"T_e26b1_row9_col2\" class=\"data row9 col2\" >0.7455</td>\n",
       "      <td id=\"T_e26b1_row9_col3\" class=\"data row9 col3\" >0.7340</td>\n",
       "      <td id=\"T_e26b1_row9_col4\" class=\"data row9 col4\" >0.7397</td>\n",
       "      <td id=\"T_e26b1_row9_col5\" class=\"data row9 col5\" >0.4752</td>\n",
       "      <td id=\"T_e26b1_row9_col6\" class=\"data row9 col6\" >0.4753</td>\n",
       "    </tr>\n",
       "    <tr>\n",
       "      <th id=\"T_e26b1_level0_row10\" class=\"row_heading level0 row10\" >Mean</th>\n",
       "      <td id=\"T_e26b1_row10_col0\" class=\"data row10 col0\" >0.7380</td>\n",
       "      <td id=\"T_e26b1_row10_col1\" class=\"data row10 col1\" >0.8546</td>\n",
       "      <td id=\"T_e26b1_row10_col2\" class=\"data row10 col2\" >0.7451</td>\n",
       "      <td id=\"T_e26b1_row10_col3\" class=\"data row10 col3\" >0.7348</td>\n",
       "      <td id=\"T_e26b1_row10_col4\" class=\"data row10 col4\" >0.7399</td>\n",
       "      <td id=\"T_e26b1_row10_col5\" class=\"data row10 col5\" >0.4760</td>\n",
       "      <td id=\"T_e26b1_row10_col6\" class=\"data row10 col6\" >0.4761</td>\n",
       "    </tr>\n",
       "    <tr>\n",
       "      <th id=\"T_e26b1_level0_row11\" class=\"row_heading level0 row11\" >Std</th>\n",
       "      <td id=\"T_e26b1_row11_col0\" class=\"data row11 col0\" >0.0011</td>\n",
       "      <td id=\"T_e26b1_row11_col1\" class=\"data row11 col1\" >0.0009</td>\n",
       "      <td id=\"T_e26b1_row11_col2\" class=\"data row11 col2\" >0.0022</td>\n",
       "      <td id=\"T_e26b1_row11_col3\" class=\"data row11 col3\" >0.0012</td>\n",
       "      <td id=\"T_e26b1_row11_col4\" class=\"data row11 col4\" >0.0013</td>\n",
       "      <td id=\"T_e26b1_row11_col5\" class=\"data row11 col5\" >0.0023</td>\n",
       "      <td id=\"T_e26b1_row11_col6\" class=\"data row11 col6\" >0.0023</td>\n",
       "    </tr>\n",
       "  </tbody>\n",
       "</table>\n"
      ],
      "text/plain": [
       "<pandas.io.formats.style.Styler at 0x7fd1065e7970>"
      ]
     },
     "metadata": {},
     "output_type": "display_data"
    },
    {
     "data": {
      "text/html": [],
      "text/plain": [
       "<IPython.core.display.HTML object>"
      ]
     },
     "metadata": {},
     "output_type": "display_data"
    }
   ],
   "source": [
    "knn = create_model('knn')"
   ]
  },
  {
   "cell_type": "code",
   "execution_count": 7,
   "metadata": {},
   "outputs": [
    {
     "data": {
      "text/html": [],
      "text/plain": [
       "<IPython.core.display.HTML object>"
      ]
     },
     "metadata": {},
     "output_type": "display_data"
    },
    {
     "data": {
      "image/png": "[encoded data removed]",
      "text/plain": [
       "<Figure size 800x550 with 1 Axes>"
      ]
     },
     "metadata": {},
     "output_type": "display_data"
    }
   ],
   "source": [
    "plot_model(knn, plot = 'confusion_matrix')"
   ]
  },
  {
   "cell_type": "code",
   "execution_count": 8,
   "metadata": {},
   "outputs": [
    {
     "data": {
      "text/html": [],
      "text/plain": [
       "<IPython.core.display.HTML object>"
      ]
     },
     "metadata": {},
     "output_type": "display_data"
    },
    {
     "data": {
      "image/png": "[encoded data removed]",
      "text/plain": [
       "<Figure size 800x550 with 1 Axes>"
      ]
     },
     "metadata": {},
     "output_type": "display_data"
    }
   ],
   "source": [
    "plot_model(knn, plot = 'error')"
   ]
  },
  {
   "cell_type": "code",
   "execution_count": 9,
   "metadata": {},
   "outputs": [
    {
     "data": {
      "text/html": [],
      "text/plain": [
       "<IPython.core.display.HTML object>"
      ]
     },
     "metadata": {},
     "output_type": "display_data"
    },
    {
     "data": {
      "text/html": [
       "<div>\n",
       "<style scoped>\n",
       "    .dataframe tbody tr th:only-of-type {\n",
       "        vertical-align: middle;\n",
       "    }\n",
       "\n",
       "    .dataframe tbody tr th {\n",
       "        vertical-align: top;\n",
       "    }\n",
       "\n",
       "    .dataframe thead th {\n",
       "        text-align: right;\n",
       "    }\n",
       "</style>\n",
       "<table border=\"1\" class=\"dataframe\">\n",
       "  <thead>\n",
       "    <tr style=\"text-align: right;\">\n",
       "      <th></th>\n",
       "      <th>Parameters</th>\n",
       "    </tr>\n",
       "  </thead>\n",
       "  <tbody>\n",
       "    <tr>\n",
       "      <th>algorithm</th>\n",
       "      <td>auto</td>\n",
       "    </tr>\n",
       "    <tr>\n",
       "      <th>leaf_size</th>\n",
       "      <td>30</td>\n",
       "    </tr>\n",
       "    <tr>\n",
       "      <th>metric</th>\n",
       "      <td>minkowski</td>\n",
       "    </tr>\n",
       "    <tr>\n",
       "      <th>metric_params</th>\n",
       "      <td>None</td>\n",
       "    </tr>\n",
       "    <tr>\n",
       "      <th>n_jobs</th>\n",
       "      <td>-1</td>\n",
       "    </tr>\n",
       "    <tr>\n",
       "      <th>n_neighbors</th>\n",
       "      <td>5</td>\n",
       "    </tr>\n",
       "    <tr>\n",
       "      <th>p</th>\n",
       "      <td>2</td>\n",
       "    </tr>\n",
       "    <tr>\n",
       "      <th>weights</th>\n",
       "      <td>uniform</td>\n",
       "    </tr>\n",
       "  </tbody>\n",
       "</table>\n",
       "</div>"
      ],
      "text/plain": [
       "              Parameters\n",
       "algorithm           auto\n",
       "leaf_size             30\n",
       "metric         minkowski\n",
       "metric_params       None\n",
       "n_jobs                -1\n",
       "n_neighbors            5\n",
       "p                      2\n",
       "weights          uniform"
      ]
     },
     "metadata": {},
     "output_type": "display_data"
    }
   ],
   "source": [
    "plot_model(knn, plot = 'parameter')"
   ]
  },
  {
   "cell_type": "code",
   "execution_count": 10,
   "metadata": {},
   "outputs": [
    {
     "name": "stdout",
     "output_type": "stream",
     "text": [
      "Transformation Pipeline and Model Successfully Saved\n"
     ]
    },
    {
     "data": {
      "text/plain": [
       "(Pipeline(memory=FastMemory(location=/tmp/joblib),\n",
       "          steps=[('numerical_imputer',\n",
       "                  TransformerWrapper(exclude=None,\n",
       "                                     include=['0', '1', '2', '3', '4', '5', '6',\n",
       "                                              '7', '8', '9', '10', '11', '12',\n",
       "                                              '13', '14', '15', '16', '17', '18',\n",
       "                                              '19', '20', '21', '22', '23', '24',\n",
       "                                              '25', '26', '27', '28', '29', ...],\n",
       "                                     transformer=SimpleImputer(add_indicator=False,\n",
       "                                                               copy=True,\n",
       "                                                               fill_value=None,\n",
       "                                                               keep_empty_feat...\n",
       "                  TransformerWrapper(exclude=None, include=[],\n",
       "                                     transformer=SimpleImputer(add_indicator=False,\n",
       "                                                               copy=True,\n",
       "                                                               fill_value=None,\n",
       "                                                               keep_empty_features=False,\n",
       "                                                               missing_values=nan,\n",
       "                                                               strategy='most_frequent',\n",
       "                                                               verbose='deprecated'))),\n",
       "                 ('trained_model',\n",
       "                  KNeighborsClassifier(algorithm='auto', leaf_size=30,\n",
       "                                       metric='minkowski', metric_params=None,\n",
       "                                       n_jobs=-1, n_neighbors=5, p=2,\n",
       "                                       weights='uniform'))],\n",
       "          verbose=False),\n",
       " 'models_classif/convkb/binary_emb_val/knn.pkl')"
      ]
     },
     "execution_count": 10,
     "metadata": {},
     "output_type": "execute_result"
    }
   ],
   "source": [
    "save_model(knn, 'models_classif/convkb/binary_emb_val/knn')"
   ]
  },
  {
   "cell_type": "markdown",
   "metadata": {},
   "source": [
    "# Naive Bayes"
   ]
  },
  {
   "cell_type": "code",
   "execution_count": 11,
   "metadata": {
    "tags": []
   },
   "outputs": [
    {
     "data": {
      "text/html": [],
      "text/plain": [
       "<IPython.core.display.HTML object>"
      ]
     },
     "metadata": {},
     "output_type": "display_data"
    },
    {
     "data": {
      "text/html": [
       "<style type=\"text/css\">\n",
       "#T_a0040_row10_col0, #T_a0040_row10_col1, #T_a0040_row10_col2, #T_a0040_row10_col3, #T_a0040_row10_col4, #T_a0040_row10_col5, #T_a0040_row10_col6 {\n",
       "  background: yellow;\n",
       "}\n",
       "</style>\n",
       "<table id=\"T_a0040\">\n",
       "  <thead>\n",
       "    <tr>\n",
       "      <th class=\"blank level0\" >&nbsp;</th>\n",
       "      <th id=\"T_a0040_level0_col0\" class=\"col_heading level0 col0\" >Accuracy</th>\n",
       "      <th id=\"T_a0040_level0_col1\" class=\"col_heading level0 col1\" >AUC</th>\n",
       "      <th id=\"T_a0040_level0_col2\" class=\"col_heading level0 col2\" >Recall</th>\n",
       "      <th id=\"T_a0040_level0_col3\" class=\"col_heading level0 col3\" >Prec.</th>\n",
       "      <th id=\"T_a0040_level0_col4\" class=\"col_heading level0 col4\" >F1</th>\n",
       "      <th id=\"T_a0040_level0_col5\" class=\"col_heading level0 col5\" >Kappa</th>\n",
       "      <th id=\"T_a0040_level0_col6\" class=\"col_heading level0 col6\" >MCC</th>\n",
       "    </tr>\n",
       "    <tr>\n",
       "      <th class=\"index_name level0\" >Fold</th>\n",
       "      <th class=\"blank col0\" >&nbsp;</th>\n",
       "      <th class=\"blank col1\" >&nbsp;</th>\n",
       "      <th class=\"blank col2\" >&nbsp;</th>\n",
       "      <th class=\"blank col3\" >&nbsp;</th>\n",
       "      <th class=\"blank col4\" >&nbsp;</th>\n",
       "      <th class=\"blank col5\" >&nbsp;</th>\n",
       "      <th class=\"blank col6\" >&nbsp;</th>\n",
       "    </tr>\n",
       "  </thead>\n",
       "  <tbody>\n",
       "    <tr>\n",
       "      <th id=\"T_a0040_level0_row0\" class=\"row_heading level0 row0\" >0</th>\n",
       "      <td id=\"T_a0040_row0_col0\" class=\"data row0 col0\" >0.6668</td>\n",
       "      <td id=\"T_a0040_row0_col1\" class=\"data row0 col1\" >0.6744</td>\n",
       "      <td id=\"T_a0040_row0_col2\" class=\"data row0 col2\" >0.7750</td>\n",
       "      <td id=\"T_a0040_row0_col3\" class=\"data row0 col3\" >0.6372</td>\n",
       "      <td id=\"T_a0040_row0_col4\" class=\"data row0 col4\" >0.6994</td>\n",
       "      <td id=\"T_a0040_row0_col5\" class=\"data row0 col5\" >0.3336</td>\n",
       "      <td id=\"T_a0040_row0_col6\" class=\"data row0 col6\" >0.3417</td>\n",
       "    </tr>\n",
       "    <tr>\n",
       "      <th id=\"T_a0040_level0_row1\" class=\"row_heading level0 row1\" >1</th>\n",
       "      <td id=\"T_a0040_row1_col0\" class=\"data row1 col0\" >0.6641</td>\n",
       "      <td id=\"T_a0040_row1_col1\" class=\"data row1 col1\" >0.6724</td>\n",
       "      <td id=\"T_a0040_row1_col2\" class=\"data row1 col2\" >0.7752</td>\n",
       "      <td id=\"T_a0040_row1_col3\" class=\"data row1 col3\" >0.6343</td>\n",
       "      <td id=\"T_a0040_row1_col4\" class=\"data row1 col4\" >0.6977</td>\n",
       "      <td id=\"T_a0040_row1_col5\" class=\"data row1 col5\" >0.3281</td>\n",
       "      <td id=\"T_a0040_row1_col6\" class=\"data row1 col6\" >0.3365</td>\n",
       "    </tr>\n",
       "    <tr>\n",
       "      <th id=\"T_a0040_level0_row2\" class=\"row_heading level0 row2\" >2</th>\n",
       "      <td id=\"T_a0040_row2_col0\" class=\"data row2 col0\" >0.6663</td>\n",
       "      <td id=\"T_a0040_row2_col1\" class=\"data row2 col1\" >0.6737</td>\n",
       "      <td id=\"T_a0040_row2_col2\" class=\"data row2 col2\" >0.7737</td>\n",
       "      <td id=\"T_a0040_row2_col3\" class=\"data row2 col3\" >0.6370</td>\n",
       "      <td id=\"T_a0040_row2_col4\" class=\"data row2 col4\" >0.6987</td>\n",
       "      <td id=\"T_a0040_row2_col5\" class=\"data row2 col5\" >0.3326</td>\n",
       "      <td id=\"T_a0040_row2_col6\" class=\"data row2 col6\" >0.3405</td>\n",
       "    </tr>\n",
       "    <tr>\n",
       "      <th id=\"T_a0040_level0_row3\" class=\"row_heading level0 row3\" >3</th>\n",
       "      <td id=\"T_a0040_row3_col0\" class=\"data row3 col0\" >0.6661</td>\n",
       "      <td id=\"T_a0040_row3_col1\" class=\"data row3 col1\" >0.6739</td>\n",
       "      <td id=\"T_a0040_row3_col2\" class=\"data row3 col2\" >0.7743</td>\n",
       "      <td id=\"T_a0040_row3_col3\" class=\"data row3 col3\" >0.6366</td>\n",
       "      <td id=\"T_a0040_row3_col4\" class=\"data row3 col4\" >0.6987</td>\n",
       "      <td id=\"T_a0040_row3_col5\" class=\"data row3 col5\" >0.3321</td>\n",
       "      <td id=\"T_a0040_row3_col6\" class=\"data row3 col6\" >0.3402</td>\n",
       "    </tr>\n",
       "    <tr>\n",
       "      <th id=\"T_a0040_level0_row4\" class=\"row_heading level0 row4\" >4</th>\n",
       "      <td id=\"T_a0040_row4_col0\" class=\"data row4 col0\" >0.6664</td>\n",
       "      <td id=\"T_a0040_row4_col1\" class=\"data row4 col1\" >0.6738</td>\n",
       "      <td id=\"T_a0040_row4_col2\" class=\"data row4 col2\" >0.7741</td>\n",
       "      <td id=\"T_a0040_row4_col3\" class=\"data row4 col3\" >0.6370</td>\n",
       "      <td id=\"T_a0040_row4_col4\" class=\"data row4 col4\" >0.6989</td>\n",
       "      <td id=\"T_a0040_row4_col5\" class=\"data row4 col5\" >0.3328</td>\n",
       "      <td id=\"T_a0040_row4_col6\" class=\"data row4 col6\" >0.3408</td>\n",
       "    </tr>\n",
       "    <tr>\n",
       "      <th id=\"T_a0040_level0_row5\" class=\"row_heading level0 row5\" >5</th>\n",
       "      <td id=\"T_a0040_row5_col0\" class=\"data row5 col0\" >0.6671</td>\n",
       "      <td id=\"T_a0040_row5_col1\" class=\"data row5 col1\" >0.6760</td>\n",
       "      <td id=\"T_a0040_row5_col2\" class=\"data row5 col2\" >0.7745</td>\n",
       "      <td id=\"T_a0040_row5_col3\" class=\"data row5 col3\" >0.6376</td>\n",
       "      <td id=\"T_a0040_row5_col4\" class=\"data row5 col4\" >0.6994</td>\n",
       "      <td id=\"T_a0040_row5_col5\" class=\"data row5 col5\" >0.3341</td>\n",
       "      <td id=\"T_a0040_row5_col6\" class=\"data row5 col6\" >0.3421</td>\n",
       "    </tr>\n",
       "    <tr>\n",
       "      <th id=\"T_a0040_level0_row6\" class=\"row_heading level0 row6\" >6</th>\n",
       "      <td id=\"T_a0040_row6_col0\" class=\"data row6 col0\" >0.6660</td>\n",
       "      <td id=\"T_a0040_row6_col1\" class=\"data row6 col1\" >0.6735</td>\n",
       "      <td id=\"T_a0040_row6_col2\" class=\"data row6 col2\" >0.7750</td>\n",
       "      <td id=\"T_a0040_row6_col3\" class=\"data row6 col3\" >0.6363</td>\n",
       "      <td id=\"T_a0040_row6_col4\" class=\"data row6 col4\" >0.6989</td>\n",
       "      <td id=\"T_a0040_row6_col5\" class=\"data row6 col5\" >0.3319</td>\n",
       "      <td id=\"T_a0040_row6_col6\" class=\"data row6 col6\" >0.3401</td>\n",
       "    </tr>\n",
       "    <tr>\n",
       "      <th id=\"T_a0040_level0_row7\" class=\"row_heading level0 row7\" >7</th>\n",
       "      <td id=\"T_a0040_row7_col0\" class=\"data row7 col0\" >0.6661</td>\n",
       "      <td id=\"T_a0040_row7_col1\" class=\"data row7 col1\" >0.6734</td>\n",
       "      <td id=\"T_a0040_row7_col2\" class=\"data row7 col2\" >0.7738</td>\n",
       "      <td id=\"T_a0040_row7_col3\" class=\"data row7 col3\" >0.6367</td>\n",
       "      <td id=\"T_a0040_row7_col4\" class=\"data row7 col4\" >0.6986</td>\n",
       "      <td id=\"T_a0040_row7_col5\" class=\"data row7 col5\" >0.3321</td>\n",
       "      <td id=\"T_a0040_row7_col6\" class=\"data row7 col6\" >0.3401</td>\n",
       "    </tr>\n",
       "    <tr>\n",
       "      <th id=\"T_a0040_level0_row8\" class=\"row_heading level0 row8\" >8</th>\n",
       "      <td id=\"T_a0040_row8_col0\" class=\"data row8 col0\" >0.6663</td>\n",
       "      <td id=\"T_a0040_row8_col1\" class=\"data row8 col1\" >0.6744</td>\n",
       "      <td id=\"T_a0040_row8_col2\" class=\"data row8 col2\" >0.7735</td>\n",
       "      <td id=\"T_a0040_row8_col3\" class=\"data row8 col3\" >0.6370</td>\n",
       "      <td id=\"T_a0040_row8_col4\" class=\"data row8 col4\" >0.6987</td>\n",
       "      <td id=\"T_a0040_row8_col5\" class=\"data row8 col5\" >0.3326</td>\n",
       "      <td id=\"T_a0040_row8_col6\" class=\"data row8 col6\" >0.3405</td>\n",
       "    </tr>\n",
       "    <tr>\n",
       "      <th id=\"T_a0040_level0_row9\" class=\"row_heading level0 row9\" >9</th>\n",
       "      <td id=\"T_a0040_row9_col0\" class=\"data row9 col0\" >0.6654</td>\n",
       "      <td id=\"T_a0040_row9_col1\" class=\"data row9 col1\" >0.6729</td>\n",
       "      <td id=\"T_a0040_row9_col2\" class=\"data row9 col2\" >0.7734</td>\n",
       "      <td id=\"T_a0040_row9_col3\" class=\"data row9 col3\" >0.6361</td>\n",
       "      <td id=\"T_a0040_row9_col4\" class=\"data row9 col4\" >0.6980</td>\n",
       "      <td id=\"T_a0040_row9_col5\" class=\"data row9 col5\" >0.3307</td>\n",
       "      <td id=\"T_a0040_row9_col6\" class=\"data row9 col6\" >0.3387</td>\n",
       "    </tr>\n",
       "    <tr>\n",
       "      <th id=\"T_a0040_level0_row10\" class=\"row_heading level0 row10\" >Mean</th>\n",
       "      <td id=\"T_a0040_row10_col0\" class=\"data row10 col0\" >0.6660</td>\n",
       "      <td id=\"T_a0040_row10_col1\" class=\"data row10 col1\" >0.6739</td>\n",
       "      <td id=\"T_a0040_row10_col2\" class=\"data row10 col2\" >0.7743</td>\n",
       "      <td id=\"T_a0040_row10_col3\" class=\"data row10 col3\" >0.6366</td>\n",
       "      <td id=\"T_a0040_row10_col4\" class=\"data row10 col4\" >0.6987</td>\n",
       "      <td id=\"T_a0040_row10_col5\" class=\"data row10 col5\" >0.3321</td>\n",
       "      <td id=\"T_a0040_row10_col6\" class=\"data row10 col6\" >0.3401</td>\n",
       "    </tr>\n",
       "    <tr>\n",
       "      <th id=\"T_a0040_level0_row11\" class=\"row_heading level0 row11\" >Std</th>\n",
       "      <td id=\"T_a0040_row11_col0\" class=\"data row11 col0\" >0.0008</td>\n",
       "      <td id=\"T_a0040_row11_col1\" class=\"data row11 col1\" >0.0009</td>\n",
       "      <td id=\"T_a0040_row11_col2\" class=\"data row11 col2\" >0.0006</td>\n",
       "      <td id=\"T_a0040_row11_col3\" class=\"data row11 col3\" >0.0009</td>\n",
       "      <td id=\"T_a0040_row11_col4\" class=\"data row11 col4\" >0.0005</td>\n",
       "      <td id=\"T_a0040_row11_col5\" class=\"data row11 col5\" >0.0016</td>\n",
       "      <td id=\"T_a0040_row11_col6\" class=\"data row11 col6\" >0.0015</td>\n",
       "    </tr>\n",
       "  </tbody>\n",
       "</table>\n"
      ],
      "text/plain": [
       "<pandas.io.formats.style.Styler at 0x7fd0e8113970>"
      ]
     },
     "metadata": {},
     "output_type": "display_data"
    },
    {
     "data": {
      "text/html": [],
      "text/plain": [
       "<IPython.core.display.HTML object>"
      ]
     },
     "metadata": {},
     "output_type": "display_data"
    }
   ],
   "source": [
    "nb = create_model('nb')"
   ]
  },
  {
   "cell_type": "code",
   "execution_count": 12,
   "metadata": {},
   "outputs": [
    {
     "data": {
      "text/html": [],
      "text/plain": [
       "<IPython.core.display.HTML object>"
      ]
     },
     "metadata": {},
     "output_type": "display_data"
    },
    {
     "data": {
      "image/png": "[encoded data removed]",
      "text/plain": [
       "<Figure size 800x550 with 1 Axes>"
      ]
     },
     "metadata": {},
     "output_type": "display_data"
    }
   ],
   "source": [
    "plot_model(nb, plot = 'confusion_matrix')"
   ]
  },
  {
   "cell_type": "code",
   "execution_count": 13,
   "metadata": {},
   "outputs": [
    {
     "data": {
      "text/html": [],
      "text/plain": [
       "<IPython.core.display.HTML object>"
      ]
     },
     "metadata": {},
     "output_type": "display_data"
    },
    {
     "data": {
      "image/png": "[encoded data removed]",
      "text/plain": [
       "<Figure size 800x550 with 1 Axes>"
      ]
     },
     "metadata": {},
     "output_type": "display_data"
    }
   ],
   "source": [
    "plot_model(nb, plot = 'error')"
   ]
  },
  {
   "cell_type": "code",
   "execution_count": 14,
   "metadata": {},
   "outputs": [
    {
     "data": {
      "text/html": [],
      "text/plain": [
       "<IPython.core.display.HTML object>"
      ]
     },
     "metadata": {},
     "output_type": "display_data"
    },
    {
     "data": {
      "text/html": [
       "<div>\n",
       "<style scoped>\n",
       "    .dataframe tbody tr th:only-of-type {\n",
       "        vertical-align: middle;\n",
       "    }\n",
       "\n",
       "    .dataframe tbody tr th {\n",
       "        vertical-align: top;\n",
       "    }\n",
       "\n",
       "    .dataframe thead th {\n",
       "        text-align: right;\n",
       "    }\n",
       "</style>\n",
       "<table border=\"1\" class=\"dataframe\">\n",
       "  <thead>\n",
       "    <tr style=\"text-align: right;\">\n",
       "      <th></th>\n",
       "      <th>Parameters</th>\n",
       "    </tr>\n",
       "  </thead>\n",
       "  <tbody>\n",
       "    <tr>\n",
       "      <th>priors</th>\n",
       "      <td>None</td>\n",
       "    </tr>\n",
       "    <tr>\n",
       "      <th>var_smoothing</th>\n",
       "      <td>1e-09</td>\n",
       "    </tr>\n",
       "  </tbody>\n",
       "</table>\n",
       "</div>"
      ],
      "text/plain": [
       "              Parameters\n",
       "priors              None\n",
       "var_smoothing      1e-09"
      ]
     },
     "metadata": {},
     "output_type": "display_data"
    }
   ],
   "source": [
    "plot_model(nb, plot = 'parameter')"
   ]
  },
  {
   "cell_type": "code",
   "execution_count": 15,
   "metadata": {},
   "outputs": [
    {
     "name": "stdout",
     "output_type": "stream",
     "text": [
      "Transformation Pipeline and Model Successfully Saved\n"
     ]
    },
    {
     "data": {
      "text/plain": [
       "(Pipeline(memory=FastMemory(location=/tmp/joblib),\n",
       "          steps=[('numerical_imputer',\n",
       "                  TransformerWrapper(exclude=None,\n",
       "                                     include=['0', '1', '2', '3', '4', '5', '6',\n",
       "                                              '7', '8', '9', '10', '11', '12',\n",
       "                                              '13', '14', '15', '16', '17', '18',\n",
       "                                              '19', '20', '21', '22', '23', '24',\n",
       "                                              '25', '26', '27', '28', '29', ...],\n",
       "                                     transformer=SimpleImputer(add_indicator=False,\n",
       "                                                               copy=True,\n",
       "                                                               fill_value=None,\n",
       "                                                               keep_empty_feat...\n",
       "                                                               missing_values=nan,\n",
       "                                                               strategy='mean',\n",
       "                                                               verbose='deprecated'))),\n",
       "                 ('categorical_imputer',\n",
       "                  TransformerWrapper(exclude=None, include=[],\n",
       "                                     transformer=SimpleImputer(add_indicator=False,\n",
       "                                                               copy=True,\n",
       "                                                               fill_value=None,\n",
       "                                                               keep_empty_features=False,\n",
       "                                                               missing_values=nan,\n",
       "                                                               strategy='most_frequent',\n",
       "                                                               verbose='deprecated'))),\n",
       "                 ('trained_model',\n",
       "                  GaussianNB(priors=None, var_smoothing=1e-09))],\n",
       "          verbose=False),\n",
       " 'models_classif/convkb/binary_emb_val/nb.pkl')"
      ]
     },
     "execution_count": 15,
     "metadata": {},
     "output_type": "execute_result"
    }
   ],
   "source": [
    "save_model(nb, 'models_classif/convkb/binary_emb_val/nb')"
   ]
  },
  {
   "cell_type": "markdown",
   "metadata": {},
   "source": [
    "# Decision Tree Classifier"
   ]
  },
  {
   "cell_type": "code",
   "execution_count": 16,
   "metadata": {},
   "outputs": [
    {
     "data": {
      "text/html": [],
      "text/plain": [
       "<IPython.core.display.HTML object>"
      ]
     },
     "metadata": {},
     "output_type": "display_data"
    },
    {
     "data": {
      "text/html": [
       "<style type=\"text/css\">\n",
       "#T_0b640_row10_col0, #T_0b640_row10_col1, #T_0b640_row10_col2, #T_0b640_row10_col3, #T_0b640_row10_col4, #T_0b640_row10_col5, #T_0b640_row10_col6 {\n",
       "  background: yellow;\n",
       "}\n",
       "</style>\n",
       "<table id=\"T_0b640\">\n",
       "  <thead>\n",
       "    <tr>\n",
       "      <th class=\"blank level0\" >&nbsp;</th>\n",
       "      <th id=\"T_0b640_level0_col0\" class=\"col_heading level0 col0\" >Accuracy</th>\n",
       "      <th id=\"T_0b640_level0_col1\" class=\"col_heading level0 col1\" >AUC</th>\n",
       "      <th id=\"T_0b640_level0_col2\" class=\"col_heading level0 col2\" >Recall</th>\n",
       "      <th id=\"T_0b640_level0_col3\" class=\"col_heading level0 col3\" >Prec.</th>\n",
       "      <th id=\"T_0b640_level0_col4\" class=\"col_heading level0 col4\" >F1</th>\n",
       "      <th id=\"T_0b640_level0_col5\" class=\"col_heading level0 col5\" >Kappa</th>\n",
       "      <th id=\"T_0b640_level0_col6\" class=\"col_heading level0 col6\" >MCC</th>\n",
       "    </tr>\n",
       "    <tr>\n",
       "      <th class=\"index_name level0\" >Fold</th>\n",
       "      <th class=\"blank col0\" >&nbsp;</th>\n",
       "      <th class=\"blank col1\" >&nbsp;</th>\n",
       "      <th class=\"blank col2\" >&nbsp;</th>\n",
       "      <th class=\"blank col3\" >&nbsp;</th>\n",
       "      <th class=\"blank col4\" >&nbsp;</th>\n",
       "      <th class=\"blank col5\" >&nbsp;</th>\n",
       "      <th class=\"blank col6\" >&nbsp;</th>\n",
       "    </tr>\n",
       "  </thead>\n",
       "  <tbody>\n",
       "    <tr>\n",
       "      <th id=\"T_0b640_level0_row0\" class=\"row_heading level0 row0\" >0</th>\n",
       "      <td id=\"T_0b640_row0_col0\" class=\"data row0 col0\" >0.7458</td>\n",
       "      <td id=\"T_0b640_row0_col1\" class=\"data row0 col1\" >0.8689</td>\n",
       "      <td id=\"T_0b640_row0_col2\" class=\"data row0 col2\" >0.4990</td>\n",
       "      <td id=\"T_0b640_row0_col3\" class=\"data row0 col3\" >0.9857</td>\n",
       "      <td id=\"T_0b640_row0_col4\" class=\"data row0 col4\" >0.6626</td>\n",
       "      <td id=\"T_0b640_row0_col5\" class=\"data row0 col5\" >0.4917</td>\n",
       "      <td id=\"T_0b640_row0_col6\" class=\"data row0 col6\" >0.5654</td>\n",
       "    </tr>\n",
       "    <tr>\n",
       "      <th id=\"T_0b640_level0_row1\" class=\"row_heading level0 row1\" >1</th>\n",
       "      <td id=\"T_0b640_row1_col0\" class=\"data row1 col0\" >0.7451</td>\n",
       "      <td id=\"T_0b640_row1_col1\" class=\"data row1 col1\" >0.8682</td>\n",
       "      <td id=\"T_0b640_row1_col2\" class=\"data row1 col2\" >0.4999</td>\n",
       "      <td id=\"T_0b640_row1_col3\" class=\"data row1 col3\" >0.9813</td>\n",
       "      <td id=\"T_0b640_row1_col4\" class=\"data row1 col4\" >0.6623</td>\n",
       "      <td id=\"T_0b640_row1_col5\" class=\"data row1 col5\" >0.4903</td>\n",
       "      <td id=\"T_0b640_row1_col6\" class=\"data row1 col6\" >0.5627</td>\n",
       "    </tr>\n",
       "    <tr>\n",
       "      <th id=\"T_0b640_level0_row2\" class=\"row_heading level0 row2\" >2</th>\n",
       "      <td id=\"T_0b640_row2_col0\" class=\"data row2 col0\" >0.7457</td>\n",
       "      <td id=\"T_0b640_row2_col1\" class=\"data row2 col1\" >0.8685</td>\n",
       "      <td id=\"T_0b640_row2_col2\" class=\"data row2 col2\" >0.4985</td>\n",
       "      <td id=\"T_0b640_row2_col3\" class=\"data row2 col3\" >0.9862</td>\n",
       "      <td id=\"T_0b640_row2_col4\" class=\"data row2 col4\" >0.6622</td>\n",
       "      <td id=\"T_0b640_row2_col5\" class=\"data row2 col5\" >0.4914</td>\n",
       "      <td id=\"T_0b640_row2_col6\" class=\"data row2 col6\" >0.5655</td>\n",
       "    </tr>\n",
       "    <tr>\n",
       "      <th id=\"T_0b640_level0_row3\" class=\"row_heading level0 row3\" >3</th>\n",
       "      <td id=\"T_0b640_row3_col0\" class=\"data row3 col0\" >0.7454</td>\n",
       "      <td id=\"T_0b640_row3_col1\" class=\"data row3 col1\" >0.8683</td>\n",
       "      <td id=\"T_0b640_row3_col2\" class=\"data row3 col2\" >0.5007</td>\n",
       "      <td id=\"T_0b640_row3_col3\" class=\"data row3 col3\" >0.9810</td>\n",
       "      <td id=\"T_0b640_row3_col4\" class=\"data row3 col4\" >0.6630</td>\n",
       "      <td id=\"T_0b640_row3_col5\" class=\"data row3 col5\" >0.4909</td>\n",
       "      <td id=\"T_0b640_row3_col6\" class=\"data row3 col6\" >0.5631</td>\n",
       "    </tr>\n",
       "    <tr>\n",
       "      <th id=\"T_0b640_level0_row4\" class=\"row_heading level0 row4\" >4</th>\n",
       "      <td id=\"T_0b640_row4_col0\" class=\"data row4 col0\" >0.7456</td>\n",
       "      <td id=\"T_0b640_row4_col1\" class=\"data row4 col1\" >0.8690</td>\n",
       "      <td id=\"T_0b640_row4_col2\" class=\"data row4 col2\" >0.5019</td>\n",
       "      <td id=\"T_0b640_row4_col3\" class=\"data row4 col3\" >0.9793</td>\n",
       "      <td id=\"T_0b640_row4_col4\" class=\"data row4 col4\" >0.6636</td>\n",
       "      <td id=\"T_0b640_row4_col5\" class=\"data row4 col5\" >0.4912</td>\n",
       "      <td id=\"T_0b640_row4_col6\" class=\"data row4 col6\" >0.5626</td>\n",
       "    </tr>\n",
       "    <tr>\n",
       "      <th id=\"T_0b640_level0_row5\" class=\"row_heading level0 row5\" >5</th>\n",
       "      <td id=\"T_0b640_row5_col0\" class=\"data row5 col0\" >0.7474</td>\n",
       "      <td id=\"T_0b640_row5_col1\" class=\"data row5 col1\" >0.8703</td>\n",
       "      <td id=\"T_0b640_row5_col2\" class=\"data row5 col2\" >0.5036</td>\n",
       "      <td id=\"T_0b640_row5_col3\" class=\"data row5 col3\" >0.9830</td>\n",
       "      <td id=\"T_0b640_row5_col4\" class=\"data row5 col4\" >0.6660</td>\n",
       "      <td id=\"T_0b640_row5_col5\" class=\"data row5 col5\" >0.4949</td>\n",
       "      <td id=\"T_0b640_row5_col6\" class=\"data row5 col6\" >0.5668</td>\n",
       "    </tr>\n",
       "    <tr>\n",
       "      <th id=\"T_0b640_level0_row6\" class=\"row_heading level0 row6\" >6</th>\n",
       "      <td id=\"T_0b640_row6_col0\" class=\"data row6 col0\" >0.7459</td>\n",
       "      <td id=\"T_0b640_row6_col1\" class=\"data row6 col1\" >0.8689</td>\n",
       "      <td id=\"T_0b640_row6_col2\" class=\"data row6 col2\" >0.5051</td>\n",
       "      <td id=\"T_0b640_row6_col3\" class=\"data row6 col3\" >0.9745</td>\n",
       "      <td id=\"T_0b640_row6_col4\" class=\"data row6 col4\" >0.6653</td>\n",
       "      <td id=\"T_0b640_row6_col5\" class=\"data row6 col5\" >0.4918</td>\n",
       "      <td id=\"T_0b640_row6_col6\" class=\"data row6 col6\" >0.5612</td>\n",
       "    </tr>\n",
       "    <tr>\n",
       "      <th id=\"T_0b640_level0_row7\" class=\"row_heading level0 row7\" >7</th>\n",
       "      <td id=\"T_0b640_row7_col0\" class=\"data row7 col0\" >0.7432</td>\n",
       "      <td id=\"T_0b640_row7_col1\" class=\"data row7 col1\" >0.8660</td>\n",
       "      <td id=\"T_0b640_row7_col2\" class=\"data row7 col2\" >0.4974</td>\n",
       "      <td id=\"T_0b640_row7_col3\" class=\"data row7 col3\" >0.9784</td>\n",
       "      <td id=\"T_0b640_row7_col4\" class=\"data row7 col4\" >0.6595</td>\n",
       "      <td id=\"T_0b640_row7_col5\" class=\"data row7 col5\" >0.4864</td>\n",
       "      <td id=\"T_0b640_row7_col6\" class=\"data row7 col6\" >0.5586</td>\n",
       "    </tr>\n",
       "    <tr>\n",
       "      <th id=\"T_0b640_level0_row8\" class=\"row_heading level0 row8\" >8</th>\n",
       "      <td id=\"T_0b640_row8_col0\" class=\"data row8 col0\" >0.7449</td>\n",
       "      <td id=\"T_0b640_row8_col1\" class=\"data row8 col1\" >0.8680</td>\n",
       "      <td id=\"T_0b640_row8_col2\" class=\"data row8 col2\" >0.4976</td>\n",
       "      <td id=\"T_0b640_row8_col3\" class=\"data row8 col3\" >0.9848</td>\n",
       "      <td id=\"T_0b640_row8_col4\" class=\"data row8 col4\" >0.6611</td>\n",
       "      <td id=\"T_0b640_row8_col5\" class=\"data row8 col5\" >0.4899</td>\n",
       "      <td id=\"T_0b640_row8_col6\" class=\"data row8 col6\" >0.5637</td>\n",
       "    </tr>\n",
       "    <tr>\n",
       "      <th id=\"T_0b640_level0_row9\" class=\"row_heading level0 row9\" >9</th>\n",
       "      <td id=\"T_0b640_row9_col0\" class=\"data row9 col0\" >0.7449</td>\n",
       "      <td id=\"T_0b640_row9_col1\" class=\"data row9 col1\" >0.8680</td>\n",
       "      <td id=\"T_0b640_row9_col2\" class=\"data row9 col2\" >0.4996</td>\n",
       "      <td id=\"T_0b640_row9_col3\" class=\"data row9 col3\" >0.9810</td>\n",
       "      <td id=\"T_0b640_row9_col4\" class=\"data row9 col4\" >0.6620</td>\n",
       "      <td id=\"T_0b640_row9_col5\" class=\"data row9 col5\" >0.4898</td>\n",
       "      <td id=\"T_0b640_row9_col6\" class=\"data row9 col6\" >0.5622</td>\n",
       "    </tr>\n",
       "    <tr>\n",
       "      <th id=\"T_0b640_level0_row10\" class=\"row_heading level0 row10\" >Mean</th>\n",
       "      <td id=\"T_0b640_row10_col0\" class=\"data row10 col0\" >0.7454</td>\n",
       "      <td id=\"T_0b640_row10_col1\" class=\"data row10 col1\" >0.8684</td>\n",
       "      <td id=\"T_0b640_row10_col2\" class=\"data row10 col2\" >0.5003</td>\n",
       "      <td id=\"T_0b640_row10_col3\" class=\"data row10 col3\" >0.9815</td>\n",
       "      <td id=\"T_0b640_row10_col4\" class=\"data row10 col4\" >0.6628</td>\n",
       "      <td id=\"T_0b640_row10_col5\" class=\"data row10 col5\" >0.4908</td>\n",
       "      <td id=\"T_0b640_row10_col6\" class=\"data row10 col6\" >0.5632</td>\n",
       "    </tr>\n",
       "    <tr>\n",
       "      <th id=\"T_0b640_level0_row11\" class=\"row_heading level0 row11\" >Std</th>\n",
       "      <td id=\"T_0b640_row11_col0\" class=\"data row11 col0\" >0.0010</td>\n",
       "      <td id=\"T_0b640_row11_col1\" class=\"data row11 col1\" >0.0010</td>\n",
       "      <td id=\"T_0b640_row11_col2\" class=\"data row11 col2\" >0.0024</td>\n",
       "      <td id=\"T_0b640_row11_col3\" class=\"data row11 col3\" >0.0034</td>\n",
       "      <td id=\"T_0b640_row11_col4\" class=\"data row11 col4\" >0.0018</td>\n",
       "      <td id=\"T_0b640_row11_col5\" class=\"data row11 col5\" >0.0020</td>\n",
       "      <td id=\"T_0b640_row11_col6\" class=\"data row11 col6\" >0.0023</td>\n",
       "    </tr>\n",
       "  </tbody>\n",
       "</table>\n"
      ],
      "text/plain": [
       "<pandas.io.formats.style.Styler at 0x7fd0e8194fa0>"
      ]
     },
     "metadata": {},
     "output_type": "display_data"
    },
    {
     "data": {
      "text/html": [],
      "text/plain": [
       "<IPython.core.display.HTML object>"
      ]
     },
     "metadata": {},
     "output_type": "display_data"
    }
   ],
   "source": [
    "dt = create_model('dt')"
   ]
  },
  {
   "cell_type": "code",
   "execution_count": 17,
   "metadata": {},
   "outputs": [
    {
     "data": {
      "text/html": [],
      "text/plain": [
       "<IPython.core.display.HTML object>"
      ]
     },
     "metadata": {},
     "output_type": "display_data"
    },
    {
     "data": {
      "image/png": "[encoded data removed]",
      "text/plain": [
       "<Figure size 800x550 with 1 Axes>"
      ]
     },
     "metadata": {},
     "output_type": "display_data"
    }
   ],
   "source": [
    "plot_model(dt, plot = 'confusion_matrix')"
   ]
  },
  {
   "cell_type": "code",
   "execution_count": 18,
   "metadata": {},
   "outputs": [
    {
     "data": {
      "text/html": [],
      "text/plain": [
       "<IPython.core.display.HTML object>"
      ]
     },
     "metadata": {},
     "output_type": "display_data"
    },
    {
     "data": {
      "image/png": "[encoded data removed]",
      "text/plain": [
       "<Figure size 800x550 with 1 Axes>"
      ]
     },
     "metadata": {},
     "output_type": "display_data"
    }
   ],
   "source": [
    "plot_model(dt, plot = 'error')"
   ]
  },
  {
   "cell_type": "code",
   "execution_count": 19,
   "metadata": {},
   "outputs": [
    {
     "data": {
      "text/html": [],
      "text/plain": [
       "<IPython.core.display.HTML object>"
      ]
     },
     "metadata": {},
     "output_type": "display_data"
    },
    {
     "data": {
      "text/html": [
       "<div>\n",
       "<style scoped>\n",
       "    .dataframe tbody tr th:only-of-type {\n",
       "        vertical-align: middle;\n",
       "    }\n",
       "\n",
       "    .dataframe tbody tr th {\n",
       "        vertical-align: top;\n",
       "    }\n",
       "\n",
       "    .dataframe thead th {\n",
       "        text-align: right;\n",
       "    }\n",
       "</style>\n",
       "<table border=\"1\" class=\"dataframe\">\n",
       "  <thead>\n",
       "    <tr style=\"text-align: right;\">\n",
       "      <th></th>\n",
       "      <th>Parameters</th>\n",
       "    </tr>\n",
       "  </thead>\n",
       "  <tbody>\n",
       "    <tr>\n",
       "      <th>ccp_alpha</th>\n",
       "      <td>0.0</td>\n",
       "    </tr>\n",
       "    <tr>\n",
       "      <th>class_weight</th>\n",
       "      <td>None</td>\n",
       "    </tr>\n",
       "    <tr>\n",
       "      <th>criterion</th>\n",
       "      <td>gini</td>\n",
       "    </tr>\n",
       "    <tr>\n",
       "      <th>max_depth</th>\n",
       "      <td>None</td>\n",
       "    </tr>\n",
       "    <tr>\n",
       "      <th>max_features</th>\n",
       "      <td>None</td>\n",
       "    </tr>\n",
       "    <tr>\n",
       "      <th>max_leaf_nodes</th>\n",
       "      <td>None</td>\n",
       "    </tr>\n",
       "    <tr>\n",
       "      <th>min_impurity_decrease</th>\n",
       "      <td>0.0</td>\n",
       "    </tr>\n",
       "    <tr>\n",
       "      <th>min_samples_leaf</th>\n",
       "      <td>1</td>\n",
       "    </tr>\n",
       "    <tr>\n",
       "      <th>min_samples_split</th>\n",
       "      <td>2</td>\n",
       "    </tr>\n",
       "    <tr>\n",
       "      <th>min_weight_fraction_leaf</th>\n",
       "      <td>0.0</td>\n",
       "    </tr>\n",
       "    <tr>\n",
       "      <th>random_state</th>\n",
       "      <td>1187</td>\n",
       "    </tr>\n",
       "    <tr>\n",
       "      <th>splitter</th>\n",
       "      <td>best</td>\n",
       "    </tr>\n",
       "  </tbody>\n",
       "</table>\n",
       "</div>"
      ],
      "text/plain": [
       "                         Parameters\n",
       "ccp_alpha                       0.0\n",
       "class_weight                   None\n",
       "criterion                      gini\n",
       "max_depth                      None\n",
       "max_features                   None\n",
       "max_leaf_nodes                 None\n",
       "min_impurity_decrease           0.0\n",
       "min_samples_leaf                  1\n",
       "min_samples_split                 2\n",
       "min_weight_fraction_leaf        0.0\n",
       "random_state                   1187\n",
       "splitter                       best"
      ]
     },
     "metadata": {},
     "output_type": "display_data"
    }
   ],
   "source": [
    "plot_model(dt, plot = 'parameter')"
   ]
  },
  {
   "cell_type": "code",
   "execution_count": 20,
   "metadata": {},
   "outputs": [
    {
     "name": "stdout",
     "output_type": "stream",
     "text": [
      "Transformation Pipeline and Model Successfully Saved\n"
     ]
    },
    {
     "data": {
      "text/plain": [
       "(Pipeline(memory=FastMemory(location=/tmp/joblib),\n",
       "          steps=[('numerical_imputer',\n",
       "                  TransformerWrapper(exclude=None,\n",
       "                                     include=['0', '1', '2', '3', '4', '5', '6',\n",
       "                                              '7', '8', '9', '10', '11', '12',\n",
       "                                              '13', '14', '15', '16', '17', '18',\n",
       "                                              '19', '20', '21', '22', '23', '24',\n",
       "                                              '25', '26', '27', '28', '29', ...],\n",
       "                                     transformer=SimpleImputer(add_indicator=False,\n",
       "                                                               copy=True,\n",
       "                                                               fill_value=None,\n",
       "                                                               keep_empty_feat...\n",
       "                                                               missing_values=nan,\n",
       "                                                               strategy='most_frequent',\n",
       "                                                               verbose='deprecated'))),\n",
       "                 ('trained_model',\n",
       "                  DecisionTreeClassifier(ccp_alpha=0.0, class_weight=None,\n",
       "                                         criterion='gini', max_depth=None,\n",
       "                                         max_features=None, max_leaf_nodes=None,\n",
       "                                         min_impurity_decrease=0.0,\n",
       "                                         min_samples_leaf=1, min_samples_split=2,\n",
       "                                         min_weight_fraction_leaf=0.0,\n",
       "                                         random_state=1187, splitter='best'))],\n",
       "          verbose=False),\n",
       " 'models_classif/convkb/binary_emb_val/dt.pkl')"
      ]
     },
     "execution_count": 20,
     "metadata": {},
     "output_type": "execute_result"
    }
   ],
   "source": [
    "save_model(dt, 'models_classif/convkb/binary_emb_val/dt')"
   ]
  },
  {
   "cell_type": "markdown",
   "metadata": {},
   "source": [
    "# SVM - Linear Kernel"
   ]
  },
  {
   "cell_type": "code",
   "execution_count": 21,
   "metadata": {},
   "outputs": [
    {
     "data": {
      "text/html": [],
      "text/plain": [
       "<IPython.core.display.HTML object>"
      ]
     },
     "metadata": {},
     "output_type": "display_data"
    },
    {
     "data": {
      "text/html": [
       "<style type=\"text/css\">\n",
       "#T_bfd39_row10_col0, #T_bfd39_row10_col1, #T_bfd39_row10_col2, #T_bfd39_row10_col3, #T_bfd39_row10_col4, #T_bfd39_row10_col5, #T_bfd39_row10_col6 {\n",
       "  background: yellow;\n",
       "}\n",
       "</style>\n",
       "<table id=\"T_bfd39\">\n",
       "  <thead>\n",
       "    <tr>\n",
       "      <th class=\"blank level0\" >&nbsp;</th>\n",
       "      <th id=\"T_bfd39_level0_col0\" class=\"col_heading level0 col0\" >Accuracy</th>\n",
       "      <th id=\"T_bfd39_level0_col1\" class=\"col_heading level0 col1\" >AUC</th>\n",
       "      <th id=\"T_bfd39_level0_col2\" class=\"col_heading level0 col2\" >Recall</th>\n",
       "      <th id=\"T_bfd39_level0_col3\" class=\"col_heading level0 col3\" >Prec.</th>\n",
       "      <th id=\"T_bfd39_level0_col4\" class=\"col_heading level0 col4\" >F1</th>\n",
       "      <th id=\"T_bfd39_level0_col5\" class=\"col_heading level0 col5\" >Kappa</th>\n",
       "      <th id=\"T_bfd39_level0_col6\" class=\"col_heading level0 col6\" >MCC</th>\n",
       "    </tr>\n",
       "    <tr>\n",
       "      <th class=\"index_name level0\" >Fold</th>\n",
       "      <th class=\"blank col0\" >&nbsp;</th>\n",
       "      <th class=\"blank col1\" >&nbsp;</th>\n",
       "      <th class=\"blank col2\" >&nbsp;</th>\n",
       "      <th class=\"blank col3\" >&nbsp;</th>\n",
       "      <th class=\"blank col4\" >&nbsp;</th>\n",
       "      <th class=\"blank col5\" >&nbsp;</th>\n",
       "      <th class=\"blank col6\" >&nbsp;</th>\n",
       "    </tr>\n",
       "  </thead>\n",
       "  <tbody>\n",
       "    <tr>\n",
       "      <th id=\"T_bfd39_level0_row0\" class=\"row_heading level0 row0\" >0</th>\n",
       "      <td id=\"T_bfd39_row0_col0\" class=\"data row0 col0\" >0.6699</td>\n",
       "      <td id=\"T_bfd39_row0_col1\" class=\"data row0 col1\" >0.0000</td>\n",
       "      <td id=\"T_bfd39_row0_col2\" class=\"data row0 col2\" >0.7714</td>\n",
       "      <td id=\"T_bfd39_row0_col3\" class=\"data row0 col3\" >0.6413</td>\n",
       "      <td id=\"T_bfd39_row0_col4\" class=\"data row0 col4\" >0.7004</td>\n",
       "      <td id=\"T_bfd39_row0_col5\" class=\"data row0 col5\" >0.3398</td>\n",
       "      <td id=\"T_bfd39_row0_col6\" class=\"data row0 col6\" >0.3470</td>\n",
       "    </tr>\n",
       "    <tr>\n",
       "      <th id=\"T_bfd39_level0_row1\" class=\"row_heading level0 row1\" >1</th>\n",
       "      <td id=\"T_bfd39_row1_col0\" class=\"data row1 col0\" >0.6671</td>\n",
       "      <td id=\"T_bfd39_row1_col1\" class=\"data row1 col1\" >0.0000</td>\n",
       "      <td id=\"T_bfd39_row1_col2\" class=\"data row1 col2\" >0.7717</td>\n",
       "      <td id=\"T_bfd39_row1_col3\" class=\"data row1 col3\" >0.6383</td>\n",
       "      <td id=\"T_bfd39_row1_col4\" class=\"data row1 col4\" >0.6987</td>\n",
       "      <td id=\"T_bfd39_row1_col5\" class=\"data row1 col5\" >0.3342</td>\n",
       "      <td id=\"T_bfd39_row1_col6\" class=\"data row1 col6\" >0.3417</td>\n",
       "    </tr>\n",
       "    <tr>\n",
       "      <th id=\"T_bfd39_level0_row2\" class=\"row_heading level0 row2\" >2</th>\n",
       "      <td id=\"T_bfd39_row2_col0\" class=\"data row2 col0\" >0.6690</td>\n",
       "      <td id=\"T_bfd39_row2_col1\" class=\"data row2 col1\" >0.0000</td>\n",
       "      <td id=\"T_bfd39_row2_col2\" class=\"data row2 col2\" >0.7703</td>\n",
       "      <td id=\"T_bfd39_row2_col3\" class=\"data row2 col3\" >0.6406</td>\n",
       "      <td id=\"T_bfd39_row2_col4\" class=\"data row2 col4\" >0.6995</td>\n",
       "      <td id=\"T_bfd39_row2_col5\" class=\"data row2 col5\" >0.3379</td>\n",
       "      <td id=\"T_bfd39_row2_col6\" class=\"data row2 col6\" >0.3451</td>\n",
       "    </tr>\n",
       "    <tr>\n",
       "      <th id=\"T_bfd39_level0_row3\" class=\"row_heading level0 row3\" >3</th>\n",
       "      <td id=\"T_bfd39_row3_col0\" class=\"data row3 col0\" >0.6691</td>\n",
       "      <td id=\"T_bfd39_row3_col1\" class=\"data row3 col1\" >0.0000</td>\n",
       "      <td id=\"T_bfd39_row3_col2\" class=\"data row3 col2\" >0.7709</td>\n",
       "      <td id=\"T_bfd39_row3_col3\" class=\"data row3 col3\" >0.6406</td>\n",
       "      <td id=\"T_bfd39_row3_col4\" class=\"data row3 col4\" >0.6997</td>\n",
       "      <td id=\"T_bfd39_row3_col5\" class=\"data row3 col5\" >0.3382</td>\n",
       "      <td id=\"T_bfd39_row3_col6\" class=\"data row3 col6\" >0.3454</td>\n",
       "    </tr>\n",
       "    <tr>\n",
       "      <th id=\"T_bfd39_level0_row4\" class=\"row_heading level0 row4\" >4</th>\n",
       "      <td id=\"T_bfd39_row4_col0\" class=\"data row4 col0\" >0.6691</td>\n",
       "      <td id=\"T_bfd39_row4_col1\" class=\"data row4 col1\" >0.0000</td>\n",
       "      <td id=\"T_bfd39_row4_col2\" class=\"data row4 col2\" >0.7710</td>\n",
       "      <td id=\"T_bfd39_row4_col3\" class=\"data row4 col3\" >0.6405</td>\n",
       "      <td id=\"T_bfd39_row4_col4\" class=\"data row4 col4\" >0.6997</td>\n",
       "      <td id=\"T_bfd39_row4_col5\" class=\"data row4 col5\" >0.3381</td>\n",
       "      <td id=\"T_bfd39_row4_col6\" class=\"data row4 col6\" >0.3453</td>\n",
       "    </tr>\n",
       "    <tr>\n",
       "      <th id=\"T_bfd39_level0_row5\" class=\"row_heading level0 row5\" >5</th>\n",
       "      <td id=\"T_bfd39_row5_col0\" class=\"data row5 col0\" >0.6702</td>\n",
       "      <td id=\"T_bfd39_row5_col1\" class=\"data row5 col1\" >0.0000</td>\n",
       "      <td id=\"T_bfd39_row5_col2\" class=\"data row5 col2\" >0.7720</td>\n",
       "      <td id=\"T_bfd39_row5_col3\" class=\"data row5 col3\" >0.6414</td>\n",
       "      <td id=\"T_bfd39_row5_col4\" class=\"data row5 col4\" >0.7007</td>\n",
       "      <td id=\"T_bfd39_row5_col5\" class=\"data row5 col5\" >0.3403</td>\n",
       "      <td id=\"T_bfd39_row5_col6\" class=\"data row5 col6\" >0.3476</td>\n",
       "    </tr>\n",
       "    <tr>\n",
       "      <th id=\"T_bfd39_level0_row6\" class=\"row_heading level0 row6\" >6</th>\n",
       "      <td id=\"T_bfd39_row6_col0\" class=\"data row6 col0\" >0.6690</td>\n",
       "      <td id=\"T_bfd39_row6_col1\" class=\"data row6 col1\" >0.0000</td>\n",
       "      <td id=\"T_bfd39_row6_col2\" class=\"data row6 col2\" >0.7718</td>\n",
       "      <td id=\"T_bfd39_row6_col3\" class=\"data row6 col3\" >0.6403</td>\n",
       "      <td id=\"T_bfd39_row6_col4\" class=\"data row6 col4\" >0.6999</td>\n",
       "      <td id=\"T_bfd39_row6_col5\" class=\"data row6 col5\" >0.3380</td>\n",
       "      <td id=\"T_bfd39_row6_col6\" class=\"data row6 col6\" >0.3454</td>\n",
       "    </tr>\n",
       "    <tr>\n",
       "      <th id=\"T_bfd39_level0_row7\" class=\"row_heading level0 row7\" >7</th>\n",
       "      <td id=\"T_bfd39_row7_col0\" class=\"data row7 col0\" >0.6687</td>\n",
       "      <td id=\"T_bfd39_row7_col1\" class=\"data row7 col1\" >0.0000</td>\n",
       "      <td id=\"T_bfd39_row7_col2\" class=\"data row7 col2\" >0.7707</td>\n",
       "      <td id=\"T_bfd39_row7_col3\" class=\"data row7 col3\" >0.6402</td>\n",
       "      <td id=\"T_bfd39_row7_col4\" class=\"data row7 col4\" >0.6994</td>\n",
       "      <td id=\"T_bfd39_row7_col5\" class=\"data row7 col5\" >0.3374</td>\n",
       "      <td id=\"T_bfd39_row7_col6\" class=\"data row7 col6\" >0.3446</td>\n",
       "    </tr>\n",
       "    <tr>\n",
       "      <th id=\"T_bfd39_level0_row8\" class=\"row_heading level0 row8\" >8</th>\n",
       "      <td id=\"T_bfd39_row8_col0\" class=\"data row8 col0\" >0.6692</td>\n",
       "      <td id=\"T_bfd39_row8_col1\" class=\"data row8 col1\" >0.0000</td>\n",
       "      <td id=\"T_bfd39_row8_col2\" class=\"data row8 col2\" >0.7710</td>\n",
       "      <td id=\"T_bfd39_row8_col3\" class=\"data row8 col3\" >0.6406</td>\n",
       "      <td id=\"T_bfd39_row8_col4\" class=\"data row8 col4\" >0.6998</td>\n",
       "      <td id=\"T_bfd39_row8_col5\" class=\"data row8 col5\" >0.3383</td>\n",
       "      <td id=\"T_bfd39_row8_col6\" class=\"data row8 col6\" >0.3456</td>\n",
       "    </tr>\n",
       "    <tr>\n",
       "      <th id=\"T_bfd39_level0_row9\" class=\"row_heading level0 row9\" >9</th>\n",
       "      <td id=\"T_bfd39_row9_col0\" class=\"data row9 col0\" >0.6684</td>\n",
       "      <td id=\"T_bfd39_row9_col1\" class=\"data row9 col1\" >0.0000</td>\n",
       "      <td id=\"T_bfd39_row9_col2\" class=\"data row9 col2\" >0.7701</td>\n",
       "      <td id=\"T_bfd39_row9_col3\" class=\"data row9 col3\" >0.6400</td>\n",
       "      <td id=\"T_bfd39_row9_col4\" class=\"data row9 col4\" >0.6991</td>\n",
       "      <td id=\"T_bfd39_row9_col5\" class=\"data row9 col5\" >0.3368</td>\n",
       "      <td id=\"T_bfd39_row9_col6\" class=\"data row9 col6\" >0.3440</td>\n",
       "    </tr>\n",
       "    <tr>\n",
       "      <th id=\"T_bfd39_level0_row10\" class=\"row_heading level0 row10\" >Mean</th>\n",
       "      <td id=\"T_bfd39_row10_col0\" class=\"data row10 col0\" >0.6690</td>\n",
       "      <td id=\"T_bfd39_row10_col1\" class=\"data row10 col1\" >0.0000</td>\n",
       "      <td id=\"T_bfd39_row10_col2\" class=\"data row10 col2\" >0.7711</td>\n",
       "      <td id=\"T_bfd39_row10_col3\" class=\"data row10 col3\" >0.6404</td>\n",
       "      <td id=\"T_bfd39_row10_col4\" class=\"data row10 col4\" >0.6997</td>\n",
       "      <td id=\"T_bfd39_row10_col5\" class=\"data row10 col5\" >0.3379</td>\n",
       "      <td id=\"T_bfd39_row10_col6\" class=\"data row10 col6\" >0.3452</td>\n",
       "    </tr>\n",
       "    <tr>\n",
       "      <th id=\"T_bfd39_level0_row11\" class=\"row_heading level0 row11\" >Std</th>\n",
       "      <td id=\"T_bfd39_row11_col0\" class=\"data row11 col0\" >0.0008</td>\n",
       "      <td id=\"T_bfd39_row11_col1\" class=\"data row11 col1\" >0.0000</td>\n",
       "      <td id=\"T_bfd39_row11_col2\" class=\"data row11 col2\" >0.0006</td>\n",
       "      <td id=\"T_bfd39_row11_col3\" class=\"data row11 col3\" >0.0008</td>\n",
       "      <td id=\"T_bfd39_row11_col4\" class=\"data row11 col4\" >0.0006</td>\n",
       "      <td id=\"T_bfd39_row11_col5\" class=\"data row11 col5\" >0.0016</td>\n",
       "      <td id=\"T_bfd39_row11_col6\" class=\"data row11 col6\" >0.0015</td>\n",
       "    </tr>\n",
       "  </tbody>\n",
       "</table>\n"
      ],
      "text/plain": [
       "<pandas.io.formats.style.Styler at 0x7fd0e8195090>"
      ]
     },
     "metadata": {},
     "output_type": "display_data"
    },
    {
     "data": {
      "text/html": [],
      "text/plain": [
       "<IPython.core.display.HTML object>"
      ]
     },
     "metadata": {},
     "output_type": "display_data"
    }
   ],
   "source": [
    "svm = create_model('svm')"
   ]
  },
  {
   "cell_type": "code",
   "execution_count": 22,
   "metadata": {},
   "outputs": [
    {
     "data": {
      "text/html": [],
      "text/plain": [
       "<IPython.core.display.HTML object>"
      ]
     },
     "metadata": {},
     "output_type": "display_data"
    },
    {
     "data": {
      "image/png": "[encoded data removed]",
      "text/plain": [
       "<Figure size 800x550 with 1 Axes>"
      ]
     },
     "metadata": {},
     "output_type": "display_data"
    }
   ],
   "source": [
    "plot_model(svm, plot = 'confusion_matrix')"
   ]
  },
  {
   "cell_type": "code",
   "execution_count": 23,
   "metadata": {},
   "outputs": [
    {
     "data": {
      "text/html": [],
      "text/plain": [
       "<IPython.core.display.HTML object>"
      ]
     },
     "metadata": {},
     "output_type": "display_data"
    },
    {
     "data": {
      "image/png": "[encoded data removed]",
      "text/plain": [
       "<Figure size 800x550 with 1 Axes>"
      ]
     },
     "metadata": {},
     "output_type": "display_data"
    }
   ],
   "source": [
    "plot_model(svm, plot = 'error')"
   ]
  },
  {
   "cell_type": "code",
   "execution_count": 24,
   "metadata": {},
   "outputs": [
    {
     "data": {
      "text/html": [],
      "text/plain": [
       "<IPython.core.display.HTML object>"
      ]
     },
     "metadata": {},
     "output_type": "display_data"
    },
    {
     "data": {
      "text/html": [
       "<div>\n",
       "<style scoped>\n",
       "    .dataframe tbody tr th:only-of-type {\n",
       "        vertical-align: middle;\n",
       "    }\n",
       "\n",
       "    .dataframe tbody tr th {\n",
       "        vertical-align: top;\n",
       "    }\n",
       "\n",
       "    .dataframe thead th {\n",
       "        text-align: right;\n",
       "    }\n",
       "</style>\n",
       "<table border=\"1\" class=\"dataframe\">\n",
       "  <thead>\n",
       "    <tr style=\"text-align: right;\">\n",
       "      <th></th>\n",
       "      <th>Parameters</th>\n",
       "    </tr>\n",
       "  </thead>\n",
       "  <tbody>\n",
       "    <tr>\n",
       "      <th>alpha</th>\n",
       "      <td>0.0001</td>\n",
       "    </tr>\n",
       "    <tr>\n",
       "      <th>average</th>\n",
       "      <td>False</td>\n",
       "    </tr>\n",
       "    <tr>\n",
       "      <th>class_weight</th>\n",
       "      <td>None</td>\n",
       "    </tr>\n",
       "    <tr>\n",
       "      <th>early_stopping</th>\n",
       "      <td>False</td>\n",
       "    </tr>\n",
       "    <tr>\n",
       "      <th>epsilon</th>\n",
       "      <td>0.1</td>\n",
       "    </tr>\n",
       "    <tr>\n",
       "      <th>eta0</th>\n",
       "      <td>0.001</td>\n",
       "    </tr>\n",
       "    <tr>\n",
       "      <th>fit_intercept</th>\n",
       "      <td>True</td>\n",
       "    </tr>\n",
       "    <tr>\n",
       "      <th>l1_ratio</th>\n",
       "      <td>0.15</td>\n",
       "    </tr>\n",
       "    <tr>\n",
       "      <th>learning_rate</th>\n",
       "      <td>optimal</td>\n",
       "    </tr>\n",
       "    <tr>\n",
       "      <th>loss</th>\n",
       "      <td>hinge</td>\n",
       "    </tr>\n",
       "    <tr>\n",
       "      <th>max_iter</th>\n",
       "      <td>1000</td>\n",
       "    </tr>\n",
       "    <tr>\n",
       "      <th>n_iter_no_change</th>\n",
       "      <td>5</td>\n",
       "    </tr>\n",
       "    <tr>\n",
       "      <th>n_jobs</th>\n",
       "      <td>-1</td>\n",
       "    </tr>\n",
       "    <tr>\n",
       "      <th>penalty</th>\n",
       "      <td>l2</td>\n",
       "    </tr>\n",
       "    <tr>\n",
       "      <th>power_t</th>\n",
       "      <td>0.5</td>\n",
       "    </tr>\n",
       "    <tr>\n",
       "      <th>random_state</th>\n",
       "      <td>1187</td>\n",
       "    </tr>\n",
       "    <tr>\n",
       "      <th>shuffle</th>\n",
       "      <td>True</td>\n",
       "    </tr>\n",
       "    <tr>\n",
       "      <th>tol</th>\n",
       "      <td>0.001</td>\n",
       "    </tr>\n",
       "    <tr>\n",
       "      <th>validation_fraction</th>\n",
       "      <td>0.1</td>\n",
       "    </tr>\n",
       "    <tr>\n",
       "      <th>verbose</th>\n",
       "      <td>0</td>\n",
       "    </tr>\n",
       "    <tr>\n",
       "      <th>warm_start</th>\n",
       "      <td>False</td>\n",
       "    </tr>\n",
       "  </tbody>\n",
       "</table>\n",
       "</div>"
      ],
      "text/plain": [
       "                    Parameters\n",
       "alpha                   0.0001\n",
       "average                  False\n",
       "class_weight              None\n",
       "early_stopping           False\n",
       "epsilon                    0.1\n",
       "eta0                     0.001\n",
       "fit_intercept             True\n",
       "l1_ratio                  0.15\n",
       "learning_rate          optimal\n",
       "loss                     hinge\n",
       "max_iter                  1000\n",
       "n_iter_no_change             5\n",
       "n_jobs                      -1\n",
       "penalty                     l2\n",
       "power_t                    0.5\n",
       "random_state              1187\n",
       "shuffle                   True\n",
       "tol                      0.001\n",
       "validation_fraction        0.1\n",
       "verbose                      0\n",
       "warm_start               False"
      ]
     },
     "metadata": {},
     "output_type": "display_data"
    }
   ],
   "source": [
    "plot_model(svm, plot = 'parameter')"
   ]
  },
  {
   "cell_type": "code",
   "execution_count": 25,
   "metadata": {},
   "outputs": [
    {
     "name": "stdout",
     "output_type": "stream",
     "text": [
      "Transformation Pipeline and Model Successfully Saved\n"
     ]
    },
    {
     "data": {
      "text/plain": [
       "(Pipeline(memory=FastMemory(location=/tmp/joblib),\n",
       "          steps=[('numerical_imputer',\n",
       "                  TransformerWrapper(exclude=None,\n",
       "                                     include=['0', '1', '2', '3', '4', '5', '6',\n",
       "                                              '7', '8', '9', '10', '11', '12',\n",
       "                                              '13', '14', '15', '16', '17', '18',\n",
       "                                              '19', '20', '21', '22', '23', '24',\n",
       "                                              '25', '26', '27', '28', '29', ...],\n",
       "                                     transformer=SimpleImputer(add_indicator=False,\n",
       "                                                               copy=True,\n",
       "                                                               fill_value=None,\n",
       "                                                               keep_empty_feat...\n",
       "                  SGDClassifier(alpha=0.0001, average=False, class_weight=None,\n",
       "                                early_stopping=False, epsilon=0.1, eta0=0.001,\n",
       "                                fit_intercept=True, l1_ratio=0.15,\n",
       "                                learning_rate='optimal', loss='hinge',\n",
       "                                max_iter=1000, n_iter_no_change=5, n_jobs=-1,\n",
       "                                penalty='l2', power_t=0.5, random_state=1187,\n",
       "                                shuffle=True, tol=0.001, validation_fraction=0.1,\n",
       "                                verbose=0, warm_start=False))],\n",
       "          verbose=False),\n",
       " 'models_classif/convkb/binary_emb_val/svm.pkl')"
      ]
     },
     "execution_count": 25,
     "metadata": {},
     "output_type": "execute_result"
    }
   ],
   "source": [
    "save_model(svm, 'models_classif/convkb/binary_emb_val/svm')"
   ]
  },
  {
   "cell_type": "markdown",
   "metadata": {},
   "source": [
    "# Ridge Classifier"
   ]
  },
  {
   "cell_type": "code",
   "execution_count": 26,
   "metadata": {},
   "outputs": [
    {
     "data": {
      "text/html": [],
      "text/plain": [
       "<IPython.core.display.HTML object>"
      ]
     },
     "metadata": {},
     "output_type": "display_data"
    },
    {
     "data": {
      "text/html": [
       "<style type=\"text/css\">\n",
       "#T_5d408_row10_col0, #T_5d408_row10_col1, #T_5d408_row10_col2, #T_5d408_row10_col3, #T_5d408_row10_col4, #T_5d408_row10_col5, #T_5d408_row10_col6 {\n",
       "  background: yellow;\n",
       "}\n",
       "</style>\n",
       "<table id=\"T_5d408\">\n",
       "  <thead>\n",
       "    <tr>\n",
       "      <th class=\"blank level0\" >&nbsp;</th>\n",
       "      <th id=\"T_5d408_level0_col0\" class=\"col_heading level0 col0\" >Accuracy</th>\n",
       "      <th id=\"T_5d408_level0_col1\" class=\"col_heading level0 col1\" >AUC</th>\n",
       "      <th id=\"T_5d408_level0_col2\" class=\"col_heading level0 col2\" >Recall</th>\n",
       "      <th id=\"T_5d408_level0_col3\" class=\"col_heading level0 col3\" >Prec.</th>\n",
       "      <th id=\"T_5d408_level0_col4\" class=\"col_heading level0 col4\" >F1</th>\n",
       "      <th id=\"T_5d408_level0_col5\" class=\"col_heading level0 col5\" >Kappa</th>\n",
       "      <th id=\"T_5d408_level0_col6\" class=\"col_heading level0 col6\" >MCC</th>\n",
       "    </tr>\n",
       "    <tr>\n",
       "      <th class=\"index_name level0\" >Fold</th>\n",
       "      <th class=\"blank col0\" >&nbsp;</th>\n",
       "      <th class=\"blank col1\" >&nbsp;</th>\n",
       "      <th class=\"blank col2\" >&nbsp;</th>\n",
       "      <th class=\"blank col3\" >&nbsp;</th>\n",
       "      <th class=\"blank col4\" >&nbsp;</th>\n",
       "      <th class=\"blank col5\" >&nbsp;</th>\n",
       "      <th class=\"blank col6\" >&nbsp;</th>\n",
       "    </tr>\n",
       "  </thead>\n",
       "  <tbody>\n",
       "    <tr>\n",
       "      <th id=\"T_5d408_level0_row0\" class=\"row_heading level0 row0\" >0</th>\n",
       "      <td id=\"T_5d408_row0_col0\" class=\"data row0 col0\" >0.6717</td>\n",
       "      <td id=\"T_5d408_row0_col1\" class=\"data row0 col1\" >0.0000</td>\n",
       "      <td id=\"T_5d408_row0_col2\" class=\"data row0 col2\" >0.8007</td>\n",
       "      <td id=\"T_5d408_row0_col3\" class=\"data row0 col3\" >0.6366</td>\n",
       "      <td id=\"T_5d408_row0_col4\" class=\"data row0 col4\" >0.7093</td>\n",
       "      <td id=\"T_5d408_row0_col5\" class=\"data row0 col5\" >0.3435</td>\n",
       "      <td id=\"T_5d408_row0_col6\" class=\"data row0 col6\" >0.3555</td>\n",
       "    </tr>\n",
       "    <tr>\n",
       "      <th id=\"T_5d408_level0_row1\" class=\"row_heading level0 row1\" >1</th>\n",
       "      <td id=\"T_5d408_row1_col0\" class=\"data row1 col0\" >0.6690</td>\n",
       "      <td id=\"T_5d408_row1_col1\" class=\"data row1 col1\" >0.0000</td>\n",
       "      <td id=\"T_5d408_row1_col2\" class=\"data row1 col2\" >0.8019</td>\n",
       "      <td id=\"T_5d408_row1_col3\" class=\"data row1 col3\" >0.6336</td>\n",
       "      <td id=\"T_5d408_row1_col4\" class=\"data row1 col4\" >0.7079</td>\n",
       "      <td id=\"T_5d408_row1_col5\" class=\"data row1 col5\" >0.3380</td>\n",
       "      <td id=\"T_5d408_row1_col6\" class=\"data row1 col6\" >0.3506</td>\n",
       "    </tr>\n",
       "    <tr>\n",
       "      <th id=\"T_5d408_level0_row2\" class=\"row_heading level0 row2\" >2</th>\n",
       "      <td id=\"T_5d408_row2_col0\" class=\"data row2 col0\" >0.6711</td>\n",
       "      <td id=\"T_5d408_row2_col1\" class=\"data row2 col1\" >0.0000</td>\n",
       "      <td id=\"T_5d408_row2_col2\" class=\"data row2 col2\" >0.8008</td>\n",
       "      <td id=\"T_5d408_row2_col3\" class=\"data row2 col3\" >0.6360</td>\n",
       "      <td id=\"T_5d408_row2_col4\" class=\"data row2 col4\" >0.7089</td>\n",
       "      <td id=\"T_5d408_row2_col5\" class=\"data row2 col5\" >0.3422</td>\n",
       "      <td id=\"T_5d408_row2_col6\" class=\"data row2 col6\" >0.3544</td>\n",
       "    </tr>\n",
       "    <tr>\n",
       "      <th id=\"T_5d408_level0_row3\" class=\"row_heading level0 row3\" >3</th>\n",
       "      <td id=\"T_5d408_row3_col0\" class=\"data row3 col0\" >0.6711</td>\n",
       "      <td id=\"T_5d408_row3_col1\" class=\"data row3 col1\" >0.0000</td>\n",
       "      <td id=\"T_5d408_row3_col2\" class=\"data row3 col2\" >0.8013</td>\n",
       "      <td id=\"T_5d408_row3_col3\" class=\"data row3 col3\" >0.6358</td>\n",
       "      <td id=\"T_5d408_row3_col4\" class=\"data row3 col4\" >0.7090</td>\n",
       "      <td id=\"T_5d408_row3_col5\" class=\"data row3 col5\" >0.3422</td>\n",
       "      <td id=\"T_5d408_row3_col6\" class=\"data row3 col6\" >0.3544</td>\n",
       "    </tr>\n",
       "    <tr>\n",
       "      <th id=\"T_5d408_level0_row4\" class=\"row_heading level0 row4\" >4</th>\n",
       "      <td id=\"T_5d408_row4_col0\" class=\"data row4 col0\" >0.6708</td>\n",
       "      <td id=\"T_5d408_row4_col1\" class=\"data row4 col1\" >0.0000</td>\n",
       "      <td id=\"T_5d408_row4_col2\" class=\"data row4 col2\" >0.8006</td>\n",
       "      <td id=\"T_5d408_row4_col3\" class=\"data row4 col3\" >0.6357</td>\n",
       "      <td id=\"T_5d408_row4_col4\" class=\"data row4 col4\" >0.7087</td>\n",
       "      <td id=\"T_5d408_row4_col5\" class=\"data row4 col5\" >0.3416</td>\n",
       "      <td id=\"T_5d408_row4_col6\" class=\"data row4 col6\" >0.3537</td>\n",
       "    </tr>\n",
       "    <tr>\n",
       "      <th id=\"T_5d408_level0_row5\" class=\"row_heading level0 row5\" >5</th>\n",
       "      <td id=\"T_5d408_row5_col0\" class=\"data row5 col0\" >0.6713</td>\n",
       "      <td id=\"T_5d408_row5_col1\" class=\"data row5 col1\" >0.0000</td>\n",
       "      <td id=\"T_5d408_row5_col2\" class=\"data row5 col2\" >0.8020</td>\n",
       "      <td id=\"T_5d408_row5_col3\" class=\"data row5 col3\" >0.6358</td>\n",
       "      <td id=\"T_5d408_row5_col4\" class=\"data row5 col4\" >0.7093</td>\n",
       "      <td id=\"T_5d408_row5_col5\" class=\"data row5 col5\" >0.3425</td>\n",
       "      <td id=\"T_5d408_row5_col6\" class=\"data row5 col6\" >0.3548</td>\n",
       "    </tr>\n",
       "    <tr>\n",
       "      <th id=\"T_5d408_level0_row6\" class=\"row_heading level0 row6\" >6</th>\n",
       "      <td id=\"T_5d408_row6_col0\" class=\"data row6 col0\" >0.6709</td>\n",
       "      <td id=\"T_5d408_row6_col1\" class=\"data row6 col1\" >0.0000</td>\n",
       "      <td id=\"T_5d408_row6_col2\" class=\"data row6 col2\" >0.8012</td>\n",
       "      <td id=\"T_5d408_row6_col3\" class=\"data row6 col3\" >0.6356</td>\n",
       "      <td id=\"T_5d408_row6_col4\" class=\"data row6 col4\" >0.7089</td>\n",
       "      <td id=\"T_5d408_row6_col5\" class=\"data row6 col5\" >0.3417</td>\n",
       "      <td id=\"T_5d408_row6_col6\" class=\"data row6 col6\" >0.3539</td>\n",
       "    </tr>\n",
       "    <tr>\n",
       "      <th id=\"T_5d408_level0_row7\" class=\"row_heading level0 row7\" >7</th>\n",
       "      <td id=\"T_5d408_row7_col0\" class=\"data row7 col0\" >0.6703</td>\n",
       "      <td id=\"T_5d408_row7_col1\" class=\"data row7 col1\" >0.0000</td>\n",
       "      <td id=\"T_5d408_row7_col2\" class=\"data row7 col2\" >0.8002</td>\n",
       "      <td id=\"T_5d408_row7_col3\" class=\"data row7 col3\" >0.6352</td>\n",
       "      <td id=\"T_5d408_row7_col4\" class=\"data row7 col4\" >0.7083</td>\n",
       "      <td id=\"T_5d408_row7_col5\" class=\"data row7 col5\" >0.3405</td>\n",
       "      <td id=\"T_5d408_row7_col6\" class=\"data row7 col6\" >0.3526</td>\n",
       "    </tr>\n",
       "    <tr>\n",
       "      <th id=\"T_5d408_level0_row8\" class=\"row_heading level0 row8\" >8</th>\n",
       "      <td id=\"T_5d408_row8_col0\" class=\"data row8 col0\" >0.6702</td>\n",
       "      <td id=\"T_5d408_row8_col1\" class=\"data row8 col1\" >0.0000</td>\n",
       "      <td id=\"T_5d408_row8_col2\" class=\"data row8 col2\" >0.7994</td>\n",
       "      <td id=\"T_5d408_row8_col3\" class=\"data row8 col3\" >0.6353</td>\n",
       "      <td id=\"T_5d408_row8_col4\" class=\"data row8 col4\" >0.7080</td>\n",
       "      <td id=\"T_5d408_row8_col5\" class=\"data row8 col5\" >0.3404</td>\n",
       "      <td id=\"T_5d408_row8_col6\" class=\"data row8 col6\" >0.3523</td>\n",
       "    </tr>\n",
       "    <tr>\n",
       "      <th id=\"T_5d408_level0_row9\" class=\"row_heading level0 row9\" >9</th>\n",
       "      <td id=\"T_5d408_row9_col0\" class=\"data row9 col0\" >0.6701</td>\n",
       "      <td id=\"T_5d408_row9_col1\" class=\"data row9 col1\" >0.0000</td>\n",
       "      <td id=\"T_5d408_row9_col2\" class=\"data row9 col2\" >0.8005</td>\n",
       "      <td id=\"T_5d408_row9_col3\" class=\"data row9 col3\" >0.6350</td>\n",
       "      <td id=\"T_5d408_row9_col4\" class=\"data row9 col4\" >0.7082</td>\n",
       "      <td id=\"T_5d408_row9_col5\" class=\"data row9 col5\" >0.3401</td>\n",
       "      <td id=\"T_5d408_row9_col6\" class=\"data row9 col6\" >0.3523</td>\n",
       "    </tr>\n",
       "    <tr>\n",
       "      <th id=\"T_5d408_level0_row10\" class=\"row_heading level0 row10\" >Mean</th>\n",
       "      <td id=\"T_5d408_row10_col0\" class=\"data row10 col0\" >0.6706</td>\n",
       "      <td id=\"T_5d408_row10_col1\" class=\"data row10 col1\" >0.0000</td>\n",
       "      <td id=\"T_5d408_row10_col2\" class=\"data row10 col2\" >0.8009</td>\n",
       "      <td id=\"T_5d408_row10_col3\" class=\"data row10 col3\" >0.6355</td>\n",
       "      <td id=\"T_5d408_row10_col4\" class=\"data row10 col4\" >0.7086</td>\n",
       "      <td id=\"T_5d408_row10_col5\" class=\"data row10 col5\" >0.3413</td>\n",
       "      <td id=\"T_5d408_row10_col6\" class=\"data row10 col6\" >0.3534</td>\n",
       "    </tr>\n",
       "    <tr>\n",
       "      <th id=\"T_5d408_level0_row11\" class=\"row_heading level0 row11\" >Std</th>\n",
       "      <td id=\"T_5d408_row11_col0\" class=\"data row11 col0\" >0.0007</td>\n",
       "      <td id=\"T_5d408_row11_col1\" class=\"data row11 col1\" >0.0000</td>\n",
       "      <td id=\"T_5d408_row11_col2\" class=\"data row11 col2\" >0.0007</td>\n",
       "      <td id=\"T_5d408_row11_col3\" class=\"data row11 col3\" >0.0008</td>\n",
       "      <td id=\"T_5d408_row11_col4\" class=\"data row11 col4\" >0.0005</td>\n",
       "      <td id=\"T_5d408_row11_col5\" class=\"data row11 col5\" >0.0015</td>\n",
       "      <td id=\"T_5d408_row11_col6\" class=\"data row11 col6\" >0.0014</td>\n",
       "    </tr>\n",
       "  </tbody>\n",
       "</table>\n"
      ],
      "text/plain": [
       "<pandas.io.formats.style.Styler at 0x7fd106603730>"
      ]
     },
     "metadata": {},
     "output_type": "display_data"
    },
    {
     "data": {
      "text/html": [],
      "text/plain": [
       "<IPython.core.display.HTML object>"
      ]
     },
     "metadata": {},
     "output_type": "display_data"
    }
   ],
   "source": [
    "ridge = create_model('ridge')"
   ]
  },
  {
   "cell_type": "code",
   "execution_count": 27,
   "metadata": {},
   "outputs": [
    {
     "data": {
      "text/html": [],
      "text/plain": [
       "<IPython.core.display.HTML object>"
      ]
     },
     "metadata": {},
     "output_type": "display_data"
    },
    {
     "data": {
      "image/png": "[encoded data removed]",
      "text/plain": [
       "<Figure size 800x550 with 1 Axes>"
      ]
     },
     "metadata": {},
     "output_type": "display_data"
    }
   ],
   "source": [
    "plot_model(ridge, plot = 'confusion_matrix')"
   ]
  },
  {
   "cell_type": "code",
   "execution_count": 28,
   "metadata": {},
   "outputs": [
    {
     "data": {
      "text/html": [],
      "text/plain": [
       "<IPython.core.display.HTML object>"
      ]
     },
     "metadata": {},
     "output_type": "display_data"
    },
    {
     "data": {
      "image/png": "[encoded data removed]",
      "text/plain": [
       "<Figure size 800x550 with 1 Axes>"
      ]
     },
     "metadata": {},
     "output_type": "display_data"
    }
   ],
   "source": [
    "plot_model(ridge, plot = 'error')"
   ]
  },
  {
   "cell_type": "code",
   "execution_count": 29,
   "metadata": {},
   "outputs": [
    {
     "data": {
      "text/html": [],
      "text/plain": [
       "<IPython.core.display.HTML object>"
      ]
     },
     "metadata": {},
     "output_type": "display_data"
    },
    {
     "data": {
      "text/html": [
       "<div>\n",
       "<style scoped>\n",
       "    .dataframe tbody tr th:only-of-type {\n",
       "        vertical-align: middle;\n",
       "    }\n",
       "\n",
       "    .dataframe tbody tr th {\n",
       "        vertical-align: top;\n",
       "    }\n",
       "\n",
       "    .dataframe thead th {\n",
       "        text-align: right;\n",
       "    }\n",
       "</style>\n",
       "<table border=\"1\" class=\"dataframe\">\n",
       "  <thead>\n",
       "    <tr style=\"text-align: right;\">\n",
       "      <th></th>\n",
       "      <th>Parameters</th>\n",
       "    </tr>\n",
       "  </thead>\n",
       "  <tbody>\n",
       "    <tr>\n",
       "      <th>alpha</th>\n",
       "      <td>1.0</td>\n",
       "    </tr>\n",
       "    <tr>\n",
       "      <th>class_weight</th>\n",
       "      <td>None</td>\n",
       "    </tr>\n",
       "    <tr>\n",
       "      <th>copy_X</th>\n",
       "      <td>True</td>\n",
       "    </tr>\n",
       "    <tr>\n",
       "      <th>fit_intercept</th>\n",
       "      <td>True</td>\n",
       "    </tr>\n",
       "    <tr>\n",
       "      <th>max_iter</th>\n",
       "      <td>None</td>\n",
       "    </tr>\n",
       "    <tr>\n",
       "      <th>positive</th>\n",
       "      <td>False</td>\n",
       "    </tr>\n",
       "    <tr>\n",
       "      <th>random_state</th>\n",
       "      <td>1187</td>\n",
       "    </tr>\n",
       "    <tr>\n",
       "      <th>solver</th>\n",
       "      <td>auto</td>\n",
       "    </tr>\n",
       "    <tr>\n",
       "      <th>tol</th>\n",
       "      <td>0.0001</td>\n",
       "    </tr>\n",
       "  </tbody>\n",
       "</table>\n",
       "</div>"
      ],
      "text/plain": [
       "              Parameters\n",
       "alpha                1.0\n",
       "class_weight        None\n",
       "copy_X              True\n",
       "fit_intercept       True\n",
       "max_iter            None\n",
       "positive           False\n",
       "random_state        1187\n",
       "solver              auto\n",
       "tol               0.0001"
      ]
     },
     "metadata": {},
     "output_type": "display_data"
    }
   ],
   "source": [
    "plot_model(ridge, plot = 'parameter')"
   ]
  },
  {
   "cell_type": "code",
   "execution_count": 30,
   "metadata": {},
   "outputs": [
    {
     "name": "stdout",
     "output_type": "stream",
     "text": [
      "Transformation Pipeline and Model Successfully Saved\n"
     ]
    },
    {
     "data": {
      "text/plain": [
       "(Pipeline(memory=FastMemory(location=/tmp/joblib),\n",
       "          steps=[('numerical_imputer',\n",
       "                  TransformerWrapper(exclude=None,\n",
       "                                     include=['0', '1', '2', '3', '4', '5', '6',\n",
       "                                              '7', '8', '9', '10', '11', '12',\n",
       "                                              '13', '14', '15', '16', '17', '18',\n",
       "                                              '19', '20', '21', '22', '23', '24',\n",
       "                                              '25', '26', '27', '28', '29', ...],\n",
       "                                     transformer=SimpleImputer(add_indicator=False,\n",
       "                                                               copy=True,\n",
       "                                                               fill_value=None,\n",
       "                                                               keep_empty_feat...\n",
       "                  TransformerWrapper(exclude=None, include=[],\n",
       "                                     transformer=SimpleImputer(add_indicator=False,\n",
       "                                                               copy=True,\n",
       "                                                               fill_value=None,\n",
       "                                                               keep_empty_features=False,\n",
       "                                                               missing_values=nan,\n",
       "                                                               strategy='most_frequent',\n",
       "                                                               verbose='deprecated'))),\n",
       "                 ('trained_model',\n",
       "                  RidgeClassifier(alpha=1.0, class_weight=None, copy_X=True,\n",
       "                                  fit_intercept=True, max_iter=None,\n",
       "                                  positive=False, random_state=1187,\n",
       "                                  solver='auto', tol=0.0001))],\n",
       "          verbose=False),\n",
       " 'models_classif/convkb/binary_emb_val/ridge.pkl')"
      ]
     },
     "execution_count": 30,
     "metadata": {},
     "output_type": "execute_result"
    }
   ],
   "source": [
    "save_model(ridge, 'models_classif/convkb/binary_emb_val/ridge')"
   ]
  },
  {
   "cell_type": "markdown",
   "metadata": {},
   "source": [
    "# Random Forest"
   ]
  },
  {
   "cell_type": "code",
   "execution_count": 31,
   "metadata": {},
   "outputs": [
    {
     "data": {
      "text/html": [],
      "text/plain": [
       "<IPython.core.display.HTML object>"
      ]
     },
     "metadata": {},
     "output_type": "display_data"
    },
    {
     "data": {
      "text/html": [
       "<style type=\"text/css\">\n",
       "#T_81401_row10_col0, #T_81401_row10_col1, #T_81401_row10_col2, #T_81401_row10_col3, #T_81401_row10_col4, #T_81401_row10_col5, #T_81401_row10_col6 {\n",
       "  background: yellow;\n",
       "}\n",
       "</style>\n",
       "<table id=\"T_81401\">\n",
       "  <thead>\n",
       "    <tr>\n",
       "      <th class=\"blank level0\" >&nbsp;</th>\n",
       "      <th id=\"T_81401_level0_col0\" class=\"col_heading level0 col0\" >Accuracy</th>\n",
       "      <th id=\"T_81401_level0_col1\" class=\"col_heading level0 col1\" >AUC</th>\n",
       "      <th id=\"T_81401_level0_col2\" class=\"col_heading level0 col2\" >Recall</th>\n",
       "      <th id=\"T_81401_level0_col3\" class=\"col_heading level0 col3\" >Prec.</th>\n",
       "      <th id=\"T_81401_level0_col4\" class=\"col_heading level0 col4\" >F1</th>\n",
       "      <th id=\"T_81401_level0_col5\" class=\"col_heading level0 col5\" >Kappa</th>\n",
       "      <th id=\"T_81401_level0_col6\" class=\"col_heading level0 col6\" >MCC</th>\n",
       "    </tr>\n",
       "    <tr>\n",
       "      <th class=\"index_name level0\" >Fold</th>\n",
       "      <th class=\"blank col0\" >&nbsp;</th>\n",
       "      <th class=\"blank col1\" >&nbsp;</th>\n",
       "      <th class=\"blank col2\" >&nbsp;</th>\n",
       "      <th class=\"blank col3\" >&nbsp;</th>\n",
       "      <th class=\"blank col4\" >&nbsp;</th>\n",
       "      <th class=\"blank col5\" >&nbsp;</th>\n",
       "      <th class=\"blank col6\" >&nbsp;</th>\n",
       "    </tr>\n",
       "  </thead>\n",
       "  <tbody>\n",
       "    <tr>\n",
       "      <th id=\"T_81401_level0_row0\" class=\"row_heading level0 row0\" >0</th>\n",
       "      <td id=\"T_81401_row0_col0\" class=\"data row0 col0\" >0.7481</td>\n",
       "      <td id=\"T_81401_row0_col1\" class=\"data row0 col1\" >0.8730</td>\n",
       "      <td id=\"T_81401_row0_col2\" class=\"data row0 col2\" >0.7505</td>\n",
       "      <td id=\"T_81401_row0_col3\" class=\"data row0 col3\" >0.7471</td>\n",
       "      <td id=\"T_81401_row0_col4\" class=\"data row0 col4\" >0.7488</td>\n",
       "      <td id=\"T_81401_row0_col5\" class=\"data row0 col5\" >0.4963</td>\n",
       "      <td id=\"T_81401_row0_col6\" class=\"data row0 col6\" >0.4963</td>\n",
       "    </tr>\n",
       "    <tr>\n",
       "      <th id=\"T_81401_level0_row1\" class=\"row_heading level0 row1\" >1</th>\n",
       "      <td id=\"T_81401_row1_col0\" class=\"data row1 col0\" >0.7471</td>\n",
       "      <td id=\"T_81401_row1_col1\" class=\"data row1 col1\" >0.8720</td>\n",
       "      <td id=\"T_81401_row1_col2\" class=\"data row1 col2\" >0.7500</td>\n",
       "      <td id=\"T_81401_row1_col3\" class=\"data row1 col3\" >0.7457</td>\n",
       "      <td id=\"T_81401_row1_col4\" class=\"data row1 col4\" >0.7478</td>\n",
       "      <td id=\"T_81401_row1_col5\" class=\"data row1 col5\" >0.4941</td>\n",
       "      <td id=\"T_81401_row1_col6\" class=\"data row1 col6\" >0.4941</td>\n",
       "    </tr>\n",
       "    <tr>\n",
       "      <th id=\"T_81401_level0_row2\" class=\"row_heading level0 row2\" >2</th>\n",
       "      <td id=\"T_81401_row2_col0\" class=\"data row2 col0\" >0.7475</td>\n",
       "      <td id=\"T_81401_row2_col1\" class=\"data row2 col1\" >0.8723</td>\n",
       "      <td id=\"T_81401_row2_col2\" class=\"data row2 col2\" >0.7495</td>\n",
       "      <td id=\"T_81401_row2_col3\" class=\"data row2 col3\" >0.7465</td>\n",
       "      <td id=\"T_81401_row2_col4\" class=\"data row2 col4\" >0.7480</td>\n",
       "      <td id=\"T_81401_row2_col5\" class=\"data row2 col5\" >0.4949</td>\n",
       "      <td id=\"T_81401_row2_col6\" class=\"data row2 col6\" >0.4950</td>\n",
       "    </tr>\n",
       "    <tr>\n",
       "      <th id=\"T_81401_level0_row3\" class=\"row_heading level0 row3\" >3</th>\n",
       "      <td id=\"T_81401_row3_col0\" class=\"data row3 col0\" >0.7478</td>\n",
       "      <td id=\"T_81401_row3_col1\" class=\"data row3 col1\" >0.8727</td>\n",
       "      <td id=\"T_81401_row3_col2\" class=\"data row3 col2\" >0.7489</td>\n",
       "      <td id=\"T_81401_row3_col3\" class=\"data row3 col3\" >0.7473</td>\n",
       "      <td id=\"T_81401_row3_col4\" class=\"data row3 col4\" >0.7481</td>\n",
       "      <td id=\"T_81401_row3_col5\" class=\"data row3 col5\" >0.4955</td>\n",
       "      <td id=\"T_81401_row3_col6\" class=\"data row3 col6\" >0.4955</td>\n",
       "    </tr>\n",
       "    <tr>\n",
       "      <th id=\"T_81401_level0_row4\" class=\"row_heading level0 row4\" >4</th>\n",
       "      <td id=\"T_81401_row4_col0\" class=\"data row4 col0\" >0.7478</td>\n",
       "      <td id=\"T_81401_row4_col1\" class=\"data row4 col1\" >0.8727</td>\n",
       "      <td id=\"T_81401_row4_col2\" class=\"data row4 col2\" >0.7527</td>\n",
       "      <td id=\"T_81401_row4_col3\" class=\"data row4 col3\" >0.7456</td>\n",
       "      <td id=\"T_81401_row4_col4\" class=\"data row4 col4\" >0.7491</td>\n",
       "      <td id=\"T_81401_row4_col5\" class=\"data row4 col5\" >0.4957</td>\n",
       "      <td id=\"T_81401_row4_col6\" class=\"data row4 col6\" >0.4957</td>\n",
       "    </tr>\n",
       "    <tr>\n",
       "      <th id=\"T_81401_level0_row5\" class=\"row_heading level0 row5\" >5</th>\n",
       "      <td id=\"T_81401_row5_col0\" class=\"data row5 col0\" >0.7495</td>\n",
       "      <td id=\"T_81401_row5_col1\" class=\"data row5 col1\" >0.8744</td>\n",
       "      <td id=\"T_81401_row5_col2\" class=\"data row5 col2\" >0.7524</td>\n",
       "      <td id=\"T_81401_row5_col3\" class=\"data row5 col3\" >0.7482</td>\n",
       "      <td id=\"T_81401_row5_col4\" class=\"data row5 col4\" >0.7503</td>\n",
       "      <td id=\"T_81401_row5_col5\" class=\"data row5 col5\" >0.4990</td>\n",
       "      <td id=\"T_81401_row5_col6\" class=\"data row5 col6\" >0.4990</td>\n",
       "    </tr>\n",
       "    <tr>\n",
       "      <th id=\"T_81401_level0_row6\" class=\"row_heading level0 row6\" >6</th>\n",
       "      <td id=\"T_81401_row6_col0\" class=\"data row6 col0\" >0.7481</td>\n",
       "      <td id=\"T_81401_row6_col1\" class=\"data row6 col1\" >0.8730</td>\n",
       "      <td id=\"T_81401_row6_col2\" class=\"data row6 col2\" >0.7547</td>\n",
       "      <td id=\"T_81401_row6_col3\" class=\"data row6 col3\" >0.7450</td>\n",
       "      <td id=\"T_81401_row6_col4\" class=\"data row6 col4\" >0.7498</td>\n",
       "      <td id=\"T_81401_row6_col5\" class=\"data row6 col5\" >0.4962</td>\n",
       "      <td id=\"T_81401_row6_col6\" class=\"data row6 col6\" >0.4963</td>\n",
       "    </tr>\n",
       "    <tr>\n",
       "      <th id=\"T_81401_level0_row7\" class=\"row_heading level0 row7\" >7</th>\n",
       "      <td id=\"T_81401_row7_col0\" class=\"data row7 col0\" >0.7454</td>\n",
       "      <td id=\"T_81401_row7_col1\" class=\"data row7 col1\" >0.8703</td>\n",
       "      <td id=\"T_81401_row7_col2\" class=\"data row7 col2\" >0.7472</td>\n",
       "      <td id=\"T_81401_row7_col3\" class=\"data row7 col3\" >0.7446</td>\n",
       "      <td id=\"T_81401_row7_col4\" class=\"data row7 col4\" >0.7459</td>\n",
       "      <td id=\"T_81401_row7_col5\" class=\"data row7 col5\" >0.4907</td>\n",
       "      <td id=\"T_81401_row7_col6\" class=\"data row7 col6\" >0.4907</td>\n",
       "    </tr>\n",
       "    <tr>\n",
       "      <th id=\"T_81401_level0_row8\" class=\"row_heading level0 row8\" >8</th>\n",
       "      <td id=\"T_81401_row8_col0\" class=\"data row8 col0\" >0.7472</td>\n",
       "      <td id=\"T_81401_row8_col1\" class=\"data row8 col1\" >0.8721</td>\n",
       "      <td id=\"T_81401_row8_col2\" class=\"data row8 col2\" >0.7460</td>\n",
       "      <td id=\"T_81401_row8_col3\" class=\"data row8 col3\" >0.7479</td>\n",
       "      <td id=\"T_81401_row8_col4\" class=\"data row8 col4\" >0.7470</td>\n",
       "      <td id=\"T_81401_row8_col5\" class=\"data row8 col5\" >0.4945</td>\n",
       "      <td id=\"T_81401_row8_col6\" class=\"data row8 col6\" >0.4945</td>\n",
       "    </tr>\n",
       "    <tr>\n",
       "      <th id=\"T_81401_level0_row9\" class=\"row_heading level0 row9\" >9</th>\n",
       "      <td id=\"T_81401_row9_col0\" class=\"data row9 col0\" >0.7472</td>\n",
       "      <td id=\"T_81401_row9_col1\" class=\"data row9 col1\" >0.8720</td>\n",
       "      <td id=\"T_81401_row9_col2\" class=\"data row9 col2\" >0.7515</td>\n",
       "      <td id=\"T_81401_row9_col3\" class=\"data row9 col3\" >0.7453</td>\n",
       "      <td id=\"T_81401_row9_col4\" class=\"data row9 col4\" >0.7483</td>\n",
       "      <td id=\"T_81401_row9_col5\" class=\"data row9 col5\" >0.4945</td>\n",
       "      <td id=\"T_81401_row9_col6\" class=\"data row9 col6\" >0.4945</td>\n",
       "    </tr>\n",
       "    <tr>\n",
       "      <th id=\"T_81401_level0_row10\" class=\"row_heading level0 row10\" >Mean</th>\n",
       "      <td id=\"T_81401_row10_col0\" class=\"data row10 col0\" >0.7476</td>\n",
       "      <td id=\"T_81401_row10_col1\" class=\"data row10 col1\" >0.8725</td>\n",
       "      <td id=\"T_81401_row10_col2\" class=\"data row10 col2\" >0.7503</td>\n",
       "      <td id=\"T_81401_row10_col3\" class=\"data row10 col3\" >0.7463</td>\n",
       "      <td id=\"T_81401_row10_col4\" class=\"data row10 col4\" >0.7483</td>\n",
       "      <td id=\"T_81401_row10_col5\" class=\"data row10 col5\" >0.4951</td>\n",
       "      <td id=\"T_81401_row10_col6\" class=\"data row10 col6\" >0.4952</td>\n",
       "    </tr>\n",
       "    <tr>\n",
       "      <th id=\"T_81401_level0_row11\" class=\"row_heading level0 row11\" >Std</th>\n",
       "      <td id=\"T_81401_row11_col0\" class=\"data row11 col0\" >0.0010</td>\n",
       "      <td id=\"T_81401_row11_col1\" class=\"data row11 col1\" >0.0010</td>\n",
       "      <td id=\"T_81401_row11_col2\" class=\"data row11 col2\" >0.0025</td>\n",
       "      <td id=\"T_81401_row11_col3\" class=\"data row11 col3\" >0.0012</td>\n",
       "      <td id=\"T_81401_row11_col4\" class=\"data row11 col4\" >0.0012</td>\n",
       "      <td id=\"T_81401_row11_col5\" class=\"data row11 col5\" >0.0020</td>\n",
       "      <td id=\"T_81401_row11_col6\" class=\"data row11 col6\" >0.0020</td>\n",
       "    </tr>\n",
       "  </tbody>\n",
       "</table>\n"
      ],
      "text/plain": [
       "<pandas.io.formats.style.Styler at 0x7fd0e80458a0>"
      ]
     },
     "metadata": {},
     "output_type": "display_data"
    },
    {
     "data": {
      "text/html": [],
      "text/plain": [
       "<IPython.core.display.HTML object>"
      ]
     },
     "metadata": {},
     "output_type": "display_data"
    }
   ],
   "source": [
    "rf = create_model('rf')"
   ]
  },
  {
   "cell_type": "code",
   "execution_count": 32,
   "metadata": {},
   "outputs": [
    {
     "data": {
      "text/html": [],
      "text/plain": [
       "<IPython.core.display.HTML object>"
      ]
     },
     "metadata": {},
     "output_type": "display_data"
    },
    {
     "data": {
      "image/png": "[encoded data removed]",
      "text/plain": [
       "<Figure size 800x550 with 1 Axes>"
      ]
     },
     "metadata": {},
     "output_type": "display_data"
    }
   ],
   "source": [
    "plot_model(rf, plot = 'confusion_matrix')"
   ]
  },
  {
   "cell_type": "code",
   "execution_count": 33,
   "metadata": {},
   "outputs": [
    {
     "data": {
      "text/html": [],
      "text/plain": [
       "<IPython.core.display.HTML object>"
      ]
     },
     "metadata": {},
     "output_type": "display_data"
    },
    {
     "data": {
      "image/png": "[encoded data removed]",
      "text/plain": [
       "<Figure size 800x550 with 1 Axes>"
      ]
     },
     "metadata": {},
     "output_type": "display_data"
    }
   ],
   "source": [
    "plot_model(rf, plot = 'error')"
   ]
  },
  {
   "cell_type": "code",
   "execution_count": 34,
   "metadata": {},
   "outputs": [
    {
     "data": {
      "text/html": [],
      "text/plain": [
       "<IPython.core.display.HTML object>"
      ]
     },
     "metadata": {},
     "output_type": "display_data"
    },
    {
     "data": {
      "text/html": [
       "<div>\n",
       "<style scoped>\n",
       "    .dataframe tbody tr th:only-of-type {\n",
       "        vertical-align: middle;\n",
       "    }\n",
       "\n",
       "    .dataframe tbody tr th {\n",
       "        vertical-align: top;\n",
       "    }\n",
       "\n",
       "    .dataframe thead th {\n",
       "        text-align: right;\n",
       "    }\n",
       "</style>\n",
       "<table border=\"1\" class=\"dataframe\">\n",
       "  <thead>\n",
       "    <tr style=\"text-align: right;\">\n",
       "      <th></th>\n",
       "      <th>Parameters</th>\n",
       "    </tr>\n",
       "  </thead>\n",
       "  <tbody>\n",
       "    <tr>\n",
       "      <th>bootstrap</th>\n",
       "      <td>True</td>\n",
       "    </tr>\n",
       "    <tr>\n",
       "      <th>ccp_alpha</th>\n",
       "      <td>0.0</td>\n",
       "    </tr>\n",
       "    <tr>\n",
       "      <th>class_weight</th>\n",
       "      <td>None</td>\n",
       "    </tr>\n",
       "    <tr>\n",
       "      <th>criterion</th>\n",
       "      <td>gini</td>\n",
       "    </tr>\n",
       "    <tr>\n",
       "      <th>max_depth</th>\n",
       "      <td>None</td>\n",
       "    </tr>\n",
       "    <tr>\n",
       "      <th>max_features</th>\n",
       "      <td>sqrt</td>\n",
       "    </tr>\n",
       "    <tr>\n",
       "      <th>max_leaf_nodes</th>\n",
       "      <td>None</td>\n",
       "    </tr>\n",
       "    <tr>\n",
       "      <th>max_samples</th>\n",
       "      <td>None</td>\n",
       "    </tr>\n",
       "    <tr>\n",
       "      <th>min_impurity_decrease</th>\n",
       "      <td>0.0</td>\n",
       "    </tr>\n",
       "    <tr>\n",
       "      <th>min_samples_leaf</th>\n",
       "      <td>1</td>\n",
       "    </tr>\n",
       "    <tr>\n",
       "      <th>min_samples_split</th>\n",
       "      <td>2</td>\n",
       "    </tr>\n",
       "    <tr>\n",
       "      <th>min_weight_fraction_leaf</th>\n",
       "      <td>0.0</td>\n",
       "    </tr>\n",
       "    <tr>\n",
       "      <th>n_estimators</th>\n",
       "      <td>100</td>\n",
       "    </tr>\n",
       "    <tr>\n",
       "      <th>n_jobs</th>\n",
       "      <td>-1</td>\n",
       "    </tr>\n",
       "    <tr>\n",
       "      <th>oob_score</th>\n",
       "      <td>False</td>\n",
       "    </tr>\n",
       "    <tr>\n",
       "      <th>random_state</th>\n",
       "      <td>1187</td>\n",
       "    </tr>\n",
       "    <tr>\n",
       "      <th>verbose</th>\n",
       "      <td>0</td>\n",
       "    </tr>\n",
       "    <tr>\n",
       "      <th>warm_start</th>\n",
       "      <td>False</td>\n",
       "    </tr>\n",
       "  </tbody>\n",
       "</table>\n",
       "</div>"
      ],
      "text/plain": [
       "                         Parameters\n",
       "bootstrap                      True\n",
       "ccp_alpha                       0.0\n",
       "class_weight                   None\n",
       "criterion                      gini\n",
       "max_depth                      None\n",
       "max_features                   sqrt\n",
       "max_leaf_nodes                 None\n",
       "max_samples                    None\n",
       "min_impurity_decrease           0.0\n",
       "min_samples_leaf                  1\n",
       "min_samples_split                 2\n",
       "min_weight_fraction_leaf        0.0\n",
       "n_estimators                    100\n",
       "n_jobs                           -1\n",
       "oob_score                     False\n",
       "random_state                   1187\n",
       "verbose                           0\n",
       "warm_start                    False"
      ]
     },
     "metadata": {},
     "output_type": "display_data"
    }
   ],
   "source": [
    "plot_model(rf, plot = 'parameter')"
   ]
  },
  {
   "cell_type": "code",
   "execution_count": 35,
   "metadata": {},
   "outputs": [
    {
     "name": "stdout",
     "output_type": "stream",
     "text": [
      "Transformation Pipeline and Model Successfully Saved\n"
     ]
    },
    {
     "data": {
      "text/plain": [
       "(Pipeline(memory=FastMemory(location=/tmp/joblib),\n",
       "          steps=[('numerical_imputer',\n",
       "                  TransformerWrapper(exclude=None,\n",
       "                                     include=['0', '1', '2', '3', '4', '5', '6',\n",
       "                                              '7', '8', '9', '10', '11', '12',\n",
       "                                              '13', '14', '15', '16', '17', '18',\n",
       "                                              '19', '20', '21', '22', '23', '24',\n",
       "                                              '25', '26', '27', '28', '29', ...],\n",
       "                                     transformer=SimpleImputer(add_indicator=False,\n",
       "                                                               copy=True,\n",
       "                                                               fill_value=None,\n",
       "                                                               keep_empty_feat...\n",
       "                  RandomForestClassifier(bootstrap=True, ccp_alpha=0.0,\n",
       "                                         class_weight=None, criterion='gini',\n",
       "                                         max_depth=None, max_features='sqrt',\n",
       "                                         max_leaf_nodes=None, max_samples=None,\n",
       "                                         min_impurity_decrease=0.0,\n",
       "                                         min_samples_leaf=1, min_samples_split=2,\n",
       "                                         min_weight_fraction_leaf=0.0,\n",
       "                                         n_estimators=100, n_jobs=-1,\n",
       "                                         oob_score=False, random_state=1187,\n",
       "                                         verbose=0, warm_start=False))],\n",
       "          verbose=False),\n",
       " 'models_classif/convkb/binary_emb_val/rf.pkl')"
      ]
     },
     "execution_count": 35,
     "metadata": {},
     "output_type": "execute_result"
    }
   ],
   "source": [
    "save_model(rf, 'models_classif/convkb/binary_emb_val/rf')"
   ]
  },
  {
   "cell_type": "markdown",
   "metadata": {},
   "source": [
    "# Quadratic Discriminant Analysis"
   ]
  },
  {
   "cell_type": "code",
   "execution_count": 36,
   "metadata": {},
   "outputs": [
    {
     "data": {
      "text/html": [],
      "text/plain": [
       "<IPython.core.display.HTML object>"
      ]
     },
     "metadata": {},
     "output_type": "display_data"
    },
    {
     "data": {
      "text/html": [
       "<style type=\"text/css\">\n",
       "#T_8ef4a_row10_col0, #T_8ef4a_row10_col1, #T_8ef4a_row10_col2, #T_8ef4a_row10_col3, #T_8ef4a_row10_col4, #T_8ef4a_row10_col5, #T_8ef4a_row10_col6 {\n",
       "  background: yellow;\n",
       "}\n",
       "</style>\n",
       "<table id=\"T_8ef4a\">\n",
       "  <thead>\n",
       "    <tr>\n",
       "      <th class=\"blank level0\" >&nbsp;</th>\n",
       "      <th id=\"T_8ef4a_level0_col0\" class=\"col_heading level0 col0\" >Accuracy</th>\n",
       "      <th id=\"T_8ef4a_level0_col1\" class=\"col_heading level0 col1\" >AUC</th>\n",
       "      <th id=\"T_8ef4a_level0_col2\" class=\"col_heading level0 col2\" >Recall</th>\n",
       "      <th id=\"T_8ef4a_level0_col3\" class=\"col_heading level0 col3\" >Prec.</th>\n",
       "      <th id=\"T_8ef4a_level0_col4\" class=\"col_heading level0 col4\" >F1</th>\n",
       "      <th id=\"T_8ef4a_level0_col5\" class=\"col_heading level0 col5\" >Kappa</th>\n",
       "      <th id=\"T_8ef4a_level0_col6\" class=\"col_heading level0 col6\" >MCC</th>\n",
       "    </tr>\n",
       "    <tr>\n",
       "      <th class=\"index_name level0\" >Fold</th>\n",
       "      <th class=\"blank col0\" >&nbsp;</th>\n",
       "      <th class=\"blank col1\" >&nbsp;</th>\n",
       "      <th class=\"blank col2\" >&nbsp;</th>\n",
       "      <th class=\"blank col3\" >&nbsp;</th>\n",
       "      <th class=\"blank col4\" >&nbsp;</th>\n",
       "      <th class=\"blank col5\" >&nbsp;</th>\n",
       "      <th class=\"blank col6\" >&nbsp;</th>\n",
       "    </tr>\n",
       "  </thead>\n",
       "  <tbody>\n",
       "    <tr>\n",
       "      <th id=\"T_8ef4a_level0_row0\" class=\"row_heading level0 row0\" >0</th>\n",
       "      <td id=\"T_8ef4a_row0_col0\" class=\"data row0 col0\" >0.6369</td>\n",
       "      <td id=\"T_8ef4a_row0_col1\" class=\"data row0 col1\" >0.6790</td>\n",
       "      <td id=\"T_8ef4a_row0_col2\" class=\"data row0 col2\" >0.7726</td>\n",
       "      <td id=\"T_8ef4a_row0_col3\" class=\"data row0 col3\" >0.6077</td>\n",
       "      <td id=\"T_8ef4a_row0_col4\" class=\"data row0 col4\" >0.6803</td>\n",
       "      <td id=\"T_8ef4a_row0_col5\" class=\"data row0 col5\" >0.2737</td>\n",
       "      <td id=\"T_8ef4a_row0_col6\" class=\"data row0 col6\" >0.2844</td>\n",
       "    </tr>\n",
       "    <tr>\n",
       "      <th id=\"T_8ef4a_level0_row1\" class=\"row_heading level0 row1\" >1</th>\n",
       "      <td id=\"T_8ef4a_row1_col0\" class=\"data row1 col0\" >0.6337</td>\n",
       "      <td id=\"T_8ef4a_row1_col1\" class=\"data row1 col1\" >0.6770</td>\n",
       "      <td id=\"T_8ef4a_row1_col2\" class=\"data row1 col2\" >0.7722</td>\n",
       "      <td id=\"T_8ef4a_row1_col3\" class=\"data row1 col3\" >0.6048</td>\n",
       "      <td id=\"T_8ef4a_row1_col4\" class=\"data row1 col4\" >0.6783</td>\n",
       "      <td id=\"T_8ef4a_row1_col5\" class=\"data row1 col5\" >0.2673</td>\n",
       "      <td id=\"T_8ef4a_row1_col6\" class=\"data row1 col6\" >0.2782</td>\n",
       "    </tr>\n",
       "    <tr>\n",
       "      <th id=\"T_8ef4a_level0_row2\" class=\"row_heading level0 row2\" >2</th>\n",
       "      <td id=\"T_8ef4a_row2_col0\" class=\"data row2 col0\" >0.6367</td>\n",
       "      <td id=\"T_8ef4a_row2_col1\" class=\"data row2 col1\" >0.6785</td>\n",
       "      <td id=\"T_8ef4a_row2_col2\" class=\"data row2 col2\" >0.7736</td>\n",
       "      <td id=\"T_8ef4a_row2_col3\" class=\"data row2 col3\" >0.6074</td>\n",
       "      <td id=\"T_8ef4a_row2_col4\" class=\"data row2 col4\" >0.6805</td>\n",
       "      <td id=\"T_8ef4a_row2_col5\" class=\"data row2 col5\" >0.2733</td>\n",
       "      <td id=\"T_8ef4a_row2_col6\" class=\"data row2 col6\" >0.2842</td>\n",
       "    </tr>\n",
       "    <tr>\n",
       "      <th id=\"T_8ef4a_level0_row3\" class=\"row_heading level0 row3\" >3</th>\n",
       "      <td id=\"T_8ef4a_row3_col0\" class=\"data row3 col0\" >0.6360</td>\n",
       "      <td id=\"T_8ef4a_row3_col1\" class=\"data row3 col1\" >0.6793</td>\n",
       "      <td id=\"T_8ef4a_row3_col2\" class=\"data row3 col2\" >0.7717</td>\n",
       "      <td id=\"T_8ef4a_row3_col3\" class=\"data row3 col3\" >0.6070</td>\n",
       "      <td id=\"T_8ef4a_row3_col4\" class=\"data row3 col4\" >0.6795</td>\n",
       "      <td id=\"T_8ef4a_row3_col5\" class=\"data row3 col5\" >0.2719</td>\n",
       "      <td id=\"T_8ef4a_row3_col6\" class=\"data row3 col6\" >0.2825</td>\n",
       "    </tr>\n",
       "    <tr>\n",
       "      <th id=\"T_8ef4a_level0_row4\" class=\"row_heading level0 row4\" >4</th>\n",
       "      <td id=\"T_8ef4a_row4_col0\" class=\"data row4 col0\" >0.6365</td>\n",
       "      <td id=\"T_8ef4a_row4_col1\" class=\"data row4 col1\" >0.6794</td>\n",
       "      <td id=\"T_8ef4a_row4_col2\" class=\"data row4 col2\" >0.7726</td>\n",
       "      <td id=\"T_8ef4a_row4_col3\" class=\"data row4 col3\" >0.6074</td>\n",
       "      <td id=\"T_8ef4a_row4_col4\" class=\"data row4 col4\" >0.6801</td>\n",
       "      <td id=\"T_8ef4a_row4_col5\" class=\"data row4 col5\" >0.2729</td>\n",
       "      <td id=\"T_8ef4a_row4_col6\" class=\"data row4 col6\" >0.2836</td>\n",
       "    </tr>\n",
       "    <tr>\n",
       "      <th id=\"T_8ef4a_level0_row5\" class=\"row_heading level0 row5\" >5</th>\n",
       "      <td id=\"T_8ef4a_row5_col0\" class=\"data row5 col0\" >0.6363</td>\n",
       "      <td id=\"T_8ef4a_row5_col1\" class=\"data row5 col1\" >0.6793</td>\n",
       "      <td id=\"T_8ef4a_row5_col2\" class=\"data row5 col2\" >0.7741</td>\n",
       "      <td id=\"T_8ef4a_row5_col3\" class=\"data row5 col3\" >0.6069</td>\n",
       "      <td id=\"T_8ef4a_row5_col4\" class=\"data row5 col4\" >0.6804</td>\n",
       "      <td id=\"T_8ef4a_row5_col5\" class=\"data row5 col5\" >0.2726</td>\n",
       "      <td id=\"T_8ef4a_row5_col6\" class=\"data row5 col6\" >0.2835</td>\n",
       "    </tr>\n",
       "    <tr>\n",
       "      <th id=\"T_8ef4a_level0_row6\" class=\"row_heading level0 row6\" >6</th>\n",
       "      <td id=\"T_8ef4a_row6_col0\" class=\"data row6 col0\" >0.6370</td>\n",
       "      <td id=\"T_8ef4a_row6_col1\" class=\"data row6 col1\" >0.6801</td>\n",
       "      <td id=\"T_8ef4a_row6_col2\" class=\"data row6 col2\" >0.7744</td>\n",
       "      <td id=\"T_8ef4a_row6_col3\" class=\"data row6 col3\" >0.6076</td>\n",
       "      <td id=\"T_8ef4a_row6_col4\" class=\"data row6 col4\" >0.6809</td>\n",
       "      <td id=\"T_8ef4a_row6_col5\" class=\"data row6 col5\" >0.2740</td>\n",
       "      <td id=\"T_8ef4a_row6_col6\" class=\"data row6 col6\" >0.2850</td>\n",
       "    </tr>\n",
       "    <tr>\n",
       "      <th id=\"T_8ef4a_level0_row7\" class=\"row_heading level0 row7\" >7</th>\n",
       "      <td id=\"T_8ef4a_row7_col0\" class=\"data row7 col0\" >0.6374</td>\n",
       "      <td id=\"T_8ef4a_row7_col1\" class=\"data row7 col1\" >0.6803</td>\n",
       "      <td id=\"T_8ef4a_row7_col2\" class=\"data row7 col2\" >0.7744</td>\n",
       "      <td id=\"T_8ef4a_row7_col3\" class=\"data row7 col3\" >0.6079</td>\n",
       "      <td id=\"T_8ef4a_row7_col4\" class=\"data row7 col4\" >0.6811</td>\n",
       "      <td id=\"T_8ef4a_row7_col5\" class=\"data row7 col5\" >0.2747</td>\n",
       "      <td id=\"T_8ef4a_row7_col6\" class=\"data row7 col6\" >0.2856</td>\n",
       "    </tr>\n",
       "    <tr>\n",
       "      <th id=\"T_8ef4a_level0_row8\" class=\"row_heading level0 row8\" >8</th>\n",
       "      <td id=\"T_8ef4a_row8_col0\" class=\"data row8 col0\" >0.6365</td>\n",
       "      <td id=\"T_8ef4a_row8_col1\" class=\"data row8 col1\" >0.6784</td>\n",
       "      <td id=\"T_8ef4a_row8_col2\" class=\"data row8 col2\" >0.7717</td>\n",
       "      <td id=\"T_8ef4a_row8_col3\" class=\"data row8 col3\" >0.6076</td>\n",
       "      <td id=\"T_8ef4a_row8_col4\" class=\"data row8 col4\" >0.6799</td>\n",
       "      <td id=\"T_8ef4a_row8_col5\" class=\"data row8 col5\" >0.2730</td>\n",
       "      <td id=\"T_8ef4a_row8_col6\" class=\"data row8 col6\" >0.2836</td>\n",
       "    </tr>\n",
       "    <tr>\n",
       "      <th id=\"T_8ef4a_level0_row9\" class=\"row_heading level0 row9\" >9</th>\n",
       "      <td id=\"T_8ef4a_row9_col0\" class=\"data row9 col0\" >0.6361</td>\n",
       "      <td id=\"T_8ef4a_row9_col1\" class=\"data row9 col1\" >0.6787</td>\n",
       "      <td id=\"T_8ef4a_row9_col2\" class=\"data row9 col2\" >0.7731</td>\n",
       "      <td id=\"T_8ef4a_row9_col3\" class=\"data row9 col3\" >0.6069</td>\n",
       "      <td id=\"T_8ef4a_row9_col4\" class=\"data row9 col4\" >0.6800</td>\n",
       "      <td id=\"T_8ef4a_row9_col5\" class=\"data row9 col5\" >0.2722</td>\n",
       "      <td id=\"T_8ef4a_row9_col6\" class=\"data row9 col6\" >0.2830</td>\n",
       "    </tr>\n",
       "    <tr>\n",
       "      <th id=\"T_8ef4a_level0_row10\" class=\"row_heading level0 row10\" >Mean</th>\n",
       "      <td id=\"T_8ef4a_row10_col0\" class=\"data row10 col0\" >0.6363</td>\n",
       "      <td id=\"T_8ef4a_row10_col1\" class=\"data row10 col1\" >0.6790</td>\n",
       "      <td id=\"T_8ef4a_row10_col2\" class=\"data row10 col2\" >0.7730</td>\n",
       "      <td id=\"T_8ef4a_row10_col3\" class=\"data row10 col3\" >0.6071</td>\n",
       "      <td id=\"T_8ef4a_row10_col4\" class=\"data row10 col4\" >0.6801</td>\n",
       "      <td id=\"T_8ef4a_row10_col5\" class=\"data row10 col5\" >0.2726</td>\n",
       "      <td id=\"T_8ef4a_row10_col6\" class=\"data row10 col6\" >0.2834</td>\n",
       "    </tr>\n",
       "    <tr>\n",
       "      <th id=\"T_8ef4a_level0_row11\" class=\"row_heading level0 row11\" >Std</th>\n",
       "      <td id=\"T_8ef4a_row11_col0\" class=\"data row11 col0\" >0.0010</td>\n",
       "      <td id=\"T_8ef4a_row11_col1\" class=\"data row11 col1\" >0.0009</td>\n",
       "      <td id=\"T_8ef4a_row11_col2\" class=\"data row11 col2\" >0.0010</td>\n",
       "      <td id=\"T_8ef4a_row11_col3\" class=\"data row11 col3\" >0.0008</td>\n",
       "      <td id=\"T_8ef4a_row11_col4\" class=\"data row11 col4\" >0.0008</td>\n",
       "      <td id=\"T_8ef4a_row11_col5\" class=\"data row11 col5\" >0.0019</td>\n",
       "      <td id=\"T_8ef4a_row11_col6\" class=\"data row11 col6\" >0.0019</td>\n",
       "    </tr>\n",
       "  </tbody>\n",
       "</table>\n"
      ],
      "text/plain": [
       "<pandas.io.formats.style.Styler at 0x7fd0a21fc340>"
      ]
     },
     "metadata": {},
     "output_type": "display_data"
    },
    {
     "data": {
      "text/html": [],
      "text/plain": [
       "<IPython.core.display.HTML object>"
      ]
     },
     "metadata": {},
     "output_type": "display_data"
    }
   ],
   "source": [
    "qda = create_model('qda')"
   ]
  },
  {
   "cell_type": "code",
   "execution_count": 37,
   "metadata": {},
   "outputs": [
    {
     "data": {
      "text/html": [],
      "text/plain": [
       "<IPython.core.display.HTML object>"
      ]
     },
     "metadata": {},
     "output_type": "display_data"
    },
    {
     "data": {
      "image/png": "[encoded data removed]",
      "text/plain": [
       "<Figure size 800x550 with 1 Axes>"
      ]
     },
     "metadata": {},
     "output_type": "display_data"
    }
   ],
   "source": [
    "plot_model(qda, plot = 'confusion_matrix')"
   ]
  },
  {
   "cell_type": "code",
   "execution_count": 38,
   "metadata": {},
   "outputs": [
    {
     "data": {
      "text/html": [],
      "text/plain": [
       "<IPython.core.display.HTML object>"
      ]
     },
     "metadata": {},
     "output_type": "display_data"
    },
    {
     "data": {
      "image/png": "[encoded data removed]",
      "text/plain": [
       "<Figure size 800x550 with 1 Axes>"
      ]
     },
     "metadata": {},
     "output_type": "display_data"
    }
   ],
   "source": [
    "plot_model(qda, plot = 'error')"
   ]
  },
  {
   "cell_type": "code",
   "execution_count": 39,
   "metadata": {},
   "outputs": [
    {
     "data": {
      "text/html": [],
      "text/plain": [
       "<IPython.core.display.HTML object>"
      ]
     },
     "metadata": {},
     "output_type": "display_data"
    },
    {
     "data": {
      "text/html": [
       "<div>\n",
       "<style scoped>\n",
       "    .dataframe tbody tr th:only-of-type {\n",
       "        vertical-align: middle;\n",
       "    }\n",
       "\n",
       "    .dataframe tbody tr th {\n",
       "        vertical-align: top;\n",
       "    }\n",
       "\n",
       "    .dataframe thead th {\n",
       "        text-align: right;\n",
       "    }\n",
       "</style>\n",
       "<table border=\"1\" class=\"dataframe\">\n",
       "  <thead>\n",
       "    <tr style=\"text-align: right;\">\n",
       "      <th></th>\n",
       "      <th>Parameters</th>\n",
       "    </tr>\n",
       "  </thead>\n",
       "  <tbody>\n",
       "    <tr>\n",
       "      <th>priors</th>\n",
       "      <td>None</td>\n",
       "    </tr>\n",
       "    <tr>\n",
       "      <th>reg_param</th>\n",
       "      <td>0.0</td>\n",
       "    </tr>\n",
       "    <tr>\n",
       "      <th>store_covariance</th>\n",
       "      <td>False</td>\n",
       "    </tr>\n",
       "    <tr>\n",
       "      <th>tol</th>\n",
       "      <td>0.0001</td>\n",
       "    </tr>\n",
       "  </tbody>\n",
       "</table>\n",
       "</div>"
      ],
      "text/plain": [
       "                 Parameters\n",
       "priors                 None\n",
       "reg_param               0.0\n",
       "store_covariance      False\n",
       "tol                  0.0001"
      ]
     },
     "metadata": {},
     "output_type": "display_data"
    }
   ],
   "source": [
    "plot_model(qda, plot = 'parameter')"
   ]
  },
  {
   "cell_type": "code",
   "execution_count": 40,
   "metadata": {},
   "outputs": [
    {
     "name": "stdout",
     "output_type": "stream",
     "text": [
      "Transformation Pipeline and Model Successfully Saved\n"
     ]
    },
    {
     "data": {
      "text/plain": [
       "(Pipeline(memory=FastMemory(location=/tmp/joblib),\n",
       "          steps=[('numerical_imputer',\n",
       "                  TransformerWrapper(exclude=None,\n",
       "                                     include=['0', '1', '2', '3', '4', '5', '6',\n",
       "                                              '7', '8', '9', '10', '11', '12',\n",
       "                                              '13', '14', '15', '16', '17', '18',\n",
       "                                              '19', '20', '21', '22', '23', '24',\n",
       "                                              '25', '26', '27', '28', '29', ...],\n",
       "                                     transformer=SimpleImputer(add_indicator=False,\n",
       "                                                               copy=True,\n",
       "                                                               fill_value=None,\n",
       "                                                               keep_empty_feat...\n",
       "                 ('categorical_imputer',\n",
       "                  TransformerWrapper(exclude=None, include=[],\n",
       "                                     transformer=SimpleImputer(add_indicator=False,\n",
       "                                                               copy=True,\n",
       "                                                               fill_value=None,\n",
       "                                                               keep_empty_features=False,\n",
       "                                                               missing_values=nan,\n",
       "                                                               strategy='most_frequent',\n",
       "                                                               verbose='deprecated'))),\n",
       "                 ('trained_model',\n",
       "                  QuadraticDiscriminantAnalysis(priors=None, reg_param=0.0,\n",
       "                                                store_covariance=False,\n",
       "                                                tol=0.0001))],\n",
       "          verbose=False),\n",
       " 'models_classif/convkb/binary_emb_val/qda.pkl')"
      ]
     },
     "execution_count": 40,
     "metadata": {},
     "output_type": "execute_result"
    }
   ],
   "source": [
    "save_model(qda, 'models_classif/convkb/binary_emb_val/qda')"
   ]
  },
  {
   "cell_type": "markdown",
   "metadata": {},
   "source": [
    "# Linear Discriminant Analysis"
   ]
  },
  {
   "cell_type": "code",
   "execution_count": 41,
   "metadata": {},
   "outputs": [
    {
     "data": {
      "text/html": [],
      "text/plain": [
       "<IPython.core.display.HTML object>"
      ]
     },
     "metadata": {},
     "output_type": "display_data"
    },
    {
     "data": {
      "text/html": [
       "<style type=\"text/css\">\n",
       "#T_02e2f_row10_col0, #T_02e2f_row10_col1, #T_02e2f_row10_col2, #T_02e2f_row10_col3, #T_02e2f_row10_col4, #T_02e2f_row10_col5, #T_02e2f_row10_col6 {\n",
       "  background: yellow;\n",
       "}\n",
       "</style>\n",
       "<table id=\"T_02e2f\">\n",
       "  <thead>\n",
       "    <tr>\n",
       "      <th class=\"blank level0\" >&nbsp;</th>\n",
       "      <th id=\"T_02e2f_level0_col0\" class=\"col_heading level0 col0\" >Accuracy</th>\n",
       "      <th id=\"T_02e2f_level0_col1\" class=\"col_heading level0 col1\" >AUC</th>\n",
       "      <th id=\"T_02e2f_level0_col2\" class=\"col_heading level0 col2\" >Recall</th>\n",
       "      <th id=\"T_02e2f_level0_col3\" class=\"col_heading level0 col3\" >Prec.</th>\n",
       "      <th id=\"T_02e2f_level0_col4\" class=\"col_heading level0 col4\" >F1</th>\n",
       "      <th id=\"T_02e2f_level0_col5\" class=\"col_heading level0 col5\" >Kappa</th>\n",
       "      <th id=\"T_02e2f_level0_col6\" class=\"col_heading level0 col6\" >MCC</th>\n",
       "    </tr>\n",
       "    <tr>\n",
       "      <th class=\"index_name level0\" >Fold</th>\n",
       "      <th class=\"blank col0\" >&nbsp;</th>\n",
       "      <th class=\"blank col1\" >&nbsp;</th>\n",
       "      <th class=\"blank col2\" >&nbsp;</th>\n",
       "      <th class=\"blank col3\" >&nbsp;</th>\n",
       "      <th class=\"blank col4\" >&nbsp;</th>\n",
       "      <th class=\"blank col5\" >&nbsp;</th>\n",
       "      <th class=\"blank col6\" >&nbsp;</th>\n",
       "    </tr>\n",
       "  </thead>\n",
       "  <tbody>\n",
       "    <tr>\n",
       "      <th id=\"T_02e2f_level0_row0\" class=\"row_heading level0 row0\" >0</th>\n",
       "      <td id=\"T_02e2f_row0_col0\" class=\"data row0 col0\" >0.6718</td>\n",
       "      <td id=\"T_02e2f_row0_col1\" class=\"data row0 col1\" >0.6871</td>\n",
       "      <td id=\"T_02e2f_row0_col2\" class=\"data row0 col2\" >0.8005</td>\n",
       "      <td id=\"T_02e2f_row0_col3\" class=\"data row0 col3\" >0.6367</td>\n",
       "      <td id=\"T_02e2f_row0_col4\" class=\"data row0 col4\" >0.7092</td>\n",
       "      <td id=\"T_02e2f_row0_col5\" class=\"data row0 col5\" >0.3435</td>\n",
       "      <td id=\"T_02e2f_row0_col6\" class=\"data row0 col6\" >0.3555</td>\n",
       "    </tr>\n",
       "    <tr>\n",
       "      <th id=\"T_02e2f_level0_row1\" class=\"row_heading level0 row1\" >1</th>\n",
       "      <td id=\"T_02e2f_row1_col0\" class=\"data row1 col0\" >0.6689</td>\n",
       "      <td id=\"T_02e2f_row1_col1\" class=\"data row1 col1\" >0.6852</td>\n",
       "      <td id=\"T_02e2f_row1_col2\" class=\"data row1 col2\" >0.8014</td>\n",
       "      <td id=\"T_02e2f_row1_col3\" class=\"data row1 col3\" >0.6335</td>\n",
       "      <td id=\"T_02e2f_row1_col4\" class=\"data row1 col4\" >0.7077</td>\n",
       "      <td id=\"T_02e2f_row1_col5\" class=\"data row1 col5\" >0.3377</td>\n",
       "      <td id=\"T_02e2f_row1_col6\" class=\"data row1 col6\" >0.3502</td>\n",
       "    </tr>\n",
       "    <tr>\n",
       "      <th id=\"T_02e2f_level0_row2\" class=\"row_heading level0 row2\" >2</th>\n",
       "      <td id=\"T_02e2f_row2_col0\" class=\"data row2 col0\" >0.6711</td>\n",
       "      <td id=\"T_02e2f_row2_col1\" class=\"data row2 col1\" >0.6872</td>\n",
       "      <td id=\"T_02e2f_row2_col2\" class=\"data row2 col2\" >0.8006</td>\n",
       "      <td id=\"T_02e2f_row2_col3\" class=\"data row2 col3\" >0.6360</td>\n",
       "      <td id=\"T_02e2f_row2_col4\" class=\"data row2 col4\" >0.7089</td>\n",
       "      <td id=\"T_02e2f_row2_col5\" class=\"data row2 col5\" >0.3422</td>\n",
       "      <td id=\"T_02e2f_row2_col6\" class=\"data row2 col6\" >0.3543</td>\n",
       "    </tr>\n",
       "    <tr>\n",
       "      <th id=\"T_02e2f_level0_row3\" class=\"row_heading level0 row3\" >3</th>\n",
       "      <td id=\"T_02e2f_row3_col0\" class=\"data row3 col0\" >0.6712</td>\n",
       "      <td id=\"T_02e2f_row3_col1\" class=\"data row3 col1\" >0.6868</td>\n",
       "      <td id=\"T_02e2f_row3_col2\" class=\"data row3 col2\" >0.8011</td>\n",
       "      <td id=\"T_02e2f_row3_col3\" class=\"data row3 col3\" >0.6359</td>\n",
       "      <td id=\"T_02e2f_row3_col4\" class=\"data row3 col4\" >0.7090</td>\n",
       "      <td id=\"T_02e2f_row3_col5\" class=\"data row3 col5\" >0.3423</td>\n",
       "      <td id=\"T_02e2f_row3_col6\" class=\"data row3 col6\" >0.3545</td>\n",
       "    </tr>\n",
       "    <tr>\n",
       "      <th id=\"T_02e2f_level0_row4\" class=\"row_heading level0 row4\" >4</th>\n",
       "      <td id=\"T_02e2f_row4_col0\" class=\"data row4 col0\" >0.6707</td>\n",
       "      <td id=\"T_02e2f_row4_col1\" class=\"data row4 col1\" >0.6868</td>\n",
       "      <td id=\"T_02e2f_row4_col2\" class=\"data row4 col2\" >0.8004</td>\n",
       "      <td id=\"T_02e2f_row4_col3\" class=\"data row4 col3\" >0.6356</td>\n",
       "      <td id=\"T_02e2f_row4_col4\" class=\"data row4 col4\" >0.7085</td>\n",
       "      <td id=\"T_02e2f_row4_col5\" class=\"data row4 col5\" >0.3414</td>\n",
       "      <td id=\"T_02e2f_row4_col6\" class=\"data row4 col6\" >0.3534</td>\n",
       "    </tr>\n",
       "    <tr>\n",
       "      <th id=\"T_02e2f_level0_row5\" class=\"row_heading level0 row5\" >5</th>\n",
       "      <td id=\"T_02e2f_row5_col0\" class=\"data row5 col0\" >0.6713</td>\n",
       "      <td id=\"T_02e2f_row5_col1\" class=\"data row5 col1\" >0.6879</td>\n",
       "      <td id=\"T_02e2f_row5_col2\" class=\"data row5 col2\" >0.8017</td>\n",
       "      <td id=\"T_02e2f_row5_col3\" class=\"data row5 col3\" >0.6359</td>\n",
       "      <td id=\"T_02e2f_row5_col4\" class=\"data row5 col4\" >0.7092</td>\n",
       "      <td id=\"T_02e2f_row5_col5\" class=\"data row5 col5\" >0.3425</td>\n",
       "      <td id=\"T_02e2f_row5_col6\" class=\"data row5 col6\" >0.3548</td>\n",
       "    </tr>\n",
       "    <tr>\n",
       "      <th id=\"T_02e2f_level0_row6\" class=\"row_heading level0 row6\" >6</th>\n",
       "      <td id=\"T_02e2f_row6_col0\" class=\"data row6 col0\" >0.6709</td>\n",
       "      <td id=\"T_02e2f_row6_col1\" class=\"data row6 col1\" >0.6872</td>\n",
       "      <td id=\"T_02e2f_row6_col2\" class=\"data row6 col2\" >0.8008</td>\n",
       "      <td id=\"T_02e2f_row6_col3\" class=\"data row6 col3\" >0.6357</td>\n",
       "      <td id=\"T_02e2f_row6_col4\" class=\"data row6 col4\" >0.7088</td>\n",
       "      <td id=\"T_02e2f_row6_col5\" class=\"data row6 col5\" >0.3417</td>\n",
       "      <td id=\"T_02e2f_row6_col6\" class=\"data row6 col6\" >0.3539</td>\n",
       "    </tr>\n",
       "    <tr>\n",
       "      <th id=\"T_02e2f_level0_row7\" class=\"row_heading level0 row7\" >7</th>\n",
       "      <td id=\"T_02e2f_row7_col0\" class=\"data row7 col0\" >0.6704</td>\n",
       "      <td id=\"T_02e2f_row7_col1\" class=\"data row7 col1\" >0.6864</td>\n",
       "      <td id=\"T_02e2f_row7_col2\" class=\"data row7 col2\" >0.8001</td>\n",
       "      <td id=\"T_02e2f_row7_col3\" class=\"data row7 col3\" >0.6354</td>\n",
       "      <td id=\"T_02e2f_row7_col4\" class=\"data row7 col4\" >0.7083</td>\n",
       "      <td id=\"T_02e2f_row7_col5\" class=\"data row7 col5\" >0.3408</td>\n",
       "      <td id=\"T_02e2f_row7_col6\" class=\"data row7 col6\" >0.3528</td>\n",
       "    </tr>\n",
       "    <tr>\n",
       "      <th id=\"T_02e2f_level0_row8\" class=\"row_heading level0 row8\" >8</th>\n",
       "      <td id=\"T_02e2f_row8_col0\" class=\"data row8 col0\" >0.6701</td>\n",
       "      <td id=\"T_02e2f_row8_col1\" class=\"data row8 col1\" >0.6867</td>\n",
       "      <td id=\"T_02e2f_row8_col2\" class=\"data row8 col2\" >0.7988</td>\n",
       "      <td id=\"T_02e2f_row8_col3\" class=\"data row8 col3\" >0.6353</td>\n",
       "      <td id=\"T_02e2f_row8_col4\" class=\"data row8 col4\" >0.7078</td>\n",
       "      <td id=\"T_02e2f_row8_col5\" class=\"data row8 col5\" >0.3401</td>\n",
       "      <td id=\"T_02e2f_row8_col6\" class=\"data row8 col6\" >0.3520</td>\n",
       "    </tr>\n",
       "    <tr>\n",
       "      <th id=\"T_02e2f_level0_row9\" class=\"row_heading level0 row9\" >9</th>\n",
       "      <td id=\"T_02e2f_row9_col0\" class=\"data row9 col0\" >0.6699</td>\n",
       "      <td id=\"T_02e2f_row9_col1\" class=\"data row9 col1\" >0.6858</td>\n",
       "      <td id=\"T_02e2f_row9_col2\" class=\"data row9 col2\" >0.8000</td>\n",
       "      <td id=\"T_02e2f_row9_col3\" class=\"data row9 col3\" >0.6349</td>\n",
       "      <td id=\"T_02e2f_row9_col4\" class=\"data row9 col4\" >0.7080</td>\n",
       "      <td id=\"T_02e2f_row9_col5\" class=\"data row9 col5\" >0.3398</td>\n",
       "      <td id=\"T_02e2f_row9_col6\" class=\"data row9 col6\" >0.3519</td>\n",
       "    </tr>\n",
       "    <tr>\n",
       "      <th id=\"T_02e2f_level0_row10\" class=\"row_heading level0 row10\" >Mean</th>\n",
       "      <td id=\"T_02e2f_row10_col0\" class=\"data row10 col0\" >0.6706</td>\n",
       "      <td id=\"T_02e2f_row10_col1\" class=\"data row10 col1\" >0.6867</td>\n",
       "      <td id=\"T_02e2f_row10_col2\" class=\"data row10 col2\" >0.8005</td>\n",
       "      <td id=\"T_02e2f_row10_col3\" class=\"data row10 col3\" >0.6355</td>\n",
       "      <td id=\"T_02e2f_row10_col4\" class=\"data row10 col4\" >0.7085</td>\n",
       "      <td id=\"T_02e2f_row10_col5\" class=\"data row10 col5\" >0.3412</td>\n",
       "      <td id=\"T_02e2f_row10_col6\" class=\"data row10 col6\" >0.3533</td>\n",
       "    </tr>\n",
       "    <tr>\n",
       "      <th id=\"T_02e2f_level0_row11\" class=\"row_heading level0 row11\" >Std</th>\n",
       "      <td id=\"T_02e2f_row11_col0\" class=\"data row11 col0\" >0.0008</td>\n",
       "      <td id=\"T_02e2f_row11_col1\" class=\"data row11 col1\" >0.0007</td>\n",
       "      <td id=\"T_02e2f_row11_col2\" class=\"data row11 col2\" >0.0008</td>\n",
       "      <td id=\"T_02e2f_row11_col3\" class=\"data row11 col3\" >0.0008</td>\n",
       "      <td id=\"T_02e2f_row11_col4\" class=\"data row11 col4\" >0.0006</td>\n",
       "      <td id=\"T_02e2f_row11_col5\" class=\"data row11 col5\" >0.0016</td>\n",
       "      <td id=\"T_02e2f_row11_col6\" class=\"data row11 col6\" >0.0015</td>\n",
       "    </tr>\n",
       "  </tbody>\n",
       "</table>\n"
      ],
      "text/plain": [
       "<pandas.io.formats.style.Styler at 0x7fd0a21fd600>"
      ]
     },
     "metadata": {},
     "output_type": "display_data"
    },
    {
     "data": {
      "text/html": [],
      "text/plain": [
       "<IPython.core.display.HTML object>"
      ]
     },
     "metadata": {},
     "output_type": "display_data"
    }
   ],
   "source": [
    "lda = create_model('lda')"
   ]
  },
  {
   "cell_type": "code",
   "execution_count": 42,
   "metadata": {},
   "outputs": [
    {
     "data": {
      "text/html": [],
      "text/plain": [
       "<IPython.core.display.HTML object>"
      ]
     },
     "metadata": {},
     "output_type": "display_data"
    },
    {
     "data": {
      "image/png": "[encoded data removed]",
      "text/plain": [
       "<Figure size 800x550 with 1 Axes>"
      ]
     },
     "metadata": {},
     "output_type": "display_data"
    }
   ],
   "source": [
    "plot_model(lda, plot = 'confusion_matrix')"
   ]
  },
  {
   "cell_type": "code",
   "execution_count": 43,
   "metadata": {},
   "outputs": [
    {
     "data": {
      "text/html": [],
      "text/plain": [
       "<IPython.core.display.HTML object>"
      ]
     },
     "metadata": {},
     "output_type": "display_data"
    },
    {
     "data": {
      "image/png": "[encoded data removed]",
      "text/plain": [
       "<Figure size 800x550 with 1 Axes>"
      ]
     },
     "metadata": {},
     "output_type": "display_data"
    }
   ],
   "source": [
    "plot_model(lda, plot = 'error')"
   ]
  },
  {
   "cell_type": "code",
   "execution_count": 44,
   "metadata": {},
   "outputs": [
    {
     "data": {
      "text/html": [],
      "text/plain": [
       "<IPython.core.display.HTML object>"
      ]
     },
     "metadata": {},
     "output_type": "display_data"
    },
    {
     "data": {
      "text/html": [
       "<div>\n",
       "<style scoped>\n",
       "    .dataframe tbody tr th:only-of-type {\n",
       "        vertical-align: middle;\n",
       "    }\n",
       "\n",
       "    .dataframe tbody tr th {\n",
       "        vertical-align: top;\n",
       "    }\n",
       "\n",
       "    .dataframe thead th {\n",
       "        text-align: right;\n",
       "    }\n",
       "</style>\n",
       "<table border=\"1\" class=\"dataframe\">\n",
       "  <thead>\n",
       "    <tr style=\"text-align: right;\">\n",
       "      <th></th>\n",
       "      <th>Parameters</th>\n",
       "    </tr>\n",
       "  </thead>\n",
       "  <tbody>\n",
       "    <tr>\n",
       "      <th>covariance_estimator</th>\n",
       "      <td>None</td>\n",
       "    </tr>\n",
       "    <tr>\n",
       "      <th>n_components</th>\n",
       "      <td>None</td>\n",
       "    </tr>\n",
       "    <tr>\n",
       "      <th>priors</th>\n",
       "      <td>None</td>\n",
       "    </tr>\n",
       "    <tr>\n",
       "      <th>shrinkage</th>\n",
       "      <td>None</td>\n",
       "    </tr>\n",
       "    <tr>\n",
       "      <th>solver</th>\n",
       "      <td>svd</td>\n",
       "    </tr>\n",
       "    <tr>\n",
       "      <th>store_covariance</th>\n",
       "      <td>False</td>\n",
       "    </tr>\n",
       "    <tr>\n",
       "      <th>tol</th>\n",
       "      <td>0.0001</td>\n",
       "    </tr>\n",
       "  </tbody>\n",
       "</table>\n",
       "</div>"
      ],
      "text/plain": [
       "                     Parameters\n",
       "covariance_estimator       None\n",
       "n_components               None\n",
       "priors                     None\n",
       "shrinkage                  None\n",
       "solver                      svd\n",
       "store_covariance          False\n",
       "tol                      0.0001"
      ]
     },
     "metadata": {},
     "output_type": "display_data"
    }
   ],
   "source": [
    "plot_model(lda, plot = 'parameter')"
   ]
  },
  {
   "cell_type": "code",
   "execution_count": 45,
   "metadata": {},
   "outputs": [
    {
     "name": "stdout",
     "output_type": "stream",
     "text": [
      "Transformation Pipeline and Model Successfully Saved\n"
     ]
    },
    {
     "data": {
      "text/plain": [
       "(Pipeline(memory=FastMemory(location=/tmp/joblib),\n",
       "          steps=[('numerical_imputer',\n",
       "                  TransformerWrapper(exclude=None,\n",
       "                                     include=['0', '1', '2', '3', '4', '5', '6',\n",
       "                                              '7', '8', '9', '10', '11', '12',\n",
       "                                              '13', '14', '15', '16', '17', '18',\n",
       "                                              '19', '20', '21', '22', '23', '24',\n",
       "                                              '25', '26', '27', '28', '29', ...],\n",
       "                                     transformer=SimpleImputer(add_indicator=False,\n",
       "                                                               copy=True,\n",
       "                                                               fill_value=None,\n",
       "                                                               keep_empty_feat...\n",
       "                  TransformerWrapper(exclude=None, include=[],\n",
       "                                     transformer=SimpleImputer(add_indicator=False,\n",
       "                                                               copy=True,\n",
       "                                                               fill_value=None,\n",
       "                                                               keep_empty_features=False,\n",
       "                                                               missing_values=nan,\n",
       "                                                               strategy='most_frequent',\n",
       "                                                               verbose='deprecated'))),\n",
       "                 ('trained_model',\n",
       "                  LinearDiscriminantAnalysis(covariance_estimator=None,\n",
       "                                             n_components=None, priors=None,\n",
       "                                             shrinkage=None, solver='svd',\n",
       "                                             store_covariance=False,\n",
       "                                             tol=0.0001))],\n",
       "          verbose=False),\n",
       " 'models_classif/convkb/binary_emb_val/lda.pkl')"
      ]
     },
     "execution_count": 45,
     "metadata": {},
     "output_type": "execute_result"
    }
   ],
   "source": [
    "save_model(lda, 'models_classif/convkb/binary_emb_val/lda')"
   ]
  },
  {
   "cell_type": "markdown",
   "metadata": {},
   "source": [
    "# Extra Trees"
   ]
  },
  {
   "cell_type": "code",
   "execution_count": 46,
   "metadata": {},
   "outputs": [
    {
     "data": {
      "text/html": [],
      "text/plain": [
       "<IPython.core.display.HTML object>"
      ]
     },
     "metadata": {},
     "output_type": "display_data"
    },
    {
     "data": {
      "text/html": [
       "<style type=\"text/css\">\n",
       "#T_c4ad5_row10_col0, #T_c4ad5_row10_col1, #T_c4ad5_row10_col2, #T_c4ad5_row10_col3, #T_c4ad5_row10_col4, #T_c4ad5_row10_col5, #T_c4ad5_row10_col6 {\n",
       "  background: yellow;\n",
       "}\n",
       "</style>\n",
       "<table id=\"T_c4ad5\">\n",
       "  <thead>\n",
       "    <tr>\n",
       "      <th class=\"blank level0\" >&nbsp;</th>\n",
       "      <th id=\"T_c4ad5_level0_col0\" class=\"col_heading level0 col0\" >Accuracy</th>\n",
       "      <th id=\"T_c4ad5_level0_col1\" class=\"col_heading level0 col1\" >AUC</th>\n",
       "      <th id=\"T_c4ad5_level0_col2\" class=\"col_heading level0 col2\" >Recall</th>\n",
       "      <th id=\"T_c4ad5_level0_col3\" class=\"col_heading level0 col3\" >Prec.</th>\n",
       "      <th id=\"T_c4ad5_level0_col4\" class=\"col_heading level0 col4\" >F1</th>\n",
       "      <th id=\"T_c4ad5_level0_col5\" class=\"col_heading level0 col5\" >Kappa</th>\n",
       "      <th id=\"T_c4ad5_level0_col6\" class=\"col_heading level0 col6\" >MCC</th>\n",
       "    </tr>\n",
       "    <tr>\n",
       "      <th class=\"index_name level0\" >Fold</th>\n",
       "      <th class=\"blank col0\" >&nbsp;</th>\n",
       "      <th class=\"blank col1\" >&nbsp;</th>\n",
       "      <th class=\"blank col2\" >&nbsp;</th>\n",
       "      <th class=\"blank col3\" >&nbsp;</th>\n",
       "      <th class=\"blank col4\" >&nbsp;</th>\n",
       "      <th class=\"blank col5\" >&nbsp;</th>\n",
       "      <th class=\"blank col6\" >&nbsp;</th>\n",
       "    </tr>\n",
       "  </thead>\n",
       "  <tbody>\n",
       "    <tr>\n",
       "      <th id=\"T_c4ad5_level0_row0\" class=\"row_heading level0 row0\" >0</th>\n",
       "      <td id=\"T_c4ad5_row0_col0\" class=\"data row0 col0\" >0.7480</td>\n",
       "      <td id=\"T_c4ad5_row0_col1\" class=\"data row0 col1\" >0.8730</td>\n",
       "      <td id=\"T_c4ad5_row0_col2\" class=\"data row0 col2\" >0.5079</td>\n",
       "      <td id=\"T_c4ad5_row0_col3\" class=\"data row0 col3\" >0.9773</td>\n",
       "      <td id=\"T_c4ad5_row0_col4\" class=\"data row0 col4\" >0.6685</td>\n",
       "      <td id=\"T_c4ad5_row0_col5\" class=\"data row0 col5\" >0.4961</td>\n",
       "      <td id=\"T_c4ad5_row0_col6\" class=\"data row0 col6\" >0.5656</td>\n",
       "    </tr>\n",
       "    <tr>\n",
       "      <th id=\"T_c4ad5_level0_row1\" class=\"row_heading level0 row1\" >1</th>\n",
       "      <td id=\"T_c4ad5_row1_col0\" class=\"data row1 col0\" >0.7471</td>\n",
       "      <td id=\"T_c4ad5_row1_col1\" class=\"data row1 col1\" >0.8720</td>\n",
       "      <td id=\"T_c4ad5_row1_col2\" class=\"data row1 col2\" >0.5090</td>\n",
       "      <td id=\"T_c4ad5_row1_col3\" class=\"data row1 col3\" >0.9719</td>\n",
       "      <td id=\"T_c4ad5_row1_col4\" class=\"data row1 col4\" >0.6681</td>\n",
       "      <td id=\"T_c4ad5_row1_col5\" class=\"data row1 col5\" >0.4942</td>\n",
       "      <td id=\"T_c4ad5_row1_col6\" class=\"data row1 col6\" >0.5621</td>\n",
       "    </tr>\n",
       "    <tr>\n",
       "      <th id=\"T_c4ad5_level0_row2\" class=\"row_heading level0 row2\" >2</th>\n",
       "      <td id=\"T_c4ad5_row2_col0\" class=\"data row2 col0\" >0.7473</td>\n",
       "      <td id=\"T_c4ad5_row2_col1\" class=\"data row2 col1\" >0.8722</td>\n",
       "      <td id=\"T_c4ad5_row2_col2\" class=\"data row2 col2\" >0.5073</td>\n",
       "      <td id=\"T_c4ad5_row2_col3\" class=\"data row2 col3\" >0.9760</td>\n",
       "      <td id=\"T_c4ad5_row2_col4\" class=\"data row2 col4\" >0.6676</td>\n",
       "      <td id=\"T_c4ad5_row2_col5\" class=\"data row2 col5\" >0.4947</td>\n",
       "      <td id=\"T_c4ad5_row2_col6\" class=\"data row2 col6\" >0.5640</td>\n",
       "    </tr>\n",
       "    <tr>\n",
       "      <th id=\"T_c4ad5_level0_row3\" class=\"row_heading level0 row3\" >3</th>\n",
       "      <td id=\"T_c4ad5_row3_col0\" class=\"data row3 col0\" >0.7477</td>\n",
       "      <td id=\"T_c4ad5_row3_col1\" class=\"data row3 col1\" >0.8727</td>\n",
       "      <td id=\"T_c4ad5_row3_col2\" class=\"data row3 col2\" >0.5098</td>\n",
       "      <td id=\"T_c4ad5_row3_col3\" class=\"data row3 col3\" >0.9729</td>\n",
       "      <td id=\"T_c4ad5_row3_col4\" class=\"data row3 col4\" >0.6690</td>\n",
       "      <td id=\"T_c4ad5_row3_col5\" class=\"data row3 col5\" >0.4955</td>\n",
       "      <td id=\"T_c4ad5_row3_col6\" class=\"data row3 col6\" >0.5635</td>\n",
       "    </tr>\n",
       "    <tr>\n",
       "      <th id=\"T_c4ad5_level0_row4\" class=\"row_heading level0 row4\" >4</th>\n",
       "      <td id=\"T_c4ad5_row4_col0\" class=\"data row4 col0\" >0.7478</td>\n",
       "      <td id=\"T_c4ad5_row4_col1\" class=\"data row4 col1\" >0.8727</td>\n",
       "      <td id=\"T_c4ad5_row4_col2\" class=\"data row4 col2\" >0.5105</td>\n",
       "      <td id=\"T_c4ad5_row4_col3\" class=\"data row4 col3\" >0.9717</td>\n",
       "      <td id=\"T_c4ad5_row4_col4\" class=\"data row4 col4\" >0.6694</td>\n",
       "      <td id=\"T_c4ad5_row4_col5\" class=\"data row4 col5\" >0.4956</td>\n",
       "      <td id=\"T_c4ad5_row4_col6\" class=\"data row4 col6\" >0.5631</td>\n",
       "    </tr>\n",
       "    <tr>\n",
       "      <th id=\"T_c4ad5_level0_row5\" class=\"row_heading level0 row5\" >5</th>\n",
       "      <td id=\"T_c4ad5_row5_col0\" class=\"data row5 col0\" >0.7494</td>\n",
       "      <td id=\"T_c4ad5_row5_col1\" class=\"data row5 col1\" >0.8743</td>\n",
       "      <td id=\"T_c4ad5_row5_col2\" class=\"data row5 col2\" >0.5123</td>\n",
       "      <td id=\"T_c4ad5_row5_col3\" class=\"data row5 col3\" >0.9747</td>\n",
       "      <td id=\"T_c4ad5_row5_col4\" class=\"data row5 col4\" >0.6716</td>\n",
       "      <td id=\"T_c4ad5_row5_col5\" class=\"data row5 col5\" >0.4989</td>\n",
       "      <td id=\"T_c4ad5_row5_col6\" class=\"data row5 col6\" >0.5667</td>\n",
       "    </tr>\n",
       "    <tr>\n",
       "      <th id=\"T_c4ad5_level0_row6\" class=\"row_heading level0 row6\" >6</th>\n",
       "      <td id=\"T_c4ad5_row6_col0\" class=\"data row6 col0\" >0.7479</td>\n",
       "      <td id=\"T_c4ad5_row6_col1\" class=\"data row6 col1\" >0.8729</td>\n",
       "      <td id=\"T_c4ad5_row6_col2\" class=\"data row6 col2\" >0.5136</td>\n",
       "      <td id=\"T_c4ad5_row6_col3\" class=\"data row6 col3\" >0.9667</td>\n",
       "      <td id=\"T_c4ad5_row6_col4\" class=\"data row6 col4\" >0.6708</td>\n",
       "      <td id=\"T_c4ad5_row6_col5\" class=\"data row6 col5\" >0.4959</td>\n",
       "      <td id=\"T_c4ad5_row6_col6\" class=\"data row6 col6\" >0.5614</td>\n",
       "    </tr>\n",
       "    <tr>\n",
       "      <th id=\"T_c4ad5_level0_row7\" class=\"row_heading level0 row7\" >7</th>\n",
       "      <td id=\"T_c4ad5_row7_col0\" class=\"data row7 col0\" >0.7453</td>\n",
       "      <td id=\"T_c4ad5_row7_col1\" class=\"data row7 col1\" >0.8702</td>\n",
       "      <td id=\"T_c4ad5_row7_col2\" class=\"data row7 col2\" >0.5067</td>\n",
       "      <td id=\"T_c4ad5_row7_col3\" class=\"data row7 col3\" >0.9694</td>\n",
       "      <td id=\"T_c4ad5_row7_col4\" class=\"data row7 col4\" >0.6656</td>\n",
       "      <td id=\"T_c4ad5_row7_col5\" class=\"data row7 col5\" >0.4907</td>\n",
       "      <td id=\"T_c4ad5_row7_col6\" class=\"data row7 col6\" >0.5584</td>\n",
       "    </tr>\n",
       "    <tr>\n",
       "      <th id=\"T_c4ad5_level0_row8\" class=\"row_heading level0 row8\" >8</th>\n",
       "      <td id=\"T_c4ad5_row8_col0\" class=\"data row8 col0\" >0.7472</td>\n",
       "      <td id=\"T_c4ad5_row8_col1\" class=\"data row8 col1\" >0.8721</td>\n",
       "      <td id=\"T_c4ad5_row8_col2\" class=\"data row8 col2\" >0.5065</td>\n",
       "      <td id=\"T_c4ad5_row8_col3\" class=\"data row8 col3\" >0.9767</td>\n",
       "      <td id=\"T_c4ad5_row8_col4\" class=\"data row8 col4\" >0.6671</td>\n",
       "      <td id=\"T_c4ad5_row8_col5\" class=\"data row8 col5\" >0.4944</td>\n",
       "      <td id=\"T_c4ad5_row8_col6\" class=\"data row8 col6\" >0.5641</td>\n",
       "    </tr>\n",
       "    <tr>\n",
       "      <th id=\"T_c4ad5_level0_row9\" class=\"row_heading level0 row9\" >9</th>\n",
       "      <td id=\"T_c4ad5_row9_col0\" class=\"data row9 col0\" >0.7471</td>\n",
       "      <td id=\"T_c4ad5_row9_col1\" class=\"data row9 col1\" >0.8721</td>\n",
       "      <td id=\"T_c4ad5_row9_col2\" class=\"data row9 col2\" >0.5082</td>\n",
       "      <td id=\"T_c4ad5_row9_col3\" class=\"data row9 col3\" >0.9735</td>\n",
       "      <td id=\"T_c4ad5_row9_col4\" class=\"data row9 col4\" >0.6678</td>\n",
       "      <td id=\"T_c4ad5_row9_col5\" class=\"data row9 col5\" >0.4943</td>\n",
       "      <td id=\"T_c4ad5_row9_col6\" class=\"data row9 col6\" >0.5628</td>\n",
       "    </tr>\n",
       "    <tr>\n",
       "      <th id=\"T_c4ad5_level0_row10\" class=\"row_heading level0 row10\" >Mean</th>\n",
       "      <td id=\"T_c4ad5_row10_col0\" class=\"data row10 col0\" >0.7475</td>\n",
       "      <td id=\"T_c4ad5_row10_col1\" class=\"data row10 col1\" >0.8724</td>\n",
       "      <td id=\"T_c4ad5_row10_col2\" class=\"data row10 col2\" >0.5092</td>\n",
       "      <td id=\"T_c4ad5_row10_col3\" class=\"data row10 col3\" >0.9731</td>\n",
       "      <td id=\"T_c4ad5_row10_col4\" class=\"data row10 col4\" >0.6685</td>\n",
       "      <td id=\"T_c4ad5_row10_col5\" class=\"data row10 col5\" >0.4950</td>\n",
       "      <td id=\"T_c4ad5_row10_col6\" class=\"data row10 col6\" >0.5632</td>\n",
       "    </tr>\n",
       "    <tr>\n",
       "      <th id=\"T_c4ad5_level0_row11\" class=\"row_heading level0 row11\" >Std</th>\n",
       "      <td id=\"T_c4ad5_row11_col0\" class=\"data row11 col0\" >0.0010</td>\n",
       "      <td id=\"T_c4ad5_row11_col1\" class=\"data row11 col1\" >0.0010</td>\n",
       "      <td id=\"T_c4ad5_row11_col2\" class=\"data row11 col2\" >0.0023</td>\n",
       "      <td id=\"T_c4ad5_row11_col3\" class=\"data row11 col3\" >0.0032</td>\n",
       "      <td id=\"T_c4ad5_row11_col4\" class=\"data row11 col4\" >0.0017</td>\n",
       "      <td id=\"T_c4ad5_row11_col5\" class=\"data row11 col5\" >0.0020</td>\n",
       "      <td id=\"T_c4ad5_row11_col6\" class=\"data row11 col6\" >0.0022</td>\n",
       "    </tr>\n",
       "  </tbody>\n",
       "</table>\n"
      ],
      "text/plain": [
       "<pandas.io.formats.style.Styler at 0x7fd07fe4e650>"
      ]
     },
     "metadata": {},
     "output_type": "display_data"
    },
    {
     "data": {
      "text/html": [],
      "text/plain": [
       "<IPython.core.display.HTML object>"
      ]
     },
     "metadata": {},
     "output_type": "display_data"
    }
   ],
   "source": [
    "et = create_model('et')"
   ]
  },
  {
   "cell_type": "code",
   "execution_count": 47,
   "metadata": {},
   "outputs": [
    {
     "data": {
      "text/html": [],
      "text/plain": [
       "<IPython.core.display.HTML object>"
      ]
     },
     "metadata": {},
     "output_type": "display_data"
    },
    {
     "data": {
      "image/png": "[encoded data removed]",
      "text/plain": [
       "<Figure size 800x550 with 1 Axes>"
      ]
     },
     "metadata": {},
     "output_type": "display_data"
    }
   ],
   "source": [
    "plot_model(et, plot = 'confusion_matrix')"
   ]
  },
  {
   "cell_type": "code",
   "execution_count": 48,
   "metadata": {},
   "outputs": [
    {
     "data": {
      "text/html": [],
      "text/plain": [
       "<IPython.core.display.HTML object>"
      ]
     },
     "metadata": {},
     "output_type": "display_data"
    },
    {
     "data": {
      "image/png": "[encoded data removed]",
      "text/plain": [
       "<Figure size 800x550 with 1 Axes>"
      ]
     },
     "metadata": {},
     "output_type": "display_data"
    }
   ],
   "source": [
    "plot_model(et, plot = 'error')"
   ]
  },
  {
   "cell_type": "code",
   "execution_count": 49,
   "metadata": {},
   "outputs": [
    {
     "data": {
      "text/html": [],
      "text/plain": [
       "<IPython.core.display.HTML object>"
      ]
     },
     "metadata": {},
     "output_type": "display_data"
    },
    {
     "data": {
      "text/html": [
       "<div>\n",
       "<style scoped>\n",
       "    .dataframe tbody tr th:only-of-type {\n",
       "        vertical-align: middle;\n",
       "    }\n",
       "\n",
       "    .dataframe tbody tr th {\n",
       "        vertical-align: top;\n",
       "    }\n",
       "\n",
       "    .dataframe thead th {\n",
       "        text-align: right;\n",
       "    }\n",
       "</style>\n",
       "<table border=\"1\" class=\"dataframe\">\n",
       "  <thead>\n",
       "    <tr style=\"text-align: right;\">\n",
       "      <th></th>\n",
       "      <th>Parameters</th>\n",
       "    </tr>\n",
       "  </thead>\n",
       "  <tbody>\n",
       "    <tr>\n",
       "      <th>bootstrap</th>\n",
       "      <td>False</td>\n",
       "    </tr>\n",
       "    <tr>\n",
       "      <th>ccp_alpha</th>\n",
       "      <td>0.0</td>\n",
       "    </tr>\n",
       "    <tr>\n",
       "      <th>class_weight</th>\n",
       "      <td>None</td>\n",
       "    </tr>\n",
       "    <tr>\n",
       "      <th>criterion</th>\n",
       "      <td>gini</td>\n",
       "    </tr>\n",
       "    <tr>\n",
       "      <th>max_depth</th>\n",
       "      <td>None</td>\n",
       "    </tr>\n",
       "    <tr>\n",
       "      <th>max_features</th>\n",
       "      <td>sqrt</td>\n",
       "    </tr>\n",
       "    <tr>\n",
       "      <th>max_leaf_nodes</th>\n",
       "      <td>None</td>\n",
       "    </tr>\n",
       "    <tr>\n",
       "      <th>max_samples</th>\n",
       "      <td>None</td>\n",
       "    </tr>\n",
       "    <tr>\n",
       "      <th>min_impurity_decrease</th>\n",
       "      <td>0.0</td>\n",
       "    </tr>\n",
       "    <tr>\n",
       "      <th>min_samples_leaf</th>\n",
       "      <td>1</td>\n",
       "    </tr>\n",
       "    <tr>\n",
       "      <th>min_samples_split</th>\n",
       "      <td>2</td>\n",
       "    </tr>\n",
       "    <tr>\n",
       "      <th>min_weight_fraction_leaf</th>\n",
       "      <td>0.0</td>\n",
       "    </tr>\n",
       "    <tr>\n",
       "      <th>n_estimators</th>\n",
       "      <td>100</td>\n",
       "    </tr>\n",
       "    <tr>\n",
       "      <th>n_jobs</th>\n",
       "      <td>-1</td>\n",
       "    </tr>\n",
       "    <tr>\n",
       "      <th>oob_score</th>\n",
       "      <td>False</td>\n",
       "    </tr>\n",
       "    <tr>\n",
       "      <th>random_state</th>\n",
       "      <td>1187</td>\n",
       "    </tr>\n",
       "    <tr>\n",
       "      <th>verbose</th>\n",
       "      <td>0</td>\n",
       "    </tr>\n",
       "    <tr>\n",
       "      <th>warm_start</th>\n",
       "      <td>False</td>\n",
       "    </tr>\n",
       "  </tbody>\n",
       "</table>\n",
       "</div>"
      ],
      "text/plain": [
       "                         Parameters\n",
       "bootstrap                     False\n",
       "ccp_alpha                       0.0\n",
       "class_weight                   None\n",
       "criterion                      gini\n",
       "max_depth                      None\n",
       "max_features                   sqrt\n",
       "max_leaf_nodes                 None\n",
       "max_samples                    None\n",
       "min_impurity_decrease           0.0\n",
       "min_samples_leaf                  1\n",
       "min_samples_split                 2\n",
       "min_weight_fraction_leaf        0.0\n",
       "n_estimators                    100\n",
       "n_jobs                           -1\n",
       "oob_score                     False\n",
       "random_state                   1187\n",
       "verbose                           0\n",
       "warm_start                    False"
      ]
     },
     "metadata": {},
     "output_type": "display_data"
    }
   ],
   "source": [
    "plot_model(et, plot = 'parameter')"
   ]
  },
  {
   "cell_type": "code",
   "execution_count": 50,
   "metadata": {},
   "outputs": [
    {
     "name": "stdout",
     "output_type": "stream",
     "text": [
      "Transformation Pipeline and Model Successfully Saved\n"
     ]
    },
    {
     "data": {
      "text/plain": [
       "(Pipeline(memory=FastMemory(location=/tmp/joblib),\n",
       "          steps=[('numerical_imputer',\n",
       "                  TransformerWrapper(exclude=None,\n",
       "                                     include=['0', '1', '2', '3', '4', '5', '6',\n",
       "                                              '7', '8', '9', '10', '11', '12',\n",
       "                                              '13', '14', '15', '16', '17', '18',\n",
       "                                              '19', '20', '21', '22', '23', '24',\n",
       "                                              '25', '26', '27', '28', '29', ...],\n",
       "                                     transformer=SimpleImputer(add_indicator=False,\n",
       "                                                               copy=True,\n",
       "                                                               fill_value=None,\n",
       "                                                               keep_empty_feat...\n",
       "                  ExtraTreesClassifier(bootstrap=False, ccp_alpha=0.0,\n",
       "                                       class_weight=None, criterion='gini',\n",
       "                                       max_depth=None, max_features='sqrt',\n",
       "                                       max_leaf_nodes=None, max_samples=None,\n",
       "                                       min_impurity_decrease=0.0,\n",
       "                                       min_samples_leaf=1, min_samples_split=2,\n",
       "                                       min_weight_fraction_leaf=0.0,\n",
       "                                       n_estimators=100, n_jobs=-1,\n",
       "                                       oob_score=False, random_state=1187,\n",
       "                                       verbose=0, warm_start=False))],\n",
       "          verbose=False),\n",
       " 'models_classif/convkb/binary_emb_val/et.pkl')"
      ]
     },
     "execution_count": 50,
     "metadata": {},
     "output_type": "execute_result"
    }
   ],
   "source": [
    "save_model(et, 'models_classif/convkb/binary_emb_val/et')"
   ]
  },
  {
   "cell_type": "markdown",
   "metadata": {},
   "source": [
    "# Light Gradient Boosting Machine"
   ]
  },
  {
   "cell_type": "code",
   "execution_count": 51,
   "metadata": {},
   "outputs": [
    {
     "data": {
      "text/html": [],
      "text/plain": [
       "<IPython.core.display.HTML object>"
      ]
     },
     "metadata": {},
     "output_type": "display_data"
    },
    {
     "data": {
      "text/html": [
       "<style type=\"text/css\">\n",
       "#T_f10e8_row10_col0, #T_f10e8_row10_col1, #T_f10e8_row10_col2, #T_f10e8_row10_col3, #T_f10e8_row10_col4, #T_f10e8_row10_col5, #T_f10e8_row10_col6 {\n",
       "  background: yellow;\n",
       "}\n",
       "</style>\n",
       "<table id=\"T_f10e8\">\n",
       "  <thead>\n",
       "    <tr>\n",
       "      <th class=\"blank level0\" >&nbsp;</th>\n",
       "      <th id=\"T_f10e8_level0_col0\" class=\"col_heading level0 col0\" >Accuracy</th>\n",
       "      <th id=\"T_f10e8_level0_col1\" class=\"col_heading level0 col1\" >AUC</th>\n",
       "      <th id=\"T_f10e8_level0_col2\" class=\"col_heading level0 col2\" >Recall</th>\n",
       "      <th id=\"T_f10e8_level0_col3\" class=\"col_heading level0 col3\" >Prec.</th>\n",
       "      <th id=\"T_f10e8_level0_col4\" class=\"col_heading level0 col4\" >F1</th>\n",
       "      <th id=\"T_f10e8_level0_col5\" class=\"col_heading level0 col5\" >Kappa</th>\n",
       "      <th id=\"T_f10e8_level0_col6\" class=\"col_heading level0 col6\" >MCC</th>\n",
       "    </tr>\n",
       "    <tr>\n",
       "      <th class=\"index_name level0\" >Fold</th>\n",
       "      <th class=\"blank col0\" >&nbsp;</th>\n",
       "      <th class=\"blank col1\" >&nbsp;</th>\n",
       "      <th class=\"blank col2\" >&nbsp;</th>\n",
       "      <th class=\"blank col3\" >&nbsp;</th>\n",
       "      <th class=\"blank col4\" >&nbsp;</th>\n",
       "      <th class=\"blank col5\" >&nbsp;</th>\n",
       "      <th class=\"blank col6\" >&nbsp;</th>\n",
       "    </tr>\n",
       "  </thead>\n",
       "  <tbody>\n",
       "    <tr>\n",
       "      <th id=\"T_f10e8_level0_row0\" class=\"row_heading level0 row0\" >0</th>\n",
       "      <td id=\"T_f10e8_row0_col0\" class=\"data row0 col0\" >0.6812</td>\n",
       "      <td id=\"T_f10e8_row0_col1\" class=\"data row0 col1\" >0.7169</td>\n",
       "      <td id=\"T_f10e8_row0_col2\" class=\"data row0 col2\" >0.8099</td>\n",
       "      <td id=\"T_f10e8_row0_col3\" class=\"data row0 col3\" >0.6442</td>\n",
       "      <td id=\"T_f10e8_row0_col4\" class=\"data row0 col4\" >0.7176</td>\n",
       "      <td id=\"T_f10e8_row0_col5\" class=\"data row0 col5\" >0.3624</td>\n",
       "      <td id=\"T_f10e8_row0_col6\" class=\"data row0 col6\" >0.3750</td>\n",
       "    </tr>\n",
       "    <tr>\n",
       "      <th id=\"T_f10e8_level0_row1\" class=\"row_heading level0 row1\" >1</th>\n",
       "      <td id=\"T_f10e8_row1_col0\" class=\"data row1 col0\" >0.6783</td>\n",
       "      <td id=\"T_f10e8_row1_col1\" class=\"data row1 col1\" >0.7145</td>\n",
       "      <td id=\"T_f10e8_row1_col2\" class=\"data row1 col2\" >0.8088</td>\n",
       "      <td id=\"T_f10e8_row1_col3\" class=\"data row1 col3\" >0.6414</td>\n",
       "      <td id=\"T_f10e8_row1_col4\" class=\"data row1 col4\" >0.7154</td>\n",
       "      <td id=\"T_f10e8_row1_col5\" class=\"data row1 col5\" >0.3565</td>\n",
       "      <td id=\"T_f10e8_row1_col6\" class=\"data row1 col6\" >0.3693</td>\n",
       "    </tr>\n",
       "    <tr>\n",
       "      <th id=\"T_f10e8_level0_row2\" class=\"row_heading level0 row2\" >2</th>\n",
       "      <td id=\"T_f10e8_row2_col0\" class=\"data row2 col0\" >0.6804</td>\n",
       "      <td id=\"T_f10e8_row2_col1\" class=\"data row2 col1\" >0.7168</td>\n",
       "      <td id=\"T_f10e8_row2_col2\" class=\"data row2 col2\" >0.8088</td>\n",
       "      <td id=\"T_f10e8_row2_col3\" class=\"data row2 col3\" >0.6436</td>\n",
       "      <td id=\"T_f10e8_row2_col4\" class=\"data row2 col4\" >0.7168</td>\n",
       "      <td id=\"T_f10e8_row2_col5\" class=\"data row2 col5\" >0.3608</td>\n",
       "      <td id=\"T_f10e8_row2_col6\" class=\"data row2 col6\" >0.3733</td>\n",
       "    </tr>\n",
       "    <tr>\n",
       "      <th id=\"T_f10e8_level0_row3\" class=\"row_heading level0 row3\" >3</th>\n",
       "      <td id=\"T_f10e8_row3_col0\" class=\"data row3 col0\" >0.6802</td>\n",
       "      <td id=\"T_f10e8_row3_col1\" class=\"data row3 col1\" >0.7166</td>\n",
       "      <td id=\"T_f10e8_row3_col2\" class=\"data row3 col2\" >0.8095</td>\n",
       "      <td id=\"T_f10e8_row3_col3\" class=\"data row3 col3\" >0.6433</td>\n",
       "      <td id=\"T_f10e8_row3_col4\" class=\"data row3 col4\" >0.7169</td>\n",
       "      <td id=\"T_f10e8_row3_col5\" class=\"data row3 col5\" >0.3604</td>\n",
       "      <td id=\"T_f10e8_row3_col6\" class=\"data row3 col6\" >0.3731</td>\n",
       "    </tr>\n",
       "    <tr>\n",
       "      <th id=\"T_f10e8_level0_row4\" class=\"row_heading level0 row4\" >4</th>\n",
       "      <td id=\"T_f10e8_row4_col0\" class=\"data row4 col0\" >0.6805</td>\n",
       "      <td id=\"T_f10e8_row4_col1\" class=\"data row4 col1\" >0.7170</td>\n",
       "      <td id=\"T_f10e8_row4_col2\" class=\"data row4 col2\" >0.8100</td>\n",
       "      <td id=\"T_f10e8_row4_col3\" class=\"data row4 col3\" >0.6434</td>\n",
       "      <td id=\"T_f10e8_row4_col4\" class=\"data row4 col4\" >0.7172</td>\n",
       "      <td id=\"T_f10e8_row4_col5\" class=\"data row4 col5\" >0.3609</td>\n",
       "      <td id=\"T_f10e8_row4_col6\" class=\"data row4 col6\" >0.3736</td>\n",
       "    </tr>\n",
       "    <tr>\n",
       "      <th id=\"T_f10e8_level0_row5\" class=\"row_heading level0 row5\" >5</th>\n",
       "      <td id=\"T_f10e8_row5_col0\" class=\"data row5 col0\" >0.6803</td>\n",
       "      <td id=\"T_f10e8_row5_col1\" class=\"data row5 col1\" >0.7173</td>\n",
       "      <td id=\"T_f10e8_row5_col2\" class=\"data row5 col2\" >0.8096</td>\n",
       "      <td id=\"T_f10e8_row5_col3\" class=\"data row5 col3\" >0.6433</td>\n",
       "      <td id=\"T_f10e8_row5_col4\" class=\"data row5 col4\" >0.7169</td>\n",
       "      <td id=\"T_f10e8_row5_col5\" class=\"data row5 col5\" >0.3605</td>\n",
       "      <td id=\"T_f10e8_row5_col6\" class=\"data row5 col6\" >0.3732</td>\n",
       "    </tr>\n",
       "    <tr>\n",
       "      <th id=\"T_f10e8_level0_row6\" class=\"row_heading level0 row6\" >6</th>\n",
       "      <td id=\"T_f10e8_row6_col0\" class=\"data row6 col0\" >0.6804</td>\n",
       "      <td id=\"T_f10e8_row6_col1\" class=\"data row6 col1\" >0.7162</td>\n",
       "      <td id=\"T_f10e8_row6_col2\" class=\"data row6 col2\" >0.8099</td>\n",
       "      <td id=\"T_f10e8_row6_col3\" class=\"data row6 col3\" >0.6434</td>\n",
       "      <td id=\"T_f10e8_row6_col4\" class=\"data row6 col4\" >0.7171</td>\n",
       "      <td id=\"T_f10e8_row6_col5\" class=\"data row6 col5\" >0.3608</td>\n",
       "      <td id=\"T_f10e8_row6_col6\" class=\"data row6 col6\" >0.3735</td>\n",
       "    </tr>\n",
       "    <tr>\n",
       "      <th id=\"T_f10e8_level0_row7\" class=\"row_heading level0 row7\" >7</th>\n",
       "      <td id=\"T_f10e8_row7_col0\" class=\"data row7 col0\" >0.6796</td>\n",
       "      <td id=\"T_f10e8_row7_col1\" class=\"data row7 col1\" >0.7154</td>\n",
       "      <td id=\"T_f10e8_row7_col2\" class=\"data row7 col2\" >0.8077</td>\n",
       "      <td id=\"T_f10e8_row7_col3\" class=\"data row7 col3\" >0.6430</td>\n",
       "      <td id=\"T_f10e8_row7_col4\" class=\"data row7 col4\" >0.7160</td>\n",
       "      <td id=\"T_f10e8_row7_col5\" class=\"data row7 col5\" >0.3591</td>\n",
       "      <td id=\"T_f10e8_row7_col6\" class=\"data row7 col6\" >0.3715</td>\n",
       "    </tr>\n",
       "    <tr>\n",
       "      <th id=\"T_f10e8_level0_row8\" class=\"row_heading level0 row8\" >8</th>\n",
       "      <td id=\"T_f10e8_row8_col0\" class=\"data row8 col0\" >0.6802</td>\n",
       "      <td id=\"T_f10e8_row8_col1\" class=\"data row8 col1\" >0.7162</td>\n",
       "      <td id=\"T_f10e8_row8_col2\" class=\"data row8 col2\" >0.8095</td>\n",
       "      <td id=\"T_f10e8_row8_col3\" class=\"data row8 col3\" >0.6432</td>\n",
       "      <td id=\"T_f10e8_row8_col4\" class=\"data row8 col4\" >0.7168</td>\n",
       "      <td id=\"T_f10e8_row8_col5\" class=\"data row8 col5\" >0.3603</td>\n",
       "      <td id=\"T_f10e8_row8_col6\" class=\"data row8 col6\" >0.3730</td>\n",
       "    </tr>\n",
       "    <tr>\n",
       "      <th id=\"T_f10e8_level0_row9\" class=\"row_heading level0 row9\" >9</th>\n",
       "      <td id=\"T_f10e8_row9_col0\" class=\"data row9 col0\" >0.6795</td>\n",
       "      <td id=\"T_f10e8_row9_col1\" class=\"data row9 col1\" >0.7149</td>\n",
       "      <td id=\"T_f10e8_row9_col2\" class=\"data row9 col2\" >0.8086</td>\n",
       "      <td id=\"T_f10e8_row9_col3\" class=\"data row9 col3\" >0.6428</td>\n",
       "      <td id=\"T_f10e8_row9_col4\" class=\"data row9 col4\" >0.7162</td>\n",
       "      <td id=\"T_f10e8_row9_col5\" class=\"data row9 col5\" >0.3591</td>\n",
       "      <td id=\"T_f10e8_row9_col6\" class=\"data row9 col6\" >0.3716</td>\n",
       "    </tr>\n",
       "    <tr>\n",
       "      <th id=\"T_f10e8_level0_row10\" class=\"row_heading level0 row10\" >Mean</th>\n",
       "      <td id=\"T_f10e8_row10_col0\" class=\"data row10 col0\" >0.6801</td>\n",
       "      <td id=\"T_f10e8_row10_col1\" class=\"data row10 col1\" >0.7162</td>\n",
       "      <td id=\"T_f10e8_row10_col2\" class=\"data row10 col2\" >0.8092</td>\n",
       "      <td id=\"T_f10e8_row10_col3\" class=\"data row10 col3\" >0.6432</td>\n",
       "      <td id=\"T_f10e8_row10_col4\" class=\"data row10 col4\" >0.7167</td>\n",
       "      <td id=\"T_f10e8_row10_col5\" class=\"data row10 col5\" >0.3601</td>\n",
       "      <td id=\"T_f10e8_row10_col6\" class=\"data row10 col6\" >0.3727</td>\n",
       "    </tr>\n",
       "    <tr>\n",
       "      <th id=\"T_f10e8_level0_row11\" class=\"row_heading level0 row11\" >Std</th>\n",
       "      <td id=\"T_f10e8_row11_col0\" class=\"data row11 col0\" >0.0007</td>\n",
       "      <td id=\"T_f10e8_row11_col1\" class=\"data row11 col1\" >0.0009</td>\n",
       "      <td id=\"T_f10e8_row11_col2\" class=\"data row11 col2\" >0.0007</td>\n",
       "      <td id=\"T_f10e8_row11_col3\" class=\"data row11 col3\" >0.0007</td>\n",
       "      <td id=\"T_f10e8_row11_col4\" class=\"data row11 col4\" >0.0006</td>\n",
       "      <td id=\"T_f10e8_row11_col5\" class=\"data row11 col5\" >0.0015</td>\n",
       "      <td id=\"T_f10e8_row11_col6\" class=\"data row11 col6\" >0.0015</td>\n",
       "    </tr>\n",
       "  </tbody>\n",
       "</table>\n"
      ],
      "text/plain": [
       "<pandas.io.formats.style.Styler at 0x7fd0a2249630>"
      ]
     },
     "metadata": {},
     "output_type": "display_data"
    },
    {
     "data": {
      "text/html": [],
      "text/plain": [
       "<IPython.core.display.HTML object>"
      ]
     },
     "metadata": {},
     "output_type": "display_data"
    }
   ],
   "source": [
    "lightgbm = create_model('lightgbm')"
   ]
  },
  {
   "cell_type": "code",
   "execution_count": 52,
   "metadata": {},
   "outputs": [
    {
     "data": {
      "text/html": [],
      "text/plain": [
       "<IPython.core.display.HTML object>"
      ]
     },
     "metadata": {},
     "output_type": "display_data"
    },
    {
     "data": {
      "image/png": "[encoded data removed]",
      "text/plain": [
       "<Figure size 800x550 with 1 Axes>"
      ]
     },
     "metadata": {},
     "output_type": "display_data"
    }
   ],
   "source": [
    "plot_model(lightgbm, plot = 'confusion_matrix')"
   ]
  },
  {
   "cell_type": "code",
   "execution_count": 53,
   "metadata": {},
   "outputs": [
    {
     "data": {
      "text/html": [],
      "text/plain": [
       "<IPython.core.display.HTML object>"
      ]
     },
     "metadata": {},
     "output_type": "display_data"
    },
    {
     "data": {
      "image/png": "[encoded data removed]",
      "text/plain": [
       "<Figure size 800x550 with 1 Axes>"
      ]
     },
     "metadata": {},
     "output_type": "display_data"
    }
   ],
   "source": [
    "plot_model(lightgbm, plot = 'error')"
   ]
  },
  {
   "cell_type": "code",
   "execution_count": 54,
   "metadata": {},
   "outputs": [
    {
     "data": {
      "text/html": [],
      "text/plain": [
       "<IPython.core.display.HTML object>"
      ]
     },
     "metadata": {},
     "output_type": "display_data"
    },
    {
     "data": {
      "text/html": [
       "<div>\n",
       "<style scoped>\n",
       "    .dataframe tbody tr th:only-of-type {\n",
       "        vertical-align: middle;\n",
       "    }\n",
       "\n",
       "    .dataframe tbody tr th {\n",
       "        vertical-align: top;\n",
       "    }\n",
       "\n",
       "    .dataframe thead th {\n",
       "        text-align: right;\n",
       "    }\n",
       "</style>\n",
       "<table border=\"1\" class=\"dataframe\">\n",
       "  <thead>\n",
       "    <tr style=\"text-align: right;\">\n",
       "      <th></th>\n",
       "      <th>Parameters</th>\n",
       "    </tr>\n",
       "  </thead>\n",
       "  <tbody>\n",
       "    <tr>\n",
       "      <th>boosting_type</th>\n",
       "      <td>gbdt</td>\n",
       "    </tr>\n",
       "    <tr>\n",
       "      <th>class_weight</th>\n",
       "      <td>None</td>\n",
       "    </tr>\n",
       "    <tr>\n",
       "      <th>colsample_bytree</th>\n",
       "      <td>1.0</td>\n",
       "    </tr>\n",
       "    <tr>\n",
       "      <th>importance_type</th>\n",
       "      <td>split</td>\n",
       "    </tr>\n",
       "    <tr>\n",
       "      <th>learning_rate</th>\n",
       "      <td>0.1</td>\n",
       "    </tr>\n",
       "    <tr>\n",
       "      <th>max_depth</th>\n",
       "      <td>-1</td>\n",
       "    </tr>\n",
       "    <tr>\n",
       "      <th>min_child_samples</th>\n",
       "      <td>20</td>\n",
       "    </tr>\n",
       "    <tr>\n",
       "      <th>min_child_weight</th>\n",
       "      <td>0.001</td>\n",
       "    </tr>\n",
       "    <tr>\n",
       "      <th>min_split_gain</th>\n",
       "      <td>0.0</td>\n",
       "    </tr>\n",
       "    <tr>\n",
       "      <th>n_estimators</th>\n",
       "      <td>100</td>\n",
       "    </tr>\n",
       "    <tr>\n",
       "      <th>n_jobs</th>\n",
       "      <td>-1</td>\n",
       "    </tr>\n",
       "    <tr>\n",
       "      <th>num_leaves</th>\n",
       "      <td>31</td>\n",
       "    </tr>\n",
       "    <tr>\n",
       "      <th>objective</th>\n",
       "      <td>None</td>\n",
       "    </tr>\n",
       "    <tr>\n",
       "      <th>random_state</th>\n",
       "      <td>1187</td>\n",
       "    </tr>\n",
       "    <tr>\n",
       "      <th>reg_alpha</th>\n",
       "      <td>0.0</td>\n",
       "    </tr>\n",
       "    <tr>\n",
       "      <th>reg_lambda</th>\n",
       "      <td>0.0</td>\n",
       "    </tr>\n",
       "    <tr>\n",
       "      <th>silent</th>\n",
       "      <td>warn</td>\n",
       "    </tr>\n",
       "    <tr>\n",
       "      <th>subsample</th>\n",
       "      <td>1.0</td>\n",
       "    </tr>\n",
       "    <tr>\n",
       "      <th>subsample_for_bin</th>\n",
       "      <td>200000</td>\n",
       "    </tr>\n",
       "    <tr>\n",
       "      <th>subsample_freq</th>\n",
       "      <td>0</td>\n",
       "    </tr>\n",
       "  </tbody>\n",
       "</table>\n",
       "</div>"
      ],
      "text/plain": [
       "                  Parameters\n",
       "boosting_type           gbdt\n",
       "class_weight            None\n",
       "colsample_bytree         1.0\n",
       "importance_type        split\n",
       "learning_rate            0.1\n",
       "max_depth                 -1\n",
       "min_child_samples         20\n",
       "min_child_weight       0.001\n",
       "min_split_gain           0.0\n",
       "n_estimators             100\n",
       "n_jobs                    -1\n",
       "num_leaves                31\n",
       "objective               None\n",
       "random_state            1187\n",
       "reg_alpha                0.0\n",
       "reg_lambda               0.0\n",
       "silent                  warn\n",
       "subsample                1.0\n",
       "subsample_for_bin     200000\n",
       "subsample_freq             0"
      ]
     },
     "metadata": {},
     "output_type": "display_data"
    }
   ],
   "source": [
    "plot_model(lightgbm, plot = 'parameter')"
   ]
  },
  {
   "cell_type": "code",
   "execution_count": 55,
   "metadata": {},
   "outputs": [
    {
     "name": "stdout",
     "output_type": "stream",
     "text": [
      "Transformation Pipeline and Model Successfully Saved\n"
     ]
    },
    {
     "data": {
      "text/plain": [
       "(Pipeline(memory=FastMemory(location=/tmp/joblib),\n",
       "          steps=[('numerical_imputer',\n",
       "                  TransformerWrapper(exclude=None,\n",
       "                                     include=['0', '1', '2', '3', '4', '5', '6',\n",
       "                                              '7', '8', '9', '10', '11', '12',\n",
       "                                              '13', '14', '15', '16', '17', '18',\n",
       "                                              '19', '20', '21', '22', '23', '24',\n",
       "                                              '25', '26', '27', '28', '29', ...],\n",
       "                                     transformer=SimpleImputer(add_indicator=False,\n",
       "                                                               copy=True,\n",
       "                                                               fill_value=None,\n",
       "                                                               keep_empty_feat...\n",
       "                  LGBMClassifier(boosting_type='gbdt', class_weight=None,\n",
       "                                 colsample_bytree=1.0, importance_type='split',\n",
       "                                 learning_rate=0.1, max_depth=-1,\n",
       "                                 min_child_samples=20, min_child_weight=0.001,\n",
       "                                 min_split_gain=0.0, n_estimators=100, n_jobs=-1,\n",
       "                                 num_leaves=31, objective=None,\n",
       "                                 random_state=1187, reg_alpha=0.0,\n",
       "                                 reg_lambda=0.0, silent='warn', subsample=1.0,\n",
       "                                 subsample_for_bin=200000, subsample_freq=0))],\n",
       "          verbose=False),\n",
       " 'models_classif/convkb/binary_emb_val/lightgbm.pkl')"
      ]
     },
     "execution_count": 55,
     "metadata": {},
     "output_type": "execute_result"
    }
   ],
   "source": [
    "save_model(lightgbm, 'models_classif/convkb/binary_emb_val/lightgbm')"
   ]
  },
  {
   "cell_type": "markdown",
   "metadata": {
    "tags": []
   },
   "source": [
    "# MLP Classifier"
   ]
  },
  {
   "cell_type": "code",
   "execution_count": 56,
   "metadata": {},
   "outputs": [
    {
     "data": {
      "text/html": [
       "<div>\n",
       "<style scoped>\n",
       "    .dataframe tbody tr th:only-of-type {\n",
       "        vertical-align: middle;\n",
       "    }\n",
       "\n",
       "    .dataframe tbody tr th {\n",
       "        vertical-align: top;\n",
       "    }\n",
       "\n",
       "    .dataframe thead th {\n",
       "        text-align: right;\n",
       "    }\n",
       "</style>\n",
       "<table border=\"1\" class=\"dataframe\">\n",
       "  <thead>\n",
       "    <tr style=\"text-align: right;\">\n",
       "      <th></th>\n",
       "      <th></th>\n",
       "      <th></th>\n",
       "    </tr>\n",
       "    <tr>\n",
       "      <th></th>\n",
       "      <th></th>\n",
       "      <th></th>\n",
       "    </tr>\n",
       "  </thead>\n",
       "  <tbody>\n",
       "    <tr>\n",
       "      <th>Initiated</th>\n",
       "      <td>. . . . . . . . . . . . . . . . . .</td>\n",
       "      <td>14:00:37</td>\n",
       "    </tr>\n",
       "    <tr>\n",
       "      <th>Status</th>\n",
       "      <td>. . . . . . . . . . . . . . . . . .</td>\n",
       "      <td>Fitting 10 Folds</td>\n",
       "    </tr>\n",
       "    <tr>\n",
       "      <th>Estimator</th>\n",
       "      <td>. . . . . . . . . . . . . . . . . .</td>\n",
       "      <td>MLP Classifier</td>\n",
       "    </tr>\n",
       "  </tbody>\n",
       "</table>\n",
       "</div>"
      ],
      "text/plain": [
       "                                                                \n",
       "                                                                \n",
       "Initiated  . . . . . . . . . . . . . . . . . .          14:00:37\n",
       "Status     . . . . . . . . . . . . . . . . . .  Fitting 10 Folds\n",
       "Estimator  . . . . . . . . . . . . . . . . . .    MLP Classifier"
      ]
     },
     "metadata": {},
     "output_type": "display_data"
    },
    {
     "data": {
      "text/html": [],
      "text/plain": [
       "<IPython.core.display.HTML object>"
      ]
     },
     "metadata": {},
     "output_type": "display_data"
    },
    {
     "data": {
      "application/vnd.jupyter.widget-view+json": {
       "model_id": "45c6b8d8e80a46af9223efe36a67a082",
       "version_major": 2,
       "version_minor": 0
      },
      "text/plain": [
       "Processing:   0%|          | 0/4 [00:00<?, ?it/s]"
      ]
     },
     "metadata": {},
     "output_type": "display_data"
    },
    {
     "name": "stderr",
     "output_type": "stream",
     "text": [
      "\n",
      "KeyboardInterrupt\n",
      "\n"
     ]
    }
   ],
   "source": [
    "mlp = create_model('mlp')"
   ]
  },
  {
   "cell_type": "code",
   "execution_count": null,
   "metadata": {},
   "outputs": [],
   "source": [
    "plot_model(mlp, plot = 'confusion_matrix')"
   ]
  },
  {
   "cell_type": "code",
   "execution_count": null,
   "metadata": {},
   "outputs": [],
   "source": [
    "plot_model(mlp, plot = 'error')"
   ]
  },
  {
   "cell_type": "code",
   "execution_count": null,
   "metadata": {},
   "outputs": [],
   "source": [
    "plot_model(mlp, plot = 'parameter')"
   ]
  },
  {
   "cell_type": "code",
   "execution_count": null,
   "metadata": {
    "tags": []
   },
   "outputs": [],
   "source": [
    "save_model(mlp, 'models_classif/convkb/binary_emb_val/mlp')"
   ]
  }
 ],
 "metadata": {
  "kernelspec": {
   "display_name": "Python 3 (ipykernel)",
   "language": "python",
   "name": "python3"
  },
  "language_info": {
   "codemirror_mode": {
    "name": "ipython",
    "version": 3
   },
   "file_extension": ".py",
   "mimetype": "text/x-python",
   "name": "python",
   "nbconvert_exporter": "python",
   "pygments_lexer": "ipython3",
   "version": "3.10.9"
  },
  "vscode": {
   "interpreter": {
    "hash": "bad715aa2aaeb5e6c151df84b54974e4cb5c7f8696a7ce08edfdc275e59caf55"
   }
  }
 },
 "nbformat": 4,
 "nbformat_minor": 4
}
