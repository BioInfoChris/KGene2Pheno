{
 "cells": [
  {
   "cell_type": "code",
   "execution_count": 1,
   "metadata": {
    "tags": []
   },
   "outputs": [
    {
     "name": "stderr",
     "output_type": "stream",
     "text": [
      "\u001b[34m\u001b[1mwandb\u001b[0m: Currently logged in as: \u001b[33mantoine-toffano\u001b[0m (\u001b[33mmlb\u001b[0m). Use \u001b[1m`wandb login --relogin`\u001b[0m to force relogin\n"
     ]
    },
    {
     "data": {
      "application/vnd.jupyter.widget-view+json": {
       "model_id": "211f1c0a8b2f40d2a730c8fb5a75d342",
       "version_major": 2,
       "version_minor": 0
      },
      "text/plain": [
       "VBox(children=(Label(value='Waiting for wandb.init()...\\r'), FloatProgress(value=0.016669152630493046, max=1.0…"
      ]
     },
     "metadata": {},
     "output_type": "display_data"
    },
    {
     "data": {
      "text/html": [
       "wandb version 0.15.3 is available!  To upgrade, please run:\n",
       " $ pip install wandb --upgrade"
      ],
      "text/plain": [
       "<IPython.core.display.HTML object>"
      ]
     },
     "metadata": {},
     "output_type": "display_data"
    },
    {
     "data": {
      "text/html": [
       "Tracking run with wandb version 0.14.0"
      ],
      "text/plain": [
       "<IPython.core.display.HTML object>"
      ]
     },
     "metadata": {},
     "output_type": "display_data"
    },
    {
     "data": {
      "text/html": [
       "Run data is saved locally in <code>/home/antoine/gene_pheno_pred/wandb/run-20230526_163844-znbhbop4</code>"
      ],
      "text/plain": [
       "<IPython.core.display.HTML object>"
      ]
     },
     "metadata": {},
     "output_type": "display_data"
    },
    {
     "data": {
      "text/html": [
       "Syncing run <strong><a href='https://wandb.ai/mlb/cigap-classif/runs/znbhbop4' target=\"_blank\">earthy-leaf-36</a></strong> to <a href='https://wandb.ai/mlb/cigap-classif' target=\"_blank\">Weights & Biases</a> (<a href='https://wandb.me/run' target=\"_blank\">docs</a>)<br/>"
      ],
      "text/plain": [
       "<IPython.core.display.HTML object>"
      ]
     },
     "metadata": {},
     "output_type": "display_data"
    },
    {
     "data": {
      "text/html": [
       " View project at <a href='https://wandb.ai/mlb/cigap-classif' target=\"_blank\">https://wandb.ai/mlb/cigap-classif</a>"
      ],
      "text/plain": [
       "<IPython.core.display.HTML object>"
      ]
     },
     "metadata": {},
     "output_type": "display_data"
    },
    {
     "data": {
      "text/html": [
       " View run at <a href='https://wandb.ai/mlb/cigap-classif/runs/znbhbop4' target=\"_blank\">https://wandb.ai/mlb/cigap-classif/runs/znbhbop4</a>"
      ],
      "text/plain": [
       "<IPython.core.display.HTML object>"
      ]
     },
     "metadata": {},
     "output_type": "display_data"
    },
    {
     "data": {
      "text/html": [
       "<button onClick=\"this.nextSibling.style.display='block';this.style.display='none';\">Display W&B run</button><iframe src='https://wandb.ai/mlb/cigap-classif/runs/znbhbop4?jupyter=true' style='border:none;width:100%;height:420px;display:none;'></iframe>"
      ],
      "text/plain": [
       "<wandb.sdk.wandb_run.Run at 0x7f252a8b0d90>"
      ]
     },
     "execution_count": 1,
     "metadata": {},
     "output_type": "execute_result"
    }
   ],
   "source": [
    "from pycaret.classification import *\n",
    "import pandas as pd\n",
    "import os\n",
    "import wandb\n",
    "\n",
    "os.chdir('/home/antoine/gene_pheno_pred')\n",
    "os.environ[\"CUDA_VISIBLE_DEVICES\"]=\"1\"\n",
    "os.environ[\"WANDB_API_KEY\"]=\"4e5748d6c6f3917c78cdc38a516a1bac776faf58\"\n",
    "wandb.login()\n",
    "wandb.init(\n",
    "    project=\"cigap-classif\",\n",
    ")\n"
   ]
  },
  {
   "cell_type": "code",
   "execution_count": 2,
   "metadata": {
    "tags": []
   },
   "outputs": [
    {
     "data": {
      "text/html": [
       "<div>\n",
       "<style scoped>\n",
       "    .dataframe tbody tr th:only-of-type {\n",
       "        vertical-align: middle;\n",
       "    }\n",
       "\n",
       "    .dataframe tbody tr th {\n",
       "        vertical-align: top;\n",
       "    }\n",
       "\n",
       "    .dataframe thead th {\n",
       "        text-align: right;\n",
       "    }\n",
       "</style>\n",
       "<table border=\"1\" class=\"dataframe\">\n",
       "  <thead>\n",
       "    <tr style=\"text-align: right;\">\n",
       "      <th></th>\n",
       "      <th>0</th>\n",
       "      <th>1</th>\n",
       "      <th>2</th>\n",
       "      <th>3</th>\n",
       "      <th>4</th>\n",
       "      <th>5</th>\n",
       "      <th>6</th>\n",
       "      <th>7</th>\n",
       "      <th>8</th>\n",
       "      <th>9</th>\n",
       "      <th>...</th>\n",
       "      <th>94</th>\n",
       "      <th>95</th>\n",
       "      <th>96</th>\n",
       "      <th>97</th>\n",
       "      <th>98</th>\n",
       "      <th>99</th>\n",
       "      <th>head</th>\n",
       "      <th>relation</th>\n",
       "      <th>tail</th>\n",
       "      <th>link</th>\n",
       "    </tr>\n",
       "  </thead>\n",
       "  <tbody>\n",
       "    <tr>\n",
       "      <th>0</th>\n",
       "      <td>-0.022025</td>\n",
       "      <td>0.016013</td>\n",
       "      <td>0.008182</td>\n",
       "      <td>-0.016668</td>\n",
       "      <td>-0.017219</td>\n",
       "      <td>-0.015423</td>\n",
       "      <td>0.014788</td>\n",
       "      <td>-0.013625</td>\n",
       "      <td>0.004813</td>\n",
       "      <td>-0.010436</td>\n",
       "      <td>...</td>\n",
       "      <td>0.012363</td>\n",
       "      <td>0.012363</td>\n",
       "      <td>-0.012363</td>\n",
       "      <td>0.013047</td>\n",
       "      <td>0.012363</td>\n",
       "      <td>-0.009570</td>\n",
       "      <td>https://wormbase.org/wbdata/ortho_dis-5315</td>\n",
       "      <td>no_link_known</td>\n",
       "      <td>https://wormbase.org/species/c_elegans/gene/WB...</td>\n",
       "      <td>0</td>\n",
       "    </tr>\n",
       "    <tr>\n",
       "      <th>1</th>\n",
       "      <td>0.011442</td>\n",
       "      <td>0.023409</td>\n",
       "      <td>0.027197</td>\n",
       "      <td>-0.026088</td>\n",
       "      <td>0.011466</td>\n",
       "      <td>0.011485</td>\n",
       "      <td>-0.011461</td>\n",
       "      <td>-0.027663</td>\n",
       "      <td>-0.021202</td>\n",
       "      <td>-0.024895</td>\n",
       "      <td>...</td>\n",
       "      <td>0.013770</td>\n",
       "      <td>0.008617</td>\n",
       "      <td>-0.013770</td>\n",
       "      <td>0.019268</td>\n",
       "      <td>0.013770</td>\n",
       "      <td>-0.022629</td>\n",
       "      <td>https://wormbase.org/wbdata/pheno-125368</td>\n",
       "      <td>no_link_known</td>\n",
       "      <td>https://wormbase.org/species/c_elegans/gene/WB...</td>\n",
       "      <td>0</td>\n",
       "    </tr>\n",
       "    <tr>\n",
       "      <th>2</th>\n",
       "      <td>-0.002173</td>\n",
       "      <td>-0.002173</td>\n",
       "      <td>-0.002173</td>\n",
       "      <td>0.002173</td>\n",
       "      <td>-0.002173</td>\n",
       "      <td>-0.002173</td>\n",
       "      <td>0.002173</td>\n",
       "      <td>0.002173</td>\n",
       "      <td>0.002173</td>\n",
       "      <td>0.003111</td>\n",
       "      <td>...</td>\n",
       "      <td>-0.000944</td>\n",
       "      <td>0.011679</td>\n",
       "      <td>0.000944</td>\n",
       "      <td>-0.006678</td>\n",
       "      <td>-0.001933</td>\n",
       "      <td>0.000131</td>\n",
       "      <td>https://wormbase.org/wbdata/pheno-256301</td>\n",
       "      <td>no_link_known</td>\n",
       "      <td>https://wormbase.org/wbdata/pheno-405138</td>\n",
       "      <td>0</td>\n",
       "    </tr>\n",
       "    <tr>\n",
       "      <th>3</th>\n",
       "      <td>0.017005</td>\n",
       "      <td>0.017386</td>\n",
       "      <td>0.017313</td>\n",
       "      <td>-0.017392</td>\n",
       "      <td>0.017594</td>\n",
       "      <td>0.017359</td>\n",
       "      <td>-0.017394</td>\n",
       "      <td>-0.017409</td>\n",
       "      <td>-0.017698</td>\n",
       "      <td>-0.016948</td>\n",
       "      <td>...</td>\n",
       "      <td>0.018851</td>\n",
       "      <td>0.016371</td>\n",
       "      <td>-0.018774</td>\n",
       "      <td>-0.017279</td>\n",
       "      <td>0.018851</td>\n",
       "      <td>-0.004702</td>\n",
       "      <td>https://wormbase.org/wbdata/ortho_dis-26094</td>\n",
       "      <td>http://www.semanticweb.org/needed-terms#001</td>\n",
       "      <td>https://wormbase.org/species/c_elegans/gene/WB...</td>\n",
       "      <td>1</td>\n",
       "    </tr>\n",
       "    <tr>\n",
       "      <th>4</th>\n",
       "      <td>-0.009484</td>\n",
       "      <td>0.003228</td>\n",
       "      <td>-0.006519</td>\n",
       "      <td>-0.001198</td>\n",
       "      <td>-0.009484</td>\n",
       "      <td>-0.000704</td>\n",
       "      <td>0.006519</td>\n",
       "      <td>0.000694</td>\n",
       "      <td>0.004623</td>\n",
       "      <td>0.000704</td>\n",
       "      <td>...</td>\n",
       "      <td>-0.009442</td>\n",
       "      <td>-0.016714</td>\n",
       "      <td>0.013269</td>\n",
       "      <td>-0.011895</td>\n",
       "      <td>-0.011088</td>\n",
       "      <td>0.005852</td>\n",
       "      <td>https://wormbase.org/wbdata/pheno-366163</td>\n",
       "      <td>no_link_known</td>\n",
       "      <td>https://wormbase.org/wbdata/pheno-196950</td>\n",
       "      <td>0</td>\n",
       "    </tr>\n",
       "    <tr>\n",
       "      <th>...</th>\n",
       "      <td>...</td>\n",
       "      <td>...</td>\n",
       "      <td>...</td>\n",
       "      <td>...</td>\n",
       "      <td>...</td>\n",
       "      <td>...</td>\n",
       "      <td>...</td>\n",
       "      <td>...</td>\n",
       "      <td>...</td>\n",
       "      <td>...</td>\n",
       "      <td>...</td>\n",
       "      <td>...</td>\n",
       "      <td>...</td>\n",
       "      <td>...</td>\n",
       "      <td>...</td>\n",
       "      <td>...</td>\n",
       "      <td>...</td>\n",
       "      <td>...</td>\n",
       "      <td>...</td>\n",
       "      <td>...</td>\n",
       "      <td>...</td>\n",
       "    </tr>\n",
       "    <tr>\n",
       "      <th>234345</th>\n",
       "      <td>-0.003296</td>\n",
       "      <td>0.003037</td>\n",
       "      <td>-0.001115</td>\n",
       "      <td>0.007448</td>\n",
       "      <td>-0.001115</td>\n",
       "      <td>-0.007448</td>\n",
       "      <td>-0.003037</td>\n",
       "      <td>0.001115</td>\n",
       "      <td>0.007448</td>\n",
       "      <td>0.007448</td>\n",
       "      <td>...</td>\n",
       "      <td>-0.007389</td>\n",
       "      <td>0.013422</td>\n",
       "      <td>0.002157</td>\n",
       "      <td>-0.013422</td>\n",
       "      <td>-0.007389</td>\n",
       "      <td>-0.007389</td>\n",
       "      <td>https://wormbase.org/wbdata/pheno-76741</td>\n",
       "      <td>no_link_known</td>\n",
       "      <td>https://wormbase.org/wbdata/pheno-80813</td>\n",
       "      <td>0</td>\n",
       "    </tr>\n",
       "    <tr>\n",
       "      <th>234346</th>\n",
       "      <td>0.000480</td>\n",
       "      <td>0.000517</td>\n",
       "      <td>0.000911</td>\n",
       "      <td>0.003378</td>\n",
       "      <td>0.004769</td>\n",
       "      <td>-0.008777</td>\n",
       "      <td>-0.000911</td>\n",
       "      <td>-0.000480</td>\n",
       "      <td>0.008814</td>\n",
       "      <td>0.008777</td>\n",
       "      <td>...</td>\n",
       "      <td>0.013418</td>\n",
       "      <td>0.009380</td>\n",
       "      <td>-0.017695</td>\n",
       "      <td>0.021031</td>\n",
       "      <td>0.013418</td>\n",
       "      <td>-0.022710</td>\n",
       "      <td>https://wormbase.org/wbdata/pheno-397090</td>\n",
       "      <td>http://semanticscience.org/resource/SIO_000281</td>\n",
       "      <td>https://wormbase.org/species/all/phenotype/WBP...</td>\n",
       "      <td>1</td>\n",
       "    </tr>\n",
       "    <tr>\n",
       "      <th>234347</th>\n",
       "      <td>0.001610</td>\n",
       "      <td>0.005263</td>\n",
       "      <td>0.000994</td>\n",
       "      <td>0.000131</td>\n",
       "      <td>0.005880</td>\n",
       "      <td>-0.009614</td>\n",
       "      <td>-0.001610</td>\n",
       "      <td>-0.000994</td>\n",
       "      <td>0.014961</td>\n",
       "      <td>0.010230</td>\n",
       "      <td>...</td>\n",
       "      <td>0.019138</td>\n",
       "      <td>0.016125</td>\n",
       "      <td>-0.019138</td>\n",
       "      <td>0.015792</td>\n",
       "      <td>0.016125</td>\n",
       "      <td>-0.004549</td>\n",
       "      <td>https://wormbase.org/wbdata/pheno-37510</td>\n",
       "      <td>http://semanticscience.org/resource/SIO_001279</td>\n",
       "      <td>https://wormbase.org/species/all/phenotype/WBP...</td>\n",
       "      <td>1</td>\n",
       "    </tr>\n",
       "    <tr>\n",
       "      <th>234348</th>\n",
       "      <td>-0.029945</td>\n",
       "      <td>-0.008771</td>\n",
       "      <td>0.006061</td>\n",
       "      <td>-0.006316</td>\n",
       "      <td>-0.018599</td>\n",
       "      <td>0.029698</td>\n",
       "      <td>-0.007143</td>\n",
       "      <td>0.017606</td>\n",
       "      <td>-0.015266</td>\n",
       "      <td>-0.025612</td>\n",
       "      <td>...</td>\n",
       "      <td>-0.002534</td>\n",
       "      <td>0.008700</td>\n",
       "      <td>0.002534</td>\n",
       "      <td>-0.008700</td>\n",
       "      <td>-0.002534</td>\n",
       "      <td>-0.002534</td>\n",
       "      <td>https://wormbase.org/species/c_elegans/gene/WB...</td>\n",
       "      <td>no_link_known</td>\n",
       "      <td>https://wormbase.org/wbdata/pheno-95971</td>\n",
       "      <td>0</td>\n",
       "    </tr>\n",
       "    <tr>\n",
       "      <th>234349</th>\n",
       "      <td>-0.002112</td>\n",
       "      <td>0.002888</td>\n",
       "      <td>0.009181</td>\n",
       "      <td>0.001736</td>\n",
       "      <td>0.002861</td>\n",
       "      <td>-0.001701</td>\n",
       "      <td>-0.003187</td>\n",
       "      <td>-0.004163</td>\n",
       "      <td>0.000338</td>\n",
       "      <td>0.006364</td>\n",
       "      <td>...</td>\n",
       "      <td>-0.007576</td>\n",
       "      <td>0.007197</td>\n",
       "      <td>0.007576</td>\n",
       "      <td>-0.007069</td>\n",
       "      <td>-0.008778</td>\n",
       "      <td>-0.002259</td>\n",
       "      <td>https://wormbase.org/wbdata/pheno-372659</td>\n",
       "      <td>no_link_known</td>\n",
       "      <td>https://wormbase.org/wbdata/pheno-428613</td>\n",
       "      <td>0</td>\n",
       "    </tr>\n",
       "  </tbody>\n",
       "</table>\n",
       "<p>467600 rows × 104 columns</p>\n",
       "</div>"
      ],
      "text/plain": [
       "               0         1         2         3         4         5         6  \\\n",
       "0      -0.022025  0.016013  0.008182 -0.016668 -0.017219 -0.015423  0.014788   \n",
       "1       0.011442  0.023409  0.027197 -0.026088  0.011466  0.011485 -0.011461   \n",
       "2      -0.002173 -0.002173 -0.002173  0.002173 -0.002173 -0.002173  0.002173   \n",
       "3       0.017005  0.017386  0.017313 -0.017392  0.017594  0.017359 -0.017394   \n",
       "4      -0.009484  0.003228 -0.006519 -0.001198 -0.009484 -0.000704  0.006519   \n",
       "...          ...       ...       ...       ...       ...       ...       ...   \n",
       "234345 -0.003296  0.003037 -0.001115  0.007448 -0.001115 -0.007448 -0.003037   \n",
       "234346  0.000480  0.000517  0.000911  0.003378  0.004769 -0.008777 -0.000911   \n",
       "234347  0.001610  0.005263  0.000994  0.000131  0.005880 -0.009614 -0.001610   \n",
       "234348 -0.029945 -0.008771  0.006061 -0.006316 -0.018599  0.029698 -0.007143   \n",
       "234349 -0.002112  0.002888  0.009181  0.001736  0.002861 -0.001701 -0.003187   \n",
       "\n",
       "               7         8         9  ...        94        95        96  \\\n",
       "0      -0.013625  0.004813 -0.010436  ...  0.012363  0.012363 -0.012363   \n",
       "1      -0.027663 -0.021202 -0.024895  ...  0.013770  0.008617 -0.013770   \n",
       "2       0.002173  0.002173  0.003111  ... -0.000944  0.011679  0.000944   \n",
       "3      -0.017409 -0.017698 -0.016948  ...  0.018851  0.016371 -0.018774   \n",
       "4       0.000694  0.004623  0.000704  ... -0.009442 -0.016714  0.013269   \n",
       "...          ...       ...       ...  ...       ...       ...       ...   \n",
       "234345  0.001115  0.007448  0.007448  ... -0.007389  0.013422  0.002157   \n",
       "234346 -0.000480  0.008814  0.008777  ...  0.013418  0.009380 -0.017695   \n",
       "234347 -0.000994  0.014961  0.010230  ...  0.019138  0.016125 -0.019138   \n",
       "234348  0.017606 -0.015266 -0.025612  ... -0.002534  0.008700  0.002534   \n",
       "234349 -0.004163  0.000338  0.006364  ... -0.007576  0.007197  0.007576   \n",
       "\n",
       "              97        98        99  \\\n",
       "0       0.013047  0.012363 -0.009570   \n",
       "1       0.019268  0.013770 -0.022629   \n",
       "2      -0.006678 -0.001933  0.000131   \n",
       "3      -0.017279  0.018851 -0.004702   \n",
       "4      -0.011895 -0.011088  0.005852   \n",
       "...          ...       ...       ...   \n",
       "234345 -0.013422 -0.007389 -0.007389   \n",
       "234346  0.021031  0.013418 -0.022710   \n",
       "234347  0.015792  0.016125 -0.004549   \n",
       "234348 -0.008700 -0.002534 -0.002534   \n",
       "234349 -0.007069 -0.008778 -0.002259   \n",
       "\n",
       "                                                     head  \\\n",
       "0              https://wormbase.org/wbdata/ortho_dis-5315   \n",
       "1                https://wormbase.org/wbdata/pheno-125368   \n",
       "2                https://wormbase.org/wbdata/pheno-256301   \n",
       "3             https://wormbase.org/wbdata/ortho_dis-26094   \n",
       "4                https://wormbase.org/wbdata/pheno-366163   \n",
       "...                                                   ...   \n",
       "234345            https://wormbase.org/wbdata/pheno-76741   \n",
       "234346           https://wormbase.org/wbdata/pheno-397090   \n",
       "234347            https://wormbase.org/wbdata/pheno-37510   \n",
       "234348  https://wormbase.org/species/c_elegans/gene/WB...   \n",
       "234349           https://wormbase.org/wbdata/pheno-372659   \n",
       "\n",
       "                                              relation  \\\n",
       "0                                        no_link_known   \n",
       "1                                        no_link_known   \n",
       "2                                        no_link_known   \n",
       "3          http://www.semanticweb.org/needed-terms#001   \n",
       "4                                        no_link_known   \n",
       "...                                                ...   \n",
       "234345                                   no_link_known   \n",
       "234346  http://semanticscience.org/resource/SIO_000281   \n",
       "234347  http://semanticscience.org/resource/SIO_001279   \n",
       "234348                                   no_link_known   \n",
       "234349                                   no_link_known   \n",
       "\n",
       "                                                     tail  link  \n",
       "0       https://wormbase.org/species/c_elegans/gene/WB...     0  \n",
       "1       https://wormbase.org/species/c_elegans/gene/WB...     0  \n",
       "2                https://wormbase.org/wbdata/pheno-405138     0  \n",
       "3       https://wormbase.org/species/c_elegans/gene/WB...     1  \n",
       "4                https://wormbase.org/wbdata/pheno-196950     0  \n",
       "...                                                   ...   ...  \n",
       "234345            https://wormbase.org/wbdata/pheno-80813     0  \n",
       "234346  https://wormbase.org/species/all/phenotype/WBP...     1  \n",
       "234347  https://wormbase.org/species/all/phenotype/WBP...     1  \n",
       "234348            https://wormbase.org/wbdata/pheno-95971     0  \n",
       "234349           https://wormbase.org/wbdata/pheno-428613     0  \n",
       "\n",
       "[467600 rows x 104 columns]"
      ]
     },
     "execution_count": 2,
     "metadata": {},
     "output_type": "execute_result"
    }
   ],
   "source": [
    "# Load training set\n",
    "df1 = pd.read_csv('/home/antoine/gene_pheno_pred/TorusE_2023-03-31_10-18-16_kg_val.csv' , header=0)\n",
    "df2 = pd.read_csv('/home/antoine/gene_pheno_pred/TorusE_2023-03-31_10-18-16_kg_test.csv' , header=0)\n",
    "df = pd.concat([df1, df2], axis=0)\n",
    "\n",
    "df['link'] = df['relation'].apply(lambda x: 1 if x != 'no_link_known' else 0)\n",
    "df"
   ]
  },
  {
   "cell_type": "code",
   "execution_count": 3,
   "metadata": {
    "tags": []
   },
   "outputs": [],
   "source": [
    "df2 = df"
   ]
  },
  {
   "cell_type": "code",
   "execution_count": 4,
   "metadata": {},
   "outputs": [],
   "source": [
    "df = df.drop('relation', axis=1)"
   ]
  },
  {
   "cell_type": "code",
   "execution_count": null,
   "metadata": {
    "tags": []
   },
   "outputs": [
    {
     "name": "stderr",
     "output_type": "stream",
     "text": [
      "[LightGBM] [Fatal] GPU Tree Learner was not enabled in this build.\n",
      "Please recompile with CMake option -DUSE_GPU=1\n",
      "[LightGBM] [Fatal] CUDA Tree Learner was not enabled in this build.\n",
      "Please recompile with CMake option -DUSE_CUDA=1\n",
      "[LightGBM] [Fatal] GPU Tree Learner was not enabled in this build.\n",
      "Please recompile with CMake option -DUSE_GPU=1\n",
      "[LightGBM] [Fatal] CUDA Tree Learner was not enabled in this build.\n",
      "Please recompile with CMake option -DUSE_CUDA=1\n",
      "[LightGBM] [Fatal] GPU Tree Learner was not enabled in this build.\n",
      "Please recompile with CMake option -DUSE_GPU=1\n",
      "[LightGBM] [Fatal] CUDA Tree Learner was not enabled in this build.\n",
      "Please recompile with CMake option -DUSE_CUDA=1\n",
      "[LightGBM] [Fatal] GPU Tree Learner was not enabled in this build.\n",
      "Please recompile with CMake option -DUSE_GPU=1\n",
      "[LightGBM] [Fatal] CUDA Tree Learner was not enabled in this build.\n",
      "Please recompile with CMake option -DUSE_CUDA=1\n",
      "[LightGBM] [Fatal] GPU Tree Learner was not enabled in this build.\n",
      "Please recompile with CMake option -DUSE_GPU=1\n",
      "[LightGBM] [Fatal] CUDA Tree Learner was not enabled in this build.\n",
      "Please recompile with CMake option -DUSE_CUDA=1\n",
      "[LightGBM] [Fatal] GPU Tree Learner was not enabled in this build.\n",
      "Please recompile with CMake option -DUSE_GPU=1\n",
      "[LightGBM] [Fatal] CUDA Tree Learner was not enabled in this build.\n",
      "Please recompile with CMake option -DUSE_CUDA=1\n"
     ]
    }
   ],
   "source": [
    "# Experiment setup\n",
    "s = setup(df, target = 'link', fold_strategy = 'stratifiedkfold', fold=10, train_size = 0.8, n_jobs=-1, system_log=True, use_gpu = True, log_experiment='wandb')\n",
    "exp = ClassificationExperiment()"
   ]
  },
  {
   "cell_type": "markdown",
   "metadata": {},
   "source": [
    "# K Neighbors Classifier"
   ]
  },
  {
   "cell_type": "code",
   "execution_count": null,
   "metadata": {
    "tags": []
   },
   "outputs": [],
   "source": [
    "knn = create_model('knn')"
   ]
  },
  {
   "cell_type": "code",
   "execution_count": null,
   "metadata": {},
   "outputs": [],
   "source": [
    "plot_model(knn, plot = 'confusion_matrix')"
   ]
  },
  {
   "cell_type": "code",
   "execution_count": null,
   "metadata": {},
   "outputs": [],
   "source": [
    "plot_model(knn, plot = 'error')"
   ]
  },
  {
   "cell_type": "code",
   "execution_count": null,
   "metadata": {},
   "outputs": [],
   "source": [
    "plot_model(knn, plot = 'parameter')"
   ]
  },
  {
   "cell_type": "code",
   "execution_count": null,
   "metadata": {},
   "outputs": [],
   "source": [
    "save_model(knn, 'models_classif/convkb/binary_emb_val/knn')"
   ]
  },
  {
   "cell_type": "markdown",
   "metadata": {},
   "source": [
    "# Naive Bayes"
   ]
  },
  {
   "cell_type": "code",
   "execution_count": null,
   "metadata": {
    "tags": []
   },
   "outputs": [],
   "source": [
    "nb = create_model('nb')"
   ]
  },
  {
   "cell_type": "code",
   "execution_count": null,
   "metadata": {},
   "outputs": [],
   "source": [
    "plot_model(nb, plot = 'confusion_matrix')"
   ]
  },
  {
   "cell_type": "code",
   "execution_count": null,
   "metadata": {},
   "outputs": [],
   "source": [
    "plot_model(nb, plot = 'error')"
   ]
  },
  {
   "cell_type": "code",
   "execution_count": null,
   "metadata": {},
   "outputs": [],
   "source": [
    "plot_model(nb, plot = 'parameter')"
   ]
  },
  {
   "cell_type": "code",
   "execution_count": null,
   "metadata": {},
   "outputs": [],
   "source": [
    "save_model(nb, 'models_classif/convkb/binary_emb_val/nb')"
   ]
  },
  {
   "cell_type": "markdown",
   "metadata": {},
   "source": [
    "# Decision Tree Classifier"
   ]
  },
  {
   "cell_type": "code",
   "execution_count": null,
   "metadata": {},
   "outputs": [],
   "source": [
    "dt = create_model('dt')"
   ]
  },
  {
   "cell_type": "code",
   "execution_count": null,
   "metadata": {},
   "outputs": [],
   "source": [
    "plot_model(dt, plot = 'confusion_matrix')"
   ]
  },
  {
   "cell_type": "code",
   "execution_count": null,
   "metadata": {},
   "outputs": [],
   "source": [
    "plot_model(dt, plot = 'error')"
   ]
  },
  {
   "cell_type": "code",
   "execution_count": null,
   "metadata": {},
   "outputs": [],
   "source": [
    "plot_model(dt, plot = 'parameter')"
   ]
  },
  {
   "cell_type": "code",
   "execution_count": null,
   "metadata": {},
   "outputs": [],
   "source": [
    "save_model(dt, 'models_classif/convkb/binary_emb_val/dt')"
   ]
  },
  {
   "cell_type": "markdown",
   "metadata": {},
   "source": [
    "# SVM - Linear Kernel"
   ]
  },
  {
   "cell_type": "code",
   "execution_count": null,
   "metadata": {},
   "outputs": [],
   "source": [
    "svm = create_model('svm')"
   ]
  },
  {
   "cell_type": "code",
   "execution_count": null,
   "metadata": {},
   "outputs": [],
   "source": [
    "plot_model(svm, plot = 'confusion_matrix')"
   ]
  },
  {
   "cell_type": "code",
   "execution_count": null,
   "metadata": {},
   "outputs": [],
   "source": [
    "plot_model(svm, plot = 'error')"
   ]
  },
  {
   "cell_type": "code",
   "execution_count": null,
   "metadata": {},
   "outputs": [],
   "source": [
    "plot_model(svm, plot = 'parameter')"
   ]
  },
  {
   "cell_type": "code",
   "execution_count": null,
   "metadata": {},
   "outputs": [],
   "source": [
    "save_model(svm, 'models_classif/convkb/binary_emb_val/svm')"
   ]
  },
  {
   "cell_type": "markdown",
   "metadata": {},
   "source": [
    "# Ridge Classifier"
   ]
  },
  {
   "cell_type": "code",
   "execution_count": null,
   "metadata": {},
   "outputs": [],
   "source": [
    "ridge = create_model('ridge')"
   ]
  },
  {
   "cell_type": "code",
   "execution_count": null,
   "metadata": {},
   "outputs": [],
   "source": [
    "plot_model(ridge, plot = 'confusion_matrix')"
   ]
  },
  {
   "cell_type": "code",
   "execution_count": null,
   "metadata": {},
   "outputs": [],
   "source": [
    "plot_model(ridge, plot = 'error')"
   ]
  },
  {
   "cell_type": "code",
   "execution_count": null,
   "metadata": {},
   "outputs": [],
   "source": [
    "plot_model(ridge, plot = 'parameter')"
   ]
  },
  {
   "cell_type": "code",
   "execution_count": null,
   "metadata": {},
   "outputs": [],
   "source": [
    "save_model(ridge, 'models_classif/convkb/binary_emb_val/ridge')"
   ]
  },
  {
   "cell_type": "markdown",
   "metadata": {},
   "source": [
    "# Random Forest"
   ]
  },
  {
   "cell_type": "code",
   "execution_count": null,
   "metadata": {},
   "outputs": [],
   "source": [
    "rf = create_model('rf')"
   ]
  },
  {
   "cell_type": "code",
   "execution_count": null,
   "metadata": {},
   "outputs": [],
   "source": [
    "plot_model(rf, plot = 'confusion_matrix')"
   ]
  },
  {
   "cell_type": "code",
   "execution_count": null,
   "metadata": {},
   "outputs": [],
   "source": [
    "plot_model(rf, plot = 'error')"
   ]
  },
  {
   "cell_type": "code",
   "execution_count": null,
   "metadata": {},
   "outputs": [],
   "source": [
    "plot_model(rf, plot = 'parameter')"
   ]
  },
  {
   "cell_type": "code",
   "execution_count": null,
   "metadata": {},
   "outputs": [],
   "source": [
    "save_model(rf, 'models_classif/convkb/binary_emb_val/rf')"
   ]
  },
  {
   "cell_type": "markdown",
   "metadata": {},
   "source": [
    "# Quadratic Discriminant Analysis"
   ]
  },
  {
   "cell_type": "code",
   "execution_count": null,
   "metadata": {},
   "outputs": [],
   "source": [
    "qda = create_model('qda')"
   ]
  },
  {
   "cell_type": "code",
   "execution_count": null,
   "metadata": {},
   "outputs": [],
   "source": [
    "plot_model(qda, plot = 'confusion_matrix')"
   ]
  },
  {
   "cell_type": "code",
   "execution_count": null,
   "metadata": {},
   "outputs": [],
   "source": [
    "plot_model(qda, plot = 'error')"
   ]
  },
  {
   "cell_type": "code",
   "execution_count": null,
   "metadata": {},
   "outputs": [],
   "source": [
    "plot_model(qda, plot = 'parameter')"
   ]
  },
  {
   "cell_type": "code",
   "execution_count": null,
   "metadata": {},
   "outputs": [],
   "source": [
    "save_model(qda, 'models_classif/convkb/binary_emb_val/qda')"
   ]
  },
  {
   "cell_type": "markdown",
   "metadata": {},
   "source": [
    "# Linear Discriminant Analysis"
   ]
  },
  {
   "cell_type": "code",
   "execution_count": null,
   "metadata": {},
   "outputs": [],
   "source": [
    "lda = create_model('lda')"
   ]
  },
  {
   "cell_type": "code",
   "execution_count": null,
   "metadata": {},
   "outputs": [],
   "source": [
    "plot_model(lda, plot = 'confusion_matrix')"
   ]
  },
  {
   "cell_type": "code",
   "execution_count": null,
   "metadata": {},
   "outputs": [],
   "source": [
    "plot_model(lda, plot = 'error')"
   ]
  },
  {
   "cell_type": "code",
   "execution_count": null,
   "metadata": {},
   "outputs": [],
   "source": [
    "plot_model(lda, plot = 'parameter')"
   ]
  },
  {
   "cell_type": "code",
   "execution_count": null,
   "metadata": {},
   "outputs": [],
   "source": [
    "save_model(lda, 'models_classif/convkb/binary_emb_val/lda')"
   ]
  },
  {
   "cell_type": "markdown",
   "metadata": {},
   "source": [
    "# Extra Trees"
   ]
  },
  {
   "cell_type": "code",
   "execution_count": null,
   "metadata": {},
   "outputs": [],
   "source": [
    "et = create_model('et')"
   ]
  },
  {
   "cell_type": "code",
   "execution_count": null,
   "metadata": {},
   "outputs": [],
   "source": [
    "plot_model(et, plot = 'confusion_matrix')"
   ]
  },
  {
   "cell_type": "code",
   "execution_count": null,
   "metadata": {},
   "outputs": [],
   "source": [
    "plot_model(et, plot = 'error')"
   ]
  },
  {
   "cell_type": "code",
   "execution_count": null,
   "metadata": {},
   "outputs": [],
   "source": [
    "plot_model(et, plot = 'parameter')"
   ]
  },
  {
   "cell_type": "code",
   "execution_count": null,
   "metadata": {},
   "outputs": [],
   "source": [
    "save_model(et, 'models_classif/convkb/binary_emb_val/et')"
   ]
  },
  {
   "cell_type": "markdown",
   "metadata": {},
   "source": [
    "# Light Gradient Boosting Machine"
   ]
  },
  {
   "cell_type": "code",
   "execution_count": null,
   "metadata": {},
   "outputs": [],
   "source": [
    "lightgbm = create_model('lightgbm')"
   ]
  },
  {
   "cell_type": "code",
   "execution_count": null,
   "metadata": {},
   "outputs": [],
   "source": [
    "plot_model(lightgbm, plot = 'confusion_matrix')"
   ]
  },
  {
   "cell_type": "code",
   "execution_count": null,
   "metadata": {},
   "outputs": [],
   "source": [
    "plot_model(lightgbm, plot = 'error')"
   ]
  },
  {
   "cell_type": "code",
   "execution_count": null,
   "metadata": {},
   "outputs": [],
   "source": [
    "plot_model(lightgbm, plot = 'parameter')"
   ]
  },
  {
   "cell_type": "code",
   "execution_count": null,
   "metadata": {},
   "outputs": [],
   "source": [
    "save_model(lightgbm, 'models_classif/convkb/binary_emb_val/lightgbm')"
   ]
  },
  {
   "cell_type": "markdown",
   "metadata": {
    "tags": []
   },
   "source": [
    "# MLP Classifier"
   ]
  },
  {
   "cell_type": "code",
   "execution_count": null,
   "metadata": {},
   "outputs": [],
   "source": [
    "mlp = create_model('mlp')"
   ]
  },
  {
   "cell_type": "code",
   "execution_count": null,
   "metadata": {},
   "outputs": [],
   "source": [
    "plot_model(mlp, plot = 'confusion_matrix')"
   ]
  },
  {
   "cell_type": "code",
   "execution_count": null,
   "metadata": {},
   "outputs": [],
   "source": [
    "plot_model(mlp, plot = 'error')"
   ]
  },
  {
   "cell_type": "code",
   "execution_count": null,
   "metadata": {},
   "outputs": [],
   "source": [
    "plot_model(mlp, plot = 'parameter')"
   ]
  },
  {
   "cell_type": "code",
   "execution_count": null,
   "metadata": {
    "tags": []
   },
   "outputs": [],
   "source": [
    "save_model(mlp, 'models_classif/convkb/binary_emb_val/mlp')"
   ]
  }
 ],
 "metadata": {
  "kernelspec": {
   "display_name": "Python 3 (ipykernel)",
   "language": "python",
   "name": "python3"
  },
  "language_info": {
   "codemirror_mode": {
    "name": "ipython",
    "version": 3
   },
   "file_extension": ".py",
   "mimetype": "text/x-python",
   "name": "python",
   "nbconvert_exporter": "python",
   "pygments_lexer": "ipython3",
   "version": "3.10.9"
  },
  "vscode": {
   "interpreter": {
    "hash": "bad715aa2aaeb5e6c151df84b54974e4cb5c7f8696a7ce08edfdc275e59caf55"
   }
  }
 },
 "nbformat": 4,
 "nbformat_minor": 4
}
