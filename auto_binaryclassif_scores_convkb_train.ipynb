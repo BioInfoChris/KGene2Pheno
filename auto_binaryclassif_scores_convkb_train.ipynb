{
 "cells": [
  {
   "cell_type": "code",
   "execution_count": 1,
   "metadata": {
    "tags": []
   },
   "outputs": [
    {
     "name": "stderr",
     "output_type": "stream",
     "text": [
      "\u001b[34m\u001b[1mwandb\u001b[0m: Currently logged in as: \u001b[33mantoine-toffano\u001b[0m (\u001b[33mmlb\u001b[0m). Use \u001b[1m`wandb login --relogin`\u001b[0m to force relogin\n"
     ]
    },
    {
     "data": {
      "text/html": [
       "wandb version 0.15.0 is available!  To upgrade, please run:\n",
       " $ pip install wandb --upgrade"
      ],
      "text/plain": [
       "<IPython.core.display.HTML object>"
      ]
     },
     "metadata": {},
     "output_type": "display_data"
    },
    {
     "data": {
      "text/html": [
       "Tracking run with wandb version 0.14.0"
      ],
      "text/plain": [
       "<IPython.core.display.HTML object>"
      ]
     },
     "metadata": {},
     "output_type": "display_data"
    },
    {
     "data": {
      "text/html": [
       "Run data is saved locally in <code>/home/antoine/gene_pheno_pred/wandb/run-20230421_171257-qworhilt</code>"
      ],
      "text/plain": [
       "<IPython.core.display.HTML object>"
      ]
     },
     "metadata": {},
     "output_type": "display_data"
    },
    {
     "data": {
      "text/html": [
       "Syncing run <strong><a href='https://wandb.ai/mlb/cigap-classif/runs/qworhilt' target=\"_blank\">graceful-thunder-15</a></strong> to <a href='https://wandb.ai/mlb/cigap-classif' target=\"_blank\">Weights & Biases</a> (<a href='https://wandb.me/run' target=\"_blank\">docs</a>)<br/>"
      ],
      "text/plain": [
       "<IPython.core.display.HTML object>"
      ]
     },
     "metadata": {},
     "output_type": "display_data"
    },
    {
     "data": {
      "text/html": [
       " View project at <a href='https://wandb.ai/mlb/cigap-classif' target=\"_blank\">https://wandb.ai/mlb/cigap-classif</a>"
      ],
      "text/plain": [
       "<IPython.core.display.HTML object>"
      ]
     },
     "metadata": {},
     "output_type": "display_data"
    },
    {
     "data": {
      "text/html": [
       " View run at <a href='https://wandb.ai/mlb/cigap-classif/runs/qworhilt' target=\"_blank\">https://wandb.ai/mlb/cigap-classif/runs/qworhilt</a>"
      ],
      "text/plain": [
       "<IPython.core.display.HTML object>"
      ]
     },
     "metadata": {},
     "output_type": "display_data"
    },
    {
     "data": {
      "text/html": [
       "<button onClick=\"this.nextSibling.style.display='block';this.style.display='none';\">Display W&B run</button><iframe src='https://wandb.ai/mlb/cigap-classif/runs/qworhilt?jupyter=true' style='border:none;width:100%;height:420px;display:none;'></iframe>"
      ],
      "text/plain": [
       "<wandb.sdk.wandb_run.Run at 0x7fb32c8f8850>"
      ]
     },
     "execution_count": 1,
     "metadata": {},
     "output_type": "execute_result"
    }
   ],
   "source": [
    "from pycaret.classification import *\n",
    "import pandas as pd\n",
    "import os\n",
    "import wandb\n",
    "\n",
    "os.chdir('/home/antoine/gene_pheno_pred')\n",
    "os.environ[\"CUDA_VISIBLE_DEVICES\"]=\"0\"\n",
    "os.environ[\"WANDB_API_KEY\"]=\"4e5748d6c6f3917c78cdc38a516a1bac776faf58\"\n",
    "wandb.login()\n",
    "wandb.init(\n",
    "    project=\"cigap-classif\",\n",
    ")\n"
   ]
  },
  {
   "cell_type": "code",
   "execution_count": 2,
   "metadata": {
    "tags": []
   },
   "outputs": [
    {
     "data": {
      "text/html": [
       "<div>\n",
       "<style scoped>\n",
       "    .dataframe tbody tr th:only-of-type {\n",
       "        vertical-align: middle;\n",
       "    }\n",
       "\n",
       "    .dataframe tbody tr th {\n",
       "        vertical-align: top;\n",
       "    }\n",
       "\n",
       "    .dataframe thead th {\n",
       "        text-align: right;\n",
       "    }\n",
       "</style>\n",
       "<table border=\"1\" class=\"dataframe\">\n",
       "  <thead>\n",
       "    <tr style=\"text-align: right;\">\n",
       "      <th></th>\n",
       "      <th>http://semanticscience.org/resource/SIO_000281</th>\n",
       "      <th>http://semanticscience.org/resource/SIO_000628</th>\n",
       "      <th>http://semanticscience.org/resource/SIO_001279</th>\n",
       "      <th>http://www.semanticweb.org/needed-terms#001</th>\n",
       "      <th>http://www.semanticweb.org/needed-terms#002</th>\n",
       "      <th>http://www.semanticweb.org/needed-terms#004</th>\n",
       "      <th>http://www.semanticweb.org/needed-terms#009</th>\n",
       "      <th>http://www.w3.org/1999/02/22-rdf-syntax-ns#label</th>\n",
       "      <th>http://www.w3.org/1999/02/22-rdf-syntax-ns#type</th>\n",
       "      <th>http://www.w3.org/2000/01/rdf-schema#subClassOf</th>\n",
       "      <th>true_triple</th>\n",
       "    </tr>\n",
       "  </thead>\n",
       "  <tbody>\n",
       "    <tr>\n",
       "      <th>0</th>\n",
       "      <td>1.497328e-16</td>\n",
       "      <td>8.569161e-07</td>\n",
       "      <td>1.161128e-14</td>\n",
       "      <td>1.399443e-08</td>\n",
       "      <td>1.813081e-08</td>\n",
       "      <td>2.255108e-08</td>\n",
       "      <td>6.415973e-09</td>\n",
       "      <td>7.192457e-17</td>\n",
       "      <td>4.774428e-08</td>\n",
       "      <td>1.876987e-05</td>\n",
       "      <td>0.0</td>\n",
       "    </tr>\n",
       "    <tr>\n",
       "      <th>1</th>\n",
       "      <td>1.396785e-12</td>\n",
       "      <td>1.321590e-07</td>\n",
       "      <td>7.981567e-12</td>\n",
       "      <td>1.049748e-07</td>\n",
       "      <td>2.958315e-05</td>\n",
       "      <td>9.661645e-01</td>\n",
       "      <td>1.031275e-06</td>\n",
       "      <td>1.249553e-11</td>\n",
       "      <td>5.501635e-07</td>\n",
       "      <td>7.726856e-07</td>\n",
       "      <td>1.0</td>\n",
       "    </tr>\n",
       "    <tr>\n",
       "      <th>2</th>\n",
       "      <td>2.951753e-08</td>\n",
       "      <td>4.282211e-07</td>\n",
       "      <td>2.633518e-08</td>\n",
       "      <td>9.968404e-01</td>\n",
       "      <td>1.507903e-07</td>\n",
       "      <td>2.604848e-08</td>\n",
       "      <td>4.399697e-10</td>\n",
       "      <td>3.064637e-17</td>\n",
       "      <td>1.079021e-07</td>\n",
       "      <td>1.920667e-07</td>\n",
       "      <td>1.0</td>\n",
       "    </tr>\n",
       "    <tr>\n",
       "      <th>3</th>\n",
       "      <td>6.367520e-18</td>\n",
       "      <td>4.467859e-09</td>\n",
       "      <td>2.037887e-16</td>\n",
       "      <td>2.491686e-12</td>\n",
       "      <td>3.889536e-11</td>\n",
       "      <td>2.549497e-11</td>\n",
       "      <td>8.331496e-11</td>\n",
       "      <td>1.189124e-16</td>\n",
       "      <td>1.271881e-09</td>\n",
       "      <td>2.059001e-06</td>\n",
       "      <td>0.0</td>\n",
       "    </tr>\n",
       "    <tr>\n",
       "      <th>4</th>\n",
       "      <td>7.834637e-17</td>\n",
       "      <td>1.116862e-08</td>\n",
       "      <td>4.115093e-15</td>\n",
       "      <td>2.181649e-11</td>\n",
       "      <td>6.802968e-10</td>\n",
       "      <td>1.408699e-08</td>\n",
       "      <td>4.864297e-08</td>\n",
       "      <td>6.059204e-15</td>\n",
       "      <td>5.930753e-08</td>\n",
       "      <td>1.609413e-04</td>\n",
       "      <td>0.0</td>\n",
       "    </tr>\n",
       "    <tr>\n",
       "      <th>...</th>\n",
       "      <td>...</td>\n",
       "      <td>...</td>\n",
       "      <td>...</td>\n",
       "      <td>...</td>\n",
       "      <td>...</td>\n",
       "      <td>...</td>\n",
       "      <td>...</td>\n",
       "      <td>...</td>\n",
       "      <td>...</td>\n",
       "      <td>...</td>\n",
       "      <td>...</td>\n",
       "    </tr>\n",
       "    <tr>\n",
       "      <th>2364605</th>\n",
       "      <td>8.843830e-11</td>\n",
       "      <td>3.234868e-07</td>\n",
       "      <td>1.589840e-10</td>\n",
       "      <td>9.974289e-01</td>\n",
       "      <td>1.905666e-09</td>\n",
       "      <td>6.355330e-09</td>\n",
       "      <td>5.855505e-10</td>\n",
       "      <td>4.633466e-17</td>\n",
       "      <td>2.122450e-08</td>\n",
       "      <td>1.094249e-08</td>\n",
       "      <td>1.0</td>\n",
       "    </tr>\n",
       "    <tr>\n",
       "      <th>2364606</th>\n",
       "      <td>5.623784e-07</td>\n",
       "      <td>9.999132e-01</td>\n",
       "      <td>1.664809e-05</td>\n",
       "      <td>1.607382e-04</td>\n",
       "      <td>1.812429e-04</td>\n",
       "      <td>8.377070e-05</td>\n",
       "      <td>3.958140e-05</td>\n",
       "      <td>1.741982e-14</td>\n",
       "      <td>1.312027e-05</td>\n",
       "      <td>2.209004e-04</td>\n",
       "      <td>1.0</td>\n",
       "    </tr>\n",
       "    <tr>\n",
       "      <th>2364607</th>\n",
       "      <td>1.937978e-13</td>\n",
       "      <td>1.520086e-07</td>\n",
       "      <td>4.637242e-13</td>\n",
       "      <td>3.125826e-05</td>\n",
       "      <td>1.286510e-10</td>\n",
       "      <td>2.009951e-08</td>\n",
       "      <td>5.496570e-08</td>\n",
       "      <td>4.623210e-16</td>\n",
       "      <td>6.332945e-09</td>\n",
       "      <td>1.270808e-07</td>\n",
       "      <td>0.0</td>\n",
       "    </tr>\n",
       "    <tr>\n",
       "      <th>2364608</th>\n",
       "      <td>1.929130e-17</td>\n",
       "      <td>7.256036e-09</td>\n",
       "      <td>4.399048e-15</td>\n",
       "      <td>9.591672e-14</td>\n",
       "      <td>1.796910e-09</td>\n",
       "      <td>7.746436e-09</td>\n",
       "      <td>8.305990e-09</td>\n",
       "      <td>9.257812e-15</td>\n",
       "      <td>1.410007e-09</td>\n",
       "      <td>4.340066e-05</td>\n",
       "      <td>0.0</td>\n",
       "    </tr>\n",
       "    <tr>\n",
       "      <th>2364609</th>\n",
       "      <td>9.999983e-01</td>\n",
       "      <td>2.480502e-06</td>\n",
       "      <td>9.985623e-01</td>\n",
       "      <td>9.411633e-07</td>\n",
       "      <td>5.503506e-06</td>\n",
       "      <td>1.637607e-08</td>\n",
       "      <td>1.137665e-10</td>\n",
       "      <td>4.872981e-15</td>\n",
       "      <td>3.096374e-08</td>\n",
       "      <td>1.973739e-08</td>\n",
       "      <td>1.0</td>\n",
       "    </tr>\n",
       "  </tbody>\n",
       "</table>\n",
       "<p>2364610 rows × 11 columns</p>\n",
       "</div>"
      ],
      "text/plain": [
       "         http://semanticscience.org/resource/SIO_000281  \\\n",
       "0                                          1.497328e-16   \n",
       "1                                          1.396785e-12   \n",
       "2                                          2.951753e-08   \n",
       "3                                          6.367520e-18   \n",
       "4                                          7.834637e-17   \n",
       "...                                                 ...   \n",
       "2364605                                    8.843830e-11   \n",
       "2364606                                    5.623784e-07   \n",
       "2364607                                    1.937978e-13   \n",
       "2364608                                    1.929130e-17   \n",
       "2364609                                    9.999983e-01   \n",
       "\n",
       "         http://semanticscience.org/resource/SIO_000628  \\\n",
       "0                                          8.569161e-07   \n",
       "1                                          1.321590e-07   \n",
       "2                                          4.282211e-07   \n",
       "3                                          4.467859e-09   \n",
       "4                                          1.116862e-08   \n",
       "...                                                 ...   \n",
       "2364605                                    3.234868e-07   \n",
       "2364606                                    9.999132e-01   \n",
       "2364607                                    1.520086e-07   \n",
       "2364608                                    7.256036e-09   \n",
       "2364609                                    2.480502e-06   \n",
       "\n",
       "         http://semanticscience.org/resource/SIO_001279  \\\n",
       "0                                          1.161128e-14   \n",
       "1                                          7.981567e-12   \n",
       "2                                          2.633518e-08   \n",
       "3                                          2.037887e-16   \n",
       "4                                          4.115093e-15   \n",
       "...                                                 ...   \n",
       "2364605                                    1.589840e-10   \n",
       "2364606                                    1.664809e-05   \n",
       "2364607                                    4.637242e-13   \n",
       "2364608                                    4.399048e-15   \n",
       "2364609                                    9.985623e-01   \n",
       "\n",
       "         http://www.semanticweb.org/needed-terms#001  \\\n",
       "0                                       1.399443e-08   \n",
       "1                                       1.049748e-07   \n",
       "2                                       9.968404e-01   \n",
       "3                                       2.491686e-12   \n",
       "4                                       2.181649e-11   \n",
       "...                                              ...   \n",
       "2364605                                 9.974289e-01   \n",
       "2364606                                 1.607382e-04   \n",
       "2364607                                 3.125826e-05   \n",
       "2364608                                 9.591672e-14   \n",
       "2364609                                 9.411633e-07   \n",
       "\n",
       "         http://www.semanticweb.org/needed-terms#002  \\\n",
       "0                                       1.813081e-08   \n",
       "1                                       2.958315e-05   \n",
       "2                                       1.507903e-07   \n",
       "3                                       3.889536e-11   \n",
       "4                                       6.802968e-10   \n",
       "...                                              ...   \n",
       "2364605                                 1.905666e-09   \n",
       "2364606                                 1.812429e-04   \n",
       "2364607                                 1.286510e-10   \n",
       "2364608                                 1.796910e-09   \n",
       "2364609                                 5.503506e-06   \n",
       "\n",
       "         http://www.semanticweb.org/needed-terms#004  \\\n",
       "0                                       2.255108e-08   \n",
       "1                                       9.661645e-01   \n",
       "2                                       2.604848e-08   \n",
       "3                                       2.549497e-11   \n",
       "4                                       1.408699e-08   \n",
       "...                                              ...   \n",
       "2364605                                 6.355330e-09   \n",
       "2364606                                 8.377070e-05   \n",
       "2364607                                 2.009951e-08   \n",
       "2364608                                 7.746436e-09   \n",
       "2364609                                 1.637607e-08   \n",
       "\n",
       "         http://www.semanticweb.org/needed-terms#009  \\\n",
       "0                                       6.415973e-09   \n",
       "1                                       1.031275e-06   \n",
       "2                                       4.399697e-10   \n",
       "3                                       8.331496e-11   \n",
       "4                                       4.864297e-08   \n",
       "...                                              ...   \n",
       "2364605                                 5.855505e-10   \n",
       "2364606                                 3.958140e-05   \n",
       "2364607                                 5.496570e-08   \n",
       "2364608                                 8.305990e-09   \n",
       "2364609                                 1.137665e-10   \n",
       "\n",
       "         http://www.w3.org/1999/02/22-rdf-syntax-ns#label  \\\n",
       "0                                            7.192457e-17   \n",
       "1                                            1.249553e-11   \n",
       "2                                            3.064637e-17   \n",
       "3                                            1.189124e-16   \n",
       "4                                            6.059204e-15   \n",
       "...                                                   ...   \n",
       "2364605                                      4.633466e-17   \n",
       "2364606                                      1.741982e-14   \n",
       "2364607                                      4.623210e-16   \n",
       "2364608                                      9.257812e-15   \n",
       "2364609                                      4.872981e-15   \n",
       "\n",
       "         http://www.w3.org/1999/02/22-rdf-syntax-ns#type  \\\n",
       "0                                           4.774428e-08   \n",
       "1                                           5.501635e-07   \n",
       "2                                           1.079021e-07   \n",
       "3                                           1.271881e-09   \n",
       "4                                           5.930753e-08   \n",
       "...                                                  ...   \n",
       "2364605                                     2.122450e-08   \n",
       "2364606                                     1.312027e-05   \n",
       "2364607                                     6.332945e-09   \n",
       "2364608                                     1.410007e-09   \n",
       "2364609                                     3.096374e-08   \n",
       "\n",
       "         http://www.w3.org/2000/01/rdf-schema#subClassOf  true_triple  \n",
       "0                                           1.876987e-05          0.0  \n",
       "1                                           7.726856e-07          1.0  \n",
       "2                                           1.920667e-07          1.0  \n",
       "3                                           2.059001e-06          0.0  \n",
       "4                                           1.609413e-04          0.0  \n",
       "...                                                  ...          ...  \n",
       "2364605                                     1.094249e-08          1.0  \n",
       "2364606                                     2.209004e-04          1.0  \n",
       "2364607                                     1.270808e-07          0.0  \n",
       "2364608                                     4.340066e-05          0.0  \n",
       "2364609                                     1.973739e-08          1.0  \n",
       "\n",
       "[2364610 rows x 11 columns]"
      ]
     },
     "execution_count": 2,
     "metadata": {},
     "output_type": "execute_result"
    }
   ],
   "source": [
    "# Load training set\n",
    "train = pd.read_csv('/home/antoine/gene_pheno_pred/ConvKB_scores_train.csv' , header=0)\n",
    "train.drop(columns=['rel_type'], inplace=True)\n",
    "train"
   ]
  },
  {
   "cell_type": "code",
   "execution_count": 3,
   "metadata": {
    "tags": []
   },
   "outputs": [
    {
     "data": {
      "text/html": [
       "<div>\n",
       "<style scoped>\n",
       "    .dataframe tbody tr th:only-of-type {\n",
       "        vertical-align: middle;\n",
       "    }\n",
       "\n",
       "    .dataframe tbody tr th {\n",
       "        vertical-align: top;\n",
       "    }\n",
       "\n",
       "    .dataframe thead th {\n",
       "        text-align: right;\n",
       "    }\n",
       "</style>\n",
       "<table border=\"1\" class=\"dataframe\">\n",
       "  <thead>\n",
       "    <tr style=\"text-align: right;\">\n",
       "      <th></th>\n",
       "      <th>http://semanticscience.org/resource/SIO_000281</th>\n",
       "      <th>http://semanticscience.org/resource/SIO_000628</th>\n",
       "      <th>http://semanticscience.org/resource/SIO_001279</th>\n",
       "      <th>http://www.semanticweb.org/needed-terms#001</th>\n",
       "      <th>http://www.semanticweb.org/needed-terms#002</th>\n",
       "      <th>http://www.semanticweb.org/needed-terms#004</th>\n",
       "      <th>http://www.semanticweb.org/needed-terms#009</th>\n",
       "      <th>http://www.w3.org/1999/02/22-rdf-syntax-ns#label</th>\n",
       "      <th>http://www.w3.org/1999/02/22-rdf-syntax-ns#type</th>\n",
       "      <th>http://www.w3.org/2000/01/rdf-schema#subClassOf</th>\n",
       "      <th>true_triple</th>\n",
       "    </tr>\n",
       "  </thead>\n",
       "  <tbody>\n",
       "    <tr>\n",
       "      <th>0</th>\n",
       "      <td>1.390461e-16</td>\n",
       "      <td>2.022144e-09</td>\n",
       "      <td>1.723389e-15</td>\n",
       "      <td>1.686923e-13</td>\n",
       "      <td>8.797799e-11</td>\n",
       "      <td>4.820794e-08</td>\n",
       "      <td>4.101536e-08</td>\n",
       "      <td>4.054872e-12</td>\n",
       "      <td>7.577471e-10</td>\n",
       "      <td>3.193485e-04</td>\n",
       "      <td>1.0</td>\n",
       "    </tr>\n",
       "    <tr>\n",
       "      <th>1</th>\n",
       "      <td>7.769395e-18</td>\n",
       "      <td>9.269042e-09</td>\n",
       "      <td>9.277287e-16</td>\n",
       "      <td>2.822336e-12</td>\n",
       "      <td>9.127231e-10</td>\n",
       "      <td>3.271483e-08</td>\n",
       "      <td>1.297195e-07</td>\n",
       "      <td>1.459238e-12</td>\n",
       "      <td>3.891724e-08</td>\n",
       "      <td>5.482596e-03</td>\n",
       "      <td>1.0</td>\n",
       "    </tr>\n",
       "    <tr>\n",
       "      <th>2</th>\n",
       "      <td>9.381931e-21</td>\n",
       "      <td>1.260345e-12</td>\n",
       "      <td>2.533955e-18</td>\n",
       "      <td>3.766882e-16</td>\n",
       "      <td>3.138146e-13</td>\n",
       "      <td>2.445664e-13</td>\n",
       "      <td>8.000954e-12</td>\n",
       "      <td>1.718058e-16</td>\n",
       "      <td>2.202536e-12</td>\n",
       "      <td>4.351150e-06</td>\n",
       "      <td>1.0</td>\n",
       "    </tr>\n",
       "    <tr>\n",
       "      <th>3</th>\n",
       "      <td>9.624895e-11</td>\n",
       "      <td>1.401421e-07</td>\n",
       "      <td>1.800882e-10</td>\n",
       "      <td>2.432747e-07</td>\n",
       "      <td>1.276196e-05</td>\n",
       "      <td>5.773820e-01</td>\n",
       "      <td>7.143231e-08</td>\n",
       "      <td>1.922280e-13</td>\n",
       "      <td>1.114032e-06</td>\n",
       "      <td>6.695654e-06</td>\n",
       "      <td>0.0</td>\n",
       "    </tr>\n",
       "    <tr>\n",
       "      <th>4</th>\n",
       "      <td>8.980259e-18</td>\n",
       "      <td>1.425727e-09</td>\n",
       "      <td>1.264181e-16</td>\n",
       "      <td>7.146914e-11</td>\n",
       "      <td>4.413531e-10</td>\n",
       "      <td>1.747594e-05</td>\n",
       "      <td>7.362392e-09</td>\n",
       "      <td>2.288004e-13</td>\n",
       "      <td>5.467836e-08</td>\n",
       "      <td>1.467091e-05</td>\n",
       "      <td>1.0</td>\n",
       "    </tr>\n",
       "    <tr>\n",
       "      <th>...</th>\n",
       "      <td>...</td>\n",
       "      <td>...</td>\n",
       "      <td>...</td>\n",
       "      <td>...</td>\n",
       "      <td>...</td>\n",
       "      <td>...</td>\n",
       "      <td>...</td>\n",
       "      <td>...</td>\n",
       "      <td>...</td>\n",
       "      <td>...</td>\n",
       "      <td>...</td>\n",
       "    </tr>\n",
       "    <tr>\n",
       "      <th>234137</th>\n",
       "      <td>1.229546e-17</td>\n",
       "      <td>6.919032e-09</td>\n",
       "      <td>2.298910e-16</td>\n",
       "      <td>4.578273e-12</td>\n",
       "      <td>5.369236e-10</td>\n",
       "      <td>9.068614e-10</td>\n",
       "      <td>3.044238e-08</td>\n",
       "      <td>7.133577e-16</td>\n",
       "      <td>3.327396e-08</td>\n",
       "      <td>1.743223e-04</td>\n",
       "      <td>0.0</td>\n",
       "    </tr>\n",
       "    <tr>\n",
       "      <th>234138</th>\n",
       "      <td>1.928937e-19</td>\n",
       "      <td>1.661600e-09</td>\n",
       "      <td>1.274581e-17</td>\n",
       "      <td>2.727026e-12</td>\n",
       "      <td>2.053241e-11</td>\n",
       "      <td>7.465712e-11</td>\n",
       "      <td>2.907225e-09</td>\n",
       "      <td>2.081199e-16</td>\n",
       "      <td>6.355764e-10</td>\n",
       "      <td>7.167623e-05</td>\n",
       "      <td>1.0</td>\n",
       "    </tr>\n",
       "    <tr>\n",
       "      <th>234139</th>\n",
       "      <td>8.608478e-16</td>\n",
       "      <td>4.379825e-08</td>\n",
       "      <td>4.330948e-14</td>\n",
       "      <td>2.884387e-12</td>\n",
       "      <td>2.634657e-09</td>\n",
       "      <td>1.799625e-05</td>\n",
       "      <td>3.820267e-08</td>\n",
       "      <td>5.058671e-14</td>\n",
       "      <td>6.640151e-08</td>\n",
       "      <td>7.224494e-06</td>\n",
       "      <td>1.0</td>\n",
       "    </tr>\n",
       "    <tr>\n",
       "      <th>234140</th>\n",
       "      <td>5.686351e-28</td>\n",
       "      <td>7.202888e-18</td>\n",
       "      <td>5.765508e-28</td>\n",
       "      <td>7.974873e-19</td>\n",
       "      <td>4.766921e-19</td>\n",
       "      <td>1.164702e-16</td>\n",
       "      <td>3.423171e-16</td>\n",
       "      <td>2.025809e-18</td>\n",
       "      <td>3.418671e-15</td>\n",
       "      <td>4.055928e-10</td>\n",
       "      <td>1.0</td>\n",
       "    </tr>\n",
       "    <tr>\n",
       "      <th>234141</th>\n",
       "      <td>2.553839e-18</td>\n",
       "      <td>3.622823e-09</td>\n",
       "      <td>3.820718e-16</td>\n",
       "      <td>1.159274e-13</td>\n",
       "      <td>3.663036e-11</td>\n",
       "      <td>1.671249e-10</td>\n",
       "      <td>8.293246e-09</td>\n",
       "      <td>2.585644e-14</td>\n",
       "      <td>4.303019e-10</td>\n",
       "      <td>1.103034e-05</td>\n",
       "      <td>1.0</td>\n",
       "    </tr>\n",
       "  </tbody>\n",
       "</table>\n",
       "<p>234142 rows × 11 columns</p>\n",
       "</div>"
      ],
      "text/plain": [
       "        http://semanticscience.org/resource/SIO_000281  \\\n",
       "0                                         1.390461e-16   \n",
       "1                                         7.769395e-18   \n",
       "2                                         9.381931e-21   \n",
       "3                                         9.624895e-11   \n",
       "4                                         8.980259e-18   \n",
       "...                                                ...   \n",
       "234137                                    1.229546e-17   \n",
       "234138                                    1.928937e-19   \n",
       "234139                                    8.608478e-16   \n",
       "234140                                    5.686351e-28   \n",
       "234141                                    2.553839e-18   \n",
       "\n",
       "        http://semanticscience.org/resource/SIO_000628  \\\n",
       "0                                         2.022144e-09   \n",
       "1                                         9.269042e-09   \n",
       "2                                         1.260345e-12   \n",
       "3                                         1.401421e-07   \n",
       "4                                         1.425727e-09   \n",
       "...                                                ...   \n",
       "234137                                    6.919032e-09   \n",
       "234138                                    1.661600e-09   \n",
       "234139                                    4.379825e-08   \n",
       "234140                                    7.202888e-18   \n",
       "234141                                    3.622823e-09   \n",
       "\n",
       "        http://semanticscience.org/resource/SIO_001279  \\\n",
       "0                                         1.723389e-15   \n",
       "1                                         9.277287e-16   \n",
       "2                                         2.533955e-18   \n",
       "3                                         1.800882e-10   \n",
       "4                                         1.264181e-16   \n",
       "...                                                ...   \n",
       "234137                                    2.298910e-16   \n",
       "234138                                    1.274581e-17   \n",
       "234139                                    4.330948e-14   \n",
       "234140                                    5.765508e-28   \n",
       "234141                                    3.820718e-16   \n",
       "\n",
       "        http://www.semanticweb.org/needed-terms#001  \\\n",
       "0                                      1.686923e-13   \n",
       "1                                      2.822336e-12   \n",
       "2                                      3.766882e-16   \n",
       "3                                      2.432747e-07   \n",
       "4                                      7.146914e-11   \n",
       "...                                             ...   \n",
       "234137                                 4.578273e-12   \n",
       "234138                                 2.727026e-12   \n",
       "234139                                 2.884387e-12   \n",
       "234140                                 7.974873e-19   \n",
       "234141                                 1.159274e-13   \n",
       "\n",
       "        http://www.semanticweb.org/needed-terms#002  \\\n",
       "0                                      8.797799e-11   \n",
       "1                                      9.127231e-10   \n",
       "2                                      3.138146e-13   \n",
       "3                                      1.276196e-05   \n",
       "4                                      4.413531e-10   \n",
       "...                                             ...   \n",
       "234137                                 5.369236e-10   \n",
       "234138                                 2.053241e-11   \n",
       "234139                                 2.634657e-09   \n",
       "234140                                 4.766921e-19   \n",
       "234141                                 3.663036e-11   \n",
       "\n",
       "        http://www.semanticweb.org/needed-terms#004  \\\n",
       "0                                      4.820794e-08   \n",
       "1                                      3.271483e-08   \n",
       "2                                      2.445664e-13   \n",
       "3                                      5.773820e-01   \n",
       "4                                      1.747594e-05   \n",
       "...                                             ...   \n",
       "234137                                 9.068614e-10   \n",
       "234138                                 7.465712e-11   \n",
       "234139                                 1.799625e-05   \n",
       "234140                                 1.164702e-16   \n",
       "234141                                 1.671249e-10   \n",
       "\n",
       "        http://www.semanticweb.org/needed-terms#009  \\\n",
       "0                                      4.101536e-08   \n",
       "1                                      1.297195e-07   \n",
       "2                                      8.000954e-12   \n",
       "3                                      7.143231e-08   \n",
       "4                                      7.362392e-09   \n",
       "...                                             ...   \n",
       "234137                                 3.044238e-08   \n",
       "234138                                 2.907225e-09   \n",
       "234139                                 3.820267e-08   \n",
       "234140                                 3.423171e-16   \n",
       "234141                                 8.293246e-09   \n",
       "\n",
       "        http://www.w3.org/1999/02/22-rdf-syntax-ns#label  \\\n",
       "0                                           4.054872e-12   \n",
       "1                                           1.459238e-12   \n",
       "2                                           1.718058e-16   \n",
       "3                                           1.922280e-13   \n",
       "4                                           2.288004e-13   \n",
       "...                                                  ...   \n",
       "234137                                      7.133577e-16   \n",
       "234138                                      2.081199e-16   \n",
       "234139                                      5.058671e-14   \n",
       "234140                                      2.025809e-18   \n",
       "234141                                      2.585644e-14   \n",
       "\n",
       "        http://www.w3.org/1999/02/22-rdf-syntax-ns#type  \\\n",
       "0                                          7.577471e-10   \n",
       "1                                          3.891724e-08   \n",
       "2                                          2.202536e-12   \n",
       "3                                          1.114032e-06   \n",
       "4                                          5.467836e-08   \n",
       "...                                                 ...   \n",
       "234137                                     3.327396e-08   \n",
       "234138                                     6.355764e-10   \n",
       "234139                                     6.640151e-08   \n",
       "234140                                     3.418671e-15   \n",
       "234141                                     4.303019e-10   \n",
       "\n",
       "        http://www.w3.org/2000/01/rdf-schema#subClassOf  true_triple  \n",
       "0                                          3.193485e-04          1.0  \n",
       "1                                          5.482596e-03          1.0  \n",
       "2                                          4.351150e-06          1.0  \n",
       "3                                          6.695654e-06          0.0  \n",
       "4                                          1.467091e-05          1.0  \n",
       "...                                                 ...          ...  \n",
       "234137                                     1.743223e-04          0.0  \n",
       "234138                                     7.167623e-05          1.0  \n",
       "234139                                     7.224494e-06          1.0  \n",
       "234140                                     4.055928e-10          1.0  \n",
       "234141                                     1.103034e-05          1.0  \n",
       "\n",
       "[234142 rows x 11 columns]"
      ]
     },
     "execution_count": 3,
     "metadata": {},
     "output_type": "execute_result"
    }
   ],
   "source": [
    "# Validation set\n",
    "val = pd.read_csv('/home/antoine/gene_pheno_pred/ConvKB_scores_val.csv' , header=0)\n",
    "val.drop(columns=['rel_type'], inplace=True)\n",
    "val"
   ]
  },
  {
   "cell_type": "code",
   "execution_count": 4,
   "metadata": {
    "tags": []
   },
   "outputs": [
    {
     "name": "stderr",
     "output_type": "stream",
     "text": [
      "[LightGBM] [Fatal] GPU Tree Learner was not enabled in this build.\n",
      "Please recompile with CMake option -DUSE_GPU=1\n",
      "[LightGBM] [Fatal] CUDA Tree Learner was not enabled in this build.\n",
      "Please recompile with CMake option -DUSE_CUDA=1\n",
      "[LightGBM] [Fatal] GPU Tree Learner was not enabled in this build.\n",
      "Please recompile with CMake option -DUSE_GPU=1\n",
      "[LightGBM] [Fatal] CUDA Tree Learner was not enabled in this build.\n",
      "Please recompile with CMake option -DUSE_CUDA=1\n",
      "[LightGBM] [Fatal] GPU Tree Learner was not enabled in this build.\n",
      "Please recompile with CMake option -DUSE_GPU=1\n",
      "[LightGBM] [Fatal] CUDA Tree Learner was not enabled in this build.\n",
      "Please recompile with CMake option -DUSE_CUDA=1\n",
      "[LightGBM] [Fatal] GPU Tree Learner was not enabled in this build.\n",
      "Please recompile with CMake option -DUSE_GPU=1\n",
      "[LightGBM] [Fatal] CUDA Tree Learner was not enabled in this build.\n",
      "Please recompile with CMake option -DUSE_CUDA=1\n",
      "[LightGBM] [Fatal] GPU Tree Learner was not enabled in this build.\n",
      "Please recompile with CMake option -DUSE_GPU=1\n",
      "[LightGBM] [Fatal] CUDA Tree Learner was not enabled in this build.\n",
      "Please recompile with CMake option -DUSE_CUDA=1\n",
      "[LightGBM] [Fatal] GPU Tree Learner was not enabled in this build.\n",
      "Please recompile with CMake option -DUSE_GPU=1\n",
      "[LightGBM] [Fatal] CUDA Tree Learner was not enabled in this build.\n",
      "Please recompile with CMake option -DUSE_CUDA=1\n"
     ]
    },
    {
     "data": {
      "text/html": [
       "<style type=\"text/css\">\n",
       "#T_30a70_row8_col1, #T_30a70_row15_col1 {\n",
       "  background-color: lightgreen;\n",
       "}\n",
       "</style>\n",
       "<table id=\"T_30a70\">\n",
       "  <thead>\n",
       "    <tr>\n",
       "      <th class=\"blank level0\" >&nbsp;</th>\n",
       "      <th id=\"T_30a70_level0_col0\" class=\"col_heading level0 col0\" >Description</th>\n",
       "      <th id=\"T_30a70_level0_col1\" class=\"col_heading level0 col1\" >Value</th>\n",
       "    </tr>\n",
       "  </thead>\n",
       "  <tbody>\n",
       "    <tr>\n",
       "      <th id=\"T_30a70_level0_row0\" class=\"row_heading level0 row0\" >0</th>\n",
       "      <td id=\"T_30a70_row0_col0\" class=\"data row0 col0\" >Session id</td>\n",
       "      <td id=\"T_30a70_row0_col1\" class=\"data row0 col1\" >8050</td>\n",
       "    </tr>\n",
       "    <tr>\n",
       "      <th id=\"T_30a70_level0_row1\" class=\"row_heading level0 row1\" >1</th>\n",
       "      <td id=\"T_30a70_row1_col0\" class=\"data row1 col0\" >Target</td>\n",
       "      <td id=\"T_30a70_row1_col1\" class=\"data row1 col1\" >true_triple</td>\n",
       "    </tr>\n",
       "    <tr>\n",
       "      <th id=\"T_30a70_level0_row2\" class=\"row_heading level0 row2\" >2</th>\n",
       "      <td id=\"T_30a70_row2_col0\" class=\"data row2 col0\" >Target type</td>\n",
       "      <td id=\"T_30a70_row2_col1\" class=\"data row2 col1\" >Binary</td>\n",
       "    </tr>\n",
       "    <tr>\n",
       "      <th id=\"T_30a70_level0_row3\" class=\"row_heading level0 row3\" >3</th>\n",
       "      <td id=\"T_30a70_row3_col0\" class=\"data row3 col0\" >Original data shape</td>\n",
       "      <td id=\"T_30a70_row3_col1\" class=\"data row3 col1\" >(2364610, 11)</td>\n",
       "    </tr>\n",
       "    <tr>\n",
       "      <th id=\"T_30a70_level0_row4\" class=\"row_heading level0 row4\" >4</th>\n",
       "      <td id=\"T_30a70_row4_col0\" class=\"data row4 col0\" >Transformed data shape</td>\n",
       "      <td id=\"T_30a70_row4_col1\" class=\"data row4 col1\" >(2364610, 11)</td>\n",
       "    </tr>\n",
       "    <tr>\n",
       "      <th id=\"T_30a70_level0_row5\" class=\"row_heading level0 row5\" >5</th>\n",
       "      <td id=\"T_30a70_row5_col0\" class=\"data row5 col0\" >Transformed train set shape</td>\n",
       "      <td id=\"T_30a70_row5_col1\" class=\"data row5 col1\" >(1891688, 11)</td>\n",
       "    </tr>\n",
       "    <tr>\n",
       "      <th id=\"T_30a70_level0_row6\" class=\"row_heading level0 row6\" >6</th>\n",
       "      <td id=\"T_30a70_row6_col0\" class=\"data row6 col0\" >Transformed test set shape</td>\n",
       "      <td id=\"T_30a70_row6_col1\" class=\"data row6 col1\" >(472922, 11)</td>\n",
       "    </tr>\n",
       "    <tr>\n",
       "      <th id=\"T_30a70_level0_row7\" class=\"row_heading level0 row7\" >7</th>\n",
       "      <td id=\"T_30a70_row7_col0\" class=\"data row7 col0\" >Numeric features</td>\n",
       "      <td id=\"T_30a70_row7_col1\" class=\"data row7 col1\" >10</td>\n",
       "    </tr>\n",
       "    <tr>\n",
       "      <th id=\"T_30a70_level0_row8\" class=\"row_heading level0 row8\" >8</th>\n",
       "      <td id=\"T_30a70_row8_col0\" class=\"data row8 col0\" >Preprocess</td>\n",
       "      <td id=\"T_30a70_row8_col1\" class=\"data row8 col1\" >True</td>\n",
       "    </tr>\n",
       "    <tr>\n",
       "      <th id=\"T_30a70_level0_row9\" class=\"row_heading level0 row9\" >9</th>\n",
       "      <td id=\"T_30a70_row9_col0\" class=\"data row9 col0\" >Imputation type</td>\n",
       "      <td id=\"T_30a70_row9_col1\" class=\"data row9 col1\" >simple</td>\n",
       "    </tr>\n",
       "    <tr>\n",
       "      <th id=\"T_30a70_level0_row10\" class=\"row_heading level0 row10\" >10</th>\n",
       "      <td id=\"T_30a70_row10_col0\" class=\"data row10 col0\" >Numeric imputation</td>\n",
       "      <td id=\"T_30a70_row10_col1\" class=\"data row10 col1\" >mean</td>\n",
       "    </tr>\n",
       "    <tr>\n",
       "      <th id=\"T_30a70_level0_row11\" class=\"row_heading level0 row11\" >11</th>\n",
       "      <td id=\"T_30a70_row11_col0\" class=\"data row11 col0\" >Categorical imputation</td>\n",
       "      <td id=\"T_30a70_row11_col1\" class=\"data row11 col1\" >mode</td>\n",
       "    </tr>\n",
       "    <tr>\n",
       "      <th id=\"T_30a70_level0_row12\" class=\"row_heading level0 row12\" >12</th>\n",
       "      <td id=\"T_30a70_row12_col0\" class=\"data row12 col0\" >Fold Generator</td>\n",
       "      <td id=\"T_30a70_row12_col1\" class=\"data row12 col1\" >StratifiedKFold</td>\n",
       "    </tr>\n",
       "    <tr>\n",
       "      <th id=\"T_30a70_level0_row13\" class=\"row_heading level0 row13\" >13</th>\n",
       "      <td id=\"T_30a70_row13_col0\" class=\"data row13 col0\" >Fold Number</td>\n",
       "      <td id=\"T_30a70_row13_col1\" class=\"data row13 col1\" >10</td>\n",
       "    </tr>\n",
       "    <tr>\n",
       "      <th id=\"T_30a70_level0_row14\" class=\"row_heading level0 row14\" >14</th>\n",
       "      <td id=\"T_30a70_row14_col0\" class=\"data row14 col0\" >CPU Jobs</td>\n",
       "      <td id=\"T_30a70_row14_col1\" class=\"data row14 col1\" >-1</td>\n",
       "    </tr>\n",
       "    <tr>\n",
       "      <th id=\"T_30a70_level0_row15\" class=\"row_heading level0 row15\" >15</th>\n",
       "      <td id=\"T_30a70_row15_col0\" class=\"data row15 col0\" >Use GPU</td>\n",
       "      <td id=\"T_30a70_row15_col1\" class=\"data row15 col1\" >True</td>\n",
       "    </tr>\n",
       "    <tr>\n",
       "      <th id=\"T_30a70_level0_row16\" class=\"row_heading level0 row16\" >16</th>\n",
       "      <td id=\"T_30a70_row16_col0\" class=\"data row16 col0\" >Log Experiment</td>\n",
       "      <td id=\"T_30a70_row16_col1\" class=\"data row16 col1\" >WandbLogger</td>\n",
       "    </tr>\n",
       "    <tr>\n",
       "      <th id=\"T_30a70_level0_row17\" class=\"row_heading level0 row17\" >17</th>\n",
       "      <td id=\"T_30a70_row17_col0\" class=\"data row17 col0\" >Experiment Name</td>\n",
       "      <td id=\"T_30a70_row17_col1\" class=\"data row17 col1\" >clf-default-name</td>\n",
       "    </tr>\n",
       "    <tr>\n",
       "      <th id=\"T_30a70_level0_row18\" class=\"row_heading level0 row18\" >18</th>\n",
       "      <td id=\"T_30a70_row18_col0\" class=\"data row18 col0\" >USI</td>\n",
       "      <td id=\"T_30a70_row18_col1\" class=\"data row18 col1\" >1f17</td>\n",
       "    </tr>\n",
       "  </tbody>\n",
       "</table>\n"
      ],
      "text/plain": [
       "<pandas.io.formats.style.Styler at 0x7fb32c0f6050>"
      ]
     },
     "metadata": {},
     "output_type": "display_data"
    },
    {
     "name": "stderr",
     "output_type": "stream",
     "text": [
      "[LightGBM] [Fatal] GPU Tree Learner was not enabled in this build.\n",
      "Please recompile with CMake option -DUSE_GPU=1\n",
      "[LightGBM] [Fatal] CUDA Tree Learner was not enabled in this build.\n",
      "Please recompile with CMake option -DUSE_CUDA=1\n",
      "[LightGBM] [Fatal] GPU Tree Learner was not enabled in this build.\n",
      "Please recompile with CMake option -DUSE_GPU=1\n",
      "[LightGBM] [Fatal] CUDA Tree Learner was not enabled in this build.\n",
      "Please recompile with CMake option -DUSE_CUDA=1\n"
     ]
    }
   ],
   "source": [
    "# Experiment setup\n",
    "s = setup(train, target = 'true_triple', fold_strategy = 'stratifiedkfold', fold=10, train_size = 0.8, n_jobs=-1, system_log=True, use_gpu = True, log_experiment='wandb')\n",
    "exp = ClassificationExperiment()"
   ]
  },
  {
   "cell_type": "markdown",
   "metadata": {},
   "source": [
    "# K Neighbors Classifier"
   ]
  },
  {
   "cell_type": "code",
   "execution_count": 5,
   "metadata": {
    "tags": []
   },
   "outputs": [
    {
     "data": {
      "text/html": [],
      "text/plain": [
       "<IPython.core.display.HTML object>"
      ]
     },
     "metadata": {},
     "output_type": "display_data"
    },
    {
     "data": {
      "text/html": [
       "<style type=\"text/css\">\n",
       "#T_72809_row10_col0, #T_72809_row10_col1, #T_72809_row10_col2, #T_72809_row10_col3, #T_72809_row10_col4, #T_72809_row10_col5, #T_72809_row10_col6 {\n",
       "  background: yellow;\n",
       "}\n",
       "</style>\n",
       "<table id=\"T_72809\">\n",
       "  <thead>\n",
       "    <tr>\n",
       "      <th class=\"blank level0\" >&nbsp;</th>\n",
       "      <th id=\"T_72809_level0_col0\" class=\"col_heading level0 col0\" >Accuracy</th>\n",
       "      <th id=\"T_72809_level0_col1\" class=\"col_heading level0 col1\" >AUC</th>\n",
       "      <th id=\"T_72809_level0_col2\" class=\"col_heading level0 col2\" >Recall</th>\n",
       "      <th id=\"T_72809_level0_col3\" class=\"col_heading level0 col3\" >Prec.</th>\n",
       "      <th id=\"T_72809_level0_col4\" class=\"col_heading level0 col4\" >F1</th>\n",
       "      <th id=\"T_72809_level0_col5\" class=\"col_heading level0 col5\" >Kappa</th>\n",
       "      <th id=\"T_72809_level0_col6\" class=\"col_heading level0 col6\" >MCC</th>\n",
       "    </tr>\n",
       "    <tr>\n",
       "      <th class=\"index_name level0\" >Fold</th>\n",
       "      <th class=\"blank col0\" >&nbsp;</th>\n",
       "      <th class=\"blank col1\" >&nbsp;</th>\n",
       "      <th class=\"blank col2\" >&nbsp;</th>\n",
       "      <th class=\"blank col3\" >&nbsp;</th>\n",
       "      <th class=\"blank col4\" >&nbsp;</th>\n",
       "      <th class=\"blank col5\" >&nbsp;</th>\n",
       "      <th class=\"blank col6\" >&nbsp;</th>\n",
       "    </tr>\n",
       "  </thead>\n",
       "  <tbody>\n",
       "    <tr>\n",
       "      <th id=\"T_72809_level0_row0\" class=\"row_heading level0 row0\" >0</th>\n",
       "      <td id=\"T_72809_row0_col0\" class=\"data row0 col0\" >0.9772</td>\n",
       "      <td id=\"T_72809_row0_col1\" class=\"data row0 col1\" >0.9848</td>\n",
       "      <td id=\"T_72809_row0_col2\" class=\"data row0 col2\" >0.9746</td>\n",
       "      <td id=\"T_72809_row0_col3\" class=\"data row0 col3\" >0.9797</td>\n",
       "      <td id=\"T_72809_row0_col4\" class=\"data row0 col4\" >0.9771</td>\n",
       "      <td id=\"T_72809_row0_col5\" class=\"data row0 col5\" >0.9544</td>\n",
       "      <td id=\"T_72809_row0_col6\" class=\"data row0 col6\" >0.9544</td>\n",
       "    </tr>\n",
       "    <tr>\n",
       "      <th id=\"T_72809_level0_row1\" class=\"row_heading level0 row1\" >1</th>\n",
       "      <td id=\"T_72809_row1_col0\" class=\"data row1 col0\" >0.9776</td>\n",
       "      <td id=\"T_72809_row1_col1\" class=\"data row1 col1\" >0.9849</td>\n",
       "      <td id=\"T_72809_row1_col2\" class=\"data row1 col2\" >0.9754</td>\n",
       "      <td id=\"T_72809_row1_col3\" class=\"data row1 col3\" >0.9797</td>\n",
       "      <td id=\"T_72809_row1_col4\" class=\"data row1 col4\" >0.9775</td>\n",
       "      <td id=\"T_72809_row1_col5\" class=\"data row1 col5\" >0.9552</td>\n",
       "      <td id=\"T_72809_row1_col6\" class=\"data row1 col6\" >0.9552</td>\n",
       "    </tr>\n",
       "    <tr>\n",
       "      <th id=\"T_72809_level0_row2\" class=\"row_heading level0 row2\" >2</th>\n",
       "      <td id=\"T_72809_row2_col0\" class=\"data row2 col0\" >0.9773</td>\n",
       "      <td id=\"T_72809_row2_col1\" class=\"data row2 col1\" >0.9846</td>\n",
       "      <td id=\"T_72809_row2_col2\" class=\"data row2 col2\" >0.9748</td>\n",
       "      <td id=\"T_72809_row2_col3\" class=\"data row2 col3\" >0.9797</td>\n",
       "      <td id=\"T_72809_row2_col4\" class=\"data row2 col4\" >0.9773</td>\n",
       "      <td id=\"T_72809_row2_col5\" class=\"data row2 col5\" >0.9546</td>\n",
       "      <td id=\"T_72809_row2_col6\" class=\"data row2 col6\" >0.9546</td>\n",
       "    </tr>\n",
       "    <tr>\n",
       "      <th id=\"T_72809_level0_row3\" class=\"row_heading level0 row3\" >3</th>\n",
       "      <td id=\"T_72809_row3_col0\" class=\"data row3 col0\" >0.9780</td>\n",
       "      <td id=\"T_72809_row3_col1\" class=\"data row3 col1\" >0.9849</td>\n",
       "      <td id=\"T_72809_row3_col2\" class=\"data row3 col2\" >0.9759</td>\n",
       "      <td id=\"T_72809_row3_col3\" class=\"data row3 col3\" >0.9800</td>\n",
       "      <td id=\"T_72809_row3_col4\" class=\"data row3 col4\" >0.9779</td>\n",
       "      <td id=\"T_72809_row3_col5\" class=\"data row3 col5\" >0.9560</td>\n",
       "      <td id=\"T_72809_row3_col6\" class=\"data row3 col6\" >0.9560</td>\n",
       "    </tr>\n",
       "    <tr>\n",
       "      <th id=\"T_72809_level0_row4\" class=\"row_heading level0 row4\" >4</th>\n",
       "      <td id=\"T_72809_row4_col0\" class=\"data row4 col0\" >0.9771</td>\n",
       "      <td id=\"T_72809_row4_col1\" class=\"data row4 col1\" >0.9845</td>\n",
       "      <td id=\"T_72809_row4_col2\" class=\"data row4 col2\" >0.9742</td>\n",
       "      <td id=\"T_72809_row4_col3\" class=\"data row4 col3\" >0.9799</td>\n",
       "      <td id=\"T_72809_row4_col4\" class=\"data row4 col4\" >0.9771</td>\n",
       "      <td id=\"T_72809_row4_col5\" class=\"data row4 col5\" >0.9543</td>\n",
       "      <td id=\"T_72809_row4_col6\" class=\"data row4 col6\" >0.9543</td>\n",
       "    </tr>\n",
       "    <tr>\n",
       "      <th id=\"T_72809_level0_row5\" class=\"row_heading level0 row5\" >5</th>\n",
       "      <td id=\"T_72809_row5_col0\" class=\"data row5 col0\" >0.9776</td>\n",
       "      <td id=\"T_72809_row5_col1\" class=\"data row5 col1\" >0.9851</td>\n",
       "      <td id=\"T_72809_row5_col2\" class=\"data row5 col2\" >0.9756</td>\n",
       "      <td id=\"T_72809_row5_col3\" class=\"data row5 col3\" >0.9795</td>\n",
       "      <td id=\"T_72809_row5_col4\" class=\"data row5 col4\" >0.9775</td>\n",
       "      <td id=\"T_72809_row5_col5\" class=\"data row5 col5\" >0.9551</td>\n",
       "      <td id=\"T_72809_row5_col6\" class=\"data row5 col6\" >0.9551</td>\n",
       "    </tr>\n",
       "    <tr>\n",
       "      <th id=\"T_72809_level0_row6\" class=\"row_heading level0 row6\" >6</th>\n",
       "      <td id=\"T_72809_row6_col0\" class=\"data row6 col0\" >0.9781</td>\n",
       "      <td id=\"T_72809_row6_col1\" class=\"data row6 col1\" >0.9851</td>\n",
       "      <td id=\"T_72809_row6_col2\" class=\"data row6 col2\" >0.9759</td>\n",
       "      <td id=\"T_72809_row6_col3\" class=\"data row6 col3\" >0.9803</td>\n",
       "      <td id=\"T_72809_row6_col4\" class=\"data row6 col4\" >0.9781</td>\n",
       "      <td id=\"T_72809_row6_col5\" class=\"data row6 col5\" >0.9562</td>\n",
       "      <td id=\"T_72809_row6_col6\" class=\"data row6 col6\" >0.9562</td>\n",
       "    </tr>\n",
       "    <tr>\n",
       "      <th id=\"T_72809_level0_row7\" class=\"row_heading level0 row7\" >7</th>\n",
       "      <td id=\"T_72809_row7_col0\" class=\"data row7 col0\" >0.9775</td>\n",
       "      <td id=\"T_72809_row7_col1\" class=\"data row7 col1\" >0.9848</td>\n",
       "      <td id=\"T_72809_row7_col2\" class=\"data row7 col2\" >0.9748</td>\n",
       "      <td id=\"T_72809_row7_col3\" class=\"data row7 col3\" >0.9801</td>\n",
       "      <td id=\"T_72809_row7_col4\" class=\"data row7 col4\" >0.9775</td>\n",
       "      <td id=\"T_72809_row7_col5\" class=\"data row7 col5\" >0.9551</td>\n",
       "      <td id=\"T_72809_row7_col6\" class=\"data row7 col6\" >0.9551</td>\n",
       "    </tr>\n",
       "    <tr>\n",
       "      <th id=\"T_72809_level0_row8\" class=\"row_heading level0 row8\" >8</th>\n",
       "      <td id=\"T_72809_row8_col0\" class=\"data row8 col0\" >0.9779</td>\n",
       "      <td id=\"T_72809_row8_col1\" class=\"data row8 col1\" >0.9850</td>\n",
       "      <td id=\"T_72809_row8_col2\" class=\"data row8 col2\" >0.9750</td>\n",
       "      <td id=\"T_72809_row8_col3\" class=\"data row8 col3\" >0.9806</td>\n",
       "      <td id=\"T_72809_row8_col4\" class=\"data row8 col4\" >0.9778</td>\n",
       "      <td id=\"T_72809_row8_col5\" class=\"data row8 col5\" >0.9558</td>\n",
       "      <td id=\"T_72809_row8_col6\" class=\"data row8 col6\" >0.9558</td>\n",
       "    </tr>\n",
       "    <tr>\n",
       "      <th id=\"T_72809_level0_row9\" class=\"row_heading level0 row9\" >9</th>\n",
       "      <td id=\"T_72809_row9_col0\" class=\"data row9 col0\" >0.9773</td>\n",
       "      <td id=\"T_72809_row9_col1\" class=\"data row9 col1\" >0.9841</td>\n",
       "      <td id=\"T_72809_row9_col2\" class=\"data row9 col2\" >0.9748</td>\n",
       "      <td id=\"T_72809_row9_col3\" class=\"data row9 col3\" >0.9798</td>\n",
       "      <td id=\"T_72809_row9_col4\" class=\"data row9 col4\" >0.9773</td>\n",
       "      <td id=\"T_72809_row9_col5\" class=\"data row9 col5\" >0.9547</td>\n",
       "      <td id=\"T_72809_row9_col6\" class=\"data row9 col6\" >0.9547</td>\n",
       "    </tr>\n",
       "    <tr>\n",
       "      <th id=\"T_72809_level0_row10\" class=\"row_heading level0 row10\" >Mean</th>\n",
       "      <td id=\"T_72809_row10_col0\" class=\"data row10 col0\" >0.9776</td>\n",
       "      <td id=\"T_72809_row10_col1\" class=\"data row10 col1\" >0.9848</td>\n",
       "      <td id=\"T_72809_row10_col2\" class=\"data row10 col2\" >0.9751</td>\n",
       "      <td id=\"T_72809_row10_col3\" class=\"data row10 col3\" >0.9799</td>\n",
       "      <td id=\"T_72809_row10_col4\" class=\"data row10 col4\" >0.9775</td>\n",
       "      <td id=\"T_72809_row10_col5\" class=\"data row10 col5\" >0.9551</td>\n",
       "      <td id=\"T_72809_row10_col6\" class=\"data row10 col6\" >0.9551</td>\n",
       "    </tr>\n",
       "    <tr>\n",
       "      <th id=\"T_72809_level0_row11\" class=\"row_heading level0 row11\" >Std</th>\n",
       "      <td id=\"T_72809_row11_col0\" class=\"data row11 col0\" >0.0003</td>\n",
       "      <td id=\"T_72809_row11_col1\" class=\"data row11 col1\" >0.0003</td>\n",
       "      <td id=\"T_72809_row11_col2\" class=\"data row11 col2\" >0.0005</td>\n",
       "      <td id=\"T_72809_row11_col3\" class=\"data row11 col3\" >0.0003</td>\n",
       "      <td id=\"T_72809_row11_col4\" class=\"data row11 col4\" >0.0003</td>\n",
       "      <td id=\"T_72809_row11_col5\" class=\"data row11 col5\" >0.0006</td>\n",
       "      <td id=\"T_72809_row11_col6\" class=\"data row11 col6\" >0.0006</td>\n",
       "    </tr>\n",
       "  </tbody>\n",
       "</table>\n"
      ],
      "text/plain": [
       "<pandas.io.formats.style.Styler at 0x7fb32410bd00>"
      ]
     },
     "metadata": {},
     "output_type": "display_data"
    },
    {
     "data": {
      "text/html": [],
      "text/plain": [
       "<IPython.core.display.HTML object>"
      ]
     },
     "metadata": {},
     "output_type": "display_data"
    }
   ],
   "source": [
    "knn = create_model('knn')"
   ]
  },
  {
   "cell_type": "code",
   "execution_count": 6,
   "metadata": {},
   "outputs": [
    {
     "data": {
      "text/html": [],
      "text/plain": [
       "<IPython.core.display.HTML object>"
      ]
     },
     "metadata": {},
     "output_type": "display_data"
    },
    {
     "data": {
      "image/png": "[encoded data removed]",
      "text/plain": [
       "<Figure size 800x550 with 1 Axes>"
      ]
     },
     "metadata": {},
     "output_type": "display_data"
    }
   ],
   "source": [
    "plot_model(knn, plot = 'confusion_matrix')"
   ]
  },
  {
   "cell_type": "code",
   "execution_count": 7,
   "metadata": {},
   "outputs": [
    {
     "data": {
      "text/html": [],
      "text/plain": [
       "<IPython.core.display.HTML object>"
      ]
     },
     "metadata": {},
     "output_type": "display_data"
    },
    {
     "data": {
      "image/png": "[encoded data removed]",
      "text/plain": [
       "<Figure size 800x550 with 1 Axes>"
      ]
     },
     "metadata": {},
     "output_type": "display_data"
    }
   ],
   "source": [
    "plot_model(knn, plot = 'error')"
   ]
  },
  {
   "cell_type": "code",
   "execution_count": 8,
   "metadata": {},
   "outputs": [
    {
     "data": {
      "text/html": [],
      "text/plain": [
       "<IPython.core.display.HTML object>"
      ]
     },
     "metadata": {},
     "output_type": "display_data"
    },
    {
     "data": {
      "text/html": [
       "<div>\n",
       "<style scoped>\n",
       "    .dataframe tbody tr th:only-of-type {\n",
       "        vertical-align: middle;\n",
       "    }\n",
       "\n",
       "    .dataframe tbody tr th {\n",
       "        vertical-align: top;\n",
       "    }\n",
       "\n",
       "    .dataframe thead th {\n",
       "        text-align: right;\n",
       "    }\n",
       "</style>\n",
       "<table border=\"1\" class=\"dataframe\">\n",
       "  <thead>\n",
       "    <tr style=\"text-align: right;\">\n",
       "      <th></th>\n",
       "      <th>Parameters</th>\n",
       "    </tr>\n",
       "  </thead>\n",
       "  <tbody>\n",
       "    <tr>\n",
       "      <th>algorithm</th>\n",
       "      <td>auto</td>\n",
       "    </tr>\n",
       "    <tr>\n",
       "      <th>leaf_size</th>\n",
       "      <td>30</td>\n",
       "    </tr>\n",
       "    <tr>\n",
       "      <th>metric</th>\n",
       "      <td>minkowski</td>\n",
       "    </tr>\n",
       "    <tr>\n",
       "      <th>metric_params</th>\n",
       "      <td>None</td>\n",
       "    </tr>\n",
       "    <tr>\n",
       "      <th>n_jobs</th>\n",
       "      <td>-1</td>\n",
       "    </tr>\n",
       "    <tr>\n",
       "      <th>n_neighbors</th>\n",
       "      <td>5</td>\n",
       "    </tr>\n",
       "    <tr>\n",
       "      <th>p</th>\n",
       "      <td>2</td>\n",
       "    </tr>\n",
       "    <tr>\n",
       "      <th>weights</th>\n",
       "      <td>uniform</td>\n",
       "    </tr>\n",
       "  </tbody>\n",
       "</table>\n",
       "</div>"
      ],
      "text/plain": [
       "              Parameters\n",
       "algorithm           auto\n",
       "leaf_size             30\n",
       "metric         minkowski\n",
       "metric_params       None\n",
       "n_jobs                -1\n",
       "n_neighbors            5\n",
       "p                      2\n",
       "weights          uniform"
      ]
     },
     "metadata": {},
     "output_type": "display_data"
    }
   ],
   "source": [
    "plot_model(knn, plot = 'parameter')"
   ]
  },
  {
   "cell_type": "code",
   "execution_count": 9,
   "metadata": {},
   "outputs": [
    {
     "data": {
      "text/html": [
       "<style type=\"text/css\">\n",
       "</style>\n",
       "<table id=\"T_8d96f\">\n",
       "  <thead>\n",
       "    <tr>\n",
       "      <th class=\"blank level0\" >&nbsp;</th>\n",
       "      <th id=\"T_8d96f_level0_col0\" class=\"col_heading level0 col0\" >Model</th>\n",
       "      <th id=\"T_8d96f_level0_col1\" class=\"col_heading level0 col1\" >Accuracy</th>\n",
       "      <th id=\"T_8d96f_level0_col2\" class=\"col_heading level0 col2\" >AUC</th>\n",
       "      <th id=\"T_8d96f_level0_col3\" class=\"col_heading level0 col3\" >Recall</th>\n",
       "      <th id=\"T_8d96f_level0_col4\" class=\"col_heading level0 col4\" >Prec.</th>\n",
       "      <th id=\"T_8d96f_level0_col5\" class=\"col_heading level0 col5\" >F1</th>\n",
       "      <th id=\"T_8d96f_level0_col6\" class=\"col_heading level0 col6\" >Kappa</th>\n",
       "      <th id=\"T_8d96f_level0_col7\" class=\"col_heading level0 col7\" >MCC</th>\n",
       "    </tr>\n",
       "  </thead>\n",
       "  <tbody>\n",
       "    <tr>\n",
       "      <th id=\"T_8d96f_level0_row0\" class=\"row_heading level0 row0\" >0</th>\n",
       "      <td id=\"T_8d96f_row0_col0\" class=\"data row0 col0\" >K Neighbors Classifier</td>\n",
       "      <td id=\"T_8d96f_row0_col1\" class=\"data row0 col1\" >0.5021</td>\n",
       "      <td id=\"T_8d96f_row0_col2\" class=\"data row0 col2\" >0.5135</td>\n",
       "      <td id=\"T_8d96f_row0_col3\" class=\"data row0 col3\" >0.0527</td>\n",
       "      <td id=\"T_8d96f_row0_col4\" class=\"data row0 col4\" >0.5206</td>\n",
       "      <td id=\"T_8d96f_row0_col5\" class=\"data row0 col5\" >0.0958</td>\n",
       "      <td id=\"T_8d96f_row0_col6\" class=\"data row0 col6\" >0.0042</td>\n",
       "      <td id=\"T_8d96f_row0_col7\" class=\"data row0 col7\" >0.0095</td>\n",
       "    </tr>\n",
       "  </tbody>\n",
       "</table>\n"
      ],
      "text/plain": [
       "<pandas.io.formats.style.Styler at 0x7fb44068e7d0>"
      ]
     },
     "metadata": {},
     "output_type": "display_data"
    }
   ],
   "source": [
    "knn_val_pred = predict_model(knn, data=val)"
   ]
  },
  {
   "cell_type": "code",
   "execution_count": 10,
   "metadata": {},
   "outputs": [
    {
     "name": "stdout",
     "output_type": "stream",
     "text": [
      "Transformation Pipeline and Model Successfully Saved\n"
     ]
    },
    {
     "data": {
      "text/plain": [
       "(Pipeline(memory=FastMemory(location=/tmp/joblib),\n",
       "          steps=[('numerical_imputer',\n",
       "                  TransformerWrapper(exclude=None,\n",
       "                                     include=['http://semanticscience.org/resource/SIO_000281',\n",
       "                                              'http://semanticscience.org/resource/SIO_000628',\n",
       "                                              'http://semanticscience.org/resource/SIO_001279',\n",
       "                                              'http://www.semanticweb.org/needed-terms#001',\n",
       "                                              'http://www.semanticweb.org/needed-term...\n",
       "                                                               strategy='most_frequent',\n",
       "                                                               verbose='deprecated'))),\n",
       "                 ('clean_column_names',\n",
       "                  TransformerWrapper(exclude=None, include=None,\n",
       "                                     transformer=CleanColumnNames(match='[\\\\]\\\\[\\\\,\\\\{\\\\}\\\\\"\\\\:]+'))),\n",
       "                 ('trained_model',\n",
       "                  KNeighborsClassifier(algorithm='auto', leaf_size=30,\n",
       "                                       metric='minkowski', metric_params=None,\n",
       "                                       n_jobs=-1, n_neighbors=5, p=2,\n",
       "                                       weights='uniform'))],\n",
       "          verbose=False),\n",
       " 'knn.pkl.pkl')"
      ]
     },
     "execution_count": 10,
     "metadata": {},
     "output_type": "execute_result"
    }
   ],
   "source": [
    "save_model(knn, 'knn.pkl')"
   ]
  },
  {
   "cell_type": "markdown",
   "metadata": {},
   "source": [
    "# Naive Bayes"
   ]
  },
  {
   "cell_type": "code",
   "execution_count": 11,
   "metadata": {
    "tags": []
   },
   "outputs": [
    {
     "data": {
      "text/html": [],
      "text/plain": [
       "<IPython.core.display.HTML object>"
      ]
     },
     "metadata": {},
     "output_type": "display_data"
    },
    {
     "data": {
      "text/html": [
       "<style type=\"text/css\">\n",
       "#T_0620b_row10_col0, #T_0620b_row10_col1, #T_0620b_row10_col2, #T_0620b_row10_col3, #T_0620b_row10_col4, #T_0620b_row10_col5, #T_0620b_row10_col6 {\n",
       "  background: yellow;\n",
       "}\n",
       "</style>\n",
       "<table id=\"T_0620b\">\n",
       "  <thead>\n",
       "    <tr>\n",
       "      <th class=\"blank level0\" >&nbsp;</th>\n",
       "      <th id=\"T_0620b_level0_col0\" class=\"col_heading level0 col0\" >Accuracy</th>\n",
       "      <th id=\"T_0620b_level0_col1\" class=\"col_heading level0 col1\" >AUC</th>\n",
       "      <th id=\"T_0620b_level0_col2\" class=\"col_heading level0 col2\" >Recall</th>\n",
       "      <th id=\"T_0620b_level0_col3\" class=\"col_heading level0 col3\" >Prec.</th>\n",
       "      <th id=\"T_0620b_level0_col4\" class=\"col_heading level0 col4\" >F1</th>\n",
       "      <th id=\"T_0620b_level0_col5\" class=\"col_heading level0 col5\" >Kappa</th>\n",
       "      <th id=\"T_0620b_level0_col6\" class=\"col_heading level0 col6\" >MCC</th>\n",
       "    </tr>\n",
       "    <tr>\n",
       "      <th class=\"index_name level0\" >Fold</th>\n",
       "      <th class=\"blank col0\" >&nbsp;</th>\n",
       "      <th class=\"blank col1\" >&nbsp;</th>\n",
       "      <th class=\"blank col2\" >&nbsp;</th>\n",
       "      <th class=\"blank col3\" >&nbsp;</th>\n",
       "      <th class=\"blank col4\" >&nbsp;</th>\n",
       "      <th class=\"blank col5\" >&nbsp;</th>\n",
       "      <th class=\"blank col6\" >&nbsp;</th>\n",
       "    </tr>\n",
       "  </thead>\n",
       "  <tbody>\n",
       "    <tr>\n",
       "      <th id=\"T_0620b_level0_row0\" class=\"row_heading level0 row0\" >0</th>\n",
       "      <td id=\"T_0620b_row0_col0\" class=\"data row0 col0\" >0.9747</td>\n",
       "      <td id=\"T_0620b_row0_col1\" class=\"data row0 col1\" >0.9807</td>\n",
       "      <td id=\"T_0620b_row0_col2\" class=\"data row0 col2\" >0.9717</td>\n",
       "      <td id=\"T_0620b_row0_col3\" class=\"data row0 col3\" >0.9776</td>\n",
       "      <td id=\"T_0620b_row0_col4\" class=\"data row0 col4\" >0.9746</td>\n",
       "      <td id=\"T_0620b_row0_col5\" class=\"data row0 col5\" >0.9494</td>\n",
       "      <td id=\"T_0620b_row0_col6\" class=\"data row0 col6\" >0.9495</td>\n",
       "    </tr>\n",
       "    <tr>\n",
       "      <th id=\"T_0620b_level0_row1\" class=\"row_heading level0 row1\" >1</th>\n",
       "      <td id=\"T_0620b_row1_col0\" class=\"data row1 col0\" >0.9751</td>\n",
       "      <td id=\"T_0620b_row1_col1\" class=\"data row1 col1\" >0.9804</td>\n",
       "      <td id=\"T_0620b_row1_col2\" class=\"data row1 col2\" >0.9726</td>\n",
       "      <td id=\"T_0620b_row1_col3\" class=\"data row1 col3\" >0.9775</td>\n",
       "      <td id=\"T_0620b_row1_col4\" class=\"data row1 col4\" >0.9751</td>\n",
       "      <td id=\"T_0620b_row1_col5\" class=\"data row1 col5\" >0.9502</td>\n",
       "      <td id=\"T_0620b_row1_col6\" class=\"data row1 col6\" >0.9502</td>\n",
       "    </tr>\n",
       "    <tr>\n",
       "      <th id=\"T_0620b_level0_row2\" class=\"row_heading level0 row2\" >2</th>\n",
       "      <td id=\"T_0620b_row2_col0\" class=\"data row2 col0\" >0.9744</td>\n",
       "      <td id=\"T_0620b_row2_col1\" class=\"data row2 col1\" >0.9800</td>\n",
       "      <td id=\"T_0620b_row2_col2\" class=\"data row2 col2\" >0.9715</td>\n",
       "      <td id=\"T_0620b_row2_col3\" class=\"data row2 col3\" >0.9773</td>\n",
       "      <td id=\"T_0620b_row2_col4\" class=\"data row2 col4\" >0.9744</td>\n",
       "      <td id=\"T_0620b_row2_col5\" class=\"data row2 col5\" >0.9489</td>\n",
       "      <td id=\"T_0620b_row2_col6\" class=\"data row2 col6\" >0.9489</td>\n",
       "    </tr>\n",
       "    <tr>\n",
       "      <th id=\"T_0620b_level0_row3\" class=\"row_heading level0 row3\" >3</th>\n",
       "      <td id=\"T_0620b_row3_col0\" class=\"data row3 col0\" >0.9753</td>\n",
       "      <td id=\"T_0620b_row3_col1\" class=\"data row3 col1\" >0.9808</td>\n",
       "      <td id=\"T_0620b_row3_col2\" class=\"data row3 col2\" >0.9728</td>\n",
       "      <td id=\"T_0620b_row3_col3\" class=\"data row3 col3\" >0.9777</td>\n",
       "      <td id=\"T_0620b_row3_col4\" class=\"data row3 col4\" >0.9753</td>\n",
       "      <td id=\"T_0620b_row3_col5\" class=\"data row3 col5\" >0.9506</td>\n",
       "      <td id=\"T_0620b_row3_col6\" class=\"data row3 col6\" >0.9506</td>\n",
       "    </tr>\n",
       "    <tr>\n",
       "      <th id=\"T_0620b_level0_row4\" class=\"row_heading level0 row4\" >4</th>\n",
       "      <td id=\"T_0620b_row4_col0\" class=\"data row4 col0\" >0.9745</td>\n",
       "      <td id=\"T_0620b_row4_col1\" class=\"data row4 col1\" >0.9799</td>\n",
       "      <td id=\"T_0620b_row4_col2\" class=\"data row4 col2\" >0.9715</td>\n",
       "      <td id=\"T_0620b_row4_col3\" class=\"data row4 col3\" >0.9774</td>\n",
       "      <td id=\"T_0620b_row4_col4\" class=\"data row4 col4\" >0.9744</td>\n",
       "      <td id=\"T_0620b_row4_col5\" class=\"data row4 col5\" >0.9489</td>\n",
       "      <td id=\"T_0620b_row4_col6\" class=\"data row4 col6\" >0.9490</td>\n",
       "    </tr>\n",
       "    <tr>\n",
       "      <th id=\"T_0620b_level0_row5\" class=\"row_heading level0 row5\" >5</th>\n",
       "      <td id=\"T_0620b_row5_col0\" class=\"data row5 col0\" >0.9751</td>\n",
       "      <td id=\"T_0620b_row5_col1\" class=\"data row5 col1\" >0.9808</td>\n",
       "      <td id=\"T_0620b_row5_col2\" class=\"data row5 col2\" >0.9722</td>\n",
       "      <td id=\"T_0620b_row5_col3\" class=\"data row5 col3\" >0.9778</td>\n",
       "      <td id=\"T_0620b_row5_col4\" class=\"data row5 col4\" >0.9750</td>\n",
       "      <td id=\"T_0620b_row5_col5\" class=\"data row5 col5\" >0.9502</td>\n",
       "      <td id=\"T_0620b_row5_col6\" class=\"data row5 col6\" >0.9502</td>\n",
       "    </tr>\n",
       "    <tr>\n",
       "      <th id=\"T_0620b_level0_row6\" class=\"row_heading level0 row6\" >6</th>\n",
       "      <td id=\"T_0620b_row6_col0\" class=\"data row6 col0\" >0.9756</td>\n",
       "      <td id=\"T_0620b_row6_col1\" class=\"data row6 col1\" >0.9810</td>\n",
       "      <td id=\"T_0620b_row6_col2\" class=\"data row6 col2\" >0.9731</td>\n",
       "      <td id=\"T_0620b_row6_col3\" class=\"data row6 col3\" >0.9780</td>\n",
       "      <td id=\"T_0620b_row6_col4\" class=\"data row6 col4\" >0.9756</td>\n",
       "      <td id=\"T_0620b_row6_col5\" class=\"data row6 col5\" >0.9512</td>\n",
       "      <td id=\"T_0620b_row6_col6\" class=\"data row6 col6\" >0.9513</td>\n",
       "    </tr>\n",
       "    <tr>\n",
       "      <th id=\"T_0620b_level0_row7\" class=\"row_heading level0 row7\" >7</th>\n",
       "      <td id=\"T_0620b_row7_col0\" class=\"data row7 col0\" >0.9751</td>\n",
       "      <td id=\"T_0620b_row7_col1\" class=\"data row7 col1\" >0.9809</td>\n",
       "      <td id=\"T_0620b_row7_col2\" class=\"data row7 col2\" >0.9721</td>\n",
       "      <td id=\"T_0620b_row7_col3\" class=\"data row7 col3\" >0.9780</td>\n",
       "      <td id=\"T_0620b_row7_col4\" class=\"data row7 col4\" >0.9751</td>\n",
       "      <td id=\"T_0620b_row7_col5\" class=\"data row7 col5\" >0.9503</td>\n",
       "      <td id=\"T_0620b_row7_col6\" class=\"data row7 col6\" >0.9503</td>\n",
       "    </tr>\n",
       "    <tr>\n",
       "      <th id=\"T_0620b_level0_row8\" class=\"row_heading level0 row8\" >8</th>\n",
       "      <td id=\"T_0620b_row8_col0\" class=\"data row8 col0\" >0.9756</td>\n",
       "      <td id=\"T_0620b_row8_col1\" class=\"data row8 col1\" >0.9811</td>\n",
       "      <td id=\"T_0620b_row8_col2\" class=\"data row8 col2\" >0.9721</td>\n",
       "      <td id=\"T_0620b_row8_col3\" class=\"data row8 col3\" >0.9789</td>\n",
       "      <td id=\"T_0620b_row8_col4\" class=\"data row8 col4\" >0.9755</td>\n",
       "      <td id=\"T_0620b_row8_col5\" class=\"data row8 col5\" >0.9511</td>\n",
       "      <td id=\"T_0620b_row8_col6\" class=\"data row8 col6\" >0.9511</td>\n",
       "    </tr>\n",
       "    <tr>\n",
       "      <th id=\"T_0620b_level0_row9\" class=\"row_heading level0 row9\" >9</th>\n",
       "      <td id=\"T_0620b_row9_col0\" class=\"data row9 col0\" >0.9746</td>\n",
       "      <td id=\"T_0620b_row9_col1\" class=\"data row9 col1\" >0.9798</td>\n",
       "      <td id=\"T_0620b_row9_col2\" class=\"data row9 col2\" >0.9721</td>\n",
       "      <td id=\"T_0620b_row9_col3\" class=\"data row9 col3\" >0.9770</td>\n",
       "      <td id=\"T_0620b_row9_col4\" class=\"data row9 col4\" >0.9746</td>\n",
       "      <td id=\"T_0620b_row9_col5\" class=\"data row9 col5\" >0.9492</td>\n",
       "      <td id=\"T_0620b_row9_col6\" class=\"data row9 col6\" >0.9493</td>\n",
       "    </tr>\n",
       "    <tr>\n",
       "      <th id=\"T_0620b_level0_row10\" class=\"row_heading level0 row10\" >Mean</th>\n",
       "      <td id=\"T_0620b_row10_col0\" class=\"data row10 col0\" >0.9750</td>\n",
       "      <td id=\"T_0620b_row10_col1\" class=\"data row10 col1\" >0.9805</td>\n",
       "      <td id=\"T_0620b_row10_col2\" class=\"data row10 col2\" >0.9722</td>\n",
       "      <td id=\"T_0620b_row10_col3\" class=\"data row10 col3\" >0.9777</td>\n",
       "      <td id=\"T_0620b_row10_col4\" class=\"data row10 col4\" >0.9749</td>\n",
       "      <td id=\"T_0620b_row10_col5\" class=\"data row10 col5\" >0.9500</td>\n",
       "      <td id=\"T_0620b_row10_col6\" class=\"data row10 col6\" >0.9500</td>\n",
       "    </tr>\n",
       "    <tr>\n",
       "      <th id=\"T_0620b_level0_row11\" class=\"row_heading level0 row11\" >Std</th>\n",
       "      <td id=\"T_0620b_row11_col0\" class=\"data row11 col0\" >0.0004</td>\n",
       "      <td id=\"T_0620b_row11_col1\" class=\"data row11 col1\" >0.0005</td>\n",
       "      <td id=\"T_0620b_row11_col2\" class=\"data row11 col2\" >0.0005</td>\n",
       "      <td id=\"T_0620b_row11_col3\" class=\"data row11 col3\" >0.0005</td>\n",
       "      <td id=\"T_0620b_row11_col4\" class=\"data row11 col4\" >0.0004</td>\n",
       "      <td id=\"T_0620b_row11_col5\" class=\"data row11 col5\" >0.0008</td>\n",
       "      <td id=\"T_0620b_row11_col6\" class=\"data row11 col6\" >0.0008</td>\n",
       "    </tr>\n",
       "  </tbody>\n",
       "</table>\n"
      ],
      "text/plain": [
       "<pandas.io.formats.style.Styler at 0x7fb44068edd0>"
      ]
     },
     "metadata": {},
     "output_type": "display_data"
    },
    {
     "data": {
      "text/html": [],
      "text/plain": [
       "<IPython.core.display.HTML object>"
      ]
     },
     "metadata": {},
     "output_type": "display_data"
    }
   ],
   "source": [
    "nb = create_model('nb')"
   ]
  },
  {
   "cell_type": "code",
   "execution_count": 12,
   "metadata": {},
   "outputs": [
    {
     "data": {
      "text/html": [],
      "text/plain": [
       "<IPython.core.display.HTML object>"
      ]
     },
     "metadata": {},
     "output_type": "display_data"
    },
    {
     "data": {
      "image/png": "[encoded data removed]",
      "text/plain": [
       "<Figure size 800x550 with 1 Axes>"
      ]
     },
     "metadata": {},
     "output_type": "display_data"
    }
   ],
   "source": [
    "plot_model(nb, plot = 'confusion_matrix')"
   ]
  },
  {
   "cell_type": "code",
   "execution_count": 13,
   "metadata": {},
   "outputs": [
    {
     "data": {
      "text/html": [],
      "text/plain": [
       "<IPython.core.display.HTML object>"
      ]
     },
     "metadata": {},
     "output_type": "display_data"
    },
    {
     "data": {
      "image/png": "[encoded data removed]",
      "text/plain": [
       "<Figure size 800x550 with 1 Axes>"
      ]
     },
     "metadata": {},
     "output_type": "display_data"
    }
   ],
   "source": [
    "plot_model(nb, plot = 'error')"
   ]
  },
  {
   "cell_type": "code",
   "execution_count": 14,
   "metadata": {},
   "outputs": [
    {
     "data": {
      "text/html": [],
      "text/plain": [
       "<IPython.core.display.HTML object>"
      ]
     },
     "metadata": {},
     "output_type": "display_data"
    },
    {
     "data": {
      "text/html": [
       "<div>\n",
       "<style scoped>\n",
       "    .dataframe tbody tr th:only-of-type {\n",
       "        vertical-align: middle;\n",
       "    }\n",
       "\n",
       "    .dataframe tbody tr th {\n",
       "        vertical-align: top;\n",
       "    }\n",
       "\n",
       "    .dataframe thead th {\n",
       "        text-align: right;\n",
       "    }\n",
       "</style>\n",
       "<table border=\"1\" class=\"dataframe\">\n",
       "  <thead>\n",
       "    <tr style=\"text-align: right;\">\n",
       "      <th></th>\n",
       "      <th>Parameters</th>\n",
       "    </tr>\n",
       "  </thead>\n",
       "  <tbody>\n",
       "    <tr>\n",
       "      <th>priors</th>\n",
       "      <td>None</td>\n",
       "    </tr>\n",
       "    <tr>\n",
       "      <th>var_smoothing</th>\n",
       "      <td>1e-09</td>\n",
       "    </tr>\n",
       "  </tbody>\n",
       "</table>\n",
       "</div>"
      ],
      "text/plain": [
       "              Parameters\n",
       "priors              None\n",
       "var_smoothing      1e-09"
      ]
     },
     "metadata": {},
     "output_type": "display_data"
    }
   ],
   "source": [
    "plot_model(nb, plot = 'parameter')"
   ]
  },
  {
   "cell_type": "code",
   "execution_count": 15,
   "metadata": {},
   "outputs": [
    {
     "data": {
      "text/html": [
       "<style type=\"text/css\">\n",
       "</style>\n",
       "<table id=\"T_ebe13\">\n",
       "  <thead>\n",
       "    <tr>\n",
       "      <th class=\"blank level0\" >&nbsp;</th>\n",
       "      <th id=\"T_ebe13_level0_col0\" class=\"col_heading level0 col0\" >Model</th>\n",
       "      <th id=\"T_ebe13_level0_col1\" class=\"col_heading level0 col1\" >Accuracy</th>\n",
       "      <th id=\"T_ebe13_level0_col2\" class=\"col_heading level0 col2\" >AUC</th>\n",
       "      <th id=\"T_ebe13_level0_col3\" class=\"col_heading level0 col3\" >Recall</th>\n",
       "      <th id=\"T_ebe13_level0_col4\" class=\"col_heading level0 col4\" >Prec.</th>\n",
       "      <th id=\"T_ebe13_level0_col5\" class=\"col_heading level0 col5\" >F1</th>\n",
       "      <th id=\"T_ebe13_level0_col6\" class=\"col_heading level0 col6\" >Kappa</th>\n",
       "      <th id=\"T_ebe13_level0_col7\" class=\"col_heading level0 col7\" >MCC</th>\n",
       "    </tr>\n",
       "  </thead>\n",
       "  <tbody>\n",
       "    <tr>\n",
       "      <th id=\"T_ebe13_level0_row0\" class=\"row_heading level0 row0\" >0</th>\n",
       "      <td id=\"T_ebe13_row0_col0\" class=\"data row0 col0\" >Naive Bayes</td>\n",
       "      <td id=\"T_ebe13_row0_col1\" class=\"data row0 col1\" >0.4867</td>\n",
       "      <td id=\"T_ebe13_row0_col2\" class=\"data row0 col2\" >0.4451</td>\n",
       "      <td id=\"T_ebe13_row0_col3\" class=\"data row0 col3\" >0.0085</td>\n",
       "      <td id=\"T_ebe13_row0_col4\" class=\"data row0 col4\" >0.1942</td>\n",
       "      <td id=\"T_ebe13_row0_col5\" class=\"data row0 col5\" >0.0162</td>\n",
       "      <td id=\"T_ebe13_row0_col6\" class=\"data row0 col6\" >-0.0267</td>\n",
       "      <td id=\"T_ebe13_row0_col7\" class=\"data row0 col7\" >-0.0914</td>\n",
       "    </tr>\n",
       "  </tbody>\n",
       "</table>\n"
      ],
      "text/plain": [
       "<pandas.io.formats.style.Styler at 0x7fb44068ca30>"
      ]
     },
     "metadata": {},
     "output_type": "display_data"
    }
   ],
   "source": [
    "nb_val_pred = predict_model(nb, data=val)"
   ]
  },
  {
   "cell_type": "code",
   "execution_count": 16,
   "metadata": {},
   "outputs": [
    {
     "name": "stdout",
     "output_type": "stream",
     "text": [
      "Transformation Pipeline and Model Successfully Saved\n"
     ]
    },
    {
     "data": {
      "text/plain": [
       "(Pipeline(memory=FastMemory(location=/tmp/joblib),\n",
       "          steps=[('numerical_imputer',\n",
       "                  TransformerWrapper(exclude=None,\n",
       "                                     include=['http://semanticscience.org/resource/SIO_000281',\n",
       "                                              'http://semanticscience.org/resource/SIO_000628',\n",
       "                                              'http://semanticscience.org/resource/SIO_001279',\n",
       "                                              'http://www.semanticweb.org/needed-terms#001',\n",
       "                                              'http://www.semanticweb.org/needed-term...\n",
       "                                     transformer=SimpleImputer(add_indicator=False,\n",
       "                                                               copy=True,\n",
       "                                                               fill_value=None,\n",
       "                                                               keep_empty_features=False,\n",
       "                                                               missing_values=nan,\n",
       "                                                               strategy='most_frequent',\n",
       "                                                               verbose='deprecated'))),\n",
       "                 ('clean_column_names',\n",
       "                  TransformerWrapper(exclude=None, include=None,\n",
       "                                     transformer=CleanColumnNames(match='[\\\\]\\\\[\\\\,\\\\{\\\\}\\\\\"\\\\:]+'))),\n",
       "                 ('trained_model',\n",
       "                  GaussianNB(priors=None, var_smoothing=1e-09))],\n",
       "          verbose=False),\n",
       " 'nb.pkl.pkl')"
      ]
     },
     "execution_count": 16,
     "metadata": {},
     "output_type": "execute_result"
    }
   ],
   "source": [
    "save_model(nb, 'nb.pkl')"
   ]
  },
  {
   "cell_type": "markdown",
   "metadata": {},
   "source": [
    "# Decision Tree Classifier"
   ]
  },
  {
   "cell_type": "code",
   "execution_count": 17,
   "metadata": {},
   "outputs": [
    {
     "data": {
      "text/html": [],
      "text/plain": [
       "<IPython.core.display.HTML object>"
      ]
     },
     "metadata": {},
     "output_type": "display_data"
    },
    {
     "data": {
      "text/html": [
       "<style type=\"text/css\">\n",
       "#T_65340_row10_col0, #T_65340_row10_col1, #T_65340_row10_col2, #T_65340_row10_col3, #T_65340_row10_col4, #T_65340_row10_col5, #T_65340_row10_col6 {\n",
       "  background: yellow;\n",
       "}\n",
       "</style>\n",
       "<table id=\"T_65340\">\n",
       "  <thead>\n",
       "    <tr>\n",
       "      <th class=\"blank level0\" >&nbsp;</th>\n",
       "      <th id=\"T_65340_level0_col0\" class=\"col_heading level0 col0\" >Accuracy</th>\n",
       "      <th id=\"T_65340_level0_col1\" class=\"col_heading level0 col1\" >AUC</th>\n",
       "      <th id=\"T_65340_level0_col2\" class=\"col_heading level0 col2\" >Recall</th>\n",
       "      <th id=\"T_65340_level0_col3\" class=\"col_heading level0 col3\" >Prec.</th>\n",
       "      <th id=\"T_65340_level0_col4\" class=\"col_heading level0 col4\" >F1</th>\n",
       "      <th id=\"T_65340_level0_col5\" class=\"col_heading level0 col5\" >Kappa</th>\n",
       "      <th id=\"T_65340_level0_col6\" class=\"col_heading level0 col6\" >MCC</th>\n",
       "    </tr>\n",
       "    <tr>\n",
       "      <th class=\"index_name level0\" >Fold</th>\n",
       "      <th class=\"blank col0\" >&nbsp;</th>\n",
       "      <th class=\"blank col1\" >&nbsp;</th>\n",
       "      <th class=\"blank col2\" >&nbsp;</th>\n",
       "      <th class=\"blank col3\" >&nbsp;</th>\n",
       "      <th class=\"blank col4\" >&nbsp;</th>\n",
       "      <th class=\"blank col5\" >&nbsp;</th>\n",
       "      <th class=\"blank col6\" >&nbsp;</th>\n",
       "    </tr>\n",
       "  </thead>\n",
       "  <tbody>\n",
       "    <tr>\n",
       "      <th id=\"T_65340_level0_row0\" class=\"row_heading level0 row0\" >0</th>\n",
       "      <td id=\"T_65340_row0_col0\" class=\"data row0 col0\" >0.9701</td>\n",
       "      <td id=\"T_65340_row0_col1\" class=\"data row0 col1\" >0.9631</td>\n",
       "      <td id=\"T_65340_row0_col2\" class=\"data row0 col2\" >0.9586</td>\n",
       "      <td id=\"T_65340_row0_col3\" class=\"data row0 col3\" >0.9811</td>\n",
       "      <td id=\"T_65340_row0_col4\" class=\"data row0 col4\" >0.9697</td>\n",
       "      <td id=\"T_65340_row0_col5\" class=\"data row0 col5\" >0.9401</td>\n",
       "      <td id=\"T_65340_row0_col6\" class=\"data row0 col6\" >0.9404</td>\n",
       "    </tr>\n",
       "    <tr>\n",
       "      <th id=\"T_65340_level0_row1\" class=\"row_heading level0 row1\" >1</th>\n",
       "      <td id=\"T_65340_row1_col0\" class=\"data row1 col0\" >0.9698</td>\n",
       "      <td id=\"T_65340_row1_col1\" class=\"data row1 col1\" >0.9623</td>\n",
       "      <td id=\"T_65340_row1_col2\" class=\"data row1 col2\" >0.9580</td>\n",
       "      <td id=\"T_65340_row1_col3\" class=\"data row1 col3\" >0.9812</td>\n",
       "      <td id=\"T_65340_row1_col4\" class=\"data row1 col4\" >0.9695</td>\n",
       "      <td id=\"T_65340_row1_col5\" class=\"data row1 col5\" >0.9396</td>\n",
       "      <td id=\"T_65340_row1_col6\" class=\"data row1 col6\" >0.9399</td>\n",
       "    </tr>\n",
       "    <tr>\n",
       "      <th id=\"T_65340_level0_row2\" class=\"row_heading level0 row2\" >2</th>\n",
       "      <td id=\"T_65340_row2_col0\" class=\"data row2 col0\" >0.9693</td>\n",
       "      <td id=\"T_65340_row2_col1\" class=\"data row2 col1\" >0.9618</td>\n",
       "      <td id=\"T_65340_row2_col2\" class=\"data row2 col2\" >0.9576</td>\n",
       "      <td id=\"T_65340_row2_col3\" class=\"data row2 col3\" >0.9806</td>\n",
       "      <td id=\"T_65340_row2_col4\" class=\"data row2 col4\" >0.9689</td>\n",
       "      <td id=\"T_65340_row2_col5\" class=\"data row2 col5\" >0.9386</td>\n",
       "      <td id=\"T_65340_row2_col6\" class=\"data row2 col6\" >0.9389</td>\n",
       "    </tr>\n",
       "    <tr>\n",
       "      <th id=\"T_65340_level0_row3\" class=\"row_heading level0 row3\" >3</th>\n",
       "      <td id=\"T_65340_row3_col0\" class=\"data row3 col0\" >0.9705</td>\n",
       "      <td id=\"T_65340_row3_col1\" class=\"data row3 col1\" >0.9633</td>\n",
       "      <td id=\"T_65340_row3_col2\" class=\"data row3 col2\" >0.9594</td>\n",
       "      <td id=\"T_65340_row3_col3\" class=\"data row3 col3\" >0.9811</td>\n",
       "      <td id=\"T_65340_row3_col4\" class=\"data row3 col4\" >0.9701</td>\n",
       "      <td id=\"T_65340_row3_col5\" class=\"data row3 col5\" >0.9409</td>\n",
       "      <td id=\"T_65340_row3_col6\" class=\"data row3 col6\" >0.9412</td>\n",
       "    </tr>\n",
       "    <tr>\n",
       "      <th id=\"T_65340_level0_row4\" class=\"row_heading level0 row4\" >4</th>\n",
       "      <td id=\"T_65340_row4_col0\" class=\"data row4 col0\" >0.9694</td>\n",
       "      <td id=\"T_65340_row4_col1\" class=\"data row4 col1\" >0.9623</td>\n",
       "      <td id=\"T_65340_row4_col2\" class=\"data row4 col2\" >0.9572</td>\n",
       "      <td id=\"T_65340_row4_col3\" class=\"data row4 col3\" >0.9812</td>\n",
       "      <td id=\"T_65340_row4_col4\" class=\"data row4 col4\" >0.9690</td>\n",
       "      <td id=\"T_65340_row4_col5\" class=\"data row4 col5\" >0.9388</td>\n",
       "      <td id=\"T_65340_row4_col6\" class=\"data row4 col6\" >0.9391</td>\n",
       "    </tr>\n",
       "    <tr>\n",
       "      <th id=\"T_65340_level0_row5\" class=\"row_heading level0 row5\" >5</th>\n",
       "      <td id=\"T_65340_row5_col0\" class=\"data row5 col0\" >0.9698</td>\n",
       "      <td id=\"T_65340_row5_col1\" class=\"data row5 col1\" >0.9623</td>\n",
       "      <td id=\"T_65340_row5_col2\" class=\"data row5 col2\" >0.9582</td>\n",
       "      <td id=\"T_65340_row5_col3\" class=\"data row5 col3\" >0.9810</td>\n",
       "      <td id=\"T_65340_row5_col4\" class=\"data row5 col4\" >0.9695</td>\n",
       "      <td id=\"T_65340_row5_col5\" class=\"data row5 col5\" >0.9397</td>\n",
       "      <td id=\"T_65340_row5_col6\" class=\"data row5 col6\" >0.9399</td>\n",
       "    </tr>\n",
       "    <tr>\n",
       "      <th id=\"T_65340_level0_row6\" class=\"row_heading level0 row6\" >6</th>\n",
       "      <td id=\"T_65340_row6_col0\" class=\"data row6 col0\" >0.9702</td>\n",
       "      <td id=\"T_65340_row6_col1\" class=\"data row6 col1\" >0.9630</td>\n",
       "      <td id=\"T_65340_row6_col2\" class=\"data row6 col2\" >0.9590</td>\n",
       "      <td id=\"T_65340_row6_col3\" class=\"data row6 col3\" >0.9810</td>\n",
       "      <td id=\"T_65340_row6_col4\" class=\"data row6 col4\" >0.9699</td>\n",
       "      <td id=\"T_65340_row6_col5\" class=\"data row6 col5\" >0.9404</td>\n",
       "      <td id=\"T_65340_row6_col6\" class=\"data row6 col6\" >0.9407</td>\n",
       "    </tr>\n",
       "    <tr>\n",
       "      <th id=\"T_65340_level0_row7\" class=\"row_heading level0 row7\" >7</th>\n",
       "      <td id=\"T_65340_row7_col0\" class=\"data row7 col0\" >0.9700</td>\n",
       "      <td id=\"T_65340_row7_col1\" class=\"data row7 col1\" >0.9624</td>\n",
       "      <td id=\"T_65340_row7_col2\" class=\"data row7 col2\" >0.9583</td>\n",
       "      <td id=\"T_65340_row7_col3\" class=\"data row7 col3\" >0.9813</td>\n",
       "      <td id=\"T_65340_row7_col4\" class=\"data row7 col4\" >0.9697</td>\n",
       "      <td id=\"T_65340_row7_col5\" class=\"data row7 col5\" >0.9400</td>\n",
       "      <td id=\"T_65340_row7_col6\" class=\"data row7 col6\" >0.9403</td>\n",
       "    </tr>\n",
       "    <tr>\n",
       "      <th id=\"T_65340_level0_row8\" class=\"row_heading level0 row8\" >8</th>\n",
       "      <td id=\"T_65340_row8_col0\" class=\"data row8 col0\" >0.9703</td>\n",
       "      <td id=\"T_65340_row8_col1\" class=\"data row8 col1\" >0.9630</td>\n",
       "      <td id=\"T_65340_row8_col2\" class=\"data row8 col2\" >0.9583</td>\n",
       "      <td id=\"T_65340_row8_col3\" class=\"data row8 col3\" >0.9818</td>\n",
       "      <td id=\"T_65340_row8_col4\" class=\"data row8 col4\" >0.9699</td>\n",
       "      <td id=\"T_65340_row8_col5\" class=\"data row8 col5\" >0.9405</td>\n",
       "      <td id=\"T_65340_row8_col6\" class=\"data row8 col6\" >0.9408</td>\n",
       "    </tr>\n",
       "    <tr>\n",
       "      <th id=\"T_65340_level0_row9\" class=\"row_heading level0 row9\" >9</th>\n",
       "      <td id=\"T_65340_row9_col0\" class=\"data row9 col0\" >0.9694</td>\n",
       "      <td id=\"T_65340_row9_col1\" class=\"data row9 col1\" >0.9620</td>\n",
       "      <td id=\"T_65340_row9_col2\" class=\"data row9 col2\" >0.9581</td>\n",
       "      <td id=\"T_65340_row9_col3\" class=\"data row9 col3\" >0.9801</td>\n",
       "      <td id=\"T_65340_row9_col4\" class=\"data row9 col4\" >0.9690</td>\n",
       "      <td id=\"T_65340_row9_col5\" class=\"data row9 col5\" >0.9387</td>\n",
       "      <td id=\"T_65340_row9_col6\" class=\"data row9 col6\" >0.9389</td>\n",
       "    </tr>\n",
       "    <tr>\n",
       "      <th id=\"T_65340_level0_row10\" class=\"row_heading level0 row10\" >Mean</th>\n",
       "      <td id=\"T_65340_row10_col0\" class=\"data row10 col0\" >0.9699</td>\n",
       "      <td id=\"T_65340_row10_col1\" class=\"data row10 col1\" >0.9625</td>\n",
       "      <td id=\"T_65340_row10_col2\" class=\"data row10 col2\" >0.9583</td>\n",
       "      <td id=\"T_65340_row10_col3\" class=\"data row10 col3\" >0.9810</td>\n",
       "      <td id=\"T_65340_row10_col4\" class=\"data row10 col4\" >0.9695</td>\n",
       "      <td id=\"T_65340_row10_col5\" class=\"data row10 col5\" >0.9397</td>\n",
       "      <td id=\"T_65340_row10_col6\" class=\"data row10 col6\" >0.9400</td>\n",
       "    </tr>\n",
       "    <tr>\n",
       "      <th id=\"T_65340_level0_row11\" class=\"row_heading level0 row11\" >Std</th>\n",
       "      <td id=\"T_65340_row11_col0\" class=\"data row11 col0\" >0.0004</td>\n",
       "      <td id=\"T_65340_row11_col1\" class=\"data row11 col1\" >0.0005</td>\n",
       "      <td id=\"T_65340_row11_col2\" class=\"data row11 col2\" >0.0006</td>\n",
       "      <td id=\"T_65340_row11_col3\" class=\"data row11 col3\" >0.0004</td>\n",
       "      <td id=\"T_65340_row11_col4\" class=\"data row11 col4\" >0.0004</td>\n",
       "      <td id=\"T_65340_row11_col5\" class=\"data row11 col5\" >0.0008</td>\n",
       "      <td id=\"T_65340_row11_col6\" class=\"data row11 col6\" >0.0008</td>\n",
       "    </tr>\n",
       "  </tbody>\n",
       "</table>\n"
      ],
      "text/plain": [
       "<pandas.io.formats.style.Styler at 0x7fb3240b41f0>"
      ]
     },
     "metadata": {},
     "output_type": "display_data"
    },
    {
     "data": {
      "text/html": [],
      "text/plain": [
       "<IPython.core.display.HTML object>"
      ]
     },
     "metadata": {},
     "output_type": "display_data"
    }
   ],
   "source": [
    "dt = create_model('dt')"
   ]
  },
  {
   "cell_type": "code",
   "execution_count": 18,
   "metadata": {},
   "outputs": [
    {
     "data": {
      "text/html": [],
      "text/plain": [
       "<IPython.core.display.HTML object>"
      ]
     },
     "metadata": {},
     "output_type": "display_data"
    },
    {
     "data": {
      "image/png": "[encoded data removed]",
      "text/plain": [
       "<Figure size 800x550 with 1 Axes>"
      ]
     },
     "metadata": {},
     "output_type": "display_data"
    }
   ],
   "source": [
    "plot_model(dt, plot = 'confusion_matrix')"
   ]
  },
  {
   "cell_type": "code",
   "execution_count": 19,
   "metadata": {},
   "outputs": [
    {
     "data": {
      "text/html": [],
      "text/plain": [
       "<IPython.core.display.HTML object>"
      ]
     },
     "metadata": {},
     "output_type": "display_data"
    },
    {
     "data": {
      "image/png": "[encoded data removed]",
      "text/plain": [
       "<Figure size 800x550 with 1 Axes>"
      ]
     },
     "metadata": {},
     "output_type": "display_data"
    }
   ],
   "source": [
    "plot_model(dt, plot = 'error')"
   ]
  },
  {
   "cell_type": "code",
   "execution_count": 20,
   "metadata": {},
   "outputs": [
    {
     "data": {
      "text/html": [],
      "text/plain": [
       "<IPython.core.display.HTML object>"
      ]
     },
     "metadata": {},
     "output_type": "display_data"
    },
    {
     "data": {
      "text/html": [
       "<div>\n",
       "<style scoped>\n",
       "    .dataframe tbody tr th:only-of-type {\n",
       "        vertical-align: middle;\n",
       "    }\n",
       "\n",
       "    .dataframe tbody tr th {\n",
       "        vertical-align: top;\n",
       "    }\n",
       "\n",
       "    .dataframe thead th {\n",
       "        text-align: right;\n",
       "    }\n",
       "</style>\n",
       "<table border=\"1\" class=\"dataframe\">\n",
       "  <thead>\n",
       "    <tr style=\"text-align: right;\">\n",
       "      <th></th>\n",
       "      <th>Parameters</th>\n",
       "    </tr>\n",
       "  </thead>\n",
       "  <tbody>\n",
       "    <tr>\n",
       "      <th>ccp_alpha</th>\n",
       "      <td>0.0</td>\n",
       "    </tr>\n",
       "    <tr>\n",
       "      <th>class_weight</th>\n",
       "      <td>None</td>\n",
       "    </tr>\n",
       "    <tr>\n",
       "      <th>criterion</th>\n",
       "      <td>gini</td>\n",
       "    </tr>\n",
       "    <tr>\n",
       "      <th>max_depth</th>\n",
       "      <td>None</td>\n",
       "    </tr>\n",
       "    <tr>\n",
       "      <th>max_features</th>\n",
       "      <td>None</td>\n",
       "    </tr>\n",
       "    <tr>\n",
       "      <th>max_leaf_nodes</th>\n",
       "      <td>None</td>\n",
       "    </tr>\n",
       "    <tr>\n",
       "      <th>min_impurity_decrease</th>\n",
       "      <td>0.0</td>\n",
       "    </tr>\n",
       "    <tr>\n",
       "      <th>min_samples_leaf</th>\n",
       "      <td>1</td>\n",
       "    </tr>\n",
       "    <tr>\n",
       "      <th>min_samples_split</th>\n",
       "      <td>2</td>\n",
       "    </tr>\n",
       "    <tr>\n",
       "      <th>min_weight_fraction_leaf</th>\n",
       "      <td>0.0</td>\n",
       "    </tr>\n",
       "    <tr>\n",
       "      <th>random_state</th>\n",
       "      <td>8050</td>\n",
       "    </tr>\n",
       "    <tr>\n",
       "      <th>splitter</th>\n",
       "      <td>best</td>\n",
       "    </tr>\n",
       "  </tbody>\n",
       "</table>\n",
       "</div>"
      ],
      "text/plain": [
       "                         Parameters\n",
       "ccp_alpha                       0.0\n",
       "class_weight                   None\n",
       "criterion                      gini\n",
       "max_depth                      None\n",
       "max_features                   None\n",
       "max_leaf_nodes                 None\n",
       "min_impurity_decrease           0.0\n",
       "min_samples_leaf                  1\n",
       "min_samples_split                 2\n",
       "min_weight_fraction_leaf        0.0\n",
       "random_state                   8050\n",
       "splitter                       best"
      ]
     },
     "metadata": {},
     "output_type": "display_data"
    }
   ],
   "source": [
    "plot_model(dt, plot = 'parameter')"
   ]
  },
  {
   "cell_type": "code",
   "execution_count": 21,
   "metadata": {},
   "outputs": [
    {
     "data": {
      "text/html": [
       "<style type=\"text/css\">\n",
       "</style>\n",
       "<table id=\"T_83578\">\n",
       "  <thead>\n",
       "    <tr>\n",
       "      <th class=\"blank level0\" >&nbsp;</th>\n",
       "      <th id=\"T_83578_level0_col0\" class=\"col_heading level0 col0\" >Model</th>\n",
       "      <th id=\"T_83578_level0_col1\" class=\"col_heading level0 col1\" >Accuracy</th>\n",
       "      <th id=\"T_83578_level0_col2\" class=\"col_heading level0 col2\" >AUC</th>\n",
       "      <th id=\"T_83578_level0_col3\" class=\"col_heading level0 col3\" >Recall</th>\n",
       "      <th id=\"T_83578_level0_col4\" class=\"col_heading level0 col4\" >Prec.</th>\n",
       "      <th id=\"T_83578_level0_col5\" class=\"col_heading level0 col5\" >F1</th>\n",
       "      <th id=\"T_83578_level0_col6\" class=\"col_heading level0 col6\" >Kappa</th>\n",
       "      <th id=\"T_83578_level0_col7\" class=\"col_heading level0 col7\" >MCC</th>\n",
       "    </tr>\n",
       "  </thead>\n",
       "  <tbody>\n",
       "    <tr>\n",
       "      <th id=\"T_83578_level0_row0\" class=\"row_heading level0 row0\" >0</th>\n",
       "      <td id=\"T_83578_row0_col0\" class=\"data row0 col0\" >Decision Tree Classifier</td>\n",
       "      <td id=\"T_83578_row0_col1\" class=\"data row0 col1\" >0.4896</td>\n",
       "      <td id=\"T_83578_row0_col2\" class=\"data row0 col2\" >0.5554</td>\n",
       "      <td id=\"T_83578_row0_col3\" class=\"data row0 col3\" >0.0034</td>\n",
       "      <td id=\"T_83578_row0_col4\" class=\"data row0 col4\" >0.1221</td>\n",
       "      <td id=\"T_83578_row0_col5\" class=\"data row0 col5\" >0.0065</td>\n",
       "      <td id=\"T_83578_row0_col6\" class=\"data row0 col6\" >-0.0208</td>\n",
       "      <td id=\"T_83578_row0_col7\" class=\"data row0 col7\" >-0.0892</td>\n",
       "    </tr>\n",
       "  </tbody>\n",
       "</table>\n"
      ],
      "text/plain": [
       "<pandas.io.formats.style.Styler at 0x7fb44068c6a0>"
      ]
     },
     "metadata": {},
     "output_type": "display_data"
    }
   ],
   "source": [
    "dt_val_pred = predict_model(dt, data=val)"
   ]
  },
  {
   "cell_type": "code",
   "execution_count": 22,
   "metadata": {},
   "outputs": [
    {
     "name": "stdout",
     "output_type": "stream",
     "text": [
      "Transformation Pipeline and Model Successfully Saved\n"
     ]
    },
    {
     "data": {
      "text/plain": [
       "(Pipeline(memory=FastMemory(location=/tmp/joblib),\n",
       "          steps=[('numerical_imputer',\n",
       "                  TransformerWrapper(exclude=None,\n",
       "                                     include=['http://semanticscience.org/resource/SIO_000281',\n",
       "                                              'http://semanticscience.org/resource/SIO_000628',\n",
       "                                              'http://semanticscience.org/resource/SIO_001279',\n",
       "                                              'http://www.semanticweb.org/needed-terms#001',\n",
       "                                              'http://www.semanticweb.org/needed-term...\n",
       "                                     transformer=CleanColumnNames(match='[\\\\]\\\\[\\\\,\\\\{\\\\}\\\\\"\\\\:]+'))),\n",
       "                 ('trained_model',\n",
       "                  DecisionTreeClassifier(ccp_alpha=0.0, class_weight=None,\n",
       "                                         criterion='gini', max_depth=None,\n",
       "                                         max_features=None, max_leaf_nodes=None,\n",
       "                                         min_impurity_decrease=0.0,\n",
       "                                         min_samples_leaf=1, min_samples_split=2,\n",
       "                                         min_weight_fraction_leaf=0.0,\n",
       "                                         random_state=8050, splitter='best'))],\n",
       "          verbose=False),\n",
       " 'dt.pkl.pkl')"
      ]
     },
     "execution_count": 22,
     "metadata": {},
     "output_type": "execute_result"
    }
   ],
   "source": [
    "save_model(dt, 'dt.pkl')"
   ]
  },
  {
   "cell_type": "markdown",
   "metadata": {},
   "source": [
    "# SVM - Linear Kernel"
   ]
  },
  {
   "cell_type": "code",
   "execution_count": 23,
   "metadata": {},
   "outputs": [
    {
     "data": {
      "text/html": [],
      "text/plain": [
       "<IPython.core.display.HTML object>"
      ]
     },
     "metadata": {},
     "output_type": "display_data"
    },
    {
     "data": {
      "text/html": [
       "<style type=\"text/css\">\n",
       "#T_589e7_row10_col0, #T_589e7_row10_col1, #T_589e7_row10_col2, #T_589e7_row10_col3, #T_589e7_row10_col4, #T_589e7_row10_col5, #T_589e7_row10_col6 {\n",
       "  background: yellow;\n",
       "}\n",
       "</style>\n",
       "<table id=\"T_589e7\">\n",
       "  <thead>\n",
       "    <tr>\n",
       "      <th class=\"blank level0\" >&nbsp;</th>\n",
       "      <th id=\"T_589e7_level0_col0\" class=\"col_heading level0 col0\" >Accuracy</th>\n",
       "      <th id=\"T_589e7_level0_col1\" class=\"col_heading level0 col1\" >AUC</th>\n",
       "      <th id=\"T_589e7_level0_col2\" class=\"col_heading level0 col2\" >Recall</th>\n",
       "      <th id=\"T_589e7_level0_col3\" class=\"col_heading level0 col3\" >Prec.</th>\n",
       "      <th id=\"T_589e7_level0_col4\" class=\"col_heading level0 col4\" >F1</th>\n",
       "      <th id=\"T_589e7_level0_col5\" class=\"col_heading level0 col5\" >Kappa</th>\n",
       "      <th id=\"T_589e7_level0_col6\" class=\"col_heading level0 col6\" >MCC</th>\n",
       "    </tr>\n",
       "    <tr>\n",
       "      <th class=\"index_name level0\" >Fold</th>\n",
       "      <th class=\"blank col0\" >&nbsp;</th>\n",
       "      <th class=\"blank col1\" >&nbsp;</th>\n",
       "      <th class=\"blank col2\" >&nbsp;</th>\n",
       "      <th class=\"blank col3\" >&nbsp;</th>\n",
       "      <th class=\"blank col4\" >&nbsp;</th>\n",
       "      <th class=\"blank col5\" >&nbsp;</th>\n",
       "      <th class=\"blank col6\" >&nbsp;</th>\n",
       "    </tr>\n",
       "  </thead>\n",
       "  <tbody>\n",
       "    <tr>\n",
       "      <th id=\"T_589e7_level0_row0\" class=\"row_heading level0 row0\" >0</th>\n",
       "      <td id=\"T_589e7_row0_col0\" class=\"data row0 col0\" >0.9755</td>\n",
       "      <td id=\"T_589e7_row0_col1\" class=\"data row0 col1\" >0.0000</td>\n",
       "      <td id=\"T_589e7_row0_col2\" class=\"data row0 col2\" >0.9725</td>\n",
       "      <td id=\"T_589e7_row0_col3\" class=\"data row0 col3\" >0.9784</td>\n",
       "      <td id=\"T_589e7_row0_col4\" class=\"data row0 col4\" >0.9754</td>\n",
       "      <td id=\"T_589e7_row0_col5\" class=\"data row0 col5\" >0.9510</td>\n",
       "      <td id=\"T_589e7_row0_col6\" class=\"data row0 col6\" >0.9510</td>\n",
       "    </tr>\n",
       "    <tr>\n",
       "      <th id=\"T_589e7_level0_row1\" class=\"row_heading level0 row1\" >1</th>\n",
       "      <td id=\"T_589e7_row1_col0\" class=\"data row1 col0\" >0.9760</td>\n",
       "      <td id=\"T_589e7_row1_col1\" class=\"data row1 col1\" >0.0000</td>\n",
       "      <td id=\"T_589e7_row1_col2\" class=\"data row1 col2\" >0.9735</td>\n",
       "      <td id=\"T_589e7_row1_col3\" class=\"data row1 col3\" >0.9784</td>\n",
       "      <td id=\"T_589e7_row1_col4\" class=\"data row1 col4\" >0.9760</td>\n",
       "      <td id=\"T_589e7_row1_col5\" class=\"data row1 col5\" >0.9520</td>\n",
       "      <td id=\"T_589e7_row1_col6\" class=\"data row1 col6\" >0.9520</td>\n",
       "    </tr>\n",
       "    <tr>\n",
       "      <th id=\"T_589e7_level0_row2\" class=\"row_heading level0 row2\" >2</th>\n",
       "      <td id=\"T_589e7_row2_col0\" class=\"data row2 col0\" >0.9754</td>\n",
       "      <td id=\"T_589e7_row2_col1\" class=\"data row2 col1\" >0.0000</td>\n",
       "      <td id=\"T_589e7_row2_col2\" class=\"data row2 col2\" >0.9722</td>\n",
       "      <td id=\"T_589e7_row2_col3\" class=\"data row2 col3\" >0.9784</td>\n",
       "      <td id=\"T_589e7_row2_col4\" class=\"data row2 col4\" >0.9753</td>\n",
       "      <td id=\"T_589e7_row2_col5\" class=\"data row2 col5\" >0.9507</td>\n",
       "      <td id=\"T_589e7_row2_col6\" class=\"data row2 col6\" >0.9507</td>\n",
       "    </tr>\n",
       "    <tr>\n",
       "      <th id=\"T_589e7_level0_row3\" class=\"row_heading level0 row3\" >3</th>\n",
       "      <td id=\"T_589e7_row3_col0\" class=\"data row3 col0\" >0.9763</td>\n",
       "      <td id=\"T_589e7_row3_col1\" class=\"data row3 col1\" >0.0000</td>\n",
       "      <td id=\"T_589e7_row3_col2\" class=\"data row3 col2\" >0.9736</td>\n",
       "      <td id=\"T_589e7_row3_col3\" class=\"data row3 col3\" >0.9788</td>\n",
       "      <td id=\"T_589e7_row3_col4\" class=\"data row3 col4\" >0.9762</td>\n",
       "      <td id=\"T_589e7_row3_col5\" class=\"data row3 col5\" >0.9526</td>\n",
       "      <td id=\"T_589e7_row3_col6\" class=\"data row3 col6\" >0.9526</td>\n",
       "    </tr>\n",
       "    <tr>\n",
       "      <th id=\"T_589e7_level0_row4\" class=\"row_heading level0 row4\" >4</th>\n",
       "      <td id=\"T_589e7_row4_col0\" class=\"data row4 col0\" >0.9755</td>\n",
       "      <td id=\"T_589e7_row4_col1\" class=\"data row4 col1\" >0.0000</td>\n",
       "      <td id=\"T_589e7_row4_col2\" class=\"data row4 col2\" >0.9723</td>\n",
       "      <td id=\"T_589e7_row4_col3\" class=\"data row4 col3\" >0.9787</td>\n",
       "      <td id=\"T_589e7_row4_col4\" class=\"data row4 col4\" >0.9755</td>\n",
       "      <td id=\"T_589e7_row4_col5\" class=\"data row4 col5\" >0.9511</td>\n",
       "      <td id=\"T_589e7_row4_col6\" class=\"data row4 col6\" >0.9511</td>\n",
       "    </tr>\n",
       "    <tr>\n",
       "      <th id=\"T_589e7_level0_row5\" class=\"row_heading level0 row5\" >5</th>\n",
       "      <td id=\"T_589e7_row5_col0\" class=\"data row5 col0\" >0.9757</td>\n",
       "      <td id=\"T_589e7_row5_col1\" class=\"data row5 col1\" >0.0000</td>\n",
       "      <td id=\"T_589e7_row5_col2\" class=\"data row5 col2\" >0.9729</td>\n",
       "      <td id=\"T_589e7_row5_col3\" class=\"data row5 col3\" >0.9784</td>\n",
       "      <td id=\"T_589e7_row5_col4\" class=\"data row5 col4\" >0.9757</td>\n",
       "      <td id=\"T_589e7_row5_col5\" class=\"data row5 col5\" >0.9515</td>\n",
       "      <td id=\"T_589e7_row5_col6\" class=\"data row5 col6\" >0.9515</td>\n",
       "    </tr>\n",
       "    <tr>\n",
       "      <th id=\"T_589e7_level0_row6\" class=\"row_heading level0 row6\" >6</th>\n",
       "      <td id=\"T_589e7_row6_col0\" class=\"data row6 col0\" >0.9763</td>\n",
       "      <td id=\"T_589e7_row6_col1\" class=\"data row6 col1\" >0.0000</td>\n",
       "      <td id=\"T_589e7_row6_col2\" class=\"data row6 col2\" >0.9735</td>\n",
       "      <td id=\"T_589e7_row6_col3\" class=\"data row6 col3\" >0.9790</td>\n",
       "      <td id=\"T_589e7_row6_col4\" class=\"data row6 col4\" >0.9763</td>\n",
       "      <td id=\"T_589e7_row6_col5\" class=\"data row6 col5\" >0.9526</td>\n",
       "      <td id=\"T_589e7_row6_col6\" class=\"data row6 col6\" >0.9527</td>\n",
       "    </tr>\n",
       "    <tr>\n",
       "      <th id=\"T_589e7_level0_row7\" class=\"row_heading level0 row7\" >7</th>\n",
       "      <td id=\"T_589e7_row7_col0\" class=\"data row7 col0\" >0.9762</td>\n",
       "      <td id=\"T_589e7_row7_col1\" class=\"data row7 col1\" >0.0000</td>\n",
       "      <td id=\"T_589e7_row7_col2\" class=\"data row7 col2\" >0.9730</td>\n",
       "      <td id=\"T_589e7_row7_col3\" class=\"data row7 col3\" >0.9792</td>\n",
       "      <td id=\"T_589e7_row7_col4\" class=\"data row7 col4\" >0.9761</td>\n",
       "      <td id=\"T_589e7_row7_col5\" class=\"data row7 col5\" >0.9524</td>\n",
       "      <td id=\"T_589e7_row7_col6\" class=\"data row7 col6\" >0.9524</td>\n",
       "    </tr>\n",
       "    <tr>\n",
       "      <th id=\"T_589e7_level0_row8\" class=\"row_heading level0 row8\" >8</th>\n",
       "      <td id=\"T_589e7_row8_col0\" class=\"data row8 col0\" >0.9763</td>\n",
       "      <td id=\"T_589e7_row8_col1\" class=\"data row8 col1\" >0.0000</td>\n",
       "      <td id=\"T_589e7_row8_col2\" class=\"data row8 col2\" >0.9728</td>\n",
       "      <td id=\"T_589e7_row8_col3\" class=\"data row8 col3\" >0.9798</td>\n",
       "      <td id=\"T_589e7_row8_col4\" class=\"data row8 col4\" >0.9763</td>\n",
       "      <td id=\"T_589e7_row8_col5\" class=\"data row8 col5\" >0.9527</td>\n",
       "      <td id=\"T_589e7_row8_col6\" class=\"data row8 col6\" >0.9527</td>\n",
       "    </tr>\n",
       "    <tr>\n",
       "      <th id=\"T_589e7_level0_row9\" class=\"row_heading level0 row9\" >9</th>\n",
       "      <td id=\"T_589e7_row9_col0\" class=\"data row9 col0\" >0.9755</td>\n",
       "      <td id=\"T_589e7_row9_col1\" class=\"data row9 col1\" >0.0000</td>\n",
       "      <td id=\"T_589e7_row9_col2\" class=\"data row9 col2\" >0.9727</td>\n",
       "      <td id=\"T_589e7_row9_col3\" class=\"data row9 col3\" >0.9782</td>\n",
       "      <td id=\"T_589e7_row9_col4\" class=\"data row9 col4\" >0.9755</td>\n",
       "      <td id=\"T_589e7_row9_col5\" class=\"data row9 col5\" >0.9511</td>\n",
       "      <td id=\"T_589e7_row9_col6\" class=\"data row9 col6\" >0.9511</td>\n",
       "    </tr>\n",
       "    <tr>\n",
       "      <th id=\"T_589e7_level0_row10\" class=\"row_heading level0 row10\" >Mean</th>\n",
       "      <td id=\"T_589e7_row10_col0\" class=\"data row10 col0\" >0.9759</td>\n",
       "      <td id=\"T_589e7_row10_col1\" class=\"data row10 col1\" >0.0000</td>\n",
       "      <td id=\"T_589e7_row10_col2\" class=\"data row10 col2\" >0.9729</td>\n",
       "      <td id=\"T_589e7_row10_col3\" class=\"data row10 col3\" >0.9787</td>\n",
       "      <td id=\"T_589e7_row10_col4\" class=\"data row10 col4\" >0.9758</td>\n",
       "      <td id=\"T_589e7_row10_col5\" class=\"data row10 col5\" >0.9518</td>\n",
       "      <td id=\"T_589e7_row10_col6\" class=\"data row10 col6\" >0.9518</td>\n",
       "    </tr>\n",
       "    <tr>\n",
       "      <th id=\"T_589e7_level0_row11\" class=\"row_heading level0 row11\" >Std</th>\n",
       "      <td id=\"T_589e7_row11_col0\" class=\"data row11 col0\" >0.0004</td>\n",
       "      <td id=\"T_589e7_row11_col1\" class=\"data row11 col1\" >0.0000</td>\n",
       "      <td id=\"T_589e7_row11_col2\" class=\"data row11 col2\" >0.0005</td>\n",
       "      <td id=\"T_589e7_row11_col3\" class=\"data row11 col3\" >0.0005</td>\n",
       "      <td id=\"T_589e7_row11_col4\" class=\"data row11 col4\" >0.0004</td>\n",
       "      <td id=\"T_589e7_row11_col5\" class=\"data row11 col5\" >0.0007</td>\n",
       "      <td id=\"T_589e7_row11_col6\" class=\"data row11 col6\" >0.0007</td>\n",
       "    </tr>\n",
       "  </tbody>\n",
       "</table>\n"
      ],
      "text/plain": [
       "<pandas.io.formats.style.Styler at 0x7fb32c0f6830>"
      ]
     },
     "metadata": {},
     "output_type": "display_data"
    },
    {
     "data": {
      "text/html": [],
      "text/plain": [
       "<IPython.core.display.HTML object>"
      ]
     },
     "metadata": {},
     "output_type": "display_data"
    }
   ],
   "source": [
    "svm = create_model('svm')"
   ]
  },
  {
   "cell_type": "code",
   "execution_count": 24,
   "metadata": {},
   "outputs": [
    {
     "data": {
      "text/html": [],
      "text/plain": [
       "<IPython.core.display.HTML object>"
      ]
     },
     "metadata": {},
     "output_type": "display_data"
    },
    {
     "data": {
      "image/png": "[encoded data removed]",
      "text/plain": [
       "<Figure size 800x550 with 1 Axes>"
      ]
     },
     "metadata": {},
     "output_type": "display_data"
    }
   ],
   "source": [
    "plot_model(svm, plot = 'confusion_matrix')"
   ]
  },
  {
   "cell_type": "code",
   "execution_count": 25,
   "metadata": {},
   "outputs": [
    {
     "data": {
      "text/html": [],
      "text/plain": [
       "<IPython.core.display.HTML object>"
      ]
     },
     "metadata": {},
     "output_type": "display_data"
    },
    {
     "data": {
      "image/png": "[encoded data removed]",
      "text/plain": [
       "<Figure size 800x550 with 1 Axes>"
      ]
     },
     "metadata": {},
     "output_type": "display_data"
    }
   ],
   "source": [
    "plot_model(svm, plot = 'error')"
   ]
  },
  {
   "cell_type": "code",
   "execution_count": 26,
   "metadata": {},
   "outputs": [
    {
     "data": {
      "text/html": [],
      "text/plain": [
       "<IPython.core.display.HTML object>"
      ]
     },
     "metadata": {},
     "output_type": "display_data"
    },
    {
     "data": {
      "text/html": [
       "<div>\n",
       "<style scoped>\n",
       "    .dataframe tbody tr th:only-of-type {\n",
       "        vertical-align: middle;\n",
       "    }\n",
       "\n",
       "    .dataframe tbody tr th {\n",
       "        vertical-align: top;\n",
       "    }\n",
       "\n",
       "    .dataframe thead th {\n",
       "        text-align: right;\n",
       "    }\n",
       "</style>\n",
       "<table border=\"1\" class=\"dataframe\">\n",
       "  <thead>\n",
       "    <tr style=\"text-align: right;\">\n",
       "      <th></th>\n",
       "      <th>Parameters</th>\n",
       "    </tr>\n",
       "  </thead>\n",
       "  <tbody>\n",
       "    <tr>\n",
       "      <th>alpha</th>\n",
       "      <td>0.0001</td>\n",
       "    </tr>\n",
       "    <tr>\n",
       "      <th>average</th>\n",
       "      <td>False</td>\n",
       "    </tr>\n",
       "    <tr>\n",
       "      <th>class_weight</th>\n",
       "      <td>None</td>\n",
       "    </tr>\n",
       "    <tr>\n",
       "      <th>early_stopping</th>\n",
       "      <td>False</td>\n",
       "    </tr>\n",
       "    <tr>\n",
       "      <th>epsilon</th>\n",
       "      <td>0.1</td>\n",
       "    </tr>\n",
       "    <tr>\n",
       "      <th>eta0</th>\n",
       "      <td>0.001</td>\n",
       "    </tr>\n",
       "    <tr>\n",
       "      <th>fit_intercept</th>\n",
       "      <td>True</td>\n",
       "    </tr>\n",
       "    <tr>\n",
       "      <th>l1_ratio</th>\n",
       "      <td>0.15</td>\n",
       "    </tr>\n",
       "    <tr>\n",
       "      <th>learning_rate</th>\n",
       "      <td>optimal</td>\n",
       "    </tr>\n",
       "    <tr>\n",
       "      <th>loss</th>\n",
       "      <td>hinge</td>\n",
       "    </tr>\n",
       "    <tr>\n",
       "      <th>max_iter</th>\n",
       "      <td>1000</td>\n",
       "    </tr>\n",
       "    <tr>\n",
       "      <th>n_iter_no_change</th>\n",
       "      <td>5</td>\n",
       "    </tr>\n",
       "    <tr>\n",
       "      <th>n_jobs</th>\n",
       "      <td>-1</td>\n",
       "    </tr>\n",
       "    <tr>\n",
       "      <th>penalty</th>\n",
       "      <td>l2</td>\n",
       "    </tr>\n",
       "    <tr>\n",
       "      <th>power_t</th>\n",
       "      <td>0.5</td>\n",
       "    </tr>\n",
       "    <tr>\n",
       "      <th>random_state</th>\n",
       "      <td>8050</td>\n",
       "    </tr>\n",
       "    <tr>\n",
       "      <th>shuffle</th>\n",
       "      <td>True</td>\n",
       "    </tr>\n",
       "    <tr>\n",
       "      <th>tol</th>\n",
       "      <td>0.001</td>\n",
       "    </tr>\n",
       "    <tr>\n",
       "      <th>validation_fraction</th>\n",
       "      <td>0.1</td>\n",
       "    </tr>\n",
       "    <tr>\n",
       "      <th>verbose</th>\n",
       "      <td>0</td>\n",
       "    </tr>\n",
       "    <tr>\n",
       "      <th>warm_start</th>\n",
       "      <td>False</td>\n",
       "    </tr>\n",
       "  </tbody>\n",
       "</table>\n",
       "</div>"
      ],
      "text/plain": [
       "                    Parameters\n",
       "alpha                   0.0001\n",
       "average                  False\n",
       "class_weight              None\n",
       "early_stopping           False\n",
       "epsilon                    0.1\n",
       "eta0                     0.001\n",
       "fit_intercept             True\n",
       "l1_ratio                  0.15\n",
       "learning_rate          optimal\n",
       "loss                     hinge\n",
       "max_iter                  1000\n",
       "n_iter_no_change             5\n",
       "n_jobs                      -1\n",
       "penalty                     l2\n",
       "power_t                    0.5\n",
       "random_state              8050\n",
       "shuffle                   True\n",
       "tol                      0.001\n",
       "validation_fraction        0.1\n",
       "verbose                      0\n",
       "warm_start               False"
      ]
     },
     "metadata": {},
     "output_type": "display_data"
    }
   ],
   "source": [
    "plot_model(svm, plot = 'parameter')"
   ]
  },
  {
   "cell_type": "code",
   "execution_count": 27,
   "metadata": {},
   "outputs": [
    {
     "data": {
      "text/html": [
       "<style type=\"text/css\">\n",
       "</style>\n",
       "<table id=\"T_a64e2\">\n",
       "  <thead>\n",
       "    <tr>\n",
       "      <th class=\"blank level0\" >&nbsp;</th>\n",
       "      <th id=\"T_a64e2_level0_col0\" class=\"col_heading level0 col0\" >Model</th>\n",
       "      <th id=\"T_a64e2_level0_col1\" class=\"col_heading level0 col1\" >Accuracy</th>\n",
       "      <th id=\"T_a64e2_level0_col2\" class=\"col_heading level0 col2\" >AUC</th>\n",
       "      <th id=\"T_a64e2_level0_col3\" class=\"col_heading level0 col3\" >Recall</th>\n",
       "      <th id=\"T_a64e2_level0_col4\" class=\"col_heading level0 col4\" >Prec.</th>\n",
       "      <th id=\"T_a64e2_level0_col5\" class=\"col_heading level0 col5\" >F1</th>\n",
       "      <th id=\"T_a64e2_level0_col6\" class=\"col_heading level0 col6\" >Kappa</th>\n",
       "      <th id=\"T_a64e2_level0_col7\" class=\"col_heading level0 col7\" >MCC</th>\n",
       "    </tr>\n",
       "  </thead>\n",
       "  <tbody>\n",
       "    <tr>\n",
       "      <th id=\"T_a64e2_level0_row0\" class=\"row_heading level0 row0\" >0</th>\n",
       "      <td id=\"T_a64e2_row0_col0\" class=\"data row0 col0\" >SVM - Linear Kernel</td>\n",
       "      <td id=\"T_a64e2_row0_col1\" class=\"data row0 col1\" >0.4858</td>\n",
       "      <td id=\"T_a64e2_row0_col2\" class=\"data row0 col2\" >0.4858</td>\n",
       "      <td id=\"T_a64e2_row0_col3\" class=\"data row0 col3\" >0.0021</td>\n",
       "      <td id=\"T_a64e2_row0_col4\" class=\"data row0 col4\" >0.0642</td>\n",
       "      <td id=\"T_a64e2_row0_col5\" class=\"data row0 col5\" >0.0041</td>\n",
       "      <td id=\"T_a64e2_row0_col6\" class=\"data row0 col6\" >-0.0284</td>\n",
       "      <td id=\"T_a64e2_row0_col7\" class=\"data row0 col7\" >-0.1122</td>\n",
       "    </tr>\n",
       "  </tbody>\n",
       "</table>\n"
      ],
      "text/plain": [
       "<pandas.io.formats.style.Styler at 0x7fb32c0f61d0>"
      ]
     },
     "metadata": {},
     "output_type": "display_data"
    }
   ],
   "source": [
    "svm_val_pred = predict_model(svm, data=val)"
   ]
  },
  {
   "cell_type": "code",
   "execution_count": 28,
   "metadata": {},
   "outputs": [
    {
     "name": "stdout",
     "output_type": "stream",
     "text": [
      "Transformation Pipeline and Model Successfully Saved\n"
     ]
    },
    {
     "data": {
      "text/plain": [
       "(Pipeline(memory=FastMemory(location=/tmp/joblib),\n",
       "          steps=[('numerical_imputer',\n",
       "                  TransformerWrapper(exclude=None,\n",
       "                                     include=['http://semanticscience.org/resource/SIO_000281',\n",
       "                                              'http://semanticscience.org/resource/SIO_000628',\n",
       "                                              'http://semanticscience.org/resource/SIO_001279',\n",
       "                                              'http://www.semanticweb.org/needed-terms#001',\n",
       "                                              'http://www.semanticweb.org/needed-term...\n",
       "                  SGDClassifier(alpha=0.0001, average=False, class_weight=None,\n",
       "                                early_stopping=False, epsilon=0.1, eta0=0.001,\n",
       "                                fit_intercept=True, l1_ratio=0.15,\n",
       "                                learning_rate='optimal', loss='hinge',\n",
       "                                max_iter=1000, n_iter_no_change=5, n_jobs=-1,\n",
       "                                penalty='l2', power_t=0.5, random_state=8050,\n",
       "                                shuffle=True, tol=0.001, validation_fraction=0.1,\n",
       "                                verbose=0, warm_start=False))],\n",
       "          verbose=False),\n",
       " 'svm.pkl.pkl')"
      ]
     },
     "execution_count": 28,
     "metadata": {},
     "output_type": "execute_result"
    }
   ],
   "source": [
    "save_model(svm, 'svm.pkl')"
   ]
  },
  {
   "cell_type": "markdown",
   "metadata": {},
   "source": [
    "# Ridge Classifier"
   ]
  },
  {
   "cell_type": "code",
   "execution_count": 29,
   "metadata": {},
   "outputs": [
    {
     "data": {
      "text/html": [],
      "text/plain": [
       "<IPython.core.display.HTML object>"
      ]
     },
     "metadata": {},
     "output_type": "display_data"
    },
    {
     "data": {
      "text/html": [
       "<style type=\"text/css\">\n",
       "#T_71426_row10_col0, #T_71426_row10_col1, #T_71426_row10_col2, #T_71426_row10_col3, #T_71426_row10_col4, #T_71426_row10_col5, #T_71426_row10_col6 {\n",
       "  background: yellow;\n",
       "}\n",
       "</style>\n",
       "<table id=\"T_71426\">\n",
       "  <thead>\n",
       "    <tr>\n",
       "      <th class=\"blank level0\" >&nbsp;</th>\n",
       "      <th id=\"T_71426_level0_col0\" class=\"col_heading level0 col0\" >Accuracy</th>\n",
       "      <th id=\"T_71426_level0_col1\" class=\"col_heading level0 col1\" >AUC</th>\n",
       "      <th id=\"T_71426_level0_col2\" class=\"col_heading level0 col2\" >Recall</th>\n",
       "      <th id=\"T_71426_level0_col3\" class=\"col_heading level0 col3\" >Prec.</th>\n",
       "      <th id=\"T_71426_level0_col4\" class=\"col_heading level0 col4\" >F1</th>\n",
       "      <th id=\"T_71426_level0_col5\" class=\"col_heading level0 col5\" >Kappa</th>\n",
       "      <th id=\"T_71426_level0_col6\" class=\"col_heading level0 col6\" >MCC</th>\n",
       "    </tr>\n",
       "    <tr>\n",
       "      <th class=\"index_name level0\" >Fold</th>\n",
       "      <th class=\"blank col0\" >&nbsp;</th>\n",
       "      <th class=\"blank col1\" >&nbsp;</th>\n",
       "      <th class=\"blank col2\" >&nbsp;</th>\n",
       "      <th class=\"blank col3\" >&nbsp;</th>\n",
       "      <th class=\"blank col4\" >&nbsp;</th>\n",
       "      <th class=\"blank col5\" >&nbsp;</th>\n",
       "      <th class=\"blank col6\" >&nbsp;</th>\n",
       "    </tr>\n",
       "  </thead>\n",
       "  <tbody>\n",
       "    <tr>\n",
       "      <th id=\"T_71426_level0_row0\" class=\"row_heading level0 row0\" >0</th>\n",
       "      <td id=\"T_71426_row0_col0\" class=\"data row0 col0\" >0.9754</td>\n",
       "      <td id=\"T_71426_row0_col1\" class=\"data row0 col1\" >0.0000</td>\n",
       "      <td id=\"T_71426_row0_col2\" class=\"data row0 col2\" >0.9717</td>\n",
       "      <td id=\"T_71426_row0_col3\" class=\"data row0 col3\" >0.9789</td>\n",
       "      <td id=\"T_71426_row0_col4\" class=\"data row0 col4\" >0.9753</td>\n",
       "      <td id=\"T_71426_row0_col5\" class=\"data row0 col5\" >0.9508</td>\n",
       "      <td id=\"T_71426_row0_col6\" class=\"data row0 col6\" >0.9508</td>\n",
       "    </tr>\n",
       "    <tr>\n",
       "      <th id=\"T_71426_level0_row1\" class=\"row_heading level0 row1\" >1</th>\n",
       "      <td id=\"T_71426_row1_col0\" class=\"data row1 col0\" >0.9758</td>\n",
       "      <td id=\"T_71426_row1_col1\" class=\"data row1 col1\" >0.0000</td>\n",
       "      <td id=\"T_71426_row1_col2\" class=\"data row1 col2\" >0.9725</td>\n",
       "      <td id=\"T_71426_row1_col3\" class=\"data row1 col3\" >0.9790</td>\n",
       "      <td id=\"T_71426_row1_col4\" class=\"data row1 col4\" >0.9757</td>\n",
       "      <td id=\"T_71426_row1_col5\" class=\"data row1 col5\" >0.9516</td>\n",
       "      <td id=\"T_71426_row1_col6\" class=\"data row1 col6\" >0.9516</td>\n",
       "    </tr>\n",
       "    <tr>\n",
       "      <th id=\"T_71426_level0_row2\" class=\"row_heading level0 row2\" >2</th>\n",
       "      <td id=\"T_71426_row2_col0\" class=\"data row2 col0\" >0.9751</td>\n",
       "      <td id=\"T_71426_row2_col1\" class=\"data row2 col1\" >0.0000</td>\n",
       "      <td id=\"T_71426_row2_col2\" class=\"data row2 col2\" >0.9711</td>\n",
       "      <td id=\"T_71426_row2_col3\" class=\"data row2 col3\" >0.9790</td>\n",
       "      <td id=\"T_71426_row2_col4\" class=\"data row2 col4\" >0.9750</td>\n",
       "      <td id=\"T_71426_row2_col5\" class=\"data row2 col5\" >0.9502</td>\n",
       "      <td id=\"T_71426_row2_col6\" class=\"data row2 col6\" >0.9503</td>\n",
       "    </tr>\n",
       "    <tr>\n",
       "      <th id=\"T_71426_level0_row3\" class=\"row_heading level0 row3\" >3</th>\n",
       "      <td id=\"T_71426_row3_col0\" class=\"data row3 col0\" >0.9760</td>\n",
       "      <td id=\"T_71426_row3_col1\" class=\"data row3 col1\" >0.0000</td>\n",
       "      <td id=\"T_71426_row3_col2\" class=\"data row3 col2\" >0.9727</td>\n",
       "      <td id=\"T_71426_row3_col3\" class=\"data row3 col3\" >0.9792</td>\n",
       "      <td id=\"T_71426_row3_col4\" class=\"data row3 col4\" >0.9759</td>\n",
       "      <td id=\"T_71426_row3_col5\" class=\"data row3 col5\" >0.9520</td>\n",
       "      <td id=\"T_71426_row3_col6\" class=\"data row3 col6\" >0.9521</td>\n",
       "    </tr>\n",
       "    <tr>\n",
       "      <th id=\"T_71426_level0_row4\" class=\"row_heading level0 row4\" >4</th>\n",
       "      <td id=\"T_71426_row4_col0\" class=\"data row4 col0\" >0.9754</td>\n",
       "      <td id=\"T_71426_row4_col1\" class=\"data row4 col1\" >0.0000</td>\n",
       "      <td id=\"T_71426_row4_col2\" class=\"data row4 col2\" >0.9715</td>\n",
       "      <td id=\"T_71426_row4_col3\" class=\"data row4 col3\" >0.9791</td>\n",
       "      <td id=\"T_71426_row4_col4\" class=\"data row4 col4\" >0.9753</td>\n",
       "      <td id=\"T_71426_row4_col5\" class=\"data row4 col5\" >0.9508</td>\n",
       "      <td id=\"T_71426_row4_col6\" class=\"data row4 col6\" >0.9508</td>\n",
       "    </tr>\n",
       "    <tr>\n",
       "      <th id=\"T_71426_level0_row5\" class=\"row_heading level0 row5\" >5</th>\n",
       "      <td id=\"T_71426_row5_col0\" class=\"data row5 col0\" >0.9755</td>\n",
       "      <td id=\"T_71426_row5_col1\" class=\"data row5 col1\" >0.0000</td>\n",
       "      <td id=\"T_71426_row5_col2\" class=\"data row5 col2\" >0.9720</td>\n",
       "      <td id=\"T_71426_row5_col3\" class=\"data row5 col3\" >0.9789</td>\n",
       "      <td id=\"T_71426_row5_col4\" class=\"data row5 col4\" >0.9754</td>\n",
       "      <td id=\"T_71426_row5_col5\" class=\"data row5 col5\" >0.9510</td>\n",
       "      <td id=\"T_71426_row5_col6\" class=\"data row5 col6\" >0.9511</td>\n",
       "    </tr>\n",
       "    <tr>\n",
       "      <th id=\"T_71426_level0_row6\" class=\"row_heading level0 row6\" >6</th>\n",
       "      <td id=\"T_71426_row6_col0\" class=\"data row6 col0\" >0.9760</td>\n",
       "      <td id=\"T_71426_row6_col1\" class=\"data row6 col1\" >0.0000</td>\n",
       "      <td id=\"T_71426_row6_col2\" class=\"data row6 col2\" >0.9724</td>\n",
       "      <td id=\"T_71426_row6_col3\" class=\"data row6 col3\" >0.9794</td>\n",
       "      <td id=\"T_71426_row6_col4\" class=\"data row6 col4\" >0.9759</td>\n",
       "      <td id=\"T_71426_row6_col5\" class=\"data row6 col5\" >0.9520</td>\n",
       "      <td id=\"T_71426_row6_col6\" class=\"data row6 col6\" >0.9520</td>\n",
       "    </tr>\n",
       "    <tr>\n",
       "      <th id=\"T_71426_level0_row7\" class=\"row_heading level0 row7\" >7</th>\n",
       "      <td id=\"T_71426_row7_col0\" class=\"data row7 col0\" >0.9759</td>\n",
       "      <td id=\"T_71426_row7_col1\" class=\"data row7 col1\" >0.0000</td>\n",
       "      <td id=\"T_71426_row7_col2\" class=\"data row7 col2\" >0.9720</td>\n",
       "      <td id=\"T_71426_row7_col3\" class=\"data row7 col3\" >0.9796</td>\n",
       "      <td id=\"T_71426_row7_col4\" class=\"data row7 col4\" >0.9758</td>\n",
       "      <td id=\"T_71426_row7_col5\" class=\"data row7 col5\" >0.9518</td>\n",
       "      <td id=\"T_71426_row7_col6\" class=\"data row7 col6\" >0.9518</td>\n",
       "    </tr>\n",
       "    <tr>\n",
       "      <th id=\"T_71426_level0_row8\" class=\"row_heading level0 row8\" >8</th>\n",
       "      <td id=\"T_71426_row8_col0\" class=\"data row8 col0\" >0.9760</td>\n",
       "      <td id=\"T_71426_row8_col1\" class=\"data row8 col1\" >0.0000</td>\n",
       "      <td id=\"T_71426_row8_col2\" class=\"data row8 col2\" >0.9717</td>\n",
       "      <td id=\"T_71426_row8_col3\" class=\"data row8 col3\" >0.9801</td>\n",
       "      <td id=\"T_71426_row8_col4\" class=\"data row8 col4\" >0.9759</td>\n",
       "      <td id=\"T_71426_row8_col5\" class=\"data row8 col5\" >0.9520</td>\n",
       "      <td id=\"T_71426_row8_col6\" class=\"data row8 col6\" >0.9520</td>\n",
       "    </tr>\n",
       "    <tr>\n",
       "      <th id=\"T_71426_level0_row9\" class=\"row_heading level0 row9\" >9</th>\n",
       "      <td id=\"T_71426_row9_col0\" class=\"data row9 col0\" >0.9752</td>\n",
       "      <td id=\"T_71426_row9_col1\" class=\"data row9 col1\" >0.0000</td>\n",
       "      <td id=\"T_71426_row9_col2\" class=\"data row9 col2\" >0.9718</td>\n",
       "      <td id=\"T_71426_row9_col3\" class=\"data row9 col3\" >0.9785</td>\n",
       "      <td id=\"T_71426_row9_col4\" class=\"data row9 col4\" >0.9751</td>\n",
       "      <td id=\"T_71426_row9_col5\" class=\"data row9 col5\" >0.9504</td>\n",
       "      <td id=\"T_71426_row9_col6\" class=\"data row9 col6\" >0.9504</td>\n",
       "    </tr>\n",
       "    <tr>\n",
       "      <th id=\"T_71426_level0_row10\" class=\"row_heading level0 row10\" >Mean</th>\n",
       "      <td id=\"T_71426_row10_col0\" class=\"data row10 col0\" >0.9756</td>\n",
       "      <td id=\"T_71426_row10_col1\" class=\"data row10 col1\" >0.0000</td>\n",
       "      <td id=\"T_71426_row10_col2\" class=\"data row10 col2\" >0.9719</td>\n",
       "      <td id=\"T_71426_row10_col3\" class=\"data row10 col3\" >0.9792</td>\n",
       "      <td id=\"T_71426_row10_col4\" class=\"data row10 col4\" >0.9755</td>\n",
       "      <td id=\"T_71426_row10_col5\" class=\"data row10 col5\" >0.9513</td>\n",
       "      <td id=\"T_71426_row10_col6\" class=\"data row10 col6\" >0.9513</td>\n",
       "    </tr>\n",
       "    <tr>\n",
       "      <th id=\"T_71426_level0_row11\" class=\"row_heading level0 row11\" >Std</th>\n",
       "      <td id=\"T_71426_row11_col0\" class=\"data row11 col0\" >0.0003</td>\n",
       "      <td id=\"T_71426_row11_col1\" class=\"data row11 col1\" >0.0000</td>\n",
       "      <td id=\"T_71426_row11_col2\" class=\"data row11 col2\" >0.0005</td>\n",
       "      <td id=\"T_71426_row11_col3\" class=\"data row11 col3\" >0.0004</td>\n",
       "      <td id=\"T_71426_row11_col4\" class=\"data row11 col4\" >0.0003</td>\n",
       "      <td id=\"T_71426_row11_col5\" class=\"data row11 col5\" >0.0007</td>\n",
       "      <td id=\"T_71426_row11_col6\" class=\"data row11 col6\" >0.0007</td>\n",
       "    </tr>\n",
       "  </tbody>\n",
       "</table>\n"
      ],
      "text/plain": [
       "<pandas.io.formats.style.Styler at 0x7fb3240b7f10>"
      ]
     },
     "metadata": {},
     "output_type": "display_data"
    },
    {
     "data": {
      "text/html": [],
      "text/plain": [
       "<IPython.core.display.HTML object>"
      ]
     },
     "metadata": {},
     "output_type": "display_data"
    }
   ],
   "source": [
    "ridge = create_model('ridge')"
   ]
  },
  {
   "cell_type": "code",
   "execution_count": 30,
   "metadata": {},
   "outputs": [
    {
     "data": {
      "text/html": [],
      "text/plain": [
       "<IPython.core.display.HTML object>"
      ]
     },
     "metadata": {},
     "output_type": "display_data"
    },
    {
     "data": {
      "image/png": "[encoded data removed]",
      "text/plain": [
       "<Figure size 800x550 with 1 Axes>"
      ]
     },
     "metadata": {},
     "output_type": "display_data"
    }
   ],
   "source": [
    "plot_model(ridge, plot = 'confusion_matrix')"
   ]
  },
  {
   "cell_type": "code",
   "execution_count": 31,
   "metadata": {},
   "outputs": [
    {
     "data": {
      "text/html": [],
      "text/plain": [
       "<IPython.core.display.HTML object>"
      ]
     },
     "metadata": {},
     "output_type": "display_data"
    },
    {
     "data": {
      "image/png": "[encoded data removed]",
      "text/plain": [
       "<Figure size 800x550 with 1 Axes>"
      ]
     },
     "metadata": {},
     "output_type": "display_data"
    }
   ],
   "source": [
    "plot_model(ridge, plot = 'error')"
   ]
  },
  {
   "cell_type": "code",
   "execution_count": 32,
   "metadata": {},
   "outputs": [
    {
     "data": {
      "text/html": [],
      "text/plain": [
       "<IPython.core.display.HTML object>"
      ]
     },
     "metadata": {},
     "output_type": "display_data"
    },
    {
     "data": {
      "text/html": [
       "<div>\n",
       "<style scoped>\n",
       "    .dataframe tbody tr th:only-of-type {\n",
       "        vertical-align: middle;\n",
       "    }\n",
       "\n",
       "    .dataframe tbody tr th {\n",
       "        vertical-align: top;\n",
       "    }\n",
       "\n",
       "    .dataframe thead th {\n",
       "        text-align: right;\n",
       "    }\n",
       "</style>\n",
       "<table border=\"1\" class=\"dataframe\">\n",
       "  <thead>\n",
       "    <tr style=\"text-align: right;\">\n",
       "      <th></th>\n",
       "      <th>Parameters</th>\n",
       "    </tr>\n",
       "  </thead>\n",
       "  <tbody>\n",
       "    <tr>\n",
       "      <th>alpha</th>\n",
       "      <td>1.0</td>\n",
       "    </tr>\n",
       "    <tr>\n",
       "      <th>class_weight</th>\n",
       "      <td>None</td>\n",
       "    </tr>\n",
       "    <tr>\n",
       "      <th>copy_X</th>\n",
       "      <td>True</td>\n",
       "    </tr>\n",
       "    <tr>\n",
       "      <th>fit_intercept</th>\n",
       "      <td>True</td>\n",
       "    </tr>\n",
       "    <tr>\n",
       "      <th>max_iter</th>\n",
       "      <td>None</td>\n",
       "    </tr>\n",
       "    <tr>\n",
       "      <th>positive</th>\n",
       "      <td>False</td>\n",
       "    </tr>\n",
       "    <tr>\n",
       "      <th>random_state</th>\n",
       "      <td>8050</td>\n",
       "    </tr>\n",
       "    <tr>\n",
       "      <th>solver</th>\n",
       "      <td>auto</td>\n",
       "    </tr>\n",
       "    <tr>\n",
       "      <th>tol</th>\n",
       "      <td>0.0001</td>\n",
       "    </tr>\n",
       "  </tbody>\n",
       "</table>\n",
       "</div>"
      ],
      "text/plain": [
       "              Parameters\n",
       "alpha                1.0\n",
       "class_weight        None\n",
       "copy_X              True\n",
       "fit_intercept       True\n",
       "max_iter            None\n",
       "positive           False\n",
       "random_state        8050\n",
       "solver              auto\n",
       "tol               0.0001"
      ]
     },
     "metadata": {},
     "output_type": "display_data"
    }
   ],
   "source": [
    "plot_model(ridge, plot = 'parameter')"
   ]
  },
  {
   "cell_type": "code",
   "execution_count": 33,
   "metadata": {},
   "outputs": [
    {
     "data": {
      "text/html": [
       "<style type=\"text/css\">\n",
       "</style>\n",
       "<table id=\"T_1a952\">\n",
       "  <thead>\n",
       "    <tr>\n",
       "      <th class=\"blank level0\" >&nbsp;</th>\n",
       "      <th id=\"T_1a952_level0_col0\" class=\"col_heading level0 col0\" >Model</th>\n",
       "      <th id=\"T_1a952_level0_col1\" class=\"col_heading level0 col1\" >Accuracy</th>\n",
       "      <th id=\"T_1a952_level0_col2\" class=\"col_heading level0 col2\" >AUC</th>\n",
       "      <th id=\"T_1a952_level0_col3\" class=\"col_heading level0 col3\" >Recall</th>\n",
       "      <th id=\"T_1a952_level0_col4\" class=\"col_heading level0 col4\" >Prec.</th>\n",
       "      <th id=\"T_1a952_level0_col5\" class=\"col_heading level0 col5\" >F1</th>\n",
       "      <th id=\"T_1a952_level0_col6\" class=\"col_heading level0 col6\" >Kappa</th>\n",
       "      <th id=\"T_1a952_level0_col7\" class=\"col_heading level0 col7\" >MCC</th>\n",
       "    </tr>\n",
       "  </thead>\n",
       "  <tbody>\n",
       "    <tr>\n",
       "      <th id=\"T_1a952_level0_row0\" class=\"row_heading level0 row0\" >0</th>\n",
       "      <td id=\"T_1a952_row0_col0\" class=\"data row0 col0\" >Ridge Classifier</td>\n",
       "      <td id=\"T_1a952_row0_col1\" class=\"data row0 col1\" >0.4862</td>\n",
       "      <td id=\"T_1a952_row0_col2\" class=\"data row0 col2\" >0.4862</td>\n",
       "      <td id=\"T_1a952_row0_col3\" class=\"data row0 col3\" >0.0020</td>\n",
       "      <td id=\"T_1a952_row0_col4\" class=\"data row0 col4\" >0.0644</td>\n",
       "      <td id=\"T_1a952_row0_col5\" class=\"data row0 col5\" >0.0040</td>\n",
       "      <td id=\"T_1a952_row0_col6\" class=\"data row0 col6\" >-0.0276</td>\n",
       "      <td id=\"T_1a952_row0_col7\" class=\"data row0 col7\" >-0.1106</td>\n",
       "    </tr>\n",
       "  </tbody>\n",
       "</table>\n"
      ],
      "text/plain": [
       "<pandas.io.formats.style.Styler at 0x7fb32c197280>"
      ]
     },
     "metadata": {},
     "output_type": "display_data"
    }
   ],
   "source": [
    "ridge_val_pred = predict_model(ridge, data=val)"
   ]
  },
  {
   "cell_type": "code",
   "execution_count": 34,
   "metadata": {},
   "outputs": [
    {
     "name": "stdout",
     "output_type": "stream",
     "text": [
      "Transformation Pipeline and Model Successfully Saved\n"
     ]
    },
    {
     "data": {
      "text/plain": [
       "(Pipeline(memory=FastMemory(location=/tmp/joblib),\n",
       "          steps=[('numerical_imputer',\n",
       "                  TransformerWrapper(exclude=None,\n",
       "                                     include=['http://semanticscience.org/resource/SIO_000281',\n",
       "                                              'http://semanticscience.org/resource/SIO_000628',\n",
       "                                              'http://semanticscience.org/resource/SIO_001279',\n",
       "                                              'http://www.semanticweb.org/needed-terms#001',\n",
       "                                              'http://www.semanticweb.org/needed-term...\n",
       "                                                               strategy='most_frequent',\n",
       "                                                               verbose='deprecated'))),\n",
       "                 ('clean_column_names',\n",
       "                  TransformerWrapper(exclude=None, include=None,\n",
       "                                     transformer=CleanColumnNames(match='[\\\\]\\\\[\\\\,\\\\{\\\\}\\\\\"\\\\:]+'))),\n",
       "                 ('trained_model',\n",
       "                  RidgeClassifier(alpha=1.0, class_weight=None, copy_X=True,\n",
       "                                  fit_intercept=True, max_iter=None,\n",
       "                                  positive=False, random_state=8050,\n",
       "                                  solver='auto', tol=0.0001))],\n",
       "          verbose=False),\n",
       " 'ridge.pkl.pkl')"
      ]
     },
     "execution_count": 34,
     "metadata": {},
     "output_type": "execute_result"
    }
   ],
   "source": [
    "save_model(ridge, 'ridge.pkl')"
   ]
  },
  {
   "cell_type": "markdown",
   "metadata": {},
   "source": [
    "# Random Forest"
   ]
  },
  {
   "cell_type": "code",
   "execution_count": 35,
   "metadata": {},
   "outputs": [
    {
     "data": {
      "text/html": [],
      "text/plain": [
       "<IPython.core.display.HTML object>"
      ]
     },
     "metadata": {},
     "output_type": "display_data"
    },
    {
     "data": {
      "text/html": [
       "<style type=\"text/css\">\n",
       "#T_6a454_row10_col0, #T_6a454_row10_col1, #T_6a454_row10_col2, #T_6a454_row10_col3, #T_6a454_row10_col4, #T_6a454_row10_col5, #T_6a454_row10_col6 {\n",
       "  background: yellow;\n",
       "}\n",
       "</style>\n",
       "<table id=\"T_6a454\">\n",
       "  <thead>\n",
       "    <tr>\n",
       "      <th class=\"blank level0\" >&nbsp;</th>\n",
       "      <th id=\"T_6a454_level0_col0\" class=\"col_heading level0 col0\" >Accuracy</th>\n",
       "      <th id=\"T_6a454_level0_col1\" class=\"col_heading level0 col1\" >AUC</th>\n",
       "      <th id=\"T_6a454_level0_col2\" class=\"col_heading level0 col2\" >Recall</th>\n",
       "      <th id=\"T_6a454_level0_col3\" class=\"col_heading level0 col3\" >Prec.</th>\n",
       "      <th id=\"T_6a454_level0_col4\" class=\"col_heading level0 col4\" >F1</th>\n",
       "      <th id=\"T_6a454_level0_col5\" class=\"col_heading level0 col5\" >Kappa</th>\n",
       "      <th id=\"T_6a454_level0_col6\" class=\"col_heading level0 col6\" >MCC</th>\n",
       "    </tr>\n",
       "    <tr>\n",
       "      <th class=\"index_name level0\" >Fold</th>\n",
       "      <th class=\"blank col0\" >&nbsp;</th>\n",
       "      <th class=\"blank col1\" >&nbsp;</th>\n",
       "      <th class=\"blank col2\" >&nbsp;</th>\n",
       "      <th class=\"blank col3\" >&nbsp;</th>\n",
       "      <th class=\"blank col4\" >&nbsp;</th>\n",
       "      <th class=\"blank col5\" >&nbsp;</th>\n",
       "      <th class=\"blank col6\" >&nbsp;</th>\n",
       "    </tr>\n",
       "  </thead>\n",
       "  <tbody>\n",
       "    <tr>\n",
       "      <th id=\"T_6a454_level0_row0\" class=\"row_heading level0 row0\" >0</th>\n",
       "      <td id=\"T_6a454_row0_col0\" class=\"data row0 col0\" >0.9775</td>\n",
       "      <td id=\"T_6a454_row0_col1\" class=\"data row0 col1\" >0.9852</td>\n",
       "      <td id=\"T_6a454_row0_col2\" class=\"data row0 col2\" >0.9710</td>\n",
       "      <td id=\"T_6a454_row0_col3\" class=\"data row0 col3\" >0.9838</td>\n",
       "      <td id=\"T_6a454_row0_col4\" class=\"data row0 col4\" >0.9773</td>\n",
       "      <td id=\"T_6a454_row0_col5\" class=\"data row0 col5\" >0.9550</td>\n",
       "      <td id=\"T_6a454_row0_col6\" class=\"data row0 col6\" >0.9551</td>\n",
       "    </tr>\n",
       "    <tr>\n",
       "      <th id=\"T_6a454_level0_row1\" class=\"row_heading level0 row1\" >1</th>\n",
       "      <td id=\"T_6a454_row1_col0\" class=\"data row1 col0\" >0.9783</td>\n",
       "      <td id=\"T_6a454_row1_col1\" class=\"data row1 col1\" >0.9857</td>\n",
       "      <td id=\"T_6a454_row1_col2\" class=\"data row1 col2\" >0.9721</td>\n",
       "      <td id=\"T_6a454_row1_col3\" class=\"data row1 col3\" >0.9843</td>\n",
       "      <td id=\"T_6a454_row1_col4\" class=\"data row1 col4\" >0.9781</td>\n",
       "      <td id=\"T_6a454_row1_col5\" class=\"data row1 col5\" >0.9566</td>\n",
       "      <td id=\"T_6a454_row1_col6\" class=\"data row1 col6\" >0.9566</td>\n",
       "    </tr>\n",
       "    <tr>\n",
       "      <th id=\"T_6a454_level0_row2\" class=\"row_heading level0 row2\" >2</th>\n",
       "      <td id=\"T_6a454_row2_col0\" class=\"data row2 col0\" >0.9777</td>\n",
       "      <td id=\"T_6a454_row2_col1\" class=\"data row2 col1\" >0.9852</td>\n",
       "      <td id=\"T_6a454_row2_col2\" class=\"data row2 col2\" >0.9710</td>\n",
       "      <td id=\"T_6a454_row2_col3\" class=\"data row2 col3\" >0.9843</td>\n",
       "      <td id=\"T_6a454_row2_col4\" class=\"data row2 col4\" >0.9776</td>\n",
       "      <td id=\"T_6a454_row2_col5\" class=\"data row2 col5\" >0.9555</td>\n",
       "      <td id=\"T_6a454_row2_col6\" class=\"data row2 col6\" >0.9556</td>\n",
       "    </tr>\n",
       "    <tr>\n",
       "      <th id=\"T_6a454_level0_row3\" class=\"row_heading level0 row3\" >3</th>\n",
       "      <td id=\"T_6a454_row3_col0\" class=\"data row3 col0\" >0.9783</td>\n",
       "      <td id=\"T_6a454_row3_col1\" class=\"data row3 col1\" >0.9857</td>\n",
       "      <td id=\"T_6a454_row3_col2\" class=\"data row3 col2\" >0.9725</td>\n",
       "      <td id=\"T_6a454_row3_col3\" class=\"data row3 col3\" >0.9839</td>\n",
       "      <td id=\"T_6a454_row3_col4\" class=\"data row3 col4\" >0.9782</td>\n",
       "      <td id=\"T_6a454_row3_col5\" class=\"data row3 col5\" >0.9566</td>\n",
       "      <td id=\"T_6a454_row3_col6\" class=\"data row3 col6\" >0.9567</td>\n",
       "    </tr>\n",
       "    <tr>\n",
       "      <th id=\"T_6a454_level0_row4\" class=\"row_heading level0 row4\" >4</th>\n",
       "      <td id=\"T_6a454_row4_col0\" class=\"data row4 col0\" >0.9778</td>\n",
       "      <td id=\"T_6a454_row4_col1\" class=\"data row4 col1\" >0.9849</td>\n",
       "      <td id=\"T_6a454_row4_col2\" class=\"data row4 col2\" >0.9711</td>\n",
       "      <td id=\"T_6a454_row4_col3\" class=\"data row4 col3\" >0.9842</td>\n",
       "      <td id=\"T_6a454_row4_col4\" class=\"data row4 col4\" >0.9776</td>\n",
       "      <td id=\"T_6a454_row4_col5\" class=\"data row4 col5\" >0.9555</td>\n",
       "      <td id=\"T_6a454_row4_col6\" class=\"data row4 col6\" >0.9556</td>\n",
       "    </tr>\n",
       "    <tr>\n",
       "      <th id=\"T_6a454_level0_row5\" class=\"row_heading level0 row5\" >5</th>\n",
       "      <td id=\"T_6a454_row5_col0\" class=\"data row5 col0\" >0.9781</td>\n",
       "      <td id=\"T_6a454_row5_col1\" class=\"data row5 col1\" >0.9857</td>\n",
       "      <td id=\"T_6a454_row5_col2\" class=\"data row5 col2\" >0.9716</td>\n",
       "      <td id=\"T_6a454_row5_col3\" class=\"data row5 col3\" >0.9844</td>\n",
       "      <td id=\"T_6a454_row5_col4\" class=\"data row5 col4\" >0.9780</td>\n",
       "      <td id=\"T_6a454_row5_col5\" class=\"data row5 col5\" >0.9562</td>\n",
       "      <td id=\"T_6a454_row5_col6\" class=\"data row5 col6\" >0.9563</td>\n",
       "    </tr>\n",
       "    <tr>\n",
       "      <th id=\"T_6a454_level0_row6\" class=\"row_heading level0 row6\" >6</th>\n",
       "      <td id=\"T_6a454_row6_col0\" class=\"data row6 col0\" >0.9785</td>\n",
       "      <td id=\"T_6a454_row6_col1\" class=\"data row6 col1\" >0.9860</td>\n",
       "      <td id=\"T_6a454_row6_col2\" class=\"data row6 col2\" >0.9724</td>\n",
       "      <td id=\"T_6a454_row6_col3\" class=\"data row6 col3\" >0.9845</td>\n",
       "      <td id=\"T_6a454_row6_col4\" class=\"data row6 col4\" >0.9784</td>\n",
       "      <td id=\"T_6a454_row6_col5\" class=\"data row6 col5\" >0.9571</td>\n",
       "      <td id=\"T_6a454_row6_col6\" class=\"data row6 col6\" >0.9572</td>\n",
       "    </tr>\n",
       "    <tr>\n",
       "      <th id=\"T_6a454_level0_row7\" class=\"row_heading level0 row7\" >7</th>\n",
       "      <td id=\"T_6a454_row7_col0\" class=\"data row7 col0\" >0.9781</td>\n",
       "      <td id=\"T_6a454_row7_col1\" class=\"data row7 col1\" >0.9856</td>\n",
       "      <td id=\"T_6a454_row7_col2\" class=\"data row7 col2\" >0.9714</td>\n",
       "      <td id=\"T_6a454_row7_col3\" class=\"data row7 col3\" >0.9845</td>\n",
       "      <td id=\"T_6a454_row7_col4\" class=\"data row7 col4\" >0.9779</td>\n",
       "      <td id=\"T_6a454_row7_col5\" class=\"data row7 col5\" >0.9562</td>\n",
       "      <td id=\"T_6a454_row7_col6\" class=\"data row7 col6\" >0.9562</td>\n",
       "    </tr>\n",
       "    <tr>\n",
       "      <th id=\"T_6a454_level0_row8\" class=\"row_heading level0 row8\" >8</th>\n",
       "      <td id=\"T_6a454_row8_col0\" class=\"data row8 col0\" >0.9783</td>\n",
       "      <td id=\"T_6a454_row8_col1\" class=\"data row8 col1\" >0.9859</td>\n",
       "      <td id=\"T_6a454_row8_col2\" class=\"data row8 col2\" >0.9717</td>\n",
       "      <td id=\"T_6a454_row8_col3\" class=\"data row8 col3\" >0.9847</td>\n",
       "      <td id=\"T_6a454_row8_col4\" class=\"data row8 col4\" >0.9782</td>\n",
       "      <td id=\"T_6a454_row8_col5\" class=\"data row8 col5\" >0.9567</td>\n",
       "      <td id=\"T_6a454_row8_col6\" class=\"data row8 col6\" >0.9568</td>\n",
       "    </tr>\n",
       "    <tr>\n",
       "      <th id=\"T_6a454_level0_row9\" class=\"row_heading level0 row9\" >9</th>\n",
       "      <td id=\"T_6a454_row9_col0\" class=\"data row9 col0\" >0.9776</td>\n",
       "      <td id=\"T_6a454_row9_col1\" class=\"data row9 col1\" >0.9852</td>\n",
       "      <td id=\"T_6a454_row9_col2\" class=\"data row9 col2\" >0.9716</td>\n",
       "      <td id=\"T_6a454_row9_col3\" class=\"data row9 col3\" >0.9833</td>\n",
       "      <td id=\"T_6a454_row9_col4\" class=\"data row9 col4\" >0.9774</td>\n",
       "      <td id=\"T_6a454_row9_col5\" class=\"data row9 col5\" >0.9551</td>\n",
       "      <td id=\"T_6a454_row9_col6\" class=\"data row9 col6\" >0.9552</td>\n",
       "    </tr>\n",
       "    <tr>\n",
       "      <th id=\"T_6a454_level0_row10\" class=\"row_heading level0 row10\" >Mean</th>\n",
       "      <td id=\"T_6a454_row10_col0\" class=\"data row10 col0\" >0.9780</td>\n",
       "      <td id=\"T_6a454_row10_col1\" class=\"data row10 col1\" >0.9855</td>\n",
       "      <td id=\"T_6a454_row10_col2\" class=\"data row10 col2\" >0.9716</td>\n",
       "      <td id=\"T_6a454_row10_col3\" class=\"data row10 col3\" >0.9842</td>\n",
       "      <td id=\"T_6a454_row10_col4\" class=\"data row10 col4\" >0.9779</td>\n",
       "      <td id=\"T_6a454_row10_col5\" class=\"data row10 col5\" >0.9560</td>\n",
       "      <td id=\"T_6a454_row10_col6\" class=\"data row10 col6\" >0.9561</td>\n",
       "    </tr>\n",
       "    <tr>\n",
       "      <th id=\"T_6a454_level0_row11\" class=\"row_heading level0 row11\" >Std</th>\n",
       "      <td id=\"T_6a454_row11_col0\" class=\"data row11 col0\" >0.0003</td>\n",
       "      <td id=\"T_6a454_row11_col1\" class=\"data row11 col1\" >0.0004</td>\n",
       "      <td id=\"T_6a454_row11_col2\" class=\"data row11 col2\" >0.0005</td>\n",
       "      <td id=\"T_6a454_row11_col3\" class=\"data row11 col3\" >0.0004</td>\n",
       "      <td id=\"T_6a454_row11_col4\" class=\"data row11 col4\" >0.0003</td>\n",
       "      <td id=\"T_6a454_row11_col5\" class=\"data row11 col5\" >0.0007</td>\n",
       "      <td id=\"T_6a454_row11_col6\" class=\"data row11 col6\" >0.0007</td>\n",
       "    </tr>\n",
       "  </tbody>\n",
       "</table>\n"
      ],
      "text/plain": [
       "<pandas.io.formats.style.Styler at 0x7fb4406f67a0>"
      ]
     },
     "metadata": {},
     "output_type": "display_data"
    },
    {
     "data": {
      "text/html": [],
      "text/plain": [
       "<IPython.core.display.HTML object>"
      ]
     },
     "metadata": {},
     "output_type": "display_data"
    }
   ],
   "source": [
    "rf = create_model('rf')"
   ]
  },
  {
   "cell_type": "code",
   "execution_count": 36,
   "metadata": {},
   "outputs": [
    {
     "data": {
      "text/html": [],
      "text/plain": [
       "<IPython.core.display.HTML object>"
      ]
     },
     "metadata": {},
     "output_type": "display_data"
    },
    {
     "data": {
      "image/png": "[encoded data removed]",
      "text/plain": [
       "<Figure size 800x550 with 1 Axes>"
      ]
     },
     "metadata": {},
     "output_type": "display_data"
    }
   ],
   "source": [
    "plot_model(rf, plot = 'confusion_matrix')"
   ]
  },
  {
   "cell_type": "code",
   "execution_count": 37,
   "metadata": {},
   "outputs": [
    {
     "data": {
      "text/html": [],
      "text/plain": [
       "<IPython.core.display.HTML object>"
      ]
     },
     "metadata": {},
     "output_type": "display_data"
    },
    {
     "data": {
      "image/png": "[encoded data removed]",
      "text/plain": [
       "<Figure size 800x550 with 1 Axes>"
      ]
     },
     "metadata": {},
     "output_type": "display_data"
    }
   ],
   "source": [
    "plot_model(rf, plot = 'error')"
   ]
  },
  {
   "cell_type": "code",
   "execution_count": 38,
   "metadata": {},
   "outputs": [
    {
     "data": {
      "text/html": [],
      "text/plain": [
       "<IPython.core.display.HTML object>"
      ]
     },
     "metadata": {},
     "output_type": "display_data"
    },
    {
     "data": {
      "text/html": [
       "<div>\n",
       "<style scoped>\n",
       "    .dataframe tbody tr th:only-of-type {\n",
       "        vertical-align: middle;\n",
       "    }\n",
       "\n",
       "    .dataframe tbody tr th {\n",
       "        vertical-align: top;\n",
       "    }\n",
       "\n",
       "    .dataframe thead th {\n",
       "        text-align: right;\n",
       "    }\n",
       "</style>\n",
       "<table border=\"1\" class=\"dataframe\">\n",
       "  <thead>\n",
       "    <tr style=\"text-align: right;\">\n",
       "      <th></th>\n",
       "      <th>Parameters</th>\n",
       "    </tr>\n",
       "  </thead>\n",
       "  <tbody>\n",
       "    <tr>\n",
       "      <th>bootstrap</th>\n",
       "      <td>True</td>\n",
       "    </tr>\n",
       "    <tr>\n",
       "      <th>ccp_alpha</th>\n",
       "      <td>0.0</td>\n",
       "    </tr>\n",
       "    <tr>\n",
       "      <th>class_weight</th>\n",
       "      <td>None</td>\n",
       "    </tr>\n",
       "    <tr>\n",
       "      <th>criterion</th>\n",
       "      <td>gini</td>\n",
       "    </tr>\n",
       "    <tr>\n",
       "      <th>max_depth</th>\n",
       "      <td>None</td>\n",
       "    </tr>\n",
       "    <tr>\n",
       "      <th>max_features</th>\n",
       "      <td>sqrt</td>\n",
       "    </tr>\n",
       "    <tr>\n",
       "      <th>max_leaf_nodes</th>\n",
       "      <td>None</td>\n",
       "    </tr>\n",
       "    <tr>\n",
       "      <th>max_samples</th>\n",
       "      <td>None</td>\n",
       "    </tr>\n",
       "    <tr>\n",
       "      <th>min_impurity_decrease</th>\n",
       "      <td>0.0</td>\n",
       "    </tr>\n",
       "    <tr>\n",
       "      <th>min_samples_leaf</th>\n",
       "      <td>1</td>\n",
       "    </tr>\n",
       "    <tr>\n",
       "      <th>min_samples_split</th>\n",
       "      <td>2</td>\n",
       "    </tr>\n",
       "    <tr>\n",
       "      <th>min_weight_fraction_leaf</th>\n",
       "      <td>0.0</td>\n",
       "    </tr>\n",
       "    <tr>\n",
       "      <th>n_estimators</th>\n",
       "      <td>100</td>\n",
       "    </tr>\n",
       "    <tr>\n",
       "      <th>n_jobs</th>\n",
       "      <td>-1</td>\n",
       "    </tr>\n",
       "    <tr>\n",
       "      <th>oob_score</th>\n",
       "      <td>False</td>\n",
       "    </tr>\n",
       "    <tr>\n",
       "      <th>random_state</th>\n",
       "      <td>8050</td>\n",
       "    </tr>\n",
       "    <tr>\n",
       "      <th>verbose</th>\n",
       "      <td>0</td>\n",
       "    </tr>\n",
       "    <tr>\n",
       "      <th>warm_start</th>\n",
       "      <td>False</td>\n",
       "    </tr>\n",
       "  </tbody>\n",
       "</table>\n",
       "</div>"
      ],
      "text/plain": [
       "                         Parameters\n",
       "bootstrap                      True\n",
       "ccp_alpha                       0.0\n",
       "class_weight                   None\n",
       "criterion                      gini\n",
       "max_depth                      None\n",
       "max_features                   sqrt\n",
       "max_leaf_nodes                 None\n",
       "max_samples                    None\n",
       "min_impurity_decrease           0.0\n",
       "min_samples_leaf                  1\n",
       "min_samples_split                 2\n",
       "min_weight_fraction_leaf        0.0\n",
       "n_estimators                    100\n",
       "n_jobs                           -1\n",
       "oob_score                     False\n",
       "random_state                   8050\n",
       "verbose                           0\n",
       "warm_start                    False"
      ]
     },
     "metadata": {},
     "output_type": "display_data"
    }
   ],
   "source": [
    "plot_model(rf, plot = 'parameter')"
   ]
  },
  {
   "cell_type": "code",
   "execution_count": 39,
   "metadata": {},
   "outputs": [
    {
     "data": {
      "text/html": [
       "<style type=\"text/css\">\n",
       "</style>\n",
       "<table id=\"T_c2dfa\">\n",
       "  <thead>\n",
       "    <tr>\n",
       "      <th class=\"blank level0\" >&nbsp;</th>\n",
       "      <th id=\"T_c2dfa_level0_col0\" class=\"col_heading level0 col0\" >Model</th>\n",
       "      <th id=\"T_c2dfa_level0_col1\" class=\"col_heading level0 col1\" >Accuracy</th>\n",
       "      <th id=\"T_c2dfa_level0_col2\" class=\"col_heading level0 col2\" >AUC</th>\n",
       "      <th id=\"T_c2dfa_level0_col3\" class=\"col_heading level0 col3\" >Recall</th>\n",
       "      <th id=\"T_c2dfa_level0_col4\" class=\"col_heading level0 col4\" >Prec.</th>\n",
       "      <th id=\"T_c2dfa_level0_col5\" class=\"col_heading level0 col5\" >F1</th>\n",
       "      <th id=\"T_c2dfa_level0_col6\" class=\"col_heading level0 col6\" >Kappa</th>\n",
       "      <th id=\"T_c2dfa_level0_col7\" class=\"col_heading level0 col7\" >MCC</th>\n",
       "    </tr>\n",
       "  </thead>\n",
       "  <tbody>\n",
       "    <tr>\n",
       "      <th id=\"T_c2dfa_level0_row0\" class=\"row_heading level0 row0\" >0</th>\n",
       "      <td id=\"T_c2dfa_row0_col0\" class=\"data row0 col0\" >Random Forest Classifier</td>\n",
       "      <td id=\"T_c2dfa_row0_col1\" class=\"data row0 col1\" >0.4906</td>\n",
       "      <td id=\"T_c2dfa_row0_col2\" class=\"data row0 col2\" >0.5086</td>\n",
       "      <td id=\"T_c2dfa_row0_col3\" class=\"data row0 col3\" >0.0009</td>\n",
       "      <td id=\"T_c2dfa_row0_col4\" class=\"data row0 col4\" >0.0436</td>\n",
       "      <td id=\"T_c2dfa_row0_col5\" class=\"data row0 col5\" >0.0018</td>\n",
       "      <td id=\"T_c2dfa_row0_col6\" class=\"data row0 col6\" >-0.0188</td>\n",
       "      <td id=\"T_c2dfa_row0_col7\" class=\"data row0 col7\" >-0.0931</td>\n",
       "    </tr>\n",
       "  </tbody>\n",
       "</table>\n"
      ],
      "text/plain": [
       "<pandas.io.formats.style.Styler at 0x7fb32c196b30>"
      ]
     },
     "metadata": {},
     "output_type": "display_data"
    }
   ],
   "source": [
    "rf_val_pred = predict_model(rf, data=val)"
   ]
  },
  {
   "cell_type": "code",
   "execution_count": 40,
   "metadata": {},
   "outputs": [
    {
     "name": "stdout",
     "output_type": "stream",
     "text": [
      "Transformation Pipeline and Model Successfully Saved\n"
     ]
    },
    {
     "data": {
      "text/plain": [
       "(Pipeline(memory=FastMemory(location=/tmp/joblib),\n",
       "          steps=[('numerical_imputer',\n",
       "                  TransformerWrapper(exclude=None,\n",
       "                                     include=['http://semanticscience.org/resource/SIO_000281',\n",
       "                                              'http://semanticscience.org/resource/SIO_000628',\n",
       "                                              'http://semanticscience.org/resource/SIO_001279',\n",
       "                                              'http://www.semanticweb.org/needed-terms#001',\n",
       "                                              'http://www.semanticweb.org/needed-term...\n",
       "                  RandomForestClassifier(bootstrap=True, ccp_alpha=0.0,\n",
       "                                         class_weight=None, criterion='gini',\n",
       "                                         max_depth=None, max_features='sqrt',\n",
       "                                         max_leaf_nodes=None, max_samples=None,\n",
       "                                         min_impurity_decrease=0.0,\n",
       "                                         min_samples_leaf=1, min_samples_split=2,\n",
       "                                         min_weight_fraction_leaf=0.0,\n",
       "                                         n_estimators=100, n_jobs=-1,\n",
       "                                         oob_score=False, random_state=8050,\n",
       "                                         verbose=0, warm_start=False))],\n",
       "          verbose=False),\n",
       " 'rf.pkl.pkl')"
      ]
     },
     "execution_count": 40,
     "metadata": {},
     "output_type": "execute_result"
    }
   ],
   "source": [
    "save_model(rf, 'rf.pkl')"
   ]
  },
  {
   "cell_type": "markdown",
   "metadata": {},
   "source": [
    "# Quadratic Discriminant Analysis"
   ]
  },
  {
   "cell_type": "code",
   "execution_count": 41,
   "metadata": {},
   "outputs": [
    {
     "data": {
      "text/html": [],
      "text/plain": [
       "<IPython.core.display.HTML object>"
      ]
     },
     "metadata": {},
     "output_type": "display_data"
    },
    {
     "data": {
      "text/html": [
       "<style type=\"text/css\">\n",
       "#T_e64ff_row10_col0, #T_e64ff_row10_col1, #T_e64ff_row10_col2, #T_e64ff_row10_col3, #T_e64ff_row10_col4, #T_e64ff_row10_col5, #T_e64ff_row10_col6 {\n",
       "  background: yellow;\n",
       "}\n",
       "</style>\n",
       "<table id=\"T_e64ff\">\n",
       "  <thead>\n",
       "    <tr>\n",
       "      <th class=\"blank level0\" >&nbsp;</th>\n",
       "      <th id=\"T_e64ff_level0_col0\" class=\"col_heading level0 col0\" >Accuracy</th>\n",
       "      <th id=\"T_e64ff_level0_col1\" class=\"col_heading level0 col1\" >AUC</th>\n",
       "      <th id=\"T_e64ff_level0_col2\" class=\"col_heading level0 col2\" >Recall</th>\n",
       "      <th id=\"T_e64ff_level0_col3\" class=\"col_heading level0 col3\" >Prec.</th>\n",
       "      <th id=\"T_e64ff_level0_col4\" class=\"col_heading level0 col4\" >F1</th>\n",
       "      <th id=\"T_e64ff_level0_col5\" class=\"col_heading level0 col5\" >Kappa</th>\n",
       "      <th id=\"T_e64ff_level0_col6\" class=\"col_heading level0 col6\" >MCC</th>\n",
       "    </tr>\n",
       "    <tr>\n",
       "      <th class=\"index_name level0\" >Fold</th>\n",
       "      <th class=\"blank col0\" >&nbsp;</th>\n",
       "      <th class=\"blank col1\" >&nbsp;</th>\n",
       "      <th class=\"blank col2\" >&nbsp;</th>\n",
       "      <th class=\"blank col3\" >&nbsp;</th>\n",
       "      <th class=\"blank col4\" >&nbsp;</th>\n",
       "      <th class=\"blank col5\" >&nbsp;</th>\n",
       "      <th class=\"blank col6\" >&nbsp;</th>\n",
       "    </tr>\n",
       "  </thead>\n",
       "  <tbody>\n",
       "    <tr>\n",
       "      <th id=\"T_e64ff_level0_row0\" class=\"row_heading level0 row0\" >0</th>\n",
       "      <td id=\"T_e64ff_row0_col0\" class=\"data row0 col0\" >0.9746</td>\n",
       "      <td id=\"T_e64ff_row0_col1\" class=\"data row0 col1\" >0.9771</td>\n",
       "      <td id=\"T_e64ff_row0_col2\" class=\"data row0 col2\" >0.9709</td>\n",
       "      <td id=\"T_e64ff_row0_col3\" class=\"data row0 col3\" >0.9781</td>\n",
       "      <td id=\"T_e64ff_row0_col4\" class=\"data row0 col4\" >0.9745</td>\n",
       "      <td id=\"T_e64ff_row0_col5\" class=\"data row0 col5\" >0.9491</td>\n",
       "      <td id=\"T_e64ff_row0_col6\" class=\"data row0 col6\" >0.9491</td>\n",
       "    </tr>\n",
       "    <tr>\n",
       "      <th id=\"T_e64ff_level0_row1\" class=\"row_heading level0 row1\" >1</th>\n",
       "      <td id=\"T_e64ff_row1_col0\" class=\"data row1 col0\" >0.9751</td>\n",
       "      <td id=\"T_e64ff_row1_col1\" class=\"data row1 col1\" >0.9775</td>\n",
       "      <td id=\"T_e64ff_row1_col2\" class=\"data row1 col2\" >0.9718</td>\n",
       "      <td id=\"T_e64ff_row1_col3\" class=\"data row1 col3\" >0.9783</td>\n",
       "      <td id=\"T_e64ff_row1_col4\" class=\"data row1 col4\" >0.9750</td>\n",
       "      <td id=\"T_e64ff_row1_col5\" class=\"data row1 col5\" >0.9502</td>\n",
       "      <td id=\"T_e64ff_row1_col6\" class=\"data row1 col6\" >0.9502</td>\n",
       "    </tr>\n",
       "    <tr>\n",
       "      <th id=\"T_e64ff_level0_row2\" class=\"row_heading level0 row2\" >2</th>\n",
       "      <td id=\"T_e64ff_row2_col0\" class=\"data row2 col0\" >0.9744</td>\n",
       "      <td id=\"T_e64ff_row2_col1\" class=\"data row2 col1\" >0.9764</td>\n",
       "      <td id=\"T_e64ff_row2_col2\" class=\"data row2 col2\" >0.9707</td>\n",
       "      <td id=\"T_e64ff_row2_col3\" class=\"data row2 col3\" >0.9779</td>\n",
       "      <td id=\"T_e64ff_row2_col4\" class=\"data row2 col4\" >0.9743</td>\n",
       "      <td id=\"T_e64ff_row2_col5\" class=\"data row2 col5\" >0.9488</td>\n",
       "      <td id=\"T_e64ff_row2_col6\" class=\"data row2 col6\" >0.9489</td>\n",
       "    </tr>\n",
       "    <tr>\n",
       "      <th id=\"T_e64ff_level0_row3\" class=\"row_heading level0 row3\" >3</th>\n",
       "      <td id=\"T_e64ff_row3_col0\" class=\"data row3 col0\" >0.9753</td>\n",
       "      <td id=\"T_e64ff_row3_col1\" class=\"data row3 col1\" >0.9775</td>\n",
       "      <td id=\"T_e64ff_row3_col2\" class=\"data row3 col2\" >0.9719</td>\n",
       "      <td id=\"T_e64ff_row3_col3\" class=\"data row3 col3\" >0.9785</td>\n",
       "      <td id=\"T_e64ff_row3_col4\" class=\"data row3 col4\" >0.9752</td>\n",
       "      <td id=\"T_e64ff_row3_col5\" class=\"data row3 col5\" >0.9506</td>\n",
       "      <td id=\"T_e64ff_row3_col6\" class=\"data row3 col6\" >0.9506</td>\n",
       "    </tr>\n",
       "    <tr>\n",
       "      <th id=\"T_e64ff_level0_row4\" class=\"row_heading level0 row4\" >4</th>\n",
       "      <td id=\"T_e64ff_row4_col0\" class=\"data row4 col0\" >0.9745</td>\n",
       "      <td id=\"T_e64ff_row4_col1\" class=\"data row4 col1\" >0.9757</td>\n",
       "      <td id=\"T_e64ff_row4_col2\" class=\"data row4 col2\" >0.9707</td>\n",
       "      <td id=\"T_e64ff_row4_col3\" class=\"data row4 col3\" >0.9782</td>\n",
       "      <td id=\"T_e64ff_row4_col4\" class=\"data row4 col4\" >0.9744</td>\n",
       "      <td id=\"T_e64ff_row4_col5\" class=\"data row4 col5\" >0.9490</td>\n",
       "      <td id=\"T_e64ff_row4_col6\" class=\"data row4 col6\" >0.9490</td>\n",
       "    </tr>\n",
       "    <tr>\n",
       "      <th id=\"T_e64ff_level0_row5\" class=\"row_heading level0 row5\" >5</th>\n",
       "      <td id=\"T_e64ff_row5_col0\" class=\"data row5 col0\" >0.9750</td>\n",
       "      <td id=\"T_e64ff_row5_col1\" class=\"data row5 col1\" >0.9771</td>\n",
       "      <td id=\"T_e64ff_row5_col2\" class=\"data row5 col2\" >0.9716</td>\n",
       "      <td id=\"T_e64ff_row5_col3\" class=\"data row5 col3\" >0.9784</td>\n",
       "      <td id=\"T_e64ff_row5_col4\" class=\"data row5 col4\" >0.9750</td>\n",
       "      <td id=\"T_e64ff_row5_col5\" class=\"data row5 col5\" >0.9501</td>\n",
       "      <td id=\"T_e64ff_row5_col6\" class=\"data row5 col6\" >0.9501</td>\n",
       "    </tr>\n",
       "    <tr>\n",
       "      <th id=\"T_e64ff_level0_row6\" class=\"row_heading level0 row6\" >6</th>\n",
       "      <td id=\"T_e64ff_row6_col0\" class=\"data row6 col0\" >0.9757</td>\n",
       "      <td id=\"T_e64ff_row6_col1\" class=\"data row6 col1\" >0.9781</td>\n",
       "      <td id=\"T_e64ff_row6_col2\" class=\"data row6 col2\" >0.9724</td>\n",
       "      <td id=\"T_e64ff_row6_col3\" class=\"data row6 col3\" >0.9788</td>\n",
       "      <td id=\"T_e64ff_row6_col4\" class=\"data row6 col4\" >0.9756</td>\n",
       "      <td id=\"T_e64ff_row6_col5\" class=\"data row6 col5\" >0.9513</td>\n",
       "      <td id=\"T_e64ff_row6_col6\" class=\"data row6 col6\" >0.9513</td>\n",
       "    </tr>\n",
       "    <tr>\n",
       "      <th id=\"T_e64ff_level0_row7\" class=\"row_heading level0 row7\" >7</th>\n",
       "      <td id=\"T_e64ff_row7_col0\" class=\"data row7 col0\" >0.9751</td>\n",
       "      <td id=\"T_e64ff_row7_col1\" class=\"data row7 col1\" >0.9774</td>\n",
       "      <td id=\"T_e64ff_row7_col2\" class=\"data row7 col2\" >0.9713</td>\n",
       "      <td id=\"T_e64ff_row7_col3\" class=\"data row7 col3\" >0.9788</td>\n",
       "      <td id=\"T_e64ff_row7_col4\" class=\"data row7 col4\" >0.9750</td>\n",
       "      <td id=\"T_e64ff_row7_col5\" class=\"data row7 col5\" >0.9502</td>\n",
       "      <td id=\"T_e64ff_row7_col6\" class=\"data row7 col6\" >0.9503</td>\n",
       "    </tr>\n",
       "    <tr>\n",
       "      <th id=\"T_e64ff_level0_row8\" class=\"row_heading level0 row8\" >8</th>\n",
       "      <td id=\"T_e64ff_row8_col0\" class=\"data row8 col0\" >0.9755</td>\n",
       "      <td id=\"T_e64ff_row8_col1\" class=\"data row8 col1\" >0.9778</td>\n",
       "      <td id=\"T_e64ff_row8_col2\" class=\"data row8 col2\" >0.9713</td>\n",
       "      <td id=\"T_e64ff_row8_col3\" class=\"data row8 col3\" >0.9794</td>\n",
       "      <td id=\"T_e64ff_row8_col4\" class=\"data row8 col4\" >0.9754</td>\n",
       "      <td id=\"T_e64ff_row8_col5\" class=\"data row8 col5\" >0.9509</td>\n",
       "      <td id=\"T_e64ff_row8_col6\" class=\"data row8 col6\" >0.9509</td>\n",
       "    </tr>\n",
       "    <tr>\n",
       "      <th id=\"T_e64ff_level0_row9\" class=\"row_heading level0 row9\" >9</th>\n",
       "      <td id=\"T_e64ff_row9_col0\" class=\"data row9 col0\" >0.9746</td>\n",
       "      <td id=\"T_e64ff_row9_col1\" class=\"data row9 col1\" >0.9769</td>\n",
       "      <td id=\"T_e64ff_row9_col2\" class=\"data row9 col2\" >0.9714</td>\n",
       "      <td id=\"T_e64ff_row9_col3\" class=\"data row9 col3\" >0.9776</td>\n",
       "      <td id=\"T_e64ff_row9_col4\" class=\"data row9 col4\" >0.9745</td>\n",
       "      <td id=\"T_e64ff_row9_col5\" class=\"data row9 col5\" >0.9492</td>\n",
       "      <td id=\"T_e64ff_row9_col6\" class=\"data row9 col6\" >0.9492</td>\n",
       "    </tr>\n",
       "    <tr>\n",
       "      <th id=\"T_e64ff_level0_row10\" class=\"row_heading level0 row10\" >Mean</th>\n",
       "      <td id=\"T_e64ff_row10_col0\" class=\"data row10 col0\" >0.9750</td>\n",
       "      <td id=\"T_e64ff_row10_col1\" class=\"data row10 col1\" >0.9771</td>\n",
       "      <td id=\"T_e64ff_row10_col2\" class=\"data row10 col2\" >0.9714</td>\n",
       "      <td id=\"T_e64ff_row10_col3\" class=\"data row10 col3\" >0.9784</td>\n",
       "      <td id=\"T_e64ff_row10_col4\" class=\"data row10 col4\" >0.9749</td>\n",
       "      <td id=\"T_e64ff_row10_col5\" class=\"data row10 col5\" >0.9499</td>\n",
       "      <td id=\"T_e64ff_row10_col6\" class=\"data row10 col6\" >0.9500</td>\n",
       "    </tr>\n",
       "    <tr>\n",
       "      <th id=\"T_e64ff_level0_row11\" class=\"row_heading level0 row11\" >Std</th>\n",
       "      <td id=\"T_e64ff_row11_col0\" class=\"data row11 col0\" >0.0004</td>\n",
       "      <td id=\"T_e64ff_row11_col1\" class=\"data row11 col1\" >0.0006</td>\n",
       "      <td id=\"T_e64ff_row11_col2\" class=\"data row11 col2\" >0.0005</td>\n",
       "      <td id=\"T_e64ff_row11_col3\" class=\"data row11 col3\" >0.0005</td>\n",
       "      <td id=\"T_e64ff_row11_col4\" class=\"data row11 col4\" >0.0004</td>\n",
       "      <td id=\"T_e64ff_row11_col5\" class=\"data row11 col5\" >0.0008</td>\n",
       "      <td id=\"T_e64ff_row11_col6\" class=\"data row11 col6\" >0.0008</td>\n",
       "    </tr>\n",
       "  </tbody>\n",
       "</table>\n"
      ],
      "text/plain": [
       "<pandas.io.formats.style.Styler at 0x7fb440730ca0>"
      ]
     },
     "metadata": {},
     "output_type": "display_data"
    },
    {
     "data": {
      "text/html": [],
      "text/plain": [
       "<IPython.core.display.HTML object>"
      ]
     },
     "metadata": {},
     "output_type": "display_data"
    }
   ],
   "source": [
    "qda = create_model('qda')"
   ]
  },
  {
   "cell_type": "code",
   "execution_count": 42,
   "metadata": {},
   "outputs": [
    {
     "data": {
      "text/html": [],
      "text/plain": [
       "<IPython.core.display.HTML object>"
      ]
     },
     "metadata": {},
     "output_type": "display_data"
    },
    {
     "data": {
      "image/png": "[encoded data removed]",
      "text/plain": [
       "<Figure size 800x550 with 1 Axes>"
      ]
     },
     "metadata": {},
     "output_type": "display_data"
    }
   ],
   "source": [
    "plot_model(qda, plot = 'confusion_matrix')"
   ]
  },
  {
   "cell_type": "code",
   "execution_count": 43,
   "metadata": {},
   "outputs": [
    {
     "data": {
      "text/html": [],
      "text/plain": [
       "<IPython.core.display.HTML object>"
      ]
     },
     "metadata": {},
     "output_type": "display_data"
    },
    {
     "data": {
      "image/png": "[encoded data removed]",
      "text/plain": [
       "<Figure size 800x550 with 1 Axes>"
      ]
     },
     "metadata": {},
     "output_type": "display_data"
    }
   ],
   "source": [
    "plot_model(qda, plot = 'error')"
   ]
  },
  {
   "cell_type": "code",
   "execution_count": 44,
   "metadata": {},
   "outputs": [
    {
     "data": {
      "text/html": [],
      "text/plain": [
       "<IPython.core.display.HTML object>"
      ]
     },
     "metadata": {},
     "output_type": "display_data"
    },
    {
     "data": {
      "text/html": [
       "<div>\n",
       "<style scoped>\n",
       "    .dataframe tbody tr th:only-of-type {\n",
       "        vertical-align: middle;\n",
       "    }\n",
       "\n",
       "    .dataframe tbody tr th {\n",
       "        vertical-align: top;\n",
       "    }\n",
       "\n",
       "    .dataframe thead th {\n",
       "        text-align: right;\n",
       "    }\n",
       "</style>\n",
       "<table border=\"1\" class=\"dataframe\">\n",
       "  <thead>\n",
       "    <tr style=\"text-align: right;\">\n",
       "      <th></th>\n",
       "      <th>Parameters</th>\n",
       "    </tr>\n",
       "  </thead>\n",
       "  <tbody>\n",
       "    <tr>\n",
       "      <th>priors</th>\n",
       "      <td>None</td>\n",
       "    </tr>\n",
       "    <tr>\n",
       "      <th>reg_param</th>\n",
       "      <td>0.0</td>\n",
       "    </tr>\n",
       "    <tr>\n",
       "      <th>store_covariance</th>\n",
       "      <td>False</td>\n",
       "    </tr>\n",
       "    <tr>\n",
       "      <th>tol</th>\n",
       "      <td>0.0001</td>\n",
       "    </tr>\n",
       "  </tbody>\n",
       "</table>\n",
       "</div>"
      ],
      "text/plain": [
       "                 Parameters\n",
       "priors                 None\n",
       "reg_param               0.0\n",
       "store_covariance      False\n",
       "tol                  0.0001"
      ]
     },
     "metadata": {},
     "output_type": "display_data"
    }
   ],
   "source": [
    "plot_model(qda, plot = 'parameter')"
   ]
  },
  {
   "cell_type": "code",
   "execution_count": 45,
   "metadata": {},
   "outputs": [
    {
     "data": {
      "text/html": [
       "<style type=\"text/css\">\n",
       "</style>\n",
       "<table id=\"T_030f6\">\n",
       "  <thead>\n",
       "    <tr>\n",
       "      <th class=\"blank level0\" >&nbsp;</th>\n",
       "      <th id=\"T_030f6_level0_col0\" class=\"col_heading level0 col0\" >Model</th>\n",
       "      <th id=\"T_030f6_level0_col1\" class=\"col_heading level0 col1\" >Accuracy</th>\n",
       "      <th id=\"T_030f6_level0_col2\" class=\"col_heading level0 col2\" >AUC</th>\n",
       "      <th id=\"T_030f6_level0_col3\" class=\"col_heading level0 col3\" >Recall</th>\n",
       "      <th id=\"T_030f6_level0_col4\" class=\"col_heading level0 col4\" >Prec.</th>\n",
       "      <th id=\"T_030f6_level0_col5\" class=\"col_heading level0 col5\" >F1</th>\n",
       "      <th id=\"T_030f6_level0_col6\" class=\"col_heading level0 col6\" >Kappa</th>\n",
       "      <th id=\"T_030f6_level0_col7\" class=\"col_heading level0 col7\" >MCC</th>\n",
       "    </tr>\n",
       "  </thead>\n",
       "  <tbody>\n",
       "    <tr>\n",
       "      <th id=\"T_030f6_level0_row0\" class=\"row_heading level0 row0\" >0</th>\n",
       "      <td id=\"T_030f6_row0_col0\" class=\"data row0 col0\" >Quadratic Discriminant Analysis</td>\n",
       "      <td id=\"T_030f6_row0_col1\" class=\"data row0 col1\" >0.4868</td>\n",
       "      <td id=\"T_030f6_row0_col2\" class=\"data row0 col2\" >0.4154</td>\n",
       "      <td id=\"T_030f6_row0_col3\" class=\"data row0 col3\" >0.0074</td>\n",
       "      <td id=\"T_030f6_row0_col4\" class=\"data row0 col4\" >0.1793</td>\n",
       "      <td id=\"T_030f6_row0_col5\" class=\"data row0 col5\" >0.0142</td>\n",
       "      <td id=\"T_030f6_row0_col6\" class=\"data row0 col6\" >-0.0265</td>\n",
       "      <td id=\"T_030f6_row0_col7\" class=\"data row0 col7\" >-0.0932</td>\n",
       "    </tr>\n",
       "  </tbody>\n",
       "</table>\n"
      ],
      "text/plain": [
       "<pandas.io.formats.style.Styler at 0x7fb3deea4bb0>"
      ]
     },
     "metadata": {},
     "output_type": "display_data"
    }
   ],
   "source": [
    "qda_val_pred = predict_model(qda, data=val)"
   ]
  },
  {
   "cell_type": "code",
   "execution_count": 46,
   "metadata": {},
   "outputs": [
    {
     "name": "stdout",
     "output_type": "stream",
     "text": [
      "Transformation Pipeline and Model Successfully Saved\n"
     ]
    },
    {
     "data": {
      "text/plain": [
       "(Pipeline(memory=FastMemory(location=/tmp/joblib),\n",
       "          steps=[('numerical_imputer',\n",
       "                  TransformerWrapper(exclude=None,\n",
       "                                     include=['http://semanticscience.org/resource/SIO_000281',\n",
       "                                              'http://semanticscience.org/resource/SIO_000628',\n",
       "                                              'http://semanticscience.org/resource/SIO_001279',\n",
       "                                              'http://www.semanticweb.org/needed-terms#001',\n",
       "                                              'http://www.semanticweb.org/needed-term...\n",
       "                                                               keep_empty_features=False,\n",
       "                                                               missing_values=nan,\n",
       "                                                               strategy='most_frequent',\n",
       "                                                               verbose='deprecated'))),\n",
       "                 ('clean_column_names',\n",
       "                  TransformerWrapper(exclude=None, include=None,\n",
       "                                     transformer=CleanColumnNames(match='[\\\\]\\\\[\\\\,\\\\{\\\\}\\\\\"\\\\:]+'))),\n",
       "                 ('trained_model',\n",
       "                  QuadraticDiscriminantAnalysis(priors=None, reg_param=0.0,\n",
       "                                                store_covariance=False,\n",
       "                                                tol=0.0001))],\n",
       "          verbose=False),\n",
       " 'qda.pkl.pkl')"
      ]
     },
     "execution_count": 46,
     "metadata": {},
     "output_type": "execute_result"
    }
   ],
   "source": [
    "save_model(qda, 'qda.pkl')"
   ]
  },
  {
   "cell_type": "markdown",
   "metadata": {},
   "source": [
    "# Linear Discriminant Analysis"
   ]
  },
  {
   "cell_type": "code",
   "execution_count": 47,
   "metadata": {},
   "outputs": [
    {
     "data": {
      "text/html": [],
      "text/plain": [
       "<IPython.core.display.HTML object>"
      ]
     },
     "metadata": {},
     "output_type": "display_data"
    },
    {
     "data": {
      "text/html": [
       "<style type=\"text/css\">\n",
       "#T_f4ee7_row10_col0, #T_f4ee7_row10_col1, #T_f4ee7_row10_col2, #T_f4ee7_row10_col3, #T_f4ee7_row10_col4, #T_f4ee7_row10_col5, #T_f4ee7_row10_col6 {\n",
       "  background: yellow;\n",
       "}\n",
       "</style>\n",
       "<table id=\"T_f4ee7\">\n",
       "  <thead>\n",
       "    <tr>\n",
       "      <th class=\"blank level0\" >&nbsp;</th>\n",
       "      <th id=\"T_f4ee7_level0_col0\" class=\"col_heading level0 col0\" >Accuracy</th>\n",
       "      <th id=\"T_f4ee7_level0_col1\" class=\"col_heading level0 col1\" >AUC</th>\n",
       "      <th id=\"T_f4ee7_level0_col2\" class=\"col_heading level0 col2\" >Recall</th>\n",
       "      <th id=\"T_f4ee7_level0_col3\" class=\"col_heading level0 col3\" >Prec.</th>\n",
       "      <th id=\"T_f4ee7_level0_col4\" class=\"col_heading level0 col4\" >F1</th>\n",
       "      <th id=\"T_f4ee7_level0_col5\" class=\"col_heading level0 col5\" >Kappa</th>\n",
       "      <th id=\"T_f4ee7_level0_col6\" class=\"col_heading level0 col6\" >MCC</th>\n",
       "    </tr>\n",
       "    <tr>\n",
       "      <th class=\"index_name level0\" >Fold</th>\n",
       "      <th class=\"blank col0\" >&nbsp;</th>\n",
       "      <th class=\"blank col1\" >&nbsp;</th>\n",
       "      <th class=\"blank col2\" >&nbsp;</th>\n",
       "      <th class=\"blank col3\" >&nbsp;</th>\n",
       "      <th class=\"blank col4\" >&nbsp;</th>\n",
       "      <th class=\"blank col5\" >&nbsp;</th>\n",
       "      <th class=\"blank col6\" >&nbsp;</th>\n",
       "    </tr>\n",
       "  </thead>\n",
       "  <tbody>\n",
       "    <tr>\n",
       "      <th id=\"T_f4ee7_level0_row0\" class=\"row_heading level0 row0\" >0</th>\n",
       "      <td id=\"T_f4ee7_row0_col0\" class=\"data row0 col0\" >0.9754</td>\n",
       "      <td id=\"T_f4ee7_row0_col1\" class=\"data row0 col1\" >0.9789</td>\n",
       "      <td id=\"T_f4ee7_row0_col2\" class=\"data row0 col2\" >0.9717</td>\n",
       "      <td id=\"T_f4ee7_row0_col3\" class=\"data row0 col3\" >0.9789</td>\n",
       "      <td id=\"T_f4ee7_row0_col4\" class=\"data row0 col4\" >0.9753</td>\n",
       "      <td id=\"T_f4ee7_row0_col5\" class=\"data row0 col5\" >0.9508</td>\n",
       "      <td id=\"T_f4ee7_row0_col6\" class=\"data row0 col6\" >0.9508</td>\n",
       "    </tr>\n",
       "    <tr>\n",
       "      <th id=\"T_f4ee7_level0_row1\" class=\"row_heading level0 row1\" >1</th>\n",
       "      <td id=\"T_f4ee7_row1_col0\" class=\"data row1 col0\" >0.9758</td>\n",
       "      <td id=\"T_f4ee7_row1_col1\" class=\"data row1 col1\" >0.9798</td>\n",
       "      <td id=\"T_f4ee7_row1_col2\" class=\"data row1 col2\" >0.9725</td>\n",
       "      <td id=\"T_f4ee7_row1_col3\" class=\"data row1 col3\" >0.9790</td>\n",
       "      <td id=\"T_f4ee7_row1_col4\" class=\"data row1 col4\" >0.9757</td>\n",
       "      <td id=\"T_f4ee7_row1_col5\" class=\"data row1 col5\" >0.9516</td>\n",
       "      <td id=\"T_f4ee7_row1_col6\" class=\"data row1 col6\" >0.9516</td>\n",
       "    </tr>\n",
       "    <tr>\n",
       "      <th id=\"T_f4ee7_level0_row2\" class=\"row_heading level0 row2\" >2</th>\n",
       "      <td id=\"T_f4ee7_row2_col0\" class=\"data row2 col0\" >0.9751</td>\n",
       "      <td id=\"T_f4ee7_row2_col1\" class=\"data row2 col1\" >0.9787</td>\n",
       "      <td id=\"T_f4ee7_row2_col2\" class=\"data row2 col2\" >0.9711</td>\n",
       "      <td id=\"T_f4ee7_row2_col3\" class=\"data row2 col3\" >0.9790</td>\n",
       "      <td id=\"T_f4ee7_row2_col4\" class=\"data row2 col4\" >0.9750</td>\n",
       "      <td id=\"T_f4ee7_row2_col5\" class=\"data row2 col5\" >0.9502</td>\n",
       "      <td id=\"T_f4ee7_row2_col6\" class=\"data row2 col6\" >0.9503</td>\n",
       "    </tr>\n",
       "    <tr>\n",
       "      <th id=\"T_f4ee7_level0_row3\" class=\"row_heading level0 row3\" >3</th>\n",
       "      <td id=\"T_f4ee7_row3_col0\" class=\"data row3 col0\" >0.9760</td>\n",
       "      <td id=\"T_f4ee7_row3_col1\" class=\"data row3 col1\" >0.9794</td>\n",
       "      <td id=\"T_f4ee7_row3_col2\" class=\"data row3 col2\" >0.9727</td>\n",
       "      <td id=\"T_f4ee7_row3_col3\" class=\"data row3 col3\" >0.9792</td>\n",
       "      <td id=\"T_f4ee7_row3_col4\" class=\"data row3 col4\" >0.9759</td>\n",
       "      <td id=\"T_f4ee7_row3_col5\" class=\"data row3 col5\" >0.9520</td>\n",
       "      <td id=\"T_f4ee7_row3_col6\" class=\"data row3 col6\" >0.9521</td>\n",
       "    </tr>\n",
       "    <tr>\n",
       "      <th id=\"T_f4ee7_level0_row4\" class=\"row_heading level0 row4\" >4</th>\n",
       "      <td id=\"T_f4ee7_row4_col0\" class=\"data row4 col0\" >0.9754</td>\n",
       "      <td id=\"T_f4ee7_row4_col1\" class=\"data row4 col1\" >0.9782</td>\n",
       "      <td id=\"T_f4ee7_row4_col2\" class=\"data row4 col2\" >0.9715</td>\n",
       "      <td id=\"T_f4ee7_row4_col3\" class=\"data row4 col3\" >0.9791</td>\n",
       "      <td id=\"T_f4ee7_row4_col4\" class=\"data row4 col4\" >0.9753</td>\n",
       "      <td id=\"T_f4ee7_row4_col5\" class=\"data row4 col5\" >0.9508</td>\n",
       "      <td id=\"T_f4ee7_row4_col6\" class=\"data row4 col6\" >0.9508</td>\n",
       "    </tr>\n",
       "    <tr>\n",
       "      <th id=\"T_f4ee7_level0_row5\" class=\"row_heading level0 row5\" >5</th>\n",
       "      <td id=\"T_f4ee7_row5_col0\" class=\"data row5 col0\" >0.9755</td>\n",
       "      <td id=\"T_f4ee7_row5_col1\" class=\"data row5 col1\" >0.9792</td>\n",
       "      <td id=\"T_f4ee7_row5_col2\" class=\"data row5 col2\" >0.9720</td>\n",
       "      <td id=\"T_f4ee7_row5_col3\" class=\"data row5 col3\" >0.9789</td>\n",
       "      <td id=\"T_f4ee7_row5_col4\" class=\"data row5 col4\" >0.9754</td>\n",
       "      <td id=\"T_f4ee7_row5_col5\" class=\"data row5 col5\" >0.9510</td>\n",
       "      <td id=\"T_f4ee7_row5_col6\" class=\"data row5 col6\" >0.9510</td>\n",
       "    </tr>\n",
       "    <tr>\n",
       "      <th id=\"T_f4ee7_level0_row6\" class=\"row_heading level0 row6\" >6</th>\n",
       "      <td id=\"T_f4ee7_row6_col0\" class=\"data row6 col0\" >0.9760</td>\n",
       "      <td id=\"T_f4ee7_row6_col1\" class=\"data row6 col1\" >0.9799</td>\n",
       "      <td id=\"T_f4ee7_row6_col2\" class=\"data row6 col2\" >0.9724</td>\n",
       "      <td id=\"T_f4ee7_row6_col3\" class=\"data row6 col3\" >0.9794</td>\n",
       "      <td id=\"T_f4ee7_row6_col4\" class=\"data row6 col4\" >0.9759</td>\n",
       "      <td id=\"T_f4ee7_row6_col5\" class=\"data row6 col5\" >0.9520</td>\n",
       "      <td id=\"T_f4ee7_row6_col6\" class=\"data row6 col6\" >0.9520</td>\n",
       "    </tr>\n",
       "    <tr>\n",
       "      <th id=\"T_f4ee7_level0_row7\" class=\"row_heading level0 row7\" >7</th>\n",
       "      <td id=\"T_f4ee7_row7_col0\" class=\"data row7 col0\" >0.9759</td>\n",
       "      <td id=\"T_f4ee7_row7_col1\" class=\"data row7 col1\" >0.9795</td>\n",
       "      <td id=\"T_f4ee7_row7_col2\" class=\"data row7 col2\" >0.9720</td>\n",
       "      <td id=\"T_f4ee7_row7_col3\" class=\"data row7 col3\" >0.9796</td>\n",
       "      <td id=\"T_f4ee7_row7_col4\" class=\"data row7 col4\" >0.9758</td>\n",
       "      <td id=\"T_f4ee7_row7_col5\" class=\"data row7 col5\" >0.9518</td>\n",
       "      <td id=\"T_f4ee7_row7_col6\" class=\"data row7 col6\" >0.9518</td>\n",
       "    </tr>\n",
       "    <tr>\n",
       "      <th id=\"T_f4ee7_level0_row8\" class=\"row_heading level0 row8\" >8</th>\n",
       "      <td id=\"T_f4ee7_row8_col0\" class=\"data row8 col0\" >0.9760</td>\n",
       "      <td id=\"T_f4ee7_row8_col1\" class=\"data row8 col1\" >0.9796</td>\n",
       "      <td id=\"T_f4ee7_row8_col2\" class=\"data row8 col2\" >0.9717</td>\n",
       "      <td id=\"T_f4ee7_row8_col3\" class=\"data row8 col3\" >0.9801</td>\n",
       "      <td id=\"T_f4ee7_row8_col4\" class=\"data row8 col4\" >0.9759</td>\n",
       "      <td id=\"T_f4ee7_row8_col5\" class=\"data row8 col5\" >0.9520</td>\n",
       "      <td id=\"T_f4ee7_row8_col6\" class=\"data row8 col6\" >0.9520</td>\n",
       "    </tr>\n",
       "    <tr>\n",
       "      <th id=\"T_f4ee7_level0_row9\" class=\"row_heading level0 row9\" >9</th>\n",
       "      <td id=\"T_f4ee7_row9_col0\" class=\"data row9 col0\" >0.9752</td>\n",
       "      <td id=\"T_f4ee7_row9_col1\" class=\"data row9 col1\" >0.9790</td>\n",
       "      <td id=\"T_f4ee7_row9_col2\" class=\"data row9 col2\" >0.9718</td>\n",
       "      <td id=\"T_f4ee7_row9_col3\" class=\"data row9 col3\" >0.9785</td>\n",
       "      <td id=\"T_f4ee7_row9_col4\" class=\"data row9 col4\" >0.9751</td>\n",
       "      <td id=\"T_f4ee7_row9_col5\" class=\"data row9 col5\" >0.9504</td>\n",
       "      <td id=\"T_f4ee7_row9_col6\" class=\"data row9 col6\" >0.9504</td>\n",
       "    </tr>\n",
       "    <tr>\n",
       "      <th id=\"T_f4ee7_level0_row10\" class=\"row_heading level0 row10\" >Mean</th>\n",
       "      <td id=\"T_f4ee7_row10_col0\" class=\"data row10 col0\" >0.9756</td>\n",
       "      <td id=\"T_f4ee7_row10_col1\" class=\"data row10 col1\" >0.9792</td>\n",
       "      <td id=\"T_f4ee7_row10_col2\" class=\"data row10 col2\" >0.9719</td>\n",
       "      <td id=\"T_f4ee7_row10_col3\" class=\"data row10 col3\" >0.9792</td>\n",
       "      <td id=\"T_f4ee7_row10_col4\" class=\"data row10 col4\" >0.9755</td>\n",
       "      <td id=\"T_f4ee7_row10_col5\" class=\"data row10 col5\" >0.9513</td>\n",
       "      <td id=\"T_f4ee7_row10_col6\" class=\"data row10 col6\" >0.9513</td>\n",
       "    </tr>\n",
       "    <tr>\n",
       "      <th id=\"T_f4ee7_level0_row11\" class=\"row_heading level0 row11\" >Std</th>\n",
       "      <td id=\"T_f4ee7_row11_col0\" class=\"data row11 col0\" >0.0003</td>\n",
       "      <td id=\"T_f4ee7_row11_col1\" class=\"data row11 col1\" >0.0005</td>\n",
       "      <td id=\"T_f4ee7_row11_col2\" class=\"data row11 col2\" >0.0005</td>\n",
       "      <td id=\"T_f4ee7_row11_col3\" class=\"data row11 col3\" >0.0004</td>\n",
       "      <td id=\"T_f4ee7_row11_col4\" class=\"data row11 col4\" >0.0003</td>\n",
       "      <td id=\"T_f4ee7_row11_col5\" class=\"data row11 col5\" >0.0007</td>\n",
       "      <td id=\"T_f4ee7_row11_col6\" class=\"data row11 col6\" >0.0007</td>\n",
       "    </tr>\n",
       "  </tbody>\n",
       "</table>\n"
      ],
      "text/plain": [
       "<pandas.io.formats.style.Styler at 0x7fb3deea6bc0>"
      ]
     },
     "metadata": {},
     "output_type": "display_data"
    },
    {
     "data": {
      "text/html": [],
      "text/plain": [
       "<IPython.core.display.HTML object>"
      ]
     },
     "metadata": {},
     "output_type": "display_data"
    }
   ],
   "source": [
    "lda = create_model('lda')"
   ]
  },
  {
   "cell_type": "code",
   "execution_count": 48,
   "metadata": {},
   "outputs": [
    {
     "data": {
      "text/html": [],
      "text/plain": [
       "<IPython.core.display.HTML object>"
      ]
     },
     "metadata": {},
     "output_type": "display_data"
    },
    {
     "data": {
      "image/png": "[encoded data removed]",
      "text/plain": [
       "<Figure size 800x550 with 1 Axes>"
      ]
     },
     "metadata": {},
     "output_type": "display_data"
    }
   ],
   "source": [
    "plot_model(lda, plot = 'confusion_matrix')"
   ]
  },
  {
   "cell_type": "code",
   "execution_count": 49,
   "metadata": {},
   "outputs": [
    {
     "data": {
      "text/html": [],
      "text/plain": [
       "<IPython.core.display.HTML object>"
      ]
     },
     "metadata": {},
     "output_type": "display_data"
    },
    {
     "data": {
      "image/png": "[encoded data removed]",
      "text/plain": [
       "<Figure size 800x550 with 1 Axes>"
      ]
     },
     "metadata": {},
     "output_type": "display_data"
    }
   ],
   "source": [
    "plot_model(lda, plot = 'error')"
   ]
  },
  {
   "cell_type": "code",
   "execution_count": 50,
   "metadata": {},
   "outputs": [
    {
     "data": {
      "text/html": [],
      "text/plain": [
       "<IPython.core.display.HTML object>"
      ]
     },
     "metadata": {},
     "output_type": "display_data"
    },
    {
     "data": {
      "text/html": [
       "<div>\n",
       "<style scoped>\n",
       "    .dataframe tbody tr th:only-of-type {\n",
       "        vertical-align: middle;\n",
       "    }\n",
       "\n",
       "    .dataframe tbody tr th {\n",
       "        vertical-align: top;\n",
       "    }\n",
       "\n",
       "    .dataframe thead th {\n",
       "        text-align: right;\n",
       "    }\n",
       "</style>\n",
       "<table border=\"1\" class=\"dataframe\">\n",
       "  <thead>\n",
       "    <tr style=\"text-align: right;\">\n",
       "      <th></th>\n",
       "      <th>Parameters</th>\n",
       "    </tr>\n",
       "  </thead>\n",
       "  <tbody>\n",
       "    <tr>\n",
       "      <th>covariance_estimator</th>\n",
       "      <td>None</td>\n",
       "    </tr>\n",
       "    <tr>\n",
       "      <th>n_components</th>\n",
       "      <td>None</td>\n",
       "    </tr>\n",
       "    <tr>\n",
       "      <th>priors</th>\n",
       "      <td>None</td>\n",
       "    </tr>\n",
       "    <tr>\n",
       "      <th>shrinkage</th>\n",
       "      <td>None</td>\n",
       "    </tr>\n",
       "    <tr>\n",
       "      <th>solver</th>\n",
       "      <td>svd</td>\n",
       "    </tr>\n",
       "    <tr>\n",
       "      <th>store_covariance</th>\n",
       "      <td>False</td>\n",
       "    </tr>\n",
       "    <tr>\n",
       "      <th>tol</th>\n",
       "      <td>0.0001</td>\n",
       "    </tr>\n",
       "  </tbody>\n",
       "</table>\n",
       "</div>"
      ],
      "text/plain": [
       "                     Parameters\n",
       "covariance_estimator       None\n",
       "n_components               None\n",
       "priors                     None\n",
       "shrinkage                  None\n",
       "solver                      svd\n",
       "store_covariance          False\n",
       "tol                      0.0001"
      ]
     },
     "metadata": {},
     "output_type": "display_data"
    }
   ],
   "source": [
    "plot_model(lda, plot = 'parameter')"
   ]
  },
  {
   "cell_type": "code",
   "execution_count": 51,
   "metadata": {},
   "outputs": [
    {
     "data": {
      "text/html": [
       "<style type=\"text/css\">\n",
       "</style>\n",
       "<table id=\"T_f18d2\">\n",
       "  <thead>\n",
       "    <tr>\n",
       "      <th class=\"blank level0\" >&nbsp;</th>\n",
       "      <th id=\"T_f18d2_level0_col0\" class=\"col_heading level0 col0\" >Model</th>\n",
       "      <th id=\"T_f18d2_level0_col1\" class=\"col_heading level0 col1\" >Accuracy</th>\n",
       "      <th id=\"T_f18d2_level0_col2\" class=\"col_heading level0 col2\" >AUC</th>\n",
       "      <th id=\"T_f18d2_level0_col3\" class=\"col_heading level0 col3\" >Recall</th>\n",
       "      <th id=\"T_f18d2_level0_col4\" class=\"col_heading level0 col4\" >Prec.</th>\n",
       "      <th id=\"T_f18d2_level0_col5\" class=\"col_heading level0 col5\" >F1</th>\n",
       "      <th id=\"T_f18d2_level0_col6\" class=\"col_heading level0 col6\" >Kappa</th>\n",
       "      <th id=\"T_f18d2_level0_col7\" class=\"col_heading level0 col7\" >MCC</th>\n",
       "    </tr>\n",
       "  </thead>\n",
       "  <tbody>\n",
       "    <tr>\n",
       "      <th id=\"T_f18d2_level0_row0\" class=\"row_heading level0 row0\" >0</th>\n",
       "      <td id=\"T_f18d2_row0_col0\" class=\"data row0 col0\" >Linear Discriminant Analysis</td>\n",
       "      <td id=\"T_f18d2_row0_col1\" class=\"data row0 col1\" >0.4862</td>\n",
       "      <td id=\"T_f18d2_row0_col2\" class=\"data row0 col2\" >0.4189</td>\n",
       "      <td id=\"T_f18d2_row0_col3\" class=\"data row0 col3\" >0.0020</td>\n",
       "      <td id=\"T_f18d2_row0_col4\" class=\"data row0 col4\" >0.0644</td>\n",
       "      <td id=\"T_f18d2_row0_col5\" class=\"data row0 col5\" >0.0040</td>\n",
       "      <td id=\"T_f18d2_row0_col6\" class=\"data row0 col6\" >-0.0276</td>\n",
       "      <td id=\"T_f18d2_row0_col7\" class=\"data row0 col7\" >-0.1106</td>\n",
       "    </tr>\n",
       "  </tbody>\n",
       "</table>\n"
      ],
      "text/plain": [
       "<pandas.io.formats.style.Styler at 0x7fb4406f6920>"
      ]
     },
     "metadata": {},
     "output_type": "display_data"
    }
   ],
   "source": [
    "lda_val_pred = predict_model(lda, data=val)"
   ]
  },
  {
   "cell_type": "code",
   "execution_count": 52,
   "metadata": {},
   "outputs": [
    {
     "name": "stdout",
     "output_type": "stream",
     "text": [
      "Transformation Pipeline and Model Successfully Saved\n"
     ]
    },
    {
     "data": {
      "text/plain": [
       "(Pipeline(memory=FastMemory(location=/tmp/joblib),\n",
       "          steps=[('numerical_imputer',\n",
       "                  TransformerWrapper(exclude=None,\n",
       "                                     include=['http://semanticscience.org/resource/SIO_000281',\n",
       "                                              'http://semanticscience.org/resource/SIO_000628',\n",
       "                                              'http://semanticscience.org/resource/SIO_001279',\n",
       "                                              'http://www.semanticweb.org/needed-terms#001',\n",
       "                                              'http://www.semanticweb.org/needed-term...\n",
       "                                                               strategy='most_frequent',\n",
       "                                                               verbose='deprecated'))),\n",
       "                 ('clean_column_names',\n",
       "                  TransformerWrapper(exclude=None, include=None,\n",
       "                                     transformer=CleanColumnNames(match='[\\\\]\\\\[\\\\,\\\\{\\\\}\\\\\"\\\\:]+'))),\n",
       "                 ('trained_model',\n",
       "                  LinearDiscriminantAnalysis(covariance_estimator=None,\n",
       "                                             n_components=None, priors=None,\n",
       "                                             shrinkage=None, solver='svd',\n",
       "                                             store_covariance=False,\n",
       "                                             tol=0.0001))],\n",
       "          verbose=False),\n",
       " 'lda.pkl.pkl')"
      ]
     },
     "execution_count": 52,
     "metadata": {},
     "output_type": "execute_result"
    }
   ],
   "source": [
    "save_model(lda, 'lda.pkl')"
   ]
  },
  {
   "cell_type": "markdown",
   "metadata": {},
   "source": [
    "# Extra Trees"
   ]
  },
  {
   "cell_type": "code",
   "execution_count": 53,
   "metadata": {},
   "outputs": [
    {
     "data": {
      "text/html": [],
      "text/plain": [
       "<IPython.core.display.HTML object>"
      ]
     },
     "metadata": {},
     "output_type": "display_data"
    },
    {
     "data": {
      "text/html": [
       "<style type=\"text/css\">\n",
       "#T_b73c9_row10_col0, #T_b73c9_row10_col1, #T_b73c9_row10_col2, #T_b73c9_row10_col3, #T_b73c9_row10_col4, #T_b73c9_row10_col5, #T_b73c9_row10_col6 {\n",
       "  background: yellow;\n",
       "}\n",
       "</style>\n",
       "<table id=\"T_b73c9\">\n",
       "  <thead>\n",
       "    <tr>\n",
       "      <th class=\"blank level0\" >&nbsp;</th>\n",
       "      <th id=\"T_b73c9_level0_col0\" class=\"col_heading level0 col0\" >Accuracy</th>\n",
       "      <th id=\"T_b73c9_level0_col1\" class=\"col_heading level0 col1\" >AUC</th>\n",
       "      <th id=\"T_b73c9_level0_col2\" class=\"col_heading level0 col2\" >Recall</th>\n",
       "      <th id=\"T_b73c9_level0_col3\" class=\"col_heading level0 col3\" >Prec.</th>\n",
       "      <th id=\"T_b73c9_level0_col4\" class=\"col_heading level0 col4\" >F1</th>\n",
       "      <th id=\"T_b73c9_level0_col5\" class=\"col_heading level0 col5\" >Kappa</th>\n",
       "      <th id=\"T_b73c9_level0_col6\" class=\"col_heading level0 col6\" >MCC</th>\n",
       "    </tr>\n",
       "    <tr>\n",
       "      <th class=\"index_name level0\" >Fold</th>\n",
       "      <th class=\"blank col0\" >&nbsp;</th>\n",
       "      <th class=\"blank col1\" >&nbsp;</th>\n",
       "      <th class=\"blank col2\" >&nbsp;</th>\n",
       "      <th class=\"blank col3\" >&nbsp;</th>\n",
       "      <th class=\"blank col4\" >&nbsp;</th>\n",
       "      <th class=\"blank col5\" >&nbsp;</th>\n",
       "      <th class=\"blank col6\" >&nbsp;</th>\n",
       "    </tr>\n",
       "  </thead>\n",
       "  <tbody>\n",
       "    <tr>\n",
       "      <th id=\"T_b73c9_level0_row0\" class=\"row_heading level0 row0\" >0</th>\n",
       "      <td id=\"T_b73c9_row0_col0\" class=\"data row0 col0\" >0.9766</td>\n",
       "      <td id=\"T_b73c9_row0_col1\" class=\"data row0 col1\" >0.9881</td>\n",
       "      <td id=\"T_b73c9_row0_col2\" class=\"data row0 col2\" >0.9699</td>\n",
       "      <td id=\"T_b73c9_row0_col3\" class=\"data row0 col3\" >0.9831</td>\n",
       "      <td id=\"T_b73c9_row0_col4\" class=\"data row0 col4\" >0.9765</td>\n",
       "      <td id=\"T_b73c9_row0_col5\" class=\"data row0 col5\" >0.9533</td>\n",
       "      <td id=\"T_b73c9_row0_col6\" class=\"data row0 col6\" >0.9534</td>\n",
       "    </tr>\n",
       "    <tr>\n",
       "      <th id=\"T_b73c9_level0_row1\" class=\"row_heading level0 row1\" >1</th>\n",
       "      <td id=\"T_b73c9_row1_col0\" class=\"data row1 col0\" >0.9773</td>\n",
       "      <td id=\"T_b73c9_row1_col1\" class=\"data row1 col1\" >0.9886</td>\n",
       "      <td id=\"T_b73c9_row1_col2\" class=\"data row1 col2\" >0.9709</td>\n",
       "      <td id=\"T_b73c9_row1_col3\" class=\"data row1 col3\" >0.9835</td>\n",
       "      <td id=\"T_b73c9_row1_col4\" class=\"data row1 col4\" >0.9772</td>\n",
       "      <td id=\"T_b73c9_row1_col5\" class=\"data row1 col5\" >0.9547</td>\n",
       "      <td id=\"T_b73c9_row1_col6\" class=\"data row1 col6\" >0.9548</td>\n",
       "    </tr>\n",
       "    <tr>\n",
       "      <th id=\"T_b73c9_level0_row2\" class=\"row_heading level0 row2\" >2</th>\n",
       "      <td id=\"T_b73c9_row2_col0\" class=\"data row2 col0\" >0.9767</td>\n",
       "      <td id=\"T_b73c9_row2_col1\" class=\"data row2 col1\" >0.9880</td>\n",
       "      <td id=\"T_b73c9_row2_col2\" class=\"data row2 col2\" >0.9698</td>\n",
       "      <td id=\"T_b73c9_row2_col3\" class=\"data row2 col3\" >0.9834</td>\n",
       "      <td id=\"T_b73c9_row2_col4\" class=\"data row2 col4\" >0.9766</td>\n",
       "      <td id=\"T_b73c9_row2_col5\" class=\"data row2 col5\" >0.9535</td>\n",
       "      <td id=\"T_b73c9_row2_col6\" class=\"data row2 col6\" >0.9536</td>\n",
       "    </tr>\n",
       "    <tr>\n",
       "      <th id=\"T_b73c9_level0_row3\" class=\"row_heading level0 row3\" >3</th>\n",
       "      <td id=\"T_b73c9_row3_col0\" class=\"data row3 col0\" >0.9775</td>\n",
       "      <td id=\"T_b73c9_row3_col1\" class=\"data row3 col1\" >0.9887</td>\n",
       "      <td id=\"T_b73c9_row3_col2\" class=\"data row3 col2\" >0.9715</td>\n",
       "      <td id=\"T_b73c9_row3_col3\" class=\"data row3 col3\" >0.9832</td>\n",
       "      <td id=\"T_b73c9_row3_col4\" class=\"data row3 col4\" >0.9774</td>\n",
       "      <td id=\"T_b73c9_row3_col5\" class=\"data row3 col5\" >0.9550</td>\n",
       "      <td id=\"T_b73c9_row3_col6\" class=\"data row3 col6\" >0.9550</td>\n",
       "    </tr>\n",
       "    <tr>\n",
       "      <th id=\"T_b73c9_level0_row4\" class=\"row_heading level0 row4\" >4</th>\n",
       "      <td id=\"T_b73c9_row4_col0\" class=\"data row4 col0\" >0.9768</td>\n",
       "      <td id=\"T_b73c9_row4_col1\" class=\"data row4 col1\" >0.9882</td>\n",
       "      <td id=\"T_b73c9_row4_col2\" class=\"data row4 col2\" >0.9701</td>\n",
       "      <td id=\"T_b73c9_row4_col3\" class=\"data row4 col3\" >0.9833</td>\n",
       "      <td id=\"T_b73c9_row4_col4\" class=\"data row4 col4\" >0.9766</td>\n",
       "      <td id=\"T_b73c9_row4_col5\" class=\"data row4 col5\" >0.9535</td>\n",
       "      <td id=\"T_b73c9_row4_col6\" class=\"data row4 col6\" >0.9536</td>\n",
       "    </tr>\n",
       "    <tr>\n",
       "      <th id=\"T_b73c9_level0_row5\" class=\"row_heading level0 row5\" >5</th>\n",
       "      <td id=\"T_b73c9_row5_col0\" class=\"data row5 col0\" >0.9771</td>\n",
       "      <td id=\"T_b73c9_row5_col1\" class=\"data row5 col1\" >0.9883</td>\n",
       "      <td id=\"T_b73c9_row5_col2\" class=\"data row5 col2\" >0.9704</td>\n",
       "      <td id=\"T_b73c9_row5_col3\" class=\"data row5 col3\" >0.9835</td>\n",
       "      <td id=\"T_b73c9_row5_col4\" class=\"data row5 col4\" >0.9769</td>\n",
       "      <td id=\"T_b73c9_row5_col5\" class=\"data row5 col5\" >0.9541</td>\n",
       "      <td id=\"T_b73c9_row5_col6\" class=\"data row5 col6\" >0.9542</td>\n",
       "    </tr>\n",
       "    <tr>\n",
       "      <th id=\"T_b73c9_level0_row6\" class=\"row_heading level0 row6\" >6</th>\n",
       "      <td id=\"T_b73c9_row6_col0\" class=\"data row6 col0\" >0.9776</td>\n",
       "      <td id=\"T_b73c9_row6_col1\" class=\"data row6 col1\" >0.9888</td>\n",
       "      <td id=\"T_b73c9_row6_col2\" class=\"data row6 col2\" >0.9716</td>\n",
       "      <td id=\"T_b73c9_row6_col3\" class=\"data row6 col3\" >0.9835</td>\n",
       "      <td id=\"T_b73c9_row6_col4\" class=\"data row6 col4\" >0.9775</td>\n",
       "      <td id=\"T_b73c9_row6_col5\" class=\"data row6 col5\" >0.9552</td>\n",
       "      <td id=\"T_b73c9_row6_col6\" class=\"data row6 col6\" >0.9553</td>\n",
       "    </tr>\n",
       "    <tr>\n",
       "      <th id=\"T_b73c9_level0_row7\" class=\"row_heading level0 row7\" >7</th>\n",
       "      <td id=\"T_b73c9_row7_col0\" class=\"data row7 col0\" >0.9772</td>\n",
       "      <td id=\"T_b73c9_row7_col1\" class=\"data row7 col1\" >0.9886</td>\n",
       "      <td id=\"T_b73c9_row7_col2\" class=\"data row7 col2\" >0.9703</td>\n",
       "      <td id=\"T_b73c9_row7_col3\" class=\"data row7 col3\" >0.9839</td>\n",
       "      <td id=\"T_b73c9_row7_col4\" class=\"data row7 col4\" >0.9771</td>\n",
       "      <td id=\"T_b73c9_row7_col5\" class=\"data row7 col5\" >0.9545</td>\n",
       "      <td id=\"T_b73c9_row7_col6\" class=\"data row7 col6\" >0.9546</td>\n",
       "    </tr>\n",
       "    <tr>\n",
       "      <th id=\"T_b73c9_level0_row8\" class=\"row_heading level0 row8\" >8</th>\n",
       "      <td id=\"T_b73c9_row8_col0\" class=\"data row8 col0\" >0.9776</td>\n",
       "      <td id=\"T_b73c9_row8_col1\" class=\"data row8 col1\" >0.9884</td>\n",
       "      <td id=\"T_b73c9_row8_col2\" class=\"data row8 col2\" >0.9707</td>\n",
       "      <td id=\"T_b73c9_row8_col3\" class=\"data row8 col3\" >0.9843</td>\n",
       "      <td id=\"T_b73c9_row8_col4\" class=\"data row8 col4\" >0.9775</td>\n",
       "      <td id=\"T_b73c9_row8_col5\" class=\"data row8 col5\" >0.9553</td>\n",
       "      <td id=\"T_b73c9_row8_col6\" class=\"data row8 col6\" >0.9554</td>\n",
       "    </tr>\n",
       "    <tr>\n",
       "      <th id=\"T_b73c9_level0_row9\" class=\"row_heading level0 row9\" >9</th>\n",
       "      <td id=\"T_b73c9_row9_col0\" class=\"data row9 col0\" >0.9767</td>\n",
       "      <td id=\"T_b73c9_row9_col1\" class=\"data row9 col1\" >0.9881</td>\n",
       "      <td id=\"T_b73c9_row9_col2\" class=\"data row9 col2\" >0.9705</td>\n",
       "      <td id=\"T_b73c9_row9_col3\" class=\"data row9 col3\" >0.9826</td>\n",
       "      <td id=\"T_b73c9_row9_col4\" class=\"data row9 col4\" >0.9765</td>\n",
       "      <td id=\"T_b73c9_row9_col5\" class=\"data row9 col5\" >0.9533</td>\n",
       "      <td id=\"T_b73c9_row9_col6\" class=\"data row9 col6\" >0.9534</td>\n",
       "    </tr>\n",
       "    <tr>\n",
       "      <th id=\"T_b73c9_level0_row10\" class=\"row_heading level0 row10\" >Mean</th>\n",
       "      <td id=\"T_b73c9_row10_col0\" class=\"data row10 col0\" >0.9771</td>\n",
       "      <td id=\"T_b73c9_row10_col1\" class=\"data row10 col1\" >0.9884</td>\n",
       "      <td id=\"T_b73c9_row10_col2\" class=\"data row10 col2\" >0.9706</td>\n",
       "      <td id=\"T_b73c9_row10_col3\" class=\"data row10 col3\" >0.9834</td>\n",
       "      <td id=\"T_b73c9_row10_col4\" class=\"data row10 col4\" >0.9770</td>\n",
       "      <td id=\"T_b73c9_row10_col5\" class=\"data row10 col5\" >0.9542</td>\n",
       "      <td id=\"T_b73c9_row10_col6\" class=\"data row10 col6\" >0.9543</td>\n",
       "    </tr>\n",
       "    <tr>\n",
       "      <th id=\"T_b73c9_level0_row11\" class=\"row_heading level0 row11\" >Std</th>\n",
       "      <td id=\"T_b73c9_row11_col0\" class=\"data row11 col0\" >0.0004</td>\n",
       "      <td id=\"T_b73c9_row11_col1\" class=\"data row11 col1\" >0.0003</td>\n",
       "      <td id=\"T_b73c9_row11_col2\" class=\"data row11 col2\" >0.0006</td>\n",
       "      <td id=\"T_b73c9_row11_col3\" class=\"data row11 col3\" >0.0004</td>\n",
       "      <td id=\"T_b73c9_row11_col4\" class=\"data row11 col4\" >0.0004</td>\n",
       "      <td id=\"T_b73c9_row11_col5\" class=\"data row11 col5\" >0.0008</td>\n",
       "      <td id=\"T_b73c9_row11_col6\" class=\"data row11 col6\" >0.0008</td>\n",
       "    </tr>\n",
       "  </tbody>\n",
       "</table>\n"
      ],
      "text/plain": [
       "<pandas.io.formats.style.Styler at 0x7fb3deea69b0>"
      ]
     },
     "metadata": {},
     "output_type": "display_data"
    },
    {
     "data": {
      "text/html": [],
      "text/plain": [
       "<IPython.core.display.HTML object>"
      ]
     },
     "metadata": {},
     "output_type": "display_data"
    }
   ],
   "source": [
    "et = create_model('et')"
   ]
  },
  {
   "cell_type": "code",
   "execution_count": 54,
   "metadata": {},
   "outputs": [
    {
     "data": {
      "text/html": [],
      "text/plain": [
       "<IPython.core.display.HTML object>"
      ]
     },
     "metadata": {},
     "output_type": "display_data"
    },
    {
     "data": {
      "image/png": "[encoded data removed]",
      "text/plain": [
       "<Figure size 800x550 with 1 Axes>"
      ]
     },
     "metadata": {},
     "output_type": "display_data"
    }
   ],
   "source": [
    "plot_model(et, plot = 'confusion_matrix')"
   ]
  },
  {
   "cell_type": "code",
   "execution_count": 55,
   "metadata": {},
   "outputs": [
    {
     "data": {
      "text/html": [],
      "text/plain": [
       "<IPython.core.display.HTML object>"
      ]
     },
     "metadata": {},
     "output_type": "display_data"
    },
    {
     "data": {
      "image/png": "[encoded data removed]",
      "text/plain": [
       "<Figure size 800x550 with 1 Axes>"
      ]
     },
     "metadata": {},
     "output_type": "display_data"
    }
   ],
   "source": [
    "plot_model(et, plot = 'error')"
   ]
  },
  {
   "cell_type": "code",
   "execution_count": 56,
   "metadata": {},
   "outputs": [
    {
     "data": {
      "text/html": [],
      "text/plain": [
       "<IPython.core.display.HTML object>"
      ]
     },
     "metadata": {},
     "output_type": "display_data"
    },
    {
     "data": {
      "text/html": [
       "<div>\n",
       "<style scoped>\n",
       "    .dataframe tbody tr th:only-of-type {\n",
       "        vertical-align: middle;\n",
       "    }\n",
       "\n",
       "    .dataframe tbody tr th {\n",
       "        vertical-align: top;\n",
       "    }\n",
       "\n",
       "    .dataframe thead th {\n",
       "        text-align: right;\n",
       "    }\n",
       "</style>\n",
       "<table border=\"1\" class=\"dataframe\">\n",
       "  <thead>\n",
       "    <tr style=\"text-align: right;\">\n",
       "      <th></th>\n",
       "      <th>Parameters</th>\n",
       "    </tr>\n",
       "  </thead>\n",
       "  <tbody>\n",
       "    <tr>\n",
       "      <th>bootstrap</th>\n",
       "      <td>False</td>\n",
       "    </tr>\n",
       "    <tr>\n",
       "      <th>ccp_alpha</th>\n",
       "      <td>0.0</td>\n",
       "    </tr>\n",
       "    <tr>\n",
       "      <th>class_weight</th>\n",
       "      <td>None</td>\n",
       "    </tr>\n",
       "    <tr>\n",
       "      <th>criterion</th>\n",
       "      <td>gini</td>\n",
       "    </tr>\n",
       "    <tr>\n",
       "      <th>max_depth</th>\n",
       "      <td>None</td>\n",
       "    </tr>\n",
       "    <tr>\n",
       "      <th>max_features</th>\n",
       "      <td>sqrt</td>\n",
       "    </tr>\n",
       "    <tr>\n",
       "      <th>max_leaf_nodes</th>\n",
       "      <td>None</td>\n",
       "    </tr>\n",
       "    <tr>\n",
       "      <th>max_samples</th>\n",
       "      <td>None</td>\n",
       "    </tr>\n",
       "    <tr>\n",
       "      <th>min_impurity_decrease</th>\n",
       "      <td>0.0</td>\n",
       "    </tr>\n",
       "    <tr>\n",
       "      <th>min_samples_leaf</th>\n",
       "      <td>1</td>\n",
       "    </tr>\n",
       "    <tr>\n",
       "      <th>min_samples_split</th>\n",
       "      <td>2</td>\n",
       "    </tr>\n",
       "    <tr>\n",
       "      <th>min_weight_fraction_leaf</th>\n",
       "      <td>0.0</td>\n",
       "    </tr>\n",
       "    <tr>\n",
       "      <th>n_estimators</th>\n",
       "      <td>100</td>\n",
       "    </tr>\n",
       "    <tr>\n",
       "      <th>n_jobs</th>\n",
       "      <td>-1</td>\n",
       "    </tr>\n",
       "    <tr>\n",
       "      <th>oob_score</th>\n",
       "      <td>False</td>\n",
       "    </tr>\n",
       "    <tr>\n",
       "      <th>random_state</th>\n",
       "      <td>8050</td>\n",
       "    </tr>\n",
       "    <tr>\n",
       "      <th>verbose</th>\n",
       "      <td>0</td>\n",
       "    </tr>\n",
       "    <tr>\n",
       "      <th>warm_start</th>\n",
       "      <td>False</td>\n",
       "    </tr>\n",
       "  </tbody>\n",
       "</table>\n",
       "</div>"
      ],
      "text/plain": [
       "                         Parameters\n",
       "bootstrap                     False\n",
       "ccp_alpha                       0.0\n",
       "class_weight                   None\n",
       "criterion                      gini\n",
       "max_depth                      None\n",
       "max_features                   sqrt\n",
       "max_leaf_nodes                 None\n",
       "max_samples                    None\n",
       "min_impurity_decrease           0.0\n",
       "min_samples_leaf                  1\n",
       "min_samples_split                 2\n",
       "min_weight_fraction_leaf        0.0\n",
       "n_estimators                    100\n",
       "n_jobs                           -1\n",
       "oob_score                     False\n",
       "random_state                   8050\n",
       "verbose                           0\n",
       "warm_start                    False"
      ]
     },
     "metadata": {},
     "output_type": "display_data"
    }
   ],
   "source": [
    "plot_model(et, plot = 'parameter')"
   ]
  },
  {
   "cell_type": "code",
   "execution_count": 57,
   "metadata": {},
   "outputs": [
    {
     "data": {
      "text/html": [
       "<style type=\"text/css\">\n",
       "</style>\n",
       "<table id=\"T_ecb54\">\n",
       "  <thead>\n",
       "    <tr>\n",
       "      <th class=\"blank level0\" >&nbsp;</th>\n",
       "      <th id=\"T_ecb54_level0_col0\" class=\"col_heading level0 col0\" >Model</th>\n",
       "      <th id=\"T_ecb54_level0_col1\" class=\"col_heading level0 col1\" >Accuracy</th>\n",
       "      <th id=\"T_ecb54_level0_col2\" class=\"col_heading level0 col2\" >AUC</th>\n",
       "      <th id=\"T_ecb54_level0_col3\" class=\"col_heading level0 col3\" >Recall</th>\n",
       "      <th id=\"T_ecb54_level0_col4\" class=\"col_heading level0 col4\" >Prec.</th>\n",
       "      <th id=\"T_ecb54_level0_col5\" class=\"col_heading level0 col5\" >F1</th>\n",
       "      <th id=\"T_ecb54_level0_col6\" class=\"col_heading level0 col6\" >Kappa</th>\n",
       "      <th id=\"T_ecb54_level0_col7\" class=\"col_heading level0 col7\" >MCC</th>\n",
       "    </tr>\n",
       "  </thead>\n",
       "  <tbody>\n",
       "    <tr>\n",
       "      <th id=\"T_ecb54_level0_row0\" class=\"row_heading level0 row0\" >0</th>\n",
       "      <td id=\"T_ecb54_row0_col0\" class=\"data row0 col0\" >Extra Trees Classifier</td>\n",
       "      <td id=\"T_ecb54_row0_col1\" class=\"data row0 col1\" >0.4911</td>\n",
       "      <td id=\"T_ecb54_row0_col2\" class=\"data row0 col2\" >0.5402</td>\n",
       "      <td id=\"T_ecb54_row0_col3\" class=\"data row0 col3\" >0.0020</td>\n",
       "      <td id=\"T_ecb54_row0_col4\" class=\"data row0 col4\" >0.0901</td>\n",
       "      <td id=\"T_ecb54_row0_col5\" class=\"data row0 col5\" >0.0038</td>\n",
       "      <td id=\"T_ecb54_row0_col6\" class=\"data row0 col6\" >-0.0179</td>\n",
       "      <td id=\"T_ecb54_row0_col7\" class=\"data row0 col7\" >-0.0861</td>\n",
       "    </tr>\n",
       "  </tbody>\n",
       "</table>\n"
      ],
      "text/plain": [
       "<pandas.io.formats.style.Styler at 0x7fb4406f5870>"
      ]
     },
     "metadata": {},
     "output_type": "display_data"
    }
   ],
   "source": [
    "et_val_pred = predict_model(et, data=val)"
   ]
  },
  {
   "cell_type": "code",
   "execution_count": 58,
   "metadata": {},
   "outputs": [
    {
     "name": "stdout",
     "output_type": "stream",
     "text": [
      "Transformation Pipeline and Model Successfully Saved\n"
     ]
    },
    {
     "data": {
      "text/plain": [
       "(Pipeline(memory=FastMemory(location=/tmp/joblib),\n",
       "          steps=[('numerical_imputer',\n",
       "                  TransformerWrapper(exclude=None,\n",
       "                                     include=['http://semanticscience.org/resource/SIO_000281',\n",
       "                                              'http://semanticscience.org/resource/SIO_000628',\n",
       "                                              'http://semanticscience.org/resource/SIO_001279',\n",
       "                                              'http://www.semanticweb.org/needed-terms#001',\n",
       "                                              'http://www.semanticweb.org/needed-term...\n",
       "                  ExtraTreesClassifier(bootstrap=False, ccp_alpha=0.0,\n",
       "                                       class_weight=None, criterion='gini',\n",
       "                                       max_depth=None, max_features='sqrt',\n",
       "                                       max_leaf_nodes=None, max_samples=None,\n",
       "                                       min_impurity_decrease=0.0,\n",
       "                                       min_samples_leaf=1, min_samples_split=2,\n",
       "                                       min_weight_fraction_leaf=0.0,\n",
       "                                       n_estimators=100, n_jobs=-1,\n",
       "                                       oob_score=False, random_state=8050,\n",
       "                                       verbose=0, warm_start=False))],\n",
       "          verbose=False),\n",
       " 'et.pkl.pkl')"
      ]
     },
     "execution_count": 58,
     "metadata": {},
     "output_type": "execute_result"
    }
   ],
   "source": [
    "save_model(et, 'et.pkl')"
   ]
  },
  {
   "cell_type": "markdown",
   "metadata": {},
   "source": [
    "# Light Gradient Boosting Machine"
   ]
  },
  {
   "cell_type": "code",
   "execution_count": 59,
   "metadata": {},
   "outputs": [
    {
     "data": {
      "text/html": [],
      "text/plain": [
       "<IPython.core.display.HTML object>"
      ]
     },
     "metadata": {},
     "output_type": "display_data"
    },
    {
     "data": {
      "text/html": [
       "<style type=\"text/css\">\n",
       "#T_9fce0_row10_col0, #T_9fce0_row10_col1, #T_9fce0_row10_col2, #T_9fce0_row10_col3, #T_9fce0_row10_col4, #T_9fce0_row10_col5, #T_9fce0_row10_col6 {\n",
       "  background: yellow;\n",
       "}\n",
       "</style>\n",
       "<table id=\"T_9fce0\">\n",
       "  <thead>\n",
       "    <tr>\n",
       "      <th class=\"blank level0\" >&nbsp;</th>\n",
       "      <th id=\"T_9fce0_level0_col0\" class=\"col_heading level0 col0\" >Accuracy</th>\n",
       "      <th id=\"T_9fce0_level0_col1\" class=\"col_heading level0 col1\" >AUC</th>\n",
       "      <th id=\"T_9fce0_level0_col2\" class=\"col_heading level0 col2\" >Recall</th>\n",
       "      <th id=\"T_9fce0_level0_col3\" class=\"col_heading level0 col3\" >Prec.</th>\n",
       "      <th id=\"T_9fce0_level0_col4\" class=\"col_heading level0 col4\" >F1</th>\n",
       "      <th id=\"T_9fce0_level0_col5\" class=\"col_heading level0 col5\" >Kappa</th>\n",
       "      <th id=\"T_9fce0_level0_col6\" class=\"col_heading level0 col6\" >MCC</th>\n",
       "    </tr>\n",
       "    <tr>\n",
       "      <th class=\"index_name level0\" >Fold</th>\n",
       "      <th class=\"blank col0\" >&nbsp;</th>\n",
       "      <th class=\"blank col1\" >&nbsp;</th>\n",
       "      <th class=\"blank col2\" >&nbsp;</th>\n",
       "      <th class=\"blank col3\" >&nbsp;</th>\n",
       "      <th class=\"blank col4\" >&nbsp;</th>\n",
       "      <th class=\"blank col5\" >&nbsp;</th>\n",
       "      <th class=\"blank col6\" >&nbsp;</th>\n",
       "    </tr>\n",
       "  </thead>\n",
       "  <tbody>\n",
       "    <tr>\n",
       "      <th id=\"T_9fce0_level0_row0\" class=\"row_heading level0 row0\" >0</th>\n",
       "      <td id=\"T_9fce0_row0_col0\" class=\"data row0 col0\" >0.9781</td>\n",
       "      <td id=\"T_9fce0_row0_col1\" class=\"data row0 col1\" >0.9952</td>\n",
       "      <td id=\"T_9fce0_row0_col2\" class=\"data row0 col2\" >0.9783</td>\n",
       "      <td id=\"T_9fce0_row0_col3\" class=\"data row0 col3\" >0.9780</td>\n",
       "      <td id=\"T_9fce0_row0_col4\" class=\"data row0 col4\" >0.9781</td>\n",
       "      <td id=\"T_9fce0_row0_col5\" class=\"data row0 col5\" >0.9563</td>\n",
       "      <td id=\"T_9fce0_row0_col6\" class=\"data row0 col6\" >0.9563</td>\n",
       "    </tr>\n",
       "    <tr>\n",
       "      <th id=\"T_9fce0_level0_row1\" class=\"row_heading level0 row1\" >1</th>\n",
       "      <td id=\"T_9fce0_row1_col0\" class=\"data row1 col0\" >0.9785</td>\n",
       "      <td id=\"T_9fce0_row1_col1\" class=\"data row1 col1\" >0.9951</td>\n",
       "      <td id=\"T_9fce0_row1_col2\" class=\"data row1 col2\" >0.9794</td>\n",
       "      <td id=\"T_9fce0_row1_col3\" class=\"data row1 col3\" >0.9776</td>\n",
       "      <td id=\"T_9fce0_row1_col4\" class=\"data row1 col4\" >0.9785</td>\n",
       "      <td id=\"T_9fce0_row1_col5\" class=\"data row1 col5\" >0.9570</td>\n",
       "      <td id=\"T_9fce0_row1_col6\" class=\"data row1 col6\" >0.9570</td>\n",
       "    </tr>\n",
       "    <tr>\n",
       "      <th id=\"T_9fce0_level0_row2\" class=\"row_heading level0 row2\" >2</th>\n",
       "      <td id=\"T_9fce0_row2_col0\" class=\"data row2 col0\" >0.9781</td>\n",
       "      <td id=\"T_9fce0_row2_col1\" class=\"data row2 col1\" >0.9951</td>\n",
       "      <td id=\"T_9fce0_row2_col2\" class=\"data row2 col2\" >0.9784</td>\n",
       "      <td id=\"T_9fce0_row2_col3\" class=\"data row2 col3\" >0.9779</td>\n",
       "      <td id=\"T_9fce0_row2_col4\" class=\"data row2 col4\" >0.9781</td>\n",
       "      <td id=\"T_9fce0_row2_col5\" class=\"data row2 col5\" >0.9563</td>\n",
       "      <td id=\"T_9fce0_row2_col6\" class=\"data row2 col6\" >0.9563</td>\n",
       "    </tr>\n",
       "    <tr>\n",
       "      <th id=\"T_9fce0_level0_row3\" class=\"row_heading level0 row3\" >3</th>\n",
       "      <td id=\"T_9fce0_row3_col0\" class=\"data row3 col0\" >0.9787</td>\n",
       "      <td id=\"T_9fce0_row3_col1\" class=\"data row3 col1\" >0.9952</td>\n",
       "      <td id=\"T_9fce0_row3_col2\" class=\"data row3 col2\" >0.9796</td>\n",
       "      <td id=\"T_9fce0_row3_col3\" class=\"data row3 col3\" >0.9779</td>\n",
       "      <td id=\"T_9fce0_row3_col4\" class=\"data row3 col4\" >0.9787</td>\n",
       "      <td id=\"T_9fce0_row3_col5\" class=\"data row3 col5\" >0.9574</td>\n",
       "      <td id=\"T_9fce0_row3_col6\" class=\"data row3 col6\" >0.9574</td>\n",
       "    </tr>\n",
       "    <tr>\n",
       "      <th id=\"T_9fce0_level0_row4\" class=\"row_heading level0 row4\" >4</th>\n",
       "      <td id=\"T_9fce0_row4_col0\" class=\"data row4 col0\" >0.9779</td>\n",
       "      <td id=\"T_9fce0_row4_col1\" class=\"data row4 col1\" >0.9949</td>\n",
       "      <td id=\"T_9fce0_row4_col2\" class=\"data row4 col2\" >0.9782</td>\n",
       "      <td id=\"T_9fce0_row4_col3\" class=\"data row4 col3\" >0.9776</td>\n",
       "      <td id=\"T_9fce0_row4_col4\" class=\"data row4 col4\" >0.9779</td>\n",
       "      <td id=\"T_9fce0_row4_col5\" class=\"data row4 col5\" >0.9557</td>\n",
       "      <td id=\"T_9fce0_row4_col6\" class=\"data row4 col6\" >0.9557</td>\n",
       "    </tr>\n",
       "    <tr>\n",
       "      <th id=\"T_9fce0_level0_row5\" class=\"row_heading level0 row5\" >5</th>\n",
       "      <td id=\"T_9fce0_row5_col0\" class=\"data row5 col0\" >0.9786</td>\n",
       "      <td id=\"T_9fce0_row5_col1\" class=\"data row5 col1\" >0.9954</td>\n",
       "      <td id=\"T_9fce0_row5_col2\" class=\"data row5 col2\" >0.9789</td>\n",
       "      <td id=\"T_9fce0_row5_col3\" class=\"data row5 col3\" >0.9782</td>\n",
       "      <td id=\"T_9fce0_row5_col4\" class=\"data row5 col4\" >0.9786</td>\n",
       "      <td id=\"T_9fce0_row5_col5\" class=\"data row5 col5\" >0.9572</td>\n",
       "      <td id=\"T_9fce0_row5_col6\" class=\"data row5 col6\" >0.9572</td>\n",
       "    </tr>\n",
       "    <tr>\n",
       "      <th id=\"T_9fce0_level0_row6\" class=\"row_heading level0 row6\" >6</th>\n",
       "      <td id=\"T_9fce0_row6_col0\" class=\"data row6 col0\" >0.9787</td>\n",
       "      <td id=\"T_9fce0_row6_col1\" class=\"data row6 col1\" >0.9953</td>\n",
       "      <td id=\"T_9fce0_row6_col2\" class=\"data row6 col2\" >0.9794</td>\n",
       "      <td id=\"T_9fce0_row6_col3\" class=\"data row6 col3\" >0.9780</td>\n",
       "      <td id=\"T_9fce0_row6_col4\" class=\"data row6 col4\" >0.9787</td>\n",
       "      <td id=\"T_9fce0_row6_col5\" class=\"data row6 col5\" >0.9573</td>\n",
       "      <td id=\"T_9fce0_row6_col6\" class=\"data row6 col6\" >0.9573</td>\n",
       "    </tr>\n",
       "    <tr>\n",
       "      <th id=\"T_9fce0_level0_row7\" class=\"row_heading level0 row7\" >7</th>\n",
       "      <td id=\"T_9fce0_row7_col0\" class=\"data row7 col0\" >0.9782</td>\n",
       "      <td id=\"T_9fce0_row7_col1\" class=\"data row7 col1\" >0.9952</td>\n",
       "      <td id=\"T_9fce0_row7_col2\" class=\"data row7 col2\" >0.9780</td>\n",
       "      <td id=\"T_9fce0_row7_col3\" class=\"data row7 col3\" >0.9785</td>\n",
       "      <td id=\"T_9fce0_row7_col4\" class=\"data row7 col4\" >0.9782</td>\n",
       "      <td id=\"T_9fce0_row7_col5\" class=\"data row7 col5\" >0.9565</td>\n",
       "      <td id=\"T_9fce0_row7_col6\" class=\"data row7 col6\" >0.9565</td>\n",
       "    </tr>\n",
       "    <tr>\n",
       "      <th id=\"T_9fce0_level0_row8\" class=\"row_heading level0 row8\" >8</th>\n",
       "      <td id=\"T_9fce0_row8_col0\" class=\"data row8 col0\" >0.9786</td>\n",
       "      <td id=\"T_9fce0_row8_col1\" class=\"data row8 col1\" >0.9955</td>\n",
       "      <td id=\"T_9fce0_row8_col2\" class=\"data row8 col2\" >0.9787</td>\n",
       "      <td id=\"T_9fce0_row8_col3\" class=\"data row8 col3\" >0.9785</td>\n",
       "      <td id=\"T_9fce0_row8_col4\" class=\"data row8 col4\" >0.9786</td>\n",
       "      <td id=\"T_9fce0_row8_col5\" class=\"data row8 col5\" >0.9572</td>\n",
       "      <td id=\"T_9fce0_row8_col6\" class=\"data row8 col6\" >0.9572</td>\n",
       "    </tr>\n",
       "    <tr>\n",
       "      <th id=\"T_9fce0_level0_row9\" class=\"row_heading level0 row9\" >9</th>\n",
       "      <td id=\"T_9fce0_row9_col0\" class=\"data row9 col0\" >0.9780</td>\n",
       "      <td id=\"T_9fce0_row9_col1\" class=\"data row9 col1\" >0.9950</td>\n",
       "      <td id=\"T_9fce0_row9_col2\" class=\"data row9 col2\" >0.9779</td>\n",
       "      <td id=\"T_9fce0_row9_col3\" class=\"data row9 col3\" >0.9780</td>\n",
       "      <td id=\"T_9fce0_row9_col4\" class=\"data row9 col4\" >0.9779</td>\n",
       "      <td id=\"T_9fce0_row9_col5\" class=\"data row9 col5\" >0.9559</td>\n",
       "      <td id=\"T_9fce0_row9_col6\" class=\"data row9 col6\" >0.9559</td>\n",
       "    </tr>\n",
       "    <tr>\n",
       "      <th id=\"T_9fce0_level0_row10\" class=\"row_heading level0 row10\" >Mean</th>\n",
       "      <td id=\"T_9fce0_row10_col0\" class=\"data row10 col0\" >0.9783</td>\n",
       "      <td id=\"T_9fce0_row10_col1\" class=\"data row10 col1\" >0.9952</td>\n",
       "      <td id=\"T_9fce0_row10_col2\" class=\"data row10 col2\" >0.9787</td>\n",
       "      <td id=\"T_9fce0_row10_col3\" class=\"data row10 col3\" >0.9780</td>\n",
       "      <td id=\"T_9fce0_row10_col4\" class=\"data row10 col4\" >0.9783</td>\n",
       "      <td id=\"T_9fce0_row10_col5\" class=\"data row10 col5\" >0.9567</td>\n",
       "      <td id=\"T_9fce0_row10_col6\" class=\"data row10 col6\" >0.9567</td>\n",
       "    </tr>\n",
       "    <tr>\n",
       "      <th id=\"T_9fce0_level0_row11\" class=\"row_heading level0 row11\" >Std</th>\n",
       "      <td id=\"T_9fce0_row11_col0\" class=\"data row11 col0\" >0.0003</td>\n",
       "      <td id=\"T_9fce0_row11_col1\" class=\"data row11 col1\" >0.0002</td>\n",
       "      <td id=\"T_9fce0_row11_col2\" class=\"data row11 col2\" >0.0006</td>\n",
       "      <td id=\"T_9fce0_row11_col3\" class=\"data row11 col3\" >0.0003</td>\n",
       "      <td id=\"T_9fce0_row11_col4\" class=\"data row11 col4\" >0.0003</td>\n",
       "      <td id=\"T_9fce0_row11_col5\" class=\"data row11 col5\" >0.0006</td>\n",
       "      <td id=\"T_9fce0_row11_col6\" class=\"data row11 col6\" >0.0006</td>\n",
       "    </tr>\n",
       "  </tbody>\n",
       "</table>\n"
      ],
      "text/plain": [
       "<pandas.io.formats.style.Styler at 0x7fb3def97be0>"
      ]
     },
     "metadata": {},
     "output_type": "display_data"
    },
    {
     "data": {
      "text/html": [],
      "text/plain": [
       "<IPython.core.display.HTML object>"
      ]
     },
     "metadata": {},
     "output_type": "display_data"
    }
   ],
   "source": [
    "lightgbm = create_model('lightgbm')"
   ]
  },
  {
   "cell_type": "code",
   "execution_count": 60,
   "metadata": {},
   "outputs": [
    {
     "data": {
      "text/html": [],
      "text/plain": [
       "<IPython.core.display.HTML object>"
      ]
     },
     "metadata": {},
     "output_type": "display_data"
    },
    {
     "data": {
      "image/png": "[encoded data removed]",
      "text/plain": [
       "<Figure size 800x550 with 1 Axes>"
      ]
     },
     "metadata": {},
     "output_type": "display_data"
    }
   ],
   "source": [
    "plot_model(lightgbm, plot = 'confusion_matrix')"
   ]
  },
  {
   "cell_type": "code",
   "execution_count": 61,
   "metadata": {},
   "outputs": [
    {
     "data": {
      "text/html": [],
      "text/plain": [
       "<IPython.core.display.HTML object>"
      ]
     },
     "metadata": {},
     "output_type": "display_data"
    },
    {
     "data": {
      "image/png": "[encoded data removed]",
      "text/plain": [
       "<Figure size 800x550 with 1 Axes>"
      ]
     },
     "metadata": {},
     "output_type": "display_data"
    }
   ],
   "source": [
    "plot_model(lightgbm, plot = 'error')"
   ]
  },
  {
   "cell_type": "code",
   "execution_count": 62,
   "metadata": {},
   "outputs": [
    {
     "data": {
      "text/html": [],
      "text/plain": [
       "<IPython.core.display.HTML object>"
      ]
     },
     "metadata": {},
     "output_type": "display_data"
    },
    {
     "data": {
      "text/html": [
       "<div>\n",
       "<style scoped>\n",
       "    .dataframe tbody tr th:only-of-type {\n",
       "        vertical-align: middle;\n",
       "    }\n",
       "\n",
       "    .dataframe tbody tr th {\n",
       "        vertical-align: top;\n",
       "    }\n",
       "\n",
       "    .dataframe thead th {\n",
       "        text-align: right;\n",
       "    }\n",
       "</style>\n",
       "<table border=\"1\" class=\"dataframe\">\n",
       "  <thead>\n",
       "    <tr style=\"text-align: right;\">\n",
       "      <th></th>\n",
       "      <th>Parameters</th>\n",
       "    </tr>\n",
       "  </thead>\n",
       "  <tbody>\n",
       "    <tr>\n",
       "      <th>boosting_type</th>\n",
       "      <td>gbdt</td>\n",
       "    </tr>\n",
       "    <tr>\n",
       "      <th>class_weight</th>\n",
       "      <td>None</td>\n",
       "    </tr>\n",
       "    <tr>\n",
       "      <th>colsample_bytree</th>\n",
       "      <td>1.0</td>\n",
       "    </tr>\n",
       "    <tr>\n",
       "      <th>importance_type</th>\n",
       "      <td>split</td>\n",
       "    </tr>\n",
       "    <tr>\n",
       "      <th>learning_rate</th>\n",
       "      <td>0.1</td>\n",
       "    </tr>\n",
       "    <tr>\n",
       "      <th>max_depth</th>\n",
       "      <td>-1</td>\n",
       "    </tr>\n",
       "    <tr>\n",
       "      <th>min_child_samples</th>\n",
       "      <td>20</td>\n",
       "    </tr>\n",
       "    <tr>\n",
       "      <th>min_child_weight</th>\n",
       "      <td>0.001</td>\n",
       "    </tr>\n",
       "    <tr>\n",
       "      <th>min_split_gain</th>\n",
       "      <td>0.0</td>\n",
       "    </tr>\n",
       "    <tr>\n",
       "      <th>n_estimators</th>\n",
       "      <td>100</td>\n",
       "    </tr>\n",
       "    <tr>\n",
       "      <th>n_jobs</th>\n",
       "      <td>-1</td>\n",
       "    </tr>\n",
       "    <tr>\n",
       "      <th>num_leaves</th>\n",
       "      <td>31</td>\n",
       "    </tr>\n",
       "    <tr>\n",
       "      <th>objective</th>\n",
       "      <td>None</td>\n",
       "    </tr>\n",
       "    <tr>\n",
       "      <th>random_state</th>\n",
       "      <td>8050</td>\n",
       "    </tr>\n",
       "    <tr>\n",
       "      <th>reg_alpha</th>\n",
       "      <td>0.0</td>\n",
       "    </tr>\n",
       "    <tr>\n",
       "      <th>reg_lambda</th>\n",
       "      <td>0.0</td>\n",
       "    </tr>\n",
       "    <tr>\n",
       "      <th>silent</th>\n",
       "      <td>warn</td>\n",
       "    </tr>\n",
       "    <tr>\n",
       "      <th>subsample</th>\n",
       "      <td>1.0</td>\n",
       "    </tr>\n",
       "    <tr>\n",
       "      <th>subsample_for_bin</th>\n",
       "      <td>200000</td>\n",
       "    </tr>\n",
       "    <tr>\n",
       "      <th>subsample_freq</th>\n",
       "      <td>0</td>\n",
       "    </tr>\n",
       "  </tbody>\n",
       "</table>\n",
       "</div>"
      ],
      "text/plain": [
       "                  Parameters\n",
       "boosting_type           gbdt\n",
       "class_weight            None\n",
       "colsample_bytree         1.0\n",
       "importance_type        split\n",
       "learning_rate            0.1\n",
       "max_depth                 -1\n",
       "min_child_samples         20\n",
       "min_child_weight       0.001\n",
       "min_split_gain           0.0\n",
       "n_estimators             100\n",
       "n_jobs                    -1\n",
       "num_leaves                31\n",
       "objective               None\n",
       "random_state            8050\n",
       "reg_alpha                0.0\n",
       "reg_lambda               0.0\n",
       "silent                  warn\n",
       "subsample                1.0\n",
       "subsample_for_bin     200000\n",
       "subsample_freq             0"
      ]
     },
     "metadata": {},
     "output_type": "display_data"
    }
   ],
   "source": [
    "plot_model(lightgbm, plot = 'parameter')"
   ]
  },
  {
   "cell_type": "code",
   "execution_count": 63,
   "metadata": {},
   "outputs": [
    {
     "data": {
      "text/html": [
       "<style type=\"text/css\">\n",
       "</style>\n",
       "<table id=\"T_ae9bb\">\n",
       "  <thead>\n",
       "    <tr>\n",
       "      <th class=\"blank level0\" >&nbsp;</th>\n",
       "      <th id=\"T_ae9bb_level0_col0\" class=\"col_heading level0 col0\" >Model</th>\n",
       "      <th id=\"T_ae9bb_level0_col1\" class=\"col_heading level0 col1\" >Accuracy</th>\n",
       "      <th id=\"T_ae9bb_level0_col2\" class=\"col_heading level0 col2\" >AUC</th>\n",
       "      <th id=\"T_ae9bb_level0_col3\" class=\"col_heading level0 col3\" >Recall</th>\n",
       "      <th id=\"T_ae9bb_level0_col4\" class=\"col_heading level0 col4\" >Prec.</th>\n",
       "      <th id=\"T_ae9bb_level0_col5\" class=\"col_heading level0 col5\" >F1</th>\n",
       "      <th id=\"T_ae9bb_level0_col6\" class=\"col_heading level0 col6\" >Kappa</th>\n",
       "      <th id=\"T_ae9bb_level0_col7\" class=\"col_heading level0 col7\" >MCC</th>\n",
       "    </tr>\n",
       "  </thead>\n",
       "  <tbody>\n",
       "    <tr>\n",
       "      <th id=\"T_ae9bb_level0_row0\" class=\"row_heading level0 row0\" >0</th>\n",
       "      <td id=\"T_ae9bb_row0_col0\" class=\"data row0 col0\" >Light Gradient Boosting Machine</td>\n",
       "      <td id=\"T_ae9bb_row0_col1\" class=\"data row0 col1\" >0.5091</td>\n",
       "      <td id=\"T_ae9bb_row0_col2\" class=\"data row0 col2\" >0.6142</td>\n",
       "      <td id=\"T_ae9bb_row0_col3\" class=\"data row0 col3\" >0.0766</td>\n",
       "      <td id=\"T_ae9bb_row0_col4\" class=\"data row0 col4\" >0.5672</td>\n",
       "      <td id=\"T_ae9bb_row0_col5\" class=\"data row0 col5\" >0.1350</td>\n",
       "      <td id=\"T_ae9bb_row0_col6\" class=\"data row0 col6\" >0.0182</td>\n",
       "      <td id=\"T_ae9bb_row0_col7\" class=\"data row0 col7\" >0.0362</td>\n",
       "    </tr>\n",
       "  </tbody>\n",
       "</table>\n"
      ],
      "text/plain": [
       "<pandas.io.formats.style.Styler at 0x7fb4407316f0>"
      ]
     },
     "metadata": {},
     "output_type": "display_data"
    }
   ],
   "source": [
    "lgbm_val_pred = predict_model(lightgbm, data=val)"
   ]
  },
  {
   "cell_type": "code",
   "execution_count": 64,
   "metadata": {},
   "outputs": [
    {
     "name": "stdout",
     "output_type": "stream",
     "text": [
      "Transformation Pipeline and Model Successfully Saved\n"
     ]
    },
    {
     "data": {
      "text/plain": [
       "(Pipeline(memory=FastMemory(location=/tmp/joblib),\n",
       "          steps=[('numerical_imputer',\n",
       "                  TransformerWrapper(exclude=None,\n",
       "                                     include=['http://semanticscience.org/resource/SIO_000281',\n",
       "                                              'http://semanticscience.org/resource/SIO_000628',\n",
       "                                              'http://semanticscience.org/resource/SIO_001279',\n",
       "                                              'http://www.semanticweb.org/needed-terms#001',\n",
       "                                              'http://www.semanticweb.org/needed-term...\n",
       "                  LGBMClassifier(boosting_type='gbdt', class_weight=None,\n",
       "                                 colsample_bytree=1.0, importance_type='split',\n",
       "                                 learning_rate=0.1, max_depth=-1,\n",
       "                                 min_child_samples=20, min_child_weight=0.001,\n",
       "                                 min_split_gain=0.0, n_estimators=100, n_jobs=-1,\n",
       "                                 num_leaves=31, objective=None,\n",
       "                                 random_state=8050, reg_alpha=0.0,\n",
       "                                 reg_lambda=0.0, silent='warn', subsample=1.0,\n",
       "                                 subsample_for_bin=200000, subsample_freq=0))],\n",
       "          verbose=False),\n",
       " 'lightgbm.pkl.pkl')"
      ]
     },
     "execution_count": 64,
     "metadata": {},
     "output_type": "execute_result"
    }
   ],
   "source": [
    "save_model(lightgbm, 'lightgbm.pkl')"
   ]
  },
  {
   "cell_type": "markdown",
   "metadata": {
    "tags": []
   },
   "source": [
    "# MLP Classifier"
   ]
  },
  {
   "cell_type": "code",
   "execution_count": 65,
   "metadata": {},
   "outputs": [
    {
     "data": {
      "text/html": [],
      "text/plain": [
       "<IPython.core.display.HTML object>"
      ]
     },
     "metadata": {},
     "output_type": "display_data"
    },
    {
     "data": {
      "text/html": [
       "<style type=\"text/css\">\n",
       "#T_30b90_row10_col0, #T_30b90_row10_col1, #T_30b90_row10_col2, #T_30b90_row10_col3, #T_30b90_row10_col4, #T_30b90_row10_col5, #T_30b90_row10_col6 {\n",
       "  background: yellow;\n",
       "}\n",
       "</style>\n",
       "<table id=\"T_30b90\">\n",
       "  <thead>\n",
       "    <tr>\n",
       "      <th class=\"blank level0\" >&nbsp;</th>\n",
       "      <th id=\"T_30b90_level0_col0\" class=\"col_heading level0 col0\" >Accuracy</th>\n",
       "      <th id=\"T_30b90_level0_col1\" class=\"col_heading level0 col1\" >AUC</th>\n",
       "      <th id=\"T_30b90_level0_col2\" class=\"col_heading level0 col2\" >Recall</th>\n",
       "      <th id=\"T_30b90_level0_col3\" class=\"col_heading level0 col3\" >Prec.</th>\n",
       "      <th id=\"T_30b90_level0_col4\" class=\"col_heading level0 col4\" >F1</th>\n",
       "      <th id=\"T_30b90_level0_col5\" class=\"col_heading level0 col5\" >Kappa</th>\n",
       "      <th id=\"T_30b90_level0_col6\" class=\"col_heading level0 col6\" >MCC</th>\n",
       "    </tr>\n",
       "    <tr>\n",
       "      <th class=\"index_name level0\" >Fold</th>\n",
       "      <th class=\"blank col0\" >&nbsp;</th>\n",
       "      <th class=\"blank col1\" >&nbsp;</th>\n",
       "      <th class=\"blank col2\" >&nbsp;</th>\n",
       "      <th class=\"blank col3\" >&nbsp;</th>\n",
       "      <th class=\"blank col4\" >&nbsp;</th>\n",
       "      <th class=\"blank col5\" >&nbsp;</th>\n",
       "      <th class=\"blank col6\" >&nbsp;</th>\n",
       "    </tr>\n",
       "  </thead>\n",
       "  <tbody>\n",
       "    <tr>\n",
       "      <th id=\"T_30b90_level0_row0\" class=\"row_heading level0 row0\" >0</th>\n",
       "      <td id=\"T_30b90_row0_col0\" class=\"data row0 col0\" >0.9769</td>\n",
       "      <td id=\"T_30b90_row0_col1\" class=\"data row0 col1\" >0.9832</td>\n",
       "      <td id=\"T_30b90_row0_col2\" class=\"data row0 col2\" >0.9715</td>\n",
       "      <td id=\"T_30b90_row0_col3\" class=\"data row0 col3\" >0.9820</td>\n",
       "      <td id=\"T_30b90_row0_col4\" class=\"data row0 col4\" >0.9768</td>\n",
       "      <td id=\"T_30b90_row0_col5\" class=\"data row0 col5\" >0.9538</td>\n",
       "      <td id=\"T_30b90_row0_col6\" class=\"data row0 col6\" >0.9538</td>\n",
       "    </tr>\n",
       "    <tr>\n",
       "      <th id=\"T_30b90_level0_row1\" class=\"row_heading level0 row1\" >1</th>\n",
       "      <td id=\"T_30b90_row1_col0\" class=\"data row1 col0\" >0.9776</td>\n",
       "      <td id=\"T_30b90_row1_col1\" class=\"data row1 col1\" >0.9836</td>\n",
       "      <td id=\"T_30b90_row1_col2\" class=\"data row1 col2\" >0.9723</td>\n",
       "      <td id=\"T_30b90_row1_col3\" class=\"data row1 col3\" >0.9826</td>\n",
       "      <td id=\"T_30b90_row1_col4\" class=\"data row1 col4\" >0.9774</td>\n",
       "      <td id=\"T_30b90_row1_col5\" class=\"data row1 col5\" >0.9551</td>\n",
       "      <td id=\"T_30b90_row1_col6\" class=\"data row1 col6\" >0.9552</td>\n",
       "    </tr>\n",
       "    <tr>\n",
       "      <th id=\"T_30b90_level0_row2\" class=\"row_heading level0 row2\" >2</th>\n",
       "      <td id=\"T_30b90_row2_col0\" class=\"data row2 col0\" >0.9770</td>\n",
       "      <td id=\"T_30b90_row2_col1\" class=\"data row2 col1\" >0.9826</td>\n",
       "      <td id=\"T_30b90_row2_col2\" class=\"data row2 col2\" >0.9713</td>\n",
       "      <td id=\"T_30b90_row2_col3\" class=\"data row2 col3\" >0.9824</td>\n",
       "      <td id=\"T_30b90_row2_col4\" class=\"data row2 col4\" >0.9768</td>\n",
       "      <td id=\"T_30b90_row2_col5\" class=\"data row2 col5\" >0.9539</td>\n",
       "      <td id=\"T_30b90_row2_col6\" class=\"data row2 col6\" >0.9540</td>\n",
       "    </tr>\n",
       "    <tr>\n",
       "      <th id=\"T_30b90_level0_row3\" class=\"row_heading level0 row3\" >3</th>\n",
       "      <td id=\"T_30b90_row3_col0\" class=\"data row3 col0\" >0.9776</td>\n",
       "      <td id=\"T_30b90_row3_col1\" class=\"data row3 col1\" >0.9834</td>\n",
       "      <td id=\"T_30b90_row3_col2\" class=\"data row3 col2\" >0.9727</td>\n",
       "      <td id=\"T_30b90_row3_col3\" class=\"data row3 col3\" >0.9824</td>\n",
       "      <td id=\"T_30b90_row3_col4\" class=\"data row3 col4\" >0.9775</td>\n",
       "      <td id=\"T_30b90_row3_col5\" class=\"data row3 col5\" >0.9553</td>\n",
       "      <td id=\"T_30b90_row3_col6\" class=\"data row3 col6\" >0.9553</td>\n",
       "    </tr>\n",
       "    <tr>\n",
       "      <th id=\"T_30b90_level0_row4\" class=\"row_heading level0 row4\" >4</th>\n",
       "      <td id=\"T_30b90_row4_col0\" class=\"data row4 col0\" >0.9770</td>\n",
       "      <td id=\"T_30b90_row4_col1\" class=\"data row4 col1\" >0.9825</td>\n",
       "      <td id=\"T_30b90_row4_col2\" class=\"data row4 col2\" >0.9713</td>\n",
       "      <td id=\"T_30b90_row4_col3\" class=\"data row4 col3\" >0.9825</td>\n",
       "      <td id=\"T_30b90_row4_col4\" class=\"data row4 col4\" >0.9769</td>\n",
       "      <td id=\"T_30b90_row4_col5\" class=\"data row4 col5\" >0.9541</td>\n",
       "      <td id=\"T_30b90_row4_col6\" class=\"data row4 col6\" >0.9541</td>\n",
       "    </tr>\n",
       "    <tr>\n",
       "      <th id=\"T_30b90_level0_row5\" class=\"row_heading level0 row5\" >5</th>\n",
       "      <td id=\"T_30b90_row5_col0\" class=\"data row5 col0\" >0.9775</td>\n",
       "      <td id=\"T_30b90_row5_col1\" class=\"data row5 col1\" >0.9833</td>\n",
       "      <td id=\"T_30b90_row5_col2\" class=\"data row5 col2\" >0.9722</td>\n",
       "      <td id=\"T_30b90_row5_col3\" class=\"data row5 col3\" >0.9825</td>\n",
       "      <td id=\"T_30b90_row5_col4\" class=\"data row5 col4\" >0.9774</td>\n",
       "      <td id=\"T_30b90_row5_col5\" class=\"data row5 col5\" >0.9549</td>\n",
       "      <td id=\"T_30b90_row5_col6\" class=\"data row5 col6\" >0.9550</td>\n",
       "    </tr>\n",
       "    <tr>\n",
       "      <th id=\"T_30b90_level0_row6\" class=\"row_heading level0 row6\" >6</th>\n",
       "      <td id=\"T_30b90_row6_col0\" class=\"data row6 col0\" >0.9779</td>\n",
       "      <td id=\"T_30b90_row6_col1\" class=\"data row6 col1\" >0.9842</td>\n",
       "      <td id=\"T_30b90_row6_col2\" class=\"data row6 col2\" >0.9728</td>\n",
       "      <td id=\"T_30b90_row6_col3\" class=\"data row6 col3\" >0.9828</td>\n",
       "      <td id=\"T_30b90_row6_col4\" class=\"data row6 col4\" >0.9778</td>\n",
       "      <td id=\"T_30b90_row6_col5\" class=\"data row6 col5\" >0.9558</td>\n",
       "      <td id=\"T_30b90_row6_col6\" class=\"data row6 col6\" >0.9558</td>\n",
       "    </tr>\n",
       "    <tr>\n",
       "      <th id=\"T_30b90_level0_row7\" class=\"row_heading level0 row7\" >7</th>\n",
       "      <td id=\"T_30b90_row7_col0\" class=\"data row7 col0\" >0.9775</td>\n",
       "      <td id=\"T_30b90_row7_col1\" class=\"data row7 col1\" >0.9837</td>\n",
       "      <td id=\"T_30b90_row7_col2\" class=\"data row7 col2\" >0.9718</td>\n",
       "      <td id=\"T_30b90_row7_col3\" class=\"data row7 col3\" >0.9830</td>\n",
       "      <td id=\"T_30b90_row7_col4\" class=\"data row7 col4\" >0.9774</td>\n",
       "      <td id=\"T_30b90_row7_col5\" class=\"data row7 col5\" >0.9550</td>\n",
       "      <td id=\"T_30b90_row7_col6\" class=\"data row7 col6\" >0.9550</td>\n",
       "    </tr>\n",
       "    <tr>\n",
       "      <th id=\"T_30b90_level0_row8\" class=\"row_heading level0 row8\" >8</th>\n",
       "      <td id=\"T_30b90_row8_col0\" class=\"data row8 col0\" >0.9778</td>\n",
       "      <td id=\"T_30b90_row8_col1\" class=\"data row8 col1\" >0.9835</td>\n",
       "      <td id=\"T_30b90_row8_col2\" class=\"data row8 col2\" >0.9719</td>\n",
       "      <td id=\"T_30b90_row8_col3\" class=\"data row8 col3\" >0.9834</td>\n",
       "      <td id=\"T_30b90_row8_col4\" class=\"data row8 col4\" >0.9776</td>\n",
       "      <td id=\"T_30b90_row8_col5\" class=\"data row8 col5\" >0.9555</td>\n",
       "      <td id=\"T_30b90_row8_col6\" class=\"data row8 col6\" >0.9556</td>\n",
       "    </tr>\n",
       "    <tr>\n",
       "      <th id=\"T_30b90_level0_row9\" class=\"row_heading level0 row9\" >9</th>\n",
       "      <td id=\"T_30b90_row9_col0\" class=\"data row9 col0\" >0.9771</td>\n",
       "      <td id=\"T_30b90_row9_col1\" class=\"data row9 col1\" >0.9833</td>\n",
       "      <td id=\"T_30b90_row9_col2\" class=\"data row9 col2\" >0.9714</td>\n",
       "      <td id=\"T_30b90_row9_col3\" class=\"data row9 col3\" >0.9826</td>\n",
       "      <td id=\"T_30b90_row9_col4\" class=\"data row9 col4\" >0.9770</td>\n",
       "      <td id=\"T_30b90_row9_col5\" class=\"data row9 col5\" >0.9542</td>\n",
       "      <td id=\"T_30b90_row9_col6\" class=\"data row9 col6\" >0.9542</td>\n",
       "    </tr>\n",
       "    <tr>\n",
       "      <th id=\"T_30b90_level0_row10\" class=\"row_heading level0 row10\" >Mean</th>\n",
       "      <td id=\"T_30b90_row10_col0\" class=\"data row10 col0\" >0.9774</td>\n",
       "      <td id=\"T_30b90_row10_col1\" class=\"data row10 col1\" >0.9833</td>\n",
       "      <td id=\"T_30b90_row10_col2\" class=\"data row10 col2\" >0.9719</td>\n",
       "      <td id=\"T_30b90_row10_col3\" class=\"data row10 col3\" >0.9826</td>\n",
       "      <td id=\"T_30b90_row10_col4\" class=\"data row10 col4\" >0.9773</td>\n",
       "      <td id=\"T_30b90_row10_col5\" class=\"data row10 col5\" >0.9548</td>\n",
       "      <td id=\"T_30b90_row10_col6\" class=\"data row10 col6\" >0.9548</td>\n",
       "    </tr>\n",
       "    <tr>\n",
       "      <th id=\"T_30b90_level0_row11\" class=\"row_heading level0 row11\" >Std</th>\n",
       "      <td id=\"T_30b90_row11_col0\" class=\"data row11 col0\" >0.0003</td>\n",
       "      <td id=\"T_30b90_row11_col1\" class=\"data row11 col1\" >0.0005</td>\n",
       "      <td id=\"T_30b90_row11_col2\" class=\"data row11 col2\" >0.0005</td>\n",
       "      <td id=\"T_30b90_row11_col3\" class=\"data row11 col3\" >0.0004</td>\n",
       "      <td id=\"T_30b90_row11_col4\" class=\"data row11 col4\" >0.0003</td>\n",
       "      <td id=\"T_30b90_row11_col5\" class=\"data row11 col5\" >0.0007</td>\n",
       "      <td id=\"T_30b90_row11_col6\" class=\"data row11 col6\" >0.0007</td>\n",
       "    </tr>\n",
       "  </tbody>\n",
       "</table>\n"
      ],
      "text/plain": [
       "<pandas.io.formats.style.Styler at 0x7fb3deea7c10>"
      ]
     },
     "metadata": {},
     "output_type": "display_data"
    },
    {
     "data": {
      "text/html": [],
      "text/plain": [
       "<IPython.core.display.HTML object>"
      ]
     },
     "metadata": {},
     "output_type": "display_data"
    }
   ],
   "source": [
    "mlp = create_model('mlp')"
   ]
  },
  {
   "cell_type": "code",
   "execution_count": 66,
   "metadata": {},
   "outputs": [
    {
     "data": {
      "text/html": [],
      "text/plain": [
       "<IPython.core.display.HTML object>"
      ]
     },
     "metadata": {},
     "output_type": "display_data"
    },
    {
     "data": {
      "image/png": "[encoded data removed]",
      "text/plain": [
       "<Figure size 800x550 with 1 Axes>"
      ]
     },
     "metadata": {},
     "output_type": "display_data"
    }
   ],
   "source": [
    "plot_model(mlp, plot = 'confusion_matrix')"
   ]
  },
  {
   "cell_type": "code",
   "execution_count": 67,
   "metadata": {},
   "outputs": [
    {
     "data": {
      "text/html": [],
      "text/plain": [
       "<IPython.core.display.HTML object>"
      ]
     },
     "metadata": {},
     "output_type": "display_data"
    },
    {
     "data": {
      "image/png": "[encoded data removed]",
      "text/plain": [
       "<Figure size 800x550 with 1 Axes>"
      ]
     },
     "metadata": {},
     "output_type": "display_data"
    }
   ],
   "source": [
    "plot_model(mlp, plot = 'error')"
   ]
  },
  {
   "cell_type": "code",
   "execution_count": 68,
   "metadata": {},
   "outputs": [
    {
     "data": {
      "text/html": [],
      "text/plain": [
       "<IPython.core.display.HTML object>"
      ]
     },
     "metadata": {},
     "output_type": "display_data"
    },
    {
     "data": {
      "text/html": [
       "<div>\n",
       "<style scoped>\n",
       "    .dataframe tbody tr th:only-of-type {\n",
       "        vertical-align: middle;\n",
       "    }\n",
       "\n",
       "    .dataframe tbody tr th {\n",
       "        vertical-align: top;\n",
       "    }\n",
       "\n",
       "    .dataframe thead th {\n",
       "        text-align: right;\n",
       "    }\n",
       "</style>\n",
       "<table border=\"1\" class=\"dataframe\">\n",
       "  <thead>\n",
       "    <tr style=\"text-align: right;\">\n",
       "      <th></th>\n",
       "      <th>Parameters</th>\n",
       "    </tr>\n",
       "  </thead>\n",
       "  <tbody>\n",
       "    <tr>\n",
       "      <th>activation</th>\n",
       "      <td>relu</td>\n",
       "    </tr>\n",
       "    <tr>\n",
       "      <th>alpha</th>\n",
       "      <td>0.0001</td>\n",
       "    </tr>\n",
       "    <tr>\n",
       "      <th>batch_size</th>\n",
       "      <td>auto</td>\n",
       "    </tr>\n",
       "    <tr>\n",
       "      <th>beta_1</th>\n",
       "      <td>0.9</td>\n",
       "    </tr>\n",
       "    <tr>\n",
       "      <th>beta_2</th>\n",
       "      <td>0.999</td>\n",
       "    </tr>\n",
       "    <tr>\n",
       "      <th>early_stopping</th>\n",
       "      <td>False</td>\n",
       "    </tr>\n",
       "    <tr>\n",
       "      <th>epsilon</th>\n",
       "      <td>1e-08</td>\n",
       "    </tr>\n",
       "    <tr>\n",
       "      <th>hidden_layer_sizes</th>\n",
       "      <td>(100,)</td>\n",
       "    </tr>\n",
       "    <tr>\n",
       "      <th>learning_rate</th>\n",
       "      <td>constant</td>\n",
       "    </tr>\n",
       "    <tr>\n",
       "      <th>learning_rate_init</th>\n",
       "      <td>0.001</td>\n",
       "    </tr>\n",
       "    <tr>\n",
       "      <th>max_fun</th>\n",
       "      <td>15000</td>\n",
       "    </tr>\n",
       "    <tr>\n",
       "      <th>max_iter</th>\n",
       "      <td>500</td>\n",
       "    </tr>\n",
       "    <tr>\n",
       "      <th>momentum</th>\n",
       "      <td>0.9</td>\n",
       "    </tr>\n",
       "    <tr>\n",
       "      <th>n_iter_no_change</th>\n",
       "      <td>10</td>\n",
       "    </tr>\n",
       "    <tr>\n",
       "      <th>nesterovs_momentum</th>\n",
       "      <td>True</td>\n",
       "    </tr>\n",
       "    <tr>\n",
       "      <th>power_t</th>\n",
       "      <td>0.5</td>\n",
       "    </tr>\n",
       "    <tr>\n",
       "      <th>random_state</th>\n",
       "      <td>8050</td>\n",
       "    </tr>\n",
       "    <tr>\n",
       "      <th>shuffle</th>\n",
       "      <td>True</td>\n",
       "    </tr>\n",
       "    <tr>\n",
       "      <th>solver</th>\n",
       "      <td>adam</td>\n",
       "    </tr>\n",
       "    <tr>\n",
       "      <th>tol</th>\n",
       "      <td>0.0001</td>\n",
       "    </tr>\n",
       "    <tr>\n",
       "      <th>validation_fraction</th>\n",
       "      <td>0.1</td>\n",
       "    </tr>\n",
       "    <tr>\n",
       "      <th>verbose</th>\n",
       "      <td>False</td>\n",
       "    </tr>\n",
       "    <tr>\n",
       "      <th>warm_start</th>\n",
       "      <td>False</td>\n",
       "    </tr>\n",
       "  </tbody>\n",
       "</table>\n",
       "</div>"
      ],
      "text/plain": [
       "                    Parameters\n",
       "activation                relu\n",
       "alpha                   0.0001\n",
       "batch_size                auto\n",
       "beta_1                     0.9\n",
       "beta_2                   0.999\n",
       "early_stopping           False\n",
       "epsilon                  1e-08\n",
       "hidden_layer_sizes      (100,)\n",
       "learning_rate         constant\n",
       "learning_rate_init       0.001\n",
       "max_fun                  15000\n",
       "max_iter                   500\n",
       "momentum                   0.9\n",
       "n_iter_no_change            10\n",
       "nesterovs_momentum        True\n",
       "power_t                    0.5\n",
       "random_state              8050\n",
       "shuffle                   True\n",
       "solver                    adam\n",
       "tol                     0.0001\n",
       "validation_fraction        0.1\n",
       "verbose                  False\n",
       "warm_start               False"
      ]
     },
     "metadata": {},
     "output_type": "display_data"
    }
   ],
   "source": [
    "plot_model(mlp, plot = 'parameter')"
   ]
  },
  {
   "cell_type": "code",
   "execution_count": 69,
   "metadata": {},
   "outputs": [
    {
     "name": "stdout",
     "output_type": "stream",
     "text": [
      "Transformation Pipeline and Model Successfully Saved\n"
     ]
    },
    {
     "data": {
      "text/plain": [
       "(Pipeline(memory=FastMemory(location=/tmp/joblib),\n",
       "          steps=[('numerical_imputer',\n",
       "                  TransformerWrapper(exclude=None,\n",
       "                                     include=['http://semanticscience.org/resource/SIO_000281',\n",
       "                                              'http://semanticscience.org/resource/SIO_000628',\n",
       "                                              'http://semanticscience.org/resource/SIO_001279',\n",
       "                                              'http://www.semanticweb.org/needed-terms#001',\n",
       "                                              'http://www.semanticweb.org/needed-term...\n",
       "                                batch_size='auto', beta_1=0.9, beta_2=0.999,\n",
       "                                early_stopping=False, epsilon=1e-08,\n",
       "                                hidden_layer_sizes=(100,),\n",
       "                                learning_rate='constant',\n",
       "                                learning_rate_init=0.001, max_fun=15000,\n",
       "                                max_iter=500, momentum=0.9, n_iter_no_change=10,\n",
       "                                nesterovs_momentum=True, power_t=0.5,\n",
       "                                random_state=8050, shuffle=True, solver='adam',\n",
       "                                tol=0.0001, validation_fraction=0.1,\n",
       "                                verbose=False, warm_start=False))],\n",
       "          verbose=False),\n",
       " 'mlp.pkl.pkl')"
      ]
     },
     "execution_count": 69,
     "metadata": {},
     "output_type": "execute_result"
    }
   ],
   "source": [
    "save_model(mlp, 'mlp.pkl')"
   ]
  },
  {
   "cell_type": "code",
   "execution_count": 70,
   "metadata": {},
   "outputs": [
    {
     "data": {
      "text/html": [
       "<style type=\"text/css\">\n",
       "</style>\n",
       "<table id=\"T_e5f6e\">\n",
       "  <thead>\n",
       "    <tr>\n",
       "      <th class=\"blank level0\" >&nbsp;</th>\n",
       "      <th id=\"T_e5f6e_level0_col0\" class=\"col_heading level0 col0\" >Model</th>\n",
       "      <th id=\"T_e5f6e_level0_col1\" class=\"col_heading level0 col1\" >Accuracy</th>\n",
       "      <th id=\"T_e5f6e_level0_col2\" class=\"col_heading level0 col2\" >AUC</th>\n",
       "      <th id=\"T_e5f6e_level0_col3\" class=\"col_heading level0 col3\" >Recall</th>\n",
       "      <th id=\"T_e5f6e_level0_col4\" class=\"col_heading level0 col4\" >Prec.</th>\n",
       "      <th id=\"T_e5f6e_level0_col5\" class=\"col_heading level0 col5\" >F1</th>\n",
       "      <th id=\"T_e5f6e_level0_col6\" class=\"col_heading level0 col6\" >Kappa</th>\n",
       "      <th id=\"T_e5f6e_level0_col7\" class=\"col_heading level0 col7\" >MCC</th>\n",
       "    </tr>\n",
       "  </thead>\n",
       "  <tbody>\n",
       "    <tr>\n",
       "      <th id=\"T_e5f6e_level0_row0\" class=\"row_heading level0 row0\" >0</th>\n",
       "      <td id=\"T_e5f6e_row0_col0\" class=\"data row0 col0\" >MLP Classifier</td>\n",
       "      <td id=\"T_e5f6e_row0_col1\" class=\"data row0 col1\" >0.4888</td>\n",
       "      <td id=\"T_e5f6e_row0_col2\" class=\"data row0 col2\" >0.4474</td>\n",
       "      <td id=\"T_e5f6e_row0_col3\" class=\"data row0 col3\" >0.0007</td>\n",
       "      <td id=\"T_e5f6e_row0_col4\" class=\"data row0 col4\" >0.0304</td>\n",
       "      <td id=\"T_e5f6e_row0_col5\" class=\"data row0 col5\" >0.0014</td>\n",
       "      <td id=\"T_e5f6e_row0_col6\" class=\"data row0 col6\" >-0.0224</td>\n",
       "      <td id=\"T_e5f6e_row0_col7\" class=\"data row0 col7\" >-0.1032</td>\n",
       "    </tr>\n",
       "  </tbody>\n",
       "</table>\n"
      ],
      "text/plain": [
       "<pandas.io.formats.style.Styler at 0x7fb32c197c70>"
      ]
     },
     "metadata": {},
     "output_type": "display_data"
    }
   ],
   "source": [
    "mlp_val_pred = predict_model(mlp, data=val)"
   ]
  },
  {
   "cell_type": "code",
   "execution_count": 71,
   "metadata": {
    "tags": []
   },
   "outputs": [
    {
     "name": "stdout",
     "output_type": "stream",
     "text": [
      "Transformation Pipeline and Model Successfully Saved\n"
     ]
    },
    {
     "data": {
      "text/plain": [
       "(Pipeline(memory=FastMemory(location=/tmp/joblib),\n",
       "          steps=[('numerical_imputer',\n",
       "                  TransformerWrapper(exclude=None,\n",
       "                                     include=['http://semanticscience.org/resource/SIO_000281',\n",
       "                                              'http://semanticscience.org/resource/SIO_000628',\n",
       "                                              'http://semanticscience.org/resource/SIO_001279',\n",
       "                                              'http://www.semanticweb.org/needed-terms#001',\n",
       "                                              'http://www.semanticweb.org/needed-term...\n",
       "                                batch_size='auto', beta_1=0.9, beta_2=0.999,\n",
       "                                early_stopping=False, epsilon=1e-08,\n",
       "                                hidden_layer_sizes=(100,),\n",
       "                                learning_rate='constant',\n",
       "                                learning_rate_init=0.001, max_fun=15000,\n",
       "                                max_iter=500, momentum=0.9, n_iter_no_change=10,\n",
       "                                nesterovs_momentum=True, power_t=0.5,\n",
       "                                random_state=8050, shuffle=True, solver='adam',\n",
       "                                tol=0.0001, validation_fraction=0.1,\n",
       "                                verbose=False, warm_start=False))],\n",
       "          verbose=False),\n",
       " 'mlp.pkl.pkl')"
      ]
     },
     "execution_count": 71,
     "metadata": {},
     "output_type": "execute_result"
    }
   ],
   "source": [
    "save_model(mlp, 'mlp.pkl')"
   ]
  }
 ],
 "metadata": {
  "kernelspec": {
   "display_name": "aled",
   "language": "python",
   "name": "aled"
  },
  "language_info": {
   "codemirror_mode": {
    "name": "ipython",
    "version": 3
   },
   "file_extension": ".py",
   "mimetype": "text/x-python",
   "name": "python",
   "nbconvert_exporter": "python",
   "pygments_lexer": "ipython3",
   "version": "3.10.9"
  },
  "vscode": {
   "interpreter": {
    "hash": "bad715aa2aaeb5e6c151df84b54974e4cb5c7f8696a7ce08edfdc275e59caf55"
   }
  }
 },
 "nbformat": 4,
 "nbformat_minor": 4
}
