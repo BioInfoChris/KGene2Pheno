{
 "cells": [
  {
   "cell_type": "code",
   "execution_count": 1,
   "metadata": {
    "tags": []
   },
   "outputs": [
    {
     "name": "stderr",
     "output_type": "stream",
     "text": [
      "\u001b[34m\u001b[1mwandb\u001b[0m: Currently logged in as: \u001b[33mantoine-toffano\u001b[0m (\u001b[33mmlb\u001b[0m). Use \u001b[1m`wandb login --relogin`\u001b[0m to force relogin\n"
     ]
    },
    {
     "data": {
      "text/html": [
       "wandb version 0.15.0 is available!  To upgrade, please run:\n",
       " $ pip install wandb --upgrade"
      ],
      "text/plain": [
       "<IPython.core.display.HTML object>"
      ]
     },
     "metadata": {},
     "output_type": "display_data"
    },
    {
     "data": {
      "text/html": [
       "Tracking run with wandb version 0.14.0"
      ],
      "text/plain": [
       "<IPython.core.display.HTML object>"
      ]
     },
     "metadata": {},
     "output_type": "display_data"
    },
    {
     "data": {
      "text/html": [
       "Run data is saved locally in <code>/home/antoine/gene_pheno_pred/wandb/run-20230424_102448-hvgwda60</code>"
      ],
      "text/plain": [
       "<IPython.core.display.HTML object>"
      ]
     },
     "metadata": {},
     "output_type": "display_data"
    },
    {
     "data": {
      "text/html": [
       "Syncing run <strong><a href='https://wandb.ai/mlb/cigap-classif/runs/hvgwda60' target=\"_blank\">restful-shape-18</a></strong> to <a href='https://wandb.ai/mlb/cigap-classif' target=\"_blank\">Weights & Biases</a> (<a href='https://wandb.me/run' target=\"_blank\">docs</a>)<br/>"
      ],
      "text/plain": [
       "<IPython.core.display.HTML object>"
      ]
     },
     "metadata": {},
     "output_type": "display_data"
    },
    {
     "data": {
      "text/html": [
       " View project at <a href='https://wandb.ai/mlb/cigap-classif' target=\"_blank\">https://wandb.ai/mlb/cigap-classif</a>"
      ],
      "text/plain": [
       "<IPython.core.display.HTML object>"
      ]
     },
     "metadata": {},
     "output_type": "display_data"
    },
    {
     "data": {
      "text/html": [
       " View run at <a href='https://wandb.ai/mlb/cigap-classif/runs/hvgwda60' target=\"_blank\">https://wandb.ai/mlb/cigap-classif/runs/hvgwda60</a>"
      ],
      "text/plain": [
       "<IPython.core.display.HTML object>"
      ]
     },
     "metadata": {},
     "output_type": "display_data"
    },
    {
     "data": {
      "text/html": [
       "<button onClick=\"this.nextSibling.style.display='block';this.style.display='none';\">Display W&B run</button><iframe src='https://wandb.ai/mlb/cigap-classif/runs/hvgwda60?jupyter=true' style='border:none;width:100%;height:420px;display:none;'></iframe>"
      ],
      "text/plain": [
       "<wandb.sdk.wandb_run.Run at 0x7f7d924f0910>"
      ]
     },
     "execution_count": 1,
     "metadata": {},
     "output_type": "execute_result"
    }
   ],
   "source": [
    "from pycaret.classification import *\n",
    "import pandas as pd\n",
    "import os\n",
    "import wandb\n",
    "\n",
    "os.chdir('/home/antoine/gene_pheno_pred')\n",
    "os.environ[\"CUDA_VISIBLE_DEVICES\"]=\"0\"\n",
    "os.environ[\"WANDB_API_KEY\"]=\"4e5748d6c6f3917c78cdc38a516a1bac776faf58\"\n",
    "wandb.login()\n",
    "wandb.init(\n",
    "    project=\"cigap-classif\",\n",
    ")\n"
   ]
  },
  {
   "cell_type": "code",
   "execution_count": 2,
   "metadata": {
    "tags": []
   },
   "outputs": [
    {
     "data": {
      "text/html": [
       "<div>\n",
       "<style scoped>\n",
       "    .dataframe tbody tr th:only-of-type {\n",
       "        vertical-align: middle;\n",
       "    }\n",
       "\n",
       "    .dataframe tbody tr th {\n",
       "        vertical-align: top;\n",
       "    }\n",
       "\n",
       "    .dataframe thead th {\n",
       "        text-align: right;\n",
       "    }\n",
       "</style>\n",
       "<table border=\"1\" class=\"dataframe\">\n",
       "  <thead>\n",
       "    <tr style=\"text-align: right;\">\n",
       "      <th></th>\n",
       "      <th>http://semanticscience.org/resource/SIO_000281</th>\n",
       "      <th>http://semanticscience.org/resource/SIO_000628</th>\n",
       "      <th>http://semanticscience.org/resource/SIO_001279</th>\n",
       "      <th>http://www.semanticweb.org/needed-terms#001</th>\n",
       "      <th>http://www.semanticweb.org/needed-terms#002</th>\n",
       "      <th>http://www.semanticweb.org/needed-terms#004</th>\n",
       "      <th>http://www.semanticweb.org/needed-terms#009</th>\n",
       "      <th>http://www.w3.org/1999/02/22-rdf-syntax-ns#label</th>\n",
       "      <th>http://www.w3.org/1999/02/22-rdf-syntax-ns#type</th>\n",
       "      <th>http://www.w3.org/2000/01/rdf-schema#subClassOf</th>\n",
       "      <th>true_triple</th>\n",
       "    </tr>\n",
       "  </thead>\n",
       "  <tbody>\n",
       "    <tr>\n",
       "      <th>0</th>\n",
       "      <td>1.390461e-16</td>\n",
       "      <td>2.022144e-09</td>\n",
       "      <td>1.723389e-15</td>\n",
       "      <td>1.686923e-13</td>\n",
       "      <td>8.797799e-11</td>\n",
       "      <td>4.820794e-08</td>\n",
       "      <td>4.101536e-08</td>\n",
       "      <td>4.054872e-12</td>\n",
       "      <td>7.577471e-10</td>\n",
       "      <td>3.193485e-04</td>\n",
       "      <td>1.0</td>\n",
       "    </tr>\n",
       "    <tr>\n",
       "      <th>1</th>\n",
       "      <td>7.769395e-18</td>\n",
       "      <td>9.269042e-09</td>\n",
       "      <td>9.277287e-16</td>\n",
       "      <td>2.822336e-12</td>\n",
       "      <td>9.127231e-10</td>\n",
       "      <td>3.271483e-08</td>\n",
       "      <td>1.297195e-07</td>\n",
       "      <td>1.459238e-12</td>\n",
       "      <td>3.891724e-08</td>\n",
       "      <td>5.482596e-03</td>\n",
       "      <td>1.0</td>\n",
       "    </tr>\n",
       "    <tr>\n",
       "      <th>2</th>\n",
       "      <td>9.381931e-21</td>\n",
       "      <td>1.260345e-12</td>\n",
       "      <td>2.533955e-18</td>\n",
       "      <td>3.766882e-16</td>\n",
       "      <td>3.138146e-13</td>\n",
       "      <td>2.445664e-13</td>\n",
       "      <td>8.000954e-12</td>\n",
       "      <td>1.718058e-16</td>\n",
       "      <td>2.202536e-12</td>\n",
       "      <td>4.351150e-06</td>\n",
       "      <td>1.0</td>\n",
       "    </tr>\n",
       "    <tr>\n",
       "      <th>3</th>\n",
       "      <td>9.624895e-11</td>\n",
       "      <td>1.401421e-07</td>\n",
       "      <td>1.800882e-10</td>\n",
       "      <td>2.432747e-07</td>\n",
       "      <td>1.276196e-05</td>\n",
       "      <td>5.773820e-01</td>\n",
       "      <td>7.143231e-08</td>\n",
       "      <td>1.922280e-13</td>\n",
       "      <td>1.114032e-06</td>\n",
       "      <td>6.695654e-06</td>\n",
       "      <td>0.0</td>\n",
       "    </tr>\n",
       "    <tr>\n",
       "      <th>4</th>\n",
       "      <td>8.980259e-18</td>\n",
       "      <td>1.425727e-09</td>\n",
       "      <td>1.264181e-16</td>\n",
       "      <td>7.146914e-11</td>\n",
       "      <td>4.413531e-10</td>\n",
       "      <td>1.747594e-05</td>\n",
       "      <td>7.362392e-09</td>\n",
       "      <td>2.288004e-13</td>\n",
       "      <td>5.467836e-08</td>\n",
       "      <td>1.467091e-05</td>\n",
       "      <td>1.0</td>\n",
       "    </tr>\n",
       "    <tr>\n",
       "      <th>...</th>\n",
       "      <td>...</td>\n",
       "      <td>...</td>\n",
       "      <td>...</td>\n",
       "      <td>...</td>\n",
       "      <td>...</td>\n",
       "      <td>...</td>\n",
       "      <td>...</td>\n",
       "      <td>...</td>\n",
       "      <td>...</td>\n",
       "      <td>...</td>\n",
       "      <td>...</td>\n",
       "    </tr>\n",
       "    <tr>\n",
       "      <th>234137</th>\n",
       "      <td>1.229546e-17</td>\n",
       "      <td>6.919032e-09</td>\n",
       "      <td>2.298910e-16</td>\n",
       "      <td>4.578273e-12</td>\n",
       "      <td>5.369236e-10</td>\n",
       "      <td>9.068614e-10</td>\n",
       "      <td>3.044238e-08</td>\n",
       "      <td>7.133577e-16</td>\n",
       "      <td>3.327396e-08</td>\n",
       "      <td>1.743223e-04</td>\n",
       "      <td>0.0</td>\n",
       "    </tr>\n",
       "    <tr>\n",
       "      <th>234138</th>\n",
       "      <td>1.928937e-19</td>\n",
       "      <td>1.661600e-09</td>\n",
       "      <td>1.274581e-17</td>\n",
       "      <td>2.727026e-12</td>\n",
       "      <td>2.053241e-11</td>\n",
       "      <td>7.465712e-11</td>\n",
       "      <td>2.907225e-09</td>\n",
       "      <td>2.081199e-16</td>\n",
       "      <td>6.355764e-10</td>\n",
       "      <td>7.167623e-05</td>\n",
       "      <td>1.0</td>\n",
       "    </tr>\n",
       "    <tr>\n",
       "      <th>234139</th>\n",
       "      <td>8.608478e-16</td>\n",
       "      <td>4.379825e-08</td>\n",
       "      <td>4.330948e-14</td>\n",
       "      <td>2.884387e-12</td>\n",
       "      <td>2.634657e-09</td>\n",
       "      <td>1.799625e-05</td>\n",
       "      <td>3.820267e-08</td>\n",
       "      <td>5.058671e-14</td>\n",
       "      <td>6.640151e-08</td>\n",
       "      <td>7.224494e-06</td>\n",
       "      <td>1.0</td>\n",
       "    </tr>\n",
       "    <tr>\n",
       "      <th>234140</th>\n",
       "      <td>5.686351e-28</td>\n",
       "      <td>7.202888e-18</td>\n",
       "      <td>5.765508e-28</td>\n",
       "      <td>7.974873e-19</td>\n",
       "      <td>4.766921e-19</td>\n",
       "      <td>1.164702e-16</td>\n",
       "      <td>3.423171e-16</td>\n",
       "      <td>2.025809e-18</td>\n",
       "      <td>3.418671e-15</td>\n",
       "      <td>4.055928e-10</td>\n",
       "      <td>1.0</td>\n",
       "    </tr>\n",
       "    <tr>\n",
       "      <th>234141</th>\n",
       "      <td>2.553839e-18</td>\n",
       "      <td>3.622823e-09</td>\n",
       "      <td>3.820718e-16</td>\n",
       "      <td>1.159274e-13</td>\n",
       "      <td>3.663036e-11</td>\n",
       "      <td>1.671249e-10</td>\n",
       "      <td>8.293246e-09</td>\n",
       "      <td>2.585644e-14</td>\n",
       "      <td>4.303019e-10</td>\n",
       "      <td>1.103034e-05</td>\n",
       "      <td>1.0</td>\n",
       "    </tr>\n",
       "  </tbody>\n",
       "</table>\n",
       "<p>234142 rows × 11 columns</p>\n",
       "</div>"
      ],
      "text/plain": [
       "        http://semanticscience.org/resource/SIO_000281  \\\n",
       "0                                         1.390461e-16   \n",
       "1                                         7.769395e-18   \n",
       "2                                         9.381931e-21   \n",
       "3                                         9.624895e-11   \n",
       "4                                         8.980259e-18   \n",
       "...                                                ...   \n",
       "234137                                    1.229546e-17   \n",
       "234138                                    1.928937e-19   \n",
       "234139                                    8.608478e-16   \n",
       "234140                                    5.686351e-28   \n",
       "234141                                    2.553839e-18   \n",
       "\n",
       "        http://semanticscience.org/resource/SIO_000628  \\\n",
       "0                                         2.022144e-09   \n",
       "1                                         9.269042e-09   \n",
       "2                                         1.260345e-12   \n",
       "3                                         1.401421e-07   \n",
       "4                                         1.425727e-09   \n",
       "...                                                ...   \n",
       "234137                                    6.919032e-09   \n",
       "234138                                    1.661600e-09   \n",
       "234139                                    4.379825e-08   \n",
       "234140                                    7.202888e-18   \n",
       "234141                                    3.622823e-09   \n",
       "\n",
       "        http://semanticscience.org/resource/SIO_001279  \\\n",
       "0                                         1.723389e-15   \n",
       "1                                         9.277287e-16   \n",
       "2                                         2.533955e-18   \n",
       "3                                         1.800882e-10   \n",
       "4                                         1.264181e-16   \n",
       "...                                                ...   \n",
       "234137                                    2.298910e-16   \n",
       "234138                                    1.274581e-17   \n",
       "234139                                    4.330948e-14   \n",
       "234140                                    5.765508e-28   \n",
       "234141                                    3.820718e-16   \n",
       "\n",
       "        http://www.semanticweb.org/needed-terms#001  \\\n",
       "0                                      1.686923e-13   \n",
       "1                                      2.822336e-12   \n",
       "2                                      3.766882e-16   \n",
       "3                                      2.432747e-07   \n",
       "4                                      7.146914e-11   \n",
       "...                                             ...   \n",
       "234137                                 4.578273e-12   \n",
       "234138                                 2.727026e-12   \n",
       "234139                                 2.884387e-12   \n",
       "234140                                 7.974873e-19   \n",
       "234141                                 1.159274e-13   \n",
       "\n",
       "        http://www.semanticweb.org/needed-terms#002  \\\n",
       "0                                      8.797799e-11   \n",
       "1                                      9.127231e-10   \n",
       "2                                      3.138146e-13   \n",
       "3                                      1.276196e-05   \n",
       "4                                      4.413531e-10   \n",
       "...                                             ...   \n",
       "234137                                 5.369236e-10   \n",
       "234138                                 2.053241e-11   \n",
       "234139                                 2.634657e-09   \n",
       "234140                                 4.766921e-19   \n",
       "234141                                 3.663036e-11   \n",
       "\n",
       "        http://www.semanticweb.org/needed-terms#004  \\\n",
       "0                                      4.820794e-08   \n",
       "1                                      3.271483e-08   \n",
       "2                                      2.445664e-13   \n",
       "3                                      5.773820e-01   \n",
       "4                                      1.747594e-05   \n",
       "...                                             ...   \n",
       "234137                                 9.068614e-10   \n",
       "234138                                 7.465712e-11   \n",
       "234139                                 1.799625e-05   \n",
       "234140                                 1.164702e-16   \n",
       "234141                                 1.671249e-10   \n",
       "\n",
       "        http://www.semanticweb.org/needed-terms#009  \\\n",
       "0                                      4.101536e-08   \n",
       "1                                      1.297195e-07   \n",
       "2                                      8.000954e-12   \n",
       "3                                      7.143231e-08   \n",
       "4                                      7.362392e-09   \n",
       "...                                             ...   \n",
       "234137                                 3.044238e-08   \n",
       "234138                                 2.907225e-09   \n",
       "234139                                 3.820267e-08   \n",
       "234140                                 3.423171e-16   \n",
       "234141                                 8.293246e-09   \n",
       "\n",
       "        http://www.w3.org/1999/02/22-rdf-syntax-ns#label  \\\n",
       "0                                           4.054872e-12   \n",
       "1                                           1.459238e-12   \n",
       "2                                           1.718058e-16   \n",
       "3                                           1.922280e-13   \n",
       "4                                           2.288004e-13   \n",
       "...                                                  ...   \n",
       "234137                                      7.133577e-16   \n",
       "234138                                      2.081199e-16   \n",
       "234139                                      5.058671e-14   \n",
       "234140                                      2.025809e-18   \n",
       "234141                                      2.585644e-14   \n",
       "\n",
       "        http://www.w3.org/1999/02/22-rdf-syntax-ns#type  \\\n",
       "0                                          7.577471e-10   \n",
       "1                                          3.891724e-08   \n",
       "2                                          2.202536e-12   \n",
       "3                                          1.114032e-06   \n",
       "4                                          5.467836e-08   \n",
       "...                                                 ...   \n",
       "234137                                     3.327396e-08   \n",
       "234138                                     6.355764e-10   \n",
       "234139                                     6.640151e-08   \n",
       "234140                                     3.418671e-15   \n",
       "234141                                     4.303019e-10   \n",
       "\n",
       "        http://www.w3.org/2000/01/rdf-schema#subClassOf  true_triple  \n",
       "0                                          3.193485e-04          1.0  \n",
       "1                                          5.482596e-03          1.0  \n",
       "2                                          4.351150e-06          1.0  \n",
       "3                                          6.695654e-06          0.0  \n",
       "4                                          1.467091e-05          1.0  \n",
       "...                                                 ...          ...  \n",
       "234137                                     1.743223e-04          0.0  \n",
       "234138                                     7.167623e-05          1.0  \n",
       "234139                                     7.224494e-06          1.0  \n",
       "234140                                     4.055928e-10          1.0  \n",
       "234141                                     1.103034e-05          1.0  \n",
       "\n",
       "[234142 rows x 11 columns]"
      ]
     },
     "execution_count": 2,
     "metadata": {},
     "output_type": "execute_result"
    }
   ],
   "source": [
    "# Load training set\n",
    "train = pd.read_csv('/home/antoine/gene_pheno_pred/ConvKB_scores_val.csv' , header=0)\n",
    "train.drop(columns=['rel_type'], inplace=True)\n",
    "train"
   ]
  },
  {
   "cell_type": "code",
   "execution_count": 3,
   "metadata": {
    "tags": []
   },
   "outputs": [
    {
     "data": {
      "text/html": [
       "<div>\n",
       "<style scoped>\n",
       "    .dataframe tbody tr th:only-of-type {\n",
       "        vertical-align: middle;\n",
       "    }\n",
       "\n",
       "    .dataframe tbody tr th {\n",
       "        vertical-align: top;\n",
       "    }\n",
       "\n",
       "    .dataframe thead th {\n",
       "        text-align: right;\n",
       "    }\n",
       "</style>\n",
       "<table border=\"1\" class=\"dataframe\">\n",
       "  <thead>\n",
       "    <tr style=\"text-align: right;\">\n",
       "      <th></th>\n",
       "      <th>http://semanticscience.org/resource/SIO_000281</th>\n",
       "      <th>http://semanticscience.org/resource/SIO_000628</th>\n",
       "      <th>http://semanticscience.org/resource/SIO_001279</th>\n",
       "      <th>http://www.semanticweb.org/needed-terms#001</th>\n",
       "      <th>http://www.semanticweb.org/needed-terms#002</th>\n",
       "      <th>http://www.semanticweb.org/needed-terms#004</th>\n",
       "      <th>http://www.semanticweb.org/needed-terms#009</th>\n",
       "      <th>http://www.w3.org/1999/02/22-rdf-syntax-ns#label</th>\n",
       "      <th>http://www.w3.org/1999/02/22-rdf-syntax-ns#type</th>\n",
       "      <th>http://www.w3.org/2000/01/rdf-schema#subClassOf</th>\n",
       "      <th>true_triple</th>\n",
       "    </tr>\n",
       "  </thead>\n",
       "  <tbody>\n",
       "    <tr>\n",
       "      <th>0</th>\n",
       "      <td>3.321381e-33</td>\n",
       "      <td>1.383637e-21</td>\n",
       "      <td>2.483230e-32</td>\n",
       "      <td>1.455230e-22</td>\n",
       "      <td>6.548166e-22</td>\n",
       "      <td>1.463533e-19</td>\n",
       "      <td>5.420684e-18</td>\n",
       "      <td>1.897750e-18</td>\n",
       "      <td>8.134990e-18</td>\n",
       "      <td>4.384205e-15</td>\n",
       "      <td>1.0</td>\n",
       "    </tr>\n",
       "    <tr>\n",
       "      <th>1</th>\n",
       "      <td>1.811332e-23</td>\n",
       "      <td>2.763797e-15</td>\n",
       "      <td>1.775541e-21</td>\n",
       "      <td>6.342205e-20</td>\n",
       "      <td>4.313551e-15</td>\n",
       "      <td>4.980899e-14</td>\n",
       "      <td>1.970257e-10</td>\n",
       "      <td>5.644733e-14</td>\n",
       "      <td>3.116356e-13</td>\n",
       "      <td>3.078375e-10</td>\n",
       "      <td>0.0</td>\n",
       "    </tr>\n",
       "    <tr>\n",
       "      <th>2</th>\n",
       "      <td>7.447356e-21</td>\n",
       "      <td>4.160307e-11</td>\n",
       "      <td>5.582756e-19</td>\n",
       "      <td>2.302747e-15</td>\n",
       "      <td>6.746490e-13</td>\n",
       "      <td>1.658670e-14</td>\n",
       "      <td>7.288072e-10</td>\n",
       "      <td>1.252752e-14</td>\n",
       "      <td>4.998973e-10</td>\n",
       "      <td>6.126306e-06</td>\n",
       "      <td>1.0</td>\n",
       "    </tr>\n",
       "    <tr>\n",
       "      <th>3</th>\n",
       "      <td>1.860074e-16</td>\n",
       "      <td>2.402229e-07</td>\n",
       "      <td>5.719892e-15</td>\n",
       "      <td>5.299638e-12</td>\n",
       "      <td>2.562623e-10</td>\n",
       "      <td>9.687995e-11</td>\n",
       "      <td>1.275443e-08</td>\n",
       "      <td>5.860161e-15</td>\n",
       "      <td>1.271677e-09</td>\n",
       "      <td>1.525240e-04</td>\n",
       "      <td>0.0</td>\n",
       "    </tr>\n",
       "    <tr>\n",
       "      <th>4</th>\n",
       "      <td>7.575236e-20</td>\n",
       "      <td>9.644912e-10</td>\n",
       "      <td>1.224949e-17</td>\n",
       "      <td>6.552931e-13</td>\n",
       "      <td>1.783159e-11</td>\n",
       "      <td>2.654347e-10</td>\n",
       "      <td>1.313196e-09</td>\n",
       "      <td>2.183876e-15</td>\n",
       "      <td>4.490240e-10</td>\n",
       "      <td>7.618663e-05</td>\n",
       "      <td>0.0</td>\n",
       "    </tr>\n",
       "    <tr>\n",
       "      <th>...</th>\n",
       "      <td>...</td>\n",
       "      <td>...</td>\n",
       "      <td>...</td>\n",
       "      <td>...</td>\n",
       "      <td>...</td>\n",
       "      <td>...</td>\n",
       "      <td>...</td>\n",
       "      <td>...</td>\n",
       "      <td>...</td>\n",
       "      <td>...</td>\n",
       "      <td>...</td>\n",
       "    </tr>\n",
       "    <tr>\n",
       "      <th>233779</th>\n",
       "      <td>3.970005e-18</td>\n",
       "      <td>2.674709e-08</td>\n",
       "      <td>5.398218e-16</td>\n",
       "      <td>5.807440e-15</td>\n",
       "      <td>5.888175e-10</td>\n",
       "      <td>1.911851e-10</td>\n",
       "      <td>7.034750e-09</td>\n",
       "      <td>3.717835e-14</td>\n",
       "      <td>3.635154e-11</td>\n",
       "      <td>4.616353e-05</td>\n",
       "      <td>1.0</td>\n",
       "    </tr>\n",
       "    <tr>\n",
       "      <th>233780</th>\n",
       "      <td>1.035747e-21</td>\n",
       "      <td>7.316265e-13</td>\n",
       "      <td>2.709900e-19</td>\n",
       "      <td>2.990407e-15</td>\n",
       "      <td>3.468044e-16</td>\n",
       "      <td>6.197404e-16</td>\n",
       "      <td>2.939952e-13</td>\n",
       "      <td>1.038115e-16</td>\n",
       "      <td>7.710044e-12</td>\n",
       "      <td>1.571479e-07</td>\n",
       "      <td>0.0</td>\n",
       "    </tr>\n",
       "    <tr>\n",
       "      <th>233781</th>\n",
       "      <td>2.422918e-21</td>\n",
       "      <td>5.694059e-12</td>\n",
       "      <td>4.622286e-19</td>\n",
       "      <td>4.217616e-15</td>\n",
       "      <td>1.993609e-13</td>\n",
       "      <td>1.525600e-12</td>\n",
       "      <td>7.879751e-12</td>\n",
       "      <td>7.616485e-16</td>\n",
       "      <td>1.604063e-11</td>\n",
       "      <td>4.809562e-06</td>\n",
       "      <td>1.0</td>\n",
       "    </tr>\n",
       "    <tr>\n",
       "      <th>233782</th>\n",
       "      <td>2.813098e-23</td>\n",
       "      <td>4.349494e-13</td>\n",
       "      <td>3.981768e-21</td>\n",
       "      <td>2.200106e-15</td>\n",
       "      <td>5.172997e-14</td>\n",
       "      <td>6.115773e-15</td>\n",
       "      <td>5.186557e-12</td>\n",
       "      <td>8.830882e-19</td>\n",
       "      <td>7.972586e-13</td>\n",
       "      <td>9.617531e-08</td>\n",
       "      <td>0.0</td>\n",
       "    </tr>\n",
       "    <tr>\n",
       "      <th>233783</th>\n",
       "      <td>7.189731e-20</td>\n",
       "      <td>1.034398e-11</td>\n",
       "      <td>2.989410e-18</td>\n",
       "      <td>8.961613e-17</td>\n",
       "      <td>1.562184e-12</td>\n",
       "      <td>4.819644e-12</td>\n",
       "      <td>9.651606e-11</td>\n",
       "      <td>1.035076e-13</td>\n",
       "      <td>7.543924e-11</td>\n",
       "      <td>1.641323e-05</td>\n",
       "      <td>1.0</td>\n",
       "    </tr>\n",
       "  </tbody>\n",
       "</table>\n",
       "<p>233784 rows × 11 columns</p>\n",
       "</div>"
      ],
      "text/plain": [
       "        http://semanticscience.org/resource/SIO_000281  \\\n",
       "0                                         3.321381e-33   \n",
       "1                                         1.811332e-23   \n",
       "2                                         7.447356e-21   \n",
       "3                                         1.860074e-16   \n",
       "4                                         7.575236e-20   \n",
       "...                                                ...   \n",
       "233779                                    3.970005e-18   \n",
       "233780                                    1.035747e-21   \n",
       "233781                                    2.422918e-21   \n",
       "233782                                    2.813098e-23   \n",
       "233783                                    7.189731e-20   \n",
       "\n",
       "        http://semanticscience.org/resource/SIO_000628  \\\n",
       "0                                         1.383637e-21   \n",
       "1                                         2.763797e-15   \n",
       "2                                         4.160307e-11   \n",
       "3                                         2.402229e-07   \n",
       "4                                         9.644912e-10   \n",
       "...                                                ...   \n",
       "233779                                    2.674709e-08   \n",
       "233780                                    7.316265e-13   \n",
       "233781                                    5.694059e-12   \n",
       "233782                                    4.349494e-13   \n",
       "233783                                    1.034398e-11   \n",
       "\n",
       "        http://semanticscience.org/resource/SIO_001279  \\\n",
       "0                                         2.483230e-32   \n",
       "1                                         1.775541e-21   \n",
       "2                                         5.582756e-19   \n",
       "3                                         5.719892e-15   \n",
       "4                                         1.224949e-17   \n",
       "...                                                ...   \n",
       "233779                                    5.398218e-16   \n",
       "233780                                    2.709900e-19   \n",
       "233781                                    4.622286e-19   \n",
       "233782                                    3.981768e-21   \n",
       "233783                                    2.989410e-18   \n",
       "\n",
       "        http://www.semanticweb.org/needed-terms#001  \\\n",
       "0                                      1.455230e-22   \n",
       "1                                      6.342205e-20   \n",
       "2                                      2.302747e-15   \n",
       "3                                      5.299638e-12   \n",
       "4                                      6.552931e-13   \n",
       "...                                             ...   \n",
       "233779                                 5.807440e-15   \n",
       "233780                                 2.990407e-15   \n",
       "233781                                 4.217616e-15   \n",
       "233782                                 2.200106e-15   \n",
       "233783                                 8.961613e-17   \n",
       "\n",
       "        http://www.semanticweb.org/needed-terms#002  \\\n",
       "0                                      6.548166e-22   \n",
       "1                                      4.313551e-15   \n",
       "2                                      6.746490e-13   \n",
       "3                                      2.562623e-10   \n",
       "4                                      1.783159e-11   \n",
       "...                                             ...   \n",
       "233779                                 5.888175e-10   \n",
       "233780                                 3.468044e-16   \n",
       "233781                                 1.993609e-13   \n",
       "233782                                 5.172997e-14   \n",
       "233783                                 1.562184e-12   \n",
       "\n",
       "        http://www.semanticweb.org/needed-terms#004  \\\n",
       "0                                      1.463533e-19   \n",
       "1                                      4.980899e-14   \n",
       "2                                      1.658670e-14   \n",
       "3                                      9.687995e-11   \n",
       "4                                      2.654347e-10   \n",
       "...                                             ...   \n",
       "233779                                 1.911851e-10   \n",
       "233780                                 6.197404e-16   \n",
       "233781                                 1.525600e-12   \n",
       "233782                                 6.115773e-15   \n",
       "233783                                 4.819644e-12   \n",
       "\n",
       "        http://www.semanticweb.org/needed-terms#009  \\\n",
       "0                                      5.420684e-18   \n",
       "1                                      1.970257e-10   \n",
       "2                                      7.288072e-10   \n",
       "3                                      1.275443e-08   \n",
       "4                                      1.313196e-09   \n",
       "...                                             ...   \n",
       "233779                                 7.034750e-09   \n",
       "233780                                 2.939952e-13   \n",
       "233781                                 7.879751e-12   \n",
       "233782                                 5.186557e-12   \n",
       "233783                                 9.651606e-11   \n",
       "\n",
       "        http://www.w3.org/1999/02/22-rdf-syntax-ns#label  \\\n",
       "0                                           1.897750e-18   \n",
       "1                                           5.644733e-14   \n",
       "2                                           1.252752e-14   \n",
       "3                                           5.860161e-15   \n",
       "4                                           2.183876e-15   \n",
       "...                                                  ...   \n",
       "233779                                      3.717835e-14   \n",
       "233780                                      1.038115e-16   \n",
       "233781                                      7.616485e-16   \n",
       "233782                                      8.830882e-19   \n",
       "233783                                      1.035076e-13   \n",
       "\n",
       "        http://www.w3.org/1999/02/22-rdf-syntax-ns#type  \\\n",
       "0                                          8.134990e-18   \n",
       "1                                          3.116356e-13   \n",
       "2                                          4.998973e-10   \n",
       "3                                          1.271677e-09   \n",
       "4                                          4.490240e-10   \n",
       "...                                                 ...   \n",
       "233779                                     3.635154e-11   \n",
       "233780                                     7.710044e-12   \n",
       "233781                                     1.604063e-11   \n",
       "233782                                     7.972586e-13   \n",
       "233783                                     7.543924e-11   \n",
       "\n",
       "        http://www.w3.org/2000/01/rdf-schema#subClassOf  true_triple  \n",
       "0                                          4.384205e-15          1.0  \n",
       "1                                          3.078375e-10          0.0  \n",
       "2                                          6.126306e-06          1.0  \n",
       "3                                          1.525240e-04          0.0  \n",
       "4                                          7.618663e-05          0.0  \n",
       "...                                                 ...          ...  \n",
       "233779                                     4.616353e-05          1.0  \n",
       "233780                                     1.571479e-07          0.0  \n",
       "233781                                     4.809562e-06          1.0  \n",
       "233782                                     9.617531e-08          0.0  \n",
       "233783                                     1.641323e-05          1.0  \n",
       "\n",
       "[233784 rows x 11 columns]"
      ]
     },
     "execution_count": 3,
     "metadata": {},
     "output_type": "execute_result"
    }
   ],
   "source": [
    "# Validation set\n",
    "val = pd.read_csv('/home/antoine/gene_pheno_pred/ConvKB_scores_test.csv' , header=0)\n",
    "val.drop(columns=['rel_type'], inplace=True)\n",
    "val"
   ]
  },
  {
   "cell_type": "code",
   "execution_count": 4,
   "metadata": {},
   "outputs": [
    {
     "data": {
      "text/html": [
       "<div>\n",
       "<style scoped>\n",
       "    .dataframe tbody tr th:only-of-type {\n",
       "        vertical-align: middle;\n",
       "    }\n",
       "\n",
       "    .dataframe tbody tr th {\n",
       "        vertical-align: top;\n",
       "    }\n",
       "\n",
       "    .dataframe thead th {\n",
       "        text-align: right;\n",
       "    }\n",
       "</style>\n",
       "<table border=\"1\" class=\"dataframe\">\n",
       "  <thead>\n",
       "    <tr style=\"text-align: right;\">\n",
       "      <th></th>\n",
       "      <th>http://semanticscience.org/resource/SIO_000281</th>\n",
       "      <th>http://semanticscience.org/resource/SIO_000628</th>\n",
       "      <th>http://semanticscience.org/resource/SIO_001279</th>\n",
       "      <th>http://www.semanticweb.org/needed-terms#001</th>\n",
       "      <th>http://www.semanticweb.org/needed-terms#002</th>\n",
       "      <th>http://www.semanticweb.org/needed-terms#004</th>\n",
       "      <th>http://www.semanticweb.org/needed-terms#009</th>\n",
       "      <th>http://www.w3.org/1999/02/22-rdf-syntax-ns#label</th>\n",
       "      <th>http://www.w3.org/1999/02/22-rdf-syntax-ns#type</th>\n",
       "      <th>http://www.w3.org/2000/01/rdf-schema#subClassOf</th>\n",
       "      <th>rel_type</th>\n",
       "    </tr>\n",
       "  </thead>\n",
       "  <tbody>\n",
       "    <tr>\n",
       "      <th>0</th>\n",
       "      <td>1.497328e-16</td>\n",
       "      <td>8.569161e-07</td>\n",
       "      <td>1.161128e-14</td>\n",
       "      <td>1.399443e-08</td>\n",
       "      <td>1.813081e-08</td>\n",
       "      <td>2.255108e-08</td>\n",
       "      <td>6.415973e-09</td>\n",
       "      <td>7.192457e-17</td>\n",
       "      <td>4.774428e-08</td>\n",
       "      <td>1.876987e-05</td>\n",
       "      <td>no_link_known</td>\n",
       "    </tr>\n",
       "    <tr>\n",
       "      <th>1</th>\n",
       "      <td>1.396785e-12</td>\n",
       "      <td>1.321590e-07</td>\n",
       "      <td>7.981567e-12</td>\n",
       "      <td>1.049748e-07</td>\n",
       "      <td>2.958315e-05</td>\n",
       "      <td>9.661645e-01</td>\n",
       "      <td>1.031275e-06</td>\n",
       "      <td>1.249553e-11</td>\n",
       "      <td>5.501635e-07</td>\n",
       "      <td>7.726856e-07</td>\n",
       "      <td>http://www.semanticweb.org/needed-terms#004</td>\n",
       "    </tr>\n",
       "    <tr>\n",
       "      <th>2</th>\n",
       "      <td>2.951753e-08</td>\n",
       "      <td>4.282211e-07</td>\n",
       "      <td>2.633518e-08</td>\n",
       "      <td>9.968404e-01</td>\n",
       "      <td>1.507903e-07</td>\n",
       "      <td>2.604848e-08</td>\n",
       "      <td>4.399697e-10</td>\n",
       "      <td>3.064637e-17</td>\n",
       "      <td>1.079021e-07</td>\n",
       "      <td>1.920667e-07</td>\n",
       "      <td>http://www.semanticweb.org/needed-terms#001</td>\n",
       "    </tr>\n",
       "    <tr>\n",
       "      <th>3</th>\n",
       "      <td>6.367520e-18</td>\n",
       "      <td>4.467859e-09</td>\n",
       "      <td>2.037887e-16</td>\n",
       "      <td>2.491686e-12</td>\n",
       "      <td>3.889536e-11</td>\n",
       "      <td>2.549497e-11</td>\n",
       "      <td>8.331496e-11</td>\n",
       "      <td>1.189124e-16</td>\n",
       "      <td>1.271881e-09</td>\n",
       "      <td>2.059001e-06</td>\n",
       "      <td>no_link_known</td>\n",
       "    </tr>\n",
       "    <tr>\n",
       "      <th>4</th>\n",
       "      <td>7.834637e-17</td>\n",
       "      <td>1.116862e-08</td>\n",
       "      <td>4.115093e-15</td>\n",
       "      <td>2.181649e-11</td>\n",
       "      <td>6.802968e-10</td>\n",
       "      <td>1.408699e-08</td>\n",
       "      <td>4.864297e-08</td>\n",
       "      <td>6.059204e-15</td>\n",
       "      <td>5.930753e-08</td>\n",
       "      <td>1.609413e-04</td>\n",
       "      <td>no_link_known</td>\n",
       "    </tr>\n",
       "    <tr>\n",
       "      <th>...</th>\n",
       "      <td>...</td>\n",
       "      <td>...</td>\n",
       "      <td>...</td>\n",
       "      <td>...</td>\n",
       "      <td>...</td>\n",
       "      <td>...</td>\n",
       "      <td>...</td>\n",
       "      <td>...</td>\n",
       "      <td>...</td>\n",
       "      <td>...</td>\n",
       "      <td>...</td>\n",
       "    </tr>\n",
       "    <tr>\n",
       "      <th>2364605</th>\n",
       "      <td>8.843830e-11</td>\n",
       "      <td>3.234868e-07</td>\n",
       "      <td>1.589840e-10</td>\n",
       "      <td>9.974289e-01</td>\n",
       "      <td>1.905666e-09</td>\n",
       "      <td>6.355330e-09</td>\n",
       "      <td>5.855505e-10</td>\n",
       "      <td>4.633466e-17</td>\n",
       "      <td>2.122450e-08</td>\n",
       "      <td>1.094249e-08</td>\n",
       "      <td>http://www.semanticweb.org/needed-terms#001</td>\n",
       "    </tr>\n",
       "    <tr>\n",
       "      <th>2364606</th>\n",
       "      <td>5.623784e-07</td>\n",
       "      <td>9.999132e-01</td>\n",
       "      <td>1.664809e-05</td>\n",
       "      <td>1.607382e-04</td>\n",
       "      <td>1.812429e-04</td>\n",
       "      <td>8.377070e-05</td>\n",
       "      <td>3.958140e-05</td>\n",
       "      <td>1.741982e-14</td>\n",
       "      <td>1.312027e-05</td>\n",
       "      <td>2.209004e-04</td>\n",
       "      <td>http://semanticscience.org/resource/SIO_000628</td>\n",
       "    </tr>\n",
       "    <tr>\n",
       "      <th>2364607</th>\n",
       "      <td>1.937978e-13</td>\n",
       "      <td>1.520086e-07</td>\n",
       "      <td>4.637242e-13</td>\n",
       "      <td>3.125826e-05</td>\n",
       "      <td>1.286510e-10</td>\n",
       "      <td>2.009951e-08</td>\n",
       "      <td>5.496570e-08</td>\n",
       "      <td>4.623210e-16</td>\n",
       "      <td>6.332945e-09</td>\n",
       "      <td>1.270808e-07</td>\n",
       "      <td>no_link_known</td>\n",
       "    </tr>\n",
       "    <tr>\n",
       "      <th>2364608</th>\n",
       "      <td>1.929130e-17</td>\n",
       "      <td>7.256036e-09</td>\n",
       "      <td>4.399048e-15</td>\n",
       "      <td>9.591672e-14</td>\n",
       "      <td>1.796910e-09</td>\n",
       "      <td>7.746436e-09</td>\n",
       "      <td>8.305990e-09</td>\n",
       "      <td>9.257812e-15</td>\n",
       "      <td>1.410007e-09</td>\n",
       "      <td>4.340066e-05</td>\n",
       "      <td>no_link_known</td>\n",
       "    </tr>\n",
       "    <tr>\n",
       "      <th>2364609</th>\n",
       "      <td>9.999983e-01</td>\n",
       "      <td>2.480502e-06</td>\n",
       "      <td>9.985623e-01</td>\n",
       "      <td>9.411633e-07</td>\n",
       "      <td>5.503506e-06</td>\n",
       "      <td>1.637607e-08</td>\n",
       "      <td>1.137665e-10</td>\n",
       "      <td>4.872981e-15</td>\n",
       "      <td>3.096374e-08</td>\n",
       "      <td>1.973739e-08</td>\n",
       "      <td>http://semanticscience.org/resource/SIO_000281</td>\n",
       "    </tr>\n",
       "  </tbody>\n",
       "</table>\n",
       "<p>2364610 rows × 11 columns</p>\n",
       "</div>"
      ],
      "text/plain": [
       "         http://semanticscience.org/resource/SIO_000281  \\\n",
       "0                                          1.497328e-16   \n",
       "1                                          1.396785e-12   \n",
       "2                                          2.951753e-08   \n",
       "3                                          6.367520e-18   \n",
       "4                                          7.834637e-17   \n",
       "...                                                 ...   \n",
       "2364605                                    8.843830e-11   \n",
       "2364606                                    5.623784e-07   \n",
       "2364607                                    1.937978e-13   \n",
       "2364608                                    1.929130e-17   \n",
       "2364609                                    9.999983e-01   \n",
       "\n",
       "         http://semanticscience.org/resource/SIO_000628  \\\n",
       "0                                          8.569161e-07   \n",
       "1                                          1.321590e-07   \n",
       "2                                          4.282211e-07   \n",
       "3                                          4.467859e-09   \n",
       "4                                          1.116862e-08   \n",
       "...                                                 ...   \n",
       "2364605                                    3.234868e-07   \n",
       "2364606                                    9.999132e-01   \n",
       "2364607                                    1.520086e-07   \n",
       "2364608                                    7.256036e-09   \n",
       "2364609                                    2.480502e-06   \n",
       "\n",
       "         http://semanticscience.org/resource/SIO_001279  \\\n",
       "0                                          1.161128e-14   \n",
       "1                                          7.981567e-12   \n",
       "2                                          2.633518e-08   \n",
       "3                                          2.037887e-16   \n",
       "4                                          4.115093e-15   \n",
       "...                                                 ...   \n",
       "2364605                                    1.589840e-10   \n",
       "2364606                                    1.664809e-05   \n",
       "2364607                                    4.637242e-13   \n",
       "2364608                                    4.399048e-15   \n",
       "2364609                                    9.985623e-01   \n",
       "\n",
       "         http://www.semanticweb.org/needed-terms#001  \\\n",
       "0                                       1.399443e-08   \n",
       "1                                       1.049748e-07   \n",
       "2                                       9.968404e-01   \n",
       "3                                       2.491686e-12   \n",
       "4                                       2.181649e-11   \n",
       "...                                              ...   \n",
       "2364605                                 9.974289e-01   \n",
       "2364606                                 1.607382e-04   \n",
       "2364607                                 3.125826e-05   \n",
       "2364608                                 9.591672e-14   \n",
       "2364609                                 9.411633e-07   \n",
       "\n",
       "         http://www.semanticweb.org/needed-terms#002  \\\n",
       "0                                       1.813081e-08   \n",
       "1                                       2.958315e-05   \n",
       "2                                       1.507903e-07   \n",
       "3                                       3.889536e-11   \n",
       "4                                       6.802968e-10   \n",
       "...                                              ...   \n",
       "2364605                                 1.905666e-09   \n",
       "2364606                                 1.812429e-04   \n",
       "2364607                                 1.286510e-10   \n",
       "2364608                                 1.796910e-09   \n",
       "2364609                                 5.503506e-06   \n",
       "\n",
       "         http://www.semanticweb.org/needed-terms#004  \\\n",
       "0                                       2.255108e-08   \n",
       "1                                       9.661645e-01   \n",
       "2                                       2.604848e-08   \n",
       "3                                       2.549497e-11   \n",
       "4                                       1.408699e-08   \n",
       "...                                              ...   \n",
       "2364605                                 6.355330e-09   \n",
       "2364606                                 8.377070e-05   \n",
       "2364607                                 2.009951e-08   \n",
       "2364608                                 7.746436e-09   \n",
       "2364609                                 1.637607e-08   \n",
       "\n",
       "         http://www.semanticweb.org/needed-terms#009  \\\n",
       "0                                       6.415973e-09   \n",
       "1                                       1.031275e-06   \n",
       "2                                       4.399697e-10   \n",
       "3                                       8.331496e-11   \n",
       "4                                       4.864297e-08   \n",
       "...                                              ...   \n",
       "2364605                                 5.855505e-10   \n",
       "2364606                                 3.958140e-05   \n",
       "2364607                                 5.496570e-08   \n",
       "2364608                                 8.305990e-09   \n",
       "2364609                                 1.137665e-10   \n",
       "\n",
       "         http://www.w3.org/1999/02/22-rdf-syntax-ns#label  \\\n",
       "0                                            7.192457e-17   \n",
       "1                                            1.249553e-11   \n",
       "2                                            3.064637e-17   \n",
       "3                                            1.189124e-16   \n",
       "4                                            6.059204e-15   \n",
       "...                                                   ...   \n",
       "2364605                                      4.633466e-17   \n",
       "2364606                                      1.741982e-14   \n",
       "2364607                                      4.623210e-16   \n",
       "2364608                                      9.257812e-15   \n",
       "2364609                                      4.872981e-15   \n",
       "\n",
       "         http://www.w3.org/1999/02/22-rdf-syntax-ns#type  \\\n",
       "0                                           4.774428e-08   \n",
       "1                                           5.501635e-07   \n",
       "2                                           1.079021e-07   \n",
       "3                                           1.271881e-09   \n",
       "4                                           5.930753e-08   \n",
       "...                                                  ...   \n",
       "2364605                                     2.122450e-08   \n",
       "2364606                                     1.312027e-05   \n",
       "2364607                                     6.332945e-09   \n",
       "2364608                                     1.410007e-09   \n",
       "2364609                                     3.096374e-08   \n",
       "\n",
       "         http://www.w3.org/2000/01/rdf-schema#subClassOf  \\\n",
       "0                                           1.876987e-05   \n",
       "1                                           7.726856e-07   \n",
       "2                                           1.920667e-07   \n",
       "3                                           2.059001e-06   \n",
       "4                                           1.609413e-04   \n",
       "...                                                  ...   \n",
       "2364605                                     1.094249e-08   \n",
       "2364606                                     2.209004e-04   \n",
       "2364607                                     1.270808e-07   \n",
       "2364608                                     4.340066e-05   \n",
       "2364609                                     1.973739e-08   \n",
       "\n",
       "                                               rel_type  \n",
       "0                                         no_link_known  \n",
       "1           http://www.semanticweb.org/needed-terms#004  \n",
       "2           http://www.semanticweb.org/needed-terms#001  \n",
       "3                                         no_link_known  \n",
       "4                                         no_link_known  \n",
       "...                                                 ...  \n",
       "2364605     http://www.semanticweb.org/needed-terms#001  \n",
       "2364606  http://semanticscience.org/resource/SIO_000628  \n",
       "2364607                                   no_link_known  \n",
       "2364608                                   no_link_known  \n",
       "2364609  http://semanticscience.org/resource/SIO_000281  \n",
       "\n",
       "[2364610 rows x 11 columns]"
      ]
     },
     "execution_count": 4,
     "metadata": {},
     "output_type": "execute_result"
    }
   ],
   "source": [
    "# Embeddings validation set set\n",
    "embval = pd.read_csv('/home/antoine/gene_pheno_pred/ConvKB_scores_train.csv' , header=0)\n",
    "embval.drop(columns=['true_triple'], inplace=True)\n",
    "embval"
   ]
  },
  {
   "cell_type": "code",
   "execution_count": 5,
   "metadata": {
    "tags": []
   },
   "outputs": [
    {
     "name": "stderr",
     "output_type": "stream",
     "text": [
      "[LightGBM] [Fatal] GPU Tree Learner was not enabled in this build.\n",
      "Please recompile with CMake option -DUSE_GPU=1\n",
      "[LightGBM] [Fatal] CUDA Tree Learner was not enabled in this build.\n",
      "Please recompile with CMake option -DUSE_CUDA=1\n",
      "[LightGBM] [Fatal] GPU Tree Learner was not enabled in this build.\n",
      "Please recompile with CMake option -DUSE_GPU=1\n",
      "[LightGBM] [Fatal] CUDA Tree Learner was not enabled in this build.\n",
      "Please recompile with CMake option -DUSE_CUDA=1\n",
      "[LightGBM] [Fatal] GPU Tree Learner was not enabled in this build.\n",
      "Please recompile with CMake option -DUSE_GPU=1\n",
      "[LightGBM] [Fatal] CUDA Tree Learner was not enabled in this build.\n",
      "Please recompile with CMake option -DUSE_CUDA=1\n",
      "[LightGBM] [Fatal] GPU Tree Learner was not enabled in this build.\n",
      "Please recompile with CMake option -DUSE_GPU=1\n",
      "[LightGBM] [Fatal] CUDA Tree Learner was not enabled in this build.\n",
      "Please recompile with CMake option -DUSE_CUDA=1\n",
      "[LightGBM] [Fatal] GPU Tree Learner was not enabled in this build.\n",
      "Please recompile with CMake option -DUSE_GPU=1\n",
      "[LightGBM] [Fatal] CUDA Tree Learner was not enabled in this build.\n",
      "Please recompile with CMake option -DUSE_CUDA=1\n",
      "[LightGBM] [Fatal] GPU Tree Learner was not enabled in this build.\n",
      "Please recompile with CMake option -DUSE_GPU=1\n",
      "[LightGBM] [Fatal] CUDA Tree Learner was not enabled in this build.\n",
      "Please recompile with CMake option -DUSE_CUDA=1\n"
     ]
    },
    {
     "data": {
      "text/html": [
       "<style type=\"text/css\">\n",
       "#T_13718_row8_col1, #T_13718_row15_col1 {\n",
       "  background-color: lightgreen;\n",
       "}\n",
       "</style>\n",
       "<table id=\"T_13718\">\n",
       "  <thead>\n",
       "    <tr>\n",
       "      <th class=\"blank level0\" >&nbsp;</th>\n",
       "      <th id=\"T_13718_level0_col0\" class=\"col_heading level0 col0\" >Description</th>\n",
       "      <th id=\"T_13718_level0_col1\" class=\"col_heading level0 col1\" >Value</th>\n",
       "    </tr>\n",
       "  </thead>\n",
       "  <tbody>\n",
       "    <tr>\n",
       "      <th id=\"T_13718_level0_row0\" class=\"row_heading level0 row0\" >0</th>\n",
       "      <td id=\"T_13718_row0_col0\" class=\"data row0 col0\" >Session id</td>\n",
       "      <td id=\"T_13718_row0_col1\" class=\"data row0 col1\" >7572</td>\n",
       "    </tr>\n",
       "    <tr>\n",
       "      <th id=\"T_13718_level0_row1\" class=\"row_heading level0 row1\" >1</th>\n",
       "      <td id=\"T_13718_row1_col0\" class=\"data row1 col0\" >Target</td>\n",
       "      <td id=\"T_13718_row1_col1\" class=\"data row1 col1\" >true_triple</td>\n",
       "    </tr>\n",
       "    <tr>\n",
       "      <th id=\"T_13718_level0_row2\" class=\"row_heading level0 row2\" >2</th>\n",
       "      <td id=\"T_13718_row2_col0\" class=\"data row2 col0\" >Target type</td>\n",
       "      <td id=\"T_13718_row2_col1\" class=\"data row2 col1\" >Binary</td>\n",
       "    </tr>\n",
       "    <tr>\n",
       "      <th id=\"T_13718_level0_row3\" class=\"row_heading level0 row3\" >3</th>\n",
       "      <td id=\"T_13718_row3_col0\" class=\"data row3 col0\" >Original data shape</td>\n",
       "      <td id=\"T_13718_row3_col1\" class=\"data row3 col1\" >(234142, 11)</td>\n",
       "    </tr>\n",
       "    <tr>\n",
       "      <th id=\"T_13718_level0_row4\" class=\"row_heading level0 row4\" >4</th>\n",
       "      <td id=\"T_13718_row4_col0\" class=\"data row4 col0\" >Transformed data shape</td>\n",
       "      <td id=\"T_13718_row4_col1\" class=\"data row4 col1\" >(234142, 11)</td>\n",
       "    </tr>\n",
       "    <tr>\n",
       "      <th id=\"T_13718_level0_row5\" class=\"row_heading level0 row5\" >5</th>\n",
       "      <td id=\"T_13718_row5_col0\" class=\"data row5 col0\" >Transformed train set shape</td>\n",
       "      <td id=\"T_13718_row5_col1\" class=\"data row5 col1\" >(187313, 11)</td>\n",
       "    </tr>\n",
       "    <tr>\n",
       "      <th id=\"T_13718_level0_row6\" class=\"row_heading level0 row6\" >6</th>\n",
       "      <td id=\"T_13718_row6_col0\" class=\"data row6 col0\" >Transformed test set shape</td>\n",
       "      <td id=\"T_13718_row6_col1\" class=\"data row6 col1\" >(46829, 11)</td>\n",
       "    </tr>\n",
       "    <tr>\n",
       "      <th id=\"T_13718_level0_row7\" class=\"row_heading level0 row7\" >7</th>\n",
       "      <td id=\"T_13718_row7_col0\" class=\"data row7 col0\" >Numeric features</td>\n",
       "      <td id=\"T_13718_row7_col1\" class=\"data row7 col1\" >10</td>\n",
       "    </tr>\n",
       "    <tr>\n",
       "      <th id=\"T_13718_level0_row8\" class=\"row_heading level0 row8\" >8</th>\n",
       "      <td id=\"T_13718_row8_col0\" class=\"data row8 col0\" >Preprocess</td>\n",
       "      <td id=\"T_13718_row8_col1\" class=\"data row8 col1\" >True</td>\n",
       "    </tr>\n",
       "    <tr>\n",
       "      <th id=\"T_13718_level0_row9\" class=\"row_heading level0 row9\" >9</th>\n",
       "      <td id=\"T_13718_row9_col0\" class=\"data row9 col0\" >Imputation type</td>\n",
       "      <td id=\"T_13718_row9_col1\" class=\"data row9 col1\" >simple</td>\n",
       "    </tr>\n",
       "    <tr>\n",
       "      <th id=\"T_13718_level0_row10\" class=\"row_heading level0 row10\" >10</th>\n",
       "      <td id=\"T_13718_row10_col0\" class=\"data row10 col0\" >Numeric imputation</td>\n",
       "      <td id=\"T_13718_row10_col1\" class=\"data row10 col1\" >mean</td>\n",
       "    </tr>\n",
       "    <tr>\n",
       "      <th id=\"T_13718_level0_row11\" class=\"row_heading level0 row11\" >11</th>\n",
       "      <td id=\"T_13718_row11_col0\" class=\"data row11 col0\" >Categorical imputation</td>\n",
       "      <td id=\"T_13718_row11_col1\" class=\"data row11 col1\" >mode</td>\n",
       "    </tr>\n",
       "    <tr>\n",
       "      <th id=\"T_13718_level0_row12\" class=\"row_heading level0 row12\" >12</th>\n",
       "      <td id=\"T_13718_row12_col0\" class=\"data row12 col0\" >Fold Generator</td>\n",
       "      <td id=\"T_13718_row12_col1\" class=\"data row12 col1\" >StratifiedKFold</td>\n",
       "    </tr>\n",
       "    <tr>\n",
       "      <th id=\"T_13718_level0_row13\" class=\"row_heading level0 row13\" >13</th>\n",
       "      <td id=\"T_13718_row13_col0\" class=\"data row13 col0\" >Fold Number</td>\n",
       "      <td id=\"T_13718_row13_col1\" class=\"data row13 col1\" >10</td>\n",
       "    </tr>\n",
       "    <tr>\n",
       "      <th id=\"T_13718_level0_row14\" class=\"row_heading level0 row14\" >14</th>\n",
       "      <td id=\"T_13718_row14_col0\" class=\"data row14 col0\" >CPU Jobs</td>\n",
       "      <td id=\"T_13718_row14_col1\" class=\"data row14 col1\" >-1</td>\n",
       "    </tr>\n",
       "    <tr>\n",
       "      <th id=\"T_13718_level0_row15\" class=\"row_heading level0 row15\" >15</th>\n",
       "      <td id=\"T_13718_row15_col0\" class=\"data row15 col0\" >Use GPU</td>\n",
       "      <td id=\"T_13718_row15_col1\" class=\"data row15 col1\" >True</td>\n",
       "    </tr>\n",
       "    <tr>\n",
       "      <th id=\"T_13718_level0_row16\" class=\"row_heading level0 row16\" >16</th>\n",
       "      <td id=\"T_13718_row16_col0\" class=\"data row16 col0\" >Log Experiment</td>\n",
       "      <td id=\"T_13718_row16_col1\" class=\"data row16 col1\" >WandbLogger</td>\n",
       "    </tr>\n",
       "    <tr>\n",
       "      <th id=\"T_13718_level0_row17\" class=\"row_heading level0 row17\" >17</th>\n",
       "      <td id=\"T_13718_row17_col0\" class=\"data row17 col0\" >Experiment Name</td>\n",
       "      <td id=\"T_13718_row17_col1\" class=\"data row17 col1\" >clf-default-name</td>\n",
       "    </tr>\n",
       "    <tr>\n",
       "      <th id=\"T_13718_level0_row18\" class=\"row_heading level0 row18\" >18</th>\n",
       "      <td id=\"T_13718_row18_col0\" class=\"data row18 col0\" >USI</td>\n",
       "      <td id=\"T_13718_row18_col1\" class=\"data row18 col1\" >1491</td>\n",
       "    </tr>\n",
       "  </tbody>\n",
       "</table>\n"
      ],
      "text/plain": [
       "<pandas.io.formats.style.Styler at 0x7f7d74aec490>"
      ]
     },
     "metadata": {},
     "output_type": "display_data"
    },
    {
     "name": "stderr",
     "output_type": "stream",
     "text": [
      "[LightGBM] [Fatal] GPU Tree Learner was not enabled in this build.\n",
      "Please recompile with CMake option -DUSE_GPU=1\n",
      "[LightGBM] [Fatal] CUDA Tree Learner was not enabled in this build.\n",
      "Please recompile with CMake option -DUSE_CUDA=1\n",
      "[LightGBM] [Fatal] GPU Tree Learner was not enabled in this build.\n",
      "Please recompile with CMake option -DUSE_GPU=1\n",
      "[LightGBM] [Fatal] CUDA Tree Learner was not enabled in this build.\n",
      "Please recompile with CMake option -DUSE_CUDA=1\n"
     ]
    }
   ],
   "source": [
    "# Experiment setup\n",
    "s = setup(train, target = 'true_triple', fold_strategy = 'stratifiedkfold', fold=10, train_size = 0.8, n_jobs=-1, system_log=True, use_gpu = True, log_experiment='wandb')\n",
    "exp = ClassificationExperiment()"
   ]
  },
  {
   "cell_type": "markdown",
   "metadata": {},
   "source": [
    "# K Neighbors Classifier"
   ]
  },
  {
   "cell_type": "code",
   "execution_count": 6,
   "metadata": {
    "tags": []
   },
   "outputs": [
    {
     "data": {
      "text/html": [],
      "text/plain": [
       "<IPython.core.display.HTML object>"
      ]
     },
     "metadata": {},
     "output_type": "display_data"
    },
    {
     "data": {
      "text/html": [
       "<style type=\"text/css\">\n",
       "#T_b7f44_row10_col0, #T_b7f44_row10_col1, #T_b7f44_row10_col2, #T_b7f44_row10_col3, #T_b7f44_row10_col4, #T_b7f44_row10_col5, #T_b7f44_row10_col6 {\n",
       "  background: yellow;\n",
       "}\n",
       "</style>\n",
       "<table id=\"T_b7f44\">\n",
       "  <thead>\n",
       "    <tr>\n",
       "      <th class=\"blank level0\" >&nbsp;</th>\n",
       "      <th id=\"T_b7f44_level0_col0\" class=\"col_heading level0 col0\" >Accuracy</th>\n",
       "      <th id=\"T_b7f44_level0_col1\" class=\"col_heading level0 col1\" >AUC</th>\n",
       "      <th id=\"T_b7f44_level0_col2\" class=\"col_heading level0 col2\" >Recall</th>\n",
       "      <th id=\"T_b7f44_level0_col3\" class=\"col_heading level0 col3\" >Prec.</th>\n",
       "      <th id=\"T_b7f44_level0_col4\" class=\"col_heading level0 col4\" >F1</th>\n",
       "      <th id=\"T_b7f44_level0_col5\" class=\"col_heading level0 col5\" >Kappa</th>\n",
       "      <th id=\"T_b7f44_level0_col6\" class=\"col_heading level0 col6\" >MCC</th>\n",
       "    </tr>\n",
       "    <tr>\n",
       "      <th class=\"index_name level0\" >Fold</th>\n",
       "      <th class=\"blank col0\" >&nbsp;</th>\n",
       "      <th class=\"blank col1\" >&nbsp;</th>\n",
       "      <th class=\"blank col2\" >&nbsp;</th>\n",
       "      <th class=\"blank col3\" >&nbsp;</th>\n",
       "      <th class=\"blank col4\" >&nbsp;</th>\n",
       "      <th class=\"blank col5\" >&nbsp;</th>\n",
       "      <th class=\"blank col6\" >&nbsp;</th>\n",
       "    </tr>\n",
       "  </thead>\n",
       "  <tbody>\n",
       "    <tr>\n",
       "      <th id=\"T_b7f44_level0_row0\" class=\"row_heading level0 row0\" >0</th>\n",
       "      <td id=\"T_b7f44_row0_col0\" class=\"data row0 col0\" >0.5790</td>\n",
       "      <td id=\"T_b7f44_row0_col1\" class=\"data row0 col1\" >0.6117</td>\n",
       "      <td id=\"T_b7f44_row0_col2\" class=\"data row0 col2\" >0.6449</td>\n",
       "      <td id=\"T_b7f44_row0_col3\" class=\"data row0 col3\" >0.5698</td>\n",
       "      <td id=\"T_b7f44_row0_col4\" class=\"data row0 col4\" >0.6050</td>\n",
       "      <td id=\"T_b7f44_row0_col5\" class=\"data row0 col5\" >0.1580</td>\n",
       "      <td id=\"T_b7f44_row0_col6\" class=\"data row0 col6\" >0.1594</td>\n",
       "    </tr>\n",
       "    <tr>\n",
       "      <th id=\"T_b7f44_level0_row1\" class=\"row_heading level0 row1\" >1</th>\n",
       "      <td id=\"T_b7f44_row1_col0\" class=\"data row1 col0\" >0.5810</td>\n",
       "      <td id=\"T_b7f44_row1_col1\" class=\"data row1 col1\" >0.6119</td>\n",
       "      <td id=\"T_b7f44_row1_col2\" class=\"data row1 col2\" >0.6455</td>\n",
       "      <td id=\"T_b7f44_row1_col3\" class=\"data row1 col3\" >0.5717</td>\n",
       "      <td id=\"T_b7f44_row1_col4\" class=\"data row1 col4\" >0.6064</td>\n",
       "      <td id=\"T_b7f44_row1_col5\" class=\"data row1 col5\" >0.1620</td>\n",
       "      <td id=\"T_b7f44_row1_col6\" class=\"data row1 col6\" >0.1633</td>\n",
       "    </tr>\n",
       "    <tr>\n",
       "      <th id=\"T_b7f44_level0_row2\" class=\"row_heading level0 row2\" >2</th>\n",
       "      <td id=\"T_b7f44_row2_col0\" class=\"data row2 col0\" >0.5826</td>\n",
       "      <td id=\"T_b7f44_row2_col1\" class=\"data row2 col1\" >0.6188</td>\n",
       "      <td id=\"T_b7f44_row2_col2\" class=\"data row2 col2\" >0.6406</td>\n",
       "      <td id=\"T_b7f44_row2_col3\" class=\"data row2 col3\" >0.5740</td>\n",
       "      <td id=\"T_b7f44_row2_col4\" class=\"data row2 col4\" >0.6055</td>\n",
       "      <td id=\"T_b7f44_row2_col5\" class=\"data row2 col5\" >0.1652</td>\n",
       "      <td id=\"T_b7f44_row2_col6\" class=\"data row2 col6\" >0.1663</td>\n",
       "    </tr>\n",
       "    <tr>\n",
       "      <th id=\"T_b7f44_level0_row3\" class=\"row_heading level0 row3\" >3</th>\n",
       "      <td id=\"T_b7f44_row3_col0\" class=\"data row3 col0\" >0.5796</td>\n",
       "      <td id=\"T_b7f44_row3_col1\" class=\"data row3 col1\" >0.6119</td>\n",
       "      <td id=\"T_b7f44_row3_col2\" class=\"data row3 col2\" >0.6448</td>\n",
       "      <td id=\"T_b7f44_row3_col3\" class=\"data row3 col3\" >0.5704</td>\n",
       "      <td id=\"T_b7f44_row3_col4\" class=\"data row3 col4\" >0.6053</td>\n",
       "      <td id=\"T_b7f44_row3_col5\" class=\"data row3 col5\" >0.1591</td>\n",
       "      <td id=\"T_b7f44_row3_col6\" class=\"data row3 col6\" >0.1605</td>\n",
       "    </tr>\n",
       "    <tr>\n",
       "      <th id=\"T_b7f44_level0_row4\" class=\"row_heading level0 row4\" >4</th>\n",
       "      <td id=\"T_b7f44_row4_col0\" class=\"data row4 col0\" >0.5782</td>\n",
       "      <td id=\"T_b7f44_row4_col1\" class=\"data row4 col1\" >0.6132</td>\n",
       "      <td id=\"T_b7f44_row4_col2\" class=\"data row4 col2\" >0.6406</td>\n",
       "      <td id=\"T_b7f44_row4_col3\" class=\"data row4 col3\" >0.5696</td>\n",
       "      <td id=\"T_b7f44_row4_col4\" class=\"data row4 col4\" >0.6030</td>\n",
       "      <td id=\"T_b7f44_row4_col5\" class=\"data row4 col5\" >0.1565</td>\n",
       "      <td id=\"T_b7f44_row4_col6\" class=\"data row4 col6\" >0.1577</td>\n",
       "    </tr>\n",
       "    <tr>\n",
       "      <th id=\"T_b7f44_level0_row5\" class=\"row_heading level0 row5\" >5</th>\n",
       "      <td id=\"T_b7f44_row5_col0\" class=\"data row5 col0\" >0.5790</td>\n",
       "      <td id=\"T_b7f44_row5_col1\" class=\"data row5 col1\" >0.6101</td>\n",
       "      <td id=\"T_b7f44_row5_col2\" class=\"data row5 col2\" >0.6467</td>\n",
       "      <td id=\"T_b7f44_row5_col3\" class=\"data row5 col3\" >0.5696</td>\n",
       "      <td id=\"T_b7f44_row5_col4\" class=\"data row5 col4\" >0.6057</td>\n",
       "      <td id=\"T_b7f44_row5_col5\" class=\"data row5 col5\" >0.1580</td>\n",
       "      <td id=\"T_b7f44_row5_col6\" class=\"data row5 col6\" >0.1594</td>\n",
       "    </tr>\n",
       "    <tr>\n",
       "      <th id=\"T_b7f44_level0_row6\" class=\"row_heading level0 row6\" >6</th>\n",
       "      <td id=\"T_b7f44_row6_col0\" class=\"data row6 col0\" >0.5746</td>\n",
       "      <td id=\"T_b7f44_row6_col1\" class=\"data row6 col1\" >0.6070</td>\n",
       "      <td id=\"T_b7f44_row6_col2\" class=\"data row6 col2\" >0.6430</td>\n",
       "      <td id=\"T_b7f44_row6_col3\" class=\"data row6 col3\" >0.5656</td>\n",
       "      <td id=\"T_b7f44_row6_col4\" class=\"data row6 col4\" >0.6018</td>\n",
       "      <td id=\"T_b7f44_row6_col5\" class=\"data row6 col5\" >0.1491</td>\n",
       "      <td id=\"T_b7f44_row6_col6\" class=\"data row6 col6\" >0.1505</td>\n",
       "    </tr>\n",
       "    <tr>\n",
       "      <th id=\"T_b7f44_level0_row7\" class=\"row_heading level0 row7\" >7</th>\n",
       "      <td id=\"T_b7f44_row7_col0\" class=\"data row7 col0\" >0.5807</td>\n",
       "      <td id=\"T_b7f44_row7_col1\" class=\"data row7 col1\" >0.6164</td>\n",
       "      <td id=\"T_b7f44_row7_col2\" class=\"data row7 col2\" >0.6362</td>\n",
       "      <td id=\"T_b7f44_row7_col3\" class=\"data row7 col3\" >0.5726</td>\n",
       "      <td id=\"T_b7f44_row7_col4\" class=\"data row7 col4\" >0.6027</td>\n",
       "      <td id=\"T_b7f44_row7_col5\" class=\"data row7 col5\" >0.1614</td>\n",
       "      <td id=\"T_b7f44_row7_col6\" class=\"data row7 col6\" >0.1624</td>\n",
       "    </tr>\n",
       "    <tr>\n",
       "      <th id=\"T_b7f44_level0_row8\" class=\"row_heading level0 row8\" >8</th>\n",
       "      <td id=\"T_b7f44_row8_col0\" class=\"data row8 col0\" >0.5840</td>\n",
       "      <td id=\"T_b7f44_row8_col1\" class=\"data row8 col1\" >0.6194</td>\n",
       "      <td id=\"T_b7f44_row8_col2\" class=\"data row8 col2\" >0.6437</td>\n",
       "      <td id=\"T_b7f44_row8_col3\" class=\"data row8 col3\" >0.5750</td>\n",
       "      <td id=\"T_b7f44_row8_col4\" class=\"data row8 col4\" >0.6074</td>\n",
       "      <td id=\"T_b7f44_row8_col5\" class=\"data row8 col5\" >0.1680</td>\n",
       "      <td id=\"T_b7f44_row8_col6\" class=\"data row8 col6\" >0.1692</td>\n",
       "    </tr>\n",
       "    <tr>\n",
       "      <th id=\"T_b7f44_level0_row9\" class=\"row_heading level0 row9\" >9</th>\n",
       "      <td id=\"T_b7f44_row9_col0\" class=\"data row9 col0\" >0.5803</td>\n",
       "      <td id=\"T_b7f44_row9_col1\" class=\"data row9 col1\" >0.6134</td>\n",
       "      <td id=\"T_b7f44_row9_col2\" class=\"data row9 col2\" >0.6409</td>\n",
       "      <td id=\"T_b7f44_row9_col3\" class=\"data row9 col3\" >0.5716</td>\n",
       "      <td id=\"T_b7f44_row9_col4\" class=\"data row9 col4\" >0.6043</td>\n",
       "      <td id=\"T_b7f44_row9_col5\" class=\"data row9 col5\" >0.1606</td>\n",
       "      <td id=\"T_b7f44_row9_col6\" class=\"data row9 col6\" >0.1618</td>\n",
       "    </tr>\n",
       "    <tr>\n",
       "      <th id=\"T_b7f44_level0_row10\" class=\"row_heading level0 row10\" >Mean</th>\n",
       "      <td id=\"T_b7f44_row10_col0\" class=\"data row10 col0\" >0.5799</td>\n",
       "      <td id=\"T_b7f44_row10_col1\" class=\"data row10 col1\" >0.6134</td>\n",
       "      <td id=\"T_b7f44_row10_col2\" class=\"data row10 col2\" >0.6427</td>\n",
       "      <td id=\"T_b7f44_row10_col3\" class=\"data row10 col3\" >0.5710</td>\n",
       "      <td id=\"T_b7f44_row10_col4\" class=\"data row10 col4\" >0.6047</td>\n",
       "      <td id=\"T_b7f44_row10_col5\" class=\"data row10 col5\" >0.1598</td>\n",
       "      <td id=\"T_b7f44_row10_col6\" class=\"data row10 col6\" >0.1611</td>\n",
       "    </tr>\n",
       "    <tr>\n",
       "      <th id=\"T_b7f44_level0_row11\" class=\"row_heading level0 row11\" >Std</th>\n",
       "      <td id=\"T_b7f44_row11_col0\" class=\"data row11 col0\" >0.0024</td>\n",
       "      <td id=\"T_b7f44_row11_col1\" class=\"data row11 col1\" >0.0037</td>\n",
       "      <td id=\"T_b7f44_row11_col2\" class=\"data row11 col2\" >0.0030</td>\n",
       "      <td id=\"T_b7f44_row11_col3\" class=\"data row11 col3\" >0.0025</td>\n",
       "      <td id=\"T_b7f44_row11_col4\" class=\"data row11 col4\" >0.0017</td>\n",
       "      <td id=\"T_b7f44_row11_col5\" class=\"data row11 col5\" >0.0049</td>\n",
       "      <td id=\"T_b7f44_row11_col6\" class=\"data row11 col6\" >0.0048</td>\n",
       "    </tr>\n",
       "  </tbody>\n",
       "</table>\n"
      ],
      "text/plain": [
       "<pandas.io.formats.style.Styler at 0x7f7d90126290>"
      ]
     },
     "metadata": {},
     "output_type": "display_data"
    },
    {
     "data": {
      "text/html": [],
      "text/plain": [
       "<IPython.core.display.HTML object>"
      ]
     },
     "metadata": {},
     "output_type": "display_data"
    }
   ],
   "source": [
    "knn = create_model('knn')"
   ]
  },
  {
   "cell_type": "code",
   "execution_count": 7,
   "metadata": {},
   "outputs": [
    {
     "data": {
      "text/html": [],
      "text/plain": [
       "<IPython.core.display.HTML object>"
      ]
     },
     "metadata": {},
     "output_type": "display_data"
    },
    {
     "data": {
      "image/png": "[encoded data removed]",
      "text/plain": [
       "<Figure size 800x550 with 1 Axes>"
      ]
     },
     "metadata": {},
     "output_type": "display_data"
    }
   ],
   "source": [
    "plot_model(knn, plot = 'confusion_matrix')"
   ]
  },
  {
   "cell_type": "code",
   "execution_count": 8,
   "metadata": {},
   "outputs": [
    {
     "data": {
      "text/html": [],
      "text/plain": [
       "<IPython.core.display.HTML object>"
      ]
     },
     "metadata": {},
     "output_type": "display_data"
    },
    {
     "data": {
      "image/png": "[encoded data removed]",
      "text/plain": [
       "<Figure size 800x550 with 1 Axes>"
      ]
     },
     "metadata": {},
     "output_type": "display_data"
    }
   ],
   "source": [
    "plot_model(knn, plot = 'error')"
   ]
  },
  {
   "cell_type": "code",
   "execution_count": 9,
   "metadata": {},
   "outputs": [
    {
     "data": {
      "text/html": [],
      "text/plain": [
       "<IPython.core.display.HTML object>"
      ]
     },
     "metadata": {},
     "output_type": "display_data"
    },
    {
     "data": {
      "text/html": [
       "<div>\n",
       "<style scoped>\n",
       "    .dataframe tbody tr th:only-of-type {\n",
       "        vertical-align: middle;\n",
       "    }\n",
       "\n",
       "    .dataframe tbody tr th {\n",
       "        vertical-align: top;\n",
       "    }\n",
       "\n",
       "    .dataframe thead th {\n",
       "        text-align: right;\n",
       "    }\n",
       "</style>\n",
       "<table border=\"1\" class=\"dataframe\">\n",
       "  <thead>\n",
       "    <tr style=\"text-align: right;\">\n",
       "      <th></th>\n",
       "      <th>Parameters</th>\n",
       "    </tr>\n",
       "  </thead>\n",
       "  <tbody>\n",
       "    <tr>\n",
       "      <th>algorithm</th>\n",
       "      <td>auto</td>\n",
       "    </tr>\n",
       "    <tr>\n",
       "      <th>leaf_size</th>\n",
       "      <td>30</td>\n",
       "    </tr>\n",
       "    <tr>\n",
       "      <th>metric</th>\n",
       "      <td>minkowski</td>\n",
       "    </tr>\n",
       "    <tr>\n",
       "      <th>metric_params</th>\n",
       "      <td>None</td>\n",
       "    </tr>\n",
       "    <tr>\n",
       "      <th>n_jobs</th>\n",
       "      <td>-1</td>\n",
       "    </tr>\n",
       "    <tr>\n",
       "      <th>n_neighbors</th>\n",
       "      <td>5</td>\n",
       "    </tr>\n",
       "    <tr>\n",
       "      <th>p</th>\n",
       "      <td>2</td>\n",
       "    </tr>\n",
       "    <tr>\n",
       "      <th>weights</th>\n",
       "      <td>uniform</td>\n",
       "    </tr>\n",
       "  </tbody>\n",
       "</table>\n",
       "</div>"
      ],
      "text/plain": [
       "              Parameters\n",
       "algorithm           auto\n",
       "leaf_size             30\n",
       "metric         minkowski\n",
       "metric_params       None\n",
       "n_jobs                -1\n",
       "n_neighbors            5\n",
       "p                      2\n",
       "weights          uniform"
      ]
     },
     "metadata": {},
     "output_type": "display_data"
    }
   ],
   "source": [
    "plot_model(knn, plot = 'parameter')"
   ]
  },
  {
   "cell_type": "code",
   "execution_count": 10,
   "metadata": {},
   "outputs": [
    {
     "data": {
      "text/html": [
       "<style type=\"text/css\">\n",
       "</style>\n",
       "<table id=\"T_de650\">\n",
       "  <thead>\n",
       "    <tr>\n",
       "      <th class=\"blank level0\" >&nbsp;</th>\n",
       "      <th id=\"T_de650_level0_col0\" class=\"col_heading level0 col0\" >Model</th>\n",
       "      <th id=\"T_de650_level0_col1\" class=\"col_heading level0 col1\" >Accuracy</th>\n",
       "      <th id=\"T_de650_level0_col2\" class=\"col_heading level0 col2\" >AUC</th>\n",
       "      <th id=\"T_de650_level0_col3\" class=\"col_heading level0 col3\" >Recall</th>\n",
       "      <th id=\"T_de650_level0_col4\" class=\"col_heading level0 col4\" >Prec.</th>\n",
       "      <th id=\"T_de650_level0_col5\" class=\"col_heading level0 col5\" >F1</th>\n",
       "      <th id=\"T_de650_level0_col6\" class=\"col_heading level0 col6\" >Kappa</th>\n",
       "      <th id=\"T_de650_level0_col7\" class=\"col_heading level0 col7\" >MCC</th>\n",
       "    </tr>\n",
       "  </thead>\n",
       "  <tbody>\n",
       "    <tr>\n",
       "      <th id=\"T_de650_level0_row0\" class=\"row_heading level0 row0\" >0</th>\n",
       "      <td id=\"T_de650_row0_col0\" class=\"data row0 col0\" >K Neighbors Classifier</td>\n",
       "      <td id=\"T_de650_row0_col1\" class=\"data row0 col1\" >0.5781</td>\n",
       "      <td id=\"T_de650_row0_col2\" class=\"data row0 col2\" >0.6123</td>\n",
       "      <td id=\"T_de650_row0_col3\" class=\"data row0 col3\" >0.6377</td>\n",
       "      <td id=\"T_de650_row0_col4\" class=\"data row0 col4\" >0.5698</td>\n",
       "      <td id=\"T_de650_row0_col5\" class=\"data row0 col5\" >0.6019</td>\n",
       "      <td id=\"T_de650_row0_col6\" class=\"data row0 col6\" >0.1563</td>\n",
       "      <td id=\"T_de650_row0_col7\" class=\"data row0 col7\" >0.1574</td>\n",
       "    </tr>\n",
       "  </tbody>\n",
       "</table>\n"
      ],
      "text/plain": [
       "<pandas.io.formats.style.Styler at 0x7f7d924d6560>"
      ]
     },
     "metadata": {},
     "output_type": "display_data"
    }
   ],
   "source": [
    "knn_val_pred = predict_model(knn, data=val)"
   ]
  },
  {
   "cell_type": "code",
   "execution_count": 11,
   "metadata": {},
   "outputs": [
    {
     "data": {
      "text/html": [],
      "text/plain": [
       "<IPython.core.display.HTML object>"
      ]
     },
     "metadata": {},
     "output_type": "display_data"
    }
   ],
   "source": [
    "knn_val_pred = predict_model(knn, data=embval)"
   ]
  },
  {
   "cell_type": "code",
   "execution_count": 12,
   "metadata": {},
   "outputs": [
    {
     "name": "stdout",
     "output_type": "stream",
     "text": [
      "Transformation Pipeline and Model Successfully Saved\n"
     ]
    },
    {
     "data": {
      "text/plain": [
       "(Pipeline(memory=FastMemory(location=/tmp/joblib),\n",
       "          steps=[('numerical_imputer',\n",
       "                  TransformerWrapper(exclude=None,\n",
       "                                     include=['http://semanticscience.org/resource/SIO_000281',\n",
       "                                              'http://semanticscience.org/resource/SIO_000628',\n",
       "                                              'http://semanticscience.org/resource/SIO_001279',\n",
       "                                              'http://www.semanticweb.org/needed-terms#001',\n",
       "                                              'http://www.semanticweb.org/needed-term...\n",
       "                                                               strategy='most_frequent',\n",
       "                                                               verbose='deprecated'))),\n",
       "                 ('clean_column_names',\n",
       "                  TransformerWrapper(exclude=None, include=None,\n",
       "                                     transformer=CleanColumnNames(match='[\\\\]\\\\[\\\\,\\\\{\\\\}\\\\\"\\\\:]+'))),\n",
       "                 ('trained_model',\n",
       "                  KNeighborsClassifier(algorithm='auto', leaf_size=30,\n",
       "                                       metric='minkowski', metric_params=None,\n",
       "                                       n_jobs=-1, n_neighbors=5, p=2,\n",
       "                                       weights='uniform'))],\n",
       "          verbose=False),\n",
       " 'models_classif/convkb/binary_scores_val/knn.pkl')"
      ]
     },
     "execution_count": 12,
     "metadata": {},
     "output_type": "execute_result"
    }
   ],
   "source": [
    "save_model(knn, 'models_classif/convkb/binary_scores_val/knn')"
   ]
  },
  {
   "cell_type": "markdown",
   "metadata": {},
   "source": [
    "# Naive Bayes"
   ]
  },
  {
   "cell_type": "code",
   "execution_count": 13,
   "metadata": {
    "tags": []
   },
   "outputs": [
    {
     "data": {
      "text/html": [],
      "text/plain": [
       "<IPython.core.display.HTML object>"
      ]
     },
     "metadata": {},
     "output_type": "display_data"
    },
    {
     "data": {
      "text/html": [
       "<style type=\"text/css\">\n",
       "#T_9eaf5_row10_col0, #T_9eaf5_row10_col1, #T_9eaf5_row10_col2, #T_9eaf5_row10_col3, #T_9eaf5_row10_col4, #T_9eaf5_row10_col5, #T_9eaf5_row10_col6 {\n",
       "  background: yellow;\n",
       "}\n",
       "</style>\n",
       "<table id=\"T_9eaf5\">\n",
       "  <thead>\n",
       "    <tr>\n",
       "      <th class=\"blank level0\" >&nbsp;</th>\n",
       "      <th id=\"T_9eaf5_level0_col0\" class=\"col_heading level0 col0\" >Accuracy</th>\n",
       "      <th id=\"T_9eaf5_level0_col1\" class=\"col_heading level0 col1\" >AUC</th>\n",
       "      <th id=\"T_9eaf5_level0_col2\" class=\"col_heading level0 col2\" >Recall</th>\n",
       "      <th id=\"T_9eaf5_level0_col3\" class=\"col_heading level0 col3\" >Prec.</th>\n",
       "      <th id=\"T_9eaf5_level0_col4\" class=\"col_heading level0 col4\" >F1</th>\n",
       "      <th id=\"T_9eaf5_level0_col5\" class=\"col_heading level0 col5\" >Kappa</th>\n",
       "      <th id=\"T_9eaf5_level0_col6\" class=\"col_heading level0 col6\" >MCC</th>\n",
       "    </tr>\n",
       "    <tr>\n",
       "      <th class=\"index_name level0\" >Fold</th>\n",
       "      <th class=\"blank col0\" >&nbsp;</th>\n",
       "      <th class=\"blank col1\" >&nbsp;</th>\n",
       "      <th class=\"blank col2\" >&nbsp;</th>\n",
       "      <th class=\"blank col3\" >&nbsp;</th>\n",
       "      <th class=\"blank col4\" >&nbsp;</th>\n",
       "      <th class=\"blank col5\" >&nbsp;</th>\n",
       "      <th class=\"blank col6\" >&nbsp;</th>\n",
       "    </tr>\n",
       "  </thead>\n",
       "  <tbody>\n",
       "    <tr>\n",
       "      <th id=\"T_9eaf5_level0_row0\" class=\"row_heading level0 row0\" >0</th>\n",
       "      <td id=\"T_9eaf5_row0_col0\" class=\"data row0 col0\" >0.5449</td>\n",
       "      <td id=\"T_9eaf5_row0_col1\" class=\"data row0 col1\" >0.5679</td>\n",
       "      <td id=\"T_9eaf5_row0_col2\" class=\"data row0 col2\" >0.9974</td>\n",
       "      <td id=\"T_9eaf5_row0_col3\" class=\"data row0 col3\" >0.5236</td>\n",
       "      <td id=\"T_9eaf5_row0_col4\" class=\"data row0 col4\" >0.6867</td>\n",
       "      <td id=\"T_9eaf5_row0_col5\" class=\"data row0 col5\" >0.0898</td>\n",
       "      <td id=\"T_9eaf5_row0_col6\" class=\"data row0 col6\" >0.2112</td>\n",
       "    </tr>\n",
       "    <tr>\n",
       "      <th id=\"T_9eaf5_level0_row1\" class=\"row_heading level0 row1\" >1</th>\n",
       "      <td id=\"T_9eaf5_row1_col0\" class=\"data row1 col0\" >0.5398</td>\n",
       "      <td id=\"T_9eaf5_row1_col1\" class=\"data row1 col1\" >0.5754</td>\n",
       "      <td id=\"T_9eaf5_row1_col2\" class=\"data row1 col2\" >0.9974</td>\n",
       "      <td id=\"T_9eaf5_row1_col3\" class=\"data row1 col3\" >0.5208</td>\n",
       "      <td id=\"T_9eaf5_row1_col4\" class=\"data row1 col4\" >0.6843</td>\n",
       "      <td id=\"T_9eaf5_row1_col5\" class=\"data row1 col5\" >0.0795</td>\n",
       "      <td id=\"T_9eaf5_row1_col6\" class=\"data row1 col6\" >0.1975</td>\n",
       "    </tr>\n",
       "    <tr>\n",
       "      <th id=\"T_9eaf5_level0_row2\" class=\"row_heading level0 row2\" >2</th>\n",
       "      <td id=\"T_9eaf5_row2_col0\" class=\"data row2 col0\" >0.5415</td>\n",
       "      <td id=\"T_9eaf5_row2_col1\" class=\"data row2 col1\" >0.5789</td>\n",
       "      <td id=\"T_9eaf5_row2_col2\" class=\"data row2 col2\" >0.9982</td>\n",
       "      <td id=\"T_9eaf5_row2_col3\" class=\"data row2 col3\" >0.5217</td>\n",
       "      <td id=\"T_9eaf5_row2_col4\" class=\"data row2 col4\" >0.6853</td>\n",
       "      <td id=\"T_9eaf5_row2_col5\" class=\"data row2 col5\" >0.0831</td>\n",
       "      <td id=\"T_9eaf5_row2_col6\" class=\"data row2 col6\" >0.2040</td>\n",
       "    </tr>\n",
       "    <tr>\n",
       "      <th id=\"T_9eaf5_level0_row3\" class=\"row_heading level0 row3\" >3</th>\n",
       "      <td id=\"T_9eaf5_row3_col0\" class=\"data row3 col0\" >0.5427</td>\n",
       "      <td id=\"T_9eaf5_row3_col1\" class=\"data row3 col1\" >0.5701</td>\n",
       "      <td id=\"T_9eaf5_row3_col2\" class=\"data row3 col2\" >0.9987</td>\n",
       "      <td id=\"T_9eaf5_row3_col3\" class=\"data row3 col3\" >0.5223</td>\n",
       "      <td id=\"T_9eaf5_row3_col4\" class=\"data row3 col4\" >0.6859</td>\n",
       "      <td id=\"T_9eaf5_row3_col5\" class=\"data row3 col5\" >0.0853</td>\n",
       "      <td id=\"T_9eaf5_row3_col6\" class=\"data row3 col6\" >0.2081</td>\n",
       "    </tr>\n",
       "    <tr>\n",
       "      <th id=\"T_9eaf5_level0_row4\" class=\"row_heading level0 row4\" >4</th>\n",
       "      <td id=\"T_9eaf5_row4_col0\" class=\"data row4 col0\" >0.5393</td>\n",
       "      <td id=\"T_9eaf5_row4_col1\" class=\"data row4 col1\" >0.5746</td>\n",
       "      <td id=\"T_9eaf5_row4_col2\" class=\"data row4 col2\" >0.9969</td>\n",
       "      <td id=\"T_9eaf5_row4_col3\" class=\"data row4 col3\" >0.5205</td>\n",
       "      <td id=\"T_9eaf5_row4_col4\" class=\"data row4 col4\" >0.6839</td>\n",
       "      <td id=\"T_9eaf5_row4_col5\" class=\"data row4 col5\" >0.0785</td>\n",
       "      <td id=\"T_9eaf5_row4_col6\" class=\"data row4 col6\" >0.1949</td>\n",
       "    </tr>\n",
       "    <tr>\n",
       "      <th id=\"T_9eaf5_level0_row5\" class=\"row_heading level0 row5\" >5</th>\n",
       "      <td id=\"T_9eaf5_row5_col0\" class=\"data row5 col0\" >0.5380</td>\n",
       "      <td id=\"T_9eaf5_row5_col1\" class=\"data row5 col1\" >0.5767</td>\n",
       "      <td id=\"T_9eaf5_row5_col2\" class=\"data row5 col2\" >0.9979</td>\n",
       "      <td id=\"T_9eaf5_row5_col3\" class=\"data row5 col3\" >0.5198</td>\n",
       "      <td id=\"T_9eaf5_row5_col4\" class=\"data row5 col4\" >0.6836</td>\n",
       "      <td id=\"T_9eaf5_row5_col5\" class=\"data row5 col5\" >0.0760</td>\n",
       "      <td id=\"T_9eaf5_row5_col6\" class=\"data row5 col6\" >0.1936</td>\n",
       "    </tr>\n",
       "    <tr>\n",
       "      <th id=\"T_9eaf5_level0_row6\" class=\"row_heading level0 row6\" >6</th>\n",
       "      <td id=\"T_9eaf5_row6_col0\" class=\"data row6 col0\" >0.5400</td>\n",
       "      <td id=\"T_9eaf5_row6_col1\" class=\"data row6 col1\" >0.5705</td>\n",
       "      <td id=\"T_9eaf5_row6_col2\" class=\"data row6 col2\" >0.9983</td>\n",
       "      <td id=\"T_9eaf5_row6_col3\" class=\"data row6 col3\" >0.5208</td>\n",
       "      <td id=\"T_9eaf5_row6_col4\" class=\"data row6 col4\" >0.6845</td>\n",
       "      <td id=\"T_9eaf5_row6_col5\" class=\"data row6 col5\" >0.0800</td>\n",
       "      <td id=\"T_9eaf5_row6_col6\" class=\"data row6 col6\" >0.2000</td>\n",
       "    </tr>\n",
       "    <tr>\n",
       "      <th id=\"T_9eaf5_level0_row7\" class=\"row_heading level0 row7\" >7</th>\n",
       "      <td id=\"T_9eaf5_row7_col0\" class=\"data row7 col0\" >0.5452</td>\n",
       "      <td id=\"T_9eaf5_row7_col1\" class=\"data row7 col1\" >0.5729</td>\n",
       "      <td id=\"T_9eaf5_row7_col2\" class=\"data row7 col2\" >0.9971</td>\n",
       "      <td id=\"T_9eaf5_row7_col3\" class=\"data row7 col3\" >0.5237</td>\n",
       "      <td id=\"T_9eaf5_row7_col4\" class=\"data row7 col4\" >0.6867</td>\n",
       "      <td id=\"T_9eaf5_row7_col5\" class=\"data row7 col5\" >0.0904</td>\n",
       "      <td id=\"T_9eaf5_row7_col6\" class=\"data row7 col6\" >0.2113</td>\n",
       "    </tr>\n",
       "    <tr>\n",
       "      <th id=\"T_9eaf5_level0_row8\" class=\"row_heading level0 row8\" >8</th>\n",
       "      <td id=\"T_9eaf5_row8_col0\" class=\"data row8 col0\" >0.5419</td>\n",
       "      <td id=\"T_9eaf5_row8_col1\" class=\"data row8 col1\" >0.5723</td>\n",
       "      <td id=\"T_9eaf5_row8_col2\" class=\"data row8 col2\" >0.9981</td>\n",
       "      <td id=\"T_9eaf5_row8_col3\" class=\"data row8 col3\" >0.5219</td>\n",
       "      <td id=\"T_9eaf5_row8_col4\" class=\"data row8 col4\" >0.6854</td>\n",
       "      <td id=\"T_9eaf5_row8_col5\" class=\"data row8 col5\" >0.0839</td>\n",
       "      <td id=\"T_9eaf5_row8_col6\" class=\"data row8 col6\" >0.2048</td>\n",
       "    </tr>\n",
       "    <tr>\n",
       "      <th id=\"T_9eaf5_level0_row9\" class=\"row_heading level0 row9\" >9</th>\n",
       "      <td id=\"T_9eaf5_row9_col0\" class=\"data row9 col0\" >0.5407</td>\n",
       "      <td id=\"T_9eaf5_row9_col1\" class=\"data row9 col1\" >0.5740</td>\n",
       "      <td id=\"T_9eaf5_row9_col2\" class=\"data row9 col2\" >0.9973</td>\n",
       "      <td id=\"T_9eaf5_row9_col3\" class=\"data row9 col3\" >0.5213</td>\n",
       "      <td id=\"T_9eaf5_row9_col4\" class=\"data row9 col4\" >0.6847</td>\n",
       "      <td id=\"T_9eaf5_row9_col5\" class=\"data row9 col5\" >0.0815</td>\n",
       "      <td id=\"T_9eaf5_row9_col6\" class=\"data row9 col6\" >0.1999</td>\n",
       "    </tr>\n",
       "    <tr>\n",
       "      <th id=\"T_9eaf5_level0_row10\" class=\"row_heading level0 row10\" >Mean</th>\n",
       "      <td id=\"T_9eaf5_row10_col0\" class=\"data row10 col0\" >0.5414</td>\n",
       "      <td id=\"T_9eaf5_row10_col1\" class=\"data row10 col1\" >0.5733</td>\n",
       "      <td id=\"T_9eaf5_row10_col2\" class=\"data row10 col2\" >0.9977</td>\n",
       "      <td id=\"T_9eaf5_row10_col3\" class=\"data row10 col3\" >0.5216</td>\n",
       "      <td id=\"T_9eaf5_row10_col4\" class=\"data row10 col4\" >0.6851</td>\n",
       "      <td id=\"T_9eaf5_row10_col5\" class=\"data row10 col5\" >0.0828</td>\n",
       "      <td id=\"T_9eaf5_row10_col6\" class=\"data row10 col6\" >0.2025</td>\n",
       "    </tr>\n",
       "    <tr>\n",
       "      <th id=\"T_9eaf5_level0_row11\" class=\"row_heading level0 row11\" >Std</th>\n",
       "      <td id=\"T_9eaf5_row11_col0\" class=\"data row11 col0\" >0.0022</td>\n",
       "      <td id=\"T_9eaf5_row11_col1\" class=\"data row11 col1\" >0.0031</td>\n",
       "      <td id=\"T_9eaf5_row11_col2\" class=\"data row11 col2\" >0.0006</td>\n",
       "      <td id=\"T_9eaf5_row11_col3\" class=\"data row11 col3\" >0.0012</td>\n",
       "      <td id=\"T_9eaf5_row11_col4\" class=\"data row11 col4\" >0.0010</td>\n",
       "      <td id=\"T_9eaf5_row11_col5\" class=\"data row11 col5\" >0.0045</td>\n",
       "      <td id=\"T_9eaf5_row11_col6\" class=\"data row11 col6\" >0.0060</td>\n",
       "    </tr>\n",
       "  </tbody>\n",
       "</table>\n"
      ],
      "text/plain": [
       "<pandas.io.formats.style.Styler at 0x7f7d91464100>"
      ]
     },
     "metadata": {},
     "output_type": "display_data"
    },
    {
     "data": {
      "text/html": [],
      "text/plain": [
       "<IPython.core.display.HTML object>"
      ]
     },
     "metadata": {},
     "output_type": "display_data"
    }
   ],
   "source": [
    "nb = create_model('nb')"
   ]
  },
  {
   "cell_type": "code",
   "execution_count": 14,
   "metadata": {},
   "outputs": [
    {
     "data": {
      "text/html": [],
      "text/plain": [
       "<IPython.core.display.HTML object>"
      ]
     },
     "metadata": {},
     "output_type": "display_data"
    },
    {
     "data": {
      "image/png": "[encoded data removed]",
      "text/plain": [
       "<Figure size 800x550 with 1 Axes>"
      ]
     },
     "metadata": {},
     "output_type": "display_data"
    }
   ],
   "source": [
    "plot_model(nb, plot = 'confusion_matrix')"
   ]
  },
  {
   "cell_type": "code",
   "execution_count": 15,
   "metadata": {},
   "outputs": [
    {
     "data": {
      "text/html": [],
      "text/plain": [
       "<IPython.core.display.HTML object>"
      ]
     },
     "metadata": {},
     "output_type": "display_data"
    },
    {
     "data": {
      "image/png": "[encoded data removed]",
      "text/plain": [
       "<Figure size 800x550 with 1 Axes>"
      ]
     },
     "metadata": {},
     "output_type": "display_data"
    }
   ],
   "source": [
    "plot_model(nb, plot = 'error')"
   ]
  },
  {
   "cell_type": "code",
   "execution_count": 16,
   "metadata": {},
   "outputs": [
    {
     "data": {
      "text/html": [],
      "text/plain": [
       "<IPython.core.display.HTML object>"
      ]
     },
     "metadata": {},
     "output_type": "display_data"
    },
    {
     "data": {
      "text/html": [
       "<div>\n",
       "<style scoped>\n",
       "    .dataframe tbody tr th:only-of-type {\n",
       "        vertical-align: middle;\n",
       "    }\n",
       "\n",
       "    .dataframe tbody tr th {\n",
       "        vertical-align: top;\n",
       "    }\n",
       "\n",
       "    .dataframe thead th {\n",
       "        text-align: right;\n",
       "    }\n",
       "</style>\n",
       "<table border=\"1\" class=\"dataframe\">\n",
       "  <thead>\n",
       "    <tr style=\"text-align: right;\">\n",
       "      <th></th>\n",
       "      <th>Parameters</th>\n",
       "    </tr>\n",
       "  </thead>\n",
       "  <tbody>\n",
       "    <tr>\n",
       "      <th>priors</th>\n",
       "      <td>None</td>\n",
       "    </tr>\n",
       "    <tr>\n",
       "      <th>var_smoothing</th>\n",
       "      <td>1e-09</td>\n",
       "    </tr>\n",
       "  </tbody>\n",
       "</table>\n",
       "</div>"
      ],
      "text/plain": [
       "              Parameters\n",
       "priors              None\n",
       "var_smoothing      1e-09"
      ]
     },
     "metadata": {},
     "output_type": "display_data"
    }
   ],
   "source": [
    "plot_model(nb, plot = 'parameter')"
   ]
  },
  {
   "cell_type": "code",
   "execution_count": 17,
   "metadata": {},
   "outputs": [
    {
     "data": {
      "text/html": [
       "<style type=\"text/css\">\n",
       "</style>\n",
       "<table id=\"T_edcce\">\n",
       "  <thead>\n",
       "    <tr>\n",
       "      <th class=\"blank level0\" >&nbsp;</th>\n",
       "      <th id=\"T_edcce_level0_col0\" class=\"col_heading level0 col0\" >Model</th>\n",
       "      <th id=\"T_edcce_level0_col1\" class=\"col_heading level0 col1\" >Accuracy</th>\n",
       "      <th id=\"T_edcce_level0_col2\" class=\"col_heading level0 col2\" >AUC</th>\n",
       "      <th id=\"T_edcce_level0_col3\" class=\"col_heading level0 col3\" >Recall</th>\n",
       "      <th id=\"T_edcce_level0_col4\" class=\"col_heading level0 col4\" >Prec.</th>\n",
       "      <th id=\"T_edcce_level0_col5\" class=\"col_heading level0 col5\" >F1</th>\n",
       "      <th id=\"T_edcce_level0_col6\" class=\"col_heading level0 col6\" >Kappa</th>\n",
       "      <th id=\"T_edcce_level0_col7\" class=\"col_heading level0 col7\" >MCC</th>\n",
       "    </tr>\n",
       "  </thead>\n",
       "  <tbody>\n",
       "    <tr>\n",
       "      <th id=\"T_edcce_level0_row0\" class=\"row_heading level0 row0\" >0</th>\n",
       "      <td id=\"T_edcce_row0_col0\" class=\"data row0 col0\" >Naive Bayes</td>\n",
       "      <td id=\"T_edcce_row0_col1\" class=\"data row0 col1\" >0.5422</td>\n",
       "      <td id=\"T_edcce_row0_col2\" class=\"data row0 col2\" >0.5695</td>\n",
       "      <td id=\"T_edcce_row0_col3\" class=\"data row0 col3\" >0.9965</td>\n",
       "      <td id=\"T_edcce_row0_col4\" class=\"data row0 col4\" >0.5221</td>\n",
       "      <td id=\"T_edcce_row0_col5\" class=\"data row0 col5\" >0.6852</td>\n",
       "      <td id=\"T_edcce_row0_col6\" class=\"data row0 col6\" >0.0844</td>\n",
       "      <td id=\"T_edcce_row0_col7\" class=\"data row0 col7\" >0.2021</td>\n",
       "    </tr>\n",
       "  </tbody>\n",
       "</table>\n"
      ],
      "text/plain": [
       "<pandas.io.formats.style.Styler at 0x7f7d74911030>"
      ]
     },
     "metadata": {},
     "output_type": "display_data"
    }
   ],
   "source": [
    "nb_val_pred = predict_model(nb, data=val)"
   ]
  },
  {
   "cell_type": "code",
   "execution_count": 18,
   "metadata": {},
   "outputs": [
    {
     "data": {
      "text/html": [],
      "text/plain": [
       "<IPython.core.display.HTML object>"
      ]
     },
     "metadata": {},
     "output_type": "display_data"
    }
   ],
   "source": [
    "nb_val_pred = predict_model(nb, data=embval)"
   ]
  },
  {
   "cell_type": "code",
   "execution_count": 19,
   "metadata": {},
   "outputs": [
    {
     "name": "stdout",
     "output_type": "stream",
     "text": [
      "Transformation Pipeline and Model Successfully Saved\n"
     ]
    },
    {
     "data": {
      "text/plain": [
       "(Pipeline(memory=FastMemory(location=/tmp/joblib),\n",
       "          steps=[('numerical_imputer',\n",
       "                  TransformerWrapper(exclude=None,\n",
       "                                     include=['http://semanticscience.org/resource/SIO_000281',\n",
       "                                              'http://semanticscience.org/resource/SIO_000628',\n",
       "                                              'http://semanticscience.org/resource/SIO_001279',\n",
       "                                              'http://www.semanticweb.org/needed-terms#001',\n",
       "                                              'http://www.semanticweb.org/needed-term...\n",
       "                                     transformer=SimpleImputer(add_indicator=False,\n",
       "                                                               copy=True,\n",
       "                                                               fill_value=None,\n",
       "                                                               keep_empty_features=False,\n",
       "                                                               missing_values=nan,\n",
       "                                                               strategy='most_frequent',\n",
       "                                                               verbose='deprecated'))),\n",
       "                 ('clean_column_names',\n",
       "                  TransformerWrapper(exclude=None, include=None,\n",
       "                                     transformer=CleanColumnNames(match='[\\\\]\\\\[\\\\,\\\\{\\\\}\\\\\"\\\\:]+'))),\n",
       "                 ('trained_model',\n",
       "                  GaussianNB(priors=None, var_smoothing=1e-09))],\n",
       "          verbose=False),\n",
       " 'models_classif/convkb/binary_scores_val/nb.pkl')"
      ]
     },
     "execution_count": 19,
     "metadata": {},
     "output_type": "execute_result"
    }
   ],
   "source": [
    "save_model(nb, 'models_classif/convkb/binary_scores_val/nb')"
   ]
  },
  {
   "cell_type": "markdown",
   "metadata": {},
   "source": [
    "# Decision Tree Classifier"
   ]
  },
  {
   "cell_type": "code",
   "execution_count": 20,
   "metadata": {},
   "outputs": [
    {
     "data": {
      "text/html": [],
      "text/plain": [
       "<IPython.core.display.HTML object>"
      ]
     },
     "metadata": {},
     "output_type": "display_data"
    },
    {
     "data": {
      "text/html": [
       "<style type=\"text/css\">\n",
       "#T_61874_row10_col0, #T_61874_row10_col1, #T_61874_row10_col2, #T_61874_row10_col3, #T_61874_row10_col4, #T_61874_row10_col5, #T_61874_row10_col6 {\n",
       "  background: yellow;\n",
       "}\n",
       "</style>\n",
       "<table id=\"T_61874\">\n",
       "  <thead>\n",
       "    <tr>\n",
       "      <th class=\"blank level0\" >&nbsp;</th>\n",
       "      <th id=\"T_61874_level0_col0\" class=\"col_heading level0 col0\" >Accuracy</th>\n",
       "      <th id=\"T_61874_level0_col1\" class=\"col_heading level0 col1\" >AUC</th>\n",
       "      <th id=\"T_61874_level0_col2\" class=\"col_heading level0 col2\" >Recall</th>\n",
       "      <th id=\"T_61874_level0_col3\" class=\"col_heading level0 col3\" >Prec.</th>\n",
       "      <th id=\"T_61874_level0_col4\" class=\"col_heading level0 col4\" >F1</th>\n",
       "      <th id=\"T_61874_level0_col5\" class=\"col_heading level0 col5\" >Kappa</th>\n",
       "      <th id=\"T_61874_level0_col6\" class=\"col_heading level0 col6\" >MCC</th>\n",
       "    </tr>\n",
       "    <tr>\n",
       "      <th class=\"index_name level0\" >Fold</th>\n",
       "      <th class=\"blank col0\" >&nbsp;</th>\n",
       "      <th class=\"blank col1\" >&nbsp;</th>\n",
       "      <th class=\"blank col2\" >&nbsp;</th>\n",
       "      <th class=\"blank col3\" >&nbsp;</th>\n",
       "      <th class=\"blank col4\" >&nbsp;</th>\n",
       "      <th class=\"blank col5\" >&nbsp;</th>\n",
       "      <th class=\"blank col6\" >&nbsp;</th>\n",
       "    </tr>\n",
       "  </thead>\n",
       "  <tbody>\n",
       "    <tr>\n",
       "      <th id=\"T_61874_level0_row0\" class=\"row_heading level0 row0\" >0</th>\n",
       "      <td id=\"T_61874_row0_col0\" class=\"data row0 col0\" >0.5836</td>\n",
       "      <td id=\"T_61874_row0_col1\" class=\"data row0 col1\" >0.5832</td>\n",
       "      <td id=\"T_61874_row0_col2\" class=\"data row0 col2\" >0.9127</td>\n",
       "      <td id=\"T_61874_row0_col3\" class=\"data row0 col3\" >0.5504</td>\n",
       "      <td id=\"T_61874_row0_col4\" class=\"data row0 col4\" >0.6867</td>\n",
       "      <td id=\"T_61874_row0_col5\" class=\"data row0 col5\" >0.1672</td>\n",
       "      <td id=\"T_61874_row0_col6\" class=\"data row0 col6\" >0.2221</td>\n",
       "    </tr>\n",
       "    <tr>\n",
       "      <th id=\"T_61874_level0_row1\" class=\"row_heading level0 row1\" >1</th>\n",
       "      <td id=\"T_61874_row1_col0\" class=\"data row1 col0\" >0.5854</td>\n",
       "      <td id=\"T_61874_row1_col1\" class=\"data row1 col1\" >0.5819</td>\n",
       "      <td id=\"T_61874_row1_col2\" class=\"data row1 col2\" >0.9206</td>\n",
       "      <td id=\"T_61874_row1_col3\" class=\"data row1 col3\" >0.5511</td>\n",
       "      <td id=\"T_61874_row1_col4\" class=\"data row1 col4\" >0.6895</td>\n",
       "      <td id=\"T_61874_row1_col5\" class=\"data row1 col5\" >0.1708</td>\n",
       "      <td id=\"T_61874_row1_col6\" class=\"data row1 col6\" >0.2302</td>\n",
       "    </tr>\n",
       "    <tr>\n",
       "      <th id=\"T_61874_level0_row2\" class=\"row_heading level0 row2\" >2</th>\n",
       "      <td id=\"T_61874_row2_col0\" class=\"data row2 col0\" >0.5876</td>\n",
       "      <td id=\"T_61874_row2_col1\" class=\"data row2 col1\" >0.5810</td>\n",
       "      <td id=\"T_61874_row2_col2\" class=\"data row2 col2\" >0.9150</td>\n",
       "      <td id=\"T_61874_row2_col3\" class=\"data row2 col3\" >0.5529</td>\n",
       "      <td id=\"T_61874_row2_col4\" class=\"data row2 col4\" >0.6893</td>\n",
       "      <td id=\"T_61874_row2_col5\" class=\"data row2 col5\" >0.1751</td>\n",
       "      <td id=\"T_61874_row2_col6\" class=\"data row2 col6\" >0.2317</td>\n",
       "    </tr>\n",
       "    <tr>\n",
       "      <th id=\"T_61874_level0_row3\" class=\"row_heading level0 row3\" >3</th>\n",
       "      <td id=\"T_61874_row3_col0\" class=\"data row3 col0\" >0.5899</td>\n",
       "      <td id=\"T_61874_row3_col1\" class=\"data row3 col1\" >0.5890</td>\n",
       "      <td id=\"T_61874_row3_col2\" class=\"data row3 col2\" >0.9185</td>\n",
       "      <td id=\"T_61874_row3_col3\" class=\"data row3 col3\" >0.5542</td>\n",
       "      <td id=\"T_61874_row3_col4\" class=\"data row3 col4\" >0.6913</td>\n",
       "      <td id=\"T_61874_row3_col5\" class=\"data row3 col5\" >0.1797</td>\n",
       "      <td id=\"T_61874_row3_col6\" class=\"data row3 col6\" >0.2385</td>\n",
       "    </tr>\n",
       "    <tr>\n",
       "      <th id=\"T_61874_level0_row4\" class=\"row_heading level0 row4\" >4</th>\n",
       "      <td id=\"T_61874_row4_col0\" class=\"data row4 col0\" >0.5865</td>\n",
       "      <td id=\"T_61874_row4_col1\" class=\"data row4 col1\" >0.5807</td>\n",
       "      <td id=\"T_61874_row4_col2\" class=\"data row4 col2\" >0.9146</td>\n",
       "      <td id=\"T_61874_row4_col3\" class=\"data row4 col3\" >0.5523</td>\n",
       "      <td id=\"T_61874_row4_col4\" class=\"data row4 col4\" >0.6887</td>\n",
       "      <td id=\"T_61874_row4_col5\" class=\"data row4 col5\" >0.1730</td>\n",
       "      <td id=\"T_61874_row4_col6\" class=\"data row4 col6\" >0.2293</td>\n",
       "    </tr>\n",
       "    <tr>\n",
       "      <th id=\"T_61874_level0_row5\" class=\"row_heading level0 row5\" >5</th>\n",
       "      <td id=\"T_61874_row5_col0\" class=\"data row5 col0\" >0.5874</td>\n",
       "      <td id=\"T_61874_row5_col1\" class=\"data row5 col1\" >0.5837</td>\n",
       "      <td id=\"T_61874_row5_col2\" class=\"data row5 col2\" >0.9210</td>\n",
       "      <td id=\"T_61874_row5_col3\" class=\"data row5 col3\" >0.5524</td>\n",
       "      <td id=\"T_61874_row5_col4\" class=\"data row5 col4\" >0.6906</td>\n",
       "      <td id=\"T_61874_row5_col5\" class=\"data row5 col5\" >0.1747</td>\n",
       "      <td id=\"T_61874_row5_col6\" class=\"data row5 col6\" >0.2346</td>\n",
       "    </tr>\n",
       "    <tr>\n",
       "      <th id=\"T_61874_level0_row6\" class=\"row_heading level0 row6\" >6</th>\n",
       "      <td id=\"T_61874_row6_col0\" class=\"data row6 col0\" >0.5873</td>\n",
       "      <td id=\"T_61874_row6_col1\" class=\"data row6 col1\" >0.5805</td>\n",
       "      <td id=\"T_61874_row6_col2\" class=\"data row6 col2\" >0.9199</td>\n",
       "      <td id=\"T_61874_row6_col3\" class=\"data row6 col3\" >0.5524</td>\n",
       "      <td id=\"T_61874_row6_col4\" class=\"data row6 col4\" >0.6903</td>\n",
       "      <td id=\"T_61874_row6_col5\" class=\"data row6 col5\" >0.1746</td>\n",
       "      <td id=\"T_61874_row6_col6\" class=\"data row6 col6\" >0.2338</td>\n",
       "    </tr>\n",
       "    <tr>\n",
       "      <th id=\"T_61874_level0_row7\" class=\"row_heading level0 row7\" >7</th>\n",
       "      <td id=\"T_61874_row7_col0\" class=\"data row7 col0\" >0.5891</td>\n",
       "      <td id=\"T_61874_row7_col1\" class=\"data row7 col1\" >0.5811</td>\n",
       "      <td id=\"T_61874_row7_col2\" class=\"data row7 col2\" >0.9156</td>\n",
       "      <td id=\"T_61874_row7_col3\" class=\"data row7 col3\" >0.5539</td>\n",
       "      <td id=\"T_61874_row7_col4\" class=\"data row7 col4\" >0.6903</td>\n",
       "      <td id=\"T_61874_row7_col5\" class=\"data row7 col5\" >0.1783</td>\n",
       "      <td id=\"T_61874_row7_col6\" class=\"data row7 col6\" >0.2354</td>\n",
       "    </tr>\n",
       "    <tr>\n",
       "      <th id=\"T_61874_level0_row8\" class=\"row_heading level0 row8\" >8</th>\n",
       "      <td id=\"T_61874_row8_col0\" class=\"data row8 col0\" >0.5856</td>\n",
       "      <td id=\"T_61874_row8_col1\" class=\"data row8 col1\" >0.5814</td>\n",
       "      <td id=\"T_61874_row8_col2\" class=\"data row8 col2\" >0.9101</td>\n",
       "      <td id=\"T_61874_row8_col3\" class=\"data row8 col3\" >0.5519</td>\n",
       "      <td id=\"T_61874_row8_col4\" class=\"data row8 col4\" >0.6871</td>\n",
       "      <td id=\"T_61874_row8_col5\" class=\"data row8 col5\" >0.1712</td>\n",
       "      <td id=\"T_61874_row8_col6\" class=\"data row8 col6\" >0.2251</td>\n",
       "    </tr>\n",
       "    <tr>\n",
       "      <th id=\"T_61874_level0_row9\" class=\"row_heading level0 row9\" >9</th>\n",
       "      <td id=\"T_61874_row9_col0\" class=\"data row9 col0\" >0.5882</td>\n",
       "      <td id=\"T_61874_row9_col1\" class=\"data row9 col1\" >0.5859</td>\n",
       "      <td id=\"T_61874_row9_col2\" class=\"data row9 col2\" >0.9141</td>\n",
       "      <td id=\"T_61874_row9_col3\" class=\"data row9 col3\" >0.5534</td>\n",
       "      <td id=\"T_61874_row9_col4\" class=\"data row9 col4\" >0.6894</td>\n",
       "      <td id=\"T_61874_row9_col5\" class=\"data row9 col5\" >0.1765</td>\n",
       "      <td id=\"T_61874_row9_col6\" class=\"data row9 col6\" >0.2327</td>\n",
       "    </tr>\n",
       "    <tr>\n",
       "      <th id=\"T_61874_level0_row10\" class=\"row_heading level0 row10\" >Mean</th>\n",
       "      <td id=\"T_61874_row10_col0\" class=\"data row10 col0\" >0.5871</td>\n",
       "      <td id=\"T_61874_row10_col1\" class=\"data row10 col1\" >0.5828</td>\n",
       "      <td id=\"T_61874_row10_col2\" class=\"data row10 col2\" >0.9162</td>\n",
       "      <td id=\"T_61874_row10_col3\" class=\"data row10 col3\" >0.5525</td>\n",
       "      <td id=\"T_61874_row10_col4\" class=\"data row10 col4\" >0.6893</td>\n",
       "      <td id=\"T_61874_row10_col5\" class=\"data row10 col5\" >0.1741</td>\n",
       "      <td id=\"T_61874_row10_col6\" class=\"data row10 col6\" >0.2313</td>\n",
       "    </tr>\n",
       "    <tr>\n",
       "      <th id=\"T_61874_level0_row11\" class=\"row_heading level0 row11\" >Std</th>\n",
       "      <td id=\"T_61874_row11_col0\" class=\"data row11 col0\" >0.0018</td>\n",
       "      <td id=\"T_61874_row11_col1\" class=\"data row11 col1\" >0.0026</td>\n",
       "      <td id=\"T_61874_row11_col2\" class=\"data row11 col2\" >0.0035</td>\n",
       "      <td id=\"T_61874_row11_col3\" class=\"data row11 col3\" >0.0011</td>\n",
       "      <td id=\"T_61874_row11_col4\" class=\"data row11 col4\" >0.0014</td>\n",
       "      <td id=\"T_61874_row11_col5\" class=\"data row11 col5\" >0.0035</td>\n",
       "      <td id=\"T_61874_row11_col6\" class=\"data row11 col6\" >0.0047</td>\n",
       "    </tr>\n",
       "  </tbody>\n",
       "</table>\n"
      ],
      "text/plain": [
       "<pandas.io.formats.style.Styler at 0x7f7d6175b760>"
      ]
     },
     "metadata": {},
     "output_type": "display_data"
    },
    {
     "data": {
      "text/html": [],
      "text/plain": [
       "<IPython.core.display.HTML object>"
      ]
     },
     "metadata": {},
     "output_type": "display_data"
    }
   ],
   "source": [
    "dt = create_model('dt')"
   ]
  },
  {
   "cell_type": "code",
   "execution_count": 21,
   "metadata": {},
   "outputs": [
    {
     "data": {
      "text/html": [],
      "text/plain": [
       "<IPython.core.display.HTML object>"
      ]
     },
     "metadata": {},
     "output_type": "display_data"
    },
    {
     "data": {
      "image/png": "[encoded data removed]",
      "text/plain": [
       "<Figure size 800x550 with 1 Axes>"
      ]
     },
     "metadata": {},
     "output_type": "display_data"
    }
   ],
   "source": [
    "plot_model(dt, plot = 'confusion_matrix')"
   ]
  },
  {
   "cell_type": "code",
   "execution_count": 22,
   "metadata": {},
   "outputs": [
    {
     "data": {
      "text/html": [],
      "text/plain": [
       "<IPython.core.display.HTML object>"
      ]
     },
     "metadata": {},
     "output_type": "display_data"
    },
    {
     "data": {
      "image/png": "[encoded data removed]",
      "text/plain": [
       "<Figure size 800x550 with 1 Axes>"
      ]
     },
     "metadata": {},
     "output_type": "display_data"
    }
   ],
   "source": [
    "plot_model(dt, plot = 'error')"
   ]
  },
  {
   "cell_type": "code",
   "execution_count": 23,
   "metadata": {},
   "outputs": [
    {
     "data": {
      "text/html": [],
      "text/plain": [
       "<IPython.core.display.HTML object>"
      ]
     },
     "metadata": {},
     "output_type": "display_data"
    },
    {
     "data": {
      "text/html": [
       "<div>\n",
       "<style scoped>\n",
       "    .dataframe tbody tr th:only-of-type {\n",
       "        vertical-align: middle;\n",
       "    }\n",
       "\n",
       "    .dataframe tbody tr th {\n",
       "        vertical-align: top;\n",
       "    }\n",
       "\n",
       "    .dataframe thead th {\n",
       "        text-align: right;\n",
       "    }\n",
       "</style>\n",
       "<table border=\"1\" class=\"dataframe\">\n",
       "  <thead>\n",
       "    <tr style=\"text-align: right;\">\n",
       "      <th></th>\n",
       "      <th>Parameters</th>\n",
       "    </tr>\n",
       "  </thead>\n",
       "  <tbody>\n",
       "    <tr>\n",
       "      <th>ccp_alpha</th>\n",
       "      <td>0.0</td>\n",
       "    </tr>\n",
       "    <tr>\n",
       "      <th>class_weight</th>\n",
       "      <td>None</td>\n",
       "    </tr>\n",
       "    <tr>\n",
       "      <th>criterion</th>\n",
       "      <td>gini</td>\n",
       "    </tr>\n",
       "    <tr>\n",
       "      <th>max_depth</th>\n",
       "      <td>None</td>\n",
       "    </tr>\n",
       "    <tr>\n",
       "      <th>max_features</th>\n",
       "      <td>None</td>\n",
       "    </tr>\n",
       "    <tr>\n",
       "      <th>max_leaf_nodes</th>\n",
       "      <td>None</td>\n",
       "    </tr>\n",
       "    <tr>\n",
       "      <th>min_impurity_decrease</th>\n",
       "      <td>0.0</td>\n",
       "    </tr>\n",
       "    <tr>\n",
       "      <th>min_samples_leaf</th>\n",
       "      <td>1</td>\n",
       "    </tr>\n",
       "    <tr>\n",
       "      <th>min_samples_split</th>\n",
       "      <td>2</td>\n",
       "    </tr>\n",
       "    <tr>\n",
       "      <th>min_weight_fraction_leaf</th>\n",
       "      <td>0.0</td>\n",
       "    </tr>\n",
       "    <tr>\n",
       "      <th>random_state</th>\n",
       "      <td>7572</td>\n",
       "    </tr>\n",
       "    <tr>\n",
       "      <th>splitter</th>\n",
       "      <td>best</td>\n",
       "    </tr>\n",
       "  </tbody>\n",
       "</table>\n",
       "</div>"
      ],
      "text/plain": [
       "                         Parameters\n",
       "ccp_alpha                       0.0\n",
       "class_weight                   None\n",
       "criterion                      gini\n",
       "max_depth                      None\n",
       "max_features                   None\n",
       "max_leaf_nodes                 None\n",
       "min_impurity_decrease           0.0\n",
       "min_samples_leaf                  1\n",
       "min_samples_split                 2\n",
       "min_weight_fraction_leaf        0.0\n",
       "random_state                   7572\n",
       "splitter                       best"
      ]
     },
     "metadata": {},
     "output_type": "display_data"
    }
   ],
   "source": [
    "plot_model(dt, plot = 'parameter')"
   ]
  },
  {
   "cell_type": "code",
   "execution_count": 24,
   "metadata": {},
   "outputs": [
    {
     "data": {
      "text/html": [
       "<style type=\"text/css\">\n",
       "</style>\n",
       "<table id=\"T_f440c\">\n",
       "  <thead>\n",
       "    <tr>\n",
       "      <th class=\"blank level0\" >&nbsp;</th>\n",
       "      <th id=\"T_f440c_level0_col0\" class=\"col_heading level0 col0\" >Model</th>\n",
       "      <th id=\"T_f440c_level0_col1\" class=\"col_heading level0 col1\" >Accuracy</th>\n",
       "      <th id=\"T_f440c_level0_col2\" class=\"col_heading level0 col2\" >AUC</th>\n",
       "      <th id=\"T_f440c_level0_col3\" class=\"col_heading level0 col3\" >Recall</th>\n",
       "      <th id=\"T_f440c_level0_col4\" class=\"col_heading level0 col4\" >Prec.</th>\n",
       "      <th id=\"T_f440c_level0_col5\" class=\"col_heading level0 col5\" >F1</th>\n",
       "      <th id=\"T_f440c_level0_col6\" class=\"col_heading level0 col6\" >Kappa</th>\n",
       "      <th id=\"T_f440c_level0_col7\" class=\"col_heading level0 col7\" >MCC</th>\n",
       "    </tr>\n",
       "  </thead>\n",
       "  <tbody>\n",
       "    <tr>\n",
       "      <th id=\"T_f440c_level0_row0\" class=\"row_heading level0 row0\" >0</th>\n",
       "      <td id=\"T_f440c_row0_col0\" class=\"data row0 col0\" >Decision Tree Classifier</td>\n",
       "      <td id=\"T_f440c_row0_col1\" class=\"data row0 col1\" >0.5855</td>\n",
       "      <td id=\"T_f440c_row0_col2\" class=\"data row0 col2\" >0.5828</td>\n",
       "      <td id=\"T_f440c_row0_col3\" class=\"data row0 col3\" >0.9153</td>\n",
       "      <td id=\"T_f440c_row0_col4\" class=\"data row0 col4\" >0.5515</td>\n",
       "      <td id=\"T_f440c_row0_col5\" class=\"data row0 col5\" >0.6883</td>\n",
       "      <td id=\"T_f440c_row0_col6\" class=\"data row0 col6\" >0.1709</td>\n",
       "      <td id=\"T_f440c_row0_col7\" class=\"data row0 col7\" >0.2274</td>\n",
       "    </tr>\n",
       "  </tbody>\n",
       "</table>\n"
      ],
      "text/plain": [
       "<pandas.io.formats.style.Styler at 0x7f7d74aede70>"
      ]
     },
     "metadata": {},
     "output_type": "display_data"
    }
   ],
   "source": [
    "dt_val_pred = predict_model(dt, data=val)"
   ]
  },
  {
   "cell_type": "code",
   "execution_count": 25,
   "metadata": {},
   "outputs": [
    {
     "data": {
      "text/html": [],
      "text/plain": [
       "<IPython.core.display.HTML object>"
      ]
     },
     "metadata": {},
     "output_type": "display_data"
    }
   ],
   "source": [
    "dt_val_pred = predict_model(dt, data=embval)"
   ]
  },
  {
   "cell_type": "code",
   "execution_count": 26,
   "metadata": {},
   "outputs": [
    {
     "name": "stdout",
     "output_type": "stream",
     "text": [
      "Transformation Pipeline and Model Successfully Saved\n"
     ]
    },
    {
     "data": {
      "text/plain": [
       "(Pipeline(memory=FastMemory(location=/tmp/joblib),\n",
       "          steps=[('numerical_imputer',\n",
       "                  TransformerWrapper(exclude=None,\n",
       "                                     include=['http://semanticscience.org/resource/SIO_000281',\n",
       "                                              'http://semanticscience.org/resource/SIO_000628',\n",
       "                                              'http://semanticscience.org/resource/SIO_001279',\n",
       "                                              'http://www.semanticweb.org/needed-terms#001',\n",
       "                                              'http://www.semanticweb.org/needed-term...\n",
       "                                     transformer=CleanColumnNames(match='[\\\\]\\\\[\\\\,\\\\{\\\\}\\\\\"\\\\:]+'))),\n",
       "                 ('trained_model',\n",
       "                  DecisionTreeClassifier(ccp_alpha=0.0, class_weight=None,\n",
       "                                         criterion='gini', max_depth=None,\n",
       "                                         max_features=None, max_leaf_nodes=None,\n",
       "                                         min_impurity_decrease=0.0,\n",
       "                                         min_samples_leaf=1, min_samples_split=2,\n",
       "                                         min_weight_fraction_leaf=0.0,\n",
       "                                         random_state=7572, splitter='best'))],\n",
       "          verbose=False),\n",
       " 'models_classif/convkb/binary_scores_val/dt.pkl')"
      ]
     },
     "execution_count": 26,
     "metadata": {},
     "output_type": "execute_result"
    }
   ],
   "source": [
    "save_model(dt, 'models_classif/convkb/binary_scores_val/dt')"
   ]
  },
  {
   "cell_type": "markdown",
   "metadata": {},
   "source": [
    "# SVM - Linear Kernel"
   ]
  },
  {
   "cell_type": "code",
   "execution_count": 27,
   "metadata": {},
   "outputs": [
    {
     "data": {
      "text/html": [],
      "text/plain": [
       "<IPython.core.display.HTML object>"
      ]
     },
     "metadata": {},
     "output_type": "display_data"
    },
    {
     "data": {
      "text/html": [
       "<style type=\"text/css\">\n",
       "#T_f01c8_row10_col0, #T_f01c8_row10_col1, #T_f01c8_row10_col2, #T_f01c8_row10_col3, #T_f01c8_row10_col4, #T_f01c8_row10_col5, #T_f01c8_row10_col6 {\n",
       "  background: yellow;\n",
       "}\n",
       "</style>\n",
       "<table id=\"T_f01c8\">\n",
       "  <thead>\n",
       "    <tr>\n",
       "      <th class=\"blank level0\" >&nbsp;</th>\n",
       "      <th id=\"T_f01c8_level0_col0\" class=\"col_heading level0 col0\" >Accuracy</th>\n",
       "      <th id=\"T_f01c8_level0_col1\" class=\"col_heading level0 col1\" >AUC</th>\n",
       "      <th id=\"T_f01c8_level0_col2\" class=\"col_heading level0 col2\" >Recall</th>\n",
       "      <th id=\"T_f01c8_level0_col3\" class=\"col_heading level0 col3\" >Prec.</th>\n",
       "      <th id=\"T_f01c8_level0_col4\" class=\"col_heading level0 col4\" >F1</th>\n",
       "      <th id=\"T_f01c8_level0_col5\" class=\"col_heading level0 col5\" >Kappa</th>\n",
       "      <th id=\"T_f01c8_level0_col6\" class=\"col_heading level0 col6\" >MCC</th>\n",
       "    </tr>\n",
       "    <tr>\n",
       "      <th class=\"index_name level0\" >Fold</th>\n",
       "      <th class=\"blank col0\" >&nbsp;</th>\n",
       "      <th class=\"blank col1\" >&nbsp;</th>\n",
       "      <th class=\"blank col2\" >&nbsp;</th>\n",
       "      <th class=\"blank col3\" >&nbsp;</th>\n",
       "      <th class=\"blank col4\" >&nbsp;</th>\n",
       "      <th class=\"blank col5\" >&nbsp;</th>\n",
       "      <th class=\"blank col6\" >&nbsp;</th>\n",
       "    </tr>\n",
       "  </thead>\n",
       "  <tbody>\n",
       "    <tr>\n",
       "      <th id=\"T_f01c8_level0_row0\" class=\"row_heading level0 row0\" >0</th>\n",
       "      <td id=\"T_f01c8_row0_col0\" class=\"data row0 col0\" >0.5195</td>\n",
       "      <td id=\"T_f01c8_row0_col1\" class=\"data row0 col1\" >0.0000</td>\n",
       "      <td id=\"T_f01c8_row0_col2\" class=\"data row0 col2\" >0.9993</td>\n",
       "      <td id=\"T_f01c8_row0_col3\" class=\"data row0 col3\" >0.5100</td>\n",
       "      <td id=\"T_f01c8_row0_col4\" class=\"data row0 col4\" >0.6753</td>\n",
       "      <td id=\"T_f01c8_row0_col5\" class=\"data row0 col5\" >0.0391</td>\n",
       "      <td id=\"T_f01c8_row0_col6\" class=\"data row0 col6\" >0.1386</td>\n",
       "    </tr>\n",
       "    <tr>\n",
       "      <th id=\"T_f01c8_level0_row1\" class=\"row_heading level0 row1\" >1</th>\n",
       "      <td id=\"T_f01c8_row1_col0\" class=\"data row1 col0\" >0.5198</td>\n",
       "      <td id=\"T_f01c8_row1_col1\" class=\"data row1 col1\" >0.0000</td>\n",
       "      <td id=\"T_f01c8_row1_col2\" class=\"data row1 col2\" >0.9991</td>\n",
       "      <td id=\"T_f01c8_row1_col3\" class=\"data row1 col3\" >0.5101</td>\n",
       "      <td id=\"T_f01c8_row1_col4\" class=\"data row1 col4\" >0.6754</td>\n",
       "      <td id=\"T_f01c8_row1_col5\" class=\"data row1 col5\" >0.0395</td>\n",
       "      <td id=\"T_f01c8_row1_col6\" class=\"data row1 col6\" >0.1390</td>\n",
       "    </tr>\n",
       "    <tr>\n",
       "      <th id=\"T_f01c8_level0_row2\" class=\"row_heading level0 row2\" >2</th>\n",
       "      <td id=\"T_f01c8_row2_col0\" class=\"data row2 col0\" >0.5206</td>\n",
       "      <td id=\"T_f01c8_row2_col1\" class=\"data row2 col1\" >0.0000</td>\n",
       "      <td id=\"T_f01c8_row2_col2\" class=\"data row2 col2\" >0.9993</td>\n",
       "      <td id=\"T_f01c8_row2_col3\" class=\"data row2 col3\" >0.5105</td>\n",
       "      <td id=\"T_f01c8_row2_col4\" class=\"data row2 col4\" >0.6758</td>\n",
       "      <td id=\"T_f01c8_row2_col5\" class=\"data row2 col5\" >0.0412</td>\n",
       "      <td id=\"T_f01c8_row2_col6\" class=\"data row2 col6\" >0.1425</td>\n",
       "    </tr>\n",
       "    <tr>\n",
       "      <th id=\"T_f01c8_level0_row3\" class=\"row_heading level0 row3\" >3</th>\n",
       "      <td id=\"T_f01c8_row3_col0\" class=\"data row3 col0\" >0.5228</td>\n",
       "      <td id=\"T_f01c8_row3_col1\" class=\"data row3 col1\" >0.0000</td>\n",
       "      <td id=\"T_f01c8_row3_col2\" class=\"data row3 col2\" >0.9993</td>\n",
       "      <td id=\"T_f01c8_row3_col3\" class=\"data row3 col3\" >0.5117</td>\n",
       "      <td id=\"T_f01c8_row3_col4\" class=\"data row3 col4\" >0.6768</td>\n",
       "      <td id=\"T_f01c8_row3_col5\" class=\"data row3 col5\" >0.0455</td>\n",
       "      <td id=\"T_f01c8_row3_col6\" class=\"data row3 col6\" >0.1502</td>\n",
       "    </tr>\n",
       "    <tr>\n",
       "      <th id=\"T_f01c8_level0_row4\" class=\"row_heading level0 row4\" >4</th>\n",
       "      <td id=\"T_f01c8_row4_col0\" class=\"data row4 col0\" >0.5212</td>\n",
       "      <td id=\"T_f01c8_row4_col1\" class=\"data row4 col1\" >0.0000</td>\n",
       "      <td id=\"T_f01c8_row4_col2\" class=\"data row4 col2\" >0.9991</td>\n",
       "      <td id=\"T_f01c8_row4_col3\" class=\"data row4 col3\" >0.5108</td>\n",
       "      <td id=\"T_f01c8_row4_col4\" class=\"data row4 col4\" >0.6760</td>\n",
       "      <td id=\"T_f01c8_row4_col5\" class=\"data row4 col5\" >0.0423</td>\n",
       "      <td id=\"T_f01c8_row4_col6\" class=\"data row4 col6\" >0.1442</td>\n",
       "    </tr>\n",
       "    <tr>\n",
       "      <th id=\"T_f01c8_level0_row5\" class=\"row_heading level0 row5\" >5</th>\n",
       "      <td id=\"T_f01c8_row5_col0\" class=\"data row5 col0\" >0.5205</td>\n",
       "      <td id=\"T_f01c8_row5_col1\" class=\"data row5 col1\" >0.0000</td>\n",
       "      <td id=\"T_f01c8_row5_col2\" class=\"data row5 col2\" >0.9997</td>\n",
       "      <td id=\"T_f01c8_row5_col3\" class=\"data row5 col3\" >0.5105</td>\n",
       "      <td id=\"T_f01c8_row5_col4\" class=\"data row5 col4\" >0.6759</td>\n",
       "      <td id=\"T_f01c8_row5_col5\" class=\"data row5 col5\" >0.0410</td>\n",
       "      <td id=\"T_f01c8_row5_col6\" class=\"data row5 col6\" >0.1436</td>\n",
       "    </tr>\n",
       "    <tr>\n",
       "      <th id=\"T_f01c8_level0_row6\" class=\"row_heading level0 row6\" >6</th>\n",
       "      <td id=\"T_f01c8_row6_col0\" class=\"data row6 col0\" >0.5192</td>\n",
       "      <td id=\"T_f01c8_row6_col1\" class=\"data row6 col1\" >0.0000</td>\n",
       "      <td id=\"T_f01c8_row6_col2\" class=\"data row6 col2\" >0.9996</td>\n",
       "      <td id=\"T_f01c8_row6_col3\" class=\"data row6 col3\" >0.5098</td>\n",
       "      <td id=\"T_f01c8_row6_col4\" class=\"data row6 col4\" >0.6752</td>\n",
       "      <td id=\"T_f01c8_row6_col5\" class=\"data row6 col5\" >0.0384</td>\n",
       "      <td id=\"T_f01c8_row6_col6\" class=\"data row6 col6\" >0.1385</td>\n",
       "    </tr>\n",
       "    <tr>\n",
       "      <th id=\"T_f01c8_level0_row7\" class=\"row_heading level0 row7\" >7</th>\n",
       "      <td id=\"T_f01c8_row7_col0\" class=\"data row7 col0\" >0.5214</td>\n",
       "      <td id=\"T_f01c8_row7_col1\" class=\"data row7 col1\" >0.0000</td>\n",
       "      <td id=\"T_f01c8_row7_col2\" class=\"data row7 col2\" >0.9995</td>\n",
       "      <td id=\"T_f01c8_row7_col3\" class=\"data row7 col3\" >0.5109</td>\n",
       "      <td id=\"T_f01c8_row7_col4\" class=\"data row7 col4\" >0.6762</td>\n",
       "      <td id=\"T_f01c8_row7_col5\" class=\"data row7 col5\" >0.0429</td>\n",
       "      <td id=\"T_f01c8_row7_col6\" class=\"data row7 col6\" >0.1463</td>\n",
       "    </tr>\n",
       "    <tr>\n",
       "      <th id=\"T_f01c8_level0_row8\" class=\"row_heading level0 row8\" >8</th>\n",
       "      <td id=\"T_f01c8_row8_col0\" class=\"data row8 col0\" >0.5212</td>\n",
       "      <td id=\"T_f01c8_row8_col1\" class=\"data row8 col1\" >0.0000</td>\n",
       "      <td id=\"T_f01c8_row8_col2\" class=\"data row8 col2\" >0.9996</td>\n",
       "      <td id=\"T_f01c8_row8_col3\" class=\"data row8 col3\" >0.5108</td>\n",
       "      <td id=\"T_f01c8_row8_col4\" class=\"data row8 col4\" >0.6761</td>\n",
       "      <td id=\"T_f01c8_row8_col5\" class=\"data row8 col5\" >0.0425</td>\n",
       "      <td id=\"T_f01c8_row8_col6\" class=\"data row8 col6\" >0.1459</td>\n",
       "    </tr>\n",
       "    <tr>\n",
       "      <th id=\"T_f01c8_level0_row9\" class=\"row_heading level0 row9\" >9</th>\n",
       "      <td id=\"T_f01c8_row9_col0\" class=\"data row9 col0\" >0.5203</td>\n",
       "      <td id=\"T_f01c8_row9_col1\" class=\"data row9 col1\" >0.0000</td>\n",
       "      <td id=\"T_f01c8_row9_col2\" class=\"data row9 col2\" >0.9993</td>\n",
       "      <td id=\"T_f01c8_row9_col3\" class=\"data row9 col3\" >0.5103</td>\n",
       "      <td id=\"T_f01c8_row9_col4\" class=\"data row9 col4\" >0.6756</td>\n",
       "      <td id=\"T_f01c8_row9_col5\" class=\"data row9 col5\" >0.0406</td>\n",
       "      <td id=\"T_f01c8_row9_col6\" class=\"data row9 col6\" >0.1414</td>\n",
       "    </tr>\n",
       "    <tr>\n",
       "      <th id=\"T_f01c8_level0_row10\" class=\"row_heading level0 row10\" >Mean</th>\n",
       "      <td id=\"T_f01c8_row10_col0\" class=\"data row10 col0\" >0.5206</td>\n",
       "      <td id=\"T_f01c8_row10_col1\" class=\"data row10 col1\" >0.0000</td>\n",
       "      <td id=\"T_f01c8_row10_col2\" class=\"data row10 col2\" >0.9994</td>\n",
       "      <td id=\"T_f01c8_row10_col3\" class=\"data row10 col3\" >0.5105</td>\n",
       "      <td id=\"T_f01c8_row10_col4\" class=\"data row10 col4\" >0.6758</td>\n",
       "      <td id=\"T_f01c8_row10_col5\" class=\"data row10 col5\" >0.0413</td>\n",
       "      <td id=\"T_f01c8_row10_col6\" class=\"data row10 col6\" >0.1430</td>\n",
       "    </tr>\n",
       "    <tr>\n",
       "      <th id=\"T_f01c8_level0_row11\" class=\"row_heading level0 row11\" >Std</th>\n",
       "      <td id=\"T_f01c8_row11_col0\" class=\"data row11 col0\" >0.0010</td>\n",
       "      <td id=\"T_f01c8_row11_col1\" class=\"data row11 col1\" >0.0000</td>\n",
       "      <td id=\"T_f01c8_row11_col2\" class=\"data row11 col2\" >0.0002</td>\n",
       "      <td id=\"T_f01c8_row11_col3\" class=\"data row11 col3\" >0.0005</td>\n",
       "      <td id=\"T_f01c8_row11_col4\" class=\"data row11 col4\" >0.0005</td>\n",
       "      <td id=\"T_f01c8_row11_col5\" class=\"data row11 col5\" >0.0020</td>\n",
       "      <td id=\"T_f01c8_row11_col6\" class=\"data row11 col6\" >0.0036</td>\n",
       "    </tr>\n",
       "  </tbody>\n",
       "</table>\n"
      ],
      "text/plain": [
       "<pandas.io.formats.style.Styler at 0x7f7d61719de0>"
      ]
     },
     "metadata": {},
     "output_type": "display_data"
    },
    {
     "data": {
      "text/html": [],
      "text/plain": [
       "<IPython.core.display.HTML object>"
      ]
     },
     "metadata": {},
     "output_type": "display_data"
    }
   ],
   "source": [
    "svm = create_model('svm')"
   ]
  },
  {
   "cell_type": "code",
   "execution_count": 28,
   "metadata": {},
   "outputs": [
    {
     "data": {
      "text/html": [],
      "text/plain": [
       "<IPython.core.display.HTML object>"
      ]
     },
     "metadata": {},
     "output_type": "display_data"
    },
    {
     "data": {
      "image/png": "[encoded data removed]",
      "text/plain": [
       "<Figure size 800x550 with 1 Axes>"
      ]
     },
     "metadata": {},
     "output_type": "display_data"
    }
   ],
   "source": [
    "plot_model(svm, plot = 'confusion_matrix')"
   ]
  },
  {
   "cell_type": "code",
   "execution_count": 29,
   "metadata": {},
   "outputs": [
    {
     "data": {
      "text/html": [],
      "text/plain": [
       "<IPython.core.display.HTML object>"
      ]
     },
     "metadata": {},
     "output_type": "display_data"
    },
    {
     "data": {
      "image/png": "[encoded data removed]",
      "text/plain": [
       "<Figure size 800x550 with 1 Axes>"
      ]
     },
     "metadata": {},
     "output_type": "display_data"
    }
   ],
   "source": [
    "plot_model(svm, plot = 'error')"
   ]
  },
  {
   "cell_type": "code",
   "execution_count": 30,
   "metadata": {},
   "outputs": [
    {
     "data": {
      "text/html": [],
      "text/plain": [
       "<IPython.core.display.HTML object>"
      ]
     },
     "metadata": {},
     "output_type": "display_data"
    },
    {
     "data": {
      "text/html": [
       "<div>\n",
       "<style scoped>\n",
       "    .dataframe tbody tr th:only-of-type {\n",
       "        vertical-align: middle;\n",
       "    }\n",
       "\n",
       "    .dataframe tbody tr th {\n",
       "        vertical-align: top;\n",
       "    }\n",
       "\n",
       "    .dataframe thead th {\n",
       "        text-align: right;\n",
       "    }\n",
       "</style>\n",
       "<table border=\"1\" class=\"dataframe\">\n",
       "  <thead>\n",
       "    <tr style=\"text-align: right;\">\n",
       "      <th></th>\n",
       "      <th>Parameters</th>\n",
       "    </tr>\n",
       "  </thead>\n",
       "  <tbody>\n",
       "    <tr>\n",
       "      <th>alpha</th>\n",
       "      <td>0.0001</td>\n",
       "    </tr>\n",
       "    <tr>\n",
       "      <th>average</th>\n",
       "      <td>False</td>\n",
       "    </tr>\n",
       "    <tr>\n",
       "      <th>class_weight</th>\n",
       "      <td>None</td>\n",
       "    </tr>\n",
       "    <tr>\n",
       "      <th>early_stopping</th>\n",
       "      <td>False</td>\n",
       "    </tr>\n",
       "    <tr>\n",
       "      <th>epsilon</th>\n",
       "      <td>0.1</td>\n",
       "    </tr>\n",
       "    <tr>\n",
       "      <th>eta0</th>\n",
       "      <td>0.001</td>\n",
       "    </tr>\n",
       "    <tr>\n",
       "      <th>fit_intercept</th>\n",
       "      <td>True</td>\n",
       "    </tr>\n",
       "    <tr>\n",
       "      <th>l1_ratio</th>\n",
       "      <td>0.15</td>\n",
       "    </tr>\n",
       "    <tr>\n",
       "      <th>learning_rate</th>\n",
       "      <td>optimal</td>\n",
       "    </tr>\n",
       "    <tr>\n",
       "      <th>loss</th>\n",
       "      <td>hinge</td>\n",
       "    </tr>\n",
       "    <tr>\n",
       "      <th>max_iter</th>\n",
       "      <td>1000</td>\n",
       "    </tr>\n",
       "    <tr>\n",
       "      <th>n_iter_no_change</th>\n",
       "      <td>5</td>\n",
       "    </tr>\n",
       "    <tr>\n",
       "      <th>n_jobs</th>\n",
       "      <td>-1</td>\n",
       "    </tr>\n",
       "    <tr>\n",
       "      <th>penalty</th>\n",
       "      <td>l2</td>\n",
       "    </tr>\n",
       "    <tr>\n",
       "      <th>power_t</th>\n",
       "      <td>0.5</td>\n",
       "    </tr>\n",
       "    <tr>\n",
       "      <th>random_state</th>\n",
       "      <td>7572</td>\n",
       "    </tr>\n",
       "    <tr>\n",
       "      <th>shuffle</th>\n",
       "      <td>True</td>\n",
       "    </tr>\n",
       "    <tr>\n",
       "      <th>tol</th>\n",
       "      <td>0.001</td>\n",
       "    </tr>\n",
       "    <tr>\n",
       "      <th>validation_fraction</th>\n",
       "      <td>0.1</td>\n",
       "    </tr>\n",
       "    <tr>\n",
       "      <th>verbose</th>\n",
       "      <td>0</td>\n",
       "    </tr>\n",
       "    <tr>\n",
       "      <th>warm_start</th>\n",
       "      <td>False</td>\n",
       "    </tr>\n",
       "  </tbody>\n",
       "</table>\n",
       "</div>"
      ],
      "text/plain": [
       "                    Parameters\n",
       "alpha                   0.0001\n",
       "average                  False\n",
       "class_weight              None\n",
       "early_stopping           False\n",
       "epsilon                    0.1\n",
       "eta0                     0.001\n",
       "fit_intercept             True\n",
       "l1_ratio                  0.15\n",
       "learning_rate          optimal\n",
       "loss                     hinge\n",
       "max_iter                  1000\n",
       "n_iter_no_change             5\n",
       "n_jobs                      -1\n",
       "penalty                     l2\n",
       "power_t                    0.5\n",
       "random_state              7572\n",
       "shuffle                   True\n",
       "tol                      0.001\n",
       "validation_fraction        0.1\n",
       "verbose                      0\n",
       "warm_start               False"
      ]
     },
     "metadata": {},
     "output_type": "display_data"
    }
   ],
   "source": [
    "plot_model(svm, plot = 'parameter')"
   ]
  },
  {
   "cell_type": "code",
   "execution_count": 31,
   "metadata": {},
   "outputs": [
    {
     "data": {
      "text/html": [
       "<style type=\"text/css\">\n",
       "</style>\n",
       "<table id=\"T_5cf9c\">\n",
       "  <thead>\n",
       "    <tr>\n",
       "      <th class=\"blank level0\" >&nbsp;</th>\n",
       "      <th id=\"T_5cf9c_level0_col0\" class=\"col_heading level0 col0\" >Model</th>\n",
       "      <th id=\"T_5cf9c_level0_col1\" class=\"col_heading level0 col1\" >Accuracy</th>\n",
       "      <th id=\"T_5cf9c_level0_col2\" class=\"col_heading level0 col2\" >AUC</th>\n",
       "      <th id=\"T_5cf9c_level0_col3\" class=\"col_heading level0 col3\" >Recall</th>\n",
       "      <th id=\"T_5cf9c_level0_col4\" class=\"col_heading level0 col4\" >Prec.</th>\n",
       "      <th id=\"T_5cf9c_level0_col5\" class=\"col_heading level0 col5\" >F1</th>\n",
       "      <th id=\"T_5cf9c_level0_col6\" class=\"col_heading level0 col6\" >Kappa</th>\n",
       "      <th id=\"T_5cf9c_level0_col7\" class=\"col_heading level0 col7\" >MCC</th>\n",
       "    </tr>\n",
       "  </thead>\n",
       "  <tbody>\n",
       "    <tr>\n",
       "      <th id=\"T_5cf9c_level0_row0\" class=\"row_heading level0 row0\" >0</th>\n",
       "      <td id=\"T_5cf9c_row0_col0\" class=\"data row0 col0\" >SVM - Linear Kernel</td>\n",
       "      <td id=\"T_5cf9c_row0_col1\" class=\"data row0 col1\" >0.5211</td>\n",
       "      <td id=\"T_5cf9c_row0_col2\" class=\"data row0 col2\" >0.5211</td>\n",
       "      <td id=\"T_5cf9c_row0_col3\" class=\"data row0 col3\" >0.9979</td>\n",
       "      <td id=\"T_5cf9c_row0_col4\" class=\"data row0 col4\" >0.5108</td>\n",
       "      <td id=\"T_5cf9c_row0_col5\" class=\"data row0 col5\" >0.6757</td>\n",
       "      <td id=\"T_5cf9c_row0_col6\" class=\"data row0 col6\" >0.0423</td>\n",
       "      <td id=\"T_5cf9c_row0_col7\" class=\"data row0 col7\" >0.1404</td>\n",
       "    </tr>\n",
       "  </tbody>\n",
       "</table>\n"
      ],
      "text/plain": [
       "<pandas.io.formats.style.Styler at 0x7f7d74912e90>"
      ]
     },
     "metadata": {},
     "output_type": "display_data"
    }
   ],
   "source": [
    "svm_val_pred = predict_model(svm, data=val)"
   ]
  },
  {
   "cell_type": "code",
   "execution_count": 32,
   "metadata": {},
   "outputs": [
    {
     "data": {
      "text/html": [],
      "text/plain": [
       "<IPython.core.display.HTML object>"
      ]
     },
     "metadata": {},
     "output_type": "display_data"
    }
   ],
   "source": [
    "svm_val_pred = predict_model(svm, data=embval)"
   ]
  },
  {
   "cell_type": "code",
   "execution_count": 33,
   "metadata": {},
   "outputs": [
    {
     "name": "stdout",
     "output_type": "stream",
     "text": [
      "Transformation Pipeline and Model Successfully Saved\n"
     ]
    },
    {
     "data": {
      "text/plain": [
       "(Pipeline(memory=FastMemory(location=/tmp/joblib),\n",
       "          steps=[('numerical_imputer',\n",
       "                  TransformerWrapper(exclude=None,\n",
       "                                     include=['http://semanticscience.org/resource/SIO_000281',\n",
       "                                              'http://semanticscience.org/resource/SIO_000628',\n",
       "                                              'http://semanticscience.org/resource/SIO_001279',\n",
       "                                              'http://www.semanticweb.org/needed-terms#001',\n",
       "                                              'http://www.semanticweb.org/needed-term...\n",
       "                  SGDClassifier(alpha=0.0001, average=False, class_weight=None,\n",
       "                                early_stopping=False, epsilon=0.1, eta0=0.001,\n",
       "                                fit_intercept=True, l1_ratio=0.15,\n",
       "                                learning_rate='optimal', loss='hinge',\n",
       "                                max_iter=1000, n_iter_no_change=5, n_jobs=-1,\n",
       "                                penalty='l2', power_t=0.5, random_state=7572,\n",
       "                                shuffle=True, tol=0.001, validation_fraction=0.1,\n",
       "                                verbose=0, warm_start=False))],\n",
       "          verbose=False),\n",
       " 'models_classif/convkb/binary_scores_val/svm.pkl')"
      ]
     },
     "execution_count": 33,
     "metadata": {},
     "output_type": "execute_result"
    }
   ],
   "source": [
    "save_model(svm, 'models_classif/convkb/binary_scores_val/svm')"
   ]
  },
  {
   "cell_type": "markdown",
   "metadata": {},
   "source": [
    "# Ridge Classifier"
   ]
  },
  {
   "cell_type": "code",
   "execution_count": 34,
   "metadata": {},
   "outputs": [
    {
     "data": {
      "text/html": [],
      "text/plain": [
       "<IPython.core.display.HTML object>"
      ]
     },
     "metadata": {},
     "output_type": "display_data"
    },
    {
     "data": {
      "text/html": [
       "<style type=\"text/css\">\n",
       "#T_05b27_row10_col0, #T_05b27_row10_col1, #T_05b27_row10_col2, #T_05b27_row10_col3, #T_05b27_row10_col4, #T_05b27_row10_col5, #T_05b27_row10_col6 {\n",
       "  background: yellow;\n",
       "}\n",
       "</style>\n",
       "<table id=\"T_05b27\">\n",
       "  <thead>\n",
       "    <tr>\n",
       "      <th class=\"blank level0\" >&nbsp;</th>\n",
       "      <th id=\"T_05b27_level0_col0\" class=\"col_heading level0 col0\" >Accuracy</th>\n",
       "      <th id=\"T_05b27_level0_col1\" class=\"col_heading level0 col1\" >AUC</th>\n",
       "      <th id=\"T_05b27_level0_col2\" class=\"col_heading level0 col2\" >Recall</th>\n",
       "      <th id=\"T_05b27_level0_col3\" class=\"col_heading level0 col3\" >Prec.</th>\n",
       "      <th id=\"T_05b27_level0_col4\" class=\"col_heading level0 col4\" >F1</th>\n",
       "      <th id=\"T_05b27_level0_col5\" class=\"col_heading level0 col5\" >Kappa</th>\n",
       "      <th id=\"T_05b27_level0_col6\" class=\"col_heading level0 col6\" >MCC</th>\n",
       "    </tr>\n",
       "    <tr>\n",
       "      <th class=\"index_name level0\" >Fold</th>\n",
       "      <th class=\"blank col0\" >&nbsp;</th>\n",
       "      <th class=\"blank col1\" >&nbsp;</th>\n",
       "      <th class=\"blank col2\" >&nbsp;</th>\n",
       "      <th class=\"blank col3\" >&nbsp;</th>\n",
       "      <th class=\"blank col4\" >&nbsp;</th>\n",
       "      <th class=\"blank col5\" >&nbsp;</th>\n",
       "      <th class=\"blank col6\" >&nbsp;</th>\n",
       "    </tr>\n",
       "  </thead>\n",
       "  <tbody>\n",
       "    <tr>\n",
       "      <th id=\"T_05b27_level0_row0\" class=\"row_heading level0 row0\" >0</th>\n",
       "      <td id=\"T_05b27_row0_col0\" class=\"data row0 col0\" >0.5358</td>\n",
       "      <td id=\"T_05b27_row0_col1\" class=\"data row0 col1\" >0.0000</td>\n",
       "      <td id=\"T_05b27_row0_col2\" class=\"data row0 col2\" >0.9935</td>\n",
       "      <td id=\"T_05b27_row0_col3\" class=\"data row0 col3\" >0.5187</td>\n",
       "      <td id=\"T_05b27_row0_col4\" class=\"data row0 col4\" >0.6815</td>\n",
       "      <td id=\"T_05b27_row0_col5\" class=\"data row0 col5\" >0.0715</td>\n",
       "      <td id=\"T_05b27_row0_col6\" class=\"data row0 col6\" >0.1777</td>\n",
       "    </tr>\n",
       "    <tr>\n",
       "      <th id=\"T_05b27_level0_row1\" class=\"row_heading level0 row1\" >1</th>\n",
       "      <td id=\"T_05b27_row1_col0\" class=\"data row1 col0\" >0.5359</td>\n",
       "      <td id=\"T_05b27_row1_col1\" class=\"data row1 col1\" >0.0000</td>\n",
       "      <td id=\"T_05b27_row1_col2\" class=\"data row1 col2\" >0.9932</td>\n",
       "      <td id=\"T_05b27_row1_col3\" class=\"data row1 col3\" >0.5187</td>\n",
       "      <td id=\"T_05b27_row1_col4\" class=\"data row1 col4\" >0.6815</td>\n",
       "      <td id=\"T_05b27_row1_col5\" class=\"data row1 col5\" >0.0717</td>\n",
       "      <td id=\"T_05b27_row1_col6\" class=\"data row1 col6\" >0.1774</td>\n",
       "    </tr>\n",
       "    <tr>\n",
       "      <th id=\"T_05b27_level0_row2\" class=\"row_heading level0 row2\" >2</th>\n",
       "      <td id=\"T_05b27_row2_col0\" class=\"data row2 col0\" >0.5364</td>\n",
       "      <td id=\"T_05b27_row2_col1\" class=\"data row2 col1\" >0.0000</td>\n",
       "      <td id=\"T_05b27_row2_col2\" class=\"data row2 col2\" >0.9940</td>\n",
       "      <td id=\"T_05b27_row2_col3\" class=\"data row2 col3\" >0.5190</td>\n",
       "      <td id=\"T_05b27_row2_col4\" class=\"data row2 col4\" >0.6819</td>\n",
       "      <td id=\"T_05b27_row2_col5\" class=\"data row2 col5\" >0.0727</td>\n",
       "      <td id=\"T_05b27_row2_col6\" class=\"data row2 col6\" >0.1806</td>\n",
       "    </tr>\n",
       "    <tr>\n",
       "      <th id=\"T_05b27_level0_row3\" class=\"row_heading level0 row3\" >3</th>\n",
       "      <td id=\"T_05b27_row3_col0\" class=\"data row3 col0\" >0.5384</td>\n",
       "      <td id=\"T_05b27_row3_col1\" class=\"data row3 col1\" >0.0000</td>\n",
       "      <td id=\"T_05b27_row3_col2\" class=\"data row3 col2\" >0.9951</td>\n",
       "      <td id=\"T_05b27_row3_col3\" class=\"data row3 col3\" >0.5201</td>\n",
       "      <td id=\"T_05b27_row3_col4\" class=\"data row3 col4\" >0.6831</td>\n",
       "      <td id=\"T_05b27_row3_col5\" class=\"data row3 col5\" >0.0768</td>\n",
       "      <td id=\"T_05b27_row3_col6\" class=\"data row3 col6\" >0.1886</td>\n",
       "    </tr>\n",
       "    <tr>\n",
       "      <th id=\"T_05b27_level0_row4\" class=\"row_heading level0 row4\" >4</th>\n",
       "      <td id=\"T_05b27_row4_col0\" class=\"data row4 col0\" >0.5355</td>\n",
       "      <td id=\"T_05b27_row4_col1\" class=\"data row4 col1\" >0.0000</td>\n",
       "      <td id=\"T_05b27_row4_col2\" class=\"data row4 col2\" >0.9926</td>\n",
       "      <td id=\"T_05b27_row4_col3\" class=\"data row4 col3\" >0.5185</td>\n",
       "      <td id=\"T_05b27_row4_col4\" class=\"data row4 col4\" >0.6812</td>\n",
       "      <td id=\"T_05b27_row4_col5\" class=\"data row4 col5\" >0.0709</td>\n",
       "      <td id=\"T_05b27_row4_col6\" class=\"data row4 col6\" >0.1751</td>\n",
       "    </tr>\n",
       "    <tr>\n",
       "      <th id=\"T_05b27_level0_row5\" class=\"row_heading level0 row5\" >5</th>\n",
       "      <td id=\"T_05b27_row5_col0\" class=\"data row5 col0\" >0.5355</td>\n",
       "      <td id=\"T_05b27_row5_col1\" class=\"data row5 col1\" >0.0000</td>\n",
       "      <td id=\"T_05b27_row5_col2\" class=\"data row5 col2\" >0.9940</td>\n",
       "      <td id=\"T_05b27_row5_col3\" class=\"data row5 col3\" >0.5185</td>\n",
       "      <td id=\"T_05b27_row5_col4\" class=\"data row5 col4\" >0.6815</td>\n",
       "      <td id=\"T_05b27_row5_col5\" class=\"data row5 col5\" >0.0709</td>\n",
       "      <td id=\"T_05b27_row5_col6\" class=\"data row5 col6\" >0.1779</td>\n",
       "    </tr>\n",
       "    <tr>\n",
       "      <th id=\"T_05b27_level0_row6\" class=\"row_heading level0 row6\" >6</th>\n",
       "      <td id=\"T_05b27_row6_col0\" class=\"data row6 col0\" >0.5362</td>\n",
       "      <td id=\"T_05b27_row6_col1\" class=\"data row6 col1\" >0.0000</td>\n",
       "      <td id=\"T_05b27_row6_col2\" class=\"data row6 col2\" >0.9938</td>\n",
       "      <td id=\"T_05b27_row6_col3\" class=\"data row6 col3\" >0.5189</td>\n",
       "      <td id=\"T_05b27_row6_col4\" class=\"data row6 col4\" >0.6818</td>\n",
       "      <td id=\"T_05b27_row6_col5\" class=\"data row6 col5\" >0.0724</td>\n",
       "      <td id=\"T_05b27_row6_col6\" class=\"data row6 col6\" >0.1796</td>\n",
       "    </tr>\n",
       "    <tr>\n",
       "      <th id=\"T_05b27_level0_row7\" class=\"row_heading level0 row7\" >7</th>\n",
       "      <td id=\"T_05b27_row7_col0\" class=\"data row7 col0\" >0.5377</td>\n",
       "      <td id=\"T_05b27_row7_col1\" class=\"data row7 col1\" >0.0000</td>\n",
       "      <td id=\"T_05b27_row7_col2\" class=\"data row7 col2\" >0.9923</td>\n",
       "      <td id=\"T_05b27_row7_col3\" class=\"data row7 col3\" >0.5197</td>\n",
       "      <td id=\"T_05b27_row7_col4\" class=\"data row7 col4\" >0.6822</td>\n",
       "      <td id=\"T_05b27_row7_col5\" class=\"data row7 col5\" >0.0754</td>\n",
       "      <td id=\"T_05b27_row7_col6\" class=\"data row7 col6\" >0.1811</td>\n",
       "    </tr>\n",
       "    <tr>\n",
       "      <th id=\"T_05b27_level0_row8\" class=\"row_heading level0 row8\" >8</th>\n",
       "      <td id=\"T_05b27_row8_col0\" class=\"data row8 col0\" >0.5383</td>\n",
       "      <td id=\"T_05b27_row8_col1\" class=\"data row8 col1\" >0.0000</td>\n",
       "      <td id=\"T_05b27_row8_col2\" class=\"data row8 col2\" >0.9941</td>\n",
       "      <td id=\"T_05b27_row8_col3\" class=\"data row8 col3\" >0.5200</td>\n",
       "      <td id=\"T_05b27_row8_col4\" class=\"data row8 col4\" >0.6828</td>\n",
       "      <td id=\"T_05b27_row8_col5\" class=\"data row8 col5\" >0.0765</td>\n",
       "      <td id=\"T_05b27_row8_col6\" class=\"data row8 col6\" >0.1863</td>\n",
       "    </tr>\n",
       "    <tr>\n",
       "      <th id=\"T_05b27_level0_row9\" class=\"row_heading level0 row9\" >9</th>\n",
       "      <td id=\"T_05b27_row9_col0\" class=\"data row9 col0\" >0.5357</td>\n",
       "      <td id=\"T_05b27_row9_col1\" class=\"data row9 col1\" >0.0000</td>\n",
       "      <td id=\"T_05b27_row9_col2\" class=\"data row9 col2\" >0.9932</td>\n",
       "      <td id=\"T_05b27_row9_col3\" class=\"data row9 col3\" >0.5186</td>\n",
       "      <td id=\"T_05b27_row9_col4\" class=\"data row9 col4\" >0.6814</td>\n",
       "      <td id=\"T_05b27_row9_col5\" class=\"data row9 col5\" >0.0714</td>\n",
       "      <td id=\"T_05b27_row9_col6\" class=\"data row9 col6\" >0.1769</td>\n",
       "    </tr>\n",
       "    <tr>\n",
       "      <th id=\"T_05b27_level0_row10\" class=\"row_heading level0 row10\" >Mean</th>\n",
       "      <td id=\"T_05b27_row10_col0\" class=\"data row10 col0\" >0.5365</td>\n",
       "      <td id=\"T_05b27_row10_col1\" class=\"data row10 col1\" >0.0000</td>\n",
       "      <td id=\"T_05b27_row10_col2\" class=\"data row10 col2\" >0.9936</td>\n",
       "      <td id=\"T_05b27_row10_col3\" class=\"data row10 col3\" >0.5191</td>\n",
       "      <td id=\"T_05b27_row10_col4\" class=\"data row10 col4\" >0.6819</td>\n",
       "      <td id=\"T_05b27_row10_col5\" class=\"data row10 col5\" >0.0730</td>\n",
       "      <td id=\"T_05b27_row10_col6\" class=\"data row10 col6\" >0.1801</td>\n",
       "    </tr>\n",
       "    <tr>\n",
       "      <th id=\"T_05b27_level0_row11\" class=\"row_heading level0 row11\" >Std</th>\n",
       "      <td id=\"T_05b27_row11_col0\" class=\"data row11 col0\" >0.0011</td>\n",
       "      <td id=\"T_05b27_row11_col1\" class=\"data row11 col1\" >0.0000</td>\n",
       "      <td id=\"T_05b27_row11_col2\" class=\"data row11 col2\" >0.0008</td>\n",
       "      <td id=\"T_05b27_row11_col3\" class=\"data row11 col3\" >0.0006</td>\n",
       "      <td id=\"T_05b27_row11_col4\" class=\"data row11 col4\" >0.0006</td>\n",
       "      <td id=\"T_05b27_row11_col5\" class=\"data row11 col5\" >0.0022</td>\n",
       "      <td id=\"T_05b27_row11_col6\" class=\"data row11 col6\" >0.0041</td>\n",
       "    </tr>\n",
       "  </tbody>\n",
       "</table>\n"
      ],
      "text/plain": [
       "<pandas.io.formats.style.Styler at 0x7f7d900f79d0>"
      ]
     },
     "metadata": {},
     "output_type": "display_data"
    },
    {
     "data": {
      "text/html": [],
      "text/plain": [
       "<IPython.core.display.HTML object>"
      ]
     },
     "metadata": {},
     "output_type": "display_data"
    }
   ],
   "source": [
    "ridge = create_model('ridge')"
   ]
  },
  {
   "cell_type": "code",
   "execution_count": 35,
   "metadata": {},
   "outputs": [
    {
     "data": {
      "text/html": [],
      "text/plain": [
       "<IPython.core.display.HTML object>"
      ]
     },
     "metadata": {},
     "output_type": "display_data"
    },
    {
     "data": {
      "image/png": "[encoded data removed]",
      "text/plain": [
       "<Figure size 800x550 with 1 Axes>"
      ]
     },
     "metadata": {},
     "output_type": "display_data"
    }
   ],
   "source": [
    "plot_model(ridge, plot = 'confusion_matrix')"
   ]
  },
  {
   "cell_type": "code",
   "execution_count": 36,
   "metadata": {},
   "outputs": [
    {
     "data": {
      "text/html": [],
      "text/plain": [
       "<IPython.core.display.HTML object>"
      ]
     },
     "metadata": {},
     "output_type": "display_data"
    },
    {
     "data": {
      "image/png": "[encoded data removed]",
      "text/plain": [
       "<Figure size 800x550 with 1 Axes>"
      ]
     },
     "metadata": {},
     "output_type": "display_data"
    }
   ],
   "source": [
    "plot_model(ridge, plot = 'error')"
   ]
  },
  {
   "cell_type": "code",
   "execution_count": 37,
   "metadata": {},
   "outputs": [
    {
     "data": {
      "text/html": [],
      "text/plain": [
       "<IPython.core.display.HTML object>"
      ]
     },
     "metadata": {},
     "output_type": "display_data"
    },
    {
     "data": {
      "text/html": [
       "<div>\n",
       "<style scoped>\n",
       "    .dataframe tbody tr th:only-of-type {\n",
       "        vertical-align: middle;\n",
       "    }\n",
       "\n",
       "    .dataframe tbody tr th {\n",
       "        vertical-align: top;\n",
       "    }\n",
       "\n",
       "    .dataframe thead th {\n",
       "        text-align: right;\n",
       "    }\n",
       "</style>\n",
       "<table border=\"1\" class=\"dataframe\">\n",
       "  <thead>\n",
       "    <tr style=\"text-align: right;\">\n",
       "      <th></th>\n",
       "      <th>Parameters</th>\n",
       "    </tr>\n",
       "  </thead>\n",
       "  <tbody>\n",
       "    <tr>\n",
       "      <th>alpha</th>\n",
       "      <td>1.0</td>\n",
       "    </tr>\n",
       "    <tr>\n",
       "      <th>class_weight</th>\n",
       "      <td>None</td>\n",
       "    </tr>\n",
       "    <tr>\n",
       "      <th>copy_X</th>\n",
       "      <td>True</td>\n",
       "    </tr>\n",
       "    <tr>\n",
       "      <th>fit_intercept</th>\n",
       "      <td>True</td>\n",
       "    </tr>\n",
       "    <tr>\n",
       "      <th>max_iter</th>\n",
       "      <td>None</td>\n",
       "    </tr>\n",
       "    <tr>\n",
       "      <th>positive</th>\n",
       "      <td>False</td>\n",
       "    </tr>\n",
       "    <tr>\n",
       "      <th>random_state</th>\n",
       "      <td>7572</td>\n",
       "    </tr>\n",
       "    <tr>\n",
       "      <th>solver</th>\n",
       "      <td>auto</td>\n",
       "    </tr>\n",
       "    <tr>\n",
       "      <th>tol</th>\n",
       "      <td>0.0001</td>\n",
       "    </tr>\n",
       "  </tbody>\n",
       "</table>\n",
       "</div>"
      ],
      "text/plain": [
       "              Parameters\n",
       "alpha                1.0\n",
       "class_weight        None\n",
       "copy_X              True\n",
       "fit_intercept       True\n",
       "max_iter            None\n",
       "positive           False\n",
       "random_state        7572\n",
       "solver              auto\n",
       "tol               0.0001"
      ]
     },
     "metadata": {},
     "output_type": "display_data"
    }
   ],
   "source": [
    "plot_model(ridge, plot = 'parameter')"
   ]
  },
  {
   "cell_type": "code",
   "execution_count": 38,
   "metadata": {},
   "outputs": [
    {
     "data": {
      "text/html": [
       "<style type=\"text/css\">\n",
       "</style>\n",
       "<table id=\"T_97c43\">\n",
       "  <thead>\n",
       "    <tr>\n",
       "      <th class=\"blank level0\" >&nbsp;</th>\n",
       "      <th id=\"T_97c43_level0_col0\" class=\"col_heading level0 col0\" >Model</th>\n",
       "      <th id=\"T_97c43_level0_col1\" class=\"col_heading level0 col1\" >Accuracy</th>\n",
       "      <th id=\"T_97c43_level0_col2\" class=\"col_heading level0 col2\" >AUC</th>\n",
       "      <th id=\"T_97c43_level0_col3\" class=\"col_heading level0 col3\" >Recall</th>\n",
       "      <th id=\"T_97c43_level0_col4\" class=\"col_heading level0 col4\" >Prec.</th>\n",
       "      <th id=\"T_97c43_level0_col5\" class=\"col_heading level0 col5\" >F1</th>\n",
       "      <th id=\"T_97c43_level0_col6\" class=\"col_heading level0 col6\" >Kappa</th>\n",
       "      <th id=\"T_97c43_level0_col7\" class=\"col_heading level0 col7\" >MCC</th>\n",
       "    </tr>\n",
       "  </thead>\n",
       "  <tbody>\n",
       "    <tr>\n",
       "      <th id=\"T_97c43_level0_row0\" class=\"row_heading level0 row0\" >0</th>\n",
       "      <td id=\"T_97c43_row0_col0\" class=\"data row0 col0\" >Ridge Classifier</td>\n",
       "      <td id=\"T_97c43_row0_col1\" class=\"data row0 col1\" >0.5368</td>\n",
       "      <td id=\"T_97c43_row0_col2\" class=\"data row0 col2\" >0.5368</td>\n",
       "      <td id=\"T_97c43_row0_col3\" class=\"data row0 col3\" >0.9918</td>\n",
       "      <td id=\"T_97c43_row0_col4\" class=\"data row0 col4\" >0.5193</td>\n",
       "      <td id=\"T_97c43_row0_col5\" class=\"data row0 col5\" >0.6816</td>\n",
       "      <td id=\"T_97c43_row0_col6\" class=\"data row0 col6\" >0.0736</td>\n",
       "      <td id=\"T_97c43_row0_col7\" class=\"data row0 col7\" >0.1775</td>\n",
       "    </tr>\n",
       "  </tbody>\n",
       "</table>\n"
      ],
      "text/plain": [
       "<pandas.io.formats.style.Styler at 0x7f7d91479360>"
      ]
     },
     "metadata": {},
     "output_type": "display_data"
    }
   ],
   "source": [
    "ridge_val_pred = predict_model(ridge, data=val)"
   ]
  },
  {
   "cell_type": "code",
   "execution_count": 39,
   "metadata": {},
   "outputs": [
    {
     "data": {
      "text/html": [],
      "text/plain": [
       "<IPython.core.display.HTML object>"
      ]
     },
     "metadata": {},
     "output_type": "display_data"
    }
   ],
   "source": [
    "ridge_val_pred = predict_model(ridge, data=embval)"
   ]
  },
  {
   "cell_type": "code",
   "execution_count": 40,
   "metadata": {},
   "outputs": [
    {
     "name": "stdout",
     "output_type": "stream",
     "text": [
      "Transformation Pipeline and Model Successfully Saved\n"
     ]
    },
    {
     "data": {
      "text/plain": [
       "(Pipeline(memory=FastMemory(location=/tmp/joblib),\n",
       "          steps=[('numerical_imputer',\n",
       "                  TransformerWrapper(exclude=None,\n",
       "                                     include=['http://semanticscience.org/resource/SIO_000281',\n",
       "                                              'http://semanticscience.org/resource/SIO_000628',\n",
       "                                              'http://semanticscience.org/resource/SIO_001279',\n",
       "                                              'http://www.semanticweb.org/needed-terms#001',\n",
       "                                              'http://www.semanticweb.org/needed-term...\n",
       "                                                               strategy='most_frequent',\n",
       "                                                               verbose='deprecated'))),\n",
       "                 ('clean_column_names',\n",
       "                  TransformerWrapper(exclude=None, include=None,\n",
       "                                     transformer=CleanColumnNames(match='[\\\\]\\\\[\\\\,\\\\{\\\\}\\\\\"\\\\:]+'))),\n",
       "                 ('trained_model',\n",
       "                  RidgeClassifier(alpha=1.0, class_weight=None, copy_X=True,\n",
       "                                  fit_intercept=True, max_iter=None,\n",
       "                                  positive=False, random_state=7572,\n",
       "                                  solver='auto', tol=0.0001))],\n",
       "          verbose=False),\n",
       " 'models_classif/convkb/binary_scores_val/ridge.pkl')"
      ]
     },
     "execution_count": 40,
     "metadata": {},
     "output_type": "execute_result"
    }
   ],
   "source": [
    "save_model(ridge, 'models_classif/convkb/binary_scores_val/ridge')"
   ]
  },
  {
   "cell_type": "markdown",
   "metadata": {},
   "source": [
    "# Random Forest"
   ]
  },
  {
   "cell_type": "code",
   "execution_count": 41,
   "metadata": {},
   "outputs": [
    {
     "data": {
      "text/html": [],
      "text/plain": [
       "<IPython.core.display.HTML object>"
      ]
     },
     "metadata": {},
     "output_type": "display_data"
    },
    {
     "data": {
      "text/html": [
       "<style type=\"text/css\">\n",
       "#T_2e777_row10_col0, #T_2e777_row10_col1, #T_2e777_row10_col2, #T_2e777_row10_col3, #T_2e777_row10_col4, #T_2e777_row10_col5, #T_2e777_row10_col6 {\n",
       "  background: yellow;\n",
       "}\n",
       "</style>\n",
       "<table id=\"T_2e777\">\n",
       "  <thead>\n",
       "    <tr>\n",
       "      <th class=\"blank level0\" >&nbsp;</th>\n",
       "      <th id=\"T_2e777_level0_col0\" class=\"col_heading level0 col0\" >Accuracy</th>\n",
       "      <th id=\"T_2e777_level0_col1\" class=\"col_heading level0 col1\" >AUC</th>\n",
       "      <th id=\"T_2e777_level0_col2\" class=\"col_heading level0 col2\" >Recall</th>\n",
       "      <th id=\"T_2e777_level0_col3\" class=\"col_heading level0 col3\" >Prec.</th>\n",
       "      <th id=\"T_2e777_level0_col4\" class=\"col_heading level0 col4\" >F1</th>\n",
       "      <th id=\"T_2e777_level0_col5\" class=\"col_heading level0 col5\" >Kappa</th>\n",
       "      <th id=\"T_2e777_level0_col6\" class=\"col_heading level0 col6\" >MCC</th>\n",
       "    </tr>\n",
       "    <tr>\n",
       "      <th class=\"index_name level0\" >Fold</th>\n",
       "      <th class=\"blank col0\" >&nbsp;</th>\n",
       "      <th class=\"blank col1\" >&nbsp;</th>\n",
       "      <th class=\"blank col2\" >&nbsp;</th>\n",
       "      <th class=\"blank col3\" >&nbsp;</th>\n",
       "      <th class=\"blank col4\" >&nbsp;</th>\n",
       "      <th class=\"blank col5\" >&nbsp;</th>\n",
       "      <th class=\"blank col6\" >&nbsp;</th>\n",
       "    </tr>\n",
       "  </thead>\n",
       "  <tbody>\n",
       "    <tr>\n",
       "      <th id=\"T_2e777_level0_row0\" class=\"row_heading level0 row0\" >0</th>\n",
       "      <td id=\"T_2e777_row0_col0\" class=\"data row0 col0\" >0.5892</td>\n",
       "      <td id=\"T_2e777_row0_col1\" class=\"data row0 col1\" >0.6047</td>\n",
       "      <td id=\"T_2e777_row0_col2\" class=\"data row0 col2\" >0.9049</td>\n",
       "      <td id=\"T_2e777_row0_col3\" class=\"data row0 col3\" >0.5547</td>\n",
       "      <td id=\"T_2e777_row0_col4\" class=\"data row0 col4\" >0.6878</td>\n",
       "      <td id=\"T_2e777_row0_col5\" class=\"data row0 col5\" >0.1784</td>\n",
       "      <td id=\"T_2e777_row0_col6\" class=\"data row0 col6\" >0.2301</td>\n",
       "    </tr>\n",
       "    <tr>\n",
       "      <th id=\"T_2e777_level0_row1\" class=\"row_heading level0 row1\" >1</th>\n",
       "      <td id=\"T_2e777_row1_col0\" class=\"data row1 col0\" >0.5933</td>\n",
       "      <td id=\"T_2e777_row1_col1\" class=\"data row1 col1\" >0.6087</td>\n",
       "      <td id=\"T_2e777_row1_col2\" class=\"data row1 col2\" >0.9101</td>\n",
       "      <td id=\"T_2e777_row1_col3\" class=\"data row1 col3\" >0.5571</td>\n",
       "      <td id=\"T_2e777_row1_col4\" class=\"data row1 col4\" >0.6912</td>\n",
       "      <td id=\"T_2e777_row1_col5\" class=\"data row1 col5\" >0.1866</td>\n",
       "      <td id=\"T_2e777_row1_col6\" class=\"data row1 col6\" >0.2412</td>\n",
       "    </tr>\n",
       "    <tr>\n",
       "      <th id=\"T_2e777_level0_row2\" class=\"row_heading level0 row2\" >2</th>\n",
       "      <td id=\"T_2e777_row2_col0\" class=\"data row2 col0\" >0.5975</td>\n",
       "      <td id=\"T_2e777_row2_col1\" class=\"data row2 col1\" >0.6096</td>\n",
       "      <td id=\"T_2e777_row2_col2\" class=\"data row2 col2\" >0.9070</td>\n",
       "      <td id=\"T_2e777_row2_col3\" class=\"data row2 col3\" >0.5602</td>\n",
       "      <td id=\"T_2e777_row2_col4\" class=\"data row2 col4\" >0.6926</td>\n",
       "      <td id=\"T_2e777_row2_col5\" class=\"data row2 col5\" >0.1951</td>\n",
       "      <td id=\"T_2e777_row2_col6\" class=\"data row2 col6\" >0.2484</td>\n",
       "    </tr>\n",
       "    <tr>\n",
       "      <th id=\"T_2e777_level0_row3\" class=\"row_heading level0 row3\" >3</th>\n",
       "      <td id=\"T_2e777_row3_col0\" class=\"data row3 col0\" >0.5956</td>\n",
       "      <td id=\"T_2e777_row3_col1\" class=\"data row3 col1\" >0.6104</td>\n",
       "      <td id=\"T_2e777_row3_col2\" class=\"data row3 col2\" >0.9071</td>\n",
       "      <td id=\"T_2e777_row3_col3\" class=\"data row3 col3\" >0.5589</td>\n",
       "      <td id=\"T_2e777_row3_col4\" class=\"data row3 col4\" >0.6917</td>\n",
       "      <td id=\"T_2e777_row3_col5\" class=\"data row3 col5\" >0.1912</td>\n",
       "      <td id=\"T_2e777_row3_col6\" class=\"data row3 col6\" >0.2444</td>\n",
       "    </tr>\n",
       "    <tr>\n",
       "      <th id=\"T_2e777_level0_row4\" class=\"row_heading level0 row4\" >4</th>\n",
       "      <td id=\"T_2e777_row4_col0\" class=\"data row4 col0\" >0.5998</td>\n",
       "      <td id=\"T_2e777_row4_col1\" class=\"data row4 col1\" >0.6146</td>\n",
       "      <td id=\"T_2e777_row4_col2\" class=\"data row4 col2\" >0.9120</td>\n",
       "      <td id=\"T_2e777_row4_col3\" class=\"data row4 col3\" >0.5614</td>\n",
       "      <td id=\"T_2e777_row4_col4\" class=\"data row4 col4\" >0.6950</td>\n",
       "      <td id=\"T_2e777_row4_col5\" class=\"data row4 col5\" >0.1995</td>\n",
       "      <td id=\"T_2e777_row4_col6\" class=\"data row4 col6\" >0.2554</td>\n",
       "    </tr>\n",
       "    <tr>\n",
       "      <th id=\"T_2e777_level0_row5\" class=\"row_heading level0 row5\" >5</th>\n",
       "      <td id=\"T_2e777_row5_col0\" class=\"data row5 col0\" >0.5957</td>\n",
       "      <td id=\"T_2e777_row5_col1\" class=\"data row5 col1\" >0.6091</td>\n",
       "      <td id=\"T_2e777_row5_col2\" class=\"data row5 col2\" >0.9134</td>\n",
       "      <td id=\"T_2e777_row5_col3\" class=\"data row5 col3\" >0.5585</td>\n",
       "      <td id=\"T_2e777_row5_col4\" class=\"data row5 col4\" >0.6932</td>\n",
       "      <td id=\"T_2e777_row5_col5\" class=\"data row5 col5\" >0.1914</td>\n",
       "      <td id=\"T_2e777_row5_col6\" class=\"data row5 col6\" >0.2478</td>\n",
       "    </tr>\n",
       "    <tr>\n",
       "      <th id=\"T_2e777_level0_row6\" class=\"row_heading level0 row6\" >6</th>\n",
       "      <td id=\"T_2e777_row6_col0\" class=\"data row6 col0\" >0.5978</td>\n",
       "      <td id=\"T_2e777_row6_col1\" class=\"data row6 col1\" >0.6088</td>\n",
       "      <td id=\"T_2e777_row6_col2\" class=\"data row6 col2\" >0.9137</td>\n",
       "      <td id=\"T_2e777_row6_col3\" class=\"data row6 col3\" >0.5599</td>\n",
       "      <td id=\"T_2e777_row6_col4\" class=\"data row6 col4\" >0.6944</td>\n",
       "      <td id=\"T_2e777_row6_col5\" class=\"data row6 col5\" >0.1957</td>\n",
       "      <td id=\"T_2e777_row6_col6\" class=\"data row6 col6\" >0.2525</td>\n",
       "    </tr>\n",
       "    <tr>\n",
       "      <th id=\"T_2e777_level0_row7\" class=\"row_heading level0 row7\" >7</th>\n",
       "      <td id=\"T_2e777_row7_col0\" class=\"data row7 col0\" >0.5981</td>\n",
       "      <td id=\"T_2e777_row7_col1\" class=\"data row7 col1\" >0.6167</td>\n",
       "      <td id=\"T_2e777_row7_col2\" class=\"data row7 col2\" >0.9060</td>\n",
       "      <td id=\"T_2e777_row7_col3\" class=\"data row7 col3\" >0.5607</td>\n",
       "      <td id=\"T_2e777_row7_col4\" class=\"data row7 col4\" >0.6927</td>\n",
       "      <td id=\"T_2e777_row7_col5\" class=\"data row7 col5\" >0.1962</td>\n",
       "      <td id=\"T_2e777_row7_col6\" class=\"data row7 col6\" >0.2491</td>\n",
       "    </tr>\n",
       "    <tr>\n",
       "      <th id=\"T_2e777_level0_row8\" class=\"row_heading level0 row8\" >8</th>\n",
       "      <td id=\"T_2e777_row8_col0\" class=\"data row8 col0\" >0.5970</td>\n",
       "      <td id=\"T_2e777_row8_col1\" class=\"data row8 col1\" >0.6108</td>\n",
       "      <td id=\"T_2e777_row8_col2\" class=\"data row8 col2\" >0.9009</td>\n",
       "      <td id=\"T_2e777_row8_col3\" class=\"data row8 col3\" >0.5603</td>\n",
       "      <td id=\"T_2e777_row8_col4\" class=\"data row8 col4\" >0.6909</td>\n",
       "      <td id=\"T_2e777_row8_col5\" class=\"data row8 col5\" >0.1941</td>\n",
       "      <td id=\"T_2e777_row8_col6\" class=\"data row8 col6\" >0.2444</td>\n",
       "    </tr>\n",
       "    <tr>\n",
       "      <th id=\"T_2e777_level0_row9\" class=\"row_heading level0 row9\" >9</th>\n",
       "      <td id=\"T_2e777_row9_col0\" class=\"data row9 col0\" >0.5968</td>\n",
       "      <td id=\"T_2e777_row9_col1\" class=\"data row9 col1\" >0.6118</td>\n",
       "      <td id=\"T_2e777_row9_col2\" class=\"data row9 col2\" >0.9067</td>\n",
       "      <td id=\"T_2e777_row9_col3\" class=\"data row9 col3\" >0.5597</td>\n",
       "      <td id=\"T_2e777_row9_col4\" class=\"data row9 col4\" >0.6922</td>\n",
       "      <td id=\"T_2e777_row9_col5\" class=\"data row9 col5\" >0.1936</td>\n",
       "      <td id=\"T_2e777_row9_col6\" class=\"data row9 col6\" >0.2466</td>\n",
       "    </tr>\n",
       "    <tr>\n",
       "      <th id=\"T_2e777_level0_row10\" class=\"row_heading level0 row10\" >Mean</th>\n",
       "      <td id=\"T_2e777_row10_col0\" class=\"data row10 col0\" >0.5961</td>\n",
       "      <td id=\"T_2e777_row10_col1\" class=\"data row10 col1\" >0.6105</td>\n",
       "      <td id=\"T_2e777_row10_col2\" class=\"data row10 col2\" >0.9082</td>\n",
       "      <td id=\"T_2e777_row10_col3\" class=\"data row10 col3\" >0.5592</td>\n",
       "      <td id=\"T_2e777_row10_col4\" class=\"data row10 col4\" >0.6922</td>\n",
       "      <td id=\"T_2e777_row10_col5\" class=\"data row10 col5\" >0.1922</td>\n",
       "      <td id=\"T_2e777_row10_col6\" class=\"data row10 col6\" >0.2460</td>\n",
       "    </tr>\n",
       "    <tr>\n",
       "      <th id=\"T_2e777_level0_row11\" class=\"row_heading level0 row11\" >Std</th>\n",
       "      <td id=\"T_2e777_row11_col0\" class=\"data row11 col0\" >0.0028</td>\n",
       "      <td id=\"T_2e777_row11_col1\" class=\"data row11 col1\" >0.0032</td>\n",
       "      <td id=\"T_2e777_row11_col2\" class=\"data row11 col2\" >0.0039</td>\n",
       "      <td id=\"T_2e777_row11_col3\" class=\"data row11 col3\" >0.0019</td>\n",
       "      <td id=\"T_2e777_row11_col4\" class=\"data row11 col4\" >0.0019</td>\n",
       "      <td id=\"T_2e777_row11_col5\" class=\"data row11 col5\" >0.0056</td>\n",
       "      <td id=\"T_2e777_row11_col6\" class=\"data row11 col6\" >0.0066</td>\n",
       "    </tr>\n",
       "  </tbody>\n",
       "</table>\n"
      ],
      "text/plain": [
       "<pandas.io.formats.style.Styler at 0x7f7d91478a30>"
      ]
     },
     "metadata": {},
     "output_type": "display_data"
    },
    {
     "data": {
      "text/html": [],
      "text/plain": [
       "<IPython.core.display.HTML object>"
      ]
     },
     "metadata": {},
     "output_type": "display_data"
    }
   ],
   "source": [
    "rf = create_model('rf')"
   ]
  },
  {
   "cell_type": "code",
   "execution_count": 42,
   "metadata": {},
   "outputs": [
    {
     "data": {
      "text/html": [],
      "text/plain": [
       "<IPython.core.display.HTML object>"
      ]
     },
     "metadata": {},
     "output_type": "display_data"
    },
    {
     "data": {
      "image/png": "[encoded data removed]",
      "text/plain": [
       "<Figure size 800x550 with 1 Axes>"
      ]
     },
     "metadata": {},
     "output_type": "display_data"
    }
   ],
   "source": [
    "plot_model(rf, plot = 'confusion_matrix')"
   ]
  },
  {
   "cell_type": "code",
   "execution_count": 43,
   "metadata": {},
   "outputs": [
    {
     "data": {
      "text/html": [],
      "text/plain": [
       "<IPython.core.display.HTML object>"
      ]
     },
     "metadata": {},
     "output_type": "display_data"
    },
    {
     "data": {
      "image/png": "[encoded data removed]",
      "text/plain": [
       "<Figure size 800x550 with 1 Axes>"
      ]
     },
     "metadata": {},
     "output_type": "display_data"
    }
   ],
   "source": [
    "plot_model(rf, plot = 'error')"
   ]
  },
  {
   "cell_type": "code",
   "execution_count": 44,
   "metadata": {},
   "outputs": [
    {
     "data": {
      "text/html": [],
      "text/plain": [
       "<IPython.core.display.HTML object>"
      ]
     },
     "metadata": {},
     "output_type": "display_data"
    },
    {
     "data": {
      "text/html": [
       "<div>\n",
       "<style scoped>\n",
       "    .dataframe tbody tr th:only-of-type {\n",
       "        vertical-align: middle;\n",
       "    }\n",
       "\n",
       "    .dataframe tbody tr th {\n",
       "        vertical-align: top;\n",
       "    }\n",
       "\n",
       "    .dataframe thead th {\n",
       "        text-align: right;\n",
       "    }\n",
       "</style>\n",
       "<table border=\"1\" class=\"dataframe\">\n",
       "  <thead>\n",
       "    <tr style=\"text-align: right;\">\n",
       "      <th></th>\n",
       "      <th>Parameters</th>\n",
       "    </tr>\n",
       "  </thead>\n",
       "  <tbody>\n",
       "    <tr>\n",
       "      <th>bootstrap</th>\n",
       "      <td>True</td>\n",
       "    </tr>\n",
       "    <tr>\n",
       "      <th>ccp_alpha</th>\n",
       "      <td>0.0</td>\n",
       "    </tr>\n",
       "    <tr>\n",
       "      <th>class_weight</th>\n",
       "      <td>None</td>\n",
       "    </tr>\n",
       "    <tr>\n",
       "      <th>criterion</th>\n",
       "      <td>gini</td>\n",
       "    </tr>\n",
       "    <tr>\n",
       "      <th>max_depth</th>\n",
       "      <td>None</td>\n",
       "    </tr>\n",
       "    <tr>\n",
       "      <th>max_features</th>\n",
       "      <td>sqrt</td>\n",
       "    </tr>\n",
       "    <tr>\n",
       "      <th>max_leaf_nodes</th>\n",
       "      <td>None</td>\n",
       "    </tr>\n",
       "    <tr>\n",
       "      <th>max_samples</th>\n",
       "      <td>None</td>\n",
       "    </tr>\n",
       "    <tr>\n",
       "      <th>min_impurity_decrease</th>\n",
       "      <td>0.0</td>\n",
       "    </tr>\n",
       "    <tr>\n",
       "      <th>min_samples_leaf</th>\n",
       "      <td>1</td>\n",
       "    </tr>\n",
       "    <tr>\n",
       "      <th>min_samples_split</th>\n",
       "      <td>2</td>\n",
       "    </tr>\n",
       "    <tr>\n",
       "      <th>min_weight_fraction_leaf</th>\n",
       "      <td>0.0</td>\n",
       "    </tr>\n",
       "    <tr>\n",
       "      <th>n_estimators</th>\n",
       "      <td>100</td>\n",
       "    </tr>\n",
       "    <tr>\n",
       "      <th>n_jobs</th>\n",
       "      <td>-1</td>\n",
       "    </tr>\n",
       "    <tr>\n",
       "      <th>oob_score</th>\n",
       "      <td>False</td>\n",
       "    </tr>\n",
       "    <tr>\n",
       "      <th>random_state</th>\n",
       "      <td>7572</td>\n",
       "    </tr>\n",
       "    <tr>\n",
       "      <th>verbose</th>\n",
       "      <td>0</td>\n",
       "    </tr>\n",
       "    <tr>\n",
       "      <th>warm_start</th>\n",
       "      <td>False</td>\n",
       "    </tr>\n",
       "  </tbody>\n",
       "</table>\n",
       "</div>"
      ],
      "text/plain": [
       "                         Parameters\n",
       "bootstrap                      True\n",
       "ccp_alpha                       0.0\n",
       "class_weight                   None\n",
       "criterion                      gini\n",
       "max_depth                      None\n",
       "max_features                   sqrt\n",
       "max_leaf_nodes                 None\n",
       "max_samples                    None\n",
       "min_impurity_decrease           0.0\n",
       "min_samples_leaf                  1\n",
       "min_samples_split                 2\n",
       "min_weight_fraction_leaf        0.0\n",
       "n_estimators                    100\n",
       "n_jobs                           -1\n",
       "oob_score                     False\n",
       "random_state                   7572\n",
       "verbose                           0\n",
       "warm_start                    False"
      ]
     },
     "metadata": {},
     "output_type": "display_data"
    }
   ],
   "source": [
    "plot_model(rf, plot = 'parameter')"
   ]
  },
  {
   "cell_type": "code",
   "execution_count": 45,
   "metadata": {},
   "outputs": [
    {
     "data": {
      "text/html": [
       "<style type=\"text/css\">\n",
       "</style>\n",
       "<table id=\"T_ae299\">\n",
       "  <thead>\n",
       "    <tr>\n",
       "      <th class=\"blank level0\" >&nbsp;</th>\n",
       "      <th id=\"T_ae299_level0_col0\" class=\"col_heading level0 col0\" >Model</th>\n",
       "      <th id=\"T_ae299_level0_col1\" class=\"col_heading level0 col1\" >Accuracy</th>\n",
       "      <th id=\"T_ae299_level0_col2\" class=\"col_heading level0 col2\" >AUC</th>\n",
       "      <th id=\"T_ae299_level0_col3\" class=\"col_heading level0 col3\" >Recall</th>\n",
       "      <th id=\"T_ae299_level0_col4\" class=\"col_heading level0 col4\" >Prec.</th>\n",
       "      <th id=\"T_ae299_level0_col5\" class=\"col_heading level0 col5\" >F1</th>\n",
       "      <th id=\"T_ae299_level0_col6\" class=\"col_heading level0 col6\" >Kappa</th>\n",
       "      <th id=\"T_ae299_level0_col7\" class=\"col_heading level0 col7\" >MCC</th>\n",
       "    </tr>\n",
       "  </thead>\n",
       "  <tbody>\n",
       "    <tr>\n",
       "      <th id=\"T_ae299_level0_row0\" class=\"row_heading level0 row0\" >0</th>\n",
       "      <td id=\"T_ae299_row0_col0\" class=\"data row0 col0\" >Random Forest Classifier</td>\n",
       "      <td id=\"T_ae299_row0_col1\" class=\"data row0 col1\" >0.5937</td>\n",
       "      <td id=\"T_ae299_row0_col2\" class=\"data row0 col2\" >0.6088</td>\n",
       "      <td id=\"T_ae299_row0_col3\" class=\"data row0 col3\" >0.9018</td>\n",
       "      <td id=\"T_ae299_row0_col4\" class=\"data row0 col4\" >0.5580</td>\n",
       "      <td id=\"T_ae299_row0_col5\" class=\"data row0 col5\" >0.6894</td>\n",
       "      <td id=\"T_ae299_row0_col6\" class=\"data row0 col6\" >0.1874</td>\n",
       "      <td id=\"T_ae299_row0_col7\" class=\"data row0 col7\" >0.2379</td>\n",
       "    </tr>\n",
       "  </tbody>\n",
       "</table>\n"
      ],
      "text/plain": [
       "<pandas.io.formats.style.Styler at 0x7f7d74aa9600>"
      ]
     },
     "metadata": {},
     "output_type": "display_data"
    }
   ],
   "source": [
    "rf_val_pred = predict_model(rf, data=val)"
   ]
  },
  {
   "cell_type": "code",
   "execution_count": 46,
   "metadata": {},
   "outputs": [
    {
     "data": {
      "text/html": [],
      "text/plain": [
       "<IPython.core.display.HTML object>"
      ]
     },
     "metadata": {},
     "output_type": "display_data"
    }
   ],
   "source": [
    "rf_val_pred = predict_model(rf, data=embval)"
   ]
  },
  {
   "cell_type": "code",
   "execution_count": 47,
   "metadata": {},
   "outputs": [
    {
     "name": "stdout",
     "output_type": "stream",
     "text": [
      "Transformation Pipeline and Model Successfully Saved\n"
     ]
    },
    {
     "data": {
      "text/plain": [
       "(Pipeline(memory=FastMemory(location=/tmp/joblib),\n",
       "          steps=[('numerical_imputer',\n",
       "                  TransformerWrapper(exclude=None,\n",
       "                                     include=['http://semanticscience.org/resource/SIO_000281',\n",
       "                                              'http://semanticscience.org/resource/SIO_000628',\n",
       "                                              'http://semanticscience.org/resource/SIO_001279',\n",
       "                                              'http://www.semanticweb.org/needed-terms#001',\n",
       "                                              'http://www.semanticweb.org/needed-term...\n",
       "                  RandomForestClassifier(bootstrap=True, ccp_alpha=0.0,\n",
       "                                         class_weight=None, criterion='gini',\n",
       "                                         max_depth=None, max_features='sqrt',\n",
       "                                         max_leaf_nodes=None, max_samples=None,\n",
       "                                         min_impurity_decrease=0.0,\n",
       "                                         min_samples_leaf=1, min_samples_split=2,\n",
       "                                         min_weight_fraction_leaf=0.0,\n",
       "                                         n_estimators=100, n_jobs=-1,\n",
       "                                         oob_score=False, random_state=7572,\n",
       "                                         verbose=0, warm_start=False))],\n",
       "          verbose=False),\n",
       " 'models_classif/convkb/binary_scores_val/rf.pkl')"
      ]
     },
     "execution_count": 47,
     "metadata": {},
     "output_type": "execute_result"
    }
   ],
   "source": [
    "save_model(rf, 'models_classif/convkb/binary_scores_val/rf')"
   ]
  },
  {
   "cell_type": "markdown",
   "metadata": {},
   "source": [
    "# Quadratic Discriminant Analysis"
   ]
  },
  {
   "cell_type": "code",
   "execution_count": 48,
   "metadata": {},
   "outputs": [
    {
     "data": {
      "text/html": [],
      "text/plain": [
       "<IPython.core.display.HTML object>"
      ]
     },
     "metadata": {},
     "output_type": "display_data"
    },
    {
     "data": {
      "text/html": [
       "<style type=\"text/css\">\n",
       "#T_94e9b_row10_col0, #T_94e9b_row10_col1, #T_94e9b_row10_col2, #T_94e9b_row10_col3, #T_94e9b_row10_col4, #T_94e9b_row10_col5, #T_94e9b_row10_col6 {\n",
       "  background: yellow;\n",
       "}\n",
       "</style>\n",
       "<table id=\"T_94e9b\">\n",
       "  <thead>\n",
       "    <tr>\n",
       "      <th class=\"blank level0\" >&nbsp;</th>\n",
       "      <th id=\"T_94e9b_level0_col0\" class=\"col_heading level0 col0\" >Accuracy</th>\n",
       "      <th id=\"T_94e9b_level0_col1\" class=\"col_heading level0 col1\" >AUC</th>\n",
       "      <th id=\"T_94e9b_level0_col2\" class=\"col_heading level0 col2\" >Recall</th>\n",
       "      <th id=\"T_94e9b_level0_col3\" class=\"col_heading level0 col3\" >Prec.</th>\n",
       "      <th id=\"T_94e9b_level0_col4\" class=\"col_heading level0 col4\" >F1</th>\n",
       "      <th id=\"T_94e9b_level0_col5\" class=\"col_heading level0 col5\" >Kappa</th>\n",
       "      <th id=\"T_94e9b_level0_col6\" class=\"col_heading level0 col6\" >MCC</th>\n",
       "    </tr>\n",
       "    <tr>\n",
       "      <th class=\"index_name level0\" >Fold</th>\n",
       "      <th class=\"blank col0\" >&nbsp;</th>\n",
       "      <th class=\"blank col1\" >&nbsp;</th>\n",
       "      <th class=\"blank col2\" >&nbsp;</th>\n",
       "      <th class=\"blank col3\" >&nbsp;</th>\n",
       "      <th class=\"blank col4\" >&nbsp;</th>\n",
       "      <th class=\"blank col5\" >&nbsp;</th>\n",
       "      <th class=\"blank col6\" >&nbsp;</th>\n",
       "    </tr>\n",
       "  </thead>\n",
       "  <tbody>\n",
       "    <tr>\n",
       "      <th id=\"T_94e9b_level0_row0\" class=\"row_heading level0 row0\" >0</th>\n",
       "      <td id=\"T_94e9b_row0_col0\" class=\"data row0 col0\" >0.5456</td>\n",
       "      <td id=\"T_94e9b_row0_col1\" class=\"data row0 col1\" >0.5548</td>\n",
       "      <td id=\"T_94e9b_row0_col2\" class=\"data row0 col2\" >0.9975</td>\n",
       "      <td id=\"T_94e9b_row0_col3\" class=\"data row0 col3\" >0.5240</td>\n",
       "      <td id=\"T_94e9b_row0_col4\" class=\"data row0 col4\" >0.6871</td>\n",
       "      <td id=\"T_94e9b_row0_col5\" class=\"data row0 col5\" >0.0913</td>\n",
       "      <td id=\"T_94e9b_row0_col6\" class=\"data row0 col6\" >0.2133</td>\n",
       "    </tr>\n",
       "    <tr>\n",
       "      <th id=\"T_94e9b_level0_row1\" class=\"row_heading level0 row1\" >1</th>\n",
       "      <td id=\"T_94e9b_row1_col0\" class=\"data row1 col0\" >0.5399</td>\n",
       "      <td id=\"T_94e9b_row1_col1\" class=\"data row1 col1\" >0.5482</td>\n",
       "      <td id=\"T_94e9b_row1_col2\" class=\"data row1 col2\" >0.9975</td>\n",
       "      <td id=\"T_94e9b_row1_col3\" class=\"data row1 col3\" >0.5208</td>\n",
       "      <td id=\"T_94e9b_row1_col4\" class=\"data row1 col4\" >0.6844</td>\n",
       "      <td id=\"T_94e9b_row1_col5\" class=\"data row1 col5\" >0.0799</td>\n",
       "      <td id=\"T_94e9b_row1_col6\" class=\"data row1 col6\" >0.1982</td>\n",
       "    </tr>\n",
       "    <tr>\n",
       "      <th id=\"T_94e9b_level0_row2\" class=\"row_heading level0 row2\" >2</th>\n",
       "      <td id=\"T_94e9b_row2_col0\" class=\"data row2 col0\" >0.5419</td>\n",
       "      <td id=\"T_94e9b_row2_col1\" class=\"data row2 col1\" >0.5545</td>\n",
       "      <td id=\"T_94e9b_row2_col2\" class=\"data row2 col2\" >0.9985</td>\n",
       "      <td id=\"T_94e9b_row2_col3\" class=\"data row2 col3\" >0.5219</td>\n",
       "      <td id=\"T_94e9b_row2_col4\" class=\"data row2 col4\" >0.6855</td>\n",
       "      <td id=\"T_94e9b_row2_col5\" class=\"data row2 col5\" >0.0837</td>\n",
       "      <td id=\"T_94e9b_row2_col6\" class=\"data row2 col6\" >0.2055</td>\n",
       "    </tr>\n",
       "    <tr>\n",
       "      <th id=\"T_94e9b_level0_row3\" class=\"row_heading level0 row3\" >3</th>\n",
       "      <td id=\"T_94e9b_row3_col0\" class=\"data row3 col0\" >0.5431</td>\n",
       "      <td id=\"T_94e9b_row3_col1\" class=\"data row3 col1\" >0.5555</td>\n",
       "      <td id=\"T_94e9b_row3_col2\" class=\"data row3 col2\" >0.9988</td>\n",
       "      <td id=\"T_94e9b_row3_col3\" class=\"data row3 col3\" >0.5226</td>\n",
       "      <td id=\"T_94e9b_row3_col4\" class=\"data row3 col4\" >0.6862</td>\n",
       "      <td id=\"T_94e9b_row3_col5\" class=\"data row3 col5\" >0.0862</td>\n",
       "      <td id=\"T_94e9b_row3_col6\" class=\"data row3 col6\" >0.2095</td>\n",
       "    </tr>\n",
       "    <tr>\n",
       "      <th id=\"T_94e9b_level0_row4\" class=\"row_heading level0 row4\" >4</th>\n",
       "      <td id=\"T_94e9b_row4_col0\" class=\"data row4 col0\" >0.5392</td>\n",
       "      <td id=\"T_94e9b_row4_col1\" class=\"data row4 col1\" >0.5503</td>\n",
       "      <td id=\"T_94e9b_row4_col2\" class=\"data row4 col2\" >0.9971</td>\n",
       "      <td id=\"T_94e9b_row4_col3\" class=\"data row4 col3\" >0.5205</td>\n",
       "      <td id=\"T_94e9b_row4_col4\" class=\"data row4 col4\" >0.6839</td>\n",
       "      <td id=\"T_94e9b_row4_col5\" class=\"data row4 col5\" >0.0783</td>\n",
       "      <td id=\"T_94e9b_row4_col6\" class=\"data row4 col6\" >0.1951</td>\n",
       "    </tr>\n",
       "    <tr>\n",
       "      <th id=\"T_94e9b_level0_row5\" class=\"row_heading level0 row5\" >5</th>\n",
       "      <td id=\"T_94e9b_row5_col0\" class=\"data row5 col0\" >0.5381</td>\n",
       "      <td id=\"T_94e9b_row5_col1\" class=\"data row5 col1\" >0.5505</td>\n",
       "      <td id=\"T_94e9b_row5_col2\" class=\"data row5 col2\" >0.9982</td>\n",
       "      <td id=\"T_94e9b_row5_col3\" class=\"data row5 col3\" >0.5199</td>\n",
       "      <td id=\"T_94e9b_row5_col4\" class=\"data row5 col4\" >0.6837</td>\n",
       "      <td id=\"T_94e9b_row5_col5\" class=\"data row5 col5\" >0.0762</td>\n",
       "      <td id=\"T_94e9b_row5_col6\" class=\"data row5 col6\" >0.1947</td>\n",
       "    </tr>\n",
       "    <tr>\n",
       "      <th id=\"T_94e9b_level0_row6\" class=\"row_heading level0 row6\" >6</th>\n",
       "      <td id=\"T_94e9b_row6_col0\" class=\"data row6 col0\" >0.5398</td>\n",
       "      <td id=\"T_94e9b_row6_col1\" class=\"data row6 col1\" >0.5530</td>\n",
       "      <td id=\"T_94e9b_row6_col2\" class=\"data row6 col2\" >0.9984</td>\n",
       "      <td id=\"T_94e9b_row6_col3\" class=\"data row6 col3\" >0.5207</td>\n",
       "      <td id=\"T_94e9b_row6_col4\" class=\"data row6 col4\" >0.6845</td>\n",
       "      <td id=\"T_94e9b_row6_col5\" class=\"data row6 col5\" >0.0796</td>\n",
       "      <td id=\"T_94e9b_row6_col6\" class=\"data row6 col6\" >0.1998</td>\n",
       "    </tr>\n",
       "    <tr>\n",
       "      <th id=\"T_94e9b_level0_row7\" class=\"row_heading level0 row7\" >7</th>\n",
       "      <td id=\"T_94e9b_row7_col0\" class=\"data row7 col0\" >0.5455</td>\n",
       "      <td id=\"T_94e9b_row7_col1\" class=\"data row7 col1\" >0.5574</td>\n",
       "      <td id=\"T_94e9b_row7_col2\" class=\"data row7 col2\" >0.9978</td>\n",
       "      <td id=\"T_94e9b_row7_col3\" class=\"data row7 col3\" >0.5239</td>\n",
       "      <td id=\"T_94e9b_row7_col4\" class=\"data row7 col4\" >0.6870</td>\n",
       "      <td id=\"T_94e9b_row7_col5\" class=\"data row7 col5\" >0.0910</td>\n",
       "      <td id=\"T_94e9b_row7_col6\" class=\"data row7 col6\" >0.2133</td>\n",
       "    </tr>\n",
       "    <tr>\n",
       "      <th id=\"T_94e9b_level0_row8\" class=\"row_heading level0 row8\" >8</th>\n",
       "      <td id=\"T_94e9b_row8_col0\" class=\"data row8 col0\" >0.5418</td>\n",
       "      <td id=\"T_94e9b_row8_col1\" class=\"data row8 col1\" >0.5537</td>\n",
       "      <td id=\"T_94e9b_row8_col2\" class=\"data row8 col2\" >0.9982</td>\n",
       "      <td id=\"T_94e9b_row8_col3\" class=\"data row8 col3\" >0.5219</td>\n",
       "      <td id=\"T_94e9b_row8_col4\" class=\"data row8 col4\" >0.6854</td>\n",
       "      <td id=\"T_94e9b_row8_col5\" class=\"data row8 col5\" >0.0837</td>\n",
       "      <td id=\"T_94e9b_row8_col6\" class=\"data row8 col6\" >0.2048</td>\n",
       "    </tr>\n",
       "    <tr>\n",
       "      <th id=\"T_94e9b_level0_row9\" class=\"row_heading level0 row9\" >9</th>\n",
       "      <td id=\"T_94e9b_row9_col0\" class=\"data row9 col0\" >0.5401</td>\n",
       "      <td id=\"T_94e9b_row9_col1\" class=\"data row9 col1\" >0.5522</td>\n",
       "      <td id=\"T_94e9b_row9_col2\" class=\"data row9 col2\" >0.9973</td>\n",
       "      <td id=\"T_94e9b_row9_col3\" class=\"data row9 col3\" >0.5209</td>\n",
       "      <td id=\"T_94e9b_row9_col4\" class=\"data row9 col4\" >0.6844</td>\n",
       "      <td id=\"T_94e9b_row9_col5\" class=\"data row9 col5\" >0.0802</td>\n",
       "      <td id=\"T_94e9b_row9_col6\" class=\"data row9 col6\" >0.1982</td>\n",
       "    </tr>\n",
       "    <tr>\n",
       "      <th id=\"T_94e9b_level0_row10\" class=\"row_heading level0 row10\" >Mean</th>\n",
       "      <td id=\"T_94e9b_row10_col0\" class=\"data row10 col0\" >0.5415</td>\n",
       "      <td id=\"T_94e9b_row10_col1\" class=\"data row10 col1\" >0.5530</td>\n",
       "      <td id=\"T_94e9b_row10_col2\" class=\"data row10 col2\" >0.9979</td>\n",
       "      <td id=\"T_94e9b_row10_col3\" class=\"data row10 col3\" >0.5217</td>\n",
       "      <td id=\"T_94e9b_row10_col4\" class=\"data row10 col4\" >0.6852</td>\n",
       "      <td id=\"T_94e9b_row10_col5\" class=\"data row10 col5\" >0.0830</td>\n",
       "      <td id=\"T_94e9b_row10_col6\" class=\"data row10 col6\" >0.2032</td>\n",
       "    </tr>\n",
       "    <tr>\n",
       "      <th id=\"T_94e9b_level0_row11\" class=\"row_heading level0 row11\" >Std</th>\n",
       "      <td id=\"T_94e9b_row11_col0\" class=\"data row11 col0\" >0.0024</td>\n",
       "      <td id=\"T_94e9b_row11_col1\" class=\"data row11 col1\" >0.0026</td>\n",
       "      <td id=\"T_94e9b_row11_col2\" class=\"data row11 col2\" >0.0005</td>\n",
       "      <td id=\"T_94e9b_row11_col3\" class=\"data row11 col3\" >0.0013</td>\n",
       "      <td id=\"T_94e9b_row11_col4\" class=\"data row11 col4\" >0.0012</td>\n",
       "      <td id=\"T_94e9b_row11_col5\" class=\"data row11 col5\" >0.0049</td>\n",
       "      <td id=\"T_94e9b_row11_col6\" class=\"data row11 col6\" >0.0067</td>\n",
       "    </tr>\n",
       "  </tbody>\n",
       "</table>\n"
      ],
      "text/plain": [
       "<pandas.io.formats.style.Styler at 0x7f7d74aa82e0>"
      ]
     },
     "metadata": {},
     "output_type": "display_data"
    },
    {
     "data": {
      "text/html": [],
      "text/plain": [
       "<IPython.core.display.HTML object>"
      ]
     },
     "metadata": {},
     "output_type": "display_data"
    }
   ],
   "source": [
    "qda = create_model('qda')"
   ]
  },
  {
   "cell_type": "code",
   "execution_count": 49,
   "metadata": {},
   "outputs": [
    {
     "data": {
      "text/html": [],
      "text/plain": [
       "<IPython.core.display.HTML object>"
      ]
     },
     "metadata": {},
     "output_type": "display_data"
    },
    {
     "data": {
      "image/png": "[encoded data removed]",
      "text/plain": [
       "<Figure size 800x550 with 1 Axes>"
      ]
     },
     "metadata": {},
     "output_type": "display_data"
    }
   ],
   "source": [
    "plot_model(qda, plot = 'confusion_matrix')"
   ]
  },
  {
   "cell_type": "code",
   "execution_count": 50,
   "metadata": {},
   "outputs": [
    {
     "data": {
      "text/html": [],
      "text/plain": [
       "<IPython.core.display.HTML object>"
      ]
     },
     "metadata": {},
     "output_type": "display_data"
    },
    {
     "data": {
      "image/png": "[encoded data removed]",
      "text/plain": [
       "<Figure size 800x550 with 1 Axes>"
      ]
     },
     "metadata": {},
     "output_type": "display_data"
    }
   ],
   "source": [
    "plot_model(qda, plot = 'error')"
   ]
  },
  {
   "cell_type": "code",
   "execution_count": 51,
   "metadata": {},
   "outputs": [
    {
     "data": {
      "text/html": [],
      "text/plain": [
       "<IPython.core.display.HTML object>"
      ]
     },
     "metadata": {},
     "output_type": "display_data"
    },
    {
     "data": {
      "text/html": [
       "<div>\n",
       "<style scoped>\n",
       "    .dataframe tbody tr th:only-of-type {\n",
       "        vertical-align: middle;\n",
       "    }\n",
       "\n",
       "    .dataframe tbody tr th {\n",
       "        vertical-align: top;\n",
       "    }\n",
       "\n",
       "    .dataframe thead th {\n",
       "        text-align: right;\n",
       "    }\n",
       "</style>\n",
       "<table border=\"1\" class=\"dataframe\">\n",
       "  <thead>\n",
       "    <tr style=\"text-align: right;\">\n",
       "      <th></th>\n",
       "      <th>Parameters</th>\n",
       "    </tr>\n",
       "  </thead>\n",
       "  <tbody>\n",
       "    <tr>\n",
       "      <th>priors</th>\n",
       "      <td>None</td>\n",
       "    </tr>\n",
       "    <tr>\n",
       "      <th>reg_param</th>\n",
       "      <td>0.0</td>\n",
       "    </tr>\n",
       "    <tr>\n",
       "      <th>store_covariance</th>\n",
       "      <td>False</td>\n",
       "    </tr>\n",
       "    <tr>\n",
       "      <th>tol</th>\n",
       "      <td>0.0001</td>\n",
       "    </tr>\n",
       "  </tbody>\n",
       "</table>\n",
       "</div>"
      ],
      "text/plain": [
       "                 Parameters\n",
       "priors                 None\n",
       "reg_param               0.0\n",
       "store_covariance      False\n",
       "tol                  0.0001"
      ]
     },
     "metadata": {},
     "output_type": "display_data"
    }
   ],
   "source": [
    "plot_model(qda, plot = 'parameter')"
   ]
  },
  {
   "cell_type": "code",
   "execution_count": 52,
   "metadata": {},
   "outputs": [
    {
     "data": {
      "text/html": [
       "<style type=\"text/css\">\n",
       "</style>\n",
       "<table id=\"T_94e79\">\n",
       "  <thead>\n",
       "    <tr>\n",
       "      <th class=\"blank level0\" >&nbsp;</th>\n",
       "      <th id=\"T_94e79_level0_col0\" class=\"col_heading level0 col0\" >Model</th>\n",
       "      <th id=\"T_94e79_level0_col1\" class=\"col_heading level0 col1\" >Accuracy</th>\n",
       "      <th id=\"T_94e79_level0_col2\" class=\"col_heading level0 col2\" >AUC</th>\n",
       "      <th id=\"T_94e79_level0_col3\" class=\"col_heading level0 col3\" >Recall</th>\n",
       "      <th id=\"T_94e79_level0_col4\" class=\"col_heading level0 col4\" >Prec.</th>\n",
       "      <th id=\"T_94e79_level0_col5\" class=\"col_heading level0 col5\" >F1</th>\n",
       "      <th id=\"T_94e79_level0_col6\" class=\"col_heading level0 col6\" >Kappa</th>\n",
       "      <th id=\"T_94e79_level0_col7\" class=\"col_heading level0 col7\" >MCC</th>\n",
       "    </tr>\n",
       "  </thead>\n",
       "  <tbody>\n",
       "    <tr>\n",
       "      <th id=\"T_94e79_level0_row0\" class=\"row_heading level0 row0\" >0</th>\n",
       "      <td id=\"T_94e79_row0_col0\" class=\"data row0 col0\" >Quadratic Discriminant Analysis</td>\n",
       "      <td id=\"T_94e79_row0_col1\" class=\"data row0 col1\" >0.5421</td>\n",
       "      <td id=\"T_94e79_row0_col2\" class=\"data row0 col2\" >0.5533</td>\n",
       "      <td id=\"T_94e79_row0_col3\" class=\"data row0 col3\" >0.9966</td>\n",
       "      <td id=\"T_94e79_row0_col4\" class=\"data row0 col4\" >0.5220</td>\n",
       "      <td id=\"T_94e79_row0_col5\" class=\"data row0 col5\" >0.6852</td>\n",
       "      <td id=\"T_94e79_row0_col6\" class=\"data row0 col6\" >0.0841</td>\n",
       "      <td id=\"T_94e79_row0_col7\" class=\"data row0 col7\" >0.2018</td>\n",
       "    </tr>\n",
       "  </tbody>\n",
       "</table>\n"
      ],
      "text/plain": [
       "<pandas.io.formats.style.Styler at 0x7f7d61718ee0>"
      ]
     },
     "metadata": {},
     "output_type": "display_data"
    }
   ],
   "source": [
    "qda_val_pred = predict_model(qda, data=val)"
   ]
  },
  {
   "cell_type": "code",
   "execution_count": 53,
   "metadata": {},
   "outputs": [
    {
     "data": {
      "text/html": [],
      "text/plain": [
       "<IPython.core.display.HTML object>"
      ]
     },
     "metadata": {},
     "output_type": "display_data"
    }
   ],
   "source": [
    "qda_val_pred = predict_model(qda, data=embval)"
   ]
  },
  {
   "cell_type": "code",
   "execution_count": 54,
   "metadata": {},
   "outputs": [
    {
     "name": "stdout",
     "output_type": "stream",
     "text": [
      "Transformation Pipeline and Model Successfully Saved\n"
     ]
    },
    {
     "data": {
      "text/plain": [
       "(Pipeline(memory=FastMemory(location=/tmp/joblib),\n",
       "          steps=[('numerical_imputer',\n",
       "                  TransformerWrapper(exclude=None,\n",
       "                                     include=['http://semanticscience.org/resource/SIO_000281',\n",
       "                                              'http://semanticscience.org/resource/SIO_000628',\n",
       "                                              'http://semanticscience.org/resource/SIO_001279',\n",
       "                                              'http://www.semanticweb.org/needed-terms#001',\n",
       "                                              'http://www.semanticweb.org/needed-term...\n",
       "                                                               keep_empty_features=False,\n",
       "                                                               missing_values=nan,\n",
       "                                                               strategy='most_frequent',\n",
       "                                                               verbose='deprecated'))),\n",
       "                 ('clean_column_names',\n",
       "                  TransformerWrapper(exclude=None, include=None,\n",
       "                                     transformer=CleanColumnNames(match='[\\\\]\\\\[\\\\,\\\\{\\\\}\\\\\"\\\\:]+'))),\n",
       "                 ('trained_model',\n",
       "                  QuadraticDiscriminantAnalysis(priors=None, reg_param=0.0,\n",
       "                                                store_covariance=False,\n",
       "                                                tol=0.0001))],\n",
       "          verbose=False),\n",
       " 'models_classif/convkb/binary_scores_val/qda.pkl')"
      ]
     },
     "execution_count": 54,
     "metadata": {},
     "output_type": "execute_result"
    }
   ],
   "source": [
    "save_model(qda, 'models_classif/convkb/binary_scores_val/qda')"
   ]
  },
  {
   "cell_type": "markdown",
   "metadata": {},
   "source": [
    "# Linear Discriminant Analysis"
   ]
  },
  {
   "cell_type": "code",
   "execution_count": 55,
   "metadata": {},
   "outputs": [
    {
     "data": {
      "text/html": [],
      "text/plain": [
       "<IPython.core.display.HTML object>"
      ]
     },
     "metadata": {},
     "output_type": "display_data"
    },
    {
     "data": {
      "text/html": [
       "<style type=\"text/css\">\n",
       "#T_bd60a_row10_col0, #T_bd60a_row10_col1, #T_bd60a_row10_col2, #T_bd60a_row10_col3, #T_bd60a_row10_col4, #T_bd60a_row10_col5, #T_bd60a_row10_col6 {\n",
       "  background: yellow;\n",
       "}\n",
       "</style>\n",
       "<table id=\"T_bd60a\">\n",
       "  <thead>\n",
       "    <tr>\n",
       "      <th class=\"blank level0\" >&nbsp;</th>\n",
       "      <th id=\"T_bd60a_level0_col0\" class=\"col_heading level0 col0\" >Accuracy</th>\n",
       "      <th id=\"T_bd60a_level0_col1\" class=\"col_heading level0 col1\" >AUC</th>\n",
       "      <th id=\"T_bd60a_level0_col2\" class=\"col_heading level0 col2\" >Recall</th>\n",
       "      <th id=\"T_bd60a_level0_col3\" class=\"col_heading level0 col3\" >Prec.</th>\n",
       "      <th id=\"T_bd60a_level0_col4\" class=\"col_heading level0 col4\" >F1</th>\n",
       "      <th id=\"T_bd60a_level0_col5\" class=\"col_heading level0 col5\" >Kappa</th>\n",
       "      <th id=\"T_bd60a_level0_col6\" class=\"col_heading level0 col6\" >MCC</th>\n",
       "    </tr>\n",
       "    <tr>\n",
       "      <th class=\"index_name level0\" >Fold</th>\n",
       "      <th class=\"blank col0\" >&nbsp;</th>\n",
       "      <th class=\"blank col1\" >&nbsp;</th>\n",
       "      <th class=\"blank col2\" >&nbsp;</th>\n",
       "      <th class=\"blank col3\" >&nbsp;</th>\n",
       "      <th class=\"blank col4\" >&nbsp;</th>\n",
       "      <th class=\"blank col5\" >&nbsp;</th>\n",
       "      <th class=\"blank col6\" >&nbsp;</th>\n",
       "    </tr>\n",
       "  </thead>\n",
       "  <tbody>\n",
       "    <tr>\n",
       "      <th id=\"T_bd60a_level0_row0\" class=\"row_heading level0 row0\" >0</th>\n",
       "      <td id=\"T_bd60a_row0_col0\" class=\"data row0 col0\" >0.5359</td>\n",
       "      <td id=\"T_bd60a_row0_col1\" class=\"data row0 col1\" >0.5859</td>\n",
       "      <td id=\"T_bd60a_row0_col2\" class=\"data row0 col2\" >0.9934</td>\n",
       "      <td id=\"T_bd60a_row0_col3\" class=\"data row0 col3\" >0.5187</td>\n",
       "      <td id=\"T_bd60a_row0_col4\" class=\"data row0 col4\" >0.6816</td>\n",
       "      <td id=\"T_bd60a_row0_col5\" class=\"data row0 col5\" >0.0717</td>\n",
       "      <td id=\"T_bd60a_row0_col6\" class=\"data row0 col6\" >0.1778</td>\n",
       "    </tr>\n",
       "    <tr>\n",
       "      <th id=\"T_bd60a_level0_row1\" class=\"row_heading level0 row1\" >1</th>\n",
       "      <td id=\"T_bd60a_row1_col0\" class=\"data row1 col0\" >0.5358</td>\n",
       "      <td id=\"T_bd60a_row1_col1\" class=\"data row1 col1\" >0.5883</td>\n",
       "      <td id=\"T_bd60a_row1_col2\" class=\"data row1 col2\" >0.9930</td>\n",
       "      <td id=\"T_bd60a_row1_col3\" class=\"data row1 col3\" >0.5187</td>\n",
       "      <td id=\"T_bd60a_row1_col4\" class=\"data row1 col4\" >0.6814</td>\n",
       "      <td id=\"T_bd60a_row1_col5\" class=\"data row1 col5\" >0.0716</td>\n",
       "      <td id=\"T_bd60a_row1_col6\" class=\"data row1 col6\" >0.1768</td>\n",
       "    </tr>\n",
       "    <tr>\n",
       "      <th id=\"T_bd60a_level0_row2\" class=\"row_heading level0 row2\" >2</th>\n",
       "      <td id=\"T_bd60a_row2_col0\" class=\"data row2 col0\" >0.5364</td>\n",
       "      <td id=\"T_bd60a_row2_col1\" class=\"data row2 col1\" >0.5926</td>\n",
       "      <td id=\"T_bd60a_row2_col2\" class=\"data row2 col2\" >0.9938</td>\n",
       "      <td id=\"T_bd60a_row2_col3\" class=\"data row2 col3\" >0.5190</td>\n",
       "      <td id=\"T_bd60a_row2_col4\" class=\"data row2 col4\" >0.6819</td>\n",
       "      <td id=\"T_bd60a_row2_col5\" class=\"data row2 col5\" >0.0727</td>\n",
       "      <td id=\"T_bd60a_row2_col6\" class=\"data row2 col6\" >0.1801</td>\n",
       "    </tr>\n",
       "    <tr>\n",
       "      <th id=\"T_bd60a_level0_row3\" class=\"row_heading level0 row3\" >3</th>\n",
       "      <td id=\"T_bd60a_row3_col0\" class=\"data row3 col0\" >0.5386</td>\n",
       "      <td id=\"T_bd60a_row3_col1\" class=\"data row3 col1\" >0.5907</td>\n",
       "      <td id=\"T_bd60a_row3_col2\" class=\"data row3 col2\" >0.9951</td>\n",
       "      <td id=\"T_bd60a_row3_col3\" class=\"data row3 col3\" >0.5202</td>\n",
       "      <td id=\"T_bd60a_row3_col4\" class=\"data row3 col4\" >0.6832</td>\n",
       "      <td id=\"T_bd60a_row3_col5\" class=\"data row3 col5\" >0.0772</td>\n",
       "      <td id=\"T_bd60a_row3_col6\" class=\"data row3 col6\" >0.1892</td>\n",
       "    </tr>\n",
       "    <tr>\n",
       "      <th id=\"T_bd60a_level0_row4\" class=\"row_heading level0 row4\" >4</th>\n",
       "      <td id=\"T_bd60a_row4_col0\" class=\"data row4 col0\" >0.5355</td>\n",
       "      <td id=\"T_bd60a_row4_col1\" class=\"data row4 col1\" >0.5984</td>\n",
       "      <td id=\"T_bd60a_row4_col2\" class=\"data row4 col2\" >0.9925</td>\n",
       "      <td id=\"T_bd60a_row4_col3\" class=\"data row4 col3\" >0.5185</td>\n",
       "      <td id=\"T_bd60a_row4_col4\" class=\"data row4 col4\" >0.6812</td>\n",
       "      <td id=\"T_bd60a_row4_col5\" class=\"data row4 col5\" >0.0709</td>\n",
       "      <td id=\"T_bd60a_row4_col6\" class=\"data row4 col6\" >0.1749</td>\n",
       "    </tr>\n",
       "    <tr>\n",
       "      <th id=\"T_bd60a_level0_row5\" class=\"row_heading level0 row5\" >5</th>\n",
       "      <td id=\"T_bd60a_row5_col0\" class=\"data row5 col0\" >0.5355</td>\n",
       "      <td id=\"T_bd60a_row5_col1\" class=\"data row5 col1\" >0.5903</td>\n",
       "      <td id=\"T_bd60a_row5_col2\" class=\"data row5 col2\" >0.9940</td>\n",
       "      <td id=\"T_bd60a_row5_col3\" class=\"data row5 col3\" >0.5185</td>\n",
       "      <td id=\"T_bd60a_row5_col4\" class=\"data row5 col4\" >0.6816</td>\n",
       "      <td id=\"T_bd60a_row5_col5\" class=\"data row5 col5\" >0.0710</td>\n",
       "      <td id=\"T_bd60a_row5_col6\" class=\"data row5 col6\" >0.1781</td>\n",
       "    </tr>\n",
       "    <tr>\n",
       "      <th id=\"T_bd60a_level0_row6\" class=\"row_heading level0 row6\" >6</th>\n",
       "      <td id=\"T_bd60a_row6_col0\" class=\"data row6 col0\" >0.5363</td>\n",
       "      <td id=\"T_bd60a_row6_col1\" class=\"data row6 col1\" >0.5951</td>\n",
       "      <td id=\"T_bd60a_row6_col2\" class=\"data row6 col2\" >0.9938</td>\n",
       "      <td id=\"T_bd60a_row6_col3\" class=\"data row6 col3\" >0.5189</td>\n",
       "      <td id=\"T_bd60a_row6_col4\" class=\"data row6 col4\" >0.6818</td>\n",
       "      <td id=\"T_bd60a_row6_col5\" class=\"data row6 col5\" >0.0726</td>\n",
       "      <td id=\"T_bd60a_row6_col6\" class=\"data row6 col6\" >0.1800</td>\n",
       "    </tr>\n",
       "    <tr>\n",
       "      <th id=\"T_bd60a_level0_row7\" class=\"row_heading level0 row7\" >7</th>\n",
       "      <td id=\"T_bd60a_row7_col0\" class=\"data row7 col0\" >0.5377</td>\n",
       "      <td id=\"T_bd60a_row7_col1\" class=\"data row7 col1\" >0.5922</td>\n",
       "      <td id=\"T_bd60a_row7_col2\" class=\"data row7 col2\" >0.9923</td>\n",
       "      <td id=\"T_bd60a_row7_col3\" class=\"data row7 col3\" >0.5197</td>\n",
       "      <td id=\"T_bd60a_row7_col4\" class=\"data row7 col4\" >0.6822</td>\n",
       "      <td id=\"T_bd60a_row7_col5\" class=\"data row7 col5\" >0.0755</td>\n",
       "      <td id=\"T_bd60a_row7_col6\" class=\"data row7 col6\" >0.1812</td>\n",
       "    </tr>\n",
       "    <tr>\n",
       "      <th id=\"T_bd60a_level0_row8\" class=\"row_heading level0 row8\" >8</th>\n",
       "      <td id=\"T_bd60a_row8_col0\" class=\"data row8 col0\" >0.5384</td>\n",
       "      <td id=\"T_bd60a_row8_col1\" class=\"data row8 col1\" >0.5919</td>\n",
       "      <td id=\"T_bd60a_row8_col2\" class=\"data row8 col2\" >0.9941</td>\n",
       "      <td id=\"T_bd60a_row8_col3\" class=\"data row8 col3\" >0.5201</td>\n",
       "      <td id=\"T_bd60a_row8_col4\" class=\"data row8 col4\" >0.6829</td>\n",
       "      <td id=\"T_bd60a_row8_col5\" class=\"data row8 col5\" >0.0768</td>\n",
       "      <td id=\"T_bd60a_row8_col6\" class=\"data row8 col6\" >0.1866</td>\n",
       "    </tr>\n",
       "    <tr>\n",
       "      <th id=\"T_bd60a_level0_row9\" class=\"row_heading level0 row9\" >9</th>\n",
       "      <td id=\"T_bd60a_row9_col0\" class=\"data row9 col0\" >0.5359</td>\n",
       "      <td id=\"T_bd60a_row9_col1\" class=\"data row9 col1\" >0.5888</td>\n",
       "      <td id=\"T_bd60a_row9_col2\" class=\"data row9 col2\" >0.9932</td>\n",
       "      <td id=\"T_bd60a_row9_col3\" class=\"data row9 col3\" >0.5187</td>\n",
       "      <td id=\"T_bd60a_row9_col4\" class=\"data row9 col4\" >0.6815</td>\n",
       "      <td id=\"T_bd60a_row9_col5\" class=\"data row9 col5\" >0.0719</td>\n",
       "      <td id=\"T_bd60a_row9_col6\" class=\"data row9 col6\" >0.1776</td>\n",
       "    </tr>\n",
       "    <tr>\n",
       "      <th id=\"T_bd60a_level0_row10\" class=\"row_heading level0 row10\" >Mean</th>\n",
       "      <td id=\"T_bd60a_row10_col0\" class=\"data row10 col0\" >0.5366</td>\n",
       "      <td id=\"T_bd60a_row10_col1\" class=\"data row10 col1\" >0.5914</td>\n",
       "      <td id=\"T_bd60a_row10_col2\" class=\"data row10 col2\" >0.9935</td>\n",
       "      <td id=\"T_bd60a_row10_col3\" class=\"data row10 col3\" >0.5191</td>\n",
       "      <td id=\"T_bd60a_row10_col4\" class=\"data row10 col4\" >0.6819</td>\n",
       "      <td id=\"T_bd60a_row10_col5\" class=\"data row10 col5\" >0.0732</td>\n",
       "      <td id=\"T_bd60a_row10_col6\" class=\"data row10 col6\" >0.1802</td>\n",
       "    </tr>\n",
       "    <tr>\n",
       "      <th id=\"T_bd60a_level0_row11\" class=\"row_heading level0 row11\" >Std</th>\n",
       "      <td id=\"T_bd60a_row11_col0\" class=\"data row11 col0\" >0.0011</td>\n",
       "      <td id=\"T_bd60a_row11_col1\" class=\"data row11 col1\" >0.0034</td>\n",
       "      <td id=\"T_bd60a_row11_col2\" class=\"data row11 col2\" >0.0008</td>\n",
       "      <td id=\"T_bd60a_row11_col3\" class=\"data row11 col3\" >0.0006</td>\n",
       "      <td id=\"T_bd60a_row11_col4\" class=\"data row11 col4\" >0.0006</td>\n",
       "      <td id=\"T_bd60a_row11_col5\" class=\"data row11 col5\" >0.0023</td>\n",
       "      <td id=\"T_bd60a_row11_col6\" class=\"data row11 col6\" >0.0042</td>\n",
       "    </tr>\n",
       "  </tbody>\n",
       "</table>\n"
      ],
      "text/plain": [
       "<pandas.io.formats.style.Styler at 0x7f7d914783d0>"
      ]
     },
     "metadata": {},
     "output_type": "display_data"
    },
    {
     "data": {
      "text/html": [],
      "text/plain": [
       "<IPython.core.display.HTML object>"
      ]
     },
     "metadata": {},
     "output_type": "display_data"
    }
   ],
   "source": [
    "lda = create_model('lda')"
   ]
  },
  {
   "cell_type": "code",
   "execution_count": 56,
   "metadata": {},
   "outputs": [
    {
     "data": {
      "text/html": [],
      "text/plain": [
       "<IPython.core.display.HTML object>"
      ]
     },
     "metadata": {},
     "output_type": "display_data"
    },
    {
     "data": {
      "image/png": "[encoded data removed]",
      "text/plain": [
       "<Figure size 800x550 with 1 Axes>"
      ]
     },
     "metadata": {},
     "output_type": "display_data"
    }
   ],
   "source": [
    "plot_model(lda, plot = 'confusion_matrix')"
   ]
  },
  {
   "cell_type": "code",
   "execution_count": 57,
   "metadata": {},
   "outputs": [
    {
     "data": {
      "text/html": [],
      "text/plain": [
       "<IPython.core.display.HTML object>"
      ]
     },
     "metadata": {},
     "output_type": "display_data"
    },
    {
     "data": {
      "image/png": "[encoded data removed]",
      "text/plain": [
       "<Figure size 800x550 with 1 Axes>"
      ]
     },
     "metadata": {},
     "output_type": "display_data"
    }
   ],
   "source": [
    "plot_model(lda, plot = 'error')"
   ]
  },
  {
   "cell_type": "code",
   "execution_count": 58,
   "metadata": {},
   "outputs": [
    {
     "data": {
      "text/html": [],
      "text/plain": [
       "<IPython.core.display.HTML object>"
      ]
     },
     "metadata": {},
     "output_type": "display_data"
    },
    {
     "data": {
      "text/html": [
       "<div>\n",
       "<style scoped>\n",
       "    .dataframe tbody tr th:only-of-type {\n",
       "        vertical-align: middle;\n",
       "    }\n",
       "\n",
       "    .dataframe tbody tr th {\n",
       "        vertical-align: top;\n",
       "    }\n",
       "\n",
       "    .dataframe thead th {\n",
       "        text-align: right;\n",
       "    }\n",
       "</style>\n",
       "<table border=\"1\" class=\"dataframe\">\n",
       "  <thead>\n",
       "    <tr style=\"text-align: right;\">\n",
       "      <th></th>\n",
       "      <th>Parameters</th>\n",
       "    </tr>\n",
       "  </thead>\n",
       "  <tbody>\n",
       "    <tr>\n",
       "      <th>covariance_estimator</th>\n",
       "      <td>None</td>\n",
       "    </tr>\n",
       "    <tr>\n",
       "      <th>n_components</th>\n",
       "      <td>None</td>\n",
       "    </tr>\n",
       "    <tr>\n",
       "      <th>priors</th>\n",
       "      <td>None</td>\n",
       "    </tr>\n",
       "    <tr>\n",
       "      <th>shrinkage</th>\n",
       "      <td>None</td>\n",
       "    </tr>\n",
       "    <tr>\n",
       "      <th>solver</th>\n",
       "      <td>svd</td>\n",
       "    </tr>\n",
       "    <tr>\n",
       "      <th>store_covariance</th>\n",
       "      <td>False</td>\n",
       "    </tr>\n",
       "    <tr>\n",
       "      <th>tol</th>\n",
       "      <td>0.0001</td>\n",
       "    </tr>\n",
       "  </tbody>\n",
       "</table>\n",
       "</div>"
      ],
      "text/plain": [
       "                     Parameters\n",
       "covariance_estimator       None\n",
       "n_components               None\n",
       "priors                     None\n",
       "shrinkage                  None\n",
       "solver                      svd\n",
       "store_covariance          False\n",
       "tol                      0.0001"
      ]
     },
     "metadata": {},
     "output_type": "display_data"
    }
   ],
   "source": [
    "plot_model(lda, plot = 'parameter')"
   ]
  },
  {
   "cell_type": "code",
   "execution_count": 59,
   "metadata": {},
   "outputs": [
    {
     "data": {
      "text/html": [
       "<style type=\"text/css\">\n",
       "</style>\n",
       "<table id=\"T_4b29f\">\n",
       "  <thead>\n",
       "    <tr>\n",
       "      <th class=\"blank level0\" >&nbsp;</th>\n",
       "      <th id=\"T_4b29f_level0_col0\" class=\"col_heading level0 col0\" >Model</th>\n",
       "      <th id=\"T_4b29f_level0_col1\" class=\"col_heading level0 col1\" >Accuracy</th>\n",
       "      <th id=\"T_4b29f_level0_col2\" class=\"col_heading level0 col2\" >AUC</th>\n",
       "      <th id=\"T_4b29f_level0_col3\" class=\"col_heading level0 col3\" >Recall</th>\n",
       "      <th id=\"T_4b29f_level0_col4\" class=\"col_heading level0 col4\" >Prec.</th>\n",
       "      <th id=\"T_4b29f_level0_col5\" class=\"col_heading level0 col5\" >F1</th>\n",
       "      <th id=\"T_4b29f_level0_col6\" class=\"col_heading level0 col6\" >Kappa</th>\n",
       "      <th id=\"T_4b29f_level0_col7\" class=\"col_heading level0 col7\" >MCC</th>\n",
       "    </tr>\n",
       "  </thead>\n",
       "  <tbody>\n",
       "    <tr>\n",
       "      <th id=\"T_4b29f_level0_row0\" class=\"row_heading level0 row0\" >0</th>\n",
       "      <td id=\"T_4b29f_row0_col0\" class=\"data row0 col0\" >Linear Discriminant Analysis</td>\n",
       "      <td id=\"T_4b29f_row0_col1\" class=\"data row0 col1\" >0.5369</td>\n",
       "      <td id=\"T_4b29f_row0_col2\" class=\"data row0 col2\" >0.5948</td>\n",
       "      <td id=\"T_4b29f_row0_col3\" class=\"data row0 col3\" >0.9917</td>\n",
       "      <td id=\"T_4b29f_row0_col4\" class=\"data row0 col4\" >0.5193</td>\n",
       "      <td id=\"T_4b29f_row0_col5\" class=\"data row0 col5\" >0.6817</td>\n",
       "      <td id=\"T_4b29f_row0_col6\" class=\"data row0 col6\" >0.0737</td>\n",
       "      <td id=\"T_4b29f_row0_col7\" class=\"data row0 col7\" >0.1775</td>\n",
       "    </tr>\n",
       "  </tbody>\n",
       "</table>\n"
      ],
      "text/plain": [
       "<pandas.io.formats.style.Styler at 0x7f7d6171b550>"
      ]
     },
     "metadata": {},
     "output_type": "display_data"
    }
   ],
   "source": [
    "lda_val_pred = predict_model(lda, data=val)"
   ]
  },
  {
   "cell_type": "code",
   "execution_count": 60,
   "metadata": {},
   "outputs": [
    {
     "data": {
      "text/html": [],
      "text/plain": [
       "<IPython.core.display.HTML object>"
      ]
     },
     "metadata": {},
     "output_type": "display_data"
    }
   ],
   "source": [
    "lda_val_pred = predict_model(lda, data=embval)"
   ]
  },
  {
   "cell_type": "code",
   "execution_count": 61,
   "metadata": {},
   "outputs": [
    {
     "name": "stdout",
     "output_type": "stream",
     "text": [
      "Transformation Pipeline and Model Successfully Saved\n"
     ]
    },
    {
     "data": {
      "text/plain": [
       "(Pipeline(memory=FastMemory(location=/tmp/joblib),\n",
       "          steps=[('numerical_imputer',\n",
       "                  TransformerWrapper(exclude=None,\n",
       "                                     include=['http://semanticscience.org/resource/SIO_000281',\n",
       "                                              'http://semanticscience.org/resource/SIO_000628',\n",
       "                                              'http://semanticscience.org/resource/SIO_001279',\n",
       "                                              'http://www.semanticweb.org/needed-terms#001',\n",
       "                                              'http://www.semanticweb.org/needed-term...\n",
       "                                                               strategy='most_frequent',\n",
       "                                                               verbose='deprecated'))),\n",
       "                 ('clean_column_names',\n",
       "                  TransformerWrapper(exclude=None, include=None,\n",
       "                                     transformer=CleanColumnNames(match='[\\\\]\\\\[\\\\,\\\\{\\\\}\\\\\"\\\\:]+'))),\n",
       "                 ('trained_model',\n",
       "                  LinearDiscriminantAnalysis(covariance_estimator=None,\n",
       "                                             n_components=None, priors=None,\n",
       "                                             shrinkage=None, solver='svd',\n",
       "                                             store_covariance=False,\n",
       "                                             tol=0.0001))],\n",
       "          verbose=False),\n",
       " 'models_classif/convkb/binary_scores_val/lda.pkl')"
      ]
     },
     "execution_count": 61,
     "metadata": {},
     "output_type": "execute_result"
    }
   ],
   "source": [
    "save_model(lda, 'models_classif/convkb/binary_scores_val/lda')"
   ]
  },
  {
   "cell_type": "markdown",
   "metadata": {},
   "source": [
    "# Extra Trees"
   ]
  },
  {
   "cell_type": "code",
   "execution_count": 62,
   "metadata": {},
   "outputs": [
    {
     "data": {
      "text/html": [],
      "text/plain": [
       "<IPython.core.display.HTML object>"
      ]
     },
     "metadata": {},
     "output_type": "display_data"
    },
    {
     "data": {
      "text/html": [
       "<style type=\"text/css\">\n",
       "#T_5282e_row10_col0, #T_5282e_row10_col1, #T_5282e_row10_col2, #T_5282e_row10_col3, #T_5282e_row10_col4, #T_5282e_row10_col5, #T_5282e_row10_col6 {\n",
       "  background: yellow;\n",
       "}\n",
       "</style>\n",
       "<table id=\"T_5282e\">\n",
       "  <thead>\n",
       "    <tr>\n",
       "      <th class=\"blank level0\" >&nbsp;</th>\n",
       "      <th id=\"T_5282e_level0_col0\" class=\"col_heading level0 col0\" >Accuracy</th>\n",
       "      <th id=\"T_5282e_level0_col1\" class=\"col_heading level0 col1\" >AUC</th>\n",
       "      <th id=\"T_5282e_level0_col2\" class=\"col_heading level0 col2\" >Recall</th>\n",
       "      <th id=\"T_5282e_level0_col3\" class=\"col_heading level0 col3\" >Prec.</th>\n",
       "      <th id=\"T_5282e_level0_col4\" class=\"col_heading level0 col4\" >F1</th>\n",
       "      <th id=\"T_5282e_level0_col5\" class=\"col_heading level0 col5\" >Kappa</th>\n",
       "      <th id=\"T_5282e_level0_col6\" class=\"col_heading level0 col6\" >MCC</th>\n",
       "    </tr>\n",
       "    <tr>\n",
       "      <th class=\"index_name level0\" >Fold</th>\n",
       "      <th class=\"blank col0\" >&nbsp;</th>\n",
       "      <th class=\"blank col1\" >&nbsp;</th>\n",
       "      <th class=\"blank col2\" >&nbsp;</th>\n",
       "      <th class=\"blank col3\" >&nbsp;</th>\n",
       "      <th class=\"blank col4\" >&nbsp;</th>\n",
       "      <th class=\"blank col5\" >&nbsp;</th>\n",
       "      <th class=\"blank col6\" >&nbsp;</th>\n",
       "    </tr>\n",
       "  </thead>\n",
       "  <tbody>\n",
       "    <tr>\n",
       "      <th id=\"T_5282e_level0_row0\" class=\"row_heading level0 row0\" >0</th>\n",
       "      <td id=\"T_5282e_row0_col0\" class=\"data row0 col0\" >0.6107</td>\n",
       "      <td id=\"T_5282e_row0_col1\" class=\"data row0 col1\" >0.6475</td>\n",
       "      <td id=\"T_5282e_row0_col2\" class=\"data row0 col2\" >0.8242</td>\n",
       "      <td id=\"T_5282e_row0_col3\" class=\"data row0 col3\" >0.5776</td>\n",
       "      <td id=\"T_5282e_row0_col4\" class=\"data row0 col4\" >0.6792</td>\n",
       "      <td id=\"T_5282e_row0_col5\" class=\"data row0 col5\" >0.2213</td>\n",
       "      <td id=\"T_5282e_row0_col6\" class=\"data row0 col6\" >0.2448</td>\n",
       "    </tr>\n",
       "    <tr>\n",
       "      <th id=\"T_5282e_level0_row1\" class=\"row_heading level0 row1\" >1</th>\n",
       "      <td id=\"T_5282e_row1_col0\" class=\"data row1 col0\" >0.6083</td>\n",
       "      <td id=\"T_5282e_row1_col1\" class=\"data row1 col1\" >0.6467</td>\n",
       "      <td id=\"T_5282e_row1_col2\" class=\"data row1 col2\" >0.8325</td>\n",
       "      <td id=\"T_5282e_row1_col3\" class=\"data row1 col3\" >0.5747</td>\n",
       "      <td id=\"T_5282e_row1_col4\" class=\"data row1 col4\" >0.6800</td>\n",
       "      <td id=\"T_5282e_row1_col5\" class=\"data row1 col5\" >0.2165</td>\n",
       "      <td id=\"T_5282e_row1_col6\" class=\"data row1 col6\" >0.2423</td>\n",
       "    </tr>\n",
       "    <tr>\n",
       "      <th id=\"T_5282e_level0_row2\" class=\"row_heading level0 row2\" >2</th>\n",
       "      <td id=\"T_5282e_row2_col0\" class=\"data row2 col0\" >0.6152</td>\n",
       "      <td id=\"T_5282e_row2_col1\" class=\"data row2 col1\" >0.6515</td>\n",
       "      <td id=\"T_5282e_row2_col2\" class=\"data row2 col2\" >0.8347</td>\n",
       "      <td id=\"T_5282e_row2_col3\" class=\"data row2 col3\" >0.5801</td>\n",
       "      <td id=\"T_5282e_row2_col4\" class=\"data row2 col4\" >0.6845</td>\n",
       "      <td id=\"T_5282e_row2_col5\" class=\"data row2 col5\" >0.2304</td>\n",
       "      <td id=\"T_5282e_row2_col6\" class=\"data row2 col6\" >0.2564</td>\n",
       "    </tr>\n",
       "    <tr>\n",
       "      <th id=\"T_5282e_level0_row3\" class=\"row_heading level0 row3\" >3</th>\n",
       "      <td id=\"T_5282e_row3_col0\" class=\"data row3 col0\" >0.6090</td>\n",
       "      <td id=\"T_5282e_row3_col1\" class=\"data row3 col1\" >0.6421</td>\n",
       "      <td id=\"T_5282e_row3_col2\" class=\"data row3 col2\" >0.8291</td>\n",
       "      <td id=\"T_5282e_row3_col3\" class=\"data row3 col3\" >0.5757</td>\n",
       "      <td id=\"T_5282e_row3_col4\" class=\"data row3 col4\" >0.6796</td>\n",
       "      <td id=\"T_5282e_row3_col5\" class=\"data row3 col5\" >0.2181</td>\n",
       "      <td id=\"T_5282e_row3_col6\" class=\"data row3 col6\" >0.2428</td>\n",
       "    </tr>\n",
       "    <tr>\n",
       "      <th id=\"T_5282e_level0_row4\" class=\"row_heading level0 row4\" >4</th>\n",
       "      <td id=\"T_5282e_row4_col0\" class=\"data row4 col0\" >0.6148</td>\n",
       "      <td id=\"T_5282e_row4_col1\" class=\"data row4 col1\" >0.6482</td>\n",
       "      <td id=\"T_5282e_row4_col2\" class=\"data row4 col2\" >0.8315</td>\n",
       "      <td id=\"T_5282e_row4_col3\" class=\"data row4 col3\" >0.5801</td>\n",
       "      <td id=\"T_5282e_row4_col4\" class=\"data row4 col4\" >0.6834</td>\n",
       "      <td id=\"T_5282e_row4_col5\" class=\"data row4 col5\" >0.2296</td>\n",
       "      <td id=\"T_5282e_row4_col6\" class=\"data row4 col6\" >0.2548</td>\n",
       "    </tr>\n",
       "    <tr>\n",
       "      <th id=\"T_5282e_level0_row5\" class=\"row_heading level0 row5\" >5</th>\n",
       "      <td id=\"T_5282e_row5_col0\" class=\"data row5 col0\" >0.6092</td>\n",
       "      <td id=\"T_5282e_row5_col1\" class=\"data row5 col1\" >0.6479</td>\n",
       "      <td id=\"T_5282e_row5_col2\" class=\"data row5 col2\" >0.8380</td>\n",
       "      <td id=\"T_5282e_row5_col3\" class=\"data row5 col3\" >0.5749</td>\n",
       "      <td id=\"T_5282e_row5_col4\" class=\"data row5 col4\" >0.6820</td>\n",
       "      <td id=\"T_5282e_row5_col5\" class=\"data row5 col5\" >0.2184</td>\n",
       "      <td id=\"T_5282e_row5_col6\" class=\"data row5 col6\" >0.2456</td>\n",
       "    </tr>\n",
       "    <tr>\n",
       "      <th id=\"T_5282e_level0_row6\" class=\"row_heading level0 row6\" >6</th>\n",
       "      <td id=\"T_5282e_row6_col0\" class=\"data row6 col0\" >0.6104</td>\n",
       "      <td id=\"T_5282e_row6_col1\" class=\"data row6 col1\" >0.6450</td>\n",
       "      <td id=\"T_5282e_row6_col2\" class=\"data row6 col2\" >0.8342</td>\n",
       "      <td id=\"T_5282e_row6_col3\" class=\"data row6 col3\" >0.5763</td>\n",
       "      <td id=\"T_5282e_row6_col4\" class=\"data row6 col4\" >0.6816</td>\n",
       "      <td id=\"T_5282e_row6_col5\" class=\"data row6 col5\" >0.2209</td>\n",
       "      <td id=\"T_5282e_row6_col6\" class=\"data row6 col6\" >0.2470</td>\n",
       "    </tr>\n",
       "    <tr>\n",
       "      <th id=\"T_5282e_level0_row7\" class=\"row_heading level0 row7\" >7</th>\n",
       "      <td id=\"T_5282e_row7_col0\" class=\"data row7 col0\" >0.6091</td>\n",
       "      <td id=\"T_5282e_row7_col1\" class=\"data row7 col1\" >0.6495</td>\n",
       "      <td id=\"T_5282e_row7_col2\" class=\"data row7 col2\" >0.8230</td>\n",
       "      <td id=\"T_5282e_row7_col3\" class=\"data row7 col3\" >0.5764</td>\n",
       "      <td id=\"T_5282e_row7_col4\" class=\"data row7 col4\" >0.6780</td>\n",
       "      <td id=\"T_5282e_row7_col5\" class=\"data row7 col5\" >0.2182</td>\n",
       "      <td id=\"T_5282e_row7_col6\" class=\"data row7 col6\" >0.2414</td>\n",
       "    </tr>\n",
       "    <tr>\n",
       "      <th id=\"T_5282e_level0_row8\" class=\"row_heading level0 row8\" >8</th>\n",
       "      <td id=\"T_5282e_row8_col0\" class=\"data row8 col0\" >0.6079</td>\n",
       "      <td id=\"T_5282e_row8_col1\" class=\"data row8 col1\" >0.6489</td>\n",
       "      <td id=\"T_5282e_row8_col2\" class=\"data row8 col2\" >0.8163</td>\n",
       "      <td id=\"T_5282e_row8_col3\" class=\"data row8 col3\" >0.5762</td>\n",
       "      <td id=\"T_5282e_row8_col4\" class=\"data row8 col4\" >0.6755</td>\n",
       "      <td id=\"T_5282e_row8_col5\" class=\"data row8 col5\" >0.2159</td>\n",
       "      <td id=\"T_5282e_row8_col6\" class=\"data row8 col6\" >0.2375</td>\n",
       "    </tr>\n",
       "    <tr>\n",
       "      <th id=\"T_5282e_level0_row9\" class=\"row_heading level0 row9\" >9</th>\n",
       "      <td id=\"T_5282e_row9_col0\" class=\"data row9 col0\" >0.6080</td>\n",
       "      <td id=\"T_5282e_row9_col1\" class=\"data row9 col1\" >0.6467</td>\n",
       "      <td id=\"T_5282e_row9_col2\" class=\"data row9 col2\" >0.8304</td>\n",
       "      <td id=\"T_5282e_row9_col3\" class=\"data row9 col3\" >0.5748</td>\n",
       "      <td id=\"T_5282e_row9_col4\" class=\"data row9 col4\" >0.6793</td>\n",
       "      <td id=\"T_5282e_row9_col5\" class=\"data row9 col5\" >0.2161</td>\n",
       "      <td id=\"T_5282e_row9_col6\" class=\"data row9 col6\" >0.2413</td>\n",
       "    </tr>\n",
       "    <tr>\n",
       "      <th id=\"T_5282e_level0_row10\" class=\"row_heading level0 row10\" >Mean</th>\n",
       "      <td id=\"T_5282e_row10_col0\" class=\"data row10 col0\" >0.6103</td>\n",
       "      <td id=\"T_5282e_row10_col1\" class=\"data row10 col1\" >0.6474</td>\n",
       "      <td id=\"T_5282e_row10_col2\" class=\"data row10 col2\" >0.8294</td>\n",
       "      <td id=\"T_5282e_row10_col3\" class=\"data row10 col3\" >0.5767</td>\n",
       "      <td id=\"T_5282e_row10_col4\" class=\"data row10 col4\" >0.6803</td>\n",
       "      <td id=\"T_5282e_row10_col5\" class=\"data row10 col5\" >0.2205</td>\n",
       "      <td id=\"T_5282e_row10_col6\" class=\"data row10 col6\" >0.2454</td>\n",
       "    </tr>\n",
       "    <tr>\n",
       "      <th id=\"T_5282e_level0_row11\" class=\"row_heading level0 row11\" >Std</th>\n",
       "      <td id=\"T_5282e_row11_col0\" class=\"data row11 col0\" >0.0025</td>\n",
       "      <td id=\"T_5282e_row11_col1\" class=\"data row11 col1\" >0.0024</td>\n",
       "      <td id=\"T_5282e_row11_col2\" class=\"data row11 col2\" >0.0062</td>\n",
       "      <td id=\"T_5282e_row11_col3\" class=\"data row11 col3\" >0.0019</td>\n",
       "      <td id=\"T_5282e_row11_col4\" class=\"data row11 col4\" >0.0025</td>\n",
       "      <td id=\"T_5282e_row11_col5\" class=\"data row11 col5\" >0.0050</td>\n",
       "      <td id=\"T_5282e_row11_col6\" class=\"data row11 col6\" >0.0057</td>\n",
       "    </tr>\n",
       "  </tbody>\n",
       "</table>\n"
      ],
      "text/plain": [
       "<pandas.io.formats.style.Styler at 0x7f7e2c15d870>"
      ]
     },
     "metadata": {},
     "output_type": "display_data"
    },
    {
     "data": {
      "text/html": [],
      "text/plain": [
       "<IPython.core.display.HTML object>"
      ]
     },
     "metadata": {},
     "output_type": "display_data"
    }
   ],
   "source": [
    "et = create_model('et')"
   ]
  },
  {
   "cell_type": "code",
   "execution_count": 63,
   "metadata": {},
   "outputs": [
    {
     "data": {
      "text/html": [],
      "text/plain": [
       "<IPython.core.display.HTML object>"
      ]
     },
     "metadata": {},
     "output_type": "display_data"
    },
    {
     "data": {
      "image/png": "[encoded data removed]",
      "text/plain": [
       "<Figure size 800x550 with 1 Axes>"
      ]
     },
     "metadata": {},
     "output_type": "display_data"
    }
   ],
   "source": [
    "plot_model(et, plot = 'confusion_matrix')"
   ]
  },
  {
   "cell_type": "code",
   "execution_count": 64,
   "metadata": {},
   "outputs": [
    {
     "data": {
      "text/html": [],
      "text/plain": [
       "<IPython.core.display.HTML object>"
      ]
     },
     "metadata": {},
     "output_type": "display_data"
    },
    {
     "data": {
      "image/png": "[encoded data removed]",
      "text/plain": [
       "<Figure size 800x550 with 1 Axes>"
      ]
     },
     "metadata": {},
     "output_type": "display_data"
    }
   ],
   "source": [
    "plot_model(et, plot = 'error')"
   ]
  },
  {
   "cell_type": "code",
   "execution_count": 65,
   "metadata": {},
   "outputs": [
    {
     "data": {
      "text/html": [],
      "text/plain": [
       "<IPython.core.display.HTML object>"
      ]
     },
     "metadata": {},
     "output_type": "display_data"
    },
    {
     "data": {
      "text/html": [
       "<div>\n",
       "<style scoped>\n",
       "    .dataframe tbody tr th:only-of-type {\n",
       "        vertical-align: middle;\n",
       "    }\n",
       "\n",
       "    .dataframe tbody tr th {\n",
       "        vertical-align: top;\n",
       "    }\n",
       "\n",
       "    .dataframe thead th {\n",
       "        text-align: right;\n",
       "    }\n",
       "</style>\n",
       "<table border=\"1\" class=\"dataframe\">\n",
       "  <thead>\n",
       "    <tr style=\"text-align: right;\">\n",
       "      <th></th>\n",
       "      <th>Parameters</th>\n",
       "    </tr>\n",
       "  </thead>\n",
       "  <tbody>\n",
       "    <tr>\n",
       "      <th>bootstrap</th>\n",
       "      <td>False</td>\n",
       "    </tr>\n",
       "    <tr>\n",
       "      <th>ccp_alpha</th>\n",
       "      <td>0.0</td>\n",
       "    </tr>\n",
       "    <tr>\n",
       "      <th>class_weight</th>\n",
       "      <td>None</td>\n",
       "    </tr>\n",
       "    <tr>\n",
       "      <th>criterion</th>\n",
       "      <td>gini</td>\n",
       "    </tr>\n",
       "    <tr>\n",
       "      <th>max_depth</th>\n",
       "      <td>None</td>\n",
       "    </tr>\n",
       "    <tr>\n",
       "      <th>max_features</th>\n",
       "      <td>sqrt</td>\n",
       "    </tr>\n",
       "    <tr>\n",
       "      <th>max_leaf_nodes</th>\n",
       "      <td>None</td>\n",
       "    </tr>\n",
       "    <tr>\n",
       "      <th>max_samples</th>\n",
       "      <td>None</td>\n",
       "    </tr>\n",
       "    <tr>\n",
       "      <th>min_impurity_decrease</th>\n",
       "      <td>0.0</td>\n",
       "    </tr>\n",
       "    <tr>\n",
       "      <th>min_samples_leaf</th>\n",
       "      <td>1</td>\n",
       "    </tr>\n",
       "    <tr>\n",
       "      <th>min_samples_split</th>\n",
       "      <td>2</td>\n",
       "    </tr>\n",
       "    <tr>\n",
       "      <th>min_weight_fraction_leaf</th>\n",
       "      <td>0.0</td>\n",
       "    </tr>\n",
       "    <tr>\n",
       "      <th>n_estimators</th>\n",
       "      <td>100</td>\n",
       "    </tr>\n",
       "    <tr>\n",
       "      <th>n_jobs</th>\n",
       "      <td>-1</td>\n",
       "    </tr>\n",
       "    <tr>\n",
       "      <th>oob_score</th>\n",
       "      <td>False</td>\n",
       "    </tr>\n",
       "    <tr>\n",
       "      <th>random_state</th>\n",
       "      <td>7572</td>\n",
       "    </tr>\n",
       "    <tr>\n",
       "      <th>verbose</th>\n",
       "      <td>0</td>\n",
       "    </tr>\n",
       "    <tr>\n",
       "      <th>warm_start</th>\n",
       "      <td>False</td>\n",
       "    </tr>\n",
       "  </tbody>\n",
       "</table>\n",
       "</div>"
      ],
      "text/plain": [
       "                         Parameters\n",
       "bootstrap                     False\n",
       "ccp_alpha                       0.0\n",
       "class_weight                   None\n",
       "criterion                      gini\n",
       "max_depth                      None\n",
       "max_features                   sqrt\n",
       "max_leaf_nodes                 None\n",
       "max_samples                    None\n",
       "min_impurity_decrease           0.0\n",
       "min_samples_leaf                  1\n",
       "min_samples_split                 2\n",
       "min_weight_fraction_leaf        0.0\n",
       "n_estimators                    100\n",
       "n_jobs                           -1\n",
       "oob_score                     False\n",
       "random_state                   7572\n",
       "verbose                           0\n",
       "warm_start                    False"
      ]
     },
     "metadata": {},
     "output_type": "display_data"
    }
   ],
   "source": [
    "plot_model(et, plot = 'parameter')"
   ]
  },
  {
   "cell_type": "code",
   "execution_count": 66,
   "metadata": {},
   "outputs": [
    {
     "data": {
      "text/html": [
       "<style type=\"text/css\">\n",
       "</style>\n",
       "<table id=\"T_34dec\">\n",
       "  <thead>\n",
       "    <tr>\n",
       "      <th class=\"blank level0\" >&nbsp;</th>\n",
       "      <th id=\"T_34dec_level0_col0\" class=\"col_heading level0 col0\" >Model</th>\n",
       "      <th id=\"T_34dec_level0_col1\" class=\"col_heading level0 col1\" >Accuracy</th>\n",
       "      <th id=\"T_34dec_level0_col2\" class=\"col_heading level0 col2\" >AUC</th>\n",
       "      <th id=\"T_34dec_level0_col3\" class=\"col_heading level0 col3\" >Recall</th>\n",
       "      <th id=\"T_34dec_level0_col4\" class=\"col_heading level0 col4\" >Prec.</th>\n",
       "      <th id=\"T_34dec_level0_col5\" class=\"col_heading level0 col5\" >F1</th>\n",
       "      <th id=\"T_34dec_level0_col6\" class=\"col_heading level0 col6\" >Kappa</th>\n",
       "      <th id=\"T_34dec_level0_col7\" class=\"col_heading level0 col7\" >MCC</th>\n",
       "    </tr>\n",
       "  </thead>\n",
       "  <tbody>\n",
       "    <tr>\n",
       "      <th id=\"T_34dec_level0_row0\" class=\"row_heading level0 row0\" >0</th>\n",
       "      <td id=\"T_34dec_row0_col0\" class=\"data row0 col0\" >Extra Trees Classifier</td>\n",
       "      <td id=\"T_34dec_row0_col1\" class=\"data row0 col1\" >0.6084</td>\n",
       "      <td id=\"T_34dec_row0_col2\" class=\"data row0 col2\" >0.6411</td>\n",
       "      <td id=\"T_34dec_row0_col3\" class=\"data row0 col3\" >0.8248</td>\n",
       "      <td id=\"T_34dec_row0_col4\" class=\"data row0 col4\" >0.5757</td>\n",
       "      <td id=\"T_34dec_row0_col5\" class=\"data row0 col5\" >0.6781</td>\n",
       "      <td id=\"T_34dec_row0_col6\" class=\"data row0 col6\" >0.2169</td>\n",
       "      <td id=\"T_34dec_row0_col7\" class=\"data row0 col7\" >0.2406</td>\n",
       "    </tr>\n",
       "  </tbody>\n",
       "</table>\n"
      ],
      "text/plain": [
       "<pandas.io.formats.style.Styler at 0x7f7d914782b0>"
      ]
     },
     "metadata": {},
     "output_type": "display_data"
    }
   ],
   "source": [
    "et_val_pred = predict_model(et, data=val)"
   ]
  },
  {
   "cell_type": "code",
   "execution_count": 67,
   "metadata": {},
   "outputs": [
    {
     "data": {
      "text/html": [],
      "text/plain": [
       "<IPython.core.display.HTML object>"
      ]
     },
     "metadata": {},
     "output_type": "display_data"
    }
   ],
   "source": [
    "et_val_pred = predict_model(et, data=embval)"
   ]
  },
  {
   "cell_type": "code",
   "execution_count": 68,
   "metadata": {},
   "outputs": [
    {
     "name": "stdout",
     "output_type": "stream",
     "text": [
      "Transformation Pipeline and Model Successfully Saved\n"
     ]
    },
    {
     "data": {
      "text/plain": [
       "(Pipeline(memory=FastMemory(location=/tmp/joblib),\n",
       "          steps=[('numerical_imputer',\n",
       "                  TransformerWrapper(exclude=None,\n",
       "                                     include=['http://semanticscience.org/resource/SIO_000281',\n",
       "                                              'http://semanticscience.org/resource/SIO_000628',\n",
       "                                              'http://semanticscience.org/resource/SIO_001279',\n",
       "                                              'http://www.semanticweb.org/needed-terms#001',\n",
       "                                              'http://www.semanticweb.org/needed-term...\n",
       "                  ExtraTreesClassifier(bootstrap=False, ccp_alpha=0.0,\n",
       "                                       class_weight=None, criterion='gini',\n",
       "                                       max_depth=None, max_features='sqrt',\n",
       "                                       max_leaf_nodes=None, max_samples=None,\n",
       "                                       min_impurity_decrease=0.0,\n",
       "                                       min_samples_leaf=1, min_samples_split=2,\n",
       "                                       min_weight_fraction_leaf=0.0,\n",
       "                                       n_estimators=100, n_jobs=-1,\n",
       "                                       oob_score=False, random_state=7572,\n",
       "                                       verbose=0, warm_start=False))],\n",
       "          verbose=False),\n",
       " 'models_classif/convkb/binary_scores_val/et.pkl')"
      ]
     },
     "execution_count": 68,
     "metadata": {},
     "output_type": "execute_result"
    }
   ],
   "source": [
    "save_model(et, 'models_classif/convkb/binary_scores_val/et')"
   ]
  },
  {
   "cell_type": "markdown",
   "metadata": {},
   "source": [
    "# Light Gradient Boosting Machine"
   ]
  },
  {
   "cell_type": "code",
   "execution_count": 69,
   "metadata": {},
   "outputs": [
    {
     "data": {
      "text/html": [],
      "text/plain": [
       "<IPython.core.display.HTML object>"
      ]
     },
     "metadata": {},
     "output_type": "display_data"
    },
    {
     "data": {
      "text/html": [
       "<style type=\"text/css\">\n",
       "#T_0a475_row10_col0, #T_0a475_row10_col1, #T_0a475_row10_col2, #T_0a475_row10_col3, #T_0a475_row10_col4, #T_0a475_row10_col5, #T_0a475_row10_col6 {\n",
       "  background: yellow;\n",
       "}\n",
       "</style>\n",
       "<table id=\"T_0a475\">\n",
       "  <thead>\n",
       "    <tr>\n",
       "      <th class=\"blank level0\" >&nbsp;</th>\n",
       "      <th id=\"T_0a475_level0_col0\" class=\"col_heading level0 col0\" >Accuracy</th>\n",
       "      <th id=\"T_0a475_level0_col1\" class=\"col_heading level0 col1\" >AUC</th>\n",
       "      <th id=\"T_0a475_level0_col2\" class=\"col_heading level0 col2\" >Recall</th>\n",
       "      <th id=\"T_0a475_level0_col3\" class=\"col_heading level0 col3\" >Prec.</th>\n",
       "      <th id=\"T_0a475_level0_col4\" class=\"col_heading level0 col4\" >F1</th>\n",
       "      <th id=\"T_0a475_level0_col5\" class=\"col_heading level0 col5\" >Kappa</th>\n",
       "      <th id=\"T_0a475_level0_col6\" class=\"col_heading level0 col6\" >MCC</th>\n",
       "    </tr>\n",
       "    <tr>\n",
       "      <th class=\"index_name level0\" >Fold</th>\n",
       "      <th class=\"blank col0\" >&nbsp;</th>\n",
       "      <th class=\"blank col1\" >&nbsp;</th>\n",
       "      <th class=\"blank col2\" >&nbsp;</th>\n",
       "      <th class=\"blank col3\" >&nbsp;</th>\n",
       "      <th class=\"blank col4\" >&nbsp;</th>\n",
       "      <th class=\"blank col5\" >&nbsp;</th>\n",
       "      <th class=\"blank col6\" >&nbsp;</th>\n",
       "    </tr>\n",
       "  </thead>\n",
       "  <tbody>\n",
       "    <tr>\n",
       "      <th id=\"T_0a475_level0_row0\" class=\"row_heading level0 row0\" >0</th>\n",
       "      <td id=\"T_0a475_row0_col0\" class=\"data row0 col0\" >0.7134</td>\n",
       "      <td id=\"T_0a475_row0_col1\" class=\"data row0 col1\" >0.7873</td>\n",
       "      <td id=\"T_0a475_row0_col2\" class=\"data row0 col2\" >0.8252</td>\n",
       "      <td id=\"T_0a475_row0_col3\" class=\"data row0 col3\" >0.6744</td>\n",
       "      <td id=\"T_0a475_row0_col4\" class=\"data row0 col4\" >0.7422</td>\n",
       "      <td id=\"T_0a475_row0_col5\" class=\"data row0 col5\" >0.4269</td>\n",
       "      <td id=\"T_0a475_row0_col6\" class=\"data row0 col6\" >0.4379</td>\n",
       "    </tr>\n",
       "    <tr>\n",
       "      <th id=\"T_0a475_level0_row1\" class=\"row_heading level0 row1\" >1</th>\n",
       "      <td id=\"T_0a475_row1_col0\" class=\"data row1 col0\" >0.7204</td>\n",
       "      <td id=\"T_0a475_row1_col1\" class=\"data row1 col1\" >0.7887</td>\n",
       "      <td id=\"T_0a475_row1_col2\" class=\"data row1 col2\" >0.8330</td>\n",
       "      <td id=\"T_0a475_row1_col3\" class=\"data row1 col3\" >0.6799</td>\n",
       "      <td id=\"T_0a475_row1_col4\" class=\"data row1 col4\" >0.7487</td>\n",
       "      <td id=\"T_0a475_row1_col5\" class=\"data row1 col5\" >0.4407</td>\n",
       "      <td id=\"T_0a475_row1_col6\" class=\"data row1 col6\" >0.4524</td>\n",
       "    </tr>\n",
       "    <tr>\n",
       "      <th id=\"T_0a475_level0_row2\" class=\"row_heading level0 row2\" >2</th>\n",
       "      <td id=\"T_0a475_row2_col0\" class=\"data row2 col0\" >0.7259</td>\n",
       "      <td id=\"T_0a475_row2_col1\" class=\"data row2 col1\" >0.7960</td>\n",
       "      <td id=\"T_0a475_row2_col2\" class=\"data row2 col2\" >0.8305</td>\n",
       "      <td id=\"T_0a475_row2_col3\" class=\"data row2 col3\" >0.6869</td>\n",
       "      <td id=\"T_0a475_row2_col4\" class=\"data row2 col4\" >0.7519</td>\n",
       "      <td id=\"T_0a475_row2_col5\" class=\"data row2 col5\" >0.4518</td>\n",
       "      <td id=\"T_0a475_row2_col6\" class=\"data row2 col6\" >0.4621</td>\n",
       "    </tr>\n",
       "    <tr>\n",
       "      <th id=\"T_0a475_level0_row3\" class=\"row_heading level0 row3\" >3</th>\n",
       "      <td id=\"T_0a475_row3_col0\" class=\"data row3 col0\" >0.7234</td>\n",
       "      <td id=\"T_0a475_row3_col1\" class=\"data row3 col1\" >0.7892</td>\n",
       "      <td id=\"T_0a475_row3_col2\" class=\"data row3 col2\" >0.8308</td>\n",
       "      <td id=\"T_0a475_row3_col3\" class=\"data row3 col3\" >0.6839</td>\n",
       "      <td id=\"T_0a475_row3_col4\" class=\"data row3 col4\" >0.7502</td>\n",
       "      <td id=\"T_0a475_row3_col5\" class=\"data row3 col5\" >0.4468</td>\n",
       "      <td id=\"T_0a475_row3_col6\" class=\"data row3 col6\" >0.4575</td>\n",
       "    </tr>\n",
       "    <tr>\n",
       "      <th id=\"T_0a475_level0_row4\" class=\"row_heading level0 row4\" >4</th>\n",
       "      <td id=\"T_0a475_row4_col0\" class=\"data row4 col0\" >0.7189</td>\n",
       "      <td id=\"T_0a475_row4_col1\" class=\"data row4 col1\" >0.7873</td>\n",
       "      <td id=\"T_0a475_row4_col2\" class=\"data row4 col2\" >0.8280</td>\n",
       "      <td id=\"T_0a475_row4_col3\" class=\"data row4 col3\" >0.6797</td>\n",
       "      <td id=\"T_0a475_row4_col4\" class=\"data row4 col4\" >0.7466</td>\n",
       "      <td id=\"T_0a475_row4_col5\" class=\"data row4 col5\" >0.4378</td>\n",
       "      <td id=\"T_0a475_row4_col6\" class=\"data row4 col6\" >0.4486</td>\n",
       "    </tr>\n",
       "    <tr>\n",
       "      <th id=\"T_0a475_level0_row5\" class=\"row_heading level0 row5\" >5</th>\n",
       "      <td id=\"T_0a475_row5_col0\" class=\"data row5 col0\" >0.7228</td>\n",
       "      <td id=\"T_0a475_row5_col1\" class=\"data row5 col1\" >0.7933</td>\n",
       "      <td id=\"T_0a475_row5_col2\" class=\"data row5 col2\" >0.8343</td>\n",
       "      <td id=\"T_0a475_row5_col3\" class=\"data row5 col3\" >0.6821</td>\n",
       "      <td id=\"T_0a475_row5_col4\" class=\"data row5 col4\" >0.7506</td>\n",
       "      <td id=\"T_0a475_row5_col5\" class=\"data row5 col5\" >0.4455</td>\n",
       "      <td id=\"T_0a475_row5_col6\" class=\"data row5 col6\" >0.4570</td>\n",
       "    </tr>\n",
       "    <tr>\n",
       "      <th id=\"T_0a475_level0_row6\" class=\"row_heading level0 row6\" >6</th>\n",
       "      <td id=\"T_0a475_row6_col0\" class=\"data row6 col0\" >0.7154</td>\n",
       "      <td id=\"T_0a475_row6_col1\" class=\"data row6 col1\" >0.7875</td>\n",
       "      <td id=\"T_0a475_row6_col2\" class=\"data row6 col2\" >0.8283</td>\n",
       "      <td id=\"T_0a475_row6_col3\" class=\"data row6 col3\" >0.6758</td>\n",
       "      <td id=\"T_0a475_row6_col4\" class=\"data row6 col4\" >0.7443</td>\n",
       "      <td id=\"T_0a475_row6_col5\" class=\"data row6 col5\" >0.4309</td>\n",
       "      <td id=\"T_0a475_row6_col6\" class=\"data row6 col6\" >0.4423</td>\n",
       "    </tr>\n",
       "    <tr>\n",
       "      <th id=\"T_0a475_level0_row7\" class=\"row_heading level0 row7\" >7</th>\n",
       "      <td id=\"T_0a475_row7_col0\" class=\"data row7 col0\" >0.7209</td>\n",
       "      <td id=\"T_0a475_row7_col1\" class=\"data row7 col1\" >0.7894</td>\n",
       "      <td id=\"T_0a475_row7_col2\" class=\"data row7 col2\" >0.8237</td>\n",
       "      <td id=\"T_0a475_row7_col3\" class=\"data row7 col3\" >0.6833</td>\n",
       "      <td id=\"T_0a475_row7_col4\" class=\"data row7 col4\" >0.7469</td>\n",
       "      <td id=\"T_0a475_row7_col5\" class=\"data row7 col5\" >0.4419</td>\n",
       "      <td id=\"T_0a475_row7_col6\" class=\"data row7 col6\" >0.4515</td>\n",
       "    </tr>\n",
       "    <tr>\n",
       "      <th id=\"T_0a475_level0_row8\" class=\"row_heading level0 row8\" >8</th>\n",
       "      <td id=\"T_0a475_row8_col0\" class=\"data row8 col0\" >0.7212</td>\n",
       "      <td id=\"T_0a475_row8_col1\" class=\"data row8 col1\" >0.7894</td>\n",
       "      <td id=\"T_0a475_row8_col2\" class=\"data row8 col2\" >0.8328</td>\n",
       "      <td id=\"T_0a475_row8_col3\" class=\"data row8 col3\" >0.6808</td>\n",
       "      <td id=\"T_0a475_row8_col4\" class=\"data row8 col4\" >0.7492</td>\n",
       "      <td id=\"T_0a475_row8_col5\" class=\"data row8 col5\" >0.4424</td>\n",
       "      <td id=\"T_0a475_row8_col6\" class=\"data row8 col6\" >0.4539</td>\n",
       "    </tr>\n",
       "    <tr>\n",
       "      <th id=\"T_0a475_level0_row9\" class=\"row_heading level0 row9\" >9</th>\n",
       "      <td id=\"T_0a475_row9_col0\" class=\"data row9 col0\" >0.7204</td>\n",
       "      <td id=\"T_0a475_row9_col1\" class=\"data row9 col1\" >0.7908</td>\n",
       "      <td id=\"T_0a475_row9_col2\" class=\"data row9 col2\" >0.8251</td>\n",
       "      <td id=\"T_0a475_row9_col3\" class=\"data row9 col3\" >0.6822</td>\n",
       "      <td id=\"T_0a475_row9_col4\" class=\"data row9 col4\" >0.7469</td>\n",
       "      <td id=\"T_0a475_row9_col5\" class=\"data row9 col5\" >0.4407</td>\n",
       "      <td id=\"T_0a475_row9_col6\" class=\"data row9 col6\" >0.4507</td>\n",
       "    </tr>\n",
       "    <tr>\n",
       "      <th id=\"T_0a475_level0_row10\" class=\"row_heading level0 row10\" >Mean</th>\n",
       "      <td id=\"T_0a475_row10_col0\" class=\"data row10 col0\" >0.7203</td>\n",
       "      <td id=\"T_0a475_row10_col1\" class=\"data row10 col1\" >0.7899</td>\n",
       "      <td id=\"T_0a475_row10_col2\" class=\"data row10 col2\" >0.8292</td>\n",
       "      <td id=\"T_0a475_row10_col3\" class=\"data row10 col3\" >0.6809</td>\n",
       "      <td id=\"T_0a475_row10_col4\" class=\"data row10 col4\" >0.7477</td>\n",
       "      <td id=\"T_0a475_row10_col5\" class=\"data row10 col5\" >0.4406</td>\n",
       "      <td id=\"T_0a475_row10_col6\" class=\"data row10 col6\" >0.4514</td>\n",
       "    </tr>\n",
       "    <tr>\n",
       "      <th id=\"T_0a475_level0_row11\" class=\"row_heading level0 row11\" >Std</th>\n",
       "      <td id=\"T_0a475_row11_col0\" class=\"data row11 col0\" >0.0035</td>\n",
       "      <td id=\"T_0a475_row11_col1\" class=\"data row11 col1\" >0.0027</td>\n",
       "      <td id=\"T_0a475_row11_col2\" class=\"data row11 col2\" >0.0035</td>\n",
       "      <td id=\"T_0a475_row11_col3\" class=\"data row11 col3\" >0.0035</td>\n",
       "      <td id=\"T_0a475_row11_col4\" class=\"data row11 col4\" >0.0028</td>\n",
       "      <td id=\"T_0a475_row11_col5\" class=\"data row11 col5\" >0.0070</td>\n",
       "      <td id=\"T_0a475_row11_col6\" class=\"data row11 col6\" >0.0068</td>\n",
       "    </tr>\n",
       "  </tbody>\n",
       "</table>\n"
      ],
      "text/plain": [
       "<pandas.io.formats.style.Styler at 0x7f7eab77f5b0>"
      ]
     },
     "metadata": {},
     "output_type": "display_data"
    },
    {
     "data": {
      "text/html": [],
      "text/plain": [
       "<IPython.core.display.HTML object>"
      ]
     },
     "metadata": {},
     "output_type": "display_data"
    }
   ],
   "source": [
    "lightgbm = create_model('lightgbm')"
   ]
  },
  {
   "cell_type": "code",
   "execution_count": 70,
   "metadata": {},
   "outputs": [
    {
     "data": {
      "text/html": [],
      "text/plain": [
       "<IPython.core.display.HTML object>"
      ]
     },
     "metadata": {},
     "output_type": "display_data"
    },
    {
     "data": {
      "image/png": "[encoded data removed]",
      "text/plain": [
       "<Figure size 800x550 with 1 Axes>"
      ]
     },
     "metadata": {},
     "output_type": "display_data"
    }
   ],
   "source": [
    "plot_model(lightgbm, plot = 'confusion_matrix')"
   ]
  },
  {
   "cell_type": "code",
   "execution_count": 71,
   "metadata": {},
   "outputs": [
    {
     "data": {
      "text/html": [],
      "text/plain": [
       "<IPython.core.display.HTML object>"
      ]
     },
     "metadata": {},
     "output_type": "display_data"
    },
    {
     "data": {
      "image/png": "[encoded data removed]",
      "text/plain": [
       "<Figure size 800x550 with 1 Axes>"
      ]
     },
     "metadata": {},
     "output_type": "display_data"
    }
   ],
   "source": [
    "plot_model(lightgbm, plot = 'error')"
   ]
  },
  {
   "cell_type": "code",
   "execution_count": 72,
   "metadata": {},
   "outputs": [
    {
     "data": {
      "text/html": [],
      "text/plain": [
       "<IPython.core.display.HTML object>"
      ]
     },
     "metadata": {},
     "output_type": "display_data"
    },
    {
     "data": {
      "text/html": [
       "<div>\n",
       "<style scoped>\n",
       "    .dataframe tbody tr th:only-of-type {\n",
       "        vertical-align: middle;\n",
       "    }\n",
       "\n",
       "    .dataframe tbody tr th {\n",
       "        vertical-align: top;\n",
       "    }\n",
       "\n",
       "    .dataframe thead th {\n",
       "        text-align: right;\n",
       "    }\n",
       "</style>\n",
       "<table border=\"1\" class=\"dataframe\">\n",
       "  <thead>\n",
       "    <tr style=\"text-align: right;\">\n",
       "      <th></th>\n",
       "      <th>Parameters</th>\n",
       "    </tr>\n",
       "  </thead>\n",
       "  <tbody>\n",
       "    <tr>\n",
       "      <th>boosting_type</th>\n",
       "      <td>gbdt</td>\n",
       "    </tr>\n",
       "    <tr>\n",
       "      <th>class_weight</th>\n",
       "      <td>None</td>\n",
       "    </tr>\n",
       "    <tr>\n",
       "      <th>colsample_bytree</th>\n",
       "      <td>1.0</td>\n",
       "    </tr>\n",
       "    <tr>\n",
       "      <th>importance_type</th>\n",
       "      <td>split</td>\n",
       "    </tr>\n",
       "    <tr>\n",
       "      <th>learning_rate</th>\n",
       "      <td>0.1</td>\n",
       "    </tr>\n",
       "    <tr>\n",
       "      <th>max_depth</th>\n",
       "      <td>-1</td>\n",
       "    </tr>\n",
       "    <tr>\n",
       "      <th>min_child_samples</th>\n",
       "      <td>20</td>\n",
       "    </tr>\n",
       "    <tr>\n",
       "      <th>min_child_weight</th>\n",
       "      <td>0.001</td>\n",
       "    </tr>\n",
       "    <tr>\n",
       "      <th>min_split_gain</th>\n",
       "      <td>0.0</td>\n",
       "    </tr>\n",
       "    <tr>\n",
       "      <th>n_estimators</th>\n",
       "      <td>100</td>\n",
       "    </tr>\n",
       "    <tr>\n",
       "      <th>n_jobs</th>\n",
       "      <td>-1</td>\n",
       "    </tr>\n",
       "    <tr>\n",
       "      <th>num_leaves</th>\n",
       "      <td>31</td>\n",
       "    </tr>\n",
       "    <tr>\n",
       "      <th>objective</th>\n",
       "      <td>None</td>\n",
       "    </tr>\n",
       "    <tr>\n",
       "      <th>random_state</th>\n",
       "      <td>7572</td>\n",
       "    </tr>\n",
       "    <tr>\n",
       "      <th>reg_alpha</th>\n",
       "      <td>0.0</td>\n",
       "    </tr>\n",
       "    <tr>\n",
       "      <th>reg_lambda</th>\n",
       "      <td>0.0</td>\n",
       "    </tr>\n",
       "    <tr>\n",
       "      <th>silent</th>\n",
       "      <td>warn</td>\n",
       "    </tr>\n",
       "    <tr>\n",
       "      <th>subsample</th>\n",
       "      <td>1.0</td>\n",
       "    </tr>\n",
       "    <tr>\n",
       "      <th>subsample_for_bin</th>\n",
       "      <td>200000</td>\n",
       "    </tr>\n",
       "    <tr>\n",
       "      <th>subsample_freq</th>\n",
       "      <td>0</td>\n",
       "    </tr>\n",
       "  </tbody>\n",
       "</table>\n",
       "</div>"
      ],
      "text/plain": [
       "                  Parameters\n",
       "boosting_type           gbdt\n",
       "class_weight            None\n",
       "colsample_bytree         1.0\n",
       "importance_type        split\n",
       "learning_rate            0.1\n",
       "max_depth                 -1\n",
       "min_child_samples         20\n",
       "min_child_weight       0.001\n",
       "min_split_gain           0.0\n",
       "n_estimators             100\n",
       "n_jobs                    -1\n",
       "num_leaves                31\n",
       "objective               None\n",
       "random_state            7572\n",
       "reg_alpha                0.0\n",
       "reg_lambda               0.0\n",
       "silent                  warn\n",
       "subsample                1.0\n",
       "subsample_for_bin     200000\n",
       "subsample_freq             0"
      ]
     },
     "metadata": {},
     "output_type": "display_data"
    }
   ],
   "source": [
    "plot_model(lightgbm, plot = 'parameter')"
   ]
  },
  {
   "cell_type": "code",
   "execution_count": 73,
   "metadata": {},
   "outputs": [
    {
     "data": {
      "text/html": [
       "<style type=\"text/css\">\n",
       "</style>\n",
       "<table id=\"T_76b3e\">\n",
       "  <thead>\n",
       "    <tr>\n",
       "      <th class=\"blank level0\" >&nbsp;</th>\n",
       "      <th id=\"T_76b3e_level0_col0\" class=\"col_heading level0 col0\" >Model</th>\n",
       "      <th id=\"T_76b3e_level0_col1\" class=\"col_heading level0 col1\" >Accuracy</th>\n",
       "      <th id=\"T_76b3e_level0_col2\" class=\"col_heading level0 col2\" >AUC</th>\n",
       "      <th id=\"T_76b3e_level0_col3\" class=\"col_heading level0 col3\" >Recall</th>\n",
       "      <th id=\"T_76b3e_level0_col4\" class=\"col_heading level0 col4\" >Prec.</th>\n",
       "      <th id=\"T_76b3e_level0_col5\" class=\"col_heading level0 col5\" >F1</th>\n",
       "      <th id=\"T_76b3e_level0_col6\" class=\"col_heading level0 col6\" >Kappa</th>\n",
       "      <th id=\"T_76b3e_level0_col7\" class=\"col_heading level0 col7\" >MCC</th>\n",
       "    </tr>\n",
       "  </thead>\n",
       "  <tbody>\n",
       "    <tr>\n",
       "      <th id=\"T_76b3e_level0_row0\" class=\"row_heading level0 row0\" >0</th>\n",
       "      <td id=\"T_76b3e_row0_col0\" class=\"data row0 col0\" >Light Gradient Boosting Machine</td>\n",
       "      <td id=\"T_76b3e_row0_col1\" class=\"data row0 col1\" >0.7130</td>\n",
       "      <td id=\"T_76b3e_row0_col2\" class=\"data row0 col2\" >0.7775</td>\n",
       "      <td id=\"T_76b3e_row0_col3\" class=\"data row0 col3\" >0.8107</td>\n",
       "      <td id=\"T_76b3e_row0_col4\" class=\"data row0 col4\" >0.6782</td>\n",
       "      <td id=\"T_76b3e_row0_col5\" class=\"data row0 col5\" >0.7386</td>\n",
       "      <td id=\"T_76b3e_row0_col6\" class=\"data row0 col6\" >0.4261</td>\n",
       "      <td id=\"T_76b3e_row0_col7\" class=\"data row0 col7\" >0.4344</td>\n",
       "    </tr>\n",
       "  </tbody>\n",
       "</table>\n"
      ],
      "text/plain": [
       "<pandas.io.formats.style.Styler at 0x7f7d74aa9ba0>"
      ]
     },
     "metadata": {},
     "output_type": "display_data"
    }
   ],
   "source": [
    "lgbm_val_pred = predict_model(lightgbm, data=val)"
   ]
  },
  {
   "cell_type": "code",
   "execution_count": 74,
   "metadata": {},
   "outputs": [
    {
     "data": {
      "text/html": [],
      "text/plain": [
       "<IPython.core.display.HTML object>"
      ]
     },
     "metadata": {},
     "output_type": "display_data"
    }
   ],
   "source": [
    "lgbm_val_pred = predict_model(lightgbm, data=embval)"
   ]
  },
  {
   "cell_type": "code",
   "execution_count": 75,
   "metadata": {},
   "outputs": [
    {
     "name": "stdout",
     "output_type": "stream",
     "text": [
      "Transformation Pipeline and Model Successfully Saved\n"
     ]
    },
    {
     "data": {
      "text/plain": [
       "(Pipeline(memory=FastMemory(location=/tmp/joblib),\n",
       "          steps=[('numerical_imputer',\n",
       "                  TransformerWrapper(exclude=None,\n",
       "                                     include=['http://semanticscience.org/resource/SIO_000281',\n",
       "                                              'http://semanticscience.org/resource/SIO_000628',\n",
       "                                              'http://semanticscience.org/resource/SIO_001279',\n",
       "                                              'http://www.semanticweb.org/needed-terms#001',\n",
       "                                              'http://www.semanticweb.org/needed-term...\n",
       "                  LGBMClassifier(boosting_type='gbdt', class_weight=None,\n",
       "                                 colsample_bytree=1.0, importance_type='split',\n",
       "                                 learning_rate=0.1, max_depth=-1,\n",
       "                                 min_child_samples=20, min_child_weight=0.001,\n",
       "                                 min_split_gain=0.0, n_estimators=100, n_jobs=-1,\n",
       "                                 num_leaves=31, objective=None,\n",
       "                                 random_state=7572, reg_alpha=0.0,\n",
       "                                 reg_lambda=0.0, silent='warn', subsample=1.0,\n",
       "                                 subsample_for_bin=200000, subsample_freq=0))],\n",
       "          verbose=False),\n",
       " 'models_classif/convkb/binary_scores_val/lightgbm.pkl')"
      ]
     },
     "execution_count": 75,
     "metadata": {},
     "output_type": "execute_result"
    }
   ],
   "source": [
    "save_model(lightgbm, 'models_classif/convkb/binary_scores_val/lightgbm')"
   ]
  },
  {
   "cell_type": "markdown",
   "metadata": {
    "tags": []
   },
   "source": [
    "# MLP Classifier"
   ]
  },
  {
   "cell_type": "code",
   "execution_count": 76,
   "metadata": {},
   "outputs": [
    {
     "data": {
      "text/html": [],
      "text/plain": [
       "<IPython.core.display.HTML object>"
      ]
     },
     "metadata": {},
     "output_type": "display_data"
    },
    {
     "data": {
      "text/html": [
       "<style type=\"text/css\">\n",
       "#T_9c314_row10_col0, #T_9c314_row10_col1, #T_9c314_row10_col2, #T_9c314_row10_col3, #T_9c314_row10_col4, #T_9c314_row10_col5, #T_9c314_row10_col6 {\n",
       "  background: yellow;\n",
       "}\n",
       "</style>\n",
       "<table id=\"T_9c314\">\n",
       "  <thead>\n",
       "    <tr>\n",
       "      <th class=\"blank level0\" >&nbsp;</th>\n",
       "      <th id=\"T_9c314_level0_col0\" class=\"col_heading level0 col0\" >Accuracy</th>\n",
       "      <th id=\"T_9c314_level0_col1\" class=\"col_heading level0 col1\" >AUC</th>\n",
       "      <th id=\"T_9c314_level0_col2\" class=\"col_heading level0 col2\" >Recall</th>\n",
       "      <th id=\"T_9c314_level0_col3\" class=\"col_heading level0 col3\" >Prec.</th>\n",
       "      <th id=\"T_9c314_level0_col4\" class=\"col_heading level0 col4\" >F1</th>\n",
       "      <th id=\"T_9c314_level0_col5\" class=\"col_heading level0 col5\" >Kappa</th>\n",
       "      <th id=\"T_9c314_level0_col6\" class=\"col_heading level0 col6\" >MCC</th>\n",
       "    </tr>\n",
       "    <tr>\n",
       "      <th class=\"index_name level0\" >Fold</th>\n",
       "      <th class=\"blank col0\" >&nbsp;</th>\n",
       "      <th class=\"blank col1\" >&nbsp;</th>\n",
       "      <th class=\"blank col2\" >&nbsp;</th>\n",
       "      <th class=\"blank col3\" >&nbsp;</th>\n",
       "      <th class=\"blank col4\" >&nbsp;</th>\n",
       "      <th class=\"blank col5\" >&nbsp;</th>\n",
       "      <th class=\"blank col6\" >&nbsp;</th>\n",
       "    </tr>\n",
       "  </thead>\n",
       "  <tbody>\n",
       "    <tr>\n",
       "      <th id=\"T_9c314_level0_row0\" class=\"row_heading level0 row0\" >0</th>\n",
       "      <td id=\"T_9c314_row0_col0\" class=\"data row0 col0\" >0.5712</td>\n",
       "      <td id=\"T_9c314_row0_col1\" class=\"data row0 col1\" >0.5907</td>\n",
       "      <td id=\"T_9c314_row0_col2\" class=\"data row0 col2\" >0.9391</td>\n",
       "      <td id=\"T_9c314_row0_col3\" class=\"data row0 col3\" >0.5410</td>\n",
       "      <td id=\"T_9c314_row0_col4\" class=\"data row0 col4\" >0.6865</td>\n",
       "      <td id=\"T_9c314_row0_col5\" class=\"data row0 col5\" >0.1423</td>\n",
       "      <td id=\"T_9c314_row0_col6\" class=\"data row0 col6\" >0.2102</td>\n",
       "    </tr>\n",
       "    <tr>\n",
       "      <th id=\"T_9c314_level0_row1\" class=\"row_heading level0 row1\" >1</th>\n",
       "      <td id=\"T_9c314_row1_col0\" class=\"data row1 col0\" >0.5729</td>\n",
       "      <td id=\"T_9c314_row1_col1\" class=\"data row1 col1\" >0.5924</td>\n",
       "      <td id=\"T_9c314_row1_col2\" class=\"data row1 col2\" >0.9436</td>\n",
       "      <td id=\"T_9c314_row1_col3\" class=\"data row1 col3\" >0.5418</td>\n",
       "      <td id=\"T_9c314_row1_col4\" class=\"data row1 col4\" >0.6884</td>\n",
       "      <td id=\"T_9c314_row1_col5\" class=\"data row1 col5\" >0.1457</td>\n",
       "      <td id=\"T_9c314_row1_col6\" class=\"data row1 col6\" >0.2172</td>\n",
       "    </tr>\n",
       "    <tr>\n",
       "      <th id=\"T_9c314_level0_row2\" class=\"row_heading level0 row2\" >2</th>\n",
       "      <td id=\"T_9c314_row2_col0\" class=\"data row2 col0\" >0.5756</td>\n",
       "      <td id=\"T_9c314_row2_col1\" class=\"data row2 col1\" >0.5990</td>\n",
       "      <td id=\"T_9c314_row2_col2\" class=\"data row2 col2\" >0.9529</td>\n",
       "      <td id=\"T_9c314_row2_col3\" class=\"data row2 col3\" >0.5431</td>\n",
       "      <td id=\"T_9c314_row2_col4\" class=\"data row2 col4\" >0.6919</td>\n",
       "      <td id=\"T_9c314_row2_col5\" class=\"data row2 col5\" >0.1512</td>\n",
       "      <td id=\"T_9c314_row2_col6\" class=\"data row2 col6\" >0.2304</td>\n",
       "    </tr>\n",
       "    <tr>\n",
       "      <th id=\"T_9c314_level0_row3\" class=\"row_heading level0 row3\" >3</th>\n",
       "      <td id=\"T_9c314_row3_col0\" class=\"data row3 col0\" >0.5791</td>\n",
       "      <td id=\"T_9c314_row3_col1\" class=\"data row3 col1\" >0.5966</td>\n",
       "      <td id=\"T_9c314_row3_col2\" class=\"data row3 col2\" >0.9244</td>\n",
       "      <td id=\"T_9c314_row3_col3\" class=\"data row3 col3\" >0.5468</td>\n",
       "      <td id=\"T_9c314_row3_col4\" class=\"data row3 col4\" >0.6872</td>\n",
       "      <td id=\"T_9c314_row3_col5\" class=\"data row3 col5\" >0.1583</td>\n",
       "      <td id=\"T_9c314_row3_col6\" class=\"data row3 col6\" >0.2188</td>\n",
       "    </tr>\n",
       "    <tr>\n",
       "      <th id=\"T_9c314_level0_row4\" class=\"row_heading level0 row4\" >4</th>\n",
       "      <td id=\"T_9c314_row4_col0\" class=\"data row4 col0\" >0.5870</td>\n",
       "      <td id=\"T_9c314_row4_col1\" class=\"data row4 col1\" >0.6042</td>\n",
       "      <td id=\"T_9c314_row4_col2\" class=\"data row4 col2\" >0.8945</td>\n",
       "      <td id=\"T_9c314_row4_col3\" class=\"data row4 col3\" >0.5539</td>\n",
       "      <td id=\"T_9c314_row4_col4\" class=\"data row4 col4\" >0.6842</td>\n",
       "      <td id=\"T_9c314_row4_col5\" class=\"data row4 col5\" >0.1741</td>\n",
       "      <td id=\"T_9c314_row4_col6\" class=\"data row4 col6\" >0.2207</td>\n",
       "    </tr>\n",
       "    <tr>\n",
       "      <th id=\"T_9c314_level0_row5\" class=\"row_heading level0 row5\" >5</th>\n",
       "      <td id=\"T_9c314_row5_col0\" class=\"data row5 col0\" >0.5803</td>\n",
       "      <td id=\"T_9c314_row5_col1\" class=\"data row5 col1\" >0.5962</td>\n",
       "      <td id=\"T_9c314_row5_col2\" class=\"data row5 col2\" >0.9201</td>\n",
       "      <td id=\"T_9c314_row5_col3\" class=\"data row5 col3\" >0.5478</td>\n",
       "      <td id=\"T_9c314_row5_col4\" class=\"data row5 col4\" >0.6868</td>\n",
       "      <td id=\"T_9c314_row5_col5\" class=\"data row5 col5\" >0.1606</td>\n",
       "      <td id=\"T_9c314_row5_col6\" class=\"data row5 col6\" >0.2190</td>\n",
       "    </tr>\n",
       "    <tr>\n",
       "      <th id=\"T_9c314_level0_row6\" class=\"row_heading level0 row6\" >6</th>\n",
       "      <td id=\"T_9c314_row6_col0\" class=\"data row6 col0\" >0.5076</td>\n",
       "      <td id=\"T_9c314_row6_col1\" class=\"data row6 col1\" >0.5990</td>\n",
       "      <td id=\"T_9c314_row6_col2\" class=\"data row6 col2\" >0.0409</td>\n",
       "      <td id=\"T_9c314_row6_col3\" class=\"data row6 col3\" >0.6128</td>\n",
       "      <td id=\"T_9c314_row6_col4\" class=\"data row6 col4\" >0.0767</td>\n",
       "      <td id=\"T_9c314_row6_col5\" class=\"data row6 col5\" >0.0151</td>\n",
       "      <td id=\"T_9c314_row6_col6\" class=\"data row6 col6\" >0.0419</td>\n",
       "    </tr>\n",
       "    <tr>\n",
       "      <th id=\"T_9c314_level0_row7\" class=\"row_heading level0 row7\" >7</th>\n",
       "      <td id=\"T_9c314_row7_col0\" class=\"data row7 col0\" >0.5817</td>\n",
       "      <td id=\"T_9c314_row7_col1\" class=\"data row7 col1\" >0.5960</td>\n",
       "      <td id=\"T_9c314_row7_col2\" class=\"data row7 col2\" >0.9190</td>\n",
       "      <td id=\"T_9c314_row7_col3\" class=\"data row7 col3\" >0.5488</td>\n",
       "      <td id=\"T_9c314_row7_col4\" class=\"data row7 col4\" >0.6872</td>\n",
       "      <td id=\"T_9c314_row7_col5\" class=\"data row7 col5\" >0.1634</td>\n",
       "      <td id=\"T_9c314_row7_col6\" class=\"data row7 col6\" >0.2214</td>\n",
       "    </tr>\n",
       "    <tr>\n",
       "      <th id=\"T_9c314_level0_row8\" class=\"row_heading level0 row8\" >8</th>\n",
       "      <td id=\"T_9c314_row8_col0\" class=\"data row8 col0\" >0.5796</td>\n",
       "      <td id=\"T_9c314_row8_col1\" class=\"data row8 col1\" >0.5971</td>\n",
       "      <td id=\"T_9c314_row8_col2\" class=\"data row8 col2\" >0.9353</td>\n",
       "      <td id=\"T_9c314_row8_col3\" class=\"data row8 col3\" >0.5465</td>\n",
       "      <td id=\"T_9c314_row8_col4\" class=\"data row8 col4\" >0.6899</td>\n",
       "      <td id=\"T_9c314_row8_col5\" class=\"data row8 col5\" >0.1593</td>\n",
       "      <td id=\"T_9c314_row8_col6\" class=\"data row8 col6\" >0.2266</td>\n",
       "    </tr>\n",
       "    <tr>\n",
       "      <th id=\"T_9c314_level0_row9\" class=\"row_heading level0 row9\" >9</th>\n",
       "      <td id=\"T_9c314_row9_col0\" class=\"data row9 col0\" >0.5822</td>\n",
       "      <td id=\"T_9c314_row9_col1\" class=\"data row9 col1\" >0.5941</td>\n",
       "      <td id=\"T_9c314_row9_col2\" class=\"data row9 col2\" >0.8330</td>\n",
       "      <td id=\"T_9c314_row9_col3\" class=\"data row9 col3\" >0.5547</td>\n",
       "      <td id=\"T_9c314_row9_col4\" class=\"data row9 col4\" >0.6660</td>\n",
       "      <td id=\"T_9c314_row9_col5\" class=\"data row9 col5\" >0.1644</td>\n",
       "      <td id=\"T_9c314_row9_col6\" class=\"data row9 col6\" >0.1900</td>\n",
       "    </tr>\n",
       "    <tr>\n",
       "      <th id=\"T_9c314_level0_row10\" class=\"row_heading level0 row10\" >Mean</th>\n",
       "      <td id=\"T_9c314_row10_col0\" class=\"data row10 col0\" >0.5717</td>\n",
       "      <td id=\"T_9c314_row10_col1\" class=\"data row10 col1\" >0.5965</td>\n",
       "      <td id=\"T_9c314_row10_col2\" class=\"data row10 col2\" >0.8303</td>\n",
       "      <td id=\"T_9c314_row10_col3\" class=\"data row10 col3\" >0.5537</td>\n",
       "      <td id=\"T_9c314_row10_col4\" class=\"data row10 col4\" >0.6245</td>\n",
       "      <td id=\"T_9c314_row10_col5\" class=\"data row10 col5\" >0.1434</td>\n",
       "      <td id=\"T_9c314_row10_col6\" class=\"data row10 col6\" >0.1996</td>\n",
       "    </tr>\n",
       "    <tr>\n",
       "      <th id=\"T_9c314_level0_row11\" class=\"row_heading level0 row11\" >Std</th>\n",
       "      <td id=\"T_9c314_row11_col0\" class=\"data row11 col0\" >0.0218</td>\n",
       "      <td id=\"T_9c314_row11_col1\" class=\"data row11 col1\" >0.0036</td>\n",
       "      <td id=\"T_9c314_row11_col2\" class=\"data row11 col2\" >0.2651</td>\n",
       "      <td id=\"T_9c314_row11_col3\" class=\"data row11 col3\" >0.0202</td>\n",
       "      <td id=\"T_9c314_row11_col4\" class=\"data row11 col4\" >0.1827</td>\n",
       "      <td id=\"T_9c314_row11_col5\" class=\"data row11 col5\" >0.0437</td>\n",
       "      <td id=\"T_9c314_row11_col6\" class=\"data row11 col6\" >0.0536</td>\n",
       "    </tr>\n",
       "  </tbody>\n",
       "</table>\n"
      ],
      "text/plain": [
       "<pandas.io.formats.style.Styler at 0x7f7d92575ea0>"
      ]
     },
     "metadata": {},
     "output_type": "display_data"
    },
    {
     "data": {
      "text/html": [],
      "text/plain": [
       "<IPython.core.display.HTML object>"
      ]
     },
     "metadata": {},
     "output_type": "display_data"
    }
   ],
   "source": [
    "mlp = create_model('mlp')"
   ]
  },
  {
   "cell_type": "code",
   "execution_count": 77,
   "metadata": {},
   "outputs": [
    {
     "data": {
      "text/html": [],
      "text/plain": [
       "<IPython.core.display.HTML object>"
      ]
     },
     "metadata": {},
     "output_type": "display_data"
    },
    {
     "data": {
      "image/png": "[encoded data removed]",
      "text/plain": [
       "<Figure size 800x550 with 1 Axes>"
      ]
     },
     "metadata": {},
     "output_type": "display_data"
    }
   ],
   "source": [
    "plot_model(mlp, plot = 'confusion_matrix')"
   ]
  },
  {
   "cell_type": "code",
   "execution_count": 78,
   "metadata": {},
   "outputs": [
    {
     "data": {
      "text/html": [],
      "text/plain": [
       "<IPython.core.display.HTML object>"
      ]
     },
     "metadata": {},
     "output_type": "display_data"
    },
    {
     "data": {
      "image/png": "[encoded data removed]",
      "text/plain": [
       "<Figure size 800x550 with 1 Axes>"
      ]
     },
     "metadata": {},
     "output_type": "display_data"
    }
   ],
   "source": [
    "plot_model(mlp, plot = 'error')"
   ]
  },
  {
   "cell_type": "code",
   "execution_count": 79,
   "metadata": {},
   "outputs": [
    {
     "data": {
      "text/html": [],
      "text/plain": [
       "<IPython.core.display.HTML object>"
      ]
     },
     "metadata": {},
     "output_type": "display_data"
    },
    {
     "data": {
      "text/html": [
       "<div>\n",
       "<style scoped>\n",
       "    .dataframe tbody tr th:only-of-type {\n",
       "        vertical-align: middle;\n",
       "    }\n",
       "\n",
       "    .dataframe tbody tr th {\n",
       "        vertical-align: top;\n",
       "    }\n",
       "\n",
       "    .dataframe thead th {\n",
       "        text-align: right;\n",
       "    }\n",
       "</style>\n",
       "<table border=\"1\" class=\"dataframe\">\n",
       "  <thead>\n",
       "    <tr style=\"text-align: right;\">\n",
       "      <th></th>\n",
       "      <th>Parameters</th>\n",
       "    </tr>\n",
       "  </thead>\n",
       "  <tbody>\n",
       "    <tr>\n",
       "      <th>activation</th>\n",
       "      <td>relu</td>\n",
       "    </tr>\n",
       "    <tr>\n",
       "      <th>alpha</th>\n",
       "      <td>0.0001</td>\n",
       "    </tr>\n",
       "    <tr>\n",
       "      <th>batch_size</th>\n",
       "      <td>auto</td>\n",
       "    </tr>\n",
       "    <tr>\n",
       "      <th>beta_1</th>\n",
       "      <td>0.9</td>\n",
       "    </tr>\n",
       "    <tr>\n",
       "      <th>beta_2</th>\n",
       "      <td>0.999</td>\n",
       "    </tr>\n",
       "    <tr>\n",
       "      <th>early_stopping</th>\n",
       "      <td>False</td>\n",
       "    </tr>\n",
       "    <tr>\n",
       "      <th>epsilon</th>\n",
       "      <td>1e-08</td>\n",
       "    </tr>\n",
       "    <tr>\n",
       "      <th>hidden_layer_sizes</th>\n",
       "      <td>(100,)</td>\n",
       "    </tr>\n",
       "    <tr>\n",
       "      <th>learning_rate</th>\n",
       "      <td>constant</td>\n",
       "    </tr>\n",
       "    <tr>\n",
       "      <th>learning_rate_init</th>\n",
       "      <td>0.001</td>\n",
       "    </tr>\n",
       "    <tr>\n",
       "      <th>max_fun</th>\n",
       "      <td>15000</td>\n",
       "    </tr>\n",
       "    <tr>\n",
       "      <th>max_iter</th>\n",
       "      <td>500</td>\n",
       "    </tr>\n",
       "    <tr>\n",
       "      <th>momentum</th>\n",
       "      <td>0.9</td>\n",
       "    </tr>\n",
       "    <tr>\n",
       "      <th>n_iter_no_change</th>\n",
       "      <td>10</td>\n",
       "    </tr>\n",
       "    <tr>\n",
       "      <th>nesterovs_momentum</th>\n",
       "      <td>True</td>\n",
       "    </tr>\n",
       "    <tr>\n",
       "      <th>power_t</th>\n",
       "      <td>0.5</td>\n",
       "    </tr>\n",
       "    <tr>\n",
       "      <th>random_state</th>\n",
       "      <td>7572</td>\n",
       "    </tr>\n",
       "    <tr>\n",
       "      <th>shuffle</th>\n",
       "      <td>True</td>\n",
       "    </tr>\n",
       "    <tr>\n",
       "      <th>solver</th>\n",
       "      <td>adam</td>\n",
       "    </tr>\n",
       "    <tr>\n",
       "      <th>tol</th>\n",
       "      <td>0.0001</td>\n",
       "    </tr>\n",
       "    <tr>\n",
       "      <th>validation_fraction</th>\n",
       "      <td>0.1</td>\n",
       "    </tr>\n",
       "    <tr>\n",
       "      <th>verbose</th>\n",
       "      <td>False</td>\n",
       "    </tr>\n",
       "    <tr>\n",
       "      <th>warm_start</th>\n",
       "      <td>False</td>\n",
       "    </tr>\n",
       "  </tbody>\n",
       "</table>\n",
       "</div>"
      ],
      "text/plain": [
       "                    Parameters\n",
       "activation                relu\n",
       "alpha                   0.0001\n",
       "batch_size                auto\n",
       "beta_1                     0.9\n",
       "beta_2                   0.999\n",
       "early_stopping           False\n",
       "epsilon                  1e-08\n",
       "hidden_layer_sizes      (100,)\n",
       "learning_rate         constant\n",
       "learning_rate_init       0.001\n",
       "max_fun                  15000\n",
       "max_iter                   500\n",
       "momentum                   0.9\n",
       "n_iter_no_change            10\n",
       "nesterovs_momentum        True\n",
       "power_t                    0.5\n",
       "random_state              7572\n",
       "shuffle                   True\n",
       "solver                    adam\n",
       "tol                     0.0001\n",
       "validation_fraction        0.1\n",
       "verbose                  False\n",
       "warm_start               False"
      ]
     },
     "metadata": {},
     "output_type": "display_data"
    }
   ],
   "source": [
    "plot_model(mlp, plot = 'parameter')"
   ]
  },
  {
   "cell_type": "code",
   "execution_count": 80,
   "metadata": {},
   "outputs": [
    {
     "data": {
      "text/html": [
       "<style type=\"text/css\">\n",
       "</style>\n",
       "<table id=\"T_6e29d\">\n",
       "  <thead>\n",
       "    <tr>\n",
       "      <th class=\"blank level0\" >&nbsp;</th>\n",
       "      <th id=\"T_6e29d_level0_col0\" class=\"col_heading level0 col0\" >Model</th>\n",
       "      <th id=\"T_6e29d_level0_col1\" class=\"col_heading level0 col1\" >Accuracy</th>\n",
       "      <th id=\"T_6e29d_level0_col2\" class=\"col_heading level0 col2\" >AUC</th>\n",
       "      <th id=\"T_6e29d_level0_col3\" class=\"col_heading level0 col3\" >Recall</th>\n",
       "      <th id=\"T_6e29d_level0_col4\" class=\"col_heading level0 col4\" >Prec.</th>\n",
       "      <th id=\"T_6e29d_level0_col5\" class=\"col_heading level0 col5\" >F1</th>\n",
       "      <th id=\"T_6e29d_level0_col6\" class=\"col_heading level0 col6\" >Kappa</th>\n",
       "      <th id=\"T_6e29d_level0_col7\" class=\"col_heading level0 col7\" >MCC</th>\n",
       "    </tr>\n",
       "  </thead>\n",
       "  <tbody>\n",
       "    <tr>\n",
       "      <th id=\"T_6e29d_level0_row0\" class=\"row_heading level0 row0\" >0</th>\n",
       "      <td id=\"T_6e29d_row0_col0\" class=\"data row0 col0\" >MLP Classifier</td>\n",
       "      <td id=\"T_6e29d_row0_col1\" class=\"data row0 col1\" >0.5545</td>\n",
       "      <td id=\"T_6e29d_row0_col2\" class=\"data row0 col2\" >0.5990</td>\n",
       "      <td id=\"T_6e29d_row0_col3\" class=\"data row0 col3\" >0.5443</td>\n",
       "      <td id=\"T_6e29d_row0_col4\" class=\"data row0 col4\" >0.5556</td>\n",
       "      <td id=\"T_6e29d_row0_col5\" class=\"data row0 col5\" >0.5499</td>\n",
       "      <td id=\"T_6e29d_row0_col6\" class=\"data row0 col6\" >0.1090</td>\n",
       "      <td id=\"T_6e29d_row0_col7\" class=\"data row0 col7\" >0.1090</td>\n",
       "    </tr>\n",
       "  </tbody>\n",
       "</table>\n"
      ],
      "text/plain": [
       "<pandas.io.formats.style.Styler at 0x7f7d74aab940>"
      ]
     },
     "metadata": {},
     "output_type": "display_data"
    }
   ],
   "source": [
    "mlp_val_pred = predict_model(mlp, data=val)"
   ]
  },
  {
   "cell_type": "code",
   "execution_count": 81,
   "metadata": {},
   "outputs": [
    {
     "data": {
      "text/html": [],
      "text/plain": [
       "<IPython.core.display.HTML object>"
      ]
     },
     "metadata": {},
     "output_type": "display_data"
    }
   ],
   "source": [
    "mlp_val_pred = predict_model(mlp, data=embval)"
   ]
  },
  {
   "cell_type": "code",
   "execution_count": 82,
   "metadata": {
    "tags": []
   },
   "outputs": [
    {
     "name": "stdout",
     "output_type": "stream",
     "text": [
      "Transformation Pipeline and Model Successfully Saved\n"
     ]
    },
    {
     "data": {
      "text/plain": [
       "(Pipeline(memory=FastMemory(location=/tmp/joblib),\n",
       "          steps=[('numerical_imputer',\n",
       "                  TransformerWrapper(exclude=None,\n",
       "                                     include=['http://semanticscience.org/resource/SIO_000281',\n",
       "                                              'http://semanticscience.org/resource/SIO_000628',\n",
       "                                              'http://semanticscience.org/resource/SIO_001279',\n",
       "                                              'http://www.semanticweb.org/needed-terms#001',\n",
       "                                              'http://www.semanticweb.org/needed-term...\n",
       "                                batch_size='auto', beta_1=0.9, beta_2=0.999,\n",
       "                                early_stopping=False, epsilon=1e-08,\n",
       "                                hidden_layer_sizes=(100,),\n",
       "                                learning_rate='constant',\n",
       "                                learning_rate_init=0.001, max_fun=15000,\n",
       "                                max_iter=500, momentum=0.9, n_iter_no_change=10,\n",
       "                                nesterovs_momentum=True, power_t=0.5,\n",
       "                                random_state=7572, shuffle=True, solver='adam',\n",
       "                                tol=0.0001, validation_fraction=0.1,\n",
       "                                verbose=False, warm_start=False))],\n",
       "          verbose=False),\n",
       " 'models_classif/convkb/binary_scores_val/mlp.pkl')"
      ]
     },
     "execution_count": 82,
     "metadata": {},
     "output_type": "execute_result"
    }
   ],
   "source": [
    "save_model(mlp, 'models_classif/convkb/binary_scores_val/mlp')"
   ]
  }
 ],
 "metadata": {
  "kernelspec": {
   "display_name": "Python 3 (ipykernel)",
   "language": "python",
   "name": "python3"
  },
  "language_info": {
   "codemirror_mode": {
    "name": "ipython",
    "version": 3
   },
   "file_extension": ".py",
   "mimetype": "text/x-python",
   "name": "python",
   "nbconvert_exporter": "python",
   "pygments_lexer": "ipython3",
   "version": "3.10.9"
  },
  "vscode": {
   "interpreter": {
    "hash": "bad715aa2aaeb5e6c151df84b54974e4cb5c7f8696a7ce08edfdc275e59caf55"
   }
  }
 },
 "nbformat": 4,
 "nbformat_minor": 4
}
