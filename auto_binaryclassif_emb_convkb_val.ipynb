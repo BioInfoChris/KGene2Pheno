{
 "cells": [
  {
   "cell_type": "code",
   "execution_count": 61,
   "metadata": {
    "tags": []
   },
   "outputs": [
    {
     "name": "stderr",
     "output_type": "stream",
     "text": [
      "\u001b[34m\u001b[1mwandb\u001b[0m: \u001b[33mWARNING\u001b[0m Calling wandb.login() after wandb.init() has no effect.\n"
     ]
    },
    {
     "data": {
      "text/html": [
       "Finishing last run (ID:8rqh7adc) before initializing another..."
      ],
      "text/plain": [
       "<IPython.core.display.HTML object>"
      ]
     },
     "metadata": {},
     "output_type": "display_data"
    },
    {
     "data": {
      "text/html": [
       "Waiting for W&B process to finish... <strong style=\"color:green\">(success).</strong>"
      ],
      "text/plain": [
       "<IPython.core.display.HTML object>"
      ]
     },
     "metadata": {},
     "output_type": "display_data"
    },
    {
     "data": {
      "application/vnd.jupyter.widget-view+json": {
       "model_id": "36f600dc9cd94e6f90cdb2cbcb4ab795",
       "version_major": 2,
       "version_minor": 0
      },
      "text/plain": [
       "VBox(children=(Label(value='0.012 MB of 0.012 MB uploaded (0.000 MB deduped)\\r'), FloatProgress(value=1.0, max…"
      ]
     },
     "metadata": {},
     "output_type": "display_data"
    },
    {
     "data": {
      "text/html": [
       "<style>\n",
       "    table.wandb td:nth-child(1) { padding: 0 10px; text-align: left ; width: auto;} td:nth-child(2) {text-align: left ; width: 100%}\n",
       "    .wandb-row { display: flex; flex-direction: row; flex-wrap: wrap; justify-content: flex-start; width: 100% }\n",
       "    .wandb-col { display: flex; flex-direction: column; flex-basis: 100%; flex: 1; padding: 10px; }\n",
       "    </style>\n",
       "<div class=\"wandb-row\"><div class=\"wandb-col\"><h3>Run history:</h3><br/><table class=\"wandb\"><tr><td>create_model/AUC</td><td>█▆█▁▁█▆▆█▇▇</td></tr><tr><td>create_model/Accuracy</td><td>▇▁█▂▃█▁▃█▅▅</td></tr><tr><td>create_model/F1</td><td>▇▂▄▄▄█▁▄▄▆▅</td></tr><tr><td>create_model/Kappa</td><td>▇▁█▂▃█▁▃█▅▅</td></tr><tr><td>create_model/MCC</td><td>▆▁█▂▃▇▁▃█▄▄</td></tr><tr><td>create_model/Prec.</td><td>▄▁█▁▂▄▁▂█▂▂</td></tr><tr><td>create_model/Recall</td><td>▇▅▁▇▆▇▄▆▁█▇</td></tr><tr><td>create_model/TT</td><td>▁▁▂▁▁▂▁▁▁▁█</td></tr></table><br/></div><div class=\"wandb-col\"><h3>Run summary:</h3><br/><table class=\"wandb\"><tr><td>create_model/AUC</td><td>0.7103</td></tr><tr><td>create_model/Accuracy</td><td>0.6684</td></tr><tr><td>create_model/F1</td><td>0.6922</td></tr><tr><td>create_model/Kappa</td><td>0.3368</td></tr><tr><td>create_model/MCC</td><td>0.341</td></tr><tr><td>create_model/Prec.</td><td>0.646</td></tr><tr><td>create_model/Recall</td><td>0.7457</td></tr><tr><td>create_model/TT</td><td>5647.71</td></tr></table><br/></div></div>"
      ],
      "text/plain": [
       "<IPython.core.display.HTML object>"
      ]
     },
     "metadata": {},
     "output_type": "display_data"
    },
    {
     "data": {
      "text/html": [
       " View run <strong style=\"color:#cdcd00\">lyric-wind-33</strong> at: <a href='https://wandb.ai/mlb/cigap-classif/runs/8rqh7adc' target=\"_blank\">https://wandb.ai/mlb/cigap-classif/runs/8rqh7adc</a><br/>Synced 6 W&B file(s), 0 media file(s), 1 artifact file(s) and 0 other file(s)"
      ],
      "text/plain": [
       "<IPython.core.display.HTML object>"
      ]
     },
     "metadata": {},
     "output_type": "display_data"
    },
    {
     "data": {
      "text/html": [
       "Find logs at: <code>./wandb/run-20230524_174233-8rqh7adc/logs</code>"
      ],
      "text/plain": [
       "<IPython.core.display.HTML object>"
      ]
     },
     "metadata": {},
     "output_type": "display_data"
    },
    {
     "data": {
      "text/html": [
       "Successfully finished last run (ID:8rqh7adc). Initializing new run:<br/>"
      ],
      "text/plain": [
       "<IPython.core.display.HTML object>"
      ]
     },
     "metadata": {},
     "output_type": "display_data"
    },
    {
     "data": {
      "application/vnd.jupyter.widget-view+json": {
       "model_id": "631836087437431e82807315e221c1cd",
       "version_major": 2,
       "version_minor": 0
      },
      "text/plain": [
       "VBox(children=(Label(value='Waiting for wandb.init()...\\r'), FloatProgress(value=0.016669912931198873, max=1.0…"
      ]
     },
     "metadata": {},
     "output_type": "display_data"
    },
    {
     "name": "stdout",
     "output_type": "stream",
     "text": [
      "Problem at: /tmp/ipykernel_27208/238319844.py 10 <module>\n"
     ]
    },
    {
     "ename": "KeyboardInterrupt",
     "evalue": "",
     "output_type": "error",
     "traceback": [
      "\u001b[0;31m---------------------------------------------------------------------------\u001b[0m",
      "\u001b[0;31mKeyboardInterrupt\u001b[0m                         Traceback (most recent call last)",
      "Cell \u001b[0;32mIn[61], line 10\u001b[0m\n\u001b[1;32m      8\u001b[0m os\u001b[38;5;241m.\u001b[39menviron[\u001b[38;5;124m\"\u001b[39m\u001b[38;5;124mWANDB_API_KEY\u001b[39m\u001b[38;5;124m\"\u001b[39m]\u001b[38;5;241m=\u001b[39m\u001b[38;5;124m\"\u001b[39m\u001b[38;5;124m4e5748d6c6f3917c78cdc38a516a1bac776faf58\u001b[39m\u001b[38;5;124m\"\u001b[39m\n\u001b[1;32m      9\u001b[0m wandb\u001b[38;5;241m.\u001b[39mlogin()\n\u001b[0;32m---> 10\u001b[0m \u001b[43mwandb\u001b[49m\u001b[38;5;241;43m.\u001b[39;49m\u001b[43minit\u001b[49m\u001b[43m(\u001b[49m\n\u001b[1;32m     11\u001b[0m \u001b[43m    \u001b[49m\u001b[43mproject\u001b[49m\u001b[38;5;241;43m=\u001b[39;49m\u001b[38;5;124;43m\"\u001b[39;49m\u001b[38;5;124;43mcigap-classif\u001b[39;49m\u001b[38;5;124;43m\"\u001b[39;49m\u001b[43m,\u001b[49m\n\u001b[1;32m     12\u001b[0m \u001b[43m)\u001b[49m\n",
      "File \u001b[0;32m~/miniconda3/envs/aled/lib/python3.10/site-packages/wandb/sdk/wandb_init.py:1166\u001b[0m, in \u001b[0;36minit\u001b[0;34m(job_type, dir, config, project, entity, reinit, tags, group, name, notes, magic, config_exclude_keys, config_include_keys, anonymous, mode, allow_val_change, resume, force, tensorboard, sync_tensorboard, monitor_gym, save_code, id, settings)\u001b[0m\n\u001b[1;32m   1164\u001b[0m     \u001b[38;5;28;01massert\u001b[39;00m logger\n\u001b[1;32m   1165\u001b[0m     logger\u001b[38;5;241m.\u001b[39mwarning(\u001b[38;5;124m\"\u001b[39m\u001b[38;5;124minterrupted\u001b[39m\u001b[38;5;124m\"\u001b[39m, exc_info\u001b[38;5;241m=\u001b[39me)\n\u001b[0;32m-> 1166\u001b[0m     \u001b[38;5;28;01mraise\u001b[39;00m e\n\u001b[1;32m   1167\u001b[0m \u001b[38;5;28;01mexcept\u001b[39;00m \u001b[38;5;167;01mException\u001b[39;00m \u001b[38;5;28;01mas\u001b[39;00m e:\n\u001b[1;32m   1168\u001b[0m     error_seen \u001b[38;5;241m=\u001b[39m e\n",
      "File \u001b[0;32m~/miniconda3/envs/aled/lib/python3.10/site-packages/wandb/sdk/wandb_init.py:1144\u001b[0m, in \u001b[0;36minit\u001b[0;34m(job_type, dir, config, project, entity, reinit, tags, group, name, notes, magic, config_exclude_keys, config_include_keys, anonymous, mode, allow_val_change, resume, force, tensorboard, sync_tensorboard, monitor_gym, save_code, id, settings)\u001b[0m\n\u001b[1;32m   1142\u001b[0m except_exit \u001b[38;5;241m=\u001b[39m wi\u001b[38;5;241m.\u001b[39msettings\u001b[38;5;241m.\u001b[39m_except_exit\n\u001b[1;32m   1143\u001b[0m \u001b[38;5;28;01mtry\u001b[39;00m:\n\u001b[0;32m-> 1144\u001b[0m     run \u001b[38;5;241m=\u001b[39m \u001b[43mwi\u001b[49m\u001b[38;5;241;43m.\u001b[39;49m\u001b[43minit\u001b[49m\u001b[43m(\u001b[49m\u001b[43m)\u001b[49m\n\u001b[1;32m   1145\u001b[0m     except_exit \u001b[38;5;241m=\u001b[39m wi\u001b[38;5;241m.\u001b[39msettings\u001b[38;5;241m.\u001b[39m_except_exit\n\u001b[1;32m   1146\u001b[0m \u001b[38;5;28;01mexcept\u001b[39;00m (\u001b[38;5;167;01mKeyboardInterrupt\u001b[39;00m, \u001b[38;5;167;01mException\u001b[39;00m) \u001b[38;5;28;01mas\u001b[39;00m e:\n",
      "File \u001b[0;32m~/miniconda3/envs/aled/lib/python3.10/site-packages/wandb/sdk/wandb_init.py:801\u001b[0m, in \u001b[0;36m_WandbInit.init\u001b[0;34m(self)\u001b[0m\n\u001b[1;32m    799\u001b[0m run_start_handle \u001b[38;5;241m=\u001b[39m backend\u001b[38;5;241m.\u001b[39minterface\u001b[38;5;241m.\u001b[39mdeliver_run_start(run_obj)\n\u001b[1;32m    800\u001b[0m \u001b[38;5;66;03m# TODO: add progress to let user know we are doing something\u001b[39;00m\n\u001b[0;32m--> 801\u001b[0m run_start_result \u001b[38;5;241m=\u001b[39m \u001b[43mrun_start_handle\u001b[49m\u001b[38;5;241;43m.\u001b[39;49m\u001b[43mwait\u001b[49m\u001b[43m(\u001b[49m\u001b[43mtimeout\u001b[49m\u001b[38;5;241;43m=\u001b[39;49m\u001b[38;5;241;43m30\u001b[39;49m\u001b[43m)\u001b[49m\n\u001b[1;32m    802\u001b[0m \u001b[38;5;28;01mif\u001b[39;00m run_start_result \u001b[38;5;129;01mis\u001b[39;00m \u001b[38;5;28;01mNone\u001b[39;00m:\n\u001b[1;32m    803\u001b[0m     run_start_handle\u001b[38;5;241m.\u001b[39mabandon()\n",
      "File \u001b[0;32m~/miniconda3/envs/aled/lib/python3.10/site-packages/wandb/sdk/lib/mailbox.py:283\u001b[0m, in \u001b[0;36mMailboxHandle.wait\u001b[0;34m(self, timeout, on_probe, on_progress, release, cancel)\u001b[0m\n\u001b[1;32m    280\u001b[0m     \u001b[38;5;28;01mif\u001b[39;00m \u001b[38;5;28mself\u001b[39m\u001b[38;5;241m.\u001b[39m_interface\u001b[38;5;241m.\u001b[39m_transport_keepalive_failed():\n\u001b[1;32m    281\u001b[0m         \u001b[38;5;28;01mraise\u001b[39;00m MailboxError(\u001b[38;5;124m\"\u001b[39m\u001b[38;5;124mtransport failed\u001b[39m\u001b[38;5;124m\"\u001b[39m)\n\u001b[0;32m--> 283\u001b[0m found, abandoned \u001b[38;5;241m=\u001b[39m \u001b[38;5;28;43mself\u001b[39;49m\u001b[38;5;241;43m.\u001b[39;49m\u001b[43m_slot\u001b[49m\u001b[38;5;241;43m.\u001b[39;49m\u001b[43m_get_and_clear\u001b[49m\u001b[43m(\u001b[49m\u001b[43mtimeout\u001b[49m\u001b[38;5;241;43m=\u001b[39;49m\u001b[43mwait_timeout\u001b[49m\u001b[43m)\u001b[49m\n\u001b[1;32m    284\u001b[0m \u001b[38;5;28;01mif\u001b[39;00m found:\n\u001b[1;32m    285\u001b[0m     \u001b[38;5;66;03m# Always update progress to 100% when done\u001b[39;00m\n\u001b[1;32m    286\u001b[0m     \u001b[38;5;28;01mif\u001b[39;00m on_progress \u001b[38;5;129;01mand\u001b[39;00m progress_handle \u001b[38;5;129;01mand\u001b[39;00m progress_sent:\n",
      "File \u001b[0;32m~/miniconda3/envs/aled/lib/python3.10/site-packages/wandb/sdk/lib/mailbox.py:130\u001b[0m, in \u001b[0;36m_MailboxSlot._get_and_clear\u001b[0;34m(self, timeout)\u001b[0m\n\u001b[1;32m    128\u001b[0m \u001b[38;5;28;01mdef\u001b[39;00m \u001b[38;5;21m_get_and_clear\u001b[39m(\u001b[38;5;28mself\u001b[39m, timeout: \u001b[38;5;28mfloat\u001b[39m) \u001b[38;5;241m-\u001b[39m\u001b[38;5;241m>\u001b[39m Tuple[Optional[pb\u001b[38;5;241m.\u001b[39mResult], \u001b[38;5;28mbool\u001b[39m]:\n\u001b[1;32m    129\u001b[0m     found \u001b[38;5;241m=\u001b[39m \u001b[38;5;28;01mNone\u001b[39;00m\n\u001b[0;32m--> 130\u001b[0m     \u001b[38;5;28;01mif\u001b[39;00m \u001b[38;5;28;43mself\u001b[39;49m\u001b[38;5;241;43m.\u001b[39;49m\u001b[43m_wait\u001b[49m\u001b[43m(\u001b[49m\u001b[43mtimeout\u001b[49m\u001b[38;5;241;43m=\u001b[39;49m\u001b[43mtimeout\u001b[49m\u001b[43m)\u001b[49m:\n\u001b[1;32m    131\u001b[0m         \u001b[38;5;28;01mwith\u001b[39;00m \u001b[38;5;28mself\u001b[39m\u001b[38;5;241m.\u001b[39m_lock:\n\u001b[1;32m    132\u001b[0m             found \u001b[38;5;241m=\u001b[39m \u001b[38;5;28mself\u001b[39m\u001b[38;5;241m.\u001b[39m_result\n",
      "File \u001b[0;32m~/miniconda3/envs/aled/lib/python3.10/site-packages/wandb/sdk/lib/mailbox.py:126\u001b[0m, in \u001b[0;36m_MailboxSlot._wait\u001b[0;34m(self, timeout)\u001b[0m\n\u001b[1;32m    125\u001b[0m \u001b[38;5;28;01mdef\u001b[39;00m \u001b[38;5;21m_wait\u001b[39m(\u001b[38;5;28mself\u001b[39m, timeout: \u001b[38;5;28mfloat\u001b[39m) \u001b[38;5;241m-\u001b[39m\u001b[38;5;241m>\u001b[39m \u001b[38;5;28mbool\u001b[39m:\n\u001b[0;32m--> 126\u001b[0m     \u001b[38;5;28;01mreturn\u001b[39;00m \u001b[38;5;28;43mself\u001b[39;49m\u001b[38;5;241;43m.\u001b[39;49m\u001b[43m_event\u001b[49m\u001b[38;5;241;43m.\u001b[39;49m\u001b[43mwait\u001b[49m\u001b[43m(\u001b[49m\u001b[43mtimeout\u001b[49m\u001b[38;5;241;43m=\u001b[39;49m\u001b[43mtimeout\u001b[49m\u001b[43m)\u001b[49m\n",
      "File \u001b[0;32m~/miniconda3/envs/aled/lib/python3.10/threading.py:607\u001b[0m, in \u001b[0;36mEvent.wait\u001b[0;34m(self, timeout)\u001b[0m\n\u001b[1;32m    605\u001b[0m signaled \u001b[38;5;241m=\u001b[39m \u001b[38;5;28mself\u001b[39m\u001b[38;5;241m.\u001b[39m_flag\n\u001b[1;32m    606\u001b[0m \u001b[38;5;28;01mif\u001b[39;00m \u001b[38;5;129;01mnot\u001b[39;00m signaled:\n\u001b[0;32m--> 607\u001b[0m     signaled \u001b[38;5;241m=\u001b[39m \u001b[38;5;28;43mself\u001b[39;49m\u001b[38;5;241;43m.\u001b[39;49m\u001b[43m_cond\u001b[49m\u001b[38;5;241;43m.\u001b[39;49m\u001b[43mwait\u001b[49m\u001b[43m(\u001b[49m\u001b[43mtimeout\u001b[49m\u001b[43m)\u001b[49m\n\u001b[1;32m    608\u001b[0m \u001b[38;5;28;01mreturn\u001b[39;00m signaled\n",
      "File \u001b[0;32m~/miniconda3/envs/aled/lib/python3.10/threading.py:324\u001b[0m, in \u001b[0;36mCondition.wait\u001b[0;34m(self, timeout)\u001b[0m\n\u001b[1;32m    322\u001b[0m \u001b[38;5;28;01melse\u001b[39;00m:\n\u001b[1;32m    323\u001b[0m     \u001b[38;5;28;01mif\u001b[39;00m timeout \u001b[38;5;241m>\u001b[39m \u001b[38;5;241m0\u001b[39m:\n\u001b[0;32m--> 324\u001b[0m         gotit \u001b[38;5;241m=\u001b[39m \u001b[43mwaiter\u001b[49m\u001b[38;5;241;43m.\u001b[39;49m\u001b[43macquire\u001b[49m\u001b[43m(\u001b[49m\u001b[38;5;28;43;01mTrue\u001b[39;49;00m\u001b[43m,\u001b[49m\u001b[43m \u001b[49m\u001b[43mtimeout\u001b[49m\u001b[43m)\u001b[49m\n\u001b[1;32m    325\u001b[0m     \u001b[38;5;28;01melse\u001b[39;00m:\n\u001b[1;32m    326\u001b[0m         gotit \u001b[38;5;241m=\u001b[39m waiter\u001b[38;5;241m.\u001b[39macquire(\u001b[38;5;28;01mFalse\u001b[39;00m)\n",
      "\u001b[0;31mKeyboardInterrupt\u001b[0m: "
     ]
    }
   ],
   "source": [
    "from pycaret.classification import *\n",
    "import pandas as pd\n",
    "import os\n",
    "import wandb\n",
    "\n",
    "os.chdir('/home/antoine/gene_pheno_pred')\n",
    "os.environ[\"CUDA_VISIBLE_DEVICES\"]=\"1\"\n",
    "os.environ[\"WANDB_API_KEY\"]=\"4e5748d6c6f3917c78cdc38a516a1bac776faf58\"\n",
    "wandb.login()\n",
    "wandb.init(\n",
    "    project=\"cigap-classif\",\n",
    ")\n"
   ]
  },
  {
   "cell_type": "code",
   "execution_count": null,
   "metadata": {
    "tags": []
   },
   "outputs": [],
   "source": [
    "# Load training set\n",
    "df1 = pd.read_csv('/home/antoine/gene_pheno_pred/ConvKB_2023-04-13_16-59-47_val.csv' , header=0)\n",
    "df2 = pd.read_csv('/home/antoine/gene_pheno_pred/ConvKB_2023-04-13_16-59-47_test.csv' , header=0)\n",
    "df = pd.concat([df1, df2], axis=0)\n",
    "\n",
    "df['link'] = df['ground_truth'].apply(lambda x: 1 if x != 'no_link_known' else 0)\n",
    "df"
   ]
  },
  {
   "cell_type": "code",
   "execution_count": null,
   "metadata": {
    "tags": []
   },
   "outputs": [],
   "source": [
    "df2 = df"
   ]
  },
  {
   "cell_type": "code",
   "execution_count": null,
   "metadata": {},
   "outputs": [],
   "source": [
    "df = df.drop('ground_truth', axis=1)"
   ]
  },
  {
   "cell_type": "code",
   "execution_count": 5,
   "metadata": {
    "tags": []
   },
   "outputs": [
    {
     "name": "stderr",
     "output_type": "stream",
     "text": [
      "[LightGBM] [Fatal] GPU Tree Learner was not enabled in this build.\n",
      "Please recompile with CMake option -DUSE_GPU=1\n",
      "[LightGBM] [Fatal] CUDA Tree Learner was not enabled in this build.\n",
      "Please recompile with CMake option -DUSE_CUDA=1\n",
      "[LightGBM] [Fatal] GPU Tree Learner was not enabled in this build.\n",
      "Please recompile with CMake option -DUSE_GPU=1\n",
      "[LightGBM] [Fatal] CUDA Tree Learner was not enabled in this build.\n",
      "Please recompile with CMake option -DUSE_CUDA=1\n",
      "[LightGBM] [Fatal] GPU Tree Learner was not enabled in this build.\n",
      "Please recompile with CMake option -DUSE_GPU=1\n",
      "[LightGBM] [Fatal] CUDA Tree Learner was not enabled in this build.\n",
      "Please recompile with CMake option -DUSE_CUDA=1\n",
      "[LightGBM] [Fatal] GPU Tree Learner was not enabled in this build.\n",
      "Please recompile with CMake option -DUSE_GPU=1\n",
      "[LightGBM] [Fatal] CUDA Tree Learner was not enabled in this build.\n",
      "Please recompile with CMake option -DUSE_CUDA=1\n",
      "[LightGBM] [Fatal] GPU Tree Learner was not enabled in this build.\n",
      "Please recompile with CMake option -DUSE_GPU=1\n",
      "[LightGBM] [Fatal] CUDA Tree Learner was not enabled in this build.\n",
      "Please recompile with CMake option -DUSE_CUDA=1\n",
      "[LightGBM] [Fatal] GPU Tree Learner was not enabled in this build.\n",
      "Please recompile with CMake option -DUSE_GPU=1\n",
      "[LightGBM] [Fatal] CUDA Tree Learner was not enabled in this build.\n",
      "Please recompile with CMake option -DUSE_CUDA=1\n"
     ]
    },
    {
     "data": {
      "text/html": [
       "<style type=\"text/css\">\n",
       "#T_0313d_row8_col1, #T_0313d_row15_col1 {\n",
       "  background-color: lightgreen;\n",
       "}\n",
       "</style>\n",
       "<table id=\"T_0313d\">\n",
       "  <thead>\n",
       "    <tr>\n",
       "      <th class=\"blank level0\" >&nbsp;</th>\n",
       "      <th id=\"T_0313d_level0_col0\" class=\"col_heading level0 col0\" >Description</th>\n",
       "      <th id=\"T_0313d_level0_col1\" class=\"col_heading level0 col1\" >Value</th>\n",
       "    </tr>\n",
       "  </thead>\n",
       "  <tbody>\n",
       "    <tr>\n",
       "      <th id=\"T_0313d_level0_row0\" class=\"row_heading level0 row0\" >0</th>\n",
       "      <td id=\"T_0313d_row0_col0\" class=\"data row0 col0\" >Session id</td>\n",
       "      <td id=\"T_0313d_row0_col1\" class=\"data row0 col1\" >6107</td>\n",
       "    </tr>\n",
       "    <tr>\n",
       "      <th id=\"T_0313d_level0_row1\" class=\"row_heading level0 row1\" >1</th>\n",
       "      <td id=\"T_0313d_row1_col0\" class=\"data row1 col0\" >Target</td>\n",
       "      <td id=\"T_0313d_row1_col1\" class=\"data row1 col1\" >link</td>\n",
       "    </tr>\n",
       "    <tr>\n",
       "      <th id=\"T_0313d_level0_row2\" class=\"row_heading level0 row2\" >2</th>\n",
       "      <td id=\"T_0313d_row2_col0\" class=\"data row2 col0\" >Target type</td>\n",
       "      <td id=\"T_0313d_row2_col1\" class=\"data row2 col1\" >Binary</td>\n",
       "    </tr>\n",
       "    <tr>\n",
       "      <th id=\"T_0313d_level0_row3\" class=\"row_heading level0 row3\" >3</th>\n",
       "      <td id=\"T_0313d_row3_col0\" class=\"data row3 col0\" >Original data shape</td>\n",
       "      <td id=\"T_0313d_row3_col1\" class=\"data row3 col1\" >(935494, 101)</td>\n",
       "    </tr>\n",
       "    <tr>\n",
       "      <th id=\"T_0313d_level0_row4\" class=\"row_heading level0 row4\" >4</th>\n",
       "      <td id=\"T_0313d_row4_col0\" class=\"data row4 col0\" >Transformed data shape</td>\n",
       "      <td id=\"T_0313d_row4_col1\" class=\"data row4 col1\" >(3740902, 101)</td>\n",
       "    </tr>\n",
       "    <tr>\n",
       "      <th id=\"T_0313d_level0_row5\" class=\"row_heading level0 row5\" >5</th>\n",
       "      <td id=\"T_0313d_row5_col0\" class=\"data row5 col0\" >Transformed train set shape</td>\n",
       "      <td id=\"T_0313d_row5_col1\" class=\"data row5 col1\" >(2992734, 101)</td>\n",
       "    </tr>\n",
       "    <tr>\n",
       "      <th id=\"T_0313d_level0_row6\" class=\"row_heading level0 row6\" >6</th>\n",
       "      <td id=\"T_0313d_row6_col0\" class=\"data row6 col0\" >Transformed test set shape</td>\n",
       "      <td id=\"T_0313d_row6_col1\" class=\"data row6 col1\" >(748168, 101)</td>\n",
       "    </tr>\n",
       "    <tr>\n",
       "      <th id=\"T_0313d_level0_row7\" class=\"row_heading level0 row7\" >7</th>\n",
       "      <td id=\"T_0313d_row7_col0\" class=\"data row7 col0\" >Numeric features</td>\n",
       "      <td id=\"T_0313d_row7_col1\" class=\"data row7 col1\" >100</td>\n",
       "    </tr>\n",
       "    <tr>\n",
       "      <th id=\"T_0313d_level0_row8\" class=\"row_heading level0 row8\" >8</th>\n",
       "      <td id=\"T_0313d_row8_col0\" class=\"data row8 col0\" >Preprocess</td>\n",
       "      <td id=\"T_0313d_row8_col1\" class=\"data row8 col1\" >True</td>\n",
       "    </tr>\n",
       "    <tr>\n",
       "      <th id=\"T_0313d_level0_row9\" class=\"row_heading level0 row9\" >9</th>\n",
       "      <td id=\"T_0313d_row9_col0\" class=\"data row9 col0\" >Imputation type</td>\n",
       "      <td id=\"T_0313d_row9_col1\" class=\"data row9 col1\" >simple</td>\n",
       "    </tr>\n",
       "    <tr>\n",
       "      <th id=\"T_0313d_level0_row10\" class=\"row_heading level0 row10\" >10</th>\n",
       "      <td id=\"T_0313d_row10_col0\" class=\"data row10 col0\" >Numeric imputation</td>\n",
       "      <td id=\"T_0313d_row10_col1\" class=\"data row10 col1\" >mean</td>\n",
       "    </tr>\n",
       "    <tr>\n",
       "      <th id=\"T_0313d_level0_row11\" class=\"row_heading level0 row11\" >11</th>\n",
       "      <td id=\"T_0313d_row11_col0\" class=\"data row11 col0\" >Categorical imputation</td>\n",
       "      <td id=\"T_0313d_row11_col1\" class=\"data row11 col1\" >mode</td>\n",
       "    </tr>\n",
       "    <tr>\n",
       "      <th id=\"T_0313d_level0_row12\" class=\"row_heading level0 row12\" >12</th>\n",
       "      <td id=\"T_0313d_row12_col0\" class=\"data row12 col0\" >Fold Generator</td>\n",
       "      <td id=\"T_0313d_row12_col1\" class=\"data row12 col1\" >StratifiedKFold</td>\n",
       "    </tr>\n",
       "    <tr>\n",
       "      <th id=\"T_0313d_level0_row13\" class=\"row_heading level0 row13\" >13</th>\n",
       "      <td id=\"T_0313d_row13_col0\" class=\"data row13 col0\" >Fold Number</td>\n",
       "      <td id=\"T_0313d_row13_col1\" class=\"data row13 col1\" >10</td>\n",
       "    </tr>\n",
       "    <tr>\n",
       "      <th id=\"T_0313d_level0_row14\" class=\"row_heading level0 row14\" >14</th>\n",
       "      <td id=\"T_0313d_row14_col0\" class=\"data row14 col0\" >CPU Jobs</td>\n",
       "      <td id=\"T_0313d_row14_col1\" class=\"data row14 col1\" >-1</td>\n",
       "    </tr>\n",
       "    <tr>\n",
       "      <th id=\"T_0313d_level0_row15\" class=\"row_heading level0 row15\" >15</th>\n",
       "      <td id=\"T_0313d_row15_col0\" class=\"data row15 col0\" >Use GPU</td>\n",
       "      <td id=\"T_0313d_row15_col1\" class=\"data row15 col1\" >True</td>\n",
       "    </tr>\n",
       "    <tr>\n",
       "      <th id=\"T_0313d_level0_row16\" class=\"row_heading level0 row16\" >16</th>\n",
       "      <td id=\"T_0313d_row16_col0\" class=\"data row16 col0\" >Log Experiment</td>\n",
       "      <td id=\"T_0313d_row16_col1\" class=\"data row16 col1\" >WandbLogger</td>\n",
       "    </tr>\n",
       "    <tr>\n",
       "      <th id=\"T_0313d_level0_row17\" class=\"row_heading level0 row17\" >17</th>\n",
       "      <td id=\"T_0313d_row17_col0\" class=\"data row17 col0\" >Experiment Name</td>\n",
       "      <td id=\"T_0313d_row17_col1\" class=\"data row17 col1\" >clf-default-name</td>\n",
       "    </tr>\n",
       "    <tr>\n",
       "      <th id=\"T_0313d_level0_row18\" class=\"row_heading level0 row18\" >18</th>\n",
       "      <td id=\"T_0313d_row18_col0\" class=\"data row18 col0\" >USI</td>\n",
       "      <td id=\"T_0313d_row18_col1\" class=\"data row18 col1\" >7f02</td>\n",
       "    </tr>\n",
       "  </tbody>\n",
       "</table>\n"
      ],
      "text/plain": [
       "<pandas.io.formats.style.Styler at 0x7f140ea2f460>"
      ]
     },
     "metadata": {},
     "output_type": "display_data"
    },
    {
     "name": "stderr",
     "output_type": "stream",
     "text": [
      "[LightGBM] [Fatal] GPU Tree Learner was not enabled in this build.\n",
      "Please recompile with CMake option -DUSE_GPU=1\n",
      "[LightGBM] [Fatal] CUDA Tree Learner was not enabled in this build.\n",
      "Please recompile with CMake option -DUSE_CUDA=1\n",
      "[LightGBM] [Fatal] GPU Tree Learner was not enabled in this build.\n",
      "Please recompile with CMake option -DUSE_GPU=1\n",
      "[LightGBM] [Fatal] CUDA Tree Learner was not enabled in this build.\n",
      "Please recompile with CMake option -DUSE_CUDA=1\n"
     ]
    }
   ],
   "source": [
    "# Experiment setup\n",
    "s = setup(df, target = 'link', fold_strategy = 'stratifiedkfold', fold=10, train_size = 0.8, n_jobs=-1, system_log=True, use_gpu = True, log_experiment='wandb')\n",
    "exp = ClassificationExperiment()"
   ]
  },
  {
   "cell_type": "markdown",
   "metadata": {},
   "source": [
    "# K Neighbors Classifier"
   ]
  },
  {
   "cell_type": "code",
   "execution_count": 6,
   "metadata": {
    "tags": []
   },
   "outputs": [
    {
     "data": {
      "text/html": [],
      "text/plain": [
       "<IPython.core.display.HTML object>"
      ]
     },
     "metadata": {},
     "output_type": "display_data"
    },
    {
     "data": {
      "text/html": [
       "<style type=\"text/css\">\n",
       "#T_3feb6_row10_col0, #T_3feb6_row10_col1, #T_3feb6_row10_col2, #T_3feb6_row10_col3, #T_3feb6_row10_col4, #T_3feb6_row10_col5, #T_3feb6_row10_col6 {\n",
       "  background: yellow;\n",
       "}\n",
       "</style>\n",
       "<table id=\"T_3feb6\">\n",
       "  <thead>\n",
       "    <tr>\n",
       "      <th class=\"blank level0\" >&nbsp;</th>\n",
       "      <th id=\"T_3feb6_level0_col0\" class=\"col_heading level0 col0\" >Accuracy</th>\n",
       "      <th id=\"T_3feb6_level0_col1\" class=\"col_heading level0 col1\" >AUC</th>\n",
       "      <th id=\"T_3feb6_level0_col2\" class=\"col_heading level0 col2\" >Recall</th>\n",
       "      <th id=\"T_3feb6_level0_col3\" class=\"col_heading level0 col3\" >Prec.</th>\n",
       "      <th id=\"T_3feb6_level0_col4\" class=\"col_heading level0 col4\" >F1</th>\n",
       "      <th id=\"T_3feb6_level0_col5\" class=\"col_heading level0 col5\" >Kappa</th>\n",
       "      <th id=\"T_3feb6_level0_col6\" class=\"col_heading level0 col6\" >MCC</th>\n",
       "    </tr>\n",
       "    <tr>\n",
       "      <th class=\"index_name level0\" >Fold</th>\n",
       "      <th class=\"blank col0\" >&nbsp;</th>\n",
       "      <th class=\"blank col1\" >&nbsp;</th>\n",
       "      <th class=\"blank col2\" >&nbsp;</th>\n",
       "      <th class=\"blank col3\" >&nbsp;</th>\n",
       "      <th class=\"blank col4\" >&nbsp;</th>\n",
       "      <th class=\"blank col5\" >&nbsp;</th>\n",
       "      <th class=\"blank col6\" >&nbsp;</th>\n",
       "    </tr>\n",
       "  </thead>\n",
       "  <tbody>\n",
       "    <tr>\n",
       "      <th id=\"T_3feb6_level0_row0\" class=\"row_heading level0 row0\" >0</th>\n",
       "      <td id=\"T_3feb6_row0_col0\" class=\"data row0 col0\" >0.7327</td>\n",
       "      <td id=\"T_3feb6_row0_col1\" class=\"data row0 col1\" >0.8496</td>\n",
       "      <td id=\"T_3feb6_row0_col2\" class=\"data row0 col2\" >0.7415</td>\n",
       "      <td id=\"T_3feb6_row0_col3\" class=\"data row0 col3\" >0.7287</td>\n",
       "      <td id=\"T_3feb6_row0_col4\" class=\"data row0 col4\" >0.7351</td>\n",
       "      <td id=\"T_3feb6_row0_col5\" class=\"data row0 col5\" >0.4653</td>\n",
       "      <td id=\"T_3feb6_row0_col6\" class=\"data row0 col6\" >0.4654</td>\n",
       "    </tr>\n",
       "    <tr>\n",
       "      <th id=\"T_3feb6_level0_row1\" class=\"row_heading level0 row1\" >1</th>\n",
       "      <td id=\"T_3feb6_row1_col0\" class=\"data row1 col0\" >0.7327</td>\n",
       "      <td id=\"T_3feb6_row1_col1\" class=\"data row1 col1\" >0.8505</td>\n",
       "      <td id=\"T_3feb6_row1_col2\" class=\"data row1 col2\" >0.7422</td>\n",
       "      <td id=\"T_3feb6_row1_col3\" class=\"data row1 col3\" >0.7285</td>\n",
       "      <td id=\"T_3feb6_row1_col4\" class=\"data row1 col4\" >0.7353</td>\n",
       "      <td id=\"T_3feb6_row1_col5\" class=\"data row1 col5\" >0.4654</td>\n",
       "      <td id=\"T_3feb6_row1_col6\" class=\"data row1 col6\" >0.4655</td>\n",
       "    </tr>\n",
       "    <tr>\n",
       "      <th id=\"T_3feb6_level0_row2\" class=\"row_heading level0 row2\" >2</th>\n",
       "      <td id=\"T_3feb6_row2_col0\" class=\"data row2 col0\" >0.7327</td>\n",
       "      <td id=\"T_3feb6_row2_col1\" class=\"data row2 col1\" >0.8506</td>\n",
       "      <td id=\"T_3feb6_row2_col2\" class=\"data row2 col2\" >0.7460</td>\n",
       "      <td id=\"T_3feb6_row2_col3\" class=\"data row2 col3\" >0.7267</td>\n",
       "      <td id=\"T_3feb6_row2_col4\" class=\"data row2 col4\" >0.7362</td>\n",
       "      <td id=\"T_3feb6_row2_col5\" class=\"data row2 col5\" >0.4653</td>\n",
       "      <td id=\"T_3feb6_row2_col6\" class=\"data row2 col6\" >0.4655</td>\n",
       "    </tr>\n",
       "    <tr>\n",
       "      <th id=\"T_3feb6_level0_row3\" class=\"row_heading level0 row3\" >3</th>\n",
       "      <td id=\"T_3feb6_row3_col0\" class=\"data row3 col0\" >0.7329</td>\n",
       "      <td id=\"T_3feb6_row3_col1\" class=\"data row3 col1\" >0.8502</td>\n",
       "      <td id=\"T_3feb6_row3_col2\" class=\"data row3 col2\" >0.7448</td>\n",
       "      <td id=\"T_3feb6_row3_col3\" class=\"data row3 col3\" >0.7276</td>\n",
       "      <td id=\"T_3feb6_row3_col4\" class=\"data row3 col4\" >0.7361</td>\n",
       "      <td id=\"T_3feb6_row3_col5\" class=\"data row3 col5\" >0.4659</td>\n",
       "      <td id=\"T_3feb6_row3_col6\" class=\"data row3 col6\" >0.4660</td>\n",
       "    </tr>\n",
       "    <tr>\n",
       "      <th id=\"T_3feb6_level0_row4\" class=\"row_heading level0 row4\" >4</th>\n",
       "      <td id=\"T_3feb6_row4_col0\" class=\"data row4 col0\" >0.7353</td>\n",
       "      <td id=\"T_3feb6_row4_col1\" class=\"data row4 col1\" >0.8527</td>\n",
       "      <td id=\"T_3feb6_row4_col2\" class=\"data row4 col2\" >0.7475</td>\n",
       "      <td id=\"T_3feb6_row4_col3\" class=\"data row4 col3\" >0.7298</td>\n",
       "      <td id=\"T_3feb6_row4_col4\" class=\"data row4 col4\" >0.7385</td>\n",
       "      <td id=\"T_3feb6_row4_col5\" class=\"data row4 col5\" >0.4706</td>\n",
       "      <td id=\"T_3feb6_row4_col6\" class=\"data row4 col6\" >0.4708</td>\n",
       "    </tr>\n",
       "    <tr>\n",
       "      <th id=\"T_3feb6_level0_row5\" class=\"row_heading level0 row5\" >5</th>\n",
       "      <td id=\"T_3feb6_row5_col0\" class=\"data row5 col0\" >0.7331</td>\n",
       "      <td id=\"T_3feb6_row5_col1\" class=\"data row5 col1\" >0.8498</td>\n",
       "      <td id=\"T_3feb6_row5_col2\" class=\"data row5 col2\" >0.7460</td>\n",
       "      <td id=\"T_3feb6_row5_col3\" class=\"data row5 col3\" >0.7273</td>\n",
       "      <td id=\"T_3feb6_row5_col4\" class=\"data row5 col4\" >0.7365</td>\n",
       "      <td id=\"T_3feb6_row5_col5\" class=\"data row5 col5\" >0.4661</td>\n",
       "      <td id=\"T_3feb6_row5_col6\" class=\"data row5 col6\" >0.4663</td>\n",
       "    </tr>\n",
       "    <tr>\n",
       "      <th id=\"T_3feb6_level0_row6\" class=\"row_heading level0 row6\" >6</th>\n",
       "      <td id=\"T_3feb6_row6_col0\" class=\"data row6 col0\" >0.7332</td>\n",
       "      <td id=\"T_3feb6_row6_col1\" class=\"data row6 col1\" >0.8505</td>\n",
       "      <td id=\"T_3feb6_row6_col2\" class=\"data row6 col2\" >0.7449</td>\n",
       "      <td id=\"T_3feb6_row6_col3\" class=\"data row6 col3\" >0.7280</td>\n",
       "      <td id=\"T_3feb6_row6_col4\" class=\"data row6 col4\" >0.7363</td>\n",
       "      <td id=\"T_3feb6_row6_col5\" class=\"data row6 col5\" >0.4664</td>\n",
       "      <td id=\"T_3feb6_row6_col6\" class=\"data row6 col6\" >0.4666</td>\n",
       "    </tr>\n",
       "    <tr>\n",
       "      <th id=\"T_3feb6_level0_row7\" class=\"row_heading level0 row7\" >7</th>\n",
       "      <td id=\"T_3feb6_row7_col0\" class=\"data row7 col0\" >0.7364</td>\n",
       "      <td id=\"T_3feb6_row7_col1\" class=\"data row7 col1\" >0.8537</td>\n",
       "      <td id=\"T_3feb6_row7_col2\" class=\"data row7 col2\" >0.7480</td>\n",
       "      <td id=\"T_3feb6_row7_col3\" class=\"data row7 col3\" >0.7312</td>\n",
       "      <td id=\"T_3feb6_row7_col4\" class=\"data row7 col4\" >0.7395</td>\n",
       "      <td id=\"T_3feb6_row7_col5\" class=\"data row7 col5\" >0.4729</td>\n",
       "      <td id=\"T_3feb6_row7_col6\" class=\"data row7 col6\" >0.4730</td>\n",
       "    </tr>\n",
       "    <tr>\n",
       "      <th id=\"T_3feb6_level0_row8\" class=\"row_heading level0 row8\" >8</th>\n",
       "      <td id=\"T_3feb6_row8_col0\" class=\"data row8 col0\" >0.7341</td>\n",
       "      <td id=\"T_3feb6_row8_col1\" class=\"data row8 col1\" >0.8511</td>\n",
       "      <td id=\"T_3feb6_row8_col2\" class=\"data row8 col2\" >0.7456</td>\n",
       "      <td id=\"T_3feb6_row8_col3\" class=\"data row8 col3\" >0.7289</td>\n",
       "      <td id=\"T_3feb6_row8_col4\" class=\"data row8 col4\" >0.7372</td>\n",
       "      <td id=\"T_3feb6_row8_col5\" class=\"data row8 col5\" >0.4682</td>\n",
       "      <td id=\"T_3feb6_row8_col6\" class=\"data row8 col6\" >0.4683</td>\n",
       "    </tr>\n",
       "    <tr>\n",
       "      <th id=\"T_3feb6_level0_row9\" class=\"row_heading level0 row9\" >9</th>\n",
       "      <td id=\"T_3feb6_row9_col0\" class=\"data row9 col0\" >0.7355</td>\n",
       "      <td id=\"T_3feb6_row9_col1\" class=\"data row9 col1\" >0.8525</td>\n",
       "      <td id=\"T_3feb6_row9_col2\" class=\"data row9 col2\" >0.7483</td>\n",
       "      <td id=\"T_3feb6_row9_col3\" class=\"data row9 col3\" >0.7297</td>\n",
       "      <td id=\"T_3feb6_row9_col4\" class=\"data row9 col4\" >0.7389</td>\n",
       "      <td id=\"T_3feb6_row9_col5\" class=\"data row9 col5\" >0.4711</td>\n",
       "      <td id=\"T_3feb6_row9_col6\" class=\"data row9 col6\" >0.4712</td>\n",
       "    </tr>\n",
       "    <tr>\n",
       "      <th id=\"T_3feb6_level0_row10\" class=\"row_heading level0 row10\" >Mean</th>\n",
       "      <td id=\"T_3feb6_row10_col0\" class=\"data row10 col0\" >0.7339</td>\n",
       "      <td id=\"T_3feb6_row10_col1\" class=\"data row10 col1\" >0.8511</td>\n",
       "      <td id=\"T_3feb6_row10_col2\" class=\"data row10 col2\" >0.7455</td>\n",
       "      <td id=\"T_3feb6_row10_col3\" class=\"data row10 col3\" >0.7286</td>\n",
       "      <td id=\"T_3feb6_row10_col4\" class=\"data row10 col4\" >0.7370</td>\n",
       "      <td id=\"T_3feb6_row10_col5\" class=\"data row10 col5\" >0.4677</td>\n",
       "      <td id=\"T_3feb6_row10_col6\" class=\"data row10 col6\" >0.4679</td>\n",
       "    </tr>\n",
       "    <tr>\n",
       "      <th id=\"T_3feb6_level0_row11\" class=\"row_heading level0 row11\" >Std</th>\n",
       "      <td id=\"T_3feb6_row11_col0\" class=\"data row11 col0\" >0.0013</td>\n",
       "      <td id=\"T_3feb6_row11_col1\" class=\"data row11 col1\" >0.0013</td>\n",
       "      <td id=\"T_3feb6_row11_col2\" class=\"data row11 col2\" >0.0022</td>\n",
       "      <td id=\"T_3feb6_row11_col3\" class=\"data row11 col3\" >0.0013</td>\n",
       "      <td id=\"T_3feb6_row11_col4\" class=\"data row11 col4\" >0.0015</td>\n",
       "      <td id=\"T_3feb6_row11_col5\" class=\"data row11 col5\" >0.0027</td>\n",
       "      <td id=\"T_3feb6_row11_col6\" class=\"data row11 col6\" >0.0027</td>\n",
       "    </tr>\n",
       "  </tbody>\n",
       "</table>\n"
      ],
      "text/plain": [
       "<pandas.io.formats.style.Styler at 0x7f140c2de860>"
      ]
     },
     "metadata": {},
     "output_type": "display_data"
    },
    {
     "data": {
      "text/html": [],
      "text/plain": [
       "<IPython.core.display.HTML object>"
      ]
     },
     "metadata": {},
     "output_type": "display_data"
    }
   ],
   "source": [
    "knn = create_model('knn')"
   ]
  },
  {
   "cell_type": "code",
   "execution_count": 7,
   "metadata": {},
   "outputs": [
    {
     "data": {
      "text/html": [],
      "text/plain": [
       "<IPython.core.display.HTML object>"
      ]
     },
     "metadata": {},
     "output_type": "display_data"
    },
    {
     "data": {
      "image/png": "[encoded data removed]",
      "text/plain": [
       "<Figure size 800x550 with 1 Axes>"
      ]
     },
     "metadata": {},
     "output_type": "display_data"
    }
   ],
   "source": [
    "plot_model(knn, plot = 'confusion_matrix')"
   ]
  },
  {
   "cell_type": "code",
   "execution_count": 8,
   "metadata": {},
   "outputs": [
    {
     "data": {
      "text/html": [],
      "text/plain": [
       "<IPython.core.display.HTML object>"
      ]
     },
     "metadata": {},
     "output_type": "display_data"
    },
    {
     "data": {
      "image/png": "[encoded data removed]",
      "text/plain": [
       "<Figure size 800x550 with 1 Axes>"
      ]
     },
     "metadata": {},
     "output_type": "display_data"
    }
   ],
   "source": [
    "plot_model(knn, plot = 'error')"
   ]
  },
  {
   "cell_type": "code",
   "execution_count": 9,
   "metadata": {},
   "outputs": [
    {
     "data": {
      "text/html": [],
      "text/plain": [
       "<IPython.core.display.HTML object>"
      ]
     },
     "metadata": {},
     "output_type": "display_data"
    },
    {
     "data": {
      "text/html": [
       "<div>\n",
       "<style scoped>\n",
       "    .dataframe tbody tr th:only-of-type {\n",
       "        vertical-align: middle;\n",
       "    }\n",
       "\n",
       "    .dataframe tbody tr th {\n",
       "        vertical-align: top;\n",
       "    }\n",
       "\n",
       "    .dataframe thead th {\n",
       "        text-align: right;\n",
       "    }\n",
       "</style>\n",
       "<table border=\"1\" class=\"dataframe\">\n",
       "  <thead>\n",
       "    <tr style=\"text-align: right;\">\n",
       "      <th></th>\n",
       "      <th>Parameters</th>\n",
       "    </tr>\n",
       "  </thead>\n",
       "  <tbody>\n",
       "    <tr>\n",
       "      <th>algorithm</th>\n",
       "      <td>auto</td>\n",
       "    </tr>\n",
       "    <tr>\n",
       "      <th>leaf_size</th>\n",
       "      <td>30</td>\n",
       "    </tr>\n",
       "    <tr>\n",
       "      <th>metric</th>\n",
       "      <td>minkowski</td>\n",
       "    </tr>\n",
       "    <tr>\n",
       "      <th>metric_params</th>\n",
       "      <td>None</td>\n",
       "    </tr>\n",
       "    <tr>\n",
       "      <th>n_jobs</th>\n",
       "      <td>-1</td>\n",
       "    </tr>\n",
       "    <tr>\n",
       "      <th>n_neighbors</th>\n",
       "      <td>5</td>\n",
       "    </tr>\n",
       "    <tr>\n",
       "      <th>p</th>\n",
       "      <td>2</td>\n",
       "    </tr>\n",
       "    <tr>\n",
       "      <th>weights</th>\n",
       "      <td>uniform</td>\n",
       "    </tr>\n",
       "  </tbody>\n",
       "</table>\n",
       "</div>"
      ],
      "text/plain": [
       "              Parameters\n",
       "algorithm           auto\n",
       "leaf_size             30\n",
       "metric         minkowski\n",
       "metric_params       None\n",
       "n_jobs                -1\n",
       "n_neighbors            5\n",
       "p                      2\n",
       "weights          uniform"
      ]
     },
     "metadata": {},
     "output_type": "display_data"
    }
   ],
   "source": [
    "plot_model(knn, plot = 'parameter')"
   ]
  },
  {
   "cell_type": "code",
   "execution_count": 10,
   "metadata": {},
   "outputs": [
    {
     "name": "stdout",
     "output_type": "stream",
     "text": [
      "Transformation Pipeline and Model Successfully Saved\n"
     ]
    },
    {
     "data": {
      "text/plain": [
       "(Pipeline(memory=FastMemory(location=/tmp/joblib),\n",
       "          steps=[('numerical_imputer',\n",
       "                  TransformerWrapper(exclude=None,\n",
       "                                     include=['0', '1', '2', '3', '4', '5', '6',\n",
       "                                              '7', '8', '9', '10', '11', '12',\n",
       "                                              '13', '14', '15', '16', '17', '18',\n",
       "                                              '19', '20', '21', '22', '23', '24',\n",
       "                                              '25', '26', '27', '28', '29', ...],\n",
       "                                     transformer=SimpleImputer(add_indicator=False,\n",
       "                                                               copy=True,\n",
       "                                                               fill_value=None,\n",
       "                                                               keep_empty_feat...\n",
       "                  TransformerWrapper(exclude=None, include=[],\n",
       "                                     transformer=SimpleImputer(add_indicator=False,\n",
       "                                                               copy=True,\n",
       "                                                               fill_value=None,\n",
       "                                                               keep_empty_features=False,\n",
       "                                                               missing_values=nan,\n",
       "                                                               strategy='most_frequent',\n",
       "                                                               verbose='deprecated'))),\n",
       "                 ('trained_model',\n",
       "                  KNeighborsClassifier(algorithm='auto', leaf_size=30,\n",
       "                                       metric='minkowski', metric_params=None,\n",
       "                                       n_jobs=-1, n_neighbors=5, p=2,\n",
       "                                       weights='uniform'))],\n",
       "          verbose=False),\n",
       " 'models_classif/convkb/binary_emb_val/knn.pkl')"
      ]
     },
     "execution_count": 10,
     "metadata": {},
     "output_type": "execute_result"
    }
   ],
   "source": [
    "save_model(knn, 'models_classif/convkb/binary_emb_val/knn')"
   ]
  },
  {
   "cell_type": "markdown",
   "metadata": {},
   "source": [
    "# Naive Bayes"
   ]
  },
  {
   "cell_type": "code",
   "execution_count": 11,
   "metadata": {
    "tags": []
   },
   "outputs": [
    {
     "data": {
      "text/html": [],
      "text/plain": [
       "<IPython.core.display.HTML object>"
      ]
     },
     "metadata": {},
     "output_type": "display_data"
    },
    {
     "data": {
      "text/html": [
       "<style type=\"text/css\">\n",
       "#T_bbb2d_row10_col0, #T_bbb2d_row10_col1, #T_bbb2d_row10_col2, #T_bbb2d_row10_col3, #T_bbb2d_row10_col4, #T_bbb2d_row10_col5, #T_bbb2d_row10_col6 {\n",
       "  background: yellow;\n",
       "}\n",
       "</style>\n",
       "<table id=\"T_bbb2d\">\n",
       "  <thead>\n",
       "    <tr>\n",
       "      <th class=\"blank level0\" >&nbsp;</th>\n",
       "      <th id=\"T_bbb2d_level0_col0\" class=\"col_heading level0 col0\" >Accuracy</th>\n",
       "      <th id=\"T_bbb2d_level0_col1\" class=\"col_heading level0 col1\" >AUC</th>\n",
       "      <th id=\"T_bbb2d_level0_col2\" class=\"col_heading level0 col2\" >Recall</th>\n",
       "      <th id=\"T_bbb2d_level0_col3\" class=\"col_heading level0 col3\" >Prec.</th>\n",
       "      <th id=\"T_bbb2d_level0_col4\" class=\"col_heading level0 col4\" >F1</th>\n",
       "      <th id=\"T_bbb2d_level0_col5\" class=\"col_heading level0 col5\" >Kappa</th>\n",
       "      <th id=\"T_bbb2d_level0_col6\" class=\"col_heading level0 col6\" >MCC</th>\n",
       "    </tr>\n",
       "    <tr>\n",
       "      <th class=\"index_name level0\" >Fold</th>\n",
       "      <th class=\"blank col0\" >&nbsp;</th>\n",
       "      <th class=\"blank col1\" >&nbsp;</th>\n",
       "      <th class=\"blank col2\" >&nbsp;</th>\n",
       "      <th class=\"blank col3\" >&nbsp;</th>\n",
       "      <th class=\"blank col4\" >&nbsp;</th>\n",
       "      <th class=\"blank col5\" >&nbsp;</th>\n",
       "      <th class=\"blank col6\" >&nbsp;</th>\n",
       "    </tr>\n",
       "  </thead>\n",
       "  <tbody>\n",
       "    <tr>\n",
       "      <th id=\"T_bbb2d_level0_row0\" class=\"row_heading level0 row0\" >0</th>\n",
       "      <td id=\"T_bbb2d_row0_col0\" class=\"data row0 col0\" >0.5886</td>\n",
       "      <td id=\"T_bbb2d_row0_col1\" class=\"data row0 col1\" >0.6223</td>\n",
       "      <td id=\"T_bbb2d_row0_col2\" class=\"data row0 col2\" >0.6611</td>\n",
       "      <td id=\"T_bbb2d_row0_col3\" class=\"data row0 col3\" >0.5774</td>\n",
       "      <td id=\"T_bbb2d_row0_col4\" class=\"data row0 col4\" >0.6164</td>\n",
       "      <td id=\"T_bbb2d_row0_col5\" class=\"data row0 col5\" >0.1771</td>\n",
       "      <td id=\"T_bbb2d_row0_col6\" class=\"data row0 col6\" >0.1790</td>\n",
       "    </tr>\n",
       "    <tr>\n",
       "      <th id=\"T_bbb2d_level0_row1\" class=\"row_heading level0 row1\" >1</th>\n",
       "      <td id=\"T_bbb2d_row1_col0\" class=\"data row1 col0\" >0.5874</td>\n",
       "      <td id=\"T_bbb2d_row1_col1\" class=\"data row1 col1\" >0.6225</td>\n",
       "      <td id=\"T_bbb2d_row1_col2\" class=\"data row1 col2\" >0.6582</td>\n",
       "      <td id=\"T_bbb2d_row1_col3\" class=\"data row1 col3\" >0.5767</td>\n",
       "      <td id=\"T_bbb2d_row1_col4\" class=\"data row1 col4\" >0.6147</td>\n",
       "      <td id=\"T_bbb2d_row1_col5\" class=\"data row1 col5\" >0.1748</td>\n",
       "      <td id=\"T_bbb2d_row1_col6\" class=\"data row1 col6\" >0.1766</td>\n",
       "    </tr>\n",
       "    <tr>\n",
       "      <th id=\"T_bbb2d_level0_row2\" class=\"row_heading level0 row2\" >2</th>\n",
       "      <td id=\"T_bbb2d_row2_col0\" class=\"data row2 col0\" >0.5885</td>\n",
       "      <td id=\"T_bbb2d_row2_col1\" class=\"data row2 col1\" >0.6225</td>\n",
       "      <td id=\"T_bbb2d_row2_col2\" class=\"data row2 col2\" >0.6609</td>\n",
       "      <td id=\"T_bbb2d_row2_col3\" class=\"data row2 col3\" >0.5774</td>\n",
       "      <td id=\"T_bbb2d_row2_col4\" class=\"data row2 col4\" >0.6163</td>\n",
       "      <td id=\"T_bbb2d_row2_col5\" class=\"data row2 col5\" >0.1769</td>\n",
       "      <td id=\"T_bbb2d_row2_col6\" class=\"data row2 col6\" >0.1788</td>\n",
       "    </tr>\n",
       "    <tr>\n",
       "      <th id=\"T_bbb2d_level0_row3\" class=\"row_heading level0 row3\" >3</th>\n",
       "      <td id=\"T_bbb2d_row3_col0\" class=\"data row3 col0\" >0.5879</td>\n",
       "      <td id=\"T_bbb2d_row3_col1\" class=\"data row3 col1\" >0.6230</td>\n",
       "      <td id=\"T_bbb2d_row3_col2\" class=\"data row3 col2\" >0.6624</td>\n",
       "      <td id=\"T_bbb2d_row3_col3\" class=\"data row3 col3\" >0.5766</td>\n",
       "      <td id=\"T_bbb2d_row3_col4\" class=\"data row3 col4\" >0.6165</td>\n",
       "      <td id=\"T_bbb2d_row3_col5\" class=\"data row3 col5\" >0.1759</td>\n",
       "      <td id=\"T_bbb2d_row3_col6\" class=\"data row3 col6\" >0.1778</td>\n",
       "    </tr>\n",
       "    <tr>\n",
       "      <th id=\"T_bbb2d_level0_row4\" class=\"row_heading level0 row4\" >4</th>\n",
       "      <td id=\"T_bbb2d_row4_col0\" class=\"data row4 col0\" >0.5891</td>\n",
       "      <td id=\"T_bbb2d_row4_col1\" class=\"data row4 col1\" >0.6247</td>\n",
       "      <td id=\"T_bbb2d_row4_col2\" class=\"data row4 col2\" >0.6629</td>\n",
       "      <td id=\"T_bbb2d_row4_col3\" class=\"data row4 col3\" >0.5778</td>\n",
       "      <td id=\"T_bbb2d_row4_col4\" class=\"data row4 col4\" >0.6174</td>\n",
       "      <td id=\"T_bbb2d_row4_col5\" class=\"data row4 col5\" >0.1783</td>\n",
       "      <td id=\"T_bbb2d_row4_col6\" class=\"data row4 col6\" >0.1802</td>\n",
       "    </tr>\n",
       "    <tr>\n",
       "      <th id=\"T_bbb2d_level0_row5\" class=\"row_heading level0 row5\" >5</th>\n",
       "      <td id=\"T_bbb2d_row5_col0\" class=\"data row5 col0\" >0.5871</td>\n",
       "      <td id=\"T_bbb2d_row5_col1\" class=\"data row5 col1\" >0.6229</td>\n",
       "      <td id=\"T_bbb2d_row5_col2\" class=\"data row5 col2\" >0.6602</td>\n",
       "      <td id=\"T_bbb2d_row5_col3\" class=\"data row5 col3\" >0.5761</td>\n",
       "      <td id=\"T_bbb2d_row5_col4\" class=\"data row5 col4\" >0.6153</td>\n",
       "      <td id=\"T_bbb2d_row5_col5\" class=\"data row5 col5\" >0.1743</td>\n",
       "      <td id=\"T_bbb2d_row5_col6\" class=\"data row5 col6\" >0.1761</td>\n",
       "    </tr>\n",
       "    <tr>\n",
       "      <th id=\"T_bbb2d_level0_row6\" class=\"row_heading level0 row6\" >6</th>\n",
       "      <td id=\"T_bbb2d_row6_col0\" class=\"data row6 col0\" >0.5892</td>\n",
       "      <td id=\"T_bbb2d_row6_col1\" class=\"data row6 col1\" >0.6237</td>\n",
       "      <td id=\"T_bbb2d_row6_col2\" class=\"data row6 col2\" >0.6632</td>\n",
       "      <td id=\"T_bbb2d_row6_col3\" class=\"data row6 col3\" >0.5778</td>\n",
       "      <td id=\"T_bbb2d_row6_col4\" class=\"data row6 col4\" >0.6175</td>\n",
       "      <td id=\"T_bbb2d_row6_col5\" class=\"data row6 col5\" >0.1784</td>\n",
       "      <td id=\"T_bbb2d_row6_col6\" class=\"data row6 col6\" >0.1804</td>\n",
       "    </tr>\n",
       "    <tr>\n",
       "      <th id=\"T_bbb2d_level0_row7\" class=\"row_heading level0 row7\" >7</th>\n",
       "      <td id=\"T_bbb2d_row7_col0\" class=\"data row7 col0\" >0.5888</td>\n",
       "      <td id=\"T_bbb2d_row7_col1\" class=\"data row7 col1\" >0.6233</td>\n",
       "      <td id=\"T_bbb2d_row7_col2\" class=\"data row7 col2\" >0.6620</td>\n",
       "      <td id=\"T_bbb2d_row7_col3\" class=\"data row7 col3\" >0.5775</td>\n",
       "      <td id=\"T_bbb2d_row7_col4\" class=\"data row7 col4\" >0.6169</td>\n",
       "      <td id=\"T_bbb2d_row7_col5\" class=\"data row7 col5\" >0.1776</td>\n",
       "      <td id=\"T_bbb2d_row7_col6\" class=\"data row7 col6\" >0.1795</td>\n",
       "    </tr>\n",
       "    <tr>\n",
       "      <th id=\"T_bbb2d_level0_row8\" class=\"row_heading level0 row8\" >8</th>\n",
       "      <td id=\"T_bbb2d_row8_col0\" class=\"data row8 col0\" >0.5876</td>\n",
       "      <td id=\"T_bbb2d_row8_col1\" class=\"data row8 col1\" >0.6228</td>\n",
       "      <td id=\"T_bbb2d_row8_col2\" class=\"data row8 col2\" >0.6596</td>\n",
       "      <td id=\"T_bbb2d_row8_col3\" class=\"data row8 col3\" >0.5766</td>\n",
       "      <td id=\"T_bbb2d_row8_col4\" class=\"data row8 col4\" >0.6153</td>\n",
       "      <td id=\"T_bbb2d_row8_col5\" class=\"data row8 col5\" >0.1751</td>\n",
       "      <td id=\"T_bbb2d_row8_col6\" class=\"data row8 col6\" >0.1769</td>\n",
       "    </tr>\n",
       "    <tr>\n",
       "      <th id=\"T_bbb2d_level0_row9\" class=\"row_heading level0 row9\" >9</th>\n",
       "      <td id=\"T_bbb2d_row9_col0\" class=\"data row9 col0\" >0.5901</td>\n",
       "      <td id=\"T_bbb2d_row9_col1\" class=\"data row9 col1\" >0.6253</td>\n",
       "      <td id=\"T_bbb2d_row9_col2\" class=\"data row9 col2\" >0.6653</td>\n",
       "      <td id=\"T_bbb2d_row9_col3\" class=\"data row9 col3\" >0.5784</td>\n",
       "      <td id=\"T_bbb2d_row9_col4\" class=\"data row9 col4\" >0.6188</td>\n",
       "      <td id=\"T_bbb2d_row9_col5\" class=\"data row9 col5\" >0.1802</td>\n",
       "      <td id=\"T_bbb2d_row9_col6\" class=\"data row9 col6\" >0.1823</td>\n",
       "    </tr>\n",
       "    <tr>\n",
       "      <th id=\"T_bbb2d_level0_row10\" class=\"row_heading level0 row10\" >Mean</th>\n",
       "      <td id=\"T_bbb2d_row10_col0\" class=\"data row10 col0\" >0.5884</td>\n",
       "      <td id=\"T_bbb2d_row10_col1\" class=\"data row10 col1\" >0.6233</td>\n",
       "      <td id=\"T_bbb2d_row10_col2\" class=\"data row10 col2\" >0.6616</td>\n",
       "      <td id=\"T_bbb2d_row10_col3\" class=\"data row10 col3\" >0.5772</td>\n",
       "      <td id=\"T_bbb2d_row10_col4\" class=\"data row10 col4\" >0.6165</td>\n",
       "      <td id=\"T_bbb2d_row10_col5\" class=\"data row10 col5\" >0.1768</td>\n",
       "      <td id=\"T_bbb2d_row10_col6\" class=\"data row10 col6\" >0.1788</td>\n",
       "    </tr>\n",
       "    <tr>\n",
       "      <th id=\"T_bbb2d_level0_row11\" class=\"row_heading level0 row11\" >Std</th>\n",
       "      <td id=\"T_bbb2d_row11_col0\" class=\"data row11 col0\" >0.0009</td>\n",
       "      <td id=\"T_bbb2d_row11_col1\" class=\"data row11 col1\" >0.0010</td>\n",
       "      <td id=\"T_bbb2d_row11_col2\" class=\"data row11 col2\" >0.0019</td>\n",
       "      <td id=\"T_bbb2d_row11_col3\" class=\"data row11 col3\" >0.0007</td>\n",
       "      <td id=\"T_bbb2d_row11_col4\" class=\"data row11 col4\" >0.0012</td>\n",
       "      <td id=\"T_bbb2d_row11_col5\" class=\"data row11 col5\" >0.0018</td>\n",
       "      <td id=\"T_bbb2d_row11_col6\" class=\"data row11 col6\" >0.0018</td>\n",
       "    </tr>\n",
       "  </tbody>\n",
       "</table>\n"
      ],
      "text/plain": [
       "<pandas.io.formats.style.Styler at 0x7f140c3280d0>"
      ]
     },
     "metadata": {},
     "output_type": "display_data"
    },
    {
     "data": {
      "text/html": [],
      "text/plain": [
       "<IPython.core.display.HTML object>"
      ]
     },
     "metadata": {},
     "output_type": "display_data"
    }
   ],
   "source": [
    "nb = create_model('nb')"
   ]
  },
  {
   "cell_type": "code",
   "execution_count": 12,
   "metadata": {},
   "outputs": [
    {
     "data": {
      "text/html": [],
      "text/plain": [
       "<IPython.core.display.HTML object>"
      ]
     },
     "metadata": {},
     "output_type": "display_data"
    },
    {
     "data": {
      "image/png": "[encoded data removed]",
      "text/plain": [
       "<Figure size 800x550 with 1 Axes>"
      ]
     },
     "metadata": {},
     "output_type": "display_data"
    }
   ],
   "source": [
    "plot_model(nb, plot = 'confusion_matrix')"
   ]
  },
  {
   "cell_type": "code",
   "execution_count": 13,
   "metadata": {},
   "outputs": [
    {
     "data": {
      "text/html": [],
      "text/plain": [
       "<IPython.core.display.HTML object>"
      ]
     },
     "metadata": {},
     "output_type": "display_data"
    },
    {
     "data": {
      "image/png": "[encoded data removed]",
      "text/plain": [
       "<Figure size 800x550 with 1 Axes>"
      ]
     },
     "metadata": {},
     "output_type": "display_data"
    }
   ],
   "source": [
    "plot_model(nb, plot = 'error')"
   ]
  },
  {
   "cell_type": "code",
   "execution_count": 14,
   "metadata": {},
   "outputs": [
    {
     "data": {
      "text/html": [],
      "text/plain": [
       "<IPython.core.display.HTML object>"
      ]
     },
     "metadata": {},
     "output_type": "display_data"
    },
    {
     "data": {
      "text/html": [
       "<div>\n",
       "<style scoped>\n",
       "    .dataframe tbody tr th:only-of-type {\n",
       "        vertical-align: middle;\n",
       "    }\n",
       "\n",
       "    .dataframe tbody tr th {\n",
       "        vertical-align: top;\n",
       "    }\n",
       "\n",
       "    .dataframe thead th {\n",
       "        text-align: right;\n",
       "    }\n",
       "</style>\n",
       "<table border=\"1\" class=\"dataframe\">\n",
       "  <thead>\n",
       "    <tr style=\"text-align: right;\">\n",
       "      <th></th>\n",
       "      <th>Parameters</th>\n",
       "    </tr>\n",
       "  </thead>\n",
       "  <tbody>\n",
       "    <tr>\n",
       "      <th>priors</th>\n",
       "      <td>None</td>\n",
       "    </tr>\n",
       "    <tr>\n",
       "      <th>var_smoothing</th>\n",
       "      <td>1e-09</td>\n",
       "    </tr>\n",
       "  </tbody>\n",
       "</table>\n",
       "</div>"
      ],
      "text/plain": [
       "              Parameters\n",
       "priors              None\n",
       "var_smoothing      1e-09"
      ]
     },
     "metadata": {},
     "output_type": "display_data"
    }
   ],
   "source": [
    "plot_model(nb, plot = 'parameter')"
   ]
  },
  {
   "cell_type": "code",
   "execution_count": 15,
   "metadata": {},
   "outputs": [
    {
     "name": "stdout",
     "output_type": "stream",
     "text": [
      "Transformation Pipeline and Model Successfully Saved\n"
     ]
    },
    {
     "data": {
      "text/plain": [
       "(Pipeline(memory=FastMemory(location=/tmp/joblib),\n",
       "          steps=[('numerical_imputer',\n",
       "                  TransformerWrapper(exclude=None,\n",
       "                                     include=['0', '1', '2', '3', '4', '5', '6',\n",
       "                                              '7', '8', '9', '10', '11', '12',\n",
       "                                              '13', '14', '15', '16', '17', '18',\n",
       "                                              '19', '20', '21', '22', '23', '24',\n",
       "                                              '25', '26', '27', '28', '29', ...],\n",
       "                                     transformer=SimpleImputer(add_indicator=False,\n",
       "                                                               copy=True,\n",
       "                                                               fill_value=None,\n",
       "                                                               keep_empty_feat...\n",
       "                                                               missing_values=nan,\n",
       "                                                               strategy='mean',\n",
       "                                                               verbose='deprecated'))),\n",
       "                 ('categorical_imputer',\n",
       "                  TransformerWrapper(exclude=None, include=[],\n",
       "                                     transformer=SimpleImputer(add_indicator=False,\n",
       "                                                               copy=True,\n",
       "                                                               fill_value=None,\n",
       "                                                               keep_empty_features=False,\n",
       "                                                               missing_values=nan,\n",
       "                                                               strategy='most_frequent',\n",
       "                                                               verbose='deprecated'))),\n",
       "                 ('trained_model',\n",
       "                  GaussianNB(priors=None, var_smoothing=1e-09))],\n",
       "          verbose=False),\n",
       " 'models_classif/convkb/binary_emb_val/nb.pkl')"
      ]
     },
     "execution_count": 15,
     "metadata": {},
     "output_type": "execute_result"
    }
   ],
   "source": [
    "save_model(nb, 'models_classif/convkb/binary_emb_val/nb')"
   ]
  },
  {
   "cell_type": "markdown",
   "metadata": {},
   "source": [
    "# Decision Tree Classifier"
   ]
  },
  {
   "cell_type": "code",
   "execution_count": 16,
   "metadata": {},
   "outputs": [
    {
     "data": {
      "text/html": [],
      "text/plain": [
       "<IPython.core.display.HTML object>"
      ]
     },
     "metadata": {},
     "output_type": "display_data"
    },
    {
     "data": {
      "text/html": [
       "<style type=\"text/css\">\n",
       "#T_e4a5f_row10_col0, #T_e4a5f_row10_col1, #T_e4a5f_row10_col2, #T_e4a5f_row10_col3, #T_e4a5f_row10_col4, #T_e4a5f_row10_col5, #T_e4a5f_row10_col6 {\n",
       "  background: yellow;\n",
       "}\n",
       "</style>\n",
       "<table id=\"T_e4a5f\">\n",
       "  <thead>\n",
       "    <tr>\n",
       "      <th class=\"blank level0\" >&nbsp;</th>\n",
       "      <th id=\"T_e4a5f_level0_col0\" class=\"col_heading level0 col0\" >Accuracy</th>\n",
       "      <th id=\"T_e4a5f_level0_col1\" class=\"col_heading level0 col1\" >AUC</th>\n",
       "      <th id=\"T_e4a5f_level0_col2\" class=\"col_heading level0 col2\" >Recall</th>\n",
       "      <th id=\"T_e4a5f_level0_col3\" class=\"col_heading level0 col3\" >Prec.</th>\n",
       "      <th id=\"T_e4a5f_level0_col4\" class=\"col_heading level0 col4\" >F1</th>\n",
       "      <th id=\"T_e4a5f_level0_col5\" class=\"col_heading level0 col5\" >Kappa</th>\n",
       "      <th id=\"T_e4a5f_level0_col6\" class=\"col_heading level0 col6\" >MCC</th>\n",
       "    </tr>\n",
       "    <tr>\n",
       "      <th class=\"index_name level0\" >Fold</th>\n",
       "      <th class=\"blank col0\" >&nbsp;</th>\n",
       "      <th class=\"blank col1\" >&nbsp;</th>\n",
       "      <th class=\"blank col2\" >&nbsp;</th>\n",
       "      <th class=\"blank col3\" >&nbsp;</th>\n",
       "      <th class=\"blank col4\" >&nbsp;</th>\n",
       "      <th class=\"blank col5\" >&nbsp;</th>\n",
       "      <th class=\"blank col6\" >&nbsp;</th>\n",
       "    </tr>\n",
       "  </thead>\n",
       "  <tbody>\n",
       "    <tr>\n",
       "      <th id=\"T_e4a5f_level0_row0\" class=\"row_heading level0 row0\" >0</th>\n",
       "      <td id=\"T_e4a5f_row0_col0\" class=\"data row0 col0\" >0.7444</td>\n",
       "      <td id=\"T_e4a5f_row0_col1\" class=\"data row0 col1\" >0.8673</td>\n",
       "      <td id=\"T_e4a5f_row0_col2\" class=\"data row0 col2\" >0.4967</td>\n",
       "      <td id=\"T_e4a5f_row0_col3\" class=\"data row0 col3\" >0.9843</td>\n",
       "      <td id=\"T_e4a5f_row0_col4\" class=\"data row0 col4\" >0.6603</td>\n",
       "      <td id=\"T_e4a5f_row0_col5\" class=\"data row0 col5\" >0.4888</td>\n",
       "      <td id=\"T_e4a5f_row0_col6\" class=\"data row0 col6\" >0.5627</td>\n",
       "    </tr>\n",
       "    <tr>\n",
       "      <th id=\"T_e4a5f_level0_row1\" class=\"row_heading level0 row1\" >1</th>\n",
       "      <td id=\"T_e4a5f_row1_col0\" class=\"data row1 col0\" >0.7452</td>\n",
       "      <td id=\"T_e4a5f_row1_col1\" class=\"data row1 col1\" >0.8683</td>\n",
       "      <td id=\"T_e4a5f_row1_col2\" class=\"data row1 col2\" >0.5010</td>\n",
       "      <td id=\"T_e4a5f_row1_col3\" class=\"data row1 col3\" >0.9796</td>\n",
       "      <td id=\"T_e4a5f_row1_col4\" class=\"data row1 col4\" >0.6629</td>\n",
       "      <td id=\"T_e4a5f_row1_col5\" class=\"data row1 col5\" >0.4905</td>\n",
       "      <td id=\"T_e4a5f_row1_col6\" class=\"data row1 col6\" >0.5622</td>\n",
       "    </tr>\n",
       "    <tr>\n",
       "      <th id=\"T_e4a5f_level0_row2\" class=\"row_heading level0 row2\" >2</th>\n",
       "      <td id=\"T_e4a5f_row2_col0\" class=\"data row2 col0\" >0.7442</td>\n",
       "      <td id=\"T_e4a5f_row2_col1\" class=\"data row2 col1\" >0.8673</td>\n",
       "      <td id=\"T_e4a5f_row2_col2\" class=\"data row2 col2\" >0.5041</td>\n",
       "      <td id=\"T_e4a5f_row2_col3\" class=\"data row2 col3\" >0.9698</td>\n",
       "      <td id=\"T_e4a5f_row2_col4\" class=\"data row2 col4\" >0.6634</td>\n",
       "      <td id=\"T_e4a5f_row2_col5\" class=\"data row2 col5\" >0.4884</td>\n",
       "      <td id=\"T_e4a5f_row2_col6\" class=\"data row2 col6\" >0.5568</td>\n",
       "    </tr>\n",
       "    <tr>\n",
       "      <th id=\"T_e4a5f_level0_row3\" class=\"row_heading level0 row3\" >3</th>\n",
       "      <td id=\"T_e4a5f_row3_col0\" class=\"data row3 col0\" >0.7454</td>\n",
       "      <td id=\"T_e4a5f_row3_col1\" class=\"data row3 col1\" >0.8685</td>\n",
       "      <td id=\"T_e4a5f_row3_col2\" class=\"data row3 col2\" >0.5014</td>\n",
       "      <td id=\"T_e4a5f_row3_col3\" class=\"data row3 col3\" >0.9793</td>\n",
       "      <td id=\"T_e4a5f_row3_col4\" class=\"data row3 col4\" >0.6633</td>\n",
       "      <td id=\"T_e4a5f_row3_col5\" class=\"data row3 col5\" >0.4908</td>\n",
       "      <td id=\"T_e4a5f_row3_col6\" class=\"data row3 col6\" >0.5623</td>\n",
       "    </tr>\n",
       "    <tr>\n",
       "      <th id=\"T_e4a5f_level0_row4\" class=\"row_heading level0 row4\" >4</th>\n",
       "      <td id=\"T_e4a5f_row4_col0\" class=\"data row4 col0\" >0.7475</td>\n",
       "      <td id=\"T_e4a5f_row4_col1\" class=\"data row4 col1\" >0.8705</td>\n",
       "      <td id=\"T_e4a5f_row4_col2\" class=\"data row4 col2\" >0.5052</td>\n",
       "      <td id=\"T_e4a5f_row4_col3\" class=\"data row4 col3\" >0.9804</td>\n",
       "      <td id=\"T_e4a5f_row4_col4\" class=\"data row4 col4\" >0.6668</td>\n",
       "      <td id=\"T_e4a5f_row4_col5\" class=\"data row4 col5\" >0.4951</td>\n",
       "      <td id=\"T_e4a5f_row4_col6\" class=\"data row4 col6\" >0.5660</td>\n",
       "    </tr>\n",
       "    <tr>\n",
       "      <th id=\"T_e4a5f_level0_row5\" class=\"row_heading level0 row5\" >5</th>\n",
       "      <td id=\"T_e4a5f_row5_col0\" class=\"data row5 col0\" >0.7449</td>\n",
       "      <td id=\"T_e4a5f_row5_col1\" class=\"data row5 col1\" >0.8679</td>\n",
       "      <td id=\"T_e4a5f_row5_col2\" class=\"data row5 col2\" >0.5023</td>\n",
       "      <td id=\"T_e4a5f_row5_col3\" class=\"data row5 col3\" >0.9760</td>\n",
       "      <td id=\"T_e4a5f_row5_col4\" class=\"data row5 col4\" >0.6632</td>\n",
       "      <td id=\"T_e4a5f_row5_col5\" class=\"data row5 col5\" >0.4899</td>\n",
       "      <td id=\"T_e4a5f_row5_col6\" class=\"data row5 col6\" >0.5603</td>\n",
       "    </tr>\n",
       "    <tr>\n",
       "      <th id=\"T_e4a5f_level0_row6\" class=\"row_heading level0 row6\" >6</th>\n",
       "      <td id=\"T_e4a5f_row6_col0\" class=\"data row6 col0\" >0.7454</td>\n",
       "      <td id=\"T_e4a5f_row6_col1\" class=\"data row6 col1\" >0.8683</td>\n",
       "      <td id=\"T_e4a5f_row6_col2\" class=\"data row6 col2\" >0.5021</td>\n",
       "      <td id=\"T_e4a5f_row6_col3\" class=\"data row6 col3\" >0.9782</td>\n",
       "      <td id=\"T_e4a5f_row6_col4\" class=\"data row6 col4\" >0.6636</td>\n",
       "      <td id=\"T_e4a5f_row6_col5\" class=\"data row6 col5\" >0.4909</td>\n",
       "      <td id=\"T_e4a5f_row6_col6\" class=\"data row6 col6\" >0.5619</td>\n",
       "    </tr>\n",
       "    <tr>\n",
       "      <th id=\"T_e4a5f_level0_row7\" class=\"row_heading level0 row7\" >7</th>\n",
       "      <td id=\"T_e4a5f_row7_col0\" class=\"data row7 col0\" >0.7478</td>\n",
       "      <td id=\"T_e4a5f_row7_col1\" class=\"data row7 col1\" >0.8708</td>\n",
       "      <td id=\"T_e4a5f_row7_col2\" class=\"data row7 col2\" >0.5054</td>\n",
       "      <td id=\"T_e4a5f_row7_col3\" class=\"data row7 col3\" >0.9810</td>\n",
       "      <td id=\"T_e4a5f_row7_col4\" class=\"data row7 col4\" >0.6671</td>\n",
       "      <td id=\"T_e4a5f_row7_col5\" class=\"data row7 col5\" >0.4956</td>\n",
       "      <td id=\"T_e4a5f_row7_col6\" class=\"data row7 col6\" >0.5666</td>\n",
       "    </tr>\n",
       "    <tr>\n",
       "      <th id=\"T_e4a5f_level0_row8\" class=\"row_heading level0 row8\" >8</th>\n",
       "      <td id=\"T_e4a5f_row8_col0\" class=\"data row8 col0\" >0.7464</td>\n",
       "      <td id=\"T_e4a5f_row8_col1\" class=\"data row8 col1\" >0.8691</td>\n",
       "      <td id=\"T_e4a5f_row8_col2\" class=\"data row8 col2\" >0.5012</td>\n",
       "      <td id=\"T_e4a5f_row8_col3\" class=\"data row8 col3\" >0.9838</td>\n",
       "      <td id=\"T_e4a5f_row8_col4\" class=\"data row8 col4\" >0.6641</td>\n",
       "      <td id=\"T_e4a5f_row8_col5\" class=\"data row8 col5\" >0.4929</td>\n",
       "      <td id=\"T_e4a5f_row8_col6\" class=\"data row8 col6\" >0.5656</td>\n",
       "    </tr>\n",
       "    <tr>\n",
       "      <th id=\"T_e4a5f_level0_row9\" class=\"row_heading level0 row9\" >9</th>\n",
       "      <td id=\"T_e4a5f_row9_col0\" class=\"data row9 col0\" >0.7477</td>\n",
       "      <td id=\"T_e4a5f_row9_col1\" class=\"data row9 col1\" >0.8707</td>\n",
       "      <td id=\"T_e4a5f_row9_col2\" class=\"data row9 col2\" >0.5028</td>\n",
       "      <td id=\"T_e4a5f_row9_col3\" class=\"data row9 col3\" >0.9858</td>\n",
       "      <td id=\"T_e4a5f_row9_col4\" class=\"data row9 col4\" >0.6660</td>\n",
       "      <td id=\"T_e4a5f_row9_col5\" class=\"data row9 col5\" >0.4955</td>\n",
       "      <td id=\"T_e4a5f_row9_col6\" class=\"data row9 col6\" >0.5684</td>\n",
       "    </tr>\n",
       "    <tr>\n",
       "      <th id=\"T_e4a5f_level0_row10\" class=\"row_heading level0 row10\" >Mean</th>\n",
       "      <td id=\"T_e4a5f_row10_col0\" class=\"data row10 col0\" >0.7459</td>\n",
       "      <td id=\"T_e4a5f_row10_col1\" class=\"data row10 col1\" >0.8689</td>\n",
       "      <td id=\"T_e4a5f_row10_col2\" class=\"data row10 col2\" >0.5022</td>\n",
       "      <td id=\"T_e4a5f_row10_col3\" class=\"data row10 col3\" >0.9798</td>\n",
       "      <td id=\"T_e4a5f_row10_col4\" class=\"data row10 col4\" >0.6641</td>\n",
       "      <td id=\"T_e4a5f_row10_col5\" class=\"data row10 col5\" >0.4918</td>\n",
       "      <td id=\"T_e4a5f_row10_col6\" class=\"data row10 col6\" >0.5633</td>\n",
       "    </tr>\n",
       "    <tr>\n",
       "      <th id=\"T_e4a5f_level0_row11\" class=\"row_heading level0 row11\" >Std</th>\n",
       "      <td id=\"T_e4a5f_row11_col0\" class=\"data row11 col0\" >0.0013</td>\n",
       "      <td id=\"T_e4a5f_row11_col1\" class=\"data row11 col1\" >0.0013</td>\n",
       "      <td id=\"T_e4a5f_row11_col2\" class=\"data row11 col2\" >0.0024</td>\n",
       "      <td id=\"T_e4a5f_row11_col3\" class=\"data row11 col3\" >0.0044</td>\n",
       "      <td id=\"T_e4a5f_row11_col4\" class=\"data row11 col4\" >0.0020</td>\n",
       "      <td id=\"T_e4a5f_row11_col5\" class=\"data row11 col5\" >0.0026</td>\n",
       "      <td id=\"T_e4a5f_row11_col6\" class=\"data row11 col6\" >0.0033</td>\n",
       "    </tr>\n",
       "  </tbody>\n",
       "</table>\n"
      ],
      "text/plain": [
       "<pandas.io.formats.style.Styler at 0x7f140c2df940>"
      ]
     },
     "metadata": {},
     "output_type": "display_data"
    },
    {
     "data": {
      "text/html": [],
      "text/plain": [
       "<IPython.core.display.HTML object>"
      ]
     },
     "metadata": {},
     "output_type": "display_data"
    }
   ],
   "source": [
    "dt = create_model('dt')"
   ]
  },
  {
   "cell_type": "code",
   "execution_count": 17,
   "metadata": {},
   "outputs": [
    {
     "data": {
      "text/html": [],
      "text/plain": [
       "<IPython.core.display.HTML object>"
      ]
     },
     "metadata": {},
     "output_type": "display_data"
    },
    {
     "data": {
      "image/png": "[encoded data removed]",
      "text/plain": [
       "<Figure size 800x550 with 1 Axes>"
      ]
     },
     "metadata": {},
     "output_type": "display_data"
    }
   ],
   "source": [
    "plot_model(dt, plot = 'confusion_matrix')"
   ]
  },
  {
   "cell_type": "code",
   "execution_count": 18,
   "metadata": {},
   "outputs": [
    {
     "data": {
      "text/html": [],
      "text/plain": [
       "<IPython.core.display.HTML object>"
      ]
     },
     "metadata": {},
     "output_type": "display_data"
    },
    {
     "data": {
      "image/png": "[encoded data removed]",
      "text/plain": [
       "<Figure size 800x550 with 1 Axes>"
      ]
     },
     "metadata": {},
     "output_type": "display_data"
    }
   ],
   "source": [
    "plot_model(dt, plot = 'error')"
   ]
  },
  {
   "cell_type": "code",
   "execution_count": 19,
   "metadata": {},
   "outputs": [
    {
     "data": {
      "text/html": [],
      "text/plain": [
       "<IPython.core.display.HTML object>"
      ]
     },
     "metadata": {},
     "output_type": "display_data"
    },
    {
     "data": {
      "text/html": [
       "<div>\n",
       "<style scoped>\n",
       "    .dataframe tbody tr th:only-of-type {\n",
       "        vertical-align: middle;\n",
       "    }\n",
       "\n",
       "    .dataframe tbody tr th {\n",
       "        vertical-align: top;\n",
       "    }\n",
       "\n",
       "    .dataframe thead th {\n",
       "        text-align: right;\n",
       "    }\n",
       "</style>\n",
       "<table border=\"1\" class=\"dataframe\">\n",
       "  <thead>\n",
       "    <tr style=\"text-align: right;\">\n",
       "      <th></th>\n",
       "      <th>Parameters</th>\n",
       "    </tr>\n",
       "  </thead>\n",
       "  <tbody>\n",
       "    <tr>\n",
       "      <th>ccp_alpha</th>\n",
       "      <td>0.0</td>\n",
       "    </tr>\n",
       "    <tr>\n",
       "      <th>class_weight</th>\n",
       "      <td>None</td>\n",
       "    </tr>\n",
       "    <tr>\n",
       "      <th>criterion</th>\n",
       "      <td>gini</td>\n",
       "    </tr>\n",
       "    <tr>\n",
       "      <th>max_depth</th>\n",
       "      <td>None</td>\n",
       "    </tr>\n",
       "    <tr>\n",
       "      <th>max_features</th>\n",
       "      <td>None</td>\n",
       "    </tr>\n",
       "    <tr>\n",
       "      <th>max_leaf_nodes</th>\n",
       "      <td>None</td>\n",
       "    </tr>\n",
       "    <tr>\n",
       "      <th>min_impurity_decrease</th>\n",
       "      <td>0.0</td>\n",
       "    </tr>\n",
       "    <tr>\n",
       "      <th>min_samples_leaf</th>\n",
       "      <td>1</td>\n",
       "    </tr>\n",
       "    <tr>\n",
       "      <th>min_samples_split</th>\n",
       "      <td>2</td>\n",
       "    </tr>\n",
       "    <tr>\n",
       "      <th>min_weight_fraction_leaf</th>\n",
       "      <td>0.0</td>\n",
       "    </tr>\n",
       "    <tr>\n",
       "      <th>random_state</th>\n",
       "      <td>6107</td>\n",
       "    </tr>\n",
       "    <tr>\n",
       "      <th>splitter</th>\n",
       "      <td>best</td>\n",
       "    </tr>\n",
       "  </tbody>\n",
       "</table>\n",
       "</div>"
      ],
      "text/plain": [
       "                         Parameters\n",
       "ccp_alpha                       0.0\n",
       "class_weight                   None\n",
       "criterion                      gini\n",
       "max_depth                      None\n",
       "max_features                   None\n",
       "max_leaf_nodes                 None\n",
       "min_impurity_decrease           0.0\n",
       "min_samples_leaf                  1\n",
       "min_samples_split                 2\n",
       "min_weight_fraction_leaf        0.0\n",
       "random_state                   6107\n",
       "splitter                       best"
      ]
     },
     "metadata": {},
     "output_type": "display_data"
    }
   ],
   "source": [
    "plot_model(dt, plot = 'parameter')"
   ]
  },
  {
   "cell_type": "code",
   "execution_count": 20,
   "metadata": {},
   "outputs": [
    {
     "name": "stdout",
     "output_type": "stream",
     "text": [
      "Transformation Pipeline and Model Successfully Saved\n"
     ]
    },
    {
     "data": {
      "text/plain": [
       "(Pipeline(memory=FastMemory(location=/tmp/joblib),\n",
       "          steps=[('numerical_imputer',\n",
       "                  TransformerWrapper(exclude=None,\n",
       "                                     include=['0', '1', '2', '3', '4', '5', '6',\n",
       "                                              '7', '8', '9', '10', '11', '12',\n",
       "                                              '13', '14', '15', '16', '17', '18',\n",
       "                                              '19', '20', '21', '22', '23', '24',\n",
       "                                              '25', '26', '27', '28', '29', ...],\n",
       "                                     transformer=SimpleImputer(add_indicator=False,\n",
       "                                                               copy=True,\n",
       "                                                               fill_value=None,\n",
       "                                                               keep_empty_feat...\n",
       "                                                               missing_values=nan,\n",
       "                                                               strategy='most_frequent',\n",
       "                                                               verbose='deprecated'))),\n",
       "                 ('trained_model',\n",
       "                  DecisionTreeClassifier(ccp_alpha=0.0, class_weight=None,\n",
       "                                         criterion='gini', max_depth=None,\n",
       "                                         max_features=None, max_leaf_nodes=None,\n",
       "                                         min_impurity_decrease=0.0,\n",
       "                                         min_samples_leaf=1, min_samples_split=2,\n",
       "                                         min_weight_fraction_leaf=0.0,\n",
       "                                         random_state=6107, splitter='best'))],\n",
       "          verbose=False),\n",
       " 'models_classif/convkb/binary_emb_val/dt.pkl')"
      ]
     },
     "execution_count": 20,
     "metadata": {},
     "output_type": "execute_result"
    }
   ],
   "source": [
    "save_model(dt, 'models_classif/convkb/binary_emb_val/dt')"
   ]
  },
  {
   "cell_type": "markdown",
   "metadata": {},
   "source": [
    "# SVM - Linear Kernel"
   ]
  },
  {
   "cell_type": "code",
   "execution_count": 21,
   "metadata": {},
   "outputs": [
    {
     "data": {
      "text/html": [],
      "text/plain": [
       "<IPython.core.display.HTML object>"
      ]
     },
     "metadata": {},
     "output_type": "display_data"
    },
    {
     "data": {
      "text/html": [
       "<style type=\"text/css\">\n",
       "#T_32b70_row10_col0, #T_32b70_row10_col1, #T_32b70_row10_col2, #T_32b70_row10_col3, #T_32b70_row10_col4, #T_32b70_row10_col5, #T_32b70_row10_col6 {\n",
       "  background: yellow;\n",
       "}\n",
       "</style>\n",
       "<table id=\"T_32b70\">\n",
       "  <thead>\n",
       "    <tr>\n",
       "      <th class=\"blank level0\" >&nbsp;</th>\n",
       "      <th id=\"T_32b70_level0_col0\" class=\"col_heading level0 col0\" >Accuracy</th>\n",
       "      <th id=\"T_32b70_level0_col1\" class=\"col_heading level0 col1\" >AUC</th>\n",
       "      <th id=\"T_32b70_level0_col2\" class=\"col_heading level0 col2\" >Recall</th>\n",
       "      <th id=\"T_32b70_level0_col3\" class=\"col_heading level0 col3\" >Prec.</th>\n",
       "      <th id=\"T_32b70_level0_col4\" class=\"col_heading level0 col4\" >F1</th>\n",
       "      <th id=\"T_32b70_level0_col5\" class=\"col_heading level0 col5\" >Kappa</th>\n",
       "      <th id=\"T_32b70_level0_col6\" class=\"col_heading level0 col6\" >MCC</th>\n",
       "    </tr>\n",
       "    <tr>\n",
       "      <th class=\"index_name level0\" >Fold</th>\n",
       "      <th class=\"blank col0\" >&nbsp;</th>\n",
       "      <th class=\"blank col1\" >&nbsp;</th>\n",
       "      <th class=\"blank col2\" >&nbsp;</th>\n",
       "      <th class=\"blank col3\" >&nbsp;</th>\n",
       "      <th class=\"blank col4\" >&nbsp;</th>\n",
       "      <th class=\"blank col5\" >&nbsp;</th>\n",
       "      <th class=\"blank col6\" >&nbsp;</th>\n",
       "    </tr>\n",
       "  </thead>\n",
       "  <tbody>\n",
       "    <tr>\n",
       "      <th id=\"T_32b70_level0_row0\" class=\"row_heading level0 row0\" >0</th>\n",
       "      <td id=\"T_32b70_row0_col0\" class=\"data row0 col0\" >0.6164</td>\n",
       "      <td id=\"T_32b70_row0_col1\" class=\"data row0 col1\" >0.0000</td>\n",
       "      <td id=\"T_32b70_row0_col2\" class=\"data row0 col2\" >0.7511</td>\n",
       "      <td id=\"T_32b70_row0_col3\" class=\"data row0 col3\" >0.5917</td>\n",
       "      <td id=\"T_32b70_row0_col4\" class=\"data row0 col4\" >0.6620</td>\n",
       "      <td id=\"T_32b70_row0_col5\" class=\"data row0 col5\" >0.2327</td>\n",
       "      <td id=\"T_32b70_row0_col6\" class=\"data row0 col6\" >0.2416</td>\n",
       "    </tr>\n",
       "    <tr>\n",
       "      <th id=\"T_32b70_level0_row1\" class=\"row_heading level0 row1\" >1</th>\n",
       "      <td id=\"T_32b70_row1_col0\" class=\"data row1 col0\" >0.6168</td>\n",
       "      <td id=\"T_32b70_row1_col1\" class=\"data row1 col1\" >0.0000</td>\n",
       "      <td id=\"T_32b70_row1_col2\" class=\"data row1 col2\" >0.7505</td>\n",
       "      <td id=\"T_32b70_row1_col3\" class=\"data row1 col3\" >0.5922</td>\n",
       "      <td id=\"T_32b70_row1_col4\" class=\"data row1 col4\" >0.6620</td>\n",
       "      <td id=\"T_32b70_row1_col5\" class=\"data row1 col5\" >0.2335</td>\n",
       "      <td id=\"T_32b70_row1_col6\" class=\"data row1 col6\" >0.2424</td>\n",
       "    </tr>\n",
       "    <tr>\n",
       "      <th id=\"T_32b70_level0_row2\" class=\"row_heading level0 row2\" >2</th>\n",
       "      <td id=\"T_32b70_row2_col0\" class=\"data row2 col0\" >0.6168</td>\n",
       "      <td id=\"T_32b70_row2_col1\" class=\"data row2 col1\" >0.0000</td>\n",
       "      <td id=\"T_32b70_row2_col2\" class=\"data row2 col2\" >0.7494</td>\n",
       "      <td id=\"T_32b70_row2_col3\" class=\"data row2 col3\" >0.5924</td>\n",
       "      <td id=\"T_32b70_row2_col4\" class=\"data row2 col4\" >0.6617</td>\n",
       "      <td id=\"T_32b70_row2_col5\" class=\"data row2 col5\" >0.2336</td>\n",
       "      <td id=\"T_32b70_row2_col6\" class=\"data row2 col6\" >0.2423</td>\n",
       "    </tr>\n",
       "    <tr>\n",
       "      <th id=\"T_32b70_level0_row3\" class=\"row_heading level0 row3\" >3</th>\n",
       "      <td id=\"T_32b70_row3_col0\" class=\"data row3 col0\" >0.6143</td>\n",
       "      <td id=\"T_32b70_row3_col1\" class=\"data row3 col1\" >0.0000</td>\n",
       "      <td id=\"T_32b70_row3_col2\" class=\"data row3 col2\" >0.7527</td>\n",
       "      <td id=\"T_32b70_row3_col3\" class=\"data row3 col3\" >0.5896</td>\n",
       "      <td id=\"T_32b70_row3_col4\" class=\"data row3 col4\" >0.6612</td>\n",
       "      <td id=\"T_32b70_row3_col5\" class=\"data row3 col5\" >0.2286</td>\n",
       "      <td id=\"T_32b70_row3_col6\" class=\"data row3 col6\" >0.2379</td>\n",
       "    </tr>\n",
       "    <tr>\n",
       "      <th id=\"T_32b70_level0_row4\" class=\"row_heading level0 row4\" >4</th>\n",
       "      <td id=\"T_32b70_row4_col0\" class=\"data row4 col0\" >0.6167</td>\n",
       "      <td id=\"T_32b70_row4_col1\" class=\"data row4 col1\" >0.0000</td>\n",
       "      <td id=\"T_32b70_row4_col2\" class=\"data row4 col2\" >0.7476</td>\n",
       "      <td id=\"T_32b70_row4_col3\" class=\"data row4 col3\" >0.5925</td>\n",
       "      <td id=\"T_32b70_row4_col4\" class=\"data row4 col4\" >0.6611</td>\n",
       "      <td id=\"T_32b70_row4_col5\" class=\"data row4 col5\" >0.2333</td>\n",
       "      <td id=\"T_32b70_row4_col6\" class=\"data row4 col6\" >0.2417</td>\n",
       "    </tr>\n",
       "    <tr>\n",
       "      <th id=\"T_32b70_level0_row5\" class=\"row_heading level0 row5\" >5</th>\n",
       "      <td id=\"T_32b70_row5_col0\" class=\"data row5 col0\" >0.6176</td>\n",
       "      <td id=\"T_32b70_row5_col1\" class=\"data row5 col1\" >0.0000</td>\n",
       "      <td id=\"T_32b70_row5_col2\" class=\"data row5 col2\" >0.7465</td>\n",
       "      <td id=\"T_32b70_row5_col3\" class=\"data row5 col3\" >0.5936</td>\n",
       "      <td id=\"T_32b70_row5_col4\" class=\"data row5 col4\" >0.6613</td>\n",
       "      <td id=\"T_32b70_row5_col5\" class=\"data row5 col5\" >0.2352</td>\n",
       "      <td id=\"T_32b70_row5_col6\" class=\"data row5 col6\" >0.2434</td>\n",
       "    </tr>\n",
       "    <tr>\n",
       "      <th id=\"T_32b70_level0_row6\" class=\"row_heading level0 row6\" >6</th>\n",
       "      <td id=\"T_32b70_row6_col0\" class=\"data row6 col0\" >0.6179</td>\n",
       "      <td id=\"T_32b70_row6_col1\" class=\"data row6 col1\" >0.0000</td>\n",
       "      <td id=\"T_32b70_row6_col2\" class=\"data row6 col2\" >0.7437</td>\n",
       "      <td id=\"T_32b70_row6_col3\" class=\"data row6 col3\" >0.5942</td>\n",
       "      <td id=\"T_32b70_row6_col4\" class=\"data row6 col4\" >0.6606</td>\n",
       "      <td id=\"T_32b70_row6_col5\" class=\"data row6 col5\" >0.2357</td>\n",
       "      <td id=\"T_32b70_row6_col6\" class=\"data row6 col6\" >0.2435</td>\n",
       "    </tr>\n",
       "    <tr>\n",
       "      <th id=\"T_32b70_level0_row7\" class=\"row_heading level0 row7\" >7</th>\n",
       "      <td id=\"T_32b70_row7_col0\" class=\"data row7 col0\" >0.6177</td>\n",
       "      <td id=\"T_32b70_row7_col1\" class=\"data row7 col1\" >0.0000</td>\n",
       "      <td id=\"T_32b70_row7_col2\" class=\"data row7 col2\" >0.7457</td>\n",
       "      <td id=\"T_32b70_row7_col3\" class=\"data row7 col3\" >0.5938</td>\n",
       "      <td id=\"T_32b70_row7_col4\" class=\"data row7 col4\" >0.6611</td>\n",
       "      <td id=\"T_32b70_row7_col5\" class=\"data row7 col5\" >0.2353</td>\n",
       "      <td id=\"T_32b70_row7_col6\" class=\"data row7 col6\" >0.2434</td>\n",
       "    </tr>\n",
       "    <tr>\n",
       "      <th id=\"T_32b70_level0_row8\" class=\"row_heading level0 row8\" >8</th>\n",
       "      <td id=\"T_32b70_row8_col0\" class=\"data row8 col0\" >0.6187</td>\n",
       "      <td id=\"T_32b70_row8_col1\" class=\"data row8 col1\" >0.0000</td>\n",
       "      <td id=\"T_32b70_row8_col2\" class=\"data row8 col2\" >0.7454</td>\n",
       "      <td id=\"T_32b70_row8_col3\" class=\"data row8 col3\" >0.5948</td>\n",
       "      <td id=\"T_32b70_row8_col4\" class=\"data row8 col4\" >0.6616</td>\n",
       "      <td id=\"T_32b70_row8_col5\" class=\"data row8 col5\" >0.2373</td>\n",
       "      <td id=\"T_32b70_row8_col6\" class=\"data row8 col6\" >0.2453</td>\n",
       "    </tr>\n",
       "    <tr>\n",
       "      <th id=\"T_32b70_level0_row9\" class=\"row_heading level0 row9\" >9</th>\n",
       "      <td id=\"T_32b70_row9_col0\" class=\"data row9 col0\" >0.6192</td>\n",
       "      <td id=\"T_32b70_row9_col1\" class=\"data row9 col1\" >0.0000</td>\n",
       "      <td id=\"T_32b70_row9_col2\" class=\"data row9 col2\" >0.7455</td>\n",
       "      <td id=\"T_32b70_row9_col3\" class=\"data row9 col3\" >0.5952</td>\n",
       "      <td id=\"T_32b70_row9_col4\" class=\"data row9 col4\" >0.6619</td>\n",
       "      <td id=\"T_32b70_row9_col5\" class=\"data row9 col5\" >0.2383</td>\n",
       "      <td id=\"T_32b70_row9_col6\" class=\"data row9 col6\" >0.2463</td>\n",
       "    </tr>\n",
       "    <tr>\n",
       "      <th id=\"T_32b70_level0_row10\" class=\"row_heading level0 row10\" >Mean</th>\n",
       "      <td id=\"T_32b70_row10_col0\" class=\"data row10 col0\" >0.6172</td>\n",
       "      <td id=\"T_32b70_row10_col1\" class=\"data row10 col1\" >0.0000</td>\n",
       "      <td id=\"T_32b70_row10_col2\" class=\"data row10 col2\" >0.7478</td>\n",
       "      <td id=\"T_32b70_row10_col3\" class=\"data row10 col3\" >0.5930</td>\n",
       "      <td id=\"T_32b70_row10_col4\" class=\"data row10 col4\" >0.6615</td>\n",
       "      <td id=\"T_32b70_row10_col5\" class=\"data row10 col5\" >0.2344</td>\n",
       "      <td id=\"T_32b70_row10_col6\" class=\"data row10 col6\" >0.2428</td>\n",
       "    </tr>\n",
       "    <tr>\n",
       "      <th id=\"T_32b70_level0_row11\" class=\"row_heading level0 row11\" >Std</th>\n",
       "      <td id=\"T_32b70_row11_col0\" class=\"data row11 col0\" >0.0013</td>\n",
       "      <td id=\"T_32b70_row11_col1\" class=\"data row11 col1\" >0.0000</td>\n",
       "      <td id=\"T_32b70_row11_col2\" class=\"data row11 col2\" >0.0028</td>\n",
       "      <td id=\"T_32b70_row11_col3\" class=\"data row11 col3\" >0.0016</td>\n",
       "      <td id=\"T_32b70_row11_col4\" class=\"data row11 col4\" >0.0004</td>\n",
       "      <td id=\"T_32b70_row11_col5\" class=\"data row11 col5\" >0.0026</td>\n",
       "      <td id=\"T_32b70_row11_col6\" class=\"data row11 col6\" >0.0022</td>\n",
       "    </tr>\n",
       "  </tbody>\n",
       "</table>\n"
      ],
      "text/plain": [
       "<pandas.io.formats.style.Styler at 0x7f140c2504c0>"
      ]
     },
     "metadata": {},
     "output_type": "display_data"
    },
    {
     "data": {
      "text/html": [],
      "text/plain": [
       "<IPython.core.display.HTML object>"
      ]
     },
     "metadata": {},
     "output_type": "display_data"
    }
   ],
   "source": [
    "svm = create_model('svm')"
   ]
  },
  {
   "cell_type": "code",
   "execution_count": 22,
   "metadata": {},
   "outputs": [
    {
     "data": {
      "text/html": [],
      "text/plain": [
       "<IPython.core.display.HTML object>"
      ]
     },
     "metadata": {},
     "output_type": "display_data"
    },
    {
     "data": {
      "image/png": "[encoded data removed]",
      "text/plain": [
       "<Figure size 800x550 with 1 Axes>"
      ]
     },
     "metadata": {},
     "output_type": "display_data"
    }
   ],
   "source": [
    "plot_model(svm, plot = 'confusion_matrix')"
   ]
  },
  {
   "cell_type": "code",
   "execution_count": 23,
   "metadata": {},
   "outputs": [
    {
     "data": {
      "text/html": [],
      "text/plain": [
       "<IPython.core.display.HTML object>"
      ]
     },
     "metadata": {},
     "output_type": "display_data"
    },
    {
     "data": {
      "image/png": "[encoded data removed]",
      "text/plain": [
       "<Figure size 800x550 with 1 Axes>"
      ]
     },
     "metadata": {},
     "output_type": "display_data"
    }
   ],
   "source": [
    "plot_model(svm, plot = 'error')"
   ]
  },
  {
   "cell_type": "code",
   "execution_count": 24,
   "metadata": {},
   "outputs": [
    {
     "data": {
      "text/html": [],
      "text/plain": [
       "<IPython.core.display.HTML object>"
      ]
     },
     "metadata": {},
     "output_type": "display_data"
    },
    {
     "data": {
      "text/html": [
       "<div>\n",
       "<style scoped>\n",
       "    .dataframe tbody tr th:only-of-type {\n",
       "        vertical-align: middle;\n",
       "    }\n",
       "\n",
       "    .dataframe tbody tr th {\n",
       "        vertical-align: top;\n",
       "    }\n",
       "\n",
       "    .dataframe thead th {\n",
       "        text-align: right;\n",
       "    }\n",
       "</style>\n",
       "<table border=\"1\" class=\"dataframe\">\n",
       "  <thead>\n",
       "    <tr style=\"text-align: right;\">\n",
       "      <th></th>\n",
       "      <th>Parameters</th>\n",
       "    </tr>\n",
       "  </thead>\n",
       "  <tbody>\n",
       "    <tr>\n",
       "      <th>alpha</th>\n",
       "      <td>0.0001</td>\n",
       "    </tr>\n",
       "    <tr>\n",
       "      <th>average</th>\n",
       "      <td>False</td>\n",
       "    </tr>\n",
       "    <tr>\n",
       "      <th>class_weight</th>\n",
       "      <td>None</td>\n",
       "    </tr>\n",
       "    <tr>\n",
       "      <th>early_stopping</th>\n",
       "      <td>False</td>\n",
       "    </tr>\n",
       "    <tr>\n",
       "      <th>epsilon</th>\n",
       "      <td>0.1</td>\n",
       "    </tr>\n",
       "    <tr>\n",
       "      <th>eta0</th>\n",
       "      <td>0.001</td>\n",
       "    </tr>\n",
       "    <tr>\n",
       "      <th>fit_intercept</th>\n",
       "      <td>True</td>\n",
       "    </tr>\n",
       "    <tr>\n",
       "      <th>l1_ratio</th>\n",
       "      <td>0.15</td>\n",
       "    </tr>\n",
       "    <tr>\n",
       "      <th>learning_rate</th>\n",
       "      <td>optimal</td>\n",
       "    </tr>\n",
       "    <tr>\n",
       "      <th>loss</th>\n",
       "      <td>hinge</td>\n",
       "    </tr>\n",
       "    <tr>\n",
       "      <th>max_iter</th>\n",
       "      <td>1000</td>\n",
       "    </tr>\n",
       "    <tr>\n",
       "      <th>n_iter_no_change</th>\n",
       "      <td>5</td>\n",
       "    </tr>\n",
       "    <tr>\n",
       "      <th>n_jobs</th>\n",
       "      <td>-1</td>\n",
       "    </tr>\n",
       "    <tr>\n",
       "      <th>penalty</th>\n",
       "      <td>l2</td>\n",
       "    </tr>\n",
       "    <tr>\n",
       "      <th>power_t</th>\n",
       "      <td>0.5</td>\n",
       "    </tr>\n",
       "    <tr>\n",
       "      <th>random_state</th>\n",
       "      <td>6107</td>\n",
       "    </tr>\n",
       "    <tr>\n",
       "      <th>shuffle</th>\n",
       "      <td>True</td>\n",
       "    </tr>\n",
       "    <tr>\n",
       "      <th>tol</th>\n",
       "      <td>0.001</td>\n",
       "    </tr>\n",
       "    <tr>\n",
       "      <th>validation_fraction</th>\n",
       "      <td>0.1</td>\n",
       "    </tr>\n",
       "    <tr>\n",
       "      <th>verbose</th>\n",
       "      <td>0</td>\n",
       "    </tr>\n",
       "    <tr>\n",
       "      <th>warm_start</th>\n",
       "      <td>False</td>\n",
       "    </tr>\n",
       "  </tbody>\n",
       "</table>\n",
       "</div>"
      ],
      "text/plain": [
       "                    Parameters\n",
       "alpha                   0.0001\n",
       "average                  False\n",
       "class_weight              None\n",
       "early_stopping           False\n",
       "epsilon                    0.1\n",
       "eta0                     0.001\n",
       "fit_intercept             True\n",
       "l1_ratio                  0.15\n",
       "learning_rate          optimal\n",
       "loss                     hinge\n",
       "max_iter                  1000\n",
       "n_iter_no_change             5\n",
       "n_jobs                      -1\n",
       "penalty                     l2\n",
       "power_t                    0.5\n",
       "random_state              6107\n",
       "shuffle                   True\n",
       "tol                      0.001\n",
       "validation_fraction        0.1\n",
       "verbose                      0\n",
       "warm_start               False"
      ]
     },
     "metadata": {},
     "output_type": "display_data"
    }
   ],
   "source": [
    "plot_model(svm, plot = 'parameter')"
   ]
  },
  {
   "cell_type": "code",
   "execution_count": 25,
   "metadata": {},
   "outputs": [
    {
     "name": "stdout",
     "output_type": "stream",
     "text": [
      "Transformation Pipeline and Model Successfully Saved\n"
     ]
    },
    {
     "data": {
      "text/plain": [
       "(Pipeline(memory=FastMemory(location=/tmp/joblib),\n",
       "          steps=[('numerical_imputer',\n",
       "                  TransformerWrapper(exclude=None,\n",
       "                                     include=['0', '1', '2', '3', '4', '5', '6',\n",
       "                                              '7', '8', '9', '10', '11', '12',\n",
       "                                              '13', '14', '15', '16', '17', '18',\n",
       "                                              '19', '20', '21', '22', '23', '24',\n",
       "                                              '25', '26', '27', '28', '29', ...],\n",
       "                                     transformer=SimpleImputer(add_indicator=False,\n",
       "                                                               copy=True,\n",
       "                                                               fill_value=None,\n",
       "                                                               keep_empty_feat...\n",
       "                  SGDClassifier(alpha=0.0001, average=False, class_weight=None,\n",
       "                                early_stopping=False, epsilon=0.1, eta0=0.001,\n",
       "                                fit_intercept=True, l1_ratio=0.15,\n",
       "                                learning_rate='optimal', loss='hinge',\n",
       "                                max_iter=1000, n_iter_no_change=5, n_jobs=-1,\n",
       "                                penalty='l2', power_t=0.5, random_state=6107,\n",
       "                                shuffle=True, tol=0.001, validation_fraction=0.1,\n",
       "                                verbose=0, warm_start=False))],\n",
       "          verbose=False),\n",
       " 'models_classif/convkb/binary_emb_val/svm.pkl')"
      ]
     },
     "execution_count": 25,
     "metadata": {},
     "output_type": "execute_result"
    }
   ],
   "source": [
    "save_model(svm, 'models_classif/convkb/binary_emb_val/svm')"
   ]
  },
  {
   "cell_type": "markdown",
   "metadata": {},
   "source": [
    "# Ridge Classifier"
   ]
  },
  {
   "cell_type": "code",
   "execution_count": 26,
   "metadata": {},
   "outputs": [
    {
     "data": {
      "text/html": [],
      "text/plain": [
       "<IPython.core.display.HTML object>"
      ]
     },
     "metadata": {},
     "output_type": "display_data"
    },
    {
     "data": {
      "text/html": [
       "<style type=\"text/css\">\n",
       "#T_b7d88_row10_col0, #T_b7d88_row10_col1, #T_b7d88_row10_col2, #T_b7d88_row10_col3, #T_b7d88_row10_col4, #T_b7d88_row10_col5, #T_b7d88_row10_col6 {\n",
       "  background: yellow;\n",
       "}\n",
       "</style>\n",
       "<table id=\"T_b7d88\">\n",
       "  <thead>\n",
       "    <tr>\n",
       "      <th class=\"blank level0\" >&nbsp;</th>\n",
       "      <th id=\"T_b7d88_level0_col0\" class=\"col_heading level0 col0\" >Accuracy</th>\n",
       "      <th id=\"T_b7d88_level0_col1\" class=\"col_heading level0 col1\" >AUC</th>\n",
       "      <th id=\"T_b7d88_level0_col2\" class=\"col_heading level0 col2\" >Recall</th>\n",
       "      <th id=\"T_b7d88_level0_col3\" class=\"col_heading level0 col3\" >Prec.</th>\n",
       "      <th id=\"T_b7d88_level0_col4\" class=\"col_heading level0 col4\" >F1</th>\n",
       "      <th id=\"T_b7d88_level0_col5\" class=\"col_heading level0 col5\" >Kappa</th>\n",
       "      <th id=\"T_b7d88_level0_col6\" class=\"col_heading level0 col6\" >MCC</th>\n",
       "    </tr>\n",
       "    <tr>\n",
       "      <th class=\"index_name level0\" >Fold</th>\n",
       "      <th class=\"blank col0\" >&nbsp;</th>\n",
       "      <th class=\"blank col1\" >&nbsp;</th>\n",
       "      <th class=\"blank col2\" >&nbsp;</th>\n",
       "      <th class=\"blank col3\" >&nbsp;</th>\n",
       "      <th class=\"blank col4\" >&nbsp;</th>\n",
       "      <th class=\"blank col5\" >&nbsp;</th>\n",
       "      <th class=\"blank col6\" >&nbsp;</th>\n",
       "    </tr>\n",
       "  </thead>\n",
       "  <tbody>\n",
       "    <tr>\n",
       "      <th id=\"T_b7d88_level0_row0\" class=\"row_heading level0 row0\" >0</th>\n",
       "      <td id=\"T_b7d88_row0_col0\" class=\"data row0 col0\" >0.6282</td>\n",
       "      <td id=\"T_b7d88_row0_col1\" class=\"data row0 col1\" >0.0000</td>\n",
       "      <td id=\"T_b7d88_row0_col2\" class=\"data row0 col2\" >0.7070</td>\n",
       "      <td id=\"T_b7d88_row0_col3\" class=\"data row0 col3\" >0.6109</td>\n",
       "      <td id=\"T_b7d88_row0_col4\" class=\"data row0 col4\" >0.6554</td>\n",
       "      <td id=\"T_b7d88_row0_col5\" class=\"data row0 col5\" >0.2565</td>\n",
       "      <td id=\"T_b7d88_row0_col6\" class=\"data row0 col6\" >0.2597</td>\n",
       "    </tr>\n",
       "    <tr>\n",
       "      <th id=\"T_b7d88_level0_row1\" class=\"row_heading level0 row1\" >1</th>\n",
       "      <td id=\"T_b7d88_row1_col0\" class=\"data row1 col0\" >0.6283</td>\n",
       "      <td id=\"T_b7d88_row1_col1\" class=\"data row1 col1\" >0.0000</td>\n",
       "      <td id=\"T_b7d88_row1_col2\" class=\"data row1 col2\" >0.7045</td>\n",
       "      <td id=\"T_b7d88_row1_col3\" class=\"data row1 col3\" >0.6114</td>\n",
       "      <td id=\"T_b7d88_row1_col4\" class=\"data row1 col4\" >0.6547</td>\n",
       "      <td id=\"T_b7d88_row1_col5\" class=\"data row1 col5\" >0.2566</td>\n",
       "      <td id=\"T_b7d88_row1_col6\" class=\"data row1 col6\" >0.2596</td>\n",
       "    </tr>\n",
       "    <tr>\n",
       "      <th id=\"T_b7d88_level0_row2\" class=\"row_heading level0 row2\" >2</th>\n",
       "      <td id=\"T_b7d88_row2_col0\" class=\"data row2 col0\" >0.6287</td>\n",
       "      <td id=\"T_b7d88_row2_col1\" class=\"data row2 col1\" >0.0000</td>\n",
       "      <td id=\"T_b7d88_row2_col2\" class=\"data row2 col2\" >0.7042</td>\n",
       "      <td id=\"T_b7d88_row2_col3\" class=\"data row2 col3\" >0.6119</td>\n",
       "      <td id=\"T_b7d88_row2_col4\" class=\"data row2 col4\" >0.6548</td>\n",
       "      <td id=\"T_b7d88_row2_col5\" class=\"data row2 col5\" >0.2574</td>\n",
       "      <td id=\"T_b7d88_row2_col6\" class=\"data row2 col6\" >0.2604</td>\n",
       "    </tr>\n",
       "    <tr>\n",
       "      <th id=\"T_b7d88_level0_row3\" class=\"row_heading level0 row3\" >3</th>\n",
       "      <td id=\"T_b7d88_row3_col0\" class=\"data row3 col0\" >0.6271</td>\n",
       "      <td id=\"T_b7d88_row3_col1\" class=\"data row3 col1\" >0.0000</td>\n",
       "      <td id=\"T_b7d88_row3_col2\" class=\"data row3 col2\" >0.7046</td>\n",
       "      <td id=\"T_b7d88_row3_col3\" class=\"data row3 col3\" >0.6101</td>\n",
       "      <td id=\"T_b7d88_row3_col4\" class=\"data row3 col4\" >0.6540</td>\n",
       "      <td id=\"T_b7d88_row3_col5\" class=\"data row3 col5\" >0.2542</td>\n",
       "      <td id=\"T_b7d88_row3_col6\" class=\"data row3 col6\" >0.2573</td>\n",
       "    </tr>\n",
       "    <tr>\n",
       "      <th id=\"T_b7d88_level0_row4\" class=\"row_heading level0 row4\" >4</th>\n",
       "      <td id=\"T_b7d88_row4_col0\" class=\"data row4 col0\" >0.6285</td>\n",
       "      <td id=\"T_b7d88_row4_col1\" class=\"data row4 col1\" >0.0000</td>\n",
       "      <td id=\"T_b7d88_row4_col2\" class=\"data row4 col2\" >0.7060</td>\n",
       "      <td id=\"T_b7d88_row4_col3\" class=\"data row4 col3\" >0.6113</td>\n",
       "      <td id=\"T_b7d88_row4_col4\" class=\"data row4 col4\" >0.6552</td>\n",
       "      <td id=\"T_b7d88_row4_col5\" class=\"data row4 col5\" >0.2569</td>\n",
       "      <td id=\"T_b7d88_row4_col6\" class=\"data row4 col6\" >0.2600</td>\n",
       "    </tr>\n",
       "    <tr>\n",
       "      <th id=\"T_b7d88_level0_row5\" class=\"row_heading level0 row5\" >5</th>\n",
       "      <td id=\"T_b7d88_row5_col0\" class=\"data row5 col0\" >0.6286</td>\n",
       "      <td id=\"T_b7d88_row5_col1\" class=\"data row5 col1\" >0.0000</td>\n",
       "      <td id=\"T_b7d88_row5_col2\" class=\"data row5 col2\" >0.7058</td>\n",
       "      <td id=\"T_b7d88_row5_col3\" class=\"data row5 col3\" >0.6114</td>\n",
       "      <td id=\"T_b7d88_row5_col4\" class=\"data row5 col4\" >0.6553</td>\n",
       "      <td id=\"T_b7d88_row5_col5\" class=\"data row5 col5\" >0.2571</td>\n",
       "      <td id=\"T_b7d88_row5_col6\" class=\"data row5 col6\" >0.2602</td>\n",
       "    </tr>\n",
       "    <tr>\n",
       "      <th id=\"T_b7d88_level0_row6\" class=\"row_heading level0 row6\" >6</th>\n",
       "      <td id=\"T_b7d88_row6_col0\" class=\"data row6 col0\" >0.6289</td>\n",
       "      <td id=\"T_b7d88_row6_col1\" class=\"data row6 col1\" >0.0000</td>\n",
       "      <td id=\"T_b7d88_row6_col2\" class=\"data row6 col2\" >0.7062</td>\n",
       "      <td id=\"T_b7d88_row6_col3\" class=\"data row6 col3\" >0.6117</td>\n",
       "      <td id=\"T_b7d88_row6_col4\" class=\"data row6 col4\" >0.6556</td>\n",
       "      <td id=\"T_b7d88_row6_col5\" class=\"data row6 col5\" >0.2577</td>\n",
       "      <td id=\"T_b7d88_row6_col6\" class=\"data row6 col6\" >0.2609</td>\n",
       "    </tr>\n",
       "    <tr>\n",
       "      <th id=\"T_b7d88_level0_row7\" class=\"row_heading level0 row7\" >7</th>\n",
       "      <td id=\"T_b7d88_row7_col0\" class=\"data row7 col0\" >0.6292</td>\n",
       "      <td id=\"T_b7d88_row7_col1\" class=\"data row7 col1\" >0.0000</td>\n",
       "      <td id=\"T_b7d88_row7_col2\" class=\"data row7 col2\" >0.7063</td>\n",
       "      <td id=\"T_b7d88_row7_col3\" class=\"data row7 col3\" >0.6121</td>\n",
       "      <td id=\"T_b7d88_row7_col4\" class=\"data row7 col4\" >0.6558</td>\n",
       "      <td id=\"T_b7d88_row7_col5\" class=\"data row7 col5\" >0.2585</td>\n",
       "      <td id=\"T_b7d88_row7_col6\" class=\"data row7 col6\" >0.2616</td>\n",
       "    </tr>\n",
       "    <tr>\n",
       "      <th id=\"T_b7d88_level0_row8\" class=\"row_heading level0 row8\" >8</th>\n",
       "      <td id=\"T_b7d88_row8_col0\" class=\"data row8 col0\" >0.6301</td>\n",
       "      <td id=\"T_b7d88_row8_col1\" class=\"data row8 col1\" >0.0000</td>\n",
       "      <td id=\"T_b7d88_row8_col2\" class=\"data row8 col2\" >0.7079</td>\n",
       "      <td id=\"T_b7d88_row8_col3\" class=\"data row8 col3\" >0.6127</td>\n",
       "      <td id=\"T_b7d88_row8_col4\" class=\"data row8 col4\" >0.6569</td>\n",
       "      <td id=\"T_b7d88_row8_col5\" class=\"data row8 col5\" >0.2603</td>\n",
       "      <td id=\"T_b7d88_row8_col6\" class=\"data row8 col6\" >0.2635</td>\n",
       "    </tr>\n",
       "    <tr>\n",
       "      <th id=\"T_b7d88_level0_row9\" class=\"row_heading level0 row9\" >9</th>\n",
       "      <td id=\"T_b7d88_row9_col0\" class=\"data row9 col0\" >0.6304</td>\n",
       "      <td id=\"T_b7d88_row9_col1\" class=\"data row9 col1\" >0.0000</td>\n",
       "      <td id=\"T_b7d88_row9_col2\" class=\"data row9 col2\" >0.7067</td>\n",
       "      <td id=\"T_b7d88_row9_col3\" class=\"data row9 col3\" >0.6132</td>\n",
       "      <td id=\"T_b7d88_row9_col4\" class=\"data row9 col4\" >0.6567</td>\n",
       "      <td id=\"T_b7d88_row9_col5\" class=\"data row9 col5\" >0.2608</td>\n",
       "      <td id=\"T_b7d88_row9_col6\" class=\"data row9 col6\" >0.2639</td>\n",
       "    </tr>\n",
       "    <tr>\n",
       "      <th id=\"T_b7d88_level0_row10\" class=\"row_heading level0 row10\" >Mean</th>\n",
       "      <td id=\"T_b7d88_row10_col0\" class=\"data row10 col0\" >0.6288</td>\n",
       "      <td id=\"T_b7d88_row10_col1\" class=\"data row10 col1\" >0.0000</td>\n",
       "      <td id=\"T_b7d88_row10_col2\" class=\"data row10 col2\" >0.7059</td>\n",
       "      <td id=\"T_b7d88_row10_col3\" class=\"data row10 col3\" >0.6117</td>\n",
       "      <td id=\"T_b7d88_row10_col4\" class=\"data row10 col4\" >0.6554</td>\n",
       "      <td id=\"T_b7d88_row10_col5\" class=\"data row10 col5\" >0.2576</td>\n",
       "      <td id=\"T_b7d88_row10_col6\" class=\"data row10 col6\" >0.2607</td>\n",
       "    </tr>\n",
       "    <tr>\n",
       "      <th id=\"T_b7d88_level0_row11\" class=\"row_heading level0 row11\" >Std</th>\n",
       "      <td id=\"T_b7d88_row11_col0\" class=\"data row11 col0\" >0.0009</td>\n",
       "      <td id=\"T_b7d88_row11_col1\" class=\"data row11 col1\" >0.0000</td>\n",
       "      <td id=\"T_b7d88_row11_col2\" class=\"data row11 col2\" >0.0011</td>\n",
       "      <td id=\"T_b7d88_row11_col3\" class=\"data row11 col3\" >0.0008</td>\n",
       "      <td id=\"T_b7d88_row11_col4\" class=\"data row11 col4\" >0.0008</td>\n",
       "      <td id=\"T_b7d88_row11_col5\" class=\"data row11 col5\" >0.0018</td>\n",
       "      <td id=\"T_b7d88_row11_col6\" class=\"data row11 col6\" >0.0018</td>\n",
       "    </tr>\n",
       "  </tbody>\n",
       "</table>\n"
      ],
      "text/plain": [
       "<pandas.io.formats.style.Styler at 0x7f140c250070>"
      ]
     },
     "metadata": {},
     "output_type": "display_data"
    },
    {
     "data": {
      "text/html": [],
      "text/plain": [
       "<IPython.core.display.HTML object>"
      ]
     },
     "metadata": {},
     "output_type": "display_data"
    }
   ],
   "source": [
    "ridge = create_model('ridge')"
   ]
  },
  {
   "cell_type": "code",
   "execution_count": 27,
   "metadata": {},
   "outputs": [
    {
     "data": {
      "text/html": [],
      "text/plain": [
       "<IPython.core.display.HTML object>"
      ]
     },
     "metadata": {},
     "output_type": "display_data"
    },
    {
     "data": {
      "image/png": "[encoded data removed]",
      "text/plain": [
       "<Figure size 800x550 with 1 Axes>"
      ]
     },
     "metadata": {},
     "output_type": "display_data"
    }
   ],
   "source": [
    "plot_model(ridge, plot = 'confusion_matrix')"
   ]
  },
  {
   "cell_type": "code",
   "execution_count": 28,
   "metadata": {},
   "outputs": [
    {
     "data": {
      "text/html": [],
      "text/plain": [
       "<IPython.core.display.HTML object>"
      ]
     },
     "metadata": {},
     "output_type": "display_data"
    },
    {
     "data": {
      "image/png": "[encoded data removed]",
      "text/plain": [
       "<Figure size 800x550 with 1 Axes>"
      ]
     },
     "metadata": {},
     "output_type": "display_data"
    }
   ],
   "source": [
    "plot_model(ridge, plot = 'error')"
   ]
  },
  {
   "cell_type": "code",
   "execution_count": 29,
   "metadata": {},
   "outputs": [
    {
     "data": {
      "text/html": [],
      "text/plain": [
       "<IPython.core.display.HTML object>"
      ]
     },
     "metadata": {},
     "output_type": "display_data"
    },
    {
     "data": {
      "text/html": [
       "<div>\n",
       "<style scoped>\n",
       "    .dataframe tbody tr th:only-of-type {\n",
       "        vertical-align: middle;\n",
       "    }\n",
       "\n",
       "    .dataframe tbody tr th {\n",
       "        vertical-align: top;\n",
       "    }\n",
       "\n",
       "    .dataframe thead th {\n",
       "        text-align: right;\n",
       "    }\n",
       "</style>\n",
       "<table border=\"1\" class=\"dataframe\">\n",
       "  <thead>\n",
       "    <tr style=\"text-align: right;\">\n",
       "      <th></th>\n",
       "      <th>Parameters</th>\n",
       "    </tr>\n",
       "  </thead>\n",
       "  <tbody>\n",
       "    <tr>\n",
       "      <th>alpha</th>\n",
       "      <td>1.0</td>\n",
       "    </tr>\n",
       "    <tr>\n",
       "      <th>class_weight</th>\n",
       "      <td>None</td>\n",
       "    </tr>\n",
       "    <tr>\n",
       "      <th>copy_X</th>\n",
       "      <td>True</td>\n",
       "    </tr>\n",
       "    <tr>\n",
       "      <th>fit_intercept</th>\n",
       "      <td>True</td>\n",
       "    </tr>\n",
       "    <tr>\n",
       "      <th>max_iter</th>\n",
       "      <td>None</td>\n",
       "    </tr>\n",
       "    <tr>\n",
       "      <th>positive</th>\n",
       "      <td>False</td>\n",
       "    </tr>\n",
       "    <tr>\n",
       "      <th>random_state</th>\n",
       "      <td>6107</td>\n",
       "    </tr>\n",
       "    <tr>\n",
       "      <th>solver</th>\n",
       "      <td>auto</td>\n",
       "    </tr>\n",
       "    <tr>\n",
       "      <th>tol</th>\n",
       "      <td>0.0001</td>\n",
       "    </tr>\n",
       "  </tbody>\n",
       "</table>\n",
       "</div>"
      ],
      "text/plain": [
       "              Parameters\n",
       "alpha                1.0\n",
       "class_weight        None\n",
       "copy_X              True\n",
       "fit_intercept       True\n",
       "max_iter            None\n",
       "positive           False\n",
       "random_state        6107\n",
       "solver              auto\n",
       "tol               0.0001"
      ]
     },
     "metadata": {},
     "output_type": "display_data"
    }
   ],
   "source": [
    "plot_model(ridge, plot = 'parameter')"
   ]
  },
  {
   "cell_type": "code",
   "execution_count": 30,
   "metadata": {},
   "outputs": [
    {
     "name": "stdout",
     "output_type": "stream",
     "text": [
      "Transformation Pipeline and Model Successfully Saved\n"
     ]
    },
    {
     "data": {
      "text/plain": [
       "(Pipeline(memory=FastMemory(location=/tmp/joblib),\n",
       "          steps=[('numerical_imputer',\n",
       "                  TransformerWrapper(exclude=None,\n",
       "                                     include=['0', '1', '2', '3', '4', '5', '6',\n",
       "                                              '7', '8', '9', '10', '11', '12',\n",
       "                                              '13', '14', '15', '16', '17', '18',\n",
       "                                              '19', '20', '21', '22', '23', '24',\n",
       "                                              '25', '26', '27', '28', '29', ...],\n",
       "                                     transformer=SimpleImputer(add_indicator=False,\n",
       "                                                               copy=True,\n",
       "                                                               fill_value=None,\n",
       "                                                               keep_empty_feat...\n",
       "                  TransformerWrapper(exclude=None, include=[],\n",
       "                                     transformer=SimpleImputer(add_indicator=False,\n",
       "                                                               copy=True,\n",
       "                                                               fill_value=None,\n",
       "                                                               keep_empty_features=False,\n",
       "                                                               missing_values=nan,\n",
       "                                                               strategy='most_frequent',\n",
       "                                                               verbose='deprecated'))),\n",
       "                 ('trained_model',\n",
       "                  RidgeClassifier(alpha=1.0, class_weight=None, copy_X=True,\n",
       "                                  fit_intercept=True, max_iter=None,\n",
       "                                  positive=False, random_state=6107,\n",
       "                                  solver='auto', tol=0.0001))],\n",
       "          verbose=False),\n",
       " 'models_classif/convkb/binary_emb_val/ridge.pkl')"
      ]
     },
     "execution_count": 30,
     "metadata": {},
     "output_type": "execute_result"
    }
   ],
   "source": [
    "save_model(ridge, 'models_classif/convkb/binary_emb_val/ridge')"
   ]
  },
  {
   "cell_type": "markdown",
   "metadata": {},
   "source": [
    "# Random Forest"
   ]
  },
  {
   "cell_type": "code",
   "execution_count": 31,
   "metadata": {},
   "outputs": [
    {
     "data": {
      "text/html": [],
      "text/plain": [
       "<IPython.core.display.HTML object>"
      ]
     },
     "metadata": {},
     "output_type": "display_data"
    },
    {
     "data": {
      "text/html": [
       "<style type=\"text/css\">\n",
       "#T_e1448_row10_col0, #T_e1448_row10_col1, #T_e1448_row10_col2, #T_e1448_row10_col3, #T_e1448_row10_col4, #T_e1448_row10_col5, #T_e1448_row10_col6 {\n",
       "  background: yellow;\n",
       "}\n",
       "</style>\n",
       "<table id=\"T_e1448\">\n",
       "  <thead>\n",
       "    <tr>\n",
       "      <th class=\"blank level0\" >&nbsp;</th>\n",
       "      <th id=\"T_e1448_level0_col0\" class=\"col_heading level0 col0\" >Accuracy</th>\n",
       "      <th id=\"T_e1448_level0_col1\" class=\"col_heading level0 col1\" >AUC</th>\n",
       "      <th id=\"T_e1448_level0_col2\" class=\"col_heading level0 col2\" >Recall</th>\n",
       "      <th id=\"T_e1448_level0_col3\" class=\"col_heading level0 col3\" >Prec.</th>\n",
       "      <th id=\"T_e1448_level0_col4\" class=\"col_heading level0 col4\" >F1</th>\n",
       "      <th id=\"T_e1448_level0_col5\" class=\"col_heading level0 col5\" >Kappa</th>\n",
       "      <th id=\"T_e1448_level0_col6\" class=\"col_heading level0 col6\" >MCC</th>\n",
       "    </tr>\n",
       "    <tr>\n",
       "      <th class=\"index_name level0\" >Fold</th>\n",
       "      <th class=\"blank col0\" >&nbsp;</th>\n",
       "      <th class=\"blank col1\" >&nbsp;</th>\n",
       "      <th class=\"blank col2\" >&nbsp;</th>\n",
       "      <th class=\"blank col3\" >&nbsp;</th>\n",
       "      <th class=\"blank col4\" >&nbsp;</th>\n",
       "      <th class=\"blank col5\" >&nbsp;</th>\n",
       "      <th class=\"blank col6\" >&nbsp;</th>\n",
       "    </tr>\n",
       "  </thead>\n",
       "  <tbody>\n",
       "    <tr>\n",
       "      <th id=\"T_e1448_level0_row0\" class=\"row_heading level0 row0\" >0</th>\n",
       "      <td id=\"T_e1448_row0_col0\" class=\"data row0 col0\" >0.7466</td>\n",
       "      <td id=\"T_e1448_row0_col1\" class=\"data row0 col1\" >0.8714</td>\n",
       "      <td id=\"T_e1448_row0_col2\" class=\"data row0 col2\" >0.7488</td>\n",
       "      <td id=\"T_e1448_row0_col3\" class=\"data row0 col3\" >0.7456</td>\n",
       "      <td id=\"T_e1448_row0_col4\" class=\"data row0 col4\" >0.7471</td>\n",
       "      <td id=\"T_e1448_row0_col5\" class=\"data row0 col5\" >0.4931</td>\n",
       "      <td id=\"T_e1448_row0_col6\" class=\"data row0 col6\" >0.4931</td>\n",
       "    </tr>\n",
       "    <tr>\n",
       "      <th id=\"T_e1448_level0_row1\" class=\"row_heading level0 row1\" >1</th>\n",
       "      <td id=\"T_e1448_row1_col0\" class=\"data row1 col0\" >0.7475</td>\n",
       "      <td id=\"T_e1448_row1_col1\" class=\"data row1 col1\" >0.8725</td>\n",
       "      <td id=\"T_e1448_row1_col2\" class=\"data row1 col2\" >0.7485</td>\n",
       "      <td id=\"T_e1448_row1_col3\" class=\"data row1 col3\" >0.7471</td>\n",
       "      <td id=\"T_e1448_row1_col4\" class=\"data row1 col4\" >0.7478</td>\n",
       "      <td id=\"T_e1448_row1_col5\" class=\"data row1 col5\" >0.4950</td>\n",
       "      <td id=\"T_e1448_row1_col6\" class=\"data row1 col6\" >0.4950</td>\n",
       "    </tr>\n",
       "    <tr>\n",
       "      <th id=\"T_e1448_level0_row2\" class=\"row_heading level0 row2\" >2</th>\n",
       "      <td id=\"T_e1448_row2_col0\" class=\"data row2 col0\" >0.7463</td>\n",
       "      <td id=\"T_e1448_row2_col1\" class=\"data row2 col1\" >0.8713</td>\n",
       "      <td id=\"T_e1448_row2_col2\" class=\"data row2 col2\" >0.7505</td>\n",
       "      <td id=\"T_e1448_row2_col3\" class=\"data row2 col3\" >0.7443</td>\n",
       "      <td id=\"T_e1448_row2_col4\" class=\"data row2 col4\" >0.7474</td>\n",
       "      <td id=\"T_e1448_row2_col5\" class=\"data row2 col5\" >0.4926</td>\n",
       "      <td id=\"T_e1448_row2_col6\" class=\"data row2 col6\" >0.4926</td>\n",
       "    </tr>\n",
       "    <tr>\n",
       "      <th id=\"T_e1448_level0_row3\" class=\"row_heading level0 row3\" >3</th>\n",
       "      <td id=\"T_e1448_row3_col0\" class=\"data row3 col0\" >0.7475</td>\n",
       "      <td id=\"T_e1448_row3_col1\" class=\"data row3 col1\" >0.8723</td>\n",
       "      <td id=\"T_e1448_row3_col2\" class=\"data row3 col2\" >0.7524</td>\n",
       "      <td id=\"T_e1448_row3_col3\" class=\"data row3 col3\" >0.7452</td>\n",
       "      <td id=\"T_e1448_row3_col4\" class=\"data row3 col4\" >0.7488</td>\n",
       "      <td id=\"T_e1448_row3_col5\" class=\"data row3 col5\" >0.4950</td>\n",
       "      <td id=\"T_e1448_row3_col6\" class=\"data row3 col6\" >0.4950</td>\n",
       "    </tr>\n",
       "    <tr>\n",
       "      <th id=\"T_e1448_level0_row4\" class=\"row_heading level0 row4\" >4</th>\n",
       "      <td id=\"T_e1448_row4_col0\" class=\"data row4 col0\" >0.7496</td>\n",
       "      <td id=\"T_e1448_row4_col1\" class=\"data row4 col1\" >0.8745</td>\n",
       "      <td id=\"T_e1448_row4_col2\" class=\"data row4 col2\" >0.7529</td>\n",
       "      <td id=\"T_e1448_row4_col3\" class=\"data row4 col3\" >0.7480</td>\n",
       "      <td id=\"T_e1448_row4_col4\" class=\"data row4 col4\" >0.7504</td>\n",
       "      <td id=\"T_e1448_row4_col5\" class=\"data row4 col5\" >0.4992</td>\n",
       "      <td id=\"T_e1448_row4_col6\" class=\"data row4 col6\" >0.4992</td>\n",
       "    </tr>\n",
       "    <tr>\n",
       "      <th id=\"T_e1448_level0_row5\" class=\"row_heading level0 row5\" >5</th>\n",
       "      <td id=\"T_e1448_row5_col0\" class=\"data row5 col0\" >0.7469</td>\n",
       "      <td id=\"T_e1448_row5_col1\" class=\"data row5 col1\" >0.8719</td>\n",
       "      <td id=\"T_e1448_row5_col2\" class=\"data row5 col2\" >0.7499</td>\n",
       "      <td id=\"T_e1448_row5_col3\" class=\"data row5 col3\" >0.7455</td>\n",
       "      <td id=\"T_e1448_row5_col4\" class=\"data row5 col4\" >0.7477</td>\n",
       "      <td id=\"T_e1448_row5_col5\" class=\"data row5 col5\" >0.4938</td>\n",
       "      <td id=\"T_e1448_row5_col6\" class=\"data row5 col6\" >0.4938</td>\n",
       "    </tr>\n",
       "    <tr>\n",
       "      <th id=\"T_e1448_level0_row6\" class=\"row_heading level0 row6\" >6</th>\n",
       "      <td id=\"T_e1448_row6_col0\" class=\"data row6 col0\" >0.7475</td>\n",
       "      <td id=\"T_e1448_row6_col1\" class=\"data row6 col1\" >0.8725</td>\n",
       "      <td id=\"T_e1448_row6_col2\" class=\"data row6 col2\" >0.7523</td>\n",
       "      <td id=\"T_e1448_row6_col3\" class=\"data row6 col3\" >0.7453</td>\n",
       "      <td id=\"T_e1448_row6_col4\" class=\"data row6 col4\" >0.7488</td>\n",
       "      <td id=\"T_e1448_row6_col5\" class=\"data row6 col5\" >0.4951</td>\n",
       "      <td id=\"T_e1448_row6_col6\" class=\"data row6 col6\" >0.4951</td>\n",
       "    </tr>\n",
       "    <tr>\n",
       "      <th id=\"T_e1448_level0_row7\" class=\"row_heading level0 row7\" >7</th>\n",
       "      <td id=\"T_e1448_row7_col0\" class=\"data row7 col0\" >0.7500</td>\n",
       "      <td id=\"T_e1448_row7_col1\" class=\"data row7 col1\" >0.8749</td>\n",
       "      <td id=\"T_e1448_row7_col2\" class=\"data row7 col2\" >0.7520</td>\n",
       "      <td id=\"T_e1448_row7_col3\" class=\"data row7 col3\" >0.7490</td>\n",
       "      <td id=\"T_e1448_row7_col4\" class=\"data row7 col4\" >0.7505</td>\n",
       "      <td id=\"T_e1448_row7_col5\" class=\"data row7 col5\" >0.4999</td>\n",
       "      <td id=\"T_e1448_row7_col6\" class=\"data row7 col6\" >0.4999</td>\n",
       "    </tr>\n",
       "    <tr>\n",
       "      <th id=\"T_e1448_level0_row8\" class=\"row_heading level0 row8\" >8</th>\n",
       "      <td id=\"T_e1448_row8_col0\" class=\"data row8 col0\" >0.7483</td>\n",
       "      <td id=\"T_e1448_row8_col1\" class=\"data row8 col1\" >0.8731</td>\n",
       "      <td id=\"T_e1448_row8_col2\" class=\"data row8 col2\" >0.7485</td>\n",
       "      <td id=\"T_e1448_row8_col3\" class=\"data row8 col3\" >0.7483</td>\n",
       "      <td id=\"T_e1448_row8_col4\" class=\"data row8 col4\" >0.7484</td>\n",
       "      <td id=\"T_e1448_row8_col5\" class=\"data row8 col5\" >0.4966</td>\n",
       "      <td id=\"T_e1448_row8_col6\" class=\"data row8 col6\" >0.4966</td>\n",
       "    </tr>\n",
       "    <tr>\n",
       "      <th id=\"T_e1448_level0_row9\" class=\"row_heading level0 row9\" >9</th>\n",
       "      <td id=\"T_e1448_row9_col0\" class=\"data row9 col0\" >0.7497</td>\n",
       "      <td id=\"T_e1448_row9_col1\" class=\"data row9 col1\" >0.8746</td>\n",
       "      <td id=\"T_e1448_row9_col2\" class=\"data row9 col2\" >0.7532</td>\n",
       "      <td id=\"T_e1448_row9_col3\" class=\"data row9 col3\" >0.7481</td>\n",
       "      <td id=\"T_e1448_row9_col4\" class=\"data row9 col4\" >0.7506</td>\n",
       "      <td id=\"T_e1448_row9_col5\" class=\"data row9 col5\" >0.4994</td>\n",
       "      <td id=\"T_e1448_row9_col6\" class=\"data row9 col6\" >0.4994</td>\n",
       "    </tr>\n",
       "    <tr>\n",
       "      <th id=\"T_e1448_level0_row10\" class=\"row_heading level0 row10\" >Mean</th>\n",
       "      <td id=\"T_e1448_row10_col0\" class=\"data row10 col0\" >0.7480</td>\n",
       "      <td id=\"T_e1448_row10_col1\" class=\"data row10 col1\" >0.8729</td>\n",
       "      <td id=\"T_e1448_row10_col2\" class=\"data row10 col2\" >0.7509</td>\n",
       "      <td id=\"T_e1448_row10_col3\" class=\"data row10 col3\" >0.7466</td>\n",
       "      <td id=\"T_e1448_row10_col4\" class=\"data row10 col4\" >0.7488</td>\n",
       "      <td id=\"T_e1448_row10_col5\" class=\"data row10 col5\" >0.4960</td>\n",
       "      <td id=\"T_e1448_row10_col6\" class=\"data row10 col6\" >0.4960</td>\n",
       "    </tr>\n",
       "    <tr>\n",
       "      <th id=\"T_e1448_level0_row11\" class=\"row_heading level0 row11\" >Std</th>\n",
       "      <td id=\"T_e1448_row11_col0\" class=\"data row11 col0\" >0.0013</td>\n",
       "      <td id=\"T_e1448_row11_col1\" class=\"data row11 col1\" >0.0013</td>\n",
       "      <td id=\"T_e1448_row11_col2\" class=\"data row11 col2\" >0.0018</td>\n",
       "      <td id=\"T_e1448_row11_col3\" class=\"data row11 col3\" >0.0016</td>\n",
       "      <td id=\"T_e1448_row11_col4\" class=\"data row11 col4\" >0.0013</td>\n",
       "      <td id=\"T_e1448_row11_col5\" class=\"data row11 col5\" >0.0026</td>\n",
       "      <td id=\"T_e1448_row11_col6\" class=\"data row11 col6\" >0.0026</td>\n",
       "    </tr>\n",
       "  </tbody>\n",
       "</table>\n"
      ],
      "text/plain": [
       "<pandas.io.formats.style.Styler at 0x7f13a8fe9420>"
      ]
     },
     "metadata": {},
     "output_type": "display_data"
    },
    {
     "data": {
      "text/html": [],
      "text/plain": [
       "<IPython.core.display.HTML object>"
      ]
     },
     "metadata": {},
     "output_type": "display_data"
    }
   ],
   "source": [
    "rf = create_model('rf')"
   ]
  },
  {
   "cell_type": "code",
   "execution_count": 32,
   "metadata": {},
   "outputs": [
    {
     "data": {
      "text/html": [],
      "text/plain": [
       "<IPython.core.display.HTML object>"
      ]
     },
     "metadata": {},
     "output_type": "display_data"
    },
    {
     "data": {
      "image/png": "[encoded data removed]",
      "text/plain": [
       "<Figure size 800x550 with 1 Axes>"
      ]
     },
     "metadata": {},
     "output_type": "display_data"
    }
   ],
   "source": [
    "plot_model(rf, plot = 'confusion_matrix')"
   ]
  },
  {
   "cell_type": "code",
   "execution_count": 33,
   "metadata": {},
   "outputs": [
    {
     "data": {
      "text/html": [],
      "text/plain": [
       "<IPython.core.display.HTML object>"
      ]
     },
     "metadata": {},
     "output_type": "display_data"
    },
    {
     "data": {
      "image/png": "[encoded data removed]",
      "text/plain": [
       "<Figure size 800x550 with 1 Axes>"
      ]
     },
     "metadata": {},
     "output_type": "display_data"
    }
   ],
   "source": [
    "plot_model(rf, plot = 'error')"
   ]
  },
  {
   "cell_type": "code",
   "execution_count": 34,
   "metadata": {},
   "outputs": [
    {
     "data": {
      "text/html": [],
      "text/plain": [
       "<IPython.core.display.HTML object>"
      ]
     },
     "metadata": {},
     "output_type": "display_data"
    },
    {
     "data": {
      "text/html": [
       "<div>\n",
       "<style scoped>\n",
       "    .dataframe tbody tr th:only-of-type {\n",
       "        vertical-align: middle;\n",
       "    }\n",
       "\n",
       "    .dataframe tbody tr th {\n",
       "        vertical-align: top;\n",
       "    }\n",
       "\n",
       "    .dataframe thead th {\n",
       "        text-align: right;\n",
       "    }\n",
       "</style>\n",
       "<table border=\"1\" class=\"dataframe\">\n",
       "  <thead>\n",
       "    <tr style=\"text-align: right;\">\n",
       "      <th></th>\n",
       "      <th>Parameters</th>\n",
       "    </tr>\n",
       "  </thead>\n",
       "  <tbody>\n",
       "    <tr>\n",
       "      <th>bootstrap</th>\n",
       "      <td>True</td>\n",
       "    </tr>\n",
       "    <tr>\n",
       "      <th>ccp_alpha</th>\n",
       "      <td>0.0</td>\n",
       "    </tr>\n",
       "    <tr>\n",
       "      <th>class_weight</th>\n",
       "      <td>None</td>\n",
       "    </tr>\n",
       "    <tr>\n",
       "      <th>criterion</th>\n",
       "      <td>gini</td>\n",
       "    </tr>\n",
       "    <tr>\n",
       "      <th>max_depth</th>\n",
       "      <td>None</td>\n",
       "    </tr>\n",
       "    <tr>\n",
       "      <th>max_features</th>\n",
       "      <td>sqrt</td>\n",
       "    </tr>\n",
       "    <tr>\n",
       "      <th>max_leaf_nodes</th>\n",
       "      <td>None</td>\n",
       "    </tr>\n",
       "    <tr>\n",
       "      <th>max_samples</th>\n",
       "      <td>None</td>\n",
       "    </tr>\n",
       "    <tr>\n",
       "      <th>min_impurity_decrease</th>\n",
       "      <td>0.0</td>\n",
       "    </tr>\n",
       "    <tr>\n",
       "      <th>min_samples_leaf</th>\n",
       "      <td>1</td>\n",
       "    </tr>\n",
       "    <tr>\n",
       "      <th>min_samples_split</th>\n",
       "      <td>2</td>\n",
       "    </tr>\n",
       "    <tr>\n",
       "      <th>min_weight_fraction_leaf</th>\n",
       "      <td>0.0</td>\n",
       "    </tr>\n",
       "    <tr>\n",
       "      <th>n_estimators</th>\n",
       "      <td>100</td>\n",
       "    </tr>\n",
       "    <tr>\n",
       "      <th>n_jobs</th>\n",
       "      <td>-1</td>\n",
       "    </tr>\n",
       "    <tr>\n",
       "      <th>oob_score</th>\n",
       "      <td>False</td>\n",
       "    </tr>\n",
       "    <tr>\n",
       "      <th>random_state</th>\n",
       "      <td>6107</td>\n",
       "    </tr>\n",
       "    <tr>\n",
       "      <th>verbose</th>\n",
       "      <td>0</td>\n",
       "    </tr>\n",
       "    <tr>\n",
       "      <th>warm_start</th>\n",
       "      <td>False</td>\n",
       "    </tr>\n",
       "  </tbody>\n",
       "</table>\n",
       "</div>"
      ],
      "text/plain": [
       "                         Parameters\n",
       "bootstrap                      True\n",
       "ccp_alpha                       0.0\n",
       "class_weight                   None\n",
       "criterion                      gini\n",
       "max_depth                      None\n",
       "max_features                   sqrt\n",
       "max_leaf_nodes                 None\n",
       "max_samples                    None\n",
       "min_impurity_decrease           0.0\n",
       "min_samples_leaf                  1\n",
       "min_samples_split                 2\n",
       "min_weight_fraction_leaf        0.0\n",
       "n_estimators                    100\n",
       "n_jobs                           -1\n",
       "oob_score                     False\n",
       "random_state                   6107\n",
       "verbose                           0\n",
       "warm_start                    False"
      ]
     },
     "metadata": {},
     "output_type": "display_data"
    }
   ],
   "source": [
    "plot_model(rf, plot = 'parameter')"
   ]
  },
  {
   "cell_type": "code",
   "execution_count": 35,
   "metadata": {},
   "outputs": [
    {
     "name": "stdout",
     "output_type": "stream",
     "text": [
      "Transformation Pipeline and Model Successfully Saved\n"
     ]
    },
    {
     "data": {
      "text/plain": [
       "(Pipeline(memory=FastMemory(location=/tmp/joblib),\n",
       "          steps=[('numerical_imputer',\n",
       "                  TransformerWrapper(exclude=None,\n",
       "                                     include=['0', '1', '2', '3', '4', '5', '6',\n",
       "                                              '7', '8', '9', '10', '11', '12',\n",
       "                                              '13', '14', '15', '16', '17', '18',\n",
       "                                              '19', '20', '21', '22', '23', '24',\n",
       "                                              '25', '26', '27', '28', '29', ...],\n",
       "                                     transformer=SimpleImputer(add_indicator=False,\n",
       "                                                               copy=True,\n",
       "                                                               fill_value=None,\n",
       "                                                               keep_empty_feat...\n",
       "                  RandomForestClassifier(bootstrap=True, ccp_alpha=0.0,\n",
       "                                         class_weight=None, criterion='gini',\n",
       "                                         max_depth=None, max_features='sqrt',\n",
       "                                         max_leaf_nodes=None, max_samples=None,\n",
       "                                         min_impurity_decrease=0.0,\n",
       "                                         min_samples_leaf=1, min_samples_split=2,\n",
       "                                         min_weight_fraction_leaf=0.0,\n",
       "                                         n_estimators=100, n_jobs=-1,\n",
       "                                         oob_score=False, random_state=6107,\n",
       "                                         verbose=0, warm_start=False))],\n",
       "          verbose=False),\n",
       " 'models_classif/convkb/binary_emb_val/rf.pkl')"
      ]
     },
     "execution_count": 35,
     "metadata": {},
     "output_type": "execute_result"
    }
   ],
   "source": [
    "save_model(rf, 'models_classif/convkb/binary_emb_val/rf')"
   ]
  },
  {
   "cell_type": "markdown",
   "metadata": {},
   "source": [
    "# Quadratic Discriminant Analysis"
   ]
  },
  {
   "cell_type": "code",
   "execution_count": 36,
   "metadata": {},
   "outputs": [
    {
     "data": {
      "text/html": [],
      "text/plain": [
       "<IPython.core.display.HTML object>"
      ]
     },
     "metadata": {},
     "output_type": "display_data"
    },
    {
     "data": {
      "text/html": [
       "<style type=\"text/css\">\n",
       "#T_f7a7d_row10_col0, #T_f7a7d_row10_col1, #T_f7a7d_row10_col2, #T_f7a7d_row10_col3, #T_f7a7d_row10_col4, #T_f7a7d_row10_col5, #T_f7a7d_row10_col6 {\n",
       "  background: yellow;\n",
       "}\n",
       "</style>\n",
       "<table id=\"T_f7a7d\">\n",
       "  <thead>\n",
       "    <tr>\n",
       "      <th class=\"blank level0\" >&nbsp;</th>\n",
       "      <th id=\"T_f7a7d_level0_col0\" class=\"col_heading level0 col0\" >Accuracy</th>\n",
       "      <th id=\"T_f7a7d_level0_col1\" class=\"col_heading level0 col1\" >AUC</th>\n",
       "      <th id=\"T_f7a7d_level0_col2\" class=\"col_heading level0 col2\" >Recall</th>\n",
       "      <th id=\"T_f7a7d_level0_col3\" class=\"col_heading level0 col3\" >Prec.</th>\n",
       "      <th id=\"T_f7a7d_level0_col4\" class=\"col_heading level0 col4\" >F1</th>\n",
       "      <th id=\"T_f7a7d_level0_col5\" class=\"col_heading level0 col5\" >Kappa</th>\n",
       "      <th id=\"T_f7a7d_level0_col6\" class=\"col_heading level0 col6\" >MCC</th>\n",
       "    </tr>\n",
       "    <tr>\n",
       "      <th class=\"index_name level0\" >Fold</th>\n",
       "      <th class=\"blank col0\" >&nbsp;</th>\n",
       "      <th class=\"blank col1\" >&nbsp;</th>\n",
       "      <th class=\"blank col2\" >&nbsp;</th>\n",
       "      <th class=\"blank col3\" >&nbsp;</th>\n",
       "      <th class=\"blank col4\" >&nbsp;</th>\n",
       "      <th class=\"blank col5\" >&nbsp;</th>\n",
       "      <th class=\"blank col6\" >&nbsp;</th>\n",
       "    </tr>\n",
       "  </thead>\n",
       "  <tbody>\n",
       "    <tr>\n",
       "      <th id=\"T_f7a7d_level0_row0\" class=\"row_heading level0 row0\" >0</th>\n",
       "      <td id=\"T_f7a7d_row0_col0\" class=\"data row0 col0\" >0.5834</td>\n",
       "      <td id=\"T_f7a7d_row0_col1\" class=\"data row0 col1\" >0.6158</td>\n",
       "      <td id=\"T_f7a7d_row0_col2\" class=\"data row0 col2\" >0.6177</td>\n",
       "      <td id=\"T_f7a7d_row0_col3\" class=\"data row0 col3\" >0.5782</td>\n",
       "      <td id=\"T_f7a7d_row0_col4\" class=\"data row0 col4\" >0.5973</td>\n",
       "      <td id=\"T_f7a7d_row0_col5\" class=\"data row0 col5\" >0.1669</td>\n",
       "      <td id=\"T_f7a7d_row0_col6\" class=\"data row0 col6\" >0.1673</td>\n",
       "    </tr>\n",
       "    <tr>\n",
       "      <th id=\"T_f7a7d_level0_row1\" class=\"row_heading level0 row1\" >1</th>\n",
       "      <td id=\"T_f7a7d_row1_col0\" class=\"data row1 col0\" >0.5837</td>\n",
       "      <td id=\"T_f7a7d_row1_col1\" class=\"data row1 col1\" >0.6162</td>\n",
       "      <td id=\"T_f7a7d_row1_col2\" class=\"data row1 col2\" >0.6192</td>\n",
       "      <td id=\"T_f7a7d_row1_col3\" class=\"data row1 col3\" >0.5783</td>\n",
       "      <td id=\"T_f7a7d_row1_col4\" class=\"data row1 col4\" >0.5980</td>\n",
       "      <td id=\"T_f7a7d_row1_col5\" class=\"data row1 col5\" >0.1674</td>\n",
       "      <td id=\"T_f7a7d_row1_col6\" class=\"data row1 col6\" >0.1679</td>\n",
       "    </tr>\n",
       "    <tr>\n",
       "      <th id=\"T_f7a7d_level0_row2\" class=\"row_heading level0 row2\" >2</th>\n",
       "      <td id=\"T_f7a7d_row2_col0\" class=\"data row2 col0\" >0.5844</td>\n",
       "      <td id=\"T_f7a7d_row2_col1\" class=\"data row2 col1\" >0.6168</td>\n",
       "      <td id=\"T_f7a7d_row2_col2\" class=\"data row2 col2\" >0.6210</td>\n",
       "      <td id=\"T_f7a7d_row2_col3\" class=\"data row2 col3\" >0.5787</td>\n",
       "      <td id=\"T_f7a7d_row2_col4\" class=\"data row2 col4\" >0.5991</td>\n",
       "      <td id=\"T_f7a7d_row2_col5\" class=\"data row2 col5\" >0.1687</td>\n",
       "      <td id=\"T_f7a7d_row2_col6\" class=\"data row2 col6\" >0.1692</td>\n",
       "    </tr>\n",
       "    <tr>\n",
       "      <th id=\"T_f7a7d_level0_row3\" class=\"row_heading level0 row3\" >3</th>\n",
       "      <td id=\"T_f7a7d_row3_col0\" class=\"data row3 col0\" >0.5839</td>\n",
       "      <td id=\"T_f7a7d_row3_col1\" class=\"data row3 col1\" >0.6163</td>\n",
       "      <td id=\"T_f7a7d_row3_col2\" class=\"data row3 col2\" >0.6232</td>\n",
       "      <td id=\"T_f7a7d_row3_col3\" class=\"data row3 col3\" >0.5779</td>\n",
       "      <td id=\"T_f7a7d_row3_col4\" class=\"data row3 col4\" >0.5997</td>\n",
       "      <td id=\"T_f7a7d_row3_col5\" class=\"data row3 col5\" >0.1679</td>\n",
       "      <td id=\"T_f7a7d_row3_col6\" class=\"data row3 col6\" >0.1684</td>\n",
       "    </tr>\n",
       "    <tr>\n",
       "      <th id=\"T_f7a7d_level0_row4\" class=\"row_heading level0 row4\" >4</th>\n",
       "      <td id=\"T_f7a7d_row4_col0\" class=\"data row4 col0\" >0.5841</td>\n",
       "      <td id=\"T_f7a7d_row4_col1\" class=\"data row4 col1\" >0.6182</td>\n",
       "      <td id=\"T_f7a7d_row4_col2\" class=\"data row4 col2\" >0.6204</td>\n",
       "      <td id=\"T_f7a7d_row4_col3\" class=\"data row4 col3\" >0.5785</td>\n",
       "      <td id=\"T_f7a7d_row4_col4\" class=\"data row4 col4\" >0.5988</td>\n",
       "      <td id=\"T_f7a7d_row4_col5\" class=\"data row4 col5\" >0.1683</td>\n",
       "      <td id=\"T_f7a7d_row4_col6\" class=\"data row4 col6\" >0.1687</td>\n",
       "    </tr>\n",
       "    <tr>\n",
       "      <th id=\"T_f7a7d_level0_row5\" class=\"row_heading level0 row5\" >5</th>\n",
       "      <td id=\"T_f7a7d_row5_col0\" class=\"data row5 col0\" >0.5847</td>\n",
       "      <td id=\"T_f7a7d_row5_col1\" class=\"data row5 col1\" >0.6172</td>\n",
       "      <td id=\"T_f7a7d_row5_col2\" class=\"data row5 col2\" >0.6187</td>\n",
       "      <td id=\"T_f7a7d_row5_col3\" class=\"data row5 col3\" >0.5794</td>\n",
       "      <td id=\"T_f7a7d_row5_col4\" class=\"data row5 col4\" >0.5984</td>\n",
       "      <td id=\"T_f7a7d_row5_col5\" class=\"data row5 col5\" >0.1694</td>\n",
       "      <td id=\"T_f7a7d_row5_col6\" class=\"data row5 col6\" >0.1698</td>\n",
       "    </tr>\n",
       "    <tr>\n",
       "      <th id=\"T_f7a7d_level0_row6\" class=\"row_heading level0 row6\" >6</th>\n",
       "      <td id=\"T_f7a7d_row6_col0\" class=\"data row6 col0\" >0.5848</td>\n",
       "      <td id=\"T_f7a7d_row6_col1\" class=\"data row6 col1\" >0.6173</td>\n",
       "      <td id=\"T_f7a7d_row6_col2\" class=\"data row6 col2\" >0.6207</td>\n",
       "      <td id=\"T_f7a7d_row6_col3\" class=\"data row6 col3\" >0.5792</td>\n",
       "      <td id=\"T_f7a7d_row6_col4\" class=\"data row6 col4\" >0.5992</td>\n",
       "      <td id=\"T_f7a7d_row6_col5\" class=\"data row6 col5\" >0.1696</td>\n",
       "      <td id=\"T_f7a7d_row6_col6\" class=\"data row6 col6\" >0.1701</td>\n",
       "    </tr>\n",
       "    <tr>\n",
       "      <th id=\"T_f7a7d_level0_row7\" class=\"row_heading level0 row7\" >7</th>\n",
       "      <td id=\"T_f7a7d_row7_col0\" class=\"data row7 col0\" >0.5847</td>\n",
       "      <td id=\"T_f7a7d_row7_col1\" class=\"data row7 col1\" >0.6168</td>\n",
       "      <td id=\"T_f7a7d_row7_col2\" class=\"data row7 col2\" >0.6224</td>\n",
       "      <td id=\"T_f7a7d_row7_col3\" class=\"data row7 col3\" >0.5789</td>\n",
       "      <td id=\"T_f7a7d_row7_col4\" class=\"data row7 col4\" >0.5998</td>\n",
       "      <td id=\"T_f7a7d_row7_col5\" class=\"data row7 col5\" >0.1694</td>\n",
       "      <td id=\"T_f7a7d_row7_col6\" class=\"data row7 col6\" >0.1699</td>\n",
       "    </tr>\n",
       "    <tr>\n",
       "      <th id=\"T_f7a7d_level0_row8\" class=\"row_heading level0 row8\" >8</th>\n",
       "      <td id=\"T_f7a7d_row8_col0\" class=\"data row8 col0\" >0.5836</td>\n",
       "      <td id=\"T_f7a7d_row8_col1\" class=\"data row8 col1\" >0.6160</td>\n",
       "      <td id=\"T_f7a7d_row8_col2\" class=\"data row8 col2\" >0.6198</td>\n",
       "      <td id=\"T_f7a7d_row8_col3\" class=\"data row8 col3\" >0.5781</td>\n",
       "      <td id=\"T_f7a7d_row8_col4\" class=\"data row8 col4\" >0.5982</td>\n",
       "      <td id=\"T_f7a7d_row8_col5\" class=\"data row8 col5\" >0.1672</td>\n",
       "      <td id=\"T_f7a7d_row8_col6\" class=\"data row8 col6\" >0.1676</td>\n",
       "    </tr>\n",
       "    <tr>\n",
       "      <th id=\"T_f7a7d_level0_row9\" class=\"row_heading level0 row9\" >9</th>\n",
       "      <td id=\"T_f7a7d_row9_col0\" class=\"data row9 col0\" >0.5851</td>\n",
       "      <td id=\"T_f7a7d_row9_col1\" class=\"data row9 col1\" >0.6185</td>\n",
       "      <td id=\"T_f7a7d_row9_col2\" class=\"data row9 col2\" >0.6218</td>\n",
       "      <td id=\"T_f7a7d_row9_col3\" class=\"data row9 col3\" >0.5794</td>\n",
       "      <td id=\"T_f7a7d_row9_col4\" class=\"data row9 col4\" >0.5999</td>\n",
       "      <td id=\"T_f7a7d_row9_col5\" class=\"data row9 col5\" >0.1702</td>\n",
       "      <td id=\"T_f7a7d_row9_col6\" class=\"data row9 col6\" >0.1707</td>\n",
       "    </tr>\n",
       "    <tr>\n",
       "      <th id=\"T_f7a7d_level0_row10\" class=\"row_heading level0 row10\" >Mean</th>\n",
       "      <td id=\"T_f7a7d_row10_col0\" class=\"data row10 col0\" >0.5843</td>\n",
       "      <td id=\"T_f7a7d_row10_col1\" class=\"data row10 col1\" >0.6169</td>\n",
       "      <td id=\"T_f7a7d_row10_col2\" class=\"data row10 col2\" >0.6205</td>\n",
       "      <td id=\"T_f7a7d_row10_col3\" class=\"data row10 col3\" >0.5787</td>\n",
       "      <td id=\"T_f7a7d_row10_col4\" class=\"data row10 col4\" >0.5988</td>\n",
       "      <td id=\"T_f7a7d_row10_col5\" class=\"data row10 col5\" >0.1685</td>\n",
       "      <td id=\"T_f7a7d_row10_col6\" class=\"data row10 col6\" >0.1689</td>\n",
       "    </tr>\n",
       "    <tr>\n",
       "      <th id=\"T_f7a7d_level0_row11\" class=\"row_heading level0 row11\" >Std</th>\n",
       "      <td id=\"T_f7a7d_row11_col0\" class=\"data row11 col0\" >0.0005</td>\n",
       "      <td id=\"T_f7a7d_row11_col1\" class=\"data row11 col1\" >0.0008</td>\n",
       "      <td id=\"T_f7a7d_row11_col2\" class=\"data row11 col2\" >0.0016</td>\n",
       "      <td id=\"T_f7a7d_row11_col3\" class=\"data row11 col3\" >0.0005</td>\n",
       "      <td id=\"T_f7a7d_row11_col4\" class=\"data row11 col4\" >0.0008</td>\n",
       "      <td id=\"T_f7a7d_row11_col5\" class=\"data row11 col5\" >0.0011</td>\n",
       "      <td id=\"T_f7a7d_row11_col6\" class=\"data row11 col6\" >0.0011</td>\n",
       "    </tr>\n",
       "  </tbody>\n",
       "</table>\n"
      ],
      "text/plain": [
       "<pandas.io.formats.style.Styler at 0x7f140c2ac220>"
      ]
     },
     "metadata": {},
     "output_type": "display_data"
    },
    {
     "data": {
      "text/html": [],
      "text/plain": [
       "<IPython.core.display.HTML object>"
      ]
     },
     "metadata": {},
     "output_type": "display_data"
    }
   ],
   "source": [
    "qda = create_model('qda')"
   ]
  },
  {
   "cell_type": "code",
   "execution_count": 37,
   "metadata": {},
   "outputs": [
    {
     "data": {
      "text/html": [],
      "text/plain": [
       "<IPython.core.display.HTML object>"
      ]
     },
     "metadata": {},
     "output_type": "display_data"
    },
    {
     "data": {
      "image/png": "[encoded data removed]",
      "text/plain": [
       "<Figure size 800x550 with 1 Axes>"
      ]
     },
     "metadata": {},
     "output_type": "display_data"
    }
   ],
   "source": [
    "plot_model(qda, plot = 'confusion_matrix')"
   ]
  },
  {
   "cell_type": "code",
   "execution_count": 38,
   "metadata": {},
   "outputs": [
    {
     "data": {
      "text/html": [],
      "text/plain": [
       "<IPython.core.display.HTML object>"
      ]
     },
     "metadata": {},
     "output_type": "display_data"
    },
    {
     "data": {
      "image/png": "[encoded data removed]",
      "text/plain": [
       "<Figure size 800x550 with 1 Axes>"
      ]
     },
     "metadata": {},
     "output_type": "display_data"
    }
   ],
   "source": [
    "plot_model(qda, plot = 'error')"
   ]
  },
  {
   "cell_type": "code",
   "execution_count": 39,
   "metadata": {},
   "outputs": [
    {
     "data": {
      "text/html": [],
      "text/plain": [
       "<IPython.core.display.HTML object>"
      ]
     },
     "metadata": {},
     "output_type": "display_data"
    },
    {
     "data": {
      "text/html": [
       "<div>\n",
       "<style scoped>\n",
       "    .dataframe tbody tr th:only-of-type {\n",
       "        vertical-align: middle;\n",
       "    }\n",
       "\n",
       "    .dataframe tbody tr th {\n",
       "        vertical-align: top;\n",
       "    }\n",
       "\n",
       "    .dataframe thead th {\n",
       "        text-align: right;\n",
       "    }\n",
       "</style>\n",
       "<table border=\"1\" class=\"dataframe\">\n",
       "  <thead>\n",
       "    <tr style=\"text-align: right;\">\n",
       "      <th></th>\n",
       "      <th>Parameters</th>\n",
       "    </tr>\n",
       "  </thead>\n",
       "  <tbody>\n",
       "    <tr>\n",
       "      <th>priors</th>\n",
       "      <td>None</td>\n",
       "    </tr>\n",
       "    <tr>\n",
       "      <th>reg_param</th>\n",
       "      <td>0.0</td>\n",
       "    </tr>\n",
       "    <tr>\n",
       "      <th>store_covariance</th>\n",
       "      <td>False</td>\n",
       "    </tr>\n",
       "    <tr>\n",
       "      <th>tol</th>\n",
       "      <td>0.0001</td>\n",
       "    </tr>\n",
       "  </tbody>\n",
       "</table>\n",
       "</div>"
      ],
      "text/plain": [
       "                 Parameters\n",
       "priors                 None\n",
       "reg_param               0.0\n",
       "store_covariance      False\n",
       "tol                  0.0001"
      ]
     },
     "metadata": {},
     "output_type": "display_data"
    }
   ],
   "source": [
    "plot_model(qda, plot = 'parameter')"
   ]
  },
  {
   "cell_type": "code",
   "execution_count": 40,
   "metadata": {},
   "outputs": [
    {
     "name": "stdout",
     "output_type": "stream",
     "text": [
      "Transformation Pipeline and Model Successfully Saved\n"
     ]
    },
    {
     "data": {
      "text/plain": [
       "(Pipeline(memory=FastMemory(location=/tmp/joblib),\n",
       "          steps=[('numerical_imputer',\n",
       "                  TransformerWrapper(exclude=None,\n",
       "                                     include=['0', '1', '2', '3', '4', '5', '6',\n",
       "                                              '7', '8', '9', '10', '11', '12',\n",
       "                                              '13', '14', '15', '16', '17', '18',\n",
       "                                              '19', '20', '21', '22', '23', '24',\n",
       "                                              '25', '26', '27', '28', '29', ...],\n",
       "                                     transformer=SimpleImputer(add_indicator=False,\n",
       "                                                               copy=True,\n",
       "                                                               fill_value=None,\n",
       "                                                               keep_empty_feat...\n",
       "                 ('categorical_imputer',\n",
       "                  TransformerWrapper(exclude=None, include=[],\n",
       "                                     transformer=SimpleImputer(add_indicator=False,\n",
       "                                                               copy=True,\n",
       "                                                               fill_value=None,\n",
       "                                                               keep_empty_features=False,\n",
       "                                                               missing_values=nan,\n",
       "                                                               strategy='most_frequent',\n",
       "                                                               verbose='deprecated'))),\n",
       "                 ('trained_model',\n",
       "                  QuadraticDiscriminantAnalysis(priors=None, reg_param=0.0,\n",
       "                                                store_covariance=False,\n",
       "                                                tol=0.0001))],\n",
       "          verbose=False),\n",
       " 'models_classif/convkb/binary_emb_val/qda.pkl')"
      ]
     },
     "execution_count": 40,
     "metadata": {},
     "output_type": "execute_result"
    }
   ],
   "source": [
    "save_model(qda, 'models_classif/convkb/binary_emb_val/qda')"
   ]
  },
  {
   "cell_type": "markdown",
   "metadata": {},
   "source": [
    "# Linear Discriminant Analysis"
   ]
  },
  {
   "cell_type": "code",
   "execution_count": 41,
   "metadata": {},
   "outputs": [
    {
     "data": {
      "text/html": [],
      "text/plain": [
       "<IPython.core.display.HTML object>"
      ]
     },
     "metadata": {},
     "output_type": "display_data"
    },
    {
     "data": {
      "text/html": [
       "<style type=\"text/css\">\n",
       "#T_cce27_row10_col0, #T_cce27_row10_col1, #T_cce27_row10_col2, #T_cce27_row10_col3, #T_cce27_row10_col4, #T_cce27_row10_col5, #T_cce27_row10_col6 {\n",
       "  background: yellow;\n",
       "}\n",
       "</style>\n",
       "<table id=\"T_cce27\">\n",
       "  <thead>\n",
       "    <tr>\n",
       "      <th class=\"blank level0\" >&nbsp;</th>\n",
       "      <th id=\"T_cce27_level0_col0\" class=\"col_heading level0 col0\" >Accuracy</th>\n",
       "      <th id=\"T_cce27_level0_col1\" class=\"col_heading level0 col1\" >AUC</th>\n",
       "      <th id=\"T_cce27_level0_col2\" class=\"col_heading level0 col2\" >Recall</th>\n",
       "      <th id=\"T_cce27_level0_col3\" class=\"col_heading level0 col3\" >Prec.</th>\n",
       "      <th id=\"T_cce27_level0_col4\" class=\"col_heading level0 col4\" >F1</th>\n",
       "      <th id=\"T_cce27_level0_col5\" class=\"col_heading level0 col5\" >Kappa</th>\n",
       "      <th id=\"T_cce27_level0_col6\" class=\"col_heading level0 col6\" >MCC</th>\n",
       "    </tr>\n",
       "    <tr>\n",
       "      <th class=\"index_name level0\" >Fold</th>\n",
       "      <th class=\"blank col0\" >&nbsp;</th>\n",
       "      <th class=\"blank col1\" >&nbsp;</th>\n",
       "      <th class=\"blank col2\" >&nbsp;</th>\n",
       "      <th class=\"blank col3\" >&nbsp;</th>\n",
       "      <th class=\"blank col4\" >&nbsp;</th>\n",
       "      <th class=\"blank col5\" >&nbsp;</th>\n",
       "      <th class=\"blank col6\" >&nbsp;</th>\n",
       "    </tr>\n",
       "  </thead>\n",
       "  <tbody>\n",
       "    <tr>\n",
       "      <th id=\"T_cce27_level0_row0\" class=\"row_heading level0 row0\" >0</th>\n",
       "      <td id=\"T_cce27_row0_col0\" class=\"data row0 col0\" >0.6282</td>\n",
       "      <td id=\"T_cce27_row0_col1\" class=\"data row0 col1\" >0.6636</td>\n",
       "      <td id=\"T_cce27_row0_col2\" class=\"data row0 col2\" >0.7070</td>\n",
       "      <td id=\"T_cce27_row0_col3\" class=\"data row0 col3\" >0.6109</td>\n",
       "      <td id=\"T_cce27_row0_col4\" class=\"data row0 col4\" >0.6554</td>\n",
       "      <td id=\"T_cce27_row0_col5\" class=\"data row0 col5\" >0.2565</td>\n",
       "      <td id=\"T_cce27_row0_col6\" class=\"data row0 col6\" >0.2597</td>\n",
       "    </tr>\n",
       "    <tr>\n",
       "      <th id=\"T_cce27_level0_row1\" class=\"row_heading level0 row1\" >1</th>\n",
       "      <td id=\"T_cce27_row1_col0\" class=\"data row1 col0\" >0.6283</td>\n",
       "      <td id=\"T_cce27_row1_col1\" class=\"data row1 col1\" >0.6639</td>\n",
       "      <td id=\"T_cce27_row1_col2\" class=\"data row1 col2\" >0.7045</td>\n",
       "      <td id=\"T_cce27_row1_col3\" class=\"data row1 col3\" >0.6114</td>\n",
       "      <td id=\"T_cce27_row1_col4\" class=\"data row1 col4\" >0.6547</td>\n",
       "      <td id=\"T_cce27_row1_col5\" class=\"data row1 col5\" >0.2566</td>\n",
       "      <td id=\"T_cce27_row1_col6\" class=\"data row1 col6\" >0.2596</td>\n",
       "    </tr>\n",
       "    <tr>\n",
       "      <th id=\"T_cce27_level0_row2\" class=\"row_heading level0 row2\" >2</th>\n",
       "      <td id=\"T_cce27_row2_col0\" class=\"data row2 col0\" >0.6287</td>\n",
       "      <td id=\"T_cce27_row2_col1\" class=\"data row2 col1\" >0.6639</td>\n",
       "      <td id=\"T_cce27_row2_col2\" class=\"data row2 col2\" >0.7042</td>\n",
       "      <td id=\"T_cce27_row2_col3\" class=\"data row2 col3\" >0.6119</td>\n",
       "      <td id=\"T_cce27_row2_col4\" class=\"data row2 col4\" >0.6548</td>\n",
       "      <td id=\"T_cce27_row2_col5\" class=\"data row2 col5\" >0.2573</td>\n",
       "      <td id=\"T_cce27_row2_col6\" class=\"data row2 col6\" >0.2603</td>\n",
       "    </tr>\n",
       "    <tr>\n",
       "      <th id=\"T_cce27_level0_row3\" class=\"row_heading level0 row3\" >3</th>\n",
       "      <td id=\"T_cce27_row3_col0\" class=\"data row3 col0\" >0.6271</td>\n",
       "      <td id=\"T_cce27_row3_col1\" class=\"data row3 col1\" >0.6626</td>\n",
       "      <td id=\"T_cce27_row3_col2\" class=\"data row3 col2\" >0.7046</td>\n",
       "      <td id=\"T_cce27_row3_col3\" class=\"data row3 col3\" >0.6101</td>\n",
       "      <td id=\"T_cce27_row3_col4\" class=\"data row3 col4\" >0.6540</td>\n",
       "      <td id=\"T_cce27_row3_col5\" class=\"data row3 col5\" >0.2542</td>\n",
       "      <td id=\"T_cce27_row3_col6\" class=\"data row3 col6\" >0.2573</td>\n",
       "    </tr>\n",
       "    <tr>\n",
       "      <th id=\"T_cce27_level0_row4\" class=\"row_heading level0 row4\" >4</th>\n",
       "      <td id=\"T_cce27_row4_col0\" class=\"data row4 col0\" >0.6285</td>\n",
       "      <td id=\"T_cce27_row4_col1\" class=\"data row4 col1\" >0.6656</td>\n",
       "      <td id=\"T_cce27_row4_col2\" class=\"data row4 col2\" >0.7060</td>\n",
       "      <td id=\"T_cce27_row4_col3\" class=\"data row4 col3\" >0.6113</td>\n",
       "      <td id=\"T_cce27_row4_col4\" class=\"data row4 col4\" >0.6552</td>\n",
       "      <td id=\"T_cce27_row4_col5\" class=\"data row4 col5\" >0.2569</td>\n",
       "      <td id=\"T_cce27_row4_col6\" class=\"data row4 col6\" >0.2600</td>\n",
       "    </tr>\n",
       "    <tr>\n",
       "      <th id=\"T_cce27_level0_row5\" class=\"row_heading level0 row5\" >5</th>\n",
       "      <td id=\"T_cce27_row5_col0\" class=\"data row5 col0\" >0.6286</td>\n",
       "      <td id=\"T_cce27_row5_col1\" class=\"data row5 col1\" >0.6642</td>\n",
       "      <td id=\"T_cce27_row5_col2\" class=\"data row5 col2\" >0.7058</td>\n",
       "      <td id=\"T_cce27_row5_col3\" class=\"data row5 col3\" >0.6114</td>\n",
       "      <td id=\"T_cce27_row5_col4\" class=\"data row5 col4\" >0.6553</td>\n",
       "      <td id=\"T_cce27_row5_col5\" class=\"data row5 col5\" >0.2571</td>\n",
       "      <td id=\"T_cce27_row5_col6\" class=\"data row5 col6\" >0.2602</td>\n",
       "    </tr>\n",
       "    <tr>\n",
       "      <th id=\"T_cce27_level0_row6\" class=\"row_heading level0 row6\" >6</th>\n",
       "      <td id=\"T_cce27_row6_col0\" class=\"data row6 col0\" >0.6289</td>\n",
       "      <td id=\"T_cce27_row6_col1\" class=\"data row6 col1\" >0.6640</td>\n",
       "      <td id=\"T_cce27_row6_col2\" class=\"data row6 col2\" >0.7062</td>\n",
       "      <td id=\"T_cce27_row6_col3\" class=\"data row6 col3\" >0.6117</td>\n",
       "      <td id=\"T_cce27_row6_col4\" class=\"data row6 col4\" >0.6556</td>\n",
       "      <td id=\"T_cce27_row6_col5\" class=\"data row6 col5\" >0.2577</td>\n",
       "      <td id=\"T_cce27_row6_col6\" class=\"data row6 col6\" >0.2609</td>\n",
       "    </tr>\n",
       "    <tr>\n",
       "      <th id=\"T_cce27_level0_row7\" class=\"row_heading level0 row7\" >7</th>\n",
       "      <td id=\"T_cce27_row7_col0\" class=\"data row7 col0\" >0.6292</td>\n",
       "      <td id=\"T_cce27_row7_col1\" class=\"data row7 col1\" >0.6657</td>\n",
       "      <td id=\"T_cce27_row7_col2\" class=\"data row7 col2\" >0.7063</td>\n",
       "      <td id=\"T_cce27_row7_col3\" class=\"data row7 col3\" >0.6121</td>\n",
       "      <td id=\"T_cce27_row7_col4\" class=\"data row7 col4\" >0.6558</td>\n",
       "      <td id=\"T_cce27_row7_col5\" class=\"data row7 col5\" >0.2585</td>\n",
       "      <td id=\"T_cce27_row7_col6\" class=\"data row7 col6\" >0.2616</td>\n",
       "    </tr>\n",
       "    <tr>\n",
       "      <th id=\"T_cce27_level0_row8\" class=\"row_heading level0 row8\" >8</th>\n",
       "      <td id=\"T_cce27_row8_col0\" class=\"data row8 col0\" >0.6302</td>\n",
       "      <td id=\"T_cce27_row8_col1\" class=\"data row8 col1\" >0.6655</td>\n",
       "      <td id=\"T_cce27_row8_col2\" class=\"data row8 col2\" >0.7079</td>\n",
       "      <td id=\"T_cce27_row8_col3\" class=\"data row8 col3\" >0.6127</td>\n",
       "      <td id=\"T_cce27_row8_col4\" class=\"data row8 col4\" >0.6569</td>\n",
       "      <td id=\"T_cce27_row8_col5\" class=\"data row8 col5\" >0.2603</td>\n",
       "      <td id=\"T_cce27_row8_col6\" class=\"data row8 col6\" >0.2635</td>\n",
       "    </tr>\n",
       "    <tr>\n",
       "      <th id=\"T_cce27_level0_row9\" class=\"row_heading level0 row9\" >9</th>\n",
       "      <td id=\"T_cce27_row9_col0\" class=\"data row9 col0\" >0.6304</td>\n",
       "      <td id=\"T_cce27_row9_col1\" class=\"data row9 col1\" >0.6668</td>\n",
       "      <td id=\"T_cce27_row9_col2\" class=\"data row9 col2\" >0.7067</td>\n",
       "      <td id=\"T_cce27_row9_col3\" class=\"data row9 col3\" >0.6132</td>\n",
       "      <td id=\"T_cce27_row9_col4\" class=\"data row9 col4\" >0.6567</td>\n",
       "      <td id=\"T_cce27_row9_col5\" class=\"data row9 col5\" >0.2608</td>\n",
       "      <td id=\"T_cce27_row9_col6\" class=\"data row9 col6\" >0.2639</td>\n",
       "    </tr>\n",
       "    <tr>\n",
       "      <th id=\"T_cce27_level0_row10\" class=\"row_heading level0 row10\" >Mean</th>\n",
       "      <td id=\"T_cce27_row10_col0\" class=\"data row10 col0\" >0.6288</td>\n",
       "      <td id=\"T_cce27_row10_col1\" class=\"data row10 col1\" >0.6646</td>\n",
       "      <td id=\"T_cce27_row10_col2\" class=\"data row10 col2\" >0.7059</td>\n",
       "      <td id=\"T_cce27_row10_col3\" class=\"data row10 col3\" >0.6117</td>\n",
       "      <td id=\"T_cce27_row10_col4\" class=\"data row10 col4\" >0.6554</td>\n",
       "      <td id=\"T_cce27_row10_col5\" class=\"data row10 col5\" >0.2576</td>\n",
       "      <td id=\"T_cce27_row10_col6\" class=\"data row10 col6\" >0.2607</td>\n",
       "    </tr>\n",
       "    <tr>\n",
       "      <th id=\"T_cce27_level0_row11\" class=\"row_heading level0 row11\" >Std</th>\n",
       "      <td id=\"T_cce27_row11_col0\" class=\"data row11 col0\" >0.0009</td>\n",
       "      <td id=\"T_cce27_row11_col1\" class=\"data row11 col1\" >0.0012</td>\n",
       "      <td id=\"T_cce27_row11_col2\" class=\"data row11 col2\" >0.0011</td>\n",
       "      <td id=\"T_cce27_row11_col3\" class=\"data row11 col3\" >0.0008</td>\n",
       "      <td id=\"T_cce27_row11_col4\" class=\"data row11 col4\" >0.0008</td>\n",
       "      <td id=\"T_cce27_row11_col5\" class=\"data row11 col5\" >0.0018</td>\n",
       "      <td id=\"T_cce27_row11_col6\" class=\"data row11 col6\" >0.0018</td>\n",
       "    </tr>\n",
       "  </tbody>\n",
       "</table>\n"
      ],
      "text/plain": [
       "<pandas.io.formats.style.Styler at 0x7f13a8fe8670>"
      ]
     },
     "metadata": {},
     "output_type": "display_data"
    },
    {
     "data": {
      "text/html": [],
      "text/plain": [
       "<IPython.core.display.HTML object>"
      ]
     },
     "metadata": {},
     "output_type": "display_data"
    }
   ],
   "source": [
    "lda = create_model('lda')"
   ]
  },
  {
   "cell_type": "code",
   "execution_count": 42,
   "metadata": {},
   "outputs": [
    {
     "data": {
      "text/html": [],
      "text/plain": [
       "<IPython.core.display.HTML object>"
      ]
     },
     "metadata": {},
     "output_type": "display_data"
    },
    {
     "data": {
      "image/png": "[encoded data removed]",
      "text/plain": [
       "<Figure size 800x550 with 1 Axes>"
      ]
     },
     "metadata": {},
     "output_type": "display_data"
    }
   ],
   "source": [
    "plot_model(lda, plot = 'confusion_matrix')"
   ]
  },
  {
   "cell_type": "code",
   "execution_count": 43,
   "metadata": {},
   "outputs": [
    {
     "data": {
      "text/html": [],
      "text/plain": [
       "<IPython.core.display.HTML object>"
      ]
     },
     "metadata": {},
     "output_type": "display_data"
    },
    {
     "data": {
      "image/png": "[encoded data removed]",
      "text/plain": [
       "<Figure size 800x550 with 1 Axes>"
      ]
     },
     "metadata": {},
     "output_type": "display_data"
    }
   ],
   "source": [
    "plot_model(lda, plot = 'error')"
   ]
  },
  {
   "cell_type": "code",
   "execution_count": 44,
   "metadata": {},
   "outputs": [
    {
     "data": {
      "text/html": [],
      "text/plain": [
       "<IPython.core.display.HTML object>"
      ]
     },
     "metadata": {},
     "output_type": "display_data"
    },
    {
     "data": {
      "text/html": [
       "<div>\n",
       "<style scoped>\n",
       "    .dataframe tbody tr th:only-of-type {\n",
       "        vertical-align: middle;\n",
       "    }\n",
       "\n",
       "    .dataframe tbody tr th {\n",
       "        vertical-align: top;\n",
       "    }\n",
       "\n",
       "    .dataframe thead th {\n",
       "        text-align: right;\n",
       "    }\n",
       "</style>\n",
       "<table border=\"1\" class=\"dataframe\">\n",
       "  <thead>\n",
       "    <tr style=\"text-align: right;\">\n",
       "      <th></th>\n",
       "      <th>Parameters</th>\n",
       "    </tr>\n",
       "  </thead>\n",
       "  <tbody>\n",
       "    <tr>\n",
       "      <th>covariance_estimator</th>\n",
       "      <td>None</td>\n",
       "    </tr>\n",
       "    <tr>\n",
       "      <th>n_components</th>\n",
       "      <td>None</td>\n",
       "    </tr>\n",
       "    <tr>\n",
       "      <th>priors</th>\n",
       "      <td>None</td>\n",
       "    </tr>\n",
       "    <tr>\n",
       "      <th>shrinkage</th>\n",
       "      <td>None</td>\n",
       "    </tr>\n",
       "    <tr>\n",
       "      <th>solver</th>\n",
       "      <td>svd</td>\n",
       "    </tr>\n",
       "    <tr>\n",
       "      <th>store_covariance</th>\n",
       "      <td>False</td>\n",
       "    </tr>\n",
       "    <tr>\n",
       "      <th>tol</th>\n",
       "      <td>0.0001</td>\n",
       "    </tr>\n",
       "  </tbody>\n",
       "</table>\n",
       "</div>"
      ],
      "text/plain": [
       "                     Parameters\n",
       "covariance_estimator       None\n",
       "n_components               None\n",
       "priors                     None\n",
       "shrinkage                  None\n",
       "solver                      svd\n",
       "store_covariance          False\n",
       "tol                      0.0001"
      ]
     },
     "metadata": {},
     "output_type": "display_data"
    }
   ],
   "source": [
    "plot_model(lda, plot = 'parameter')"
   ]
  },
  {
   "cell_type": "code",
   "execution_count": 45,
   "metadata": {},
   "outputs": [
    {
     "name": "stdout",
     "output_type": "stream",
     "text": [
      "Transformation Pipeline and Model Successfully Saved\n"
     ]
    },
    {
     "data": {
      "text/plain": [
       "(Pipeline(memory=FastMemory(location=/tmp/joblib),\n",
       "          steps=[('numerical_imputer',\n",
       "                  TransformerWrapper(exclude=None,\n",
       "                                     include=['0', '1', '2', '3', '4', '5', '6',\n",
       "                                              '7', '8', '9', '10', '11', '12',\n",
       "                                              '13', '14', '15', '16', '17', '18',\n",
       "                                              '19', '20', '21', '22', '23', '24',\n",
       "                                              '25', '26', '27', '28', '29', ...],\n",
       "                                     transformer=SimpleImputer(add_indicator=False,\n",
       "                                                               copy=True,\n",
       "                                                               fill_value=None,\n",
       "                                                               keep_empty_feat...\n",
       "                  TransformerWrapper(exclude=None, include=[],\n",
       "                                     transformer=SimpleImputer(add_indicator=False,\n",
       "                                                               copy=True,\n",
       "                                                               fill_value=None,\n",
       "                                                               keep_empty_features=False,\n",
       "                                                               missing_values=nan,\n",
       "                                                               strategy='most_frequent',\n",
       "                                                               verbose='deprecated'))),\n",
       "                 ('trained_model',\n",
       "                  LinearDiscriminantAnalysis(covariance_estimator=None,\n",
       "                                             n_components=None, priors=None,\n",
       "                                             shrinkage=None, solver='svd',\n",
       "                                             store_covariance=False,\n",
       "                                             tol=0.0001))],\n",
       "          verbose=False),\n",
       " 'models_classif/convkb/binary_emb_val/lda.pkl')"
      ]
     },
     "execution_count": 45,
     "metadata": {},
     "output_type": "execute_result"
    }
   ],
   "source": [
    "save_model(lda, 'models_classif/convkb/binary_emb_val/lda')"
   ]
  },
  {
   "cell_type": "markdown",
   "metadata": {},
   "source": [
    "# Extra Trees"
   ]
  },
  {
   "cell_type": "code",
   "execution_count": 46,
   "metadata": {},
   "outputs": [
    {
     "data": {
      "text/html": [],
      "text/plain": [
       "<IPython.core.display.HTML object>"
      ]
     },
     "metadata": {},
     "output_type": "display_data"
    },
    {
     "data": {
      "text/html": [
       "<style type=\"text/css\">\n",
       "#T_79835_row10_col0, #T_79835_row10_col1, #T_79835_row10_col2, #T_79835_row10_col3, #T_79835_row10_col4, #T_79835_row10_col5, #T_79835_row10_col6 {\n",
       "  background: yellow;\n",
       "}\n",
       "</style>\n",
       "<table id=\"T_79835\">\n",
       "  <thead>\n",
       "    <tr>\n",
       "      <th class=\"blank level0\" >&nbsp;</th>\n",
       "      <th id=\"T_79835_level0_col0\" class=\"col_heading level0 col0\" >Accuracy</th>\n",
       "      <th id=\"T_79835_level0_col1\" class=\"col_heading level0 col1\" >AUC</th>\n",
       "      <th id=\"T_79835_level0_col2\" class=\"col_heading level0 col2\" >Recall</th>\n",
       "      <th id=\"T_79835_level0_col3\" class=\"col_heading level0 col3\" >Prec.</th>\n",
       "      <th id=\"T_79835_level0_col4\" class=\"col_heading level0 col4\" >F1</th>\n",
       "      <th id=\"T_79835_level0_col5\" class=\"col_heading level0 col5\" >Kappa</th>\n",
       "      <th id=\"T_79835_level0_col6\" class=\"col_heading level0 col6\" >MCC</th>\n",
       "    </tr>\n",
       "    <tr>\n",
       "      <th class=\"index_name level0\" >Fold</th>\n",
       "      <th class=\"blank col0\" >&nbsp;</th>\n",
       "      <th class=\"blank col1\" >&nbsp;</th>\n",
       "      <th class=\"blank col2\" >&nbsp;</th>\n",
       "      <th class=\"blank col3\" >&nbsp;</th>\n",
       "      <th class=\"blank col4\" >&nbsp;</th>\n",
       "      <th class=\"blank col5\" >&nbsp;</th>\n",
       "      <th class=\"blank col6\" >&nbsp;</th>\n",
       "    </tr>\n",
       "  </thead>\n",
       "  <tbody>\n",
       "    <tr>\n",
       "      <th id=\"T_79835_level0_row0\" class=\"row_heading level0 row0\" >0</th>\n",
       "      <td id=\"T_79835_row0_col0\" class=\"data row0 col0\" >0.7465</td>\n",
       "      <td id=\"T_79835_row0_col1\" class=\"data row0 col1\" >0.8713</td>\n",
       "      <td id=\"T_79835_row0_col2\" class=\"data row0 col2\" >0.5049</td>\n",
       "      <td id=\"T_79835_row0_col3\" class=\"data row0 col3\" >0.9773</td>\n",
       "      <td id=\"T_79835_row0_col4\" class=\"data row0 col4\" >0.6658</td>\n",
       "      <td id=\"T_79835_row0_col5\" class=\"data row0 col5\" >0.4931</td>\n",
       "      <td id=\"T_79835_row0_col6\" class=\"data row0 col6\" >0.5633</td>\n",
       "    </tr>\n",
       "    <tr>\n",
       "      <th id=\"T_79835_level0_row1\" class=\"row_heading level0 row1\" >1</th>\n",
       "      <td id=\"T_79835_row1_col0\" class=\"data row1 col0\" >0.7475</td>\n",
       "      <td id=\"T_79835_row1_col1\" class=\"data row1 col1\" >0.8724</td>\n",
       "      <td id=\"T_79835_row1_col2\" class=\"data row1 col2\" >0.5093</td>\n",
       "      <td id=\"T_79835_row1_col3\" class=\"data row1 col3\" >0.9729</td>\n",
       "      <td id=\"T_79835_row1_col4\" class=\"data row1 col4\" >0.6686</td>\n",
       "      <td id=\"T_79835_row1_col5\" class=\"data row1 col5\" >0.4950</td>\n",
       "      <td id=\"T_79835_row1_col6\" class=\"data row1 col6\" >0.5631</td>\n",
       "    </tr>\n",
       "    <tr>\n",
       "      <th id=\"T_79835_level0_row2\" class=\"row_heading level0 row2\" >2</th>\n",
       "      <td id=\"T_79835_row2_col0\" class=\"data row2 col0\" >0.7463</td>\n",
       "      <td id=\"T_79835_row2_col1\" class=\"data row2 col1\" >0.8712</td>\n",
       "      <td id=\"T_79835_row2_col2\" class=\"data row2 col2\" >0.5124</td>\n",
       "      <td id=\"T_79835_row2_col3\" class=\"data row2 col3\" >0.9628</td>\n",
       "      <td id=\"T_79835_row2_col4\" class=\"data row2 col4\" >0.6688</td>\n",
       "      <td id=\"T_79835_row2_col5\" class=\"data row2 col5\" >0.4926</td>\n",
       "      <td id=\"T_79835_row2_col6\" class=\"data row2 col6\" >0.5573</td>\n",
       "    </tr>\n",
       "    <tr>\n",
       "      <th id=\"T_79835_level0_row3\" class=\"row_heading level0 row3\" >3</th>\n",
       "      <td id=\"T_79835_row3_col0\" class=\"data row3 col0\" >0.7473</td>\n",
       "      <td id=\"T_79835_row3_col1\" class=\"data row3 col1\" >0.8723</td>\n",
       "      <td id=\"T_79835_row3_col2\" class=\"data row3 col2\" >0.5105</td>\n",
       "      <td id=\"T_79835_row3_col3\" class=\"data row3 col3\" >0.9702</td>\n",
       "      <td id=\"T_79835_row3_col4\" class=\"data row3 col4\" >0.6690</td>\n",
       "      <td id=\"T_79835_row3_col5\" class=\"data row3 col5\" >0.4947</td>\n",
       "      <td id=\"T_79835_row3_col6\" class=\"data row3 col6\" >0.5619</td>\n",
       "    </tr>\n",
       "    <tr>\n",
       "      <th id=\"T_79835_level0_row4\" class=\"row_heading level0 row4\" >4</th>\n",
       "      <td id=\"T_79835_row4_col0\" class=\"data row4 col0\" >0.7494</td>\n",
       "      <td id=\"T_79835_row4_col1\" class=\"data row4 col1\" >0.8744</td>\n",
       "      <td id=\"T_79835_row4_col2\" class=\"data row4 col2\" >0.5138</td>\n",
       "      <td id=\"T_79835_row4_col3\" class=\"data row4 col3\" >0.9719</td>\n",
       "      <td id=\"T_79835_row4_col4\" class=\"data row4 col4\" >0.6723</td>\n",
       "      <td id=\"T_79835_row4_col5\" class=\"data row4 col5\" >0.4989</td>\n",
       "      <td id=\"T_79835_row4_col6\" class=\"data row4 col6\" >0.5657</td>\n",
       "    </tr>\n",
       "    <tr>\n",
       "      <th id=\"T_79835_level0_row5\" class=\"row_heading level0 row5\" >5</th>\n",
       "      <td id=\"T_79835_row5_col0\" class=\"data row5 col0\" >0.7467</td>\n",
       "      <td id=\"T_79835_row5_col1\" class=\"data row5 col1\" >0.8716</td>\n",
       "      <td id=\"T_79835_row5_col2\" class=\"data row5 col2\" >0.5102</td>\n",
       "      <td id=\"T_79835_row5_col3\" class=\"data row5 col3\" >0.9683</td>\n",
       "      <td id=\"T_79835_row5_col4\" class=\"data row5 col4\" >0.6683</td>\n",
       "      <td id=\"T_79835_row5_col5\" class=\"data row5 col5\" >0.4935</td>\n",
       "      <td id=\"T_79835_row5_col6\" class=\"data row5 col6\" >0.5601</td>\n",
       "    </tr>\n",
       "    <tr>\n",
       "      <th id=\"T_79835_level0_row6\" class=\"row_heading level0 row6\" >6</th>\n",
       "      <td id=\"T_79835_row6_col0\" class=\"data row6 col0\" >0.7475</td>\n",
       "      <td id=\"T_79835_row6_col1\" class=\"data row6 col1\" >0.8724</td>\n",
       "      <td id=\"T_79835_row6_col2\" class=\"data row6 col2\" >0.5106</td>\n",
       "      <td id=\"T_79835_row6_col3\" class=\"data row6 col3\" >0.9705</td>\n",
       "      <td id=\"T_79835_row6_col4\" class=\"data row6 col4\" >0.6691</td>\n",
       "      <td id=\"T_79835_row6_col5\" class=\"data row6 col5\" >0.4950</td>\n",
       "      <td id=\"T_79835_row6_col6\" class=\"data row6 col6\" >0.5622</td>\n",
       "    </tr>\n",
       "    <tr>\n",
       "      <th id=\"T_79835_level0_row7\" class=\"row_heading level0 row7\" >7</th>\n",
       "      <td id=\"T_79835_row7_col0\" class=\"data row7 col0\" >0.7500</td>\n",
       "      <td id=\"T_79835_row7_col1\" class=\"data row7 col1\" >0.8749</td>\n",
       "      <td id=\"T_79835_row7_col2\" class=\"data row7 col2\" >0.5139</td>\n",
       "      <td id=\"T_79835_row7_col3\" class=\"data row7 col3\" >0.9738</td>\n",
       "      <td id=\"T_79835_row7_col4\" class=\"data row7 col4\" >0.6727</td>\n",
       "      <td id=\"T_79835_row7_col5\" class=\"data row7 col5\" >0.5000</td>\n",
       "      <td id=\"T_79835_row7_col6\" class=\"data row7 col6\" >0.5672</td>\n",
       "    </tr>\n",
       "    <tr>\n",
       "      <th id=\"T_79835_level0_row8\" class=\"row_heading level0 row8\" >8</th>\n",
       "      <td id=\"T_79835_row8_col0\" class=\"data row8 col0\" >0.7483</td>\n",
       "      <td id=\"T_79835_row8_col1\" class=\"data row8 col1\" >0.8732</td>\n",
       "      <td id=\"T_79835_row8_col2\" class=\"data row8 col2\" >0.5091</td>\n",
       "      <td id=\"T_79835_row8_col3\" class=\"data row8 col3\" >0.9762</td>\n",
       "      <td id=\"T_79835_row8_col4\" class=\"data row8 col4\" >0.6692</td>\n",
       "      <td id=\"T_79835_row8_col5\" class=\"data row8 col5\" >0.4966</td>\n",
       "      <td id=\"T_79835_row8_col6\" class=\"data row8 col6\" >0.5656</td>\n",
       "    </tr>\n",
       "    <tr>\n",
       "      <th id=\"T_79835_level0_row9\" class=\"row_heading level0 row9\" >9</th>\n",
       "      <td id=\"T_79835_row9_col0\" class=\"data row9 col0\" >0.7497</td>\n",
       "      <td id=\"T_79835_row9_col1\" class=\"data row9 col1\" >0.8746</td>\n",
       "      <td id=\"T_79835_row9_col2\" class=\"data row9 col2\" >0.5110</td>\n",
       "      <td id=\"T_79835_row9_col3\" class=\"data row9 col3\" >0.9780</td>\n",
       "      <td id=\"T_79835_row9_col4\" class=\"data row9 col4\" >0.6713</td>\n",
       "      <td id=\"T_79835_row9_col5\" class=\"data row9 col5\" >0.4994</td>\n",
       "      <td id=\"T_79835_row9_col6\" class=\"data row9 col6\" >0.5684</td>\n",
       "    </tr>\n",
       "    <tr>\n",
       "      <th id=\"T_79835_level0_row10\" class=\"row_heading level0 row10\" >Mean</th>\n",
       "      <td id=\"T_79835_row10_col0\" class=\"data row10 col0\" >0.7479</td>\n",
       "      <td id=\"T_79835_row10_col1\" class=\"data row10 col1\" >0.8728</td>\n",
       "      <td id=\"T_79835_row10_col2\" class=\"data row10 col2\" >0.5106</td>\n",
       "      <td id=\"T_79835_row10_col3\" class=\"data row10 col3\" >0.9722</td>\n",
       "      <td id=\"T_79835_row10_col4\" class=\"data row10 col4\" >0.6695</td>\n",
       "      <td id=\"T_79835_row10_col5\" class=\"data row10 col5\" >0.4959</td>\n",
       "      <td id=\"T_79835_row10_col6\" class=\"data row10 col6\" >0.5635</td>\n",
       "    </tr>\n",
       "    <tr>\n",
       "      <th id=\"T_79835_level0_row11\" class=\"row_heading level0 row11\" >Std</th>\n",
       "      <td id=\"T_79835_row11_col0\" class=\"data row11 col0\" >0.0013</td>\n",
       "      <td id=\"T_79835_row11_col1\" class=\"data row11 col1\" >0.0013</td>\n",
       "      <td id=\"T_79835_row11_col2\" class=\"data row11 col2\" >0.0025</td>\n",
       "      <td id=\"T_79835_row11_col3\" class=\"data row11 col3\" >0.0043</td>\n",
       "      <td id=\"T_79835_row11_col4\" class=\"data row11 col4\" >0.0020</td>\n",
       "      <td id=\"T_79835_row11_col5\" class=\"data row11 col5\" >0.0026</td>\n",
       "      <td id=\"T_79835_row11_col6\" class=\"data row11 col6\" >0.0032</td>\n",
       "    </tr>\n",
       "  </tbody>\n",
       "</table>\n"
      ],
      "text/plain": [
       "<pandas.io.formats.style.Styler at 0x7f13a8fe9150>"
      ]
     },
     "metadata": {},
     "output_type": "display_data"
    },
    {
     "data": {
      "text/html": [],
      "text/plain": [
       "<IPython.core.display.HTML object>"
      ]
     },
     "metadata": {},
     "output_type": "display_data"
    }
   ],
   "source": [
    "et = create_model('et')"
   ]
  },
  {
   "cell_type": "code",
   "execution_count": 47,
   "metadata": {},
   "outputs": [
    {
     "data": {
      "text/html": [],
      "text/plain": [
       "<IPython.core.display.HTML object>"
      ]
     },
     "metadata": {},
     "output_type": "display_data"
    },
    {
     "data": {
      "image/png": "[encoded data removed]",
      "text/plain": [
       "<Figure size 800x550 with 1 Axes>"
      ]
     },
     "metadata": {},
     "output_type": "display_data"
    }
   ],
   "source": [
    "plot_model(et, plot = 'confusion_matrix')"
   ]
  },
  {
   "cell_type": "code",
   "execution_count": 48,
   "metadata": {},
   "outputs": [
    {
     "data": {
      "text/html": [],
      "text/plain": [
       "<IPython.core.display.HTML object>"
      ]
     },
     "metadata": {},
     "output_type": "display_data"
    },
    {
     "data": {
      "image/png": "[encoded data removed]",
      "text/plain": [
       "<Figure size 800x550 with 1 Axes>"
      ]
     },
     "metadata": {},
     "output_type": "display_data"
    }
   ],
   "source": [
    "plot_model(et, plot = 'error')"
   ]
  },
  {
   "cell_type": "code",
   "execution_count": 49,
   "metadata": {},
   "outputs": [
    {
     "data": {
      "text/html": [],
      "text/plain": [
       "<IPython.core.display.HTML object>"
      ]
     },
     "metadata": {},
     "output_type": "display_data"
    },
    {
     "data": {
      "text/html": [
       "<div>\n",
       "<style scoped>\n",
       "    .dataframe tbody tr th:only-of-type {\n",
       "        vertical-align: middle;\n",
       "    }\n",
       "\n",
       "    .dataframe tbody tr th {\n",
       "        vertical-align: top;\n",
       "    }\n",
       "\n",
       "    .dataframe thead th {\n",
       "        text-align: right;\n",
       "    }\n",
       "</style>\n",
       "<table border=\"1\" class=\"dataframe\">\n",
       "  <thead>\n",
       "    <tr style=\"text-align: right;\">\n",
       "      <th></th>\n",
       "      <th>Parameters</th>\n",
       "    </tr>\n",
       "  </thead>\n",
       "  <tbody>\n",
       "    <tr>\n",
       "      <th>bootstrap</th>\n",
       "      <td>False</td>\n",
       "    </tr>\n",
       "    <tr>\n",
       "      <th>ccp_alpha</th>\n",
       "      <td>0.0</td>\n",
       "    </tr>\n",
       "    <tr>\n",
       "      <th>class_weight</th>\n",
       "      <td>None</td>\n",
       "    </tr>\n",
       "    <tr>\n",
       "      <th>criterion</th>\n",
       "      <td>gini</td>\n",
       "    </tr>\n",
       "    <tr>\n",
       "      <th>max_depth</th>\n",
       "      <td>None</td>\n",
       "    </tr>\n",
       "    <tr>\n",
       "      <th>max_features</th>\n",
       "      <td>sqrt</td>\n",
       "    </tr>\n",
       "    <tr>\n",
       "      <th>max_leaf_nodes</th>\n",
       "      <td>None</td>\n",
       "    </tr>\n",
       "    <tr>\n",
       "      <th>max_samples</th>\n",
       "      <td>None</td>\n",
       "    </tr>\n",
       "    <tr>\n",
       "      <th>min_impurity_decrease</th>\n",
       "      <td>0.0</td>\n",
       "    </tr>\n",
       "    <tr>\n",
       "      <th>min_samples_leaf</th>\n",
       "      <td>1</td>\n",
       "    </tr>\n",
       "    <tr>\n",
       "      <th>min_samples_split</th>\n",
       "      <td>2</td>\n",
       "    </tr>\n",
       "    <tr>\n",
       "      <th>min_weight_fraction_leaf</th>\n",
       "      <td>0.0</td>\n",
       "    </tr>\n",
       "    <tr>\n",
       "      <th>n_estimators</th>\n",
       "      <td>100</td>\n",
       "    </tr>\n",
       "    <tr>\n",
       "      <th>n_jobs</th>\n",
       "      <td>-1</td>\n",
       "    </tr>\n",
       "    <tr>\n",
       "      <th>oob_score</th>\n",
       "      <td>False</td>\n",
       "    </tr>\n",
       "    <tr>\n",
       "      <th>random_state</th>\n",
       "      <td>6107</td>\n",
       "    </tr>\n",
       "    <tr>\n",
       "      <th>verbose</th>\n",
       "      <td>0</td>\n",
       "    </tr>\n",
       "    <tr>\n",
       "      <th>warm_start</th>\n",
       "      <td>False</td>\n",
       "    </tr>\n",
       "  </tbody>\n",
       "</table>\n",
       "</div>"
      ],
      "text/plain": [
       "                         Parameters\n",
       "bootstrap                     False\n",
       "ccp_alpha                       0.0\n",
       "class_weight                   None\n",
       "criterion                      gini\n",
       "max_depth                      None\n",
       "max_features                   sqrt\n",
       "max_leaf_nodes                 None\n",
       "max_samples                    None\n",
       "min_impurity_decrease           0.0\n",
       "min_samples_leaf                  1\n",
       "min_samples_split                 2\n",
       "min_weight_fraction_leaf        0.0\n",
       "n_estimators                    100\n",
       "n_jobs                           -1\n",
       "oob_score                     False\n",
       "random_state                   6107\n",
       "verbose                           0\n",
       "warm_start                    False"
      ]
     },
     "metadata": {},
     "output_type": "display_data"
    }
   ],
   "source": [
    "plot_model(et, plot = 'parameter')"
   ]
  },
  {
   "cell_type": "code",
   "execution_count": 50,
   "metadata": {},
   "outputs": [
    {
     "name": "stdout",
     "output_type": "stream",
     "text": [
      "Transformation Pipeline and Model Successfully Saved\n"
     ]
    },
    {
     "data": {
      "text/plain": [
       "(Pipeline(memory=FastMemory(location=/tmp/joblib),\n",
       "          steps=[('numerical_imputer',\n",
       "                  TransformerWrapper(exclude=None,\n",
       "                                     include=['0', '1', '2', '3', '4', '5', '6',\n",
       "                                              '7', '8', '9', '10', '11', '12',\n",
       "                                              '13', '14', '15', '16', '17', '18',\n",
       "                                              '19', '20', '21', '22', '23', '24',\n",
       "                                              '25', '26', '27', '28', '29', ...],\n",
       "                                     transformer=SimpleImputer(add_indicator=False,\n",
       "                                                               copy=True,\n",
       "                                                               fill_value=None,\n",
       "                                                               keep_empty_feat...\n",
       "                  ExtraTreesClassifier(bootstrap=False, ccp_alpha=0.0,\n",
       "                                       class_weight=None, criterion='gini',\n",
       "                                       max_depth=None, max_features='sqrt',\n",
       "                                       max_leaf_nodes=None, max_samples=None,\n",
       "                                       min_impurity_decrease=0.0,\n",
       "                                       min_samples_leaf=1, min_samples_split=2,\n",
       "                                       min_weight_fraction_leaf=0.0,\n",
       "                                       n_estimators=100, n_jobs=-1,\n",
       "                                       oob_score=False, random_state=6107,\n",
       "                                       verbose=0, warm_start=False))],\n",
       "          verbose=False),\n",
       " 'models_classif/convkb/binary_emb_val/et.pkl')"
      ]
     },
     "execution_count": 50,
     "metadata": {},
     "output_type": "execute_result"
    }
   ],
   "source": [
    "save_model(et, 'models_classif/convkb/binary_emb_val/et')"
   ]
  },
  {
   "cell_type": "markdown",
   "metadata": {},
   "source": [
    "# Light Gradient Boosting Machine"
   ]
  },
  {
   "cell_type": "code",
   "execution_count": 51,
   "metadata": {},
   "outputs": [
    {
     "data": {
      "text/html": [],
      "text/plain": [
       "<IPython.core.display.HTML object>"
      ]
     },
     "metadata": {},
     "output_type": "display_data"
    },
    {
     "data": {
      "text/html": [
       "<style type=\"text/css\">\n",
       "#T_afe40_row10_col0, #T_afe40_row10_col1, #T_afe40_row10_col2, #T_afe40_row10_col3, #T_afe40_row10_col4, #T_afe40_row10_col5, #T_afe40_row10_col6 {\n",
       "  background: yellow;\n",
       "}\n",
       "</style>\n",
       "<table id=\"T_afe40\">\n",
       "  <thead>\n",
       "    <tr>\n",
       "      <th class=\"blank level0\" >&nbsp;</th>\n",
       "      <th id=\"T_afe40_level0_col0\" class=\"col_heading level0 col0\" >Accuracy</th>\n",
       "      <th id=\"T_afe40_level0_col1\" class=\"col_heading level0 col1\" >AUC</th>\n",
       "      <th id=\"T_afe40_level0_col2\" class=\"col_heading level0 col2\" >Recall</th>\n",
       "      <th id=\"T_afe40_level0_col3\" class=\"col_heading level0 col3\" >Prec.</th>\n",
       "      <th id=\"T_afe40_level0_col4\" class=\"col_heading level0 col4\" >F1</th>\n",
       "      <th id=\"T_afe40_level0_col5\" class=\"col_heading level0 col5\" >Kappa</th>\n",
       "      <th id=\"T_afe40_level0_col6\" class=\"col_heading level0 col6\" >MCC</th>\n",
       "    </tr>\n",
       "    <tr>\n",
       "      <th class=\"index_name level0\" >Fold</th>\n",
       "      <th class=\"blank col0\" >&nbsp;</th>\n",
       "      <th class=\"blank col1\" >&nbsp;</th>\n",
       "      <th class=\"blank col2\" >&nbsp;</th>\n",
       "      <th class=\"blank col3\" >&nbsp;</th>\n",
       "      <th class=\"blank col4\" >&nbsp;</th>\n",
       "      <th class=\"blank col5\" >&nbsp;</th>\n",
       "      <th class=\"blank col6\" >&nbsp;</th>\n",
       "    </tr>\n",
       "  </thead>\n",
       "  <tbody>\n",
       "    <tr>\n",
       "      <th id=\"T_afe40_level0_row0\" class=\"row_heading level0 row0\" >0</th>\n",
       "      <td id=\"T_afe40_row0_col0\" class=\"data row0 col0\" >0.6690</td>\n",
       "      <td id=\"T_afe40_row0_col1\" class=\"data row0 col1\" >0.7064</td>\n",
       "      <td id=\"T_afe40_row0_col2\" class=\"data row0 col2\" >0.7818</td>\n",
       "      <td id=\"T_afe40_row0_col3\" class=\"data row0 col3\" >0.6380</td>\n",
       "      <td id=\"T_afe40_row0_col4\" class=\"data row0 col4\" >0.7026</td>\n",
       "      <td id=\"T_afe40_row0_col5\" class=\"data row0 col5\" >0.3380</td>\n",
       "      <td id=\"T_afe40_row0_col6\" class=\"data row0 col6\" >0.3469</td>\n",
       "    </tr>\n",
       "    <tr>\n",
       "      <th id=\"T_afe40_level0_row1\" class=\"row_heading level0 row1\" >1</th>\n",
       "      <td id=\"T_afe40_row1_col0\" class=\"data row1 col0\" >0.6696</td>\n",
       "      <td id=\"T_afe40_row1_col1\" class=\"data row1 col1\" >0.7081</td>\n",
       "      <td id=\"T_afe40_row1_col2\" class=\"data row1 col2\" >0.7831</td>\n",
       "      <td id=\"T_afe40_row1_col3\" class=\"data row1 col3\" >0.6383</td>\n",
       "      <td id=\"T_afe40_row1_col4\" class=\"data row1 col4\" >0.7033</td>\n",
       "      <td id=\"T_afe40_row1_col5\" class=\"data row1 col5\" >0.3392</td>\n",
       "      <td id=\"T_afe40_row1_col6\" class=\"data row1 col6\" >0.3483</td>\n",
       "    </tr>\n",
       "    <tr>\n",
       "      <th id=\"T_afe40_level0_row2\" class=\"row_heading level0 row2\" >2</th>\n",
       "      <td id=\"T_afe40_row2_col0\" class=\"data row2 col0\" >0.6693</td>\n",
       "      <td id=\"T_afe40_row2_col1\" class=\"data row2 col1\" >0.7070</td>\n",
       "      <td id=\"T_afe40_row2_col2\" class=\"data row2 col2\" >0.7848</td>\n",
       "      <td id=\"T_afe40_row2_col3\" class=\"data row2 col3\" >0.6376</td>\n",
       "      <td id=\"T_afe40_row2_col4\" class=\"data row2 col4\" >0.7036</td>\n",
       "      <td id=\"T_afe40_row2_col5\" class=\"data row2 col5\" >0.3385</td>\n",
       "      <td id=\"T_afe40_row2_col6\" class=\"data row2 col6\" >0.3480</td>\n",
       "    </tr>\n",
       "    <tr>\n",
       "      <th id=\"T_afe40_level0_row3\" class=\"row_heading level0 row3\" >3</th>\n",
       "      <td id=\"T_afe40_row3_col0\" class=\"data row3 col0\" >0.6682</td>\n",
       "      <td id=\"T_afe40_row3_col1\" class=\"data row3 col1\" >0.7068</td>\n",
       "      <td id=\"T_afe40_row3_col2\" class=\"data row3 col2\" >0.7849</td>\n",
       "      <td id=\"T_afe40_row3_col3\" class=\"data row3 col3\" >0.6364</td>\n",
       "      <td id=\"T_afe40_row3_col4\" class=\"data row3 col4\" >0.7029</td>\n",
       "      <td id=\"T_afe40_row3_col5\" class=\"data row3 col5\" >0.3364</td>\n",
       "      <td id=\"T_afe40_row3_col6\" class=\"data row3 col6\" >0.3459</td>\n",
       "    </tr>\n",
       "    <tr>\n",
       "      <th id=\"T_afe40_level0_row4\" class=\"row_heading level0 row4\" >4</th>\n",
       "      <td id=\"T_afe40_row4_col0\" class=\"data row4 col0\" >0.6696</td>\n",
       "      <td id=\"T_afe40_row4_col1\" class=\"data row4 col1\" >0.7087</td>\n",
       "      <td id=\"T_afe40_row4_col2\" class=\"data row4 col2\" >0.7861</td>\n",
       "      <td id=\"T_afe40_row4_col3\" class=\"data row4 col3\" >0.6376</td>\n",
       "      <td id=\"T_afe40_row4_col4\" class=\"data row4 col4\" >0.7041</td>\n",
       "      <td id=\"T_afe40_row4_col5\" class=\"data row4 col5\" >0.3392</td>\n",
       "      <td id=\"T_afe40_row4_col6\" class=\"data row4 col6\" >0.3488</td>\n",
       "    </tr>\n",
       "    <tr>\n",
       "      <th id=\"T_afe40_level0_row5\" class=\"row_heading level0 row5\" >5</th>\n",
       "      <td id=\"T_afe40_row5_col0\" class=\"data row5 col0\" >0.6691</td>\n",
       "      <td id=\"T_afe40_row5_col1\" class=\"data row5 col1\" >0.7075</td>\n",
       "      <td id=\"T_afe40_row5_col2\" class=\"data row5 col2\" >0.7845</td>\n",
       "      <td id=\"T_afe40_row5_col3\" class=\"data row5 col3\" >0.6375</td>\n",
       "      <td id=\"T_afe40_row5_col4\" class=\"data row5 col4\" >0.7034</td>\n",
       "      <td id=\"T_afe40_row5_col5\" class=\"data row5 col5\" >0.3382</td>\n",
       "      <td id=\"T_afe40_row5_col6\" class=\"data row5 col6\" >0.3476</td>\n",
       "    </tr>\n",
       "    <tr>\n",
       "      <th id=\"T_afe40_level0_row6\" class=\"row_heading level0 row6\" >6</th>\n",
       "      <td id=\"T_afe40_row6_col0\" class=\"data row6 col0\" >0.6692</td>\n",
       "      <td id=\"T_afe40_row6_col1\" class=\"data row6 col1\" >0.7074</td>\n",
       "      <td id=\"T_afe40_row6_col2\" class=\"data row6 col2\" >0.7845</td>\n",
       "      <td id=\"T_afe40_row6_col3\" class=\"data row6 col3\" >0.6376</td>\n",
       "      <td id=\"T_afe40_row6_col4\" class=\"data row6 col4\" >0.7035</td>\n",
       "      <td id=\"T_afe40_row6_col5\" class=\"data row6 col5\" >0.3384</td>\n",
       "      <td id=\"T_afe40_row6_col6\" class=\"data row6 col6\" >0.3478</td>\n",
       "    </tr>\n",
       "    <tr>\n",
       "      <th id=\"T_afe40_level0_row7\" class=\"row_heading level0 row7\" >7</th>\n",
       "      <td id=\"T_afe40_row7_col0\" class=\"data row7 col0\" >0.6708</td>\n",
       "      <td id=\"T_afe40_row7_col1\" class=\"data row7 col1\" >0.7084</td>\n",
       "      <td id=\"T_afe40_row7_col2\" class=\"data row7 col2\" >0.7865</td>\n",
       "      <td id=\"T_afe40_row7_col3\" class=\"data row7 col3\" >0.6388</td>\n",
       "      <td id=\"T_afe40_row7_col4\" class=\"data row7 col4\" >0.7050</td>\n",
       "      <td id=\"T_afe40_row7_col5\" class=\"data row7 col5\" >0.3417</td>\n",
       "      <td id=\"T_afe40_row7_col6\" class=\"data row7 col6\" >0.3512</td>\n",
       "    </tr>\n",
       "    <tr>\n",
       "      <th id=\"T_afe40_level0_row8\" class=\"row_heading level0 row8\" >8</th>\n",
       "      <td id=\"T_afe40_row8_col0\" class=\"data row8 col0\" >0.6696</td>\n",
       "      <td id=\"T_afe40_row8_col1\" class=\"data row8 col1\" >0.7075</td>\n",
       "      <td id=\"T_afe40_row8_col2\" class=\"data row8 col2\" >0.7851</td>\n",
       "      <td id=\"T_afe40_row8_col3\" class=\"data row8 col3\" >0.6378</td>\n",
       "      <td id=\"T_afe40_row8_col4\" class=\"data row8 col4\" >0.7038</td>\n",
       "      <td id=\"T_afe40_row8_col5\" class=\"data row8 col5\" >0.3391</td>\n",
       "      <td id=\"T_afe40_row8_col6\" class=\"data row8 col6\" >0.3485</td>\n",
       "    </tr>\n",
       "    <tr>\n",
       "      <th id=\"T_afe40_level0_row9\" class=\"row_heading level0 row9\" >9</th>\n",
       "      <td id=\"T_afe40_row9_col0\" class=\"data row9 col0\" >0.6714</td>\n",
       "      <td id=\"T_afe40_row9_col1\" class=\"data row9 col1\" >0.7097</td>\n",
       "      <td id=\"T_afe40_row9_col2\" class=\"data row9 col2\" >0.7864</td>\n",
       "      <td id=\"T_afe40_row9_col3\" class=\"data row9 col3\" >0.6394</td>\n",
       "      <td id=\"T_afe40_row9_col4\" class=\"data row9 col4\" >0.7053</td>\n",
       "      <td id=\"T_afe40_row9_col5\" class=\"data row9 col5\" >0.3428</td>\n",
       "      <td id=\"T_afe40_row9_col6\" class=\"data row9 col6\" >0.3522</td>\n",
       "    </tr>\n",
       "    <tr>\n",
       "      <th id=\"T_afe40_level0_row10\" class=\"row_heading level0 row10\" >Mean</th>\n",
       "      <td id=\"T_afe40_row10_col0\" class=\"data row10 col0\" >0.6696</td>\n",
       "      <td id=\"T_afe40_row10_col1\" class=\"data row10 col1\" >0.7077</td>\n",
       "      <td id=\"T_afe40_row10_col2\" class=\"data row10 col2\" >0.7848</td>\n",
       "      <td id=\"T_afe40_row10_col3\" class=\"data row10 col3\" >0.6379</td>\n",
       "      <td id=\"T_afe40_row10_col4\" class=\"data row10 col4\" >0.7038</td>\n",
       "      <td id=\"T_afe40_row10_col5\" class=\"data row10 col5\" >0.3391</td>\n",
       "      <td id=\"T_afe40_row10_col6\" class=\"data row10 col6\" >0.3485</td>\n",
       "    </tr>\n",
       "    <tr>\n",
       "      <th id=\"T_afe40_level0_row11\" class=\"row_heading level0 row11\" >Std</th>\n",
       "      <td id=\"T_afe40_row11_col0\" class=\"data row11 col0\" >0.0009</td>\n",
       "      <td id=\"T_afe40_row11_col1\" class=\"data row11 col1\" >0.0009</td>\n",
       "      <td id=\"T_afe40_row11_col2\" class=\"data row11 col2\" >0.0014</td>\n",
       "      <td id=\"T_afe40_row11_col3\" class=\"data row11 col3\" >0.0008</td>\n",
       "      <td id=\"T_afe40_row11_col4\" class=\"data row11 col4\" >0.0008</td>\n",
       "      <td id=\"T_afe40_row11_col5\" class=\"data row11 col5\" >0.0017</td>\n",
       "      <td id=\"T_afe40_row11_col6\" class=\"data row11 col6\" >0.0018</td>\n",
       "    </tr>\n",
       "  </tbody>\n",
       "</table>\n"
      ],
      "text/plain": [
       "<pandas.io.formats.style.Styler at 0x7f13a8ef3070>"
      ]
     },
     "metadata": {},
     "output_type": "display_data"
    },
    {
     "data": {
      "text/html": [],
      "text/plain": [
       "<IPython.core.display.HTML object>"
      ]
     },
     "metadata": {},
     "output_type": "display_data"
    }
   ],
   "source": [
    "lightgbm = create_model('lightgbm')"
   ]
  },
  {
   "cell_type": "code",
   "execution_count": 52,
   "metadata": {},
   "outputs": [
    {
     "data": {
      "text/html": [],
      "text/plain": [
       "<IPython.core.display.HTML object>"
      ]
     },
     "metadata": {},
     "output_type": "display_data"
    },
    {
     "data": {
      "image/png": "[encoded data removed]",
      "text/plain": [
       "<Figure size 800x550 with 1 Axes>"
      ]
     },
     "metadata": {},
     "output_type": "display_data"
    }
   ],
   "source": [
    "plot_model(lightgbm, plot = 'confusion_matrix')"
   ]
  },
  {
   "cell_type": "code",
   "execution_count": 53,
   "metadata": {},
   "outputs": [
    {
     "data": {
      "text/html": [],
      "text/plain": [
       "<IPython.core.display.HTML object>"
      ]
     },
     "metadata": {},
     "output_type": "display_data"
    },
    {
     "data": {
      "image/png": "[encoded data removed]",
      "text/plain": [
       "<Figure size 800x550 with 1 Axes>"
      ]
     },
     "metadata": {},
     "output_type": "display_data"
    }
   ],
   "source": [
    "plot_model(lightgbm, plot = 'error')"
   ]
  },
  {
   "cell_type": "code",
   "execution_count": 54,
   "metadata": {},
   "outputs": [
    {
     "data": {
      "text/html": [],
      "text/plain": [
       "<IPython.core.display.HTML object>"
      ]
     },
     "metadata": {},
     "output_type": "display_data"
    },
    {
     "data": {
      "text/html": [
       "<div>\n",
       "<style scoped>\n",
       "    .dataframe tbody tr th:only-of-type {\n",
       "        vertical-align: middle;\n",
       "    }\n",
       "\n",
       "    .dataframe tbody tr th {\n",
       "        vertical-align: top;\n",
       "    }\n",
       "\n",
       "    .dataframe thead th {\n",
       "        text-align: right;\n",
       "    }\n",
       "</style>\n",
       "<table border=\"1\" class=\"dataframe\">\n",
       "  <thead>\n",
       "    <tr style=\"text-align: right;\">\n",
       "      <th></th>\n",
       "      <th>Parameters</th>\n",
       "    </tr>\n",
       "  </thead>\n",
       "  <tbody>\n",
       "    <tr>\n",
       "      <th>boosting_type</th>\n",
       "      <td>gbdt</td>\n",
       "    </tr>\n",
       "    <tr>\n",
       "      <th>class_weight</th>\n",
       "      <td>None</td>\n",
       "    </tr>\n",
       "    <tr>\n",
       "      <th>colsample_bytree</th>\n",
       "      <td>1.0</td>\n",
       "    </tr>\n",
       "    <tr>\n",
       "      <th>importance_type</th>\n",
       "      <td>split</td>\n",
       "    </tr>\n",
       "    <tr>\n",
       "      <th>learning_rate</th>\n",
       "      <td>0.1</td>\n",
       "    </tr>\n",
       "    <tr>\n",
       "      <th>max_depth</th>\n",
       "      <td>-1</td>\n",
       "    </tr>\n",
       "    <tr>\n",
       "      <th>min_child_samples</th>\n",
       "      <td>20</td>\n",
       "    </tr>\n",
       "    <tr>\n",
       "      <th>min_child_weight</th>\n",
       "      <td>0.001</td>\n",
       "    </tr>\n",
       "    <tr>\n",
       "      <th>min_split_gain</th>\n",
       "      <td>0.0</td>\n",
       "    </tr>\n",
       "    <tr>\n",
       "      <th>n_estimators</th>\n",
       "      <td>100</td>\n",
       "    </tr>\n",
       "    <tr>\n",
       "      <th>n_jobs</th>\n",
       "      <td>-1</td>\n",
       "    </tr>\n",
       "    <tr>\n",
       "      <th>num_leaves</th>\n",
       "      <td>31</td>\n",
       "    </tr>\n",
       "    <tr>\n",
       "      <th>objective</th>\n",
       "      <td>None</td>\n",
       "    </tr>\n",
       "    <tr>\n",
       "      <th>random_state</th>\n",
       "      <td>6107</td>\n",
       "    </tr>\n",
       "    <tr>\n",
       "      <th>reg_alpha</th>\n",
       "      <td>0.0</td>\n",
       "    </tr>\n",
       "    <tr>\n",
       "      <th>reg_lambda</th>\n",
       "      <td>0.0</td>\n",
       "    </tr>\n",
       "    <tr>\n",
       "      <th>silent</th>\n",
       "      <td>warn</td>\n",
       "    </tr>\n",
       "    <tr>\n",
       "      <th>subsample</th>\n",
       "      <td>1.0</td>\n",
       "    </tr>\n",
       "    <tr>\n",
       "      <th>subsample_for_bin</th>\n",
       "      <td>200000</td>\n",
       "    </tr>\n",
       "    <tr>\n",
       "      <th>subsample_freq</th>\n",
       "      <td>0</td>\n",
       "    </tr>\n",
       "  </tbody>\n",
       "</table>\n",
       "</div>"
      ],
      "text/plain": [
       "                  Parameters\n",
       "boosting_type           gbdt\n",
       "class_weight            None\n",
       "colsample_bytree         1.0\n",
       "importance_type        split\n",
       "learning_rate            0.1\n",
       "max_depth                 -1\n",
       "min_child_samples         20\n",
       "min_child_weight       0.001\n",
       "min_split_gain           0.0\n",
       "n_estimators             100\n",
       "n_jobs                    -1\n",
       "num_leaves                31\n",
       "objective               None\n",
       "random_state            6107\n",
       "reg_alpha                0.0\n",
       "reg_lambda               0.0\n",
       "silent                  warn\n",
       "subsample                1.0\n",
       "subsample_for_bin     200000\n",
       "subsample_freq             0"
      ]
     },
     "metadata": {},
     "output_type": "display_data"
    }
   ],
   "source": [
    "plot_model(lightgbm, plot = 'parameter')"
   ]
  },
  {
   "cell_type": "code",
   "execution_count": 55,
   "metadata": {},
   "outputs": [
    {
     "name": "stdout",
     "output_type": "stream",
     "text": [
      "Transformation Pipeline and Model Successfully Saved\n"
     ]
    },
    {
     "data": {
      "text/plain": [
       "(Pipeline(memory=FastMemory(location=/tmp/joblib),\n",
       "          steps=[('numerical_imputer',\n",
       "                  TransformerWrapper(exclude=None,\n",
       "                                     include=['0', '1', '2', '3', '4', '5', '6',\n",
       "                                              '7', '8', '9', '10', '11', '12',\n",
       "                                              '13', '14', '15', '16', '17', '18',\n",
       "                                              '19', '20', '21', '22', '23', '24',\n",
       "                                              '25', '26', '27', '28', '29', ...],\n",
       "                                     transformer=SimpleImputer(add_indicator=False,\n",
       "                                                               copy=True,\n",
       "                                                               fill_value=None,\n",
       "                                                               keep_empty_feat...\n",
       "                  LGBMClassifier(boosting_type='gbdt', class_weight=None,\n",
       "                                 colsample_bytree=1.0, importance_type='split',\n",
       "                                 learning_rate=0.1, max_depth=-1,\n",
       "                                 min_child_samples=20, min_child_weight=0.001,\n",
       "                                 min_split_gain=0.0, n_estimators=100, n_jobs=-1,\n",
       "                                 num_leaves=31, objective=None,\n",
       "                                 random_state=6107, reg_alpha=0.0,\n",
       "                                 reg_lambda=0.0, silent='warn', subsample=1.0,\n",
       "                                 subsample_for_bin=200000, subsample_freq=0))],\n",
       "          verbose=False),\n",
       " 'models_classif/convkb/binary_emb_val/lightgbm.pkl')"
      ]
     },
     "execution_count": 55,
     "metadata": {},
     "output_type": "execute_result"
    }
   ],
   "source": [
    "save_model(lightgbm, 'models_classif/convkb/binary_emb_val/lightgbm')"
   ]
  },
  {
   "cell_type": "markdown",
   "metadata": {
    "tags": []
   },
   "source": [
    "# MLP Classifier"
   ]
  },
  {
   "cell_type": "code",
   "execution_count": 56,
   "metadata": {},
   "outputs": [
    {
     "data": {
      "text/html": [],
      "text/plain": [
       "<IPython.core.display.HTML object>"
      ]
     },
     "metadata": {},
     "output_type": "display_data"
    },
    {
     "data": {
      "text/html": [
       "<style type=\"text/css\">\n",
       "#T_e4cb7_row10_col0, #T_e4cb7_row10_col1, #T_e4cb7_row10_col2, #T_e4cb7_row10_col3, #T_e4cb7_row10_col4, #T_e4cb7_row10_col5, #T_e4cb7_row10_col6 {\n",
       "  background: yellow;\n",
       "}\n",
       "</style>\n",
       "<table id=\"T_e4cb7\">\n",
       "  <thead>\n",
       "    <tr>\n",
       "      <th class=\"blank level0\" >&nbsp;</th>\n",
       "      <th id=\"T_e4cb7_level0_col0\" class=\"col_heading level0 col0\" >Accuracy</th>\n",
       "      <th id=\"T_e4cb7_level0_col1\" class=\"col_heading level0 col1\" >AUC</th>\n",
       "      <th id=\"T_e4cb7_level0_col2\" class=\"col_heading level0 col2\" >Recall</th>\n",
       "      <th id=\"T_e4cb7_level0_col3\" class=\"col_heading level0 col3\" >Prec.</th>\n",
       "      <th id=\"T_e4cb7_level0_col4\" class=\"col_heading level0 col4\" >F1</th>\n",
       "      <th id=\"T_e4cb7_level0_col5\" class=\"col_heading level0 col5\" >Kappa</th>\n",
       "      <th id=\"T_e4cb7_level0_col6\" class=\"col_heading level0 col6\" >MCC</th>\n",
       "    </tr>\n",
       "    <tr>\n",
       "      <th class=\"index_name level0\" >Fold</th>\n",
       "      <th class=\"blank col0\" >&nbsp;</th>\n",
       "      <th class=\"blank col1\" >&nbsp;</th>\n",
       "      <th class=\"blank col2\" >&nbsp;</th>\n",
       "      <th class=\"blank col3\" >&nbsp;</th>\n",
       "      <th class=\"blank col4\" >&nbsp;</th>\n",
       "      <th class=\"blank col5\" >&nbsp;</th>\n",
       "      <th class=\"blank col6\" >&nbsp;</th>\n",
       "    </tr>\n",
       "  </thead>\n",
       "  <tbody>\n",
       "    <tr>\n",
       "      <th id=\"T_e4cb7_level0_row0\" class=\"row_heading level0 row0\" >0</th>\n",
       "      <td id=\"T_e4cb7_row0_col0\" class=\"data row0 col0\" >0.6679</td>\n",
       "      <td id=\"T_e4cb7_row0_col1\" class=\"data row0 col1\" >0.7087</td>\n",
       "      <td id=\"T_e4cb7_row0_col2\" class=\"data row0 col2\" >0.7653</td>\n",
       "      <td id=\"T_e4cb7_row0_col3\" class=\"data row0 col3\" >0.6406</td>\n",
       "      <td id=\"T_e4cb7_row0_col4\" class=\"data row0 col4\" >0.6974</td>\n",
       "      <td id=\"T_e4cb7_row0_col5\" class=\"data row0 col5\" >0.3358</td>\n",
       "      <td id=\"T_e4cb7_row0_col6\" class=\"data row0 col6\" >0.3423</td>\n",
       "    </tr>\n",
       "    <tr>\n",
       "      <th id=\"T_e4cb7_level0_row1\" class=\"row_heading level0 row1\" >1</th>\n",
       "      <td id=\"T_e4cb7_row1_col0\" class=\"data row1 col0\" >0.6700</td>\n",
       "      <td id=\"T_e4cb7_row1_col1\" class=\"data row1 col1\" >0.7115</td>\n",
       "      <td id=\"T_e4cb7_row1_col2\" class=\"data row1 col2\" >0.7600</td>\n",
       "      <td id=\"T_e4cb7_row1_col3\" class=\"data row1 col3\" >0.6441</td>\n",
       "      <td id=\"T_e4cb7_row1_col4\" class=\"data row1 col4\" >0.6973</td>\n",
       "      <td id=\"T_e4cb7_row1_col5\" class=\"data row1 col5\" >0.3400</td>\n",
       "      <td id=\"T_e4cb7_row1_col6\" class=\"data row1 col6\" >0.3456</td>\n",
       "    </tr>\n",
       "    <tr>\n",
       "      <th id=\"T_e4cb7_level0_row2\" class=\"row_heading level0 row2\" >2</th>\n",
       "      <td id=\"T_e4cb7_row2_col0\" class=\"data row2 col0\" >0.6689</td>\n",
       "      <td id=\"T_e4cb7_row2_col1\" class=\"data row2 col1\" >0.7101</td>\n",
       "      <td id=\"T_e4cb7_row2_col2\" class=\"data row2 col2\" >0.7461</td>\n",
       "      <td id=\"T_e4cb7_row2_col3\" class=\"data row2 col3\" >0.6463</td>\n",
       "      <td id=\"T_e4cb7_row2_col4\" class=\"data row2 col4\" >0.6927</td>\n",
       "      <td id=\"T_e4cb7_row2_col5\" class=\"data row2 col5\" >0.3377</td>\n",
       "      <td id=\"T_e4cb7_row2_col6\" class=\"data row2 col6\" >0.3418</td>\n",
       "    </tr>\n",
       "    <tr>\n",
       "      <th id=\"T_e4cb7_level0_row3\" class=\"row_heading level0 row3\" >3</th>\n",
       "      <td id=\"T_e4cb7_row3_col0\" class=\"data row3 col0\" >0.6673</td>\n",
       "      <td id=\"T_e4cb7_row3_col1\" class=\"data row3 col1\" >0.7097</td>\n",
       "      <td id=\"T_e4cb7_row3_col2\" class=\"data row3 col2\" >0.7490</td>\n",
       "      <td id=\"T_e4cb7_row3_col3\" class=\"data row3 col3\" >0.6439</td>\n",
       "      <td id=\"T_e4cb7_row3_col4\" class=\"data row3 col4\" >0.6925</td>\n",
       "      <td id=\"T_e4cb7_row3_col5\" class=\"data row3 col5\" >0.3346</td>\n",
       "      <td id=\"T_e4cb7_row3_col6\" class=\"data row3 col6\" >0.3392</td>\n",
       "    </tr>\n",
       "    <tr>\n",
       "      <th id=\"T_e4cb7_level0_row4\" class=\"row_heading level0 row4\" >4</th>\n",
       "      <td id=\"T_e4cb7_row4_col0\" class=\"data row4 col0\" >0.6686</td>\n",
       "      <td id=\"T_e4cb7_row4_col1\" class=\"data row4 col1\" >0.7110</td>\n",
       "      <td id=\"T_e4cb7_row4_col2\" class=\"data row4 col2\" >0.7528</td>\n",
       "      <td id=\"T_e4cb7_row4_col3\" class=\"data row4 col3\" >0.6444</td>\n",
       "      <td id=\"T_e4cb7_row4_col4\" class=\"data row4 col4\" >0.6944</td>\n",
       "      <td id=\"T_e4cb7_row4_col5\" class=\"data row4 col5\" >0.3373</td>\n",
       "      <td id=\"T_e4cb7_row4_col6\" class=\"data row4 col6\" >0.3421</td>\n",
       "    </tr>\n",
       "    <tr>\n",
       "      <th id=\"T_e4cb7_level0_row5\" class=\"row_heading level0 row5\" >5</th>\n",
       "      <td id=\"T_e4cb7_row5_col0\" class=\"data row5 col0\" >0.6682</td>\n",
       "      <td id=\"T_e4cb7_row5_col1\" class=\"data row5 col1\" >0.7100</td>\n",
       "      <td id=\"T_e4cb7_row5_col2\" class=\"data row5 col2\" >0.7401</td>\n",
       "      <td id=\"T_e4cb7_row5_col3\" class=\"data row5 col3\" >0.6471</td>\n",
       "      <td id=\"T_e4cb7_row5_col4\" class=\"data row5 col4\" >0.6905</td>\n",
       "      <td id=\"T_e4cb7_row5_col5\" class=\"data row5 col5\" >0.3364</td>\n",
       "      <td id=\"T_e4cb7_row5_col6\" class=\"data row5 col6\" >0.3399</td>\n",
       "    </tr>\n",
       "    <tr>\n",
       "      <th id=\"T_e4cb7_level0_row6\" class=\"row_heading level0 row6\" >6</th>\n",
       "      <td id=\"T_e4cb7_row6_col0\" class=\"data row6 col0\" >0.6686</td>\n",
       "      <td id=\"T_e4cb7_row6_col1\" class=\"data row6 col1\" >0.7097</td>\n",
       "      <td id=\"T_e4cb7_row6_col2\" class=\"data row6 col2\" >0.7382</td>\n",
       "      <td id=\"T_e4cb7_row6_col3\" class=\"data row6 col3\" >0.6480</td>\n",
       "      <td id=\"T_e4cb7_row6_col4\" class=\"data row6 col4\" >0.6902</td>\n",
       "      <td id=\"T_e4cb7_row6_col5\" class=\"data row6 col5\" >0.3371</td>\n",
       "      <td id=\"T_e4cb7_row6_col6\" class=\"data row6 col6\" >0.3404</td>\n",
       "    </tr>\n",
       "    <tr>\n",
       "      <th id=\"T_e4cb7_level0_row7\" class=\"row_heading level0 row7\" >7</th>\n",
       "      <td id=\"T_e4cb7_row7_col0\" class=\"data row7 col0\" >0.6673</td>\n",
       "      <td id=\"T_e4cb7_row7_col1\" class=\"data row7 col1\" >0.7104</td>\n",
       "      <td id=\"T_e4cb7_row7_col2\" class=\"data row7 col2\" >0.7344</td>\n",
       "      <td id=\"T_e4cb7_row7_col3\" class=\"data row7 col3\" >0.6476</td>\n",
       "      <td id=\"T_e4cb7_row7_col4\" class=\"data row7 col4\" >0.6883</td>\n",
       "      <td id=\"T_e4cb7_row7_col5\" class=\"data row7 col5\" >0.3346</td>\n",
       "      <td id=\"T_e4cb7_row7_col6\" class=\"data row7 col6\" >0.3377</td>\n",
       "    </tr>\n",
       "    <tr>\n",
       "      <th id=\"T_e4cb7_level0_row8\" class=\"row_heading level0 row8\" >8</th>\n",
       "      <td id=\"T_e4cb7_row8_col0\" class=\"data row8 col0\" >0.6690</td>\n",
       "      <td id=\"T_e4cb7_row8_col1\" class=\"data row8 col1\" >0.7111</td>\n",
       "      <td id=\"T_e4cb7_row8_col2\" class=\"data row8 col2\" >0.7405</td>\n",
       "      <td id=\"T_e4cb7_row8_col3\" class=\"data row8 col3\" >0.6479</td>\n",
       "      <td id=\"T_e4cb7_row8_col4\" class=\"data row8 col4\" >0.6912</td>\n",
       "      <td id=\"T_e4cb7_row8_col5\" class=\"data row8 col5\" >0.3380</td>\n",
       "      <td id=\"T_e4cb7_row8_col6\" class=\"data row8 col6\" >0.3415</td>\n",
       "    </tr>\n",
       "    <tr>\n",
       "      <th id=\"T_e4cb7_level0_row9\" class=\"row_heading level0 row9\" >9</th>\n",
       "      <td id=\"T_e4cb7_row9_col0\" class=\"data row9 col0\" >0.6683</td>\n",
       "      <td id=\"T_e4cb7_row9_col1\" class=\"data row9 col1\" >0.7110</td>\n",
       "      <td id=\"T_e4cb7_row9_col2\" class=\"data row9 col2\" >0.7302</td>\n",
       "      <td id=\"T_e4cb7_row9_col3\" class=\"data row9 col3\" >0.6498</td>\n",
       "      <td id=\"T_e4cb7_row9_col4\" class=\"data row9 col4\" >0.6877</td>\n",
       "      <td id=\"T_e4cb7_row9_col5\" class=\"data row9 col5\" >0.3366</td>\n",
       "      <td id=\"T_e4cb7_row9_col6\" class=\"data row9 col6\" >0.3392</td>\n",
       "    </tr>\n",
       "    <tr>\n",
       "      <th id=\"T_e4cb7_level0_row10\" class=\"row_heading level0 row10\" >Mean</th>\n",
       "      <td id=\"T_e4cb7_row10_col0\" class=\"data row10 col0\" >0.6684</td>\n",
       "      <td id=\"T_e4cb7_row10_col1\" class=\"data row10 col1\" >0.7103</td>\n",
       "      <td id=\"T_e4cb7_row10_col2\" class=\"data row10 col2\" >0.7457</td>\n",
       "      <td id=\"T_e4cb7_row10_col3\" class=\"data row10 col3\" >0.6460</td>\n",
       "      <td id=\"T_e4cb7_row10_col4\" class=\"data row10 col4\" >0.6922</td>\n",
       "      <td id=\"T_e4cb7_row10_col5\" class=\"data row10 col5\" >0.3368</td>\n",
       "      <td id=\"T_e4cb7_row10_col6\" class=\"data row10 col6\" >0.3410</td>\n",
       "    </tr>\n",
       "    <tr>\n",
       "      <th id=\"T_e4cb7_level0_row11\" class=\"row_heading level0 row11\" >Std</th>\n",
       "      <td id=\"T_e4cb7_row11_col0\" class=\"data row11 col0\" >0.0008</td>\n",
       "      <td id=\"T_e4cb7_row11_col1\" class=\"data row11 col1\" >0.0008</td>\n",
       "      <td id=\"T_e4cb7_row11_col2\" class=\"data row11 col2\" >0.0106</td>\n",
       "      <td id=\"T_e4cb7_row11_col3\" class=\"data row11 col3\" >0.0026</td>\n",
       "      <td id=\"T_e4cb7_row11_col4\" class=\"data row11 col4\" >0.0032</td>\n",
       "      <td id=\"T_e4cb7_row11_col5\" class=\"data row11 col5\" >0.0015</td>\n",
       "      <td id=\"T_e4cb7_row11_col6\" class=\"data row11 col6\" >0.0021</td>\n",
       "    </tr>\n",
       "  </tbody>\n",
       "</table>\n"
      ],
      "text/plain": [
       "<pandas.io.formats.style.Styler at 0x7f13a8ef0f40>"
      ]
     },
     "metadata": {},
     "output_type": "display_data"
    },
    {
     "data": {
      "text/html": [],
      "text/plain": [
       "<IPython.core.display.HTML object>"
      ]
     },
     "metadata": {},
     "output_type": "display_data"
    }
   ],
   "source": [
    "mlp = create_model('mlp')"
   ]
  },
  {
   "cell_type": "code",
   "execution_count": 57,
   "metadata": {},
   "outputs": [
    {
     "data": {
      "text/html": [],
      "text/plain": [
       "<IPython.core.display.HTML object>"
      ]
     },
     "metadata": {},
     "output_type": "display_data"
    },
    {
     "data": {
      "image/png": "[encoded data removed]",
      "text/plain": [
       "<Figure size 800x550 with 1 Axes>"
      ]
     },
     "metadata": {},
     "output_type": "display_data"
    }
   ],
   "source": [
    "plot_model(mlp, plot = 'confusion_matrix')"
   ]
  },
  {
   "cell_type": "code",
   "execution_count": 58,
   "metadata": {},
   "outputs": [
    {
     "data": {
      "text/html": [],
      "text/plain": [
       "<IPython.core.display.HTML object>"
      ]
     },
     "metadata": {},
     "output_type": "display_data"
    },
    {
     "data": {
      "image/png": "[encoded data removed]",
      "text/plain": [
       "<Figure size 800x550 with 1 Axes>"
      ]
     },
     "metadata": {},
     "output_type": "display_data"
    }
   ],
   "source": [
    "plot_model(mlp, plot = 'error')"
   ]
  },
  {
   "cell_type": "code",
   "execution_count": 59,
   "metadata": {},
   "outputs": [
    {
     "data": {
      "text/html": [],
      "text/plain": [
       "<IPython.core.display.HTML object>"
      ]
     },
     "metadata": {},
     "output_type": "display_data"
    },
    {
     "data": {
      "text/html": [
       "<div>\n",
       "<style scoped>\n",
       "    .dataframe tbody tr th:only-of-type {\n",
       "        vertical-align: middle;\n",
       "    }\n",
       "\n",
       "    .dataframe tbody tr th {\n",
       "        vertical-align: top;\n",
       "    }\n",
       "\n",
       "    .dataframe thead th {\n",
       "        text-align: right;\n",
       "    }\n",
       "</style>\n",
       "<table border=\"1\" class=\"dataframe\">\n",
       "  <thead>\n",
       "    <tr style=\"text-align: right;\">\n",
       "      <th></th>\n",
       "      <th>Parameters</th>\n",
       "    </tr>\n",
       "  </thead>\n",
       "  <tbody>\n",
       "    <tr>\n",
       "      <th>activation</th>\n",
       "      <td>relu</td>\n",
       "    </tr>\n",
       "    <tr>\n",
       "      <th>alpha</th>\n",
       "      <td>0.0001</td>\n",
       "    </tr>\n",
       "    <tr>\n",
       "      <th>batch_size</th>\n",
       "      <td>auto</td>\n",
       "    </tr>\n",
       "    <tr>\n",
       "      <th>beta_1</th>\n",
       "      <td>0.9</td>\n",
       "    </tr>\n",
       "    <tr>\n",
       "      <th>beta_2</th>\n",
       "      <td>0.999</td>\n",
       "    </tr>\n",
       "    <tr>\n",
       "      <th>early_stopping</th>\n",
       "      <td>False</td>\n",
       "    </tr>\n",
       "    <tr>\n",
       "      <th>epsilon</th>\n",
       "      <td>1e-08</td>\n",
       "    </tr>\n",
       "    <tr>\n",
       "      <th>hidden_layer_sizes</th>\n",
       "      <td>(100,)</td>\n",
       "    </tr>\n",
       "    <tr>\n",
       "      <th>learning_rate</th>\n",
       "      <td>constant</td>\n",
       "    </tr>\n",
       "    <tr>\n",
       "      <th>learning_rate_init</th>\n",
       "      <td>0.001</td>\n",
       "    </tr>\n",
       "    <tr>\n",
       "      <th>max_fun</th>\n",
       "      <td>15000</td>\n",
       "    </tr>\n",
       "    <tr>\n",
       "      <th>max_iter</th>\n",
       "      <td>500</td>\n",
       "    </tr>\n",
       "    <tr>\n",
       "      <th>momentum</th>\n",
       "      <td>0.9</td>\n",
       "    </tr>\n",
       "    <tr>\n",
       "      <th>n_iter_no_change</th>\n",
       "      <td>10</td>\n",
       "    </tr>\n",
       "    <tr>\n",
       "      <th>nesterovs_momentum</th>\n",
       "      <td>True</td>\n",
       "    </tr>\n",
       "    <tr>\n",
       "      <th>power_t</th>\n",
       "      <td>0.5</td>\n",
       "    </tr>\n",
       "    <tr>\n",
       "      <th>random_state</th>\n",
       "      <td>6107</td>\n",
       "    </tr>\n",
       "    <tr>\n",
       "      <th>shuffle</th>\n",
       "      <td>True</td>\n",
       "    </tr>\n",
       "    <tr>\n",
       "      <th>solver</th>\n",
       "      <td>adam</td>\n",
       "    </tr>\n",
       "    <tr>\n",
       "      <th>tol</th>\n",
       "      <td>0.0001</td>\n",
       "    </tr>\n",
       "    <tr>\n",
       "      <th>validation_fraction</th>\n",
       "      <td>0.1</td>\n",
       "    </tr>\n",
       "    <tr>\n",
       "      <th>verbose</th>\n",
       "      <td>False</td>\n",
       "    </tr>\n",
       "    <tr>\n",
       "      <th>warm_start</th>\n",
       "      <td>False</td>\n",
       "    </tr>\n",
       "  </tbody>\n",
       "</table>\n",
       "</div>"
      ],
      "text/plain": [
       "                    Parameters\n",
       "activation                relu\n",
       "alpha                   0.0001\n",
       "batch_size                auto\n",
       "beta_1                     0.9\n",
       "beta_2                   0.999\n",
       "early_stopping           False\n",
       "epsilon                  1e-08\n",
       "hidden_layer_sizes      (100,)\n",
       "learning_rate         constant\n",
       "learning_rate_init       0.001\n",
       "max_fun                  15000\n",
       "max_iter                   500\n",
       "momentum                   0.9\n",
       "n_iter_no_change            10\n",
       "nesterovs_momentum        True\n",
       "power_t                    0.5\n",
       "random_state              6107\n",
       "shuffle                   True\n",
       "solver                    adam\n",
       "tol                     0.0001\n",
       "validation_fraction        0.1\n",
       "verbose                  False\n",
       "warm_start               False"
      ]
     },
     "metadata": {},
     "output_type": "display_data"
    }
   ],
   "source": [
    "plot_model(mlp, plot = 'parameter')"
   ]
  },
  {
   "cell_type": "code",
   "execution_count": 60,
   "metadata": {
    "tags": []
   },
   "outputs": [
    {
     "name": "stdout",
     "output_type": "stream",
     "text": [
      "Transformation Pipeline and Model Successfully Saved\n"
     ]
    },
    {
     "data": {
      "text/plain": [
       "(Pipeline(memory=FastMemory(location=/tmp/joblib),\n",
       "          steps=[('numerical_imputer',\n",
       "                  TransformerWrapper(exclude=None,\n",
       "                                     include=['0', '1', '2', '3', '4', '5', '6',\n",
       "                                              '7', '8', '9', '10', '11', '12',\n",
       "                                              '13', '14', '15', '16', '17', '18',\n",
       "                                              '19', '20', '21', '22', '23', '24',\n",
       "                                              '25', '26', '27', '28', '29', ...],\n",
       "                                     transformer=SimpleImputer(add_indicator=False,\n",
       "                                                               copy=True,\n",
       "                                                               fill_value=None,\n",
       "                                                               keep_empty_feat...\n",
       "                                batch_size='auto', beta_1=0.9, beta_2=0.999,\n",
       "                                early_stopping=False, epsilon=1e-08,\n",
       "                                hidden_layer_sizes=(100,),\n",
       "                                learning_rate='constant',\n",
       "                                learning_rate_init=0.001, max_fun=15000,\n",
       "                                max_iter=500, momentum=0.9, n_iter_no_change=10,\n",
       "                                nesterovs_momentum=True, power_t=0.5,\n",
       "                                random_state=6107, shuffle=True, solver='adam',\n",
       "                                tol=0.0001, validation_fraction=0.1,\n",
       "                                verbose=False, warm_start=False))],\n",
       "          verbose=False),\n",
       " 'models_classif/convkb/binary_emb_val/mlp.pkl')"
      ]
     },
     "execution_count": 60,
     "metadata": {},
     "output_type": "execute_result"
    }
   ],
   "source": [
    "save_model(mlp, 'models_classif/convkb/binary_emb_val/mlp')"
   ]
  }
 ],
 "metadata": {
  "kernelspec": {
   "display_name": "Python 3 (ipykernel)",
   "language": "python",
   "name": "python3"
  },
  "language_info": {
   "codemirror_mode": {
    "name": "ipython",
    "version": 3
   },
   "file_extension": ".py",
   "mimetype": "text/x-python",
   "name": "python",
   "nbconvert_exporter": "python",
   "pygments_lexer": "ipython3",
   "version": "3.10.9"
  },
  "vscode": {
   "interpreter": {
    "hash": "bad715aa2aaeb5e6c151df84b54974e4cb5c7f8696a7ce08edfdc275e59caf55"
   }
  }
 },
 "nbformat": 4,
 "nbformat_minor": 4
}
