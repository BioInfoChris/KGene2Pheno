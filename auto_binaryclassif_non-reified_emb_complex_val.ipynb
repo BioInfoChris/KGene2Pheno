{
 "cells": [
  {
   "cell_type": "code",
   "execution_count": 1,
   "metadata": {
    "tags": []
   },
   "outputs": [
    {
     "name": "stderr",
     "output_type": "stream",
     "text": [
      "\u001b[34m\u001b[1mwandb\u001b[0m: Currently logged in as: \u001b[33mantoine-toffano\u001b[0m (\u001b[33mmlb\u001b[0m). Use \u001b[1m`wandb login --relogin`\u001b[0m to force relogin\n"
     ]
    },
    {
     "data": {
      "text/html": [
       "wandb version 0.15.3 is available!  To upgrade, please run:\n",
       " $ pip install wandb --upgrade"
      ],
      "text/plain": [
       "<IPython.core.display.HTML object>"
      ]
     },
     "metadata": {},
     "output_type": "display_data"
    },
    {
     "data": {
      "text/html": [
       "Tracking run with wandb version 0.14.0"
      ],
      "text/plain": [
       "<IPython.core.display.HTML object>"
      ]
     },
     "metadata": {},
     "output_type": "display_data"
    },
    {
     "data": {
      "text/html": [
       "Run data is saved locally in <code>/home/antoine/gene_pheno_pred/wandb/run-20230530_174347-vuh6pcu1</code>"
      ],
      "text/plain": [
       "<IPython.core.display.HTML object>"
      ]
     },
     "metadata": {},
     "output_type": "display_data"
    },
    {
     "data": {
      "text/html": [
       "Syncing run <strong><a href='https://wandb.ai/mlb/cigap-classif/runs/vuh6pcu1' target=\"_blank\">astral-fire-46</a></strong> to <a href='https://wandb.ai/mlb/cigap-classif' target=\"_blank\">Weights & Biases</a> (<a href='https://wandb.me/run' target=\"_blank\">docs</a>)<br/>"
      ],
      "text/plain": [
       "<IPython.core.display.HTML object>"
      ]
     },
     "metadata": {},
     "output_type": "display_data"
    },
    {
     "data": {
      "text/html": [
       " View project at <a href='https://wandb.ai/mlb/cigap-classif' target=\"_blank\">https://wandb.ai/mlb/cigap-classif</a>"
      ],
      "text/plain": [
       "<IPython.core.display.HTML object>"
      ]
     },
     "metadata": {},
     "output_type": "display_data"
    },
    {
     "data": {
      "text/html": [
       " View run at <a href='https://wandb.ai/mlb/cigap-classif/runs/vuh6pcu1' target=\"_blank\">https://wandb.ai/mlb/cigap-classif/runs/vuh6pcu1</a>"
      ],
      "text/plain": [
       "<IPython.core.display.HTML object>"
      ]
     },
     "metadata": {},
     "output_type": "display_data"
    },
    {
     "data": {
      "text/html": [
       "<button onClick=\"this.nextSibling.style.display='block';this.style.display='none';\">Display W&B run</button><iframe src='https://wandb.ai/mlb/cigap-classif/runs/vuh6pcu1?jupyter=true' style='border:none;width:100%;height:420px;display:none;'></iframe>"
      ],
      "text/plain": [
       "<wandb.sdk.wandb_run.Run at 0x7ff699900430>"
      ]
     },
     "execution_count": 1,
     "metadata": {},
     "output_type": "execute_result"
    }
   ],
   "source": [
    "from pycaret.classification import *\n",
    "import pandas as pd\n",
    "import os\n",
    "import wandb\n",
    "\n",
    "os.chdir('/home/antoine/gene_pheno_pred')\n",
    "os.environ[\"CUDA_VISIBLE_DEVICES\"]=\"2\"\n",
    "os.environ[\"WANDB_API_KEY\"]=\"4e5748d6c6f3917c78cdc38a516a1bac776faf58\"\n",
    "wandb.login()\n",
    "wandb.init(\n",
    "    project=\"cigap-classif\",\n",
    ")\n"
   ]
  },
  {
   "cell_type": "code",
   "execution_count": 2,
   "metadata": {
    "tags": []
   },
   "outputs": [
    {
     "data": {
      "text/html": [
       "<div>\n",
       "<style scoped>\n",
       "    .dataframe tbody tr th:only-of-type {\n",
       "        vertical-align: middle;\n",
       "    }\n",
       "\n",
       "    .dataframe tbody tr th {\n",
       "        vertical-align: top;\n",
       "    }\n",
       "\n",
       "    .dataframe thead th {\n",
       "        text-align: right;\n",
       "    }\n",
       "</style>\n",
       "<table border=\"1\" class=\"dataframe\">\n",
       "  <thead>\n",
       "    <tr style=\"text-align: right;\">\n",
       "      <th></th>\n",
       "      <th>0</th>\n",
       "      <th>1</th>\n",
       "      <th>2</th>\n",
       "      <th>3</th>\n",
       "      <th>4</th>\n",
       "      <th>5</th>\n",
       "      <th>6</th>\n",
       "      <th>7</th>\n",
       "      <th>8</th>\n",
       "      <th>9</th>\n",
       "      <th>...</th>\n",
       "      <th>194</th>\n",
       "      <th>195</th>\n",
       "      <th>196</th>\n",
       "      <th>197</th>\n",
       "      <th>198</th>\n",
       "      <th>199</th>\n",
       "      <th>head</th>\n",
       "      <th>relation</th>\n",
       "      <th>tail</th>\n",
       "      <th>link</th>\n",
       "    </tr>\n",
       "  </thead>\n",
       "  <tbody>\n",
       "    <tr>\n",
       "      <th>0</th>\n",
       "      <td>0.031312</td>\n",
       "      <td>-0.011074</td>\n",
       "      <td>-0.002333</td>\n",
       "      <td>-0.015692</td>\n",
       "      <td>0.016796</td>\n",
       "      <td>0.003789</td>\n",
       "      <td>-0.003071</td>\n",
       "      <td>0.017719</td>\n",
       "      <td>-0.001935</td>\n",
       "      <td>0.007711</td>\n",
       "      <td>...</td>\n",
       "      <td>0.003462</td>\n",
       "      <td>-0.012536</td>\n",
       "      <td>-0.025899</td>\n",
       "      <td>-0.010878</td>\n",
       "      <td>-0.019331</td>\n",
       "      <td>-0.027111</td>\n",
       "      <td>https://wormbase.org/species/c_elegans/gene/WB...</td>\n",
       "      <td>no_link_known</td>\n",
       "      <td>https://wormbase.org/species/all/phenotype/WBP...</td>\n",
       "      <td>0</td>\n",
       "    </tr>\n",
       "    <tr>\n",
       "      <th>1</th>\n",
       "      <td>0.006117</td>\n",
       "      <td>-0.010719</td>\n",
       "      <td>-0.000887</td>\n",
       "      <td>-0.027016</td>\n",
       "      <td>-0.005022</td>\n",
       "      <td>-0.009969</td>\n",
       "      <td>-0.019294</td>\n",
       "      <td>0.001342</td>\n",
       "      <td>-0.018558</td>\n",
       "      <td>0.016886</td>\n",
       "      <td>...</td>\n",
       "      <td>0.001823</td>\n",
       "      <td>-0.013527</td>\n",
       "      <td>-0.021083</td>\n",
       "      <td>-0.017954</td>\n",
       "      <td>-0.011937</td>\n",
       "      <td>-0.022374</td>\n",
       "      <td>https://wormbase.org/species/c_elegans/gene/WB...</td>\n",
       "      <td>http://www.semanticweb.org/needed-terms#004</td>\n",
       "      <td>https://wormbase.org/species/all/expr_pattern/...</td>\n",
       "      <td>1</td>\n",
       "    </tr>\n",
       "    <tr>\n",
       "      <th>2</th>\n",
       "      <td>0.028734</td>\n",
       "      <td>-0.038774</td>\n",
       "      <td>0.002722</td>\n",
       "      <td>-0.000903</td>\n",
       "      <td>0.009217</td>\n",
       "      <td>0.012540</td>\n",
       "      <td>-0.008224</td>\n",
       "      <td>0.003610</td>\n",
       "      <td>-0.008072</td>\n",
       "      <td>0.019126</td>\n",
       "      <td>...</td>\n",
       "      <td>0.009118</td>\n",
       "      <td>-0.001789</td>\n",
       "      <td>-0.011593</td>\n",
       "      <td>-0.011891</td>\n",
       "      <td>0.007051</td>\n",
       "      <td>-0.024915</td>\n",
       "      <td>https://wormbase.org/species/all/expr_pattern/...</td>\n",
       "      <td>no_link_known</td>\n",
       "      <td>https://wormbase.org/species/all/phenotype/WBP...</td>\n",
       "      <td>0</td>\n",
       "    </tr>\n",
       "    <tr>\n",
       "      <th>3</th>\n",
       "      <td>0.004353</td>\n",
       "      <td>0.003973</td>\n",
       "      <td>-0.002195</td>\n",
       "      <td>-0.007768</td>\n",
       "      <td>0.012091</td>\n",
       "      <td>-0.018330</td>\n",
       "      <td>-0.016865</td>\n",
       "      <td>-0.013083</td>\n",
       "      <td>-0.021609</td>\n",
       "      <td>0.009974</td>\n",
       "      <td>...</td>\n",
       "      <td>-0.005782</td>\n",
       "      <td>-0.002076</td>\n",
       "      <td>-0.007183</td>\n",
       "      <td>-0.002991</td>\n",
       "      <td>0.001697</td>\n",
       "      <td>-0.009128</td>\n",
       "      <td>https://wormbase.org/species/c_elegans/gene/WB...</td>\n",
       "      <td>no_link_known</td>\n",
       "      <td>https://wormbase.org/species/c_elegans/gene/WB...</td>\n",
       "      <td>0</td>\n",
       "    </tr>\n",
       "    <tr>\n",
       "      <th>4</th>\n",
       "      <td>0.026260</td>\n",
       "      <td>-0.017523</td>\n",
       "      <td>-0.013032</td>\n",
       "      <td>-0.007927</td>\n",
       "      <td>0.002782</td>\n",
       "      <td>-0.001113</td>\n",
       "      <td>-0.011762</td>\n",
       "      <td>0.006316</td>\n",
       "      <td>-0.014574</td>\n",
       "      <td>-0.003061</td>\n",
       "      <td>...</td>\n",
       "      <td>-0.002794</td>\n",
       "      <td>-0.020486</td>\n",
       "      <td>-0.029543</td>\n",
       "      <td>-0.005725</td>\n",
       "      <td>-0.029916</td>\n",
       "      <td>-0.004668</td>\n",
       "      <td>https://wormbase.org/species/c_elegans/gene/WB...</td>\n",
       "      <td>no_link_known</td>\n",
       "      <td>https://wormbase.org/species/c_elegans/gene/WB...</td>\n",
       "      <td>0</td>\n",
       "    </tr>\n",
       "    <tr>\n",
       "      <th>...</th>\n",
       "      <td>...</td>\n",
       "      <td>...</td>\n",
       "      <td>...</td>\n",
       "      <td>...</td>\n",
       "      <td>...</td>\n",
       "      <td>...</td>\n",
       "      <td>...</td>\n",
       "      <td>...</td>\n",
       "      <td>...</td>\n",
       "      <td>...</td>\n",
       "      <td>...</td>\n",
       "      <td>...</td>\n",
       "      <td>...</td>\n",
       "      <td>...</td>\n",
       "      <td>...</td>\n",
       "      <td>...</td>\n",
       "      <td>...</td>\n",
       "      <td>...</td>\n",
       "      <td>...</td>\n",
       "      <td>...</td>\n",
       "      <td>...</td>\n",
       "    </tr>\n",
       "    <tr>\n",
       "      <th>66999</th>\n",
       "      <td>0.015816</td>\n",
       "      <td>-0.027783</td>\n",
       "      <td>-0.003332</td>\n",
       "      <td>-0.000960</td>\n",
       "      <td>0.016947</td>\n",
       "      <td>0.012419</td>\n",
       "      <td>-0.007204</td>\n",
       "      <td>-0.013985</td>\n",
       "      <td>-0.015456</td>\n",
       "      <td>0.022374</td>\n",
       "      <td>...</td>\n",
       "      <td>-0.000369</td>\n",
       "      <td>-0.013884</td>\n",
       "      <td>-0.018363</td>\n",
       "      <td>-0.006038</td>\n",
       "      <td>-0.019731</td>\n",
       "      <td>-0.019077</td>\n",
       "      <td>https://wormbase.org/species/c_elegans/gene/WB...</td>\n",
       "      <td>http://www.w3.org/1999/02/22-rdf-syntax-ns#type</td>\n",
       "      <td>http://semanticscience.org/resource/SIO_000985</td>\n",
       "      <td>1</td>\n",
       "    </tr>\n",
       "    <tr>\n",
       "      <th>67000</th>\n",
       "      <td>0.018814</td>\n",
       "      <td>-0.029377</td>\n",
       "      <td>0.002734</td>\n",
       "      <td>-0.010206</td>\n",
       "      <td>0.021783</td>\n",
       "      <td>0.015544</td>\n",
       "      <td>-0.013825</td>\n",
       "      <td>0.007562</td>\n",
       "      <td>-0.019708</td>\n",
       "      <td>-0.001407</td>\n",
       "      <td>...</td>\n",
       "      <td>-0.001026</td>\n",
       "      <td>-0.015530</td>\n",
       "      <td>-0.025297</td>\n",
       "      <td>-0.019392</td>\n",
       "      <td>0.007249</td>\n",
       "      <td>0.005702</td>\n",
       "      <td>https://wormbase.org/species/c_elegans/gene/WB...</td>\n",
       "      <td>http://purl.obolibrary.org/obo/RO_0002331</td>\n",
       "      <td>https://disease-ontology.org/?id=DOID:13714</td>\n",
       "      <td>1</td>\n",
       "    </tr>\n",
       "    <tr>\n",
       "      <th>67001</th>\n",
       "      <td>0.019146</td>\n",
       "      <td>-0.015640</td>\n",
       "      <td>-0.008211</td>\n",
       "      <td>-0.006251</td>\n",
       "      <td>0.007778</td>\n",
       "      <td>-0.002047</td>\n",
       "      <td>-0.018215</td>\n",
       "      <td>0.003388</td>\n",
       "      <td>-0.003801</td>\n",
       "      <td>0.004795</td>\n",
       "      <td>...</td>\n",
       "      <td>-0.004747</td>\n",
       "      <td>-0.004897</td>\n",
       "      <td>-0.022674</td>\n",
       "      <td>-0.015190</td>\n",
       "      <td>-0.010798</td>\n",
       "      <td>-0.010141</td>\n",
       "      <td>https://wormbase.org/species/all/expr_pattern/...</td>\n",
       "      <td>http://www.semanticweb.org/needed-terms#002</td>\n",
       "      <td>https://wormbase.org/search/life_stage/0000023</td>\n",
       "      <td>1</td>\n",
       "    </tr>\n",
       "    <tr>\n",
       "      <th>67002</th>\n",
       "      <td>0.010528</td>\n",
       "      <td>-0.018786</td>\n",
       "      <td>-0.014432</td>\n",
       "      <td>-0.010102</td>\n",
       "      <td>0.013870</td>\n",
       "      <td>0.003756</td>\n",
       "      <td>0.005902</td>\n",
       "      <td>-0.007328</td>\n",
       "      <td>-0.014949</td>\n",
       "      <td>-0.001647</td>\n",
       "      <td>...</td>\n",
       "      <td>0.002159</td>\n",
       "      <td>-0.011941</td>\n",
       "      <td>-0.019087</td>\n",
       "      <td>-0.012039</td>\n",
       "      <td>-0.011191</td>\n",
       "      <td>-0.027085</td>\n",
       "      <td>https://wormbase.org/species/all/expr_pattern/...</td>\n",
       "      <td>http://www.semanticweb.org/needed-terms#002</td>\n",
       "      <td>https://wormbase.org/search/life_stage/0000406</td>\n",
       "      <td>1</td>\n",
       "    </tr>\n",
       "    <tr>\n",
       "      <th>67003</th>\n",
       "      <td>0.010839</td>\n",
       "      <td>-0.028043</td>\n",
       "      <td>-0.013059</td>\n",
       "      <td>-0.015999</td>\n",
       "      <td>0.019483</td>\n",
       "      <td>0.004883</td>\n",
       "      <td>0.000149</td>\n",
       "      <td>-0.002567</td>\n",
       "      <td>-0.016895</td>\n",
       "      <td>-0.008311</td>\n",
       "      <td>...</td>\n",
       "      <td>0.013283</td>\n",
       "      <td>-0.030584</td>\n",
       "      <td>-0.009071</td>\n",
       "      <td>-0.009991</td>\n",
       "      <td>-0.009334</td>\n",
       "      <td>-0.007047</td>\n",
       "      <td>https://wormbase.org/species/all/expr_pattern/...</td>\n",
       "      <td>no_link_known</td>\n",
       "      <td>https://disease-ontology.org/?id=DOID:28</td>\n",
       "      <td>0</td>\n",
       "    </tr>\n",
       "  </tbody>\n",
       "</table>\n",
       "<p>134404 rows × 204 columns</p>\n",
       "</div>"
      ],
      "text/plain": [
       "              0         1         2         3         4         5         6  \\\n",
       "0      0.031312 -0.011074 -0.002333 -0.015692  0.016796  0.003789 -0.003071   \n",
       "1      0.006117 -0.010719 -0.000887 -0.027016 -0.005022 -0.009969 -0.019294   \n",
       "2      0.028734 -0.038774  0.002722 -0.000903  0.009217  0.012540 -0.008224   \n",
       "3      0.004353  0.003973 -0.002195 -0.007768  0.012091 -0.018330 -0.016865   \n",
       "4      0.026260 -0.017523 -0.013032 -0.007927  0.002782 -0.001113 -0.011762   \n",
       "...         ...       ...       ...       ...       ...       ...       ...   \n",
       "66999  0.015816 -0.027783 -0.003332 -0.000960  0.016947  0.012419 -0.007204   \n",
       "67000  0.018814 -0.029377  0.002734 -0.010206  0.021783  0.015544 -0.013825   \n",
       "67001  0.019146 -0.015640 -0.008211 -0.006251  0.007778 -0.002047 -0.018215   \n",
       "67002  0.010528 -0.018786 -0.014432 -0.010102  0.013870  0.003756  0.005902   \n",
       "67003  0.010839 -0.028043 -0.013059 -0.015999  0.019483  0.004883  0.000149   \n",
       "\n",
       "              7         8         9  ...       194       195       196  \\\n",
       "0      0.017719 -0.001935  0.007711  ...  0.003462 -0.012536 -0.025899   \n",
       "1      0.001342 -0.018558  0.016886  ...  0.001823 -0.013527 -0.021083   \n",
       "2      0.003610 -0.008072  0.019126  ...  0.009118 -0.001789 -0.011593   \n",
       "3     -0.013083 -0.021609  0.009974  ... -0.005782 -0.002076 -0.007183   \n",
       "4      0.006316 -0.014574 -0.003061  ... -0.002794 -0.020486 -0.029543   \n",
       "...         ...       ...       ...  ...       ...       ...       ...   \n",
       "66999 -0.013985 -0.015456  0.022374  ... -0.000369 -0.013884 -0.018363   \n",
       "67000  0.007562 -0.019708 -0.001407  ... -0.001026 -0.015530 -0.025297   \n",
       "67001  0.003388 -0.003801  0.004795  ... -0.004747 -0.004897 -0.022674   \n",
       "67002 -0.007328 -0.014949 -0.001647  ...  0.002159 -0.011941 -0.019087   \n",
       "67003 -0.002567 -0.016895 -0.008311  ...  0.013283 -0.030584 -0.009071   \n",
       "\n",
       "            197       198       199  \\\n",
       "0     -0.010878 -0.019331 -0.027111   \n",
       "1     -0.017954 -0.011937 -0.022374   \n",
       "2     -0.011891  0.007051 -0.024915   \n",
       "3     -0.002991  0.001697 -0.009128   \n",
       "4     -0.005725 -0.029916 -0.004668   \n",
       "...         ...       ...       ...   \n",
       "66999 -0.006038 -0.019731 -0.019077   \n",
       "67000 -0.019392  0.007249  0.005702   \n",
       "67001 -0.015190 -0.010798 -0.010141   \n",
       "67002 -0.012039 -0.011191 -0.027085   \n",
       "67003 -0.009991 -0.009334 -0.007047   \n",
       "\n",
       "                                                    head  \\\n",
       "0      https://wormbase.org/species/c_elegans/gene/WB...   \n",
       "1      https://wormbase.org/species/c_elegans/gene/WB...   \n",
       "2      https://wormbase.org/species/all/expr_pattern/...   \n",
       "3      https://wormbase.org/species/c_elegans/gene/WB...   \n",
       "4      https://wormbase.org/species/c_elegans/gene/WB...   \n",
       "...                                                  ...   \n",
       "66999  https://wormbase.org/species/c_elegans/gene/WB...   \n",
       "67000  https://wormbase.org/species/c_elegans/gene/WB...   \n",
       "67001  https://wormbase.org/species/all/expr_pattern/...   \n",
       "67002  https://wormbase.org/species/all/expr_pattern/...   \n",
       "67003  https://wormbase.org/species/all/expr_pattern/...   \n",
       "\n",
       "                                              relation  \\\n",
       "0                                        no_link_known   \n",
       "1          http://www.semanticweb.org/needed-terms#004   \n",
       "2                                        no_link_known   \n",
       "3                                        no_link_known   \n",
       "4                                        no_link_known   \n",
       "...                                                ...   \n",
       "66999  http://www.w3.org/1999/02/22-rdf-syntax-ns#type   \n",
       "67000        http://purl.obolibrary.org/obo/RO_0002331   \n",
       "67001      http://www.semanticweb.org/needed-terms#002   \n",
       "67002      http://www.semanticweb.org/needed-terms#002   \n",
       "67003                                    no_link_known   \n",
       "\n",
       "                                                    tail  link  \n",
       "0      https://wormbase.org/species/all/phenotype/WBP...     0  \n",
       "1      https://wormbase.org/species/all/expr_pattern/...     1  \n",
       "2      https://wormbase.org/species/all/phenotype/WBP...     0  \n",
       "3      https://wormbase.org/species/c_elegans/gene/WB...     0  \n",
       "4      https://wormbase.org/species/c_elegans/gene/WB...     0  \n",
       "...                                                  ...   ...  \n",
       "66999     http://semanticscience.org/resource/SIO_000985     1  \n",
       "67000        https://disease-ontology.org/?id=DOID:13714     1  \n",
       "67001     https://wormbase.org/search/life_stage/0000023     1  \n",
       "67002     https://wormbase.org/search/life_stage/0000406     1  \n",
       "67003           https://disease-ontology.org/?id=DOID:28     0  \n",
       "\n",
       "[134404 rows x 204 columns]"
      ]
     },
     "execution_count": 2,
     "metadata": {},
     "output_type": "execute_result"
    }
   ],
   "source": [
    "# Load training set\n",
    "df1 = pd.read_csv('/home/antoine/gene_pheno_pred/non-reified_ComplEx_2023-05-04_17-19-26_kg_test.csv' , header=0)\n",
    "df2 = pd.read_csv('/home/antoine/gene_pheno_pred/non-reified_ComplEx_2023-05-04_17-19-26_kg_val.csv' , header=0)\n",
    "df = pd.concat([df1, df2], axis=0)\n",
    "\n",
    "df['link'] = df['relation'].apply(lambda x: 1 if x != 'no_link_known' else 0)\n",
    "df"
   ]
  },
  {
   "cell_type": "code",
   "execution_count": 3,
   "metadata": {
    "tags": []
   },
   "outputs": [],
   "source": [
    "df2 = df"
   ]
  },
  {
   "cell_type": "code",
   "execution_count": 4,
   "metadata": {},
   "outputs": [
    {
     "data": {
      "text/html": [
       "<div>\n",
       "<style scoped>\n",
       "    .dataframe tbody tr th:only-of-type {\n",
       "        vertical-align: middle;\n",
       "    }\n",
       "\n",
       "    .dataframe tbody tr th {\n",
       "        vertical-align: top;\n",
       "    }\n",
       "\n",
       "    .dataframe thead th {\n",
       "        text-align: right;\n",
       "    }\n",
       "</style>\n",
       "<table border=\"1\" class=\"dataframe\">\n",
       "  <thead>\n",
       "    <tr style=\"text-align: right;\">\n",
       "      <th></th>\n",
       "      <th>0</th>\n",
       "      <th>1</th>\n",
       "      <th>2</th>\n",
       "      <th>3</th>\n",
       "      <th>4</th>\n",
       "      <th>5</th>\n",
       "      <th>6</th>\n",
       "      <th>7</th>\n",
       "      <th>8</th>\n",
       "      <th>9</th>\n",
       "      <th>...</th>\n",
       "      <th>191</th>\n",
       "      <th>192</th>\n",
       "      <th>193</th>\n",
       "      <th>194</th>\n",
       "      <th>195</th>\n",
       "      <th>196</th>\n",
       "      <th>197</th>\n",
       "      <th>198</th>\n",
       "      <th>199</th>\n",
       "      <th>link</th>\n",
       "    </tr>\n",
       "  </thead>\n",
       "  <tbody>\n",
       "    <tr>\n",
       "      <th>0</th>\n",
       "      <td>0.031312</td>\n",
       "      <td>-0.011074</td>\n",
       "      <td>-0.002333</td>\n",
       "      <td>-0.015692</td>\n",
       "      <td>0.016796</td>\n",
       "      <td>0.003789</td>\n",
       "      <td>-0.003071</td>\n",
       "      <td>0.017719</td>\n",
       "      <td>-0.001935</td>\n",
       "      <td>0.007711</td>\n",
       "      <td>...</td>\n",
       "      <td>-0.029840</td>\n",
       "      <td>0.007153</td>\n",
       "      <td>0.018017</td>\n",
       "      <td>0.003462</td>\n",
       "      <td>-0.012536</td>\n",
       "      <td>-0.025899</td>\n",
       "      <td>-0.010878</td>\n",
       "      <td>-0.019331</td>\n",
       "      <td>-0.027111</td>\n",
       "      <td>0</td>\n",
       "    </tr>\n",
       "    <tr>\n",
       "      <th>1</th>\n",
       "      <td>0.006117</td>\n",
       "      <td>-0.010719</td>\n",
       "      <td>-0.000887</td>\n",
       "      <td>-0.027016</td>\n",
       "      <td>-0.005022</td>\n",
       "      <td>-0.009969</td>\n",
       "      <td>-0.019294</td>\n",
       "      <td>0.001342</td>\n",
       "      <td>-0.018558</td>\n",
       "      <td>0.016886</td>\n",
       "      <td>...</td>\n",
       "      <td>-0.033956</td>\n",
       "      <td>0.014051</td>\n",
       "      <td>0.018434</td>\n",
       "      <td>0.001823</td>\n",
       "      <td>-0.013527</td>\n",
       "      <td>-0.021083</td>\n",
       "      <td>-0.017954</td>\n",
       "      <td>-0.011937</td>\n",
       "      <td>-0.022374</td>\n",
       "      <td>1</td>\n",
       "    </tr>\n",
       "    <tr>\n",
       "      <th>2</th>\n",
       "      <td>0.028734</td>\n",
       "      <td>-0.038774</td>\n",
       "      <td>0.002722</td>\n",
       "      <td>-0.000903</td>\n",
       "      <td>0.009217</td>\n",
       "      <td>0.012540</td>\n",
       "      <td>-0.008224</td>\n",
       "      <td>0.003610</td>\n",
       "      <td>-0.008072</td>\n",
       "      <td>0.019126</td>\n",
       "      <td>...</td>\n",
       "      <td>-0.028848</td>\n",
       "      <td>0.009367</td>\n",
       "      <td>0.013167</td>\n",
       "      <td>0.009118</td>\n",
       "      <td>-0.001789</td>\n",
       "      <td>-0.011593</td>\n",
       "      <td>-0.011891</td>\n",
       "      <td>0.007051</td>\n",
       "      <td>-0.024915</td>\n",
       "      <td>0</td>\n",
       "    </tr>\n",
       "    <tr>\n",
       "      <th>3</th>\n",
       "      <td>0.004353</td>\n",
       "      <td>0.003973</td>\n",
       "      <td>-0.002195</td>\n",
       "      <td>-0.007768</td>\n",
       "      <td>0.012091</td>\n",
       "      <td>-0.018330</td>\n",
       "      <td>-0.016865</td>\n",
       "      <td>-0.013083</td>\n",
       "      <td>-0.021609</td>\n",
       "      <td>0.009974</td>\n",
       "      <td>...</td>\n",
       "      <td>-0.026186</td>\n",
       "      <td>0.007945</td>\n",
       "      <td>0.011243</td>\n",
       "      <td>-0.005782</td>\n",
       "      <td>-0.002076</td>\n",
       "      <td>-0.007183</td>\n",
       "      <td>-0.002991</td>\n",
       "      <td>0.001697</td>\n",
       "      <td>-0.009128</td>\n",
       "      <td>0</td>\n",
       "    </tr>\n",
       "    <tr>\n",
       "      <th>4</th>\n",
       "      <td>0.026260</td>\n",
       "      <td>-0.017523</td>\n",
       "      <td>-0.013032</td>\n",
       "      <td>-0.007927</td>\n",
       "      <td>0.002782</td>\n",
       "      <td>-0.001113</td>\n",
       "      <td>-0.011762</td>\n",
       "      <td>0.006316</td>\n",
       "      <td>-0.014574</td>\n",
       "      <td>-0.003061</td>\n",
       "      <td>...</td>\n",
       "      <td>-0.029741</td>\n",
       "      <td>0.011028</td>\n",
       "      <td>0.015266</td>\n",
       "      <td>-0.002794</td>\n",
       "      <td>-0.020486</td>\n",
       "      <td>-0.029543</td>\n",
       "      <td>-0.005725</td>\n",
       "      <td>-0.029916</td>\n",
       "      <td>-0.004668</td>\n",
       "      <td>0</td>\n",
       "    </tr>\n",
       "    <tr>\n",
       "      <th>...</th>\n",
       "      <td>...</td>\n",
       "      <td>...</td>\n",
       "      <td>...</td>\n",
       "      <td>...</td>\n",
       "      <td>...</td>\n",
       "      <td>...</td>\n",
       "      <td>...</td>\n",
       "      <td>...</td>\n",
       "      <td>...</td>\n",
       "      <td>...</td>\n",
       "      <td>...</td>\n",
       "      <td>...</td>\n",
       "      <td>...</td>\n",
       "      <td>...</td>\n",
       "      <td>...</td>\n",
       "      <td>...</td>\n",
       "      <td>...</td>\n",
       "      <td>...</td>\n",
       "      <td>...</td>\n",
       "      <td>...</td>\n",
       "      <td>...</td>\n",
       "    </tr>\n",
       "    <tr>\n",
       "      <th>66999</th>\n",
       "      <td>0.015816</td>\n",
       "      <td>-0.027783</td>\n",
       "      <td>-0.003332</td>\n",
       "      <td>-0.000960</td>\n",
       "      <td>0.016947</td>\n",
       "      <td>0.012419</td>\n",
       "      <td>-0.007204</td>\n",
       "      <td>-0.013985</td>\n",
       "      <td>-0.015456</td>\n",
       "      <td>0.022374</td>\n",
       "      <td>...</td>\n",
       "      <td>-0.032339</td>\n",
       "      <td>0.004552</td>\n",
       "      <td>0.013105</td>\n",
       "      <td>-0.000369</td>\n",
       "      <td>-0.013884</td>\n",
       "      <td>-0.018363</td>\n",
       "      <td>-0.006038</td>\n",
       "      <td>-0.019731</td>\n",
       "      <td>-0.019077</td>\n",
       "      <td>1</td>\n",
       "    </tr>\n",
       "    <tr>\n",
       "      <th>67000</th>\n",
       "      <td>0.018814</td>\n",
       "      <td>-0.029377</td>\n",
       "      <td>0.002734</td>\n",
       "      <td>-0.010206</td>\n",
       "      <td>0.021783</td>\n",
       "      <td>0.015544</td>\n",
       "      <td>-0.013825</td>\n",
       "      <td>0.007562</td>\n",
       "      <td>-0.019708</td>\n",
       "      <td>-0.001407</td>\n",
       "      <td>...</td>\n",
       "      <td>-0.038026</td>\n",
       "      <td>0.011537</td>\n",
       "      <td>0.011944</td>\n",
       "      <td>-0.001026</td>\n",
       "      <td>-0.015530</td>\n",
       "      <td>-0.025297</td>\n",
       "      <td>-0.019392</td>\n",
       "      <td>0.007249</td>\n",
       "      <td>0.005702</td>\n",
       "      <td>1</td>\n",
       "    </tr>\n",
       "    <tr>\n",
       "      <th>67001</th>\n",
       "      <td>0.019146</td>\n",
       "      <td>-0.015640</td>\n",
       "      <td>-0.008211</td>\n",
       "      <td>-0.006251</td>\n",
       "      <td>0.007778</td>\n",
       "      <td>-0.002047</td>\n",
       "      <td>-0.018215</td>\n",
       "      <td>0.003388</td>\n",
       "      <td>-0.003801</td>\n",
       "      <td>0.004795</td>\n",
       "      <td>...</td>\n",
       "      <td>-0.030987</td>\n",
       "      <td>0.006745</td>\n",
       "      <td>0.027155</td>\n",
       "      <td>-0.004747</td>\n",
       "      <td>-0.004897</td>\n",
       "      <td>-0.022674</td>\n",
       "      <td>-0.015190</td>\n",
       "      <td>-0.010798</td>\n",
       "      <td>-0.010141</td>\n",
       "      <td>1</td>\n",
       "    </tr>\n",
       "    <tr>\n",
       "      <th>67002</th>\n",
       "      <td>0.010528</td>\n",
       "      <td>-0.018786</td>\n",
       "      <td>-0.014432</td>\n",
       "      <td>-0.010102</td>\n",
       "      <td>0.013870</td>\n",
       "      <td>0.003756</td>\n",
       "      <td>0.005902</td>\n",
       "      <td>-0.007328</td>\n",
       "      <td>-0.014949</td>\n",
       "      <td>-0.001647</td>\n",
       "      <td>...</td>\n",
       "      <td>-0.031356</td>\n",
       "      <td>0.004756</td>\n",
       "      <td>0.029259</td>\n",
       "      <td>0.002159</td>\n",
       "      <td>-0.011941</td>\n",
       "      <td>-0.019087</td>\n",
       "      <td>-0.012039</td>\n",
       "      <td>-0.011191</td>\n",
       "      <td>-0.027085</td>\n",
       "      <td>1</td>\n",
       "    </tr>\n",
       "    <tr>\n",
       "      <th>67003</th>\n",
       "      <td>0.010839</td>\n",
       "      <td>-0.028043</td>\n",
       "      <td>-0.013059</td>\n",
       "      <td>-0.015999</td>\n",
       "      <td>0.019483</td>\n",
       "      <td>0.004883</td>\n",
       "      <td>0.000149</td>\n",
       "      <td>-0.002567</td>\n",
       "      <td>-0.016895</td>\n",
       "      <td>-0.008311</td>\n",
       "      <td>...</td>\n",
       "      <td>-0.027649</td>\n",
       "      <td>0.016546</td>\n",
       "      <td>0.020858</td>\n",
       "      <td>0.013283</td>\n",
       "      <td>-0.030584</td>\n",
       "      <td>-0.009071</td>\n",
       "      <td>-0.009991</td>\n",
       "      <td>-0.009334</td>\n",
       "      <td>-0.007047</td>\n",
       "      <td>0</td>\n",
       "    </tr>\n",
       "  </tbody>\n",
       "</table>\n",
       "<p>134404 rows × 201 columns</p>\n",
       "</div>"
      ],
      "text/plain": [
       "              0         1         2         3         4         5         6  \\\n",
       "0      0.031312 -0.011074 -0.002333 -0.015692  0.016796  0.003789 -0.003071   \n",
       "1      0.006117 -0.010719 -0.000887 -0.027016 -0.005022 -0.009969 -0.019294   \n",
       "2      0.028734 -0.038774  0.002722 -0.000903  0.009217  0.012540 -0.008224   \n",
       "3      0.004353  0.003973 -0.002195 -0.007768  0.012091 -0.018330 -0.016865   \n",
       "4      0.026260 -0.017523 -0.013032 -0.007927  0.002782 -0.001113 -0.011762   \n",
       "...         ...       ...       ...       ...       ...       ...       ...   \n",
       "66999  0.015816 -0.027783 -0.003332 -0.000960  0.016947  0.012419 -0.007204   \n",
       "67000  0.018814 -0.029377  0.002734 -0.010206  0.021783  0.015544 -0.013825   \n",
       "67001  0.019146 -0.015640 -0.008211 -0.006251  0.007778 -0.002047 -0.018215   \n",
       "67002  0.010528 -0.018786 -0.014432 -0.010102  0.013870  0.003756  0.005902   \n",
       "67003  0.010839 -0.028043 -0.013059 -0.015999  0.019483  0.004883  0.000149   \n",
       "\n",
       "              7         8         9  ...       191       192       193  \\\n",
       "0      0.017719 -0.001935  0.007711  ... -0.029840  0.007153  0.018017   \n",
       "1      0.001342 -0.018558  0.016886  ... -0.033956  0.014051  0.018434   \n",
       "2      0.003610 -0.008072  0.019126  ... -0.028848  0.009367  0.013167   \n",
       "3     -0.013083 -0.021609  0.009974  ... -0.026186  0.007945  0.011243   \n",
       "4      0.006316 -0.014574 -0.003061  ... -0.029741  0.011028  0.015266   \n",
       "...         ...       ...       ...  ...       ...       ...       ...   \n",
       "66999 -0.013985 -0.015456  0.022374  ... -0.032339  0.004552  0.013105   \n",
       "67000  0.007562 -0.019708 -0.001407  ... -0.038026  0.011537  0.011944   \n",
       "67001  0.003388 -0.003801  0.004795  ... -0.030987  0.006745  0.027155   \n",
       "67002 -0.007328 -0.014949 -0.001647  ... -0.031356  0.004756  0.029259   \n",
       "67003 -0.002567 -0.016895 -0.008311  ... -0.027649  0.016546  0.020858   \n",
       "\n",
       "            194       195       196       197       198       199  link  \n",
       "0      0.003462 -0.012536 -0.025899 -0.010878 -0.019331 -0.027111     0  \n",
       "1      0.001823 -0.013527 -0.021083 -0.017954 -0.011937 -0.022374     1  \n",
       "2      0.009118 -0.001789 -0.011593 -0.011891  0.007051 -0.024915     0  \n",
       "3     -0.005782 -0.002076 -0.007183 -0.002991  0.001697 -0.009128     0  \n",
       "4     -0.002794 -0.020486 -0.029543 -0.005725 -0.029916 -0.004668     0  \n",
       "...         ...       ...       ...       ...       ...       ...   ...  \n",
       "66999 -0.000369 -0.013884 -0.018363 -0.006038 -0.019731 -0.019077     1  \n",
       "67000 -0.001026 -0.015530 -0.025297 -0.019392  0.007249  0.005702     1  \n",
       "67001 -0.004747 -0.004897 -0.022674 -0.015190 -0.010798 -0.010141     1  \n",
       "67002  0.002159 -0.011941 -0.019087 -0.012039 -0.011191 -0.027085     1  \n",
       "67003  0.013283 -0.030584 -0.009071 -0.009991 -0.009334 -0.007047     0  \n",
       "\n",
       "[134404 rows x 201 columns]"
      ]
     },
     "execution_count": 4,
     "metadata": {},
     "output_type": "execute_result"
    }
   ],
   "source": [
    "df_num = df.drop(['head', 'relation', 'tail'], axis=1)\n",
    "df_num"
   ]
  },
  {
   "cell_type": "code",
   "execution_count": 5,
   "metadata": {
    "tags": []
   },
   "outputs": [
    {
     "name": "stderr",
     "output_type": "stream",
     "text": [
      "[LightGBM] [Fatal] GPU Tree Learner was not enabled in this build.\n",
      "Please recompile with CMake option -DUSE_GPU=1\n",
      "[LightGBM] [Fatal] CUDA Tree Learner was not enabled in this build.\n",
      "Please recompile with CMake option -DUSE_CUDA=1\n",
      "[LightGBM] [Fatal] GPU Tree Learner was not enabled in this build.\n",
      "Please recompile with CMake option -DUSE_GPU=1\n",
      "[LightGBM] [Fatal] CUDA Tree Learner was not enabled in this build.\n",
      "Please recompile with CMake option -DUSE_CUDA=1\n",
      "[LightGBM] [Fatal] GPU Tree Learner was not enabled in this build.\n",
      "Please recompile with CMake option -DUSE_GPU=1\n",
      "[LightGBM] [Fatal] CUDA Tree Learner was not enabled in this build.\n",
      "Please recompile with CMake option -DUSE_CUDA=1\n",
      "[LightGBM] [Fatal] GPU Tree Learner was not enabled in this build.\n",
      "Please recompile with CMake option -DUSE_GPU=1\n",
      "[LightGBM] [Fatal] CUDA Tree Learner was not enabled in this build.\n",
      "Please recompile with CMake option -DUSE_CUDA=1\n",
      "[LightGBM] [Fatal] GPU Tree Learner was not enabled in this build.\n",
      "Please recompile with CMake option -DUSE_GPU=1\n",
      "[LightGBM] [Fatal] CUDA Tree Learner was not enabled in this build.\n",
      "Please recompile with CMake option -DUSE_CUDA=1\n",
      "[LightGBM] [Fatal] GPU Tree Learner was not enabled in this build.\n",
      "Please recompile with CMake option -DUSE_GPU=1\n",
      "[LightGBM] [Fatal] CUDA Tree Learner was not enabled in this build.\n",
      "Please recompile with CMake option -DUSE_CUDA=1\n"
     ]
    },
    {
     "data": {
      "text/html": [
       "<style type=\"text/css\">\n",
       "#T_90bcc_row8_col1, #T_90bcc_row15_col1 {\n",
       "  background-color: lightgreen;\n",
       "}\n",
       "</style>\n",
       "<table id=\"T_90bcc\">\n",
       "  <thead>\n",
       "    <tr>\n",
       "      <th class=\"blank level0\" >&nbsp;</th>\n",
       "      <th id=\"T_90bcc_level0_col0\" class=\"col_heading level0 col0\" >Description</th>\n",
       "      <th id=\"T_90bcc_level0_col1\" class=\"col_heading level0 col1\" >Value</th>\n",
       "    </tr>\n",
       "  </thead>\n",
       "  <tbody>\n",
       "    <tr>\n",
       "      <th id=\"T_90bcc_level0_row0\" class=\"row_heading level0 row0\" >0</th>\n",
       "      <td id=\"T_90bcc_row0_col0\" class=\"data row0 col0\" >Session id</td>\n",
       "      <td id=\"T_90bcc_row0_col1\" class=\"data row0 col1\" >8931</td>\n",
       "    </tr>\n",
       "    <tr>\n",
       "      <th id=\"T_90bcc_level0_row1\" class=\"row_heading level0 row1\" >1</th>\n",
       "      <td id=\"T_90bcc_row1_col0\" class=\"data row1 col0\" >Target</td>\n",
       "      <td id=\"T_90bcc_row1_col1\" class=\"data row1 col1\" >link</td>\n",
       "    </tr>\n",
       "    <tr>\n",
       "      <th id=\"T_90bcc_level0_row2\" class=\"row_heading level0 row2\" >2</th>\n",
       "      <td id=\"T_90bcc_row2_col0\" class=\"data row2 col0\" >Target type</td>\n",
       "      <td id=\"T_90bcc_row2_col1\" class=\"data row2 col1\" >Binary</td>\n",
       "    </tr>\n",
       "    <tr>\n",
       "      <th id=\"T_90bcc_level0_row3\" class=\"row_heading level0 row3\" >3</th>\n",
       "      <td id=\"T_90bcc_row3_col0\" class=\"data row3 col0\" >Original data shape</td>\n",
       "      <td id=\"T_90bcc_row3_col1\" class=\"data row3 col1\" >(268412, 201)</td>\n",
       "    </tr>\n",
       "    <tr>\n",
       "      <th id=\"T_90bcc_level0_row4\" class=\"row_heading level0 row4\" >4</th>\n",
       "      <td id=\"T_90bcc_row4_col0\" class=\"data row4 col0\" >Transformed data shape</td>\n",
       "      <td id=\"T_90bcc_row4_col1\" class=\"data row4 col1\" >(1072460, 201)</td>\n",
       "    </tr>\n",
       "    <tr>\n",
       "      <th id=\"T_90bcc_level0_row5\" class=\"row_heading level0 row5\" >5</th>\n",
       "      <td id=\"T_90bcc_row5_col0\" class=\"data row5 col0\" >Transformed train set shape</td>\n",
       "      <td id=\"T_90bcc_row5_col1\" class=\"data row5 col1\" >(857977, 201)</td>\n",
       "    </tr>\n",
       "    <tr>\n",
       "      <th id=\"T_90bcc_level0_row6\" class=\"row_heading level0 row6\" >6</th>\n",
       "      <td id=\"T_90bcc_row6_col0\" class=\"data row6 col0\" >Transformed test set shape</td>\n",
       "      <td id=\"T_90bcc_row6_col1\" class=\"data row6 col1\" >(214483, 201)</td>\n",
       "    </tr>\n",
       "    <tr>\n",
       "      <th id=\"T_90bcc_level0_row7\" class=\"row_heading level0 row7\" >7</th>\n",
       "      <td id=\"T_90bcc_row7_col0\" class=\"data row7 col0\" >Numeric features</td>\n",
       "      <td id=\"T_90bcc_row7_col1\" class=\"data row7 col1\" >200</td>\n",
       "    </tr>\n",
       "    <tr>\n",
       "      <th id=\"T_90bcc_level0_row8\" class=\"row_heading level0 row8\" >8</th>\n",
       "      <td id=\"T_90bcc_row8_col0\" class=\"data row8 col0\" >Preprocess</td>\n",
       "      <td id=\"T_90bcc_row8_col1\" class=\"data row8 col1\" >True</td>\n",
       "    </tr>\n",
       "    <tr>\n",
       "      <th id=\"T_90bcc_level0_row9\" class=\"row_heading level0 row9\" >9</th>\n",
       "      <td id=\"T_90bcc_row9_col0\" class=\"data row9 col0\" >Imputation type</td>\n",
       "      <td id=\"T_90bcc_row9_col1\" class=\"data row9 col1\" >simple</td>\n",
       "    </tr>\n",
       "    <tr>\n",
       "      <th id=\"T_90bcc_level0_row10\" class=\"row_heading level0 row10\" >10</th>\n",
       "      <td id=\"T_90bcc_row10_col0\" class=\"data row10 col0\" >Numeric imputation</td>\n",
       "      <td id=\"T_90bcc_row10_col1\" class=\"data row10 col1\" >mean</td>\n",
       "    </tr>\n",
       "    <tr>\n",
       "      <th id=\"T_90bcc_level0_row11\" class=\"row_heading level0 row11\" >11</th>\n",
       "      <td id=\"T_90bcc_row11_col0\" class=\"data row11 col0\" >Categorical imputation</td>\n",
       "      <td id=\"T_90bcc_row11_col1\" class=\"data row11 col1\" >mode</td>\n",
       "    </tr>\n",
       "    <tr>\n",
       "      <th id=\"T_90bcc_level0_row12\" class=\"row_heading level0 row12\" >12</th>\n",
       "      <td id=\"T_90bcc_row12_col0\" class=\"data row12 col0\" >Fold Generator</td>\n",
       "      <td id=\"T_90bcc_row12_col1\" class=\"data row12 col1\" >StratifiedKFold</td>\n",
       "    </tr>\n",
       "    <tr>\n",
       "      <th id=\"T_90bcc_level0_row13\" class=\"row_heading level0 row13\" >13</th>\n",
       "      <td id=\"T_90bcc_row13_col0\" class=\"data row13 col0\" >Fold Number</td>\n",
       "      <td id=\"T_90bcc_row13_col1\" class=\"data row13 col1\" >10</td>\n",
       "    </tr>\n",
       "    <tr>\n",
       "      <th id=\"T_90bcc_level0_row14\" class=\"row_heading level0 row14\" >14</th>\n",
       "      <td id=\"T_90bcc_row14_col0\" class=\"data row14 col0\" >CPU Jobs</td>\n",
       "      <td id=\"T_90bcc_row14_col1\" class=\"data row14 col1\" >-1</td>\n",
       "    </tr>\n",
       "    <tr>\n",
       "      <th id=\"T_90bcc_level0_row15\" class=\"row_heading level0 row15\" >15</th>\n",
       "      <td id=\"T_90bcc_row15_col0\" class=\"data row15 col0\" >Use GPU</td>\n",
       "      <td id=\"T_90bcc_row15_col1\" class=\"data row15 col1\" >True</td>\n",
       "    </tr>\n",
       "    <tr>\n",
       "      <th id=\"T_90bcc_level0_row16\" class=\"row_heading level0 row16\" >16</th>\n",
       "      <td id=\"T_90bcc_row16_col0\" class=\"data row16 col0\" >Log Experiment</td>\n",
       "      <td id=\"T_90bcc_row16_col1\" class=\"data row16 col1\" >WandbLogger</td>\n",
       "    </tr>\n",
       "    <tr>\n",
       "      <th id=\"T_90bcc_level0_row17\" class=\"row_heading level0 row17\" >17</th>\n",
       "      <td id=\"T_90bcc_row17_col0\" class=\"data row17 col0\" >Experiment Name</td>\n",
       "      <td id=\"T_90bcc_row17_col1\" class=\"data row17 col1\" >clf-default-name</td>\n",
       "    </tr>\n",
       "    <tr>\n",
       "      <th id=\"T_90bcc_level0_row18\" class=\"row_heading level0 row18\" >18</th>\n",
       "      <td id=\"T_90bcc_row18_col0\" class=\"data row18 col0\" >USI</td>\n",
       "      <td id=\"T_90bcc_row18_col1\" class=\"data row18 col1\" >238e</td>\n",
       "    </tr>\n",
       "  </tbody>\n",
       "</table>\n"
      ],
      "text/plain": [
       "<pandas.io.formats.style.Styler at 0x7ff68d730400>"
      ]
     },
     "metadata": {},
     "output_type": "display_data"
    },
    {
     "name": "stderr",
     "output_type": "stream",
     "text": [
      "[LightGBM] [Fatal] GPU Tree Learner was not enabled in this build.\n",
      "Please recompile with CMake option -DUSE_GPU=1\n",
      "[LightGBM] [Fatal] CUDA Tree Learner was not enabled in this build.\n",
      "Please recompile with CMake option -DUSE_CUDA=1\n",
      "[LightGBM] [Fatal] GPU Tree Learner was not enabled in this build.\n",
      "Please recompile with CMake option -DUSE_GPU=1\n",
      "[LightGBM] [Fatal] CUDA Tree Learner was not enabled in this build.\n",
      "Please recompile with CMake option -DUSE_CUDA=1\n"
     ]
    }
   ],
   "source": [
    "# Experiment setup\n",
    "s = setup(df_num, target = 'link', fold_strategy = 'stratifiedkfold', fold=10, train_size = 0.8, n_jobs=-1, system_log=True, use_gpu = True, log_experiment='wandb')\n",
    "exp = ClassificationExperiment()"
   ]
  },
  {
   "cell_type": "markdown",
   "metadata": {},
   "source": [
    "# K Neighbors Classifier"
   ]
  },
  {
   "cell_type": "code",
   "execution_count": 6,
   "metadata": {
    "tags": []
   },
   "outputs": [
    {
     "data": {
      "text/html": [],
      "text/plain": [
       "<IPython.core.display.HTML object>"
      ]
     },
     "metadata": {},
     "output_type": "display_data"
    },
    {
     "data": {
      "text/html": [
       "<style type=\"text/css\">\n",
       "#T_5aeb9_row10_col0, #T_5aeb9_row10_col1, #T_5aeb9_row10_col2, #T_5aeb9_row10_col3, #T_5aeb9_row10_col4, #T_5aeb9_row10_col5, #T_5aeb9_row10_col6 {\n",
       "  background: yellow;\n",
       "}\n",
       "</style>\n",
       "<table id=\"T_5aeb9\">\n",
       "  <thead>\n",
       "    <tr>\n",
       "      <th class=\"blank level0\" >&nbsp;</th>\n",
       "      <th id=\"T_5aeb9_level0_col0\" class=\"col_heading level0 col0\" >Accuracy</th>\n",
       "      <th id=\"T_5aeb9_level0_col1\" class=\"col_heading level0 col1\" >AUC</th>\n",
       "      <th id=\"T_5aeb9_level0_col2\" class=\"col_heading level0 col2\" >Recall</th>\n",
       "      <th id=\"T_5aeb9_level0_col3\" class=\"col_heading level0 col3\" >Prec.</th>\n",
       "      <th id=\"T_5aeb9_level0_col4\" class=\"col_heading level0 col4\" >F1</th>\n",
       "      <th id=\"T_5aeb9_level0_col5\" class=\"col_heading level0 col5\" >Kappa</th>\n",
       "      <th id=\"T_5aeb9_level0_col6\" class=\"col_heading level0 col6\" >MCC</th>\n",
       "    </tr>\n",
       "    <tr>\n",
       "      <th class=\"index_name level0\" >Fold</th>\n",
       "      <th class=\"blank col0\" >&nbsp;</th>\n",
       "      <th class=\"blank col1\" >&nbsp;</th>\n",
       "      <th class=\"blank col2\" >&nbsp;</th>\n",
       "      <th class=\"blank col3\" >&nbsp;</th>\n",
       "      <th class=\"blank col4\" >&nbsp;</th>\n",
       "      <th class=\"blank col5\" >&nbsp;</th>\n",
       "      <th class=\"blank col6\" >&nbsp;</th>\n",
       "    </tr>\n",
       "  </thead>\n",
       "  <tbody>\n",
       "    <tr>\n",
       "      <th id=\"T_5aeb9_level0_row0\" class=\"row_heading level0 row0\" >0</th>\n",
       "      <td id=\"T_5aeb9_row0_col0\" class=\"data row0 col0\" >0.7266</td>\n",
       "      <td id=\"T_5aeb9_row0_col1\" class=\"data row0 col1\" >0.8435</td>\n",
       "      <td id=\"T_5aeb9_row0_col2\" class=\"data row0 col2\" >0.7433</td>\n",
       "      <td id=\"T_5aeb9_row0_col3\" class=\"data row0 col3\" >0.7195</td>\n",
       "      <td id=\"T_5aeb9_row0_col4\" class=\"data row0 col4\" >0.7312</td>\n",
       "      <td id=\"T_5aeb9_row0_col5\" class=\"data row0 col5\" >0.4532</td>\n",
       "      <td id=\"T_5aeb9_row0_col6\" class=\"data row0 col6\" >0.4534</td>\n",
       "    </tr>\n",
       "    <tr>\n",
       "      <th id=\"T_5aeb9_level0_row1\" class=\"row_heading level0 row1\" >1</th>\n",
       "      <td id=\"T_5aeb9_row1_col0\" class=\"data row1 col0\" >0.7266</td>\n",
       "      <td id=\"T_5aeb9_row1_col1\" class=\"data row1 col1\" >0.8419</td>\n",
       "      <td id=\"T_5aeb9_row1_col2\" class=\"data row1 col2\" >0.7395</td>\n",
       "      <td id=\"T_5aeb9_row1_col3\" class=\"data row1 col3\" >0.7210</td>\n",
       "      <td id=\"T_5aeb9_row1_col4\" class=\"data row1 col4\" >0.7302</td>\n",
       "      <td id=\"T_5aeb9_row1_col5\" class=\"data row1 col5\" >0.4532</td>\n",
       "      <td id=\"T_5aeb9_row1_col6\" class=\"data row1 col6\" >0.4533</td>\n",
       "    </tr>\n",
       "    <tr>\n",
       "      <th id=\"T_5aeb9_level0_row2\" class=\"row_heading level0 row2\" >2</th>\n",
       "      <td id=\"T_5aeb9_row2_col0\" class=\"data row2 col0\" >0.7249</td>\n",
       "      <td id=\"T_5aeb9_row2_col1\" class=\"data row2 col1\" >0.8420</td>\n",
       "      <td id=\"T_5aeb9_row2_col2\" class=\"data row2 col2\" >0.7433</td>\n",
       "      <td id=\"T_5aeb9_row2_col3\" class=\"data row2 col3\" >0.7171</td>\n",
       "      <td id=\"T_5aeb9_row2_col4\" class=\"data row2 col4\" >0.7300</td>\n",
       "      <td id=\"T_5aeb9_row2_col5\" class=\"data row2 col5\" >0.4499</td>\n",
       "      <td id=\"T_5aeb9_row2_col6\" class=\"data row2 col6\" >0.4502</td>\n",
       "    </tr>\n",
       "    <tr>\n",
       "      <th id=\"T_5aeb9_level0_row3\" class=\"row_heading level0 row3\" >3</th>\n",
       "      <td id=\"T_5aeb9_row3_col0\" class=\"data row3 col0\" >0.7283</td>\n",
       "      <td id=\"T_5aeb9_row3_col1\" class=\"data row3 col1\" >0.8448</td>\n",
       "      <td id=\"T_5aeb9_row3_col2\" class=\"data row3 col2\" >0.7419</td>\n",
       "      <td id=\"T_5aeb9_row3_col3\" class=\"data row3 col3\" >0.7224</td>\n",
       "      <td id=\"T_5aeb9_row3_col4\" class=\"data row3 col4\" >0.7320</td>\n",
       "      <td id=\"T_5aeb9_row3_col5\" class=\"data row3 col5\" >0.4566</td>\n",
       "      <td id=\"T_5aeb9_row3_col6\" class=\"data row3 col6\" >0.4567</td>\n",
       "    </tr>\n",
       "    <tr>\n",
       "      <th id=\"T_5aeb9_level0_row4\" class=\"row_heading level0 row4\" >4</th>\n",
       "      <td id=\"T_5aeb9_row4_col0\" class=\"data row4 col0\" >0.7258</td>\n",
       "      <td id=\"T_5aeb9_row4_col1\" class=\"data row4 col1\" >0.8427</td>\n",
       "      <td id=\"T_5aeb9_row4_col2\" class=\"data row4 col2\" >0.7388</td>\n",
       "      <td id=\"T_5aeb9_row4_col3\" class=\"data row4 col3\" >0.7202</td>\n",
       "      <td id=\"T_5aeb9_row4_col4\" class=\"data row4 col4\" >0.7294</td>\n",
       "      <td id=\"T_5aeb9_row4_col5\" class=\"data row4 col5\" >0.4516</td>\n",
       "      <td id=\"T_5aeb9_row4_col6\" class=\"data row4 col6\" >0.4518</td>\n",
       "    </tr>\n",
       "    <tr>\n",
       "      <th id=\"T_5aeb9_level0_row5\" class=\"row_heading level0 row5\" >5</th>\n",
       "      <td id=\"T_5aeb9_row5_col0\" class=\"data row5 col0\" >0.7251</td>\n",
       "      <td id=\"T_5aeb9_row5_col1\" class=\"data row5 col1\" >0.8421</td>\n",
       "      <td id=\"T_5aeb9_row5_col2\" class=\"data row5 col2\" >0.7383</td>\n",
       "      <td id=\"T_5aeb9_row5_col3\" class=\"data row5 col3\" >0.7195</td>\n",
       "      <td id=\"T_5aeb9_row5_col4\" class=\"data row5 col4\" >0.7288</td>\n",
       "      <td id=\"T_5aeb9_row5_col5\" class=\"data row5 col5\" >0.4502</td>\n",
       "      <td id=\"T_5aeb9_row5_col6\" class=\"data row5 col6\" >0.4504</td>\n",
       "    </tr>\n",
       "    <tr>\n",
       "      <th id=\"T_5aeb9_level0_row6\" class=\"row_heading level0 row6\" >6</th>\n",
       "      <td id=\"T_5aeb9_row6_col0\" class=\"data row6 col0\" >0.7236</td>\n",
       "      <td id=\"T_5aeb9_row6_col1\" class=\"data row6 col1\" >0.8406</td>\n",
       "      <td id=\"T_5aeb9_row6_col2\" class=\"data row6 col2\" >0.7398</td>\n",
       "      <td id=\"T_5aeb9_row6_col3\" class=\"data row6 col3\" >0.7167</td>\n",
       "      <td id=\"T_5aeb9_row6_col4\" class=\"data row6 col4\" >0.7281</td>\n",
       "      <td id=\"T_5aeb9_row6_col5\" class=\"data row6 col5\" >0.4472</td>\n",
       "      <td id=\"T_5aeb9_row6_col6\" class=\"data row6 col6\" >0.4475</td>\n",
       "    </tr>\n",
       "    <tr>\n",
       "      <th id=\"T_5aeb9_level0_row7\" class=\"row_heading level0 row7\" >7</th>\n",
       "      <td id=\"T_5aeb9_row7_col0\" class=\"data row7 col0\" >0.7257</td>\n",
       "      <td id=\"T_5aeb9_row7_col1\" class=\"data row7 col1\" >0.8436</td>\n",
       "      <td id=\"T_5aeb9_row7_col2\" class=\"data row7 col2\" >0.7391</td>\n",
       "      <td id=\"T_5aeb9_row7_col3\" class=\"data row7 col3\" >0.7200</td>\n",
       "      <td id=\"T_5aeb9_row7_col4\" class=\"data row7 col4\" >0.7294</td>\n",
       "      <td id=\"T_5aeb9_row7_col5\" class=\"data row7 col5\" >0.4514</td>\n",
       "      <td id=\"T_5aeb9_row7_col6\" class=\"data row7 col6\" >0.4516</td>\n",
       "    </tr>\n",
       "    <tr>\n",
       "      <th id=\"T_5aeb9_level0_row8\" class=\"row_heading level0 row8\" >8</th>\n",
       "      <td id=\"T_5aeb9_row8_col0\" class=\"data row8 col0\" >0.7235</td>\n",
       "      <td id=\"T_5aeb9_row8_col1\" class=\"data row8 col1\" >0.8399</td>\n",
       "      <td id=\"T_5aeb9_row8_col2\" class=\"data row8 col2\" >0.7420</td>\n",
       "      <td id=\"T_5aeb9_row8_col3\" class=\"data row8 col3\" >0.7157</td>\n",
       "      <td id=\"T_5aeb9_row8_col4\" class=\"data row8 col4\" >0.7286</td>\n",
       "      <td id=\"T_5aeb9_row8_col5\" class=\"data row8 col5\" >0.4469</td>\n",
       "      <td id=\"T_5aeb9_row8_col6\" class=\"data row8 col6\" >0.4472</td>\n",
       "    </tr>\n",
       "    <tr>\n",
       "      <th id=\"T_5aeb9_level0_row9\" class=\"row_heading level0 row9\" >9</th>\n",
       "      <td id=\"T_5aeb9_row9_col0\" class=\"data row9 col0\" >0.7257</td>\n",
       "      <td id=\"T_5aeb9_row9_col1\" class=\"data row9 col1\" >0.8423</td>\n",
       "      <td id=\"T_5aeb9_row9_col2\" class=\"data row9 col2\" >0.7382</td>\n",
       "      <td id=\"T_5aeb9_row9_col3\" class=\"data row9 col3\" >0.7203</td>\n",
       "      <td id=\"T_5aeb9_row9_col4\" class=\"data row9 col4\" >0.7292</td>\n",
       "      <td id=\"T_5aeb9_row9_col5\" class=\"data row9 col5\" >0.4513</td>\n",
       "      <td id=\"T_5aeb9_row9_col6\" class=\"data row9 col6\" >0.4515</td>\n",
       "    </tr>\n",
       "    <tr>\n",
       "      <th id=\"T_5aeb9_level0_row10\" class=\"row_heading level0 row10\" >Mean</th>\n",
       "      <td id=\"T_5aeb9_row10_col0\" class=\"data row10 col0\" >0.7256</td>\n",
       "      <td id=\"T_5aeb9_row10_col1\" class=\"data row10 col1\" >0.8424</td>\n",
       "      <td id=\"T_5aeb9_row10_col2\" class=\"data row10 col2\" >0.7404</td>\n",
       "      <td id=\"T_5aeb9_row10_col3\" class=\"data row10 col3\" >0.7192</td>\n",
       "      <td id=\"T_5aeb9_row10_col4\" class=\"data row10 col4\" >0.7297</td>\n",
       "      <td id=\"T_5aeb9_row10_col5\" class=\"data row10 col5\" >0.4512</td>\n",
       "      <td id=\"T_5aeb9_row10_col6\" class=\"data row10 col6\" >0.4514</td>\n",
       "    </tr>\n",
       "    <tr>\n",
       "      <th id=\"T_5aeb9_level0_row11\" class=\"row_heading level0 row11\" >Std</th>\n",
       "      <td id=\"T_5aeb9_row11_col0\" class=\"data row11 col0\" >0.0014</td>\n",
       "      <td id=\"T_5aeb9_row11_col1\" class=\"data row11 col1\" >0.0014</td>\n",
       "      <td id=\"T_5aeb9_row11_col2\" class=\"data row11 col2\" >0.0019</td>\n",
       "      <td id=\"T_5aeb9_row11_col3\" class=\"data row11 col3\" >0.0020</td>\n",
       "      <td id=\"T_5aeb9_row11_col4\" class=\"data row11 col4\" >0.0011</td>\n",
       "      <td id=\"T_5aeb9_row11_col5\" class=\"data row11 col5\" >0.0027</td>\n",
       "      <td id=\"T_5aeb9_row11_col6\" class=\"data row11 col6\" >0.0027</td>\n",
       "    </tr>\n",
       "  </tbody>\n",
       "</table>\n"
      ],
      "text/plain": [
       "<pandas.io.formats.style.Styler at 0x7ff68d732740>"
      ]
     },
     "metadata": {},
     "output_type": "display_data"
    },
    {
     "data": {
      "text/html": [],
      "text/plain": [
       "<IPython.core.display.HTML object>"
      ]
     },
     "metadata": {},
     "output_type": "display_data"
    }
   ],
   "source": [
    "knn = create_model('knn')"
   ]
  },
  {
   "cell_type": "code",
   "execution_count": 7,
   "metadata": {},
   "outputs": [
    {
     "data": {
      "text/html": [],
      "text/plain": [
       "<IPython.core.display.HTML object>"
      ]
     },
     "metadata": {},
     "output_type": "display_data"
    },
    {
     "data": {
      "image/png": "[encoded data removed]",
      "text/plain": [
       "<Figure size 800x550 with 1 Axes>"
      ]
     },
     "metadata": {},
     "output_type": "display_data"
    }
   ],
   "source": [
    "plot_model(knn, plot = 'confusion_matrix')"
   ]
  },
  {
   "cell_type": "code",
   "execution_count": 8,
   "metadata": {},
   "outputs": [
    {
     "data": {
      "text/html": [],
      "text/plain": [
       "<IPython.core.display.HTML object>"
      ]
     },
     "metadata": {},
     "output_type": "display_data"
    },
    {
     "data": {
      "image/png": "[encoded data removed]",
      "text/plain": [
       "<Figure size 800x550 with 1 Axes>"
      ]
     },
     "metadata": {},
     "output_type": "display_data"
    }
   ],
   "source": [
    "plot_model(knn, plot = 'error')"
   ]
  },
  {
   "cell_type": "code",
   "execution_count": 9,
   "metadata": {},
   "outputs": [
    {
     "data": {
      "text/html": [],
      "text/plain": [
       "<IPython.core.display.HTML object>"
      ]
     },
     "metadata": {},
     "output_type": "display_data"
    },
    {
     "data": {
      "text/html": [
       "<div>\n",
       "<style scoped>\n",
       "    .dataframe tbody tr th:only-of-type {\n",
       "        vertical-align: middle;\n",
       "    }\n",
       "\n",
       "    .dataframe tbody tr th {\n",
       "        vertical-align: top;\n",
       "    }\n",
       "\n",
       "    .dataframe thead th {\n",
       "        text-align: right;\n",
       "    }\n",
       "</style>\n",
       "<table border=\"1\" class=\"dataframe\">\n",
       "  <thead>\n",
       "    <tr style=\"text-align: right;\">\n",
       "      <th></th>\n",
       "      <th>Parameters</th>\n",
       "    </tr>\n",
       "  </thead>\n",
       "  <tbody>\n",
       "    <tr>\n",
       "      <th>algorithm</th>\n",
       "      <td>auto</td>\n",
       "    </tr>\n",
       "    <tr>\n",
       "      <th>leaf_size</th>\n",
       "      <td>30</td>\n",
       "    </tr>\n",
       "    <tr>\n",
       "      <th>metric</th>\n",
       "      <td>minkowski</td>\n",
       "    </tr>\n",
       "    <tr>\n",
       "      <th>metric_params</th>\n",
       "      <td>None</td>\n",
       "    </tr>\n",
       "    <tr>\n",
       "      <th>n_jobs</th>\n",
       "      <td>-1</td>\n",
       "    </tr>\n",
       "    <tr>\n",
       "      <th>n_neighbors</th>\n",
       "      <td>5</td>\n",
       "    </tr>\n",
       "    <tr>\n",
       "      <th>p</th>\n",
       "      <td>2</td>\n",
       "    </tr>\n",
       "    <tr>\n",
       "      <th>weights</th>\n",
       "      <td>uniform</td>\n",
       "    </tr>\n",
       "  </tbody>\n",
       "</table>\n",
       "</div>"
      ],
      "text/plain": [
       "              Parameters\n",
       "algorithm           auto\n",
       "leaf_size             30\n",
       "metric         minkowski\n",
       "metric_params       None\n",
       "n_jobs                -1\n",
       "n_neighbors            5\n",
       "p                      2\n",
       "weights          uniform"
      ]
     },
     "metadata": {},
     "output_type": "display_data"
    }
   ],
   "source": [
    "plot_model(knn, plot = 'parameter')"
   ]
  },
  {
   "cell_type": "code",
   "execution_count": 10,
   "metadata": {},
   "outputs": [
    {
     "name": "stdout",
     "output_type": "stream",
     "text": [
      "Transformation Pipeline and Model Successfully Saved\n"
     ]
    },
    {
     "data": {
      "text/plain": [
       "(Pipeline(memory=FastMemory(location=/tmp/joblib),\n",
       "          steps=[('numerical_imputer',\n",
       "                  TransformerWrapper(exclude=None,\n",
       "                                     include=['0', '1', '2', '3', '4', '5', '6',\n",
       "                                              '7', '8', '9', '10', '11', '12',\n",
       "                                              '13', '14', '15', '16', '17', '18',\n",
       "                                              '19', '20', '21', '22', '23', '24',\n",
       "                                              '25', '26', '27', '28', '29', ...],\n",
       "                                     transformer=SimpleImputer(add_indicator=False,\n",
       "                                                               copy=True,\n",
       "                                                               fill_value=None,\n",
       "                                                               keep_empty_feat...\n",
       "                  TransformerWrapper(exclude=None, include=[],\n",
       "                                     transformer=SimpleImputer(add_indicator=False,\n",
       "                                                               copy=True,\n",
       "                                                               fill_value=None,\n",
       "                                                               keep_empty_features=False,\n",
       "                                                               missing_values=nan,\n",
       "                                                               strategy='most_frequent',\n",
       "                                                               verbose='deprecated'))),\n",
       "                 ('trained_model',\n",
       "                  KNeighborsClassifier(algorithm='auto', leaf_size=30,\n",
       "                                       metric='minkowski', metric_params=None,\n",
       "                                       n_jobs=-1, n_neighbors=5, p=2,\n",
       "                                       weights='uniform'))],\n",
       "          verbose=False),\n",
       " 'models_classif/complex/binary_emb_val/knn.pkl')"
      ]
     },
     "execution_count": 10,
     "metadata": {},
     "output_type": "execute_result"
    }
   ],
   "source": [
    "save_model(knn, 'models_classif/complex/binary_emb_val/knn')"
   ]
  },
  {
   "cell_type": "markdown",
   "metadata": {},
   "source": [
    "# Naive Bayes"
   ]
  },
  {
   "cell_type": "code",
   "execution_count": 11,
   "metadata": {
    "tags": []
   },
   "outputs": [
    {
     "data": {
      "text/html": [],
      "text/plain": [
       "<IPython.core.display.HTML object>"
      ]
     },
     "metadata": {},
     "output_type": "display_data"
    },
    {
     "data": {
      "text/html": [
       "<style type=\"text/css\">\n",
       "#T_d05cd_row10_col0, #T_d05cd_row10_col1, #T_d05cd_row10_col2, #T_d05cd_row10_col3, #T_d05cd_row10_col4, #T_d05cd_row10_col5, #T_d05cd_row10_col6 {\n",
       "  background: yellow;\n",
       "}\n",
       "</style>\n",
       "<table id=\"T_d05cd\">\n",
       "  <thead>\n",
       "    <tr>\n",
       "      <th class=\"blank level0\" >&nbsp;</th>\n",
       "      <th id=\"T_d05cd_level0_col0\" class=\"col_heading level0 col0\" >Accuracy</th>\n",
       "      <th id=\"T_d05cd_level0_col1\" class=\"col_heading level0 col1\" >AUC</th>\n",
       "      <th id=\"T_d05cd_level0_col2\" class=\"col_heading level0 col2\" >Recall</th>\n",
       "      <th id=\"T_d05cd_level0_col3\" class=\"col_heading level0 col3\" >Prec.</th>\n",
       "      <th id=\"T_d05cd_level0_col4\" class=\"col_heading level0 col4\" >F1</th>\n",
       "      <th id=\"T_d05cd_level0_col5\" class=\"col_heading level0 col5\" >Kappa</th>\n",
       "      <th id=\"T_d05cd_level0_col6\" class=\"col_heading level0 col6\" >MCC</th>\n",
       "    </tr>\n",
       "    <tr>\n",
       "      <th class=\"index_name level0\" >Fold</th>\n",
       "      <th class=\"blank col0\" >&nbsp;</th>\n",
       "      <th class=\"blank col1\" >&nbsp;</th>\n",
       "      <th class=\"blank col2\" >&nbsp;</th>\n",
       "      <th class=\"blank col3\" >&nbsp;</th>\n",
       "      <th class=\"blank col4\" >&nbsp;</th>\n",
       "      <th class=\"blank col5\" >&nbsp;</th>\n",
       "      <th class=\"blank col6\" >&nbsp;</th>\n",
       "    </tr>\n",
       "  </thead>\n",
       "  <tbody>\n",
       "    <tr>\n",
       "      <th id=\"T_d05cd_level0_row0\" class=\"row_heading level0 row0\" >0</th>\n",
       "      <td id=\"T_d05cd_row0_col0\" class=\"data row0 col0\" >0.5211</td>\n",
       "      <td id=\"T_d05cd_row0_col1\" class=\"data row0 col1\" >0.5345</td>\n",
       "      <td id=\"T_d05cd_row0_col2\" class=\"data row0 col2\" >0.3298</td>\n",
       "      <td id=\"T_d05cd_row0_col3\" class=\"data row0 col3\" >0.5346</td>\n",
       "      <td id=\"T_d05cd_row0_col4\" class=\"data row0 col4\" >0.4079</td>\n",
       "      <td id=\"T_d05cd_row0_col5\" class=\"data row0 col5\" >0.0424</td>\n",
       "      <td id=\"T_d05cd_row0_col6\" class=\"data row0 col6\" >0.0459</td>\n",
       "    </tr>\n",
       "    <tr>\n",
       "      <th id=\"T_d05cd_level0_row1\" class=\"row_heading level0 row1\" >1</th>\n",
       "      <td id=\"T_d05cd_row1_col0\" class=\"data row1 col0\" >0.5213</td>\n",
       "      <td id=\"T_d05cd_row1_col1\" class=\"data row1 col1\" >0.5360</td>\n",
       "      <td id=\"T_d05cd_row1_col2\" class=\"data row1 col2\" >0.3351</td>\n",
       "      <td id=\"T_d05cd_row1_col3\" class=\"data row1 col3\" >0.5343</td>\n",
       "      <td id=\"T_d05cd_row1_col4\" class=\"data row1 col4\" >0.4118</td>\n",
       "      <td id=\"T_d05cd_row1_col5\" class=\"data row1 col5\" >0.0427</td>\n",
       "      <td id=\"T_d05cd_row1_col6\" class=\"data row1 col6\" >0.0461</td>\n",
       "    </tr>\n",
       "    <tr>\n",
       "      <th id=\"T_d05cd_level0_row2\" class=\"row_heading level0 row2\" >2</th>\n",
       "      <td id=\"T_d05cd_row2_col0\" class=\"data row2 col0\" >0.5212</td>\n",
       "      <td id=\"T_d05cd_row2_col1\" class=\"data row2 col1\" >0.5347</td>\n",
       "      <td id=\"T_d05cd_row2_col2\" class=\"data row2 col2\" >0.3308</td>\n",
       "      <td id=\"T_d05cd_row2_col3\" class=\"data row2 col3\" >0.5346</td>\n",
       "      <td id=\"T_d05cd_row2_col4\" class=\"data row2 col4\" >0.4087</td>\n",
       "      <td id=\"T_d05cd_row2_col5\" class=\"data row2 col5\" >0.0426</td>\n",
       "      <td id=\"T_d05cd_row2_col6\" class=\"data row2 col6\" >0.0461</td>\n",
       "    </tr>\n",
       "    <tr>\n",
       "      <th id=\"T_d05cd_level0_row3\" class=\"row_heading level0 row3\" >3</th>\n",
       "      <td id=\"T_d05cd_row3_col0\" class=\"data row3 col0\" >0.5202</td>\n",
       "      <td id=\"T_d05cd_row3_col1\" class=\"data row3 col1\" >0.5342</td>\n",
       "      <td id=\"T_d05cd_row3_col2\" class=\"data row3 col2\" >0.3334</td>\n",
       "      <td id=\"T_d05cd_row3_col3\" class=\"data row3 col3\" >0.5326</td>\n",
       "      <td id=\"T_d05cd_row3_col4\" class=\"data row3 col4\" >0.4101</td>\n",
       "      <td id=\"T_d05cd_row3_col5\" class=\"data row3 col5\" >0.0405</td>\n",
       "      <td id=\"T_d05cd_row3_col6\" class=\"data row3 col6\" >0.0437</td>\n",
       "    </tr>\n",
       "    <tr>\n",
       "      <th id=\"T_d05cd_level0_row4\" class=\"row_heading level0 row4\" >4</th>\n",
       "      <td id=\"T_d05cd_row4_col0\" class=\"data row4 col0\" >0.5223</td>\n",
       "      <td id=\"T_d05cd_row4_col1\" class=\"data row4 col1\" >0.5357</td>\n",
       "      <td id=\"T_d05cd_row4_col2\" class=\"data row4 col2\" >0.3269</td>\n",
       "      <td id=\"T_d05cd_row4_col3\" class=\"data row4 col3\" >0.5370</td>\n",
       "      <td id=\"T_d05cd_row4_col4\" class=\"data row4 col4\" >0.4064</td>\n",
       "      <td id=\"T_d05cd_row4_col5\" class=\"data row4 col5\" >0.0447</td>\n",
       "      <td id=\"T_d05cd_row4_col6\" class=\"data row4 col6\" >0.0486</td>\n",
       "    </tr>\n",
       "    <tr>\n",
       "      <th id=\"T_d05cd_level0_row5\" class=\"row_heading level0 row5\" >5</th>\n",
       "      <td id=\"T_d05cd_row5_col0\" class=\"data row5 col0\" >0.5213</td>\n",
       "      <td id=\"T_d05cd_row5_col1\" class=\"data row5 col1\" >0.5364</td>\n",
       "      <td id=\"T_d05cd_row5_col2\" class=\"data row5 col2\" >0.3318</td>\n",
       "      <td id=\"T_d05cd_row5_col3\" class=\"data row5 col3\" >0.5347</td>\n",
       "      <td id=\"T_d05cd_row5_col4\" class=\"data row5 col4\" >0.4095</td>\n",
       "      <td id=\"T_d05cd_row5_col5\" class=\"data row5 col5\" >0.0428</td>\n",
       "      <td id=\"T_d05cd_row5_col6\" class=\"data row5 col6\" >0.0463</td>\n",
       "    </tr>\n",
       "    <tr>\n",
       "      <th id=\"T_d05cd_level0_row6\" class=\"row_heading level0 row6\" >6</th>\n",
       "      <td id=\"T_d05cd_row6_col0\" class=\"data row6 col0\" >0.5213</td>\n",
       "      <td id=\"T_d05cd_row6_col1\" class=\"data row6 col1\" >0.5363</td>\n",
       "      <td id=\"T_d05cd_row6_col2\" class=\"data row6 col2\" >0.3282</td>\n",
       "      <td id=\"T_d05cd_row6_col3\" class=\"data row6 col3\" >0.5350</td>\n",
       "      <td id=\"T_d05cd_row6_col4\" class=\"data row6 col4\" >0.4068</td>\n",
       "      <td id=\"T_d05cd_row6_col5\" class=\"data row6 col5\" >0.0427</td>\n",
       "      <td id=\"T_d05cd_row6_col6\" class=\"data row6 col6\" >0.0463</td>\n",
       "    </tr>\n",
       "    <tr>\n",
       "      <th id=\"T_d05cd_level0_row7\" class=\"row_heading level0 row7\" >7</th>\n",
       "      <td id=\"T_d05cd_row7_col0\" class=\"data row7 col0\" >0.5217</td>\n",
       "      <td id=\"T_d05cd_row7_col1\" class=\"data row7 col1\" >0.5345</td>\n",
       "      <td id=\"T_d05cd_row7_col2\" class=\"data row7 col2\" >0.3317</td>\n",
       "      <td id=\"T_d05cd_row7_col3\" class=\"data row7 col3\" >0.5353</td>\n",
       "      <td id=\"T_d05cd_row7_col4\" class=\"data row7 col4\" >0.4096</td>\n",
       "      <td id=\"T_d05cd_row7_col5\" class=\"data row7 col5\" >0.0435</td>\n",
       "      <td id=\"T_d05cd_row7_col6\" class=\"data row7 col6\" >0.0470</td>\n",
       "    </tr>\n",
       "    <tr>\n",
       "      <th id=\"T_d05cd_level0_row8\" class=\"row_heading level0 row8\" >8</th>\n",
       "      <td id=\"T_d05cd_row8_col0\" class=\"data row8 col0\" >0.5219</td>\n",
       "      <td id=\"T_d05cd_row8_col1\" class=\"data row8 col1\" >0.5373</td>\n",
       "      <td id=\"T_d05cd_row8_col2\" class=\"data row8 col2\" >0.3366</td>\n",
       "      <td id=\"T_d05cd_row8_col3\" class=\"data row8 col3\" >0.5352</td>\n",
       "      <td id=\"T_d05cd_row8_col4\" class=\"data row8 col4\" >0.4133</td>\n",
       "      <td id=\"T_d05cd_row8_col5\" class=\"data row8 col5\" >0.0440</td>\n",
       "      <td id=\"T_d05cd_row8_col6\" class=\"data row8 col6\" >0.0474</td>\n",
       "    </tr>\n",
       "    <tr>\n",
       "      <th id=\"T_d05cd_level0_row9\" class=\"row_heading level0 row9\" >9</th>\n",
       "      <td id=\"T_d05cd_row9_col0\" class=\"data row9 col0\" >0.5255</td>\n",
       "      <td id=\"T_d05cd_row9_col1\" class=\"data row9 col1\" >0.5382</td>\n",
       "      <td id=\"T_d05cd_row9_col2\" class=\"data row9 col2\" >0.3391</td>\n",
       "      <td id=\"T_d05cd_row9_col3\" class=\"data row9 col3\" >0.5411</td>\n",
       "      <td id=\"T_d05cd_row9_col4\" class=\"data row9 col4\" >0.4169</td>\n",
       "      <td id=\"T_d05cd_row9_col5\" class=\"data row9 col5\" >0.0512</td>\n",
       "      <td id=\"T_d05cd_row9_col6\" class=\"data row9 col6\" >0.0552</td>\n",
       "    </tr>\n",
       "    <tr>\n",
       "      <th id=\"T_d05cd_level0_row10\" class=\"row_heading level0 row10\" >Mean</th>\n",
       "      <td id=\"T_d05cd_row10_col0\" class=\"data row10 col0\" >0.5218</td>\n",
       "      <td id=\"T_d05cd_row10_col1\" class=\"data row10 col1\" >0.5358</td>\n",
       "      <td id=\"T_d05cd_row10_col2\" class=\"data row10 col2\" >0.3323</td>\n",
       "      <td id=\"T_d05cd_row10_col3\" class=\"data row10 col3\" >0.5354</td>\n",
       "      <td id=\"T_d05cd_row10_col4\" class=\"data row10 col4\" >0.4101</td>\n",
       "      <td id=\"T_d05cd_row10_col5\" class=\"data row10 col5\" >0.0437</td>\n",
       "      <td id=\"T_d05cd_row10_col6\" class=\"data row10 col6\" >0.0473</td>\n",
       "    </tr>\n",
       "    <tr>\n",
       "      <th id=\"T_d05cd_level0_row11\" class=\"row_heading level0 row11\" >Std</th>\n",
       "      <td id=\"T_d05cd_row11_col0\" class=\"data row11 col0\" >0.0014</td>\n",
       "      <td id=\"T_d05cd_row11_col1\" class=\"data row11 col1\" >0.0013</td>\n",
       "      <td id=\"T_d05cd_row11_col2\" class=\"data row11 col2\" >0.0036</td>\n",
       "      <td id=\"T_d05cd_row11_col3\" class=\"data row11 col3\" >0.0021</td>\n",
       "      <td id=\"T_d05cd_row11_col4\" class=\"data row11 col4\" >0.0030</td>\n",
       "      <td id=\"T_d05cd_row11_col5\" class=\"data row11 col5\" >0.0027</td>\n",
       "      <td id=\"T_d05cd_row11_col6\" class=\"data row11 col6\" >0.0029</td>\n",
       "    </tr>\n",
       "  </tbody>\n",
       "</table>\n"
      ],
      "text/plain": [
       "<pandas.io.formats.style.Styler at 0x7ff68d76e5c0>"
      ]
     },
     "metadata": {},
     "output_type": "display_data"
    },
    {
     "data": {
      "text/html": [],
      "text/plain": [
       "<IPython.core.display.HTML object>"
      ]
     },
     "metadata": {},
     "output_type": "display_data"
    }
   ],
   "source": [
    "nb = create_model('nb')"
   ]
  },
  {
   "cell_type": "code",
   "execution_count": 12,
   "metadata": {},
   "outputs": [
    {
     "data": {
      "text/html": [],
      "text/plain": [
       "<IPython.core.display.HTML object>"
      ]
     },
     "metadata": {},
     "output_type": "display_data"
    },
    {
     "data": {
      "image/png": "[encoded data removed]",
      "text/plain": [
       "<Figure size 800x550 with 1 Axes>"
      ]
     },
     "metadata": {},
     "output_type": "display_data"
    }
   ],
   "source": [
    "plot_model(nb, plot = 'confusion_matrix')"
   ]
  },
  {
   "cell_type": "code",
   "execution_count": 13,
   "metadata": {},
   "outputs": [
    {
     "data": {
      "text/html": [],
      "text/plain": [
       "<IPython.core.display.HTML object>"
      ]
     },
     "metadata": {},
     "output_type": "display_data"
    },
    {
     "data": {
      "image/png": "[encoded data removed]",
      "text/plain": [
       "<Figure size 800x550 with 1 Axes>"
      ]
     },
     "metadata": {},
     "output_type": "display_data"
    }
   ],
   "source": [
    "plot_model(nb, plot = 'error')"
   ]
  },
  {
   "cell_type": "code",
   "execution_count": 14,
   "metadata": {},
   "outputs": [
    {
     "data": {
      "text/html": [],
      "text/plain": [
       "<IPython.core.display.HTML object>"
      ]
     },
     "metadata": {},
     "output_type": "display_data"
    },
    {
     "data": {
      "text/html": [
       "<div>\n",
       "<style scoped>\n",
       "    .dataframe tbody tr th:only-of-type {\n",
       "        vertical-align: middle;\n",
       "    }\n",
       "\n",
       "    .dataframe tbody tr th {\n",
       "        vertical-align: top;\n",
       "    }\n",
       "\n",
       "    .dataframe thead th {\n",
       "        text-align: right;\n",
       "    }\n",
       "</style>\n",
       "<table border=\"1\" class=\"dataframe\">\n",
       "  <thead>\n",
       "    <tr style=\"text-align: right;\">\n",
       "      <th></th>\n",
       "      <th>Parameters</th>\n",
       "    </tr>\n",
       "  </thead>\n",
       "  <tbody>\n",
       "    <tr>\n",
       "      <th>priors</th>\n",
       "      <td>None</td>\n",
       "    </tr>\n",
       "    <tr>\n",
       "      <th>var_smoothing</th>\n",
       "      <td>1e-09</td>\n",
       "    </tr>\n",
       "  </tbody>\n",
       "</table>\n",
       "</div>"
      ],
      "text/plain": [
       "              Parameters\n",
       "priors              None\n",
       "var_smoothing      1e-09"
      ]
     },
     "metadata": {},
     "output_type": "display_data"
    }
   ],
   "source": [
    "plot_model(nb, plot = 'parameter')"
   ]
  },
  {
   "cell_type": "code",
   "execution_count": 15,
   "metadata": {},
   "outputs": [
    {
     "name": "stdout",
     "output_type": "stream",
     "text": [
      "Transformation Pipeline and Model Successfully Saved\n"
     ]
    },
    {
     "data": {
      "text/plain": [
       "(Pipeline(memory=FastMemory(location=/tmp/joblib),\n",
       "          steps=[('numerical_imputer',\n",
       "                  TransformerWrapper(exclude=None,\n",
       "                                     include=['0', '1', '2', '3', '4', '5', '6',\n",
       "                                              '7', '8', '9', '10', '11', '12',\n",
       "                                              '13', '14', '15', '16', '17', '18',\n",
       "                                              '19', '20', '21', '22', '23', '24',\n",
       "                                              '25', '26', '27', '28', '29', ...],\n",
       "                                     transformer=SimpleImputer(add_indicator=False,\n",
       "                                                               copy=True,\n",
       "                                                               fill_value=None,\n",
       "                                                               keep_empty_feat...\n",
       "                                                               missing_values=nan,\n",
       "                                                               strategy='mean',\n",
       "                                                               verbose='deprecated'))),\n",
       "                 ('categorical_imputer',\n",
       "                  TransformerWrapper(exclude=None, include=[],\n",
       "                                     transformer=SimpleImputer(add_indicator=False,\n",
       "                                                               copy=True,\n",
       "                                                               fill_value=None,\n",
       "                                                               keep_empty_features=False,\n",
       "                                                               missing_values=nan,\n",
       "                                                               strategy='most_frequent',\n",
       "                                                               verbose='deprecated'))),\n",
       "                 ('trained_model',\n",
       "                  GaussianNB(priors=None, var_smoothing=1e-09))],\n",
       "          verbose=False),\n",
       " 'models_classif/complex/binary_emb_val/nb.pkl')"
      ]
     },
     "execution_count": 15,
     "metadata": {},
     "output_type": "execute_result"
    }
   ],
   "source": [
    "save_model(nb, 'models_classif/complex/binary_emb_val/nb')"
   ]
  },
  {
   "cell_type": "markdown",
   "metadata": {},
   "source": [
    "# Decision Tree Classifier"
   ]
  },
  {
   "cell_type": "code",
   "execution_count": 16,
   "metadata": {},
   "outputs": [
    {
     "data": {
      "text/html": [],
      "text/plain": [
       "<IPython.core.display.HTML object>"
      ]
     },
     "metadata": {},
     "output_type": "display_data"
    },
    {
     "data": {
      "text/html": [
       "<style type=\"text/css\">\n",
       "#T_a44a3_row10_col0, #T_a44a3_row10_col1, #T_a44a3_row10_col2, #T_a44a3_row10_col3, #T_a44a3_row10_col4, #T_a44a3_row10_col5, #T_a44a3_row10_col6 {\n",
       "  background: yellow;\n",
       "}\n",
       "</style>\n",
       "<table id=\"T_a44a3\">\n",
       "  <thead>\n",
       "    <tr>\n",
       "      <th class=\"blank level0\" >&nbsp;</th>\n",
       "      <th id=\"T_a44a3_level0_col0\" class=\"col_heading level0 col0\" >Accuracy</th>\n",
       "      <th id=\"T_a44a3_level0_col1\" class=\"col_heading level0 col1\" >AUC</th>\n",
       "      <th id=\"T_a44a3_level0_col2\" class=\"col_heading level0 col2\" >Recall</th>\n",
       "      <th id=\"T_a44a3_level0_col3\" class=\"col_heading level0 col3\" >Prec.</th>\n",
       "      <th id=\"T_a44a3_level0_col4\" class=\"col_heading level0 col4\" >F1</th>\n",
       "      <th id=\"T_a44a3_level0_col5\" class=\"col_heading level0 col5\" >Kappa</th>\n",
       "      <th id=\"T_a44a3_level0_col6\" class=\"col_heading level0 col6\" >MCC</th>\n",
       "    </tr>\n",
       "    <tr>\n",
       "      <th class=\"index_name level0\" >Fold</th>\n",
       "      <th class=\"blank col0\" >&nbsp;</th>\n",
       "      <th class=\"blank col1\" >&nbsp;</th>\n",
       "      <th class=\"blank col2\" >&nbsp;</th>\n",
       "      <th class=\"blank col3\" >&nbsp;</th>\n",
       "      <th class=\"blank col4\" >&nbsp;</th>\n",
       "      <th class=\"blank col5\" >&nbsp;</th>\n",
       "      <th class=\"blank col6\" >&nbsp;</th>\n",
       "    </tr>\n",
       "  </thead>\n",
       "  <tbody>\n",
       "    <tr>\n",
       "      <th id=\"T_a44a3_level0_row0\" class=\"row_heading level0 row0\" >0</th>\n",
       "      <td id=\"T_a44a3_row0_col0\" class=\"data row0 col0\" >0.7452</td>\n",
       "      <td id=\"T_a44a3_row0_col1\" class=\"data row0 col1\" >0.8678</td>\n",
       "      <td id=\"T_a44a3_row0_col2\" class=\"data row0 col2\" >0.5053</td>\n",
       "      <td id=\"T_a44a3_row0_col3\" class=\"data row0 col3\" >0.9717</td>\n",
       "      <td id=\"T_a44a3_row0_col4\" class=\"data row0 col4\" >0.6649</td>\n",
       "      <td id=\"T_a44a3_row0_col5\" class=\"data row0 col5\" >0.4905</td>\n",
       "      <td id=\"T_a44a3_row0_col6\" class=\"data row0 col6\" >0.5591</td>\n",
       "    </tr>\n",
       "    <tr>\n",
       "      <th id=\"T_a44a3_level0_row1\" class=\"row_heading level0 row1\" >1</th>\n",
       "      <td id=\"T_a44a3_row1_col0\" class=\"data row1 col0\" >0.7438</td>\n",
       "      <td id=\"T_a44a3_row1_col1\" class=\"data row1 col1\" >0.8659</td>\n",
       "      <td id=\"T_a44a3_row1_col2\" class=\"data row1 col2\" >0.4997</td>\n",
       "      <td id=\"T_a44a3_row1_col3\" class=\"data row1 col3\" >0.9768</td>\n",
       "      <td id=\"T_a44a3_row1_col4\" class=\"data row1 col4\" >0.6611</td>\n",
       "      <td id=\"T_a44a3_row1_col5\" class=\"data row1 col5\" >0.4877</td>\n",
       "      <td id=\"T_a44a3_row1_col6\" class=\"data row1 col6\" >0.5589</td>\n",
       "    </tr>\n",
       "    <tr>\n",
       "      <th id=\"T_a44a3_level0_row2\" class=\"row_heading level0 row2\" >2</th>\n",
       "      <td id=\"T_a44a3_row2_col0\" class=\"data row2 col0\" >0.7431</td>\n",
       "      <td id=\"T_a44a3_row2_col1\" class=\"data row2 col1\" >0.8652</td>\n",
       "      <td id=\"T_a44a3_row2_col2\" class=\"data row2 col2\" >0.5063</td>\n",
       "      <td id=\"T_a44a3_row2_col3\" class=\"data row2 col3\" >0.9624</td>\n",
       "      <td id=\"T_a44a3_row2_col4\" class=\"data row2 col4\" >0.6635</td>\n",
       "      <td id=\"T_a44a3_row2_col5\" class=\"data row2 col5\" >0.4864</td>\n",
       "      <td id=\"T_a44a3_row2_col6\" class=\"data row2 col6\" >0.5524</td>\n",
       "    </tr>\n",
       "    <tr>\n",
       "      <th id=\"T_a44a3_level0_row3\" class=\"row_heading level0 row3\" >3</th>\n",
       "      <td id=\"T_a44a3_row3_col0\" class=\"data row3 col0\" >0.7434</td>\n",
       "      <td id=\"T_a44a3_row3_col1\" class=\"data row3 col1\" >0.8664</td>\n",
       "      <td id=\"T_a44a3_row3_col2\" class=\"data row3 col2\" >0.5021</td>\n",
       "      <td id=\"T_a44a3_row3_col3\" class=\"data row3 col3\" >0.9708</td>\n",
       "      <td id=\"T_a44a3_row3_col4\" class=\"data row3 col4\" >0.6619</td>\n",
       "      <td id=\"T_a44a3_row3_col5\" class=\"data row3 col5\" >0.4869</td>\n",
       "      <td id=\"T_a44a3_row3_col6\" class=\"data row3 col6\" >0.5560</td>\n",
       "    </tr>\n",
       "    <tr>\n",
       "      <th id=\"T_a44a3_level0_row4\" class=\"row_heading level0 row4\" >4</th>\n",
       "      <td id=\"T_a44a3_row4_col0\" class=\"data row4 col0\" >0.7428</td>\n",
       "      <td id=\"T_a44a3_row4_col1\" class=\"data row4 col1\" >0.8654</td>\n",
       "      <td id=\"T_a44a3_row4_col2\" class=\"data row4 col2\" >0.4974</td>\n",
       "      <td id=\"T_a44a3_row4_col3\" class=\"data row4 col3\" >0.9772</td>\n",
       "      <td id=\"T_a44a3_row4_col4\" class=\"data row4 col4\" >0.6592</td>\n",
       "      <td id=\"T_a44a3_row4_col5\" class=\"data row4 col5\" >0.4857</td>\n",
       "      <td id=\"T_a44a3_row4_col6\" class=\"data row4 col6\" >0.5575</td>\n",
       "    </tr>\n",
       "    <tr>\n",
       "      <th id=\"T_a44a3_level0_row5\" class=\"row_heading level0 row5\" >5</th>\n",
       "      <td id=\"T_a44a3_row5_col0\" class=\"data row5 col0\" >0.7439</td>\n",
       "      <td id=\"T_a44a3_row5_col1\" class=\"data row5 col1\" >0.8661</td>\n",
       "      <td id=\"T_a44a3_row5_col2\" class=\"data row5 col2\" >0.5031</td>\n",
       "      <td id=\"T_a44a3_row5_col3\" class=\"data row5 col3\" >0.9709</td>\n",
       "      <td id=\"T_a44a3_row5_col4\" class=\"data row5 col4\" >0.6628</td>\n",
       "      <td id=\"T_a44a3_row5_col5\" class=\"data row5 col5\" >0.4879</td>\n",
       "      <td id=\"T_a44a3_row5_col6\" class=\"data row5 col6\" >0.5569</td>\n",
       "    </tr>\n",
       "    <tr>\n",
       "      <th id=\"T_a44a3_level0_row6\" class=\"row_heading level0 row6\" >6</th>\n",
       "      <td id=\"T_a44a3_row6_col0\" class=\"data row6 col0\" >0.7396</td>\n",
       "      <td id=\"T_a44a3_row6_col1\" class=\"data row6 col1\" >0.8620</td>\n",
       "      <td id=\"T_a44a3_row6_col2\" class=\"data row6 col2\" >0.5008</td>\n",
       "      <td id=\"T_a44a3_row6_col3\" class=\"data row6 col3\" >0.9591</td>\n",
       "      <td id=\"T_a44a3_row6_col4\" class=\"data row6 col4\" >0.6580</td>\n",
       "      <td id=\"T_a44a3_row6_col5\" class=\"data row6 col5\" >0.4793</td>\n",
       "      <td id=\"T_a44a3_row6_col6\" class=\"data row6 col6\" >0.5457</td>\n",
       "    </tr>\n",
       "    <tr>\n",
       "      <th id=\"T_a44a3_level0_row7\" class=\"row_heading level0 row7\" >7</th>\n",
       "      <td id=\"T_a44a3_row7_col0\" class=\"data row7 col0\" >0.7401</td>\n",
       "      <td id=\"T_a44a3_row7_col1\" class=\"data row7 col1\" >0.8631</td>\n",
       "      <td id=\"T_a44a3_row7_col2\" class=\"data row7 col2\" >0.4967</td>\n",
       "      <td id=\"T_a44a3_row7_col3\" class=\"data row7 col3\" >0.9680</td>\n",
       "      <td id=\"T_a44a3_row7_col4\" class=\"data row7 col4\" >0.6566</td>\n",
       "      <td id=\"T_a44a3_row7_col5\" class=\"data row7 col5\" >0.4802</td>\n",
       "      <td id=\"T_a44a3_row7_col6\" class=\"data row7 col6\" >0.5498</td>\n",
       "    </tr>\n",
       "    <tr>\n",
       "      <th id=\"T_a44a3_level0_row8\" class=\"row_heading level0 row8\" >8</th>\n",
       "      <td id=\"T_a44a3_row8_col0\" class=\"data row8 col0\" >0.7388</td>\n",
       "      <td id=\"T_a44a3_row8_col1\" class=\"data row8 col1\" >0.8608</td>\n",
       "      <td id=\"T_a44a3_row8_col2\" class=\"data row8 col2\" >0.5049</td>\n",
       "      <td id=\"T_a44a3_row8_col3\" class=\"data row8 col3\" >0.9491</td>\n",
       "      <td id=\"T_a44a3_row8_col4\" class=\"data row8 col4\" >0.6591</td>\n",
       "      <td id=\"T_a44a3_row8_col5\" class=\"data row8 col5\" >0.4777</td>\n",
       "      <td id=\"T_a44a3_row8_col6\" class=\"data row8 col6\" >0.5406</td>\n",
       "    </tr>\n",
       "    <tr>\n",
       "      <th id=\"T_a44a3_level0_row9\" class=\"row_heading level0 row9\" >9</th>\n",
       "      <td id=\"T_a44a3_row9_col0\" class=\"data row9 col0\" >0.7432</td>\n",
       "      <td id=\"T_a44a3_row9_col1\" class=\"data row9 col1\" >0.8659</td>\n",
       "      <td id=\"T_a44a3_row9_col2\" class=\"data row9 col2\" >0.4989</td>\n",
       "      <td id=\"T_a44a3_row9_col3\" class=\"data row9 col3\" >0.9761</td>\n",
       "      <td id=\"T_a44a3_row9_col4\" class=\"data row9 col4\" >0.6603</td>\n",
       "      <td id=\"T_a44a3_row9_col5\" class=\"data row9 col5\" >0.4865</td>\n",
       "      <td id=\"T_a44a3_row9_col6\" class=\"data row9 col6\" >0.5578</td>\n",
       "    </tr>\n",
       "    <tr>\n",
       "      <th id=\"T_a44a3_level0_row10\" class=\"row_heading level0 row10\" >Mean</th>\n",
       "      <td id=\"T_a44a3_row10_col0\" class=\"data row10 col0\" >0.7424</td>\n",
       "      <td id=\"T_a44a3_row10_col1\" class=\"data row10 col1\" >0.8649</td>\n",
       "      <td id=\"T_a44a3_row10_col2\" class=\"data row10 col2\" >0.5015</td>\n",
       "      <td id=\"T_a44a3_row10_col3\" class=\"data row10 col3\" >0.9682</td>\n",
       "      <td id=\"T_a44a3_row10_col4\" class=\"data row10 col4\" >0.6607</td>\n",
       "      <td id=\"T_a44a3_row10_col5\" class=\"data row10 col5\" >0.4849</td>\n",
       "      <td id=\"T_a44a3_row10_col6\" class=\"data row10 col6\" >0.5535</td>\n",
       "    </tr>\n",
       "    <tr>\n",
       "      <th id=\"T_a44a3_level0_row11\" class=\"row_heading level0 row11\" >Std</th>\n",
       "      <td id=\"T_a44a3_row11_col0\" class=\"data row11 col0\" >0.0020</td>\n",
       "      <td id=\"T_a44a3_row11_col1\" class=\"data row11 col1\" >0.0021</td>\n",
       "      <td id=\"T_a44a3_row11_col2\" class=\"data row11 col2\" >0.0032</td>\n",
       "      <td id=\"T_a44a3_row11_col3\" class=\"data row11 col3\" >0.0085</td>\n",
       "      <td id=\"T_a44a3_row11_col4\" class=\"data row11 col4\" >0.0025</td>\n",
       "      <td id=\"T_a44a3_row11_col5\" class=\"data row11 col5\" >0.0040</td>\n",
       "      <td id=\"T_a44a3_row11_col6\" class=\"data row11 col6\" >0.0060</td>\n",
       "    </tr>\n",
       "  </tbody>\n",
       "</table>\n"
      ],
      "text/plain": [
       "<pandas.io.formats.style.Styler at 0x7ff68d86d960>"
      ]
     },
     "metadata": {},
     "output_type": "display_data"
    },
    {
     "data": {
      "text/html": [],
      "text/plain": [
       "<IPython.core.display.HTML object>"
      ]
     },
     "metadata": {},
     "output_type": "display_data"
    }
   ],
   "source": [
    "dt = create_model('dt')"
   ]
  },
  {
   "cell_type": "code",
   "execution_count": 17,
   "metadata": {},
   "outputs": [
    {
     "data": {
      "text/html": [],
      "text/plain": [
       "<IPython.core.display.HTML object>"
      ]
     },
     "metadata": {},
     "output_type": "display_data"
    },
    {
     "data": {
      "image/png": "[encoded data removed]",
      "text/plain": [
       "<Figure size 800x550 with 1 Axes>"
      ]
     },
     "metadata": {},
     "output_type": "display_data"
    }
   ],
   "source": [
    "plot_model(dt, plot = 'confusion_matrix')"
   ]
  },
  {
   "cell_type": "code",
   "execution_count": 18,
   "metadata": {},
   "outputs": [
    {
     "data": {
      "text/html": [],
      "text/plain": [
       "<IPython.core.display.HTML object>"
      ]
     },
     "metadata": {},
     "output_type": "display_data"
    },
    {
     "data": {
      "image/png": "[encoded data removed]",
      "text/plain": [
       "<Figure size 800x550 with 1 Axes>"
      ]
     },
     "metadata": {},
     "output_type": "display_data"
    }
   ],
   "source": [
    "plot_model(dt, plot = 'error')"
   ]
  },
  {
   "cell_type": "code",
   "execution_count": 19,
   "metadata": {},
   "outputs": [
    {
     "data": {
      "text/html": [],
      "text/plain": [
       "<IPython.core.display.HTML object>"
      ]
     },
     "metadata": {},
     "output_type": "display_data"
    },
    {
     "data": {
      "text/html": [
       "<div>\n",
       "<style scoped>\n",
       "    .dataframe tbody tr th:only-of-type {\n",
       "        vertical-align: middle;\n",
       "    }\n",
       "\n",
       "    .dataframe tbody tr th {\n",
       "        vertical-align: top;\n",
       "    }\n",
       "\n",
       "    .dataframe thead th {\n",
       "        text-align: right;\n",
       "    }\n",
       "</style>\n",
       "<table border=\"1\" class=\"dataframe\">\n",
       "  <thead>\n",
       "    <tr style=\"text-align: right;\">\n",
       "      <th></th>\n",
       "      <th>Parameters</th>\n",
       "    </tr>\n",
       "  </thead>\n",
       "  <tbody>\n",
       "    <tr>\n",
       "      <th>ccp_alpha</th>\n",
       "      <td>0.0</td>\n",
       "    </tr>\n",
       "    <tr>\n",
       "      <th>class_weight</th>\n",
       "      <td>None</td>\n",
       "    </tr>\n",
       "    <tr>\n",
       "      <th>criterion</th>\n",
       "      <td>gini</td>\n",
       "    </tr>\n",
       "    <tr>\n",
       "      <th>max_depth</th>\n",
       "      <td>None</td>\n",
       "    </tr>\n",
       "    <tr>\n",
       "      <th>max_features</th>\n",
       "      <td>None</td>\n",
       "    </tr>\n",
       "    <tr>\n",
       "      <th>max_leaf_nodes</th>\n",
       "      <td>None</td>\n",
       "    </tr>\n",
       "    <tr>\n",
       "      <th>min_impurity_decrease</th>\n",
       "      <td>0.0</td>\n",
       "    </tr>\n",
       "    <tr>\n",
       "      <th>min_samples_leaf</th>\n",
       "      <td>1</td>\n",
       "    </tr>\n",
       "    <tr>\n",
       "      <th>min_samples_split</th>\n",
       "      <td>2</td>\n",
       "    </tr>\n",
       "    <tr>\n",
       "      <th>min_weight_fraction_leaf</th>\n",
       "      <td>0.0</td>\n",
       "    </tr>\n",
       "    <tr>\n",
       "      <th>random_state</th>\n",
       "      <td>8931</td>\n",
       "    </tr>\n",
       "    <tr>\n",
       "      <th>splitter</th>\n",
       "      <td>best</td>\n",
       "    </tr>\n",
       "  </tbody>\n",
       "</table>\n",
       "</div>"
      ],
      "text/plain": [
       "                         Parameters\n",
       "ccp_alpha                       0.0\n",
       "class_weight                   None\n",
       "criterion                      gini\n",
       "max_depth                      None\n",
       "max_features                   None\n",
       "max_leaf_nodes                 None\n",
       "min_impurity_decrease           0.0\n",
       "min_samples_leaf                  1\n",
       "min_samples_split                 2\n",
       "min_weight_fraction_leaf        0.0\n",
       "random_state                   8931\n",
       "splitter                       best"
      ]
     },
     "metadata": {},
     "output_type": "display_data"
    }
   ],
   "source": [
    "plot_model(dt, plot = 'parameter')"
   ]
  },
  {
   "cell_type": "code",
   "execution_count": 20,
   "metadata": {},
   "outputs": [
    {
     "name": "stdout",
     "output_type": "stream",
     "text": [
      "Transformation Pipeline and Model Successfully Saved\n"
     ]
    },
    {
     "data": {
      "text/plain": [
       "(Pipeline(memory=FastMemory(location=/tmp/joblib),\n",
       "          steps=[('numerical_imputer',\n",
       "                  TransformerWrapper(exclude=None,\n",
       "                                     include=['0', '1', '2', '3', '4', '5', '6',\n",
       "                                              '7', '8', '9', '10', '11', '12',\n",
       "                                              '13', '14', '15', '16', '17', '18',\n",
       "                                              '19', '20', '21', '22', '23', '24',\n",
       "                                              '25', '26', '27', '28', '29', ...],\n",
       "                                     transformer=SimpleImputer(add_indicator=False,\n",
       "                                                               copy=True,\n",
       "                                                               fill_value=None,\n",
       "                                                               keep_empty_feat...\n",
       "                                                               missing_values=nan,\n",
       "                                                               strategy='most_frequent',\n",
       "                                                               verbose='deprecated'))),\n",
       "                 ('trained_model',\n",
       "                  DecisionTreeClassifier(ccp_alpha=0.0, class_weight=None,\n",
       "                                         criterion='gini', max_depth=None,\n",
       "                                         max_features=None, max_leaf_nodes=None,\n",
       "                                         min_impurity_decrease=0.0,\n",
       "                                         min_samples_leaf=1, min_samples_split=2,\n",
       "                                         min_weight_fraction_leaf=0.0,\n",
       "                                         random_state=8931, splitter='best'))],\n",
       "          verbose=False),\n",
       " 'models_classif/complex/binary_emb_val/dt.pkl')"
      ]
     },
     "execution_count": 20,
     "metadata": {},
     "output_type": "execute_result"
    }
   ],
   "source": [
    "save_model(dt, 'models_classif/complex/binary_emb_val/dt')"
   ]
  },
  {
   "cell_type": "markdown",
   "metadata": {},
   "source": [
    "# SVM - Linear Kernel"
   ]
  },
  {
   "cell_type": "code",
   "execution_count": 21,
   "metadata": {},
   "outputs": [
    {
     "data": {
      "text/html": [],
      "text/plain": [
       "<IPython.core.display.HTML object>"
      ]
     },
     "metadata": {},
     "output_type": "display_data"
    },
    {
     "data": {
      "text/html": [
       "<style type=\"text/css\">\n",
       "#T_4cfbd_row10_col0, #T_4cfbd_row10_col1, #T_4cfbd_row10_col2, #T_4cfbd_row10_col3, #T_4cfbd_row10_col4, #T_4cfbd_row10_col5, #T_4cfbd_row10_col6 {\n",
       "  background: yellow;\n",
       "}\n",
       "</style>\n",
       "<table id=\"T_4cfbd\">\n",
       "  <thead>\n",
       "    <tr>\n",
       "      <th class=\"blank level0\" >&nbsp;</th>\n",
       "      <th id=\"T_4cfbd_level0_col0\" class=\"col_heading level0 col0\" >Accuracy</th>\n",
       "      <th id=\"T_4cfbd_level0_col1\" class=\"col_heading level0 col1\" >AUC</th>\n",
       "      <th id=\"T_4cfbd_level0_col2\" class=\"col_heading level0 col2\" >Recall</th>\n",
       "      <th id=\"T_4cfbd_level0_col3\" class=\"col_heading level0 col3\" >Prec.</th>\n",
       "      <th id=\"T_4cfbd_level0_col4\" class=\"col_heading level0 col4\" >F1</th>\n",
       "      <th id=\"T_4cfbd_level0_col5\" class=\"col_heading level0 col5\" >Kappa</th>\n",
       "      <th id=\"T_4cfbd_level0_col6\" class=\"col_heading level0 col6\" >MCC</th>\n",
       "    </tr>\n",
       "    <tr>\n",
       "      <th class=\"index_name level0\" >Fold</th>\n",
       "      <th class=\"blank col0\" >&nbsp;</th>\n",
       "      <th class=\"blank col1\" >&nbsp;</th>\n",
       "      <th class=\"blank col2\" >&nbsp;</th>\n",
       "      <th class=\"blank col3\" >&nbsp;</th>\n",
       "      <th class=\"blank col4\" >&nbsp;</th>\n",
       "      <th class=\"blank col5\" >&nbsp;</th>\n",
       "      <th class=\"blank col6\" >&nbsp;</th>\n",
       "    </tr>\n",
       "  </thead>\n",
       "  <tbody>\n",
       "    <tr>\n",
       "      <th id=\"T_4cfbd_level0_row0\" class=\"row_heading level0 row0\" >0</th>\n",
       "      <td id=\"T_4cfbd_row0_col0\" class=\"data row0 col0\" >0.5217</td>\n",
       "      <td id=\"T_4cfbd_row0_col1\" class=\"data row0 col1\" >0.0000</td>\n",
       "      <td id=\"T_4cfbd_row0_col2\" class=\"data row0 col2\" >0.0664</td>\n",
       "      <td id=\"T_4cfbd_row0_col3\" class=\"data row0 col3\" >0.7459</td>\n",
       "      <td id=\"T_4cfbd_row0_col4\" class=\"data row0 col4\" >0.1220</td>\n",
       "      <td id=\"T_4cfbd_row0_col5\" class=\"data row0 col5\" >0.0438</td>\n",
       "      <td id=\"T_4cfbd_row0_col6\" class=\"data row0 col6\" >0.1061</td>\n",
       "    </tr>\n",
       "    <tr>\n",
       "      <th id=\"T_4cfbd_level0_row1\" class=\"row_heading level0 row1\" >1</th>\n",
       "      <td id=\"T_4cfbd_row1_col0\" class=\"data row1 col0\" >0.5216</td>\n",
       "      <td id=\"T_4cfbd_row1_col1\" class=\"data row1 col1\" >0.0000</td>\n",
       "      <td id=\"T_4cfbd_row1_col2\" class=\"data row1 col2\" >0.0703</td>\n",
       "      <td id=\"T_4cfbd_row1_col3\" class=\"data row1 col3\" >0.7241</td>\n",
       "      <td id=\"T_4cfbd_row1_col4\" class=\"data row1 col4\" >0.1282</td>\n",
       "      <td id=\"T_4cfbd_row1_col5\" class=\"data row1 col5\" >0.0435</td>\n",
       "      <td id=\"T_4cfbd_row1_col6\" class=\"data row1 col6\" >0.1012</td>\n",
       "    </tr>\n",
       "    <tr>\n",
       "      <th id=\"T_4cfbd_level0_row2\" class=\"row_heading level0 row2\" >2</th>\n",
       "      <td id=\"T_4cfbd_row2_col0\" class=\"data row2 col0\" >0.5209</td>\n",
       "      <td id=\"T_4cfbd_row2_col1\" class=\"data row2 col1\" >0.0000</td>\n",
       "      <td id=\"T_4cfbd_row2_col2\" class=\"data row2 col2\" >0.0663</td>\n",
       "      <td id=\"T_4cfbd_row2_col3\" class=\"data row2 col3\" >0.7331</td>\n",
       "      <td id=\"T_4cfbd_row2_col4\" class=\"data row2 col4\" >0.1216</td>\n",
       "      <td id=\"T_4cfbd_row2_col5\" class=\"data row2 col5\" >0.0421</td>\n",
       "      <td id=\"T_4cfbd_row2_col6\" class=\"data row2 col6\" >0.1014</td>\n",
       "    </tr>\n",
       "    <tr>\n",
       "      <th id=\"T_4cfbd_level0_row3\" class=\"row_heading level0 row3\" >3</th>\n",
       "      <td id=\"T_4cfbd_row3_col0\" class=\"data row3 col0\" >0.5215</td>\n",
       "      <td id=\"T_4cfbd_row3_col1\" class=\"data row3 col1\" >0.0000</td>\n",
       "      <td id=\"T_4cfbd_row3_col2\" class=\"data row3 col2\" >0.0692</td>\n",
       "      <td id=\"T_4cfbd_row3_col3\" class=\"data row3 col3\" >0.7283</td>\n",
       "      <td id=\"T_4cfbd_row3_col4\" class=\"data row3 col4\" >0.1263</td>\n",
       "      <td id=\"T_4cfbd_row3_col5\" class=\"data row3 col5\" >0.0433</td>\n",
       "      <td id=\"T_4cfbd_row3_col6\" class=\"data row3 col6\" >0.1019</td>\n",
       "    </tr>\n",
       "    <tr>\n",
       "      <th id=\"T_4cfbd_level0_row4\" class=\"row_heading level0 row4\" >4</th>\n",
       "      <td id=\"T_4cfbd_row4_col0\" class=\"data row4 col0\" >0.5200</td>\n",
       "      <td id=\"T_4cfbd_row4_col1\" class=\"data row4 col1\" >0.0000</td>\n",
       "      <td id=\"T_4cfbd_row4_col2\" class=\"data row4 col2\" >0.0629</td>\n",
       "      <td id=\"T_4cfbd_row4_col3\" class=\"data row4 col3\" >0.7372</td>\n",
       "      <td id=\"T_4cfbd_row4_col4\" class=\"data row4 col4\" >0.1160</td>\n",
       "      <td id=\"T_4cfbd_row4_col5\" class=\"data row4 col5\" >0.0405</td>\n",
       "      <td id=\"T_4cfbd_row4_col6\" class=\"data row4 col6\" >0.1001</td>\n",
       "    </tr>\n",
       "    <tr>\n",
       "      <th id=\"T_4cfbd_level0_row5\" class=\"row_heading level0 row5\" >5</th>\n",
       "      <td id=\"T_4cfbd_row5_col0\" class=\"data row5 col0\" >0.5212</td>\n",
       "      <td id=\"T_4cfbd_row5_col1\" class=\"data row5 col1\" >0.0000</td>\n",
       "      <td id=\"T_4cfbd_row5_col2\" class=\"data row5 col2\" >0.0656</td>\n",
       "      <td id=\"T_4cfbd_row5_col3\" class=\"data row5 col3\" >0.7417</td>\n",
       "      <td id=\"T_4cfbd_row5_col4\" class=\"data row5 col4\" >0.1206</td>\n",
       "      <td id=\"T_4cfbd_row5_col5\" class=\"data row5 col5\" >0.0427</td>\n",
       "      <td id=\"T_4cfbd_row5_col6\" class=\"data row5 col6\" >0.1039</td>\n",
       "    </tr>\n",
       "    <tr>\n",
       "      <th id=\"T_4cfbd_level0_row6\" class=\"row_heading level0 row6\" >6</th>\n",
       "      <td id=\"T_4cfbd_row6_col0\" class=\"data row6 col0\" >0.5201</td>\n",
       "      <td id=\"T_4cfbd_row6_col1\" class=\"data row6 col1\" >0.0000</td>\n",
       "      <td id=\"T_4cfbd_row6_col2\" class=\"data row6 col2\" >0.0624</td>\n",
       "      <td id=\"T_4cfbd_row6_col3\" class=\"data row6 col3\" >0.7419</td>\n",
       "      <td id=\"T_4cfbd_row6_col4\" class=\"data row6 col4\" >0.1150</td>\n",
       "      <td id=\"T_4cfbd_row6_col5\" class=\"data row6 col5\" >0.0406</td>\n",
       "      <td id=\"T_4cfbd_row6_col6\" class=\"data row6 col6\" >0.1013</td>\n",
       "    </tr>\n",
       "    <tr>\n",
       "      <th id=\"T_4cfbd_level0_row7\" class=\"row_heading level0 row7\" >7</th>\n",
       "      <td id=\"T_4cfbd_row7_col0\" class=\"data row7 col0\" >0.5265</td>\n",
       "      <td id=\"T_4cfbd_row7_col1\" class=\"data row7 col1\" >0.0000</td>\n",
       "      <td id=\"T_4cfbd_row7_col2\" class=\"data row7 col2\" >0.1923</td>\n",
       "      <td id=\"T_4cfbd_row7_col3\" class=\"data row7 col3\" >0.5808</td>\n",
       "      <td id=\"T_4cfbd_row7_col4\" class=\"data row7 col4\" >0.2890</td>\n",
       "      <td id=\"T_4cfbd_row7_col5\" class=\"data row7 col5\" >0.0534</td>\n",
       "      <td id=\"T_4cfbd_row7_col6\" class=\"data row7 col6\" >0.0718</td>\n",
       "    </tr>\n",
       "    <tr>\n",
       "      <th id=\"T_4cfbd_level0_row8\" class=\"row_heading level0 row8\" >8</th>\n",
       "      <td id=\"T_4cfbd_row8_col0\" class=\"data row8 col0\" >0.5263</td>\n",
       "      <td id=\"T_4cfbd_row8_col1\" class=\"data row8 col1\" >0.0000</td>\n",
       "      <td id=\"T_4cfbd_row8_col2\" class=\"data row8 col2\" >0.2997</td>\n",
       "      <td id=\"T_4cfbd_row8_col3\" class=\"data row8 col3\" >0.5486</td>\n",
       "      <td id=\"T_4cfbd_row8_col4\" class=\"data row8 col4\" >0.3876</td>\n",
       "      <td id=\"T_4cfbd_row8_col5\" class=\"data row8 col5\" >0.0528</td>\n",
       "      <td id=\"T_4cfbd_row8_col6\" class=\"data row8 col6\" >0.0593</td>\n",
       "    </tr>\n",
       "    <tr>\n",
       "      <th id=\"T_4cfbd_level0_row9\" class=\"row_heading level0 row9\" >9</th>\n",
       "      <td id=\"T_4cfbd_row9_col0\" class=\"data row9 col0\" >0.5268</td>\n",
       "      <td id=\"T_4cfbd_row9_col1\" class=\"data row9 col1\" >0.0000</td>\n",
       "      <td id=\"T_4cfbd_row9_col2\" class=\"data row9 col2\" >0.2145</td>\n",
       "      <td id=\"T_4cfbd_row9_col3\" class=\"data row9 col3\" >0.5720</td>\n",
       "      <td id=\"T_4cfbd_row9_col4\" class=\"data row9 col4\" >0.3120</td>\n",
       "      <td id=\"T_4cfbd_row9_col5\" class=\"data row9 col5\" >0.0538</td>\n",
       "      <td id=\"T_4cfbd_row9_col6\" class=\"data row9 col6\" >0.0690</td>\n",
       "    </tr>\n",
       "    <tr>\n",
       "      <th id=\"T_4cfbd_level0_row10\" class=\"row_heading level0 row10\" >Mean</th>\n",
       "      <td id=\"T_4cfbd_row10_col0\" class=\"data row10 col0\" >0.5227</td>\n",
       "      <td id=\"T_4cfbd_row10_col1\" class=\"data row10 col1\" >0.0000</td>\n",
       "      <td id=\"T_4cfbd_row10_col2\" class=\"data row10 col2\" >0.1170</td>\n",
       "      <td id=\"T_4cfbd_row10_col3\" class=\"data row10 col3\" >0.6854</td>\n",
       "      <td id=\"T_4cfbd_row10_col4\" class=\"data row10 col4\" >0.1838</td>\n",
       "      <td id=\"T_4cfbd_row10_col5\" class=\"data row10 col5\" >0.0457</td>\n",
       "      <td id=\"T_4cfbd_row10_col6\" class=\"data row10 col6\" >0.0916</td>\n",
       "    </tr>\n",
       "    <tr>\n",
       "      <th id=\"T_4cfbd_level0_row11\" class=\"row_heading level0 row11\" >Std</th>\n",
       "      <td id=\"T_4cfbd_row11_col0\" class=\"data row11 col0\" >0.0026</td>\n",
       "      <td id=\"T_4cfbd_row11_col1\" class=\"data row11 col1\" >0.0000</td>\n",
       "      <td id=\"T_4cfbd_row11_col2\" class=\"data row11 col2\" >0.0817</td>\n",
       "      <td id=\"T_4cfbd_row11_col3\" class=\"data row11 col3\" >0.0780</td>\n",
       "      <td id=\"T_4cfbd_row11_col4\" class=\"data row11 col4\" >0.0982</td>\n",
       "      <td id=\"T_4cfbd_row11_col5\" class=\"data row11 col5\" >0.0051</td>\n",
       "      <td id=\"T_4cfbd_row11_col6\" class=\"data row11 col6\" >0.0166</td>\n",
       "    </tr>\n",
       "  </tbody>\n",
       "</table>\n"
      ],
      "text/plain": [
       "<pandas.io.formats.style.Styler at 0x7ff68d730fd0>"
      ]
     },
     "metadata": {},
     "output_type": "display_data"
    },
    {
     "data": {
      "text/html": [],
      "text/plain": [
       "<IPython.core.display.HTML object>"
      ]
     },
     "metadata": {},
     "output_type": "display_data"
    }
   ],
   "source": [
    "svm = create_model('svm')"
   ]
  },
  {
   "cell_type": "code",
   "execution_count": 22,
   "metadata": {},
   "outputs": [
    {
     "data": {
      "text/html": [],
      "text/plain": [
       "<IPython.core.display.HTML object>"
      ]
     },
     "metadata": {},
     "output_type": "display_data"
    },
    {
     "data": {
      "image/png": "[encoded data removed]",
      "text/plain": [
       "<Figure size 800x550 with 1 Axes>"
      ]
     },
     "metadata": {},
     "output_type": "display_data"
    }
   ],
   "source": [
    "plot_model(svm, plot = 'confusion_matrix')"
   ]
  },
  {
   "cell_type": "code",
   "execution_count": 23,
   "metadata": {},
   "outputs": [
    {
     "data": {
      "text/html": [],
      "text/plain": [
       "<IPython.core.display.HTML object>"
      ]
     },
     "metadata": {},
     "output_type": "display_data"
    },
    {
     "data": {
      "image/png": "[encoded data removed]",
      "text/plain": [
       "<Figure size 800x550 with 1 Axes>"
      ]
     },
     "metadata": {},
     "output_type": "display_data"
    }
   ],
   "source": [
    "plot_model(svm, plot = 'error')"
   ]
  },
  {
   "cell_type": "code",
   "execution_count": 24,
   "metadata": {},
   "outputs": [
    {
     "data": {
      "text/html": [],
      "text/plain": [
       "<IPython.core.display.HTML object>"
      ]
     },
     "metadata": {},
     "output_type": "display_data"
    },
    {
     "data": {
      "text/html": [
       "<div>\n",
       "<style scoped>\n",
       "    .dataframe tbody tr th:only-of-type {\n",
       "        vertical-align: middle;\n",
       "    }\n",
       "\n",
       "    .dataframe tbody tr th {\n",
       "        vertical-align: top;\n",
       "    }\n",
       "\n",
       "    .dataframe thead th {\n",
       "        text-align: right;\n",
       "    }\n",
       "</style>\n",
       "<table border=\"1\" class=\"dataframe\">\n",
       "  <thead>\n",
       "    <tr style=\"text-align: right;\">\n",
       "      <th></th>\n",
       "      <th>Parameters</th>\n",
       "    </tr>\n",
       "  </thead>\n",
       "  <tbody>\n",
       "    <tr>\n",
       "      <th>alpha</th>\n",
       "      <td>0.0001</td>\n",
       "    </tr>\n",
       "    <tr>\n",
       "      <th>average</th>\n",
       "      <td>False</td>\n",
       "    </tr>\n",
       "    <tr>\n",
       "      <th>class_weight</th>\n",
       "      <td>None</td>\n",
       "    </tr>\n",
       "    <tr>\n",
       "      <th>early_stopping</th>\n",
       "      <td>False</td>\n",
       "    </tr>\n",
       "    <tr>\n",
       "      <th>epsilon</th>\n",
       "      <td>0.1</td>\n",
       "    </tr>\n",
       "    <tr>\n",
       "      <th>eta0</th>\n",
       "      <td>0.001</td>\n",
       "    </tr>\n",
       "    <tr>\n",
       "      <th>fit_intercept</th>\n",
       "      <td>True</td>\n",
       "    </tr>\n",
       "    <tr>\n",
       "      <th>l1_ratio</th>\n",
       "      <td>0.15</td>\n",
       "    </tr>\n",
       "    <tr>\n",
       "      <th>learning_rate</th>\n",
       "      <td>optimal</td>\n",
       "    </tr>\n",
       "    <tr>\n",
       "      <th>loss</th>\n",
       "      <td>hinge</td>\n",
       "    </tr>\n",
       "    <tr>\n",
       "      <th>max_iter</th>\n",
       "      <td>1000</td>\n",
       "    </tr>\n",
       "    <tr>\n",
       "      <th>n_iter_no_change</th>\n",
       "      <td>5</td>\n",
       "    </tr>\n",
       "    <tr>\n",
       "      <th>n_jobs</th>\n",
       "      <td>-1</td>\n",
       "    </tr>\n",
       "    <tr>\n",
       "      <th>penalty</th>\n",
       "      <td>l2</td>\n",
       "    </tr>\n",
       "    <tr>\n",
       "      <th>power_t</th>\n",
       "      <td>0.5</td>\n",
       "    </tr>\n",
       "    <tr>\n",
       "      <th>random_state</th>\n",
       "      <td>8931</td>\n",
       "    </tr>\n",
       "    <tr>\n",
       "      <th>shuffle</th>\n",
       "      <td>True</td>\n",
       "    </tr>\n",
       "    <tr>\n",
       "      <th>tol</th>\n",
       "      <td>0.001</td>\n",
       "    </tr>\n",
       "    <tr>\n",
       "      <th>validation_fraction</th>\n",
       "      <td>0.1</td>\n",
       "    </tr>\n",
       "    <tr>\n",
       "      <th>verbose</th>\n",
       "      <td>0</td>\n",
       "    </tr>\n",
       "    <tr>\n",
       "      <th>warm_start</th>\n",
       "      <td>False</td>\n",
       "    </tr>\n",
       "  </tbody>\n",
       "</table>\n",
       "</div>"
      ],
      "text/plain": [
       "                    Parameters\n",
       "alpha                   0.0001\n",
       "average                  False\n",
       "class_weight              None\n",
       "early_stopping           False\n",
       "epsilon                    0.1\n",
       "eta0                     0.001\n",
       "fit_intercept             True\n",
       "l1_ratio                  0.15\n",
       "learning_rate          optimal\n",
       "loss                     hinge\n",
       "max_iter                  1000\n",
       "n_iter_no_change             5\n",
       "n_jobs                      -1\n",
       "penalty                     l2\n",
       "power_t                    0.5\n",
       "random_state              8931\n",
       "shuffle                   True\n",
       "tol                      0.001\n",
       "validation_fraction        0.1\n",
       "verbose                      0\n",
       "warm_start               False"
      ]
     },
     "metadata": {},
     "output_type": "display_data"
    }
   ],
   "source": [
    "plot_model(svm, plot = 'parameter')"
   ]
  },
  {
   "cell_type": "code",
   "execution_count": 25,
   "metadata": {},
   "outputs": [
    {
     "name": "stdout",
     "output_type": "stream",
     "text": [
      "Transformation Pipeline and Model Successfully Saved\n"
     ]
    },
    {
     "data": {
      "text/plain": [
       "(Pipeline(memory=FastMemory(location=/tmp/joblib),\n",
       "          steps=[('numerical_imputer',\n",
       "                  TransformerWrapper(exclude=None,\n",
       "                                     include=['0', '1', '2', '3', '4', '5', '6',\n",
       "                                              '7', '8', '9', '10', '11', '12',\n",
       "                                              '13', '14', '15', '16', '17', '18',\n",
       "                                              '19', '20', '21', '22', '23', '24',\n",
       "                                              '25', '26', '27', '28', '29', ...],\n",
       "                                     transformer=SimpleImputer(add_indicator=False,\n",
       "                                                               copy=True,\n",
       "                                                               fill_value=None,\n",
       "                                                               keep_empty_feat...\n",
       "                  SGDClassifier(alpha=0.0001, average=False, class_weight=None,\n",
       "                                early_stopping=False, epsilon=0.1, eta0=0.001,\n",
       "                                fit_intercept=True, l1_ratio=0.15,\n",
       "                                learning_rate='optimal', loss='hinge',\n",
       "                                max_iter=1000, n_iter_no_change=5, n_jobs=-1,\n",
       "                                penalty='l2', power_t=0.5, random_state=8931,\n",
       "                                shuffle=True, tol=0.001, validation_fraction=0.1,\n",
       "                                verbose=0, warm_start=False))],\n",
       "          verbose=False),\n",
       " 'models_classif/complex/binary_emb_val/svm.pkl')"
      ]
     },
     "execution_count": 25,
     "metadata": {},
     "output_type": "execute_result"
    }
   ],
   "source": [
    "save_model(svm, 'models_classif/complex/binary_emb_val/svm')"
   ]
  },
  {
   "cell_type": "markdown",
   "metadata": {},
   "source": [
    "# Ridge Classifier"
   ]
  },
  {
   "cell_type": "code",
   "execution_count": 26,
   "metadata": {},
   "outputs": [
    {
     "data": {
      "text/html": [],
      "text/plain": [
       "<IPython.core.display.HTML object>"
      ]
     },
     "metadata": {},
     "output_type": "display_data"
    },
    {
     "data": {
      "text/html": [
       "<style type=\"text/css\">\n",
       "#T_fb1ea_row10_col0, #T_fb1ea_row10_col1, #T_fb1ea_row10_col2, #T_fb1ea_row10_col3, #T_fb1ea_row10_col4, #T_fb1ea_row10_col5, #T_fb1ea_row10_col6 {\n",
       "  background: yellow;\n",
       "}\n",
       "</style>\n",
       "<table id=\"T_fb1ea\">\n",
       "  <thead>\n",
       "    <tr>\n",
       "      <th class=\"blank level0\" >&nbsp;</th>\n",
       "      <th id=\"T_fb1ea_level0_col0\" class=\"col_heading level0 col0\" >Accuracy</th>\n",
       "      <th id=\"T_fb1ea_level0_col1\" class=\"col_heading level0 col1\" >AUC</th>\n",
       "      <th id=\"T_fb1ea_level0_col2\" class=\"col_heading level0 col2\" >Recall</th>\n",
       "      <th id=\"T_fb1ea_level0_col3\" class=\"col_heading level0 col3\" >Prec.</th>\n",
       "      <th id=\"T_fb1ea_level0_col4\" class=\"col_heading level0 col4\" >F1</th>\n",
       "      <th id=\"T_fb1ea_level0_col5\" class=\"col_heading level0 col5\" >Kappa</th>\n",
       "      <th id=\"T_fb1ea_level0_col6\" class=\"col_heading level0 col6\" >MCC</th>\n",
       "    </tr>\n",
       "    <tr>\n",
       "      <th class=\"index_name level0\" >Fold</th>\n",
       "      <th class=\"blank col0\" >&nbsp;</th>\n",
       "      <th class=\"blank col1\" >&nbsp;</th>\n",
       "      <th class=\"blank col2\" >&nbsp;</th>\n",
       "      <th class=\"blank col3\" >&nbsp;</th>\n",
       "      <th class=\"blank col4\" >&nbsp;</th>\n",
       "      <th class=\"blank col5\" >&nbsp;</th>\n",
       "      <th class=\"blank col6\" >&nbsp;</th>\n",
       "    </tr>\n",
       "  </thead>\n",
       "  <tbody>\n",
       "    <tr>\n",
       "      <th id=\"T_fb1ea_level0_row0\" class=\"row_heading level0 row0\" >0</th>\n",
       "      <td id=\"T_fb1ea_row0_col0\" class=\"data row0 col0\" >0.5346</td>\n",
       "      <td id=\"T_fb1ea_row0_col1\" class=\"data row0 col1\" >0.0000</td>\n",
       "      <td id=\"T_fb1ea_row0_col2\" class=\"data row0 col2\" >0.4973</td>\n",
       "      <td id=\"T_fb1ea_row0_col3\" class=\"data row0 col3\" >0.5377</td>\n",
       "      <td id=\"T_fb1ea_row0_col4\" class=\"data row0 col4\" >0.5167</td>\n",
       "      <td id=\"T_fb1ea_row0_col5\" class=\"data row0 col5\" >0.0693</td>\n",
       "      <td id=\"T_fb1ea_row0_col6\" class=\"data row0 col6\" >0.0695</td>\n",
       "    </tr>\n",
       "    <tr>\n",
       "      <th id=\"T_fb1ea_level0_row1\" class=\"row_heading level0 row1\" >1</th>\n",
       "      <td id=\"T_fb1ea_row1_col0\" class=\"data row1 col0\" >0.5347</td>\n",
       "      <td id=\"T_fb1ea_row1_col1\" class=\"data row1 col1\" >0.0000</td>\n",
       "      <td id=\"T_fb1ea_row1_col2\" class=\"data row1 col2\" >0.4939</td>\n",
       "      <td id=\"T_fb1ea_row1_col3\" class=\"data row1 col3\" >0.5380</td>\n",
       "      <td id=\"T_fb1ea_row1_col4\" class=\"data row1 col4\" >0.5150</td>\n",
       "      <td id=\"T_fb1ea_row1_col5\" class=\"data row1 col5\" >0.0694</td>\n",
       "      <td id=\"T_fb1ea_row1_col6\" class=\"data row1 col6\" >0.0696</td>\n",
       "    </tr>\n",
       "    <tr>\n",
       "      <th id=\"T_fb1ea_level0_row2\" class=\"row_heading level0 row2\" >2</th>\n",
       "      <td id=\"T_fb1ea_row2_col0\" class=\"data row2 col0\" >0.5352</td>\n",
       "      <td id=\"T_fb1ea_row2_col1\" class=\"data row2 col1\" >0.0000</td>\n",
       "      <td id=\"T_fb1ea_row2_col2\" class=\"data row2 col2\" >0.5012</td>\n",
       "      <td id=\"T_fb1ea_row2_col3\" class=\"data row2 col3\" >0.5380</td>\n",
       "      <td id=\"T_fb1ea_row2_col4\" class=\"data row2 col4\" >0.5189</td>\n",
       "      <td id=\"T_fb1ea_row2_col5\" class=\"data row2 col5\" >0.0705</td>\n",
       "      <td id=\"T_fb1ea_row2_col6\" class=\"data row2 col6\" >0.0706</td>\n",
       "    </tr>\n",
       "    <tr>\n",
       "      <th id=\"T_fb1ea_level0_row3\" class=\"row_heading level0 row3\" >3</th>\n",
       "      <td id=\"T_fb1ea_row3_col0\" class=\"data row3 col0\" >0.5356</td>\n",
       "      <td id=\"T_fb1ea_row3_col1\" class=\"data row3 col1\" >0.0000</td>\n",
       "      <td id=\"T_fb1ea_row3_col2\" class=\"data row3 col2\" >0.4979</td>\n",
       "      <td id=\"T_fb1ea_row3_col3\" class=\"data row3 col3\" >0.5388</td>\n",
       "      <td id=\"T_fb1ea_row3_col4\" class=\"data row3 col4\" >0.5175</td>\n",
       "      <td id=\"T_fb1ea_row3_col5\" class=\"data row3 col5\" >0.0713</td>\n",
       "      <td id=\"T_fb1ea_row3_col6\" class=\"data row3 col6\" >0.0715</td>\n",
       "    </tr>\n",
       "    <tr>\n",
       "      <th id=\"T_fb1ea_level0_row4\" class=\"row_heading level0 row4\" >4</th>\n",
       "      <td id=\"T_fb1ea_row4_col0\" class=\"data row4 col0\" >0.5340</td>\n",
       "      <td id=\"T_fb1ea_row4_col1\" class=\"data row4 col1\" >0.0000</td>\n",
       "      <td id=\"T_fb1ea_row4_col2\" class=\"data row4 col2\" >0.4928</td>\n",
       "      <td id=\"T_fb1ea_row4_col3\" class=\"data row4 col3\" >0.5372</td>\n",
       "      <td id=\"T_fb1ea_row4_col4\" class=\"data row4 col4\" >0.5140</td>\n",
       "      <td id=\"T_fb1ea_row4_col5\" class=\"data row4 col5\" >0.0679</td>\n",
       "      <td id=\"T_fb1ea_row4_col6\" class=\"data row4 col6\" >0.0682</td>\n",
       "    </tr>\n",
       "    <tr>\n",
       "      <th id=\"T_fb1ea_level0_row5\" class=\"row_heading level0 row5\" >5</th>\n",
       "      <td id=\"T_fb1ea_row5_col0\" class=\"data row5 col0\" >0.5361</td>\n",
       "      <td id=\"T_fb1ea_row5_col1\" class=\"data row5 col1\" >0.0000</td>\n",
       "      <td id=\"T_fb1ea_row5_col2\" class=\"data row5 col2\" >0.4944</td>\n",
       "      <td id=\"T_fb1ea_row5_col3\" class=\"data row5 col3\" >0.5396</td>\n",
       "      <td id=\"T_fb1ea_row5_col4\" class=\"data row5 col4\" >0.5160</td>\n",
       "      <td id=\"T_fb1ea_row5_col5\" class=\"data row5 col5\" >0.0722</td>\n",
       "      <td id=\"T_fb1ea_row5_col6\" class=\"data row5 col6\" >0.0725</td>\n",
       "    </tr>\n",
       "    <tr>\n",
       "      <th id=\"T_fb1ea_level0_row6\" class=\"row_heading level0 row6\" >6</th>\n",
       "      <td id=\"T_fb1ea_row6_col0\" class=\"data row6 col0\" >0.5369</td>\n",
       "      <td id=\"T_fb1ea_row6_col1\" class=\"data row6 col1\" >0.0000</td>\n",
       "      <td id=\"T_fb1ea_row6_col2\" class=\"data row6 col2\" >0.4961</td>\n",
       "      <td id=\"T_fb1ea_row6_col3\" class=\"data row6 col3\" >0.5405</td>\n",
       "      <td id=\"T_fb1ea_row6_col4\" class=\"data row6 col4\" >0.5174</td>\n",
       "      <td id=\"T_fb1ea_row6_col5\" class=\"data row6 col5\" >0.0739</td>\n",
       "      <td id=\"T_fb1ea_row6_col6\" class=\"data row6 col6\" >0.0742</td>\n",
       "    </tr>\n",
       "    <tr>\n",
       "      <th id=\"T_fb1ea_level0_row7\" class=\"row_heading level0 row7\" >7</th>\n",
       "      <td id=\"T_fb1ea_row7_col0\" class=\"data row7 col0\" >0.5367</td>\n",
       "      <td id=\"T_fb1ea_row7_col1\" class=\"data row7 col1\" >0.0000</td>\n",
       "      <td id=\"T_fb1ea_row7_col2\" class=\"data row7 col2\" >0.4992</td>\n",
       "      <td id=\"T_fb1ea_row7_col3\" class=\"data row7 col3\" >0.5399</td>\n",
       "      <td id=\"T_fb1ea_row7_col4\" class=\"data row7 col4\" >0.5188</td>\n",
       "      <td id=\"T_fb1ea_row7_col5\" class=\"data row7 col5\" >0.0734</td>\n",
       "      <td id=\"T_fb1ea_row7_col6\" class=\"data row7 col6\" >0.0736</td>\n",
       "    </tr>\n",
       "    <tr>\n",
       "      <th id=\"T_fb1ea_level0_row8\" class=\"row_heading level0 row8\" >8</th>\n",
       "      <td id=\"T_fb1ea_row8_col0\" class=\"data row8 col0\" >0.5389</td>\n",
       "      <td id=\"T_fb1ea_row8_col1\" class=\"data row8 col1\" >0.0000</td>\n",
       "      <td id=\"T_fb1ea_row8_col2\" class=\"data row8 col2\" >0.5045</td>\n",
       "      <td id=\"T_fb1ea_row8_col3\" class=\"data row8 col3\" >0.5420</td>\n",
       "      <td id=\"T_fb1ea_row8_col4\" class=\"data row8 col4\" >0.5225</td>\n",
       "      <td id=\"T_fb1ea_row8_col5\" class=\"data row8 col5\" >0.0777</td>\n",
       "      <td id=\"T_fb1ea_row8_col6\" class=\"data row8 col6\" >0.0779</td>\n",
       "    </tr>\n",
       "    <tr>\n",
       "      <th id=\"T_fb1ea_level0_row9\" class=\"row_heading level0 row9\" >9</th>\n",
       "      <td id=\"T_fb1ea_row9_col0\" class=\"data row9 col0\" >0.5358</td>\n",
       "      <td id=\"T_fb1ea_row9_col1\" class=\"data row9 col1\" >0.0000</td>\n",
       "      <td id=\"T_fb1ea_row9_col2\" class=\"data row9 col2\" >0.4988</td>\n",
       "      <td id=\"T_fb1ea_row9_col3\" class=\"data row9 col3\" >0.5389</td>\n",
       "      <td id=\"T_fb1ea_row9_col4\" class=\"data row9 col4\" >0.5181</td>\n",
       "      <td id=\"T_fb1ea_row9_col5\" class=\"data row9 col5\" >0.0717</td>\n",
       "      <td id=\"T_fb1ea_row9_col6\" class=\"data row9 col6\" >0.0719</td>\n",
       "    </tr>\n",
       "    <tr>\n",
       "      <th id=\"T_fb1ea_level0_row10\" class=\"row_heading level0 row10\" >Mean</th>\n",
       "      <td id=\"T_fb1ea_row10_col0\" class=\"data row10 col0\" >0.5359</td>\n",
       "      <td id=\"T_fb1ea_row10_col1\" class=\"data row10 col1\" >0.0000</td>\n",
       "      <td id=\"T_fb1ea_row10_col2\" class=\"data row10 col2\" >0.4976</td>\n",
       "      <td id=\"T_fb1ea_row10_col3\" class=\"data row10 col3\" >0.5391</td>\n",
       "      <td id=\"T_fb1ea_row10_col4\" class=\"data row10 col4\" >0.5175</td>\n",
       "      <td id=\"T_fb1ea_row10_col5\" class=\"data row10 col5\" >0.0717</td>\n",
       "      <td id=\"T_fb1ea_row10_col6\" class=\"data row10 col6\" >0.0719</td>\n",
       "    </tr>\n",
       "    <tr>\n",
       "      <th id=\"T_fb1ea_level0_row11\" class=\"row_heading level0 row11\" >Std</th>\n",
       "      <td id=\"T_fb1ea_row11_col0\" class=\"data row11 col0\" >0.0013</td>\n",
       "      <td id=\"T_fb1ea_row11_col1\" class=\"data row11 col1\" >0.0000</td>\n",
       "      <td id=\"T_fb1ea_row11_col2\" class=\"data row11 col2\" >0.0034</td>\n",
       "      <td id=\"T_fb1ea_row11_col3\" class=\"data row11 col3\" >0.0014</td>\n",
       "      <td id=\"T_fb1ea_row11_col4\" class=\"data row11 col4\" >0.0022</td>\n",
       "      <td id=\"T_fb1ea_row11_col5\" class=\"data row11 col5\" >0.0027</td>\n",
       "      <td id=\"T_fb1ea_row11_col6\" class=\"data row11 col6\" >0.0027</td>\n",
       "    </tr>\n",
       "  </tbody>\n",
       "</table>\n"
      ],
      "text/plain": [
       "<pandas.io.formats.style.Styler at 0x7ff68d731e10>"
      ]
     },
     "metadata": {},
     "output_type": "display_data"
    },
    {
     "data": {
      "text/html": [],
      "text/plain": [
       "<IPython.core.display.HTML object>"
      ]
     },
     "metadata": {},
     "output_type": "display_data"
    }
   ],
   "source": [
    "ridge = create_model('ridge')"
   ]
  },
  {
   "cell_type": "code",
   "execution_count": 27,
   "metadata": {},
   "outputs": [
    {
     "data": {
      "text/html": [],
      "text/plain": [
       "<IPython.core.display.HTML object>"
      ]
     },
     "metadata": {},
     "output_type": "display_data"
    },
    {
     "data": {
      "image/png": "[encoded data removed]",
      "text/plain": [
       "<Figure size 800x550 with 1 Axes>"
      ]
     },
     "metadata": {},
     "output_type": "display_data"
    }
   ],
   "source": [
    "plot_model(ridge, plot = 'confusion_matrix')"
   ]
  },
  {
   "cell_type": "code",
   "execution_count": 28,
   "metadata": {},
   "outputs": [
    {
     "data": {
      "text/html": [],
      "text/plain": [
       "<IPython.core.display.HTML object>"
      ]
     },
     "metadata": {},
     "output_type": "display_data"
    },
    {
     "data": {
      "image/png": "[encoded data removed]",
      "text/plain": [
       "<Figure size 800x550 with 1 Axes>"
      ]
     },
     "metadata": {},
     "output_type": "display_data"
    }
   ],
   "source": [
    "plot_model(ridge, plot = 'error')"
   ]
  },
  {
   "cell_type": "code",
   "execution_count": 29,
   "metadata": {},
   "outputs": [
    {
     "data": {
      "text/html": [],
      "text/plain": [
       "<IPython.core.display.HTML object>"
      ]
     },
     "metadata": {},
     "output_type": "display_data"
    },
    {
     "data": {
      "text/html": [
       "<div>\n",
       "<style scoped>\n",
       "    .dataframe tbody tr th:only-of-type {\n",
       "        vertical-align: middle;\n",
       "    }\n",
       "\n",
       "    .dataframe tbody tr th {\n",
       "        vertical-align: top;\n",
       "    }\n",
       "\n",
       "    .dataframe thead th {\n",
       "        text-align: right;\n",
       "    }\n",
       "</style>\n",
       "<table border=\"1\" class=\"dataframe\">\n",
       "  <thead>\n",
       "    <tr style=\"text-align: right;\">\n",
       "      <th></th>\n",
       "      <th>Parameters</th>\n",
       "    </tr>\n",
       "  </thead>\n",
       "  <tbody>\n",
       "    <tr>\n",
       "      <th>alpha</th>\n",
       "      <td>1.0</td>\n",
       "    </tr>\n",
       "    <tr>\n",
       "      <th>class_weight</th>\n",
       "      <td>None</td>\n",
       "    </tr>\n",
       "    <tr>\n",
       "      <th>copy_X</th>\n",
       "      <td>True</td>\n",
       "    </tr>\n",
       "    <tr>\n",
       "      <th>fit_intercept</th>\n",
       "      <td>True</td>\n",
       "    </tr>\n",
       "    <tr>\n",
       "      <th>max_iter</th>\n",
       "      <td>None</td>\n",
       "    </tr>\n",
       "    <tr>\n",
       "      <th>positive</th>\n",
       "      <td>False</td>\n",
       "    </tr>\n",
       "    <tr>\n",
       "      <th>random_state</th>\n",
       "      <td>8931</td>\n",
       "    </tr>\n",
       "    <tr>\n",
       "      <th>solver</th>\n",
       "      <td>auto</td>\n",
       "    </tr>\n",
       "    <tr>\n",
       "      <th>tol</th>\n",
       "      <td>0.0001</td>\n",
       "    </tr>\n",
       "  </tbody>\n",
       "</table>\n",
       "</div>"
      ],
      "text/plain": [
       "              Parameters\n",
       "alpha                1.0\n",
       "class_weight        None\n",
       "copy_X              True\n",
       "fit_intercept       True\n",
       "max_iter            None\n",
       "positive           False\n",
       "random_state        8931\n",
       "solver              auto\n",
       "tol               0.0001"
      ]
     },
     "metadata": {},
     "output_type": "display_data"
    }
   ],
   "source": [
    "plot_model(ridge, plot = 'parameter')"
   ]
  },
  {
   "cell_type": "code",
   "execution_count": 30,
   "metadata": {},
   "outputs": [
    {
     "name": "stdout",
     "output_type": "stream",
     "text": [
      "Transformation Pipeline and Model Successfully Saved\n"
     ]
    },
    {
     "data": {
      "text/plain": [
       "(Pipeline(memory=FastMemory(location=/tmp/joblib),\n",
       "          steps=[('numerical_imputer',\n",
       "                  TransformerWrapper(exclude=None,\n",
       "                                     include=['0', '1', '2', '3', '4', '5', '6',\n",
       "                                              '7', '8', '9', '10', '11', '12',\n",
       "                                              '13', '14', '15', '16', '17', '18',\n",
       "                                              '19', '20', '21', '22', '23', '24',\n",
       "                                              '25', '26', '27', '28', '29', ...],\n",
       "                                     transformer=SimpleImputer(add_indicator=False,\n",
       "                                                               copy=True,\n",
       "                                                               fill_value=None,\n",
       "                                                               keep_empty_feat...\n",
       "                  TransformerWrapper(exclude=None, include=[],\n",
       "                                     transformer=SimpleImputer(add_indicator=False,\n",
       "                                                               copy=True,\n",
       "                                                               fill_value=None,\n",
       "                                                               keep_empty_features=False,\n",
       "                                                               missing_values=nan,\n",
       "                                                               strategy='most_frequent',\n",
       "                                                               verbose='deprecated'))),\n",
       "                 ('trained_model',\n",
       "                  RidgeClassifier(alpha=1.0, class_weight=None, copy_X=True,\n",
       "                                  fit_intercept=True, max_iter=None,\n",
       "                                  positive=False, random_state=8931,\n",
       "                                  solver='auto', tol=0.0001))],\n",
       "          verbose=False),\n",
       " 'models_classif/complex/binary_emb_val/ridge.pkl')"
      ]
     },
     "execution_count": 30,
     "metadata": {},
     "output_type": "execute_result"
    }
   ],
   "source": [
    "save_model(ridge, 'models_classif/complex/binary_emb_val/ridge')"
   ]
  },
  {
   "cell_type": "markdown",
   "metadata": {},
   "source": [
    "# Random Forest"
   ]
  },
  {
   "cell_type": "code",
   "execution_count": 31,
   "metadata": {},
   "outputs": [
    {
     "data": {
      "text/html": [],
      "text/plain": [
       "<IPython.core.display.HTML object>"
      ]
     },
     "metadata": {},
     "output_type": "display_data"
    },
    {
     "data": {
      "text/html": [
       "<style type=\"text/css\">\n",
       "#T_97a48_row10_col0, #T_97a48_row10_col1, #T_97a48_row10_col2, #T_97a48_row10_col3, #T_97a48_row10_col4, #T_97a48_row10_col5, #T_97a48_row10_col6 {\n",
       "  background: yellow;\n",
       "}\n",
       "</style>\n",
       "<table id=\"T_97a48\">\n",
       "  <thead>\n",
       "    <tr>\n",
       "      <th class=\"blank level0\" >&nbsp;</th>\n",
       "      <th id=\"T_97a48_level0_col0\" class=\"col_heading level0 col0\" >Accuracy</th>\n",
       "      <th id=\"T_97a48_level0_col1\" class=\"col_heading level0 col1\" >AUC</th>\n",
       "      <th id=\"T_97a48_level0_col2\" class=\"col_heading level0 col2\" >Recall</th>\n",
       "      <th id=\"T_97a48_level0_col3\" class=\"col_heading level0 col3\" >Prec.</th>\n",
       "      <th id=\"T_97a48_level0_col4\" class=\"col_heading level0 col4\" >F1</th>\n",
       "      <th id=\"T_97a48_level0_col5\" class=\"col_heading level0 col5\" >Kappa</th>\n",
       "      <th id=\"T_97a48_level0_col6\" class=\"col_heading level0 col6\" >MCC</th>\n",
       "    </tr>\n",
       "    <tr>\n",
       "      <th class=\"index_name level0\" >Fold</th>\n",
       "      <th class=\"blank col0\" >&nbsp;</th>\n",
       "      <th class=\"blank col1\" >&nbsp;</th>\n",
       "      <th class=\"blank col2\" >&nbsp;</th>\n",
       "      <th class=\"blank col3\" >&nbsp;</th>\n",
       "      <th class=\"blank col4\" >&nbsp;</th>\n",
       "      <th class=\"blank col5\" >&nbsp;</th>\n",
       "      <th class=\"blank col6\" >&nbsp;</th>\n",
       "    </tr>\n",
       "  </thead>\n",
       "  <tbody>\n",
       "    <tr>\n",
       "      <th id=\"T_97a48_level0_row0\" class=\"row_heading level0 row0\" >0</th>\n",
       "      <td id=\"T_97a48_row0_col0\" class=\"data row0 col0\" >0.7469</td>\n",
       "      <td id=\"T_97a48_row0_col1\" class=\"data row0 col1\" >0.8716</td>\n",
       "      <td id=\"T_97a48_row0_col2\" class=\"data row0 col2\" >0.7485</td>\n",
       "      <td id=\"T_97a48_row0_col3\" class=\"data row0 col3\" >0.7463</td>\n",
       "      <td id=\"T_97a48_row0_col4\" class=\"data row0 col4\" >0.7474</td>\n",
       "      <td id=\"T_97a48_row0_col5\" class=\"data row0 col5\" >0.4938</td>\n",
       "      <td id=\"T_97a48_row0_col6\" class=\"data row0 col6\" >0.4938</td>\n",
       "    </tr>\n",
       "    <tr>\n",
       "      <th id=\"T_97a48_level0_row1\" class=\"row_heading level0 row1\" >1</th>\n",
       "      <td id=\"T_97a48_row1_col0\" class=\"data row1 col0\" >0.7454</td>\n",
       "      <td id=\"T_97a48_row1_col1\" class=\"data row1 col1\" >0.8700</td>\n",
       "      <td id=\"T_97a48_row1_col2\" class=\"data row1 col2\" >0.7426</td>\n",
       "      <td id=\"T_97a48_row1_col3\" class=\"data row1 col3\" >0.7469</td>\n",
       "      <td id=\"T_97a48_row1_col4\" class=\"data row1 col4\" >0.7447</td>\n",
       "      <td id=\"T_97a48_row1_col5\" class=\"data row1 col5\" >0.4907</td>\n",
       "      <td id=\"T_97a48_row1_col6\" class=\"data row1 col6\" >0.4907</td>\n",
       "    </tr>\n",
       "    <tr>\n",
       "      <th id=\"T_97a48_level0_row2\" class=\"row_heading level0 row2\" >2</th>\n",
       "      <td id=\"T_97a48_row2_col0\" class=\"data row2 col0\" >0.7444</td>\n",
       "      <td id=\"T_97a48_row2_col1\" class=\"data row2 col1\" >0.8693</td>\n",
       "      <td id=\"T_97a48_row2_col2\" class=\"data row2 col2\" >0.7518</td>\n",
       "      <td id=\"T_97a48_row2_col3\" class=\"data row2 col3\" >0.7410</td>\n",
       "      <td id=\"T_97a48_row2_col4\" class=\"data row2 col4\" >0.7463</td>\n",
       "      <td id=\"T_97a48_row2_col5\" class=\"data row2 col5\" >0.4887</td>\n",
       "      <td id=\"T_97a48_row2_col6\" class=\"data row2 col6\" >0.4888</td>\n",
       "    </tr>\n",
       "    <tr>\n",
       "      <th id=\"T_97a48_level0_row3\" class=\"row_heading level0 row3\" >3</th>\n",
       "      <td id=\"T_97a48_row3_col0\" class=\"data row3 col0\" >0.7458</td>\n",
       "      <td id=\"T_97a48_row3_col1\" class=\"data row3 col1\" >0.8706</td>\n",
       "      <td id=\"T_97a48_row3_col2\" class=\"data row3 col2\" >0.7429</td>\n",
       "      <td id=\"T_97a48_row3_col3\" class=\"data row3 col3\" >0.7475</td>\n",
       "      <td id=\"T_97a48_row3_col4\" class=\"data row3 col4\" >0.7451</td>\n",
       "      <td id=\"T_97a48_row3_col5\" class=\"data row3 col5\" >0.4916</td>\n",
       "      <td id=\"T_97a48_row3_col6\" class=\"data row3 col6\" >0.4917</td>\n",
       "    </tr>\n",
       "    <tr>\n",
       "      <th id=\"T_97a48_level0_row4\" class=\"row_heading level0 row4\" >4</th>\n",
       "      <td id=\"T_97a48_row4_col0\" class=\"data row4 col0\" >0.7450</td>\n",
       "      <td id=\"T_97a48_row4_col1\" class=\"data row4 col1\" >0.8698</td>\n",
       "      <td id=\"T_97a48_row4_col2\" class=\"data row4 col2\" >0.7441</td>\n",
       "      <td id=\"T_97a48_row4_col3\" class=\"data row4 col3\" >0.7456</td>\n",
       "      <td id=\"T_97a48_row4_col4\" class=\"data row4 col4\" >0.7448</td>\n",
       "      <td id=\"T_97a48_row4_col5\" class=\"data row4 col5\" >0.4900</td>\n",
       "      <td id=\"T_97a48_row4_col6\" class=\"data row4 col6\" >0.4900</td>\n",
       "    </tr>\n",
       "    <tr>\n",
       "      <th id=\"T_97a48_level0_row5\" class=\"row_heading level0 row5\" >5</th>\n",
       "      <td id=\"T_97a48_row5_col0\" class=\"data row5 col0\" >0.7452</td>\n",
       "      <td id=\"T_97a48_row5_col1\" class=\"data row5 col1\" >0.8700</td>\n",
       "      <td id=\"T_97a48_row5_col2\" class=\"data row5 col2\" >0.7448</td>\n",
       "      <td id=\"T_97a48_row5_col3\" class=\"data row5 col3\" >0.7456</td>\n",
       "      <td id=\"T_97a48_row5_col4\" class=\"data row5 col4\" >0.7452</td>\n",
       "      <td id=\"T_97a48_row5_col5\" class=\"data row5 col5\" >0.4904</td>\n",
       "      <td id=\"T_97a48_row5_col6\" class=\"data row5 col6\" >0.4904</td>\n",
       "    </tr>\n",
       "    <tr>\n",
       "      <th id=\"T_97a48_level0_row6\" class=\"row_heading level0 row6\" >6</th>\n",
       "      <td id=\"T_97a48_row6_col0\" class=\"data row6 col0\" >0.7418</td>\n",
       "      <td id=\"T_97a48_row6_col1\" class=\"data row6 col1\" >0.8663</td>\n",
       "      <td id=\"T_97a48_row6_col2\" class=\"data row6 col2\" >0.7451</td>\n",
       "      <td id=\"T_97a48_row6_col3\" class=\"data row6 col3\" >0.7404</td>\n",
       "      <td id=\"T_97a48_row6_col4\" class=\"data row6 col4\" >0.7428</td>\n",
       "      <td id=\"T_97a48_row6_col5\" class=\"data row6 col5\" >0.4836</td>\n",
       "      <td id=\"T_97a48_row6_col6\" class=\"data row6 col6\" >0.4837</td>\n",
       "    </tr>\n",
       "    <tr>\n",
       "      <th id=\"T_97a48_level0_row7\" class=\"row_heading level0 row7\" >7</th>\n",
       "      <td id=\"T_97a48_row7_col0\" class=\"data row7 col0\" >0.7420</td>\n",
       "      <td id=\"T_97a48_row7_col1\" class=\"data row7 col1\" >0.8668</td>\n",
       "      <td id=\"T_97a48_row7_col2\" class=\"data row7 col2\" >0.7401</td>\n",
       "      <td id=\"T_97a48_row7_col3\" class=\"data row7 col3\" >0.7431</td>\n",
       "      <td id=\"T_97a48_row7_col4\" class=\"data row7 col4\" >0.7416</td>\n",
       "      <td id=\"T_97a48_row7_col5\" class=\"data row7 col5\" >0.4839</td>\n",
       "      <td id=\"T_97a48_row7_col6\" class=\"data row7 col6\" >0.4839</td>\n",
       "    </tr>\n",
       "    <tr>\n",
       "      <th id=\"T_97a48_level0_row8\" class=\"row_heading level0 row8\" >8</th>\n",
       "      <td id=\"T_97a48_row8_col0\" class=\"data row8 col0\" >0.7410</td>\n",
       "      <td id=\"T_97a48_row8_col1\" class=\"data row8 col1\" >0.8658</td>\n",
       "      <td id=\"T_97a48_row8_col2\" class=\"data row8 col2\" >0.7496</td>\n",
       "      <td id=\"T_97a48_row8_col3\" class=\"data row8 col3\" >0.7370</td>\n",
       "      <td id=\"T_97a48_row8_col4\" class=\"data row8 col4\" >0.7433</td>\n",
       "      <td id=\"T_97a48_row8_col5\" class=\"data row8 col5\" >0.4819</td>\n",
       "      <td id=\"T_97a48_row8_col6\" class=\"data row8 col6\" >0.4820</td>\n",
       "    </tr>\n",
       "    <tr>\n",
       "      <th id=\"T_97a48_level0_row9\" class=\"row_heading level0 row9\" >9</th>\n",
       "      <td id=\"T_97a48_row9_col0\" class=\"data row9 col0\" >0.7452</td>\n",
       "      <td id=\"T_97a48_row9_col1\" class=\"data row9 col1\" >0.8698</td>\n",
       "      <td id=\"T_97a48_row9_col2\" class=\"data row9 col2\" >0.7459</td>\n",
       "      <td id=\"T_97a48_row9_col3\" class=\"data row9 col3\" >0.7450</td>\n",
       "      <td id=\"T_97a48_row9_col4\" class=\"data row9 col4\" >0.7454</td>\n",
       "      <td id=\"T_97a48_row9_col5\" class=\"data row9 col5\" >0.4903</td>\n",
       "      <td id=\"T_97a48_row9_col6\" class=\"data row9 col6\" >0.4903</td>\n",
       "    </tr>\n",
       "    <tr>\n",
       "      <th id=\"T_97a48_level0_row10\" class=\"row_heading level0 row10\" >Mean</th>\n",
       "      <td id=\"T_97a48_row10_col0\" class=\"data row10 col0\" >0.7443</td>\n",
       "      <td id=\"T_97a48_row10_col1\" class=\"data row10 col1\" >0.8690</td>\n",
       "      <td id=\"T_97a48_row10_col2\" class=\"data row10 col2\" >0.7455</td>\n",
       "      <td id=\"T_97a48_row10_col3\" class=\"data row10 col3\" >0.7438</td>\n",
       "      <td id=\"T_97a48_row10_col4\" class=\"data row10 col4\" >0.7447</td>\n",
       "      <td id=\"T_97a48_row10_col5\" class=\"data row10 col5\" >0.4885</td>\n",
       "      <td id=\"T_97a48_row10_col6\" class=\"data row10 col6\" >0.4885</td>\n",
       "    </tr>\n",
       "    <tr>\n",
       "      <th id=\"T_97a48_level0_row11\" class=\"row_heading level0 row11\" >Std</th>\n",
       "      <td id=\"T_97a48_row11_col0\" class=\"data row11 col0\" >0.0019</td>\n",
       "      <td id=\"T_97a48_row11_col1\" class=\"data row11 col1\" >0.0019</td>\n",
       "      <td id=\"T_97a48_row11_col2\" class=\"data row11 col2\" >0.0034</td>\n",
       "      <td id=\"T_97a48_row11_col3\" class=\"data row11 col3\" >0.0032</td>\n",
       "      <td id=\"T_97a48_row11_col4\" class=\"data row11 col4\" >0.0016</td>\n",
       "      <td id=\"T_97a48_row11_col5\" class=\"data row11 col5\" >0.0037</td>\n",
       "      <td id=\"T_97a48_row11_col6\" class=\"data row11 col6\" >0.0037</td>\n",
       "    </tr>\n",
       "  </tbody>\n",
       "</table>\n"
      ],
      "text/plain": [
       "<pandas.io.formats.style.Styler at 0x7ff68010f730>"
      ]
     },
     "metadata": {},
     "output_type": "display_data"
    },
    {
     "data": {
      "text/html": [],
      "text/plain": [
       "<IPython.core.display.HTML object>"
      ]
     },
     "metadata": {},
     "output_type": "display_data"
    }
   ],
   "source": [
    "rf = create_model('rf')"
   ]
  },
  {
   "cell_type": "code",
   "execution_count": 32,
   "metadata": {},
   "outputs": [
    {
     "data": {
      "text/html": [],
      "text/plain": [
       "<IPython.core.display.HTML object>"
      ]
     },
     "metadata": {},
     "output_type": "display_data"
    },
    {
     "data": {
      "image/png": "[encoded data removed]",
      "text/plain": [
       "<Figure size 800x550 with 1 Axes>"
      ]
     },
     "metadata": {},
     "output_type": "display_data"
    }
   ],
   "source": [
    "plot_model(rf, plot = 'confusion_matrix')"
   ]
  },
  {
   "cell_type": "code",
   "execution_count": 33,
   "metadata": {},
   "outputs": [
    {
     "data": {
      "text/html": [],
      "text/plain": [
       "<IPython.core.display.HTML object>"
      ]
     },
     "metadata": {},
     "output_type": "display_data"
    },
    {
     "data": {
      "image/png": "[encoded data removed]",
      "text/plain": [
       "<Figure size 800x550 with 1 Axes>"
      ]
     },
     "metadata": {},
     "output_type": "display_data"
    }
   ],
   "source": [
    "plot_model(rf, plot = 'error')"
   ]
  },
  {
   "cell_type": "code",
   "execution_count": 34,
   "metadata": {},
   "outputs": [
    {
     "data": {
      "text/html": [],
      "text/plain": [
       "<IPython.core.display.HTML object>"
      ]
     },
     "metadata": {},
     "output_type": "display_data"
    },
    {
     "data": {
      "text/html": [
       "<div>\n",
       "<style scoped>\n",
       "    .dataframe tbody tr th:only-of-type {\n",
       "        vertical-align: middle;\n",
       "    }\n",
       "\n",
       "    .dataframe tbody tr th {\n",
       "        vertical-align: top;\n",
       "    }\n",
       "\n",
       "    .dataframe thead th {\n",
       "        text-align: right;\n",
       "    }\n",
       "</style>\n",
       "<table border=\"1\" class=\"dataframe\">\n",
       "  <thead>\n",
       "    <tr style=\"text-align: right;\">\n",
       "      <th></th>\n",
       "      <th>Parameters</th>\n",
       "    </tr>\n",
       "  </thead>\n",
       "  <tbody>\n",
       "    <tr>\n",
       "      <th>bootstrap</th>\n",
       "      <td>True</td>\n",
       "    </tr>\n",
       "    <tr>\n",
       "      <th>ccp_alpha</th>\n",
       "      <td>0.0</td>\n",
       "    </tr>\n",
       "    <tr>\n",
       "      <th>class_weight</th>\n",
       "      <td>None</td>\n",
       "    </tr>\n",
       "    <tr>\n",
       "      <th>criterion</th>\n",
       "      <td>gini</td>\n",
       "    </tr>\n",
       "    <tr>\n",
       "      <th>max_depth</th>\n",
       "      <td>None</td>\n",
       "    </tr>\n",
       "    <tr>\n",
       "      <th>max_features</th>\n",
       "      <td>sqrt</td>\n",
       "    </tr>\n",
       "    <tr>\n",
       "      <th>max_leaf_nodes</th>\n",
       "      <td>None</td>\n",
       "    </tr>\n",
       "    <tr>\n",
       "      <th>max_samples</th>\n",
       "      <td>None</td>\n",
       "    </tr>\n",
       "    <tr>\n",
       "      <th>min_impurity_decrease</th>\n",
       "      <td>0.0</td>\n",
       "    </tr>\n",
       "    <tr>\n",
       "      <th>min_samples_leaf</th>\n",
       "      <td>1</td>\n",
       "    </tr>\n",
       "    <tr>\n",
       "      <th>min_samples_split</th>\n",
       "      <td>2</td>\n",
       "    </tr>\n",
       "    <tr>\n",
       "      <th>min_weight_fraction_leaf</th>\n",
       "      <td>0.0</td>\n",
       "    </tr>\n",
       "    <tr>\n",
       "      <th>n_estimators</th>\n",
       "      <td>100</td>\n",
       "    </tr>\n",
       "    <tr>\n",
       "      <th>n_jobs</th>\n",
       "      <td>-1</td>\n",
       "    </tr>\n",
       "    <tr>\n",
       "      <th>oob_score</th>\n",
       "      <td>False</td>\n",
       "    </tr>\n",
       "    <tr>\n",
       "      <th>random_state</th>\n",
       "      <td>8931</td>\n",
       "    </tr>\n",
       "    <tr>\n",
       "      <th>verbose</th>\n",
       "      <td>0</td>\n",
       "    </tr>\n",
       "    <tr>\n",
       "      <th>warm_start</th>\n",
       "      <td>False</td>\n",
       "    </tr>\n",
       "  </tbody>\n",
       "</table>\n",
       "</div>"
      ],
      "text/plain": [
       "                         Parameters\n",
       "bootstrap                      True\n",
       "ccp_alpha                       0.0\n",
       "class_weight                   None\n",
       "criterion                      gini\n",
       "max_depth                      None\n",
       "max_features                   sqrt\n",
       "max_leaf_nodes                 None\n",
       "max_samples                    None\n",
       "min_impurity_decrease           0.0\n",
       "min_samples_leaf                  1\n",
       "min_samples_split                 2\n",
       "min_weight_fraction_leaf        0.0\n",
       "n_estimators                    100\n",
       "n_jobs                           -1\n",
       "oob_score                     False\n",
       "random_state                   8931\n",
       "verbose                           0\n",
       "warm_start                    False"
      ]
     },
     "metadata": {},
     "output_type": "display_data"
    }
   ],
   "source": [
    "plot_model(rf, plot = 'parameter')"
   ]
  },
  {
   "cell_type": "code",
   "execution_count": 35,
   "metadata": {},
   "outputs": [
    {
     "name": "stdout",
     "output_type": "stream",
     "text": [
      "Transformation Pipeline and Model Successfully Saved\n"
     ]
    },
    {
     "data": {
      "text/plain": [
       "(Pipeline(memory=FastMemory(location=/tmp/joblib),\n",
       "          steps=[('numerical_imputer',\n",
       "                  TransformerWrapper(exclude=None,\n",
       "                                     include=['0', '1', '2', '3', '4', '5', '6',\n",
       "                                              '7', '8', '9', '10', '11', '12',\n",
       "                                              '13', '14', '15', '16', '17', '18',\n",
       "                                              '19', '20', '21', '22', '23', '24',\n",
       "                                              '25', '26', '27', '28', '29', ...],\n",
       "                                     transformer=SimpleImputer(add_indicator=False,\n",
       "                                                               copy=True,\n",
       "                                                               fill_value=None,\n",
       "                                                               keep_empty_feat...\n",
       "                  RandomForestClassifier(bootstrap=True, ccp_alpha=0.0,\n",
       "                                         class_weight=None, criterion='gini',\n",
       "                                         max_depth=None, max_features='sqrt',\n",
       "                                         max_leaf_nodes=None, max_samples=None,\n",
       "                                         min_impurity_decrease=0.0,\n",
       "                                         min_samples_leaf=1, min_samples_split=2,\n",
       "                                         min_weight_fraction_leaf=0.0,\n",
       "                                         n_estimators=100, n_jobs=-1,\n",
       "                                         oob_score=False, random_state=8931,\n",
       "                                         verbose=0, warm_start=False))],\n",
       "          verbose=False),\n",
       " 'models_classif/complex/binary_emb_val/rf.pkl')"
      ]
     },
     "execution_count": 35,
     "metadata": {},
     "output_type": "execute_result"
    }
   ],
   "source": [
    "save_model(rf, 'models_classif/complex/binary_emb_val/rf')"
   ]
  },
  {
   "cell_type": "markdown",
   "metadata": {},
   "source": [
    "# Quadratic Discriminant Analysis"
   ]
  },
  {
   "cell_type": "code",
   "execution_count": 36,
   "metadata": {},
   "outputs": [
    {
     "data": {
      "text/html": [],
      "text/plain": [
       "<IPython.core.display.HTML object>"
      ]
     },
     "metadata": {},
     "output_type": "display_data"
    },
    {
     "data": {
      "text/html": [
       "<style type=\"text/css\">\n",
       "#T_bb1e9_row10_col0, #T_bb1e9_row10_col1, #T_bb1e9_row10_col2, #T_bb1e9_row10_col3, #T_bb1e9_row10_col4, #T_bb1e9_row10_col5, #T_bb1e9_row10_col6 {\n",
       "  background: yellow;\n",
       "}\n",
       "</style>\n",
       "<table id=\"T_bb1e9\">\n",
       "  <thead>\n",
       "    <tr>\n",
       "      <th class=\"blank level0\" >&nbsp;</th>\n",
       "      <th id=\"T_bb1e9_level0_col0\" class=\"col_heading level0 col0\" >Accuracy</th>\n",
       "      <th id=\"T_bb1e9_level0_col1\" class=\"col_heading level0 col1\" >AUC</th>\n",
       "      <th id=\"T_bb1e9_level0_col2\" class=\"col_heading level0 col2\" >Recall</th>\n",
       "      <th id=\"T_bb1e9_level0_col3\" class=\"col_heading level0 col3\" >Prec.</th>\n",
       "      <th id=\"T_bb1e9_level0_col4\" class=\"col_heading level0 col4\" >F1</th>\n",
       "      <th id=\"T_bb1e9_level0_col5\" class=\"col_heading level0 col5\" >Kappa</th>\n",
       "      <th id=\"T_bb1e9_level0_col6\" class=\"col_heading level0 col6\" >MCC</th>\n",
       "    </tr>\n",
       "    <tr>\n",
       "      <th class=\"index_name level0\" >Fold</th>\n",
       "      <th class=\"blank col0\" >&nbsp;</th>\n",
       "      <th class=\"blank col1\" >&nbsp;</th>\n",
       "      <th class=\"blank col2\" >&nbsp;</th>\n",
       "      <th class=\"blank col3\" >&nbsp;</th>\n",
       "      <th class=\"blank col4\" >&nbsp;</th>\n",
       "      <th class=\"blank col5\" >&nbsp;</th>\n",
       "      <th class=\"blank col6\" >&nbsp;</th>\n",
       "    </tr>\n",
       "  </thead>\n",
       "  <tbody>\n",
       "    <tr>\n",
       "      <th id=\"T_bb1e9_level0_row0\" class=\"row_heading level0 row0\" >0</th>\n",
       "      <td id=\"T_bb1e9_row0_col0\" class=\"data row0 col0\" >0.5859</td>\n",
       "      <td id=\"T_bb1e9_row0_col1\" class=\"data row0 col1\" >0.6215</td>\n",
       "      <td id=\"T_bb1e9_row0_col2\" class=\"data row0 col2\" >0.4567</td>\n",
       "      <td id=\"T_bb1e9_row0_col3\" class=\"data row0 col3\" >0.6161</td>\n",
       "      <td id=\"T_bb1e9_row0_col4\" class=\"data row0 col4\" >0.5246</td>\n",
       "      <td id=\"T_bb1e9_row0_col5\" class=\"data row0 col5\" >0.1719</td>\n",
       "      <td id=\"T_bb1e9_row0_col6\" class=\"data row0 col6\" >0.1779</td>\n",
       "    </tr>\n",
       "    <tr>\n",
       "      <th id=\"T_bb1e9_level0_row1\" class=\"row_heading level0 row1\" >1</th>\n",
       "      <td id=\"T_bb1e9_row1_col0\" class=\"data row1 col0\" >0.5861</td>\n",
       "      <td id=\"T_bb1e9_row1_col1\" class=\"data row1 col1\" >0.6200</td>\n",
       "      <td id=\"T_bb1e9_row1_col2\" class=\"data row1 col2\" >0.4632</td>\n",
       "      <td id=\"T_bb1e9_row1_col3\" class=\"data row1 col3\" >0.6144</td>\n",
       "      <td id=\"T_bb1e9_row1_col4\" class=\"data row1 col4\" >0.5282</td>\n",
       "      <td id=\"T_bb1e9_row1_col5\" class=\"data row1 col5\" >0.1723</td>\n",
       "      <td id=\"T_bb1e9_row1_col6\" class=\"data row1 col6\" >0.1777</td>\n",
       "    </tr>\n",
       "    <tr>\n",
       "      <th id=\"T_bb1e9_level0_row2\" class=\"row_heading level0 row2\" >2</th>\n",
       "      <td id=\"T_bb1e9_row2_col0\" class=\"data row2 col0\" >0.5863</td>\n",
       "      <td id=\"T_bb1e9_row2_col1\" class=\"data row2 col1\" >0.6221</td>\n",
       "      <td id=\"T_bb1e9_row2_col2\" class=\"data row2 col2\" >0.4583</td>\n",
       "      <td id=\"T_bb1e9_row2_col3\" class=\"data row2 col3\" >0.6164</td>\n",
       "      <td id=\"T_bb1e9_row2_col4\" class=\"data row2 col4\" >0.5257</td>\n",
       "      <td id=\"T_bb1e9_row2_col5\" class=\"data row2 col5\" >0.1728</td>\n",
       "      <td id=\"T_bb1e9_row2_col6\" class=\"data row2 col6\" >0.1788</td>\n",
       "    </tr>\n",
       "    <tr>\n",
       "      <th id=\"T_bb1e9_level0_row3\" class=\"row_heading level0 row3\" >3</th>\n",
       "      <td id=\"T_bb1e9_row3_col0\" class=\"data row3 col0\" >0.5883</td>\n",
       "      <td id=\"T_bb1e9_row3_col1\" class=\"data row3 col1\" >0.6229</td>\n",
       "      <td id=\"T_bb1e9_row3_col2\" class=\"data row3 col2\" >0.4594</td>\n",
       "      <td id=\"T_bb1e9_row3_col3\" class=\"data row3 col3\" >0.6193</td>\n",
       "      <td id=\"T_bb1e9_row3_col4\" class=\"data row3 col4\" >0.5275</td>\n",
       "      <td id=\"T_bb1e9_row3_col5\" class=\"data row3 col5\" >0.1768</td>\n",
       "      <td id=\"T_bb1e9_row3_col6\" class=\"data row3 col6\" >0.1830</td>\n",
       "    </tr>\n",
       "    <tr>\n",
       "      <th id=\"T_bb1e9_level0_row4\" class=\"row_heading level0 row4\" >4</th>\n",
       "      <td id=\"T_bb1e9_row4_col0\" class=\"data row4 col0\" >0.5888</td>\n",
       "      <td id=\"T_bb1e9_row4_col1\" class=\"data row4 col1\" >0.6267</td>\n",
       "      <td id=\"T_bb1e9_row4_col2\" class=\"data row4 col2\" >0.4586</td>\n",
       "      <td id=\"T_bb1e9_row4_col3\" class=\"data row4 col3\" >0.6204</td>\n",
       "      <td id=\"T_bb1e9_row4_col4\" class=\"data row4 col4\" >0.5274</td>\n",
       "      <td id=\"T_bb1e9_row4_col5\" class=\"data row4 col5\" >0.1777</td>\n",
       "      <td id=\"T_bb1e9_row4_col6\" class=\"data row4 col6\" >0.1841</td>\n",
       "    </tr>\n",
       "    <tr>\n",
       "      <th id=\"T_bb1e9_level0_row5\" class=\"row_heading level0 row5\" >5</th>\n",
       "      <td id=\"T_bb1e9_row5_col0\" class=\"data row5 col0\" >0.5902</td>\n",
       "      <td id=\"T_bb1e9_row5_col1\" class=\"data row5 col1\" >0.6260</td>\n",
       "      <td id=\"T_bb1e9_row5_col2\" class=\"data row5 col2\" >0.4621</td>\n",
       "      <td id=\"T_bb1e9_row5_col3\" class=\"data row5 col3\" >0.6216</td>\n",
       "      <td id=\"T_bb1e9_row5_col4\" class=\"data row5 col4\" >0.5301</td>\n",
       "      <td id=\"T_bb1e9_row5_col5\" class=\"data row5 col5\" >0.1806</td>\n",
       "      <td id=\"T_bb1e9_row5_col6\" class=\"data row5 col6\" >0.1868</td>\n",
       "    </tr>\n",
       "    <tr>\n",
       "      <th id=\"T_bb1e9_level0_row6\" class=\"row_heading level0 row6\" >6</th>\n",
       "      <td id=\"T_bb1e9_row6_col0\" class=\"data row6 col0\" >0.5857</td>\n",
       "      <td id=\"T_bb1e9_row6_col1\" class=\"data row6 col1\" >0.6208</td>\n",
       "      <td id=\"T_bb1e9_row6_col2\" class=\"data row6 col2\" >0.4504</td>\n",
       "      <td id=\"T_bb1e9_row6_col3\" class=\"data row6 col3\" >0.6178</td>\n",
       "      <td id=\"T_bb1e9_row6_col4\" class=\"data row6 col4\" >0.5210</td>\n",
       "      <td id=\"T_bb1e9_row6_col5\" class=\"data row6 col5\" >0.1715</td>\n",
       "      <td id=\"T_bb1e9_row6_col6\" class=\"data row6 col6\" >0.1782</td>\n",
       "    </tr>\n",
       "    <tr>\n",
       "      <th id=\"T_bb1e9_level0_row7\" class=\"row_heading level0 row7\" >7</th>\n",
       "      <td id=\"T_bb1e9_row7_col0\" class=\"data row7 col0\" >0.5874</td>\n",
       "      <td id=\"T_bb1e9_row7_col1\" class=\"data row7 col1\" >0.6215</td>\n",
       "      <td id=\"T_bb1e9_row7_col2\" class=\"data row7 col2\" >0.4560</td>\n",
       "      <td id=\"T_bb1e9_row7_col3\" class=\"data row7 col3\" >0.6188</td>\n",
       "      <td id=\"T_bb1e9_row7_col4\" class=\"data row7 col4\" >0.5251</td>\n",
       "      <td id=\"T_bb1e9_row7_col5\" class=\"data row7 col5\" >0.1748</td>\n",
       "      <td id=\"T_bb1e9_row7_col6\" class=\"data row7 col6\" >0.1812</td>\n",
       "    </tr>\n",
       "    <tr>\n",
       "      <th id=\"T_bb1e9_level0_row8\" class=\"row_heading level0 row8\" >8</th>\n",
       "      <td id=\"T_bb1e9_row8_col0\" class=\"data row8 col0\" >0.5867</td>\n",
       "      <td id=\"T_bb1e9_row8_col1\" class=\"data row8 col1\" >0.6225</td>\n",
       "      <td id=\"T_bb1e9_row8_col2\" class=\"data row8 col2\" >0.4645</td>\n",
       "      <td id=\"T_bb1e9_row8_col3\" class=\"data row8 col3\" >0.6151</td>\n",
       "      <td id=\"T_bb1e9_row8_col4\" class=\"data row8 col4\" >0.5293</td>\n",
       "      <td id=\"T_bb1e9_row8_col5\" class=\"data row8 col5\" >0.1735</td>\n",
       "      <td id=\"T_bb1e9_row8_col6\" class=\"data row8 col6\" >0.1790</td>\n",
       "    </tr>\n",
       "    <tr>\n",
       "      <th id=\"T_bb1e9_level0_row9\" class=\"row_heading level0 row9\" >9</th>\n",
       "      <td id=\"T_bb1e9_row9_col0\" class=\"data row9 col0\" >0.5884</td>\n",
       "      <td id=\"T_bb1e9_row9_col1\" class=\"data row9 col1\" >0.6249</td>\n",
       "      <td id=\"T_bb1e9_row9_col2\" class=\"data row9 col2\" >0.4589</td>\n",
       "      <td id=\"T_bb1e9_row9_col3\" class=\"data row9 col3\" >0.6196</td>\n",
       "      <td id=\"T_bb1e9_row9_col4\" class=\"data row9 col4\" >0.5273</td>\n",
       "      <td id=\"T_bb1e9_row9_col5\" class=\"data row9 col5\" >0.1769</td>\n",
       "      <td id=\"T_bb1e9_row9_col6\" class=\"data row9 col6\" >0.1831</td>\n",
       "    </tr>\n",
       "    <tr>\n",
       "      <th id=\"T_bb1e9_level0_row10\" class=\"row_heading level0 row10\" >Mean</th>\n",
       "      <td id=\"T_bb1e9_row10_col0\" class=\"data row10 col0\" >0.5874</td>\n",
       "      <td id=\"T_bb1e9_row10_col1\" class=\"data row10 col1\" >0.6229</td>\n",
       "      <td id=\"T_bb1e9_row10_col2\" class=\"data row10 col2\" >0.4588</td>\n",
       "      <td id=\"T_bb1e9_row10_col3\" class=\"data row10 col3\" >0.6179</td>\n",
       "      <td id=\"T_bb1e9_row10_col4\" class=\"data row10 col4\" >0.5266</td>\n",
       "      <td id=\"T_bb1e9_row10_col5\" class=\"data row10 col5\" >0.1749</td>\n",
       "      <td id=\"T_bb1e9_row10_col6\" class=\"data row10 col6\" >0.1810</td>\n",
       "    </tr>\n",
       "    <tr>\n",
       "      <th id=\"T_bb1e9_level0_row11\" class=\"row_heading level0 row11\" >Std</th>\n",
       "      <td id=\"T_bb1e9_row11_col0\" class=\"data row11 col0\" >0.0014</td>\n",
       "      <td id=\"T_bb1e9_row11_col1\" class=\"data row11 col1\" >0.0021</td>\n",
       "      <td id=\"T_bb1e9_row11_col2\" class=\"data row11 col2\" >0.0038</td>\n",
       "      <td id=\"T_bb1e9_row11_col3\" class=\"data row11 col3\" >0.0023</td>\n",
       "      <td id=\"T_bb1e9_row11_col4\" class=\"data row11 col4\" >0.0025</td>\n",
       "      <td id=\"T_bb1e9_row11_col5\" class=\"data row11 col5\" >0.0028</td>\n",
       "      <td id=\"T_bb1e9_row11_col6\" class=\"data row11 col6\" >0.0030</td>\n",
       "    </tr>\n",
       "  </tbody>\n",
       "</table>\n"
      ],
      "text/plain": [
       "<pandas.io.formats.style.Styler at 0x7ff6800ccf70>"
      ]
     },
     "metadata": {},
     "output_type": "display_data"
    },
    {
     "data": {
      "text/html": [],
      "text/plain": [
       "<IPython.core.display.HTML object>"
      ]
     },
     "metadata": {},
     "output_type": "display_data"
    }
   ],
   "source": [
    "qda = create_model('qda')"
   ]
  },
  {
   "cell_type": "code",
   "execution_count": 37,
   "metadata": {},
   "outputs": [
    {
     "data": {
      "text/html": [],
      "text/plain": [
       "<IPython.core.display.HTML object>"
      ]
     },
     "metadata": {},
     "output_type": "display_data"
    },
    {
     "data": {
      "image/png": "[encoded data removed]",
      "text/plain": [
       "<Figure size 800x550 with 1 Axes>"
      ]
     },
     "metadata": {},
     "output_type": "display_data"
    }
   ],
   "source": [
    "plot_model(qda, plot = 'confusion_matrix')"
   ]
  },
  {
   "cell_type": "code",
   "execution_count": 38,
   "metadata": {},
   "outputs": [
    {
     "data": {
      "text/html": [],
      "text/plain": [
       "<IPython.core.display.HTML object>"
      ]
     },
     "metadata": {},
     "output_type": "display_data"
    },
    {
     "data": {
      "image/png": "[encoded data removed]",
      "text/plain": [
       "<Figure size 800x550 with 1 Axes>"
      ]
     },
     "metadata": {},
     "output_type": "display_data"
    }
   ],
   "source": [
    "plot_model(qda, plot = 'error')"
   ]
  },
  {
   "cell_type": "code",
   "execution_count": 39,
   "metadata": {},
   "outputs": [
    {
     "data": {
      "text/html": [],
      "text/plain": [
       "<IPython.core.display.HTML object>"
      ]
     },
     "metadata": {},
     "output_type": "display_data"
    },
    {
     "data": {
      "text/html": [
       "<div>\n",
       "<style scoped>\n",
       "    .dataframe tbody tr th:only-of-type {\n",
       "        vertical-align: middle;\n",
       "    }\n",
       "\n",
       "    .dataframe tbody tr th {\n",
       "        vertical-align: top;\n",
       "    }\n",
       "\n",
       "    .dataframe thead th {\n",
       "        text-align: right;\n",
       "    }\n",
       "</style>\n",
       "<table border=\"1\" class=\"dataframe\">\n",
       "  <thead>\n",
       "    <tr style=\"text-align: right;\">\n",
       "      <th></th>\n",
       "      <th>Parameters</th>\n",
       "    </tr>\n",
       "  </thead>\n",
       "  <tbody>\n",
       "    <tr>\n",
       "      <th>priors</th>\n",
       "      <td>None</td>\n",
       "    </tr>\n",
       "    <tr>\n",
       "      <th>reg_param</th>\n",
       "      <td>0.0</td>\n",
       "    </tr>\n",
       "    <tr>\n",
       "      <th>store_covariance</th>\n",
       "      <td>False</td>\n",
       "    </tr>\n",
       "    <tr>\n",
       "      <th>tol</th>\n",
       "      <td>0.0001</td>\n",
       "    </tr>\n",
       "  </tbody>\n",
       "</table>\n",
       "</div>"
      ],
      "text/plain": [
       "                 Parameters\n",
       "priors                 None\n",
       "reg_param               0.0\n",
       "store_covariance      False\n",
       "tol                  0.0001"
      ]
     },
     "metadata": {},
     "output_type": "display_data"
    }
   ],
   "source": [
    "plot_model(qda, plot = 'parameter')"
   ]
  },
  {
   "cell_type": "code",
   "execution_count": 40,
   "metadata": {},
   "outputs": [
    {
     "name": "stdout",
     "output_type": "stream",
     "text": [
      "Transformation Pipeline and Model Successfully Saved\n"
     ]
    },
    {
     "data": {
      "text/plain": [
       "(Pipeline(memory=FastMemory(location=/tmp/joblib),\n",
       "          steps=[('numerical_imputer',\n",
       "                  TransformerWrapper(exclude=None,\n",
       "                                     include=['0', '1', '2', '3', '4', '5', '6',\n",
       "                                              '7', '8', '9', '10', '11', '12',\n",
       "                                              '13', '14', '15', '16', '17', '18',\n",
       "                                              '19', '20', '21', '22', '23', '24',\n",
       "                                              '25', '26', '27', '28', '29', ...],\n",
       "                                     transformer=SimpleImputer(add_indicator=False,\n",
       "                                                               copy=True,\n",
       "                                                               fill_value=None,\n",
       "                                                               keep_empty_feat...\n",
       "                 ('categorical_imputer',\n",
       "                  TransformerWrapper(exclude=None, include=[],\n",
       "                                     transformer=SimpleImputer(add_indicator=False,\n",
       "                                                               copy=True,\n",
       "                                                               fill_value=None,\n",
       "                                                               keep_empty_features=False,\n",
       "                                                               missing_values=nan,\n",
       "                                                               strategy='most_frequent',\n",
       "                                                               verbose='deprecated'))),\n",
       "                 ('trained_model',\n",
       "                  QuadraticDiscriminantAnalysis(priors=None, reg_param=0.0,\n",
       "                                                store_covariance=False,\n",
       "                                                tol=0.0001))],\n",
       "          verbose=False),\n",
       " 'models_classif/complex/binary_emb_val/qda.pkl')"
      ]
     },
     "execution_count": 40,
     "metadata": {},
     "output_type": "execute_result"
    }
   ],
   "source": [
    "save_model(qda, 'models_classif/complex/binary_emb_val/qda')"
   ]
  },
  {
   "cell_type": "markdown",
   "metadata": {},
   "source": [
    "# Linear Discriminant Analysis"
   ]
  },
  {
   "cell_type": "code",
   "execution_count": 41,
   "metadata": {},
   "outputs": [
    {
     "data": {
      "text/html": [],
      "text/plain": [
       "<IPython.core.display.HTML object>"
      ]
     },
     "metadata": {},
     "output_type": "display_data"
    },
    {
     "data": {
      "text/html": [
       "<style type=\"text/css\">\n",
       "#T_74284_row10_col0, #T_74284_row10_col1, #T_74284_row10_col2, #T_74284_row10_col3, #T_74284_row10_col4, #T_74284_row10_col5, #T_74284_row10_col6 {\n",
       "  background: yellow;\n",
       "}\n",
       "</style>\n",
       "<table id=\"T_74284\">\n",
       "  <thead>\n",
       "    <tr>\n",
       "      <th class=\"blank level0\" >&nbsp;</th>\n",
       "      <th id=\"T_74284_level0_col0\" class=\"col_heading level0 col0\" >Accuracy</th>\n",
       "      <th id=\"T_74284_level0_col1\" class=\"col_heading level0 col1\" >AUC</th>\n",
       "      <th id=\"T_74284_level0_col2\" class=\"col_heading level0 col2\" >Recall</th>\n",
       "      <th id=\"T_74284_level0_col3\" class=\"col_heading level0 col3\" >Prec.</th>\n",
       "      <th id=\"T_74284_level0_col4\" class=\"col_heading level0 col4\" >F1</th>\n",
       "      <th id=\"T_74284_level0_col5\" class=\"col_heading level0 col5\" >Kappa</th>\n",
       "      <th id=\"T_74284_level0_col6\" class=\"col_heading level0 col6\" >MCC</th>\n",
       "    </tr>\n",
       "    <tr>\n",
       "      <th class=\"index_name level0\" >Fold</th>\n",
       "      <th class=\"blank col0\" >&nbsp;</th>\n",
       "      <th class=\"blank col1\" >&nbsp;</th>\n",
       "      <th class=\"blank col2\" >&nbsp;</th>\n",
       "      <th class=\"blank col3\" >&nbsp;</th>\n",
       "      <th class=\"blank col4\" >&nbsp;</th>\n",
       "      <th class=\"blank col5\" >&nbsp;</th>\n",
       "      <th class=\"blank col6\" >&nbsp;</th>\n",
       "    </tr>\n",
       "  </thead>\n",
       "  <tbody>\n",
       "    <tr>\n",
       "      <th id=\"T_74284_level0_row0\" class=\"row_heading level0 row0\" >0</th>\n",
       "      <td id=\"T_74284_row0_col0\" class=\"data row0 col0\" >0.5344</td>\n",
       "      <td id=\"T_74284_row0_col1\" class=\"data row0 col1\" >0.5547</td>\n",
       "      <td id=\"T_74284_row0_col2\" class=\"data row0 col2\" >0.4976</td>\n",
       "      <td id=\"T_74284_row0_col3\" class=\"data row0 col3\" >0.5373</td>\n",
       "      <td id=\"T_74284_row0_col4\" class=\"data row0 col4\" >0.5167</td>\n",
       "      <td id=\"T_74284_row0_col5\" class=\"data row0 col5\" >0.0687</td>\n",
       "      <td id=\"T_74284_row0_col6\" class=\"data row0 col6\" >0.0689</td>\n",
       "    </tr>\n",
       "    <tr>\n",
       "      <th id=\"T_74284_level0_row1\" class=\"row_heading level0 row1\" >1</th>\n",
       "      <td id=\"T_74284_row1_col0\" class=\"data row1 col0\" >0.5350</td>\n",
       "      <td id=\"T_74284_row1_col1\" class=\"data row1 col1\" >0.5559</td>\n",
       "      <td id=\"T_74284_row1_col2\" class=\"data row1 col2\" >0.4947</td>\n",
       "      <td id=\"T_74284_row1_col3\" class=\"data row1 col3\" >0.5383</td>\n",
       "      <td id=\"T_74284_row1_col4\" class=\"data row1 col4\" >0.5155</td>\n",
       "      <td id=\"T_74284_row1_col5\" class=\"data row1 col5\" >0.0700</td>\n",
       "      <td id=\"T_74284_row1_col6\" class=\"data row1 col6\" >0.0702</td>\n",
       "    </tr>\n",
       "    <tr>\n",
       "      <th id=\"T_74284_level0_row2\" class=\"row_heading level0 row2\" >2</th>\n",
       "      <td id=\"T_74284_row2_col0\" class=\"data row2 col0\" >0.5350</td>\n",
       "      <td id=\"T_74284_row2_col1\" class=\"data row2 col1\" >0.5560</td>\n",
       "      <td id=\"T_74284_row2_col2\" class=\"data row2 col2\" >0.5014</td>\n",
       "      <td id=\"T_74284_row2_col3\" class=\"data row2 col3\" >0.5378</td>\n",
       "      <td id=\"T_74284_row2_col4\" class=\"data row2 col4\" >0.5189</td>\n",
       "      <td id=\"T_74284_row2_col5\" class=\"data row2 col5\" >0.0701</td>\n",
       "      <td id=\"T_74284_row2_col6\" class=\"data row2 col6\" >0.0702</td>\n",
       "    </tr>\n",
       "    <tr>\n",
       "      <th id=\"T_74284_level0_row3\" class=\"row_heading level0 row3\" >3</th>\n",
       "      <td id=\"T_74284_row3_col0\" class=\"data row3 col0\" >0.5354</td>\n",
       "      <td id=\"T_74284_row3_col1\" class=\"data row3 col1\" >0.5566</td>\n",
       "      <td id=\"T_74284_row3_col2\" class=\"data row3 col2\" >0.4987</td>\n",
       "      <td id=\"T_74284_row3_col3\" class=\"data row3 col3\" >0.5385</td>\n",
       "      <td id=\"T_74284_row3_col4\" class=\"data row3 col4\" >0.5178</td>\n",
       "      <td id=\"T_74284_row3_col5\" class=\"data row3 col5\" >0.0709</td>\n",
       "      <td id=\"T_74284_row3_col6\" class=\"data row3 col6\" >0.0711</td>\n",
       "    </tr>\n",
       "    <tr>\n",
       "      <th id=\"T_74284_level0_row4\" class=\"row_heading level0 row4\" >4</th>\n",
       "      <td id=\"T_74284_row4_col0\" class=\"data row4 col0\" >0.5340</td>\n",
       "      <td id=\"T_74284_row4_col1\" class=\"data row4 col1\" >0.5552</td>\n",
       "      <td id=\"T_74284_row4_col2\" class=\"data row4 col2\" >0.4935</td>\n",
       "      <td id=\"T_74284_row4_col3\" class=\"data row4 col3\" >0.5372</td>\n",
       "      <td id=\"T_74284_row4_col4\" class=\"data row4 col4\" >0.5144</td>\n",
       "      <td id=\"T_74284_row4_col5\" class=\"data row4 col5\" >0.0680</td>\n",
       "      <td id=\"T_74284_row4_col6\" class=\"data row4 col6\" >0.0682</td>\n",
       "    </tr>\n",
       "    <tr>\n",
       "      <th id=\"T_74284_level0_row5\" class=\"row_heading level0 row5\" >5</th>\n",
       "      <td id=\"T_74284_row5_col0\" class=\"data row5 col0\" >0.5363</td>\n",
       "      <td id=\"T_74284_row5_col1\" class=\"data row5 col1\" >0.5582</td>\n",
       "      <td id=\"T_74284_row5_col2\" class=\"data row5 col2\" >0.4950</td>\n",
       "      <td id=\"T_74284_row5_col3\" class=\"data row5 col3\" >0.5398</td>\n",
       "      <td id=\"T_74284_row5_col4\" class=\"data row5 col4\" >0.5165</td>\n",
       "      <td id=\"T_74284_row5_col5\" class=\"data row5 col5\" >0.0726</td>\n",
       "      <td id=\"T_74284_row5_col6\" class=\"data row5 col6\" >0.0729</td>\n",
       "    </tr>\n",
       "    <tr>\n",
       "      <th id=\"T_74284_level0_row6\" class=\"row_heading level0 row6\" >6</th>\n",
       "      <td id=\"T_74284_row6_col0\" class=\"data row6 col0\" >0.5367</td>\n",
       "      <td id=\"T_74284_row6_col1\" class=\"data row6 col1\" >0.5557</td>\n",
       "      <td id=\"T_74284_row6_col2\" class=\"data row6 col2\" >0.4960</td>\n",
       "      <td id=\"T_74284_row6_col3\" class=\"data row6 col3\" >0.5402</td>\n",
       "      <td id=\"T_74284_row6_col4\" class=\"data row6 col4\" >0.5171</td>\n",
       "      <td id=\"T_74284_row6_col5\" class=\"data row6 col5\" >0.0735</td>\n",
       "      <td id=\"T_74284_row6_col6\" class=\"data row6 col6\" >0.0737</td>\n",
       "    </tr>\n",
       "    <tr>\n",
       "      <th id=\"T_74284_level0_row7\" class=\"row_heading level0 row7\" >7</th>\n",
       "      <td id=\"T_74284_row7_col0\" class=\"data row7 col0\" >0.5367</td>\n",
       "      <td id=\"T_74284_row7_col1\" class=\"data row7 col1\" >0.5578</td>\n",
       "      <td id=\"T_74284_row7_col2\" class=\"data row7 col2\" >0.4995</td>\n",
       "      <td id=\"T_74284_row7_col3\" class=\"data row7 col3\" >0.5399</td>\n",
       "      <td id=\"T_74284_row7_col4\" class=\"data row7 col4\" >0.5189</td>\n",
       "      <td id=\"T_74284_row7_col5\" class=\"data row7 col5\" >0.0734</td>\n",
       "      <td id=\"T_74284_row7_col6\" class=\"data row7 col6\" >0.0736</td>\n",
       "    </tr>\n",
       "    <tr>\n",
       "      <th id=\"T_74284_level0_row8\" class=\"row_heading level0 row8\" >8</th>\n",
       "      <td id=\"T_74284_row8_col0\" class=\"data row8 col0\" >0.5389</td>\n",
       "      <td id=\"T_74284_row8_col1\" class=\"data row8 col1\" >0.5591</td>\n",
       "      <td id=\"T_74284_row8_col2\" class=\"data row8 col2\" >0.5049</td>\n",
       "      <td id=\"T_74284_row8_col3\" class=\"data row8 col3\" >0.5420</td>\n",
       "      <td id=\"T_74284_row8_col4\" class=\"data row8 col4\" >0.5228</td>\n",
       "      <td id=\"T_74284_row8_col5\" class=\"data row8 col5\" >0.0779</td>\n",
       "      <td id=\"T_74284_row8_col6\" class=\"data row8 col6\" >0.0780</td>\n",
       "    </tr>\n",
       "    <tr>\n",
       "      <th id=\"T_74284_level0_row9\" class=\"row_heading level0 row9\" >9</th>\n",
       "      <td id=\"T_74284_row9_col0\" class=\"data row9 col0\" >0.5360</td>\n",
       "      <td id=\"T_74284_row9_col1\" class=\"data row9 col1\" >0.5566</td>\n",
       "      <td id=\"T_74284_row9_col2\" class=\"data row9 col2\" >0.4990</td>\n",
       "      <td id=\"T_74284_row9_col3\" class=\"data row9 col3\" >0.5391</td>\n",
       "      <td id=\"T_74284_row9_col4\" class=\"data row9 col4\" >0.5183</td>\n",
       "      <td id=\"T_74284_row9_col5\" class=\"data row9 col5\" >0.0721</td>\n",
       "      <td id=\"T_74284_row9_col6\" class=\"data row9 col6\" >0.0723</td>\n",
       "    </tr>\n",
       "    <tr>\n",
       "      <th id=\"T_74284_level0_row10\" class=\"row_heading level0 row10\" >Mean</th>\n",
       "      <td id=\"T_74284_row10_col0\" class=\"data row10 col0\" >0.5358</td>\n",
       "      <td id=\"T_74284_row10_col1\" class=\"data row10 col1\" >0.5566</td>\n",
       "      <td id=\"T_74284_row10_col2\" class=\"data row10 col2\" >0.4980</td>\n",
       "      <td id=\"T_74284_row10_col3\" class=\"data row10 col3\" >0.5390</td>\n",
       "      <td id=\"T_74284_row10_col4\" class=\"data row10 col4\" >0.5177</td>\n",
       "      <td id=\"T_74284_row10_col5\" class=\"data row10 col5\" >0.0717</td>\n",
       "      <td id=\"T_74284_row10_col6\" class=\"data row10 col6\" >0.0719</td>\n",
       "    </tr>\n",
       "    <tr>\n",
       "      <th id=\"T_74284_level0_row11\" class=\"row_heading level0 row11\" >Std</th>\n",
       "      <td id=\"T_74284_row11_col0\" class=\"data row11 col0\" >0.0014</td>\n",
       "      <td id=\"T_74284_row11_col1\" class=\"data row11 col1\" >0.0013</td>\n",
       "      <td id=\"T_74284_row11_col2\" class=\"data row11 col2\" >0.0033</td>\n",
       "      <td id=\"T_74284_row11_col3\" class=\"data row11 col3\" >0.0014</td>\n",
       "      <td id=\"T_74284_row11_col4\" class=\"data row11 col4\" >0.0022</td>\n",
       "      <td id=\"T_74284_row11_col5\" class=\"data row11 col5\" >0.0027</td>\n",
       "      <td id=\"T_74284_row11_col6\" class=\"data row11 col6\" >0.0027</td>\n",
       "    </tr>\n",
       "  </tbody>\n",
       "</table>\n"
      ],
      "text/plain": [
       "<pandas.io.formats.style.Styler at 0x7ff68005f280>"
      ]
     },
     "metadata": {},
     "output_type": "display_data"
    },
    {
     "data": {
      "text/html": [],
      "text/plain": [
       "<IPython.core.display.HTML object>"
      ]
     },
     "metadata": {},
     "output_type": "display_data"
    }
   ],
   "source": [
    "lda = create_model('lda')"
   ]
  },
  {
   "cell_type": "code",
   "execution_count": 42,
   "metadata": {},
   "outputs": [
    {
     "data": {
      "text/html": [],
      "text/plain": [
       "<IPython.core.display.HTML object>"
      ]
     },
     "metadata": {},
     "output_type": "display_data"
    },
    {
     "data": {
      "image/png": "[encoded data removed]",
      "text/plain": [
       "<Figure size 800x550 with 1 Axes>"
      ]
     },
     "metadata": {},
     "output_type": "display_data"
    }
   ],
   "source": [
    "plot_model(lda, plot = 'confusion_matrix')"
   ]
  },
  {
   "cell_type": "code",
   "execution_count": 43,
   "metadata": {},
   "outputs": [
    {
     "data": {
      "text/html": [],
      "text/plain": [
       "<IPython.core.display.HTML object>"
      ]
     },
     "metadata": {},
     "output_type": "display_data"
    },
    {
     "data": {
      "image/png": "[encoded data removed]",
      "text/plain": [
       "<Figure size 800x550 with 1 Axes>"
      ]
     },
     "metadata": {},
     "output_type": "display_data"
    }
   ],
   "source": [
    "plot_model(lda, plot = 'error')"
   ]
  },
  {
   "cell_type": "code",
   "execution_count": 44,
   "metadata": {},
   "outputs": [
    {
     "data": {
      "text/html": [],
      "text/plain": [
       "<IPython.core.display.HTML object>"
      ]
     },
     "metadata": {},
     "output_type": "display_data"
    },
    {
     "data": {
      "text/html": [
       "<div>\n",
       "<style scoped>\n",
       "    .dataframe tbody tr th:only-of-type {\n",
       "        vertical-align: middle;\n",
       "    }\n",
       "\n",
       "    .dataframe tbody tr th {\n",
       "        vertical-align: top;\n",
       "    }\n",
       "\n",
       "    .dataframe thead th {\n",
       "        text-align: right;\n",
       "    }\n",
       "</style>\n",
       "<table border=\"1\" class=\"dataframe\">\n",
       "  <thead>\n",
       "    <tr style=\"text-align: right;\">\n",
       "      <th></th>\n",
       "      <th>Parameters</th>\n",
       "    </tr>\n",
       "  </thead>\n",
       "  <tbody>\n",
       "    <tr>\n",
       "      <th>covariance_estimator</th>\n",
       "      <td>None</td>\n",
       "    </tr>\n",
       "    <tr>\n",
       "      <th>n_components</th>\n",
       "      <td>None</td>\n",
       "    </tr>\n",
       "    <tr>\n",
       "      <th>priors</th>\n",
       "      <td>None</td>\n",
       "    </tr>\n",
       "    <tr>\n",
       "      <th>shrinkage</th>\n",
       "      <td>None</td>\n",
       "    </tr>\n",
       "    <tr>\n",
       "      <th>solver</th>\n",
       "      <td>svd</td>\n",
       "    </tr>\n",
       "    <tr>\n",
       "      <th>store_covariance</th>\n",
       "      <td>False</td>\n",
       "    </tr>\n",
       "    <tr>\n",
       "      <th>tol</th>\n",
       "      <td>0.0001</td>\n",
       "    </tr>\n",
       "  </tbody>\n",
       "</table>\n",
       "</div>"
      ],
      "text/plain": [
       "                     Parameters\n",
       "covariance_estimator       None\n",
       "n_components               None\n",
       "priors                     None\n",
       "shrinkage                  None\n",
       "solver                      svd\n",
       "store_covariance          False\n",
       "tol                      0.0001"
      ]
     },
     "metadata": {},
     "output_type": "display_data"
    }
   ],
   "source": [
    "plot_model(lda, plot = 'parameter')"
   ]
  },
  {
   "cell_type": "code",
   "execution_count": 45,
   "metadata": {},
   "outputs": [
    {
     "name": "stdout",
     "output_type": "stream",
     "text": [
      "Transformation Pipeline and Model Successfully Saved\n"
     ]
    },
    {
     "data": {
      "text/plain": [
       "(Pipeline(memory=FastMemory(location=/tmp/joblib),\n",
       "          steps=[('numerical_imputer',\n",
       "                  TransformerWrapper(exclude=None,\n",
       "                                     include=['0', '1', '2', '3', '4', '5', '6',\n",
       "                                              '7', '8', '9', '10', '11', '12',\n",
       "                                              '13', '14', '15', '16', '17', '18',\n",
       "                                              '19', '20', '21', '22', '23', '24',\n",
       "                                              '25', '26', '27', '28', '29', ...],\n",
       "                                     transformer=SimpleImputer(add_indicator=False,\n",
       "                                                               copy=True,\n",
       "                                                               fill_value=None,\n",
       "                                                               keep_empty_feat...\n",
       "                  TransformerWrapper(exclude=None, include=[],\n",
       "                                     transformer=SimpleImputer(add_indicator=False,\n",
       "                                                               copy=True,\n",
       "                                                               fill_value=None,\n",
       "                                                               keep_empty_features=False,\n",
       "                                                               missing_values=nan,\n",
       "                                                               strategy='most_frequent',\n",
       "                                                               verbose='deprecated'))),\n",
       "                 ('trained_model',\n",
       "                  LinearDiscriminantAnalysis(covariance_estimator=None,\n",
       "                                             n_components=None, priors=None,\n",
       "                                             shrinkage=None, solver='svd',\n",
       "                                             store_covariance=False,\n",
       "                                             tol=0.0001))],\n",
       "          verbose=False),\n",
       " 'models_classif/complex/binary_emb_val/lda.pkl')"
      ]
     },
     "execution_count": 45,
     "metadata": {},
     "output_type": "execute_result"
    }
   ],
   "source": [
    "save_model(lda, 'models_classif/complex/binary_emb_val/lda')"
   ]
  },
  {
   "cell_type": "markdown",
   "metadata": {},
   "source": [
    "# Extra Trees"
   ]
  },
  {
   "cell_type": "code",
   "execution_count": 46,
   "metadata": {},
   "outputs": [
    {
     "data": {
      "text/html": [],
      "text/plain": [
       "<IPython.core.display.HTML object>"
      ]
     },
     "metadata": {},
     "output_type": "display_data"
    },
    {
     "data": {
      "text/html": [
       "<style type=\"text/css\">\n",
       "#T_98c1a_row10_col0, #T_98c1a_row10_col1, #T_98c1a_row10_col2, #T_98c1a_row10_col3, #T_98c1a_row10_col4, #T_98c1a_row10_col5, #T_98c1a_row10_col6 {\n",
       "  background: yellow;\n",
       "}\n",
       "</style>\n",
       "<table id=\"T_98c1a\">\n",
       "  <thead>\n",
       "    <tr>\n",
       "      <th class=\"blank level0\" >&nbsp;</th>\n",
       "      <th id=\"T_98c1a_level0_col0\" class=\"col_heading level0 col0\" >Accuracy</th>\n",
       "      <th id=\"T_98c1a_level0_col1\" class=\"col_heading level0 col1\" >AUC</th>\n",
       "      <th id=\"T_98c1a_level0_col2\" class=\"col_heading level0 col2\" >Recall</th>\n",
       "      <th id=\"T_98c1a_level0_col3\" class=\"col_heading level0 col3\" >Prec.</th>\n",
       "      <th id=\"T_98c1a_level0_col4\" class=\"col_heading level0 col4\" >F1</th>\n",
       "      <th id=\"T_98c1a_level0_col5\" class=\"col_heading level0 col5\" >Kappa</th>\n",
       "      <th id=\"T_98c1a_level0_col6\" class=\"col_heading level0 col6\" >MCC</th>\n",
       "    </tr>\n",
       "    <tr>\n",
       "      <th class=\"index_name level0\" >Fold</th>\n",
       "      <th class=\"blank col0\" >&nbsp;</th>\n",
       "      <th class=\"blank col1\" >&nbsp;</th>\n",
       "      <th class=\"blank col2\" >&nbsp;</th>\n",
       "      <th class=\"blank col3\" >&nbsp;</th>\n",
       "      <th class=\"blank col4\" >&nbsp;</th>\n",
       "      <th class=\"blank col5\" >&nbsp;</th>\n",
       "      <th class=\"blank col6\" >&nbsp;</th>\n",
       "    </tr>\n",
       "  </thead>\n",
       "  <tbody>\n",
       "    <tr>\n",
       "      <th id=\"T_98c1a_level0_row0\" class=\"row_heading level0 row0\" >0</th>\n",
       "      <td id=\"T_98c1a_row0_col0\" class=\"data row0 col0\" >0.7469</td>\n",
       "      <td id=\"T_98c1a_row0_col1\" class=\"data row0 col1\" >0.8716</td>\n",
       "      <td id=\"T_98c1a_row0_col2\" class=\"data row0 col2\" >0.5101</td>\n",
       "      <td id=\"T_98c1a_row0_col3\" class=\"data row0 col3\" >0.9692</td>\n",
       "      <td id=\"T_98c1a_row0_col4\" class=\"data row0 col4\" >0.6684</td>\n",
       "      <td id=\"T_98c1a_row0_col5\" class=\"data row0 col5\" >0.4938</td>\n",
       "      <td id=\"T_98c1a_row0_col6\" class=\"data row0 col6\" >0.5608</td>\n",
       "    </tr>\n",
       "    <tr>\n",
       "      <th id=\"T_98c1a_level0_row1\" class=\"row_heading level0 row1\" >1</th>\n",
       "      <td id=\"T_98c1a_row1_col0\" class=\"data row1 col0\" >0.7450</td>\n",
       "      <td id=\"T_98c1a_row1_col1\" class=\"data row1 col1\" >0.8697</td>\n",
       "      <td id=\"T_98c1a_row1_col2\" class=\"data row1 col2\" >0.5062</td>\n",
       "      <td id=\"T_98c1a_row1_col3\" class=\"data row1 col3\" >0.9693</td>\n",
       "      <td id=\"T_98c1a_row1_col4\" class=\"data row1 col4\" >0.6651</td>\n",
       "      <td id=\"T_98c1a_row1_col5\" class=\"data row1 col5\" >0.4900</td>\n",
       "      <td id=\"T_98c1a_row1_col6\" class=\"data row1 col6\" >0.5579</td>\n",
       "    </tr>\n",
       "    <tr>\n",
       "      <th id=\"T_98c1a_level0_row2\" class=\"row_heading level0 row2\" >2</th>\n",
       "      <td id=\"T_98c1a_row2_col0\" class=\"data row2 col0\" >0.7442</td>\n",
       "      <td id=\"T_98c1a_row2_col1\" class=\"data row2 col1\" >0.8690</td>\n",
       "      <td id=\"T_98c1a_row2_col2\" class=\"data row2 col2\" >0.5124</td>\n",
       "      <td id=\"T_98c1a_row2_col3\" class=\"data row2 col3\" >0.9556</td>\n",
       "      <td id=\"T_98c1a_row2_col4\" class=\"data row2 col4\" >0.6671</td>\n",
       "      <td id=\"T_98c1a_row2_col5\" class=\"data row2 col5\" >0.4885</td>\n",
       "      <td id=\"T_98c1a_row2_col6\" class=\"data row2 col6\" >0.5514</td>\n",
       "    </tr>\n",
       "    <tr>\n",
       "      <th id=\"T_98c1a_level0_row3\" class=\"row_heading level0 row3\" >3</th>\n",
       "      <td id=\"T_98c1a_row3_col0\" class=\"data row3 col0\" >0.7458</td>\n",
       "      <td id=\"T_98c1a_row3_col1\" class=\"data row3 col1\" >0.8705</td>\n",
       "      <td id=\"T_98c1a_row3_col2\" class=\"data row3 col2\" >0.5099</td>\n",
       "      <td id=\"T_98c1a_row3_col3\" class=\"data row3 col3\" >0.9658</td>\n",
       "      <td id=\"T_98c1a_row3_col4\" class=\"data row3 col4\" >0.6674</td>\n",
       "      <td id=\"T_98c1a_row3_col5\" class=\"data row3 col5\" >0.4917</td>\n",
       "      <td id=\"T_98c1a_row3_col6\" class=\"data row3 col6\" >0.5578</td>\n",
       "    </tr>\n",
       "    <tr>\n",
       "      <th id=\"T_98c1a_level0_row4\" class=\"row_heading level0 row4\" >4</th>\n",
       "      <td id=\"T_98c1a_row4_col0\" class=\"data row4 col0\" >0.7449</td>\n",
       "      <td id=\"T_98c1a_row4_col1\" class=\"data row4 col1\" >0.8698</td>\n",
       "      <td id=\"T_98c1a_row4_col2\" class=\"data row4 col2\" >0.5045</td>\n",
       "      <td id=\"T_98c1a_row4_col3\" class=\"data row4 col3\" >0.9719</td>\n",
       "      <td id=\"T_98c1a_row4_col4\" class=\"data row4 col4\" >0.6642</td>\n",
       "      <td id=\"T_98c1a_row4_col5\" class=\"data row4 col5\" >0.4898</td>\n",
       "      <td id=\"T_98c1a_row4_col6\" class=\"data row4 col6\" >0.5587</td>\n",
       "    </tr>\n",
       "    <tr>\n",
       "      <th id=\"T_98c1a_level0_row5\" class=\"row_heading level0 row5\" >5</th>\n",
       "      <td id=\"T_98c1a_row5_col0\" class=\"data row5 col0\" >0.7450</td>\n",
       "      <td id=\"T_98c1a_row5_col1\" class=\"data row5 col1\" >0.8699</td>\n",
       "      <td id=\"T_98c1a_row5_col2\" class=\"data row5 col2\" >0.5098</td>\n",
       "      <td id=\"T_98c1a_row5_col3\" class=\"data row5 col3\" >0.9631</td>\n",
       "      <td id=\"T_98c1a_row5_col4\" class=\"data row5 col4\" >0.6667</td>\n",
       "      <td id=\"T_98c1a_row5_col5\" class=\"data row5 col5\" >0.4901</td>\n",
       "      <td id=\"T_98c1a_row5_col6\" class=\"data row5 col6\" >0.5555</td>\n",
       "    </tr>\n",
       "    <tr>\n",
       "      <th id=\"T_98c1a_level0_row6\" class=\"row_heading level0 row6\" >6</th>\n",
       "      <td id=\"T_98c1a_row6_col0\" class=\"data row6 col0\" >0.7411</td>\n",
       "      <td id=\"T_98c1a_row6_col1\" class=\"data row6 col1\" >0.8656</td>\n",
       "      <td id=\"T_98c1a_row6_col2\" class=\"data row6 col2\" >0.5072</td>\n",
       "      <td id=\"T_98c1a_row6_col3\" class=\"data row6 col3\" >0.9534</td>\n",
       "      <td id=\"T_98c1a_row6_col4\" class=\"data row6 col4\" >0.6621</td>\n",
       "      <td id=\"T_98c1a_row6_col5\" class=\"data row6 col5\" >0.4823</td>\n",
       "      <td id=\"T_98c1a_row6_col6\" class=\"data row6 col6\" >0.5457</td>\n",
       "    </tr>\n",
       "    <tr>\n",
       "      <th id=\"T_98c1a_level0_row7\" class=\"row_heading level0 row7\" >7</th>\n",
       "      <td id=\"T_98c1a_row7_col0\" class=\"data row7 col0\" >0.7420</td>\n",
       "      <td id=\"T_98c1a_row7_col1\" class=\"data row7 col1\" >0.8666</td>\n",
       "      <td id=\"T_98c1a_row7_col2\" class=\"data row7 col2\" >0.5039</td>\n",
       "      <td id=\"T_98c1a_row7_col3\" class=\"data row7 col3\" >0.9625</td>\n",
       "      <td id=\"T_98c1a_row7_col4\" class=\"data row7 col4\" >0.6615</td>\n",
       "      <td id=\"T_98c1a_row7_col5\" class=\"data row7 col5\" >0.4841</td>\n",
       "      <td id=\"T_98c1a_row7_col6\" class=\"data row7 col6\" >0.5507</td>\n",
       "    </tr>\n",
       "    <tr>\n",
       "      <th id=\"T_98c1a_level0_row8\" class=\"row_heading level0 row8\" >8</th>\n",
       "      <td id=\"T_98c1a_row8_col0\" class=\"data row8 col0\" >0.7408</td>\n",
       "      <td id=\"T_98c1a_row8_col1\" class=\"data row8 col1\" >0.8656</td>\n",
       "      <td id=\"T_98c1a_row8_col2\" class=\"data row8 col2\" >0.5125</td>\n",
       "      <td id=\"T_98c1a_row8_col3\" class=\"data row8 col3\" >0.9435</td>\n",
       "      <td id=\"T_98c1a_row8_col4\" class=\"data row8 col4\" >0.6642</td>\n",
       "      <td id=\"T_98c1a_row8_col5\" class=\"data row8 col5\" >0.4817</td>\n",
       "      <td id=\"T_98c1a_row8_col6\" class=\"data row8 col6\" >0.5416</td>\n",
       "    </tr>\n",
       "    <tr>\n",
       "      <th id=\"T_98c1a_level0_row9\" class=\"row_heading level0 row9\" >9</th>\n",
       "      <td id=\"T_98c1a_row9_col0\" class=\"data row9 col0\" >0.7452</td>\n",
       "      <td id=\"T_98c1a_row9_col1\" class=\"data row9 col1\" >0.8700</td>\n",
       "      <td id=\"T_98c1a_row9_col2\" class=\"data row9 col2\" >0.5065</td>\n",
       "      <td id=\"T_98c1a_row9_col3\" class=\"data row9 col3\" >0.9697</td>\n",
       "      <td id=\"T_98c1a_row9_col4\" class=\"data row9 col4\" >0.6654</td>\n",
       "      <td id=\"T_98c1a_row9_col5\" class=\"data row9 col5\" >0.4906</td>\n",
       "      <td id=\"T_98c1a_row9_col6\" class=\"data row9 col6\" >0.5584</td>\n",
       "    </tr>\n",
       "    <tr>\n",
       "      <th id=\"T_98c1a_level0_row10\" class=\"row_heading level0 row10\" >Mean</th>\n",
       "      <td id=\"T_98c1a_row10_col0\" class=\"data row10 col0\" >0.7441</td>\n",
       "      <td id=\"T_98c1a_row10_col1\" class=\"data row10 col1\" >0.8688</td>\n",
       "      <td id=\"T_98c1a_row10_col2\" class=\"data row10 col2\" >0.5083</td>\n",
       "      <td id=\"T_98c1a_row10_col3\" class=\"data row10 col3\" >0.9624</td>\n",
       "      <td id=\"T_98c1a_row10_col4\" class=\"data row10 col4\" >0.6652</td>\n",
       "      <td id=\"T_98c1a_row10_col5\" class=\"data row10 col5\" >0.4883</td>\n",
       "      <td id=\"T_98c1a_row10_col6\" class=\"data row10 col6\" >0.5538</td>\n",
       "    </tr>\n",
       "    <tr>\n",
       "      <th id=\"T_98c1a_level0_row11\" class=\"row_heading level0 row11\" >Std</th>\n",
       "      <td id=\"T_98c1a_row11_col0\" class=\"data row11 col0\" >0.0020</td>\n",
       "      <td id=\"T_98c1a_row11_col1\" class=\"data row11 col1\" >0.0020</td>\n",
       "      <td id=\"T_98c1a_row11_col2\" class=\"data row11 col2\" >0.0029</td>\n",
       "      <td id=\"T_98c1a_row11_col3\" class=\"data row11 col3\" >0.0086</td>\n",
       "      <td id=\"T_98c1a_row11_col4\" class=\"data row11 col4\" >0.0022</td>\n",
       "      <td id=\"T_98c1a_row11_col5\" class=\"data row11 col5\" >0.0039</td>\n",
       "      <td id=\"T_98c1a_row11_col6\" class=\"data row11 col6\" >0.0060</td>\n",
       "    </tr>\n",
       "  </tbody>\n",
       "</table>\n"
      ],
      "text/plain": [
       "<pandas.io.formats.style.Styler at 0x7ff68010cb80>"
      ]
     },
     "metadata": {},
     "output_type": "display_data"
    },
    {
     "data": {
      "text/html": [],
      "text/plain": [
       "<IPython.core.display.HTML object>"
      ]
     },
     "metadata": {},
     "output_type": "display_data"
    }
   ],
   "source": [
    "et = create_model('et')"
   ]
  },
  {
   "cell_type": "code",
   "execution_count": 47,
   "metadata": {},
   "outputs": [
    {
     "data": {
      "text/html": [],
      "text/plain": [
       "<IPython.core.display.HTML object>"
      ]
     },
     "metadata": {},
     "output_type": "display_data"
    },
    {
     "data": {
      "image/png": "[encoded data removed]",
      "text/plain": [
       "<Figure size 800x550 with 1 Axes>"
      ]
     },
     "metadata": {},
     "output_type": "display_data"
    }
   ],
   "source": [
    "plot_model(et, plot = 'confusion_matrix')"
   ]
  },
  {
   "cell_type": "code",
   "execution_count": 48,
   "metadata": {},
   "outputs": [
    {
     "data": {
      "text/html": [],
      "text/plain": [
       "<IPython.core.display.HTML object>"
      ]
     },
     "metadata": {},
     "output_type": "display_data"
    },
    {
     "data": {
      "image/png": "[encoded data removed]",
      "text/plain": [
       "<Figure size 800x550 with 1 Axes>"
      ]
     },
     "metadata": {},
     "output_type": "display_data"
    }
   ],
   "source": [
    "plot_model(et, plot = 'error')"
   ]
  },
  {
   "cell_type": "code",
   "execution_count": 49,
   "metadata": {},
   "outputs": [
    {
     "data": {
      "text/html": [],
      "text/plain": [
       "<IPython.core.display.HTML object>"
      ]
     },
     "metadata": {},
     "output_type": "display_data"
    },
    {
     "data": {
      "text/html": [
       "<div>\n",
       "<style scoped>\n",
       "    .dataframe tbody tr th:only-of-type {\n",
       "        vertical-align: middle;\n",
       "    }\n",
       "\n",
       "    .dataframe tbody tr th {\n",
       "        vertical-align: top;\n",
       "    }\n",
       "\n",
       "    .dataframe thead th {\n",
       "        text-align: right;\n",
       "    }\n",
       "</style>\n",
       "<table border=\"1\" class=\"dataframe\">\n",
       "  <thead>\n",
       "    <tr style=\"text-align: right;\">\n",
       "      <th></th>\n",
       "      <th>Parameters</th>\n",
       "    </tr>\n",
       "  </thead>\n",
       "  <tbody>\n",
       "    <tr>\n",
       "      <th>bootstrap</th>\n",
       "      <td>False</td>\n",
       "    </tr>\n",
       "    <tr>\n",
       "      <th>ccp_alpha</th>\n",
       "      <td>0.0</td>\n",
       "    </tr>\n",
       "    <tr>\n",
       "      <th>class_weight</th>\n",
       "      <td>None</td>\n",
       "    </tr>\n",
       "    <tr>\n",
       "      <th>criterion</th>\n",
       "      <td>gini</td>\n",
       "    </tr>\n",
       "    <tr>\n",
       "      <th>max_depth</th>\n",
       "      <td>None</td>\n",
       "    </tr>\n",
       "    <tr>\n",
       "      <th>max_features</th>\n",
       "      <td>sqrt</td>\n",
       "    </tr>\n",
       "    <tr>\n",
       "      <th>max_leaf_nodes</th>\n",
       "      <td>None</td>\n",
       "    </tr>\n",
       "    <tr>\n",
       "      <th>max_samples</th>\n",
       "      <td>None</td>\n",
       "    </tr>\n",
       "    <tr>\n",
       "      <th>min_impurity_decrease</th>\n",
       "      <td>0.0</td>\n",
       "    </tr>\n",
       "    <tr>\n",
       "      <th>min_samples_leaf</th>\n",
       "      <td>1</td>\n",
       "    </tr>\n",
       "    <tr>\n",
       "      <th>min_samples_split</th>\n",
       "      <td>2</td>\n",
       "    </tr>\n",
       "    <tr>\n",
       "      <th>min_weight_fraction_leaf</th>\n",
       "      <td>0.0</td>\n",
       "    </tr>\n",
       "    <tr>\n",
       "      <th>n_estimators</th>\n",
       "      <td>100</td>\n",
       "    </tr>\n",
       "    <tr>\n",
       "      <th>n_jobs</th>\n",
       "      <td>-1</td>\n",
       "    </tr>\n",
       "    <tr>\n",
       "      <th>oob_score</th>\n",
       "      <td>False</td>\n",
       "    </tr>\n",
       "    <tr>\n",
       "      <th>random_state</th>\n",
       "      <td>8931</td>\n",
       "    </tr>\n",
       "    <tr>\n",
       "      <th>verbose</th>\n",
       "      <td>0</td>\n",
       "    </tr>\n",
       "    <tr>\n",
       "      <th>warm_start</th>\n",
       "      <td>False</td>\n",
       "    </tr>\n",
       "  </tbody>\n",
       "</table>\n",
       "</div>"
      ],
      "text/plain": [
       "                         Parameters\n",
       "bootstrap                     False\n",
       "ccp_alpha                       0.0\n",
       "class_weight                   None\n",
       "criterion                      gini\n",
       "max_depth                      None\n",
       "max_features                   sqrt\n",
       "max_leaf_nodes                 None\n",
       "max_samples                    None\n",
       "min_impurity_decrease           0.0\n",
       "min_samples_leaf                  1\n",
       "min_samples_split                 2\n",
       "min_weight_fraction_leaf        0.0\n",
       "n_estimators                    100\n",
       "n_jobs                           -1\n",
       "oob_score                     False\n",
       "random_state                   8931\n",
       "verbose                           0\n",
       "warm_start                    False"
      ]
     },
     "metadata": {},
     "output_type": "display_data"
    }
   ],
   "source": [
    "plot_model(et, plot = 'parameter')"
   ]
  },
  {
   "cell_type": "code",
   "execution_count": 50,
   "metadata": {},
   "outputs": [
    {
     "name": "stdout",
     "output_type": "stream",
     "text": [
      "Transformation Pipeline and Model Successfully Saved\n"
     ]
    },
    {
     "data": {
      "text/plain": [
       "(Pipeline(memory=FastMemory(location=/tmp/joblib),\n",
       "          steps=[('numerical_imputer',\n",
       "                  TransformerWrapper(exclude=None,\n",
       "                                     include=['0', '1', '2', '3', '4', '5', '6',\n",
       "                                              '7', '8', '9', '10', '11', '12',\n",
       "                                              '13', '14', '15', '16', '17', '18',\n",
       "                                              '19', '20', '21', '22', '23', '24',\n",
       "                                              '25', '26', '27', '28', '29', ...],\n",
       "                                     transformer=SimpleImputer(add_indicator=False,\n",
       "                                                               copy=True,\n",
       "                                                               fill_value=None,\n",
       "                                                               keep_empty_feat...\n",
       "                  ExtraTreesClassifier(bootstrap=False, ccp_alpha=0.0,\n",
       "                                       class_weight=None, criterion='gini',\n",
       "                                       max_depth=None, max_features='sqrt',\n",
       "                                       max_leaf_nodes=None, max_samples=None,\n",
       "                                       min_impurity_decrease=0.0,\n",
       "                                       min_samples_leaf=1, min_samples_split=2,\n",
       "                                       min_weight_fraction_leaf=0.0,\n",
       "                                       n_estimators=100, n_jobs=-1,\n",
       "                                       oob_score=False, random_state=8931,\n",
       "                                       verbose=0, warm_start=False))],\n",
       "          verbose=False),\n",
       " 'models_classif/complex/binary_emb_val/et.pkl')"
      ]
     },
     "execution_count": 50,
     "metadata": {},
     "output_type": "execute_result"
    }
   ],
   "source": [
    "save_model(et, 'models_classif/complex/binary_emb_val/et')"
   ]
  },
  {
   "cell_type": "markdown",
   "metadata": {},
   "source": [
    "# Light Gradient Boosting Machine"
   ]
  },
  {
   "cell_type": "code",
   "execution_count": 51,
   "metadata": {},
   "outputs": [
    {
     "data": {
      "text/html": [],
      "text/plain": [
       "<IPython.core.display.HTML object>"
      ]
     },
     "metadata": {},
     "output_type": "display_data"
    },
    {
     "data": {
      "text/html": [
       "<style type=\"text/css\">\n",
       "#T_7244a_row10_col0, #T_7244a_row10_col1, #T_7244a_row10_col2, #T_7244a_row10_col3, #T_7244a_row10_col4, #T_7244a_row10_col5, #T_7244a_row10_col6 {\n",
       "  background: yellow;\n",
       "}\n",
       "</style>\n",
       "<table id=\"T_7244a\">\n",
       "  <thead>\n",
       "    <tr>\n",
       "      <th class=\"blank level0\" >&nbsp;</th>\n",
       "      <th id=\"T_7244a_level0_col0\" class=\"col_heading level0 col0\" >Accuracy</th>\n",
       "      <th id=\"T_7244a_level0_col1\" class=\"col_heading level0 col1\" >AUC</th>\n",
       "      <th id=\"T_7244a_level0_col2\" class=\"col_heading level0 col2\" >Recall</th>\n",
       "      <th id=\"T_7244a_level0_col3\" class=\"col_heading level0 col3\" >Prec.</th>\n",
       "      <th id=\"T_7244a_level0_col4\" class=\"col_heading level0 col4\" >F1</th>\n",
       "      <th id=\"T_7244a_level0_col5\" class=\"col_heading level0 col5\" >Kappa</th>\n",
       "      <th id=\"T_7244a_level0_col6\" class=\"col_heading level0 col6\" >MCC</th>\n",
       "    </tr>\n",
       "    <tr>\n",
       "      <th class=\"index_name level0\" >Fold</th>\n",
       "      <th class=\"blank col0\" >&nbsp;</th>\n",
       "      <th class=\"blank col1\" >&nbsp;</th>\n",
       "      <th class=\"blank col2\" >&nbsp;</th>\n",
       "      <th class=\"blank col3\" >&nbsp;</th>\n",
       "      <th class=\"blank col4\" >&nbsp;</th>\n",
       "      <th class=\"blank col5\" >&nbsp;</th>\n",
       "      <th class=\"blank col6\" >&nbsp;</th>\n",
       "    </tr>\n",
       "  </thead>\n",
       "  <tbody>\n",
       "    <tr>\n",
       "      <th id=\"T_7244a_level0_row0\" class=\"row_heading level0 row0\" >0</th>\n",
       "      <td id=\"T_7244a_row0_col0\" class=\"data row0 col0\" >0.6226</td>\n",
       "      <td id=\"T_7244a_row0_col1\" class=\"data row0 col1\" >0.6637</td>\n",
       "      <td id=\"T_7244a_row0_col2\" class=\"data row0 col2\" >0.5465</td>\n",
       "      <td id=\"T_7244a_row0_col3\" class=\"data row0 col3\" >0.6448</td>\n",
       "      <td id=\"T_7244a_row0_col4\" class=\"data row0 col4\" >0.5916</td>\n",
       "      <td id=\"T_7244a_row0_col5\" class=\"data row0 col5\" >0.2452</td>\n",
       "      <td id=\"T_7244a_row0_col6\" class=\"data row0 col6\" >0.2481</td>\n",
       "    </tr>\n",
       "    <tr>\n",
       "      <th id=\"T_7244a_level0_row1\" class=\"row_heading level0 row1\" >1</th>\n",
       "      <td id=\"T_7244a_row1_col0\" class=\"data row1 col0\" >0.6242</td>\n",
       "      <td id=\"T_7244a_row1_col1\" class=\"data row1 col1\" >0.6649</td>\n",
       "      <td id=\"T_7244a_row1_col2\" class=\"data row1 col2\" >0.5525</td>\n",
       "      <td id=\"T_7244a_row1_col3\" class=\"data row1 col3\" >0.6452</td>\n",
       "      <td id=\"T_7244a_row1_col4\" class=\"data row1 col4\" >0.5953</td>\n",
       "      <td id=\"T_7244a_row1_col5\" class=\"data row1 col5\" >0.2485</td>\n",
       "      <td id=\"T_7244a_row1_col6\" class=\"data row1 col6\" >0.2511</td>\n",
       "    </tr>\n",
       "    <tr>\n",
       "      <th id=\"T_7244a_level0_row2\" class=\"row_heading level0 row2\" >2</th>\n",
       "      <td id=\"T_7244a_row2_col0\" class=\"data row2 col0\" >0.6245</td>\n",
       "      <td id=\"T_7244a_row2_col1\" class=\"data row2 col1\" >0.6649</td>\n",
       "      <td id=\"T_7244a_row2_col2\" class=\"data row2 col2\" >0.5548</td>\n",
       "      <td id=\"T_7244a_row2_col3\" class=\"data row2 col3\" >0.6449</td>\n",
       "      <td id=\"T_7244a_row2_col4\" class=\"data row2 col4\" >0.5964</td>\n",
       "      <td id=\"T_7244a_row2_col5\" class=\"data row2 col5\" >0.2490</td>\n",
       "      <td id=\"T_7244a_row2_col6\" class=\"data row2 col6\" >0.2514</td>\n",
       "    </tr>\n",
       "    <tr>\n",
       "      <th id=\"T_7244a_level0_row3\" class=\"row_heading level0 row3\" >3</th>\n",
       "      <td id=\"T_7244a_row3_col0\" class=\"data row3 col0\" >0.6271</td>\n",
       "      <td id=\"T_7244a_row3_col1\" class=\"data row3 col1\" >0.6682</td>\n",
       "      <td id=\"T_7244a_row3_col2\" class=\"data row3 col2\" >0.5530</td>\n",
       "      <td id=\"T_7244a_row3_col3\" class=\"data row3 col3\" >0.6494</td>\n",
       "      <td id=\"T_7244a_row3_col4\" class=\"data row3 col4\" >0.5973</td>\n",
       "      <td id=\"T_7244a_row3_col5\" class=\"data row3 col5\" >0.2542</td>\n",
       "      <td id=\"T_7244a_row3_col6\" class=\"data row3 col6\" >0.2570</td>\n",
       "    </tr>\n",
       "    <tr>\n",
       "      <th id=\"T_7244a_level0_row4\" class=\"row_heading level0 row4\" >4</th>\n",
       "      <td id=\"T_7244a_row4_col0\" class=\"data row4 col0\" >0.6246</td>\n",
       "      <td id=\"T_7244a_row4_col1\" class=\"data row4 col1\" >0.6663</td>\n",
       "      <td id=\"T_7244a_row4_col2\" class=\"data row4 col2\" >0.5472</td>\n",
       "      <td id=\"T_7244a_row4_col3\" class=\"data row4 col3\" >0.6476</td>\n",
       "      <td id=\"T_7244a_row4_col4\" class=\"data row4 col4\" >0.5932</td>\n",
       "      <td id=\"T_7244a_row4_col5\" class=\"data row4 col5\" >0.2492</td>\n",
       "      <td id=\"T_7244a_row4_col6\" class=\"data row4 col6\" >0.2523</td>\n",
       "    </tr>\n",
       "    <tr>\n",
       "      <th id=\"T_7244a_level0_row5\" class=\"row_heading level0 row5\" >5</th>\n",
       "      <td id=\"T_7244a_row5_col0\" class=\"data row5 col0\" >0.6266</td>\n",
       "      <td id=\"T_7244a_row5_col1\" class=\"data row5 col1\" >0.6679</td>\n",
       "      <td id=\"T_7244a_row5_col2\" class=\"data row5 col2\" >0.5503</td>\n",
       "      <td id=\"T_7244a_row5_col3\" class=\"data row5 col3\" >0.6497</td>\n",
       "      <td id=\"T_7244a_row5_col4\" class=\"data row5 col4\" >0.5959</td>\n",
       "      <td id=\"T_7244a_row5_col5\" class=\"data row5 col5\" >0.2533</td>\n",
       "      <td id=\"T_7244a_row5_col6\" class=\"data row5 col6\" >0.2563</td>\n",
       "    </tr>\n",
       "    <tr>\n",
       "      <th id=\"T_7244a_level0_row6\" class=\"row_heading level0 row6\" >6</th>\n",
       "      <td id=\"T_7244a_row6_col0\" class=\"data row6 col0\" >0.6225</td>\n",
       "      <td id=\"T_7244a_row6_col1\" class=\"data row6 col1\" >0.6625</td>\n",
       "      <td id=\"T_7244a_row6_col2\" class=\"data row6 col2\" >0.5454</td>\n",
       "      <td id=\"T_7244a_row6_col3\" class=\"data row6 col3\" >0.6451</td>\n",
       "      <td id=\"T_7244a_row6_col4\" class=\"data row6 col4\" >0.5910</td>\n",
       "      <td id=\"T_7244a_row6_col5\" class=\"data row6 col5\" >0.2450</td>\n",
       "      <td id=\"T_7244a_row6_col6\" class=\"data row6 col6\" >0.2480</td>\n",
       "    </tr>\n",
       "    <tr>\n",
       "      <th id=\"T_7244a_level0_row7\" class=\"row_heading level0 row7\" >7</th>\n",
       "      <td id=\"T_7244a_row7_col0\" class=\"data row7 col0\" >0.6262</td>\n",
       "      <td id=\"T_7244a_row7_col1\" class=\"data row7 col1\" >0.6663</td>\n",
       "      <td id=\"T_7244a_row7_col2\" class=\"data row7 col2\" >0.5556</td>\n",
       "      <td id=\"T_7244a_row7_col3\" class=\"data row7 col3\" >0.6472</td>\n",
       "      <td id=\"T_7244a_row7_col4\" class=\"data row7 col4\" >0.5979</td>\n",
       "      <td id=\"T_7244a_row7_col5\" class=\"data row7 col5\" >0.2524</td>\n",
       "      <td id=\"T_7244a_row7_col6\" class=\"data row7 col6\" >0.2550</td>\n",
       "    </tr>\n",
       "    <tr>\n",
       "      <th id=\"T_7244a_level0_row8\" class=\"row_heading level0 row8\" >8</th>\n",
       "      <td id=\"T_7244a_row8_col0\" class=\"data row8 col0\" >0.6227</td>\n",
       "      <td id=\"T_7244a_row8_col1\" class=\"data row8 col1\" >0.6642</td>\n",
       "      <td id=\"T_7244a_row8_col2\" class=\"data row8 col2\" >0.5524</td>\n",
       "      <td id=\"T_7244a_row8_col3\" class=\"data row8 col3\" >0.6431</td>\n",
       "      <td id=\"T_7244a_row8_col4\" class=\"data row8 col4\" >0.5943</td>\n",
       "      <td id=\"T_7244a_row8_col5\" class=\"data row8 col5\" >0.2455</td>\n",
       "      <td id=\"T_7244a_row8_col6\" class=\"data row8 col6\" >0.2480</td>\n",
       "    </tr>\n",
       "    <tr>\n",
       "      <th id=\"T_7244a_level0_row9\" class=\"row_heading level0 row9\" >9</th>\n",
       "      <td id=\"T_7244a_row9_col0\" class=\"data row9 col0\" >0.6255</td>\n",
       "      <td id=\"T_7244a_row9_col1\" class=\"data row9 col1\" >0.6678</td>\n",
       "      <td id=\"T_7244a_row9_col2\" class=\"data row9 col2\" >0.5499</td>\n",
       "      <td id=\"T_7244a_row9_col3\" class=\"data row9 col3\" >0.6480</td>\n",
       "      <td id=\"T_7244a_row9_col4\" class=\"data row9 col4\" >0.5950</td>\n",
       "      <td id=\"T_7244a_row9_col5\" class=\"data row9 col5\" >0.2510</td>\n",
       "      <td id=\"T_7244a_row9_col6\" class=\"data row9 col6\" >0.2539</td>\n",
       "    </tr>\n",
       "    <tr>\n",
       "      <th id=\"T_7244a_level0_row10\" class=\"row_heading level0 row10\" >Mean</th>\n",
       "      <td id=\"T_7244a_row10_col0\" class=\"data row10 col0\" >0.6246</td>\n",
       "      <td id=\"T_7244a_row10_col1\" class=\"data row10 col1\" >0.6657</td>\n",
       "      <td id=\"T_7244a_row10_col2\" class=\"data row10 col2\" >0.5508</td>\n",
       "      <td id=\"T_7244a_row10_col3\" class=\"data row10 col3\" >0.6465</td>\n",
       "      <td id=\"T_7244a_row10_col4\" class=\"data row10 col4\" >0.5948</td>\n",
       "      <td id=\"T_7244a_row10_col5\" class=\"data row10 col5\" >0.2493</td>\n",
       "      <td id=\"T_7244a_row10_col6\" class=\"data row10 col6\" >0.2521</td>\n",
       "    </tr>\n",
       "    <tr>\n",
       "      <th id=\"T_7244a_level0_row11\" class=\"row_heading level0 row11\" >Std</th>\n",
       "      <td id=\"T_7244a_row11_col0\" class=\"data row11 col0\" >0.0016</td>\n",
       "      <td id=\"T_7244a_row11_col1\" class=\"data row11 col1\" >0.0018</td>\n",
       "      <td id=\"T_7244a_row11_col2\" class=\"data row11 col2\" >0.0033</td>\n",
       "      <td id=\"T_7244a_row11_col3\" class=\"data row11 col3\" >0.0021</td>\n",
       "      <td id=\"T_7244a_row11_col4\" class=\"data row11 col4\" >0.0022</td>\n",
       "      <td id=\"T_7244a_row11_col5\" class=\"data row11 col5\" >0.0032</td>\n",
       "      <td id=\"T_7244a_row11_col6\" class=\"data row11 col6\" >0.0032</td>\n",
       "    </tr>\n",
       "  </tbody>\n",
       "</table>\n"
      ],
      "text/plain": [
       "<pandas.io.formats.style.Styler at 0x7ff68010f430>"
      ]
     },
     "metadata": {},
     "output_type": "display_data"
    },
    {
     "data": {
      "text/html": [],
      "text/plain": [
       "<IPython.core.display.HTML object>"
      ]
     },
     "metadata": {},
     "output_type": "display_data"
    }
   ],
   "source": [
    "lightgbm = create_model('lightgbm')"
   ]
  },
  {
   "cell_type": "code",
   "execution_count": 52,
   "metadata": {},
   "outputs": [
    {
     "data": {
      "text/html": [],
      "text/plain": [
       "<IPython.core.display.HTML object>"
      ]
     },
     "metadata": {},
     "output_type": "display_data"
    },
    {
     "data": {
      "image/png": "[encoded data removed]",
      "text/plain": [
       "<Figure size 800x550 with 1 Axes>"
      ]
     },
     "metadata": {},
     "output_type": "display_data"
    }
   ],
   "source": [
    "plot_model(lightgbm, plot = 'confusion_matrix')"
   ]
  },
  {
   "cell_type": "code",
   "execution_count": 53,
   "metadata": {},
   "outputs": [
    {
     "data": {
      "text/html": [],
      "text/plain": [
       "<IPython.core.display.HTML object>"
      ]
     },
     "metadata": {},
     "output_type": "display_data"
    },
    {
     "data": {
      "image/png": "[encoded data removed]",
      "text/plain": [
       "<Figure size 800x550 with 1 Axes>"
      ]
     },
     "metadata": {},
     "output_type": "display_data"
    }
   ],
   "source": [
    "plot_model(lightgbm, plot = 'error')"
   ]
  },
  {
   "cell_type": "code",
   "execution_count": 54,
   "metadata": {},
   "outputs": [
    {
     "data": {
      "text/html": [],
      "text/plain": [
       "<IPython.core.display.HTML object>"
      ]
     },
     "metadata": {},
     "output_type": "display_data"
    },
    {
     "data": {
      "text/html": [
       "<div>\n",
       "<style scoped>\n",
       "    .dataframe tbody tr th:only-of-type {\n",
       "        vertical-align: middle;\n",
       "    }\n",
       "\n",
       "    .dataframe tbody tr th {\n",
       "        vertical-align: top;\n",
       "    }\n",
       "\n",
       "    .dataframe thead th {\n",
       "        text-align: right;\n",
       "    }\n",
       "</style>\n",
       "<table border=\"1\" class=\"dataframe\">\n",
       "  <thead>\n",
       "    <tr style=\"text-align: right;\">\n",
       "      <th></th>\n",
       "      <th>Parameters</th>\n",
       "    </tr>\n",
       "  </thead>\n",
       "  <tbody>\n",
       "    <tr>\n",
       "      <th>boosting_type</th>\n",
       "      <td>gbdt</td>\n",
       "    </tr>\n",
       "    <tr>\n",
       "      <th>class_weight</th>\n",
       "      <td>None</td>\n",
       "    </tr>\n",
       "    <tr>\n",
       "      <th>colsample_bytree</th>\n",
       "      <td>1.0</td>\n",
       "    </tr>\n",
       "    <tr>\n",
       "      <th>importance_type</th>\n",
       "      <td>split</td>\n",
       "    </tr>\n",
       "    <tr>\n",
       "      <th>learning_rate</th>\n",
       "      <td>0.1</td>\n",
       "    </tr>\n",
       "    <tr>\n",
       "      <th>max_depth</th>\n",
       "      <td>-1</td>\n",
       "    </tr>\n",
       "    <tr>\n",
       "      <th>min_child_samples</th>\n",
       "      <td>20</td>\n",
       "    </tr>\n",
       "    <tr>\n",
       "      <th>min_child_weight</th>\n",
       "      <td>0.001</td>\n",
       "    </tr>\n",
       "    <tr>\n",
       "      <th>min_split_gain</th>\n",
       "      <td>0.0</td>\n",
       "    </tr>\n",
       "    <tr>\n",
       "      <th>n_estimators</th>\n",
       "      <td>100</td>\n",
       "    </tr>\n",
       "    <tr>\n",
       "      <th>n_jobs</th>\n",
       "      <td>-1</td>\n",
       "    </tr>\n",
       "    <tr>\n",
       "      <th>num_leaves</th>\n",
       "      <td>31</td>\n",
       "    </tr>\n",
       "    <tr>\n",
       "      <th>objective</th>\n",
       "      <td>None</td>\n",
       "    </tr>\n",
       "    <tr>\n",
       "      <th>random_state</th>\n",
       "      <td>8931</td>\n",
       "    </tr>\n",
       "    <tr>\n",
       "      <th>reg_alpha</th>\n",
       "      <td>0.0</td>\n",
       "    </tr>\n",
       "    <tr>\n",
       "      <th>reg_lambda</th>\n",
       "      <td>0.0</td>\n",
       "    </tr>\n",
       "    <tr>\n",
       "      <th>silent</th>\n",
       "      <td>warn</td>\n",
       "    </tr>\n",
       "    <tr>\n",
       "      <th>subsample</th>\n",
       "      <td>1.0</td>\n",
       "    </tr>\n",
       "    <tr>\n",
       "      <th>subsample_for_bin</th>\n",
       "      <td>200000</td>\n",
       "    </tr>\n",
       "    <tr>\n",
       "      <th>subsample_freq</th>\n",
       "      <td>0</td>\n",
       "    </tr>\n",
       "  </tbody>\n",
       "</table>\n",
       "</div>"
      ],
      "text/plain": [
       "                  Parameters\n",
       "boosting_type           gbdt\n",
       "class_weight            None\n",
       "colsample_bytree         1.0\n",
       "importance_type        split\n",
       "learning_rate            0.1\n",
       "max_depth                 -1\n",
       "min_child_samples         20\n",
       "min_child_weight       0.001\n",
       "min_split_gain           0.0\n",
       "n_estimators             100\n",
       "n_jobs                    -1\n",
       "num_leaves                31\n",
       "objective               None\n",
       "random_state            8931\n",
       "reg_alpha                0.0\n",
       "reg_lambda               0.0\n",
       "silent                  warn\n",
       "subsample                1.0\n",
       "subsample_for_bin     200000\n",
       "subsample_freq             0"
      ]
     },
     "metadata": {},
     "output_type": "display_data"
    }
   ],
   "source": [
    "plot_model(lightgbm, plot = 'parameter')"
   ]
  },
  {
   "cell_type": "code",
   "execution_count": 55,
   "metadata": {},
   "outputs": [
    {
     "name": "stdout",
     "output_type": "stream",
     "text": [
      "Transformation Pipeline and Model Successfully Saved\n"
     ]
    },
    {
     "data": {
      "text/plain": [
       "(Pipeline(memory=FastMemory(location=/tmp/joblib),\n",
       "          steps=[('numerical_imputer',\n",
       "                  TransformerWrapper(exclude=None,\n",
       "                                     include=['0', '1', '2', '3', '4', '5', '6',\n",
       "                                              '7', '8', '9', '10', '11', '12',\n",
       "                                              '13', '14', '15', '16', '17', '18',\n",
       "                                              '19', '20', '21', '22', '23', '24',\n",
       "                                              '25', '26', '27', '28', '29', ...],\n",
       "                                     transformer=SimpleImputer(add_indicator=False,\n",
       "                                                               copy=True,\n",
       "                                                               fill_value=None,\n",
       "                                                               keep_empty_feat...\n",
       "                  LGBMClassifier(boosting_type='gbdt', class_weight=None,\n",
       "                                 colsample_bytree=1.0, importance_type='split',\n",
       "                                 learning_rate=0.1, max_depth=-1,\n",
       "                                 min_child_samples=20, min_child_weight=0.001,\n",
       "                                 min_split_gain=0.0, n_estimators=100, n_jobs=-1,\n",
       "                                 num_leaves=31, objective=None,\n",
       "                                 random_state=8931, reg_alpha=0.0,\n",
       "                                 reg_lambda=0.0, silent='warn', subsample=1.0,\n",
       "                                 subsample_for_bin=200000, subsample_freq=0))],\n",
       "          verbose=False),\n",
       " 'models_classif/complex/binary_emb_val/lightgbm.pkl')"
      ]
     },
     "execution_count": 55,
     "metadata": {},
     "output_type": "execute_result"
    }
   ],
   "source": [
    "save_model(lightgbm, 'models_classif/complex/binary_emb_val/lightgbm')"
   ]
  },
  {
   "cell_type": "markdown",
   "metadata": {
    "tags": []
   },
   "source": [
    "# MLP Classifier"
   ]
  },
  {
   "cell_type": "code",
   "execution_count": null,
   "metadata": {},
   "outputs": [
    {
     "data": {
      "text/html": [
       "<div>\n",
       "<style scoped>\n",
       "    .dataframe tbody tr th:only-of-type {\n",
       "        vertical-align: middle;\n",
       "    }\n",
       "\n",
       "    .dataframe tbody tr th {\n",
       "        vertical-align: top;\n",
       "    }\n",
       "\n",
       "    .dataframe thead th {\n",
       "        text-align: right;\n",
       "    }\n",
       "</style>\n",
       "<table border=\"1\" class=\"dataframe\">\n",
       "  <thead>\n",
       "    <tr style=\"text-align: right;\">\n",
       "      <th></th>\n",
       "      <th></th>\n",
       "      <th></th>\n",
       "    </tr>\n",
       "    <tr>\n",
       "      <th></th>\n",
       "      <th></th>\n",
       "      <th></th>\n",
       "    </tr>\n",
       "  </thead>\n",
       "  <tbody>\n",
       "    <tr>\n",
       "      <th>Initiated</th>\n",
       "      <td>. . . . . . . . . . . . . . . . . .</td>\n",
       "      <td>02:10:24</td>\n",
       "    </tr>\n",
       "    <tr>\n",
       "      <th>Status</th>\n",
       "      <td>. . . . . . . . . . . . . . . . . .</td>\n",
       "      <td>Fitting 10 Folds</td>\n",
       "    </tr>\n",
       "    <tr>\n",
       "      <th>Estimator</th>\n",
       "      <td>. . . . . . . . . . . . . . . . . .</td>\n",
       "      <td>MLP Classifier</td>\n",
       "    </tr>\n",
       "  </tbody>\n",
       "</table>\n",
       "</div>"
      ],
      "text/plain": [
       "                                                                \n",
       "                                                                \n",
       "Initiated  . . . . . . . . . . . . . . . . . .          02:10:24\n",
       "Status     . . . . . . . . . . . . . . . . . .  Fitting 10 Folds\n",
       "Estimator  . . . . . . . . . . . . . . . . . .    MLP Classifier"
      ]
     },
     "metadata": {},
     "output_type": "display_data"
    },
    {
     "data": {
      "text/html": [],
      "text/plain": [
       "<IPython.core.display.HTML object>"
      ]
     },
     "metadata": {},
     "output_type": "display_data"
    },
    {
     "data": {
      "application/vnd.jupyter.widget-view+json": {
       "model_id": "ada813b5c3f64965a2b356bd03f41b69",
       "version_major": 2,
       "version_minor": 0
      },
      "text/plain": [
       "Processing:   0%|          | 0/4 [00:00<?, ?it/s]"
      ]
     },
     "metadata": {},
     "output_type": "display_data"
    }
   ],
   "source": [
    "mlp = create_model('mlp')"
   ]
  },
  {
   "cell_type": "code",
   "execution_count": null,
   "metadata": {},
   "outputs": [],
   "source": [
    "plot_model(mlp, plot = 'confusion_matrix')"
   ]
  },
  {
   "cell_type": "code",
   "execution_count": null,
   "metadata": {},
   "outputs": [],
   "source": [
    "plot_model(mlp, plot = 'error')"
   ]
  },
  {
   "cell_type": "code",
   "execution_count": null,
   "metadata": {},
   "outputs": [],
   "source": [
    "plot_model(mlp, plot = 'parameter')"
   ]
  },
  {
   "cell_type": "code",
   "execution_count": null,
   "metadata": {
    "tags": []
   },
   "outputs": [],
   "source": [
    "save_model(mlp, 'models_classif/complex/binary_emb_val/mlp')"
   ]
  }
 ],
 "metadata": {
  "kernelspec": {
   "display_name": "aled",
   "language": "python",
   "name": "aled"
  },
  "language_info": {
   "codemirror_mode": {
    "name": "ipython",
    "version": 3
   },
   "file_extension": ".py",
   "mimetype": "text/x-python",
   "name": "python",
   "nbconvert_exporter": "python",
   "pygments_lexer": "ipython3",
   "version": "3.10.9"
  },
  "vscode": {
   "interpreter": {
    "hash": "bad715aa2aaeb5e6c151df84b54974e4cb5c7f8696a7ce08edfdc275e59caf55"
   }
  }
 },
 "nbformat": 4,
 "nbformat_minor": 4
}
