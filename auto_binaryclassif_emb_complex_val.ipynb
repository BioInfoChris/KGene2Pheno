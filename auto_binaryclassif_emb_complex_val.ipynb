{
 "cells": [
  {
   "cell_type": "code",
   "execution_count": 59,
   "metadata": {
    "tags": []
   },
   "outputs": [
    {
     "name": "stderr",
     "output_type": "stream",
     "text": [
      "\u001b[34m\u001b[1mwandb\u001b[0m: \u001b[33mWARNING\u001b[0m Calling wandb.login() after wandb.init() has no effect.\n"
     ]
    },
    {
     "data": {
      "text/html": [
       "Finishing last run (ID:t6uxhk62) before initializing another..."
      ],
      "text/plain": [
       "<IPython.core.display.HTML object>"
      ]
     },
     "metadata": {},
     "output_type": "display_data"
    },
    {
     "data": {
      "text/html": [
       "Waiting for W&B process to finish... <strong style=\"color:green\">(success).</strong>"
      ],
      "text/plain": [
       "<IPython.core.display.HTML object>"
      ]
     },
     "metadata": {},
     "output_type": "display_data"
    },
    {
     "data": {
      "application/vnd.jupyter.widget-view+json": {
       "model_id": "0742adc8062343a49ac38c3e39ca30e7",
       "version_major": 2,
       "version_minor": 0
      },
      "text/plain": [
       "VBox(children=(Label(value='0.015 MB of 0.015 MB uploaded (0.000 MB deduped)\\r'), FloatProgress(value=1.0, max…"
      ]
     },
     "metadata": {},
     "output_type": "display_data"
    },
    {
     "data": {
      "text/html": [
       "<style>\n",
       "    table.wandb td:nth-child(1) { padding: 0 10px; text-align: left ; width: auto;} td:nth-child(2) {text-align: left ; width: 100%}\n",
       "    .wandb-row { display: flex; flex-direction: row; flex-wrap: wrap; justify-content: flex-start; width: 100% }\n",
       "    .wandb-col { display: flex; flex-direction: column; flex-basis: 100%; flex: 1; padding: 10px; }\n",
       "    </style>\n",
       "<div class=\"wandb-row\"><div class=\"wandb-col\"><h3>Run history:</h3><br/><table class=\"wandb\"><tr><td>create_model/AUC</td><td>█▆█▁▁█▆▆█▇</td></tr><tr><td>create_model/Accuracy</td><td>█▁█▅▅█▃▅█▆</td></tr><tr><td>create_model/F1</td><td>▇▁▁▅▅█▃▅▁▅</td></tr><tr><td>create_model/Kappa</td><td>█▁█▅▅█▃▅█▆</td></tr><tr><td>create_model/MCC</td><td>▇▁█▅▅▇▃▅█▅</td></tr><tr><td>create_model/Prec.</td><td>▄▁█▂▃▄▁▃█▃</td></tr><tr><td>create_model/Recall</td><td>▅█▁▇▆▅█▆▁▆</td></tr><tr><td>create_model/TT</td><td>▁▁█▁▁▄▂▂▂▂</td></tr></table><br/></div><div class=\"wandb-col\"><h3>Run summary:</h3><br/><table class=\"wandb\"><tr><td>create_model/AUC</td><td>0.7156</td></tr><tr><td>create_model/Accuracy</td><td>0.6781</td></tr><tr><td>create_model/F1</td><td>0.7138</td></tr><tr><td>create_model/Kappa</td><td>0.3562</td></tr><tr><td>create_model/MCC</td><td>0.3679</td></tr><tr><td>create_model/Prec.</td><td>0.6423</td></tr><tr><td>create_model/Recall</td><td>0.8032</td></tr><tr><td>create_model/TT</td><td>157.73</td></tr></table><br/></div></div>"
      ],
      "text/plain": [
       "<IPython.core.display.HTML object>"
      ]
     },
     "metadata": {},
     "output_type": "display_data"
    },
    {
     "data": {
      "text/html": [
       " View run <strong style=\"color:#cdcd00\">likely-voice-29</strong> at: <a href='https://wandb.ai/mlb/cigap-classif/runs/t6uxhk62' target=\"_blank\">https://wandb.ai/mlb/cigap-classif/runs/t6uxhk62</a><br/>Synced 6 W&B file(s), 0 media file(s), 1 artifact file(s) and 0 other file(s)"
      ],
      "text/plain": [
       "<IPython.core.display.HTML object>"
      ]
     },
     "metadata": {},
     "output_type": "display_data"
    },
    {
     "data": {
      "text/html": [
       "Find logs at: <code>./wandb/run-20230517_182658-t6uxhk62/logs</code>"
      ],
      "text/plain": [
       "<IPython.core.display.HTML object>"
      ]
     },
     "metadata": {},
     "output_type": "display_data"
    },
    {
     "data": {
      "text/html": [
       "Successfully finished last run (ID:t6uxhk62). Initializing new run:<br/>"
      ],
      "text/plain": [
       "<IPython.core.display.HTML object>"
      ]
     },
     "metadata": {},
     "output_type": "display_data"
    },
    {
     "data": {
      "application/vnd.jupyter.widget-view+json": {
       "model_id": "80870bf11b534601a8e16e675603b55a",
       "version_major": 2,
       "version_minor": 0
      },
      "text/plain": [
       "VBox(children=(Label(value='Waiting for wandb.init()...\\r'), FloatProgress(value=0.01666955523348103, max=1.0)…"
      ]
     },
     "metadata": {},
     "output_type": "display_data"
    },
    {
     "data": {
      "text/html": [
       "wandb version 0.15.3 is available!  To upgrade, please run:\n",
       " $ pip install wandb --upgrade"
      ],
      "text/plain": [
       "<IPython.core.display.HTML object>"
      ]
     },
     "metadata": {},
     "output_type": "display_data"
    },
    {
     "data": {
      "text/html": [
       "Tracking run with wandb version 0.14.0"
      ],
      "text/plain": [
       "<IPython.core.display.HTML object>"
      ]
     },
     "metadata": {},
     "output_type": "display_data"
    },
    {
     "data": {
      "text/html": [
       "Run data is saved locally in <code>/home/antoine/gene_pheno_pred/wandb/run-20230523_101732-5ws4uyb1</code>"
      ],
      "text/plain": [
       "<IPython.core.display.HTML object>"
      ]
     },
     "metadata": {},
     "output_type": "display_data"
    },
    {
     "data": {
      "text/html": [
       "Syncing run <strong><a href='https://wandb.ai/mlb/cigap-classif/runs/5ws4uyb1' target=\"_blank\">treasured-sponge-30</a></strong> to <a href='https://wandb.ai/mlb/cigap-classif' target=\"_blank\">Weights & Biases</a> (<a href='https://wandb.me/run' target=\"_blank\">docs</a>)<br/>"
      ],
      "text/plain": [
       "<IPython.core.display.HTML object>"
      ]
     },
     "metadata": {},
     "output_type": "display_data"
    },
    {
     "data": {
      "text/html": [
       " View project at <a href='https://wandb.ai/mlb/cigap-classif' target=\"_blank\">https://wandb.ai/mlb/cigap-classif</a>"
      ],
      "text/plain": [
       "<IPython.core.display.HTML object>"
      ]
     },
     "metadata": {},
     "output_type": "display_data"
    },
    {
     "data": {
      "text/html": [
       " View run at <a href='https://wandb.ai/mlb/cigap-classif/runs/5ws4uyb1' target=\"_blank\">https://wandb.ai/mlb/cigap-classif/runs/5ws4uyb1</a>"
      ],
      "text/plain": [
       "<IPython.core.display.HTML object>"
      ]
     },
     "metadata": {},
     "output_type": "display_data"
    },
    {
     "data": {
      "text/html": [
       "<button onClick=\"this.nextSibling.style.display='block';this.style.display='none';\">Display W&B run</button><iframe src='https://wandb.ai/mlb/cigap-classif/runs/5ws4uyb1?jupyter=true' style='border:none;width:100%;height:420px;display:none;'></iframe>"
      ],
      "text/plain": [
       "<wandb.sdk.wandb_run.Run at 0x7f3e1492a830>"
      ]
     },
     "execution_count": 59,
     "metadata": {},
     "output_type": "execute_result"
    }
   ],
   "source": [
    "from pycaret.classification import *\n",
    "import pandas as pd\n",
    "import os\n",
    "import wandb\n",
    "\n",
    "os.chdir('/home/antoine/gene_pheno_pred')\n",
    "os.environ[\"CUDA_VISIBLE_DEVICES\"]=\"0\"\n",
    "os.environ[\"WANDB_API_KEY\"]=\"4e5748d6c6f3917c78cdc38a516a1bac776faf58\"\n",
    "wandb.login()\n",
    "wandb.init(\n",
    "    project=\"cigap-classif\",\n",
    ")\n"
   ]
  },
  {
   "cell_type": "code",
   "execution_count": 60,
   "metadata": {
    "tags": []
   },
   "outputs": [
    {
     "data": {
      "text/html": [
       "<div>\n",
       "<style scoped>\n",
       "    .dataframe tbody tr th:only-of-type {\n",
       "        vertical-align: middle;\n",
       "    }\n",
       "\n",
       "    .dataframe tbody tr th {\n",
       "        vertical-align: top;\n",
       "    }\n",
       "\n",
       "    .dataframe thead th {\n",
       "        text-align: right;\n",
       "    }\n",
       "</style>\n",
       "<table border=\"1\" class=\"dataframe\">\n",
       "  <thead>\n",
       "    <tr style=\"text-align: right;\">\n",
       "      <th></th>\n",
       "      <th>0</th>\n",
       "      <th>1</th>\n",
       "      <th>2</th>\n",
       "      <th>3</th>\n",
       "      <th>4</th>\n",
       "      <th>5</th>\n",
       "      <th>6</th>\n",
       "      <th>7</th>\n",
       "      <th>8</th>\n",
       "      <th>9</th>\n",
       "      <th>...</th>\n",
       "      <th>192</th>\n",
       "      <th>193</th>\n",
       "      <th>194</th>\n",
       "      <th>195</th>\n",
       "      <th>196</th>\n",
       "      <th>197</th>\n",
       "      <th>198</th>\n",
       "      <th>199</th>\n",
       "      <th>ground_truth</th>\n",
       "      <th>link</th>\n",
       "    </tr>\n",
       "  </thead>\n",
       "  <tbody>\n",
       "    <tr>\n",
       "      <th>0</th>\n",
       "      <td>-0.140183</td>\n",
       "      <td>-0.029808</td>\n",
       "      <td>-0.203201</td>\n",
       "      <td>-0.013422</td>\n",
       "      <td>-0.056131</td>\n",
       "      <td>0.207323</td>\n",
       "      <td>0.187371</td>\n",
       "      <td>0.170251</td>\n",
       "      <td>-0.190599</td>\n",
       "      <td>-0.196459</td>\n",
       "      <td>...</td>\n",
       "      <td>-0.208771</td>\n",
       "      <td>-0.124182</td>\n",
       "      <td>0.068771</td>\n",
       "      <td>0.145912</td>\n",
       "      <td>0.080039</td>\n",
       "      <td>-0.044662</td>\n",
       "      <td>-0.136030</td>\n",
       "      <td>-0.202819</td>\n",
       "      <td>no_link_known</td>\n",
       "      <td>0</td>\n",
       "    </tr>\n",
       "    <tr>\n",
       "      <th>1</th>\n",
       "      <td>0.007257</td>\n",
       "      <td>0.034391</td>\n",
       "      <td>0.040302</td>\n",
       "      <td>-0.014142</td>\n",
       "      <td>0.043601</td>\n",
       "      <td>0.026042</td>\n",
       "      <td>-0.042320</td>\n",
       "      <td>-0.052182</td>\n",
       "      <td>0.007224</td>\n",
       "      <td>0.059336</td>\n",
       "      <td>...</td>\n",
       "      <td>0.007578</td>\n",
       "      <td>0.013686</td>\n",
       "      <td>-0.019377</td>\n",
       "      <td>0.025978</td>\n",
       "      <td>0.045618</td>\n",
       "      <td>0.002407</td>\n",
       "      <td>0.014198</td>\n",
       "      <td>0.041636</td>\n",
       "      <td>http://www.semanticweb.org/needed-terms#001</td>\n",
       "      <td>1</td>\n",
       "    </tr>\n",
       "    <tr>\n",
       "      <th>2</th>\n",
       "      <td>-0.017977</td>\n",
       "      <td>0.032711</td>\n",
       "      <td>0.031887</td>\n",
       "      <td>-0.031475</td>\n",
       "      <td>0.039888</td>\n",
       "      <td>0.021578</td>\n",
       "      <td>-0.047201</td>\n",
       "      <td>-0.042827</td>\n",
       "      <td>0.002145</td>\n",
       "      <td>0.049754</td>\n",
       "      <td>...</td>\n",
       "      <td>0.019817</td>\n",
       "      <td>-0.026000</td>\n",
       "      <td>0.029231</td>\n",
       "      <td>0.027440</td>\n",
       "      <td>0.036481</td>\n",
       "      <td>0.023638</td>\n",
       "      <td>-0.003050</td>\n",
       "      <td>0.008508</td>\n",
       "      <td>http://www.semanticweb.org/needed-terms#001</td>\n",
       "      <td>1</td>\n",
       "    </tr>\n",
       "    <tr>\n",
       "      <th>3</th>\n",
       "      <td>-0.014240</td>\n",
       "      <td>0.039529</td>\n",
       "      <td>0.029118</td>\n",
       "      <td>-0.017358</td>\n",
       "      <td>0.044518</td>\n",
       "      <td>0.024350</td>\n",
       "      <td>-0.043136</td>\n",
       "      <td>-0.042794</td>\n",
       "      <td>-0.013481</td>\n",
       "      <td>0.052084</td>\n",
       "      <td>...</td>\n",
       "      <td>0.071208</td>\n",
       "      <td>0.044566</td>\n",
       "      <td>0.037520</td>\n",
       "      <td>-0.061345</td>\n",
       "      <td>0.040713</td>\n",
       "      <td>-0.081230</td>\n",
       "      <td>0.059916</td>\n",
       "      <td>0.025145</td>\n",
       "      <td>no_link_known</td>\n",
       "      <td>0</td>\n",
       "    </tr>\n",
       "    <tr>\n",
       "      <th>4</th>\n",
       "      <td>-0.084909</td>\n",
       "      <td>0.114381</td>\n",
       "      <td>-0.204285</td>\n",
       "      <td>0.021392</td>\n",
       "      <td>-0.120028</td>\n",
       "      <td>0.203261</td>\n",
       "      <td>0.172854</td>\n",
       "      <td>0.175367</td>\n",
       "      <td>-0.199627</td>\n",
       "      <td>-0.195778</td>\n",
       "      <td>...</td>\n",
       "      <td>0.019101</td>\n",
       "      <td>0.023105</td>\n",
       "      <td>-0.014103</td>\n",
       "      <td>0.006210</td>\n",
       "      <td>-0.004504</td>\n",
       "      <td>0.002287</td>\n",
       "      <td>0.019769</td>\n",
       "      <td>0.032053</td>\n",
       "      <td>http://semanticscience.org/resource/SIO_000281</td>\n",
       "      <td>1</td>\n",
       "    </tr>\n",
       "    <tr>\n",
       "      <th>...</th>\n",
       "      <td>...</td>\n",
       "      <td>...</td>\n",
       "      <td>...</td>\n",
       "      <td>...</td>\n",
       "      <td>...</td>\n",
       "      <td>...</td>\n",
       "      <td>...</td>\n",
       "      <td>...</td>\n",
       "      <td>...</td>\n",
       "      <td>...</td>\n",
       "      <td>...</td>\n",
       "      <td>...</td>\n",
       "      <td>...</td>\n",
       "      <td>...</td>\n",
       "      <td>...</td>\n",
       "      <td>...</td>\n",
       "      <td>...</td>\n",
       "      <td>...</td>\n",
       "      <td>...</td>\n",
       "      <td>...</td>\n",
       "      <td>...</td>\n",
       "    </tr>\n",
       "    <tr>\n",
       "      <th>234191</th>\n",
       "      <td>0.053616</td>\n",
       "      <td>-0.010338</td>\n",
       "      <td>0.054068</td>\n",
       "      <td>-0.054630</td>\n",
       "      <td>0.033612</td>\n",
       "      <td>-0.074185</td>\n",
       "      <td>-0.056169</td>\n",
       "      <td>0.043632</td>\n",
       "      <td>0.049982</td>\n",
       "      <td>0.065148</td>\n",
       "      <td>...</td>\n",
       "      <td>0.007249</td>\n",
       "      <td>0.027118</td>\n",
       "      <td>-0.006408</td>\n",
       "      <td>0.018064</td>\n",
       "      <td>0.011075</td>\n",
       "      <td>-0.000410</td>\n",
       "      <td>0.022717</td>\n",
       "      <td>0.032426</td>\n",
       "      <td>no_link_known</td>\n",
       "      <td>0</td>\n",
       "    </tr>\n",
       "    <tr>\n",
       "      <th>234192</th>\n",
       "      <td>0.059236</td>\n",
       "      <td>-0.030084</td>\n",
       "      <td>0.070195</td>\n",
       "      <td>-0.059798</td>\n",
       "      <td>-0.069581</td>\n",
       "      <td>-0.075291</td>\n",
       "      <td>-0.063509</td>\n",
       "      <td>-0.033916</td>\n",
       "      <td>-0.029080</td>\n",
       "      <td>0.071954</td>\n",
       "      <td>...</td>\n",
       "      <td>0.051774</td>\n",
       "      <td>-0.054903</td>\n",
       "      <td>-0.031336</td>\n",
       "      <td>-0.060177</td>\n",
       "      <td>0.069443</td>\n",
       "      <td>-0.076120</td>\n",
       "      <td>-0.030139</td>\n",
       "      <td>0.058012</td>\n",
       "      <td>no_link_known</td>\n",
       "      <td>0</td>\n",
       "    </tr>\n",
       "    <tr>\n",
       "      <th>234193</th>\n",
       "      <td>-0.018654</td>\n",
       "      <td>-0.019158</td>\n",
       "      <td>0.009537</td>\n",
       "      <td>-0.006379</td>\n",
       "      <td>0.017037</td>\n",
       "      <td>-0.006890</td>\n",
       "      <td>-0.028761</td>\n",
       "      <td>-0.017385</td>\n",
       "      <td>0.020085</td>\n",
       "      <td>0.022891</td>\n",
       "      <td>...</td>\n",
       "      <td>0.020308</td>\n",
       "      <td>0.034114</td>\n",
       "      <td>-0.025278</td>\n",
       "      <td>0.003062</td>\n",
       "      <td>0.020570</td>\n",
       "      <td>-0.007069</td>\n",
       "      <td>0.039509</td>\n",
       "      <td>0.040183</td>\n",
       "      <td>http://www.w3.org/2000/01/rdf-schema#subClassOf</td>\n",
       "      <td>1</td>\n",
       "    </tr>\n",
       "    <tr>\n",
       "      <th>234194</th>\n",
       "      <td>-0.045248</td>\n",
       "      <td>0.124431</td>\n",
       "      <td>-0.166019</td>\n",
       "      <td>-0.034602</td>\n",
       "      <td>-0.153778</td>\n",
       "      <td>0.156033</td>\n",
       "      <td>0.153976</td>\n",
       "      <td>0.117537</td>\n",
       "      <td>-0.163683</td>\n",
       "      <td>-0.165206</td>\n",
       "      <td>...</td>\n",
       "      <td>0.035035</td>\n",
       "      <td>0.018661</td>\n",
       "      <td>-0.024460</td>\n",
       "      <td>-0.003234</td>\n",
       "      <td>0.029622</td>\n",
       "      <td>-0.009954</td>\n",
       "      <td>0.008429</td>\n",
       "      <td>0.025477</td>\n",
       "      <td>http://www.semanticweb.org/needed-terms#001</td>\n",
       "      <td>1</td>\n",
       "    </tr>\n",
       "    <tr>\n",
       "      <th>234195</th>\n",
       "      <td>0.025900</td>\n",
       "      <td>-0.003453</td>\n",
       "      <td>0.019226</td>\n",
       "      <td>0.007578</td>\n",
       "      <td>0.033413</td>\n",
       "      <td>-0.042853</td>\n",
       "      <td>-0.017350</td>\n",
       "      <td>-0.002095</td>\n",
       "      <td>0.040606</td>\n",
       "      <td>0.036645</td>\n",
       "      <td>...</td>\n",
       "      <td>0.018078</td>\n",
       "      <td>0.009994</td>\n",
       "      <td>-0.011939</td>\n",
       "      <td>0.017814</td>\n",
       "      <td>0.013806</td>\n",
       "      <td>-0.002325</td>\n",
       "      <td>0.018041</td>\n",
       "      <td>0.031742</td>\n",
       "      <td>no_link_known</td>\n",
       "      <td>0</td>\n",
       "    </tr>\n",
       "  </tbody>\n",
       "</table>\n",
       "<p>468002 rows × 202 columns</p>\n",
       "</div>"
      ],
      "text/plain": [
       "               0         1         2         3         4         5         6  \\\n",
       "0      -0.140183 -0.029808 -0.203201 -0.013422 -0.056131  0.207323  0.187371   \n",
       "1       0.007257  0.034391  0.040302 -0.014142  0.043601  0.026042 -0.042320   \n",
       "2      -0.017977  0.032711  0.031887 -0.031475  0.039888  0.021578 -0.047201   \n",
       "3      -0.014240  0.039529  0.029118 -0.017358  0.044518  0.024350 -0.043136   \n",
       "4      -0.084909  0.114381 -0.204285  0.021392 -0.120028  0.203261  0.172854   \n",
       "...          ...       ...       ...       ...       ...       ...       ...   \n",
       "234191  0.053616 -0.010338  0.054068 -0.054630  0.033612 -0.074185 -0.056169   \n",
       "234192  0.059236 -0.030084  0.070195 -0.059798 -0.069581 -0.075291 -0.063509   \n",
       "234193 -0.018654 -0.019158  0.009537 -0.006379  0.017037 -0.006890 -0.028761   \n",
       "234194 -0.045248  0.124431 -0.166019 -0.034602 -0.153778  0.156033  0.153976   \n",
       "234195  0.025900 -0.003453  0.019226  0.007578  0.033413 -0.042853 -0.017350   \n",
       "\n",
       "               7         8         9  ...       192       193       194  \\\n",
       "0       0.170251 -0.190599 -0.196459  ... -0.208771 -0.124182  0.068771   \n",
       "1      -0.052182  0.007224  0.059336  ...  0.007578  0.013686 -0.019377   \n",
       "2      -0.042827  0.002145  0.049754  ...  0.019817 -0.026000  0.029231   \n",
       "3      -0.042794 -0.013481  0.052084  ...  0.071208  0.044566  0.037520   \n",
       "4       0.175367 -0.199627 -0.195778  ...  0.019101  0.023105 -0.014103   \n",
       "...          ...       ...       ...  ...       ...       ...       ...   \n",
       "234191  0.043632  0.049982  0.065148  ...  0.007249  0.027118 -0.006408   \n",
       "234192 -0.033916 -0.029080  0.071954  ...  0.051774 -0.054903 -0.031336   \n",
       "234193 -0.017385  0.020085  0.022891  ...  0.020308  0.034114 -0.025278   \n",
       "234194  0.117537 -0.163683 -0.165206  ...  0.035035  0.018661 -0.024460   \n",
       "234195 -0.002095  0.040606  0.036645  ...  0.018078  0.009994 -0.011939   \n",
       "\n",
       "             195       196       197       198       199  \\\n",
       "0       0.145912  0.080039 -0.044662 -0.136030 -0.202819   \n",
       "1       0.025978  0.045618  0.002407  0.014198  0.041636   \n",
       "2       0.027440  0.036481  0.023638 -0.003050  0.008508   \n",
       "3      -0.061345  0.040713 -0.081230  0.059916  0.025145   \n",
       "4       0.006210 -0.004504  0.002287  0.019769  0.032053   \n",
       "...          ...       ...       ...       ...       ...   \n",
       "234191  0.018064  0.011075 -0.000410  0.022717  0.032426   \n",
       "234192 -0.060177  0.069443 -0.076120 -0.030139  0.058012   \n",
       "234193  0.003062  0.020570 -0.007069  0.039509  0.040183   \n",
       "234194 -0.003234  0.029622 -0.009954  0.008429  0.025477   \n",
       "234195  0.017814  0.013806 -0.002325  0.018041  0.031742   \n",
       "\n",
       "                                           ground_truth  link  \n",
       "0                                         no_link_known     0  \n",
       "1           http://www.semanticweb.org/needed-terms#001     1  \n",
       "2           http://www.semanticweb.org/needed-terms#001     1  \n",
       "3                                         no_link_known     0  \n",
       "4        http://semanticscience.org/resource/SIO_000281     1  \n",
       "...                                                 ...   ...  \n",
       "234191                                    no_link_known     0  \n",
       "234192                                    no_link_known     0  \n",
       "234193  http://www.w3.org/2000/01/rdf-schema#subClassOf     1  \n",
       "234194      http://www.semanticweb.org/needed-terms#001     1  \n",
       "234195                                    no_link_known     0  \n",
       "\n",
       "[468002 rows x 202 columns]"
      ]
     },
     "execution_count": 60,
     "metadata": {},
     "output_type": "execute_result"
    }
   ],
   "source": [
    "# Load training set\n",
    "df1 = pd.read_csv('/home/antoine/gene_pheno_pred/2023-05-17_18-04-22_test.csv' , header=0)\n",
    "df2 = pd.read_csv('/home/antoine/gene_pheno_pred/2023-05-17_18-04-22_val.csv' , header=0)\n",
    "df = pd.concat([df1, df2], axis=0)\n",
    "\n",
    "df['link'] = df['ground_truth'].apply(lambda x: 1 if x != 'no_link_known' else 0)\n",
    "df"
   ]
  },
  {
   "cell_type": "code",
   "execution_count": 61,
   "metadata": {
    "tags": []
   },
   "outputs": [],
   "source": [
    "df2 = df"
   ]
  },
  {
   "cell_type": "code",
   "execution_count": 62,
   "metadata": {},
   "outputs": [],
   "source": [
    "df = df.drop('ground_truth', axis=1)"
   ]
  },
  {
   "cell_type": "code",
   "execution_count": 63,
   "metadata": {
    "tags": []
   },
   "outputs": [
    {
     "name": "stderr",
     "output_type": "stream",
     "text": [
      "[LightGBM] [Fatal] GPU Tree Learner was not enabled in this build.\n",
      "Please recompile with CMake option -DUSE_GPU=1\n",
      "[LightGBM] [Fatal] CUDA Tree Learner was not enabled in this build.\n",
      "Please recompile with CMake option -DUSE_CUDA=1\n",
      "[LightGBM] [Fatal] GPU Tree Learner was not enabled in this build.\n",
      "Please recompile with CMake option -DUSE_GPU=1\n",
      "[LightGBM] [Fatal] CUDA Tree Learner was not enabled in this build.\n",
      "Please recompile with CMake option -DUSE_CUDA=1\n",
      "[LightGBM] [Fatal] GPU Tree Learner was not enabled in this build.\n",
      "Please recompile with CMake option -DUSE_GPU=1\n",
      "[LightGBM] [Fatal] CUDA Tree Learner was not enabled in this build.\n",
      "Please recompile with CMake option -DUSE_CUDA=1\n",
      "[LightGBM] [Fatal] GPU Tree Learner was not enabled in this build.\n",
      "Please recompile with CMake option -DUSE_GPU=1\n",
      "[LightGBM] [Fatal] CUDA Tree Learner was not enabled in this build.\n",
      "Please recompile with CMake option -DUSE_CUDA=1\n",
      "[LightGBM] [Fatal] GPU Tree Learner was not enabled in this build.\n",
      "Please recompile with CMake option -DUSE_GPU=1\n",
      "[LightGBM] [Fatal] CUDA Tree Learner was not enabled in this build.\n",
      "Please recompile with CMake option -DUSE_CUDA=1\n",
      "[LightGBM] [Fatal] GPU Tree Learner was not enabled in this build.\n",
      "Please recompile with CMake option -DUSE_GPU=1\n",
      "[LightGBM] [Fatal] CUDA Tree Learner was not enabled in this build.\n",
      "Please recompile with CMake option -DUSE_CUDA=1\n"
     ]
    },
    {
     "data": {
      "text/html": [
       "<style type=\"text/css\">\n",
       "#T_90e32_row8_col1, #T_90e32_row15_col1 {\n",
       "  background-color: lightgreen;\n",
       "}\n",
       "</style>\n",
       "<table id=\"T_90e32\">\n",
       "  <thead>\n",
       "    <tr>\n",
       "      <th class=\"blank level0\" >&nbsp;</th>\n",
       "      <th id=\"T_90e32_level0_col0\" class=\"col_heading level0 col0\" >Description</th>\n",
       "      <th id=\"T_90e32_level0_col1\" class=\"col_heading level0 col1\" >Value</th>\n",
       "    </tr>\n",
       "  </thead>\n",
       "  <tbody>\n",
       "    <tr>\n",
       "      <th id=\"T_90e32_level0_row0\" class=\"row_heading level0 row0\" >0</th>\n",
       "      <td id=\"T_90e32_row0_col0\" class=\"data row0 col0\" >Session id</td>\n",
       "      <td id=\"T_90e32_row0_col1\" class=\"data row0 col1\" >965</td>\n",
       "    </tr>\n",
       "    <tr>\n",
       "      <th id=\"T_90e32_level0_row1\" class=\"row_heading level0 row1\" >1</th>\n",
       "      <td id=\"T_90e32_row1_col0\" class=\"data row1 col0\" >Target</td>\n",
       "      <td id=\"T_90e32_row1_col1\" class=\"data row1 col1\" >link</td>\n",
       "    </tr>\n",
       "    <tr>\n",
       "      <th id=\"T_90e32_level0_row2\" class=\"row_heading level0 row2\" >2</th>\n",
       "      <td id=\"T_90e32_row2_col0\" class=\"data row2 col0\" >Target type</td>\n",
       "      <td id=\"T_90e32_row2_col1\" class=\"data row2 col1\" >Binary</td>\n",
       "    </tr>\n",
       "    <tr>\n",
       "      <th id=\"T_90e32_level0_row3\" class=\"row_heading level0 row3\" >3</th>\n",
       "      <td id=\"T_90e32_row3_col0\" class=\"data row3 col0\" >Original data shape</td>\n",
       "      <td id=\"T_90e32_row3_col1\" class=\"data row3 col1\" >(935614, 201)</td>\n",
       "    </tr>\n",
       "    <tr>\n",
       "      <th id=\"T_90e32_level0_row4\" class=\"row_heading level0 row4\" >4</th>\n",
       "      <td id=\"T_90e32_row4_col0\" class=\"data row4 col0\" >Transformed data shape</td>\n",
       "      <td id=\"T_90e32_row4_col1\" class=\"data row4 col1\" >(3741286, 201)</td>\n",
       "    </tr>\n",
       "    <tr>\n",
       "      <th id=\"T_90e32_level0_row5\" class=\"row_heading level0 row5\" >5</th>\n",
       "      <td id=\"T_90e32_row5_col0\" class=\"data row5 col0\" >Transformed train set shape</td>\n",
       "      <td id=\"T_90e32_row5_col1\" class=\"data row5 col1\" >(2993028, 201)</td>\n",
       "    </tr>\n",
       "    <tr>\n",
       "      <th id=\"T_90e32_level0_row6\" class=\"row_heading level0 row6\" >6</th>\n",
       "      <td id=\"T_90e32_row6_col0\" class=\"data row6 col0\" >Transformed test set shape</td>\n",
       "      <td id=\"T_90e32_row6_col1\" class=\"data row6 col1\" >(748258, 201)</td>\n",
       "    </tr>\n",
       "    <tr>\n",
       "      <th id=\"T_90e32_level0_row7\" class=\"row_heading level0 row7\" >7</th>\n",
       "      <td id=\"T_90e32_row7_col0\" class=\"data row7 col0\" >Numeric features</td>\n",
       "      <td id=\"T_90e32_row7_col1\" class=\"data row7 col1\" >200</td>\n",
       "    </tr>\n",
       "    <tr>\n",
       "      <th id=\"T_90e32_level0_row8\" class=\"row_heading level0 row8\" >8</th>\n",
       "      <td id=\"T_90e32_row8_col0\" class=\"data row8 col0\" >Preprocess</td>\n",
       "      <td id=\"T_90e32_row8_col1\" class=\"data row8 col1\" >True</td>\n",
       "    </tr>\n",
       "    <tr>\n",
       "      <th id=\"T_90e32_level0_row9\" class=\"row_heading level0 row9\" >9</th>\n",
       "      <td id=\"T_90e32_row9_col0\" class=\"data row9 col0\" >Imputation type</td>\n",
       "      <td id=\"T_90e32_row9_col1\" class=\"data row9 col1\" >simple</td>\n",
       "    </tr>\n",
       "    <tr>\n",
       "      <th id=\"T_90e32_level0_row10\" class=\"row_heading level0 row10\" >10</th>\n",
       "      <td id=\"T_90e32_row10_col0\" class=\"data row10 col0\" >Numeric imputation</td>\n",
       "      <td id=\"T_90e32_row10_col1\" class=\"data row10 col1\" >mean</td>\n",
       "    </tr>\n",
       "    <tr>\n",
       "      <th id=\"T_90e32_level0_row11\" class=\"row_heading level0 row11\" >11</th>\n",
       "      <td id=\"T_90e32_row11_col0\" class=\"data row11 col0\" >Categorical imputation</td>\n",
       "      <td id=\"T_90e32_row11_col1\" class=\"data row11 col1\" >mode</td>\n",
       "    </tr>\n",
       "    <tr>\n",
       "      <th id=\"T_90e32_level0_row12\" class=\"row_heading level0 row12\" >12</th>\n",
       "      <td id=\"T_90e32_row12_col0\" class=\"data row12 col0\" >Fold Generator</td>\n",
       "      <td id=\"T_90e32_row12_col1\" class=\"data row12 col1\" >StratifiedKFold</td>\n",
       "    </tr>\n",
       "    <tr>\n",
       "      <th id=\"T_90e32_level0_row13\" class=\"row_heading level0 row13\" >13</th>\n",
       "      <td id=\"T_90e32_row13_col0\" class=\"data row13 col0\" >Fold Number</td>\n",
       "      <td id=\"T_90e32_row13_col1\" class=\"data row13 col1\" >10</td>\n",
       "    </tr>\n",
       "    <tr>\n",
       "      <th id=\"T_90e32_level0_row14\" class=\"row_heading level0 row14\" >14</th>\n",
       "      <td id=\"T_90e32_row14_col0\" class=\"data row14 col0\" >CPU Jobs</td>\n",
       "      <td id=\"T_90e32_row14_col1\" class=\"data row14 col1\" >-1</td>\n",
       "    </tr>\n",
       "    <tr>\n",
       "      <th id=\"T_90e32_level0_row15\" class=\"row_heading level0 row15\" >15</th>\n",
       "      <td id=\"T_90e32_row15_col0\" class=\"data row15 col0\" >Use GPU</td>\n",
       "      <td id=\"T_90e32_row15_col1\" class=\"data row15 col1\" >True</td>\n",
       "    </tr>\n",
       "    <tr>\n",
       "      <th id=\"T_90e32_level0_row16\" class=\"row_heading level0 row16\" >16</th>\n",
       "      <td id=\"T_90e32_row16_col0\" class=\"data row16 col0\" >Log Experiment</td>\n",
       "      <td id=\"T_90e32_row16_col1\" class=\"data row16 col1\" >WandbLogger</td>\n",
       "    </tr>\n",
       "    <tr>\n",
       "      <th id=\"T_90e32_level0_row17\" class=\"row_heading level0 row17\" >17</th>\n",
       "      <td id=\"T_90e32_row17_col0\" class=\"data row17 col0\" >Experiment Name</td>\n",
       "      <td id=\"T_90e32_row17_col1\" class=\"data row17 col1\" >clf-default-name</td>\n",
       "    </tr>\n",
       "    <tr>\n",
       "      <th id=\"T_90e32_level0_row18\" class=\"row_heading level0 row18\" >18</th>\n",
       "      <td id=\"T_90e32_row18_col0\" class=\"data row18 col0\" >USI</td>\n",
       "      <td id=\"T_90e32_row18_col1\" class=\"data row18 col1\" >c612</td>\n",
       "    </tr>\n",
       "  </tbody>\n",
       "</table>\n"
      ],
      "text/plain": [
       "<pandas.io.formats.style.Styler at 0x7f3dfc57a5f0>"
      ]
     },
     "metadata": {},
     "output_type": "display_data"
    },
    {
     "name": "stderr",
     "output_type": "stream",
     "text": [
      "[LightGBM] [Fatal] GPU Tree Learner was not enabled in this build.\n",
      "Please recompile with CMake option -DUSE_GPU=1\n",
      "[LightGBM] [Fatal] CUDA Tree Learner was not enabled in this build.\n",
      "Please recompile with CMake option -DUSE_CUDA=1\n",
      "[LightGBM] [Fatal] GPU Tree Learner was not enabled in this build.\n",
      "Please recompile with CMake option -DUSE_GPU=1\n",
      "[LightGBM] [Fatal] CUDA Tree Learner was not enabled in this build.\n",
      "Please recompile with CMake option -DUSE_CUDA=1\n"
     ]
    }
   ],
   "source": [
    "# Experiment setup\n",
    "s = setup(df, target = 'link', fold_strategy = 'stratifiedkfold', fold=10, train_size = 0.8, n_jobs=-1, system_log=True, use_gpu = True, log_experiment='wandb')\n",
    "exp = ClassificationExperiment()"
   ]
  },
  {
   "cell_type": "markdown",
   "metadata": {},
   "source": [
    "# K Neighbors Classifier"
   ]
  },
  {
   "cell_type": "code",
   "execution_count": 6,
   "metadata": {
    "tags": []
   },
   "outputs": [
    {
     "data": {
      "text/html": [],
      "text/plain": [
       "<IPython.core.display.HTML object>"
      ]
     },
     "metadata": {},
     "output_type": "display_data"
    },
    {
     "data": {
      "text/html": [
       "<style type=\"text/css\">\n",
       "#T_87578_row10_col0, #T_87578_row10_col1, #T_87578_row10_col2, #T_87578_row10_col3, #T_87578_row10_col4, #T_87578_row10_col5, #T_87578_row10_col6 {\n",
       "  background: yellow;\n",
       "}\n",
       "</style>\n",
       "<table id=\"T_87578\">\n",
       "  <thead>\n",
       "    <tr>\n",
       "      <th class=\"blank level0\" >&nbsp;</th>\n",
       "      <th id=\"T_87578_level0_col0\" class=\"col_heading level0 col0\" >Accuracy</th>\n",
       "      <th id=\"T_87578_level0_col1\" class=\"col_heading level0 col1\" >AUC</th>\n",
       "      <th id=\"T_87578_level0_col2\" class=\"col_heading level0 col2\" >Recall</th>\n",
       "      <th id=\"T_87578_level0_col3\" class=\"col_heading level0 col3\" >Prec.</th>\n",
       "      <th id=\"T_87578_level0_col4\" class=\"col_heading level0 col4\" >F1</th>\n",
       "      <th id=\"T_87578_level0_col5\" class=\"col_heading level0 col5\" >Kappa</th>\n",
       "      <th id=\"T_87578_level0_col6\" class=\"col_heading level0 col6\" >MCC</th>\n",
       "    </tr>\n",
       "    <tr>\n",
       "      <th class=\"index_name level0\" >Fold</th>\n",
       "      <th class=\"blank col0\" >&nbsp;</th>\n",
       "      <th class=\"blank col1\" >&nbsp;</th>\n",
       "      <th class=\"blank col2\" >&nbsp;</th>\n",
       "      <th class=\"blank col3\" >&nbsp;</th>\n",
       "      <th class=\"blank col4\" >&nbsp;</th>\n",
       "      <th class=\"blank col5\" >&nbsp;</th>\n",
       "      <th class=\"blank col6\" >&nbsp;</th>\n",
       "    </tr>\n",
       "  </thead>\n",
       "  <tbody>\n",
       "    <tr>\n",
       "      <th id=\"T_87578_level0_row0\" class=\"row_heading level0 row0\" >0</th>\n",
       "      <td id=\"T_87578_row0_col0\" class=\"data row0 col0\" >0.7353</td>\n",
       "      <td id=\"T_87578_row0_col1\" class=\"data row0 col1\" >0.8518</td>\n",
       "      <td id=\"T_87578_row0_col2\" class=\"data row0 col2\" >0.7492</td>\n",
       "      <td id=\"T_87578_row0_col3\" class=\"data row0 col3\" >0.7288</td>\n",
       "      <td id=\"T_87578_row0_col4\" class=\"data row0 col4\" >0.7388</td>\n",
       "      <td id=\"T_87578_row0_col5\" class=\"data row0 col5\" >0.4706</td>\n",
       "      <td id=\"T_87578_row0_col6\" class=\"data row0 col6\" >0.4708</td>\n",
       "    </tr>\n",
       "    <tr>\n",
       "      <th id=\"T_87578_level0_row1\" class=\"row_heading level0 row1\" >1</th>\n",
       "      <td id=\"T_87578_row1_col0\" class=\"data row1 col0\" >0.7341</td>\n",
       "      <td id=\"T_87578_row1_col1\" class=\"data row1 col1\" >0.8511</td>\n",
       "      <td id=\"T_87578_row1_col2\" class=\"data row1 col2\" >0.7490</td>\n",
       "      <td id=\"T_87578_row1_col3\" class=\"data row1 col3\" >0.7272</td>\n",
       "      <td id=\"T_87578_row1_col4\" class=\"data row1 col4\" >0.7379</td>\n",
       "      <td id=\"T_87578_row1_col5\" class=\"data row1 col5\" >0.4683</td>\n",
       "      <td id=\"T_87578_row1_col6\" class=\"data row1 col6\" >0.4685</td>\n",
       "    </tr>\n",
       "    <tr>\n",
       "      <th id=\"T_87578_level0_row2\" class=\"row_heading level0 row2\" >2</th>\n",
       "      <td id=\"T_87578_row2_col0\" class=\"data row2 col0\" >0.7341</td>\n",
       "      <td id=\"T_87578_row2_col1\" class=\"data row2 col1\" >0.8509</td>\n",
       "      <td id=\"T_87578_row2_col2\" class=\"data row2 col2\" >0.7479</td>\n",
       "      <td id=\"T_87578_row2_col3\" class=\"data row2 col3\" >0.7276</td>\n",
       "      <td id=\"T_87578_row2_col4\" class=\"data row2 col4\" >0.7376</td>\n",
       "      <td id=\"T_87578_row2_col5\" class=\"data row2 col5\" >0.4682</td>\n",
       "      <td id=\"T_87578_row2_col6\" class=\"data row2 col6\" >0.4683</td>\n",
       "    </tr>\n",
       "    <tr>\n",
       "      <th id=\"T_87578_level0_row3\" class=\"row_heading level0 row3\" >3</th>\n",
       "      <td id=\"T_87578_row3_col0\" class=\"data row3 col0\" >0.7352</td>\n",
       "      <td id=\"T_87578_row3_col1\" class=\"data row3 col1\" >0.8525</td>\n",
       "      <td id=\"T_87578_row3_col2\" class=\"data row3 col2\" >0.7490</td>\n",
       "      <td id=\"T_87578_row3_col3\" class=\"data row3 col3\" >0.7288</td>\n",
       "      <td id=\"T_87578_row3_col4\" class=\"data row3 col4\" >0.7387</td>\n",
       "      <td id=\"T_87578_row3_col5\" class=\"data row3 col5\" >0.4704</td>\n",
       "      <td id=\"T_87578_row3_col6\" class=\"data row3 col6\" >0.4706</td>\n",
       "    </tr>\n",
       "    <tr>\n",
       "      <th id=\"T_87578_level0_row4\" class=\"row_heading level0 row4\" >4</th>\n",
       "      <td id=\"T_87578_row4_col0\" class=\"data row4 col0\" >0.7343</td>\n",
       "      <td id=\"T_87578_row4_col1\" class=\"data row4 col1\" >0.8516</td>\n",
       "      <td id=\"T_87578_row4_col2\" class=\"data row4 col2\" >0.7481</td>\n",
       "      <td id=\"T_87578_row4_col3\" class=\"data row4 col3\" >0.7278</td>\n",
       "      <td id=\"T_87578_row4_col4\" class=\"data row4 col4\" >0.7378</td>\n",
       "      <td id=\"T_87578_row4_col5\" class=\"data row4 col5\" >0.4685</td>\n",
       "      <td id=\"T_87578_row4_col6\" class=\"data row4 col6\" >0.4687</td>\n",
       "    </tr>\n",
       "    <tr>\n",
       "      <th id=\"T_87578_level0_row5\" class=\"row_heading level0 row5\" >5</th>\n",
       "      <td id=\"T_87578_row5_col0\" class=\"data row5 col0\" >0.7358</td>\n",
       "      <td id=\"T_87578_row5_col1\" class=\"data row5 col1\" >0.8528</td>\n",
       "      <td id=\"T_87578_row5_col2\" class=\"data row5 col2\" >0.7506</td>\n",
       "      <td id=\"T_87578_row5_col3\" class=\"data row5 col3\" >0.7289</td>\n",
       "      <td id=\"T_87578_row5_col4\" class=\"data row5 col4\" >0.7396</td>\n",
       "      <td id=\"T_87578_row5_col5\" class=\"data row5 col5\" >0.4716</td>\n",
       "      <td id=\"T_87578_row5_col6\" class=\"data row5 col6\" >0.4718</td>\n",
       "    </tr>\n",
       "    <tr>\n",
       "      <th id=\"T_87578_level0_row6\" class=\"row_heading level0 row6\" >6</th>\n",
       "      <td id=\"T_87578_row6_col0\" class=\"data row6 col0\" >0.7355</td>\n",
       "      <td id=\"T_87578_row6_col1\" class=\"data row6 col1\" >0.8523</td>\n",
       "      <td id=\"T_87578_row6_col2\" class=\"data row6 col2\" >0.7486</td>\n",
       "      <td id=\"T_87578_row6_col3\" class=\"data row6 col3\" >0.7293</td>\n",
       "      <td id=\"T_87578_row6_col4\" class=\"data row6 col4\" >0.7388</td>\n",
       "      <td id=\"T_87578_row6_col5\" class=\"data row6 col5\" >0.4710</td>\n",
       "      <td id=\"T_87578_row6_col6\" class=\"data row6 col6\" >0.4712</td>\n",
       "    </tr>\n",
       "    <tr>\n",
       "      <th id=\"T_87578_level0_row7\" class=\"row_heading level0 row7\" >7</th>\n",
       "      <td id=\"T_87578_row7_col0\" class=\"data row7 col0\" >0.7334</td>\n",
       "      <td id=\"T_87578_row7_col1\" class=\"data row7 col1\" >0.8501</td>\n",
       "      <td id=\"T_87578_row7_col2\" class=\"data row7 col2\" >0.7463</td>\n",
       "      <td id=\"T_87578_row7_col3\" class=\"data row7 col3\" >0.7274</td>\n",
       "      <td id=\"T_87578_row7_col4\" class=\"data row7 col4\" >0.7367</td>\n",
       "      <td id=\"T_87578_row7_col5\" class=\"data row7 col5\" >0.4669</td>\n",
       "      <td id=\"T_87578_row7_col6\" class=\"data row7 col6\" >0.4670</td>\n",
       "    </tr>\n",
       "    <tr>\n",
       "      <th id=\"T_87578_level0_row8\" class=\"row_heading level0 row8\" >8</th>\n",
       "      <td id=\"T_87578_row8_col0\" class=\"data row8 col0\" >0.7351</td>\n",
       "      <td id=\"T_87578_row8_col1\" class=\"data row8 col1\" >0.8520</td>\n",
       "      <td id=\"T_87578_row8_col2\" class=\"data row8 col2\" >0.7475</td>\n",
       "      <td id=\"T_87578_row8_col3\" class=\"data row8 col3\" >0.7293</td>\n",
       "      <td id=\"T_87578_row8_col4\" class=\"data row8 col4\" >0.7383</td>\n",
       "      <td id=\"T_87578_row8_col5\" class=\"data row8 col5\" >0.4702</td>\n",
       "      <td id=\"T_87578_row8_col6\" class=\"data row8 col6\" >0.4704</td>\n",
       "    </tr>\n",
       "    <tr>\n",
       "      <th id=\"T_87578_level0_row9\" class=\"row_heading level0 row9\" >9</th>\n",
       "      <td id=\"T_87578_row9_col0\" class=\"data row9 col0\" >0.7353</td>\n",
       "      <td id=\"T_87578_row9_col1\" class=\"data row9 col1\" >0.8517</td>\n",
       "      <td id=\"T_87578_row9_col2\" class=\"data row9 col2\" >0.7512</td>\n",
       "      <td id=\"T_87578_row9_col3\" class=\"data row9 col3\" >0.7279</td>\n",
       "      <td id=\"T_87578_row9_col4\" class=\"data row9 col4\" >0.7394</td>\n",
       "      <td id=\"T_87578_row9_col5\" class=\"data row9 col5\" >0.4706</td>\n",
       "      <td id=\"T_87578_row9_col6\" class=\"data row9 col6\" >0.4709</td>\n",
       "    </tr>\n",
       "    <tr>\n",
       "      <th id=\"T_87578_level0_row10\" class=\"row_heading level0 row10\" >Mean</th>\n",
       "      <td id=\"T_87578_row10_col0\" class=\"data row10 col0\" >0.7348</td>\n",
       "      <td id=\"T_87578_row10_col1\" class=\"data row10 col1\" >0.8517</td>\n",
       "      <td id=\"T_87578_row10_col2\" class=\"data row10 col2\" >0.7487</td>\n",
       "      <td id=\"T_87578_row10_col3\" class=\"data row10 col3\" >0.7283</td>\n",
       "      <td id=\"T_87578_row10_col4\" class=\"data row10 col4\" >0.7384</td>\n",
       "      <td id=\"T_87578_row10_col5\" class=\"data row10 col5\" >0.4696</td>\n",
       "      <td id=\"T_87578_row10_col6\" class=\"data row10 col6\" >0.4698</td>\n",
       "    </tr>\n",
       "    <tr>\n",
       "      <th id=\"T_87578_level0_row11\" class=\"row_heading level0 row11\" >Std</th>\n",
       "      <td id=\"T_87578_row11_col0\" class=\"data row11 col0\" >0.0007</td>\n",
       "      <td id=\"T_87578_row11_col1\" class=\"data row11 col1\" >0.0008</td>\n",
       "      <td id=\"T_87578_row11_col2\" class=\"data row11 col2\" >0.0014</td>\n",
       "      <td id=\"T_87578_row11_col3\" class=\"data row11 col3\" >0.0008</td>\n",
       "      <td id=\"T_87578_row11_col4\" class=\"data row11 col4\" >0.0008</td>\n",
       "      <td id=\"T_87578_row11_col5\" class=\"data row11 col5\" >0.0015</td>\n",
       "      <td id=\"T_87578_row11_col6\" class=\"data row11 col6\" >0.0015</td>\n",
       "    </tr>\n",
       "  </tbody>\n",
       "</table>\n"
      ],
      "text/plain": [
       "<pandas.io.formats.style.Styler at 0x7f3e8c1a2800>"
      ]
     },
     "metadata": {},
     "output_type": "display_data"
    },
    {
     "data": {
      "text/html": [],
      "text/plain": [
       "<IPython.core.display.HTML object>"
      ]
     },
     "metadata": {},
     "output_type": "display_data"
    }
   ],
   "source": [
    "knn = create_model('knn')"
   ]
  },
  {
   "cell_type": "code",
   "execution_count": 7,
   "metadata": {},
   "outputs": [
    {
     "data": {
      "text/html": [],
      "text/plain": [
       "<IPython.core.display.HTML object>"
      ]
     },
     "metadata": {},
     "output_type": "display_data"
    },
    {
     "data": {
      "image/png": "[encoded data removed]",
      "text/plain": [
       "<Figure size 800x550 with 1 Axes>"
      ]
     },
     "metadata": {},
     "output_type": "display_data"
    }
   ],
   "source": [
    "plot_model(knn, plot = 'confusion_matrix')"
   ]
  },
  {
   "cell_type": "code",
   "execution_count": 8,
   "metadata": {},
   "outputs": [
    {
     "data": {
      "text/html": [],
      "text/plain": [
       "<IPython.core.display.HTML object>"
      ]
     },
     "metadata": {},
     "output_type": "display_data"
    },
    {
     "data": {
      "image/png": "[encoded data removed]",
      "text/plain": [
       "<Figure size 800x550 with 1 Axes>"
      ]
     },
     "metadata": {},
     "output_type": "display_data"
    }
   ],
   "source": [
    "plot_model(knn, plot = 'error')"
   ]
  },
  {
   "cell_type": "code",
   "execution_count": 9,
   "metadata": {},
   "outputs": [
    {
     "data": {
      "text/html": [],
      "text/plain": [
       "<IPython.core.display.HTML object>"
      ]
     },
     "metadata": {},
     "output_type": "display_data"
    },
    {
     "data": {
      "text/html": [
       "<div>\n",
       "<style scoped>\n",
       "    .dataframe tbody tr th:only-of-type {\n",
       "        vertical-align: middle;\n",
       "    }\n",
       "\n",
       "    .dataframe tbody tr th {\n",
       "        vertical-align: top;\n",
       "    }\n",
       "\n",
       "    .dataframe thead th {\n",
       "        text-align: right;\n",
       "    }\n",
       "</style>\n",
       "<table border=\"1\" class=\"dataframe\">\n",
       "  <thead>\n",
       "    <tr style=\"text-align: right;\">\n",
       "      <th></th>\n",
       "      <th>Parameters</th>\n",
       "    </tr>\n",
       "  </thead>\n",
       "  <tbody>\n",
       "    <tr>\n",
       "      <th>algorithm</th>\n",
       "      <td>auto</td>\n",
       "    </tr>\n",
       "    <tr>\n",
       "      <th>leaf_size</th>\n",
       "      <td>30</td>\n",
       "    </tr>\n",
       "    <tr>\n",
       "      <th>metric</th>\n",
       "      <td>minkowski</td>\n",
       "    </tr>\n",
       "    <tr>\n",
       "      <th>metric_params</th>\n",
       "      <td>None</td>\n",
       "    </tr>\n",
       "    <tr>\n",
       "      <th>n_jobs</th>\n",
       "      <td>-1</td>\n",
       "    </tr>\n",
       "    <tr>\n",
       "      <th>n_neighbors</th>\n",
       "      <td>5</td>\n",
       "    </tr>\n",
       "    <tr>\n",
       "      <th>p</th>\n",
       "      <td>2</td>\n",
       "    </tr>\n",
       "    <tr>\n",
       "      <th>weights</th>\n",
       "      <td>uniform</td>\n",
       "    </tr>\n",
       "  </tbody>\n",
       "</table>\n",
       "</div>"
      ],
      "text/plain": [
       "              Parameters\n",
       "algorithm           auto\n",
       "leaf_size             30\n",
       "metric         minkowski\n",
       "metric_params       None\n",
       "n_jobs                -1\n",
       "n_neighbors            5\n",
       "p                      2\n",
       "weights          uniform"
      ]
     },
     "metadata": {},
     "output_type": "display_data"
    }
   ],
   "source": [
    "plot_model(knn, plot = 'parameter')"
   ]
  },
  {
   "cell_type": "code",
   "execution_count": 10,
   "metadata": {},
   "outputs": [
    {
     "name": "stdout",
     "output_type": "stream",
     "text": [
      "Transformation Pipeline and Model Successfully Saved\n"
     ]
    },
    {
     "data": {
      "text/plain": [
       "(Pipeline(memory=FastMemory(location=/tmp/joblib),\n",
       "          steps=[('numerical_imputer',\n",
       "                  TransformerWrapper(exclude=None,\n",
       "                                     include=['0', '1', '2', '3', '4', '5', '6',\n",
       "                                              '7', '8', '9', '10', '11', '12',\n",
       "                                              '13', '14', '15', '16', '17', '18',\n",
       "                                              '19', '20', '21', '22', '23', '24',\n",
       "                                              '25', '26', '27', '28', '29', ...],\n",
       "                                     transformer=SimpleImputer(add_indicator=False,\n",
       "                                                               copy=True,\n",
       "                                                               fill_value=None,\n",
       "                                                               keep_empty_feat...\n",
       "                  TransformerWrapper(exclude=None, include=[],\n",
       "                                     transformer=SimpleImputer(add_indicator=False,\n",
       "                                                               copy=True,\n",
       "                                                               fill_value=None,\n",
       "                                                               keep_empty_features=False,\n",
       "                                                               missing_values=nan,\n",
       "                                                               strategy='most_frequent',\n",
       "                                                               verbose='deprecated'))),\n",
       "                 ('trained_model',\n",
       "                  KNeighborsClassifier(algorithm='auto', leaf_size=30,\n",
       "                                       metric='minkowski', metric_params=None,\n",
       "                                       n_jobs=-1, n_neighbors=5, p=2,\n",
       "                                       weights='uniform'))],\n",
       "          verbose=False),\n",
       " 'models_classif/convkb/binary_emb_val/knn.pkl')"
      ]
     },
     "execution_count": 10,
     "metadata": {},
     "output_type": "execute_result"
    }
   ],
   "source": [
    "save_model(knn, 'models_classif/complex/binary_emb_val/knn')"
   ]
  },
  {
   "cell_type": "markdown",
   "metadata": {},
   "source": [
    "# Naive Bayes"
   ]
  },
  {
   "cell_type": "code",
   "execution_count": 11,
   "metadata": {
    "tags": []
   },
   "outputs": [
    {
     "data": {
      "text/html": [],
      "text/plain": [
       "<IPython.core.display.HTML object>"
      ]
     },
     "metadata": {},
     "output_type": "display_data"
    },
    {
     "data": {
      "text/html": [
       "<style type=\"text/css\">\n",
       "#T_5655f_row10_col0, #T_5655f_row10_col1, #T_5655f_row10_col2, #T_5655f_row10_col3, #T_5655f_row10_col4, #T_5655f_row10_col5, #T_5655f_row10_col6 {\n",
       "  background: yellow;\n",
       "}\n",
       "</style>\n",
       "<table id=\"T_5655f\">\n",
       "  <thead>\n",
       "    <tr>\n",
       "      <th class=\"blank level0\" >&nbsp;</th>\n",
       "      <th id=\"T_5655f_level0_col0\" class=\"col_heading level0 col0\" >Accuracy</th>\n",
       "      <th id=\"T_5655f_level0_col1\" class=\"col_heading level0 col1\" >AUC</th>\n",
       "      <th id=\"T_5655f_level0_col2\" class=\"col_heading level0 col2\" >Recall</th>\n",
       "      <th id=\"T_5655f_level0_col3\" class=\"col_heading level0 col3\" >Prec.</th>\n",
       "      <th id=\"T_5655f_level0_col4\" class=\"col_heading level0 col4\" >F1</th>\n",
       "      <th id=\"T_5655f_level0_col5\" class=\"col_heading level0 col5\" >Kappa</th>\n",
       "      <th id=\"T_5655f_level0_col6\" class=\"col_heading level0 col6\" >MCC</th>\n",
       "    </tr>\n",
       "    <tr>\n",
       "      <th class=\"index_name level0\" >Fold</th>\n",
       "      <th class=\"blank col0\" >&nbsp;</th>\n",
       "      <th class=\"blank col1\" >&nbsp;</th>\n",
       "      <th class=\"blank col2\" >&nbsp;</th>\n",
       "      <th class=\"blank col3\" >&nbsp;</th>\n",
       "      <th class=\"blank col4\" >&nbsp;</th>\n",
       "      <th class=\"blank col5\" >&nbsp;</th>\n",
       "      <th class=\"blank col6\" >&nbsp;</th>\n",
       "    </tr>\n",
       "  </thead>\n",
       "  <tbody>\n",
       "    <tr>\n",
       "      <th id=\"T_5655f_level0_row0\" class=\"row_heading level0 row0\" >0</th>\n",
       "      <td id=\"T_5655f_row0_col0\" class=\"data row0 col0\" >0.5422</td>\n",
       "      <td id=\"T_5655f_row0_col1\" class=\"data row0 col1\" >0.6559</td>\n",
       "      <td id=\"T_5655f_row0_col2\" class=\"data row0 col2\" >0.9069</td>\n",
       "      <td id=\"T_5655f_row0_col3\" class=\"data row0 col3\" >0.5243</td>\n",
       "      <td id=\"T_5655f_row0_col4\" class=\"data row0 col4\" >0.6645</td>\n",
       "      <td id=\"T_5655f_row0_col5\" class=\"data row0 col5\" >0.0847</td>\n",
       "      <td id=\"T_5655f_row0_col6\" class=\"data row0 col6\" >0.1238</td>\n",
       "    </tr>\n",
       "    <tr>\n",
       "      <th id=\"T_5655f_level0_row1\" class=\"row_heading level0 row1\" >1</th>\n",
       "      <td id=\"T_5655f_row1_col0\" class=\"data row1 col0\" >0.5419</td>\n",
       "      <td id=\"T_5655f_row1_col1\" class=\"data row1 col1\" >0.6554</td>\n",
       "      <td id=\"T_5655f_row1_col2\" class=\"data row1 col2\" >0.9082</td>\n",
       "      <td id=\"T_5655f_row1_col3\" class=\"data row1 col3\" >0.5240</td>\n",
       "      <td id=\"T_5655f_row1_col4\" class=\"data row1 col4\" >0.6646</td>\n",
       "      <td id=\"T_5655f_row1_col5\" class=\"data row1 col5\" >0.0840</td>\n",
       "      <td id=\"T_5655f_row1_col6\" class=\"data row1 col6\" >0.1234</td>\n",
       "    </tr>\n",
       "    <tr>\n",
       "      <th id=\"T_5655f_level0_row2\" class=\"row_heading level0 row2\" >2</th>\n",
       "      <td id=\"T_5655f_row2_col0\" class=\"data row2 col0\" >0.5432</td>\n",
       "      <td id=\"T_5655f_row2_col1\" class=\"data row2 col1\" >0.6582</td>\n",
       "      <td id=\"T_5655f_row2_col2\" class=\"data row2 col2\" >0.9097</td>\n",
       "      <td id=\"T_5655f_row2_col3\" class=\"data row2 col3\" >0.5248</td>\n",
       "      <td id=\"T_5655f_row2_col4\" class=\"data row2 col4\" >0.6656</td>\n",
       "      <td id=\"T_5655f_row2_col5\" class=\"data row2 col5\" >0.0867</td>\n",
       "      <td id=\"T_5655f_row2_col6\" class=\"data row2 col6\" >0.1274</td>\n",
       "    </tr>\n",
       "    <tr>\n",
       "      <th id=\"T_5655f_level0_row3\" class=\"row_heading level0 row3\" >3</th>\n",
       "      <td id=\"T_5655f_row3_col0\" class=\"data row3 col0\" >0.5416</td>\n",
       "      <td id=\"T_5655f_row3_col1\" class=\"data row3 col1\" >0.6563</td>\n",
       "      <td id=\"T_5655f_row3_col2\" class=\"data row3 col2\" >0.9075</td>\n",
       "      <td id=\"T_5655f_row3_col3\" class=\"data row3 col3\" >0.5239</td>\n",
       "      <td id=\"T_5655f_row3_col4\" class=\"data row3 col4\" >0.6643</td>\n",
       "      <td id=\"T_5655f_row3_col5\" class=\"data row3 col5\" >0.0836</td>\n",
       "      <td id=\"T_5655f_row3_col6\" class=\"data row3 col6\" >0.1226</td>\n",
       "    </tr>\n",
       "    <tr>\n",
       "      <th id=\"T_5655f_level0_row4\" class=\"row_heading level0 row4\" >4</th>\n",
       "      <td id=\"T_5655f_row4_col0\" class=\"data row4 col0\" >0.5415</td>\n",
       "      <td id=\"T_5655f_row4_col1\" class=\"data row4 col1\" >0.6567</td>\n",
       "      <td id=\"T_5655f_row4_col2\" class=\"data row4 col2\" >0.9095</td>\n",
       "      <td id=\"T_5655f_row4_col3\" class=\"data row4 col3\" >0.5238</td>\n",
       "      <td id=\"T_5655f_row4_col4\" class=\"data row4 col4\" >0.6647</td>\n",
       "      <td id=\"T_5655f_row4_col5\" class=\"data row4 col5\" >0.0832</td>\n",
       "      <td id=\"T_5655f_row4_col6\" class=\"data row4 col6\" >0.1229</td>\n",
       "    </tr>\n",
       "    <tr>\n",
       "      <th id=\"T_5655f_level0_row5\" class=\"row_heading level0 row5\" >5</th>\n",
       "      <td id=\"T_5655f_row5_col0\" class=\"data row5 col0\" >0.5416</td>\n",
       "      <td id=\"T_5655f_row5_col1\" class=\"data row5 col1\" >0.6569</td>\n",
       "      <td id=\"T_5655f_row5_col2\" class=\"data row5 col2\" >0.9088</td>\n",
       "      <td id=\"T_5655f_row5_col3\" class=\"data row5 col3\" >0.5239</td>\n",
       "      <td id=\"T_5655f_row5_col4\" class=\"data row5 col4\" >0.6646</td>\n",
       "      <td id=\"T_5655f_row5_col5\" class=\"data row5 col5\" >0.0835</td>\n",
       "      <td id=\"T_5655f_row5_col6\" class=\"data row5 col6\" >0.1230</td>\n",
       "    </tr>\n",
       "    <tr>\n",
       "      <th id=\"T_5655f_level0_row6\" class=\"row_heading level0 row6\" >6</th>\n",
       "      <td id=\"T_5655f_row6_col0\" class=\"data row6 col0\" >0.5433</td>\n",
       "      <td id=\"T_5655f_row6_col1\" class=\"data row6 col1\" >0.6563</td>\n",
       "      <td id=\"T_5655f_row6_col2\" class=\"data row6 col2\" >0.9092</td>\n",
       "      <td id=\"T_5655f_row6_col3\" class=\"data row6 col3\" >0.5249</td>\n",
       "      <td id=\"T_5655f_row6_col4\" class=\"data row6 col4\" >0.6655</td>\n",
       "      <td id=\"T_5655f_row6_col5\" class=\"data row6 col5\" >0.0868</td>\n",
       "      <td id=\"T_5655f_row6_col6\" class=\"data row6 col6\" >0.1274</td>\n",
       "    </tr>\n",
       "    <tr>\n",
       "      <th id=\"T_5655f_level0_row7\" class=\"row_heading level0 row7\" >7</th>\n",
       "      <td id=\"T_5655f_row7_col0\" class=\"data row7 col0\" >0.5412</td>\n",
       "      <td id=\"T_5655f_row7_col1\" class=\"data row7 col1\" >0.6546</td>\n",
       "      <td id=\"T_5655f_row7_col2\" class=\"data row7 col2\" >0.9071</td>\n",
       "      <td id=\"T_5655f_row7_col3\" class=\"data row7 col3\" >0.5237</td>\n",
       "      <td id=\"T_5655f_row7_col4\" class=\"data row7 col4\" >0.6640</td>\n",
       "      <td id=\"T_5655f_row7_col5\" class=\"data row7 col5\" >0.0828</td>\n",
       "      <td id=\"T_5655f_row7_col6\" class=\"data row7 col6\" >0.1214</td>\n",
       "    </tr>\n",
       "    <tr>\n",
       "      <th id=\"T_5655f_level0_row8\" class=\"row_heading level0 row8\" >8</th>\n",
       "      <td id=\"T_5655f_row8_col0\" class=\"data row8 col0\" >0.5419</td>\n",
       "      <td id=\"T_5655f_row8_col1\" class=\"data row8 col1\" >0.6561</td>\n",
       "      <td id=\"T_5655f_row8_col2\" class=\"data row8 col2\" >0.9099</td>\n",
       "      <td id=\"T_5655f_row8_col3\" class=\"data row8 col3\" >0.5240</td>\n",
       "      <td id=\"T_5655f_row8_col4\" class=\"data row8 col4\" >0.6650</td>\n",
       "      <td id=\"T_5655f_row8_col5\" class=\"data row8 col5\" >0.0840</td>\n",
       "      <td id=\"T_5655f_row8_col6\" class=\"data row8 col6\" >0.1241</td>\n",
       "    </tr>\n",
       "    <tr>\n",
       "      <th id=\"T_5655f_level0_row9\" class=\"row_heading level0 row9\" >9</th>\n",
       "      <td id=\"T_5655f_row9_col0\" class=\"data row9 col0\" >0.5412</td>\n",
       "      <td id=\"T_5655f_row9_col1\" class=\"data row9 col1\" >0.6563</td>\n",
       "      <td id=\"T_5655f_row9_col2\" class=\"data row9 col2\" >0.9096</td>\n",
       "      <td id=\"T_5655f_row9_col3\" class=\"data row9 col3\" >0.5236</td>\n",
       "      <td id=\"T_5655f_row9_col4\" class=\"data row9 col4\" >0.6647</td>\n",
       "      <td id=\"T_5655f_row9_col5\" class=\"data row9 col5\" >0.0828</td>\n",
       "      <td id=\"T_5655f_row9_col6\" class=\"data row9 col6\" >0.1224</td>\n",
       "    </tr>\n",
       "    <tr>\n",
       "      <th id=\"T_5655f_level0_row10\" class=\"row_heading level0 row10\" >Mean</th>\n",
       "      <td id=\"T_5655f_row10_col0\" class=\"data row10 col0\" >0.5420</td>\n",
       "      <td id=\"T_5655f_row10_col1\" class=\"data row10 col1\" >0.6563</td>\n",
       "      <td id=\"T_5655f_row10_col2\" class=\"data row10 col2\" >0.9087</td>\n",
       "      <td id=\"T_5655f_row10_col3\" class=\"data row10 col3\" >0.5241</td>\n",
       "      <td id=\"T_5655f_row10_col4\" class=\"data row10 col4\" >0.6648</td>\n",
       "      <td id=\"T_5655f_row10_col5\" class=\"data row10 col5\" >0.0842</td>\n",
       "      <td id=\"T_5655f_row10_col6\" class=\"data row10 col6\" >0.1238</td>\n",
       "    </tr>\n",
       "    <tr>\n",
       "      <th id=\"T_5655f_level0_row11\" class=\"row_heading level0 row11\" >Std</th>\n",
       "      <td id=\"T_5655f_row11_col0\" class=\"data row11 col0\" >0.0007</td>\n",
       "      <td id=\"T_5655f_row11_col1\" class=\"data row11 col1\" >0.0009</td>\n",
       "      <td id=\"T_5655f_row11_col2\" class=\"data row11 col2\" >0.0011</td>\n",
       "      <td id=\"T_5655f_row11_col3\" class=\"data row11 col3\" >0.0004</td>\n",
       "      <td id=\"T_5655f_row11_col4\" class=\"data row11 col4\" >0.0005</td>\n",
       "      <td id=\"T_5655f_row11_col5\" class=\"data row11 col5\" >0.0014</td>\n",
       "      <td id=\"T_5655f_row11_col6\" class=\"data row11 col6\" >0.0019</td>\n",
       "    </tr>\n",
       "  </tbody>\n",
       "</table>\n"
      ],
      "text/plain": [
       "<pandas.io.formats.style.Styler at 0x7f3e8c2138e0>"
      ]
     },
     "metadata": {},
     "output_type": "display_data"
    },
    {
     "data": {
      "text/html": [],
      "text/plain": [
       "<IPython.core.display.HTML object>"
      ]
     },
     "metadata": {},
     "output_type": "display_data"
    }
   ],
   "source": [
    "nb = create_model('nb')"
   ]
  },
  {
   "cell_type": "code",
   "execution_count": 12,
   "metadata": {},
   "outputs": [
    {
     "data": {
      "text/html": [],
      "text/plain": [
       "<IPython.core.display.HTML object>"
      ]
     },
     "metadata": {},
     "output_type": "display_data"
    },
    {
     "data": {
      "image/png": "[encoded data removed]",
      "text/plain": [
       "<Figure size 800x550 with 1 Axes>"
      ]
     },
     "metadata": {},
     "output_type": "display_data"
    }
   ],
   "source": [
    "plot_model(nb, plot = 'confusion_matrix')"
   ]
  },
  {
   "cell_type": "code",
   "execution_count": 13,
   "metadata": {},
   "outputs": [
    {
     "data": {
      "text/html": [],
      "text/plain": [
       "<IPython.core.display.HTML object>"
      ]
     },
     "metadata": {},
     "output_type": "display_data"
    },
    {
     "data": {
      "image/png": "[encoded data removed]",
      "text/plain": [
       "<Figure size 800x550 with 1 Axes>"
      ]
     },
     "metadata": {},
     "output_type": "display_data"
    }
   ],
   "source": [
    "plot_model(nb, plot = 'error')"
   ]
  },
  {
   "cell_type": "code",
   "execution_count": 14,
   "metadata": {},
   "outputs": [
    {
     "data": {
      "text/html": [],
      "text/plain": [
       "<IPython.core.display.HTML object>"
      ]
     },
     "metadata": {},
     "output_type": "display_data"
    },
    {
     "data": {
      "text/html": [
       "<div>\n",
       "<style scoped>\n",
       "    .dataframe tbody tr th:only-of-type {\n",
       "        vertical-align: middle;\n",
       "    }\n",
       "\n",
       "    .dataframe tbody tr th {\n",
       "        vertical-align: top;\n",
       "    }\n",
       "\n",
       "    .dataframe thead th {\n",
       "        text-align: right;\n",
       "    }\n",
       "</style>\n",
       "<table border=\"1\" class=\"dataframe\">\n",
       "  <thead>\n",
       "    <tr style=\"text-align: right;\">\n",
       "      <th></th>\n",
       "      <th>Parameters</th>\n",
       "    </tr>\n",
       "  </thead>\n",
       "  <tbody>\n",
       "    <tr>\n",
       "      <th>priors</th>\n",
       "      <td>None</td>\n",
       "    </tr>\n",
       "    <tr>\n",
       "      <th>var_smoothing</th>\n",
       "      <td>1e-09</td>\n",
       "    </tr>\n",
       "  </tbody>\n",
       "</table>\n",
       "</div>"
      ],
      "text/plain": [
       "              Parameters\n",
       "priors              None\n",
       "var_smoothing      1e-09"
      ]
     },
     "metadata": {},
     "output_type": "display_data"
    }
   ],
   "source": [
    "plot_model(nb, plot = 'parameter')"
   ]
  },
  {
   "cell_type": "code",
   "execution_count": 16,
   "metadata": {},
   "outputs": [
    {
     "name": "stdout",
     "output_type": "stream",
     "text": [
      "Transformation Pipeline and Model Successfully Saved\n"
     ]
    },
    {
     "data": {
      "text/plain": [
       "(Pipeline(memory=FastMemory(location=/tmp/joblib),\n",
       "          steps=[('numerical_imputer',\n",
       "                  TransformerWrapper(exclude=None,\n",
       "                                     include=['0', '1', '2', '3', '4', '5', '6',\n",
       "                                              '7', '8', '9', '10', '11', '12',\n",
       "                                              '13', '14', '15', '16', '17', '18',\n",
       "                                              '19', '20', '21', '22', '23', '24',\n",
       "                                              '25', '26', '27', '28', '29', ...],\n",
       "                                     transformer=SimpleImputer(add_indicator=False,\n",
       "                                                               copy=True,\n",
       "                                                               fill_value=None,\n",
       "                                                               keep_empty_feat...\n",
       "                                                               missing_values=nan,\n",
       "                                                               strategy='mean',\n",
       "                                                               verbose='deprecated'))),\n",
       "                 ('categorical_imputer',\n",
       "                  TransformerWrapper(exclude=None, include=[],\n",
       "                                     transformer=SimpleImputer(add_indicator=False,\n",
       "                                                               copy=True,\n",
       "                                                               fill_value=None,\n",
       "                                                               keep_empty_features=False,\n",
       "                                                               missing_values=nan,\n",
       "                                                               strategy='most_frequent',\n",
       "                                                               verbose='deprecated'))),\n",
       "                 ('trained_model',\n",
       "                  GaussianNB(priors=None, var_smoothing=1e-09))],\n",
       "          verbose=False),\n",
       " 'models_classif/convkb/binary_emb_val/nb.pkl')"
      ]
     },
     "execution_count": 16,
     "metadata": {},
     "output_type": "execute_result"
    }
   ],
   "source": [
    "save_model(nb, 'models_classif/complex/binary_emb_val/nb')"
   ]
  },
  {
   "cell_type": "markdown",
   "metadata": {},
   "source": [
    "# Decision Tree Classifier"
   ]
  },
  {
   "cell_type": "code",
   "execution_count": 17,
   "metadata": {},
   "outputs": [
    {
     "data": {
      "text/html": [],
      "text/plain": [
       "<IPython.core.display.HTML object>"
      ]
     },
     "metadata": {},
     "output_type": "display_data"
    },
    {
     "data": {
      "text/html": [
       "<style type=\"text/css\">\n",
       "#T_eccb4_row10_col0, #T_eccb4_row10_col1, #T_eccb4_row10_col2, #T_eccb4_row10_col3, #T_eccb4_row10_col4, #T_eccb4_row10_col5, #T_eccb4_row10_col6 {\n",
       "  background: yellow;\n",
       "}\n",
       "</style>\n",
       "<table id=\"T_eccb4\">\n",
       "  <thead>\n",
       "    <tr>\n",
       "      <th class=\"blank level0\" >&nbsp;</th>\n",
       "      <th id=\"T_eccb4_level0_col0\" class=\"col_heading level0 col0\" >Accuracy</th>\n",
       "      <th id=\"T_eccb4_level0_col1\" class=\"col_heading level0 col1\" >AUC</th>\n",
       "      <th id=\"T_eccb4_level0_col2\" class=\"col_heading level0 col2\" >Recall</th>\n",
       "      <th id=\"T_eccb4_level0_col3\" class=\"col_heading level0 col3\" >Prec.</th>\n",
       "      <th id=\"T_eccb4_level0_col4\" class=\"col_heading level0 col4\" >F1</th>\n",
       "      <th id=\"T_eccb4_level0_col5\" class=\"col_heading level0 col5\" >Kappa</th>\n",
       "      <th id=\"T_eccb4_level0_col6\" class=\"col_heading level0 col6\" >MCC</th>\n",
       "    </tr>\n",
       "    <tr>\n",
       "      <th class=\"index_name level0\" >Fold</th>\n",
       "      <th class=\"blank col0\" >&nbsp;</th>\n",
       "      <th class=\"blank col1\" >&nbsp;</th>\n",
       "      <th class=\"blank col2\" >&nbsp;</th>\n",
       "      <th class=\"blank col3\" >&nbsp;</th>\n",
       "      <th class=\"blank col4\" >&nbsp;</th>\n",
       "      <th class=\"blank col5\" >&nbsp;</th>\n",
       "      <th class=\"blank col6\" >&nbsp;</th>\n",
       "    </tr>\n",
       "  </thead>\n",
       "  <tbody>\n",
       "    <tr>\n",
       "      <th id=\"T_eccb4_level0_row0\" class=\"row_heading level0 row0\" >0</th>\n",
       "      <td id=\"T_eccb4_row0_col0\" class=\"data row0 col0\" >0.7448</td>\n",
       "      <td id=\"T_eccb4_row0_col1\" class=\"data row0 col1\" >0.8678</td>\n",
       "      <td id=\"T_eccb4_row0_col2\" class=\"data row0 col2\" >0.4975</td>\n",
       "      <td id=\"T_eccb4_row0_col3\" class=\"data row0 col3\" >0.9839</td>\n",
       "      <td id=\"T_eccb4_row0_col4\" class=\"data row0 col4\" >0.6609</td>\n",
       "      <td id=\"T_eccb4_row0_col5\" class=\"data row0 col5\" >0.4895</td>\n",
       "      <td id=\"T_eccb4_row0_col6\" class=\"data row0 col6\" >0.5631</td>\n",
       "    </tr>\n",
       "    <tr>\n",
       "      <th id=\"T_eccb4_level0_row1\" class=\"row_heading level0 row1\" >1</th>\n",
       "      <td id=\"T_eccb4_row1_col0\" class=\"data row1 col0\" >0.7442</td>\n",
       "      <td id=\"T_eccb4_row1_col1\" class=\"data row1 col1\" >0.8668</td>\n",
       "      <td id=\"T_eccb4_row1_col2\" class=\"data row1 col2\" >0.4969</td>\n",
       "      <td id=\"T_eccb4_row1_col3\" class=\"data row1 col3\" >0.9828</td>\n",
       "      <td id=\"T_eccb4_row1_col4\" class=\"data row1 col4\" >0.6600</td>\n",
       "      <td id=\"T_eccb4_row1_col5\" class=\"data row1 col5\" >0.4883</td>\n",
       "      <td id=\"T_eccb4_row1_col6\" class=\"data row1 col6\" >0.5617</td>\n",
       "    </tr>\n",
       "    <tr>\n",
       "      <th id=\"T_eccb4_level0_row2\" class=\"row_heading level0 row2\" >2</th>\n",
       "      <td id=\"T_eccb4_row2_col0\" class=\"data row2 col0\" >0.7442</td>\n",
       "      <td id=\"T_eccb4_row2_col1\" class=\"data row2 col1\" >0.8670</td>\n",
       "      <td id=\"T_eccb4_row2_col2\" class=\"data row2 col2\" >0.4987</td>\n",
       "      <td id=\"T_eccb4_row2_col3\" class=\"data row2 col3\" >0.9792</td>\n",
       "      <td id=\"T_eccb4_row2_col4\" class=\"data row2 col4\" >0.6608</td>\n",
       "      <td id=\"T_eccb4_row2_col5\" class=\"data row2 col5\" >0.4882</td>\n",
       "      <td id=\"T_eccb4_row2_col6\" class=\"data row2 col6\" >0.5603</td>\n",
       "    </tr>\n",
       "    <tr>\n",
       "      <th id=\"T_eccb4_level0_row3\" class=\"row_heading level0 row3\" >3</th>\n",
       "      <td id=\"T_eccb4_row3_col0\" class=\"data row3 col0\" >0.7453</td>\n",
       "      <td id=\"T_eccb4_row3_col1\" class=\"data row3 col1\" >0.8685</td>\n",
       "      <td id=\"T_eccb4_row3_col2\" class=\"data row3 col2\" >0.5011</td>\n",
       "      <td id=\"T_eccb4_row3_col3\" class=\"data row3 col3\" >0.9791</td>\n",
       "      <td id=\"T_eccb4_row3_col4\" class=\"data row3 col4\" >0.6630</td>\n",
       "      <td id=\"T_eccb4_row3_col5\" class=\"data row3 col5\" >0.4906</td>\n",
       "      <td id=\"T_eccb4_row3_col6\" class=\"data row3 col6\" >0.5620</td>\n",
       "    </tr>\n",
       "    <tr>\n",
       "      <th id=\"T_eccb4_level0_row4\" class=\"row_heading level0 row4\" >4</th>\n",
       "      <td id=\"T_eccb4_row4_col0\" class=\"data row4 col0\" >0.7444</td>\n",
       "      <td id=\"T_eccb4_row4_col1\" class=\"data row4 col1\" >0.8674</td>\n",
       "      <td id=\"T_eccb4_row4_col2\" class=\"data row4 col2\" >0.5007</td>\n",
       "      <td id=\"T_eccb4_row4_col3\" class=\"data row4 col3\" >0.9764</td>\n",
       "      <td id=\"T_eccb4_row4_col4\" class=\"data row4 col4\" >0.6620</td>\n",
       "      <td id=\"T_eccb4_row4_col5\" class=\"data row4 col5\" >0.4888</td>\n",
       "      <td id=\"T_eccb4_row4_col6\" class=\"data row4 col6\" >0.5596</td>\n",
       "    </tr>\n",
       "    <tr>\n",
       "      <th id=\"T_eccb4_level0_row5\" class=\"row_heading level0 row5\" >5</th>\n",
       "      <td id=\"T_eccb4_row5_col0\" class=\"data row5 col0\" >0.7454</td>\n",
       "      <td id=\"T_eccb4_row5_col1\" class=\"data row5 col1\" >0.8683</td>\n",
       "      <td id=\"T_eccb4_row5_col2\" class=\"data row5 col2\" >0.4975</td>\n",
       "      <td id=\"T_eccb4_row5_col3\" class=\"data row5 col3\" >0.9862</td>\n",
       "      <td id=\"T_eccb4_row5_col4\" class=\"data row5 col4\" >0.6614</td>\n",
       "      <td id=\"T_eccb4_row5_col5\" class=\"data row5 col5\" >0.4906</td>\n",
       "      <td id=\"T_eccb4_row5_col6\" class=\"data row5 col6\" >0.5649</td>\n",
       "    </tr>\n",
       "    <tr>\n",
       "      <th id=\"T_eccb4_level0_row6\" class=\"row_heading level0 row6\" >6</th>\n",
       "      <td id=\"T_eccb4_row6_col0\" class=\"data row6 col0\" >0.7455</td>\n",
       "      <td id=\"T_eccb4_row6_col1\" class=\"data row6 col1\" >0.8687</td>\n",
       "      <td id=\"T_eccb4_row6_col2\" class=\"data row6 col2\" >0.4976</td>\n",
       "      <td id=\"T_eccb4_row6_col3\" class=\"data row6 col3\" >0.9866</td>\n",
       "      <td id=\"T_eccb4_row6_col4\" class=\"data row6 col4\" >0.6615</td>\n",
       "      <td id=\"T_eccb4_row6_col5\" class=\"data row6 col5\" >0.4909</td>\n",
       "      <td id=\"T_eccb4_row6_col6\" class=\"data row6 col6\" >0.5652</td>\n",
       "    </tr>\n",
       "    <tr>\n",
       "      <th id=\"T_eccb4_level0_row7\" class=\"row_heading level0 row7\" >7</th>\n",
       "      <td id=\"T_eccb4_row7_col0\" class=\"data row7 col0\" >0.7428</td>\n",
       "      <td id=\"T_eccb4_row7_col1\" class=\"data row7 col1\" >0.8662</td>\n",
       "      <td id=\"T_eccb4_row7_col2\" class=\"data row7 col2\" >0.4921</td>\n",
       "      <td id=\"T_eccb4_row7_col3\" class=\"data row7 col3\" >0.9865</td>\n",
       "      <td id=\"T_eccb4_row7_col4\" class=\"data row7 col4\" >0.6567</td>\n",
       "      <td id=\"T_eccb4_row7_col5\" class=\"data row7 col5\" >0.4855</td>\n",
       "      <td id=\"T_eccb4_row7_col6\" class=\"data row7 col6\" >0.5610</td>\n",
       "    </tr>\n",
       "    <tr>\n",
       "      <th id=\"T_eccb4_level0_row8\" class=\"row_heading level0 row8\" >8</th>\n",
       "      <td id=\"T_eccb4_row8_col0\" class=\"data row8 col0\" >0.7445</td>\n",
       "      <td id=\"T_eccb4_row8_col1\" class=\"data row8 col1\" >0.8677</td>\n",
       "      <td id=\"T_eccb4_row8_col2\" class=\"data row8 col2\" >0.4985</td>\n",
       "      <td id=\"T_eccb4_row8_col3\" class=\"data row8 col3\" >0.9811</td>\n",
       "      <td id=\"T_eccb4_row8_col4\" class=\"data row8 col4\" >0.6611</td>\n",
       "      <td id=\"T_eccb4_row8_col5\" class=\"data row8 col5\" >0.4890</td>\n",
       "      <td id=\"T_eccb4_row8_col6\" class=\"data row8 col6\" >0.5616</td>\n",
       "    </tr>\n",
       "    <tr>\n",
       "      <th id=\"T_eccb4_level0_row9\" class=\"row_heading level0 row9\" >9</th>\n",
       "      <td id=\"T_eccb4_row9_col0\" class=\"data row9 col0\" >0.7446</td>\n",
       "      <td id=\"T_eccb4_row9_col1\" class=\"data row9 col1\" >0.8675</td>\n",
       "      <td id=\"T_eccb4_row9_col2\" class=\"data row9 col2\" >0.4998</td>\n",
       "      <td id=\"T_eccb4_row9_col3\" class=\"data row9 col3\" >0.9788</td>\n",
       "      <td id=\"T_eccb4_row9_col4\" class=\"data row9 col4\" >0.6617</td>\n",
       "      <td id=\"T_eccb4_row9_col5\" class=\"data row9 col5\" >0.4891</td>\n",
       "      <td id=\"T_eccb4_row9_col6\" class=\"data row9 col6\" >0.5608</td>\n",
       "    </tr>\n",
       "    <tr>\n",
       "      <th id=\"T_eccb4_level0_row10\" class=\"row_heading level0 row10\" >Mean</th>\n",
       "      <td id=\"T_eccb4_row10_col0\" class=\"data row10 col0\" >0.7446</td>\n",
       "      <td id=\"T_eccb4_row10_col1\" class=\"data row10 col1\" >0.8676</td>\n",
       "      <td id=\"T_eccb4_row10_col2\" class=\"data row10 col2\" >0.4980</td>\n",
       "      <td id=\"T_eccb4_row10_col3\" class=\"data row10 col3\" >0.9821</td>\n",
       "      <td id=\"T_eccb4_row10_col4\" class=\"data row10 col4\" >0.6609</td>\n",
       "      <td id=\"T_eccb4_row10_col5\" class=\"data row10 col5\" >0.4890</td>\n",
       "      <td id=\"T_eccb4_row10_col6\" class=\"data row10 col6\" >0.5620</td>\n",
       "    </tr>\n",
       "    <tr>\n",
       "      <th id=\"T_eccb4_level0_row11\" class=\"row_heading level0 row11\" >Std</th>\n",
       "      <td id=\"T_eccb4_row11_col0\" class=\"data row11 col0\" >0.0008</td>\n",
       "      <td id=\"T_eccb4_row11_col1\" class=\"data row11 col1\" >0.0008</td>\n",
       "      <td id=\"T_eccb4_row11_col2\" class=\"data row11 col2\" >0.0024</td>\n",
       "      <td id=\"T_eccb4_row11_col3\" class=\"data row11 col3\" >0.0035</td>\n",
       "      <td id=\"T_eccb4_row11_col4\" class=\"data row11 col4\" >0.0016</td>\n",
       "      <td id=\"T_eccb4_row11_col5\" class=\"data row11 col5\" >0.0015</td>\n",
       "      <td id=\"T_eccb4_row11_col6\" class=\"data row11 col6\" >0.0018</td>\n",
       "    </tr>\n",
       "  </tbody>\n",
       "</table>\n"
      ],
      "text/plain": [
       "<pandas.io.formats.style.Styler at 0x7f3ff91b1120>"
      ]
     },
     "metadata": {},
     "output_type": "display_data"
    },
    {
     "data": {
      "text/html": [],
      "text/plain": [
       "<IPython.core.display.HTML object>"
      ]
     },
     "metadata": {},
     "output_type": "display_data"
    }
   ],
   "source": [
    "dt = create_model('dt')"
   ]
  },
  {
   "cell_type": "code",
   "execution_count": 18,
   "metadata": {},
   "outputs": [
    {
     "data": {
      "text/html": [],
      "text/plain": [
       "<IPython.core.display.HTML object>"
      ]
     },
     "metadata": {},
     "output_type": "display_data"
    },
    {
     "data": {
      "image/png": "[encoded data removed]",
      "text/plain": [
       "<Figure size 800x550 with 1 Axes>"
      ]
     },
     "metadata": {},
     "output_type": "display_data"
    }
   ],
   "source": [
    "plot_model(dt, plot = 'confusion_matrix')"
   ]
  },
  {
   "cell_type": "code",
   "execution_count": 19,
   "metadata": {},
   "outputs": [
    {
     "data": {
      "text/html": [],
      "text/plain": [
       "<IPython.core.display.HTML object>"
      ]
     },
     "metadata": {},
     "output_type": "display_data"
    },
    {
     "data": {
      "image/png": "[encoded data removed]",
      "text/plain": [
       "<Figure size 800x550 with 1 Axes>"
      ]
     },
     "metadata": {},
     "output_type": "display_data"
    }
   ],
   "source": [
    "plot_model(dt, plot = 'error')"
   ]
  },
  {
   "cell_type": "code",
   "execution_count": 20,
   "metadata": {},
   "outputs": [
    {
     "data": {
      "text/html": [],
      "text/plain": [
       "<IPython.core.display.HTML object>"
      ]
     },
     "metadata": {},
     "output_type": "display_data"
    },
    {
     "data": {
      "text/html": [
       "<div>\n",
       "<style scoped>\n",
       "    .dataframe tbody tr th:only-of-type {\n",
       "        vertical-align: middle;\n",
       "    }\n",
       "\n",
       "    .dataframe tbody tr th {\n",
       "        vertical-align: top;\n",
       "    }\n",
       "\n",
       "    .dataframe thead th {\n",
       "        text-align: right;\n",
       "    }\n",
       "</style>\n",
       "<table border=\"1\" class=\"dataframe\">\n",
       "  <thead>\n",
       "    <tr style=\"text-align: right;\">\n",
       "      <th></th>\n",
       "      <th>Parameters</th>\n",
       "    </tr>\n",
       "  </thead>\n",
       "  <tbody>\n",
       "    <tr>\n",
       "      <th>ccp_alpha</th>\n",
       "      <td>0.0</td>\n",
       "    </tr>\n",
       "    <tr>\n",
       "      <th>class_weight</th>\n",
       "      <td>None</td>\n",
       "    </tr>\n",
       "    <tr>\n",
       "      <th>criterion</th>\n",
       "      <td>gini</td>\n",
       "    </tr>\n",
       "    <tr>\n",
       "      <th>max_depth</th>\n",
       "      <td>None</td>\n",
       "    </tr>\n",
       "    <tr>\n",
       "      <th>max_features</th>\n",
       "      <td>None</td>\n",
       "    </tr>\n",
       "    <tr>\n",
       "      <th>max_leaf_nodes</th>\n",
       "      <td>None</td>\n",
       "    </tr>\n",
       "    <tr>\n",
       "      <th>min_impurity_decrease</th>\n",
       "      <td>0.0</td>\n",
       "    </tr>\n",
       "    <tr>\n",
       "      <th>min_samples_leaf</th>\n",
       "      <td>1</td>\n",
       "    </tr>\n",
       "    <tr>\n",
       "      <th>min_samples_split</th>\n",
       "      <td>2</td>\n",
       "    </tr>\n",
       "    <tr>\n",
       "      <th>min_weight_fraction_leaf</th>\n",
       "      <td>0.0</td>\n",
       "    </tr>\n",
       "    <tr>\n",
       "      <th>random_state</th>\n",
       "      <td>4080</td>\n",
       "    </tr>\n",
       "    <tr>\n",
       "      <th>splitter</th>\n",
       "      <td>best</td>\n",
       "    </tr>\n",
       "  </tbody>\n",
       "</table>\n",
       "</div>"
      ],
      "text/plain": [
       "                         Parameters\n",
       "ccp_alpha                       0.0\n",
       "class_weight                   None\n",
       "criterion                      gini\n",
       "max_depth                      None\n",
       "max_features                   None\n",
       "max_leaf_nodes                 None\n",
       "min_impurity_decrease           0.0\n",
       "min_samples_leaf                  1\n",
       "min_samples_split                 2\n",
       "min_weight_fraction_leaf        0.0\n",
       "random_state                   4080\n",
       "splitter                       best"
      ]
     },
     "metadata": {},
     "output_type": "display_data"
    }
   ],
   "source": [
    "plot_model(dt, plot = 'parameter')"
   ]
  },
  {
   "cell_type": "code",
   "execution_count": 21,
   "metadata": {},
   "outputs": [
    {
     "name": "stdout",
     "output_type": "stream",
     "text": [
      "Transformation Pipeline and Model Successfully Saved\n"
     ]
    },
    {
     "data": {
      "text/plain": [
       "(Pipeline(memory=FastMemory(location=/tmp/joblib),\n",
       "          steps=[('numerical_imputer',\n",
       "                  TransformerWrapper(exclude=None,\n",
       "                                     include=['0', '1', '2', '3', '4', '5', '6',\n",
       "                                              '7', '8', '9', '10', '11', '12',\n",
       "                                              '13', '14', '15', '16', '17', '18',\n",
       "                                              '19', '20', '21', '22', '23', '24',\n",
       "                                              '25', '26', '27', '28', '29', ...],\n",
       "                                     transformer=SimpleImputer(add_indicator=False,\n",
       "                                                               copy=True,\n",
       "                                                               fill_value=None,\n",
       "                                                               keep_empty_feat...\n",
       "                                                               missing_values=nan,\n",
       "                                                               strategy='most_frequent',\n",
       "                                                               verbose='deprecated'))),\n",
       "                 ('trained_model',\n",
       "                  DecisionTreeClassifier(ccp_alpha=0.0, class_weight=None,\n",
       "                                         criterion='gini', max_depth=None,\n",
       "                                         max_features=None, max_leaf_nodes=None,\n",
       "                                         min_impurity_decrease=0.0,\n",
       "                                         min_samples_leaf=1, min_samples_split=2,\n",
       "                                         min_weight_fraction_leaf=0.0,\n",
       "                                         random_state=4080, splitter='best'))],\n",
       "          verbose=False),\n",
       " 'models_classif/convkb/binary_emb_val/dt.pkl')"
      ]
     },
     "execution_count": 21,
     "metadata": {},
     "output_type": "execute_result"
    }
   ],
   "source": [
    "save_model(dt, 'models_classif/complex/binary_emb_val/dt')"
   ]
  },
  {
   "cell_type": "markdown",
   "metadata": {},
   "source": [
    "# SVM - Linear Kernel"
   ]
  },
  {
   "cell_type": "code",
   "execution_count": 22,
   "metadata": {},
   "outputs": [
    {
     "data": {
      "text/html": [],
      "text/plain": [
       "<IPython.core.display.HTML object>"
      ]
     },
     "metadata": {},
     "output_type": "display_data"
    },
    {
     "data": {
      "text/html": [
       "<style type=\"text/css\">\n",
       "#T_01fe6_row10_col0, #T_01fe6_row10_col1, #T_01fe6_row10_col2, #T_01fe6_row10_col3, #T_01fe6_row10_col4, #T_01fe6_row10_col5, #T_01fe6_row10_col6 {\n",
       "  background: yellow;\n",
       "}\n",
       "</style>\n",
       "<table id=\"T_01fe6\">\n",
       "  <thead>\n",
       "    <tr>\n",
       "      <th class=\"blank level0\" >&nbsp;</th>\n",
       "      <th id=\"T_01fe6_level0_col0\" class=\"col_heading level0 col0\" >Accuracy</th>\n",
       "      <th id=\"T_01fe6_level0_col1\" class=\"col_heading level0 col1\" >AUC</th>\n",
       "      <th id=\"T_01fe6_level0_col2\" class=\"col_heading level0 col2\" >Recall</th>\n",
       "      <th id=\"T_01fe6_level0_col3\" class=\"col_heading level0 col3\" >Prec.</th>\n",
       "      <th id=\"T_01fe6_level0_col4\" class=\"col_heading level0 col4\" >F1</th>\n",
       "      <th id=\"T_01fe6_level0_col5\" class=\"col_heading level0 col5\" >Kappa</th>\n",
       "      <th id=\"T_01fe6_level0_col6\" class=\"col_heading level0 col6\" >MCC</th>\n",
       "    </tr>\n",
       "    <tr>\n",
       "      <th class=\"index_name level0\" >Fold</th>\n",
       "      <th class=\"blank col0\" >&nbsp;</th>\n",
       "      <th class=\"blank col1\" >&nbsp;</th>\n",
       "      <th class=\"blank col2\" >&nbsp;</th>\n",
       "      <th class=\"blank col3\" >&nbsp;</th>\n",
       "      <th class=\"blank col4\" >&nbsp;</th>\n",
       "      <th class=\"blank col5\" >&nbsp;</th>\n",
       "      <th class=\"blank col6\" >&nbsp;</th>\n",
       "    </tr>\n",
       "  </thead>\n",
       "  <tbody>\n",
       "    <tr>\n",
       "      <th id=\"T_01fe6_level0_row0\" class=\"row_heading level0 row0\" >0</th>\n",
       "      <td id=\"T_01fe6_row0_col0\" class=\"data row0 col0\" >0.6611</td>\n",
       "      <td id=\"T_01fe6_row0_col1\" class=\"data row0 col1\" >0.0000</td>\n",
       "      <td id=\"T_01fe6_row0_col2\" class=\"data row0 col2\" >0.8348</td>\n",
       "      <td id=\"T_01fe6_row0_col3\" class=\"data row0 col3\" >0.6195</td>\n",
       "      <td id=\"T_01fe6_row0_col4\" class=\"data row0 col4\" >0.7112</td>\n",
       "      <td id=\"T_01fe6_row0_col5\" class=\"data row0 col5\" >0.3223</td>\n",
       "      <td id=\"T_01fe6_row0_col6\" class=\"data row0 col6\" >0.3438</td>\n",
       "    </tr>\n",
       "    <tr>\n",
       "      <th id=\"T_01fe6_level0_row1\" class=\"row_heading level0 row1\" >1</th>\n",
       "      <td id=\"T_01fe6_row1_col0\" class=\"data row1 col0\" >0.6602</td>\n",
       "      <td id=\"T_01fe6_row1_col1\" class=\"data row1 col1\" >0.0000</td>\n",
       "      <td id=\"T_01fe6_row1_col2\" class=\"data row1 col2\" >0.8341</td>\n",
       "      <td id=\"T_01fe6_row1_col3\" class=\"data row1 col3\" >0.6188</td>\n",
       "      <td id=\"T_01fe6_row1_col4\" class=\"data row1 col4\" >0.7105</td>\n",
       "      <td id=\"T_01fe6_row1_col5\" class=\"data row1 col5\" >0.3206</td>\n",
       "      <td id=\"T_01fe6_row1_col6\" class=\"data row1 col6\" >0.3419</td>\n",
       "    </tr>\n",
       "    <tr>\n",
       "      <th id=\"T_01fe6_level0_row2\" class=\"row_heading level0 row2\" >2</th>\n",
       "      <td id=\"T_01fe6_row2_col0\" class=\"data row2 col0\" >0.6618</td>\n",
       "      <td id=\"T_01fe6_row2_col1\" class=\"data row2 col1\" >0.0000</td>\n",
       "      <td id=\"T_01fe6_row2_col2\" class=\"data row2 col2\" >0.8342</td>\n",
       "      <td id=\"T_01fe6_row2_col3\" class=\"data row2 col3\" >0.6201</td>\n",
       "      <td id=\"T_01fe6_row2_col4\" class=\"data row2 col4\" >0.7114</td>\n",
       "      <td id=\"T_01fe6_row2_col5\" class=\"data row2 col5\" >0.3236</td>\n",
       "      <td id=\"T_01fe6_row2_col6\" class=\"data row2 col6\" >0.3448</td>\n",
       "    </tr>\n",
       "    <tr>\n",
       "      <th id=\"T_01fe6_level0_row3\" class=\"row_heading level0 row3\" >3</th>\n",
       "      <td id=\"T_01fe6_row3_col0\" class=\"data row3 col0\" >0.6616</td>\n",
       "      <td id=\"T_01fe6_row3_col1\" class=\"data row3 col1\" >0.0000</td>\n",
       "      <td id=\"T_01fe6_row3_col2\" class=\"data row3 col2\" >0.8364</td>\n",
       "      <td id=\"T_01fe6_row3_col3\" class=\"data row3 col3\" >0.6196</td>\n",
       "      <td id=\"T_01fe6_row3_col4\" class=\"data row3 col4\" >0.7119</td>\n",
       "      <td id=\"T_01fe6_row3_col5\" class=\"data row3 col5\" >0.3233</td>\n",
       "      <td id=\"T_01fe6_row3_col6\" class=\"data row3 col6\" >0.3451</td>\n",
       "    </tr>\n",
       "    <tr>\n",
       "      <th id=\"T_01fe6_level0_row4\" class=\"row_heading level0 row4\" >4</th>\n",
       "      <td id=\"T_01fe6_row4_col0\" class=\"data row4 col0\" >0.6630</td>\n",
       "      <td id=\"T_01fe6_row4_col1\" class=\"data row4 col1\" >0.0000</td>\n",
       "      <td id=\"T_01fe6_row4_col2\" class=\"data row4 col2\" >0.8355</td>\n",
       "      <td id=\"T_01fe6_row4_col3\" class=\"data row4 col3\" >0.6210</td>\n",
       "      <td id=\"T_01fe6_row4_col4\" class=\"data row4 col4\" >0.7125</td>\n",
       "      <td id=\"T_01fe6_row4_col5\" class=\"data row4 col5\" >0.3260</td>\n",
       "      <td id=\"T_01fe6_row4_col6\" class=\"data row4 col6\" >0.3474</td>\n",
       "    </tr>\n",
       "    <tr>\n",
       "      <th id=\"T_01fe6_level0_row5\" class=\"row_heading level0 row5\" >5</th>\n",
       "      <td id=\"T_01fe6_row5_col0\" class=\"data row5 col0\" >0.6621</td>\n",
       "      <td id=\"T_01fe6_row5_col1\" class=\"data row5 col1\" >0.0000</td>\n",
       "      <td id=\"T_01fe6_row5_col2\" class=\"data row5 col2\" >0.8355</td>\n",
       "      <td id=\"T_01fe6_row5_col3\" class=\"data row5 col3\" >0.6202</td>\n",
       "      <td id=\"T_01fe6_row5_col4\" class=\"data row5 col4\" >0.7119</td>\n",
       "      <td id=\"T_01fe6_row5_col5\" class=\"data row5 col5\" >0.3243</td>\n",
       "      <td id=\"T_01fe6_row5_col6\" class=\"data row5 col6\" >0.3457</td>\n",
       "    </tr>\n",
       "    <tr>\n",
       "      <th id=\"T_01fe6_level0_row6\" class=\"row_heading level0 row6\" >6</th>\n",
       "      <td id=\"T_01fe6_row6_col0\" class=\"data row6 col0\" >0.6617</td>\n",
       "      <td id=\"T_01fe6_row6_col1\" class=\"data row6 col1\" >0.0000</td>\n",
       "      <td id=\"T_01fe6_row6_col2\" class=\"data row6 col2\" >0.8346</td>\n",
       "      <td id=\"T_01fe6_row6_col3\" class=\"data row6 col3\" >0.6201</td>\n",
       "      <td id=\"T_01fe6_row6_col4\" class=\"data row6 col4\" >0.7115</td>\n",
       "      <td id=\"T_01fe6_row6_col5\" class=\"data row6 col5\" >0.3236</td>\n",
       "      <td id=\"T_01fe6_row6_col6\" class=\"data row6 col6\" >0.3449</td>\n",
       "    </tr>\n",
       "    <tr>\n",
       "      <th id=\"T_01fe6_level0_row7\" class=\"row_heading level0 row7\" >7</th>\n",
       "      <td id=\"T_01fe6_row7_col0\" class=\"data row7 col0\" >0.6598</td>\n",
       "      <td id=\"T_01fe6_row7_col1\" class=\"data row7 col1\" >0.0000</td>\n",
       "      <td id=\"T_01fe6_row7_col2\" class=\"data row7 col2\" >0.8325</td>\n",
       "      <td id=\"T_01fe6_row7_col3\" class=\"data row7 col3\" >0.6186</td>\n",
       "      <td id=\"T_01fe6_row7_col4\" class=\"data row7 col4\" >0.7098</td>\n",
       "      <td id=\"T_01fe6_row7_col5\" class=\"data row7 col5\" >0.3196</td>\n",
       "      <td id=\"T_01fe6_row7_col6\" class=\"data row7 col6\" >0.3406</td>\n",
       "    </tr>\n",
       "    <tr>\n",
       "      <th id=\"T_01fe6_level0_row8\" class=\"row_heading level0 row8\" >8</th>\n",
       "      <td id=\"T_01fe6_row8_col0\" class=\"data row8 col0\" >0.6613</td>\n",
       "      <td id=\"T_01fe6_row8_col1\" class=\"data row8 col1\" >0.0000</td>\n",
       "      <td id=\"T_01fe6_row8_col2\" class=\"data row8 col2\" >0.8339</td>\n",
       "      <td id=\"T_01fe6_row8_col3\" class=\"data row8 col3\" >0.6198</td>\n",
       "      <td id=\"T_01fe6_row8_col4\" class=\"data row8 col4\" >0.7111</td>\n",
       "      <td id=\"T_01fe6_row8_col5\" class=\"data row8 col5\" >0.3227</td>\n",
       "      <td id=\"T_01fe6_row8_col6\" class=\"data row8 col6\" >0.3439</td>\n",
       "    </tr>\n",
       "    <tr>\n",
       "      <th id=\"T_01fe6_level0_row9\" class=\"row_heading level0 row9\" >9</th>\n",
       "      <td id=\"T_01fe6_row9_col0\" class=\"data row9 col0\" >0.6620</td>\n",
       "      <td id=\"T_01fe6_row9_col1\" class=\"data row9 col1\" >0.0000</td>\n",
       "      <td id=\"T_01fe6_row9_col2\" class=\"data row9 col2\" >0.8348</td>\n",
       "      <td id=\"T_01fe6_row9_col3\" class=\"data row9 col3\" >0.6203</td>\n",
       "      <td id=\"T_01fe6_row9_col4\" class=\"data row9 col4\" >0.7117</td>\n",
       "      <td id=\"T_01fe6_row9_col5\" class=\"data row9 col5\" >0.3242</td>\n",
       "      <td id=\"T_01fe6_row9_col6\" class=\"data row9 col6\" >0.3455</td>\n",
       "    </tr>\n",
       "    <tr>\n",
       "      <th id=\"T_01fe6_level0_row10\" class=\"row_heading level0 row10\" >Mean</th>\n",
       "      <td id=\"T_01fe6_row10_col0\" class=\"data row10 col0\" >0.6615</td>\n",
       "      <td id=\"T_01fe6_row10_col1\" class=\"data row10 col1\" >0.0000</td>\n",
       "      <td id=\"T_01fe6_row10_col2\" class=\"data row10 col2\" >0.8346</td>\n",
       "      <td id=\"T_01fe6_row10_col3\" class=\"data row10 col3\" >0.6198</td>\n",
       "      <td id=\"T_01fe6_row10_col4\" class=\"data row10 col4\" >0.7113</td>\n",
       "      <td id=\"T_01fe6_row10_col5\" class=\"data row10 col5\" >0.3230</td>\n",
       "      <td id=\"T_01fe6_row10_col6\" class=\"data row10 col6\" >0.3444</td>\n",
       "    </tr>\n",
       "    <tr>\n",
       "      <th id=\"T_01fe6_level0_row11\" class=\"row_heading level0 row11\" >Std</th>\n",
       "      <td id=\"T_01fe6_row11_col0\" class=\"data row11 col0\" >0.0009</td>\n",
       "      <td id=\"T_01fe6_row11_col1\" class=\"data row11 col1\" >0.0000</td>\n",
       "      <td id=\"T_01fe6_row11_col2\" class=\"data row11 col2\" >0.0010</td>\n",
       "      <td id=\"T_01fe6_row11_col3\" class=\"data row11 col3\" >0.0007</td>\n",
       "      <td id=\"T_01fe6_row11_col4\" class=\"data row11 col4\" >0.0007</td>\n",
       "      <td id=\"T_01fe6_row11_col5\" class=\"data row11 col5\" >0.0017</td>\n",
       "      <td id=\"T_01fe6_row11_col6\" class=\"data row11 col6\" >0.0018</td>\n",
       "    </tr>\n",
       "  </tbody>\n",
       "</table>\n"
      ],
      "text/plain": [
       "<pandas.io.formats.style.Styler at 0x7f3e1597acb0>"
      ]
     },
     "metadata": {},
     "output_type": "display_data"
    },
    {
     "data": {
      "text/html": [],
      "text/plain": [
       "<IPython.core.display.HTML object>"
      ]
     },
     "metadata": {},
     "output_type": "display_data"
    }
   ],
   "source": [
    "svm = create_model('svm')"
   ]
  },
  {
   "cell_type": "code",
   "execution_count": 23,
   "metadata": {},
   "outputs": [
    {
     "data": {
      "text/html": [],
      "text/plain": [
       "<IPython.core.display.HTML object>"
      ]
     },
     "metadata": {},
     "output_type": "display_data"
    },
    {
     "data": {
      "image/png": "[encoded data removed]",
      "text/plain": [
       "<Figure size 800x550 with 1 Axes>"
      ]
     },
     "metadata": {},
     "output_type": "display_data"
    }
   ],
   "source": [
    "plot_model(svm, plot = 'confusion_matrix')"
   ]
  },
  {
   "cell_type": "code",
   "execution_count": 24,
   "metadata": {},
   "outputs": [
    {
     "data": {
      "text/html": [],
      "text/plain": [
       "<IPython.core.display.HTML object>"
      ]
     },
     "metadata": {},
     "output_type": "display_data"
    },
    {
     "data": {
      "image/png": "[encoded data removed]",
      "text/plain": [
       "<Figure size 800x550 with 1 Axes>"
      ]
     },
     "metadata": {},
     "output_type": "display_data"
    }
   ],
   "source": [
    "plot_model(svm, plot = 'error')"
   ]
  },
  {
   "cell_type": "code",
   "execution_count": 25,
   "metadata": {},
   "outputs": [
    {
     "data": {
      "text/html": [],
      "text/plain": [
       "<IPython.core.display.HTML object>"
      ]
     },
     "metadata": {},
     "output_type": "display_data"
    },
    {
     "data": {
      "text/html": [
       "<div>\n",
       "<style scoped>\n",
       "    .dataframe tbody tr th:only-of-type {\n",
       "        vertical-align: middle;\n",
       "    }\n",
       "\n",
       "    .dataframe tbody tr th {\n",
       "        vertical-align: top;\n",
       "    }\n",
       "\n",
       "    .dataframe thead th {\n",
       "        text-align: right;\n",
       "    }\n",
       "</style>\n",
       "<table border=\"1\" class=\"dataframe\">\n",
       "  <thead>\n",
       "    <tr style=\"text-align: right;\">\n",
       "      <th></th>\n",
       "      <th>Parameters</th>\n",
       "    </tr>\n",
       "  </thead>\n",
       "  <tbody>\n",
       "    <tr>\n",
       "      <th>alpha</th>\n",
       "      <td>0.0001</td>\n",
       "    </tr>\n",
       "    <tr>\n",
       "      <th>average</th>\n",
       "      <td>False</td>\n",
       "    </tr>\n",
       "    <tr>\n",
       "      <th>class_weight</th>\n",
       "      <td>None</td>\n",
       "    </tr>\n",
       "    <tr>\n",
       "      <th>early_stopping</th>\n",
       "      <td>False</td>\n",
       "    </tr>\n",
       "    <tr>\n",
       "      <th>epsilon</th>\n",
       "      <td>0.1</td>\n",
       "    </tr>\n",
       "    <tr>\n",
       "      <th>eta0</th>\n",
       "      <td>0.001</td>\n",
       "    </tr>\n",
       "    <tr>\n",
       "      <th>fit_intercept</th>\n",
       "      <td>True</td>\n",
       "    </tr>\n",
       "    <tr>\n",
       "      <th>l1_ratio</th>\n",
       "      <td>0.15</td>\n",
       "    </tr>\n",
       "    <tr>\n",
       "      <th>learning_rate</th>\n",
       "      <td>optimal</td>\n",
       "    </tr>\n",
       "    <tr>\n",
       "      <th>loss</th>\n",
       "      <td>hinge</td>\n",
       "    </tr>\n",
       "    <tr>\n",
       "      <th>max_iter</th>\n",
       "      <td>1000</td>\n",
       "    </tr>\n",
       "    <tr>\n",
       "      <th>n_iter_no_change</th>\n",
       "      <td>5</td>\n",
       "    </tr>\n",
       "    <tr>\n",
       "      <th>n_jobs</th>\n",
       "      <td>-1</td>\n",
       "    </tr>\n",
       "    <tr>\n",
       "      <th>penalty</th>\n",
       "      <td>l2</td>\n",
       "    </tr>\n",
       "    <tr>\n",
       "      <th>power_t</th>\n",
       "      <td>0.5</td>\n",
       "    </tr>\n",
       "    <tr>\n",
       "      <th>random_state</th>\n",
       "      <td>4080</td>\n",
       "    </tr>\n",
       "    <tr>\n",
       "      <th>shuffle</th>\n",
       "      <td>True</td>\n",
       "    </tr>\n",
       "    <tr>\n",
       "      <th>tol</th>\n",
       "      <td>0.001</td>\n",
       "    </tr>\n",
       "    <tr>\n",
       "      <th>validation_fraction</th>\n",
       "      <td>0.1</td>\n",
       "    </tr>\n",
       "    <tr>\n",
       "      <th>verbose</th>\n",
       "      <td>0</td>\n",
       "    </tr>\n",
       "    <tr>\n",
       "      <th>warm_start</th>\n",
       "      <td>False</td>\n",
       "    </tr>\n",
       "  </tbody>\n",
       "</table>\n",
       "</div>"
      ],
      "text/plain": [
       "                    Parameters\n",
       "alpha                   0.0001\n",
       "average                  False\n",
       "class_weight              None\n",
       "early_stopping           False\n",
       "epsilon                    0.1\n",
       "eta0                     0.001\n",
       "fit_intercept             True\n",
       "l1_ratio                  0.15\n",
       "learning_rate          optimal\n",
       "loss                     hinge\n",
       "max_iter                  1000\n",
       "n_iter_no_change             5\n",
       "n_jobs                      -1\n",
       "penalty                     l2\n",
       "power_t                    0.5\n",
       "random_state              4080\n",
       "shuffle                   True\n",
       "tol                      0.001\n",
       "validation_fraction        0.1\n",
       "verbose                      0\n",
       "warm_start               False"
      ]
     },
     "metadata": {},
     "output_type": "display_data"
    }
   ],
   "source": [
    "plot_model(svm, plot = 'parameter')"
   ]
  },
  {
   "cell_type": "code",
   "execution_count": 26,
   "metadata": {},
   "outputs": [
    {
     "name": "stdout",
     "output_type": "stream",
     "text": [
      "Transformation Pipeline and Model Successfully Saved\n"
     ]
    },
    {
     "data": {
      "text/plain": [
       "(Pipeline(memory=FastMemory(location=/tmp/joblib),\n",
       "          steps=[('numerical_imputer',\n",
       "                  TransformerWrapper(exclude=None,\n",
       "                                     include=['0', '1', '2', '3', '4', '5', '6',\n",
       "                                              '7', '8', '9', '10', '11', '12',\n",
       "                                              '13', '14', '15', '16', '17', '18',\n",
       "                                              '19', '20', '21', '22', '23', '24',\n",
       "                                              '25', '26', '27', '28', '29', ...],\n",
       "                                     transformer=SimpleImputer(add_indicator=False,\n",
       "                                                               copy=True,\n",
       "                                                               fill_value=None,\n",
       "                                                               keep_empty_feat...\n",
       "                  SGDClassifier(alpha=0.0001, average=False, class_weight=None,\n",
       "                                early_stopping=False, epsilon=0.1, eta0=0.001,\n",
       "                                fit_intercept=True, l1_ratio=0.15,\n",
       "                                learning_rate='optimal', loss='hinge',\n",
       "                                max_iter=1000, n_iter_no_change=5, n_jobs=-1,\n",
       "                                penalty='l2', power_t=0.5, random_state=4080,\n",
       "                                shuffle=True, tol=0.001, validation_fraction=0.1,\n",
       "                                verbose=0, warm_start=False))],\n",
       "          verbose=False),\n",
       " 'models_classif/convkb/binary_emb_val/svm.pkl')"
      ]
     },
     "execution_count": 26,
     "metadata": {},
     "output_type": "execute_result"
    }
   ],
   "source": [
    "save_model(svm, 'models_classif/complex/binary_emb_val/svm')"
   ]
  },
  {
   "cell_type": "markdown",
   "metadata": {},
   "source": [
    "# Ridge Classifier"
   ]
  },
  {
   "cell_type": "code",
   "execution_count": 27,
   "metadata": {},
   "outputs": [
    {
     "data": {
      "text/html": [],
      "text/plain": [
       "<IPython.core.display.HTML object>"
      ]
     },
     "metadata": {},
     "output_type": "display_data"
    },
    {
     "data": {
      "text/html": [
       "<style type=\"text/css\">\n",
       "#T_db3f1_row10_col0, #T_db3f1_row10_col1, #T_db3f1_row10_col2, #T_db3f1_row10_col3, #T_db3f1_row10_col4, #T_db3f1_row10_col5, #T_db3f1_row10_col6 {\n",
       "  background: yellow;\n",
       "}\n",
       "</style>\n",
       "<table id=\"T_db3f1\">\n",
       "  <thead>\n",
       "    <tr>\n",
       "      <th class=\"blank level0\" >&nbsp;</th>\n",
       "      <th id=\"T_db3f1_level0_col0\" class=\"col_heading level0 col0\" >Accuracy</th>\n",
       "      <th id=\"T_db3f1_level0_col1\" class=\"col_heading level0 col1\" >AUC</th>\n",
       "      <th id=\"T_db3f1_level0_col2\" class=\"col_heading level0 col2\" >Recall</th>\n",
       "      <th id=\"T_db3f1_level0_col3\" class=\"col_heading level0 col3\" >Prec.</th>\n",
       "      <th id=\"T_db3f1_level0_col4\" class=\"col_heading level0 col4\" >F1</th>\n",
       "      <th id=\"T_db3f1_level0_col5\" class=\"col_heading level0 col5\" >Kappa</th>\n",
       "      <th id=\"T_db3f1_level0_col6\" class=\"col_heading level0 col6\" >MCC</th>\n",
       "    </tr>\n",
       "    <tr>\n",
       "      <th class=\"index_name level0\" >Fold</th>\n",
       "      <th class=\"blank col0\" >&nbsp;</th>\n",
       "      <th class=\"blank col1\" >&nbsp;</th>\n",
       "      <th class=\"blank col2\" >&nbsp;</th>\n",
       "      <th class=\"blank col3\" >&nbsp;</th>\n",
       "      <th class=\"blank col4\" >&nbsp;</th>\n",
       "      <th class=\"blank col5\" >&nbsp;</th>\n",
       "      <th class=\"blank col6\" >&nbsp;</th>\n",
       "    </tr>\n",
       "  </thead>\n",
       "  <tbody>\n",
       "    <tr>\n",
       "      <th id=\"T_db3f1_level0_row0\" class=\"row_heading level0 row0\" >0</th>\n",
       "      <td id=\"T_db3f1_row0_col0\" class=\"data row0 col0\" >0.6662</td>\n",
       "      <td id=\"T_db3f1_row0_col1\" class=\"data row0 col1\" >0.0000</td>\n",
       "      <td id=\"T_db3f1_row0_col2\" class=\"data row0 col2\" >0.8124</td>\n",
       "      <td id=\"T_db3f1_row0_col3\" class=\"data row0 col3\" >0.6285</td>\n",
       "      <td id=\"T_db3f1_row0_col4\" class=\"data row0 col4\" >0.7087</td>\n",
       "      <td id=\"T_db3f1_row0_col5\" class=\"data row0 col5\" >0.3325</td>\n",
       "      <td id=\"T_db3f1_row0_col6\" class=\"data row0 col6\" >0.3477</td>\n",
       "    </tr>\n",
       "    <tr>\n",
       "      <th id=\"T_db3f1_level0_row1\" class=\"row_heading level0 row1\" >1</th>\n",
       "      <td id=\"T_db3f1_row1_col0\" class=\"data row1 col0\" >0.6658</td>\n",
       "      <td id=\"T_db3f1_row1_col1\" class=\"data row1 col1\" >0.0000</td>\n",
       "      <td id=\"T_db3f1_row1_col2\" class=\"data row1 col2\" >0.8114</td>\n",
       "      <td id=\"T_db3f1_row1_col3\" class=\"data row1 col3\" >0.6283</td>\n",
       "      <td id=\"T_db3f1_row1_col4\" class=\"data row1 col4\" >0.7082</td>\n",
       "      <td id=\"T_db3f1_row1_col5\" class=\"data row1 col5\" >0.3316</td>\n",
       "      <td id=\"T_db3f1_row1_col6\" class=\"data row1 col6\" >0.3467</td>\n",
       "    </tr>\n",
       "    <tr>\n",
       "      <th id=\"T_db3f1_level0_row2\" class=\"row_heading level0 row2\" >2</th>\n",
       "      <td id=\"T_db3f1_row2_col0\" class=\"data row2 col0\" >0.6679</td>\n",
       "      <td id=\"T_db3f1_row2_col1\" class=\"data row2 col1\" >0.0000</td>\n",
       "      <td id=\"T_db3f1_row2_col2\" class=\"data row2 col2\" >0.8124</td>\n",
       "      <td id=\"T_db3f1_row2_col3\" class=\"data row2 col3\" >0.6301</td>\n",
       "      <td id=\"T_db3f1_row2_col4\" class=\"data row2 col4\" >0.7097</td>\n",
       "      <td id=\"T_db3f1_row2_col5\" class=\"data row2 col5\" >0.3359</td>\n",
       "      <td id=\"T_db3f1_row2_col6\" class=\"data row2 col6\" >0.3509</td>\n",
       "    </tr>\n",
       "    <tr>\n",
       "      <th id=\"T_db3f1_level0_row3\" class=\"row_heading level0 row3\" >3</th>\n",
       "      <td id=\"T_db3f1_row3_col0\" class=\"data row3 col0\" >0.6673</td>\n",
       "      <td id=\"T_db3f1_row3_col1\" class=\"data row3 col1\" >0.0000</td>\n",
       "      <td id=\"T_db3f1_row3_col2\" class=\"data row3 col2\" >0.8143</td>\n",
       "      <td id=\"T_db3f1_row3_col3\" class=\"data row3 col3\" >0.6291</td>\n",
       "      <td id=\"T_db3f1_row3_col4\" class=\"data row3 col4\" >0.7098</td>\n",
       "      <td id=\"T_db3f1_row3_col5\" class=\"data row3 col5\" >0.3346</td>\n",
       "      <td id=\"T_db3f1_row3_col6\" class=\"data row3 col6\" >0.3501</td>\n",
       "    </tr>\n",
       "    <tr>\n",
       "      <th id=\"T_db3f1_level0_row4\" class=\"row_heading level0 row4\" >4</th>\n",
       "      <td id=\"T_db3f1_row4_col0\" class=\"data row4 col0\" >0.6680</td>\n",
       "      <td id=\"T_db3f1_row4_col1\" class=\"data row4 col1\" >0.0000</td>\n",
       "      <td id=\"T_db3f1_row4_col2\" class=\"data row4 col2\" >0.8133</td>\n",
       "      <td id=\"T_db3f1_row4_col3\" class=\"data row4 col3\" >0.6301</td>\n",
       "      <td id=\"T_db3f1_row4_col4\" class=\"data row4 col4\" >0.7101</td>\n",
       "      <td id=\"T_db3f1_row4_col5\" class=\"data row4 col5\" >0.3362</td>\n",
       "      <td id=\"T_db3f1_row4_col6\" class=\"data row4 col6\" >0.3513</td>\n",
       "    </tr>\n",
       "    <tr>\n",
       "      <th id=\"T_db3f1_level0_row5\" class=\"row_heading level0 row5\" >5</th>\n",
       "      <td id=\"T_db3f1_row5_col0\" class=\"data row5 col0\" >0.6671</td>\n",
       "      <td id=\"T_db3f1_row5_col1\" class=\"data row5 col1\" >0.0000</td>\n",
       "      <td id=\"T_db3f1_row5_col2\" class=\"data row5 col2\" >0.8126</td>\n",
       "      <td id=\"T_db3f1_row5_col3\" class=\"data row5 col3\" >0.6293</td>\n",
       "      <td id=\"T_db3f1_row5_col4\" class=\"data row5 col4\" >0.7093</td>\n",
       "      <td id=\"T_db3f1_row5_col5\" class=\"data row5 col5\" >0.3343</td>\n",
       "      <td id=\"T_db3f1_row5_col6\" class=\"data row5 col6\" >0.3494</td>\n",
       "    </tr>\n",
       "    <tr>\n",
       "      <th id=\"T_db3f1_level0_row6\" class=\"row_heading level0 row6\" >6</th>\n",
       "      <td id=\"T_db3f1_row6_col0\" class=\"data row6 col0\" >0.6667</td>\n",
       "      <td id=\"T_db3f1_row6_col1\" class=\"data row6 col1\" >0.0000</td>\n",
       "      <td id=\"T_db3f1_row6_col2\" class=\"data row6 col2\" >0.8116</td>\n",
       "      <td id=\"T_db3f1_row6_col3\" class=\"data row6 col3\" >0.6291</td>\n",
       "      <td id=\"T_db3f1_row6_col4\" class=\"data row6 col4\" >0.7088</td>\n",
       "      <td id=\"T_db3f1_row6_col5\" class=\"data row6 col5\" >0.3335</td>\n",
       "      <td id=\"T_db3f1_row6_col6\" class=\"data row6 col6\" >0.3484</td>\n",
       "    </tr>\n",
       "    <tr>\n",
       "      <th id=\"T_db3f1_level0_row7\" class=\"row_heading level0 row7\" >7</th>\n",
       "      <td id=\"T_db3f1_row7_col0\" class=\"data row7 col0\" >0.6650</td>\n",
       "      <td id=\"T_db3f1_row7_col1\" class=\"data row7 col1\" >0.0000</td>\n",
       "      <td id=\"T_db3f1_row7_col2\" class=\"data row7 col2\" >0.8100</td>\n",
       "      <td id=\"T_db3f1_row7_col3\" class=\"data row7 col3\" >0.6278</td>\n",
       "      <td id=\"T_db3f1_row7_col4\" class=\"data row7 col4\" >0.7074</td>\n",
       "      <td id=\"T_db3f1_row7_col5\" class=\"data row7 col5\" >0.3301</td>\n",
       "      <td id=\"T_db3f1_row7_col6\" class=\"data row7 col6\" >0.3450</td>\n",
       "    </tr>\n",
       "    <tr>\n",
       "      <th id=\"T_db3f1_level0_row8\" class=\"row_heading level0 row8\" >8</th>\n",
       "      <td id=\"T_db3f1_row8_col0\" class=\"data row8 col0\" >0.6666</td>\n",
       "      <td id=\"T_db3f1_row8_col1\" class=\"data row8 col1\" >0.0000</td>\n",
       "      <td id=\"T_db3f1_row8_col2\" class=\"data row8 col2\" >0.8107</td>\n",
       "      <td id=\"T_db3f1_row8_col3\" class=\"data row8 col3\" >0.6292</td>\n",
       "      <td id=\"T_db3f1_row8_col4\" class=\"data row8 col4\" >0.7085</td>\n",
       "      <td id=\"T_db3f1_row8_col5\" class=\"data row8 col5\" >0.3334</td>\n",
       "      <td id=\"T_db3f1_row8_col6\" class=\"data row8 col6\" >0.3481</td>\n",
       "    </tr>\n",
       "    <tr>\n",
       "      <th id=\"T_db3f1_level0_row9\" class=\"row_heading level0 row9\" >9</th>\n",
       "      <td id=\"T_db3f1_row9_col0\" class=\"data row9 col0\" >0.6662</td>\n",
       "      <td id=\"T_db3f1_row9_col1\" class=\"data row9 col1\" >0.0000</td>\n",
       "      <td id=\"T_db3f1_row9_col2\" class=\"data row9 col2\" >0.8127</td>\n",
       "      <td id=\"T_db3f1_row9_col3\" class=\"data row9 col3\" >0.6284</td>\n",
       "      <td id=\"T_db3f1_row9_col4\" class=\"data row9 col4\" >0.7088</td>\n",
       "      <td id=\"T_db3f1_row9_col5\" class=\"data row9 col5\" >0.3325</td>\n",
       "      <td id=\"T_db3f1_row9_col6\" class=\"data row9 col6\" >0.3478</td>\n",
       "    </tr>\n",
       "    <tr>\n",
       "      <th id=\"T_db3f1_level0_row10\" class=\"row_heading level0 row10\" >Mean</th>\n",
       "      <td id=\"T_db3f1_row10_col0\" class=\"data row10 col0\" >0.6667</td>\n",
       "      <td id=\"T_db3f1_row10_col1\" class=\"data row10 col1\" >0.0000</td>\n",
       "      <td id=\"T_db3f1_row10_col2\" class=\"data row10 col2\" >0.8121</td>\n",
       "      <td id=\"T_db3f1_row10_col3\" class=\"data row10 col3\" >0.6290</td>\n",
       "      <td id=\"T_db3f1_row10_col4\" class=\"data row10 col4\" >0.7089</td>\n",
       "      <td id=\"T_db3f1_row10_col5\" class=\"data row10 col5\" >0.3335</td>\n",
       "      <td id=\"T_db3f1_row10_col6\" class=\"data row10 col6\" >0.3485</td>\n",
       "    </tr>\n",
       "    <tr>\n",
       "      <th id=\"T_db3f1_level0_row11\" class=\"row_heading level0 row11\" >Std</th>\n",
       "      <td id=\"T_db3f1_row11_col0\" class=\"data row11 col0\" >0.0009</td>\n",
       "      <td id=\"T_db3f1_row11_col1\" class=\"data row11 col1\" >0.0000</td>\n",
       "      <td id=\"T_db3f1_row11_col2\" class=\"data row11 col2\" >0.0012</td>\n",
       "      <td id=\"T_db3f1_row11_col3\" class=\"data row11 col3\" >0.0007</td>\n",
       "      <td id=\"T_db3f1_row11_col4\" class=\"data row11 col4\" >0.0008</td>\n",
       "      <td id=\"T_db3f1_row11_col5\" class=\"data row11 col5\" >0.0018</td>\n",
       "      <td id=\"T_db3f1_row11_col6\" class=\"data row11 col6\" >0.0018</td>\n",
       "    </tr>\n",
       "  </tbody>\n",
       "</table>\n"
      ],
      "text/plain": [
       "<pandas.io.formats.style.Styler at 0x7f3e15936aa0>"
      ]
     },
     "metadata": {},
     "output_type": "display_data"
    },
    {
     "data": {
      "text/html": [],
      "text/plain": [
       "<IPython.core.display.HTML object>"
      ]
     },
     "metadata": {},
     "output_type": "display_data"
    }
   ],
   "source": [
    "ridge = create_model('ridge')"
   ]
  },
  {
   "cell_type": "code",
   "execution_count": 28,
   "metadata": {},
   "outputs": [
    {
     "data": {
      "text/html": [],
      "text/plain": [
       "<IPython.core.display.HTML object>"
      ]
     },
     "metadata": {},
     "output_type": "display_data"
    },
    {
     "data": {
      "image/png": "[encoded data removed]",
      "text/plain": [
       "<Figure size 800x550 with 1 Axes>"
      ]
     },
     "metadata": {},
     "output_type": "display_data"
    }
   ],
   "source": [
    "plot_model(ridge, plot = 'confusion_matrix')"
   ]
  },
  {
   "cell_type": "code",
   "execution_count": 29,
   "metadata": {},
   "outputs": [
    {
     "data": {
      "text/html": [],
      "text/plain": [
       "<IPython.core.display.HTML object>"
      ]
     },
     "metadata": {},
     "output_type": "display_data"
    },
    {
     "data": {
      "image/png": "[encoded data removed]",
      "text/plain": [
       "<Figure size 800x550 with 1 Axes>"
      ]
     },
     "metadata": {},
     "output_type": "display_data"
    }
   ],
   "source": [
    "plot_model(ridge, plot = 'error')"
   ]
  },
  {
   "cell_type": "code",
   "execution_count": 30,
   "metadata": {},
   "outputs": [
    {
     "data": {
      "text/html": [],
      "text/plain": [
       "<IPython.core.display.HTML object>"
      ]
     },
     "metadata": {},
     "output_type": "display_data"
    },
    {
     "data": {
      "text/html": [
       "<div>\n",
       "<style scoped>\n",
       "    .dataframe tbody tr th:only-of-type {\n",
       "        vertical-align: middle;\n",
       "    }\n",
       "\n",
       "    .dataframe tbody tr th {\n",
       "        vertical-align: top;\n",
       "    }\n",
       "\n",
       "    .dataframe thead th {\n",
       "        text-align: right;\n",
       "    }\n",
       "</style>\n",
       "<table border=\"1\" class=\"dataframe\">\n",
       "  <thead>\n",
       "    <tr style=\"text-align: right;\">\n",
       "      <th></th>\n",
       "      <th>Parameters</th>\n",
       "    </tr>\n",
       "  </thead>\n",
       "  <tbody>\n",
       "    <tr>\n",
       "      <th>alpha</th>\n",
       "      <td>1.0</td>\n",
       "    </tr>\n",
       "    <tr>\n",
       "      <th>class_weight</th>\n",
       "      <td>None</td>\n",
       "    </tr>\n",
       "    <tr>\n",
       "      <th>copy_X</th>\n",
       "      <td>True</td>\n",
       "    </tr>\n",
       "    <tr>\n",
       "      <th>fit_intercept</th>\n",
       "      <td>True</td>\n",
       "    </tr>\n",
       "    <tr>\n",
       "      <th>max_iter</th>\n",
       "      <td>None</td>\n",
       "    </tr>\n",
       "    <tr>\n",
       "      <th>positive</th>\n",
       "      <td>False</td>\n",
       "    </tr>\n",
       "    <tr>\n",
       "      <th>random_state</th>\n",
       "      <td>4080</td>\n",
       "    </tr>\n",
       "    <tr>\n",
       "      <th>solver</th>\n",
       "      <td>auto</td>\n",
       "    </tr>\n",
       "    <tr>\n",
       "      <th>tol</th>\n",
       "      <td>0.0001</td>\n",
       "    </tr>\n",
       "  </tbody>\n",
       "</table>\n",
       "</div>"
      ],
      "text/plain": [
       "              Parameters\n",
       "alpha                1.0\n",
       "class_weight        None\n",
       "copy_X              True\n",
       "fit_intercept       True\n",
       "max_iter            None\n",
       "positive           False\n",
       "random_state        4080\n",
       "solver              auto\n",
       "tol               0.0001"
      ]
     },
     "metadata": {},
     "output_type": "display_data"
    }
   ],
   "source": [
    "plot_model(ridge, plot = 'parameter')"
   ]
  },
  {
   "cell_type": "code",
   "execution_count": 31,
   "metadata": {},
   "outputs": [
    {
     "name": "stdout",
     "output_type": "stream",
     "text": [
      "Transformation Pipeline and Model Successfully Saved\n"
     ]
    },
    {
     "data": {
      "text/plain": [
       "(Pipeline(memory=FastMemory(location=/tmp/joblib),\n",
       "          steps=[('numerical_imputer',\n",
       "                  TransformerWrapper(exclude=None,\n",
       "                                     include=['0', '1', '2', '3', '4', '5', '6',\n",
       "                                              '7', '8', '9', '10', '11', '12',\n",
       "                                              '13', '14', '15', '16', '17', '18',\n",
       "                                              '19', '20', '21', '22', '23', '24',\n",
       "                                              '25', '26', '27', '28', '29', ...],\n",
       "                                     transformer=SimpleImputer(add_indicator=False,\n",
       "                                                               copy=True,\n",
       "                                                               fill_value=None,\n",
       "                                                               keep_empty_feat...\n",
       "                  TransformerWrapper(exclude=None, include=[],\n",
       "                                     transformer=SimpleImputer(add_indicator=False,\n",
       "                                                               copy=True,\n",
       "                                                               fill_value=None,\n",
       "                                                               keep_empty_features=False,\n",
       "                                                               missing_values=nan,\n",
       "                                                               strategy='most_frequent',\n",
       "                                                               verbose='deprecated'))),\n",
       "                 ('trained_model',\n",
       "                  RidgeClassifier(alpha=1.0, class_weight=None, copy_X=True,\n",
       "                                  fit_intercept=True, max_iter=None,\n",
       "                                  positive=False, random_state=4080,\n",
       "                                  solver='auto', tol=0.0001))],\n",
       "          verbose=False),\n",
       " 'models_classif/convkb/binary_emb_val/ridge.pkl')"
      ]
     },
     "execution_count": 31,
     "metadata": {},
     "output_type": "execute_result"
    }
   ],
   "source": [
    "save_model(ridge, 'models_classif/complex/binary_emb_val/ridge')"
   ]
  },
  {
   "cell_type": "markdown",
   "metadata": {},
   "source": [
    "# Random Forest"
   ]
  },
  {
   "cell_type": "code",
   "execution_count": 32,
   "metadata": {},
   "outputs": [
    {
     "data": {
      "text/html": [],
      "text/plain": [
       "<IPython.core.display.HTML object>"
      ]
     },
     "metadata": {},
     "output_type": "display_data"
    },
    {
     "data": {
      "text/html": [
       "<style type=\"text/css\">\n",
       "#T_c4e86_row10_col0, #T_c4e86_row10_col1, #T_c4e86_row10_col2, #T_c4e86_row10_col3, #T_c4e86_row10_col4, #T_c4e86_row10_col5, #T_c4e86_row10_col6 {\n",
       "  background: yellow;\n",
       "}\n",
       "</style>\n",
       "<table id=\"T_c4e86\">\n",
       "  <thead>\n",
       "    <tr>\n",
       "      <th class=\"blank level0\" >&nbsp;</th>\n",
       "      <th id=\"T_c4e86_level0_col0\" class=\"col_heading level0 col0\" >Accuracy</th>\n",
       "      <th id=\"T_c4e86_level0_col1\" class=\"col_heading level0 col1\" >AUC</th>\n",
       "      <th id=\"T_c4e86_level0_col2\" class=\"col_heading level0 col2\" >Recall</th>\n",
       "      <th id=\"T_c4e86_level0_col3\" class=\"col_heading level0 col3\" >Prec.</th>\n",
       "      <th id=\"T_c4e86_level0_col4\" class=\"col_heading level0 col4\" >F1</th>\n",
       "      <th id=\"T_c4e86_level0_col5\" class=\"col_heading level0 col5\" >Kappa</th>\n",
       "      <th id=\"T_c4e86_level0_col6\" class=\"col_heading level0 col6\" >MCC</th>\n",
       "    </tr>\n",
       "    <tr>\n",
       "      <th class=\"index_name level0\" >Fold</th>\n",
       "      <th class=\"blank col0\" >&nbsp;</th>\n",
       "      <th class=\"blank col1\" >&nbsp;</th>\n",
       "      <th class=\"blank col2\" >&nbsp;</th>\n",
       "      <th class=\"blank col3\" >&nbsp;</th>\n",
       "      <th class=\"blank col4\" >&nbsp;</th>\n",
       "      <th class=\"blank col5\" >&nbsp;</th>\n",
       "      <th class=\"blank col6\" >&nbsp;</th>\n",
       "    </tr>\n",
       "  </thead>\n",
       "  <tbody>\n",
       "    <tr>\n",
       "      <th id=\"T_c4e86_level0_row0\" class=\"row_heading level0 row0\" >0</th>\n",
       "      <td id=\"T_c4e86_row0_col0\" class=\"data row0 col0\" >0.7471</td>\n",
       "      <td id=\"T_c4e86_row0_col1\" class=\"data row0 col1\" >0.8720</td>\n",
       "      <td id=\"T_c4e86_row0_col2\" class=\"data row0 col2\" >0.7504</td>\n",
       "      <td id=\"T_c4e86_row0_col3\" class=\"data row0 col3\" >0.7453</td>\n",
       "      <td id=\"T_c4e86_row0_col4\" class=\"data row0 col4\" >0.7479</td>\n",
       "      <td id=\"T_c4e86_row0_col5\" class=\"data row0 col5\" >0.4942</td>\n",
       "      <td id=\"T_c4e86_row0_col6\" class=\"data row0 col6\" >0.4942</td>\n",
       "    </tr>\n",
       "    <tr>\n",
       "      <th id=\"T_c4e86_level0_row1\" class=\"row_heading level0 row1\" >1</th>\n",
       "      <td id=\"T_c4e86_row1_col0\" class=\"data row1 col0\" >0.7462</td>\n",
       "      <td id=\"T_c4e86_row1_col1\" class=\"data row1 col1\" >0.8711</td>\n",
       "      <td id=\"T_c4e86_row1_col2\" class=\"data row1 col2\" >0.7489</td>\n",
       "      <td id=\"T_c4e86_row1_col3\" class=\"data row1 col3\" >0.7447</td>\n",
       "      <td id=\"T_c4e86_row1_col4\" class=\"data row1 col4\" >0.7468</td>\n",
       "      <td id=\"T_c4e86_row1_col5\" class=\"data row1 col5\" >0.4924</td>\n",
       "      <td id=\"T_c4e86_row1_col6\" class=\"data row1 col6\" >0.4924</td>\n",
       "    </tr>\n",
       "    <tr>\n",
       "      <th id=\"T_c4e86_level0_row2\" class=\"row_heading level0 row2\" >2</th>\n",
       "      <td id=\"T_c4e86_row2_col0\" class=\"data row2 col0\" >0.7463</td>\n",
       "      <td id=\"T_c4e86_row2_col1\" class=\"data row2 col1\" >0.8711</td>\n",
       "      <td id=\"T_c4e86_row2_col2\" class=\"data row2 col2\" >0.7494</td>\n",
       "      <td id=\"T_c4e86_row2_col3\" class=\"data row2 col3\" >0.7445</td>\n",
       "      <td id=\"T_c4e86_row2_col4\" class=\"data row2 col4\" >0.7470</td>\n",
       "      <td id=\"T_c4e86_row2_col5\" class=\"data row2 col5\" >0.4925</td>\n",
       "      <td id=\"T_c4e86_row2_col6\" class=\"data row2 col6\" >0.4925</td>\n",
       "    </tr>\n",
       "    <tr>\n",
       "      <th id=\"T_c4e86_level0_row3\" class=\"row_heading level0 row3\" >3</th>\n",
       "      <td id=\"T_c4e86_row3_col0\" class=\"data row3 col0\" >0.7477</td>\n",
       "      <td id=\"T_c4e86_row3_col1\" class=\"data row3 col1\" >0.8726</td>\n",
       "      <td id=\"T_c4e86_row3_col2\" class=\"data row3 col2\" >0.7513</td>\n",
       "      <td id=\"T_c4e86_row3_col3\" class=\"data row3 col3\" >0.7458</td>\n",
       "      <td id=\"T_c4e86_row3_col4\" class=\"data row3 col4\" >0.7485</td>\n",
       "      <td id=\"T_c4e86_row3_col5\" class=\"data row3 col5\" >0.4954</td>\n",
       "      <td id=\"T_c4e86_row3_col6\" class=\"data row3 col6\" >0.4954</td>\n",
       "    </tr>\n",
       "    <tr>\n",
       "      <th id=\"T_c4e86_level0_row4\" class=\"row_heading level0 row4\" >4</th>\n",
       "      <td id=\"T_c4e86_row4_col0\" class=\"data row4 col0\" >0.7465</td>\n",
       "      <td id=\"T_c4e86_row4_col1\" class=\"data row4 col1\" >0.8714</td>\n",
       "      <td id=\"T_c4e86_row4_col2\" class=\"data row4 col2\" >0.7509</td>\n",
       "      <td id=\"T_c4e86_row4_col3\" class=\"data row4 col3\" >0.7442</td>\n",
       "      <td id=\"T_c4e86_row4_col4\" class=\"data row4 col4\" >0.7475</td>\n",
       "      <td id=\"T_c4e86_row4_col5\" class=\"data row4 col5\" >0.4930</td>\n",
       "      <td id=\"T_c4e86_row4_col6\" class=\"data row4 col6\" >0.4930</td>\n",
       "    </tr>\n",
       "    <tr>\n",
       "      <th id=\"T_c4e86_level0_row5\" class=\"row_heading level0 row5\" >5</th>\n",
       "      <td id=\"T_c4e86_row5_col0\" class=\"data row5 col0\" >0.7472</td>\n",
       "      <td id=\"T_c4e86_row5_col1\" class=\"data row5 col1\" >0.8721</td>\n",
       "      <td id=\"T_c4e86_row5_col2\" class=\"data row5 col2\" >0.7468</td>\n",
       "      <td id=\"T_c4e86_row5_col3\" class=\"data row5 col3\" >0.7472</td>\n",
       "      <td id=\"T_c4e86_row5_col4\" class=\"data row5 col4\" >0.7470</td>\n",
       "      <td id=\"T_c4e86_row5_col5\" class=\"data row5 col5\" >0.4944</td>\n",
       "      <td id=\"T_c4e86_row5_col6\" class=\"data row5 col6\" >0.4944</td>\n",
       "    </tr>\n",
       "    <tr>\n",
       "      <th id=\"T_c4e86_level0_row6\" class=\"row_heading level0 row6\" >6</th>\n",
       "      <td id=\"T_c4e86_row6_col0\" class=\"data row6 col0\" >0.7474</td>\n",
       "      <td id=\"T_c4e86_row6_col1\" class=\"data row6 col1\" >0.8723</td>\n",
       "      <td id=\"T_c4e86_row6_col2\" class=\"data row6 col2\" >0.7509</td>\n",
       "      <td id=\"T_c4e86_row6_col3\" class=\"data row6 col3\" >0.7455</td>\n",
       "      <td id=\"T_c4e86_row6_col4\" class=\"data row6 col4\" >0.7482</td>\n",
       "      <td id=\"T_c4e86_row6_col5\" class=\"data row6 col5\" >0.4948</td>\n",
       "      <td id=\"T_c4e86_row6_col6\" class=\"data row6 col6\" >0.4948</td>\n",
       "    </tr>\n",
       "    <tr>\n",
       "      <th id=\"T_c4e86_level0_row7\" class=\"row_heading level0 row7\" >7</th>\n",
       "      <td id=\"T_c4e86_row7_col0\" class=\"data row7 col0\" >0.7455</td>\n",
       "      <td id=\"T_c4e86_row7_col1\" class=\"data row7 col1\" >0.8703</td>\n",
       "      <td id=\"T_c4e86_row7_col2\" class=\"data row7 col2\" >0.7487</td>\n",
       "      <td id=\"T_c4e86_row7_col3\" class=\"data row7 col3\" >0.7438</td>\n",
       "      <td id=\"T_c4e86_row7_col4\" class=\"data row7 col4\" >0.7463</td>\n",
       "      <td id=\"T_c4e86_row7_col5\" class=\"data row7 col5\" >0.4911</td>\n",
       "      <td id=\"T_c4e86_row7_col6\" class=\"data row7 col6\" >0.4911</td>\n",
       "    </tr>\n",
       "    <tr>\n",
       "      <th id=\"T_c4e86_level0_row8\" class=\"row_heading level0 row8\" >8</th>\n",
       "      <td id=\"T_c4e86_row8_col0\" class=\"data row8 col0\" >0.7468</td>\n",
       "      <td id=\"T_c4e86_row8_col1\" class=\"data row8 col1\" >0.8717</td>\n",
       "      <td id=\"T_c4e86_row8_col2\" class=\"data row8 col2\" >0.7491</td>\n",
       "      <td id=\"T_c4e86_row8_col3\" class=\"data row8 col3\" >0.7454</td>\n",
       "      <td id=\"T_c4e86_row8_col4\" class=\"data row8 col4\" >0.7473</td>\n",
       "      <td id=\"T_c4e86_row8_col5\" class=\"data row8 col5\" >0.4935</td>\n",
       "      <td id=\"T_c4e86_row8_col6\" class=\"data row8 col6\" >0.4935</td>\n",
       "    </tr>\n",
       "    <tr>\n",
       "      <th id=\"T_c4e86_level0_row9\" class=\"row_heading level0 row9\" >9</th>\n",
       "      <td id=\"T_c4e86_row9_col0\" class=\"data row9 col0\" >0.7470</td>\n",
       "      <td id=\"T_c4e86_row9_col1\" class=\"data row9 col1\" >0.8719</td>\n",
       "      <td id=\"T_c4e86_row9_col2\" class=\"data row9 col2\" >0.7519</td>\n",
       "      <td id=\"T_c4e86_row9_col3\" class=\"data row9 col3\" >0.7445</td>\n",
       "      <td id=\"T_c4e86_row9_col4\" class=\"data row9 col4\" >0.7482</td>\n",
       "      <td id=\"T_c4e86_row9_col5\" class=\"data row9 col5\" >0.4941</td>\n",
       "      <td id=\"T_c4e86_row9_col6\" class=\"data row9 col6\" >0.4941</td>\n",
       "    </tr>\n",
       "    <tr>\n",
       "      <th id=\"T_c4e86_level0_row10\" class=\"row_heading level0 row10\" >Mean</th>\n",
       "      <td id=\"T_c4e86_row10_col0\" class=\"data row10 col0\" >0.7468</td>\n",
       "      <td id=\"T_c4e86_row10_col1\" class=\"data row10 col1\" >0.8716</td>\n",
       "      <td id=\"T_c4e86_row10_col2\" class=\"data row10 col2\" >0.7498</td>\n",
       "      <td id=\"T_c4e86_row10_col3\" class=\"data row10 col3\" >0.7451</td>\n",
       "      <td id=\"T_c4e86_row10_col4\" class=\"data row10 col4\" >0.7475</td>\n",
       "      <td id=\"T_c4e86_row10_col5\" class=\"data row10 col5\" >0.4935</td>\n",
       "      <td id=\"T_c4e86_row10_col6\" class=\"data row10 col6\" >0.4936</td>\n",
       "    </tr>\n",
       "    <tr>\n",
       "      <th id=\"T_c4e86_level0_row11\" class=\"row_heading level0 row11\" >Std</th>\n",
       "      <td id=\"T_c4e86_row11_col0\" class=\"data row11 col0\" >0.0006</td>\n",
       "      <td id=\"T_c4e86_row11_col1\" class=\"data row11 col1\" >0.0006</td>\n",
       "      <td id=\"T_c4e86_row11_col2\" class=\"data row11 col2\" >0.0015</td>\n",
       "      <td id=\"T_c4e86_row11_col3\" class=\"data row11 col3\" >0.0009</td>\n",
       "      <td id=\"T_c4e86_row11_col4\" class=\"data row11 col4\" >0.0007</td>\n",
       "      <td id=\"T_c4e86_row11_col5\" class=\"data row11 col5\" >0.0012</td>\n",
       "      <td id=\"T_c4e86_row11_col6\" class=\"data row11 col6\" >0.0012</td>\n",
       "    </tr>\n",
       "  </tbody>\n",
       "</table>\n"
      ],
      "text/plain": [
       "<pandas.io.formats.style.Styler at 0x7f3e159a41c0>"
      ]
     },
     "metadata": {},
     "output_type": "display_data"
    },
    {
     "data": {
      "text/html": [],
      "text/plain": [
       "<IPython.core.display.HTML object>"
      ]
     },
     "metadata": {},
     "output_type": "display_data"
    }
   ],
   "source": [
    "rf = create_model('rf')"
   ]
  },
  {
   "cell_type": "code",
   "execution_count": 33,
   "metadata": {},
   "outputs": [
    {
     "data": {
      "text/html": [],
      "text/plain": [
       "<IPython.core.display.HTML object>"
      ]
     },
     "metadata": {},
     "output_type": "display_data"
    },
    {
     "data": {
      "image/png": "[encoded data removed]",
      "text/plain": [
       "<Figure size 800x550 with 1 Axes>"
      ]
     },
     "metadata": {},
     "output_type": "display_data"
    }
   ],
   "source": [
    "plot_model(rf, plot = 'confusion_matrix')"
   ]
  },
  {
   "cell_type": "code",
   "execution_count": 34,
   "metadata": {},
   "outputs": [
    {
     "data": {
      "text/html": [],
      "text/plain": [
       "<IPython.core.display.HTML object>"
      ]
     },
     "metadata": {},
     "output_type": "display_data"
    },
    {
     "data": {
      "image/png": "[encoded data removed]",
      "text/plain": [
       "<Figure size 800x550 with 1 Axes>"
      ]
     },
     "metadata": {},
     "output_type": "display_data"
    }
   ],
   "source": [
    "plot_model(rf, plot = 'error')"
   ]
  },
  {
   "cell_type": "code",
   "execution_count": 35,
   "metadata": {},
   "outputs": [
    {
     "data": {
      "text/html": [],
      "text/plain": [
       "<IPython.core.display.HTML object>"
      ]
     },
     "metadata": {},
     "output_type": "display_data"
    },
    {
     "data": {
      "text/html": [
       "<div>\n",
       "<style scoped>\n",
       "    .dataframe tbody tr th:only-of-type {\n",
       "        vertical-align: middle;\n",
       "    }\n",
       "\n",
       "    .dataframe tbody tr th {\n",
       "        vertical-align: top;\n",
       "    }\n",
       "\n",
       "    .dataframe thead th {\n",
       "        text-align: right;\n",
       "    }\n",
       "</style>\n",
       "<table border=\"1\" class=\"dataframe\">\n",
       "  <thead>\n",
       "    <tr style=\"text-align: right;\">\n",
       "      <th></th>\n",
       "      <th>Parameters</th>\n",
       "    </tr>\n",
       "  </thead>\n",
       "  <tbody>\n",
       "    <tr>\n",
       "      <th>bootstrap</th>\n",
       "      <td>True</td>\n",
       "    </tr>\n",
       "    <tr>\n",
       "      <th>ccp_alpha</th>\n",
       "      <td>0.0</td>\n",
       "    </tr>\n",
       "    <tr>\n",
       "      <th>class_weight</th>\n",
       "      <td>None</td>\n",
       "    </tr>\n",
       "    <tr>\n",
       "      <th>criterion</th>\n",
       "      <td>gini</td>\n",
       "    </tr>\n",
       "    <tr>\n",
       "      <th>max_depth</th>\n",
       "      <td>None</td>\n",
       "    </tr>\n",
       "    <tr>\n",
       "      <th>max_features</th>\n",
       "      <td>sqrt</td>\n",
       "    </tr>\n",
       "    <tr>\n",
       "      <th>max_leaf_nodes</th>\n",
       "      <td>None</td>\n",
       "    </tr>\n",
       "    <tr>\n",
       "      <th>max_samples</th>\n",
       "      <td>None</td>\n",
       "    </tr>\n",
       "    <tr>\n",
       "      <th>min_impurity_decrease</th>\n",
       "      <td>0.0</td>\n",
       "    </tr>\n",
       "    <tr>\n",
       "      <th>min_samples_leaf</th>\n",
       "      <td>1</td>\n",
       "    </tr>\n",
       "    <tr>\n",
       "      <th>min_samples_split</th>\n",
       "      <td>2</td>\n",
       "    </tr>\n",
       "    <tr>\n",
       "      <th>min_weight_fraction_leaf</th>\n",
       "      <td>0.0</td>\n",
       "    </tr>\n",
       "    <tr>\n",
       "      <th>n_estimators</th>\n",
       "      <td>100</td>\n",
       "    </tr>\n",
       "    <tr>\n",
       "      <th>n_jobs</th>\n",
       "      <td>-1</td>\n",
       "    </tr>\n",
       "    <tr>\n",
       "      <th>oob_score</th>\n",
       "      <td>False</td>\n",
       "    </tr>\n",
       "    <tr>\n",
       "      <th>random_state</th>\n",
       "      <td>4080</td>\n",
       "    </tr>\n",
       "    <tr>\n",
       "      <th>verbose</th>\n",
       "      <td>0</td>\n",
       "    </tr>\n",
       "    <tr>\n",
       "      <th>warm_start</th>\n",
       "      <td>False</td>\n",
       "    </tr>\n",
       "  </tbody>\n",
       "</table>\n",
       "</div>"
      ],
      "text/plain": [
       "                         Parameters\n",
       "bootstrap                      True\n",
       "ccp_alpha                       0.0\n",
       "class_weight                   None\n",
       "criterion                      gini\n",
       "max_depth                      None\n",
       "max_features                   sqrt\n",
       "max_leaf_nodes                 None\n",
       "max_samples                    None\n",
       "min_impurity_decrease           0.0\n",
       "min_samples_leaf                  1\n",
       "min_samples_split                 2\n",
       "min_weight_fraction_leaf        0.0\n",
       "n_estimators                    100\n",
       "n_jobs                           -1\n",
       "oob_score                     False\n",
       "random_state                   4080\n",
       "verbose                           0\n",
       "warm_start                    False"
      ]
     },
     "metadata": {},
     "output_type": "display_data"
    }
   ],
   "source": [
    "plot_model(rf, plot = 'parameter')"
   ]
  },
  {
   "cell_type": "code",
   "execution_count": 36,
   "metadata": {},
   "outputs": [
    {
     "name": "stdout",
     "output_type": "stream",
     "text": [
      "Transformation Pipeline and Model Successfully Saved\n"
     ]
    },
    {
     "data": {
      "text/plain": [
       "(Pipeline(memory=FastMemory(location=/tmp/joblib),\n",
       "          steps=[('numerical_imputer',\n",
       "                  TransformerWrapper(exclude=None,\n",
       "                                     include=['0', '1', '2', '3', '4', '5', '6',\n",
       "                                              '7', '8', '9', '10', '11', '12',\n",
       "                                              '13', '14', '15', '16', '17', '18',\n",
       "                                              '19', '20', '21', '22', '23', '24',\n",
       "                                              '25', '26', '27', '28', '29', ...],\n",
       "                                     transformer=SimpleImputer(add_indicator=False,\n",
       "                                                               copy=True,\n",
       "                                                               fill_value=None,\n",
       "                                                               keep_empty_feat...\n",
       "                  RandomForestClassifier(bootstrap=True, ccp_alpha=0.0,\n",
       "                                         class_weight=None, criterion='gini',\n",
       "                                         max_depth=None, max_features='sqrt',\n",
       "                                         max_leaf_nodes=None, max_samples=None,\n",
       "                                         min_impurity_decrease=0.0,\n",
       "                                         min_samples_leaf=1, min_samples_split=2,\n",
       "                                         min_weight_fraction_leaf=0.0,\n",
       "                                         n_estimators=100, n_jobs=-1,\n",
       "                                         oob_score=False, random_state=4080,\n",
       "                                         verbose=0, warm_start=False))],\n",
       "          verbose=False),\n",
       " 'models_classif/convkb/binary_emb_val/rf.pkl')"
      ]
     },
     "execution_count": 36,
     "metadata": {},
     "output_type": "execute_result"
    }
   ],
   "source": [
    "save_model(rf, 'models_classif/complex/binary_emb_val/rf')"
   ]
  },
  {
   "cell_type": "markdown",
   "metadata": {},
   "source": [
    "# Quadratic Discriminant Analysis"
   ]
  },
  {
   "cell_type": "code",
   "execution_count": 37,
   "metadata": {},
   "outputs": [
    {
     "data": {
      "text/html": [],
      "text/plain": [
       "<IPython.core.display.HTML object>"
      ]
     },
     "metadata": {},
     "output_type": "display_data"
    },
    {
     "data": {
      "text/html": [
       "<style type=\"text/css\">\n",
       "#T_d1de2_row10_col0, #T_d1de2_row10_col1, #T_d1de2_row10_col2, #T_d1de2_row10_col3, #T_d1de2_row10_col4, #T_d1de2_row10_col5, #T_d1de2_row10_col6 {\n",
       "  background: yellow;\n",
       "}\n",
       "</style>\n",
       "<table id=\"T_d1de2\">\n",
       "  <thead>\n",
       "    <tr>\n",
       "      <th class=\"blank level0\" >&nbsp;</th>\n",
       "      <th id=\"T_d1de2_level0_col0\" class=\"col_heading level0 col0\" >Accuracy</th>\n",
       "      <th id=\"T_d1de2_level0_col1\" class=\"col_heading level0 col1\" >AUC</th>\n",
       "      <th id=\"T_d1de2_level0_col2\" class=\"col_heading level0 col2\" >Recall</th>\n",
       "      <th id=\"T_d1de2_level0_col3\" class=\"col_heading level0 col3\" >Prec.</th>\n",
       "      <th id=\"T_d1de2_level0_col4\" class=\"col_heading level0 col4\" >F1</th>\n",
       "      <th id=\"T_d1de2_level0_col5\" class=\"col_heading level0 col5\" >Kappa</th>\n",
       "      <th id=\"T_d1de2_level0_col6\" class=\"col_heading level0 col6\" >MCC</th>\n",
       "    </tr>\n",
       "    <tr>\n",
       "      <th class=\"index_name level0\" >Fold</th>\n",
       "      <th class=\"blank col0\" >&nbsp;</th>\n",
       "      <th class=\"blank col1\" >&nbsp;</th>\n",
       "      <th class=\"blank col2\" >&nbsp;</th>\n",
       "      <th class=\"blank col3\" >&nbsp;</th>\n",
       "      <th class=\"blank col4\" >&nbsp;</th>\n",
       "      <th class=\"blank col5\" >&nbsp;</th>\n",
       "      <th class=\"blank col6\" >&nbsp;</th>\n",
       "    </tr>\n",
       "  </thead>\n",
       "  <tbody>\n",
       "    <tr>\n",
       "      <th id=\"T_d1de2_level0_row0\" class=\"row_heading level0 row0\" >0</th>\n",
       "      <td id=\"T_d1de2_row0_col0\" class=\"data row0 col0\" >0.5896</td>\n",
       "      <td id=\"T_d1de2_row0_col1\" class=\"data row0 col1\" >0.6821</td>\n",
       "      <td id=\"T_d1de2_row0_col2\" class=\"data row0 col2\" >0.8894</td>\n",
       "      <td id=\"T_d1de2_row0_col3\" class=\"data row0 col3\" >0.5559</td>\n",
       "      <td id=\"T_d1de2_row0_col4\" class=\"data row0 col4\" >0.6842</td>\n",
       "      <td id=\"T_d1de2_row0_col5\" class=\"data row0 col5\" >0.1795</td>\n",
       "      <td id=\"T_d1de2_row0_col6\" class=\"data row0 col6\" >0.2242</td>\n",
       "    </tr>\n",
       "    <tr>\n",
       "      <th id=\"T_d1de2_level0_row1\" class=\"row_heading level0 row1\" >1</th>\n",
       "      <td id=\"T_d1de2_row1_col0\" class=\"data row1 col0\" >0.5895</td>\n",
       "      <td id=\"T_d1de2_row1_col1\" class=\"data row1 col1\" >0.6827</td>\n",
       "      <td id=\"T_d1de2_row1_col2\" class=\"data row1 col2\" >0.8897</td>\n",
       "      <td id=\"T_d1de2_row1_col3\" class=\"data row1 col3\" >0.5558</td>\n",
       "      <td id=\"T_d1de2_row1_col4\" class=\"data row1 col4\" >0.6842</td>\n",
       "      <td id=\"T_d1de2_row1_col5\" class=\"data row1 col5\" >0.1791</td>\n",
       "      <td id=\"T_d1de2_row1_col6\" class=\"data row1 col6\" >0.2240</td>\n",
       "    </tr>\n",
       "    <tr>\n",
       "      <th id=\"T_d1de2_level0_row2\" class=\"row_heading level0 row2\" >2</th>\n",
       "      <td id=\"T_d1de2_row2_col0\" class=\"data row2 col0\" >0.5905</td>\n",
       "      <td id=\"T_d1de2_row2_col1\" class=\"data row2 col1\" >0.6837</td>\n",
       "      <td id=\"T_d1de2_row2_col2\" class=\"data row2 col2\" >0.8900</td>\n",
       "      <td id=\"T_d1de2_row2_col3\" class=\"data row2 col3\" >0.5564</td>\n",
       "      <td id=\"T_d1de2_row2_col4\" class=\"data row2 col4\" >0.6848</td>\n",
       "      <td id=\"T_d1de2_row2_col5\" class=\"data row2 col5\" >0.1811</td>\n",
       "      <td id=\"T_d1de2_row2_col6\" class=\"data row2 col6\" >0.2262</td>\n",
       "    </tr>\n",
       "    <tr>\n",
       "      <th id=\"T_d1de2_level0_row3\" class=\"row_heading level0 row3\" >3</th>\n",
       "      <td id=\"T_d1de2_row3_col0\" class=\"data row3 col0\" >0.5907</td>\n",
       "      <td id=\"T_d1de2_row3_col1\" class=\"data row3 col1\" >0.6833</td>\n",
       "      <td id=\"T_d1de2_row3_col2\" class=\"data row3 col2\" >0.8906</td>\n",
       "      <td id=\"T_d1de2_row3_col3\" class=\"data row3 col3\" >0.5566</td>\n",
       "      <td id=\"T_d1de2_row3_col4\" class=\"data row3 col4\" >0.6851</td>\n",
       "      <td id=\"T_d1de2_row3_col5\" class=\"data row3 col5\" >0.1816</td>\n",
       "      <td id=\"T_d1de2_row3_col6\" class=\"data row3 col6\" >0.2270</td>\n",
       "    </tr>\n",
       "    <tr>\n",
       "      <th id=\"T_d1de2_level0_row4\" class=\"row_heading level0 row4\" >4</th>\n",
       "      <td id=\"T_d1de2_row4_col0\" class=\"data row4 col0\" >0.5905</td>\n",
       "      <td id=\"T_d1de2_row4_col1\" class=\"data row4 col1\" >0.6840</td>\n",
       "      <td id=\"T_d1de2_row4_col2\" class=\"data row4 col2\" >0.8902</td>\n",
       "      <td id=\"T_d1de2_row4_col3\" class=\"data row4 col3\" >0.5565</td>\n",
       "      <td id=\"T_d1de2_row4_col4\" class=\"data row4 col4\" >0.6849</td>\n",
       "      <td id=\"T_d1de2_row4_col5\" class=\"data row4 col5\" >0.1813</td>\n",
       "      <td id=\"T_d1de2_row4_col6\" class=\"data row4 col6\" >0.2264</td>\n",
       "    </tr>\n",
       "    <tr>\n",
       "      <th id=\"T_d1de2_level0_row5\" class=\"row_heading level0 row5\" >5</th>\n",
       "      <td id=\"T_d1de2_row5_col0\" class=\"data row5 col0\" >0.5901</td>\n",
       "      <td id=\"T_d1de2_row5_col1\" class=\"data row5 col1\" >0.6843</td>\n",
       "      <td id=\"T_d1de2_row5_col2\" class=\"data row5 col2\" >0.8910</td>\n",
       "      <td id=\"T_d1de2_row5_col3\" class=\"data row5 col3\" >0.5561</td>\n",
       "      <td id=\"T_d1de2_row5_col4\" class=\"data row5 col4\" >0.6848</td>\n",
       "      <td id=\"T_d1de2_row5_col5\" class=\"data row5 col5\" >0.1803</td>\n",
       "      <td id=\"T_d1de2_row5_col6\" class=\"data row5 col6\" >0.2258</td>\n",
       "    </tr>\n",
       "    <tr>\n",
       "      <th id=\"T_d1de2_level0_row6\" class=\"row_heading level0 row6\" >6</th>\n",
       "      <td id=\"T_d1de2_row6_col0\" class=\"data row6 col0\" >0.5905</td>\n",
       "      <td id=\"T_d1de2_row6_col1\" class=\"data row6 col1\" >0.6831</td>\n",
       "      <td id=\"T_d1de2_row6_col2\" class=\"data row6 col2\" >0.8896</td>\n",
       "      <td id=\"T_d1de2_row6_col3\" class=\"data row6 col3\" >0.5565</td>\n",
       "      <td id=\"T_d1de2_row6_col4\" class=\"data row6 col4\" >0.6847</td>\n",
       "      <td id=\"T_d1de2_row6_col5\" class=\"data row6 col5\" >0.1813</td>\n",
       "      <td id=\"T_d1de2_row6_col6\" class=\"data row6 col6\" >0.2262</td>\n",
       "    </tr>\n",
       "    <tr>\n",
       "      <th id=\"T_d1de2_level0_row7\" class=\"row_heading level0 row7\" >7</th>\n",
       "      <td id=\"T_d1de2_row7_col0\" class=\"data row7 col0\" >0.5894</td>\n",
       "      <td id=\"T_d1de2_row7_col1\" class=\"data row7 col1\" >0.6819</td>\n",
       "      <td id=\"T_d1de2_row7_col2\" class=\"data row7 col2\" >0.8876</td>\n",
       "      <td id=\"T_d1de2_row7_col3\" class=\"data row7 col3\" >0.5559</td>\n",
       "      <td id=\"T_d1de2_row7_col4\" class=\"data row7 col4\" >0.6836</td>\n",
       "      <td id=\"T_d1de2_row7_col5\" class=\"data row7 col5\" >0.1791</td>\n",
       "      <td id=\"T_d1de2_row7_col6\" class=\"data row7 col6\" >0.2231</td>\n",
       "    </tr>\n",
       "    <tr>\n",
       "      <th id=\"T_d1de2_level0_row8\" class=\"row_heading level0 row8\" >8</th>\n",
       "      <td id=\"T_d1de2_row8_col0\" class=\"data row8 col0\" >0.5905</td>\n",
       "      <td id=\"T_d1de2_row8_col1\" class=\"data row8 col1\" >0.6838</td>\n",
       "      <td id=\"T_d1de2_row8_col2\" class=\"data row8 col2\" >0.8895</td>\n",
       "      <td id=\"T_d1de2_row8_col3\" class=\"data row8 col3\" >0.5565</td>\n",
       "      <td id=\"T_d1de2_row8_col4\" class=\"data row8 col4\" >0.6847</td>\n",
       "      <td id=\"T_d1de2_row8_col5\" class=\"data row8 col5\" >0.1813</td>\n",
       "      <td id=\"T_d1de2_row8_col6\" class=\"data row8 col6\" >0.2262</td>\n",
       "    </tr>\n",
       "    <tr>\n",
       "      <th id=\"T_d1de2_level0_row9\" class=\"row_heading level0 row9\" >9</th>\n",
       "      <td id=\"T_d1de2_row9_col0\" class=\"data row9 col0\" >0.5895</td>\n",
       "      <td id=\"T_d1de2_row9_col1\" class=\"data row9 col1\" >0.6829</td>\n",
       "      <td id=\"T_d1de2_row9_col2\" class=\"data row9 col2\" >0.8908</td>\n",
       "      <td id=\"T_d1de2_row9_col3\" class=\"data row9 col3\" >0.5557</td>\n",
       "      <td id=\"T_d1de2_row9_col4\" class=\"data row9 col4\" >0.6844</td>\n",
       "      <td id=\"T_d1de2_row9_col5\" class=\"data row9 col5\" >0.1791</td>\n",
       "      <td id=\"T_d1de2_row9_col6\" class=\"data row9 col6\" >0.2244</td>\n",
       "    </tr>\n",
       "    <tr>\n",
       "      <th id=\"T_d1de2_level0_row10\" class=\"row_heading level0 row10\" >Mean</th>\n",
       "      <td id=\"T_d1de2_row10_col0\" class=\"data row10 col0\" >0.5901</td>\n",
       "      <td id=\"T_d1de2_row10_col1\" class=\"data row10 col1\" >0.6832</td>\n",
       "      <td id=\"T_d1de2_row10_col2\" class=\"data row10 col2\" >0.8899</td>\n",
       "      <td id=\"T_d1de2_row10_col3\" class=\"data row10 col3\" >0.5562</td>\n",
       "      <td id=\"T_d1de2_row10_col4\" class=\"data row10 col4\" >0.6845</td>\n",
       "      <td id=\"T_d1de2_row10_col5\" class=\"data row10 col5\" >0.1804</td>\n",
       "      <td id=\"T_d1de2_row10_col6\" class=\"data row10 col6\" >0.2254</td>\n",
       "    </tr>\n",
       "    <tr>\n",
       "      <th id=\"T_d1de2_level0_row11\" class=\"row_heading level0 row11\" >Std</th>\n",
       "      <td id=\"T_d1de2_row11_col0\" class=\"data row11 col0\" >0.0005</td>\n",
       "      <td id=\"T_d1de2_row11_col1\" class=\"data row11 col1\" >0.0008</td>\n",
       "      <td id=\"T_d1de2_row11_col2\" class=\"data row11 col2\" >0.0009</td>\n",
       "      <td id=\"T_d1de2_row11_col3\" class=\"data row11 col3\" >0.0003</td>\n",
       "      <td id=\"T_d1de2_row11_col4\" class=\"data row11 col4\" >0.0004</td>\n",
       "      <td id=\"T_d1de2_row11_col5\" class=\"data row11 col5\" >0.0010</td>\n",
       "      <td id=\"T_d1de2_row11_col6\" class=\"data row11 col6\" >0.0012</td>\n",
       "    </tr>\n",
       "  </tbody>\n",
       "</table>\n"
      ],
      "text/plain": [
       "<pandas.io.formats.style.Styler at 0x7f3e1769c280>"
      ]
     },
     "metadata": {},
     "output_type": "display_data"
    },
    {
     "data": {
      "text/html": [],
      "text/plain": [
       "<IPython.core.display.HTML object>"
      ]
     },
     "metadata": {},
     "output_type": "display_data"
    }
   ],
   "source": [
    "qda = create_model('qda')"
   ]
  },
  {
   "cell_type": "code",
   "execution_count": 38,
   "metadata": {},
   "outputs": [
    {
     "data": {
      "text/html": [],
      "text/plain": [
       "<IPython.core.display.HTML object>"
      ]
     },
     "metadata": {},
     "output_type": "display_data"
    },
    {
     "data": {
      "image/png": "[encoded data removed]",
      "text/plain": [
       "<Figure size 800x550 with 1 Axes>"
      ]
     },
     "metadata": {},
     "output_type": "display_data"
    }
   ],
   "source": [
    "plot_model(qda, plot = 'confusion_matrix')"
   ]
  },
  {
   "cell_type": "code",
   "execution_count": 39,
   "metadata": {},
   "outputs": [
    {
     "data": {
      "text/html": [],
      "text/plain": [
       "<IPython.core.display.HTML object>"
      ]
     },
     "metadata": {},
     "output_type": "display_data"
    },
    {
     "data": {
      "image/png": "[encoded data removed]",
      "text/plain": [
       "<Figure size 800x550 with 1 Axes>"
      ]
     },
     "metadata": {},
     "output_type": "display_data"
    }
   ],
   "source": [
    "plot_model(qda, plot = 'error')"
   ]
  },
  {
   "cell_type": "code",
   "execution_count": 40,
   "metadata": {},
   "outputs": [
    {
     "data": {
      "text/html": [],
      "text/plain": [
       "<IPython.core.display.HTML object>"
      ]
     },
     "metadata": {},
     "output_type": "display_data"
    },
    {
     "data": {
      "text/html": [
       "<div>\n",
       "<style scoped>\n",
       "    .dataframe tbody tr th:only-of-type {\n",
       "        vertical-align: middle;\n",
       "    }\n",
       "\n",
       "    .dataframe tbody tr th {\n",
       "        vertical-align: top;\n",
       "    }\n",
       "\n",
       "    .dataframe thead th {\n",
       "        text-align: right;\n",
       "    }\n",
       "</style>\n",
       "<table border=\"1\" class=\"dataframe\">\n",
       "  <thead>\n",
       "    <tr style=\"text-align: right;\">\n",
       "      <th></th>\n",
       "      <th>Parameters</th>\n",
       "    </tr>\n",
       "  </thead>\n",
       "  <tbody>\n",
       "    <tr>\n",
       "      <th>priors</th>\n",
       "      <td>None</td>\n",
       "    </tr>\n",
       "    <tr>\n",
       "      <th>reg_param</th>\n",
       "      <td>0.0</td>\n",
       "    </tr>\n",
       "    <tr>\n",
       "      <th>store_covariance</th>\n",
       "      <td>False</td>\n",
       "    </tr>\n",
       "    <tr>\n",
       "      <th>tol</th>\n",
       "      <td>0.0001</td>\n",
       "    </tr>\n",
       "  </tbody>\n",
       "</table>\n",
       "</div>"
      ],
      "text/plain": [
       "                 Parameters\n",
       "priors                 None\n",
       "reg_param               0.0\n",
       "store_covariance      False\n",
       "tol                  0.0001"
      ]
     },
     "metadata": {},
     "output_type": "display_data"
    }
   ],
   "source": [
    "plot_model(qda, plot = 'parameter')"
   ]
  },
  {
   "cell_type": "code",
   "execution_count": 41,
   "metadata": {},
   "outputs": [
    {
     "name": "stdout",
     "output_type": "stream",
     "text": [
      "Transformation Pipeline and Model Successfully Saved\n"
     ]
    },
    {
     "data": {
      "text/plain": [
       "(Pipeline(memory=FastMemory(location=/tmp/joblib),\n",
       "          steps=[('numerical_imputer',\n",
       "                  TransformerWrapper(exclude=None,\n",
       "                                     include=['0', '1', '2', '3', '4', '5', '6',\n",
       "                                              '7', '8', '9', '10', '11', '12',\n",
       "                                              '13', '14', '15', '16', '17', '18',\n",
       "                                              '19', '20', '21', '22', '23', '24',\n",
       "                                              '25', '26', '27', '28', '29', ...],\n",
       "                                     transformer=SimpleImputer(add_indicator=False,\n",
       "                                                               copy=True,\n",
       "                                                               fill_value=None,\n",
       "                                                               keep_empty_feat...\n",
       "                 ('categorical_imputer',\n",
       "                  TransformerWrapper(exclude=None, include=[],\n",
       "                                     transformer=SimpleImputer(add_indicator=False,\n",
       "                                                               copy=True,\n",
       "                                                               fill_value=None,\n",
       "                                                               keep_empty_features=False,\n",
       "                                                               missing_values=nan,\n",
       "                                                               strategy='most_frequent',\n",
       "                                                               verbose='deprecated'))),\n",
       "                 ('trained_model',\n",
       "                  QuadraticDiscriminantAnalysis(priors=None, reg_param=0.0,\n",
       "                                                store_covariance=False,\n",
       "                                                tol=0.0001))],\n",
       "          verbose=False),\n",
       " 'models_classif/convkb/binary_emb_val/qda.pkl')"
      ]
     },
     "execution_count": 41,
     "metadata": {},
     "output_type": "execute_result"
    }
   ],
   "source": [
    "save_model(qda, 'models_classif/complex/binary_emb_val/qda')"
   ]
  },
  {
   "cell_type": "markdown",
   "metadata": {},
   "source": [
    "# Linear Discriminant Analysis"
   ]
  },
  {
   "cell_type": "code",
   "execution_count": 42,
   "metadata": {},
   "outputs": [
    {
     "data": {
      "text/html": [],
      "text/plain": [
       "<IPython.core.display.HTML object>"
      ]
     },
     "metadata": {},
     "output_type": "display_data"
    },
    {
     "data": {
      "text/html": [
       "<style type=\"text/css\">\n",
       "#T_93a84_row10_col0, #T_93a84_row10_col1, #T_93a84_row10_col2, #T_93a84_row10_col3, #T_93a84_row10_col4, #T_93a84_row10_col5, #T_93a84_row10_col6 {\n",
       "  background: yellow;\n",
       "}\n",
       "</style>\n",
       "<table id=\"T_93a84\">\n",
       "  <thead>\n",
       "    <tr>\n",
       "      <th class=\"blank level0\" >&nbsp;</th>\n",
       "      <th id=\"T_93a84_level0_col0\" class=\"col_heading level0 col0\" >Accuracy</th>\n",
       "      <th id=\"T_93a84_level0_col1\" class=\"col_heading level0 col1\" >AUC</th>\n",
       "      <th id=\"T_93a84_level0_col2\" class=\"col_heading level0 col2\" >Recall</th>\n",
       "      <th id=\"T_93a84_level0_col3\" class=\"col_heading level0 col3\" >Prec.</th>\n",
       "      <th id=\"T_93a84_level0_col4\" class=\"col_heading level0 col4\" >F1</th>\n",
       "      <th id=\"T_93a84_level0_col5\" class=\"col_heading level0 col5\" >Kappa</th>\n",
       "      <th id=\"T_93a84_level0_col6\" class=\"col_heading level0 col6\" >MCC</th>\n",
       "    </tr>\n",
       "    <tr>\n",
       "      <th class=\"index_name level0\" >Fold</th>\n",
       "      <th class=\"blank col0\" >&nbsp;</th>\n",
       "      <th class=\"blank col1\" >&nbsp;</th>\n",
       "      <th class=\"blank col2\" >&nbsp;</th>\n",
       "      <th class=\"blank col3\" >&nbsp;</th>\n",
       "      <th class=\"blank col4\" >&nbsp;</th>\n",
       "      <th class=\"blank col5\" >&nbsp;</th>\n",
       "      <th class=\"blank col6\" >&nbsp;</th>\n",
       "    </tr>\n",
       "  </thead>\n",
       "  <tbody>\n",
       "    <tr>\n",
       "      <th id=\"T_93a84_level0_row0\" class=\"row_heading level0 row0\" >0</th>\n",
       "      <td id=\"T_93a84_row0_col0\" class=\"data row0 col0\" >0.6662</td>\n",
       "      <td id=\"T_93a84_row0_col1\" class=\"data row0 col1\" >0.6816</td>\n",
       "      <td id=\"T_93a84_row0_col2\" class=\"data row0 col2\" >0.8124</td>\n",
       "      <td id=\"T_93a84_row0_col3\" class=\"data row0 col3\" >0.6284</td>\n",
       "      <td id=\"T_93a84_row0_col4\" class=\"data row0 col4\" >0.7087</td>\n",
       "      <td id=\"T_93a84_row0_col5\" class=\"data row0 col5\" >0.3324</td>\n",
       "      <td id=\"T_93a84_row0_col6\" class=\"data row0 col6\" >0.3476</td>\n",
       "    </tr>\n",
       "    <tr>\n",
       "      <th id=\"T_93a84_level0_row1\" class=\"row_heading level0 row1\" >1</th>\n",
       "      <td id=\"T_93a84_row1_col0\" class=\"data row1 col0\" >0.6658</td>\n",
       "      <td id=\"T_93a84_row1_col1\" class=\"data row1 col1\" >0.6806</td>\n",
       "      <td id=\"T_93a84_row1_col2\" class=\"data row1 col2\" >0.8114</td>\n",
       "      <td id=\"T_93a84_row1_col3\" class=\"data row1 col3\" >0.6283</td>\n",
       "      <td id=\"T_93a84_row1_col4\" class=\"data row1 col4\" >0.7082</td>\n",
       "      <td id=\"T_93a84_row1_col5\" class=\"data row1 col5\" >0.3316</td>\n",
       "      <td id=\"T_93a84_row1_col6\" class=\"data row1 col6\" >0.3467</td>\n",
       "    </tr>\n",
       "    <tr>\n",
       "      <th id=\"T_93a84_level0_row2\" class=\"row_heading level0 row2\" >2</th>\n",
       "      <td id=\"T_93a84_row2_col0\" class=\"data row2 col0\" >0.6679</td>\n",
       "      <td id=\"T_93a84_row2_col1\" class=\"data row2 col1\" >0.6823</td>\n",
       "      <td id=\"T_93a84_row2_col2\" class=\"data row2 col2\" >0.8124</td>\n",
       "      <td id=\"T_93a84_row2_col3\" class=\"data row2 col3\" >0.6301</td>\n",
       "      <td id=\"T_93a84_row2_col4\" class=\"data row2 col4\" >0.7097</td>\n",
       "      <td id=\"T_93a84_row2_col5\" class=\"data row2 col5\" >0.3359</td>\n",
       "      <td id=\"T_93a84_row2_col6\" class=\"data row2 col6\" >0.3508</td>\n",
       "    </tr>\n",
       "    <tr>\n",
       "      <th id=\"T_93a84_level0_row3\" class=\"row_heading level0 row3\" >3</th>\n",
       "      <td id=\"T_93a84_row3_col0\" class=\"data row3 col0\" >0.6673</td>\n",
       "      <td id=\"T_93a84_row3_col1\" class=\"data row3 col1\" >0.6815</td>\n",
       "      <td id=\"T_93a84_row3_col2\" class=\"data row3 col2\" >0.8143</td>\n",
       "      <td id=\"T_93a84_row3_col3\" class=\"data row3 col3\" >0.6291</td>\n",
       "      <td id=\"T_93a84_row3_col4\" class=\"data row3 col4\" >0.7098</td>\n",
       "      <td id=\"T_93a84_row3_col5\" class=\"data row3 col5\" >0.3346</td>\n",
       "      <td id=\"T_93a84_row3_col6\" class=\"data row3 col6\" >0.3501</td>\n",
       "    </tr>\n",
       "    <tr>\n",
       "      <th id=\"T_93a84_level0_row4\" class=\"row_heading level0 row4\" >4</th>\n",
       "      <td id=\"T_93a84_row4_col0\" class=\"data row4 col0\" >0.6680</td>\n",
       "      <td id=\"T_93a84_row4_col1\" class=\"data row4 col1\" >0.6819</td>\n",
       "      <td id=\"T_93a84_row4_col2\" class=\"data row4 col2\" >0.8133</td>\n",
       "      <td id=\"T_93a84_row4_col3\" class=\"data row4 col3\" >0.6301</td>\n",
       "      <td id=\"T_93a84_row4_col4\" class=\"data row4 col4\" >0.7101</td>\n",
       "      <td id=\"T_93a84_row4_col5\" class=\"data row4 col5\" >0.3362</td>\n",
       "      <td id=\"T_93a84_row4_col6\" class=\"data row4 col6\" >0.3513</td>\n",
       "    </tr>\n",
       "    <tr>\n",
       "      <th id=\"T_93a84_level0_row5\" class=\"row_heading level0 row5\" >5</th>\n",
       "      <td id=\"T_93a84_row5_col0\" class=\"data row5 col0\" >0.6671</td>\n",
       "      <td id=\"T_93a84_row5_col1\" class=\"data row5 col1\" >0.6817</td>\n",
       "      <td id=\"T_93a84_row5_col2\" class=\"data row5 col2\" >0.8126</td>\n",
       "      <td id=\"T_93a84_row5_col3\" class=\"data row5 col3\" >0.6293</td>\n",
       "      <td id=\"T_93a84_row5_col4\" class=\"data row5 col4\" >0.7093</td>\n",
       "      <td id=\"T_93a84_row5_col5\" class=\"data row5 col5\" >0.3343</td>\n",
       "      <td id=\"T_93a84_row5_col6\" class=\"data row5 col6\" >0.3494</td>\n",
       "    </tr>\n",
       "    <tr>\n",
       "      <th id=\"T_93a84_level0_row6\" class=\"row_heading level0 row6\" >6</th>\n",
       "      <td id=\"T_93a84_row6_col0\" class=\"data row6 col0\" >0.6667</td>\n",
       "      <td id=\"T_93a84_row6_col1\" class=\"data row6 col1\" >0.6819</td>\n",
       "      <td id=\"T_93a84_row6_col2\" class=\"data row6 col2\" >0.8116</td>\n",
       "      <td id=\"T_93a84_row6_col3\" class=\"data row6 col3\" >0.6291</td>\n",
       "      <td id=\"T_93a84_row6_col4\" class=\"data row6 col4\" >0.7088</td>\n",
       "      <td id=\"T_93a84_row6_col5\" class=\"data row6 col5\" >0.3335</td>\n",
       "      <td id=\"T_93a84_row6_col6\" class=\"data row6 col6\" >0.3485</td>\n",
       "    </tr>\n",
       "    <tr>\n",
       "      <th id=\"T_93a84_level0_row7\" class=\"row_heading level0 row7\" >7</th>\n",
       "      <td id=\"T_93a84_row7_col0\" class=\"data row7 col0\" >0.6650</td>\n",
       "      <td id=\"T_93a84_row7_col1\" class=\"data row7 col1\" >0.6803</td>\n",
       "      <td id=\"T_93a84_row7_col2\" class=\"data row7 col2\" >0.8100</td>\n",
       "      <td id=\"T_93a84_row7_col3\" class=\"data row7 col3\" >0.6278</td>\n",
       "      <td id=\"T_93a84_row7_col4\" class=\"data row7 col4\" >0.7074</td>\n",
       "      <td id=\"T_93a84_row7_col5\" class=\"data row7 col5\" >0.3302</td>\n",
       "      <td id=\"T_93a84_row7_col6\" class=\"data row7 col6\" >0.3450</td>\n",
       "    </tr>\n",
       "    <tr>\n",
       "      <th id=\"T_93a84_level0_row8\" class=\"row_heading level0 row8\" >8</th>\n",
       "      <td id=\"T_93a84_row8_col0\" class=\"data row8 col0\" >0.6666</td>\n",
       "      <td id=\"T_93a84_row8_col1\" class=\"data row8 col1\" >0.6811</td>\n",
       "      <td id=\"T_93a84_row8_col2\" class=\"data row8 col2\" >0.8106</td>\n",
       "      <td id=\"T_93a84_row8_col3\" class=\"data row8 col3\" >0.6292</td>\n",
       "      <td id=\"T_93a84_row8_col4\" class=\"data row8 col4\" >0.7085</td>\n",
       "      <td id=\"T_93a84_row8_col5\" class=\"data row8 col5\" >0.3333</td>\n",
       "      <td id=\"T_93a84_row8_col6\" class=\"data row8 col6\" >0.3481</td>\n",
       "    </tr>\n",
       "    <tr>\n",
       "      <th id=\"T_93a84_level0_row9\" class=\"row_heading level0 row9\" >9</th>\n",
       "      <td id=\"T_93a84_row9_col0\" class=\"data row9 col0\" >0.6662</td>\n",
       "      <td id=\"T_93a84_row9_col1\" class=\"data row9 col1\" >0.6809</td>\n",
       "      <td id=\"T_93a84_row9_col2\" class=\"data row9 col2\" >0.8128</td>\n",
       "      <td id=\"T_93a84_row9_col3\" class=\"data row9 col3\" >0.6284</td>\n",
       "      <td id=\"T_93a84_row9_col4\" class=\"data row9 col4\" >0.7088</td>\n",
       "      <td id=\"T_93a84_row9_col5\" class=\"data row9 col5\" >0.3325</td>\n",
       "      <td id=\"T_93a84_row9_col6\" class=\"data row9 col6\" >0.3478</td>\n",
       "    </tr>\n",
       "    <tr>\n",
       "      <th id=\"T_93a84_level0_row10\" class=\"row_heading level0 row10\" >Mean</th>\n",
       "      <td id=\"T_93a84_row10_col0\" class=\"data row10 col0\" >0.6667</td>\n",
       "      <td id=\"T_93a84_row10_col1\" class=\"data row10 col1\" >0.6814</td>\n",
       "      <td id=\"T_93a84_row10_col2\" class=\"data row10 col2\" >0.8121</td>\n",
       "      <td id=\"T_93a84_row10_col3\" class=\"data row10 col3\" >0.6290</td>\n",
       "      <td id=\"T_93a84_row10_col4\" class=\"data row10 col4\" >0.7089</td>\n",
       "      <td id=\"T_93a84_row10_col5\" class=\"data row10 col5\" >0.3335</td>\n",
       "      <td id=\"T_93a84_row10_col6\" class=\"data row10 col6\" >0.3485</td>\n",
       "    </tr>\n",
       "    <tr>\n",
       "      <th id=\"T_93a84_level0_row11\" class=\"row_heading level0 row11\" >Std</th>\n",
       "      <td id=\"T_93a84_row11_col0\" class=\"data row11 col0\" >0.0009</td>\n",
       "      <td id=\"T_93a84_row11_col1\" class=\"data row11 col1\" >0.0006</td>\n",
       "      <td id=\"T_93a84_row11_col2\" class=\"data row11 col2\" >0.0012</td>\n",
       "      <td id=\"T_93a84_row11_col3\" class=\"data row11 col3\" >0.0007</td>\n",
       "      <td id=\"T_93a84_row11_col4\" class=\"data row11 col4\" >0.0008</td>\n",
       "      <td id=\"T_93a84_row11_col5\" class=\"data row11 col5\" >0.0018</td>\n",
       "      <td id=\"T_93a84_row11_col6\" class=\"data row11 col6\" >0.0018</td>\n",
       "    </tr>\n",
       "  </tbody>\n",
       "</table>\n"
      ],
      "text/plain": [
       "<pandas.io.formats.style.Styler at 0x7f3e8c213730>"
      ]
     },
     "metadata": {},
     "output_type": "display_data"
    },
    {
     "data": {
      "text/html": [],
      "text/plain": [
       "<IPython.core.display.HTML object>"
      ]
     },
     "metadata": {},
     "output_type": "display_data"
    }
   ],
   "source": [
    "lda = create_model('lda')"
   ]
  },
  {
   "cell_type": "code",
   "execution_count": 43,
   "metadata": {},
   "outputs": [
    {
     "data": {
      "text/html": [],
      "text/plain": [
       "<IPython.core.display.HTML object>"
      ]
     },
     "metadata": {},
     "output_type": "display_data"
    },
    {
     "data": {
      "image/png": "[encoded data removed]",
      "text/plain": [
       "<Figure size 800x550 with 1 Axes>"
      ]
     },
     "metadata": {},
     "output_type": "display_data"
    }
   ],
   "source": [
    "plot_model(lda, plot = 'confusion_matrix')"
   ]
  },
  {
   "cell_type": "code",
   "execution_count": 45,
   "metadata": {},
   "outputs": [
    {
     "data": {
      "text/html": [],
      "text/plain": [
       "<IPython.core.display.HTML object>"
      ]
     },
     "metadata": {},
     "output_type": "display_data"
    },
    {
     "data": {
      "image/png": "[encoded data removed]",
      "text/plain": [
       "<Figure size 800x550 with 1 Axes>"
      ]
     },
     "metadata": {},
     "output_type": "display_data"
    }
   ],
   "source": [
    "plot_model(lda, plot = 'error')"
   ]
  },
  {
   "cell_type": "code",
   "execution_count": 46,
   "metadata": {},
   "outputs": [
    {
     "data": {
      "text/html": [],
      "text/plain": [
       "<IPython.core.display.HTML object>"
      ]
     },
     "metadata": {},
     "output_type": "display_data"
    },
    {
     "data": {
      "text/html": [
       "<div>\n",
       "<style scoped>\n",
       "    .dataframe tbody tr th:only-of-type {\n",
       "        vertical-align: middle;\n",
       "    }\n",
       "\n",
       "    .dataframe tbody tr th {\n",
       "        vertical-align: top;\n",
       "    }\n",
       "\n",
       "    .dataframe thead th {\n",
       "        text-align: right;\n",
       "    }\n",
       "</style>\n",
       "<table border=\"1\" class=\"dataframe\">\n",
       "  <thead>\n",
       "    <tr style=\"text-align: right;\">\n",
       "      <th></th>\n",
       "      <th>Parameters</th>\n",
       "    </tr>\n",
       "  </thead>\n",
       "  <tbody>\n",
       "    <tr>\n",
       "      <th>covariance_estimator</th>\n",
       "      <td>None</td>\n",
       "    </tr>\n",
       "    <tr>\n",
       "      <th>n_components</th>\n",
       "      <td>None</td>\n",
       "    </tr>\n",
       "    <tr>\n",
       "      <th>priors</th>\n",
       "      <td>None</td>\n",
       "    </tr>\n",
       "    <tr>\n",
       "      <th>shrinkage</th>\n",
       "      <td>None</td>\n",
       "    </tr>\n",
       "    <tr>\n",
       "      <th>solver</th>\n",
       "      <td>svd</td>\n",
       "    </tr>\n",
       "    <tr>\n",
       "      <th>store_covariance</th>\n",
       "      <td>False</td>\n",
       "    </tr>\n",
       "    <tr>\n",
       "      <th>tol</th>\n",
       "      <td>0.0001</td>\n",
       "    </tr>\n",
       "  </tbody>\n",
       "</table>\n",
       "</div>"
      ],
      "text/plain": [
       "                     Parameters\n",
       "covariance_estimator       None\n",
       "n_components               None\n",
       "priors                     None\n",
       "shrinkage                  None\n",
       "solver                      svd\n",
       "store_covariance          False\n",
       "tol                      0.0001"
      ]
     },
     "metadata": {},
     "output_type": "display_data"
    }
   ],
   "source": [
    "plot_model(lda, plot = 'parameter')"
   ]
  },
  {
   "cell_type": "code",
   "execution_count": 47,
   "metadata": {},
   "outputs": [
    {
     "name": "stdout",
     "output_type": "stream",
     "text": [
      "Transformation Pipeline and Model Successfully Saved\n"
     ]
    },
    {
     "data": {
      "text/plain": [
       "(Pipeline(memory=FastMemory(location=/tmp/joblib),\n",
       "          steps=[('numerical_imputer',\n",
       "                  TransformerWrapper(exclude=None,\n",
       "                                     include=['0', '1', '2', '3', '4', '5', '6',\n",
       "                                              '7', '8', '9', '10', '11', '12',\n",
       "                                              '13', '14', '15', '16', '17', '18',\n",
       "                                              '19', '20', '21', '22', '23', '24',\n",
       "                                              '25', '26', '27', '28', '29', ...],\n",
       "                                     transformer=SimpleImputer(add_indicator=False,\n",
       "                                                               copy=True,\n",
       "                                                               fill_value=None,\n",
       "                                                               keep_empty_feat...\n",
       "                  TransformerWrapper(exclude=None, include=[],\n",
       "                                     transformer=SimpleImputer(add_indicator=False,\n",
       "                                                               copy=True,\n",
       "                                                               fill_value=None,\n",
       "                                                               keep_empty_features=False,\n",
       "                                                               missing_values=nan,\n",
       "                                                               strategy='most_frequent',\n",
       "                                                               verbose='deprecated'))),\n",
       "                 ('trained_model',\n",
       "                  LinearDiscriminantAnalysis(covariance_estimator=None,\n",
       "                                             n_components=None, priors=None,\n",
       "                                             shrinkage=None, solver='svd',\n",
       "                                             store_covariance=False,\n",
       "                                             tol=0.0001))],\n",
       "          verbose=False),\n",
       " 'models_classif/convkb/binary_emb_val/lda.pkl')"
      ]
     },
     "execution_count": 47,
     "metadata": {},
     "output_type": "execute_result"
    }
   ],
   "source": [
    "save_model(lda, 'models_classif/complex/binary_emb_val/lda')"
   ]
  },
  {
   "cell_type": "markdown",
   "metadata": {},
   "source": [
    "# Extra Trees"
   ]
  },
  {
   "cell_type": "code",
   "execution_count": 48,
   "metadata": {},
   "outputs": [
    {
     "data": {
      "text/html": [],
      "text/plain": [
       "<IPython.core.display.HTML object>"
      ]
     },
     "metadata": {},
     "output_type": "display_data"
    },
    {
     "data": {
      "text/html": [
       "<style type=\"text/css\">\n",
       "#T_5ae2f_row10_col0, #T_5ae2f_row10_col1, #T_5ae2f_row10_col2, #T_5ae2f_row10_col3, #T_5ae2f_row10_col4, #T_5ae2f_row10_col5, #T_5ae2f_row10_col6 {\n",
       "  background: yellow;\n",
       "}\n",
       "</style>\n",
       "<table id=\"T_5ae2f\">\n",
       "  <thead>\n",
       "    <tr>\n",
       "      <th class=\"blank level0\" >&nbsp;</th>\n",
       "      <th id=\"T_5ae2f_level0_col0\" class=\"col_heading level0 col0\" >Accuracy</th>\n",
       "      <th id=\"T_5ae2f_level0_col1\" class=\"col_heading level0 col1\" >AUC</th>\n",
       "      <th id=\"T_5ae2f_level0_col2\" class=\"col_heading level0 col2\" >Recall</th>\n",
       "      <th id=\"T_5ae2f_level0_col3\" class=\"col_heading level0 col3\" >Prec.</th>\n",
       "      <th id=\"T_5ae2f_level0_col4\" class=\"col_heading level0 col4\" >F1</th>\n",
       "      <th id=\"T_5ae2f_level0_col5\" class=\"col_heading level0 col5\" >Kappa</th>\n",
       "      <th id=\"T_5ae2f_level0_col6\" class=\"col_heading level0 col6\" >MCC</th>\n",
       "    </tr>\n",
       "    <tr>\n",
       "      <th class=\"index_name level0\" >Fold</th>\n",
       "      <th class=\"blank col0\" >&nbsp;</th>\n",
       "      <th class=\"blank col1\" >&nbsp;</th>\n",
       "      <th class=\"blank col2\" >&nbsp;</th>\n",
       "      <th class=\"blank col3\" >&nbsp;</th>\n",
       "      <th class=\"blank col4\" >&nbsp;</th>\n",
       "      <th class=\"blank col5\" >&nbsp;</th>\n",
       "      <th class=\"blank col6\" >&nbsp;</th>\n",
       "    </tr>\n",
       "  </thead>\n",
       "  <tbody>\n",
       "    <tr>\n",
       "      <th id=\"T_5ae2f_level0_row0\" class=\"row_heading level0 row0\" >0</th>\n",
       "      <td id=\"T_5ae2f_row0_col0\" class=\"data row0 col0\" >0.7469</td>\n",
       "      <td id=\"T_5ae2f_row0_col1\" class=\"data row0 col1\" >0.8719</td>\n",
       "      <td id=\"T_5ae2f_row0_col2\" class=\"data row0 col2\" >0.5063</td>\n",
       "      <td id=\"T_5ae2f_row0_col3\" class=\"data row0 col3\" >0.9755</td>\n",
       "      <td id=\"T_5ae2f_row0_col4\" class=\"data row0 col4\" >0.6666</td>\n",
       "      <td id=\"T_5ae2f_row0_col5\" class=\"data row0 col5\" >0.4937</td>\n",
       "      <td id=\"T_5ae2f_row0_col6\" class=\"data row0 col6\" >0.5631</td>\n",
       "    </tr>\n",
       "    <tr>\n",
       "      <th id=\"T_5ae2f_level0_row1\" class=\"row_heading level0 row1\" >1</th>\n",
       "      <td id=\"T_5ae2f_row1_col0\" class=\"data row1 col0\" >0.7461</td>\n",
       "      <td id=\"T_5ae2f_row1_col1\" class=\"data row1 col1\" >0.8710</td>\n",
       "      <td id=\"T_5ae2f_row1_col2\" class=\"data row1 col2\" >0.5051</td>\n",
       "      <td id=\"T_5ae2f_row1_col3\" class=\"data row1 col3\" >0.9746</td>\n",
       "      <td id=\"T_5ae2f_row1_col4\" class=\"data row1 col4\" >0.6653</td>\n",
       "      <td id=\"T_5ae2f_row1_col5\" class=\"data row1 col5\" >0.4920</td>\n",
       "      <td id=\"T_5ae2f_row1_col6\" class=\"data row1 col6\" >0.5614</td>\n",
       "    </tr>\n",
       "    <tr>\n",
       "      <th id=\"T_5ae2f_level0_row2\" class=\"row_heading level0 row2\" >2</th>\n",
       "      <td id=\"T_5ae2f_row2_col0\" class=\"data row2 col0\" >0.7462</td>\n",
       "      <td id=\"T_5ae2f_row2_col1\" class=\"data row2 col1\" >0.8711</td>\n",
       "      <td id=\"T_5ae2f_row2_col2\" class=\"data row2 col2\" >0.5070</td>\n",
       "      <td id=\"T_5ae2f_row2_col3\" class=\"data row2 col3\" >0.9715</td>\n",
       "      <td id=\"T_5ae2f_row2_col4\" class=\"data row2 col4\" >0.6663</td>\n",
       "      <td id=\"T_5ae2f_row2_col5\" class=\"data row2 col5\" >0.4923</td>\n",
       "      <td id=\"T_5ae2f_row2_col6\" class=\"data row2 col6\" >0.5605</td>\n",
       "    </tr>\n",
       "    <tr>\n",
       "      <th id=\"T_5ae2f_level0_row3\" class=\"row_heading level0 row3\" >3</th>\n",
       "      <td id=\"T_5ae2f_row3_col0\" class=\"data row3 col0\" >0.7475</td>\n",
       "      <td id=\"T_5ae2f_row3_col1\" class=\"data row3 col1\" >0.8723</td>\n",
       "      <td id=\"T_5ae2f_row3_col2\" class=\"data row3 col2\" >0.5097</td>\n",
       "      <td id=\"T_5ae2f_row3_col3\" class=\"data row3 col3\" >0.9715</td>\n",
       "      <td id=\"T_5ae2f_row3_col4\" class=\"data row3 col4\" >0.6686</td>\n",
       "      <td id=\"T_5ae2f_row3_col5\" class=\"data row3 col5\" >0.4948</td>\n",
       "      <td id=\"T_5ae2f_row3_col6\" class=\"data row3 col6\" >0.5624</td>\n",
       "    </tr>\n",
       "    <tr>\n",
       "      <th id=\"T_5ae2f_level0_row4\" class=\"row_heading level0 row4\" >4</th>\n",
       "      <td id=\"T_5ae2f_row4_col0\" class=\"data row4 col0\" >0.7464</td>\n",
       "      <td id=\"T_5ae2f_row4_col1\" class=\"data row4 col1\" >0.8713</td>\n",
       "      <td id=\"T_5ae2f_row4_col2\" class=\"data row4 col2\" >0.5093</td>\n",
       "      <td id=\"T_5ae2f_row4_col3\" class=\"data row4 col3\" >0.9682</td>\n",
       "      <td id=\"T_5ae2f_row4_col4\" class=\"data row4 col4\" >0.6675</td>\n",
       "      <td id=\"T_5ae2f_row4_col5\" class=\"data row4 col5\" >0.4927</td>\n",
       "      <td id=\"T_5ae2f_row4_col6\" class=\"data row4 col6\" >0.5595</td>\n",
       "    </tr>\n",
       "    <tr>\n",
       "      <th id=\"T_5ae2f_level0_row5\" class=\"row_heading level0 row5\" >5</th>\n",
       "      <td id=\"T_5ae2f_row5_col0\" class=\"data row5 col0\" >0.7472</td>\n",
       "      <td id=\"T_5ae2f_row5_col1\" class=\"data row5 col1\" >0.8721</td>\n",
       "      <td id=\"T_5ae2f_row5_col2\" class=\"data row5 col2\" >0.5055</td>\n",
       "      <td id=\"T_5ae2f_row5_col3\" class=\"data row5 col3\" >0.9782</td>\n",
       "      <td id=\"T_5ae2f_row5_col4\" class=\"data row5 col4\" >0.6666</td>\n",
       "      <td id=\"T_5ae2f_row5_col5\" class=\"data row5 col5\" >0.4943</td>\n",
       "      <td id=\"T_5ae2f_row5_col6\" class=\"data row5 col6\" >0.5646</td>\n",
       "    </tr>\n",
       "    <tr>\n",
       "      <th id=\"T_5ae2f_level0_row6\" class=\"row_heading level0 row6\" >6</th>\n",
       "      <td id=\"T_5ae2f_row6_col0\" class=\"data row6 col0\" >0.7474</td>\n",
       "      <td id=\"T_5ae2f_row6_col1\" class=\"data row6 col1\" >0.8723</td>\n",
       "      <td id=\"T_5ae2f_row6_col2\" class=\"data row6 col2\" >0.5065</td>\n",
       "      <td id=\"T_5ae2f_row6_col3\" class=\"data row6 col3\" >0.9769</td>\n",
       "      <td id=\"T_5ae2f_row6_col4\" class=\"data row6 col4\" >0.6671</td>\n",
       "      <td id=\"T_5ae2f_row6_col5\" class=\"data row6 col5\" >0.4946</td>\n",
       "      <td id=\"T_5ae2f_row6_col6\" class=\"data row6 col6\" >0.5643</td>\n",
       "    </tr>\n",
       "    <tr>\n",
       "      <th id=\"T_5ae2f_level0_row7\" class=\"row_heading level0 row7\" >7</th>\n",
       "      <td id=\"T_5ae2f_row7_col0\" class=\"data row7 col0\" >0.7453</td>\n",
       "      <td id=\"T_5ae2f_row7_col1\" class=\"data row7 col1\" >0.8702</td>\n",
       "      <td id=\"T_5ae2f_row7_col2\" class=\"data row7 col2\" >0.5012</td>\n",
       "      <td id=\"T_5ae2f_row7_col3\" class=\"data row7 col3\" >0.9789</td>\n",
       "      <td id=\"T_5ae2f_row7_col4\" class=\"data row7 col4\" >0.6630</td>\n",
       "      <td id=\"T_5ae2f_row7_col5\" class=\"data row7 col5\" >0.4905</td>\n",
       "      <td id=\"T_5ae2f_row7_col6\" class=\"data row7 col6\" >0.5619</td>\n",
       "    </tr>\n",
       "    <tr>\n",
       "      <th id=\"T_5ae2f_level0_row8\" class=\"row_heading level0 row8\" >8</th>\n",
       "      <td id=\"T_5ae2f_row8_col0\" class=\"data row8 col0\" >0.7466</td>\n",
       "      <td id=\"T_5ae2f_row8_col1\" class=\"data row8 col1\" >0.8715</td>\n",
       "      <td id=\"T_5ae2f_row8_col2\" class=\"data row8 col2\" >0.5073</td>\n",
       "      <td id=\"T_5ae2f_row8_col3\" class=\"data row8 col3\" >0.9726</td>\n",
       "      <td id=\"T_5ae2f_row8_col4\" class=\"data row8 col4\" >0.6668</td>\n",
       "      <td id=\"T_5ae2f_row8_col5\" class=\"data row8 col5\" >0.4931</td>\n",
       "      <td id=\"T_5ae2f_row8_col6\" class=\"data row8 col6\" >0.5615</td>\n",
       "    </tr>\n",
       "    <tr>\n",
       "      <th id=\"T_5ae2f_level0_row9\" class=\"row_heading level0 row9\" >9</th>\n",
       "      <td id=\"T_5ae2f_row9_col0\" class=\"data row9 col0\" >0.7470</td>\n",
       "      <td id=\"T_5ae2f_row9_col1\" class=\"data row9 col1\" >0.8718</td>\n",
       "      <td id=\"T_5ae2f_row9_col2\" class=\"data row9 col2\" >0.5087</td>\n",
       "      <td id=\"T_5ae2f_row9_col3\" class=\"data row9 col3\" >0.9714</td>\n",
       "      <td id=\"T_5ae2f_row9_col4\" class=\"data row9 col4\" >0.6677</td>\n",
       "      <td id=\"T_5ae2f_row9_col5\" class=\"data row9 col5\" >0.4938</td>\n",
       "      <td id=\"T_5ae2f_row9_col6\" class=\"data row9 col6\" >0.5616</td>\n",
       "    </tr>\n",
       "    <tr>\n",
       "      <th id=\"T_5ae2f_level0_row10\" class=\"row_heading level0 row10\" >Mean</th>\n",
       "      <td id=\"T_5ae2f_row10_col0\" class=\"data row10 col0\" >0.7467</td>\n",
       "      <td id=\"T_5ae2f_row10_col1\" class=\"data row10 col1\" >0.8715</td>\n",
       "      <td id=\"T_5ae2f_row10_col2\" class=\"data row10 col2\" >0.5067</td>\n",
       "      <td id=\"T_5ae2f_row10_col3\" class=\"data row10 col3\" >0.9739</td>\n",
       "      <td id=\"T_5ae2f_row10_col4\" class=\"data row10 col4\" >0.6666</td>\n",
       "      <td id=\"T_5ae2f_row10_col5\" class=\"data row10 col5\" >0.4932</td>\n",
       "      <td id=\"T_5ae2f_row10_col6\" class=\"data row10 col6\" >0.5621</td>\n",
       "    </tr>\n",
       "    <tr>\n",
       "      <th id=\"T_5ae2f_level0_row11\" class=\"row_heading level0 row11\" >Std</th>\n",
       "      <td id=\"T_5ae2f_row11_col0\" class=\"data row11 col0\" >0.0006</td>\n",
       "      <td id=\"T_5ae2f_row11_col1\" class=\"data row11 col1\" >0.0006</td>\n",
       "      <td id=\"T_5ae2f_row11_col2\" class=\"data row11 col2\" >0.0023</td>\n",
       "      <td id=\"T_5ae2f_row11_col3\" class=\"data row11 col3\" >0.0033</td>\n",
       "      <td id=\"T_5ae2f_row11_col4\" class=\"data row11 col4\" >0.0015</td>\n",
       "      <td id=\"T_5ae2f_row11_col5\" class=\"data row11 col5\" >0.0013</td>\n",
       "      <td id=\"T_5ae2f_row11_col6\" class=\"data row11 col6\" >0.0015</td>\n",
       "    </tr>\n",
       "  </tbody>\n",
       "</table>\n"
      ],
      "text/plain": [
       "<pandas.io.formats.style.Styler at 0x7f3e17691b10>"
      ]
     },
     "metadata": {},
     "output_type": "display_data"
    },
    {
     "data": {
      "text/html": [],
      "text/plain": [
       "<IPython.core.display.HTML object>"
      ]
     },
     "metadata": {},
     "output_type": "display_data"
    }
   ],
   "source": [
    "et = create_model('et')"
   ]
  },
  {
   "cell_type": "code",
   "execution_count": 49,
   "metadata": {},
   "outputs": [
    {
     "data": {
      "text/html": [],
      "text/plain": [
       "<IPython.core.display.HTML object>"
      ]
     },
     "metadata": {},
     "output_type": "display_data"
    },
    {
     "data": {
      "image/png": "[encoded data removed]",
      "text/plain": [
       "<Figure size 800x550 with 1 Axes>"
      ]
     },
     "metadata": {},
     "output_type": "display_data"
    }
   ],
   "source": [
    "plot_model(et, plot = 'confusion_matrix')"
   ]
  },
  {
   "cell_type": "code",
   "execution_count": 50,
   "metadata": {},
   "outputs": [
    {
     "data": {
      "text/html": [],
      "text/plain": [
       "<IPython.core.display.HTML object>"
      ]
     },
     "metadata": {},
     "output_type": "display_data"
    },
    {
     "data": {
      "image/png": "[encoded data removed]",
      "text/plain": [
       "<Figure size 800x550 with 1 Axes>"
      ]
     },
     "metadata": {},
     "output_type": "display_data"
    }
   ],
   "source": [
    "plot_model(et, plot = 'error')"
   ]
  },
  {
   "cell_type": "code",
   "execution_count": 51,
   "metadata": {},
   "outputs": [
    {
     "data": {
      "text/html": [],
      "text/plain": [
       "<IPython.core.display.HTML object>"
      ]
     },
     "metadata": {},
     "output_type": "display_data"
    },
    {
     "data": {
      "text/html": [
       "<div>\n",
       "<style scoped>\n",
       "    .dataframe tbody tr th:only-of-type {\n",
       "        vertical-align: middle;\n",
       "    }\n",
       "\n",
       "    .dataframe tbody tr th {\n",
       "        vertical-align: top;\n",
       "    }\n",
       "\n",
       "    .dataframe thead th {\n",
       "        text-align: right;\n",
       "    }\n",
       "</style>\n",
       "<table border=\"1\" class=\"dataframe\">\n",
       "  <thead>\n",
       "    <tr style=\"text-align: right;\">\n",
       "      <th></th>\n",
       "      <th>Parameters</th>\n",
       "    </tr>\n",
       "  </thead>\n",
       "  <tbody>\n",
       "    <tr>\n",
       "      <th>bootstrap</th>\n",
       "      <td>False</td>\n",
       "    </tr>\n",
       "    <tr>\n",
       "      <th>ccp_alpha</th>\n",
       "      <td>0.0</td>\n",
       "    </tr>\n",
       "    <tr>\n",
       "      <th>class_weight</th>\n",
       "      <td>None</td>\n",
       "    </tr>\n",
       "    <tr>\n",
       "      <th>criterion</th>\n",
       "      <td>gini</td>\n",
       "    </tr>\n",
       "    <tr>\n",
       "      <th>max_depth</th>\n",
       "      <td>None</td>\n",
       "    </tr>\n",
       "    <tr>\n",
       "      <th>max_features</th>\n",
       "      <td>sqrt</td>\n",
       "    </tr>\n",
       "    <tr>\n",
       "      <th>max_leaf_nodes</th>\n",
       "      <td>None</td>\n",
       "    </tr>\n",
       "    <tr>\n",
       "      <th>max_samples</th>\n",
       "      <td>None</td>\n",
       "    </tr>\n",
       "    <tr>\n",
       "      <th>min_impurity_decrease</th>\n",
       "      <td>0.0</td>\n",
       "    </tr>\n",
       "    <tr>\n",
       "      <th>min_samples_leaf</th>\n",
       "      <td>1</td>\n",
       "    </tr>\n",
       "    <tr>\n",
       "      <th>min_samples_split</th>\n",
       "      <td>2</td>\n",
       "    </tr>\n",
       "    <tr>\n",
       "      <th>min_weight_fraction_leaf</th>\n",
       "      <td>0.0</td>\n",
       "    </tr>\n",
       "    <tr>\n",
       "      <th>n_estimators</th>\n",
       "      <td>100</td>\n",
       "    </tr>\n",
       "    <tr>\n",
       "      <th>n_jobs</th>\n",
       "      <td>-1</td>\n",
       "    </tr>\n",
       "    <tr>\n",
       "      <th>oob_score</th>\n",
       "      <td>False</td>\n",
       "    </tr>\n",
       "    <tr>\n",
       "      <th>random_state</th>\n",
       "      <td>4080</td>\n",
       "    </tr>\n",
       "    <tr>\n",
       "      <th>verbose</th>\n",
       "      <td>0</td>\n",
       "    </tr>\n",
       "    <tr>\n",
       "      <th>warm_start</th>\n",
       "      <td>False</td>\n",
       "    </tr>\n",
       "  </tbody>\n",
       "</table>\n",
       "</div>"
      ],
      "text/plain": [
       "                         Parameters\n",
       "bootstrap                     False\n",
       "ccp_alpha                       0.0\n",
       "class_weight                   None\n",
       "criterion                      gini\n",
       "max_depth                      None\n",
       "max_features                   sqrt\n",
       "max_leaf_nodes                 None\n",
       "max_samples                    None\n",
       "min_impurity_decrease           0.0\n",
       "min_samples_leaf                  1\n",
       "min_samples_split                 2\n",
       "min_weight_fraction_leaf        0.0\n",
       "n_estimators                    100\n",
       "n_jobs                           -1\n",
       "oob_score                     False\n",
       "random_state                   4080\n",
       "verbose                           0\n",
       "warm_start                    False"
      ]
     },
     "metadata": {},
     "output_type": "display_data"
    }
   ],
   "source": [
    "plot_model(et, plot = 'parameter')"
   ]
  },
  {
   "cell_type": "code",
   "execution_count": 52,
   "metadata": {},
   "outputs": [
    {
     "name": "stdout",
     "output_type": "stream",
     "text": [
      "Transformation Pipeline and Model Successfully Saved\n"
     ]
    },
    {
     "data": {
      "text/plain": [
       "(Pipeline(memory=FastMemory(location=/tmp/joblib),\n",
       "          steps=[('numerical_imputer',\n",
       "                  TransformerWrapper(exclude=None,\n",
       "                                     include=['0', '1', '2', '3', '4', '5', '6',\n",
       "                                              '7', '8', '9', '10', '11', '12',\n",
       "                                              '13', '14', '15', '16', '17', '18',\n",
       "                                              '19', '20', '21', '22', '23', '24',\n",
       "                                              '25', '26', '27', '28', '29', ...],\n",
       "                                     transformer=SimpleImputer(add_indicator=False,\n",
       "                                                               copy=True,\n",
       "                                                               fill_value=None,\n",
       "                                                               keep_empty_feat...\n",
       "                  ExtraTreesClassifier(bootstrap=False, ccp_alpha=0.0,\n",
       "                                       class_weight=None, criterion='gini',\n",
       "                                       max_depth=None, max_features='sqrt',\n",
       "                                       max_leaf_nodes=None, max_samples=None,\n",
       "                                       min_impurity_decrease=0.0,\n",
       "                                       min_samples_leaf=1, min_samples_split=2,\n",
       "                                       min_weight_fraction_leaf=0.0,\n",
       "                                       n_estimators=100, n_jobs=-1,\n",
       "                                       oob_score=False, random_state=4080,\n",
       "                                       verbose=0, warm_start=False))],\n",
       "          verbose=False),\n",
       " 'models_classif/convkb/binary_emb_val/et.pkl')"
      ]
     },
     "execution_count": 52,
     "metadata": {},
     "output_type": "execute_result"
    }
   ],
   "source": [
    "save_model(et, 'models_classif/complex/binary_emb_val/et')"
   ]
  },
  {
   "cell_type": "markdown",
   "metadata": {},
   "source": [
    "# Light Gradient Boosting Machine"
   ]
  },
  {
   "cell_type": "code",
   "execution_count": 53,
   "metadata": {},
   "outputs": [
    {
     "data": {
      "text/html": [],
      "text/plain": [
       "<IPython.core.display.HTML object>"
      ]
     },
     "metadata": {},
     "output_type": "display_data"
    },
    {
     "data": {
      "text/html": [
       "<style type=\"text/css\">\n",
       "#T_25a77_row10_col0, #T_25a77_row10_col1, #T_25a77_row10_col2, #T_25a77_row10_col3, #T_25a77_row10_col4, #T_25a77_row10_col5, #T_25a77_row10_col6 {\n",
       "  background: yellow;\n",
       "}\n",
       "</style>\n",
       "<table id=\"T_25a77\">\n",
       "  <thead>\n",
       "    <tr>\n",
       "      <th class=\"blank level0\" >&nbsp;</th>\n",
       "      <th id=\"T_25a77_level0_col0\" class=\"col_heading level0 col0\" >Accuracy</th>\n",
       "      <th id=\"T_25a77_level0_col1\" class=\"col_heading level0 col1\" >AUC</th>\n",
       "      <th id=\"T_25a77_level0_col2\" class=\"col_heading level0 col2\" >Recall</th>\n",
       "      <th id=\"T_25a77_level0_col3\" class=\"col_heading level0 col3\" >Prec.</th>\n",
       "      <th id=\"T_25a77_level0_col4\" class=\"col_heading level0 col4\" >F1</th>\n",
       "      <th id=\"T_25a77_level0_col5\" class=\"col_heading level0 col5\" >Kappa</th>\n",
       "      <th id=\"T_25a77_level0_col6\" class=\"col_heading level0 col6\" >MCC</th>\n",
       "    </tr>\n",
       "    <tr>\n",
       "      <th class=\"index_name level0\" >Fold</th>\n",
       "      <th class=\"blank col0\" >&nbsp;</th>\n",
       "      <th class=\"blank col1\" >&nbsp;</th>\n",
       "      <th class=\"blank col2\" >&nbsp;</th>\n",
       "      <th class=\"blank col3\" >&nbsp;</th>\n",
       "      <th class=\"blank col4\" >&nbsp;</th>\n",
       "      <th class=\"blank col5\" >&nbsp;</th>\n",
       "      <th class=\"blank col6\" >&nbsp;</th>\n",
       "    </tr>\n",
       "  </thead>\n",
       "  <tbody>\n",
       "    <tr>\n",
       "      <th id=\"T_25a77_level0_row0\" class=\"row_heading level0 row0\" >0</th>\n",
       "      <td id=\"T_25a77_row0_col0\" class=\"data row0 col0\" >0.6778</td>\n",
       "      <td id=\"T_25a77_row0_col1\" class=\"data row0 col1\" >0.7156</td>\n",
       "      <td id=\"T_25a77_row0_col2\" class=\"data row0 col2\" >0.8028</td>\n",
       "      <td id=\"T_25a77_row0_col3\" class=\"data row0 col3\" >0.6421</td>\n",
       "      <td id=\"T_25a77_row0_col4\" class=\"data row0 col4\" >0.7135</td>\n",
       "      <td id=\"T_25a77_row0_col5\" class=\"data row0 col5\" >0.3556</td>\n",
       "      <td id=\"T_25a77_row0_col6\" class=\"data row0 col6\" >0.3673</td>\n",
       "    </tr>\n",
       "    <tr>\n",
       "      <th id=\"T_25a77_level0_row1\" class=\"row_heading level0 row1\" >1</th>\n",
       "      <td id=\"T_25a77_row1_col0\" class=\"data row1 col0\" >0.6770</td>\n",
       "      <td id=\"T_25a77_row1_col1\" class=\"data row1 col1\" >0.7150</td>\n",
       "      <td id=\"T_25a77_row1_col2\" class=\"data row1 col2\" >0.8020</td>\n",
       "      <td id=\"T_25a77_row1_col3\" class=\"data row1 col3\" >0.6415</td>\n",
       "      <td id=\"T_25a77_row1_col4\" class=\"data row1 col4\" >0.7128</td>\n",
       "      <td id=\"T_25a77_row1_col5\" class=\"data row1 col5\" >0.3541</td>\n",
       "      <td id=\"T_25a77_row1_col6\" class=\"data row1 col6\" >0.3657</td>\n",
       "    </tr>\n",
       "    <tr>\n",
       "      <th id=\"T_25a77_level0_row2\" class=\"row_heading level0 row2\" >2</th>\n",
       "      <td id=\"T_25a77_row2_col0\" class=\"data row2 col0\" >0.6793</td>\n",
       "      <td id=\"T_25a77_row2_col1\" class=\"data row2 col1\" >0.7162</td>\n",
       "      <td id=\"T_25a77_row2_col2\" class=\"data row2 col2\" >0.8031</td>\n",
       "      <td id=\"T_25a77_row2_col3\" class=\"data row2 col3\" >0.6436</td>\n",
       "      <td id=\"T_25a77_row2_col4\" class=\"data row2 col4\" >0.7146</td>\n",
       "      <td id=\"T_25a77_row2_col5\" class=\"data row2 col5\" >0.3587</td>\n",
       "      <td id=\"T_25a77_row2_col6\" class=\"data row2 col6\" >0.3702</td>\n",
       "    </tr>\n",
       "    <tr>\n",
       "      <th id=\"T_25a77_level0_row3\" class=\"row_heading level0 row3\" >3</th>\n",
       "      <td id=\"T_25a77_row3_col0\" class=\"data row3 col0\" >0.6787</td>\n",
       "      <td id=\"T_25a77_row3_col1\" class=\"data row3 col1\" >0.7161</td>\n",
       "      <td id=\"T_25a77_row3_col2\" class=\"data row3 col2\" >0.8045</td>\n",
       "      <td id=\"T_25a77_row3_col3\" class=\"data row3 col3\" >0.6426</td>\n",
       "      <td id=\"T_25a77_row3_col4\" class=\"data row3 col4\" >0.7145</td>\n",
       "      <td id=\"T_25a77_row3_col5\" class=\"data row3 col5\" >0.3575</td>\n",
       "      <td id=\"T_25a77_row3_col6\" class=\"data row3 col6\" >0.3694</td>\n",
       "    </tr>\n",
       "    <tr>\n",
       "      <th id=\"T_25a77_level0_row4\" class=\"row_heading level0 row4\" >4</th>\n",
       "      <td id=\"T_25a77_row4_col0\" class=\"data row4 col0\" >0.6787</td>\n",
       "      <td id=\"T_25a77_row4_col1\" class=\"data row4 col1\" >0.7163</td>\n",
       "      <td id=\"T_25a77_row4_col2\" class=\"data row4 col2\" >0.8037</td>\n",
       "      <td id=\"T_25a77_row4_col3\" class=\"data row4 col3\" >0.6428</td>\n",
       "      <td id=\"T_25a77_row4_col4\" class=\"data row4 col4\" >0.7143</td>\n",
       "      <td id=\"T_25a77_row4_col5\" class=\"data row4 col5\" >0.3575</td>\n",
       "      <td id=\"T_25a77_row4_col6\" class=\"data row4 col6\" >0.3692</td>\n",
       "    </tr>\n",
       "    <tr>\n",
       "      <th id=\"T_25a77_level0_row5\" class=\"row_heading level0 row5\" >5</th>\n",
       "      <td id=\"T_25a77_row5_col0\" class=\"data row5 col0\" >0.6788</td>\n",
       "      <td id=\"T_25a77_row5_col1\" class=\"data row5 col1\" >0.7163</td>\n",
       "      <td id=\"T_25a77_row5_col2\" class=\"data row5 col2\" >0.8038</td>\n",
       "      <td id=\"T_25a77_row5_col3\" class=\"data row5 col3\" >0.6429</td>\n",
       "      <td id=\"T_25a77_row5_col4\" class=\"data row5 col4\" >0.7144</td>\n",
       "      <td id=\"T_25a77_row5_col5\" class=\"data row5 col5\" >0.3576</td>\n",
       "      <td id=\"T_25a77_row5_col6\" class=\"data row5 col6\" >0.3694</td>\n",
       "    </tr>\n",
       "    <tr>\n",
       "      <th id=\"T_25a77_level0_row6\" class=\"row_heading level0 row6\" >6</th>\n",
       "      <td id=\"T_25a77_row6_col0\" class=\"data row6 col0\" >0.6780</td>\n",
       "      <td id=\"T_25a77_row6_col1\" class=\"data row6 col1\" >0.7160</td>\n",
       "      <td id=\"T_25a77_row6_col2\" class=\"data row6 col2\" >0.8024</td>\n",
       "      <td id=\"T_25a77_row6_col3\" class=\"data row6 col3\" >0.6424</td>\n",
       "      <td id=\"T_25a77_row6_col4\" class=\"data row6 col4\" >0.7135</td>\n",
       "      <td id=\"T_25a77_row6_col5\" class=\"data row6 col5\" >0.3560</td>\n",
       "      <td id=\"T_25a77_row6_col6\" class=\"data row6 col6\" >0.3676</td>\n",
       "    </tr>\n",
       "    <tr>\n",
       "      <th id=\"T_25a77_level0_row7\" class=\"row_heading level0 row7\" >7</th>\n",
       "      <td id=\"T_25a77_row7_col0\" class=\"data row7 col0\" >0.6767</td>\n",
       "      <td id=\"T_25a77_row7_col1\" class=\"data row7 col1\" >0.7143</td>\n",
       "      <td id=\"T_25a77_row7_col2\" class=\"data row7 col2\" >0.8016</td>\n",
       "      <td id=\"T_25a77_row7_col3\" class=\"data row7 col3\" >0.6412</td>\n",
       "      <td id=\"T_25a77_row7_col4\" class=\"data row7 col4\" >0.7125</td>\n",
       "      <td id=\"T_25a77_row7_col5\" class=\"data row7 col5\" >0.3534</td>\n",
       "      <td id=\"T_25a77_row7_col6\" class=\"data row7 col6\" >0.3650</td>\n",
       "    </tr>\n",
       "    <tr>\n",
       "      <th id=\"T_25a77_level0_row8\" class=\"row_heading level0 row8\" >8</th>\n",
       "      <td id=\"T_25a77_row8_col0\" class=\"data row8 col0\" >0.6781</td>\n",
       "      <td id=\"T_25a77_row8_col1\" class=\"data row8 col1\" >0.7153</td>\n",
       "      <td id=\"T_25a77_row8_col2\" class=\"data row8 col2\" >0.8030</td>\n",
       "      <td id=\"T_25a77_row8_col3\" class=\"data row8 col3\" >0.6424</td>\n",
       "      <td id=\"T_25a77_row8_col4\" class=\"data row8 col4\" >0.7138</td>\n",
       "      <td id=\"T_25a77_row8_col5\" class=\"data row8 col5\" >0.3563</td>\n",
       "      <td id=\"T_25a77_row8_col6\" class=\"data row8 col6\" >0.3679</td>\n",
       "    </tr>\n",
       "    <tr>\n",
       "      <th id=\"T_25a77_level0_row9\" class=\"row_heading level0 row9\" >9</th>\n",
       "      <td id=\"T_25a77_row9_col0\" class=\"data row9 col0\" >0.6777</td>\n",
       "      <td id=\"T_25a77_row9_col1\" class=\"data row9 col1\" >0.7150</td>\n",
       "      <td id=\"T_25a77_row9_col2\" class=\"data row9 col2\" >0.8054</td>\n",
       "      <td id=\"T_25a77_row9_col3\" class=\"data row9 col3\" >0.6414</td>\n",
       "      <td id=\"T_25a77_row9_col4\" class=\"data row9 col4\" >0.7141</td>\n",
       "      <td id=\"T_25a77_row9_col5\" class=\"data row9 col5\" >0.3555</td>\n",
       "      <td id=\"T_25a77_row9_col6\" class=\"data row9 col6\" >0.3677</td>\n",
       "    </tr>\n",
       "    <tr>\n",
       "      <th id=\"T_25a77_level0_row10\" class=\"row_heading level0 row10\" >Mean</th>\n",
       "      <td id=\"T_25a77_row10_col0\" class=\"data row10 col0\" >0.6781</td>\n",
       "      <td id=\"T_25a77_row10_col1\" class=\"data row10 col1\" >0.7156</td>\n",
       "      <td id=\"T_25a77_row10_col2\" class=\"data row10 col2\" >0.8032</td>\n",
       "      <td id=\"T_25a77_row10_col3\" class=\"data row10 col3\" >0.6423</td>\n",
       "      <td id=\"T_25a77_row10_col4\" class=\"data row10 col4\" >0.7138</td>\n",
       "      <td id=\"T_25a77_row10_col5\" class=\"data row10 col5\" >0.3562</td>\n",
       "      <td id=\"T_25a77_row10_col6\" class=\"data row10 col6\" >0.3679</td>\n",
       "    </tr>\n",
       "    <tr>\n",
       "      <th id=\"T_25a77_level0_row11\" class=\"row_heading level0 row11\" >Std</th>\n",
       "      <td id=\"T_25a77_row11_col0\" class=\"data row11 col0\" >0.0008</td>\n",
       "      <td id=\"T_25a77_row11_col1\" class=\"data row11 col1\" >0.0007</td>\n",
       "      <td id=\"T_25a77_row11_col2\" class=\"data row11 col2\" >0.0011</td>\n",
       "      <td id=\"T_25a77_row11_col3\" class=\"data row11 col3\" >0.0007</td>\n",
       "      <td id=\"T_25a77_row11_col4\" class=\"data row11 col4\" >0.0007</td>\n",
       "      <td id=\"T_25a77_row11_col5\" class=\"data row11 col5\" >0.0016</td>\n",
       "      <td id=\"T_25a77_row11_col6\" class=\"data row11 col6\" >0.0016</td>\n",
       "    </tr>\n",
       "  </tbody>\n",
       "</table>\n"
      ],
      "text/plain": [
       "<pandas.io.formats.style.Styler at 0x7f3e176943a0>"
      ]
     },
     "metadata": {},
     "output_type": "display_data"
    },
    {
     "data": {
      "text/html": [],
      "text/plain": [
       "<IPython.core.display.HTML object>"
      ]
     },
     "metadata": {},
     "output_type": "display_data"
    }
   ],
   "source": [
    "lightgbm = create_model('lightgbm')"
   ]
  },
  {
   "cell_type": "code",
   "execution_count": 54,
   "metadata": {},
   "outputs": [
    {
     "data": {
      "text/html": [],
      "text/plain": [
       "<IPython.core.display.HTML object>"
      ]
     },
     "metadata": {},
     "output_type": "display_data"
    },
    {
     "data": {
      "image/png": "[encoded data removed]",
      "text/plain": [
       "<Figure size 800x550 with 1 Axes>"
      ]
     },
     "metadata": {},
     "output_type": "display_data"
    }
   ],
   "source": [
    "plot_model(lightgbm, plot = 'confusion_matrix')"
   ]
  },
  {
   "cell_type": "code",
   "execution_count": 55,
   "metadata": {},
   "outputs": [
    {
     "data": {
      "text/html": [],
      "text/plain": [
       "<IPython.core.display.HTML object>"
      ]
     },
     "metadata": {},
     "output_type": "display_data"
    },
    {
     "data": {
      "image/png": "[encoded data removed]",
      "text/plain": [
       "<Figure size 800x550 with 1 Axes>"
      ]
     },
     "metadata": {},
     "output_type": "display_data"
    }
   ],
   "source": [
    "plot_model(lightgbm, plot = 'error')"
   ]
  },
  {
   "cell_type": "code",
   "execution_count": 56,
   "metadata": {},
   "outputs": [
    {
     "data": {
      "text/html": [],
      "text/plain": [
       "<IPython.core.display.HTML object>"
      ]
     },
     "metadata": {},
     "output_type": "display_data"
    },
    {
     "data": {
      "text/html": [
       "<div>\n",
       "<style scoped>\n",
       "    .dataframe tbody tr th:only-of-type {\n",
       "        vertical-align: middle;\n",
       "    }\n",
       "\n",
       "    .dataframe tbody tr th {\n",
       "        vertical-align: top;\n",
       "    }\n",
       "\n",
       "    .dataframe thead th {\n",
       "        text-align: right;\n",
       "    }\n",
       "</style>\n",
       "<table border=\"1\" class=\"dataframe\">\n",
       "  <thead>\n",
       "    <tr style=\"text-align: right;\">\n",
       "      <th></th>\n",
       "      <th>Parameters</th>\n",
       "    </tr>\n",
       "  </thead>\n",
       "  <tbody>\n",
       "    <tr>\n",
       "      <th>boosting_type</th>\n",
       "      <td>gbdt</td>\n",
       "    </tr>\n",
       "    <tr>\n",
       "      <th>class_weight</th>\n",
       "      <td>None</td>\n",
       "    </tr>\n",
       "    <tr>\n",
       "      <th>colsample_bytree</th>\n",
       "      <td>1.0</td>\n",
       "    </tr>\n",
       "    <tr>\n",
       "      <th>importance_type</th>\n",
       "      <td>split</td>\n",
       "    </tr>\n",
       "    <tr>\n",
       "      <th>learning_rate</th>\n",
       "      <td>0.1</td>\n",
       "    </tr>\n",
       "    <tr>\n",
       "      <th>max_depth</th>\n",
       "      <td>-1</td>\n",
       "    </tr>\n",
       "    <tr>\n",
       "      <th>min_child_samples</th>\n",
       "      <td>20</td>\n",
       "    </tr>\n",
       "    <tr>\n",
       "      <th>min_child_weight</th>\n",
       "      <td>0.001</td>\n",
       "    </tr>\n",
       "    <tr>\n",
       "      <th>min_split_gain</th>\n",
       "      <td>0.0</td>\n",
       "    </tr>\n",
       "    <tr>\n",
       "      <th>n_estimators</th>\n",
       "      <td>100</td>\n",
       "    </tr>\n",
       "    <tr>\n",
       "      <th>n_jobs</th>\n",
       "      <td>-1</td>\n",
       "    </tr>\n",
       "    <tr>\n",
       "      <th>num_leaves</th>\n",
       "      <td>31</td>\n",
       "    </tr>\n",
       "    <tr>\n",
       "      <th>objective</th>\n",
       "      <td>None</td>\n",
       "    </tr>\n",
       "    <tr>\n",
       "      <th>random_state</th>\n",
       "      <td>4080</td>\n",
       "    </tr>\n",
       "    <tr>\n",
       "      <th>reg_alpha</th>\n",
       "      <td>0.0</td>\n",
       "    </tr>\n",
       "    <tr>\n",
       "      <th>reg_lambda</th>\n",
       "      <td>0.0</td>\n",
       "    </tr>\n",
       "    <tr>\n",
       "      <th>silent</th>\n",
       "      <td>warn</td>\n",
       "    </tr>\n",
       "    <tr>\n",
       "      <th>subsample</th>\n",
       "      <td>1.0</td>\n",
       "    </tr>\n",
       "    <tr>\n",
       "      <th>subsample_for_bin</th>\n",
       "      <td>200000</td>\n",
       "    </tr>\n",
       "    <tr>\n",
       "      <th>subsample_freq</th>\n",
       "      <td>0</td>\n",
       "    </tr>\n",
       "  </tbody>\n",
       "</table>\n",
       "</div>"
      ],
      "text/plain": [
       "                  Parameters\n",
       "boosting_type           gbdt\n",
       "class_weight            None\n",
       "colsample_bytree         1.0\n",
       "importance_type        split\n",
       "learning_rate            0.1\n",
       "max_depth                 -1\n",
       "min_child_samples         20\n",
       "min_child_weight       0.001\n",
       "min_split_gain           0.0\n",
       "n_estimators             100\n",
       "n_jobs                    -1\n",
       "num_leaves                31\n",
       "objective               None\n",
       "random_state            4080\n",
       "reg_alpha                0.0\n",
       "reg_lambda               0.0\n",
       "silent                  warn\n",
       "subsample                1.0\n",
       "subsample_for_bin     200000\n",
       "subsample_freq             0"
      ]
     },
     "metadata": {},
     "output_type": "display_data"
    }
   ],
   "source": [
    "plot_model(lightgbm, plot = 'parameter')"
   ]
  },
  {
   "cell_type": "code",
   "execution_count": 57,
   "metadata": {},
   "outputs": [
    {
     "name": "stdout",
     "output_type": "stream",
     "text": [
      "Transformation Pipeline and Model Successfully Saved\n"
     ]
    },
    {
     "data": {
      "text/plain": [
       "(Pipeline(memory=FastMemory(location=/tmp/joblib),\n",
       "          steps=[('numerical_imputer',\n",
       "                  TransformerWrapper(exclude=None,\n",
       "                                     include=['0', '1', '2', '3', '4', '5', '6',\n",
       "                                              '7', '8', '9', '10', '11', '12',\n",
       "                                              '13', '14', '15', '16', '17', '18',\n",
       "                                              '19', '20', '21', '22', '23', '24',\n",
       "                                              '25', '26', '27', '28', '29', ...],\n",
       "                                     transformer=SimpleImputer(add_indicator=False,\n",
       "                                                               copy=True,\n",
       "                                                               fill_value=None,\n",
       "                                                               keep_empty_feat...\n",
       "                  LGBMClassifier(boosting_type='gbdt', class_weight=None,\n",
       "                                 colsample_bytree=1.0, importance_type='split',\n",
       "                                 learning_rate=0.1, max_depth=-1,\n",
       "                                 min_child_samples=20, min_child_weight=0.001,\n",
       "                                 min_split_gain=0.0, n_estimators=100, n_jobs=-1,\n",
       "                                 num_leaves=31, objective=None,\n",
       "                                 random_state=4080, reg_alpha=0.0,\n",
       "                                 reg_lambda=0.0, silent='warn', subsample=1.0,\n",
       "                                 subsample_for_bin=200000, subsample_freq=0))],\n",
       "          verbose=False),\n",
       " 'models_classif/convkb/binary_emb_val/lightgbm.pkl')"
      ]
     },
     "execution_count": 57,
     "metadata": {},
     "output_type": "execute_result"
    }
   ],
   "source": [
    "save_model(lightgbm, 'models_classif/complex/binary_emb_val/lightgbm')"
   ]
  },
  {
   "cell_type": "markdown",
   "metadata": {
    "tags": []
   },
   "source": [
    "# MLP Classifier"
   ]
  },
  {
   "cell_type": "code",
   "execution_count": 64,
   "metadata": {},
   "outputs": [
    {
     "data": {
      "text/html": [],
      "text/plain": [
       "<IPython.core.display.HTML object>"
      ]
     },
     "metadata": {},
     "output_type": "display_data"
    },
    {
     "data": {
      "text/html": [
       "<style type=\"text/css\">\n",
       "#T_69bb9_row10_col0, #T_69bb9_row10_col1, #T_69bb9_row10_col2, #T_69bb9_row10_col3, #T_69bb9_row10_col4, #T_69bb9_row10_col5, #T_69bb9_row10_col6 {\n",
       "  background: yellow;\n",
       "}\n",
       "</style>\n",
       "<table id=\"T_69bb9\">\n",
       "  <thead>\n",
       "    <tr>\n",
       "      <th class=\"blank level0\" >&nbsp;</th>\n",
       "      <th id=\"T_69bb9_level0_col0\" class=\"col_heading level0 col0\" >Accuracy</th>\n",
       "      <th id=\"T_69bb9_level0_col1\" class=\"col_heading level0 col1\" >AUC</th>\n",
       "      <th id=\"T_69bb9_level0_col2\" class=\"col_heading level0 col2\" >Recall</th>\n",
       "      <th id=\"T_69bb9_level0_col3\" class=\"col_heading level0 col3\" >Prec.</th>\n",
       "      <th id=\"T_69bb9_level0_col4\" class=\"col_heading level0 col4\" >F1</th>\n",
       "      <th id=\"T_69bb9_level0_col5\" class=\"col_heading level0 col5\" >Kappa</th>\n",
       "      <th id=\"T_69bb9_level0_col6\" class=\"col_heading level0 col6\" >MCC</th>\n",
       "    </tr>\n",
       "    <tr>\n",
       "      <th class=\"index_name level0\" >Fold</th>\n",
       "      <th class=\"blank col0\" >&nbsp;</th>\n",
       "      <th class=\"blank col1\" >&nbsp;</th>\n",
       "      <th class=\"blank col2\" >&nbsp;</th>\n",
       "      <th class=\"blank col3\" >&nbsp;</th>\n",
       "      <th class=\"blank col4\" >&nbsp;</th>\n",
       "      <th class=\"blank col5\" >&nbsp;</th>\n",
       "      <th class=\"blank col6\" >&nbsp;</th>\n",
       "    </tr>\n",
       "  </thead>\n",
       "  <tbody>\n",
       "    <tr>\n",
       "      <th id=\"T_69bb9_level0_row0\" class=\"row_heading level0 row0\" >0</th>\n",
       "      <td id=\"T_69bb9_row0_col0\" class=\"data row0 col0\" >0.6790</td>\n",
       "      <td id=\"T_69bb9_row0_col1\" class=\"data row0 col1\" >0.7157</td>\n",
       "      <td id=\"T_69bb9_row0_col2\" class=\"data row0 col2\" >0.7706</td>\n",
       "      <td id=\"T_69bb9_row0_col3\" class=\"data row0 col3\" >0.6513</td>\n",
       "      <td id=\"T_69bb9_row0_col4\" class=\"data row0 col4\" >0.7059</td>\n",
       "      <td id=\"T_69bb9_row0_col5\" class=\"data row0 col5\" >0.3581</td>\n",
       "      <td id=\"T_69bb9_row0_col6\" class=\"data row0 col6\" >0.3642</td>\n",
       "    </tr>\n",
       "    <tr>\n",
       "      <th id=\"T_69bb9_level0_row1\" class=\"row_heading level0 row1\" >1</th>\n",
       "      <td id=\"T_69bb9_row1_col0\" class=\"data row1 col0\" >0.6793</td>\n",
       "      <td id=\"T_69bb9_row1_col1\" class=\"data row1 col1\" >0.7173</td>\n",
       "      <td id=\"T_69bb9_row1_col2\" class=\"data row1 col2\" >0.7837</td>\n",
       "      <td id=\"T_69bb9_row1_col3\" class=\"data row1 col3\" >0.6483</td>\n",
       "      <td id=\"T_69bb9_row1_col4\" class=\"data row1 col4\" >0.7096</td>\n",
       "      <td id=\"T_69bb9_row1_col5\" class=\"data row1 col5\" >0.3586</td>\n",
       "      <td id=\"T_69bb9_row1_col6\" class=\"data row1 col6\" >0.3667</td>\n",
       "    </tr>\n",
       "    <tr>\n",
       "      <th id=\"T_69bb9_level0_row2\" class=\"row_heading level0 row2\" >2</th>\n",
       "      <td id=\"T_69bb9_row2_col0\" class=\"data row2 col0\" >0.6781</td>\n",
       "      <td id=\"T_69bb9_row2_col1\" class=\"data row2 col1\" >0.7167</td>\n",
       "      <td id=\"T_69bb9_row2_col2\" class=\"data row2 col2\" >0.7773</td>\n",
       "      <td id=\"T_69bb9_row2_col3\" class=\"data row2 col3\" >0.6486</td>\n",
       "      <td id=\"T_69bb9_row2_col4\" class=\"data row2 col4\" >0.7071</td>\n",
       "      <td id=\"T_69bb9_row2_col5\" class=\"data row2 col5\" >0.3561</td>\n",
       "      <td id=\"T_69bb9_row2_col6\" class=\"data row2 col6\" >0.3633</td>\n",
       "    </tr>\n",
       "    <tr>\n",
       "      <th id=\"T_69bb9_level0_row3\" class=\"row_heading level0 row3\" >3</th>\n",
       "      <td id=\"T_69bb9_row3_col0\" class=\"data row3 col0\" >0.6789</td>\n",
       "      <td id=\"T_69bb9_row3_col1\" class=\"data row3 col1\" >0.7169</td>\n",
       "      <td id=\"T_69bb9_row3_col2\" class=\"data row3 col2\" >0.7937</td>\n",
       "      <td id=\"T_69bb9_row3_col3\" class=\"data row3 col3\" >0.6455</td>\n",
       "      <td id=\"T_69bb9_row3_col4\" class=\"data row3 col4\" >0.7119</td>\n",
       "      <td id=\"T_69bb9_row3_col5\" class=\"data row3 col5\" >0.3578</td>\n",
       "      <td id=\"T_69bb9_row3_col6\" class=\"data row3 col6\" >0.3676</td>\n",
       "    </tr>\n",
       "    <tr>\n",
       "      <th id=\"T_69bb9_level0_row4\" class=\"row_heading level0 row4\" >4</th>\n",
       "      <td id=\"T_69bb9_row4_col0\" class=\"data row4 col0\" >0.6774</td>\n",
       "      <td id=\"T_69bb9_row4_col1\" class=\"data row4 col1\" >0.7159</td>\n",
       "      <td id=\"T_69bb9_row4_col2\" class=\"data row4 col2\" >0.7924</td>\n",
       "      <td id=\"T_69bb9_row4_col3\" class=\"data row4 col3\" >0.6443</td>\n",
       "      <td id=\"T_69bb9_row4_col4\" class=\"data row4 col4\" >0.7107</td>\n",
       "      <td id=\"T_69bb9_row4_col5\" class=\"data row4 col5\" >0.3549</td>\n",
       "      <td id=\"T_69bb9_row4_col6\" class=\"data row4 col6\" >0.3647</td>\n",
       "    </tr>\n",
       "    <tr>\n",
       "      <th id=\"T_69bb9_level0_row5\" class=\"row_heading level0 row5\" >5</th>\n",
       "      <td id=\"T_69bb9_row5_col0\" class=\"data row5 col0\" >0.6800</td>\n",
       "      <td id=\"T_69bb9_row5_col1\" class=\"data row5 col1\" >0.7183</td>\n",
       "      <td id=\"T_69bb9_row5_col2\" class=\"data row5 col2\" >0.7906</td>\n",
       "      <td id=\"T_69bb9_row5_col3\" class=\"data row5 col3\" >0.6474</td>\n",
       "      <td id=\"T_69bb9_row5_col4\" class=\"data row5 col4\" >0.7119</td>\n",
       "      <td id=\"T_69bb9_row5_col5\" class=\"data row5 col5\" >0.3601</td>\n",
       "      <td id=\"T_69bb9_row5_col6\" class=\"data row5 col6\" >0.3692</td>\n",
       "    </tr>\n",
       "    <tr>\n",
       "      <th id=\"T_69bb9_level0_row6\" class=\"row_heading level0 row6\" >6</th>\n",
       "      <td id=\"T_69bb9_row6_col0\" class=\"data row6 col0\" >0.6789</td>\n",
       "      <td id=\"T_69bb9_row6_col1\" class=\"data row6 col1\" >0.7167</td>\n",
       "      <td id=\"T_69bb9_row6_col2\" class=\"data row6 col2\" >0.7860</td>\n",
       "      <td id=\"T_69bb9_row6_col3\" class=\"data row6 col3\" >0.6474</td>\n",
       "      <td id=\"T_69bb9_row6_col4\" class=\"data row6 col4\" >0.7100</td>\n",
       "      <td id=\"T_69bb9_row6_col5\" class=\"data row6 col5\" >0.3579</td>\n",
       "      <td id=\"T_69bb9_row6_col6\" class=\"data row6 col6\" >0.3664</td>\n",
       "    </tr>\n",
       "    <tr>\n",
       "      <th id=\"T_69bb9_level0_row7\" class=\"row_heading level0 row7\" >7</th>\n",
       "      <td id=\"T_69bb9_row7_col0\" class=\"data row7 col0\" >0.6777</td>\n",
       "      <td id=\"T_69bb9_row7_col1\" class=\"data row7 col1\" >0.7162</td>\n",
       "      <td id=\"T_69bb9_row7_col2\" class=\"data row7 col2\" >0.7949</td>\n",
       "      <td id=\"T_69bb9_row7_col3\" class=\"data row7 col3\" >0.6440</td>\n",
       "      <td id=\"T_69bb9_row7_col4\" class=\"data row7 col4\" >0.7115</td>\n",
       "      <td id=\"T_69bb9_row7_col5\" class=\"data row7 col5\" >0.3555</td>\n",
       "      <td id=\"T_69bb9_row7_col6\" class=\"data row7 col6\" >0.3656</td>\n",
       "    </tr>\n",
       "    <tr>\n",
       "      <th id=\"T_69bb9_level0_row8\" class=\"row_heading level0 row8\" >8</th>\n",
       "      <td id=\"T_69bb9_row8_col0\" class=\"data row8 col0\" >0.6784</td>\n",
       "      <td id=\"T_69bb9_row8_col1\" class=\"data row8 col1\" >0.7155</td>\n",
       "      <td id=\"T_69bb9_row8_col2\" class=\"data row8 col2\" >0.7827</td>\n",
       "      <td id=\"T_69bb9_row8_col3\" class=\"data row8 col3\" >0.6476</td>\n",
       "      <td id=\"T_69bb9_row8_col4\" class=\"data row8 col4\" >0.7088</td>\n",
       "      <td id=\"T_69bb9_row8_col5\" class=\"data row8 col5\" >0.3568</td>\n",
       "      <td id=\"T_69bb9_row8_col6\" class=\"data row8 col6\" >0.3648</td>\n",
       "    </tr>\n",
       "    <tr>\n",
       "      <th id=\"T_69bb9_level0_row9\" class=\"row_heading level0 row9\" >9</th>\n",
       "      <td id=\"T_69bb9_row9_col0\" class=\"data row9 col0\" >0.6779</td>\n",
       "      <td id=\"T_69bb9_row9_col1\" class=\"data row9 col1\" >0.7161</td>\n",
       "      <td id=\"T_69bb9_row9_col2\" class=\"data row9 col2\" >0.7636</td>\n",
       "      <td id=\"T_69bb9_row9_col3\" class=\"data row9 col3\" >0.6518</td>\n",
       "      <td id=\"T_69bb9_row9_col4\" class=\"data row9 col4\" >0.7033</td>\n",
       "      <td id=\"T_69bb9_row9_col5\" class=\"data row9 col5\" >0.3557</td>\n",
       "      <td id=\"T_69bb9_row9_col6\" class=\"data row9 col6\" >0.3611</td>\n",
       "    </tr>\n",
       "    <tr>\n",
       "      <th id=\"T_69bb9_level0_row10\" class=\"row_heading level0 row10\" >Mean</th>\n",
       "      <td id=\"T_69bb9_row10_col0\" class=\"data row10 col0\" >0.6786</td>\n",
       "      <td id=\"T_69bb9_row10_col1\" class=\"data row10 col1\" >0.7165</td>\n",
       "      <td id=\"T_69bb9_row10_col2\" class=\"data row10 col2\" >0.7835</td>\n",
       "      <td id=\"T_69bb9_row10_col3\" class=\"data row10 col3\" >0.6476</td>\n",
       "      <td id=\"T_69bb9_row10_col4\" class=\"data row10 col4\" >0.7091</td>\n",
       "      <td id=\"T_69bb9_row10_col5\" class=\"data row10 col5\" >0.3571</td>\n",
       "      <td id=\"T_69bb9_row10_col6\" class=\"data row10 col6\" >0.3654</td>\n",
       "    </tr>\n",
       "    <tr>\n",
       "      <th id=\"T_69bb9_level0_row11\" class=\"row_heading level0 row11\" >Std</th>\n",
       "      <td id=\"T_69bb9_row11_col0\" class=\"data row11 col0\" >0.0008</td>\n",
       "      <td id=\"T_69bb9_row11_col1\" class=\"data row11 col1\" >0.0008</td>\n",
       "      <td id=\"T_69bb9_row11_col2\" class=\"data row11 col2\" >0.0098</td>\n",
       "      <td id=\"T_69bb9_row11_col3\" class=\"data row11 col3\" >0.0025</td>\n",
       "      <td id=\"T_69bb9_row11_col4\" class=\"data row11 col4\" >0.0027</td>\n",
       "      <td id=\"T_69bb9_row11_col5\" class=\"data row11 col5\" >0.0015</td>\n",
       "      <td id=\"T_69bb9_row11_col6\" class=\"data row11 col6\" >0.0022</td>\n",
       "    </tr>\n",
       "  </tbody>\n",
       "</table>\n"
      ],
      "text/plain": [
       "<pandas.io.formats.style.Styler at 0x7f3e0c246cb0>"
      ]
     },
     "metadata": {},
     "output_type": "display_data"
    },
    {
     "data": {
      "text/html": [],
      "text/plain": [
       "<IPython.core.display.HTML object>"
      ]
     },
     "metadata": {},
     "output_type": "display_data"
    },
    {
     "name": "stderr",
     "output_type": "stream",
     "text": [
      "wandb: Network error (ConnectTimeout), entering retry loop.\n"
     ]
    }
   ],
   "source": [
    "mlp = create_model('mlp')"
   ]
  },
  {
   "cell_type": "code",
   "execution_count": 65,
   "metadata": {},
   "outputs": [
    {
     "data": {
      "text/html": [],
      "text/plain": [
       "<IPython.core.display.HTML object>"
      ]
     },
     "metadata": {},
     "output_type": "display_data"
    },
    {
     "data": {
      "image/png": "[encoded data removed]",
      "text/plain": [
       "<Figure size 800x550 with 1 Axes>"
      ]
     },
     "metadata": {},
     "output_type": "display_data"
    }
   ],
   "source": [
    "plot_model(mlp, plot = 'confusion_matrix')"
   ]
  },
  {
   "cell_type": "code",
   "execution_count": 66,
   "metadata": {},
   "outputs": [
    {
     "data": {
      "text/html": [],
      "text/plain": [
       "<IPython.core.display.HTML object>"
      ]
     },
     "metadata": {},
     "output_type": "display_data"
    },
    {
     "data": {
      "image/png": "[encoded data removed]",
      "text/plain": [
       "<Figure size 800x550 with 1 Axes>"
      ]
     },
     "metadata": {},
     "output_type": "display_data"
    }
   ],
   "source": [
    "plot_model(mlp, plot = 'error')"
   ]
  },
  {
   "cell_type": "code",
   "execution_count": 67,
   "metadata": {},
   "outputs": [
    {
     "data": {
      "text/html": [],
      "text/plain": [
       "<IPython.core.display.HTML object>"
      ]
     },
     "metadata": {},
     "output_type": "display_data"
    },
    {
     "data": {
      "text/html": [
       "<div>\n",
       "<style scoped>\n",
       "    .dataframe tbody tr th:only-of-type {\n",
       "        vertical-align: middle;\n",
       "    }\n",
       "\n",
       "    .dataframe tbody tr th {\n",
       "        vertical-align: top;\n",
       "    }\n",
       "\n",
       "    .dataframe thead th {\n",
       "        text-align: right;\n",
       "    }\n",
       "</style>\n",
       "<table border=\"1\" class=\"dataframe\">\n",
       "  <thead>\n",
       "    <tr style=\"text-align: right;\">\n",
       "      <th></th>\n",
       "      <th>Parameters</th>\n",
       "    </tr>\n",
       "  </thead>\n",
       "  <tbody>\n",
       "    <tr>\n",
       "      <th>activation</th>\n",
       "      <td>relu</td>\n",
       "    </tr>\n",
       "    <tr>\n",
       "      <th>alpha</th>\n",
       "      <td>0.0001</td>\n",
       "    </tr>\n",
       "    <tr>\n",
       "      <th>batch_size</th>\n",
       "      <td>auto</td>\n",
       "    </tr>\n",
       "    <tr>\n",
       "      <th>beta_1</th>\n",
       "      <td>0.9</td>\n",
       "    </tr>\n",
       "    <tr>\n",
       "      <th>beta_2</th>\n",
       "      <td>0.999</td>\n",
       "    </tr>\n",
       "    <tr>\n",
       "      <th>early_stopping</th>\n",
       "      <td>False</td>\n",
       "    </tr>\n",
       "    <tr>\n",
       "      <th>epsilon</th>\n",
       "      <td>1e-08</td>\n",
       "    </tr>\n",
       "    <tr>\n",
       "      <th>hidden_layer_sizes</th>\n",
       "      <td>(100,)</td>\n",
       "    </tr>\n",
       "    <tr>\n",
       "      <th>learning_rate</th>\n",
       "      <td>constant</td>\n",
       "    </tr>\n",
       "    <tr>\n",
       "      <th>learning_rate_init</th>\n",
       "      <td>0.001</td>\n",
       "    </tr>\n",
       "    <tr>\n",
       "      <th>max_fun</th>\n",
       "      <td>15000</td>\n",
       "    </tr>\n",
       "    <tr>\n",
       "      <th>max_iter</th>\n",
       "      <td>500</td>\n",
       "    </tr>\n",
       "    <tr>\n",
       "      <th>momentum</th>\n",
       "      <td>0.9</td>\n",
       "    </tr>\n",
       "    <tr>\n",
       "      <th>n_iter_no_change</th>\n",
       "      <td>10</td>\n",
       "    </tr>\n",
       "    <tr>\n",
       "      <th>nesterovs_momentum</th>\n",
       "      <td>True</td>\n",
       "    </tr>\n",
       "    <tr>\n",
       "      <th>power_t</th>\n",
       "      <td>0.5</td>\n",
       "    </tr>\n",
       "    <tr>\n",
       "      <th>random_state</th>\n",
       "      <td>965</td>\n",
       "    </tr>\n",
       "    <tr>\n",
       "      <th>shuffle</th>\n",
       "      <td>True</td>\n",
       "    </tr>\n",
       "    <tr>\n",
       "      <th>solver</th>\n",
       "      <td>adam</td>\n",
       "    </tr>\n",
       "    <tr>\n",
       "      <th>tol</th>\n",
       "      <td>0.0001</td>\n",
       "    </tr>\n",
       "    <tr>\n",
       "      <th>validation_fraction</th>\n",
       "      <td>0.1</td>\n",
       "    </tr>\n",
       "    <tr>\n",
       "      <th>verbose</th>\n",
       "      <td>False</td>\n",
       "    </tr>\n",
       "    <tr>\n",
       "      <th>warm_start</th>\n",
       "      <td>False</td>\n",
       "    </tr>\n",
       "  </tbody>\n",
       "</table>\n",
       "</div>"
      ],
      "text/plain": [
       "                    Parameters\n",
       "activation                relu\n",
       "alpha                   0.0001\n",
       "batch_size                auto\n",
       "beta_1                     0.9\n",
       "beta_2                   0.999\n",
       "early_stopping           False\n",
       "epsilon                  1e-08\n",
       "hidden_layer_sizes      (100,)\n",
       "learning_rate         constant\n",
       "learning_rate_init       0.001\n",
       "max_fun                  15000\n",
       "max_iter                   500\n",
       "momentum                   0.9\n",
       "n_iter_no_change            10\n",
       "nesterovs_momentum        True\n",
       "power_t                    0.5\n",
       "random_state               965\n",
       "shuffle                   True\n",
       "solver                    adam\n",
       "tol                     0.0001\n",
       "validation_fraction        0.1\n",
       "verbose                  False\n",
       "warm_start               False"
      ]
     },
     "metadata": {},
     "output_type": "display_data"
    }
   ],
   "source": [
    "plot_model(mlp, plot = 'parameter')"
   ]
  },
  {
   "cell_type": "code",
   "execution_count": 68,
   "metadata": {
    "tags": []
   },
   "outputs": [
    {
     "name": "stdout",
     "output_type": "stream",
     "text": [
      "Transformation Pipeline and Model Successfully Saved\n"
     ]
    },
    {
     "data": {
      "text/plain": [
       "(Pipeline(memory=FastMemory(location=/tmp/joblib),\n",
       "          steps=[('numerical_imputer',\n",
       "                  TransformerWrapper(exclude=None,\n",
       "                                     include=['0', '1', '2', '3', '4', '5', '6',\n",
       "                                              '7', '8', '9', '10', '11', '12',\n",
       "                                              '13', '14', '15', '16', '17', '18',\n",
       "                                              '19', '20', '21', '22', '23', '24',\n",
       "                                              '25', '26', '27', '28', '29', ...],\n",
       "                                     transformer=SimpleImputer(add_indicator=False,\n",
       "                                                               copy=True,\n",
       "                                                               fill_value=None,\n",
       "                                                               keep_empty_feat...\n",
       "                                batch_size='auto', beta_1=0.9, beta_2=0.999,\n",
       "                                early_stopping=False, epsilon=1e-08,\n",
       "                                hidden_layer_sizes=(100,),\n",
       "                                learning_rate='constant',\n",
       "                                learning_rate_init=0.001, max_fun=15000,\n",
       "                                max_iter=500, momentum=0.9, n_iter_no_change=10,\n",
       "                                nesterovs_momentum=True, power_t=0.5,\n",
       "                                random_state=965, shuffle=True, solver='adam',\n",
       "                                tol=0.0001, validation_fraction=0.1,\n",
       "                                verbose=False, warm_start=False))],\n",
       "          verbose=False),\n",
       " 'models_classif/complex/binary_emb_val/mlp.pkl')"
      ]
     },
     "execution_count": 68,
     "metadata": {},
     "output_type": "execute_result"
    }
   ],
   "source": [
    "save_model(mlp, 'models_classif/complex/binary_emb_val/mlp')"
   ]
  }
 ],
 "metadata": {
  "kernelspec": {
   "display_name": "aled",
   "language": "python",
   "name": "aled"
  },
  "language_info": {
   "codemirror_mode": {
    "name": "ipython",
    "version": 3
   },
   "file_extension": ".py",
   "mimetype": "text/x-python",
   "name": "python",
   "nbconvert_exporter": "python",
   "pygments_lexer": "ipython3",
   "version": "3.10.9"
  },
  "vscode": {
   "interpreter": {
    "hash": "bad715aa2aaeb5e6c151df84b54974e4cb5c7f8696a7ce08edfdc275e59caf55"
   }
  }
 },
 "nbformat": 4,
 "nbformat_minor": 4
}
