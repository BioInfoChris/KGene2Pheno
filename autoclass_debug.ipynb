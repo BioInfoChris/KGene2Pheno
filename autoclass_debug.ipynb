{
 "cells": [
  {
   "cell_type": "code",
   "execution_count": 1,
   "metadata": {
    "tags": []
   },
   "outputs": [
    {
     "name": "stderr",
     "output_type": "stream",
     "text": [
      "\u001b[34m\u001b[1mwandb\u001b[0m: Currently logged in as: \u001b[33mantoine-toffano\u001b[0m (\u001b[33mmlb\u001b[0m). Use \u001b[1m`wandb login --relogin`\u001b[0m to force relogin\n"
     ]
    },
    {
     "data": {
      "text/html": [
       "Tracking run with wandb version 0.14.0"
      ],
      "text/plain": [
       "<IPython.core.display.HTML object>"
      ]
     },
     "metadata": {},
     "output_type": "display_data"
    },
    {
     "data": {
      "text/html": [
       "Run data is saved locally in <code>/home/antoine/gene_pheno_pred/wandb/run-20230331_172847-oqiytuq0</code>"
      ],
      "text/plain": [
       "<IPython.core.display.HTML object>"
      ]
     },
     "metadata": {},
     "output_type": "display_data"
    },
    {
     "data": {
      "text/html": [
       "Syncing run <strong><a href='https://wandb.ai/mlb/cigap-classif/runs/oqiytuq0' target=\"_blank\">super-deluge-2</a></strong> to <a href='https://wandb.ai/mlb/cigap-classif' target=\"_blank\">Weights & Biases</a> (<a href='https://wandb.me/run' target=\"_blank\">docs</a>)<br/>"
      ],
      "text/plain": [
       "<IPython.core.display.HTML object>"
      ]
     },
     "metadata": {},
     "output_type": "display_data"
    },
    {
     "data": {
      "text/html": [
       " View project at <a href='https://wandb.ai/mlb/cigap-classif' target=\"_blank\">https://wandb.ai/mlb/cigap-classif</a>"
      ],
      "text/plain": [
       "<IPython.core.display.HTML object>"
      ]
     },
     "metadata": {},
     "output_type": "display_data"
    },
    {
     "data": {
      "text/html": [
       " View run at <a href='https://wandb.ai/mlb/cigap-classif/runs/oqiytuq0' target=\"_blank\">https://wandb.ai/mlb/cigap-classif/runs/oqiytuq0</a>"
      ],
      "text/plain": [
       "<IPython.core.display.HTML object>"
      ]
     },
     "metadata": {},
     "output_type": "display_data"
    },
    {
     "data": {
      "text/html": [
       "<button onClick=\"this.nextSibling.style.display='block';this.style.display='none';\">Display W&B run</button><iframe src='https://wandb.ai/mlb/cigap-classif/runs/oqiytuq0?jupyter=true' style='border:none;width:100%;height:420px;display:none;'></iframe>"
      ],
      "text/plain": [
       "<wandb.sdk.wandb_run.Run at 0x7f5e19d08880>"
      ]
     },
     "execution_count": 1,
     "metadata": {},
     "output_type": "execute_result"
    }
   ],
   "source": [
    "from pycaret.classification import *\n",
    "import pandas as pd\n",
    "import os\n",
    "import wandb\n",
    "\n",
    "os.chdir('/home/antoine/gene_pheno_pred')\n",
    "os.environ[\"CUDA_VISIBLE_DEVICES\"]=\"1\"\n",
    "os.environ[\"WANDB_API_KEY\"]=\"4e5748d6c6f3917c78cdc38a516a1bac776faf58\"\n",
    "wandb.login()\n",
    "wandb.init(\n",
    "    project=\"cigap-classif\",\n",
    ")\n"
   ]
  },
  {
   "cell_type": "code",
   "execution_count": 2,
   "metadata": {},
   "outputs": [
    {
     "data": {
      "text/html": [
       "<div>\n",
       "<style scoped>\n",
       "    .dataframe tbody tr th:only-of-type {\n",
       "        vertical-align: middle;\n",
       "    }\n",
       "\n",
       "    .dataframe tbody tr th {\n",
       "        vertical-align: top;\n",
       "    }\n",
       "\n",
       "    .dataframe thead th {\n",
       "        text-align: right;\n",
       "    }\n",
       "</style>\n",
       "<table border=\"1\" class=\"dataframe\">\n",
       "  <thead>\n",
       "    <tr style=\"text-align: right;\">\n",
       "      <th></th>\n",
       "      <th>0</th>\n",
       "      <th>1</th>\n",
       "      <th>2</th>\n",
       "      <th>3</th>\n",
       "      <th>4</th>\n",
       "      <th>5</th>\n",
       "      <th>6</th>\n",
       "      <th>7</th>\n",
       "      <th>8</th>\n",
       "      <th>9</th>\n",
       "      <th>...</th>\n",
       "      <th>91</th>\n",
       "      <th>92</th>\n",
       "      <th>93</th>\n",
       "      <th>94</th>\n",
       "      <th>95</th>\n",
       "      <th>96</th>\n",
       "      <th>97</th>\n",
       "      <th>98</th>\n",
       "      <th>99</th>\n",
       "      <th>ground_truth</th>\n",
       "    </tr>\n",
       "  </thead>\n",
       "  <tbody>\n",
       "    <tr>\n",
       "      <th>0</th>\n",
       "      <td>0.000036</td>\n",
       "      <td>-0.005839</td>\n",
       "      <td>0.000036</td>\n",
       "      <td>-0.000036</td>\n",
       "      <td>-0.005839</td>\n",
       "      <td>0.000036</td>\n",
       "      <td>-0.000036</td>\n",
       "      <td>-0.000036</td>\n",
       "      <td>-0.000036</td>\n",
       "      <td>-0.000036</td>\n",
       "      <td>...</td>\n",
       "      <td>0.020859</td>\n",
       "      <td>-0.021720</td>\n",
       "      <td>-0.002635</td>\n",
       "      <td>-0.021803</td>\n",
       "      <td>-0.023519</td>\n",
       "      <td>0.019338</td>\n",
       "      <td>0.002390</td>\n",
       "      <td>-0.025528</td>\n",
       "      <td>-0.003180</td>\n",
       "      <td>http://www.semanticweb.org/needed-terms#001</td>\n",
       "    </tr>\n",
       "    <tr>\n",
       "      <th>1</th>\n",
       "      <td>-0.002563</td>\n",
       "      <td>0.004352</td>\n",
       "      <td>-0.000925</td>\n",
       "      <td>-0.002781</td>\n",
       "      <td>-0.003307</td>\n",
       "      <td>-0.006591</td>\n",
       "      <td>0.007723</td>\n",
       "      <td>0.000900</td>\n",
       "      <td>0.002940</td>\n",
       "      <td>-0.001755</td>\n",
       "      <td>...</td>\n",
       "      <td>-0.026561</td>\n",
       "      <td>-0.026467</td>\n",
       "      <td>0.011546</td>\n",
       "      <td>0.007113</td>\n",
       "      <td>0.029829</td>\n",
       "      <td>0.014343</td>\n",
       "      <td>-0.002327</td>\n",
       "      <td>0.024326</td>\n",
       "      <td>-0.010424</td>\n",
       "      <td>http://semanticscience.org/resource/SIO_001279</td>\n",
       "    </tr>\n",
       "    <tr>\n",
       "      <th>2</th>\n",
       "      <td>0.000291</td>\n",
       "      <td>0.000291</td>\n",
       "      <td>-0.003586</td>\n",
       "      <td>0.000291</td>\n",
       "      <td>0.003586</td>\n",
       "      <td>-0.003586</td>\n",
       "      <td>0.000291</td>\n",
       "      <td>-0.000291</td>\n",
       "      <td>0.003586</td>\n",
       "      <td>0.000291</td>\n",
       "      <td>...</td>\n",
       "      <td>0.002584</td>\n",
       "      <td>-0.002584</td>\n",
       "      <td>-0.002843</td>\n",
       "      <td>-0.002584</td>\n",
       "      <td>-0.002584</td>\n",
       "      <td>0.002584</td>\n",
       "      <td>0.002843</td>\n",
       "      <td>-0.002584</td>\n",
       "      <td>-0.002843</td>\n",
       "      <td>no_link_known</td>\n",
       "    </tr>\n",
       "    <tr>\n",
       "      <th>3</th>\n",
       "      <td>-0.001707</td>\n",
       "      <td>0.000702</td>\n",
       "      <td>-0.001692</td>\n",
       "      <td>-0.002502</td>\n",
       "      <td>0.000112</td>\n",
       "      <td>-0.004317</td>\n",
       "      <td>-0.000159</td>\n",
       "      <td>-0.000713</td>\n",
       "      <td>0.004310</td>\n",
       "      <td>0.002457</td>\n",
       "      <td>...</td>\n",
       "      <td>0.024196</td>\n",
       "      <td>-0.025993</td>\n",
       "      <td>-0.007683</td>\n",
       "      <td>-0.023339</td>\n",
       "      <td>-0.023716</td>\n",
       "      <td>0.022958</td>\n",
       "      <td>0.009925</td>\n",
       "      <td>-0.030913</td>\n",
       "      <td>-0.006875</td>\n",
       "      <td>http://www.semanticweb.org/needed-terms#001</td>\n",
       "    </tr>\n",
       "    <tr>\n",
       "      <th>4</th>\n",
       "      <td>0.002947</td>\n",
       "      <td>-0.002712</td>\n",
       "      <td>-0.003596</td>\n",
       "      <td>0.001877</td>\n",
       "      <td>0.003449</td>\n",
       "      <td>0.003197</td>\n",
       "      <td>-0.002988</td>\n",
       "      <td>0.004427</td>\n",
       "      <td>0.003860</td>\n",
       "      <td>0.002470</td>\n",
       "      <td>...</td>\n",
       "      <td>-0.037756</td>\n",
       "      <td>-0.021971</td>\n",
       "      <td>0.015067</td>\n",
       "      <td>-0.036230</td>\n",
       "      <td>0.034744</td>\n",
       "      <td>0.031243</td>\n",
       "      <td>0.053082</td>\n",
       "      <td>0.042770</td>\n",
       "      <td>0.049509</td>\n",
       "      <td>http://semanticscience.org/resource/SIO_001279</td>\n",
       "    </tr>\n",
       "    <tr>\n",
       "      <th>...</th>\n",
       "      <td>...</td>\n",
       "      <td>...</td>\n",
       "      <td>...</td>\n",
       "      <td>...</td>\n",
       "      <td>...</td>\n",
       "      <td>...</td>\n",
       "      <td>...</td>\n",
       "      <td>...</td>\n",
       "      <td>...</td>\n",
       "      <td>...</td>\n",
       "      <td>...</td>\n",
       "      <td>...</td>\n",
       "      <td>...</td>\n",
       "      <td>...</td>\n",
       "      <td>...</td>\n",
       "      <td>...</td>\n",
       "      <td>...</td>\n",
       "      <td>...</td>\n",
       "      <td>...</td>\n",
       "      <td>...</td>\n",
       "      <td>...</td>\n",
       "    </tr>\n",
       "    <tr>\n",
       "      <th>2364931</th>\n",
       "      <td>-0.001504</td>\n",
       "      <td>-0.001504</td>\n",
       "      <td>-0.001504</td>\n",
       "      <td>0.001504</td>\n",
       "      <td>-0.001504</td>\n",
       "      <td>-0.001504</td>\n",
       "      <td>0.001504</td>\n",
       "      <td>0.001504</td>\n",
       "      <td>0.001504</td>\n",
       "      <td>0.001504</td>\n",
       "      <td>...</td>\n",
       "      <td>0.016140</td>\n",
       "      <td>-0.025934</td>\n",
       "      <td>-0.008050</td>\n",
       "      <td>-0.023769</td>\n",
       "      <td>-0.021450</td>\n",
       "      <td>0.023729</td>\n",
       "      <td>0.008236</td>\n",
       "      <td>-0.023763</td>\n",
       "      <td>-0.008058</td>\n",
       "      <td>http://www.semanticweb.org/needed-terms#001</td>\n",
       "    </tr>\n",
       "    <tr>\n",
       "      <th>2364932</th>\n",
       "      <td>0.006778</td>\n",
       "      <td>0.001943</td>\n",
       "      <td>0.001943</td>\n",
       "      <td>0.010295</td>\n",
       "      <td>0.006778</td>\n",
       "      <td>-0.005460</td>\n",
       "      <td>-0.006778</td>\n",
       "      <td>-0.001943</td>\n",
       "      <td>0.010295</td>\n",
       "      <td>0.010295</td>\n",
       "      <td>...</td>\n",
       "      <td>-0.010916</td>\n",
       "      <td>0.015125</td>\n",
       "      <td>-0.016395</td>\n",
       "      <td>0.014115</td>\n",
       "      <td>0.011327</td>\n",
       "      <td>-0.010299</td>\n",
       "      <td>0.015740</td>\n",
       "      <td>0.014983</td>\n",
       "      <td>-0.004980</td>\n",
       "      <td>no_link_known</td>\n",
       "    </tr>\n",
       "    <tr>\n",
       "      <th>2364933</th>\n",
       "      <td>-0.003663</td>\n",
       "      <td>-0.007995</td>\n",
       "      <td>-0.002343</td>\n",
       "      <td>0.002343</td>\n",
       "      <td>-0.003663</td>\n",
       "      <td>0.001989</td>\n",
       "      <td>-0.001989</td>\n",
       "      <td>0.007995</td>\n",
       "      <td>0.002343</td>\n",
       "      <td>0.002343</td>\n",
       "      <td>...</td>\n",
       "      <td>-0.053474</td>\n",
       "      <td>0.018565</td>\n",
       "      <td>0.041466</td>\n",
       "      <td>-0.058139</td>\n",
       "      <td>0.033773</td>\n",
       "      <td>0.038972</td>\n",
       "      <td>0.043669</td>\n",
       "      <td>-0.018444</td>\n",
       "      <td>0.033126</td>\n",
       "      <td>no_link_known</td>\n",
       "    </tr>\n",
       "    <tr>\n",
       "      <th>2364934</th>\n",
       "      <td>-0.010859</td>\n",
       "      <td>-0.007195</td>\n",
       "      <td>-0.002744</td>\n",
       "      <td>-0.005639</td>\n",
       "      <td>-0.009460</td>\n",
       "      <td>0.000825</td>\n",
       "      <td>-0.002338</td>\n",
       "      <td>0.005121</td>\n",
       "      <td>0.000990</td>\n",
       "      <td>-0.002317</td>\n",
       "      <td>...</td>\n",
       "      <td>0.013257</td>\n",
       "      <td>-0.010965</td>\n",
       "      <td>-0.013171</td>\n",
       "      <td>-0.013267</td>\n",
       "      <td>-0.013147</td>\n",
       "      <td>0.013259</td>\n",
       "      <td>0.013239</td>\n",
       "      <td>-0.013260</td>\n",
       "      <td>-0.011003</td>\n",
       "      <td>http://www.semanticweb.org/needed-terms#001</td>\n",
       "    </tr>\n",
       "    <tr>\n",
       "      <th>2364935</th>\n",
       "      <td>0.000489</td>\n",
       "      <td>0.000489</td>\n",
       "      <td>-0.003694</td>\n",
       "      <td>0.003694</td>\n",
       "      <td>0.000489</td>\n",
       "      <td>-0.003694</td>\n",
       "      <td>0.003694</td>\n",
       "      <td>-0.000489</td>\n",
       "      <td>0.003694</td>\n",
       "      <td>0.003694</td>\n",
       "      <td>...</td>\n",
       "      <td>-0.041944</td>\n",
       "      <td>-0.002050</td>\n",
       "      <td>0.012609</td>\n",
       "      <td>-0.040336</td>\n",
       "      <td>0.039937</td>\n",
       "      <td>0.032012</td>\n",
       "      <td>0.057615</td>\n",
       "      <td>0.044093</td>\n",
       "      <td>0.053186</td>\n",
       "      <td>http://semanticscience.org/resource/SIO_000281</td>\n",
       "    </tr>\n",
       "  </tbody>\n",
       "</table>\n",
       "<p>2364936 rows × 101 columns</p>\n",
       "</div>"
      ],
      "text/plain": [
       "                0         1         2         3         4         5         6  \\\n",
       "0        0.000036 -0.005839  0.000036 -0.000036 -0.005839  0.000036 -0.000036   \n",
       "1       -0.002563  0.004352 -0.000925 -0.002781 -0.003307 -0.006591  0.007723   \n",
       "2        0.000291  0.000291 -0.003586  0.000291  0.003586 -0.003586  0.000291   \n",
       "3       -0.001707  0.000702 -0.001692 -0.002502  0.000112 -0.004317 -0.000159   \n",
       "4        0.002947 -0.002712 -0.003596  0.001877  0.003449  0.003197 -0.002988   \n",
       "...           ...       ...       ...       ...       ...       ...       ...   \n",
       "2364931 -0.001504 -0.001504 -0.001504  0.001504 -0.001504 -0.001504  0.001504   \n",
       "2364932  0.006778  0.001943  0.001943  0.010295  0.006778 -0.005460 -0.006778   \n",
       "2364933 -0.003663 -0.007995 -0.002343  0.002343 -0.003663  0.001989 -0.001989   \n",
       "2364934 -0.010859 -0.007195 -0.002744 -0.005639 -0.009460  0.000825 -0.002338   \n",
       "2364935  0.000489  0.000489 -0.003694  0.003694  0.000489 -0.003694  0.003694   \n",
       "\n",
       "                7         8         9  ...        91        92        93  \\\n",
       "0       -0.000036 -0.000036 -0.000036  ...  0.020859 -0.021720 -0.002635   \n",
       "1        0.000900  0.002940 -0.001755  ... -0.026561 -0.026467  0.011546   \n",
       "2       -0.000291  0.003586  0.000291  ...  0.002584 -0.002584 -0.002843   \n",
       "3       -0.000713  0.004310  0.002457  ...  0.024196 -0.025993 -0.007683   \n",
       "4        0.004427  0.003860  0.002470  ... -0.037756 -0.021971  0.015067   \n",
       "...           ...       ...       ...  ...       ...       ...       ...   \n",
       "2364931  0.001504  0.001504  0.001504  ...  0.016140 -0.025934 -0.008050   \n",
       "2364932 -0.001943  0.010295  0.010295  ... -0.010916  0.015125 -0.016395   \n",
       "2364933  0.007995  0.002343  0.002343  ... -0.053474  0.018565  0.041466   \n",
       "2364934  0.005121  0.000990 -0.002317  ...  0.013257 -0.010965 -0.013171   \n",
       "2364935 -0.000489  0.003694  0.003694  ... -0.041944 -0.002050  0.012609   \n",
       "\n",
       "               94        95        96        97        98        99  \\\n",
       "0       -0.021803 -0.023519  0.019338  0.002390 -0.025528 -0.003180   \n",
       "1        0.007113  0.029829  0.014343 -0.002327  0.024326 -0.010424   \n",
       "2       -0.002584 -0.002584  0.002584  0.002843 -0.002584 -0.002843   \n",
       "3       -0.023339 -0.023716  0.022958  0.009925 -0.030913 -0.006875   \n",
       "4       -0.036230  0.034744  0.031243  0.053082  0.042770  0.049509   \n",
       "...           ...       ...       ...       ...       ...       ...   \n",
       "2364931 -0.023769 -0.021450  0.023729  0.008236 -0.023763 -0.008058   \n",
       "2364932  0.014115  0.011327 -0.010299  0.015740  0.014983 -0.004980   \n",
       "2364933 -0.058139  0.033773  0.038972  0.043669 -0.018444  0.033126   \n",
       "2364934 -0.013267 -0.013147  0.013259  0.013239 -0.013260 -0.011003   \n",
       "2364935 -0.040336  0.039937  0.032012  0.057615  0.044093  0.053186   \n",
       "\n",
       "                                           ground_truth  \n",
       "0           http://www.semanticweb.org/needed-terms#001  \n",
       "1        http://semanticscience.org/resource/SIO_001279  \n",
       "2                                         no_link_known  \n",
       "3           http://www.semanticweb.org/needed-terms#001  \n",
       "4        http://semanticscience.org/resource/SIO_001279  \n",
       "...                                                 ...  \n",
       "2364931     http://www.semanticweb.org/needed-terms#001  \n",
       "2364932                                   no_link_known  \n",
       "2364933                                   no_link_known  \n",
       "2364934     http://www.semanticweb.org/needed-terms#001  \n",
       "2364935  http://semanticscience.org/resource/SIO_000281  \n",
       "\n",
       "[2364936 rows x 101 columns]"
      ]
     },
     "execution_count": 2,
     "metadata": {},
     "output_type": "execute_result"
    }
   ],
   "source": [
    "train = pd.read_csv('/home/antoine/gene_pheno_pred/TorusE_2023-03-31_14-41-37_train.csv' , header=0)\n",
    "#train = train.drop(index=train.index[25:])\n",
    "# identify the unique values in the 'ground_truth' column\n",
    "unique_ids = train['ground_truth'].value_counts()[train['ground_truth'].value_counts() == 1].index\n",
    "\n",
    "# filter out the rows with unique 'ground_truth' values\n",
    "train = train[~train['ground_truth'].isin(unique_ids)]\n",
    "train"
   ]
  },
  {
   "cell_type": "code",
   "execution_count": 3,
   "metadata": {},
   "outputs": [
    {
     "name": "stderr",
     "output_type": "stream",
     "text": [
      "[LightGBM] [Fatal] GPU Tree Learner was not enabled in this build.\n",
      "Please recompile with CMake option -DUSE_GPU=1\n",
      "[LightGBM] [Fatal] CUDA Tree Learner was not enabled in this build.\n",
      "Please recompile with CMake option -DUSE_CUDA=1\n",
      "[LightGBM] [Fatal] GPU Tree Learner was not enabled in this build.\n",
      "Please recompile with CMake option -DUSE_GPU=1\n",
      "[LightGBM] [Fatal] CUDA Tree Learner was not enabled in this build.\n",
      "Please recompile with CMake option -DUSE_CUDA=1\n",
      "[LightGBM] [Fatal] GPU Tree Learner was not enabled in this build.\n",
      "Please recompile with CMake option -DUSE_GPU=1\n",
      "[LightGBM] [Fatal] CUDA Tree Learner was not enabled in this build.\n",
      "Please recompile with CMake option -DUSE_CUDA=1\n",
      "[LightGBM] [Fatal] GPU Tree Learner was not enabled in this build.\n",
      "Please recompile with CMake option -DUSE_GPU=1\n",
      "[LightGBM] [Fatal] CUDA Tree Learner was not enabled in this build.\n",
      "Please recompile with CMake option -DUSE_CUDA=1\n",
      "[LightGBM] [Fatal] GPU Tree Learner was not enabled in this build.\n",
      "Please recompile with CMake option -DUSE_GPU=1\n",
      "[LightGBM] [Fatal] CUDA Tree Learner was not enabled in this build.\n",
      "Please recompile with CMake option -DUSE_CUDA=1\n",
      "[LightGBM] [Fatal] GPU Tree Learner was not enabled in this build.\n",
      "Please recompile with CMake option -DUSE_GPU=1\n",
      "[LightGBM] [Fatal] CUDA Tree Learner was not enabled in this build.\n",
      "Please recompile with CMake option -DUSE_CUDA=1\n"
     ]
    },
    {
     "data": {
      "text/html": [
       "<style type=\"text/css\">\n",
       "#T_ec157_row9_col1, #T_ec157_row16_col1 {\n",
       "  background-color: lightgreen;\n",
       "}\n",
       "</style>\n",
       "<table id=\"T_ec157\">\n",
       "  <thead>\n",
       "    <tr>\n",
       "      <th class=\"blank level0\" >&nbsp;</th>\n",
       "      <th id=\"T_ec157_level0_col0\" class=\"col_heading level0 col0\" >Description</th>\n",
       "      <th id=\"T_ec157_level0_col1\" class=\"col_heading level0 col1\" >Value</th>\n",
       "    </tr>\n",
       "  </thead>\n",
       "  <tbody>\n",
       "    <tr>\n",
       "      <th id=\"T_ec157_level0_row0\" class=\"row_heading level0 row0\" >0</th>\n",
       "      <td id=\"T_ec157_row0_col0\" class=\"data row0 col0\" >Session id</td>\n",
       "      <td id=\"T_ec157_row0_col1\" class=\"data row0 col1\" >123</td>\n",
       "    </tr>\n",
       "    <tr>\n",
       "      <th id=\"T_ec157_level0_row1\" class=\"row_heading level0 row1\" >1</th>\n",
       "      <td id=\"T_ec157_row1_col0\" class=\"data row1 col0\" >Target</td>\n",
       "      <td id=\"T_ec157_row1_col1\" class=\"data row1 col1\" >ground_truth</td>\n",
       "    </tr>\n",
       "    <tr>\n",
       "      <th id=\"T_ec157_level0_row2\" class=\"row_heading level0 row2\" >2</th>\n",
       "      <td id=\"T_ec157_row2_col0\" class=\"data row2 col0\" >Target type</td>\n",
       "      <td id=\"T_ec157_row2_col1\" class=\"data row2 col1\" >Multiclass</td>\n",
       "    </tr>\n",
       "    <tr>\n",
       "      <th id=\"T_ec157_level0_row3\" class=\"row_heading level0 row3\" >3</th>\n",
       "      <td id=\"T_ec157_row3_col0\" class=\"data row3 col0\" >Target mapping</td>\n",
       "      <td id=\"T_ec157_row3_col1\" class=\"data row3 col1\" >http://semanticscience.org/resource/SIO_000281: 0, http://semanticscience.org/resource/SIO_000628: 1, http://semanticscience.org/resource/SIO_001279: 2, http://www.semanticweb.org/needed-terms#001: 3, http://www.semanticweb.org/needed-terms#002: 4, http://www.semanticweb.org/needed-terms#004: 5, http://www.semanticweb.org/needed-terms#009: 6, http://www.w3.org/1999/02/22-rdf-syntax-ns#label: 7, http://www.w3.org/1999/02/22-rdf-syntax-ns#type: 8, http://www.w3.org/2000/01/rdf-schema#subClassOf: 9, no_link_known: 10</td>\n",
       "    </tr>\n",
       "    <tr>\n",
       "      <th id=\"T_ec157_level0_row4\" class=\"row_heading level0 row4\" >4</th>\n",
       "      <td id=\"T_ec157_row4_col0\" class=\"data row4 col0\" >Original data shape</td>\n",
       "      <td id=\"T_ec157_row4_col1\" class=\"data row4 col1\" >(2364936, 101)</td>\n",
       "    </tr>\n",
       "    <tr>\n",
       "      <th id=\"T_ec157_level0_row5\" class=\"row_heading level0 row5\" >5</th>\n",
       "      <td id=\"T_ec157_row5_col0\" class=\"data row5 col0\" >Transformed data shape</td>\n",
       "      <td id=\"T_ec157_row5_col1\" class=\"data row5 col1\" >(2364936, 101)</td>\n",
       "    </tr>\n",
       "    <tr>\n",
       "      <th id=\"T_ec157_level0_row6\" class=\"row_heading level0 row6\" >6</th>\n",
       "      <td id=\"T_ec157_row6_col0\" class=\"data row6 col0\" >Transformed train set shape</td>\n",
       "      <td id=\"T_ec157_row6_col1\" class=\"data row6 col1\" >(1655455, 101)</td>\n",
       "    </tr>\n",
       "    <tr>\n",
       "      <th id=\"T_ec157_level0_row7\" class=\"row_heading level0 row7\" >7</th>\n",
       "      <td id=\"T_ec157_row7_col0\" class=\"data row7 col0\" >Transformed test set shape</td>\n",
       "      <td id=\"T_ec157_row7_col1\" class=\"data row7 col1\" >(709481, 101)</td>\n",
       "    </tr>\n",
       "    <tr>\n",
       "      <th id=\"T_ec157_level0_row8\" class=\"row_heading level0 row8\" >8</th>\n",
       "      <td id=\"T_ec157_row8_col0\" class=\"data row8 col0\" >Numeric features</td>\n",
       "      <td id=\"T_ec157_row8_col1\" class=\"data row8 col1\" >100</td>\n",
       "    </tr>\n",
       "    <tr>\n",
       "      <th id=\"T_ec157_level0_row9\" class=\"row_heading level0 row9\" >9</th>\n",
       "      <td id=\"T_ec157_row9_col0\" class=\"data row9 col0\" >Preprocess</td>\n",
       "      <td id=\"T_ec157_row9_col1\" class=\"data row9 col1\" >True</td>\n",
       "    </tr>\n",
       "    <tr>\n",
       "      <th id=\"T_ec157_level0_row10\" class=\"row_heading level0 row10\" >10</th>\n",
       "      <td id=\"T_ec157_row10_col0\" class=\"data row10 col0\" >Imputation type</td>\n",
       "      <td id=\"T_ec157_row10_col1\" class=\"data row10 col1\" >simple</td>\n",
       "    </tr>\n",
       "    <tr>\n",
       "      <th id=\"T_ec157_level0_row11\" class=\"row_heading level0 row11\" >11</th>\n",
       "      <td id=\"T_ec157_row11_col0\" class=\"data row11 col0\" >Numeric imputation</td>\n",
       "      <td id=\"T_ec157_row11_col1\" class=\"data row11 col1\" >mean</td>\n",
       "    </tr>\n",
       "    <tr>\n",
       "      <th id=\"T_ec157_level0_row12\" class=\"row_heading level0 row12\" >12</th>\n",
       "      <td id=\"T_ec157_row12_col0\" class=\"data row12 col0\" >Categorical imputation</td>\n",
       "      <td id=\"T_ec157_row12_col1\" class=\"data row12 col1\" >mode</td>\n",
       "    </tr>\n",
       "    <tr>\n",
       "      <th id=\"T_ec157_level0_row13\" class=\"row_heading level0 row13\" >13</th>\n",
       "      <td id=\"T_ec157_row13_col0\" class=\"data row13 col0\" >Fold Generator</td>\n",
       "      <td id=\"T_ec157_row13_col1\" class=\"data row13 col1\" >StratifiedKFold</td>\n",
       "    </tr>\n",
       "    <tr>\n",
       "      <th id=\"T_ec157_level0_row14\" class=\"row_heading level0 row14\" >14</th>\n",
       "      <td id=\"T_ec157_row14_col0\" class=\"data row14 col0\" >Fold Number</td>\n",
       "      <td id=\"T_ec157_row14_col1\" class=\"data row14 col1\" >10</td>\n",
       "    </tr>\n",
       "    <tr>\n",
       "      <th id=\"T_ec157_level0_row15\" class=\"row_heading level0 row15\" >15</th>\n",
       "      <td id=\"T_ec157_row15_col0\" class=\"data row15 col0\" >CPU Jobs</td>\n",
       "      <td id=\"T_ec157_row15_col1\" class=\"data row15 col1\" >-1</td>\n",
       "    </tr>\n",
       "    <tr>\n",
       "      <th id=\"T_ec157_level0_row16\" class=\"row_heading level0 row16\" >16</th>\n",
       "      <td id=\"T_ec157_row16_col0\" class=\"data row16 col0\" >Use GPU</td>\n",
       "      <td id=\"T_ec157_row16_col1\" class=\"data row16 col1\" >True</td>\n",
       "    </tr>\n",
       "    <tr>\n",
       "      <th id=\"T_ec157_level0_row17\" class=\"row_heading level0 row17\" >17</th>\n",
       "      <td id=\"T_ec157_row17_col0\" class=\"data row17 col0\" >Log Experiment</td>\n",
       "      <td id=\"T_ec157_row17_col1\" class=\"data row17 col1\" >WandbLogger</td>\n",
       "    </tr>\n",
       "    <tr>\n",
       "      <th id=\"T_ec157_level0_row18\" class=\"row_heading level0 row18\" >18</th>\n",
       "      <td id=\"T_ec157_row18_col0\" class=\"data row18 col0\" >Experiment Name</td>\n",
       "      <td id=\"T_ec157_row18_col1\" class=\"data row18 col1\" >clf-default-name</td>\n",
       "    </tr>\n",
       "    <tr>\n",
       "      <th id=\"T_ec157_level0_row19\" class=\"row_heading level0 row19\" >19</th>\n",
       "      <td id=\"T_ec157_row19_col0\" class=\"data row19 col0\" >USI</td>\n",
       "      <td id=\"T_ec157_row19_col1\" class=\"data row19 col1\" >9037</td>\n",
       "    </tr>\n",
       "  </tbody>\n",
       "</table>\n"
      ],
      "text/plain": [
       "<pandas.io.formats.style.Styler at 0x7f5e183ca020>"
      ]
     },
     "metadata": {},
     "output_type": "display_data"
    },
    {
     "name": "stderr",
     "output_type": "stream",
     "text": [
      "[LightGBM] [Fatal] GPU Tree Learner was not enabled in this build.\n",
      "Please recompile with CMake option -DUSE_GPU=1\n",
      "[LightGBM] [Fatal] CUDA Tree Learner was not enabled in this build.\n",
      "Please recompile with CMake option -DUSE_CUDA=1\n",
      "[LightGBM] [Fatal] GPU Tree Learner was not enabled in this build.\n",
      "Please recompile with CMake option -DUSE_GPU=1\n",
      "[LightGBM] [Fatal] CUDA Tree Learner was not enabled in this build.\n",
      "Please recompile with CMake option -DUSE_CUDA=1\n"
     ]
    }
   ],
   "source": [
    "s = setup(train, target = 'ground_truth', session_id = 123, use_gpu = True, log_experiment='wandb')\n",
    "exp = ClassificationExperiment()"
   ]
  },
  {
   "cell_type": "code",
   "execution_count": null,
   "metadata": {},
   "outputs": [
    {
     "data": {
      "text/html": [
       "<div>\n",
       "<style scoped>\n",
       "    .dataframe tbody tr th:only-of-type {\n",
       "        vertical-align: middle;\n",
       "    }\n",
       "\n",
       "    .dataframe tbody tr th {\n",
       "        vertical-align: top;\n",
       "    }\n",
       "\n",
       "    .dataframe thead th {\n",
       "        text-align: right;\n",
       "    }\n",
       "</style>\n",
       "<table border=\"1\" class=\"dataframe\">\n",
       "  <thead>\n",
       "    <tr style=\"text-align: right;\">\n",
       "      <th></th>\n",
       "      <th></th>\n",
       "      <th></th>\n",
       "    </tr>\n",
       "    <tr>\n",
       "      <th></th>\n",
       "      <th></th>\n",
       "      <th></th>\n",
       "    </tr>\n",
       "  </thead>\n",
       "  <tbody>\n",
       "    <tr>\n",
       "      <th>Initiated</th>\n",
       "      <td>. . . . . . . . . . . . . . . . . .</td>\n",
       "      <td>17:31:43</td>\n",
       "    </tr>\n",
       "    <tr>\n",
       "      <th>Status</th>\n",
       "      <td>. . . . . . . . . . . . . . . . . .</td>\n",
       "      <td>Fitting 10 Folds</td>\n",
       "    </tr>\n",
       "    <tr>\n",
       "      <th>Estimator</th>\n",
       "      <td>. . . . . . . . . . . . . . . . . .</td>\n",
       "      <td>Gradient Boosting Classifier</td>\n",
       "    </tr>\n",
       "  </tbody>\n",
       "</table>\n",
       "</div>"
      ],
      "text/plain": [
       "                                                                            \n",
       "                                                                            \n",
       "Initiated  . . . . . . . . . . . . . . . . . .                      17:31:43\n",
       "Status     . . . . . . . . . . . . . . . . . .              Fitting 10 Folds\n",
       "Estimator  . . . . . . . . . . . . . . . . . .  Gradient Boosting Classifier"
      ]
     },
     "metadata": {},
     "output_type": "display_data"
    },
    {
     "data": {
      "text/html": [
       "<style type=\"text/css\">\n",
       "#T_0849c th {\n",
       "  text-align: left;\n",
       "}\n",
       "#T_0849c_row0_col0, #T_0849c_row0_col1, #T_0849c_row0_col2, #T_0849c_row0_col3, #T_0849c_row0_col4, #T_0849c_row0_col5, #T_0849c_row0_col6, #T_0849c_row0_col7, #T_0849c_row0_col8, #T_0849c_row1_col0, #T_0849c_row1_col1, #T_0849c_row1_col2, #T_0849c_row1_col3, #T_0849c_row1_col4, #T_0849c_row1_col5, #T_0849c_row1_col6, #T_0849c_row1_col7, #T_0849c_row1_col8, #T_0849c_row2_col0, #T_0849c_row2_col1, #T_0849c_row2_col2, #T_0849c_row2_col3, #T_0849c_row2_col4, #T_0849c_row2_col5, #T_0849c_row2_col6, #T_0849c_row2_col7, #T_0849c_row2_col8, #T_0849c_row3_col0, #T_0849c_row3_col1, #T_0849c_row3_col2, #T_0849c_row3_col3, #T_0849c_row3_col4, #T_0849c_row3_col5, #T_0849c_row3_col6, #T_0849c_row3_col7, #T_0849c_row3_col8, #T_0849c_row4_col0, #T_0849c_row4_col1, #T_0849c_row4_col2, #T_0849c_row4_col3, #T_0849c_row4_col4, #T_0849c_row4_col5, #T_0849c_row4_col6, #T_0849c_row4_col7, #T_0849c_row4_col8, #T_0849c_row5_col0, #T_0849c_row5_col1, #T_0849c_row5_col2, #T_0849c_row5_col3, #T_0849c_row5_col4, #T_0849c_row5_col5, #T_0849c_row5_col6, #T_0849c_row5_col7, #T_0849c_row5_col8, #T_0849c_row6_col0, #T_0849c_row6_col1, #T_0849c_row6_col2, #T_0849c_row6_col3, #T_0849c_row6_col4, #T_0849c_row6_col5, #T_0849c_row6_col6, #T_0849c_row6_col7, #T_0849c_row6_col8, #T_0849c_row7_col0, #T_0849c_row7_col1, #T_0849c_row7_col2, #T_0849c_row7_col3, #T_0849c_row7_col4, #T_0849c_row7_col5, #T_0849c_row7_col6, #T_0849c_row7_col7, #T_0849c_row7_col8, #T_0849c_row8_col0, #T_0849c_row8_col1, #T_0849c_row8_col2, #T_0849c_row8_col3, #T_0849c_row8_col4, #T_0849c_row8_col5, #T_0849c_row8_col6, #T_0849c_row8_col7, #T_0849c_row8_col8 {\n",
       "  text-align: left;\n",
       "}\n",
       "</style>\n",
       "<table id=\"T_0849c\">\n",
       "  <thead>\n",
       "    <tr>\n",
       "      <th class=\"blank level0\" >&nbsp;</th>\n",
       "      <th id=\"T_0849c_level0_col0\" class=\"col_heading level0 col0\" >Model</th>\n",
       "      <th id=\"T_0849c_level0_col1\" class=\"col_heading level0 col1\" >Accuracy</th>\n",
       "      <th id=\"T_0849c_level0_col2\" class=\"col_heading level0 col2\" >AUC</th>\n",
       "      <th id=\"T_0849c_level0_col3\" class=\"col_heading level0 col3\" >Recall</th>\n",
       "      <th id=\"T_0849c_level0_col4\" class=\"col_heading level0 col4\" >Prec.</th>\n",
       "      <th id=\"T_0849c_level0_col5\" class=\"col_heading level0 col5\" >F1</th>\n",
       "      <th id=\"T_0849c_level0_col6\" class=\"col_heading level0 col6\" >Kappa</th>\n",
       "      <th id=\"T_0849c_level0_col7\" class=\"col_heading level0 col7\" >MCC</th>\n",
       "      <th id=\"T_0849c_level0_col8\" class=\"col_heading level0 col8\" >TT (Sec)</th>\n",
       "    </tr>\n",
       "  </thead>\n",
       "  <tbody>\n",
       "    <tr>\n",
       "      <th id=\"T_0849c_level0_row0\" class=\"row_heading level0 row0\" >rf</th>\n",
       "      <td id=\"T_0849c_row0_col0\" class=\"data row0 col0\" >Random Forest Classifier</td>\n",
       "      <td id=\"T_0849c_row0_col1\" class=\"data row0 col1\" >0.9521</td>\n",
       "      <td id=\"T_0849c_row0_col2\" class=\"data row0 col2\" >0.9909</td>\n",
       "      <td id=\"T_0849c_row0_col3\" class=\"data row0 col3\" >0.9521</td>\n",
       "      <td id=\"T_0849c_row0_col4\" class=\"data row0 col4\" >0.9538</td>\n",
       "      <td id=\"T_0849c_row0_col5\" class=\"data row0 col5\" >0.9522</td>\n",
       "      <td id=\"T_0849c_row0_col6\" class=\"data row0 col6\" >0.9307</td>\n",
       "      <td id=\"T_0849c_row0_col7\" class=\"data row0 col7\" >0.9315</td>\n",
       "      <td id=\"T_0849c_row0_col8\" class=\"data row0 col8\" >287.3980</td>\n",
       "    </tr>\n",
       "    <tr>\n",
       "      <th id=\"T_0849c_level0_row1\" class=\"row_heading level0 row1\" >knn</th>\n",
       "      <td id=\"T_0849c_row1_col0\" class=\"data row1 col0\" >K Neighbors Classifier</td>\n",
       "      <td id=\"T_0849c_row1_col1\" class=\"data row1 col1\" >0.9488</td>\n",
       "      <td id=\"T_0849c_row1_col2\" class=\"data row1 col2\" >0.9826</td>\n",
       "      <td id=\"T_0849c_row1_col3\" class=\"data row1 col3\" >0.9488</td>\n",
       "      <td id=\"T_0849c_row1_col4\" class=\"data row1 col4\" >0.9502</td>\n",
       "      <td id=\"T_0849c_row1_col5\" class=\"data row1 col5\" >0.9486</td>\n",
       "      <td id=\"T_0849c_row1_col6\" class=\"data row1 col6\" >0.9259</td>\n",
       "      <td id=\"T_0849c_row1_col7\" class=\"data row1 col7\" >0.9266</td>\n",
       "      <td id=\"T_0849c_row1_col8\" class=\"data row1 col8\" >452.6960</td>\n",
       "    </tr>\n",
       "    <tr>\n",
       "      <th id=\"T_0849c_level0_row2\" class=\"row_heading level0 row2\" >lr</th>\n",
       "      <td id=\"T_0849c_row2_col0\" class=\"data row2 col0\" >Logistic Regression</td>\n",
       "      <td id=\"T_0849c_row2_col1\" class=\"data row2 col1\" >0.9384</td>\n",
       "      <td id=\"T_0849c_row2_col2\" class=\"data row2 col2\" >0.9880</td>\n",
       "      <td id=\"T_0849c_row2_col3\" class=\"data row2 col3\" >0.9384</td>\n",
       "      <td id=\"T_0849c_row2_col4\" class=\"data row2 col4\" >0.9390</td>\n",
       "      <td id=\"T_0849c_row2_col5\" class=\"data row2 col5\" >0.9383</td>\n",
       "      <td id=\"T_0849c_row2_col6\" class=\"data row2 col6\" >0.9105</td>\n",
       "      <td id=\"T_0849c_row2_col7\" class=\"data row2 col7\" >0.9108</td>\n",
       "      <td id=\"T_0849c_row2_col8\" class=\"data row2 col8\" >2403.7600</td>\n",
       "    </tr>\n",
       "    <tr>\n",
       "      <th id=\"T_0849c_level0_row3\" class=\"row_heading level0 row3\" >nb</th>\n",
       "      <td id=\"T_0849c_row3_col0\" class=\"data row3 col0\" >Naive Bayes</td>\n",
       "      <td id=\"T_0849c_row3_col1\" class=\"data row3 col1\" >0.9226</td>\n",
       "      <td id=\"T_0849c_row3_col2\" class=\"data row3 col2\" >0.9838</td>\n",
       "      <td id=\"T_0849c_row3_col3\" class=\"data row3 col3\" >0.9226</td>\n",
       "      <td id=\"T_0849c_row3_col4\" class=\"data row3 col4\" >0.9317</td>\n",
       "      <td id=\"T_0849c_row3_col5\" class=\"data row3 col5\" >0.9243</td>\n",
       "      <td id=\"T_0849c_row3_col6\" class=\"data row3 col6\" >0.8898</td>\n",
       "      <td id=\"T_0849c_row3_col7\" class=\"data row3 col7\" >0.8918</td>\n",
       "      <td id=\"T_0849c_row3_col8\" class=\"data row3 col8\" >22.7490</td>\n",
       "    </tr>\n",
       "    <tr>\n",
       "      <th id=\"T_0849c_level0_row4\" class=\"row_heading level0 row4\" >ridge</th>\n",
       "      <td id=\"T_0849c_row4_col0\" class=\"data row4 col0\" >Ridge Classifier</td>\n",
       "      <td id=\"T_0849c_row4_col1\" class=\"data row4 col1\" >0.9197</td>\n",
       "      <td id=\"T_0849c_row4_col2\" class=\"data row4 col2\" >0.0000</td>\n",
       "      <td id=\"T_0849c_row4_col3\" class=\"data row4 col3\" >0.9197</td>\n",
       "      <td id=\"T_0849c_row4_col4\" class=\"data row4 col4\" >0.9200</td>\n",
       "      <td id=\"T_0849c_row4_col5\" class=\"data row4 col5\" >0.9138</td>\n",
       "      <td id=\"T_0849c_row4_col6\" class=\"data row4 col6\" >0.8826</td>\n",
       "      <td id=\"T_0849c_row4_col7\" class=\"data row4 col7\" >0.8830</td>\n",
       "      <td id=\"T_0849c_row4_col8\" class=\"data row4 col8\" >17.6560</td>\n",
       "    </tr>\n",
       "    <tr>\n",
       "      <th id=\"T_0849c_level0_row5\" class=\"row_heading level0 row5\" >dt</th>\n",
       "      <td id=\"T_0849c_row5_col0\" class=\"data row5 col0\" >Decision Tree Classifier</td>\n",
       "      <td id=\"T_0849c_row5_col1\" class=\"data row5 col1\" >0.9176</td>\n",
       "      <td id=\"T_0849c_row5_col2\" class=\"data row5 col2\" >0.9388</td>\n",
       "      <td id=\"T_0849c_row5_col3\" class=\"data row5 col3\" >0.9176</td>\n",
       "      <td id=\"T_0849c_row5_col4\" class=\"data row5 col4\" >0.9175</td>\n",
       "      <td id=\"T_0849c_row5_col5\" class=\"data row5 col5\" >0.9175</td>\n",
       "      <td id=\"T_0849c_row5_col6\" class=\"data row5 col6\" >0.8792</td>\n",
       "      <td id=\"T_0849c_row5_col7\" class=\"data row5 col7\" >0.8792</td>\n",
       "      <td id=\"T_0849c_row5_col8\" class=\"data row5 col8\" >855.6210</td>\n",
       "    </tr>\n",
       "    <tr>\n",
       "      <th id=\"T_0849c_level0_row6\" class=\"row_heading level0 row6\" >svm</th>\n",
       "      <td id=\"T_0849c_row6_col0\" class=\"data row6 col0\" >SVM - Linear Kernel</td>\n",
       "      <td id=\"T_0849c_row6_col1\" class=\"data row6 col1\" >0.9012</td>\n",
       "      <td id=\"T_0849c_row6_col2\" class=\"data row6 col2\" >0.0000</td>\n",
       "      <td id=\"T_0849c_row6_col3\" class=\"data row6 col3\" >0.9012</td>\n",
       "      <td id=\"T_0849c_row6_col4\" class=\"data row6 col4\" >0.8830</td>\n",
       "      <td id=\"T_0849c_row6_col5\" class=\"data row6 col5\" >0.8856</td>\n",
       "      <td id=\"T_0849c_row6_col6\" class=\"data row6 col6\" >0.8534</td>\n",
       "      <td id=\"T_0849c_row6_col7\" class=\"data row6 col7\" >0.8544</td>\n",
       "      <td id=\"T_0849c_row6_col8\" class=\"data row6 col8\" >24.2260</td>\n",
       "    </tr>\n",
       "    <tr>\n",
       "      <th id=\"T_0849c_level0_row7\" class=\"row_heading level0 row7\" >qda</th>\n",
       "      <td id=\"T_0849c_row7_col0\" class=\"data row7 col0\" >Quadratic Discriminant Analysis</td>\n",
       "      <td id=\"T_0849c_row7_col1\" class=\"data row7 col1\" >0.8798</td>\n",
       "      <td id=\"T_0849c_row7_col2\" class=\"data row7 col2\" >0.9349</td>\n",
       "      <td id=\"T_0849c_row7_col3\" class=\"data row7 col3\" >0.8798</td>\n",
       "      <td id=\"T_0849c_row7_col4\" class=\"data row7 col4\" >0.8531</td>\n",
       "      <td id=\"T_0849c_row7_col5\" class=\"data row7 col5\" >0.8653</td>\n",
       "      <td id=\"T_0849c_row7_col6\" class=\"data row7 col6\" >0.8240</td>\n",
       "      <td id=\"T_0849c_row7_col7\" class=\"data row7 col7\" >0.8246</td>\n",
       "      <td id=\"T_0849c_row7_col8\" class=\"data row7 col8\" >35.3970</td>\n",
       "    </tr>\n",
       "    <tr>\n",
       "      <th id=\"T_0849c_level0_row8\" class=\"row_heading level0 row8\" >ada</th>\n",
       "      <td id=\"T_0849c_row8_col0\" class=\"data row8 col0\" >Ada Boost Classifier</td>\n",
       "      <td id=\"T_0849c_row8_col1\" class=\"data row8 col1\" >0.7056</td>\n",
       "      <td id=\"T_0849c_row8_col2\" class=\"data row8 col2\" >0.7084</td>\n",
       "      <td id=\"T_0849c_row8_col3\" class=\"data row8 col3\" >0.7056</td>\n",
       "      <td id=\"T_0849c_row8_col4\" class=\"data row8 col4\" >0.6118</td>\n",
       "      <td id=\"T_0849c_row8_col5\" class=\"data row8 col5\" >0.6352</td>\n",
       "      <td id=\"T_0849c_row8_col6\" class=\"data row8 col6\" >0.5549</td>\n",
       "      <td id=\"T_0849c_row8_col7\" class=\"data row8 col7\" >0.5951</td>\n",
       "      <td id=\"T_0849c_row8_col8\" class=\"data row8 col8\" >1329.5490</td>\n",
       "    </tr>\n",
       "  </tbody>\n",
       "</table>\n"
      ],
      "text/plain": [
       "<pandas.io.formats.style.Styler at 0x7f5e1816c100>"
      ]
     },
     "metadata": {},
     "output_type": "display_data"
    },
    {
     "data": {
      "application/vnd.jupyter.widget-view+json": {
       "model_id": "c82c45b4ca9a4b548df086a2ef57386f",
       "version_major": 2,
       "version_minor": 0
      },
      "text/plain": [
       "Processing:   0%|          | 0/61 [00:00<?, ?it/s]"
      ]
     },
     "metadata": {},
     "output_type": "display_data"
    }
   ],
   "source": [
    "# compare baseline models\n",
    "best = compare_models()"
   ]
  },
  {
   "cell_type": "code",
   "execution_count": null,
   "metadata": {},
   "outputs": [],
   "source": [
    "plot_model(best, plot = 'pipeline')"
   ]
  },
  {
   "cell_type": "code",
   "execution_count": null,
   "metadata": {},
   "outputs": [],
   "source": [
    "plot_model(best, plot = 'auc')"
   ]
  },
  {
   "cell_type": "code",
   "execution_count": null,
   "metadata": {},
   "outputs": [],
   "source": [
    "plot_model(best, plot = 'threshold')"
   ]
  },
  {
   "cell_type": "code",
   "execution_count": null,
   "metadata": {},
   "outputs": [],
   "source": [
    "plot_model(best, plot = 'pr')"
   ]
  },
  {
   "cell_type": "code",
   "execution_count": null,
   "metadata": {},
   "outputs": [],
   "source": [
    "plot_model(best, plot = 'pr')"
   ]
  },
  {
   "cell_type": "code",
   "execution_count": null,
   "metadata": {},
   "outputs": [],
   "source": [
    "plot_model(best, plot = 'confusion_matrix')"
   ]
  },
  {
   "cell_type": "code",
   "execution_count": null,
   "metadata": {},
   "outputs": [],
   "source": [
    "plot_model(best, plot = 'error')"
   ]
  },
  {
   "cell_type": "code",
   "execution_count": null,
   "metadata": {},
   "outputs": [],
   "source": [
    "plot_model(best, plot = 'class_report')"
   ]
  },
  {
   "cell_type": "code",
   "execution_count": null,
   "metadata": {},
   "outputs": [],
   "source": [
    "plot_model(best, plot = 'boundary')"
   ]
  },
  {
   "cell_type": "code",
   "execution_count": null,
   "metadata": {},
   "outputs": [],
   "source": [
    "plot_model(best, plot = 'rfe')"
   ]
  },
  {
   "cell_type": "code",
   "execution_count": null,
   "metadata": {},
   "outputs": [],
   "source": [
    "plot_model(best, plot = 'learning')"
   ]
  },
  {
   "cell_type": "code",
   "execution_count": null,
   "metadata": {},
   "outputs": [],
   "source": [
    "plot_model(best, plot = 'manifold')"
   ]
  },
  {
   "cell_type": "code",
   "execution_count": null,
   "metadata": {},
   "outputs": [],
   "source": [
    "plot_model(best, plot = 'calibration')"
   ]
  },
  {
   "cell_type": "code",
   "execution_count": null,
   "metadata": {},
   "outputs": [],
   "source": [
    "plot_model(best, plot = 'vc')"
   ]
  },
  {
   "cell_type": "code",
   "execution_count": null,
   "metadata": {},
   "outputs": [],
   "source": [
    "plot_model(best, plot = 'dimension')"
   ]
  },
  {
   "cell_type": "code",
   "execution_count": null,
   "metadata": {},
   "outputs": [],
   "source": [
    "plot_model(best, plot = 'feature')"
   ]
  },
  {
   "cell_type": "code",
   "execution_count": null,
   "metadata": {},
   "outputs": [],
   "source": [
    "plot_model(best, plot = 'feature_all')"
   ]
  },
  {
   "cell_type": "code",
   "execution_count": null,
   "metadata": {},
   "outputs": [],
   "source": [
    "plot_model(best, plot = 'parameter')"
   ]
  },
  {
   "cell_type": "code",
   "execution_count": null,
   "metadata": {},
   "outputs": [],
   "source": [
    "plot_model(best, plot = 'lift')"
   ]
  },
  {
   "cell_type": "code",
   "execution_count": null,
   "metadata": {},
   "outputs": [],
   "source": [
    "plot_model(best, plot = 'gain')"
   ]
  },
  {
   "cell_type": "code",
   "execution_count": null,
   "metadata": {},
   "outputs": [],
   "source": [
    "plot_model(best, plot = 'tree')"
   ]
  },
  {
   "cell_type": "code",
   "execution_count": null,
   "metadata": {},
   "outputs": [],
   "source": [
    "plot_model(best, plot = 'ks')"
   ]
  },
  {
   "cell_type": "code",
   "execution_count": null,
   "metadata": {},
   "outputs": [],
   "source": [
    "evaluate_model(best)"
   ]
  },
  {
   "cell_type": "code",
   "execution_count": null,
   "metadata": {},
   "outputs": [],
   "source": [
    "# predict on test set\n",
    "holdout_pred = predict_model(best)"
   ]
  },
  {
   "cell_type": "code",
   "execution_count": null,
   "metadata": {},
   "outputs": [],
   "source": [
    "# show predictions df\n",
    "holdout_pred.head()"
   ]
  },
  {
   "cell_type": "code",
   "execution_count": null,
   "metadata": {},
   "outputs": [],
   "source": [
    "# copy data and drop Class variable\n",
    "\n",
    "val = pd.read_csv('/home/antoine/gene_pheno_pred/TorusE_2023-03-31_14-41-37_test.csv' , header=0)\n",
    "val.drop('gound_truth', axis=1, inplace=True)\n",
    "val.head()"
   ]
  },
  {
   "cell_type": "code",
   "execution_count": null,
   "metadata": {},
   "outputs": [],
   "source": [
    "# predict model on new_data\n",
    "predictions = predict_model(best, data = val)\n",
    "predictions.head()"
   ]
  },
  {
   "cell_type": "code",
   "execution_count": null,
   "metadata": {},
   "outputs": [],
   "source": [
    "# save pipeline\n",
    "save_model(best, 'my_first_pipeline')"
   ]
  },
  {
   "cell_type": "code",
   "execution_count": null,
   "metadata": {
    "tags": []
   },
   "outputs": [],
   "source": [
    "# load pipeline\n",
    "loaded_best_pipeline = load_model('my_first_pipeline')\n",
    "loaded_best_pipeline"
   ]
  }
 ],
 "metadata": {
  "kernelspec": {
   "display_name": "aled",
   "language": "python",
   "name": "python3"
  },
  "language_info": {
   "codemirror_mode": {
    "name": "ipython",
    "version": 3
   },
   "file_extension": ".py",
   "mimetype": "text/x-python",
   "name": "python",
   "nbconvert_exporter": "python",
   "pygments_lexer": "ipython3",
   "version": "3.10.9"
  },
  "vscode": {
   "interpreter": {
    "hash": "bad715aa2aaeb5e6c151df84b54974e4cb5c7f8696a7ce08edfdc275e59caf55"
   }
  }
 },
 "nbformat": 4,
 "nbformat_minor": 4
}
