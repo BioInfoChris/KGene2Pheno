{
 "cells": [
  {
   "cell_type": "code",
   "execution_count": 1,
   "metadata": {
    "tags": []
   },
   "outputs": [
    {
     "name": "stderr",
     "output_type": "stream",
     "text": [
      "\u001b[34m\u001b[1mwandb\u001b[0m: Currently logged in as: \u001b[33mantoine-toffano\u001b[0m (\u001b[33mmlb\u001b[0m). Use \u001b[1m`wandb login --relogin`\u001b[0m to force relogin\n"
     ]
    },
    {
     "data": {
      "text/html": [
       "wandb version 0.15.0 is available!  To upgrade, please run:\n",
       " $ pip install wandb --upgrade"
      ],
      "text/plain": [
       "<IPython.core.display.HTML object>"
      ]
     },
     "metadata": {},
     "output_type": "display_data"
    },
    {
     "data": {
      "text/html": [
       "Tracking run with wandb version 0.14.0"
      ],
      "text/plain": [
       "<IPython.core.display.HTML object>"
      ]
     },
     "metadata": {},
     "output_type": "display_data"
    },
    {
     "data": {
      "text/html": [
       "Run data is saved locally in <code>/home/antoine/gene_pheno_pred/wandb/run-20230425_163727-hoj95hv6</code>"
      ],
      "text/plain": [
       "<IPython.core.display.HTML object>"
      ]
     },
     "metadata": {},
     "output_type": "display_data"
    },
    {
     "data": {
      "text/html": [
       "Syncing run <strong><a href='https://wandb.ai/mlb/cigap-classif/runs/hoj95hv6' target=\"_blank\">fresh-bee-24</a></strong> to <a href='https://wandb.ai/mlb/cigap-classif' target=\"_blank\">Weights & Biases</a> (<a href='https://wandb.me/run' target=\"_blank\">docs</a>)<br/>"
      ],
      "text/plain": [
       "<IPython.core.display.HTML object>"
      ]
     },
     "metadata": {},
     "output_type": "display_data"
    },
    {
     "data": {
      "text/html": [
       " View project at <a href='https://wandb.ai/mlb/cigap-classif' target=\"_blank\">https://wandb.ai/mlb/cigap-classif</a>"
      ],
      "text/plain": [
       "<IPython.core.display.HTML object>"
      ]
     },
     "metadata": {},
     "output_type": "display_data"
    },
    {
     "data": {
      "text/html": [
       " View run at <a href='https://wandb.ai/mlb/cigap-classif/runs/hoj95hv6' target=\"_blank\">https://wandb.ai/mlb/cigap-classif/runs/hoj95hv6</a>"
      ],
      "text/plain": [
       "<IPython.core.display.HTML object>"
      ]
     },
     "metadata": {},
     "output_type": "display_data"
    },
    {
     "data": {
      "text/html": [
       "<button onClick=\"this.nextSibling.style.display='block';this.style.display='none';\">Display W&B run</button><iframe src='https://wandb.ai/mlb/cigap-classif/runs/hoj95hv6?jupyter=true' style='border:none;width:100%;height:420px;display:none;'></iframe>"
      ],
      "text/plain": [
       "<wandb.sdk.wandb_run.Run at 0x7f6bbc215f30>"
      ]
     },
     "execution_count": 1,
     "metadata": {},
     "output_type": "execute_result"
    }
   ],
   "source": [
    "from pycaret.classification import *\n",
    "import pandas as pd\n",
    "import os\n",
    "import wandb\n",
    "\n",
    "os.chdir('/home/antoine/gene_pheno_pred')\n",
    "os.environ[\"CUDA_VISIBLE_DEVICES\"]=\"1\"\n",
    "os.environ[\"WANDB_API_KEY\"]=\"4e5748d6c6f3917c78cdc38a516a1bac776faf58\"\n",
    "wandb.login()\n",
    "wandb.init(\n",
    "    project=\"cigap-classif\",\n",
    ")\n"
   ]
  },
  {
   "cell_type": "code",
   "execution_count": 2,
   "metadata": {
    "tags": []
   },
   "outputs": [
    {
     "data": {
      "text/html": [
       "<div>\n",
       "<style scoped>\n",
       "    .dataframe tbody tr th:only-of-type {\n",
       "        vertical-align: middle;\n",
       "    }\n",
       "\n",
       "    .dataframe tbody tr th {\n",
       "        vertical-align: top;\n",
       "    }\n",
       "\n",
       "    .dataframe thead th {\n",
       "        text-align: right;\n",
       "    }\n",
       "</style>\n",
       "<table border=\"1\" class=\"dataframe\">\n",
       "  <thead>\n",
       "    <tr style=\"text-align: right;\">\n",
       "      <th></th>\n",
       "      <th>0</th>\n",
       "      <th>1</th>\n",
       "      <th>2</th>\n",
       "      <th>3</th>\n",
       "      <th>4</th>\n",
       "      <th>5</th>\n",
       "      <th>6</th>\n",
       "      <th>7</th>\n",
       "      <th>8</th>\n",
       "      <th>9</th>\n",
       "      <th>...</th>\n",
       "      <th>91</th>\n",
       "      <th>92</th>\n",
       "      <th>93</th>\n",
       "      <th>94</th>\n",
       "      <th>95</th>\n",
       "      <th>96</th>\n",
       "      <th>97</th>\n",
       "      <th>98</th>\n",
       "      <th>99</th>\n",
       "      <th>ground_truth</th>\n",
       "    </tr>\n",
       "  </thead>\n",
       "  <tbody>\n",
       "    <tr>\n",
       "      <th>0</th>\n",
       "      <td>0.176603</td>\n",
       "      <td>0.144554</td>\n",
       "      <td>-0.121246</td>\n",
       "      <td>0.352947</td>\n",
       "      <td>0.161330</td>\n",
       "      <td>0.119488</td>\n",
       "      <td>0.204768</td>\n",
       "      <td>-0.100077</td>\n",
       "      <td>0.156833</td>\n",
       "      <td>-0.120513</td>\n",
       "      <td>...</td>\n",
       "      <td>0.048977</td>\n",
       "      <td>0.036158</td>\n",
       "      <td>-0.062647</td>\n",
       "      <td>0.061191</td>\n",
       "      <td>0.034371</td>\n",
       "      <td>0.017874</td>\n",
       "      <td>-0.018670</td>\n",
       "      <td>-0.061726</td>\n",
       "      <td>-0.032668</td>\n",
       "      <td>no_link_known</td>\n",
       "    </tr>\n",
       "    <tr>\n",
       "      <th>1</th>\n",
       "      <td>0.230500</td>\n",
       "      <td>0.027735</td>\n",
       "      <td>-0.311731</td>\n",
       "      <td>-0.056029</td>\n",
       "      <td>0.097707</td>\n",
       "      <td>0.272195</td>\n",
       "      <td>0.340572</td>\n",
       "      <td>0.002959</td>\n",
       "      <td>0.306213</td>\n",
       "      <td>-0.027642</td>\n",
       "      <td>...</td>\n",
       "      <td>0.039863</td>\n",
       "      <td>0.051089</td>\n",
       "      <td>-0.081835</td>\n",
       "      <td>0.056872</td>\n",
       "      <td>0.049417</td>\n",
       "      <td>0.033689</td>\n",
       "      <td>-0.008890</td>\n",
       "      <td>-0.049069</td>\n",
       "      <td>-0.015917</td>\n",
       "      <td>http://www.semanticweb.org/needed-terms#009</td>\n",
       "    </tr>\n",
       "    <tr>\n",
       "      <th>2</th>\n",
       "      <td>0.195384</td>\n",
       "      <td>0.188668</td>\n",
       "      <td>-0.220960</td>\n",
       "      <td>-0.023338</td>\n",
       "      <td>-0.027151</td>\n",
       "      <td>0.020286</td>\n",
       "      <td>0.266949</td>\n",
       "      <td>-0.348298</td>\n",
       "      <td>0.268543</td>\n",
       "      <td>-0.163545</td>\n",
       "      <td>...</td>\n",
       "      <td>0.022186</td>\n",
       "      <td>-0.007695</td>\n",
       "      <td>-0.020189</td>\n",
       "      <td>-0.036016</td>\n",
       "      <td>0.016186</td>\n",
       "      <td>0.028108</td>\n",
       "      <td>-0.007122</td>\n",
       "      <td>0.038059</td>\n",
       "      <td>-0.028528</td>\n",
       "      <td>no_link_known</td>\n",
       "    </tr>\n",
       "    <tr>\n",
       "      <th>3</th>\n",
       "      <td>0.026929</td>\n",
       "      <td>0.074788</td>\n",
       "      <td>0.035858</td>\n",
       "      <td>-0.005145</td>\n",
       "      <td>-0.042590</td>\n",
       "      <td>0.019052</td>\n",
       "      <td>0.033178</td>\n",
       "      <td>0.090141</td>\n",
       "      <td>-0.043595</td>\n",
       "      <td>-0.071027</td>\n",
       "      <td>...</td>\n",
       "      <td>0.167388</td>\n",
       "      <td>0.088925</td>\n",
       "      <td>-0.027883</td>\n",
       "      <td>-0.040423</td>\n",
       "      <td>0.085831</td>\n",
       "      <td>0.083911</td>\n",
       "      <td>-0.083440</td>\n",
       "      <td>-0.009200</td>\n",
       "      <td>-0.090322</td>\n",
       "      <td>http://semanticscience.org/resource/SIO_000281</td>\n",
       "    </tr>\n",
       "    <tr>\n",
       "      <th>4</th>\n",
       "      <td>0.008397</td>\n",
       "      <td>-0.001974</td>\n",
       "      <td>-0.007151</td>\n",
       "      <td>-0.004110</td>\n",
       "      <td>-0.033697</td>\n",
       "      <td>-0.053781</td>\n",
       "      <td>-0.049135</td>\n",
       "      <td>0.044767</td>\n",
       "      <td>-0.010571</td>\n",
       "      <td>0.032441</td>\n",
       "      <td>...</td>\n",
       "      <td>0.009489</td>\n",
       "      <td>0.020247</td>\n",
       "      <td>-0.027801</td>\n",
       "      <td>0.050793</td>\n",
       "      <td>0.010482</td>\n",
       "      <td>0.012848</td>\n",
       "      <td>-0.005974</td>\n",
       "      <td>-0.019075</td>\n",
       "      <td>-0.045278</td>\n",
       "      <td>no_link_known</td>\n",
       "    </tr>\n",
       "    <tr>\n",
       "      <th>...</th>\n",
       "      <td>...</td>\n",
       "      <td>...</td>\n",
       "      <td>...</td>\n",
       "      <td>...</td>\n",
       "      <td>...</td>\n",
       "      <td>...</td>\n",
       "      <td>...</td>\n",
       "      <td>...</td>\n",
       "      <td>...</td>\n",
       "      <td>...</td>\n",
       "      <td>...</td>\n",
       "      <td>...</td>\n",
       "      <td>...</td>\n",
       "      <td>...</td>\n",
       "      <td>...</td>\n",
       "      <td>...</td>\n",
       "      <td>...</td>\n",
       "      <td>...</td>\n",
       "      <td>...</td>\n",
       "      <td>...</td>\n",
       "      <td>...</td>\n",
       "    </tr>\n",
       "    <tr>\n",
       "      <th>234137</th>\n",
       "      <td>0.176400</td>\n",
       "      <td>0.218860</td>\n",
       "      <td>-0.280247</td>\n",
       "      <td>0.305255</td>\n",
       "      <td>0.101689</td>\n",
       "      <td>0.111522</td>\n",
       "      <td>-0.095150</td>\n",
       "      <td>-0.109428</td>\n",
       "      <td>0.155395</td>\n",
       "      <td>-0.027120</td>\n",
       "      <td>...</td>\n",
       "      <td>0.036530</td>\n",
       "      <td>0.021950</td>\n",
       "      <td>-0.020570</td>\n",
       "      <td>-0.017535</td>\n",
       "      <td>0.031310</td>\n",
       "      <td>0.024575</td>\n",
       "      <td>-0.009150</td>\n",
       "      <td>-0.023717</td>\n",
       "      <td>-0.029366</td>\n",
       "      <td>no_link_known</td>\n",
       "    </tr>\n",
       "    <tr>\n",
       "      <th>234138</th>\n",
       "      <td>0.064738</td>\n",
       "      <td>0.126745</td>\n",
       "      <td>-0.028705</td>\n",
       "      <td>0.136302</td>\n",
       "      <td>0.126094</td>\n",
       "      <td>0.199326</td>\n",
       "      <td>0.161574</td>\n",
       "      <td>-0.012139</td>\n",
       "      <td>0.113478</td>\n",
       "      <td>-0.176163</td>\n",
       "      <td>...</td>\n",
       "      <td>0.046814</td>\n",
       "      <td>0.006897</td>\n",
       "      <td>-0.067952</td>\n",
       "      <td>-0.032035</td>\n",
       "      <td>-0.598163</td>\n",
       "      <td>0.024000</td>\n",
       "      <td>-0.018999</td>\n",
       "      <td>-0.023364</td>\n",
       "      <td>-0.046112</td>\n",
       "      <td>http://www.semanticweb.org/needed-terms#001</td>\n",
       "    </tr>\n",
       "    <tr>\n",
       "      <th>234139</th>\n",
       "      <td>0.009338</td>\n",
       "      <td>0.000967</td>\n",
       "      <td>0.000705</td>\n",
       "      <td>-0.058703</td>\n",
       "      <td>-0.058091</td>\n",
       "      <td>-0.004134</td>\n",
       "      <td>0.016403</td>\n",
       "      <td>0.012446</td>\n",
       "      <td>-0.016351</td>\n",
       "      <td>-0.027040</td>\n",
       "      <td>...</td>\n",
       "      <td>-0.064294</td>\n",
       "      <td>0.002646</td>\n",
       "      <td>-0.086266</td>\n",
       "      <td>0.143449</td>\n",
       "      <td>0.015991</td>\n",
       "      <td>-0.137966</td>\n",
       "      <td>0.122271</td>\n",
       "      <td>-0.188965</td>\n",
       "      <td>0.189511</td>\n",
       "      <td>no_link_known</td>\n",
       "    </tr>\n",
       "    <tr>\n",
       "      <th>234140</th>\n",
       "      <td>0.044665</td>\n",
       "      <td>-0.104824</td>\n",
       "      <td>-0.071804</td>\n",
       "      <td>-0.174067</td>\n",
       "      <td>-0.122643</td>\n",
       "      <td>-0.149357</td>\n",
       "      <td>-0.144405</td>\n",
       "      <td>0.002902</td>\n",
       "      <td>-0.149952</td>\n",
       "      <td>0.087081</td>\n",
       "      <td>...</td>\n",
       "      <td>-0.013302</td>\n",
       "      <td>0.045505</td>\n",
       "      <td>0.034258</td>\n",
       "      <td>0.093059</td>\n",
       "      <td>0.120011</td>\n",
       "      <td>0.007771</td>\n",
       "      <td>-0.001258</td>\n",
       "      <td>-0.075868</td>\n",
       "      <td>-0.069958</td>\n",
       "      <td>no_link_known</td>\n",
       "    </tr>\n",
       "    <tr>\n",
       "      <th>234141</th>\n",
       "      <td>0.242349</td>\n",
       "      <td>0.151124</td>\n",
       "      <td>0.027205</td>\n",
       "      <td>0.005474</td>\n",
       "      <td>-0.026168</td>\n",
       "      <td>0.246636</td>\n",
       "      <td>0.120083</td>\n",
       "      <td>-0.302775</td>\n",
       "      <td>0.147610</td>\n",
       "      <td>-0.121330</td>\n",
       "      <td>...</td>\n",
       "      <td>-0.044542</td>\n",
       "      <td>-0.051172</td>\n",
       "      <td>-0.000744</td>\n",
       "      <td>-0.079384</td>\n",
       "      <td>-0.052637</td>\n",
       "      <td>-0.052100</td>\n",
       "      <td>0.072378</td>\n",
       "      <td>0.059714</td>\n",
       "      <td>0.014457</td>\n",
       "      <td>no_link_known</td>\n",
       "    </tr>\n",
       "  </tbody>\n",
       "</table>\n",
       "<p>234142 rows × 101 columns</p>\n",
       "</div>"
      ],
      "text/plain": [
       "               0         1         2         3         4         5         6  \\\n",
       "0       0.176603  0.144554 -0.121246  0.352947  0.161330  0.119488  0.204768   \n",
       "1       0.230500  0.027735 -0.311731 -0.056029  0.097707  0.272195  0.340572   \n",
       "2       0.195384  0.188668 -0.220960 -0.023338 -0.027151  0.020286  0.266949   \n",
       "3       0.026929  0.074788  0.035858 -0.005145 -0.042590  0.019052  0.033178   \n",
       "4       0.008397 -0.001974 -0.007151 -0.004110 -0.033697 -0.053781 -0.049135   \n",
       "...          ...       ...       ...       ...       ...       ...       ...   \n",
       "234137  0.176400  0.218860 -0.280247  0.305255  0.101689  0.111522 -0.095150   \n",
       "234138  0.064738  0.126745 -0.028705  0.136302  0.126094  0.199326  0.161574   \n",
       "234139  0.009338  0.000967  0.000705 -0.058703 -0.058091 -0.004134  0.016403   \n",
       "234140  0.044665 -0.104824 -0.071804 -0.174067 -0.122643 -0.149357 -0.144405   \n",
       "234141  0.242349  0.151124  0.027205  0.005474 -0.026168  0.246636  0.120083   \n",
       "\n",
       "               7         8         9  ...        91        92        93  \\\n",
       "0      -0.100077  0.156833 -0.120513  ...  0.048977  0.036158 -0.062647   \n",
       "1       0.002959  0.306213 -0.027642  ...  0.039863  0.051089 -0.081835   \n",
       "2      -0.348298  0.268543 -0.163545  ...  0.022186 -0.007695 -0.020189   \n",
       "3       0.090141 -0.043595 -0.071027  ...  0.167388  0.088925 -0.027883   \n",
       "4       0.044767 -0.010571  0.032441  ...  0.009489  0.020247 -0.027801   \n",
       "...          ...       ...       ...  ...       ...       ...       ...   \n",
       "234137 -0.109428  0.155395 -0.027120  ...  0.036530  0.021950 -0.020570   \n",
       "234138 -0.012139  0.113478 -0.176163  ...  0.046814  0.006897 -0.067952   \n",
       "234139  0.012446 -0.016351 -0.027040  ... -0.064294  0.002646 -0.086266   \n",
       "234140  0.002902 -0.149952  0.087081  ... -0.013302  0.045505  0.034258   \n",
       "234141 -0.302775  0.147610 -0.121330  ... -0.044542 -0.051172 -0.000744   \n",
       "\n",
       "              94        95        96        97        98        99  \\\n",
       "0       0.061191  0.034371  0.017874 -0.018670 -0.061726 -0.032668   \n",
       "1       0.056872  0.049417  0.033689 -0.008890 -0.049069 -0.015917   \n",
       "2      -0.036016  0.016186  0.028108 -0.007122  0.038059 -0.028528   \n",
       "3      -0.040423  0.085831  0.083911 -0.083440 -0.009200 -0.090322   \n",
       "4       0.050793  0.010482  0.012848 -0.005974 -0.019075 -0.045278   \n",
       "...          ...       ...       ...       ...       ...       ...   \n",
       "234137 -0.017535  0.031310  0.024575 -0.009150 -0.023717 -0.029366   \n",
       "234138 -0.032035 -0.598163  0.024000 -0.018999 -0.023364 -0.046112   \n",
       "234139  0.143449  0.015991 -0.137966  0.122271 -0.188965  0.189511   \n",
       "234140  0.093059  0.120011  0.007771 -0.001258 -0.075868 -0.069958   \n",
       "234141 -0.079384 -0.052637 -0.052100  0.072378  0.059714  0.014457   \n",
       "\n",
       "                                          ground_truth  \n",
       "0                                        no_link_known  \n",
       "1          http://www.semanticweb.org/needed-terms#009  \n",
       "2                                        no_link_known  \n",
       "3       http://semanticscience.org/resource/SIO_000281  \n",
       "4                                        no_link_known  \n",
       "...                                                ...  \n",
       "234137                                   no_link_known  \n",
       "234138     http://www.semanticweb.org/needed-terms#001  \n",
       "234139                                   no_link_known  \n",
       "234140                                   no_link_known  \n",
       "234141                                   no_link_known  \n",
       "\n",
       "[234142 rows x 101 columns]"
      ]
     },
     "execution_count": 2,
     "metadata": {},
     "output_type": "execute_result"
    }
   ],
   "source": [
    "# Load training set\n",
    "train = pd.read_csv('/home/antoine/gene_pheno_pred/ConvKB_2023-04-13_16-59-47_val.csv' , header=0)\n",
    "train"
   ]
  },
  {
   "cell_type": "code",
   "execution_count": 3,
   "metadata": {
    "tags": []
   },
   "outputs": [
    {
     "data": {
      "text/html": [
       "<div>\n",
       "<style scoped>\n",
       "    .dataframe tbody tr th:only-of-type {\n",
       "        vertical-align: middle;\n",
       "    }\n",
       "\n",
       "    .dataframe tbody tr th {\n",
       "        vertical-align: top;\n",
       "    }\n",
       "\n",
       "    .dataframe thead th {\n",
       "        text-align: right;\n",
       "    }\n",
       "</style>\n",
       "<table border=\"1\" class=\"dataframe\">\n",
       "  <thead>\n",
       "    <tr style=\"text-align: right;\">\n",
       "      <th></th>\n",
       "      <th>0</th>\n",
       "      <th>1</th>\n",
       "      <th>2</th>\n",
       "      <th>3</th>\n",
       "      <th>4</th>\n",
       "      <th>5</th>\n",
       "      <th>6</th>\n",
       "      <th>7</th>\n",
       "      <th>8</th>\n",
       "      <th>9</th>\n",
       "      <th>...</th>\n",
       "      <th>91</th>\n",
       "      <th>92</th>\n",
       "      <th>93</th>\n",
       "      <th>94</th>\n",
       "      <th>95</th>\n",
       "      <th>96</th>\n",
       "      <th>97</th>\n",
       "      <th>98</th>\n",
       "      <th>99</th>\n",
       "      <th>ground_truth</th>\n",
       "    </tr>\n",
       "  </thead>\n",
       "  <tbody>\n",
       "    <tr>\n",
       "      <th>0</th>\n",
       "      <td>0.143444</td>\n",
       "      <td>0.093716</td>\n",
       "      <td>-0.137825</td>\n",
       "      <td>-0.124671</td>\n",
       "      <td>-0.096162</td>\n",
       "      <td>0.134430</td>\n",
       "      <td>0.258746</td>\n",
       "      <td>-0.316311</td>\n",
       "      <td>0.063991</td>\n",
       "      <td>-0.294353</td>\n",
       "      <td>...</td>\n",
       "      <td>0.006072</td>\n",
       "      <td>-0.018314</td>\n",
       "      <td>-0.036506</td>\n",
       "      <td>0.058785</td>\n",
       "      <td>0.032657</td>\n",
       "      <td>0.068184</td>\n",
       "      <td>-0.035997</td>\n",
       "      <td>-0.134148</td>\n",
       "      <td>0.025432</td>\n",
       "      <td>http://www.semanticweb.org/needed-terms#009</td>\n",
       "    </tr>\n",
       "    <tr>\n",
       "      <th>1</th>\n",
       "      <td>0.018331</td>\n",
       "      <td>0.045232</td>\n",
       "      <td>0.001957</td>\n",
       "      <td>0.000281</td>\n",
       "      <td>-0.007401</td>\n",
       "      <td>0.909883</td>\n",
       "      <td>0.018149</td>\n",
       "      <td>-0.002059</td>\n",
       "      <td>0.016732</td>\n",
       "      <td>-0.009270</td>\n",
       "      <td>...</td>\n",
       "      <td>0.023204</td>\n",
       "      <td>0.026533</td>\n",
       "      <td>-0.035074</td>\n",
       "      <td>-0.007182</td>\n",
       "      <td>0.016385</td>\n",
       "      <td>0.017070</td>\n",
       "      <td>-0.040005</td>\n",
       "      <td>-0.024660</td>\n",
       "      <td>-0.013184</td>\n",
       "      <td>http://www.semanticweb.org/needed-terms#009</td>\n",
       "    </tr>\n",
       "    <tr>\n",
       "      <th>2</th>\n",
       "      <td>0.004819</td>\n",
       "      <td>0.054722</td>\n",
       "      <td>0.001181</td>\n",
       "      <td>0.086243</td>\n",
       "      <td>0.076688</td>\n",
       "      <td>0.046515</td>\n",
       "      <td>0.041210</td>\n",
       "      <td>-0.023142</td>\n",
       "      <td>0.060256</td>\n",
       "      <td>-0.125768</td>\n",
       "      <td>...</td>\n",
       "      <td>0.027227</td>\n",
       "      <td>0.041565</td>\n",
       "      <td>-0.049319</td>\n",
       "      <td>-0.046994</td>\n",
       "      <td>0.046374</td>\n",
       "      <td>0.048004</td>\n",
       "      <td>-0.061171</td>\n",
       "      <td>0.001339</td>\n",
       "      <td>-0.120643</td>\n",
       "      <td>http://www.semanticweb.org/needed-terms#002</td>\n",
       "    </tr>\n",
       "    <tr>\n",
       "      <th>3</th>\n",
       "      <td>-0.049837</td>\n",
       "      <td>-0.037773</td>\n",
       "      <td>0.039730</td>\n",
       "      <td>-0.042049</td>\n",
       "      <td>-0.032324</td>\n",
       "      <td>-0.035344</td>\n",
       "      <td>0.037563</td>\n",
       "      <td>-0.021121</td>\n",
       "      <td>-0.032801</td>\n",
       "      <td>-0.031846</td>\n",
       "      <td>...</td>\n",
       "      <td>0.033551</td>\n",
       "      <td>0.026903</td>\n",
       "      <td>-0.041563</td>\n",
       "      <td>0.005378</td>\n",
       "      <td>0.066259</td>\n",
       "      <td>0.040746</td>\n",
       "      <td>-0.047484</td>\n",
       "      <td>-0.029613</td>\n",
       "      <td>-0.017699</td>\n",
       "      <td>http://www.semanticweb.org/needed-terms#001</td>\n",
       "    </tr>\n",
       "    <tr>\n",
       "      <th>4</th>\n",
       "      <td>0.088384</td>\n",
       "      <td>0.012557</td>\n",
       "      <td>-0.111223</td>\n",
       "      <td>-0.101479</td>\n",
       "      <td>-0.090372</td>\n",
       "      <td>-0.079046</td>\n",
       "      <td>-0.071125</td>\n",
       "      <td>-0.055374</td>\n",
       "      <td>-0.095753</td>\n",
       "      <td>0.117984</td>\n",
       "      <td>...</td>\n",
       "      <td>-0.012302</td>\n",
       "      <td>-0.038869</td>\n",
       "      <td>-0.055369</td>\n",
       "      <td>0.045610</td>\n",
       "      <td>-0.033408</td>\n",
       "      <td>0.062304</td>\n",
       "      <td>-0.035480</td>\n",
       "      <td>-0.049748</td>\n",
       "      <td>-0.004965</td>\n",
       "      <td>no_link_known</td>\n",
       "    </tr>\n",
       "    <tr>\n",
       "      <th>...</th>\n",
       "      <td>...</td>\n",
       "      <td>...</td>\n",
       "      <td>...</td>\n",
       "      <td>...</td>\n",
       "      <td>...</td>\n",
       "      <td>...</td>\n",
       "      <td>...</td>\n",
       "      <td>...</td>\n",
       "      <td>...</td>\n",
       "      <td>...</td>\n",
       "      <td>...</td>\n",
       "      <td>...</td>\n",
       "      <td>...</td>\n",
       "      <td>...</td>\n",
       "      <td>...</td>\n",
       "      <td>...</td>\n",
       "      <td>...</td>\n",
       "      <td>...</td>\n",
       "      <td>...</td>\n",
       "      <td>...</td>\n",
       "      <td>...</td>\n",
       "    </tr>\n",
       "    <tr>\n",
       "      <th>233779</th>\n",
       "      <td>0.028791</td>\n",
       "      <td>0.064465</td>\n",
       "      <td>0.016604</td>\n",
       "      <td>-0.005840</td>\n",
       "      <td>-0.009796</td>\n",
       "      <td>0.008425</td>\n",
       "      <td>0.013725</td>\n",
       "      <td>-0.001496</td>\n",
       "      <td>-0.007599</td>\n",
       "      <td>-0.075763</td>\n",
       "      <td>...</td>\n",
       "      <td>-0.004248</td>\n",
       "      <td>0.102976</td>\n",
       "      <td>-0.020468</td>\n",
       "      <td>-0.024157</td>\n",
       "      <td>-0.978574</td>\n",
       "      <td>0.016163</td>\n",
       "      <td>0.027392</td>\n",
       "      <td>-0.110037</td>\n",
       "      <td>-0.073671</td>\n",
       "      <td>no_link_known</td>\n",
       "    </tr>\n",
       "    <tr>\n",
       "      <th>233780</th>\n",
       "      <td>-0.004770</td>\n",
       "      <td>-0.048431</td>\n",
       "      <td>0.002252</td>\n",
       "      <td>-0.001596</td>\n",
       "      <td>-0.046143</td>\n",
       "      <td>-0.110508</td>\n",
       "      <td>-0.025915</td>\n",
       "      <td>0.009208</td>\n",
       "      <td>0.006273</td>\n",
       "      <td>0.032961</td>\n",
       "      <td>...</td>\n",
       "      <td>-0.211187</td>\n",
       "      <td>-0.086243</td>\n",
       "      <td>0.064273</td>\n",
       "      <td>-0.023515</td>\n",
       "      <td>-0.043269</td>\n",
       "      <td>-0.097919</td>\n",
       "      <td>0.059382</td>\n",
       "      <td>0.175372</td>\n",
       "      <td>0.076994</td>\n",
       "      <td>no_link_known</td>\n",
       "    </tr>\n",
       "    <tr>\n",
       "      <th>233781</th>\n",
       "      <td>0.027764</td>\n",
       "      <td>0.056585</td>\n",
       "      <td>-0.033077</td>\n",
       "      <td>-0.022086</td>\n",
       "      <td>-0.067494</td>\n",
       "      <td>-0.015891</td>\n",
       "      <td>-0.032308</td>\n",
       "      <td>0.012968</td>\n",
       "      <td>0.015531</td>\n",
       "      <td>-0.080184</td>\n",
       "      <td>...</td>\n",
       "      <td>0.051418</td>\n",
       "      <td>0.101561</td>\n",
       "      <td>-0.006042</td>\n",
       "      <td>-0.104236</td>\n",
       "      <td>0.101335</td>\n",
       "      <td>-0.052880</td>\n",
       "      <td>0.089030</td>\n",
       "      <td>0.016790</td>\n",
       "      <td>-0.083716</td>\n",
       "      <td>no_link_known</td>\n",
       "    </tr>\n",
       "    <tr>\n",
       "      <th>233782</th>\n",
       "      <td>0.078459</td>\n",
       "      <td>0.079812</td>\n",
       "      <td>-0.076346</td>\n",
       "      <td>-0.083066</td>\n",
       "      <td>-0.081467</td>\n",
       "      <td>-0.066998</td>\n",
       "      <td>-0.050276</td>\n",
       "      <td>-0.002377</td>\n",
       "      <td>-0.093573</td>\n",
       "      <td>-0.045859</td>\n",
       "      <td>...</td>\n",
       "      <td>0.021252</td>\n",
       "      <td>0.069637</td>\n",
       "      <td>-0.038760</td>\n",
       "      <td>0.034591</td>\n",
       "      <td>0.018672</td>\n",
       "      <td>0.037403</td>\n",
       "      <td>-0.031772</td>\n",
       "      <td>-0.048327</td>\n",
       "      <td>-0.011563</td>\n",
       "      <td>http://semanticscience.org/resource/SIO_001279</td>\n",
       "    </tr>\n",
       "    <tr>\n",
       "      <th>233783</th>\n",
       "      <td>-0.023869</td>\n",
       "      <td>0.010277</td>\n",
       "      <td>0.009491</td>\n",
       "      <td>-0.915700</td>\n",
       "      <td>-0.007371</td>\n",
       "      <td>-0.003883</td>\n",
       "      <td>-0.011953</td>\n",
       "      <td>0.026766</td>\n",
       "      <td>-0.006770</td>\n",
       "      <td>-0.020082</td>\n",
       "      <td>...</td>\n",
       "      <td>-0.124045</td>\n",
       "      <td>-0.091949</td>\n",
       "      <td>0.014327</td>\n",
       "      <td>-0.197542</td>\n",
       "      <td>-0.096213</td>\n",
       "      <td>-0.095607</td>\n",
       "      <td>0.134298</td>\n",
       "      <td>0.130113</td>\n",
       "      <td>0.018350</td>\n",
       "      <td>no_link_known</td>\n",
       "    </tr>\n",
       "  </tbody>\n",
       "</table>\n",
       "<p>233784 rows × 101 columns</p>\n",
       "</div>"
      ],
      "text/plain": [
       "               0         1         2         3         4         5         6  \\\n",
       "0       0.143444  0.093716 -0.137825 -0.124671 -0.096162  0.134430  0.258746   \n",
       "1       0.018331  0.045232  0.001957  0.000281 -0.007401  0.909883  0.018149   \n",
       "2       0.004819  0.054722  0.001181  0.086243  0.076688  0.046515  0.041210   \n",
       "3      -0.049837 -0.037773  0.039730 -0.042049 -0.032324 -0.035344  0.037563   \n",
       "4       0.088384  0.012557 -0.111223 -0.101479 -0.090372 -0.079046 -0.071125   \n",
       "...          ...       ...       ...       ...       ...       ...       ...   \n",
       "233779  0.028791  0.064465  0.016604 -0.005840 -0.009796  0.008425  0.013725   \n",
       "233780 -0.004770 -0.048431  0.002252 -0.001596 -0.046143 -0.110508 -0.025915   \n",
       "233781  0.027764  0.056585 -0.033077 -0.022086 -0.067494 -0.015891 -0.032308   \n",
       "233782  0.078459  0.079812 -0.076346 -0.083066 -0.081467 -0.066998 -0.050276   \n",
       "233783 -0.023869  0.010277  0.009491 -0.915700 -0.007371 -0.003883 -0.011953   \n",
       "\n",
       "               7         8         9  ...        91        92        93  \\\n",
       "0      -0.316311  0.063991 -0.294353  ...  0.006072 -0.018314 -0.036506   \n",
       "1      -0.002059  0.016732 -0.009270  ...  0.023204  0.026533 -0.035074   \n",
       "2      -0.023142  0.060256 -0.125768  ...  0.027227  0.041565 -0.049319   \n",
       "3      -0.021121 -0.032801 -0.031846  ...  0.033551  0.026903 -0.041563   \n",
       "4      -0.055374 -0.095753  0.117984  ... -0.012302 -0.038869 -0.055369   \n",
       "...          ...       ...       ...  ...       ...       ...       ...   \n",
       "233779 -0.001496 -0.007599 -0.075763  ... -0.004248  0.102976 -0.020468   \n",
       "233780  0.009208  0.006273  0.032961  ... -0.211187 -0.086243  0.064273   \n",
       "233781  0.012968  0.015531 -0.080184  ...  0.051418  0.101561 -0.006042   \n",
       "233782 -0.002377 -0.093573 -0.045859  ...  0.021252  0.069637 -0.038760   \n",
       "233783  0.026766 -0.006770 -0.020082  ... -0.124045 -0.091949  0.014327   \n",
       "\n",
       "              94        95        96        97        98        99  \\\n",
       "0       0.058785  0.032657  0.068184 -0.035997 -0.134148  0.025432   \n",
       "1      -0.007182  0.016385  0.017070 -0.040005 -0.024660 -0.013184   \n",
       "2      -0.046994  0.046374  0.048004 -0.061171  0.001339 -0.120643   \n",
       "3       0.005378  0.066259  0.040746 -0.047484 -0.029613 -0.017699   \n",
       "4       0.045610 -0.033408  0.062304 -0.035480 -0.049748 -0.004965   \n",
       "...          ...       ...       ...       ...       ...       ...   \n",
       "233779 -0.024157 -0.978574  0.016163  0.027392 -0.110037 -0.073671   \n",
       "233780 -0.023515 -0.043269 -0.097919  0.059382  0.175372  0.076994   \n",
       "233781 -0.104236  0.101335 -0.052880  0.089030  0.016790 -0.083716   \n",
       "233782  0.034591  0.018672  0.037403 -0.031772 -0.048327 -0.011563   \n",
       "233783 -0.197542 -0.096213 -0.095607  0.134298  0.130113  0.018350   \n",
       "\n",
       "                                          ground_truth  \n",
       "0          http://www.semanticweb.org/needed-terms#009  \n",
       "1          http://www.semanticweb.org/needed-terms#009  \n",
       "2          http://www.semanticweb.org/needed-terms#002  \n",
       "3          http://www.semanticweb.org/needed-terms#001  \n",
       "4                                        no_link_known  \n",
       "...                                                ...  \n",
       "233779                                   no_link_known  \n",
       "233780                                   no_link_known  \n",
       "233781                                   no_link_known  \n",
       "233782  http://semanticscience.org/resource/SIO_001279  \n",
       "233783                                   no_link_known  \n",
       "\n",
       "[233784 rows x 101 columns]"
      ]
     },
     "execution_count": 3,
     "metadata": {},
     "output_type": "execute_result"
    }
   ],
   "source": [
    "# Validation set\n",
    "val = pd.read_csv('/home/antoine/gene_pheno_pred/ConvKB_2023-04-13_16-59-47_test.csv' , header=0)\n",
    "val"
   ]
  },
  {
   "cell_type": "code",
   "execution_count": 4,
   "metadata": {},
   "outputs": [
    {
     "data": {
      "text/html": [
       "<div>\n",
       "<style scoped>\n",
       "    .dataframe tbody tr th:only-of-type {\n",
       "        vertical-align: middle;\n",
       "    }\n",
       "\n",
       "    .dataframe tbody tr th {\n",
       "        vertical-align: top;\n",
       "    }\n",
       "\n",
       "    .dataframe thead th {\n",
       "        text-align: right;\n",
       "    }\n",
       "</style>\n",
       "<table border=\"1\" class=\"dataframe\">\n",
       "  <thead>\n",
       "    <tr style=\"text-align: right;\">\n",
       "      <th></th>\n",
       "      <th>0</th>\n",
       "      <th>1</th>\n",
       "      <th>2</th>\n",
       "      <th>3</th>\n",
       "      <th>4</th>\n",
       "      <th>5</th>\n",
       "      <th>6</th>\n",
       "      <th>7</th>\n",
       "      <th>8</th>\n",
       "      <th>9</th>\n",
       "      <th>...</th>\n",
       "      <th>91</th>\n",
       "      <th>92</th>\n",
       "      <th>93</th>\n",
       "      <th>94</th>\n",
       "      <th>95</th>\n",
       "      <th>96</th>\n",
       "      <th>97</th>\n",
       "      <th>98</th>\n",
       "      <th>99</th>\n",
       "      <th>ground_truth</th>\n",
       "    </tr>\n",
       "  </thead>\n",
       "  <tbody>\n",
       "    <tr>\n",
       "      <th>0</th>\n",
       "      <td>-0.106307</td>\n",
       "      <td>-0.076018</td>\n",
       "      <td>-0.081182</td>\n",
       "      <td>0.028428</td>\n",
       "      <td>0.006551</td>\n",
       "      <td>-0.049328</td>\n",
       "      <td>-0.131857</td>\n",
       "      <td>-0.037628</td>\n",
       "      <td>0.003007</td>\n",
       "      <td>0.085964</td>\n",
       "      <td>...</td>\n",
       "      <td>-0.088359</td>\n",
       "      <td>-0.011955</td>\n",
       "      <td>0.072061</td>\n",
       "      <td>-0.239798</td>\n",
       "      <td>0.282087</td>\n",
       "      <td>-0.085467</td>\n",
       "      <td>0.008205</td>\n",
       "      <td>0.139863</td>\n",
       "      <td>-0.100712</td>\n",
       "      <td>http://www.semanticweb.org/needed-terms#001</td>\n",
       "    </tr>\n",
       "    <tr>\n",
       "      <th>1</th>\n",
       "      <td>-0.012138</td>\n",
       "      <td>-0.009232</td>\n",
       "      <td>0.024595</td>\n",
       "      <td>-0.021252</td>\n",
       "      <td>-0.015880</td>\n",
       "      <td>-0.047778</td>\n",
       "      <td>-0.011917</td>\n",
       "      <td>0.028311</td>\n",
       "      <td>-0.034624</td>\n",
       "      <td>0.059547</td>\n",
       "      <td>...</td>\n",
       "      <td>-0.274189</td>\n",
       "      <td>-0.501134</td>\n",
       "      <td>0.305044</td>\n",
       "      <td>0.213702</td>\n",
       "      <td>-0.469372</td>\n",
       "      <td>0.195861</td>\n",
       "      <td>-0.185408</td>\n",
       "      <td>0.056212</td>\n",
       "      <td>0.258238</td>\n",
       "      <td>http://semanticscience.org/resource/SIO_000281</td>\n",
       "    </tr>\n",
       "    <tr>\n",
       "      <th>2</th>\n",
       "      <td>-0.052939</td>\n",
       "      <td>-0.071929</td>\n",
       "      <td>0.021859</td>\n",
       "      <td>0.011558</td>\n",
       "      <td>-0.049912</td>\n",
       "      <td>-0.007417</td>\n",
       "      <td>0.011347</td>\n",
       "      <td>0.026139</td>\n",
       "      <td>-0.013402</td>\n",
       "      <td>-0.028613</td>\n",
       "      <td>...</td>\n",
       "      <td>-0.009154</td>\n",
       "      <td>-0.019550</td>\n",
       "      <td>-0.094600</td>\n",
       "      <td>0.098562</td>\n",
       "      <td>-0.025860</td>\n",
       "      <td>-0.037455</td>\n",
       "      <td>-0.112670</td>\n",
       "      <td>0.071711</td>\n",
       "      <td>0.070507</td>\n",
       "      <td>no_link_known</td>\n",
       "    </tr>\n",
       "    <tr>\n",
       "      <th>3</th>\n",
       "      <td>-0.733260</td>\n",
       "      <td>0.043293</td>\n",
       "      <td>0.119687</td>\n",
       "      <td>-0.123384</td>\n",
       "      <td>-0.071939</td>\n",
       "      <td>-0.126068</td>\n",
       "      <td>0.032904</td>\n",
       "      <td>0.110734</td>\n",
       "      <td>-0.096527</td>\n",
       "      <td>-0.095115</td>\n",
       "      <td>...</td>\n",
       "      <td>-0.101405</td>\n",
       "      <td>0.220706</td>\n",
       "      <td>0.192686</td>\n",
       "      <td>-0.176124</td>\n",
       "      <td>-0.216842</td>\n",
       "      <td>-0.436630</td>\n",
       "      <td>0.103777</td>\n",
       "      <td>-0.110369</td>\n",
       "      <td>-0.125698</td>\n",
       "      <td>no_link_known</td>\n",
       "    </tr>\n",
       "    <tr>\n",
       "      <th>4</th>\n",
       "      <td>-0.036974</td>\n",
       "      <td>-0.005872</td>\n",
       "      <td>-0.002371</td>\n",
       "      <td>-0.035732</td>\n",
       "      <td>-0.029971</td>\n",
       "      <td>-0.052257</td>\n",
       "      <td>0.016698</td>\n",
       "      <td>0.027884</td>\n",
       "      <td>0.000931</td>\n",
       "      <td>0.016802</td>\n",
       "      <td>...</td>\n",
       "      <td>0.005399</td>\n",
       "      <td>0.063239</td>\n",
       "      <td>-0.027632</td>\n",
       "      <td>-0.001155</td>\n",
       "      <td>0.048586</td>\n",
       "      <td>0.052991</td>\n",
       "      <td>0.027887</td>\n",
       "      <td>0.004721</td>\n",
       "      <td>-0.061660</td>\n",
       "      <td>no_link_known</td>\n",
       "    </tr>\n",
       "    <tr>\n",
       "      <th>...</th>\n",
       "      <td>...</td>\n",
       "      <td>...</td>\n",
       "      <td>...</td>\n",
       "      <td>...</td>\n",
       "      <td>...</td>\n",
       "      <td>...</td>\n",
       "      <td>...</td>\n",
       "      <td>...</td>\n",
       "      <td>...</td>\n",
       "      <td>...</td>\n",
       "      <td>...</td>\n",
       "      <td>...</td>\n",
       "      <td>...</td>\n",
       "      <td>...</td>\n",
       "      <td>...</td>\n",
       "      <td>...</td>\n",
       "      <td>...</td>\n",
       "      <td>...</td>\n",
       "      <td>...</td>\n",
       "      <td>...</td>\n",
       "      <td>...</td>\n",
       "    </tr>\n",
       "    <tr>\n",
       "      <th>2364605</th>\n",
       "      <td>-0.052012</td>\n",
       "      <td>-0.050973</td>\n",
       "      <td>0.035910</td>\n",
       "      <td>-0.059969</td>\n",
       "      <td>-0.061255</td>\n",
       "      <td>-0.053517</td>\n",
       "      <td>1.033800</td>\n",
       "      <td>0.041240</td>\n",
       "      <td>-0.052969</td>\n",
       "      <td>0.050190</td>\n",
       "      <td>...</td>\n",
       "      <td>0.034043</td>\n",
       "      <td>0.038958</td>\n",
       "      <td>-0.019946</td>\n",
       "      <td>-0.008046</td>\n",
       "      <td>0.001575</td>\n",
       "      <td>-0.011575</td>\n",
       "      <td>-0.047649</td>\n",
       "      <td>-0.035770</td>\n",
       "      <td>-0.002342</td>\n",
       "      <td>no_link_known</td>\n",
       "    </tr>\n",
       "    <tr>\n",
       "      <th>2364606</th>\n",
       "      <td>-0.059736</td>\n",
       "      <td>-0.061631</td>\n",
       "      <td>0.070624</td>\n",
       "      <td>0.048631</td>\n",
       "      <td>0.038553</td>\n",
       "      <td>0.030114</td>\n",
       "      <td>-0.824042</td>\n",
       "      <td>0.028283</td>\n",
       "      <td>-0.084142</td>\n",
       "      <td>-0.113815</td>\n",
       "      <td>...</td>\n",
       "      <td>-0.266709</td>\n",
       "      <td>-0.537886</td>\n",
       "      <td>0.321153</td>\n",
       "      <td>0.181186</td>\n",
       "      <td>-0.507742</td>\n",
       "      <td>0.207627</td>\n",
       "      <td>-0.238616</td>\n",
       "      <td>0.106768</td>\n",
       "      <td>0.250761</td>\n",
       "      <td>http://semanticscience.org/resource/SIO_000281</td>\n",
       "    </tr>\n",
       "    <tr>\n",
       "      <th>2364607</th>\n",
       "      <td>0.036065</td>\n",
       "      <td>0.071069</td>\n",
       "      <td>-0.168564</td>\n",
       "      <td>0.064844</td>\n",
       "      <td>0.088171</td>\n",
       "      <td>0.013884</td>\n",
       "      <td>0.160834</td>\n",
       "      <td>-0.273891</td>\n",
       "      <td>0.120310</td>\n",
       "      <td>-0.068251</td>\n",
       "      <td>...</td>\n",
       "      <td>0.009662</td>\n",
       "      <td>0.028640</td>\n",
       "      <td>-0.053873</td>\n",
       "      <td>0.002138</td>\n",
       "      <td>0.008572</td>\n",
       "      <td>0.031187</td>\n",
       "      <td>-0.037569</td>\n",
       "      <td>-0.022562</td>\n",
       "      <td>0.013139</td>\n",
       "      <td>http://www.w3.org/1999/02/22-rdf-syntax-ns#label</td>\n",
       "    </tr>\n",
       "    <tr>\n",
       "      <th>2364608</th>\n",
       "      <td>0.059826</td>\n",
       "      <td>0.027907</td>\n",
       "      <td>0.042077</td>\n",
       "      <td>-0.105650</td>\n",
       "      <td>-0.061793</td>\n",
       "      <td>0.070876</td>\n",
       "      <td>0.088055</td>\n",
       "      <td>-0.013670</td>\n",
       "      <td>-0.131062</td>\n",
       "      <td>0.035856</td>\n",
       "      <td>...</td>\n",
       "      <td>-0.252920</td>\n",
       "      <td>0.035881</td>\n",
       "      <td>0.221206</td>\n",
       "      <td>-0.067258</td>\n",
       "      <td>-0.011880</td>\n",
       "      <td>-0.220015</td>\n",
       "      <td>-0.025483</td>\n",
       "      <td>0.051174</td>\n",
       "      <td>-0.045477</td>\n",
       "      <td>http://www.semanticweb.org/needed-terms#001</td>\n",
       "    </tr>\n",
       "    <tr>\n",
       "      <th>2364609</th>\n",
       "      <td>0.044416</td>\n",
       "      <td>0.040018</td>\n",
       "      <td>-0.051139</td>\n",
       "      <td>-0.062561</td>\n",
       "      <td>0.000647</td>\n",
       "      <td>0.049335</td>\n",
       "      <td>0.051266</td>\n",
       "      <td>-0.045116</td>\n",
       "      <td>0.042828</td>\n",
       "      <td>-0.066228</td>\n",
       "      <td>...</td>\n",
       "      <td>0.032207</td>\n",
       "      <td>0.050358</td>\n",
       "      <td>-0.025129</td>\n",
       "      <td>0.003666</td>\n",
       "      <td>0.044197</td>\n",
       "      <td>0.073098</td>\n",
       "      <td>0.011964</td>\n",
       "      <td>-0.054151</td>\n",
       "      <td>-0.093798</td>\n",
       "      <td>no_link_known</td>\n",
       "    </tr>\n",
       "  </tbody>\n",
       "</table>\n",
       "<p>2364610 rows × 101 columns</p>\n",
       "</div>"
      ],
      "text/plain": [
       "                0         1         2         3         4         5         6  \\\n",
       "0       -0.106307 -0.076018 -0.081182  0.028428  0.006551 -0.049328 -0.131857   \n",
       "1       -0.012138 -0.009232  0.024595 -0.021252 -0.015880 -0.047778 -0.011917   \n",
       "2       -0.052939 -0.071929  0.021859  0.011558 -0.049912 -0.007417  0.011347   \n",
       "3       -0.733260  0.043293  0.119687 -0.123384 -0.071939 -0.126068  0.032904   \n",
       "4       -0.036974 -0.005872 -0.002371 -0.035732 -0.029971 -0.052257  0.016698   \n",
       "...           ...       ...       ...       ...       ...       ...       ...   \n",
       "2364605 -0.052012 -0.050973  0.035910 -0.059969 -0.061255 -0.053517  1.033800   \n",
       "2364606 -0.059736 -0.061631  0.070624  0.048631  0.038553  0.030114 -0.824042   \n",
       "2364607  0.036065  0.071069 -0.168564  0.064844  0.088171  0.013884  0.160834   \n",
       "2364608  0.059826  0.027907  0.042077 -0.105650 -0.061793  0.070876  0.088055   \n",
       "2364609  0.044416  0.040018 -0.051139 -0.062561  0.000647  0.049335  0.051266   \n",
       "\n",
       "                7         8         9  ...        91        92        93  \\\n",
       "0       -0.037628  0.003007  0.085964  ... -0.088359 -0.011955  0.072061   \n",
       "1        0.028311 -0.034624  0.059547  ... -0.274189 -0.501134  0.305044   \n",
       "2        0.026139 -0.013402 -0.028613  ... -0.009154 -0.019550 -0.094600   \n",
       "3        0.110734 -0.096527 -0.095115  ... -0.101405  0.220706  0.192686   \n",
       "4        0.027884  0.000931  0.016802  ...  0.005399  0.063239 -0.027632   \n",
       "...           ...       ...       ...  ...       ...       ...       ...   \n",
       "2364605  0.041240 -0.052969  0.050190  ...  0.034043  0.038958 -0.019946   \n",
       "2364606  0.028283 -0.084142 -0.113815  ... -0.266709 -0.537886  0.321153   \n",
       "2364607 -0.273891  0.120310 -0.068251  ...  0.009662  0.028640 -0.053873   \n",
       "2364608 -0.013670 -0.131062  0.035856  ... -0.252920  0.035881  0.221206   \n",
       "2364609 -0.045116  0.042828 -0.066228  ...  0.032207  0.050358 -0.025129   \n",
       "\n",
       "               94        95        96        97        98        99  \\\n",
       "0       -0.239798  0.282087 -0.085467  0.008205  0.139863 -0.100712   \n",
       "1        0.213702 -0.469372  0.195861 -0.185408  0.056212  0.258238   \n",
       "2        0.098562 -0.025860 -0.037455 -0.112670  0.071711  0.070507   \n",
       "3       -0.176124 -0.216842 -0.436630  0.103777 -0.110369 -0.125698   \n",
       "4       -0.001155  0.048586  0.052991  0.027887  0.004721 -0.061660   \n",
       "...           ...       ...       ...       ...       ...       ...   \n",
       "2364605 -0.008046  0.001575 -0.011575 -0.047649 -0.035770 -0.002342   \n",
       "2364606  0.181186 -0.507742  0.207627 -0.238616  0.106768  0.250761   \n",
       "2364607  0.002138  0.008572  0.031187 -0.037569 -0.022562  0.013139   \n",
       "2364608 -0.067258 -0.011880 -0.220015 -0.025483  0.051174 -0.045477   \n",
       "2364609  0.003666  0.044197  0.073098  0.011964 -0.054151 -0.093798   \n",
       "\n",
       "                                             ground_truth  \n",
       "0             http://www.semanticweb.org/needed-terms#001  \n",
       "1          http://semanticscience.org/resource/SIO_000281  \n",
       "2                                           no_link_known  \n",
       "3                                           no_link_known  \n",
       "4                                           no_link_known  \n",
       "...                                                   ...  \n",
       "2364605                                     no_link_known  \n",
       "2364606    http://semanticscience.org/resource/SIO_000281  \n",
       "2364607  http://www.w3.org/1999/02/22-rdf-syntax-ns#label  \n",
       "2364608       http://www.semanticweb.org/needed-terms#001  \n",
       "2364609                                     no_link_known  \n",
       "\n",
       "[2364610 rows x 101 columns]"
      ]
     },
     "execution_count": 4,
     "metadata": {},
     "output_type": "execute_result"
    }
   ],
   "source": [
    "# Embeddings validation set set\n",
    "embval = pd.read_csv('/home/antoine/gene_pheno_pred/ConvKB_2023-04-13_16-59-47_train.csv' , header=0)\n",
    "embval"
   ]
  },
  {
   "cell_type": "code",
   "execution_count": 5,
   "metadata": {
    "tags": []
   },
   "outputs": [
    {
     "name": "stderr",
     "output_type": "stream",
     "text": [
      "[LightGBM] [Fatal] GPU Tree Learner was not enabled in this build.\n",
      "Please recompile with CMake option -DUSE_GPU=1\n",
      "[LightGBM] [Fatal] CUDA Tree Learner was not enabled in this build.\n",
      "Please recompile with CMake option -DUSE_CUDA=1\n",
      "[LightGBM] [Fatal] GPU Tree Learner was not enabled in this build.\n",
      "Please recompile with CMake option -DUSE_GPU=1\n",
      "[LightGBM] [Fatal] CUDA Tree Learner was not enabled in this build.\n",
      "Please recompile with CMake option -DUSE_CUDA=1\n",
      "[LightGBM] [Fatal] GPU Tree Learner was not enabled in this build.\n",
      "Please recompile with CMake option -DUSE_GPU=1\n",
      "[LightGBM] [Fatal] CUDA Tree Learner was not enabled in this build.\n",
      "Please recompile with CMake option -DUSE_CUDA=1\n",
      "[LightGBM] [Fatal] GPU Tree Learner was not enabled in this build.\n",
      "Please recompile with CMake option -DUSE_GPU=1\n",
      "[LightGBM] [Fatal] CUDA Tree Learner was not enabled in this build.\n",
      "Please recompile with CMake option -DUSE_CUDA=1\n",
      "[LightGBM] [Fatal] GPU Tree Learner was not enabled in this build.\n",
      "Please recompile with CMake option -DUSE_GPU=1\n",
      "[LightGBM] [Fatal] CUDA Tree Learner was not enabled in this build.\n",
      "Please recompile with CMake option -DUSE_CUDA=1\n",
      "[LightGBM] [Fatal] GPU Tree Learner was not enabled in this build.\n",
      "Please recompile with CMake option -DUSE_GPU=1\n",
      "[LightGBM] [Fatal] CUDA Tree Learner was not enabled in this build.\n",
      "Please recompile with CMake option -DUSE_CUDA=1\n"
     ]
    },
    {
     "data": {
      "text/html": [
       "<style type=\"text/css\">\n",
       "#T_53593_row9_col1, #T_53593_row16_col1 {\n",
       "  background-color: lightgreen;\n",
       "}\n",
       "</style>\n",
       "<table id=\"T_53593\">\n",
       "  <thead>\n",
       "    <tr>\n",
       "      <th class=\"blank level0\" >&nbsp;</th>\n",
       "      <th id=\"T_53593_level0_col0\" class=\"col_heading level0 col0\" >Description</th>\n",
       "      <th id=\"T_53593_level0_col1\" class=\"col_heading level0 col1\" >Value</th>\n",
       "    </tr>\n",
       "  </thead>\n",
       "  <tbody>\n",
       "    <tr>\n",
       "      <th id=\"T_53593_level0_row0\" class=\"row_heading level0 row0\" >0</th>\n",
       "      <td id=\"T_53593_row0_col0\" class=\"data row0 col0\" >Session id</td>\n",
       "      <td id=\"T_53593_row0_col1\" class=\"data row0 col1\" >4857</td>\n",
       "    </tr>\n",
       "    <tr>\n",
       "      <th id=\"T_53593_level0_row1\" class=\"row_heading level0 row1\" >1</th>\n",
       "      <td id=\"T_53593_row1_col0\" class=\"data row1 col0\" >Target</td>\n",
       "      <td id=\"T_53593_row1_col1\" class=\"data row1 col1\" >ground_truth</td>\n",
       "    </tr>\n",
       "    <tr>\n",
       "      <th id=\"T_53593_level0_row2\" class=\"row_heading level0 row2\" >2</th>\n",
       "      <td id=\"T_53593_row2_col0\" class=\"data row2 col0\" >Target type</td>\n",
       "      <td id=\"T_53593_row2_col1\" class=\"data row2 col1\" >Multiclass</td>\n",
       "    </tr>\n",
       "    <tr>\n",
       "      <th id=\"T_53593_level0_row3\" class=\"row_heading level0 row3\" >3</th>\n",
       "      <td id=\"T_53593_row3_col0\" class=\"data row3 col0\" >Target mapping</td>\n",
       "      <td id=\"T_53593_row3_col1\" class=\"data row3 col1\" >http://semanticscience.org/resource/SIO_000281: 0, http://semanticscience.org/resource/SIO_000628: 1, http://semanticscience.org/resource/SIO_001279: 2, http://www.semanticweb.org/needed-terms#001: 3, http://www.semanticweb.org/needed-terms#002: 4, http://www.semanticweb.org/needed-terms#004: 5, http://www.semanticweb.org/needed-terms#009: 6, http://www.w3.org/1999/02/22-rdf-syntax-ns#type: 7, http://www.w3.org/2000/01/rdf-schema#subClassOf: 8, no_link_known: 9</td>\n",
       "    </tr>\n",
       "    <tr>\n",
       "      <th id=\"T_53593_level0_row4\" class=\"row_heading level0 row4\" >4</th>\n",
       "      <td id=\"T_53593_row4_col0\" class=\"data row4 col0\" >Original data shape</td>\n",
       "      <td id=\"T_53593_row4_col1\" class=\"data row4 col1\" >(234142, 101)</td>\n",
       "    </tr>\n",
       "    <tr>\n",
       "      <th id=\"T_53593_level0_row5\" class=\"row_heading level0 row5\" >5</th>\n",
       "      <td id=\"T_53593_row5_col0\" class=\"data row5 col0\" >Transformed data shape</td>\n",
       "      <td id=\"T_53593_row5_col1\" class=\"data row5 col1\" >(234142, 101)</td>\n",
       "    </tr>\n",
       "    <tr>\n",
       "      <th id=\"T_53593_level0_row6\" class=\"row_heading level0 row6\" >6</th>\n",
       "      <td id=\"T_53593_row6_col0\" class=\"data row6 col0\" >Transformed train set shape</td>\n",
       "      <td id=\"T_53593_row6_col1\" class=\"data row6 col1\" >(187313, 101)</td>\n",
       "    </tr>\n",
       "    <tr>\n",
       "      <th id=\"T_53593_level0_row7\" class=\"row_heading level0 row7\" >7</th>\n",
       "      <td id=\"T_53593_row7_col0\" class=\"data row7 col0\" >Transformed test set shape</td>\n",
       "      <td id=\"T_53593_row7_col1\" class=\"data row7 col1\" >(46829, 101)</td>\n",
       "    </tr>\n",
       "    <tr>\n",
       "      <th id=\"T_53593_level0_row8\" class=\"row_heading level0 row8\" >8</th>\n",
       "      <td id=\"T_53593_row8_col0\" class=\"data row8 col0\" >Numeric features</td>\n",
       "      <td id=\"T_53593_row8_col1\" class=\"data row8 col1\" >100</td>\n",
       "    </tr>\n",
       "    <tr>\n",
       "      <th id=\"T_53593_level0_row9\" class=\"row_heading level0 row9\" >9</th>\n",
       "      <td id=\"T_53593_row9_col0\" class=\"data row9 col0\" >Preprocess</td>\n",
       "      <td id=\"T_53593_row9_col1\" class=\"data row9 col1\" >True</td>\n",
       "    </tr>\n",
       "    <tr>\n",
       "      <th id=\"T_53593_level0_row10\" class=\"row_heading level0 row10\" >10</th>\n",
       "      <td id=\"T_53593_row10_col0\" class=\"data row10 col0\" >Imputation type</td>\n",
       "      <td id=\"T_53593_row10_col1\" class=\"data row10 col1\" >simple</td>\n",
       "    </tr>\n",
       "    <tr>\n",
       "      <th id=\"T_53593_level0_row11\" class=\"row_heading level0 row11\" >11</th>\n",
       "      <td id=\"T_53593_row11_col0\" class=\"data row11 col0\" >Numeric imputation</td>\n",
       "      <td id=\"T_53593_row11_col1\" class=\"data row11 col1\" >mean</td>\n",
       "    </tr>\n",
       "    <tr>\n",
       "      <th id=\"T_53593_level0_row12\" class=\"row_heading level0 row12\" >12</th>\n",
       "      <td id=\"T_53593_row12_col0\" class=\"data row12 col0\" >Categorical imputation</td>\n",
       "      <td id=\"T_53593_row12_col1\" class=\"data row12 col1\" >mode</td>\n",
       "    </tr>\n",
       "    <tr>\n",
       "      <th id=\"T_53593_level0_row13\" class=\"row_heading level0 row13\" >13</th>\n",
       "      <td id=\"T_53593_row13_col0\" class=\"data row13 col0\" >Fold Generator</td>\n",
       "      <td id=\"T_53593_row13_col1\" class=\"data row13 col1\" >StratifiedKFold</td>\n",
       "    </tr>\n",
       "    <tr>\n",
       "      <th id=\"T_53593_level0_row14\" class=\"row_heading level0 row14\" >14</th>\n",
       "      <td id=\"T_53593_row14_col0\" class=\"data row14 col0\" >Fold Number</td>\n",
       "      <td id=\"T_53593_row14_col1\" class=\"data row14 col1\" >10</td>\n",
       "    </tr>\n",
       "    <tr>\n",
       "      <th id=\"T_53593_level0_row15\" class=\"row_heading level0 row15\" >15</th>\n",
       "      <td id=\"T_53593_row15_col0\" class=\"data row15 col0\" >CPU Jobs</td>\n",
       "      <td id=\"T_53593_row15_col1\" class=\"data row15 col1\" >-1</td>\n",
       "    </tr>\n",
       "    <tr>\n",
       "      <th id=\"T_53593_level0_row16\" class=\"row_heading level0 row16\" >16</th>\n",
       "      <td id=\"T_53593_row16_col0\" class=\"data row16 col0\" >Use GPU</td>\n",
       "      <td id=\"T_53593_row16_col1\" class=\"data row16 col1\" >True</td>\n",
       "    </tr>\n",
       "    <tr>\n",
       "      <th id=\"T_53593_level0_row17\" class=\"row_heading level0 row17\" >17</th>\n",
       "      <td id=\"T_53593_row17_col0\" class=\"data row17 col0\" >Log Experiment</td>\n",
       "      <td id=\"T_53593_row17_col1\" class=\"data row17 col1\" >WandbLogger</td>\n",
       "    </tr>\n",
       "    <tr>\n",
       "      <th id=\"T_53593_level0_row18\" class=\"row_heading level0 row18\" >18</th>\n",
       "      <td id=\"T_53593_row18_col0\" class=\"data row18 col0\" >Experiment Name</td>\n",
       "      <td id=\"T_53593_row18_col1\" class=\"data row18 col1\" >clf-default-name</td>\n",
       "    </tr>\n",
       "    <tr>\n",
       "      <th id=\"T_53593_level0_row19\" class=\"row_heading level0 row19\" >19</th>\n",
       "      <td id=\"T_53593_row19_col0\" class=\"data row19 col0\" >USI</td>\n",
       "      <td id=\"T_53593_row19_col1\" class=\"data row19 col1\" >d457</td>\n",
       "    </tr>\n",
       "  </tbody>\n",
       "</table>\n"
      ],
      "text/plain": [
       "<pandas.io.formats.style.Styler at 0x7f6bb4533ac0>"
      ]
     },
     "metadata": {},
     "output_type": "display_data"
    },
    {
     "name": "stderr",
     "output_type": "stream",
     "text": [
      "[LightGBM] [Fatal] GPU Tree Learner was not enabled in this build.\n",
      "Please recompile with CMake option -DUSE_GPU=1\n",
      "[LightGBM] [Fatal] CUDA Tree Learner was not enabled in this build.\n",
      "Please recompile with CMake option -DUSE_CUDA=1\n",
      "[LightGBM] [Fatal] GPU Tree Learner was not enabled in this build.\n",
      "Please recompile with CMake option -DUSE_GPU=1\n",
      "[LightGBM] [Fatal] CUDA Tree Learner was not enabled in this build.\n",
      "Please recompile with CMake option -DUSE_CUDA=1\n"
     ]
    }
   ],
   "source": [
    "# Experiment setup\n",
    "s = setup(train, target = 'ground_truth', fold_strategy = 'stratifiedkfold', fold=10, train_size = 0.8, n_jobs=-1, system_log=True, use_gpu = True, log_experiment='wandb')\n",
    "exp = ClassificationExperiment()"
   ]
  },
  {
   "cell_type": "markdown",
   "metadata": {},
   "source": [
    "# K Neighbors Classifier"
   ]
  },
  {
   "cell_type": "code",
   "execution_count": 6,
   "metadata": {
    "tags": []
   },
   "outputs": [
    {
     "data": {
      "text/html": [],
      "text/plain": [
       "<IPython.core.display.HTML object>"
      ]
     },
     "metadata": {},
     "output_type": "display_data"
    },
    {
     "data": {
      "text/html": [
       "<style type=\"text/css\">\n",
       "#T_ce984_row10_col0, #T_ce984_row10_col1, #T_ce984_row10_col2, #T_ce984_row10_col3, #T_ce984_row10_col4, #T_ce984_row10_col5, #T_ce984_row10_col6 {\n",
       "  background: yellow;\n",
       "}\n",
       "</style>\n",
       "<table id=\"T_ce984\">\n",
       "  <thead>\n",
       "    <tr>\n",
       "      <th class=\"blank level0\" >&nbsp;</th>\n",
       "      <th id=\"T_ce984_level0_col0\" class=\"col_heading level0 col0\" >Accuracy</th>\n",
       "      <th id=\"T_ce984_level0_col1\" class=\"col_heading level0 col1\" >AUC</th>\n",
       "      <th id=\"T_ce984_level0_col2\" class=\"col_heading level0 col2\" >Recall</th>\n",
       "      <th id=\"T_ce984_level0_col3\" class=\"col_heading level0 col3\" >Prec.</th>\n",
       "      <th id=\"T_ce984_level0_col4\" class=\"col_heading level0 col4\" >F1</th>\n",
       "      <th id=\"T_ce984_level0_col5\" class=\"col_heading level0 col5\" >Kappa</th>\n",
       "      <th id=\"T_ce984_level0_col6\" class=\"col_heading level0 col6\" >MCC</th>\n",
       "    </tr>\n",
       "    <tr>\n",
       "      <th class=\"index_name level0\" >Fold</th>\n",
       "      <th class=\"blank col0\" >&nbsp;</th>\n",
       "      <th class=\"blank col1\" >&nbsp;</th>\n",
       "      <th class=\"blank col2\" >&nbsp;</th>\n",
       "      <th class=\"blank col3\" >&nbsp;</th>\n",
       "      <th class=\"blank col4\" >&nbsp;</th>\n",
       "      <th class=\"blank col5\" >&nbsp;</th>\n",
       "      <th class=\"blank col6\" >&nbsp;</th>\n",
       "    </tr>\n",
       "  </thead>\n",
       "  <tbody>\n",
       "    <tr>\n",
       "      <th id=\"T_ce984_level0_row0\" class=\"row_heading level0 row0\" >0</th>\n",
       "      <td id=\"T_ce984_row0_col0\" class=\"data row0 col0\" >0.6075</td>\n",
       "      <td id=\"T_ce984_row0_col1\" class=\"data row0 col1\" >0.7998</td>\n",
       "      <td id=\"T_ce984_row0_col2\" class=\"data row0 col2\" >0.6075</td>\n",
       "      <td id=\"T_ce984_row0_col3\" class=\"data row0 col3\" >0.6144</td>\n",
       "      <td id=\"T_ce984_row0_col4\" class=\"data row0 col4\" >0.6034</td>\n",
       "      <td id=\"T_ce984_row0_col5\" class=\"data row0 col5\" >0.4378</td>\n",
       "      <td id=\"T_ce984_row0_col6\" class=\"data row0 col6\" >0.4409</td>\n",
       "    </tr>\n",
       "    <tr>\n",
       "      <th id=\"T_ce984_level0_row1\" class=\"row_heading level0 row1\" >1</th>\n",
       "      <td id=\"T_ce984_row1_col0\" class=\"data row1 col0\" >0.6043</td>\n",
       "      <td id=\"T_ce984_row1_col1\" class=\"data row1 col1\" >0.7981</td>\n",
       "      <td id=\"T_ce984_row1_col2\" class=\"data row1 col2\" >0.6043</td>\n",
       "      <td id=\"T_ce984_row1_col3\" class=\"data row1 col3\" >0.6084</td>\n",
       "      <td id=\"T_ce984_row1_col4\" class=\"data row1 col4\" >0.5993</td>\n",
       "      <td id=\"T_ce984_row1_col5\" class=\"data row1 col5\" >0.4327</td>\n",
       "      <td id=\"T_ce984_row1_col6\" class=\"data row1 col6\" >0.4354</td>\n",
       "    </tr>\n",
       "    <tr>\n",
       "      <th id=\"T_ce984_level0_row2\" class=\"row_heading level0 row2\" >2</th>\n",
       "      <td id=\"T_ce984_row2_col0\" class=\"data row2 col0\" >0.6026</td>\n",
       "      <td id=\"T_ce984_row2_col1\" class=\"data row2 col1\" >0.7971</td>\n",
       "      <td id=\"T_ce984_row2_col2\" class=\"data row2 col2\" >0.6026</td>\n",
       "      <td id=\"T_ce984_row2_col3\" class=\"data row2 col3\" >0.6099</td>\n",
       "      <td id=\"T_ce984_row2_col4\" class=\"data row2 col4\" >0.5989</td>\n",
       "      <td id=\"T_ce984_row2_col5\" class=\"data row2 col5\" >0.4319</td>\n",
       "      <td id=\"T_ce984_row2_col6\" class=\"data row2 col6\" >0.4350</td>\n",
       "    </tr>\n",
       "    <tr>\n",
       "      <th id=\"T_ce984_level0_row3\" class=\"row_heading level0 row3\" >3</th>\n",
       "      <td id=\"T_ce984_row3_col0\" class=\"data row3 col0\" >0.6036</td>\n",
       "      <td id=\"T_ce984_row3_col1\" class=\"data row3 col1\" >0.7931</td>\n",
       "      <td id=\"T_ce984_row3_col2\" class=\"data row3 col2\" >0.6036</td>\n",
       "      <td id=\"T_ce984_row3_col3\" class=\"data row3 col3\" >0.6088</td>\n",
       "      <td id=\"T_ce984_row3_col4\" class=\"data row3 col4\" >0.5990</td>\n",
       "      <td id=\"T_ce984_row3_col5\" class=\"data row3 col5\" >0.4311</td>\n",
       "      <td id=\"T_ce984_row3_col6\" class=\"data row3 col6\" >0.4339</td>\n",
       "    </tr>\n",
       "    <tr>\n",
       "      <th id=\"T_ce984_level0_row4\" class=\"row_heading level0 row4\" >4</th>\n",
       "      <td id=\"T_ce984_row4_col0\" class=\"data row4 col0\" >0.6071</td>\n",
       "      <td id=\"T_ce984_row4_col1\" class=\"data row4 col1\" >0.7989</td>\n",
       "      <td id=\"T_ce984_row4_col2\" class=\"data row4 col2\" >0.6071</td>\n",
       "      <td id=\"T_ce984_row4_col3\" class=\"data row4 col3\" >0.6106</td>\n",
       "      <td id=\"T_ce984_row4_col4\" class=\"data row4 col4\" >0.6023</td>\n",
       "      <td id=\"T_ce984_row4_col5\" class=\"data row4 col5\" >0.4352</td>\n",
       "      <td id=\"T_ce984_row4_col6\" class=\"data row4 col6\" >0.4378</td>\n",
       "    </tr>\n",
       "    <tr>\n",
       "      <th id=\"T_ce984_level0_row5\" class=\"row_heading level0 row5\" >5</th>\n",
       "      <td id=\"T_ce984_row5_col0\" class=\"data row5 col0\" >0.6084</td>\n",
       "      <td id=\"T_ce984_row5_col1\" class=\"data row5 col1\" >0.8005</td>\n",
       "      <td id=\"T_ce984_row5_col2\" class=\"data row5 col2\" >0.6084</td>\n",
       "      <td id=\"T_ce984_row5_col3\" class=\"data row5 col3\" >0.6123</td>\n",
       "      <td id=\"T_ce984_row5_col4\" class=\"data row5 col4\" >0.6034</td>\n",
       "      <td id=\"T_ce984_row5_col5\" class=\"data row5 col5\" >0.4377</td>\n",
       "      <td id=\"T_ce984_row5_col6\" class=\"data row5 col6\" >0.4403</td>\n",
       "    </tr>\n",
       "    <tr>\n",
       "      <th id=\"T_ce984_level0_row6\" class=\"row_heading level0 row6\" >6</th>\n",
       "      <td id=\"T_ce984_row6_col0\" class=\"data row6 col0\" >0.6055</td>\n",
       "      <td id=\"T_ce984_row6_col1\" class=\"data row6 col1\" >0.7986</td>\n",
       "      <td id=\"T_ce984_row6_col2\" class=\"data row6 col2\" >0.6055</td>\n",
       "      <td id=\"T_ce984_row6_col3\" class=\"data row6 col3\" >0.6128</td>\n",
       "      <td id=\"T_ce984_row6_col4\" class=\"data row6 col4\" >0.6019</td>\n",
       "      <td id=\"T_ce984_row6_col5\" class=\"data row6 col5\" >0.4369</td>\n",
       "      <td id=\"T_ce984_row6_col6\" class=\"data row6 col6\" >0.4399</td>\n",
       "    </tr>\n",
       "    <tr>\n",
       "      <th id=\"T_ce984_level0_row7\" class=\"row_heading level0 row7\" >7</th>\n",
       "      <td id=\"T_ce984_row7_col0\" class=\"data row7 col0\" >0.6079</td>\n",
       "      <td id=\"T_ce984_row7_col1\" class=\"data row7 col1\" >0.8002</td>\n",
       "      <td id=\"T_ce984_row7_col2\" class=\"data row7 col2\" >0.6079</td>\n",
       "      <td id=\"T_ce984_row7_col3\" class=\"data row7 col3\" >0.6142</td>\n",
       "      <td id=\"T_ce984_row7_col4\" class=\"data row7 col4\" >0.6034</td>\n",
       "      <td id=\"T_ce984_row7_col5\" class=\"data row7 col5\" >0.4374</td>\n",
       "      <td id=\"T_ce984_row7_col6\" class=\"data row7 col6\" >0.4405</td>\n",
       "    </tr>\n",
       "    <tr>\n",
       "      <th id=\"T_ce984_level0_row8\" class=\"row_heading level0 row8\" >8</th>\n",
       "      <td id=\"T_ce984_row8_col0\" class=\"data row8 col0\" >0.6048</td>\n",
       "      <td id=\"T_ce984_row8_col1\" class=\"data row8 col1\" >0.7982</td>\n",
       "      <td id=\"T_ce984_row8_col2\" class=\"data row8 col2\" >0.6048</td>\n",
       "      <td id=\"T_ce984_row8_col3\" class=\"data row8 col3\" >0.6090</td>\n",
       "      <td id=\"T_ce984_row8_col4\" class=\"data row8 col4\" >0.6000</td>\n",
       "      <td id=\"T_ce984_row8_col5\" class=\"data row8 col5\" >0.4333</td>\n",
       "      <td id=\"T_ce984_row8_col6\" class=\"data row8 col6\" >0.4362</td>\n",
       "    </tr>\n",
       "    <tr>\n",
       "      <th id=\"T_ce984_level0_row9\" class=\"row_heading level0 row9\" >9</th>\n",
       "      <td id=\"T_ce984_row9_col0\" class=\"data row9 col0\" >0.6015</td>\n",
       "      <td id=\"T_ce984_row9_col1\" class=\"data row9 col1\" >0.7936</td>\n",
       "      <td id=\"T_ce984_row9_col2\" class=\"data row9 col2\" >0.6015</td>\n",
       "      <td id=\"T_ce984_row9_col3\" class=\"data row9 col3\" >0.6063</td>\n",
       "      <td id=\"T_ce984_row9_col4\" class=\"data row9 col4\" >0.5975</td>\n",
       "      <td id=\"T_ce984_row9_col5\" class=\"data row9 col5\" >0.4285</td>\n",
       "      <td id=\"T_ce984_row9_col6\" class=\"data row9 col6\" >0.4311</td>\n",
       "    </tr>\n",
       "    <tr>\n",
       "      <th id=\"T_ce984_level0_row10\" class=\"row_heading level0 row10\" >Mean</th>\n",
       "      <td id=\"T_ce984_row10_col0\" class=\"data row10 col0\" >0.6053</td>\n",
       "      <td id=\"T_ce984_row10_col1\" class=\"data row10 col1\" >0.7978</td>\n",
       "      <td id=\"T_ce984_row10_col2\" class=\"data row10 col2\" >0.6053</td>\n",
       "      <td id=\"T_ce984_row10_col3\" class=\"data row10 col3\" >0.6107</td>\n",
       "      <td id=\"T_ce984_row10_col4\" class=\"data row10 col4\" >0.6009</td>\n",
       "      <td id=\"T_ce984_row10_col5\" class=\"data row10 col5\" >0.4343</td>\n",
       "      <td id=\"T_ce984_row10_col6\" class=\"data row10 col6\" >0.4371</td>\n",
       "    </tr>\n",
       "    <tr>\n",
       "      <th id=\"T_ce984_level0_row11\" class=\"row_heading level0 row11\" >Std</th>\n",
       "      <td id=\"T_ce984_row11_col0\" class=\"data row11 col0\" >0.0022</td>\n",
       "      <td id=\"T_ce984_row11_col1\" class=\"data row11 col1\" >0.0024</td>\n",
       "      <td id=\"T_ce984_row11_col2\" class=\"data row11 col2\" >0.0022</td>\n",
       "      <td id=\"T_ce984_row11_col3\" class=\"data row11 col3\" >0.0026</td>\n",
       "      <td id=\"T_ce984_row11_col4\" class=\"data row11 col4\" >0.0021</td>\n",
       "      <td id=\"T_ce984_row11_col5\" class=\"data row11 col5\" >0.0031</td>\n",
       "      <td id=\"T_ce984_row11_col6\" class=\"data row11 col6\" >0.0032</td>\n",
       "    </tr>\n",
       "  </tbody>\n",
       "</table>\n"
      ],
      "text/plain": [
       "<pandas.io.formats.style.Styler at 0x7f6bb4533640>"
      ]
     },
     "metadata": {},
     "output_type": "display_data"
    },
    {
     "data": {
      "text/html": [],
      "text/plain": [
       "<IPython.core.display.HTML object>"
      ]
     },
     "metadata": {},
     "output_type": "display_data"
    }
   ],
   "source": [
    "knn = create_model('knn')"
   ]
  },
  {
   "cell_type": "code",
   "execution_count": 7,
   "metadata": {},
   "outputs": [
    {
     "data": {
      "text/html": [],
      "text/plain": [
       "<IPython.core.display.HTML object>"
      ]
     },
     "metadata": {},
     "output_type": "display_data"
    },
    {
     "data": {
      "image/png": "[encoded data removed]",
      "text/plain": [
       "<Figure size 800x550 with 1 Axes>"
      ]
     },
     "metadata": {},
     "output_type": "display_data"
    }
   ],
   "source": [
    "plot_model(knn, plot = 'confusion_matrix')"
   ]
  },
  {
   "cell_type": "code",
   "execution_count": 8,
   "metadata": {},
   "outputs": [
    {
     "data": {
      "text/html": [],
      "text/plain": [
       "<IPython.core.display.HTML object>"
      ]
     },
     "metadata": {},
     "output_type": "display_data"
    },
    {
     "data": {
      "image/png": "[encoded data removed]",
      "text/plain": [
       "<Figure size 800x550 with 1 Axes>"
      ]
     },
     "metadata": {},
     "output_type": "display_data"
    }
   ],
   "source": [
    "plot_model(knn, plot = 'error')"
   ]
  },
  {
   "cell_type": "code",
   "execution_count": 9,
   "metadata": {},
   "outputs": [
    {
     "data": {
      "text/html": [],
      "text/plain": [
       "<IPython.core.display.HTML object>"
      ]
     },
     "metadata": {},
     "output_type": "display_data"
    },
    {
     "data": {
      "text/html": [
       "<div>\n",
       "<style scoped>\n",
       "    .dataframe tbody tr th:only-of-type {\n",
       "        vertical-align: middle;\n",
       "    }\n",
       "\n",
       "    .dataframe tbody tr th {\n",
       "        vertical-align: top;\n",
       "    }\n",
       "\n",
       "    .dataframe thead th {\n",
       "        text-align: right;\n",
       "    }\n",
       "</style>\n",
       "<table border=\"1\" class=\"dataframe\">\n",
       "  <thead>\n",
       "    <tr style=\"text-align: right;\">\n",
       "      <th></th>\n",
       "      <th>Parameters</th>\n",
       "    </tr>\n",
       "  </thead>\n",
       "  <tbody>\n",
       "    <tr>\n",
       "      <th>algorithm</th>\n",
       "      <td>auto</td>\n",
       "    </tr>\n",
       "    <tr>\n",
       "      <th>leaf_size</th>\n",
       "      <td>30</td>\n",
       "    </tr>\n",
       "    <tr>\n",
       "      <th>metric</th>\n",
       "      <td>minkowski</td>\n",
       "    </tr>\n",
       "    <tr>\n",
       "      <th>metric_params</th>\n",
       "      <td>None</td>\n",
       "    </tr>\n",
       "    <tr>\n",
       "      <th>n_jobs</th>\n",
       "      <td>-1</td>\n",
       "    </tr>\n",
       "    <tr>\n",
       "      <th>n_neighbors</th>\n",
       "      <td>5</td>\n",
       "    </tr>\n",
       "    <tr>\n",
       "      <th>p</th>\n",
       "      <td>2</td>\n",
       "    </tr>\n",
       "    <tr>\n",
       "      <th>weights</th>\n",
       "      <td>uniform</td>\n",
       "    </tr>\n",
       "  </tbody>\n",
       "</table>\n",
       "</div>"
      ],
      "text/plain": [
       "              Parameters\n",
       "algorithm           auto\n",
       "leaf_size             30\n",
       "metric         minkowski\n",
       "metric_params       None\n",
       "n_jobs                -1\n",
       "n_neighbors            5\n",
       "p                      2\n",
       "weights          uniform"
      ]
     },
     "metadata": {},
     "output_type": "display_data"
    }
   ],
   "source": [
    "plot_model(knn, plot = 'parameter')"
   ]
  },
  {
   "cell_type": "code",
   "execution_count": 10,
   "metadata": {},
   "outputs": [
    {
     "data": {
      "text/html": [
       "<style type=\"text/css\">\n",
       "</style>\n",
       "<table id=\"T_ffe69\">\n",
       "  <thead>\n",
       "    <tr>\n",
       "      <th class=\"blank level0\" >&nbsp;</th>\n",
       "      <th id=\"T_ffe69_level0_col0\" class=\"col_heading level0 col0\" >Model</th>\n",
       "      <th id=\"T_ffe69_level0_col1\" class=\"col_heading level0 col1\" >Accuracy</th>\n",
       "      <th id=\"T_ffe69_level0_col2\" class=\"col_heading level0 col2\" >AUC</th>\n",
       "      <th id=\"T_ffe69_level0_col3\" class=\"col_heading level0 col3\" >Recall</th>\n",
       "      <th id=\"T_ffe69_level0_col4\" class=\"col_heading level0 col4\" >Prec.</th>\n",
       "      <th id=\"T_ffe69_level0_col5\" class=\"col_heading level0 col5\" >F1</th>\n",
       "      <th id=\"T_ffe69_level0_col6\" class=\"col_heading level0 col6\" >Kappa</th>\n",
       "      <th id=\"T_ffe69_level0_col7\" class=\"col_heading level0 col7\" >MCC</th>\n",
       "    </tr>\n",
       "  </thead>\n",
       "  <tbody>\n",
       "    <tr>\n",
       "      <th id=\"T_ffe69_level0_row0\" class=\"row_heading level0 row0\" >0</th>\n",
       "      <td id=\"T_ffe69_row0_col0\" class=\"data row0 col0\" >K Neighbors Classifier</td>\n",
       "      <td id=\"T_ffe69_row0_col1\" class=\"data row0 col1\" >0.5123</td>\n",
       "      <td id=\"T_ffe69_row0_col2\" class=\"data row0 col2\" >0.7038</td>\n",
       "      <td id=\"T_ffe69_row0_col3\" class=\"data row0 col3\" >0</td>\n",
       "      <td id=\"T_ffe69_row0_col4\" class=\"data row0 col4\" >0</td>\n",
       "      <td id=\"T_ffe69_row0_col5\" class=\"data row0 col5\" >0</td>\n",
       "      <td id=\"T_ffe69_row0_col6\" class=\"data row0 col6\" >0.2747</td>\n",
       "      <td id=\"T_ffe69_row0_col7\" class=\"data row0 col7\" >0.2765</td>\n",
       "    </tr>\n",
       "  </tbody>\n",
       "</table>\n"
      ],
      "text/plain": [
       "<pandas.io.formats.style.Styler at 0x7f6bb461b7c0>"
      ]
     },
     "metadata": {},
     "output_type": "display_data"
    }
   ],
   "source": [
    "knn_val_pred = predict_model(knn, data=val)"
   ]
  },
  {
   "cell_type": "code",
   "execution_count": 11,
   "metadata": {},
   "outputs": [
    {
     "data": {
      "text/html": [],
      "text/plain": [
       "<IPython.core.display.HTML object>"
      ]
     },
     "metadata": {},
     "output_type": "display_data"
    },
    {
     "ename": "ValueError",
     "evalue": "y contains previously unseen labels: 'http://www.w3.org/1999/02/22-rdf-syntax-ns#label'",
     "output_type": "error",
     "traceback": [
      "\u001b[0;31m---------------------------------------------------------------------------\u001b[0m",
      "\u001b[0;31mKeyError\u001b[0m                                  Traceback (most recent call last)",
      "File \u001b[0;32m~/miniconda3/envs/aled/lib/python3.10/site-packages/sklearn/utils/_encode.py:224\u001b[0m, in \u001b[0;36m_encode\u001b[0;34m(values, uniques, check_unknown)\u001b[0m\n\u001b[1;32m    223\u001b[0m \u001b[38;5;28;01mtry\u001b[39;00m:\n\u001b[0;32m--> 224\u001b[0m     \u001b[38;5;28;01mreturn\u001b[39;00m \u001b[43m_map_to_integer\u001b[49m\u001b[43m(\u001b[49m\u001b[43mvalues\u001b[49m\u001b[43m,\u001b[49m\u001b[43m \u001b[49m\u001b[43muniques\u001b[49m\u001b[43m)\u001b[49m\n\u001b[1;32m    225\u001b[0m \u001b[38;5;28;01mexcept\u001b[39;00m \u001b[38;5;167;01mKeyError\u001b[39;00m \u001b[38;5;28;01mas\u001b[39;00m e:\n",
      "File \u001b[0;32m~/miniconda3/envs/aled/lib/python3.10/site-packages/sklearn/utils/_encode.py:164\u001b[0m, in \u001b[0;36m_map_to_integer\u001b[0;34m(values, uniques)\u001b[0m\n\u001b[1;32m    163\u001b[0m table \u001b[38;5;241m=\u001b[39m _nandict({val: i \u001b[38;5;28;01mfor\u001b[39;00m i, val \u001b[38;5;129;01min\u001b[39;00m \u001b[38;5;28menumerate\u001b[39m(uniques)})\n\u001b[0;32m--> 164\u001b[0m \u001b[38;5;28;01mreturn\u001b[39;00m np\u001b[38;5;241m.\u001b[39marray([table[v] \u001b[38;5;28;01mfor\u001b[39;00m v \u001b[38;5;129;01min\u001b[39;00m values])\n",
      "File \u001b[0;32m~/miniconda3/envs/aled/lib/python3.10/site-packages/sklearn/utils/_encode.py:164\u001b[0m, in \u001b[0;36m<listcomp>\u001b[0;34m(.0)\u001b[0m\n\u001b[1;32m    163\u001b[0m table \u001b[38;5;241m=\u001b[39m _nandict({val: i \u001b[38;5;28;01mfor\u001b[39;00m i, val \u001b[38;5;129;01min\u001b[39;00m \u001b[38;5;28menumerate\u001b[39m(uniques)})\n\u001b[0;32m--> 164\u001b[0m \u001b[38;5;28;01mreturn\u001b[39;00m np\u001b[38;5;241m.\u001b[39marray([\u001b[43mtable\u001b[49m\u001b[43m[\u001b[49m\u001b[43mv\u001b[49m\u001b[43m]\u001b[49m \u001b[38;5;28;01mfor\u001b[39;00m v \u001b[38;5;129;01min\u001b[39;00m values])\n",
      "File \u001b[0;32m~/miniconda3/envs/aled/lib/python3.10/site-packages/sklearn/utils/_encode.py:158\u001b[0m, in \u001b[0;36m_nandict.__missing__\u001b[0;34m(self, key)\u001b[0m\n\u001b[1;32m    157\u001b[0m     \u001b[38;5;28;01mreturn\u001b[39;00m \u001b[38;5;28mself\u001b[39m\u001b[38;5;241m.\u001b[39mnan_value\n\u001b[0;32m--> 158\u001b[0m \u001b[38;5;28;01mraise\u001b[39;00m \u001b[38;5;167;01mKeyError\u001b[39;00m(key)\n",
      "\u001b[0;31mKeyError\u001b[0m: 'http://www.w3.org/1999/02/22-rdf-syntax-ns#label'",
      "\nDuring handling of the above exception, another exception occurred:\n",
      "\u001b[0;31mValueError\u001b[0m                                Traceback (most recent call last)",
      "Cell \u001b[0;32mIn[11], line 1\u001b[0m\n\u001b[0;32m----> 1\u001b[0m knn_val_pred \u001b[38;5;241m=\u001b[39m \u001b[43mpredict_model\u001b[49m\u001b[43m(\u001b[49m\u001b[43mknn\u001b[49m\u001b[43m,\u001b[49m\u001b[43m \u001b[49m\u001b[43mdata\u001b[49m\u001b[38;5;241;43m=\u001b[39;49m\u001b[43membval\u001b[49m\u001b[43m)\u001b[49m\n",
      "File \u001b[0;32m~/miniconda3/envs/aled/lib/python3.10/site-packages/pycaret/classification/functional.py:2201\u001b[0m, in \u001b[0;36mpredict_model\u001b[0;34m(estimator, data, probability_threshold, encoded_labels, raw_score, round, verbose)\u001b[0m\n\u001b[1;32m   2198\u001b[0m \u001b[38;5;28;01mif\u001b[39;00m experiment \u001b[38;5;129;01mis\u001b[39;00m \u001b[38;5;28;01mNone\u001b[39;00m:\n\u001b[1;32m   2199\u001b[0m     experiment \u001b[38;5;241m=\u001b[39m _EXPERIMENT_CLASS()\n\u001b[0;32m-> 2201\u001b[0m \u001b[38;5;28;01mreturn\u001b[39;00m \u001b[43mexperiment\u001b[49m\u001b[38;5;241;43m.\u001b[39;49m\u001b[43mpredict_model\u001b[49m\u001b[43m(\u001b[49m\n\u001b[1;32m   2202\u001b[0m \u001b[43m    \u001b[49m\u001b[43mestimator\u001b[49m\u001b[38;5;241;43m=\u001b[39;49m\u001b[43mestimator\u001b[49m\u001b[43m,\u001b[49m\n\u001b[1;32m   2203\u001b[0m \u001b[43m    \u001b[49m\u001b[43mdata\u001b[49m\u001b[38;5;241;43m=\u001b[39;49m\u001b[43mdata\u001b[49m\u001b[43m,\u001b[49m\n\u001b[1;32m   2204\u001b[0m \u001b[43m    \u001b[49m\u001b[43mprobability_threshold\u001b[49m\u001b[38;5;241;43m=\u001b[39;49m\u001b[43mprobability_threshold\u001b[49m\u001b[43m,\u001b[49m\n\u001b[1;32m   2205\u001b[0m \u001b[43m    \u001b[49m\u001b[43mencoded_labels\u001b[49m\u001b[38;5;241;43m=\u001b[39;49m\u001b[43mencoded_labels\u001b[49m\u001b[43m,\u001b[49m\n\u001b[1;32m   2206\u001b[0m \u001b[43m    \u001b[49m\u001b[43mraw_score\u001b[49m\u001b[38;5;241;43m=\u001b[39;49m\u001b[43mraw_score\u001b[49m\u001b[43m,\u001b[49m\n\u001b[1;32m   2207\u001b[0m \u001b[43m    \u001b[49m\u001b[38;5;28;43mround\u001b[39;49m\u001b[38;5;241;43m=\u001b[39;49m\u001b[38;5;28;43mround\u001b[39;49m\u001b[43m,\u001b[49m\n\u001b[1;32m   2208\u001b[0m \u001b[43m    \u001b[49m\u001b[43mverbose\u001b[49m\u001b[38;5;241;43m=\u001b[39;49m\u001b[43mverbose\u001b[49m\u001b[43m,\u001b[49m\n\u001b[1;32m   2209\u001b[0m \u001b[43m\u001b[49m\u001b[43m)\u001b[49m\n",
      "File \u001b[0;32m~/miniconda3/envs/aled/lib/python3.10/site-packages/pycaret/classification/oop.py:2843\u001b[0m, in \u001b[0;36mClassificationExperiment.predict_model\u001b[0;34m(self, estimator, data, probability_threshold, encoded_labels, raw_score, round, verbose)\u001b[0m\n\u001b[1;32m   2770\u001b[0m \u001b[38;5;28;01mdef\u001b[39;00m \u001b[38;5;21mpredict_model\u001b[39m(\n\u001b[1;32m   2771\u001b[0m     \u001b[38;5;28mself\u001b[39m,\n\u001b[1;32m   2772\u001b[0m     estimator,\n\u001b[0;32m   (...)\u001b[0m\n\u001b[1;32m   2778\u001b[0m     verbose: \u001b[38;5;28mbool\u001b[39m \u001b[38;5;241m=\u001b[39m \u001b[38;5;28;01mTrue\u001b[39;00m,\n\u001b[1;32m   2779\u001b[0m ) \u001b[38;5;241m-\u001b[39m\u001b[38;5;241m>\u001b[39m pd\u001b[38;5;241m.\u001b[39mDataFrame:\n\u001b[1;32m   2781\u001b[0m     \u001b[38;5;124;03m\"\"\"\u001b[39;00m\n\u001b[1;32m   2782\u001b[0m \u001b[38;5;124;03m    This function predicts ``Label`` and ``Score`` (probability of predicted\u001b[39;00m\n\u001b[1;32m   2783\u001b[0m \u001b[38;5;124;03m    class) using a trained model. When ``data`` is None, it predicts label and\u001b[39;00m\n\u001b[0;32m   (...)\u001b[0m\n\u001b[1;32m   2840\u001b[0m \n\u001b[1;32m   2841\u001b[0m \u001b[38;5;124;03m    \"\"\"\u001b[39;00m\n\u001b[0;32m-> 2843\u001b[0m     \u001b[38;5;28;01mreturn\u001b[39;00m \u001b[38;5;28;43msuper\u001b[39;49m\u001b[43m(\u001b[49m\u001b[43m)\u001b[49m\u001b[38;5;241;43m.\u001b[39;49m\u001b[43mpredict_model\u001b[49m\u001b[43m(\u001b[49m\n\u001b[1;32m   2844\u001b[0m \u001b[43m        \u001b[49m\u001b[43mestimator\u001b[49m\u001b[38;5;241;43m=\u001b[39;49m\u001b[43mestimator\u001b[49m\u001b[43m,\u001b[49m\n\u001b[1;32m   2845\u001b[0m \u001b[43m        \u001b[49m\u001b[43mdata\u001b[49m\u001b[38;5;241;43m=\u001b[39;49m\u001b[43mdata\u001b[49m\u001b[43m,\u001b[49m\n\u001b[1;32m   2846\u001b[0m \u001b[43m        \u001b[49m\u001b[43mprobability_threshold\u001b[49m\u001b[38;5;241;43m=\u001b[39;49m\u001b[43mprobability_threshold\u001b[49m\u001b[43m,\u001b[49m\n\u001b[1;32m   2847\u001b[0m \u001b[43m        \u001b[49m\u001b[43mencoded_labels\u001b[49m\u001b[38;5;241;43m=\u001b[39;49m\u001b[43mencoded_labels\u001b[49m\u001b[43m,\u001b[49m\n\u001b[1;32m   2848\u001b[0m \u001b[43m        \u001b[49m\u001b[43mraw_score\u001b[49m\u001b[38;5;241;43m=\u001b[39;49m\u001b[43mraw_score\u001b[49m\u001b[43m,\u001b[49m\n\u001b[1;32m   2849\u001b[0m \u001b[43m        \u001b[49m\u001b[38;5;28;43mround\u001b[39;49m\u001b[38;5;241;43m=\u001b[39;49m\u001b[38;5;28;43mround\u001b[39;49m\u001b[43m,\u001b[49m\n\u001b[1;32m   2850\u001b[0m \u001b[43m        \u001b[49m\u001b[43mverbose\u001b[49m\u001b[38;5;241;43m=\u001b[39;49m\u001b[43mverbose\u001b[49m\u001b[43m,\u001b[49m\n\u001b[1;32m   2851\u001b[0m \u001b[43m    \u001b[49m\u001b[43m)\u001b[49m\n",
      "File \u001b[0;32m~/miniconda3/envs/aled/lib/python3.10/site-packages/pycaret/internal/pycaret_experiment/supervised_experiment.py:4952\u001b[0m, in \u001b[0;36m_SupervisedExperiment.predict_model\u001b[0;34m(self, estimator, data, probability_threshold, encoded_labels, raw_score, round, verbose, ml_usecase, preprocess)\u001b[0m\n\u001b[1;32m   4950\u001b[0m data \u001b[38;5;241m=\u001b[39m data[X_columns]  \u001b[38;5;66;03m# Ignore all columns but the originals\u001b[39;00m\n\u001b[1;32m   4951\u001b[0m \u001b[38;5;28;01mif\u001b[39;00m preprocess:\n\u001b[0;32m-> 4952\u001b[0m     X_test_ \u001b[38;5;241m=\u001b[39m \u001b[43mpipeline\u001b[49m\u001b[38;5;241;43m.\u001b[39;49m\u001b[43mtransform\u001b[49m\u001b[43m(\u001b[49m\n\u001b[1;32m   4953\u001b[0m \u001b[43m        \u001b[49m\u001b[43mX\u001b[49m\u001b[38;5;241;43m=\u001b[39;49m\u001b[43mdata\u001b[49m\u001b[43m,\u001b[49m\n\u001b[1;32m   4954\u001b[0m \u001b[43m        \u001b[49m\u001b[43my\u001b[49m\u001b[38;5;241;43m=\u001b[39;49m\u001b[43m(\u001b[49m\u001b[43mtarget\u001b[49m\u001b[43m \u001b[49m\u001b[38;5;28;43;01mif\u001b[39;49;00m\u001b[43m \u001b[49m\u001b[43mpreprocess\u001b[49m\u001b[43m \u001b[49m\u001b[38;5;241;43m!=\u001b[39;49m\u001b[43m \u001b[49m\u001b[38;5;124;43m\"\u001b[39;49m\u001b[38;5;124;43mfeatures\u001b[39;49m\u001b[38;5;124;43m\"\u001b[39;49m\u001b[43m \u001b[49m\u001b[38;5;28;43;01melse\u001b[39;49;00m\u001b[43m \u001b[49m\u001b[38;5;28;43;01mNone\u001b[39;49;00m\u001b[43m)\u001b[49m\u001b[43m,\u001b[49m\n\u001b[1;32m   4955\u001b[0m \u001b[43m    \u001b[49m\u001b[43m)\u001b[49m\n\u001b[1;32m   4956\u001b[0m     \u001b[38;5;28;01mif\u001b[39;00m final_step:\n\u001b[1;32m   4957\u001b[0m         pipeline\u001b[38;5;241m.\u001b[39msteps\u001b[38;5;241m.\u001b[39mappend(final_step)\n",
      "File \u001b[0;32m~/miniconda3/envs/aled/lib/python3.10/site-packages/pycaret/internal/pipeline.py:271\u001b[0m, in \u001b[0;36mPipeline.transform\u001b[0;34m(self, X, y, filter_train_only)\u001b[0m\n\u001b[1;32m    270\u001b[0m \u001b[38;5;28;01mdef\u001b[39;00m \u001b[38;5;21mtransform\u001b[39m(\u001b[38;5;28mself\u001b[39m, X\u001b[38;5;241m=\u001b[39m\u001b[38;5;28;01mNone\u001b[39;00m, y\u001b[38;5;241m=\u001b[39m\u001b[38;5;28;01mNone\u001b[39;00m, filter_train_only\u001b[38;5;241m=\u001b[39m\u001b[38;5;28;01mTrue\u001b[39;00m):\n\u001b[0;32m--> 271\u001b[0m     X, y \u001b[38;5;241m=\u001b[39m \u001b[38;5;28;43mself\u001b[39;49m\u001b[38;5;241;43m.\u001b[39;49m\u001b[43m_memory_full_transform\u001b[49m\u001b[43m(\u001b[49m\n\u001b[1;32m    272\u001b[0m \u001b[43m        \u001b[49m\u001b[38;5;28;43mself\u001b[39;49m\u001b[43m,\u001b[49m\n\u001b[1;32m    273\u001b[0m \u001b[43m        \u001b[49m\u001b[43mX\u001b[49m\u001b[43m,\u001b[49m\n\u001b[1;32m    274\u001b[0m \u001b[43m        \u001b[49m\u001b[43my\u001b[49m\u001b[43m,\u001b[49m\n\u001b[1;32m    275\u001b[0m \u001b[43m        \u001b[49m\u001b[43mwith_final\u001b[49m\u001b[38;5;241;43m=\u001b[39;49m\u001b[38;5;28;43mhasattr\u001b[39;49m\u001b[43m(\u001b[49m\u001b[38;5;28;43mself\u001b[39;49m\u001b[38;5;241;43m.\u001b[39;49m\u001b[43m_final_estimator\u001b[49m\u001b[43m,\u001b[49m\u001b[43m \u001b[49m\u001b[38;5;124;43m\"\u001b[39;49m\u001b[38;5;124;43mtransform\u001b[39;49m\u001b[38;5;124;43m\"\u001b[39;49m\u001b[43m)\u001b[49m\u001b[43m,\u001b[49m\n\u001b[1;32m    276\u001b[0m \u001b[43m        \u001b[49m\u001b[43mfilter_train_only\u001b[49m\u001b[38;5;241;43m=\u001b[39;49m\u001b[43mfilter_train_only\u001b[49m\u001b[43m,\u001b[49m\n\u001b[1;32m    277\u001b[0m \u001b[43m    \u001b[49m\u001b[43m)\u001b[49m\n\u001b[1;32m    279\u001b[0m     \u001b[38;5;28;01mreturn\u001b[39;00m variable_return(X, y)\n",
      "File \u001b[0;32m~/miniconda3/envs/aled/lib/python3.10/site-packages/joblib/memory.py:594\u001b[0m, in \u001b[0;36mMemorizedFunc.__call__\u001b[0;34m(self, *args, **kwargs)\u001b[0m\n\u001b[1;32m    593\u001b[0m \u001b[38;5;28;01mdef\u001b[39;00m \u001b[38;5;21m__call__\u001b[39m(\u001b[38;5;28mself\u001b[39m, \u001b[38;5;241m*\u001b[39margs, \u001b[38;5;241m*\u001b[39m\u001b[38;5;241m*\u001b[39mkwargs):\n\u001b[0;32m--> 594\u001b[0m     \u001b[38;5;28;01mreturn\u001b[39;00m \u001b[38;5;28;43mself\u001b[39;49m\u001b[38;5;241;43m.\u001b[39;49m\u001b[43m_cached_call\u001b[49m\u001b[43m(\u001b[49m\u001b[43margs\u001b[49m\u001b[43m,\u001b[49m\u001b[43m \u001b[49m\u001b[43mkwargs\u001b[49m\u001b[43m)\u001b[49m[\u001b[38;5;241m0\u001b[39m]\n",
      "File \u001b[0;32m~/miniconda3/envs/aled/lib/python3.10/site-packages/pycaret/internal/memory.py:398\u001b[0m, in \u001b[0;36mFastMemorizedFunc._cached_call\u001b[0;34m(self, args, kwargs, shelving)\u001b[0m\n\u001b[1;32m    395\u001b[0m \u001b[38;5;28;01mif\u001b[39;00m must_call:\n\u001b[1;32m    396\u001b[0m     \u001b[38;5;66;03m# PYCARET CHANGES\u001b[39;00m\n\u001b[1;32m    397\u001b[0m     \u001b[38;5;28mself\u001b[39m\u001b[38;5;241m.\u001b[39m_cached_output_identifiers \u001b[38;5;241m=\u001b[39m func_id, args_id\n\u001b[0;32m--> 398\u001b[0m     out, metadata \u001b[38;5;241m=\u001b[39m \u001b[38;5;28;43mself\u001b[39;49m\u001b[38;5;241;43m.\u001b[39;49m\u001b[43mcall\u001b[49m\u001b[43m(\u001b[49m\u001b[38;5;241;43m*\u001b[39;49m\u001b[43margs\u001b[49m\u001b[43m,\u001b[49m\u001b[43m \u001b[49m\u001b[38;5;241;43m*\u001b[39;49m\u001b[38;5;241;43m*\u001b[39;49m\u001b[43mkwargs\u001b[49m\u001b[43m)\u001b[49m\n\u001b[1;32m    399\u001b[0m     \u001b[38;5;28;01mif\u001b[39;00m \u001b[38;5;28mself\u001b[39m\u001b[38;5;241m.\u001b[39mmmap_mode \u001b[38;5;129;01mis\u001b[39;00m \u001b[38;5;129;01mnot\u001b[39;00m \u001b[38;5;28;01mNone\u001b[39;00m \u001b[38;5;129;01mand\u001b[39;00m metadata \u001b[38;5;129;01mis\u001b[39;00m \u001b[38;5;129;01mnot\u001b[39;00m \u001b[38;5;28;01mNone\u001b[39;00m:\n\u001b[1;32m    400\u001b[0m         \u001b[38;5;66;03m# PYCARET CHANGES END\u001b[39;00m\n\u001b[1;32m    401\u001b[0m         \u001b[38;5;66;03m# Memmap the output at the first call to be consistent with\u001b[39;00m\n\u001b[1;32m    402\u001b[0m         \u001b[38;5;66;03m# later calls\u001b[39;00m\n\u001b[1;32m    403\u001b[0m         \u001b[38;5;28;01mif\u001b[39;00m \u001b[38;5;28mself\u001b[39m\u001b[38;5;241m.\u001b[39m_verbose:\n",
      "File \u001b[0;32m~/miniconda3/envs/aled/lib/python3.10/site-packages/pycaret/internal/memory.py:309\u001b[0m, in \u001b[0;36mFastMemorizedFunc.call\u001b[0;34m(self, *args, **kwargs)\u001b[0m\n\u001b[1;32m    307\u001b[0m \u001b[38;5;66;03m# PYCARET CHANGES\u001b[39;00m\n\u001b[1;32m    308\u001b[0m func_start_time \u001b[38;5;241m=\u001b[39m time\u001b[38;5;241m.\u001b[39mmonotonic()\n\u001b[0;32m--> 309\u001b[0m output \u001b[38;5;241m=\u001b[39m \u001b[38;5;28;43mself\u001b[39;49m\u001b[38;5;241;43m.\u001b[39;49m\u001b[43mfunc\u001b[49m\u001b[43m(\u001b[49m\u001b[38;5;241;43m*\u001b[39;49m\u001b[43margs\u001b[49m\u001b[43m,\u001b[49m\u001b[43m \u001b[49m\u001b[38;5;241;43m*\u001b[39;49m\u001b[38;5;241;43m*\u001b[39;49m\u001b[43mkwargs\u001b[49m\u001b[43m)\u001b[49m\n\u001b[1;32m    310\u001b[0m func_duration \u001b[38;5;241m=\u001b[39m time\u001b[38;5;241m.\u001b[39mmonotonic() \u001b[38;5;241m-\u001b[39m func_start_time\n\u001b[1;32m    311\u001b[0m \u001b[38;5;28;01mif\u001b[39;00m func_duration \u001b[38;5;241m>\u001b[39m\u001b[38;5;241m=\u001b[39m \u001b[38;5;28mself\u001b[39m\u001b[38;5;241m.\u001b[39mmin_time_to_cache:\n",
      "File \u001b[0;32m~/miniconda3/envs/aled/lib/python3.10/site-packages/pycaret/internal/pipeline.py:108\u001b[0m, in \u001b[0;36m_full_transform\u001b[0;34m(pipeline, X, y, **kwargs)\u001b[0m\n\u001b[1;32m    106\u001b[0m \u001b[38;5;28;01mdef\u001b[39;00m \u001b[38;5;21m_full_transform\u001b[39m(pipeline: \u001b[38;5;124m\"\u001b[39m\u001b[38;5;124mPipeline\u001b[39m\u001b[38;5;124m\"\u001b[39m, X, y, \u001b[38;5;241m*\u001b[39m\u001b[38;5;241m*\u001b[39mkwargs):\n\u001b[1;32m    107\u001b[0m     \u001b[38;5;28;01mfor\u001b[39;00m _, _, transformer \u001b[38;5;129;01min\u001b[39;00m pipeline\u001b[38;5;241m.\u001b[39m_iter(\u001b[38;5;241m*\u001b[39m\u001b[38;5;241m*\u001b[39mkwargs):\n\u001b[0;32m--> 108\u001b[0m         X, y \u001b[38;5;241m=\u001b[39m \u001b[43mpipeline\u001b[49m\u001b[38;5;241;43m.\u001b[39;49m\u001b[43m_memory_transform\u001b[49m\u001b[43m(\u001b[49m\u001b[43mtransformer\u001b[49m\u001b[43m,\u001b[49m\u001b[43m \u001b[49m\u001b[43mX\u001b[49m\u001b[43m,\u001b[49m\u001b[43m \u001b[49m\u001b[43my\u001b[49m\u001b[43m)\u001b[49m\n\u001b[1;32m    109\u001b[0m     \u001b[38;5;28;01mreturn\u001b[39;00m X, y\n",
      "File \u001b[0;32m~/miniconda3/envs/aled/lib/python3.10/site-packages/joblib/memory.py:594\u001b[0m, in \u001b[0;36mMemorizedFunc.__call__\u001b[0;34m(self, *args, **kwargs)\u001b[0m\n\u001b[1;32m    593\u001b[0m \u001b[38;5;28;01mdef\u001b[39;00m \u001b[38;5;21m__call__\u001b[39m(\u001b[38;5;28mself\u001b[39m, \u001b[38;5;241m*\u001b[39margs, \u001b[38;5;241m*\u001b[39m\u001b[38;5;241m*\u001b[39mkwargs):\n\u001b[0;32m--> 594\u001b[0m     \u001b[38;5;28;01mreturn\u001b[39;00m \u001b[38;5;28;43mself\u001b[39;49m\u001b[38;5;241;43m.\u001b[39;49m\u001b[43m_cached_call\u001b[49m\u001b[43m(\u001b[49m\u001b[43margs\u001b[49m\u001b[43m,\u001b[49m\u001b[43m \u001b[49m\u001b[43mkwargs\u001b[49m\u001b[43m)\u001b[49m[\u001b[38;5;241m0\u001b[39m]\n",
      "File \u001b[0;32m~/miniconda3/envs/aled/lib/python3.10/site-packages/pycaret/internal/memory.py:398\u001b[0m, in \u001b[0;36mFastMemorizedFunc._cached_call\u001b[0;34m(self, args, kwargs, shelving)\u001b[0m\n\u001b[1;32m    395\u001b[0m \u001b[38;5;28;01mif\u001b[39;00m must_call:\n\u001b[1;32m    396\u001b[0m     \u001b[38;5;66;03m# PYCARET CHANGES\u001b[39;00m\n\u001b[1;32m    397\u001b[0m     \u001b[38;5;28mself\u001b[39m\u001b[38;5;241m.\u001b[39m_cached_output_identifiers \u001b[38;5;241m=\u001b[39m func_id, args_id\n\u001b[0;32m--> 398\u001b[0m     out, metadata \u001b[38;5;241m=\u001b[39m \u001b[38;5;28;43mself\u001b[39;49m\u001b[38;5;241;43m.\u001b[39;49m\u001b[43mcall\u001b[49m\u001b[43m(\u001b[49m\u001b[38;5;241;43m*\u001b[39;49m\u001b[43margs\u001b[49m\u001b[43m,\u001b[49m\u001b[43m \u001b[49m\u001b[38;5;241;43m*\u001b[39;49m\u001b[38;5;241;43m*\u001b[39;49m\u001b[43mkwargs\u001b[49m\u001b[43m)\u001b[49m\n\u001b[1;32m    399\u001b[0m     \u001b[38;5;28;01mif\u001b[39;00m \u001b[38;5;28mself\u001b[39m\u001b[38;5;241m.\u001b[39mmmap_mode \u001b[38;5;129;01mis\u001b[39;00m \u001b[38;5;129;01mnot\u001b[39;00m \u001b[38;5;28;01mNone\u001b[39;00m \u001b[38;5;129;01mand\u001b[39;00m metadata \u001b[38;5;129;01mis\u001b[39;00m \u001b[38;5;129;01mnot\u001b[39;00m \u001b[38;5;28;01mNone\u001b[39;00m:\n\u001b[1;32m    400\u001b[0m         \u001b[38;5;66;03m# PYCARET CHANGES END\u001b[39;00m\n\u001b[1;32m    401\u001b[0m         \u001b[38;5;66;03m# Memmap the output at the first call to be consistent with\u001b[39;00m\n\u001b[1;32m    402\u001b[0m         \u001b[38;5;66;03m# later calls\u001b[39;00m\n\u001b[1;32m    403\u001b[0m         \u001b[38;5;28;01mif\u001b[39;00m \u001b[38;5;28mself\u001b[39m\u001b[38;5;241m.\u001b[39m_verbose:\n",
      "File \u001b[0;32m~/miniconda3/envs/aled/lib/python3.10/site-packages/pycaret/internal/memory.py:309\u001b[0m, in \u001b[0;36mFastMemorizedFunc.call\u001b[0;34m(self, *args, **kwargs)\u001b[0m\n\u001b[1;32m    307\u001b[0m \u001b[38;5;66;03m# PYCARET CHANGES\u001b[39;00m\n\u001b[1;32m    308\u001b[0m func_start_time \u001b[38;5;241m=\u001b[39m time\u001b[38;5;241m.\u001b[39mmonotonic()\n\u001b[0;32m--> 309\u001b[0m output \u001b[38;5;241m=\u001b[39m \u001b[38;5;28;43mself\u001b[39;49m\u001b[38;5;241;43m.\u001b[39;49m\u001b[43mfunc\u001b[49m\u001b[43m(\u001b[49m\u001b[38;5;241;43m*\u001b[39;49m\u001b[43margs\u001b[49m\u001b[43m,\u001b[49m\u001b[43m \u001b[49m\u001b[38;5;241;43m*\u001b[39;49m\u001b[38;5;241;43m*\u001b[39;49m\u001b[43mkwargs\u001b[49m\u001b[43m)\u001b[49m\n\u001b[1;32m    310\u001b[0m func_duration \u001b[38;5;241m=\u001b[39m time\u001b[38;5;241m.\u001b[39mmonotonic() \u001b[38;5;241m-\u001b[39m func_start_time\n\u001b[1;32m    311\u001b[0m \u001b[38;5;28;01mif\u001b[39;00m func_duration \u001b[38;5;241m>\u001b[39m\u001b[38;5;241m=\u001b[39m \u001b[38;5;28mself\u001b[39m\u001b[38;5;241m.\u001b[39mmin_time_to_cache:\n",
      "File \u001b[0;32m~/miniconda3/envs/aled/lib/python3.10/site-packages/pycaret/internal/pipeline.py:77\u001b[0m, in \u001b[0;36m_transform_one\u001b[0;34m(transformer, X, y)\u001b[0m\n\u001b[1;32m     75\u001b[0m \u001b[38;5;28;01mif\u001b[39;00m \u001b[38;5;124m\"\u001b[39m\u001b[38;5;124my\u001b[39m\u001b[38;5;124m\"\u001b[39m \u001b[38;5;129;01min\u001b[39;00m signature(transformer\u001b[38;5;241m.\u001b[39mtransform)\u001b[38;5;241m.\u001b[39mparameters:\n\u001b[1;32m     76\u001b[0m     args\u001b[38;5;241m.\u001b[39mappend(y)\n\u001b[0;32m---> 77\u001b[0m output \u001b[38;5;241m=\u001b[39m \u001b[43mtransformer\u001b[49m\u001b[38;5;241;43m.\u001b[39;49m\u001b[43mtransform\u001b[49m\u001b[43m(\u001b[49m\u001b[38;5;241;43m*\u001b[39;49m\u001b[43margs\u001b[49m\u001b[43m)\u001b[49m\n\u001b[1;32m     79\u001b[0m \u001b[38;5;28;01mif\u001b[39;00m \u001b[38;5;28misinstance\u001b[39m(output, \u001b[38;5;28mtuple\u001b[39m):\n\u001b[1;32m     80\u001b[0m     X, y \u001b[38;5;241m=\u001b[39m output[\u001b[38;5;241m0\u001b[39m], output[\u001b[38;5;241m1\u001b[39m]\n",
      "File \u001b[0;32m~/miniconda3/envs/aled/lib/python3.10/site-packages/sklearn/utils/_set_output.py:140\u001b[0m, in \u001b[0;36m_wrap_method_output.<locals>.wrapped\u001b[0;34m(self, X, *args, **kwargs)\u001b[0m\n\u001b[1;32m    138\u001b[0m \u001b[38;5;129m@wraps\u001b[39m(f)\n\u001b[1;32m    139\u001b[0m \u001b[38;5;28;01mdef\u001b[39;00m \u001b[38;5;21mwrapped\u001b[39m(\u001b[38;5;28mself\u001b[39m, X, \u001b[38;5;241m*\u001b[39margs, \u001b[38;5;241m*\u001b[39m\u001b[38;5;241m*\u001b[39mkwargs):\n\u001b[0;32m--> 140\u001b[0m     data_to_wrap \u001b[38;5;241m=\u001b[39m \u001b[43mf\u001b[49m\u001b[43m(\u001b[49m\u001b[38;5;28;43mself\u001b[39;49m\u001b[43m,\u001b[49m\u001b[43m \u001b[49m\u001b[43mX\u001b[49m\u001b[43m,\u001b[49m\u001b[43m \u001b[49m\u001b[38;5;241;43m*\u001b[39;49m\u001b[43margs\u001b[49m\u001b[43m,\u001b[49m\u001b[43m \u001b[49m\u001b[38;5;241;43m*\u001b[39;49m\u001b[38;5;241;43m*\u001b[39;49m\u001b[43mkwargs\u001b[49m\u001b[43m)\u001b[49m\n\u001b[1;32m    141\u001b[0m     \u001b[38;5;28;01mif\u001b[39;00m \u001b[38;5;28misinstance\u001b[39m(data_to_wrap, \u001b[38;5;28mtuple\u001b[39m):\n\u001b[1;32m    142\u001b[0m         \u001b[38;5;66;03m# only wrap the first output for cross decomposition\u001b[39;00m\n\u001b[1;32m    143\u001b[0m         \u001b[38;5;28;01mreturn\u001b[39;00m (\n\u001b[1;32m    144\u001b[0m             _wrap_data_with_container(method, data_to_wrap[\u001b[38;5;241m0\u001b[39m], X, \u001b[38;5;28mself\u001b[39m),\n\u001b[1;32m    145\u001b[0m             \u001b[38;5;241m*\u001b[39mdata_to_wrap[\u001b[38;5;241m1\u001b[39m:],\n\u001b[1;32m    146\u001b[0m         )\n",
      "File \u001b[0;32m~/miniconda3/envs/aled/lib/python3.10/site-packages/pycaret/internal/preprocess/transformers.py:245\u001b[0m, in \u001b[0;36mTransformerWrapper.transform\u001b[0;34m(self, X, y)\u001b[0m\n\u001b[1;32m    242\u001b[0m     \u001b[38;5;28;01melif\u001b[39;00m \u001b[38;5;124m\"\u001b[39m\u001b[38;5;124mX\u001b[39m\u001b[38;5;124m\"\u001b[39m \u001b[38;5;129;01mnot\u001b[39;00m \u001b[38;5;129;01min\u001b[39;00m transform_params:\n\u001b[1;32m    243\u001b[0m         \u001b[38;5;28;01mreturn\u001b[39;00m X, y\n\u001b[0;32m--> 245\u001b[0m output \u001b[38;5;241m=\u001b[39m \u001b[38;5;28;43mself\u001b[39;49m\u001b[38;5;241;43m.\u001b[39;49m\u001b[43mtransformer\u001b[49m\u001b[38;5;241;43m.\u001b[39;49m\u001b[43mtransform\u001b[49m\u001b[43m(\u001b[49m\u001b[38;5;241;43m*\u001b[39;49m\u001b[43margs\u001b[49m\u001b[43m)\u001b[49m\n\u001b[1;32m    247\u001b[0m \u001b[38;5;66;03m# Transform can return X, y or both\u001b[39;00m\n\u001b[1;32m    248\u001b[0m \u001b[38;5;28;01mif\u001b[39;00m \u001b[38;5;28misinstance\u001b[39m(output, \u001b[38;5;28mtuple\u001b[39m):\n",
      "File \u001b[0;32m~/miniconda3/envs/aled/lib/python3.10/site-packages/sklearn/utils/_set_output.py:140\u001b[0m, in \u001b[0;36m_wrap_method_output.<locals>.wrapped\u001b[0;34m(self, X, *args, **kwargs)\u001b[0m\n\u001b[1;32m    138\u001b[0m \u001b[38;5;129m@wraps\u001b[39m(f)\n\u001b[1;32m    139\u001b[0m \u001b[38;5;28;01mdef\u001b[39;00m \u001b[38;5;21mwrapped\u001b[39m(\u001b[38;5;28mself\u001b[39m, X, \u001b[38;5;241m*\u001b[39margs, \u001b[38;5;241m*\u001b[39m\u001b[38;5;241m*\u001b[39mkwargs):\n\u001b[0;32m--> 140\u001b[0m     data_to_wrap \u001b[38;5;241m=\u001b[39m \u001b[43mf\u001b[49m\u001b[43m(\u001b[49m\u001b[38;5;28;43mself\u001b[39;49m\u001b[43m,\u001b[49m\u001b[43m \u001b[49m\u001b[43mX\u001b[49m\u001b[43m,\u001b[49m\u001b[43m \u001b[49m\u001b[38;5;241;43m*\u001b[39;49m\u001b[43margs\u001b[49m\u001b[43m,\u001b[49m\u001b[43m \u001b[49m\u001b[38;5;241;43m*\u001b[39;49m\u001b[38;5;241;43m*\u001b[39;49m\u001b[43mkwargs\u001b[49m\u001b[43m)\u001b[49m\n\u001b[1;32m    141\u001b[0m     \u001b[38;5;28;01mif\u001b[39;00m \u001b[38;5;28misinstance\u001b[39m(data_to_wrap, \u001b[38;5;28mtuple\u001b[39m):\n\u001b[1;32m    142\u001b[0m         \u001b[38;5;66;03m# only wrap the first output for cross decomposition\u001b[39;00m\n\u001b[1;32m    143\u001b[0m         \u001b[38;5;28;01mreturn\u001b[39;00m (\n\u001b[1;32m    144\u001b[0m             _wrap_data_with_container(method, data_to_wrap[\u001b[38;5;241m0\u001b[39m], X, \u001b[38;5;28mself\u001b[39m),\n\u001b[1;32m    145\u001b[0m             \u001b[38;5;241m*\u001b[39mdata_to_wrap[\u001b[38;5;241m1\u001b[39m:],\n\u001b[1;32m    146\u001b[0m         )\n",
      "File \u001b[0;32m~/miniconda3/envs/aled/lib/python3.10/site-packages/sklearn/preprocessing/_label.py:139\u001b[0m, in \u001b[0;36mLabelEncoder.transform\u001b[0;34m(self, y)\u001b[0m\n\u001b[1;32m    136\u001b[0m \u001b[38;5;28;01mif\u001b[39;00m _num_samples(y) \u001b[38;5;241m==\u001b[39m \u001b[38;5;241m0\u001b[39m:\n\u001b[1;32m    137\u001b[0m     \u001b[38;5;28;01mreturn\u001b[39;00m np\u001b[38;5;241m.\u001b[39marray([])\n\u001b[0;32m--> 139\u001b[0m \u001b[38;5;28;01mreturn\u001b[39;00m \u001b[43m_encode\u001b[49m\u001b[43m(\u001b[49m\u001b[43my\u001b[49m\u001b[43m,\u001b[49m\u001b[43m \u001b[49m\u001b[43muniques\u001b[49m\u001b[38;5;241;43m=\u001b[39;49m\u001b[38;5;28;43mself\u001b[39;49m\u001b[38;5;241;43m.\u001b[39;49m\u001b[43mclasses_\u001b[49m\u001b[43m)\u001b[49m\n",
      "File \u001b[0;32m~/miniconda3/envs/aled/lib/python3.10/site-packages/sklearn/utils/_encode.py:226\u001b[0m, in \u001b[0;36m_encode\u001b[0;34m(values, uniques, check_unknown)\u001b[0m\n\u001b[1;32m    224\u001b[0m         \u001b[38;5;28;01mreturn\u001b[39;00m _map_to_integer(values, uniques)\n\u001b[1;32m    225\u001b[0m     \u001b[38;5;28;01mexcept\u001b[39;00m \u001b[38;5;167;01mKeyError\u001b[39;00m \u001b[38;5;28;01mas\u001b[39;00m e:\n\u001b[0;32m--> 226\u001b[0m         \u001b[38;5;28;01mraise\u001b[39;00m \u001b[38;5;167;01mValueError\u001b[39;00m(\u001b[38;5;124mf\u001b[39m\u001b[38;5;124m\"\u001b[39m\u001b[38;5;124my contains previously unseen labels: \u001b[39m\u001b[38;5;132;01m{\u001b[39;00m\u001b[38;5;28mstr\u001b[39m(e)\u001b[38;5;132;01m}\u001b[39;00m\u001b[38;5;124m\"\u001b[39m)\n\u001b[1;32m    227\u001b[0m \u001b[38;5;28;01melse\u001b[39;00m:\n\u001b[1;32m    228\u001b[0m     \u001b[38;5;28;01mif\u001b[39;00m check_unknown:\n",
      "\u001b[0;31mValueError\u001b[0m: y contains previously unseen labels: 'http://www.w3.org/1999/02/22-rdf-syntax-ns#label'"
     ]
    }
   ],
   "source": [
    "knn_val_pred = predict_model(knn, data=embval)"
   ]
  },
  {
   "cell_type": "code",
   "execution_count": null,
   "metadata": {},
   "outputs": [],
   "source": [
    "save_model(knn, 'models_classif/convkb/binary_emb_val/knn')"
   ]
  },
  {
   "cell_type": "markdown",
   "metadata": {},
   "source": [
    "# Naive Bayes"
   ]
  },
  {
   "cell_type": "code",
   "execution_count": null,
   "metadata": {
    "tags": []
   },
   "outputs": [],
   "source": [
    "nb = create_model('nb')"
   ]
  },
  {
   "cell_type": "code",
   "execution_count": null,
   "metadata": {},
   "outputs": [],
   "source": [
    "plot_model(nb, plot = 'confusion_matrix')"
   ]
  },
  {
   "cell_type": "code",
   "execution_count": null,
   "metadata": {},
   "outputs": [],
   "source": [
    "plot_model(nb, plot = 'error')"
   ]
  },
  {
   "cell_type": "code",
   "execution_count": null,
   "metadata": {},
   "outputs": [],
   "source": [
    "plot_model(nb, plot = 'parameter')"
   ]
  },
  {
   "cell_type": "code",
   "execution_count": null,
   "metadata": {},
   "outputs": [],
   "source": [
    "nb_val_pred = predict_model(nb, data=val)"
   ]
  },
  {
   "cell_type": "code",
   "execution_count": null,
   "metadata": {},
   "outputs": [],
   "source": [
    "nb_val_pred = predict_model(nb, data=embval)"
   ]
  },
  {
   "cell_type": "code",
   "execution_count": null,
   "metadata": {},
   "outputs": [],
   "source": [
    "save_model(nb, 'models_classif/convkb/binary_emb_val/nb')"
   ]
  },
  {
   "cell_type": "markdown",
   "metadata": {},
   "source": [
    "# Decision Tree Classifier"
   ]
  },
  {
   "cell_type": "code",
   "execution_count": null,
   "metadata": {},
   "outputs": [],
   "source": [
    "dt = create_model('dt')"
   ]
  },
  {
   "cell_type": "code",
   "execution_count": null,
   "metadata": {},
   "outputs": [],
   "source": [
    "plot_model(dt, plot = 'confusion_matrix')"
   ]
  },
  {
   "cell_type": "code",
   "execution_count": null,
   "metadata": {},
   "outputs": [],
   "source": [
    "plot_model(dt, plot = 'error')"
   ]
  },
  {
   "cell_type": "code",
   "execution_count": null,
   "metadata": {},
   "outputs": [],
   "source": [
    "plot_model(dt, plot = 'parameter')"
   ]
  },
  {
   "cell_type": "code",
   "execution_count": null,
   "metadata": {},
   "outputs": [],
   "source": [
    "dt_val_pred = predict_model(dt, data=val)"
   ]
  },
  {
   "cell_type": "code",
   "execution_count": null,
   "metadata": {},
   "outputs": [],
   "source": [
    "dt_val_pred = predict_model(dt, data=embval)"
   ]
  },
  {
   "cell_type": "code",
   "execution_count": null,
   "metadata": {},
   "outputs": [],
   "source": [
    "save_model(dt, 'models_classif/convkb/binary_emb_val/dt')"
   ]
  },
  {
   "cell_type": "markdown",
   "metadata": {},
   "source": [
    "# SVM - Linear Kernel"
   ]
  },
  {
   "cell_type": "code",
   "execution_count": null,
   "metadata": {},
   "outputs": [],
   "source": [
    "svm = create_model('svm')"
   ]
  },
  {
   "cell_type": "code",
   "execution_count": null,
   "metadata": {},
   "outputs": [],
   "source": [
    "plot_model(svm, plot = 'confusion_matrix')"
   ]
  },
  {
   "cell_type": "code",
   "execution_count": null,
   "metadata": {},
   "outputs": [],
   "source": [
    "plot_model(svm, plot = 'error')"
   ]
  },
  {
   "cell_type": "code",
   "execution_count": null,
   "metadata": {},
   "outputs": [],
   "source": [
    "plot_model(svm, plot = 'parameter')"
   ]
  },
  {
   "cell_type": "code",
   "execution_count": null,
   "metadata": {},
   "outputs": [],
   "source": [
    "svm_val_pred = predict_model(svm, data=val)"
   ]
  },
  {
   "cell_type": "code",
   "execution_count": null,
   "metadata": {},
   "outputs": [],
   "source": [
    "svm_val_pred = predict_model(svm, data=embval)"
   ]
  },
  {
   "cell_type": "code",
   "execution_count": null,
   "metadata": {},
   "outputs": [],
   "source": [
    "save_model(svm, 'models_classif/convkb/binary_emb_val/svm')"
   ]
  },
  {
   "cell_type": "markdown",
   "metadata": {},
   "source": [
    "# Ridge Classifier"
   ]
  },
  {
   "cell_type": "code",
   "execution_count": null,
   "metadata": {},
   "outputs": [],
   "source": [
    "ridge = create_model('ridge')"
   ]
  },
  {
   "cell_type": "code",
   "execution_count": null,
   "metadata": {},
   "outputs": [],
   "source": [
    "plot_model(ridge, plot = 'confusion_matrix')"
   ]
  },
  {
   "cell_type": "code",
   "execution_count": null,
   "metadata": {},
   "outputs": [],
   "source": [
    "plot_model(ridge, plot = 'error')"
   ]
  },
  {
   "cell_type": "code",
   "execution_count": null,
   "metadata": {},
   "outputs": [],
   "source": [
    "plot_model(ridge, plot = 'parameter')"
   ]
  },
  {
   "cell_type": "code",
   "execution_count": null,
   "metadata": {},
   "outputs": [],
   "source": [
    "ridge_val_pred = predict_model(ridge, data=val)"
   ]
  },
  {
   "cell_type": "code",
   "execution_count": null,
   "metadata": {},
   "outputs": [],
   "source": [
    "ridge_val_pred = predict_model(ridge, data=embval)"
   ]
  },
  {
   "cell_type": "code",
   "execution_count": null,
   "metadata": {},
   "outputs": [],
   "source": [
    "save_model(ridge, 'models_classif/convkb/binary_emb_val/ridge')"
   ]
  },
  {
   "cell_type": "markdown",
   "metadata": {},
   "source": [
    "# Random Forest"
   ]
  },
  {
   "cell_type": "code",
   "execution_count": null,
   "metadata": {},
   "outputs": [],
   "source": [
    "rf = create_model('rf')"
   ]
  },
  {
   "cell_type": "code",
   "execution_count": null,
   "metadata": {},
   "outputs": [],
   "source": [
    "plot_model(rf, plot = 'confusion_matrix')"
   ]
  },
  {
   "cell_type": "code",
   "execution_count": null,
   "metadata": {},
   "outputs": [],
   "source": [
    "plot_model(rf, plot = 'error')"
   ]
  },
  {
   "cell_type": "code",
   "execution_count": null,
   "metadata": {},
   "outputs": [],
   "source": [
    "plot_model(rf, plot = 'parameter')"
   ]
  },
  {
   "cell_type": "code",
   "execution_count": null,
   "metadata": {},
   "outputs": [],
   "source": [
    "rf_val_pred = predict_model(rf, data=val)"
   ]
  },
  {
   "cell_type": "code",
   "execution_count": null,
   "metadata": {},
   "outputs": [],
   "source": [
    "rf_val_pred = predict_model(rf, data=embval)"
   ]
  },
  {
   "cell_type": "code",
   "execution_count": null,
   "metadata": {},
   "outputs": [],
   "source": [
    "save_model(rf, 'models_classif/convkb/binary_emb_val/rf')"
   ]
  },
  {
   "cell_type": "markdown",
   "metadata": {},
   "source": [
    "# Quadratic Discriminant Analysis"
   ]
  },
  {
   "cell_type": "code",
   "execution_count": null,
   "metadata": {},
   "outputs": [],
   "source": [
    "qda = create_model('qda')"
   ]
  },
  {
   "cell_type": "code",
   "execution_count": null,
   "metadata": {},
   "outputs": [],
   "source": [
    "plot_model(qda, plot = 'confusion_matrix')"
   ]
  },
  {
   "cell_type": "code",
   "execution_count": null,
   "metadata": {},
   "outputs": [],
   "source": [
    "plot_model(qda, plot = 'error')"
   ]
  },
  {
   "cell_type": "code",
   "execution_count": null,
   "metadata": {},
   "outputs": [],
   "source": [
    "plot_model(qda, plot = 'parameter')"
   ]
  },
  {
   "cell_type": "code",
   "execution_count": null,
   "metadata": {},
   "outputs": [],
   "source": [
    "qda_val_pred = predict_model(qda, data=val)"
   ]
  },
  {
   "cell_type": "code",
   "execution_count": null,
   "metadata": {},
   "outputs": [],
   "source": [
    "qda_val_pred = predict_model(qda, data=embval)"
   ]
  },
  {
   "cell_type": "code",
   "execution_count": null,
   "metadata": {},
   "outputs": [],
   "source": [
    "save_model(qda, 'models_classif/convkb/binary_emb_val/qda')"
   ]
  },
  {
   "cell_type": "markdown",
   "metadata": {},
   "source": [
    "# Linear Discriminant Analysis"
   ]
  },
  {
   "cell_type": "code",
   "execution_count": null,
   "metadata": {},
   "outputs": [],
   "source": [
    "lda = create_model('lda')"
   ]
  },
  {
   "cell_type": "code",
   "execution_count": null,
   "metadata": {},
   "outputs": [],
   "source": [
    "plot_model(lda, plot = 'confusion_matrix')"
   ]
  },
  {
   "cell_type": "code",
   "execution_count": null,
   "metadata": {},
   "outputs": [],
   "source": [
    "plot_model(lda, plot = 'error')"
   ]
  },
  {
   "cell_type": "code",
   "execution_count": null,
   "metadata": {},
   "outputs": [],
   "source": [
    "plot_model(lda, plot = 'parameter')"
   ]
  },
  {
   "cell_type": "code",
   "execution_count": null,
   "metadata": {},
   "outputs": [],
   "source": [
    "lda_val_pred = predict_model(lda, data=val)"
   ]
  },
  {
   "cell_type": "code",
   "execution_count": null,
   "metadata": {},
   "outputs": [],
   "source": [
    "lda_val_pred = predict_model(lda, data=embval)"
   ]
  },
  {
   "cell_type": "code",
   "execution_count": null,
   "metadata": {},
   "outputs": [],
   "source": [
    "save_model(lda, 'models_classif/convkb/binary_emb_val/lda')"
   ]
  },
  {
   "cell_type": "markdown",
   "metadata": {},
   "source": [
    "# Extra Trees"
   ]
  },
  {
   "cell_type": "code",
   "execution_count": null,
   "metadata": {},
   "outputs": [],
   "source": [
    "et = create_model('et')"
   ]
  },
  {
   "cell_type": "code",
   "execution_count": null,
   "metadata": {},
   "outputs": [],
   "source": [
    "plot_model(et, plot = 'confusion_matrix')"
   ]
  },
  {
   "cell_type": "code",
   "execution_count": null,
   "metadata": {},
   "outputs": [],
   "source": [
    "plot_model(et, plot = 'error')"
   ]
  },
  {
   "cell_type": "code",
   "execution_count": null,
   "metadata": {},
   "outputs": [],
   "source": [
    "plot_model(et, plot = 'parameter')"
   ]
  },
  {
   "cell_type": "code",
   "execution_count": null,
   "metadata": {},
   "outputs": [],
   "source": [
    "et_val_pred = predict_model(et, data=val)"
   ]
  },
  {
   "cell_type": "code",
   "execution_count": null,
   "metadata": {},
   "outputs": [],
   "source": [
    "et_val_pred = predict_model(et, data=embval)"
   ]
  },
  {
   "cell_type": "code",
   "execution_count": null,
   "metadata": {},
   "outputs": [],
   "source": [
    "save_model(et, 'models_classif/convkb/binary_emb_val/et')"
   ]
  },
  {
   "cell_type": "markdown",
   "metadata": {},
   "source": [
    "# Light Gradient Boosting Machine"
   ]
  },
  {
   "cell_type": "code",
   "execution_count": null,
   "metadata": {},
   "outputs": [],
   "source": [
    "lightgbm = create_model('lightgbm')"
   ]
  },
  {
   "cell_type": "code",
   "execution_count": null,
   "metadata": {},
   "outputs": [],
   "source": [
    "plot_model(lightgbm, plot = 'confusion_matrix')"
   ]
  },
  {
   "cell_type": "code",
   "execution_count": null,
   "metadata": {},
   "outputs": [],
   "source": [
    "plot_model(lightgbm, plot = 'error')"
   ]
  },
  {
   "cell_type": "code",
   "execution_count": null,
   "metadata": {},
   "outputs": [],
   "source": [
    "plot_model(lightgbm, plot = 'parameter')"
   ]
  },
  {
   "cell_type": "code",
   "execution_count": null,
   "metadata": {},
   "outputs": [],
   "source": [
    "lgbm_val_pred = predict_model(lightgbm, data=val)"
   ]
  },
  {
   "cell_type": "code",
   "execution_count": null,
   "metadata": {},
   "outputs": [],
   "source": [
    "lgbm_val_pred = predict_model(lightgbm, data=embval)"
   ]
  },
  {
   "cell_type": "code",
   "execution_count": null,
   "metadata": {},
   "outputs": [],
   "source": [
    "save_model(lightgbm, 'models_classif/convkb/binary_emb_val/lightgbm')"
   ]
  },
  {
   "cell_type": "markdown",
   "metadata": {
    "tags": []
   },
   "source": [
    "# MLP Classifier"
   ]
  },
  {
   "cell_type": "code",
   "execution_count": null,
   "metadata": {},
   "outputs": [],
   "source": [
    "mlp = create_model('mlp')"
   ]
  },
  {
   "cell_type": "code",
   "execution_count": null,
   "metadata": {},
   "outputs": [],
   "source": [
    "plot_model(mlp, plot = 'confusion_matrix')"
   ]
  },
  {
   "cell_type": "code",
   "execution_count": null,
   "metadata": {},
   "outputs": [],
   "source": [
    "plot_model(mlp, plot = 'error')"
   ]
  },
  {
   "cell_type": "code",
   "execution_count": null,
   "metadata": {},
   "outputs": [],
   "source": [
    "plot_model(mlp, plot = 'parameter')"
   ]
  },
  {
   "cell_type": "code",
   "execution_count": null,
   "metadata": {},
   "outputs": [],
   "source": [
    "mlp_val_pred = predict_model(mlp, data=val)"
   ]
  },
  {
   "cell_type": "code",
   "execution_count": null,
   "metadata": {},
   "outputs": [],
   "source": [
    "mlp_val_pred = predict_model(mlp, data=embval)"
   ]
  },
  {
   "cell_type": "code",
   "execution_count": null,
   "metadata": {
    "tags": []
   },
   "outputs": [],
   "source": [
    "save_model(mlp, 'models_classif/convkb/binary_emb_val/mlp')"
   ]
  }
 ],
 "metadata": {
  "kernelspec": {
   "display_name": "aled",
   "language": "python",
   "name": "aled"
  },
  "language_info": {
   "codemirror_mode": {
    "name": "ipython",
    "version": 3
   },
   "file_extension": ".py",
   "mimetype": "text/x-python",
   "name": "python",
   "nbconvert_exporter": "python",
   "pygments_lexer": "ipython3",
   "version": "3.10.9"
  },
  "vscode": {
   "interpreter": {
    "hash": "bad715aa2aaeb5e6c151df84b54974e4cb5c7f8696a7ce08edfdc275e59caf55"
   }
  }
 },
 "nbformat": 4,
 "nbformat_minor": 4
}
